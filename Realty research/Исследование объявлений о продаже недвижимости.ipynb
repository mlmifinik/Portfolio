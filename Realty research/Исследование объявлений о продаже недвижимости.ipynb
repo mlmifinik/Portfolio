{
 "cells": [
  {
   "cell_type": "markdown",
   "metadata": {},
   "source": [
    "# Исследование объявлений о продаже квартир\n",
    "\n",
    "В вашем распоряжении данные сервиса Яндекс.Недвижимость — архив объявлений о продаже квартир в Санкт-Петербурге и соседних населённых пунктов за несколько лет. Нужно научиться определять рыночную стоимость объектов недвижимости. Ваша задача — установить параметры. Это позволит построить автоматизированную систему: она отследит аномалии и мошенническую деятельность. \n",
    "\n",
    "По каждой квартире на продажу доступны два вида данных. Первые вписаны пользователем, вторые — получены автоматически на основе картографических данных. Например, расстояние до центра, аэропорта, ближайшего парка и водоёма. "
   ]
  },
  {
   "cell_type": "markdown",
   "metadata": {},
   "source": [
    "Ход исследования:\n",
    "\n",
    "1. Загрузка данных  \n",
    "2. Предобработка данных\n",
    "3. Добавление необходимых вспомогательных столбцов\n",
    "4. Проведение исследовательского анализа данных\n",
    "5. Общий вывод"
   ]
  },
  {
   "cell_type": "markdown",
   "metadata": {},
   "source": [
    "1 Откройте файл с данными и изучите общую информацию"
   ]
  },
  {
   "cell_type": "code",
   "execution_count": 1,
   "metadata": {},
   "outputs": [],
   "source": [
    "# позовем нужные библиотеки\n",
    "import pandas as pd\n",
    "import numpy as np\n",
    "import matplotlib.pyplot as plt\n",
    "import seaborn as sns"
   ]
  },
  {
   "cell_type": "code",
   "execution_count": 2,
   "metadata": {},
   "outputs": [],
   "source": [
    "# прочитаем файл и сохраним его в df\n",
    "try:\n",
    "    df = pd.read_csv('/datasets/real_estate_data.csv', sep='\\t')\n",
    "except:\n",
    "    df = pd.read_csv('real_estate_data.csv', sep='\\t')"
   ]
  },
  {
   "cell_type": "code",
   "execution_count": 3,
   "metadata": {
    "scrolled": true
   },
   "outputs": [
    {
     "data": {
      "text/html": [
       "<div>\n",
       "<style scoped>\n",
       "    .dataframe tbody tr th:only-of-type {\n",
       "        vertical-align: middle;\n",
       "    }\n",
       "\n",
       "    .dataframe tbody tr th {\n",
       "        vertical-align: top;\n",
       "    }\n",
       "\n",
       "    .dataframe thead th {\n",
       "        text-align: right;\n",
       "    }\n",
       "</style>\n",
       "<table border=\"1\" class=\"dataframe\">\n",
       "  <thead>\n",
       "    <tr style=\"text-align: right;\">\n",
       "      <th></th>\n",
       "      <th>total_images</th>\n",
       "      <th>last_price</th>\n",
       "      <th>total_area</th>\n",
       "      <th>first_day_exposition</th>\n",
       "      <th>rooms</th>\n",
       "      <th>ceiling_height</th>\n",
       "      <th>floors_total</th>\n",
       "      <th>living_area</th>\n",
       "      <th>floor</th>\n",
       "      <th>is_apartment</th>\n",
       "      <th>...</th>\n",
       "      <th>kitchen_area</th>\n",
       "      <th>balcony</th>\n",
       "      <th>locality_name</th>\n",
       "      <th>airports_nearest</th>\n",
       "      <th>cityCenters_nearest</th>\n",
       "      <th>parks_around3000</th>\n",
       "      <th>parks_nearest</th>\n",
       "      <th>ponds_around3000</th>\n",
       "      <th>ponds_nearest</th>\n",
       "      <th>days_exposition</th>\n",
       "    </tr>\n",
       "  </thead>\n",
       "  <tbody>\n",
       "    <tr>\n",
       "      <th>0</th>\n",
       "      <td>20</td>\n",
       "      <td>13000000.0</td>\n",
       "      <td>108.00</td>\n",
       "      <td>2019-03-07T00:00:00</td>\n",
       "      <td>3</td>\n",
       "      <td>2.70</td>\n",
       "      <td>16.0</td>\n",
       "      <td>51.00</td>\n",
       "      <td>8</td>\n",
       "      <td>NaN</td>\n",
       "      <td>...</td>\n",
       "      <td>25.00</td>\n",
       "      <td>NaN</td>\n",
       "      <td>Санкт-Петербург</td>\n",
       "      <td>18863.0</td>\n",
       "      <td>16028.0</td>\n",
       "      <td>1.0</td>\n",
       "      <td>482.0</td>\n",
       "      <td>2.0</td>\n",
       "      <td>755.0</td>\n",
       "      <td>NaN</td>\n",
       "    </tr>\n",
       "    <tr>\n",
       "      <th>1</th>\n",
       "      <td>7</td>\n",
       "      <td>3350000.0</td>\n",
       "      <td>40.40</td>\n",
       "      <td>2018-12-04T00:00:00</td>\n",
       "      <td>1</td>\n",
       "      <td>NaN</td>\n",
       "      <td>11.0</td>\n",
       "      <td>18.60</td>\n",
       "      <td>1</td>\n",
       "      <td>NaN</td>\n",
       "      <td>...</td>\n",
       "      <td>11.00</td>\n",
       "      <td>2.0</td>\n",
       "      <td>посёлок Шушары</td>\n",
       "      <td>12817.0</td>\n",
       "      <td>18603.0</td>\n",
       "      <td>0.0</td>\n",
       "      <td>NaN</td>\n",
       "      <td>0.0</td>\n",
       "      <td>NaN</td>\n",
       "      <td>81.0</td>\n",
       "    </tr>\n",
       "    <tr>\n",
       "      <th>2</th>\n",
       "      <td>10</td>\n",
       "      <td>5196000.0</td>\n",
       "      <td>56.00</td>\n",
       "      <td>2015-08-20T00:00:00</td>\n",
       "      <td>2</td>\n",
       "      <td>NaN</td>\n",
       "      <td>5.0</td>\n",
       "      <td>34.30</td>\n",
       "      <td>4</td>\n",
       "      <td>NaN</td>\n",
       "      <td>...</td>\n",
       "      <td>8.30</td>\n",
       "      <td>0.0</td>\n",
       "      <td>Санкт-Петербург</td>\n",
       "      <td>21741.0</td>\n",
       "      <td>13933.0</td>\n",
       "      <td>1.0</td>\n",
       "      <td>90.0</td>\n",
       "      <td>2.0</td>\n",
       "      <td>574.0</td>\n",
       "      <td>558.0</td>\n",
       "    </tr>\n",
       "    <tr>\n",
       "      <th>3</th>\n",
       "      <td>0</td>\n",
       "      <td>64900000.0</td>\n",
       "      <td>159.00</td>\n",
       "      <td>2015-07-24T00:00:00</td>\n",
       "      <td>3</td>\n",
       "      <td>NaN</td>\n",
       "      <td>14.0</td>\n",
       "      <td>NaN</td>\n",
       "      <td>9</td>\n",
       "      <td>NaN</td>\n",
       "      <td>...</td>\n",
       "      <td>NaN</td>\n",
       "      <td>0.0</td>\n",
       "      <td>Санкт-Петербург</td>\n",
       "      <td>28098.0</td>\n",
       "      <td>6800.0</td>\n",
       "      <td>2.0</td>\n",
       "      <td>84.0</td>\n",
       "      <td>3.0</td>\n",
       "      <td>234.0</td>\n",
       "      <td>424.0</td>\n",
       "    </tr>\n",
       "    <tr>\n",
       "      <th>4</th>\n",
       "      <td>2</td>\n",
       "      <td>10000000.0</td>\n",
       "      <td>100.00</td>\n",
       "      <td>2018-06-19T00:00:00</td>\n",
       "      <td>2</td>\n",
       "      <td>3.03</td>\n",
       "      <td>14.0</td>\n",
       "      <td>32.00</td>\n",
       "      <td>13</td>\n",
       "      <td>NaN</td>\n",
       "      <td>...</td>\n",
       "      <td>41.00</td>\n",
       "      <td>NaN</td>\n",
       "      <td>Санкт-Петербург</td>\n",
       "      <td>31856.0</td>\n",
       "      <td>8098.0</td>\n",
       "      <td>2.0</td>\n",
       "      <td>112.0</td>\n",
       "      <td>1.0</td>\n",
       "      <td>48.0</td>\n",
       "      <td>121.0</td>\n",
       "    </tr>\n",
       "    <tr>\n",
       "      <th>5</th>\n",
       "      <td>10</td>\n",
       "      <td>2890000.0</td>\n",
       "      <td>30.40</td>\n",
       "      <td>2018-09-10T00:00:00</td>\n",
       "      <td>1</td>\n",
       "      <td>NaN</td>\n",
       "      <td>12.0</td>\n",
       "      <td>14.40</td>\n",
       "      <td>5</td>\n",
       "      <td>NaN</td>\n",
       "      <td>...</td>\n",
       "      <td>9.10</td>\n",
       "      <td>NaN</td>\n",
       "      <td>городской посёлок Янино-1</td>\n",
       "      <td>NaN</td>\n",
       "      <td>NaN</td>\n",
       "      <td>NaN</td>\n",
       "      <td>NaN</td>\n",
       "      <td>NaN</td>\n",
       "      <td>NaN</td>\n",
       "      <td>55.0</td>\n",
       "    </tr>\n",
       "    <tr>\n",
       "      <th>6</th>\n",
       "      <td>6</td>\n",
       "      <td>3700000.0</td>\n",
       "      <td>37.30</td>\n",
       "      <td>2017-11-02T00:00:00</td>\n",
       "      <td>1</td>\n",
       "      <td>NaN</td>\n",
       "      <td>26.0</td>\n",
       "      <td>10.60</td>\n",
       "      <td>6</td>\n",
       "      <td>NaN</td>\n",
       "      <td>...</td>\n",
       "      <td>14.40</td>\n",
       "      <td>1.0</td>\n",
       "      <td>посёлок Парголово</td>\n",
       "      <td>52996.0</td>\n",
       "      <td>19143.0</td>\n",
       "      <td>0.0</td>\n",
       "      <td>NaN</td>\n",
       "      <td>0.0</td>\n",
       "      <td>NaN</td>\n",
       "      <td>155.0</td>\n",
       "    </tr>\n",
       "    <tr>\n",
       "      <th>7</th>\n",
       "      <td>5</td>\n",
       "      <td>7915000.0</td>\n",
       "      <td>71.60</td>\n",
       "      <td>2019-04-18T00:00:00</td>\n",
       "      <td>2</td>\n",
       "      <td>NaN</td>\n",
       "      <td>24.0</td>\n",
       "      <td>NaN</td>\n",
       "      <td>22</td>\n",
       "      <td>NaN</td>\n",
       "      <td>...</td>\n",
       "      <td>18.90</td>\n",
       "      <td>2.0</td>\n",
       "      <td>Санкт-Петербург</td>\n",
       "      <td>23982.0</td>\n",
       "      <td>11634.0</td>\n",
       "      <td>0.0</td>\n",
       "      <td>NaN</td>\n",
       "      <td>0.0</td>\n",
       "      <td>NaN</td>\n",
       "      <td>NaN</td>\n",
       "    </tr>\n",
       "    <tr>\n",
       "      <th>8</th>\n",
       "      <td>20</td>\n",
       "      <td>2900000.0</td>\n",
       "      <td>33.16</td>\n",
       "      <td>2018-05-23T00:00:00</td>\n",
       "      <td>1</td>\n",
       "      <td>NaN</td>\n",
       "      <td>27.0</td>\n",
       "      <td>15.43</td>\n",
       "      <td>26</td>\n",
       "      <td>NaN</td>\n",
       "      <td>...</td>\n",
       "      <td>8.81</td>\n",
       "      <td>NaN</td>\n",
       "      <td>посёлок Мурино</td>\n",
       "      <td>NaN</td>\n",
       "      <td>NaN</td>\n",
       "      <td>NaN</td>\n",
       "      <td>NaN</td>\n",
       "      <td>NaN</td>\n",
       "      <td>NaN</td>\n",
       "      <td>189.0</td>\n",
       "    </tr>\n",
       "    <tr>\n",
       "      <th>9</th>\n",
       "      <td>18</td>\n",
       "      <td>5400000.0</td>\n",
       "      <td>61.00</td>\n",
       "      <td>2017-02-26T00:00:00</td>\n",
       "      <td>3</td>\n",
       "      <td>2.50</td>\n",
       "      <td>9.0</td>\n",
       "      <td>43.60</td>\n",
       "      <td>7</td>\n",
       "      <td>NaN</td>\n",
       "      <td>...</td>\n",
       "      <td>6.50</td>\n",
       "      <td>2.0</td>\n",
       "      <td>Санкт-Петербург</td>\n",
       "      <td>50898.0</td>\n",
       "      <td>15008.0</td>\n",
       "      <td>0.0</td>\n",
       "      <td>NaN</td>\n",
       "      <td>0.0</td>\n",
       "      <td>NaN</td>\n",
       "      <td>289.0</td>\n",
       "    </tr>\n",
       "  </tbody>\n",
       "</table>\n",
       "<p>10 rows × 22 columns</p>\n",
       "</div>"
      ],
      "text/plain": [
       "   total_images  last_price  total_area first_day_exposition  rooms  \\\n",
       "0            20  13000000.0      108.00  2019-03-07T00:00:00      3   \n",
       "1             7   3350000.0       40.40  2018-12-04T00:00:00      1   \n",
       "2            10   5196000.0       56.00  2015-08-20T00:00:00      2   \n",
       "3             0  64900000.0      159.00  2015-07-24T00:00:00      3   \n",
       "4             2  10000000.0      100.00  2018-06-19T00:00:00      2   \n",
       "5            10   2890000.0       30.40  2018-09-10T00:00:00      1   \n",
       "6             6   3700000.0       37.30  2017-11-02T00:00:00      1   \n",
       "7             5   7915000.0       71.60  2019-04-18T00:00:00      2   \n",
       "8            20   2900000.0       33.16  2018-05-23T00:00:00      1   \n",
       "9            18   5400000.0       61.00  2017-02-26T00:00:00      3   \n",
       "\n",
       "   ceiling_height  floors_total  living_area  floor is_apartment  ...  \\\n",
       "0            2.70          16.0        51.00      8          NaN  ...   \n",
       "1             NaN          11.0        18.60      1          NaN  ...   \n",
       "2             NaN           5.0        34.30      4          NaN  ...   \n",
       "3             NaN          14.0          NaN      9          NaN  ...   \n",
       "4            3.03          14.0        32.00     13          NaN  ...   \n",
       "5             NaN          12.0        14.40      5          NaN  ...   \n",
       "6             NaN          26.0        10.60      6          NaN  ...   \n",
       "7             NaN          24.0          NaN     22          NaN  ...   \n",
       "8             NaN          27.0        15.43     26          NaN  ...   \n",
       "9            2.50           9.0        43.60      7          NaN  ...   \n",
       "\n",
       "   kitchen_area  balcony              locality_name  airports_nearest  \\\n",
       "0         25.00      NaN            Санкт-Петербург           18863.0   \n",
       "1         11.00      2.0             посёлок Шушары           12817.0   \n",
       "2          8.30      0.0            Санкт-Петербург           21741.0   \n",
       "3           NaN      0.0            Санкт-Петербург           28098.0   \n",
       "4         41.00      NaN            Санкт-Петербург           31856.0   \n",
       "5          9.10      NaN  городской посёлок Янино-1               NaN   \n",
       "6         14.40      1.0          посёлок Парголово           52996.0   \n",
       "7         18.90      2.0            Санкт-Петербург           23982.0   \n",
       "8          8.81      NaN             посёлок Мурино               NaN   \n",
       "9          6.50      2.0            Санкт-Петербург           50898.0   \n",
       "\n",
       "  cityCenters_nearest  parks_around3000  parks_nearest  ponds_around3000  \\\n",
       "0             16028.0               1.0          482.0               2.0   \n",
       "1             18603.0               0.0            NaN               0.0   \n",
       "2             13933.0               1.0           90.0               2.0   \n",
       "3              6800.0               2.0           84.0               3.0   \n",
       "4              8098.0               2.0          112.0               1.0   \n",
       "5                 NaN               NaN            NaN               NaN   \n",
       "6             19143.0               0.0            NaN               0.0   \n",
       "7             11634.0               0.0            NaN               0.0   \n",
       "8                 NaN               NaN            NaN               NaN   \n",
       "9             15008.0               0.0            NaN               0.0   \n",
       "\n",
       "   ponds_nearest  days_exposition  \n",
       "0          755.0              NaN  \n",
       "1            NaN             81.0  \n",
       "2          574.0            558.0  \n",
       "3          234.0            424.0  \n",
       "4           48.0            121.0  \n",
       "5            NaN             55.0  \n",
       "6            NaN            155.0  \n",
       "7            NaN              NaN  \n",
       "8            NaN            189.0  \n",
       "9            NaN            289.0  \n",
       "\n",
       "[10 rows x 22 columns]"
      ]
     },
     "execution_count": 3,
     "metadata": {},
     "output_type": "execute_result"
    }
   ],
   "source": [
    "# выведем первые 10 строк таблицы\n",
    "df.head(10)\n"
   ]
  },
  {
   "cell_type": "markdown",
   "metadata": {},
   "source": [
    "Каждая строка таблицы — это действительно данные объявления о продаже квартиры. "
   ]
  },
  {
   "cell_type": "code",
   "execution_count": 4,
   "metadata": {
    "scrolled": true
   },
   "outputs": [
    {
     "name": "stdout",
     "output_type": "stream",
     "text": [
      "<class 'pandas.core.frame.DataFrame'>\n",
      "RangeIndex: 23699 entries, 0 to 23698\n",
      "Data columns (total 22 columns):\n",
      " #   Column                Non-Null Count  Dtype  \n",
      "---  ------                --------------  -----  \n",
      " 0   total_images          23699 non-null  int64  \n",
      " 1   last_price            23699 non-null  float64\n",
      " 2   total_area            23699 non-null  float64\n",
      " 3   first_day_exposition  23699 non-null  object \n",
      " 4   rooms                 23699 non-null  int64  \n",
      " 5   ceiling_height        14504 non-null  float64\n",
      " 6   floors_total          23613 non-null  float64\n",
      " 7   living_area           21796 non-null  float64\n",
      " 8   floor                 23699 non-null  int64  \n",
      " 9   is_apartment          2775 non-null   object \n",
      " 10  studio                23699 non-null  bool   \n",
      " 11  open_plan             23699 non-null  bool   \n",
      " 12  kitchen_area          21421 non-null  float64\n",
      " 13  balcony               12180 non-null  float64\n",
      " 14  locality_name         23650 non-null  object \n",
      " 15  airports_nearest      18157 non-null  float64\n",
      " 16  cityCenters_nearest   18180 non-null  float64\n",
      " 17  parks_around3000      18181 non-null  float64\n",
      " 18  parks_nearest         8079 non-null   float64\n",
      " 19  ponds_around3000      18181 non-null  float64\n",
      " 20  ponds_nearest         9110 non-null   float64\n",
      " 21  days_exposition       20518 non-null  float64\n",
      "dtypes: bool(2), float64(14), int64(3), object(3)\n",
      "memory usage: 3.7+ MB\n",
      "\n",
      "Число дубликатов: 0\n"
     ]
    }
   ],
   "source": [
    "# получение общей информации о данных в таблице\n",
    "df.info()\n",
    "print('\\nЧисло дубликатов:', df.duplicated().sum())\n"
   ]
  },
  {
   "cell_type": "markdown",
   "metadata": {},
   "source": [
    "В таблице 22 столбца, а всего 23699 объявления. Явных дубликатов нет. У ряда столбцов есть пропущенные значения и некорректный тип данных (например для balcony, parks_nearest, first_day_exposition и пр.). Наблюдаются нарушения в стиле наименований столбцов (не соблюдается регистр и пр.)."
   ]
  },
  {
   "cell_type": "code",
   "execution_count": 5,
   "metadata": {},
   "outputs": [
    {
     "data": {
      "image/png": "[encoded data removed]",
      "text/plain": [
       "<Figure size 1080x1440 with 20 Axes>"
      ]
     },
     "metadata": {
      "needs_background": "light"
     },
     "output_type": "display_data"
    }
   ],
   "source": [
    "# построим общую гистограмму для всех числовых столбцов таблицы\n",
    "\n",
    "df.hist(figsize=(15,20))\n",
    "plt.show()"
   ]
  },
  {
   "cell_type": "markdown",
   "metadata": {},
   "source": [
    "Вывод:\n",
    "В каждой строке таблицы находятся данные объявления о продаже квартиры. Присутствуют пропуски в данных, возможны неявные дубликаты, и требуется изменение типа данных в колонках. Вероятно, это связано с ошибками выгрузки данных, выгрузкой из нескольких источников, техническими ошибками или отсутствием необходимой информации при заполнении таблицы пользователями."
   ]
  },
  {
   "cell_type": "markdown",
   "metadata": {},
   "source": [
    "2 Предобработка данных"
   ]
  },
  {
   "cell_type": "code",
   "execution_count": 6,
   "metadata": {},
   "outputs": [
    {
     "data": {
      "text/plain": [
       "total_images                0\n",
       "last_price                  0\n",
       "total_area                  0\n",
       "first_day_exposition        0\n",
       "rooms                       0\n",
       "ceiling_height           9195\n",
       "floors_total               86\n",
       "living_area              1903\n",
       "floor                       0\n",
       "is_apartment            20924\n",
       "studio                      0\n",
       "open_plan                   0\n",
       "kitchen_area             2278\n",
       "balcony                 11519\n",
       "locality_name              49\n",
       "airports_nearest         5542\n",
       "cityCenters_nearest      5519\n",
       "parks_around3000         5518\n",
       "parks_nearest           15620\n",
       "ponds_around3000         5518\n",
       "ponds_nearest           14589\n",
       "days_exposition          3181\n",
       "dtype: int64"
      ]
     },
     "execution_count": 6,
     "metadata": {},
     "output_type": "execute_result"
    }
   ],
   "source": [
    "# определим в каких колонках есть пропущенные значения\n",
    "\n",
    "df.isna().sum()"
   ]
  },
  {
   "cell_type": "code",
   "execution_count": 7,
   "metadata": {},
   "outputs": [
    {
     "data": {
      "text/plain": [
       "count    23699.000000\n",
       "mean         9.858475\n",
       "std          5.682529\n",
       "min          0.000000\n",
       "25%          6.000000\n",
       "50%          9.000000\n",
       "75%         14.000000\n",
       "max         50.000000\n",
       "Name: total_images, dtype: float64"
      ]
     },
     "execution_count": 7,
     "metadata": {},
     "output_type": "execute_result"
    }
   ],
   "source": [
    "df['total_images'].describe()"
   ]
  },
  {
   "cell_type": "markdown",
   "metadata": {},
   "source": [
    "Столбец total_images: мин фото - 0 ок , макс фото - 50 ок , тип int ок, замечаний нет."
   ]
  },
  {
   "cell_type": "code",
   "execution_count": 8,
   "metadata": {},
   "outputs": [
    {
     "data": {
      "text/plain": [
       "count    2.369900e+04\n",
       "mean     6.541549e+06\n",
       "std      1.088701e+07\n",
       "min      1.219000e+04\n",
       "25%      3.400000e+06\n",
       "50%      4.650000e+06\n",
       "75%      6.800000e+06\n",
       "max      7.630000e+08\n",
       "Name: last_price, dtype: float64"
      ]
     },
     "execution_count": 8,
     "metadata": {},
     "output_type": "execute_result"
    }
   ],
   "source": [
    "df['last_price'].describe()"
   ]
  },
  {
   "cell_type": "markdown",
   "metadata": {},
   "source": [
    "Столбец last_price: мин цена - 12190?? возможно цена указана в тыс.руб., надо поправить, макс цена - \n",
    "763 000 000 млн.руб наверное ок для Санкт-Петербурга, тип float заменим на int, не будем считать копейки))"
   ]
  },
  {
   "cell_type": "code",
   "execution_count": 9,
   "metadata": {},
   "outputs": [
    {
     "data": {
      "text/html": [
       "<div>\n",
       "<style scoped>\n",
       "    .dataframe tbody tr th:only-of-type {\n",
       "        vertical-align: middle;\n",
       "    }\n",
       "\n",
       "    .dataframe tbody tr th {\n",
       "        vertical-align: top;\n",
       "    }\n",
       "\n",
       "    .dataframe thead th {\n",
       "        text-align: right;\n",
       "    }\n",
       "</style>\n",
       "<table border=\"1\" class=\"dataframe\">\n",
       "  <thead>\n",
       "    <tr style=\"text-align: right;\">\n",
       "      <th></th>\n",
       "      <th>total_images</th>\n",
       "      <th>last_price</th>\n",
       "      <th>total_area</th>\n",
       "      <th>first_day_exposition</th>\n",
       "      <th>rooms</th>\n",
       "      <th>ceiling_height</th>\n",
       "      <th>floors_total</th>\n",
       "      <th>living_area</th>\n",
       "      <th>floor</th>\n",
       "      <th>is_apartment</th>\n",
       "      <th>...</th>\n",
       "      <th>kitchen_area</th>\n",
       "      <th>balcony</th>\n",
       "      <th>locality_name</th>\n",
       "      <th>airports_nearest</th>\n",
       "      <th>cityCenters_nearest</th>\n",
       "      <th>parks_around3000</th>\n",
       "      <th>parks_nearest</th>\n",
       "      <th>ponds_around3000</th>\n",
       "      <th>ponds_nearest</th>\n",
       "      <th>days_exposition</th>\n",
       "    </tr>\n",
       "  </thead>\n",
       "  <tbody>\n",
       "    <tr>\n",
       "      <th>8793</th>\n",
       "      <td>7</td>\n",
       "      <td>12190.0</td>\n",
       "      <td>109.0</td>\n",
       "      <td>2019-03-20T00:00:00</td>\n",
       "      <td>2</td>\n",
       "      <td>2.75</td>\n",
       "      <td>25.0</td>\n",
       "      <td>32.0</td>\n",
       "      <td>25</td>\n",
       "      <td>NaN</td>\n",
       "      <td>...</td>\n",
       "      <td>40.5</td>\n",
       "      <td>NaN</td>\n",
       "      <td>Санкт-Петербург</td>\n",
       "      <td>36421.0</td>\n",
       "      <td>9176.0</td>\n",
       "      <td>1.0</td>\n",
       "      <td>805.0</td>\n",
       "      <td>0.0</td>\n",
       "      <td>NaN</td>\n",
       "      <td>8.0</td>\n",
       "    </tr>\n",
       "  </tbody>\n",
       "</table>\n",
       "<p>1 rows × 22 columns</p>\n",
       "</div>"
      ],
      "text/plain": [
       "      total_images  last_price  total_area first_day_exposition  rooms  \\\n",
       "8793             7     12190.0       109.0  2019-03-20T00:00:00      2   \n",
       "\n",
       "      ceiling_height  floors_total  living_area  floor is_apartment  ...  \\\n",
       "8793            2.75          25.0         32.0     25          NaN  ...   \n",
       "\n",
       "      kitchen_area  balcony    locality_name  airports_nearest  \\\n",
       "8793          40.5      NaN  Санкт-Петербург           36421.0   \n",
       "\n",
       "     cityCenters_nearest  parks_around3000  parks_nearest  ponds_around3000  \\\n",
       "8793              9176.0               1.0          805.0               0.0   \n",
       "\n",
       "      ponds_nearest  days_exposition  \n",
       "8793            NaN              8.0  \n",
       "\n",
       "[1 rows x 22 columns]"
      ]
     },
     "metadata": {},
     "output_type": "display_data"
    }
   ],
   "source": [
    "# проверим цены в таблице на примере Санкт-Петебурга на соответствие рынку\n",
    "display(df.loc[(df['last_price']<1000000)&(df['locality_name']=='Санкт-Петербург')])\n",
    "\n"
   ]
  },
  {
   "cell_type": "code",
   "execution_count": 10,
   "metadata": {},
   "outputs": [
    {
     "data": {
      "text/html": [
       "<div>\n",
       "<style scoped>\n",
       "    .dataframe tbody tr th:only-of-type {\n",
       "        vertical-align: middle;\n",
       "    }\n",
       "\n",
       "    .dataframe tbody tr th {\n",
       "        vertical-align: top;\n",
       "    }\n",
       "\n",
       "    .dataframe thead th {\n",
       "        text-align: right;\n",
       "    }\n",
       "</style>\n",
       "<table border=\"1\" class=\"dataframe\">\n",
       "  <thead>\n",
       "    <tr style=\"text-align: right;\">\n",
       "      <th></th>\n",
       "      <th>total_images</th>\n",
       "      <th>last_price</th>\n",
       "      <th>total_area</th>\n",
       "      <th>first_day_exposition</th>\n",
       "      <th>rooms</th>\n",
       "      <th>ceiling_height</th>\n",
       "      <th>floors_total</th>\n",
       "      <th>living_area</th>\n",
       "      <th>floor</th>\n",
       "      <th>is_apartment</th>\n",
       "      <th>...</th>\n",
       "      <th>kitchen_area</th>\n",
       "      <th>balcony</th>\n",
       "      <th>locality_name</th>\n",
       "      <th>airports_nearest</th>\n",
       "      <th>cityCenters_nearest</th>\n",
       "      <th>parks_around3000</th>\n",
       "      <th>parks_nearest</th>\n",
       "      <th>ponds_around3000</th>\n",
       "      <th>ponds_nearest</th>\n",
       "      <th>days_exposition</th>\n",
       "    </tr>\n",
       "  </thead>\n",
       "  <tbody>\n",
       "  </tbody>\n",
       "</table>\n",
       "<p>0 rows × 22 columns</p>\n",
       "</div>"
      ],
      "text/plain": [
       "Empty DataFrame\n",
       "Columns: [total_images, last_price, total_area, first_day_exposition, rooms, ceiling_height, floors_total, living_area, floor, is_apartment, studio, open_plan, kitchen_area, balcony, locality_name, airports_nearest, cityCenters_nearest, parks_around3000, parks_nearest, ponds_around3000, ponds_nearest, days_exposition]\n",
       "Index: []\n",
       "\n",
       "[0 rows x 22 columns]"
      ]
     },
     "metadata": {},
     "output_type": "display_data"
    }
   ],
   "source": [
    "# аномалия одна и это она и есть, поправлю вручную, заодно поменяю тип данных\n",
    "df['last_price'] = df['last_price'].astype(int)\n",
    "df.loc[8793, 'last_price'] = 12190000\n",
    "display(df.loc[(df['last_price']<1000000)& (df['locality_name']=='Санкт-Петербург' )])"
   ]
  },
  {
   "cell_type": "code",
   "execution_count": 11,
   "metadata": {},
   "outputs": [
    {
     "data": {
      "text/plain": [
       "count    23699.000000\n",
       "mean        60.348651\n",
       "std         35.654083\n",
       "min         12.000000\n",
       "25%         40.000000\n",
       "50%         52.000000\n",
       "75%         69.900000\n",
       "max        900.000000\n",
       "Name: total_area, dtype: float64"
      ]
     },
     "execution_count": 11,
     "metadata": {},
     "output_type": "execute_result"
    }
   ],
   "source": [
    "df['total_area'].describe()"
   ]
  },
  {
   "cell_type": "markdown",
   "metadata": {},
   "source": [
    "Столбец total_area: мин значение 12 м2 ок, макс значение 900 м2 (видимо это и есть 763 млн) ок,\n",
    "пропусков нет ок, тип данных float ок замечаний нет."
   ]
  },
  {
   "cell_type": "code",
   "execution_count": 12,
   "metadata": {},
   "outputs": [],
   "source": [
    "# сразу переведем тип данных столбца first_day_exposition из object в datetime\n",
    "df['first_day_exposition'] = pd.to_datetime(df['first_day_exposition'], format='%Y-%m-%dT%H:%M:%S')"
   ]
  },
  {
   "cell_type": "markdown",
   "metadata": {},
   "source": [
    "Столбец first_day_exposition: пропусков нет ок, тип данных измененен ок, замечаний нет."
   ]
  },
  {
   "cell_type": "code",
   "execution_count": 13,
   "metadata": {},
   "outputs": [
    {
     "data": {
      "text/plain": [
       "count    23699.000000\n",
       "mean         2.070636\n",
       "std          1.078405\n",
       "min          0.000000\n",
       "25%          1.000000\n",
       "50%          2.000000\n",
       "75%          3.000000\n",
       "max         19.000000\n",
       "Name: rooms, dtype: float64"
      ]
     },
     "execution_count": 13,
     "metadata": {},
     "output_type": "execute_result"
    }
   ],
   "source": [
    "df['rooms'].describe()\n",
    "#df['rooms'].unique()"
   ]
  },
  {
   "cell_type": "markdown",
   "metadata": {},
   "source": [
    "Столбец rooms: Пропусков нет ок, мин количество комнат -0?? надо проверить что это,\n",
    "максимальное - 19 ок, тип данных int ок."
   ]
  },
  {
   "cell_type": "code",
   "execution_count": 14,
   "metadata": {},
   "outputs": [
    {
     "data": {
      "text/html": [
       "<div>\n",
       "<style scoped>\n",
       "    .dataframe tbody tr th:only-of-type {\n",
       "        vertical-align: middle;\n",
       "    }\n",
       "\n",
       "    .dataframe tbody tr th {\n",
       "        vertical-align: top;\n",
       "    }\n",
       "\n",
       "    .dataframe thead th {\n",
       "        text-align: right;\n",
       "    }\n",
       "</style>\n",
       "<table border=\"1\" class=\"dataframe\">\n",
       "  <thead>\n",
       "    <tr style=\"text-align: right;\">\n",
       "      <th></th>\n",
       "      <th>total_images</th>\n",
       "      <th>last_price</th>\n",
       "      <th>total_area</th>\n",
       "      <th>first_day_exposition</th>\n",
       "      <th>rooms</th>\n",
       "      <th>ceiling_height</th>\n",
       "      <th>floors_total</th>\n",
       "      <th>living_area</th>\n",
       "      <th>floor</th>\n",
       "      <th>is_apartment</th>\n",
       "      <th>...</th>\n",
       "      <th>kitchen_area</th>\n",
       "      <th>balcony</th>\n",
       "      <th>locality_name</th>\n",
       "      <th>airports_nearest</th>\n",
       "      <th>cityCenters_nearest</th>\n",
       "      <th>parks_around3000</th>\n",
       "      <th>parks_nearest</th>\n",
       "      <th>ponds_around3000</th>\n",
       "      <th>ponds_nearest</th>\n",
       "      <th>days_exposition</th>\n",
       "    </tr>\n",
       "  </thead>\n",
       "  <tbody>\n",
       "    <tr>\n",
       "      <th>144</th>\n",
       "      <td>1</td>\n",
       "      <td>2450000</td>\n",
       "      <td>27.00</td>\n",
       "      <td>2017-03-30</td>\n",
       "      <td>0</td>\n",
       "      <td>NaN</td>\n",
       "      <td>24.0</td>\n",
       "      <td>15.50</td>\n",
       "      <td>2</td>\n",
       "      <td>NaN</td>\n",
       "      <td>...</td>\n",
       "      <td>NaN</td>\n",
       "      <td>2.0</td>\n",
       "      <td>посёлок Мурино</td>\n",
       "      <td>NaN</td>\n",
       "      <td>NaN</td>\n",
       "      <td>NaN</td>\n",
       "      <td>NaN</td>\n",
       "      <td>NaN</td>\n",
       "      <td>NaN</td>\n",
       "      <td>181.0</td>\n",
       "    </tr>\n",
       "    <tr>\n",
       "      <th>349</th>\n",
       "      <td>4</td>\n",
       "      <td>2320000</td>\n",
       "      <td>25.00</td>\n",
       "      <td>2017-09-27</td>\n",
       "      <td>0</td>\n",
       "      <td>NaN</td>\n",
       "      <td>14.0</td>\n",
       "      <td>17.00</td>\n",
       "      <td>1</td>\n",
       "      <td>NaN</td>\n",
       "      <td>...</td>\n",
       "      <td>NaN</td>\n",
       "      <td>0.0</td>\n",
       "      <td>деревня Кудрово</td>\n",
       "      <td>NaN</td>\n",
       "      <td>NaN</td>\n",
       "      <td>NaN</td>\n",
       "      <td>NaN</td>\n",
       "      <td>NaN</td>\n",
       "      <td>NaN</td>\n",
       "      <td>45.0</td>\n",
       "    </tr>\n",
       "    <tr>\n",
       "      <th>440</th>\n",
       "      <td>8</td>\n",
       "      <td>2480000</td>\n",
       "      <td>27.11</td>\n",
       "      <td>2018-03-12</td>\n",
       "      <td>0</td>\n",
       "      <td>NaN</td>\n",
       "      <td>17.0</td>\n",
       "      <td>24.75</td>\n",
       "      <td>4</td>\n",
       "      <td>NaN</td>\n",
       "      <td>...</td>\n",
       "      <td>NaN</td>\n",
       "      <td>2.0</td>\n",
       "      <td>Санкт-Петербург</td>\n",
       "      <td>38171.0</td>\n",
       "      <td>15015.0</td>\n",
       "      <td>0.0</td>\n",
       "      <td>NaN</td>\n",
       "      <td>2.0</td>\n",
       "      <td>982.0</td>\n",
       "      <td>64.0</td>\n",
       "    </tr>\n",
       "    <tr>\n",
       "      <th>508</th>\n",
       "      <td>0</td>\n",
       "      <td>3375000</td>\n",
       "      <td>34.40</td>\n",
       "      <td>2017-03-28</td>\n",
       "      <td>0</td>\n",
       "      <td>NaN</td>\n",
       "      <td>26.0</td>\n",
       "      <td>24.30</td>\n",
       "      <td>19</td>\n",
       "      <td>NaN</td>\n",
       "      <td>...</td>\n",
       "      <td>NaN</td>\n",
       "      <td>1.0</td>\n",
       "      <td>посёлок Парголово</td>\n",
       "      <td>53115.0</td>\n",
       "      <td>19292.0</td>\n",
       "      <td>0.0</td>\n",
       "      <td>NaN</td>\n",
       "      <td>1.0</td>\n",
       "      <td>593.0</td>\n",
       "      <td>430.0</td>\n",
       "    </tr>\n",
       "    <tr>\n",
       "      <th>608</th>\n",
       "      <td>2</td>\n",
       "      <td>1850000</td>\n",
       "      <td>25.00</td>\n",
       "      <td>2019-02-20</td>\n",
       "      <td>0</td>\n",
       "      <td>NaN</td>\n",
       "      <td>10.0</td>\n",
       "      <td>NaN</td>\n",
       "      <td>7</td>\n",
       "      <td>NaN</td>\n",
       "      <td>...</td>\n",
       "      <td>NaN</td>\n",
       "      <td>NaN</td>\n",
       "      <td>посёлок Шушары</td>\n",
       "      <td>NaN</td>\n",
       "      <td>NaN</td>\n",
       "      <td>NaN</td>\n",
       "      <td>NaN</td>\n",
       "      <td>NaN</td>\n",
       "      <td>NaN</td>\n",
       "      <td>29.0</td>\n",
       "    </tr>\n",
       "    <tr>\n",
       "      <th>...</th>\n",
       "      <td>...</td>\n",
       "      <td>...</td>\n",
       "      <td>...</td>\n",
       "      <td>...</td>\n",
       "      <td>...</td>\n",
       "      <td>...</td>\n",
       "      <td>...</td>\n",
       "      <td>...</td>\n",
       "      <td>...</td>\n",
       "      <td>...</td>\n",
       "      <td>...</td>\n",
       "      <td>...</td>\n",
       "      <td>...</td>\n",
       "      <td>...</td>\n",
       "      <td>...</td>\n",
       "      <td>...</td>\n",
       "      <td>...</td>\n",
       "      <td>...</td>\n",
       "      <td>...</td>\n",
       "      <td>...</td>\n",
       "      <td>...</td>\n",
       "    </tr>\n",
       "    <tr>\n",
       "      <th>23210</th>\n",
       "      <td>7</td>\n",
       "      <td>3200000</td>\n",
       "      <td>26.00</td>\n",
       "      <td>2017-09-01</td>\n",
       "      <td>0</td>\n",
       "      <td>NaN</td>\n",
       "      <td>25.0</td>\n",
       "      <td>18.00</td>\n",
       "      <td>16</td>\n",
       "      <td>NaN</td>\n",
       "      <td>...</td>\n",
       "      <td>NaN</td>\n",
       "      <td>0.0</td>\n",
       "      <td>Санкт-Петербург</td>\n",
       "      <td>11405.0</td>\n",
       "      <td>13222.0</td>\n",
       "      <td>0.0</td>\n",
       "      <td>NaN</td>\n",
       "      <td>1.0</td>\n",
       "      <td>623.0</td>\n",
       "      <td>14.0</td>\n",
       "    </tr>\n",
       "    <tr>\n",
       "      <th>23442</th>\n",
       "      <td>0</td>\n",
       "      <td>2500000</td>\n",
       "      <td>27.70</td>\n",
       "      <td>2017-09-28</td>\n",
       "      <td>0</td>\n",
       "      <td>NaN</td>\n",
       "      <td>24.0</td>\n",
       "      <td>18.00</td>\n",
       "      <td>4</td>\n",
       "      <td>NaN</td>\n",
       "      <td>...</td>\n",
       "      <td>NaN</td>\n",
       "      <td>2.0</td>\n",
       "      <td>посёлок Мурино</td>\n",
       "      <td>NaN</td>\n",
       "      <td>NaN</td>\n",
       "      <td>NaN</td>\n",
       "      <td>NaN</td>\n",
       "      <td>NaN</td>\n",
       "      <td>NaN</td>\n",
       "      <td>4.0</td>\n",
       "    </tr>\n",
       "    <tr>\n",
       "      <th>23554</th>\n",
       "      <td>15</td>\n",
       "      <td>3350000</td>\n",
       "      <td>26.00</td>\n",
       "      <td>2018-09-07</td>\n",
       "      <td>0</td>\n",
       "      <td>NaN</td>\n",
       "      <td>19.0</td>\n",
       "      <td>NaN</td>\n",
       "      <td>8</td>\n",
       "      <td>NaN</td>\n",
       "      <td>...</td>\n",
       "      <td>NaN</td>\n",
       "      <td>NaN</td>\n",
       "      <td>Санкт-Петербург</td>\n",
       "      <td>18090.0</td>\n",
       "      <td>17092.0</td>\n",
       "      <td>0.0</td>\n",
       "      <td>NaN</td>\n",
       "      <td>2.0</td>\n",
       "      <td>112.0</td>\n",
       "      <td>31.0</td>\n",
       "    </tr>\n",
       "    <tr>\n",
       "      <th>23592</th>\n",
       "      <td>10</td>\n",
       "      <td>1450000</td>\n",
       "      <td>29.00</td>\n",
       "      <td>2017-11-11</td>\n",
       "      <td>0</td>\n",
       "      <td>NaN</td>\n",
       "      <td>9.0</td>\n",
       "      <td>18.00</td>\n",
       "      <td>8</td>\n",
       "      <td>NaN</td>\n",
       "      <td>...</td>\n",
       "      <td>NaN</td>\n",
       "      <td>2.0</td>\n",
       "      <td>Никольское</td>\n",
       "      <td>NaN</td>\n",
       "      <td>NaN</td>\n",
       "      <td>NaN</td>\n",
       "      <td>NaN</td>\n",
       "      <td>NaN</td>\n",
       "      <td>NaN</td>\n",
       "      <td>82.0</td>\n",
       "    </tr>\n",
       "    <tr>\n",
       "      <th>23637</th>\n",
       "      <td>8</td>\n",
       "      <td>2350000</td>\n",
       "      <td>26.00</td>\n",
       "      <td>2018-06-26</td>\n",
       "      <td>0</td>\n",
       "      <td>NaN</td>\n",
       "      <td>25.0</td>\n",
       "      <td>17.00</td>\n",
       "      <td>4</td>\n",
       "      <td>NaN</td>\n",
       "      <td>...</td>\n",
       "      <td>NaN</td>\n",
       "      <td>2.0</td>\n",
       "      <td>посёлок Бугры</td>\n",
       "      <td>NaN</td>\n",
       "      <td>NaN</td>\n",
       "      <td>NaN</td>\n",
       "      <td>NaN</td>\n",
       "      <td>NaN</td>\n",
       "      <td>NaN</td>\n",
       "      <td>207.0</td>\n",
       "    </tr>\n",
       "  </tbody>\n",
       "</table>\n",
       "<p>197 rows × 22 columns</p>\n",
       "</div>"
      ],
      "text/plain": [
       "       total_images  last_price  total_area first_day_exposition  rooms  \\\n",
       "144               1     2450000       27.00           2017-03-30      0   \n",
       "349               4     2320000       25.00           2017-09-27      0   \n",
       "440               8     2480000       27.11           2018-03-12      0   \n",
       "508               0     3375000       34.40           2017-03-28      0   \n",
       "608               2     1850000       25.00           2019-02-20      0   \n",
       "...             ...         ...         ...                  ...    ...   \n",
       "23210             7     3200000       26.00           2017-09-01      0   \n",
       "23442             0     2500000       27.70           2017-09-28      0   \n",
       "23554            15     3350000       26.00           2018-09-07      0   \n",
       "23592            10     1450000       29.00           2017-11-11      0   \n",
       "23637             8     2350000       26.00           2018-06-26      0   \n",
       "\n",
       "       ceiling_height  floors_total  living_area  floor is_apartment  ...  \\\n",
       "144               NaN          24.0        15.50      2          NaN  ...   \n",
       "349               NaN          14.0        17.00      1          NaN  ...   \n",
       "440               NaN          17.0        24.75      4          NaN  ...   \n",
       "508               NaN          26.0        24.30     19          NaN  ...   \n",
       "608               NaN          10.0          NaN      7          NaN  ...   \n",
       "...               ...           ...          ...    ...          ...  ...   \n",
       "23210             NaN          25.0        18.00     16          NaN  ...   \n",
       "23442             NaN          24.0        18.00      4          NaN  ...   \n",
       "23554             NaN          19.0          NaN      8          NaN  ...   \n",
       "23592             NaN           9.0        18.00      8          NaN  ...   \n",
       "23637             NaN          25.0        17.00      4          NaN  ...   \n",
       "\n",
       "       kitchen_area  balcony      locality_name  airports_nearest  \\\n",
       "144             NaN      2.0     посёлок Мурино               NaN   \n",
       "349             NaN      0.0    деревня Кудрово               NaN   \n",
       "440             NaN      2.0    Санкт-Петербург           38171.0   \n",
       "508             NaN      1.0  посёлок Парголово           53115.0   \n",
       "608             NaN      NaN     посёлок Шушары               NaN   \n",
       "...             ...      ...                ...               ...   \n",
       "23210           NaN      0.0    Санкт-Петербург           11405.0   \n",
       "23442           NaN      2.0     посёлок Мурино               NaN   \n",
       "23554           NaN      NaN    Санкт-Петербург           18090.0   \n",
       "23592           NaN      2.0         Никольское               NaN   \n",
       "23637           NaN      2.0      посёлок Бугры               NaN   \n",
       "\n",
       "      cityCenters_nearest  parks_around3000  parks_nearest  ponds_around3000  \\\n",
       "144                   NaN               NaN            NaN               NaN   \n",
       "349                   NaN               NaN            NaN               NaN   \n",
       "440               15015.0               0.0            NaN               2.0   \n",
       "508               19292.0               0.0            NaN               1.0   \n",
       "608                   NaN               NaN            NaN               NaN   \n",
       "...                   ...               ...            ...               ...   \n",
       "23210             13222.0               0.0            NaN               1.0   \n",
       "23442                 NaN               NaN            NaN               NaN   \n",
       "23554             17092.0               0.0            NaN               2.0   \n",
       "23592                 NaN               NaN            NaN               NaN   \n",
       "23637                 NaN               NaN            NaN               NaN   \n",
       "\n",
       "       ponds_nearest  days_exposition  \n",
       "144              NaN            181.0  \n",
       "349              NaN             45.0  \n",
       "440            982.0             64.0  \n",
       "508            593.0            430.0  \n",
       "608              NaN             29.0  \n",
       "...              ...              ...  \n",
       "23210          623.0             14.0  \n",
       "23442            NaN              4.0  \n",
       "23554          112.0             31.0  \n",
       "23592            NaN             82.0  \n",
       "23637            NaN            207.0  \n",
       "\n",
       "[197 rows x 22 columns]"
      ]
     },
     "execution_count": 14,
     "metadata": {},
     "output_type": "execute_result"
    }
   ],
   "source": [
    "# посмотрю на данные таблицы с нулевым количеством комнат:\n",
    "df.query('rooms == 0 and (open_plan == True or studio == True)')"
   ]
  },
  {
   "cell_type": "markdown",
   "metadata": {},
   "source": [
    "По ряду признаков - это квартиры-студии, либо со свободной планировкой. Вероятно это \n",
    "особенность обозначения такого типа жилья."
   ]
  },
  {
   "cell_type": "code",
   "execution_count": 15,
   "metadata": {},
   "outputs": [
    {
     "name": "stdout",
     "output_type": "stream",
     "text": [
      "149\n"
     ]
    },
    {
     "data": {
      "text/plain": [
       "0    138\n",
       "1     11\n",
       "Name: rooms, dtype: int64"
      ]
     },
     "execution_count": 15,
     "metadata": {},
     "output_type": "execute_result"
    }
   ],
   "source": [
    "# для проверки уточним количество комнат во всех студиях\n",
    "print(len(df.query('studio == True')))\n",
    "# уникальные значения количества комнат\n",
    "df.query('studio == True')['rooms'].value_counts()"
   ]
  },
  {
   "cell_type": "markdown",
   "metadata": {},
   "source": [
    "Единого мнения, как видим нет, некоторые пользователи считают, что комната все же есть. "
   ]
  },
  {
   "cell_type": "code",
   "execution_count": 16,
   "metadata": {},
   "outputs": [
    {
     "data": {
      "text/plain": [
       "0    149\n",
       "Name: rooms, dtype: int64"
      ]
     },
     "execution_count": 16,
     "metadata": {},
     "output_type": "execute_result"
    }
   ],
   "source": [
    "# cделаю однообразно, заменю 1 на 0 в 11 объявлениях, все же пространство единое (комната и кухня)\n",
    "df.loc[(df['rooms'] == 1) & (df['studio']==True),'rooms'] = 0\n",
    "# проверяю\n",
    "df.query('studio == True')['rooms'] .value_counts()"
   ]
  },
  {
   "cell_type": "markdown",
   "metadata": {},
   "source": [
    "Столбец rooms: замечаний нет."
   ]
  },
  {
   "cell_type": "code",
   "execution_count": 17,
   "metadata": {},
   "outputs": [
    {
     "data": {
      "text/plain": [
       "count    14504.000000\n",
       "mean         2.771499\n",
       "std          1.261056\n",
       "min          1.000000\n",
       "25%          2.520000\n",
       "50%          2.650000\n",
       "75%          2.800000\n",
       "max        100.000000\n",
       "Name: ceiling_height, dtype: float64"
      ]
     },
     "execution_count": 17,
     "metadata": {},
     "output_type": "execute_result"
    }
   ],
   "source": [
    "df['ceiling_height'].describe()\n",
    "#df['ceiling_height'].value_counts()\n",
    "#df['ceiling_height'].unique()"
   ]
  },
  {
   "cell_type": "markdown",
   "metadata": {},
   "source": [
    "Столбец ceiling_height: мин высота 1м? макс высота 100?, есть пропущенные значения?, тип данных float ок. Причина пропусков вероятнее всего в игнорировании пользователями заполнения такого рода данных.\n"
   ]
  },
  {
   "cell_type": "code",
   "execution_count": 18,
   "metadata": {},
   "outputs": [
    {
     "data": {
      "text/html": [
       "<div>\n",
       "<style scoped>\n",
       "    .dataframe tbody tr th:only-of-type {\n",
       "        vertical-align: middle;\n",
       "    }\n",
       "\n",
       "    .dataframe tbody tr th {\n",
       "        vertical-align: top;\n",
       "    }\n",
       "\n",
       "    .dataframe thead th {\n",
       "        text-align: right;\n",
       "    }\n",
       "</style>\n",
       "<table border=\"1\" class=\"dataframe\">\n",
       "  <thead>\n",
       "    <tr style=\"text-align: right;\">\n",
       "      <th></th>\n",
       "      <th>total_images</th>\n",
       "      <th>last_price</th>\n",
       "      <th>total_area</th>\n",
       "      <th>first_day_exposition</th>\n",
       "      <th>rooms</th>\n",
       "      <th>ceiling_height</th>\n",
       "      <th>floors_total</th>\n",
       "      <th>living_area</th>\n",
       "      <th>floor</th>\n",
       "      <th>is_apartment</th>\n",
       "      <th>...</th>\n",
       "      <th>kitchen_area</th>\n",
       "      <th>balcony</th>\n",
       "      <th>locality_name</th>\n",
       "      <th>airports_nearest</th>\n",
       "      <th>cityCenters_nearest</th>\n",
       "      <th>parks_around3000</th>\n",
       "      <th>parks_nearest</th>\n",
       "      <th>ponds_around3000</th>\n",
       "      <th>ponds_nearest</th>\n",
       "      <th>days_exposition</th>\n",
       "    </tr>\n",
       "  </thead>\n",
       "  <tbody>\n",
       "  </tbody>\n",
       "</table>\n",
       "<p>0 rows × 22 columns</p>\n",
       "</div>"
      ],
      "text/plain": [
       "Empty DataFrame\n",
       "Columns: [total_images, last_price, total_area, first_day_exposition, rooms, ceiling_height, floors_total, living_area, floor, is_apartment, studio, open_plan, kitchen_area, balcony, locality_name, airports_nearest, cityCenters_nearest, parks_around3000, parks_nearest, ponds_around3000, ponds_nearest, days_exposition]\n",
       "Index: []\n",
       "\n",
       "[0 rows x 22 columns]"
      ]
     },
     "execution_count": 18,
     "metadata": {},
     "output_type": "execute_result"
    }
   ],
   "source": [
    "# заполню пропуски высот потолков медианой, это надежно\n",
    "height_median = df['ceiling_height'].median()\n",
    "df['ceiling_height'] = df['ceiling_height'].fillna(height_median)\n",
    "\n",
    "# проверю\n",
    "df.query('ceiling_height.isna()')"
   ]
  },
  {
   "cell_type": "markdown",
   "metadata": {},
   "source": [
    "Столбец ceiling_height: замечаний нет."
   ]
  },
  {
   "cell_type": "code",
   "execution_count": 19,
   "metadata": {},
   "outputs": [
    {
     "data": {
      "text/plain": [
       "count    23613.000000\n",
       "mean        10.673824\n",
       "std          6.597173\n",
       "min          1.000000\n",
       "25%          5.000000\n",
       "50%          9.000000\n",
       "75%         16.000000\n",
       "max         60.000000\n",
       "Name: floors_total, dtype: float64"
      ]
     },
     "execution_count": 19,
     "metadata": {},
     "output_type": "execute_result"
    }
   ],
   "source": [
    "df['floors_total'].describe()\n",
    "#df['floors_total'].value_counts()\n",
    "#df['floors_total'].unique()"
   ]
  },
  {
   "cell_type": "markdown",
   "metadata": {},
   "source": [
    "Столбец floors_total: мин значение 1, макс 60, есть пропуски в данных, тип данных float? Поскольку невозможно выяснить этажность, удалим строки, их немного, и поменяем тип данных на int."
   ]
  },
  {
   "cell_type": "code",
   "execution_count": 20,
   "metadata": {},
   "outputs": [
    {
     "data": {
      "text/plain": [
       "0"
      ]
     },
     "execution_count": 20,
     "metadata": {},
     "output_type": "execute_result"
    }
   ],
   "source": [
    "# удалю строки с пропусками\n",
    "df = df.dropna( subset=['floors_total'])\n",
    "# проверяю\n",
    "df['floors_total'].isna().sum()"
   ]
  },
  {
   "cell_type": "code",
   "execution_count": 21,
   "metadata": {},
   "outputs": [],
   "source": [
    "# заменю тип данных на int\n",
    "df['floors_total'] = df['floors_total'].astype(int)"
   ]
  },
  {
   "cell_type": "markdown",
   "metadata": {},
   "source": [
    "Столбец floors_total: замечаний нет."
   ]
  },
  {
   "cell_type": "code",
   "execution_count": 22,
   "metadata": {},
   "outputs": [
    {
     "data": {
      "text/plain": [
       "count    21743.000000\n",
       "mean        34.462781\n",
       "std         22.037433\n",
       "min          2.000000\n",
       "25%         18.600000\n",
       "50%         30.000000\n",
       "75%         42.300000\n",
       "max        409.700000\n",
       "Name: living_area, dtype: float64"
      ]
     },
     "execution_count": 22,
     "metadata": {},
     "output_type": "execute_result"
    }
   ],
   "source": [
    "df['living_area'].describe()\n",
    "#df['living_area'].value_counts()\n",
    "#df['living_area'].unique()"
   ]
  },
  {
   "cell_type": "markdown",
   "metadata": {},
   "source": [
    "Столбец living_area: жилая площадь мин 2 м2, макс 409,7 м2, есть пропуски? тип данных float ок."
   ]
  },
  {
   "cell_type": "code",
   "execution_count": 23,
   "metadata": {},
   "outputs": [
    {
     "data": {
      "text/plain": [
       "0"
      ]
     },
     "execution_count": 23,
     "metadata": {},
     "output_type": "execute_result"
    }
   ],
   "source": [
    "# пропуски жилой площади заменю на отношение средней жилой площади к жилой площади в строке\n",
    "living_ratio = df['living_area'].mean() / df['total_area'].mean()\n",
    "df['living_area'].fillna(living_ratio * df['total_area'], inplace=True)\n",
    "# проверим заполнение\n",
    "df['living_area'].isna().sum()"
   ]
  },
  {
   "cell_type": "code",
   "execution_count": 24,
   "metadata": {},
   "outputs": [
    {
     "data": {
      "text/plain": [
       "0"
      ]
     },
     "execution_count": 24,
     "metadata": {},
     "output_type": "execute_result"
    }
   ],
   "source": [
    "# проверю нет ли нарушений логики, жилая площадь не может быть больше общей площади\n",
    "df.query('living_area > total_area')['living_area'].count()"
   ]
  },
  {
   "cell_type": "markdown",
   "metadata": {},
   "source": [
    "Столбец living_area: замечаний нет."
   ]
  },
  {
   "cell_type": "code",
   "execution_count": 25,
   "metadata": {},
   "outputs": [
    {
     "data": {
      "text/plain": [
       "count    23613.000000\n",
       "mean         5.877313\n",
       "std          4.873539\n",
       "min          1.000000\n",
       "25%          2.000000\n",
       "50%          4.000000\n",
       "75%          8.000000\n",
       "max         33.000000\n",
       "Name: floor, dtype: float64"
      ]
     },
     "execution_count": 25,
     "metadata": {},
     "output_type": "execute_result"
    }
   ],
   "source": [
    "df['floor'].describe()\n",
    "#df['floor'].value_counts()\n",
    "#df['floor'].unique()"
   ]
  },
  {
   "cell_type": "markdown",
   "metadata": {},
   "source": [
    "Столбец floor: этаж мин 1, макс 33, пропущенных значений нет, тип данных ок, замечаний нет."
   ]
  },
  {
   "cell_type": "code",
   "execution_count": 26,
   "metadata": {},
   "outputs": [
    {
     "data": {
      "text/plain": [
       "count      2775\n",
       "unique        2\n",
       "top       False\n",
       "freq       2725\n",
       "Name: is_apartment, dtype: object"
      ]
     },
     "execution_count": 26,
     "metadata": {},
     "output_type": "execute_result"
    }
   ],
   "source": [
    "df['is_apartment'].describe()"
   ]
  },
  {
   "cell_type": "markdown",
   "metadata": {},
   "source": [
    "Столбец is_apartment: есть пропуски, булев тип данных, важный параметр, влияющий на цену при прочих равных"
   ]
  },
  {
   "cell_type": "code",
   "execution_count": 27,
   "metadata": {},
   "outputs": [
    {
     "data": {
      "text/plain": [
       "0"
      ]
     },
     "execution_count": 27,
     "metadata": {},
     "output_type": "execute_result"
    }
   ],
   "source": [
    "# пропущенные значения апартаментов заменю на False\n",
    "df['is_apartment'] = df['is_apartment'].fillna(False)\n",
    "# проверю\n",
    "df['is_apartment'].isna().sum()"
   ]
  },
  {
   "cell_type": "markdown",
   "metadata": {},
   "source": [
    "Столбец is_apartment: замечаний нет"
   ]
  },
  {
   "cell_type": "code",
   "execution_count": 28,
   "metadata": {},
   "outputs": [
    {
     "data": {
      "text/plain": [
       "count     23613\n",
       "unique        2\n",
       "top       False\n",
       "freq      23467\n",
       "Name: studio, dtype: object"
      ]
     },
     "execution_count": 28,
     "metadata": {},
     "output_type": "execute_result"
    }
   ],
   "source": [
    "df['studio'].describe()"
   ]
  },
  {
   "cell_type": "markdown",
   "metadata": {},
   "source": [
    "Столбец studio: пропусков нет, тип данных bool ок, замечаний нет."
   ]
  },
  {
   "cell_type": "code",
   "execution_count": 29,
   "metadata": {},
   "outputs": [
    {
     "data": {
      "text/plain": [
       "count     23613\n",
       "unique        2\n",
       "top       False\n",
       "freq      23546\n",
       "Name: open_plan, dtype: object"
      ]
     },
     "execution_count": 29,
     "metadata": {},
     "output_type": "execute_result"
    }
   ],
   "source": [
    "df['open_plan'].describe()"
   ]
  },
  {
   "cell_type": "markdown",
   "metadata": {},
   "source": [
    "Столбец open_plan: пропусков нет, тип данных bool ок, замечаний нет."
   ]
  },
  {
   "cell_type": "code",
   "execution_count": 30,
   "metadata": {},
   "outputs": [
    {
     "data": {
      "text/plain": [
       "count    21382.000000\n",
       "mean        10.564128\n",
       "std          5.904316\n",
       "min          1.300000\n",
       "25%          7.000000\n",
       "50%          9.100000\n",
       "75%         12.000000\n",
       "max        112.000000\n",
       "Name: kitchen_area, dtype: float64"
      ]
     },
     "execution_count": 30,
     "metadata": {},
     "output_type": "execute_result"
    }
   ],
   "source": [
    "df['kitchen_area'].describe()\n",
    "#df['kitchen_area'].value_counts()\n",
    "#df['kitchen_area'].unique()"
   ]
  },
  {
   "cell_type": "markdown",
   "metadata": {},
   "source": [
    "Столбец kitchen_area: площадь кухни мин 1.3 м2, макс 112 м2, есть пропуски - \n",
    "возможно ошибка выгрузки или человеческий фактор, тип данных float ок."
   ]
  },
  {
   "cell_type": "code",
   "execution_count": 31,
   "metadata": {},
   "outputs": [
    {
     "data": {
      "text/plain": [
       "0"
      ]
     },
     "execution_count": 31,
     "metadata": {},
     "output_type": "execute_result"
    }
   ],
   "source": [
    "# пропуски площади кухни заменю на отношение средней площади кухни к жилой площади в строке\n",
    "kitchen_ratio = df['kitchen_area'].mean() / df['total_area'].mean()\n",
    "df['kitchen_area'].fillna(kitchen_ratio * df['total_area'], inplace=True)\n",
    "# проверю\n",
    "df['kitchen_area'].isna().sum()"
   ]
  },
  {
   "cell_type": "markdown",
   "metadata": {},
   "source": [
    "Столбец kitchen_area: замечаний нет."
   ]
  },
  {
   "cell_type": "code",
   "execution_count": 32,
   "metadata": {},
   "outputs": [
    {
     "data": {
      "text/plain": [
       "count    12133.000000\n",
       "mean         1.154208\n",
       "std          1.071022\n",
       "min          0.000000\n",
       "25%          0.000000\n",
       "50%          1.000000\n",
       "75%          2.000000\n",
       "max          5.000000\n",
       "Name: balcony, dtype: float64"
      ]
     },
     "execution_count": 32,
     "metadata": {},
     "output_type": "execute_result"
    }
   ],
   "source": [
    "df['balcony'].describe()\n",
    "#df['balcony'].value_counts()\n",
    "#df['balcony'].unique()"
   ]
  },
  {
   "cell_type": "markdown",
   "metadata": {},
   "source": [
    "Столбец balcony: есть пропущенные значения, тип float заменим на int"
   ]
  },
  {
   "cell_type": "code",
   "execution_count": 33,
   "metadata": {},
   "outputs": [
    {
     "data": {
      "text/plain": [
       "0"
      ]
     },
     "execution_count": 33,
     "metadata": {},
     "output_type": "execute_result"
    }
   ],
   "source": [
    "# пропущенные значения заменю на нули, скорее всего балконов просто нет, заодно поменяю тип данных\n",
    "df['balcony'] = df['balcony'].fillna(value=0).astype(int)\n",
    "# проверка\n",
    "df['balcony'].isna().sum()"
   ]
  },
  {
   "cell_type": "markdown",
   "metadata": {},
   "source": [
    "Столбец balcony: замечаний нет"
   ]
  },
  {
   "cell_type": "code",
   "execution_count": 34,
   "metadata": {},
   "outputs": [
    {
     "data": {
      "text/plain": [
       "count               23565\n",
       "unique                364\n",
       "top       Санкт-Петербург\n",
       "freq                15651\n",
       "Name: locality_name, dtype: object"
      ]
     },
     "execution_count": 34,
     "metadata": {},
     "output_type": "execute_result"
    }
   ],
   "source": [
    "df['locality_name'].describe()\n",
    "#df['locality_name'].value_counts()\n",
    "#df['locality_name'].unique()"
   ]
  },
  {
   "cell_type": "markdown",
   "metadata": {},
   "source": [
    "Столбец locality_name: есть пропуски в названии населенного пункта, при изучении уникальных значений выявлены неявные дубликаты: различное написания одного населенного пункта затрудняет сортировку и дальнейшую работу с данными, например поселок/посёлок, а также наименование без указания типа населенного пункта. "
   ]
  },
  {
   "cell_type": "code",
   "execution_count": 35,
   "metadata": {},
   "outputs": [
    {
     "data": {
      "text/plain": [
       "365"
      ]
     },
     "execution_count": 35,
     "metadata": {},
     "output_type": "execute_result"
    }
   ],
   "source": [
    "# количество значений до обработки данных\n",
    "len(df['locality_name'].unique())"
   ]
  },
  {
   "cell_type": "code",
   "execution_count": 36,
   "metadata": {},
   "outputs": [
    {
     "data": {
      "text/plain": [
       "0"
      ]
     },
     "execution_count": 36,
     "metadata": {},
     "output_type": "execute_result"
    }
   ],
   "source": [
    "# удалю пропуски, восстановить название невозможно\n",
    "df = df.dropna(subset=['locality_name'])\n",
    "# проверю\n",
    "df['locality_name'].isna().sum()"
   ]
  },
  {
   "cell_type": "code",
   "execution_count": 37,
   "metadata": {},
   "outputs": [
    {
     "data": {
      "text/plain": [
       "['Агалатово',\n",
       " 'Александровская',\n",
       " 'Алексеевка',\n",
       " 'Аннино',\n",
       " 'Аро',\n",
       " 'Барышево',\n",
       " 'Батово',\n",
       " 'Бегуницы',\n",
       " 'Белогорка',\n",
       " 'Белоостров',\n",
       " 'Бокситогорск',\n",
       " 'Большая Вруда',\n",
       " 'Большая Ижора',\n",
       " 'Большая Пустомержа',\n",
       " 'Большие Колпаны',\n",
       " 'Большое Рейзино',\n",
       " 'Большой Сабск',\n",
       " 'Бор',\n",
       " 'Борисова Грива',\n",
       " 'Бугры',\n",
       " 'Будогощь',\n",
       " 'Ваганово',\n",
       " 'Важины',\n",
       " 'Вартемяги',\n",
       " 'Вахнова Кара',\n",
       " 'Вещево',\n",
       " 'Виллози',\n",
       " 'Вознесенье',\n",
       " 'Возрождение',\n",
       " 'Войсковицы',\n",
       " 'Войскорово',\n",
       " 'Володарское',\n",
       " 'Волосово',\n",
       " 'Волхов',\n",
       " 'Всеволожск',\n",
       " 'Выборг',\n",
       " 'Вырица',\n",
       " 'Выскатка',\n",
       " 'Высокоключевой',\n",
       " 'Высоцк',\n",
       " 'Гаврилово',\n",
       " 'Гарболово',\n",
       " 'Гатчина',\n",
       " 'Гладкое',\n",
       " 'Глажево',\n",
       " 'Глебычево',\n",
       " 'Глинка',\n",
       " 'Гончарово',\n",
       " 'Горбунки',\n",
       " 'Гостилицы',\n",
       " 'Громово',\n",
       " 'Дзержинского',\n",
       " 'Дружная Горка',\n",
       " 'Дружноселье',\n",
       " 'Дубровка',\n",
       " 'Елизаветино',\n",
       " 'Ефимовский',\n",
       " 'Жилгородок',\n",
       " 'Жилпосёлок',\n",
       " 'Житково',\n",
       " 'Заводской',\n",
       " 'Заклинье',\n",
       " 'Заневка',\n",
       " 'Запорожское',\n",
       " 'Зеленогорск',\n",
       " 'Зимитицы',\n",
       " 'Ивангород',\n",
       " 'Извара',\n",
       " 'Ильичёво',\n",
       " 'Иссад',\n",
       " 'Калитино',\n",
       " 'Каложицы',\n",
       " 'Кальтино',\n",
       " 'Каменногорск',\n",
       " 'Камышовка',\n",
       " 'Каськово',\n",
       " 'Келози',\n",
       " 'Кивеннапа Север',\n",
       " 'Кикерино',\n",
       " 'Кингисепп',\n",
       " 'Кингисеппский',\n",
       " 'Кипень',\n",
       " 'Кириши',\n",
       " 'Кировск',\n",
       " 'Кирпичное',\n",
       " 'Кисельня',\n",
       " 'Кобралово',\n",
       " 'Кобринское',\n",
       " 'Колпино',\n",
       " 'Колтуши',\n",
       " 'Коммунар',\n",
       " 'Коммунары',\n",
       " 'Кондратьево',\n",
       " 'Копорье',\n",
       " 'Коркино',\n",
       " 'Корнево',\n",
       " 'Коробицыно',\n",
       " 'Котельский',\n",
       " 'Котлы',\n",
       " 'Красная Долина',\n",
       " 'Красное Село',\n",
       " 'Красносельское',\n",
       " 'Красный Бор',\n",
       " 'Кривко',\n",
       " 'Кронштадт',\n",
       " 'Кудрово',\n",
       " 'Кузнечное',\n",
       " 'Кузьмолово',\n",
       " 'Кузьмоловский',\n",
       " 'Курковицы',\n",
       " 'Куровицы',\n",
       " 'Куттузи',\n",
       " 'Лаврики',\n",
       " 'Лаголово',\n",
       " 'Лампово',\n",
       " 'Лебяжье',\n",
       " 'Левашово',\n",
       " 'Ленинское',\n",
       " 'Лесколово',\n",
       " 'Лесная Поляна',\n",
       " 'Лесное',\n",
       " 'Лесогорский',\n",
       " 'Лисий Нос',\n",
       " 'Лодейное Поле',\n",
       " 'Ломоносов',\n",
       " 'Лопухинка',\n",
       " 'Луга',\n",
       " 'Лужайка',\n",
       " 'Лукаши',\n",
       " 'Лупполово',\n",
       " 'Любань',\n",
       " 'Малая Романовка',\n",
       " 'Малое Верево',\n",
       " 'Малое Карлино',\n",
       " 'Малые Колпаны',\n",
       " 'Мануйлово',\n",
       " 'Мга',\n",
       " 'Мельниково',\n",
       " 'Меньково',\n",
       " 'Металлострой',\n",
       " 'Мины',\n",
       " 'Мистолово',\n",
       " 'Мичуринское',\n",
       " 'Молодцово',\n",
       " 'Молодёжное',\n",
       " 'Мурино',\n",
       " 'Мыза-Ивановка',\n",
       " 'Назия',\n",
       " 'Ненимяки',\n",
       " 'Нижние Осельки',\n",
       " 'Нижняя',\n",
       " 'Низино',\n",
       " 'Никольский',\n",
       " 'Никольское',\n",
       " 'Новая Ладога',\n",
       " 'Новая Ропша',\n",
       " 'Новогорелово',\n",
       " 'Новое Девяткино',\n",
       " 'Новолисино',\n",
       " 'Новоселье',\n",
       " 'Новый Свет',\n",
       " 'Новый Учхоз',\n",
       " 'Нурма',\n",
       " 'Оредеж',\n",
       " 'Оржицы',\n",
       " 'Отрадное',\n",
       " 'Павлово',\n",
       " 'Павловск',\n",
       " 'Пансионат Зелёный Бор',\n",
       " 'Парголово',\n",
       " 'Парицы',\n",
       " 'Паша',\n",
       " 'Пельгора',\n",
       " 'Пеники',\n",
       " 'Первомайское',\n",
       " 'Перово',\n",
       " 'Песочный',\n",
       " 'Петергоф',\n",
       " 'Петро-Славянка',\n",
       " 'Петровское',\n",
       " 'Пижма',\n",
       " 'Пикалёво',\n",
       " 'Пикколово',\n",
       " 'Платформа 69-й километр',\n",
       " 'Плодовое',\n",
       " 'Плоское',\n",
       " 'Победа',\n",
       " 'Подпорожье',\n",
       " 'Поляны',\n",
       " 'Понтонный',\n",
       " 'Почап',\n",
       " 'Починок',\n",
       " 'Приветнинское',\n",
       " 'Пригородный',\n",
       " 'Приладожский',\n",
       " 'Приморск',\n",
       " 'Приозерск',\n",
       " 'Пудомяги',\n",
       " 'Пудость',\n",
       " 'Пустынка',\n",
       " 'Путилово',\n",
       " 'Пушкин',\n",
       " 'Пушное',\n",
       " 'Пчева',\n",
       " 'Пчевжа',\n",
       " 'Рабитицы',\n",
       " 'Разбегаево',\n",
       " 'Раздолье',\n",
       " 'Разметелево',\n",
       " 'Рапполово',\n",
       " 'Рахья',\n",
       " 'Реброво',\n",
       " 'Репино',\n",
       " 'Рождествено',\n",
       " 'Романовка',\n",
       " 'Ромашки',\n",
       " 'Ропша',\n",
       " 'Рощино',\n",
       " 'Русско',\n",
       " 'Русско-Высоцкое',\n",
       " 'Рябово',\n",
       " 'Садко',\n",
       " 'Санкт-Петербург',\n",
       " 'Сапёрное',\n",
       " 'Сапёрный',\n",
       " 'Светогорск',\n",
       " 'Свирь',\n",
       " 'Свирьстрой',\n",
       " 'Севастьяново',\n",
       " 'Селезнёво',\n",
       " 'Сельцо',\n",
       " 'Семиозерье',\n",
       " 'Семрино',\n",
       " 'Серебрянский',\n",
       " 'Сертолово',\n",
       " 'Сестрорецк',\n",
       " 'Сиверский',\n",
       " 'Сижно',\n",
       " 'Синявино',\n",
       " 'Сланцы',\n",
       " 'Снегирёвка',\n",
       " 'Советский',\n",
       " 'Совхозный',\n",
       " 'Сосново',\n",
       " 'Сосновый Бор',\n",
       " 'Старая',\n",
       " 'Старая Ладога',\n",
       " 'Старая Малукса',\n",
       " 'Старая Пустошь',\n",
       " 'Старое Хинколово',\n",
       " 'Старополье',\n",
       " 'Старосиверская',\n",
       " 'Старые Бегуницы',\n",
       " 'Стеклянный',\n",
       " 'Стрельна',\n",
       " 'Суйда',\n",
       " 'Сумино',\n",
       " 'Суоранда',\n",
       " 'Суходолье',\n",
       " 'Счастье',\n",
       " 'Сяськелево',\n",
       " 'Сясьстрой',\n",
       " 'Тайцы',\n",
       " 'Тарасово',\n",
       " 'Тельмана',\n",
       " 'Терволово',\n",
       " 'Терпилицы',\n",
       " 'Тихвин',\n",
       " 'Тихковицы',\n",
       " 'Тойворово',\n",
       " 'Токсово',\n",
       " 'Торковичи',\n",
       " 'Торосово',\n",
       " 'Торошковичи',\n",
       " 'Торфяное',\n",
       " 'Тосно',\n",
       " 'Трубников Бор',\n",
       " 'Тёсово-4',\n",
       " 'Углово',\n",
       " 'Ульяновка',\n",
       " 'Усть-Ижора',\n",
       " 'Усть-Луга',\n",
       " 'Ушаки',\n",
       " 'Фалилеево',\n",
       " 'Форносово',\n",
       " 'Форт Красная Горка',\n",
       " 'Фёдоровское',\n",
       " 'Хапо-Ое',\n",
       " 'Хязельки',\n",
       " 'Цвелодубово',\n",
       " 'Цвылёво',\n",
       " 'Чудской Бор',\n",
       " 'Шлиссельбург',\n",
       " 'Шпаньково',\n",
       " 'Шугозеро',\n",
       " 'Шум',\n",
       " 'Шушары',\n",
       " 'Щеглово',\n",
       " 'Юкки',\n",
       " 'Ялгино',\n",
       " 'Яльгелево',\n",
       " 'Ям-Тесово',\n",
       " 'Янино-1',\n",
       " 'имени Морозова',\n",
       " 'имени Свердлова']"
      ]
     },
     "execution_count": 37,
     "metadata": {},
     "output_type": "execute_result"
    }
   ],
   "source": [
    "# удалю название типа населенного пункта, оставив только его наименование\n",
    "# создам словарь для удаления\n",
    "replace_dict = ['поселок ', 'городского типа ', 'городской ',  'деревня ', \n",
    "                'коттеджный ', 'село ', 'посёлок ', 'при железнодорожной станции ',\n",
    "                'станции ', 'садоводческое некоммерческое товарищество ', 'садовое товарищество ']\n",
    "# функция\n",
    "for value in replace_dict:\n",
    "    df['locality_name'] = df['locality_name'].str.replace(value, '')\n",
    "# посмотрим, что получилось\n",
    "sorted(df['locality_name'].unique())\n"
   ]
  },
  {
   "cell_type": "code",
   "execution_count": 38,
   "metadata": {},
   "outputs": [
    {
     "data": {
      "text/plain": [
       "305"
      ]
     },
     "execution_count": 38,
     "metadata": {},
     "output_type": "execute_result"
    }
   ],
   "source": [
    "# посмотрим сколько осталось значений\n",
    "len(df['locality_name'].unique())"
   ]
  },
  {
   "cell_type": "markdown",
   "metadata": {},
   "source": [
    "Столбец locality_name: замечаний нет, удалены строки, в которых не был указан населенный пункт, а также неявные дубликаты, использовался разный стиль написания, что затруднило бы дальнейший анализ данных. Причина вероятно в разных источниках данных, либо субъективный человеческий фактор при заполнении таблицы. Значения столбца locality_name категоризированы по наименованиям населенных пунктов, количество уникальных значений составило 305 шт. \n"
   ]
  },
  {
   "cell_type": "code",
   "execution_count": 39,
   "metadata": {},
   "outputs": [
    {
     "data": {
      "text/plain": [
       "count    18041.000000\n",
       "mean     28797.082701\n",
       "std      12632.499735\n",
       "min          0.000000\n",
       "25%      18565.000000\n",
       "50%      26757.000000\n",
       "75%      37273.000000\n",
       "max      84869.000000\n",
       "Name: airports_nearest, dtype: float64"
      ]
     },
     "execution_count": 39,
     "metadata": {},
     "output_type": "execute_result"
    }
   ],
   "source": [
    "df['airports_nearest'].describe()\n",
    "#df['airports_nearest'].value_counts()\n",
    "#df['airports_nearest'].unique()"
   ]
  },
  {
   "cell_type": "code",
   "execution_count": 40,
   "metadata": {},
   "outputs": [
    {
     "data": {
      "text/html": [
       "<div>\n",
       "<style scoped>\n",
       "    .dataframe tbody tr th:only-of-type {\n",
       "        vertical-align: middle;\n",
       "    }\n",
       "\n",
       "    .dataframe tbody tr th {\n",
       "        vertical-align: top;\n",
       "    }\n",
       "\n",
       "    .dataframe thead th {\n",
       "        text-align: right;\n",
       "    }\n",
       "</style>\n",
       "<table border=\"1\" class=\"dataframe\">\n",
       "  <thead>\n",
       "    <tr style=\"text-align: right;\">\n",
       "      <th></th>\n",
       "      <th>total_images</th>\n",
       "      <th>last_price</th>\n",
       "      <th>total_area</th>\n",
       "      <th>first_day_exposition</th>\n",
       "      <th>rooms</th>\n",
       "      <th>ceiling_height</th>\n",
       "      <th>floors_total</th>\n",
       "      <th>living_area</th>\n",
       "      <th>floor</th>\n",
       "      <th>is_apartment</th>\n",
       "      <th>...</th>\n",
       "      <th>kitchen_area</th>\n",
       "      <th>balcony</th>\n",
       "      <th>locality_name</th>\n",
       "      <th>airports_nearest</th>\n",
       "      <th>cityCenters_nearest</th>\n",
       "      <th>parks_around3000</th>\n",
       "      <th>parks_nearest</th>\n",
       "      <th>ponds_around3000</th>\n",
       "      <th>ponds_nearest</th>\n",
       "      <th>days_exposition</th>\n",
       "    </tr>\n",
       "  </thead>\n",
       "  <tbody>\n",
       "    <tr>\n",
       "      <th>21085</th>\n",
       "      <td>0</td>\n",
       "      <td>7000000</td>\n",
       "      <td>34.7</td>\n",
       "      <td>2018-09-23</td>\n",
       "      <td>1</td>\n",
       "      <td>2.7</td>\n",
       "      <td>9</td>\n",
       "      <td>19.8</td>\n",
       "      <td>3</td>\n",
       "      <td>False</td>\n",
       "      <td>...</td>\n",
       "      <td>6.0</td>\n",
       "      <td>2</td>\n",
       "      <td>Санкт-Петербург</td>\n",
       "      <td>0.0</td>\n",
       "      <td>22801.0</td>\n",
       "      <td>0.0</td>\n",
       "      <td>NaN</td>\n",
       "      <td>0.0</td>\n",
       "      <td>NaN</td>\n",
       "      <td>60.0</td>\n",
       "    </tr>\n",
       "  </tbody>\n",
       "</table>\n",
       "<p>1 rows × 22 columns</p>\n",
       "</div>"
      ],
      "text/plain": [
       "       total_images  last_price  total_area first_day_exposition  rooms  \\\n",
       "21085             0     7000000        34.7           2018-09-23      1   \n",
       "\n",
       "       ceiling_height  floors_total  living_area  floor  is_apartment  ...  \\\n",
       "21085             2.7             9         19.8      3         False  ...   \n",
       "\n",
       "       kitchen_area  balcony    locality_name  airports_nearest  \\\n",
       "21085           6.0        2  Санкт-Петербург               0.0   \n",
       "\n",
       "      cityCenters_nearest  parks_around3000  parks_nearest  ponds_around3000  \\\n",
       "21085             22801.0               0.0            NaN               0.0   \n",
       "\n",
       "       ponds_nearest  days_exposition  \n",
       "21085            NaN             60.0  \n",
       "\n",
       "[1 rows x 22 columns]"
      ]
     },
     "execution_count": 40,
     "metadata": {},
     "output_type": "execute_result"
    }
   ],
   "source": [
    "# найду и удалю строку, где расстояние до аэропорта = 0\n",
    "df.query('airports_nearest < 50')"
   ]
  },
  {
   "cell_type": "code",
   "execution_count": 41,
   "metadata": {},
   "outputs": [
    {
     "data": {
      "text/html": [
       "<div>\n",
       "<style scoped>\n",
       "    .dataframe tbody tr th:only-of-type {\n",
       "        vertical-align: middle;\n",
       "    }\n",
       "\n",
       "    .dataframe tbody tr th {\n",
       "        vertical-align: top;\n",
       "    }\n",
       "\n",
       "    .dataframe thead th {\n",
       "        text-align: right;\n",
       "    }\n",
       "</style>\n",
       "<table border=\"1\" class=\"dataframe\">\n",
       "  <thead>\n",
       "    <tr style=\"text-align: right;\">\n",
       "      <th></th>\n",
       "      <th>total_images</th>\n",
       "      <th>last_price</th>\n",
       "      <th>total_area</th>\n",
       "      <th>first_day_exposition</th>\n",
       "      <th>rooms</th>\n",
       "      <th>ceiling_height</th>\n",
       "      <th>floors_total</th>\n",
       "      <th>living_area</th>\n",
       "      <th>floor</th>\n",
       "      <th>is_apartment</th>\n",
       "      <th>...</th>\n",
       "      <th>kitchen_area</th>\n",
       "      <th>balcony</th>\n",
       "      <th>locality_name</th>\n",
       "      <th>airports_nearest</th>\n",
       "      <th>cityCenters_nearest</th>\n",
       "      <th>parks_around3000</th>\n",
       "      <th>parks_nearest</th>\n",
       "      <th>ponds_around3000</th>\n",
       "      <th>ponds_nearest</th>\n",
       "      <th>days_exposition</th>\n",
       "    </tr>\n",
       "  </thead>\n",
       "  <tbody>\n",
       "  </tbody>\n",
       "</table>\n",
       "<p>0 rows × 22 columns</p>\n",
       "</div>"
      ],
      "text/plain": [
       "Empty DataFrame\n",
       "Columns: [total_images, last_price, total_area, first_day_exposition, rooms, ceiling_height, floors_total, living_area, floor, is_apartment, studio, open_plan, kitchen_area, balcony, locality_name, airports_nearest, cityCenters_nearest, parks_around3000, parks_nearest, ponds_around3000, ponds_nearest, days_exposition]\n",
       "Index: []\n",
       "\n",
       "[0 rows x 22 columns]"
      ]
     },
     "execution_count": 41,
     "metadata": {},
     "output_type": "execute_result"
    }
   ],
   "source": [
    "df = df.query('airports_nearest != 0')\n",
    "# проверю\n",
    "df.query('airports_nearest < 50')"
   ]
  },
  {
   "cell_type": "markdown",
   "metadata": {},
   "source": [
    "Столбец airports_nearest: расстояние до аэропорта мин 0м, макс 84869м, есть пропуски, тип данных float ок. В объявлениях многих населенных пунктов не указано расстояние до аэропорта. Данное значение определенно заполнялось автоматически, и пропуски свидетельствуют о техническом сбое при заполнении или выгрузке данных. Строка с расстоянием до аэропорта 0м УДАЛЕНА. Без замечаний.\n"
   ]
  },
  {
   "cell_type": "code",
   "execution_count": 42,
   "metadata": {},
   "outputs": [
    {
     "data": {
      "text/plain": [
       "Index(['total_images', 'last_price', 'total_area', 'first_day_exposition',\n",
       "       'rooms', 'ceiling_height', 'floors_total', 'living_area', 'floor',\n",
       "       'is_apartment', 'studio', 'open_plan', 'kitchen_area', 'balcony',\n",
       "       'locality_name', 'airports_nearest', 'city_centers_nearest',\n",
       "       'parks_around_3000', 'parks_nearest', 'ponds_around_3000',\n",
       "       'ponds_nearest', 'days_exposition'],\n",
       "      dtype='object')"
      ]
     },
     "execution_count": 42,
     "metadata": {},
     "output_type": "execute_result"
    }
   ],
   "source": [
    "# приведем все-таки в порядок названия столбцов\n",
    "df = df.rename(\n",
    "    columns={'parks_around3000':'parks_around_3000', \n",
    "             'ponds_around3000':'ponds_around_3000', \n",
    "             'cityCenters_nearest':'city_centers_nearest'}\n",
    ")\n",
    "# проверим изменения\n",
    "df.columns"
   ]
  },
  {
   "cell_type": "markdown",
   "metadata": {},
   "source": [
    "Столбец city_centers_nearest: расстояние до центра города СПб, мин 181м, макс 65968м, есть пропуски, тип данных float ок. Данное значение заполняется автоматически при указании локации объекта недвижимости, пропуски свидетельствуют о техническом сбое при заполнении или выгрузке данных. Замечаний пока нет. Оставил как есть."
   ]
  },
  {
   "cell_type": "code",
   "execution_count": 43,
   "metadata": {},
   "outputs": [
    {
     "data": {
      "text/plain": [
       "count    18064.000000\n",
       "mean         0.611603\n",
       "std          0.802097\n",
       "min          0.000000\n",
       "25%          0.000000\n",
       "50%          0.000000\n",
       "75%          1.000000\n",
       "max          3.000000\n",
       "Name: parks_around_3000, dtype: float64"
      ]
     },
     "execution_count": 43,
     "metadata": {},
     "output_type": "execute_result"
    }
   ],
   "source": [
    "df['parks_around_3000'].describe()\n",
    "#df['parks_around_3000'].value_counts()\n",
    "#df['parks_around_3000'].unique()"
   ]
  },
  {
   "cell_type": "markdown",
   "metadata": {},
   "source": [
    "Столбец parks_around_3000: количество парков в радиусе 3000м, мин 0, макс 3, есть пропуски, тип данных float, надо бы поменять на int"
   ]
  },
  {
   "cell_type": "code",
   "execution_count": 44,
   "metadata": {},
   "outputs": [
    {
     "data": {
      "text/plain": [
       "0"
      ]
     },
     "execution_count": 44,
     "metadata": {},
     "output_type": "execute_result"
    }
   ],
   "source": [
    "# заменим пропуски на 0, поскольку если бы он был, о нем непременно заявили бы\n",
    "df['parks_around_3000'] = df['parks_around_3000'].fillna(value=0).astype(int)\n",
    "# проверю\n",
    "df['parks_around_3000'].isna().sum()\n"
   ]
  },
  {
   "cell_type": "markdown",
   "metadata": {},
   "source": [
    "Столбец parks_around_3000: замечаний нет"
   ]
  },
  {
   "cell_type": "code",
   "execution_count": 45,
   "metadata": {},
   "outputs": [
    {
     "data": {
      "text/plain": [
       "count    8030.000000\n",
       "mean      490.580448\n",
       "std       341.572956\n",
       "min         1.000000\n",
       "25%       288.000000\n",
       "50%       455.000000\n",
       "75%       612.000000\n",
       "max      3190.000000\n",
       "Name: parks_nearest, dtype: float64"
      ]
     },
     "execution_count": 45,
     "metadata": {},
     "output_type": "execute_result"
    }
   ],
   "source": [
    "df['parks_nearest'].describe()\n",
    "#df['parks_nearest'].value_counts()\n",
    "#df['parks_nearest'].unique()"
   ]
  },
  {
   "cell_type": "markdown",
   "metadata": {},
   "source": [
    "Столбец parks_nearest: расстояние до парка мин 1м, макс 3190м, есть пропуски, тип данных float ок. Данные подгружаются автоматически при указании локации объекта, видимо технический сбой, оставлю как есть, а там посмотрим."
   ]
  },
  {
   "cell_type": "code",
   "execution_count": 46,
   "metadata": {},
   "outputs": [
    {
     "data": {
      "text/plain": [
       "0.0    9028\n",
       "1.0    5662\n",
       "2.0    1883\n",
       "3.0    1491\n",
       "Name: ponds_around_3000, dtype: int64"
      ]
     },
     "execution_count": 46,
     "metadata": {},
     "output_type": "execute_result"
    }
   ],
   "source": [
    "df['ponds_around_3000'].describe()\n",
    "df['ponds_around_3000'].value_counts()\n",
    "#df['ponds_around_3000'].unique()"
   ]
  },
  {
   "cell_type": "markdown",
   "metadata": {},
   "source": [
    "Столбец ponds_around_3000: водоемы в радиусе 3000м, мин 0, макс 3, есть пропуски, тип данных float, поменять бы его на целочисленный"
   ]
  },
  {
   "cell_type": "code",
   "execution_count": 47,
   "metadata": {},
   "outputs": [
    {
     "data": {
      "text/html": [
       "<div>\n",
       "<style scoped>\n",
       "    .dataframe tbody tr th:only-of-type {\n",
       "        vertical-align: middle;\n",
       "    }\n",
       "\n",
       "    .dataframe tbody tr th {\n",
       "        vertical-align: top;\n",
       "    }\n",
       "\n",
       "    .dataframe thead th {\n",
       "        text-align: right;\n",
       "    }\n",
       "</style>\n",
       "<table border=\"1\" class=\"dataframe\">\n",
       "  <thead>\n",
       "    <tr style=\"text-align: right;\">\n",
       "      <th></th>\n",
       "      <th>total_images</th>\n",
       "      <th>last_price</th>\n",
       "      <th>total_area</th>\n",
       "      <th>first_day_exposition</th>\n",
       "      <th>rooms</th>\n",
       "      <th>ceiling_height</th>\n",
       "      <th>floors_total</th>\n",
       "      <th>living_area</th>\n",
       "      <th>floor</th>\n",
       "      <th>is_apartment</th>\n",
       "      <th>...</th>\n",
       "      <th>kitchen_area</th>\n",
       "      <th>balcony</th>\n",
       "      <th>locality_name</th>\n",
       "      <th>airports_nearest</th>\n",
       "      <th>city_centers_nearest</th>\n",
       "      <th>parks_around_3000</th>\n",
       "      <th>parks_nearest</th>\n",
       "      <th>ponds_around_3000</th>\n",
       "      <th>ponds_nearest</th>\n",
       "      <th>days_exposition</th>\n",
       "    </tr>\n",
       "  </thead>\n",
       "  <tbody>\n",
       "  </tbody>\n",
       "</table>\n",
       "<p>0 rows × 22 columns</p>\n",
       "</div>"
      ],
      "text/plain": [
       "Empty DataFrame\n",
       "Columns: [total_images, last_price, total_area, first_day_exposition, rooms, ceiling_height, floors_total, living_area, floor, is_apartment, studio, open_plan, kitchen_area, balcony, locality_name, airports_nearest, city_centers_nearest, parks_around_3000, parks_nearest, ponds_around_3000, ponds_nearest, days_exposition]\n",
       "Index: []\n",
       "\n",
       "[0 rows x 22 columns]"
      ]
     },
     "execution_count": 47,
     "metadata": {},
     "output_type": "execute_result"
    }
   ],
   "source": [
    "# приведу в целочисленный тип количество прудов, заменю пропущенные значения на 0\n",
    "df['ponds_around_3000'] = df['ponds_around_3000'].fillna(value=0).astype(int)\n",
    "# проверка\n",
    "df.query('ponds_around_3000.isna()')\n"
   ]
  },
  {
   "cell_type": "markdown",
   "metadata": {},
   "source": [
    "Столбец ponds_around_3000: водоем если он есть, о нем спешат заявить, поэтому пропуск означает отсутствие такового."
   ]
  },
  {
   "cell_type": "code",
   "execution_count": 48,
   "metadata": {},
   "outputs": [
    {
     "data": {
      "text/plain": [
       "count    9036.000000\n",
       "mean      518.289509\n",
       "std       278.009558\n",
       "min        13.000000\n",
       "25%       293.000000\n",
       "50%       503.000000\n",
       "75%       730.000000\n",
       "max      1344.000000\n",
       "Name: ponds_nearest, dtype: float64"
      ]
     },
     "execution_count": 48,
     "metadata": {},
     "output_type": "execute_result"
    }
   ],
   "source": [
    "df['ponds_nearest'].describe()\n",
    "#df['ponds_nearest'].value_counts()\n",
    "#df['ponds_nearest'].unique()"
   ]
  },
  {
   "cell_type": "markdown",
   "metadata": {},
   "source": [
    "Столбец ponds_nearest: расстояние до водоема мин 13м, макс 1344м, есть пропуски, тип данных float ок. Данные подгружаются автоматически при указании локации объекта, видимо технический сбой, оставлю как есть, а там посмотрим. Замечаний нет."
   ]
  },
  {
   "cell_type": "code",
   "execution_count": 49,
   "metadata": {},
   "outputs": [
    {
     "data": {
      "text/plain": [
       "count    20393.000000\n",
       "mean       180.747315\n",
       "std        219.736543\n",
       "min          1.000000\n",
       "25%         45.000000\n",
       "50%         95.000000\n",
       "75%        231.000000\n",
       "max       1580.000000\n",
       "Name: days_exposition, dtype: float64"
      ]
     },
     "execution_count": 49,
     "metadata": {},
     "output_type": "execute_result"
    }
   ],
   "source": [
    "df['days_exposition'].describe()\n",
    "#df['days_exposition'].value_counts()\n",
    "#df['days_exposition'].unique()"
   ]
  },
  {
   "cell_type": "markdown",
   "metadata": {},
   "source": [
    "Столбец days_exposition: количество дней размещения объявления, есть пропуски"
   ]
  },
  {
   "cell_type": "code",
   "execution_count": 50,
   "metadata": {},
   "outputs": [
    {
     "data": {
      "image/png": "[encoded data removed]",
      "text/plain": [
       "<Figure size 432x288 with 1 Axes>"
      ]
     },
     "metadata": {
      "needs_background": "light"
     },
     "output_type": "display_data"
    }
   ],
   "source": [
    "# выберем объявления с пропусками в днях публикации\n",
    "day_na = df.query('days_exposition.isna()')\n",
    "# построим гистограмму по дате размещения\n",
    "day_na['first_day_exposition'].hist(bins=50).set(xlabel='дата размещения объявления',\n",
    "                              ylabel=' количество объявлений', \n",
    "                             title='Распределение количества объявлений с пропусками в days_exposition по датам размещения');\n"
   ]
  },
  {
   "cell_type": "markdown",
   "metadata": {},
   "source": [
    "Вероятно, что эти объявления не были закрыты (квартиры не проданы либо не сняты с продажи). \n",
    "Чем больше дата, тем больше в базе данных объявлений с пропусками в days_exposition. Заполним пропуски из расчета, что они публиковались до самой поздней даты размещения объявления."
   ]
  },
  {
   "cell_type": "code",
   "execution_count": 51,
   "metadata": {},
   "outputs": [
    {
     "data": {
      "text/plain": [
       "3171"
      ]
     },
     "execution_count": 51,
     "metadata": {},
     "output_type": "execute_result"
    }
   ],
   "source": [
    "# уточню количество пропусков\n",
    "df['days_exposition'].isna().sum()"
   ]
  },
  {
   "cell_type": "code",
   "execution_count": 52,
   "metadata": {},
   "outputs": [
    {
     "data": {
      "text/plain": [
       "0"
      ]
     },
     "execution_count": 52,
     "metadata": {},
     "output_type": "execute_result"
    }
   ],
   "source": [
    "# устанавливаю макс дату\n",
    "max_dt = df['first_day_exposition'].max()\n",
    "# заполняю пропуски\n",
    "df.loc[df['days_exposition'].isna(),\n",
    "       'days_exposition'] = (max_dt - df.loc[df['days_exposition'].isna(),\n",
    "       'first_day_exposition']).dt.days\n",
    "# проверяю\n",
    "df['days_exposition'].isna().sum()"
   ]
  },
  {
   "cell_type": "markdown",
   "metadata": {},
   "source": [
    "Столбец days_exposition: замечаний нет"
   ]
  },
  {
   "cell_type": "markdown",
   "metadata": {},
   "source": [
    "   Вывод: \n",
    "   В результате предобработки данных пропуски значений были заполнены в зависимости от ситуации:\n",
    "•\tмедианой по группам значений либо общей медианой по всем значениям,\n",
    "•\tтам, где логически это возможно – конкретными значениями (например False, 0),\n",
    "•\tпропуски значений столбца days_exp заполнены разностью между значением first_day_exp и макс. датой в днях поля first_day_exp. \n",
    "    Когда заполнение пропусков было невозможно, строки были удалены (отсутствие наименования в locality_name, количество этажей в доме floors_total). Значения столбца locality_name категоризированы по наименованиям населенных пунктов. \n",
    "    Также в отдельных случаях пропуски были оставлены без изменений.\n",
    "    Причины пропусков: незаполнение пользователем в случае отсутствия информации, сбор данных из разных источников с изначально отличающейся структурой данных, сбой при выгрузке данных.\n",
    "Во всех столбцах проверены и изменены при необходимости типы данных."
   ]
  },
  {
   "cell_type": "markdown",
   "metadata": {},
   "source": [
    "3 Посчитайте и добавьте в таблицу новые столбцы"
   ]
  },
  {
   "cell_type": "markdown",
   "metadata": {},
   "source": [
    "Добавим столбец с ценой одного квадратного метра и приведем типу int"
   ]
  },
  {
   "cell_type": "code",
   "execution_count": 53,
   "metadata": {},
   "outputs": [],
   "source": [
    "df['price_of_square_meter'] = df['last_price']/df['total_area']\n",
    "df['price_of_square_meter'] = df['price_of_square_meter'].astype(int)"
   ]
  },
  {
   "cell_type": "markdown",
   "metadata": {},
   "source": [
    "Добавим столбец день недели публикации объявления (0 — понедельник, 1 — вторник и так далее)"
   ]
  },
  {
   "cell_type": "code",
   "execution_count": 54,
   "metadata": {},
   "outputs": [],
   "source": [
    "df['day_of_the_week_exposition'] = df['first_day_exposition'].dt.weekday"
   ]
  },
  {
   "cell_type": "markdown",
   "metadata": {},
   "source": [
    "Добавим месяц публикации объявления"
   ]
  },
  {
   "cell_type": "code",
   "execution_count": 55,
   "metadata": {},
   "outputs": [],
   "source": [
    "df['month_exposition'] = df['first_day_exposition'].dt.month"
   ]
  },
  {
   "cell_type": "markdown",
   "metadata": {},
   "source": [
    "Добавим год публикации объявления"
   ]
  },
  {
   "cell_type": "code",
   "execution_count": 56,
   "metadata": {},
   "outputs": [],
   "source": [
    "df['year_exposition'] = df['first_day_exposition'].dt.year"
   ]
  },
  {
   "cell_type": "markdown",
   "metadata": {},
   "source": [
    "Создадим столбец с типом этажа квартиры (значения - \"первый\", \"последний\", \"другой\""
   ]
  },
  {
   "cell_type": "code",
   "execution_count": 57,
   "metadata": {},
   "outputs": [],
   "source": [
    "# напишем функцию для заполнения нового столбца с типом этажа\n",
    "def floor_group(row):\n",
    "    if row['floor'] == 1:\n",
    "        return 'первый'\n",
    "    elif row['floor'] == row['floors_total']:\n",
    "        return 'последний'\n",
    "    else:\n",
    "        return 'другой'\n",
    "df['floor_type'] = df.apply(floor_group, axis=1)"
   ]
  },
  {
   "cell_type": "markdown",
   "metadata": {},
   "source": [
    "Добавим столбец с расстоянием до центра города в километрах"
   ]
  },
  {
   "cell_type": "code",
   "execution_count": 58,
   "metadata": {},
   "outputs": [],
   "source": [
    "df['city_centers_nearest_km'] = round(df['city_centers_nearest'] / 1000, 0)"
   ]
  },
  {
   "cell_type": "code",
   "execution_count": 59,
   "metadata": {},
   "outputs": [
    {
     "data": {
      "text/html": [
       "<div>\n",
       "<style scoped>\n",
       "    .dataframe tbody tr th:only-of-type {\n",
       "        vertical-align: middle;\n",
       "    }\n",
       "\n",
       "    .dataframe tbody tr th {\n",
       "        vertical-align: top;\n",
       "    }\n",
       "\n",
       "    .dataframe thead th {\n",
       "        text-align: right;\n",
       "    }\n",
       "</style>\n",
       "<table border=\"1\" class=\"dataframe\">\n",
       "  <thead>\n",
       "    <tr style=\"text-align: right;\">\n",
       "      <th></th>\n",
       "      <th>total_images</th>\n",
       "      <th>last_price</th>\n",
       "      <th>total_area</th>\n",
       "      <th>first_day_exposition</th>\n",
       "      <th>rooms</th>\n",
       "      <th>ceiling_height</th>\n",
       "      <th>floors_total</th>\n",
       "      <th>living_area</th>\n",
       "      <th>floor</th>\n",
       "      <th>is_apartment</th>\n",
       "      <th>...</th>\n",
       "      <th>parks_nearest</th>\n",
       "      <th>ponds_around_3000</th>\n",
       "      <th>ponds_nearest</th>\n",
       "      <th>days_exposition</th>\n",
       "      <th>price_of_square_meter</th>\n",
       "      <th>day_of_the_week_exposition</th>\n",
       "      <th>month_exposition</th>\n",
       "      <th>year_exposition</th>\n",
       "      <th>floor_type</th>\n",
       "      <th>city_centers_nearest_km</th>\n",
       "    </tr>\n",
       "  </thead>\n",
       "  <tbody>\n",
       "    <tr>\n",
       "      <th>0</th>\n",
       "      <td>20</td>\n",
       "      <td>13000000</td>\n",
       "      <td>108.0</td>\n",
       "      <td>2019-03-07</td>\n",
       "      <td>3</td>\n",
       "      <td>2.70</td>\n",
       "      <td>16</td>\n",
       "      <td>51.000000</td>\n",
       "      <td>8</td>\n",
       "      <td>False</td>\n",
       "      <td>...</td>\n",
       "      <td>482.0</td>\n",
       "      <td>2</td>\n",
       "      <td>755.0</td>\n",
       "      <td>57.0</td>\n",
       "      <td>120370</td>\n",
       "      <td>3</td>\n",
       "      <td>3</td>\n",
       "      <td>2019</td>\n",
       "      <td>другой</td>\n",
       "      <td>16.0</td>\n",
       "    </tr>\n",
       "    <tr>\n",
       "      <th>1</th>\n",
       "      <td>7</td>\n",
       "      <td>3350000</td>\n",
       "      <td>40.4</td>\n",
       "      <td>2018-12-04</td>\n",
       "      <td>1</td>\n",
       "      <td>2.65</td>\n",
       "      <td>11</td>\n",
       "      <td>18.600000</td>\n",
       "      <td>1</td>\n",
       "      <td>False</td>\n",
       "      <td>...</td>\n",
       "      <td>NaN</td>\n",
       "      <td>0</td>\n",
       "      <td>NaN</td>\n",
       "      <td>81.0</td>\n",
       "      <td>82920</td>\n",
       "      <td>1</td>\n",
       "      <td>12</td>\n",
       "      <td>2018</td>\n",
       "      <td>первый</td>\n",
       "      <td>19.0</td>\n",
       "    </tr>\n",
       "    <tr>\n",
       "      <th>2</th>\n",
       "      <td>10</td>\n",
       "      <td>5196000</td>\n",
       "      <td>56.0</td>\n",
       "      <td>2015-08-20</td>\n",
       "      <td>2</td>\n",
       "      <td>2.65</td>\n",
       "      <td>5</td>\n",
       "      <td>34.300000</td>\n",
       "      <td>4</td>\n",
       "      <td>False</td>\n",
       "      <td>...</td>\n",
       "      <td>90.0</td>\n",
       "      <td>2</td>\n",
       "      <td>574.0</td>\n",
       "      <td>558.0</td>\n",
       "      <td>92785</td>\n",
       "      <td>3</td>\n",
       "      <td>8</td>\n",
       "      <td>2015</td>\n",
       "      <td>другой</td>\n",
       "      <td>14.0</td>\n",
       "    </tr>\n",
       "    <tr>\n",
       "      <th>3</th>\n",
       "      <td>0</td>\n",
       "      <td>64900000</td>\n",
       "      <td>159.0</td>\n",
       "      <td>2015-07-24</td>\n",
       "      <td>3</td>\n",
       "      <td>2.65</td>\n",
       "      <td>14</td>\n",
       "      <td>90.810749</td>\n",
       "      <td>9</td>\n",
       "      <td>False</td>\n",
       "      <td>...</td>\n",
       "      <td>84.0</td>\n",
       "      <td>3</td>\n",
       "      <td>234.0</td>\n",
       "      <td>424.0</td>\n",
       "      <td>408176</td>\n",
       "      <td>4</td>\n",
       "      <td>7</td>\n",
       "      <td>2015</td>\n",
       "      <td>другой</td>\n",
       "      <td>7.0</td>\n",
       "    </tr>\n",
       "    <tr>\n",
       "      <th>4</th>\n",
       "      <td>2</td>\n",
       "      <td>10000000</td>\n",
       "      <td>100.0</td>\n",
       "      <td>2018-06-19</td>\n",
       "      <td>2</td>\n",
       "      <td>3.03</td>\n",
       "      <td>14</td>\n",
       "      <td>32.000000</td>\n",
       "      <td>13</td>\n",
       "      <td>False</td>\n",
       "      <td>...</td>\n",
       "      <td>112.0</td>\n",
       "      <td>1</td>\n",
       "      <td>48.0</td>\n",
       "      <td>121.0</td>\n",
       "      <td>100000</td>\n",
       "      <td>1</td>\n",
       "      <td>6</td>\n",
       "      <td>2018</td>\n",
       "      <td>другой</td>\n",
       "      <td>8.0</td>\n",
       "    </tr>\n",
       "  </tbody>\n",
       "</table>\n",
       "<p>5 rows × 28 columns</p>\n",
       "</div>"
      ],
      "text/plain": [
       "   total_images  last_price  total_area first_day_exposition  rooms  \\\n",
       "0            20    13000000       108.0           2019-03-07      3   \n",
       "1             7     3350000        40.4           2018-12-04      1   \n",
       "2            10     5196000        56.0           2015-08-20      2   \n",
       "3             0    64900000       159.0           2015-07-24      3   \n",
       "4             2    10000000       100.0           2018-06-19      2   \n",
       "\n",
       "   ceiling_height  floors_total  living_area  floor  is_apartment  ...  \\\n",
       "0            2.70            16    51.000000      8         False  ...   \n",
       "1            2.65            11    18.600000      1         False  ...   \n",
       "2            2.65             5    34.300000      4         False  ...   \n",
       "3            2.65            14    90.810749      9         False  ...   \n",
       "4            3.03            14    32.000000     13         False  ...   \n",
       "\n",
       "   parks_nearest  ponds_around_3000  ponds_nearest  days_exposition  \\\n",
       "0          482.0                  2          755.0             57.0   \n",
       "1            NaN                  0            NaN             81.0   \n",
       "2           90.0                  2          574.0            558.0   \n",
       "3           84.0                  3          234.0            424.0   \n",
       "4          112.0                  1           48.0            121.0   \n",
       "\n",
       "  price_of_square_meter  day_of_the_week_exposition  month_exposition  \\\n",
       "0                120370                           3                 3   \n",
       "1                 82920                           1                12   \n",
       "2                 92785                           3                 8   \n",
       "3                408176                           4                 7   \n",
       "4                100000                           1                 6   \n",
       "\n",
       "   year_exposition  floor_type  city_centers_nearest_km  \n",
       "0             2019      другой                     16.0  \n",
       "1             2018      первый                     19.0  \n",
       "2             2015      другой                     14.0  \n",
       "3             2015      другой                      7.0  \n",
       "4             2018      другой                      8.0  \n",
       "\n",
       "[5 rows x 28 columns]"
      ]
     },
     "execution_count": 59,
     "metadata": {},
     "output_type": "execute_result"
    }
   ],
   "source": [
    "# посмотрим\n",
    "df.head()"
   ]
  },
  {
   "cell_type": "markdown",
   "metadata": {},
   "source": [
    "Вывод: в датасет были добавлены новые столбцы с заданными параметрами для дальнейшего исследования."
   ]
  },
  {
   "cell_type": "markdown",
   "metadata": {},
   "source": [
    "4 Проведите исследовательский анализ данных"
   ]
  },
  {
   "cell_type": "code",
   "execution_count": 60,
   "metadata": {},
   "outputs": [
    {
     "data": {
      "image/png": "[encoded data removed]",
      "text/plain": [
       "<Figure size 432x288 with 1 Axes>"
      ]
     },
     "metadata": {
      "needs_background": "light"
     },
     "output_type": "display_data"
    },
    {
     "name": "stdout",
     "output_type": "stream",
     "text": [
      "Наибольшие по площади варианты:\n",
      "19540    900.0\n",
      "12859    631.2\n",
      "3117     631.0\n",
      "15651    618.0\n",
      "5358     590.0\n",
      "4237     517.0\n",
      "8018     507.0\n",
      "15016    500.0\n",
      "5893     500.0\n",
      "12401    495.0\n",
      "Name: total_area, dtype: float64\n"
     ]
    }
   ],
   "source": [
    "# изучим общую площадь квартир\n",
    "plt.hist(df['total_area'], bins=30, range=(10,200))\n",
    "plt.title('Общая площадь квартир')\n",
    "plt.xlabel('Квадратные метры')\n",
    "plt.ylabel('Количество квартир')\n",
    "plt.show()\n",
    "print('Наибольшие по площади варианты:')\n",
    "print(df['total_area'].sort_values(ascending=False).head(10))"
   ]
  },
  {
   "cell_type": "markdown",
   "metadata": {},
   "source": [
    "Большинство квартир выставленных на продажу менее 100 квадратных метров. В подборке есть несколько очень больших вариантов с площадью более 200 квадратных метров."
   ]
  },
  {
   "cell_type": "code",
   "execution_count": 61,
   "metadata": {},
   "outputs": [
    {
     "data": {
      "image/png": "[encoded data removed]",
      "text/plain": [
       "<Figure size 432x288 with 1 Axes>"
      ]
     },
     "metadata": {
      "needs_background": "light"
     },
     "output_type": "display_data"
    },
    {
     "name": "stdout",
     "output_type": "stream",
     "text": [
      "Наибольшие по жилой площади варианты:\n",
      "19540    409.700000\n",
      "5358     409.000000\n",
      "3117     360.387312\n",
      "12401    347.500000\n",
      "4237     332.000000\n",
      "12859    322.300000\n",
      "660      312.500000\n",
      "8018     301.500000\n",
      "14088    300.000000\n",
      "5893     285.568393\n",
      "Name: living_area, dtype: float64\n"
     ]
    }
   ],
   "source": [
    "# изучим жилую площадь квартир\n",
    "plt.hist(df['living_area'], bins=70, range=(10,80))\n",
    "plt.title('Жилая площадь')\n",
    "plt.xlabel('Квадратные метры')\n",
    "plt.ylabel('Количество квартир')\n",
    "plt.show()\n",
    "print('Наибольшие по жилой площади варианты:')\n",
    "print(df['living_area'].sort_values(ascending=False).head(10))"
   ]
  },
  {
   "cell_type": "markdown",
   "metadata": {},
   "source": [
    "Самые распространённые варианты с жилой площадью от 10 до 50 метров. После 80 метров встречаются единичные случаи. Два пика графика вызваны, вероятно, тем, что это жилые площади для 1-комнатной, затем для 2-комнатной и после этого для 3-комнатной квартиры."
   ]
  },
  {
   "cell_type": "code",
   "execution_count": 62,
   "metadata": {},
   "outputs": [
    {
     "data": {
      "image/png": "[encoded data removed]",
      "text/plain": [
       "<Figure size 432x288 with 1 Axes>"
      ]
     },
     "metadata": {
      "needs_background": "light"
     },
     "output_type": "display_data"
    },
    {
     "name": "stdout",
     "output_type": "stream",
     "text": [
      "Наибольшие по площади кухни варианты:\n",
      "19540    112.000000\n",
      "20215    107.000000\n",
      "2489     100.700000\n",
      "5358     100.000000\n",
      "16239     93.200000\n",
      "16797     93.000000\n",
      "15016     87.537363\n",
      "10867     87.200000\n",
      "9826      86.504422\n",
      "492       77.000000\n",
      "Name: kitchen_area, dtype: float64\n"
     ]
    }
   ],
   "source": [
    "# изучим площадь кухни\n",
    "plt.hist(df['kitchen_area'], bins=30, range=(0,30))\n",
    "plt.title('Площадь кухни')\n",
    "plt.xlabel('Квадратные метры')\n",
    "plt.ylabel('Количество квартир')\n",
    "plt.show()\n",
    "print('Наибольшие по площади кухни варианты:')\n",
    "print(df['kitchen_area'].sort_values(ascending=False).head(10))"
   ]
  },
  {
   "cell_type": "markdown",
   "metadata": {},
   "source": [
    "Самые распространённые варианты квартир с кухнями от 5 до 15 метров. Больше 20 метров кухни немного. Больше 30 - единичные случаи."
   ]
  },
  {
   "cell_type": "code",
   "execution_count": 63,
   "metadata": {},
   "outputs": [
    {
     "data": {
      "image/png": "[encoded data removed]",
      "text/plain": [
       "<Figure size 432x288 with 1 Axes>"
      ]
     },
     "metadata": {
      "needs_background": "light"
     },
     "output_type": "display_data"
    },
    {
     "name": "stdout",
     "output_type": "stream",
     "text": [
      "Наибольшие по цене варианты:\n",
      "12971    763000000\n",
      "19540    420000000\n",
      "14706    401300000\n",
      "1436     330000000\n",
      "15651    300000000\n",
      "22831    289238400\n",
      "16461    245000000\n",
      "13749    240000000\n",
      "5893     230000000\n",
      "8900     190870000\n",
      "Name: last_price, dtype: int64\n"
     ]
    }
   ],
   "source": [
    "# изучим цены объектов\n",
    "plt.hist(df['last_price'], bins=30, range=(0,20000000))\n",
    "plt.title('Стоимость квартир')\n",
    "plt.xlabel('Стоимость')\n",
    "plt.ylabel('Количество квартир')\n",
    "plt.show()\n",
    "print('Наибольшие по цене варианты:')\n",
    "print(df['last_price'].sort_values(ascending=False).head(10))"
   ]
  },
  {
   "cell_type": "markdown",
   "metadata": {},
   "source": [
    "Основная стоимость квартир в районе 4-5 миллионов рублей. С увеличением цены объявлений становится значительно меньше. Есть яркие представители премиум сегмента в выборке с лидером цены в 763 миллиона рублей."
   ]
  },
  {
   "cell_type": "code",
   "execution_count": 64,
   "metadata": {},
   "outputs": [
    {
     "data": {
      "image/png": "[encoded data removed]",
      "text/plain": [
       "<Figure size 432x288 with 1 Axes>"
      ]
     },
     "metadata": {
      "needs_background": "light"
     },
     "output_type": "display_data"
    },
    {
     "name": "stdout",
     "output_type": "stream",
     "text": [
      "Наибольшие по числу комнат варианты:\n",
      "14498    19\n",
      "18848    16\n",
      "5358     15\n",
      "20829    14\n",
      "866      14\n",
      "19540    12\n",
      "648      11\n",
      "9688     11\n",
      "18891    10\n",
      "18119    10\n",
      "Name: rooms, dtype: int64\n"
     ]
    }
   ],
   "source": [
    "# изучим количество комнат\n",
    "plt.hist(df['rooms'], bins=7, range=(1,7))\n",
    "plt.title('Комнаты')\n",
    "plt.xlabel('Количество комнат')\n",
    "plt.ylabel('Количество квартир')\n",
    "plt.show()\n",
    "print('Наибольшие по числу комнат варианты:')\n",
    "print(df['rooms'].sort_values(ascending=False).head(10))"
   ]
  },
  {
   "cell_type": "markdown",
   "metadata": {},
   "source": [
    "В основном квартиры состоят из 1, 2 и 3 комнат. Есть небольшая доля 4-комнатных квартир. Однако есть и варианты, где больше 7 комнат, их небольшое количество. А вот лидеры с 10-19 комнатами возможно представляют собой загородный дом."
   ]
  },
  {
   "cell_type": "code",
   "execution_count": 65,
   "metadata": {},
   "outputs": [
    {
     "data": {
      "image/png": "[encoded data removed]",
      "text/plain": [
       "<Figure size 432x288 with 1 Axes>"
      ]
     },
     "metadata": {
      "needs_background": "light"
     },
     "output_type": "display_data"
    },
    {
     "name": "stdout",
     "output_type": "stream",
     "text": [
      "Наибольшие по высоте потолков варианты:\n",
      "22869    100.0\n",
      "22336     32.0\n",
      "3148      32.0\n",
      "21377     27.5\n",
      "10773     27.0\n",
      "17857     27.0\n",
      "4876      27.0\n",
      "22938     27.0\n",
      "5246      27.0\n",
      "5807      27.0\n",
      "Name: ceiling_height, dtype: float64\n"
     ]
    }
   ],
   "source": [
    "# изучим потолки\n",
    "plt.hist(df.query('(ceiling_height > 2) & (ceiling_height < 4)')['ceiling_height'], bins=20)\n",
    "plt.title('Высота потолков')\n",
    "plt.xlabel('Метры')\n",
    "plt.ylabel('Количество квартир')\n",
    "plt.show()\n",
    "print('Наибольшие по высоте потолков варианты:')\n",
    "print(df['ceiling_height'].sort_values(ascending=False).head(10))"
   ]
  },
  {
   "cell_type": "markdown",
   "metadata": {},
   "source": [
    "Большинство вариантов имеют высоту потолков от 2,5 до 3 метров. Есть варианты с высотой потолка 4 метра - такие существуют в домах новых проектах. Есть значения в 27 метров (высота 9-этажного дома), 32 метра, 100 метров - это ошибка при заполнении данных пользователем."
   ]
  },
  {
   "cell_type": "code",
   "execution_count": 66,
   "metadata": {},
   "outputs": [
    {
     "data": {
      "text/plain": [
       "3.0      19544\n",
       "2.0       3586\n",
       "4.0        390\n",
       "5.0          9\n",
       "27.0         8\n",
       "25.0         7\n",
       "8.0          4\n",
       "6.0          4\n",
       "1.0          2\n",
       "32.0         2\n",
       "28.0         1\n",
       "100.0        1\n",
       "24.0         1\n",
       "14.0         1\n",
       "26.0         1\n",
       "10.0         1\n",
       "23.0         1\n",
       "20.0         1\n",
       "Name: ceiling_height, dtype: int64"
      ]
     },
     "execution_count": 66,
     "metadata": {},
     "output_type": "execute_result"
    }
   ],
   "source": [
    "# еще внимательней посмотрим на высоту потолков\n",
    "round(df['ceiling_height'],0).value_counts()"
   ]
  },
  {
   "cell_type": "code",
   "execution_count": 67,
   "metadata": {},
   "outputs": [
    {
     "data": {
      "text/plain": [
       "3.0     19556\n",
       "2.0      3596\n",
       "4.0       390\n",
       "5.0         9\n",
       "8.0         4\n",
       "6.0         4\n",
       "10.0        2\n",
       "1.0         2\n",
       "14.0        1\n",
       "Name: ceiling_height, dtype: int64"
      ]
     },
     "execution_count": 67,
     "metadata": {},
     "output_type": "execute_result"
    }
   ],
   "source": [
    "# предположим, что высота потолков более 10 м это ошибка в заполнении данных\n",
    "# поэтому все значения > 19м нужно поделить на 10\n",
    "def ceiling_height_more_ten(row):\n",
    "    if row['ceiling_height'] > 19:\n",
    "        return row['ceiling_height'] * 0.1\n",
    "    else:\n",
    "        return row['ceiling_height']\n",
    "# присвою новые значения\n",
    "df['ceiling_height'] = df.apply(ceiling_height_more_ten, axis=1)\n",
    "# проверю\n",
    "round(df['ceiling_height'],0).value_counts()"
   ]
  },
  {
   "cell_type": "code",
   "execution_count": 68,
   "metadata": {},
   "outputs": [
    {
     "data": {
      "image/png": "[encoded data removed]",
      "text/plain": [
       "<Figure size 432x288 with 1 Axes>"
      ]
     },
     "metadata": {
      "needs_background": "light"
     },
     "output_type": "display_data"
    },
    {
     "name": "stdout",
     "output_type": "stream",
     "text": [
      "Наибольшие по высоте потолков варианты:\n",
      "15061    14.0\n",
      "22309    10.3\n",
      "22869    10.0\n",
      "5863      8.3\n",
      "15743     8.0\n",
      "17442     8.0\n",
      "3474      8.0\n",
      "20264     6.0\n",
      "21227     5.8\n",
      "1388      5.6\n",
      "Name: ceiling_height, dtype: float64\n"
     ]
    }
   ],
   "source": [
    "# изучим потолки\n",
    "plt.hist(df.query('(ceiling_height > 2) & (ceiling_height < 4)')['ceiling_height'], bins=20)\n",
    "plt.title('Высота потолков')\n",
    "plt.xlabel('Метры')\n",
    "plt.ylabel('Количество квартир')\n",
    "plt.show()\n",
    "print('Наибольшие по высоте потолков варианты:')\n",
    "print(df['ceiling_height'].sort_values(ascending=False).head(10))"
   ]
  },
  {
   "cell_type": "markdown",
   "metadata": {},
   "source": [
    "Большинство вариантов имеют высоту потолков от 2,5 до 3 метров. Есть варианты с высотой потолка 4 метра - такие существуют в домах новых проектов. Наибольшие по высоте значение скорее всего имеют отношение к частным домовладениям. Аномально большие значения больше 19 метров привели в чувство."
   ]
  },
  {
   "cell_type": "code",
   "execution_count": 69,
   "metadata": {},
   "outputs": [
    {
     "data": {
      "image/png": "[encoded data removed]",
      "text/plain": [
       "<Figure size 432x288 with 1 Axes>"
      ]
     },
     "metadata": {
      "needs_background": "light"
     },
     "output_type": "display_data"
    }
   ],
   "source": [
    "# изучим этаж квартиры\n",
    "df.plot(kind='hist', title='Этаж квартиры', y='floor', bins=20, figsize=(6,4))\n",
    "plt.show()"
   ]
  },
  {
   "cell_type": "markdown",
   "metadata": {},
   "source": [
    "Большое количество значений до 5-ти этажей включительно. Это говорит о целом ряде предложений из пятиэтажной застройки. Также прослеживается вторая категория от 6 до 9 этажа. Вероятно это дома ранней постройки."
   ]
  },
  {
   "cell_type": "code",
   "execution_count": 70,
   "metadata": {},
   "outputs": [
    {
     "data": {
      "image/png": "[encoded data removed]",
      "text/plain": [
       "<Figure size 432x288 with 1 Axes>"
      ]
     },
     "metadata": {
      "needs_background": "light"
     },
     "output_type": "display_data"
    }
   ],
   "source": [
    "# изучим тип этажа квартиры (\"первый\", \"последний\", \"другой\")\n",
    "df['floor_type'].hist(bins=20, figsize=(6,4))\n",
    "plt.show()"
   ]
  },
  {
   "cell_type": "code",
   "execution_count": 71,
   "metadata": {},
   "outputs": [
    {
     "data": {
      "text/plain": [
       "другой       17325\n",
       "последний     3330\n",
       "первый        2909\n",
       "Name: floor_type, dtype: int64"
      ]
     },
     "execution_count": 71,
     "metadata": {},
     "output_type": "execute_result"
    }
   ],
   "source": [
    "df['floor_type'].value_counts()"
   ]
  },
  {
   "cell_type": "markdown",
   "metadata": {},
   "source": [
    "Ничего определенного сказать немогу кроме соответствия данным в объявлениях."
   ]
  },
  {
   "cell_type": "code",
   "execution_count": 72,
   "metadata": {},
   "outputs": [
    {
     "data": {
      "image/png": "[encoded data removed]",
      "text/plain": [
       "<Figure size 432x288 with 1 Axes>"
      ]
     },
     "metadata": {
      "needs_background": "light"
     },
     "output_type": "display_data"
    }
   ],
   "source": [
    "# изучим общее количество этажей в доме\n",
    "df.plot(kind='hist', title='Этажность дома', y='floors_total', bins=50, figsize=(6,4))\n",
    "plt.show()"
   ]
  },
  {
   "cell_type": "markdown",
   "metadata": {},
   "source": [
    "Подтверждается гипотеза о большом количестве продаваемых квартир в домах этажности 5 и 9 этажей."
   ]
  },
  {
   "cell_type": "code",
   "execution_count": 73,
   "metadata": {},
   "outputs": [
    {
     "data": {
      "image/png": "[encoded data removed]",
      "text/plain": [
       "<Figure size 432x288 with 1 Axes>"
      ]
     },
     "metadata": {
      "needs_background": "light"
     },
     "output_type": "display_data"
    }
   ],
   "source": [
    "# изучим расстояние до центра города в метрах\n",
    "df.plot(kind='hist', title='Расстояние до центра города в метрах', y='city_centers_nearest', \\\n",
    "                  bins=75, figsize=(6,4), range= (0,20000))\n",
    "plt.show()"
   ]
  },
  {
   "cell_type": "markdown",
   "metadata": {},
   "source": [
    "На диаграмме распределения расстояния до центра города несколько пиков. Предположу, что это связано с неравномерностью плотности жилой застройки."
   ]
  },
  {
   "cell_type": "code",
   "execution_count": 74,
   "metadata": {},
   "outputs": [
    {
     "data": {
      "image/png": "[encoded data removed]",
      "text/plain": [
       "<Figure size 432x288 with 1 Axes>"
      ]
     },
     "metadata": {
      "needs_background": "light"
     },
     "output_type": "display_data"
    },
    {
     "name": "stdout",
     "output_type": "stream",
     "text": [
      "Наибольшие расстояния до аэропорта:\n",
      "9640     84869.0\n",
      "5340     84853.0\n",
      "577      84665.0\n",
      "20746    84006.0\n",
      "5218     83758.0\n",
      "18884    81607.0\n",
      "2974     81355.0\n",
      "4441     78527.0\n",
      "939      75646.0\n",
      "376      73827.0\n",
      "Name: airports_nearest, dtype: float64\n"
     ]
    }
   ],
   "source": [
    "# изучим расстояние до ближайшего аэропорта\n",
    "df.plot(kind='hist', title='Расстояние до ближайшего аэропорта', y='airports_nearest', \\\n",
    "                  bins=20, figsize=(6,4))\n",
    "plt.show()\n",
    "print('Наибольшие расстояния до аэропорта:')\n",
    "print(df['airports_nearest'].sort_values(ascending=False).head(10))"
   ]
  },
  {
   "cell_type": "markdown",
   "metadata": {},
   "source": [
    "Большая часть лотов удалена от аэропорта на расстояние от 8 до 60 км. Это не удивительно, учитывая, что аэропорт Пулково для СПб и Ленобласти всего ОДИН."
   ]
  },
  {
   "cell_type": "code",
   "execution_count": 75,
   "metadata": {},
   "outputs": [
    {
     "data": {
      "image/png": "[encoded data removed]",
      "text/plain": [
       "<Figure size 432x288 with 1 Axes>"
      ]
     },
     "metadata": {
      "needs_background": "light"
     },
     "output_type": "display_data"
    }
   ],
   "source": [
    "# изучим рассточние до ближайшего парка\n",
    "df.plot(kind='hist', title='Расстояние до ближайшего парка', y='parks_nearest', \\\n",
    "                  bins=100, figsize=(6,4) )\n",
    "plt.show()"
   ]
  },
  {
   "cell_type": "markdown",
   "metadata": {},
   "source": [
    "Попробую сказать что нибудь умное  - распределение расстояний до парков напоминает нормальное Гауссовское распределение с максимумом в районе 500 метров."
   ]
  },
  {
   "cell_type": "code",
   "execution_count": 76,
   "metadata": {},
   "outputs": [
    {
     "data": {
      "image/png": "[encoded data removed]",
      "text/plain": [
       "<Figure size 432x288 with 1 Axes>"
      ]
     },
     "metadata": {
      "needs_background": "light"
     },
     "output_type": "display_data"
    }
   ],
   "source": [
    "# изучим дни публикации объявлений\n",
    "df.plot(kind='hist', title='День публикации объявления', y='day_of_the_week_exposition', \\\n",
    "                  bins=12, figsize=(6,4) )\n",
    "plt.show()"
   ]
  },
  {
   "cell_type": "markdown",
   "metadata": {},
   "source": [
    "Основное количество публикаций в будние дни."
   ]
  },
  {
   "cell_type": "code",
   "execution_count": 77,
   "metadata": {},
   "outputs": [
    {
     "data": {
      "image/png": "[encoded data removed]",
      "text/plain": [
       "<Figure size 432x288 with 1 Axes>"
      ]
     },
     "metadata": {
      "needs_background": "light"
     },
     "output_type": "display_data"
    }
   ],
   "source": [
    "# изучим месяцы публикаций\n",
    "df.plot(kind='hist', title='Месяц публикации объявления', y='month_exposition', \\\n",
    "                  bins=23, figsize=(6,4) )\n",
    "plt.show()"
   ]
  },
  {
   "cell_type": "markdown",
   "metadata": {},
   "source": [
    "Прослеживается некоторая сезонность подачи объявлений. Увеличение в начале года февраль-март и в конце года октябрь-ноябрь."
   ]
  },
  {
   "cell_type": "code",
   "execution_count": 78,
   "metadata": {},
   "outputs": [
    {
     "data": {
      "image/png": "[encoded data removed]",
      "text/plain": [
       "<Figure size 432x288 with 1 Axes>"
      ]
     },
     "metadata": {
      "needs_background": "light"
     },
     "output_type": "display_data"
    }
   ],
   "source": [
    "df.plot(kind='hist', title='Время продажи квартир, дни', y='days_exposition', \\\n",
    "                  bins=100, figsize=(6,4) )\n",
    "plt.show()"
   ]
  },
  {
   "cell_type": "code",
   "execution_count": 79,
   "metadata": {},
   "outputs": [
    {
     "data": {
      "text/plain": [
       "count    23564.000000\n",
       "mean       185.765065\n",
       "std        233.496447\n",
       "min          0.000000\n",
       "25%         43.000000\n",
       "50%         94.000000\n",
       "75%        237.000000\n",
       "max       1618.000000\n",
       "Name: days_exposition, dtype: float64"
      ]
     },
     "execution_count": 79,
     "metadata": {},
     "output_type": "execute_result"
    }
   ],
   "source": [
    "df['days_exposition'].describe()"
   ]
  },
  {
   "cell_type": "code",
   "execution_count": 80,
   "metadata": {},
   "outputs": [
    {
     "name": "stdout",
     "output_type": "stream",
     "text": [
      "Среднее количество дней продажи 185.7650653539297\n",
      "Медиана по дням продажи 94.0\n"
     ]
    }
   ],
   "source": [
    "# расссчитаем среднее количество дней и медиану\n",
    "print('Среднее количество дней продажи', df['days_exposition'].mean())\n",
    "print('Медиана по дням продажи', df['days_exposition'].median())"
   ]
  },
  {
   "cell_type": "markdown",
   "metadata": {},
   "source": [
    "Медиана по дням продажи 94 дня почти в два раза ниже среднего значения 185 дней. Очевидно это влияние длинных продаж дорогой элитной недвижимости и не снятых лотов (проданных или \"забытых\"), которые находятся в базе. В основном квартиры продаются за срок в 100 дней. Есть большое число квартир, проданных через месяц после публикации. А также есть варианты, которые продавались несколько десятков месяцев. \n",
    "Быстрой продажей можно назвать срок в 43 дня и меньше. Долгой продажей - 237 дней (7,5 месяцев) и дольше."
   ]
  },
  {
   "cell_type": "code",
   "execution_count": 81,
   "metadata": {},
   "outputs": [
    {
     "data": {
      "image/png": "[encoded data removed]",
      "text/plain": [
       "<Figure size 1080x288 with 1 Axes>"
      ]
     },
     "metadata": {
      "needs_background": "light"
     },
     "output_type": "display_data"
    },
    {
     "name": "stdout",
     "output_type": "stream",
     "text": [
      "Коэффициент корреляции цены от общей площади 0.65\n"
     ]
    }
   ],
   "source": [
    "# зависимость цены от общей площади\n",
    "df.pivot_table(index='total_area', values='last_price')\\\n",
    ".plot(style='-',title='Зависимость цены от общей площади', figsize=(15,4))\n",
    "plt.show()\n",
    "print('Коэффициент корреляции цены от общей площади', round(df['total_area']\\\n",
    "                                                            .corr(df['last_price']), 2))"
   ]
  },
  {
   "cell_type": "markdown",
   "metadata": {},
   "source": [
    "На графике зависимости цены от общей площади виден минимальный разброс цен для площади до 120 кв.м, средний разброс цен от 120 до 180 кв.м, и максимальный разброс цен для площадей свыше 180 кв.м. Коэффициент корреляции = 0,65 - это подтверждает наличие зависимости."
   ]
  },
  {
   "cell_type": "code",
   "execution_count": 82,
   "metadata": {},
   "outputs": [
    {
     "data": {
      "image/png": "[encoded data removed]",
      "text/plain": [
       "<Figure size 432x288 with 1 Axes>"
      ]
     },
     "metadata": {
      "needs_background": "light"
     },
     "output_type": "display_data"
    },
    {
     "name": "stdout",
     "output_type": "stream",
     "text": [
      "Корреляция общей цены и площади: \n",
      "\n",
      "            last_price  total_area\n",
      "last_price     1.00000     0.73191\n",
      "total_area     0.73191     1.00000 \n",
      "\n"
     ]
    }
   ],
   "source": [
    "# Зависимость цены от общей площади\n",
    "(\n",
    "    df.pivot_table(index='total_area', values='last_price')\n",
    "    .plot(style='o', figsize=(6, 4))\n",
    ")\n",
    "plt.show()\n",
    "print('Корреляция общей цены и площади:','\\n')\n",
    "print(df.pivot_table(index='floor', values=['total_area', 'last_price']).corr(),'\\n')"
   ]
  },
  {
   "cell_type": "code",
   "execution_count": 83,
   "metadata": {},
   "outputs": [
    {
     "name": "stdout",
     "output_type": "stream",
     "text": [
      "Коэффициент корреляции цены от жилой площади 0.59\n"
     ]
    },
    {
     "data": {
      "image/png": "[encoded data removed]",
      "text/plain": [
       "<Figure size 1080x288 with 1 Axes>"
      ]
     },
     "metadata": {
      "needs_background": "light"
     },
     "output_type": "display_data"
    }
   ],
   "source": [
    "# зависимость цены от жилой площади\n",
    "df.pivot_table(index='living_area', values='last_price')\\\n",
    ".plot(style='-',title='Зависимость цены от жилой площади', figsize=(15,4))\n",
    "plt.show\n",
    "print('Коэффициент корреляции цены от жилой площади', round(df['living_area']\\\n",
    "                                                            .corr(df['last_price']), 2))"
   ]
  },
  {
   "cell_type": "markdown",
   "metadata": {},
   "source": [
    "На графике четкая зависимость для площади от 10 до 70 кв.м. Остальные значения площади более подвержены разбросу по цены. Расчет корреляции показывает незначительную зависимость цены от жилой площади."
   ]
  },
  {
   "cell_type": "code",
   "execution_count": 84,
   "metadata": {},
   "outputs": [
    {
     "name": "stdout",
     "output_type": "stream",
     "text": [
      "Коэффициент корреляции цены от площади кухни 0.51\n"
     ]
    },
    {
     "data": {
      "image/png": "[encoded data removed]",
      "text/plain": [
       "<Figure size 1080x288 with 1 Axes>"
      ]
     },
     "metadata": {
      "needs_background": "light"
     },
     "output_type": "display_data"
    }
   ],
   "source": [
    "# зависимость цены от площади кухни\n",
    "df.pivot_table(index='kitchen_area', values='last_price')\\\n",
    ".plot(style='-',title='Зависимость цены от площади кухни', figsize=(15,4))\n",
    "plt.show\n",
    "print('Коэффициент корреляции цены от площади кухни', round(df['kitchen_area']\\\n",
    "                                                            .corr(df['last_price']), 2))"
   ]
  },
  {
   "cell_type": "markdown",
   "metadata": {},
   "source": [
    "График и расчёт корреляции показывают слабую зависимость цены от площади кухни."
   ]
  },
  {
   "cell_type": "code",
   "execution_count": 85,
   "metadata": {},
   "outputs": [
    {
     "name": "stdout",
     "output_type": "stream",
     "text": [
      "Коэффициент корреляции цены от количества комнат 0.36\n"
     ]
    },
    {
     "data": {
      "image/png": "[encoded data removed]",
      "text/plain": [
       "<Figure size 1080x288 with 1 Axes>"
      ]
     },
     "metadata": {
      "needs_background": "light"
     },
     "output_type": "display_data"
    }
   ],
   "source": [
    "# зависимость цены от количества комнат\n",
    "df.pivot_table(index='rooms', values='last_price')\\\n",
    ".plot(style='-',title='Зависимость цены от количества комнат', figsize=(15,4))\n",
    "plt.show\n",
    "print('Коэффициент корреляции цены от количества комнат', round(df['rooms']\\\n",
    "                                                                .corr(df['last_price']), 2))"
   ]
  },
  {
   "cell_type": "markdown",
   "metadata": {},
   "source": [
    "Расчёт коэффициента корреляции Пирсона показывает очень слабую зависимости цены от количества комнат. "
   ]
  },
  {
   "cell_type": "code",
   "execution_count": 86,
   "metadata": {},
   "outputs": [
    {
     "data": {
      "text/html": [
       "<div>\n",
       "<style scoped>\n",
       "    .dataframe tbody tr th:only-of-type {\n",
       "        vertical-align: middle;\n",
       "    }\n",
       "\n",
       "    .dataframe tbody tr th {\n",
       "        vertical-align: top;\n",
       "    }\n",
       "\n",
       "    .dataframe thead th {\n",
       "        text-align: right;\n",
       "    }\n",
       "</style>\n",
       "<table border=\"1\" class=\"dataframe\">\n",
       "  <thead>\n",
       "    <tr style=\"text-align: right;\">\n",
       "      <th></th>\n",
       "      <th>last_price</th>\n",
       "    </tr>\n",
       "    <tr>\n",
       "      <th>floor_type</th>\n",
       "      <th></th>\n",
       "    </tr>\n",
       "  </thead>\n",
       "  <tbody>\n",
       "    <tr>\n",
       "      <th>другой</th>\n",
       "      <td>4847000</td>\n",
       "    </tr>\n",
       "    <tr>\n",
       "      <th>первый</th>\n",
       "      <td>3900000</td>\n",
       "    </tr>\n",
       "    <tr>\n",
       "      <th>последний</th>\n",
       "      <td>4300000</td>\n",
       "    </tr>\n",
       "  </tbody>\n",
       "</table>\n",
       "</div>"
      ],
      "text/plain": [
       "            last_price\n",
       "floor_type            \n",
       "другой         4847000\n",
       "первый         3900000\n",
       "последний      4300000"
      ]
     },
     "execution_count": 86,
     "metadata": {},
     "output_type": "execute_result"
    }
   ],
   "source": [
    "# зависимость цены от этажа (первый, последний, другой) в цифрах все очевидно\n",
    "df.pivot_table(index='floor_type', values='last_price', aggfunc='median')"
   ]
  },
  {
   "cell_type": "code",
   "execution_count": 87,
   "metadata": {},
   "outputs": [
    {
     "data": {
      "image/png": "[encoded data removed]",
      "text/plain": [
       "<Figure size 432x288 with 1 Axes>"
      ]
     },
     "metadata": {
      "needs_background": "light"
     },
     "output_type": "display_data"
    }
   ],
   "source": [
    "# для наглядности\n",
    "df.pivot_table(index='floor_type', values='last_price', aggfunc=('median'))\\\n",
    ".plot(style='-',title='Зависимость цены от типа этажа', figsize=(6,4), kind='bar', logy=True)\n",
    "plt.show()"
   ]
  },
  {
   "cell_type": "markdown",
   "metadata": {},
   "source": [
    "Наиболее низкая стоимость у лотов первых этажей. Последние этажи на втором месте по дисконту. Дальше все остальные."
   ]
  },
  {
   "cell_type": "code",
   "execution_count": 88,
   "metadata": {},
   "outputs": [
    {
     "name": "stdout",
     "output_type": "stream",
     "text": [
      "Коэффициент корреляции цены от дня недели размещения объявления 0\n"
     ]
    },
    {
     "data": {
      "image/png": "[encoded data removed]",
      "text/plain": [
       "<Figure size 432x288 with 1 Axes>"
      ]
     },
     "metadata": {
      "needs_background": "light"
     },
     "output_type": "display_data"
    }
   ],
   "source": [
    "# зависимость цены от дня недели размещения объявления\n",
    "df.pivot_table(index='day_of_the_week_exposition', values='last_price')\\\n",
    ".plot(style='-',title='Зависимость цены от дня недели размещения объявления', figsize=(6,4))\n",
    "plt.show\n",
    "print('Коэффициент корреляции цены от дня недели размещения объявления', round(df['day_of_the_week_exposition']\\\n",
    "                                                                               .corr(df['last_price'])))"
   ]
  },
  {
   "cell_type": "code",
   "execution_count": 89,
   "metadata": {},
   "outputs": [
    {
     "data": {
      "image/png": "[encoded data removed]",
      "text/plain": [
       "<Figure size 432x288 with 1 Axes>"
      ]
     },
     "metadata": {
      "needs_background": "light"
     },
     "output_type": "display_data"
    }
   ],
   "source": [
    "# зависимость цены от дня размещения без рассчета корреляции Пирсона\n",
    "(\n",
    "    df.pivot_table(index='day_of_the_week_exposition', values='last_price')\n",
    "    .plot(style='o-', figsize=(6, 4))\n",
    ")\n",
    "plt.show()"
   ]
  },
  {
   "cell_type": "markdown",
   "metadata": {},
   "source": [
    "Довольно волатительно все казалось бы. Но, если взять пики понедельника, четверга и субботы то рост цены очевиден и резкое снижение в воскресенье. Дороже всех опубликованные в четверг и субботу, дешевле в пятницу и воскресенье. "
   ]
  },
  {
   "cell_type": "code",
   "execution_count": 90,
   "metadata": {},
   "outputs": [
    {
     "name": "stdout",
     "output_type": "stream",
     "text": [
      "Коэффициент корреляции цены от месяца размещения объявления 0.0\n"
     ]
    },
    {
     "data": {
      "image/png": "[encoded data removed]",
      "text/plain": [
       "<Figure size 432x288 with 1 Axes>"
      ]
     },
     "metadata": {
      "needs_background": "light"
     },
     "output_type": "display_data"
    }
   ],
   "source": [
    "# зависимость цены от месяца размещения объявления\n",
    "df.pivot_table(index='month_exposition', values='last_price')\\\n",
    ".plot(style='-',title='Зависимость цены от месяца размещения объявления', figsize=(6,4))\n",
    "plt.show\n",
    "print('Коэффициент корреляции цены от месяца размещения объявления', round(df['month_exposition']\\\n",
    "                                                                           .corr(df['last_price']), 2))"
   ]
  },
  {
   "cell_type": "markdown",
   "metadata": {},
   "source": [
    "Коэффициент корреляции показывает отсутствие зависимости цены от месяца подачи объявления. Вместе с тем на графике зависимости прослеживается сезонность. Видны пики повышения стоимости в апреле, июле, сентябре. В марте, июне, августе и октябре заметил снижение цены."
   ]
  },
  {
   "cell_type": "code",
   "execution_count": 91,
   "metadata": {},
   "outputs": [
    {
     "name": "stdout",
     "output_type": "stream",
     "text": [
      "Коэффициент корреляции цены от года размещения объявления -0.04\n"
     ]
    },
    {
     "data": {
      "image/png": "[encoded data removed]",
      "text/plain": [
       "<Figure size 432x288 with 1 Axes>"
      ]
     },
     "metadata": {
      "needs_background": "light"
     },
     "output_type": "display_data"
    }
   ],
   "source": [
    "# зависимость цены от года размещения объявления\n",
    "df.pivot_table(index='year_exposition', values='last_price')\\\n",
    ".plot(style='-',title='Зависимость цены от года размещения объявления', figsize=(6,4))\n",
    "plt.show\n",
    "print('Коэффициент корреляции цены от года размещения объявления', round(df['year_exposition']\\\n",
    "                                                                         .corr(df['last_price']), 2))"
   ]
  },
  {
   "cell_type": "markdown",
   "metadata": {},
   "source": [
    "Зависимость по коэффициенту корреляции отсутствует. А вот по графику можно сказать, что квартиры очень сильно подешевели к 2016-2018 годах, что, вероятно, вызвано кризисом 2014-2015 годов. В 2019 году цены снова стали повышаться, вероятно это связано с экономическим ростом в стране в целом."
   ]
  },
  {
   "cell_type": "code",
   "execution_count": 92,
   "metadata": {},
   "outputs": [
    {
     "data": {
      "image/png": "[encoded data removed]",
      "text/plain": [
       "<Figure size 432x432 with 2 Axes>"
      ]
     },
     "metadata": {
      "needs_background": "light"
     },
     "output_type": "display_data"
    }
   ],
   "source": [
    "# попробую построить тепловую карту корреляции по столбцу last_price, \n",
    "# чтобы выявить параметры, которые оказывают наибольшее влияние на цену\n",
    "plt.figure(figsize=(6,6))\n",
    "upp_mat = np.triu(df.corr())\n",
    "sns.heatmap(df.corr()[['last_price']], vmin = -1, vmax = +1, annot = True, cmap = 'coolwarm')\n",
    "plt.show()"
   ]
  },
  {
   "cell_type": "markdown",
   "metadata": {},
   "source": [
    "Не берем для анализа расчетную величину - цену квадратного метра. Тогда получается, что основной параметр влияющий на цену - это общая площадь (с ней увязаны жилая площадь и площадь кухни), второй значимый параметр - это количество комнат."
   ]
  },
  {
   "cell_type": "code",
   "execution_count": 93,
   "metadata": {},
   "outputs": [
    {
     "data": {
      "text/html": [
       "<div>\n",
       "<style scoped>\n",
       "    .dataframe tbody tr th:only-of-type {\n",
       "        vertical-align: middle;\n",
       "    }\n",
       "\n",
       "    .dataframe tbody tr th {\n",
       "        vertical-align: top;\n",
       "    }\n",
       "\n",
       "    .dataframe thead tr th {\n",
       "        text-align: left;\n",
       "    }\n",
       "\n",
       "    .dataframe thead tr:last-of-type th {\n",
       "        text-align: right;\n",
       "    }\n",
       "</style>\n",
       "<table border=\"1\" class=\"dataframe\">\n",
       "  <thead>\n",
       "    <tr>\n",
       "      <th></th>\n",
       "      <th>count</th>\n",
       "      <th>mean</th>\n",
       "      <th>median</th>\n",
       "    </tr>\n",
       "    <tr>\n",
       "      <th></th>\n",
       "      <th>last_price</th>\n",
       "      <th>last_price</th>\n",
       "      <th>last_price</th>\n",
       "    </tr>\n",
       "    <tr>\n",
       "      <th>locality_name</th>\n",
       "      <th></th>\n",
       "      <th></th>\n",
       "      <th></th>\n",
       "    </tr>\n",
       "  </thead>\n",
       "  <tbody>\n",
       "    <tr>\n",
       "      <th>Санкт-Петербург</th>\n",
       "      <td>15650</td>\n",
       "      <td>8.065741e+06</td>\n",
       "      <td>5500000.0</td>\n",
       "    </tr>\n",
       "    <tr>\n",
       "      <th>Пушкин</th>\n",
       "      <td>369</td>\n",
       "      <td>6.469036e+06</td>\n",
       "      <td>5180000.0</td>\n",
       "    </tr>\n",
       "    <tr>\n",
       "      <th>Парголово</th>\n",
       "      <td>327</td>\n",
       "      <td>4.488075e+06</td>\n",
       "      <td>4100000.0</td>\n",
       "    </tr>\n",
       "    <tr>\n",
       "      <th>Кудрово</th>\n",
       "      <td>470</td>\n",
       "      <td>4.354895e+06</td>\n",
       "      <td>3887500.0</td>\n",
       "    </tr>\n",
       "    <tr>\n",
       "      <th>Шушары</th>\n",
       "      <td>439</td>\n",
       "      <td>4.109809e+06</td>\n",
       "      <td>3950000.0</td>\n",
       "    </tr>\n",
       "    <tr>\n",
       "      <th>Колпино</th>\n",
       "      <td>338</td>\n",
       "      <td>3.964021e+06</td>\n",
       "      <td>3600000.0</td>\n",
       "    </tr>\n",
       "    <tr>\n",
       "      <th>Всеволожск</th>\n",
       "      <td>398</td>\n",
       "      <td>3.789068e+06</td>\n",
       "      <td>3450000.0</td>\n",
       "    </tr>\n",
       "    <tr>\n",
       "      <th>Мурино</th>\n",
       "      <td>586</td>\n",
       "      <td>3.680841e+06</td>\n",
       "      <td>3400000.0</td>\n",
       "    </tr>\n",
       "    <tr>\n",
       "      <th>Гатчина</th>\n",
       "      <td>307</td>\n",
       "      <td>3.488337e+06</td>\n",
       "      <td>3100000.0</td>\n",
       "    </tr>\n",
       "    <tr>\n",
       "      <th>Выборг</th>\n",
       "      <td>237</td>\n",
       "      <td>3.250983e+06</td>\n",
       "      <td>2897000.0</td>\n",
       "    </tr>\n",
       "  </tbody>\n",
       "</table>\n",
       "</div>"
      ],
      "text/plain": [
       "                     count          mean     median\n",
       "                last_price    last_price last_price\n",
       "locality_name                                      \n",
       "Санкт-Петербург      15650  8.065741e+06  5500000.0\n",
       "Пушкин                 369  6.469036e+06  5180000.0\n",
       "Парголово              327  4.488075e+06  4100000.0\n",
       "Кудрово                470  4.354895e+06  3887500.0\n",
       "Шушары                 439  4.109809e+06  3950000.0\n",
       "Колпино                338  3.964021e+06  3600000.0\n",
       "Всеволожск             398  3.789068e+06  3450000.0\n",
       "Мурино                 586  3.680841e+06  3400000.0\n",
       "Гатчина                307  3.488337e+06  3100000.0\n",
       "Выборг                 237  3.250983e+06  2897000.0"
      ]
     },
     "execution_count": 93,
     "metadata": {},
     "output_type": "execute_result"
    }
   ],
   "source": [
    "# рассчитаем среднюю цену одного кв. метра в 10 населённых пунктах с наибольшим числом объявлений\n",
    "df.pivot_table(index='locality_name', values='last_price', aggfunc=['count', 'mean', 'median'])\\\n",
    ".sort_values(('count', 'last_price'), ascending=False)\\\n",
    ".head(10)\\\n",
    ".sort_values(('mean', 'last_price'), ascending=False)"
   ]
  },
  {
   "cell_type": "markdown",
   "metadata": {},
   "source": [
    "Наибольшая средняя стоимость квадратного метра в Санкт-Петербурге и Пушкине. Затем идут районы, фактически являющиеся Санкт-Петербургом и непосредственно к нему примыкают. Наименьшая стоимость в Гатчине и Выборге, городов с небольшим населением и удаленными от Санкт-Петербурга."
   ]
  },
  {
   "cell_type": "code",
   "execution_count": 94,
   "metadata": {},
   "outputs": [
    {
     "data": {
      "text/html": [
       "<div>\n",
       "<style scoped>\n",
       "    .dataframe tbody tr th:only-of-type {\n",
       "        vertical-align: middle;\n",
       "    }\n",
       "\n",
       "    .dataframe tbody tr th {\n",
       "        vertical-align: top;\n",
       "    }\n",
       "\n",
       "    .dataframe thead th {\n",
       "        text-align: right;\n",
       "    }\n",
       "</style>\n",
       "<table border=\"1\" class=\"dataframe\">\n",
       "  <thead>\n",
       "    <tr style=\"text-align: right;\">\n",
       "      <th></th>\n",
       "      <th>price_of_square_meter</th>\n",
       "    </tr>\n",
       "    <tr>\n",
       "      <th>city_centers_nearest_km</th>\n",
       "      <th></th>\n",
       "    </tr>\n",
       "  </thead>\n",
       "  <tbody>\n",
       "    <tr>\n",
       "      <th>0.0</th>\n",
       "      <td>245833.111111</td>\n",
       "    </tr>\n",
       "    <tr>\n",
       "      <th>1.0</th>\n",
       "      <td>177004.963542</td>\n",
       "    </tr>\n",
       "    <tr>\n",
       "      <th>2.0</th>\n",
       "      <td>157848.564516</td>\n",
       "    </tr>\n",
       "    <tr>\n",
       "      <th>3.0</th>\n",
       "      <td>121507.367816</td>\n",
       "    </tr>\n",
       "    <tr>\n",
       "      <th>4.0</th>\n",
       "      <td>133282.422965</td>\n",
       "    </tr>\n",
       "    <tr>\n",
       "      <th>5.0</th>\n",
       "      <td>140453.507104</td>\n",
       "    </tr>\n",
       "    <tr>\n",
       "      <th>6.0</th>\n",
       "      <td>151011.750809</td>\n",
       "    </tr>\n",
       "    <tr>\n",
       "      <th>7.0</th>\n",
       "      <td>156176.445238</td>\n",
       "    </tr>\n",
       "    <tr>\n",
       "      <th>8.0</th>\n",
       "      <td>125649.319865</td>\n",
       "    </tr>\n",
       "    <tr>\n",
       "      <th>9.0</th>\n",
       "      <td>113347.967851</td>\n",
       "    </tr>\n",
       "  </tbody>\n",
       "</table>\n",
       "</div>"
      ],
      "text/plain": [
       "                         price_of_square_meter\n",
       "city_centers_nearest_km                       \n",
       "0.0                              245833.111111\n",
       "1.0                              177004.963542\n",
       "2.0                              157848.564516\n",
       "3.0                              121507.367816\n",
       "4.0                              133282.422965\n",
       "5.0                              140453.507104\n",
       "6.0                              151011.750809\n",
       "7.0                              156176.445238\n",
       "8.0                              125649.319865\n",
       "9.0                              113347.967851"
      ]
     },
     "metadata": {},
     "output_type": "display_data"
    },
    {
     "data": {
      "image/png": "[encoded data removed]",
      "text/plain": [
       "<Figure size 720x360 with 1 Axes>"
      ]
     },
     "metadata": {
      "needs_background": "light"
     },
     "output_type": "display_data"
    }
   ],
   "source": [
    "# Проанализируем квартиры в Санкт-Петербурге на предмет изменения цены \n",
    "# квадратного метра по мере удаления от центра города.\n",
    "spb_df = df[df['locality_name'] == 'Санкт-Петербург']\n",
    "spb_df_pivot= spb_df.pivot_table(index = 'city_centers_nearest_km',\\\n",
    "                                 values= 'price_of_square_meter', aggfunc='mean')\n",
    "display(spb_df_pivot.head(10))\n",
    "spb_df_pivot.plot(figsize=(10,5), grid=True)\n",
    "plt.show()"
   ]
  },
  {
   "cell_type": "markdown",
   "metadata": {},
   "source": [
    "По мере приближения с отметке 7 км до центра города СПб средняя цена квадратного метра уверенно растет до 156176 руб., далее наблюдается небольшое снижение цены до 121507 руб. и резкий рост до 0-го километра до 245833 руб. Про пик на 27-28 километре можно предположить наличие элитного жилого комплекса, например."
   ]
  },
  {
   "cell_type": "markdown",
   "metadata": {},
   "source": [
    "    ОБЩИЙ ВЫВОД:\n",
    "    Представленные для анализа данные содержали информацию о конкретной квартире, выставленной на продажу. По каждой квартире доступны два вида данных. Первые заполнены пользователем, вторые — получены автоматически на основе картографических данных. Например, расстояние до центра, аэропорта, ближайшего парка и водоёма.\n",
    "    В процессе предварительной обработки данных были выявлены явные и неявные пропуски, ошибки представления значений (значения, не соответствующие действительности). Скорее всего, данные взяты из разных источников, что является результатом пропусков значений в некоторых столбцах, а также предположительны ошибки при выгрузке и из-за некорректного заполнения первоисточников клиентом. Указанные проблемы были устранены.\n",
    "    Для дальнейшего анализа рассчитаны и добавлены отдельными столбцами значения цены 1 кв.м., дня недели, месяца и года объявления, типа этажа квартиры, расстояние до центра города в км.\n",
    "    В рамках проведенного исследования найдены определенные особенности и зависимости, существующие на рынке недвижимости региона. \n",
    "    Большинство квартир выставленных на продажу менее 100 квадратных метров. В подборке есть несколько очень больших вариантов с площадью более 200 квадратных метров. \n",
    "    Самые распространённые варианты квартир с жилой площадью от 10 до 50 метров. Более 80 метров встречаются в единичных случаях. \n",
    "    Основная стоимость квартир в районе 4-5 миллионов рублей. С увеличением цены объявлений становится значительно меньше. Есть яркие представители премиум сегмента в выборке с лидером цены в 763 миллиона рублей. \n",
    "    Большое количество предложений квартир до 5-ти этажей включительно. Это говорит о целом ряде предложений из домов пятиэтажной застройки. Также прослеживается вторая категория от 6 до 9 этажа. Вероятно все это дома ранней постройки. \n",
    "    В основном квартиры состоят из 1, 2 и 3 комнат. Есть небольшая доля 4-комнатных квартир. Однако есть и варианты, где больше 7 комнат, их небольшое количество. А вот лидеры с 10-19 комнатами возможно представляют собой загородный дом.\n",
    "    Большинство вариантов имеют высоту потолков от 2,5 до 3 метров. Есть варианты с высотой потолка 4 метра - такие существуют в домах новых проектах. \n",
    "    Большая часть лотов удалена от аэропорта на расстояние от 8 до 60 км. Это не удивительно, учитывая, что аэропорт Пулково для СПб и Ленобласти всего один.\n",
    "    Прослеживается некоторое увеличение и сезонность подачи объявлений. В начале года февраль-март и в конце года октябрь-ноябрь.\n",
    "    Медиана по дням продажи 94 дня почти в два раза ниже среднего значения 185 дней. Очевидно это влияние длинных продаж дорогой элитной недвижимости и не снятых лотов (проданных или \"забытых\"), которые находятся в базе. В основном квартиры продаются за срок в 100 дней. Есть большое число квартир, проданных через месяц после публикации. А также есть варианты, которые продавались несколько десятков месяцев. Быстрой продажей можно назвать срок в 43 дня и меньше. Долгой продажей - 237 дней (7,5 месяцев) и дольше.\n",
    "    Наблюдается минимальный разброс цен для площади до 120 кв.м, средний разброс цен от 120 до 180 кв.м, и максимальный разброс цен для площадей свыше 180 кв.м. Коэффициент корреляции = 0,65 - это подтверждает наличие зависимости от общей площади квартиры. Установлено, что основной параметр влияющий на цену - это общая площадь (с ней увязаны жилая площадь и площадь кухни), второй значимый параметр - это количество комнат.\n",
    "    Наибольшая средняя стоимость квадратного метра в Санкт-Петербурге и Пушкине. Затем идут районы, фактически являющиеся Санкт-Петербургом и непосредственно к нему примыкают. Наименьшая стоимость в Гатчине и Выборге, городов с небольшим населением и удаленными от Санкт-Петербурга.\n",
    "    По мере приближения с отметке 7 км до центра города СПб средняя цена квадратного метра уверенно растет до 156176 руб., далее наблюдается небольшое снижение цены до 121507 руб. и резкий рост до 0-го километра до 245833 руб. Про пик на 27-28 километре можно предположить наличие элитного жилого комплекса, например.\n",
    "    \n",
    "    \n"
   ]
  },
  {
   "cell_type": "code",
   "execution_count": null,
   "metadata": {},
   "outputs": [],
   "source": []
  }
 ],
 "metadata": {
  "ExecuteTimeLog": [
   {
    "duration": 53,
    "start_time": "2023-01-10T17:20:17.029Z"
   },
   {
    "duration": 1403,
    "start_time": "2023-01-10T17:20:30.795Z"
   },
   {
    "duration": 183,
    "start_time": "2023-01-10T17:20:32.204Z"
   },
   {
    "duration": 66,
    "start_time": "2023-01-10T17:21:15.735Z"
   },
   {
    "duration": 17,
    "start_time": "2023-01-10T17:22:13.401Z"
   },
   {
    "duration": 13,
    "start_time": "2023-01-10T17:27:37.090Z"
   },
   {
    "duration": 1317,
    "start_time": "2023-01-10T17:27:55.639Z"
   },
   {
    "duration": 112,
    "start_time": "2023-01-10T17:27:56.958Z"
   },
   {
    "duration": 51,
    "start_time": "2023-01-10T17:27:57.072Z"
   },
   {
    "duration": 15,
    "start_time": "2023-01-10T17:29:30.457Z"
   },
   {
    "duration": 16,
    "start_time": "2023-01-10T17:29:57.571Z"
   },
   {
    "duration": 30,
    "start_time": "2023-01-10T17:30:14.723Z"
   },
   {
    "duration": 15,
    "start_time": "2023-01-10T17:31:47.146Z"
   },
   {
    "duration": 23,
    "start_time": "2023-01-10T17:54:59.708Z"
   },
   {
    "duration": 2340,
    "start_time": "2023-01-10T18:00:21.024Z"
   },
   {
    "duration": 32,
    "start_time": "2023-01-10T18:10:26.813Z"
   },
   {
    "duration": 127,
    "start_time": "2023-01-10T18:34:44.742Z"
   },
   {
    "duration": 48,
    "start_time": "2023-01-10T18:35:13.350Z"
   },
   {
    "duration": 47,
    "start_time": "2023-01-10T18:37:05.084Z"
   },
   {
    "duration": 14,
    "start_time": "2023-01-10T18:50:16.468Z"
   },
   {
    "duration": 35,
    "start_time": "2023-01-10T19:03:35.056Z"
   },
   {
    "duration": 2325,
    "start_time": "2023-01-10T19:04:07.535Z"
   },
   {
    "duration": 14,
    "start_time": "2023-01-10T19:32:00.506Z"
   },
   {
    "duration": 12,
    "start_time": "2023-01-10T19:32:18.201Z"
   },
   {
    "duration": 16,
    "start_time": "2023-01-10T19:34:41.222Z"
   },
   {
    "duration": 1281,
    "start_time": "2023-01-10T19:35:20.311Z"
   },
   {
    "duration": 109,
    "start_time": "2023-01-10T19:35:21.594Z"
   },
   {
    "duration": 37,
    "start_time": "2023-01-10T19:35:21.705Z"
   },
   {
    "duration": 38,
    "start_time": "2023-01-10T19:35:21.750Z"
   },
   {
    "duration": 2231,
    "start_time": "2023-01-10T19:35:21.790Z"
   },
   {
    "duration": 11,
    "start_time": "2023-01-10T19:35:24.023Z"
   },
   {
    "duration": 19,
    "start_time": "2023-01-10T19:35:24.036Z"
   },
   {
    "duration": 5,
    "start_time": "2023-01-10T19:35:24.057Z"
   },
   {
    "duration": 15,
    "start_time": "2023-01-10T19:35:24.063Z"
   },
   {
    "duration": 17,
    "start_time": "2023-01-10T19:35:24.081Z"
   },
   {
    "duration": 170,
    "start_time": "2023-01-10T19:37:10.882Z"
   },
   {
    "duration": 396,
    "start_time": "2023-01-10T19:37:23.694Z"
   },
   {
    "duration": 439,
    "start_time": "2023-01-10T19:40:22.098Z"
   },
   {
    "duration": 220,
    "start_time": "2023-01-10T19:40:31.736Z"
   },
   {
    "duration": 307,
    "start_time": "2023-01-10T19:40:52.548Z"
   },
   {
    "duration": 280,
    "start_time": "2023-01-10T19:41:00.833Z"
   },
   {
    "duration": 362,
    "start_time": "2023-01-10T19:41:10.662Z"
   },
   {
    "duration": 214,
    "start_time": "2023-01-10T19:42:17.302Z"
   },
   {
    "duration": 13,
    "start_time": "2023-01-10T19:47:51.840Z"
   },
   {
    "duration": 11,
    "start_time": "2023-01-10T19:48:21.406Z"
   },
   {
    "duration": 6,
    "start_time": "2023-01-10T19:48:51.517Z"
   },
   {
    "duration": 1265,
    "start_time": "2023-01-10T19:49:20.724Z"
   },
   {
    "duration": 106,
    "start_time": "2023-01-10T19:49:21.992Z"
   },
   {
    "duration": 37,
    "start_time": "2023-01-10T19:49:22.100Z"
   },
   {
    "duration": 47,
    "start_time": "2023-01-10T19:49:22.161Z"
   },
   {
    "duration": 2227,
    "start_time": "2023-01-10T19:49:22.210Z"
   },
   {
    "duration": 14,
    "start_time": "2023-01-10T19:49:24.439Z"
   },
   {
    "duration": 19,
    "start_time": "2023-01-10T19:49:24.455Z"
   },
   {
    "duration": 4,
    "start_time": "2023-01-10T19:49:24.476Z"
   },
   {
    "duration": 252,
    "start_time": "2023-01-10T19:49:24.482Z"
   },
   {
    "duration": 14,
    "start_time": "2023-01-10T19:49:24.737Z"
   },
   {
    "duration": 13,
    "start_time": "2023-01-10T19:49:24.752Z"
   },
   {
    "duration": 24,
    "start_time": "2023-01-10T19:49:24.767Z"
   },
   {
    "duration": 7,
    "start_time": "2023-01-10T19:56:08.681Z"
   },
   {
    "duration": 5,
    "start_time": "2023-01-10T20:07:07.204Z"
   },
   {
    "duration": 1344,
    "start_time": "2023-01-10T20:07:23.290Z"
   },
   {
    "duration": 104,
    "start_time": "2023-01-10T20:07:24.636Z"
   },
   {
    "duration": 43,
    "start_time": "2023-01-10T20:07:24.742Z"
   },
   {
    "duration": 37,
    "start_time": "2023-01-10T20:07:24.788Z"
   },
   {
    "duration": 2944,
    "start_time": "2023-01-10T20:07:24.829Z"
   },
   {
    "duration": 11,
    "start_time": "2023-01-10T20:07:27.775Z"
   },
   {
    "duration": 20,
    "start_time": "2023-01-10T20:07:27.788Z"
   },
   {
    "duration": 5,
    "start_time": "2023-01-10T20:07:27.810Z"
   },
   {
    "duration": 251,
    "start_time": "2023-01-10T20:07:27.817Z"
   },
   {
    "duration": 6,
    "start_time": "2023-01-10T20:07:28.070Z"
   },
   {
    "duration": 13,
    "start_time": "2023-01-10T20:07:28.078Z"
   },
   {
    "duration": 10,
    "start_time": "2023-01-10T20:07:28.093Z"
   },
   {
    "duration": 24,
    "start_time": "2023-01-10T20:07:28.105Z"
   },
   {
    "duration": 36,
    "start_time": "2023-01-10T20:07:28.133Z"
   },
   {
    "duration": 28,
    "start_time": "2023-01-10T20:13:35.924Z"
   },
   {
    "duration": 127,
    "start_time": "2023-01-10T20:14:27.161Z"
   },
   {
    "duration": 6,
    "start_time": "2023-01-10T20:41:08.122Z"
   },
   {
    "duration": 1327,
    "start_time": "2023-01-10T20:41:15.753Z"
   },
   {
    "duration": 123,
    "start_time": "2023-01-10T20:41:17.083Z"
   },
   {
    "duration": 50,
    "start_time": "2023-01-10T20:41:17.208Z"
   },
   {
    "duration": 41,
    "start_time": "2023-01-10T20:41:17.261Z"
   },
   {
    "duration": 2396,
    "start_time": "2023-01-10T20:41:17.305Z"
   },
   {
    "duration": 11,
    "start_time": "2023-01-10T20:41:19.703Z"
   },
   {
    "duration": 18,
    "start_time": "2023-01-10T20:41:19.715Z"
   },
   {
    "duration": 10,
    "start_time": "2023-01-10T20:41:19.734Z"
   },
   {
    "duration": 330,
    "start_time": "2023-01-10T20:41:19.746Z"
   },
   {
    "duration": 7,
    "start_time": "2023-01-10T20:41:20.080Z"
   },
   {
    "duration": 15,
    "start_time": "2023-01-10T20:41:20.089Z"
   },
   {
    "duration": 13,
    "start_time": "2023-01-10T20:41:20.106Z"
   },
   {
    "duration": 167,
    "start_time": "2023-01-10T20:41:20.122Z"
   },
   {
    "duration": 0,
    "start_time": "2023-01-10T20:41:20.291Z"
   },
   {
    "duration": 0,
    "start_time": "2023-01-10T20:41:20.292Z"
   },
   {
    "duration": 1,
    "start_time": "2023-01-10T20:41:20.293Z"
   },
   {
    "duration": 6,
    "start_time": "2023-01-10T20:41:48.108Z"
   },
   {
    "duration": 1391,
    "start_time": "2023-01-10T20:42:07.841Z"
   },
   {
    "duration": 124,
    "start_time": "2023-01-10T20:42:09.235Z"
   },
   {
    "duration": 54,
    "start_time": "2023-01-10T20:42:09.362Z"
   },
   {
    "duration": 78,
    "start_time": "2023-01-10T20:42:09.419Z"
   },
   {
    "duration": 2741,
    "start_time": "2023-01-10T20:42:09.499Z"
   },
   {
    "duration": 30,
    "start_time": "2023-01-10T20:42:12.243Z"
   },
   {
    "duration": 32,
    "start_time": "2023-01-10T20:42:12.276Z"
   },
   {
    "duration": 6,
    "start_time": "2023-01-10T20:42:12.311Z"
   },
   {
    "duration": 316,
    "start_time": "2023-01-10T20:42:12.320Z"
   },
   {
    "duration": 12,
    "start_time": "2023-01-10T20:42:12.639Z"
   },
   {
    "duration": 26,
    "start_time": "2023-01-10T20:42:12.653Z"
   },
   {
    "duration": 10,
    "start_time": "2023-01-10T20:42:12.681Z"
   },
   {
    "duration": 7,
    "start_time": "2023-01-10T20:42:12.693Z"
   },
   {
    "duration": 13,
    "start_time": "2023-01-10T20:42:12.703Z"
   },
   {
    "duration": 33,
    "start_time": "2023-01-10T20:42:12.718Z"
   },
   {
    "duration": 6,
    "start_time": "2023-01-10T20:50:13.271Z"
   },
   {
    "duration": 1306,
    "start_time": "2023-01-10T20:50:24.016Z"
   },
   {
    "duration": 112,
    "start_time": "2023-01-10T20:50:25.325Z"
   },
   {
    "duration": 39,
    "start_time": "2023-01-10T20:50:25.439Z"
   },
   {
    "duration": 70,
    "start_time": "2023-01-10T20:50:25.481Z"
   },
   {
    "duration": 2185,
    "start_time": "2023-01-10T20:50:25.555Z"
   },
   {
    "duration": 10,
    "start_time": "2023-01-10T20:50:27.743Z"
   },
   {
    "duration": 18,
    "start_time": "2023-01-10T20:50:27.754Z"
   },
   {
    "duration": 4,
    "start_time": "2023-01-10T20:50:27.774Z"
   },
   {
    "duration": 229,
    "start_time": "2023-01-10T20:50:27.781Z"
   },
   {
    "duration": 5,
    "start_time": "2023-01-10T20:50:28.012Z"
   },
   {
    "duration": 9,
    "start_time": "2023-01-10T20:50:28.019Z"
   },
   {
    "duration": 23,
    "start_time": "2023-01-10T20:50:28.030Z"
   },
   {
    "duration": 13,
    "start_time": "2023-01-10T20:50:28.055Z"
   },
   {
    "duration": 15,
    "start_time": "2023-01-10T20:50:28.071Z"
   },
   {
    "duration": 12,
    "start_time": "2023-01-10T20:50:28.088Z"
   },
   {
    "duration": 15,
    "start_time": "2023-01-10T20:50:28.102Z"
   },
   {
    "duration": 5,
    "start_time": "2023-01-10T20:53:30.541Z"
   },
   {
    "duration": 1254,
    "start_time": "2023-01-10T20:59:37.668Z"
   },
   {
    "duration": 106,
    "start_time": "2023-01-10T20:59:38.924Z"
   },
   {
    "duration": 40,
    "start_time": "2023-01-10T20:59:39.032Z"
   },
   {
    "duration": 38,
    "start_time": "2023-01-10T20:59:39.074Z"
   },
   {
    "duration": 2326,
    "start_time": "2023-01-10T20:59:39.114Z"
   },
   {
    "duration": 12,
    "start_time": "2023-01-10T20:59:41.442Z"
   },
   {
    "duration": 18,
    "start_time": "2023-01-10T20:59:41.455Z"
   },
   {
    "duration": 5,
    "start_time": "2023-01-10T20:59:41.475Z"
   },
   {
    "duration": 230,
    "start_time": "2023-01-10T20:59:41.482Z"
   },
   {
    "duration": 5,
    "start_time": "2023-01-10T20:59:41.715Z"
   },
   {
    "duration": 8,
    "start_time": "2023-01-10T20:59:41.721Z"
   },
   {
    "duration": 20,
    "start_time": "2023-01-10T20:59:41.731Z"
   },
   {
    "duration": 11,
    "start_time": "2023-01-10T20:59:41.753Z"
   },
   {
    "duration": 14,
    "start_time": "2023-01-10T20:59:41.766Z"
   },
   {
    "duration": 9,
    "start_time": "2023-01-10T20:59:41.782Z"
   },
   {
    "duration": 14,
    "start_time": "2023-01-10T20:59:41.793Z"
   },
   {
    "duration": 13,
    "start_time": "2023-01-10T20:59:41.809Z"
   },
   {
    "duration": 7,
    "start_time": "2023-01-10T20:59:41.824Z"
   },
   {
    "duration": 18,
    "start_time": "2023-01-10T20:59:41.834Z"
   },
   {
    "duration": 15,
    "start_time": "2023-01-10T20:59:41.854Z"
   },
   {
    "duration": 31,
    "start_time": "2023-01-10T21:01:43.310Z"
   },
   {
    "duration": 125,
    "start_time": "2023-01-10T21:11:31.729Z"
   },
   {
    "duration": 54,
    "start_time": "2023-01-10T21:16:50.622Z"
   },
   {
    "duration": 7,
    "start_time": "2023-01-10T21:18:10.417Z"
   },
   {
    "duration": 1308,
    "start_time": "2023-01-10T21:18:17.664Z"
   },
   {
    "duration": 117,
    "start_time": "2023-01-10T21:18:18.974Z"
   },
   {
    "duration": 46,
    "start_time": "2023-01-10T21:18:19.093Z"
   },
   {
    "duration": 41,
    "start_time": "2023-01-10T21:18:19.151Z"
   },
   {
    "duration": 2452,
    "start_time": "2023-01-10T21:18:19.196Z"
   },
   {
    "duration": 14,
    "start_time": "2023-01-10T21:18:21.651Z"
   },
   {
    "duration": 19,
    "start_time": "2023-01-10T21:18:21.667Z"
   },
   {
    "duration": 12,
    "start_time": "2023-01-10T21:18:21.688Z"
   },
   {
    "duration": 253,
    "start_time": "2023-01-10T21:18:21.703Z"
   },
   {
    "duration": 7,
    "start_time": "2023-01-10T21:18:21.958Z"
   },
   {
    "duration": 9,
    "start_time": "2023-01-10T21:18:21.967Z"
   },
   {
    "duration": 10,
    "start_time": "2023-01-10T21:18:21.978Z"
   },
   {
    "duration": 6,
    "start_time": "2023-01-10T21:18:21.991Z"
   },
   {
    "duration": 18,
    "start_time": "2023-01-10T21:18:22.000Z"
   },
   {
    "duration": 9,
    "start_time": "2023-01-10T21:18:22.021Z"
   },
   {
    "duration": 23,
    "start_time": "2023-01-10T21:18:22.032Z"
   },
   {
    "duration": 10,
    "start_time": "2023-01-10T21:18:22.057Z"
   },
   {
    "duration": 8,
    "start_time": "2023-01-10T21:18:22.070Z"
   },
   {
    "duration": 185,
    "start_time": "2023-01-10T21:18:22.080Z"
   },
   {
    "duration": 0,
    "start_time": "2023-01-10T21:18:22.268Z"
   },
   {
    "duration": 0,
    "start_time": "2023-01-10T21:18:22.269Z"
   },
   {
    "duration": 0,
    "start_time": "2023-01-10T21:18:22.270Z"
   },
   {
    "duration": 3,
    "start_time": "2023-01-10T21:19:04.737Z"
   },
   {
    "duration": 1248,
    "start_time": "2023-01-10T21:19:13.467Z"
   },
   {
    "duration": 114,
    "start_time": "2023-01-10T21:19:14.716Z"
   },
   {
    "duration": 52,
    "start_time": "2023-01-10T21:19:14.832Z"
   },
   {
    "duration": 67,
    "start_time": "2023-01-10T21:19:14.886Z"
   },
   {
    "duration": 2364,
    "start_time": "2023-01-10T21:19:14.956Z"
   },
   {
    "duration": 10,
    "start_time": "2023-01-10T21:19:17.322Z"
   },
   {
    "duration": 20,
    "start_time": "2023-01-10T21:19:17.334Z"
   },
   {
    "duration": 4,
    "start_time": "2023-01-10T21:19:17.356Z"
   },
   {
    "duration": 225,
    "start_time": "2023-01-10T21:19:17.362Z"
   },
   {
    "duration": 6,
    "start_time": "2023-01-10T21:19:17.589Z"
   },
   {
    "duration": 11,
    "start_time": "2023-01-10T21:19:17.596Z"
   },
   {
    "duration": 7,
    "start_time": "2023-01-10T21:19:17.608Z"
   },
   {
    "duration": 5,
    "start_time": "2023-01-10T21:19:17.617Z"
   },
   {
    "duration": 7,
    "start_time": "2023-01-10T21:19:17.625Z"
   },
   {
    "duration": 19,
    "start_time": "2023-01-10T21:19:17.634Z"
   },
   {
    "duration": 12,
    "start_time": "2023-01-10T21:19:17.655Z"
   },
   {
    "duration": 11,
    "start_time": "2023-01-10T21:19:17.668Z"
   },
   {
    "duration": 17,
    "start_time": "2023-01-10T21:19:17.681Z"
   },
   {
    "duration": 12,
    "start_time": "2023-01-10T21:19:17.700Z"
   },
   {
    "duration": 19,
    "start_time": "2023-01-10T21:19:17.715Z"
   },
   {
    "duration": 35,
    "start_time": "2023-01-10T21:19:17.736Z"
   },
   {
    "duration": 34,
    "start_time": "2023-01-10T21:19:17.773Z"
   },
   {
    "duration": 8,
    "start_time": "2023-01-10T21:20:32.141Z"
   },
   {
    "duration": 4,
    "start_time": "2023-01-10T21:26:01.410Z"
   },
   {
    "duration": 1289,
    "start_time": "2023-01-10T21:26:14.511Z"
   },
   {
    "duration": 109,
    "start_time": "2023-01-10T21:26:15.802Z"
   },
   {
    "duration": 61,
    "start_time": "2023-01-10T21:26:15.913Z"
   },
   {
    "duration": 55,
    "start_time": "2023-01-10T21:26:15.977Z"
   },
   {
    "duration": 2308,
    "start_time": "2023-01-10T21:26:16.036Z"
   },
   {
    "duration": 12,
    "start_time": "2023-01-10T21:26:18.346Z"
   },
   {
    "duration": 20,
    "start_time": "2023-01-10T21:26:18.360Z"
   },
   {
    "duration": 5,
    "start_time": "2023-01-10T21:26:18.381Z"
   },
   {
    "duration": 261,
    "start_time": "2023-01-10T21:26:18.388Z"
   },
   {
    "duration": 7,
    "start_time": "2023-01-10T21:26:18.651Z"
   },
   {
    "duration": 9,
    "start_time": "2023-01-10T21:26:18.660Z"
   },
   {
    "duration": 9,
    "start_time": "2023-01-10T21:26:18.672Z"
   },
   {
    "duration": 15,
    "start_time": "2023-01-10T21:26:18.684Z"
   },
   {
    "duration": 9,
    "start_time": "2023-01-10T21:26:18.705Z"
   },
   {
    "duration": 6,
    "start_time": "2023-01-10T21:26:18.716Z"
   },
   {
    "duration": 26,
    "start_time": "2023-01-10T21:26:18.724Z"
   },
   {
    "duration": 6,
    "start_time": "2023-01-10T21:26:18.752Z"
   },
   {
    "duration": 18,
    "start_time": "2023-01-10T21:26:18.760Z"
   },
   {
    "duration": 31,
    "start_time": "2023-01-10T21:26:18.781Z"
   },
   {
    "duration": 25,
    "start_time": "2023-01-10T21:26:18.814Z"
   },
   {
    "duration": 25,
    "start_time": "2023-01-10T21:26:18.842Z"
   },
   {
    "duration": 28,
    "start_time": "2023-01-10T21:26:18.869Z"
   },
   {
    "duration": 41,
    "start_time": "2023-01-10T21:26:18.899Z"
   },
   {
    "duration": 106,
    "start_time": "2023-01-10T21:29:41.576Z"
   },
   {
    "duration": 8,
    "start_time": "2023-01-10T21:29:50.409Z"
   },
   {
    "duration": 5,
    "start_time": "2023-01-10T21:36:53.807Z"
   },
   {
    "duration": 7,
    "start_time": "2023-01-10T21:44:58.283Z"
   },
   {
    "duration": 141,
    "start_time": "2023-01-10T21:52:50.795Z"
   },
   {
    "duration": 134,
    "start_time": "2023-01-10T21:53:53.799Z"
   },
   {
    "duration": 178,
    "start_time": "2023-01-10T21:54:49.649Z"
   },
   {
    "duration": 11,
    "start_time": "2023-01-10T21:55:55.033Z"
   },
   {
    "duration": 17,
    "start_time": "2023-01-10T21:56:38.451Z"
   },
   {
    "duration": 135,
    "start_time": "2023-01-10T21:57:03.926Z"
   },
   {
    "duration": 1272,
    "start_time": "2023-01-10T21:59:55.259Z"
   },
   {
    "duration": 103,
    "start_time": "2023-01-10T21:59:56.534Z"
   },
   {
    "duration": 37,
    "start_time": "2023-01-10T21:59:56.638Z"
   },
   {
    "duration": 40,
    "start_time": "2023-01-10T21:59:56.678Z"
   },
   {
    "duration": 2201,
    "start_time": "2023-01-10T21:59:56.720Z"
   },
   {
    "duration": 12,
    "start_time": "2023-01-10T21:59:58.923Z"
   },
   {
    "duration": 18,
    "start_time": "2023-01-10T21:59:58.937Z"
   },
   {
    "duration": 5,
    "start_time": "2023-01-10T21:59:58.957Z"
   },
   {
    "duration": 253,
    "start_time": "2023-01-10T21:59:58.964Z"
   },
   {
    "duration": 10,
    "start_time": "2023-01-10T21:59:59.220Z"
   },
   {
    "duration": 19,
    "start_time": "2023-01-10T21:59:59.232Z"
   },
   {
    "duration": 7,
    "start_time": "2023-01-10T21:59:59.253Z"
   },
   {
    "duration": 9,
    "start_time": "2023-01-10T21:59:59.262Z"
   },
   {
    "duration": 20,
    "start_time": "2023-01-10T21:59:59.272Z"
   },
   {
    "duration": 24,
    "start_time": "2023-01-10T21:59:59.295Z"
   },
   {
    "duration": 16,
    "start_time": "2023-01-10T21:59:59.322Z"
   },
   {
    "duration": 7,
    "start_time": "2023-01-10T21:59:59.341Z"
   },
   {
    "duration": 10,
    "start_time": "2023-01-10T21:59:59.350Z"
   },
   {
    "duration": 10,
    "start_time": "2023-01-10T21:59:59.361Z"
   },
   {
    "duration": 154,
    "start_time": "2023-01-10T21:59:59.373Z"
   },
   {
    "duration": 21,
    "start_time": "2023-01-10T21:59:59.529Z"
   },
   {
    "duration": 16,
    "start_time": "2023-01-10T21:59:59.552Z"
   },
   {
    "duration": 42,
    "start_time": "2023-01-10T21:59:59.570Z"
   },
   {
    "duration": 98,
    "start_time": "2023-01-10T22:05:31.665Z"
   },
   {
    "duration": 8,
    "start_time": "2023-01-10T22:05:46.351Z"
   },
   {
    "duration": 8,
    "start_time": "2023-01-10T22:06:00.880Z"
   },
   {
    "duration": 13,
    "start_time": "2023-01-10T22:08:15.754Z"
   },
   {
    "duration": 166,
    "start_time": "2023-01-10T22:09:07.175Z"
   },
   {
    "duration": 75,
    "start_time": "2023-01-10T22:09:17.767Z"
   },
   {
    "duration": 10,
    "start_time": "2023-01-10T22:11:02.244Z"
   },
   {
    "duration": 10,
    "start_time": "2023-01-10T22:11:18.220Z"
   },
   {
    "duration": 10,
    "start_time": "2023-01-10T22:11:30.893Z"
   },
   {
    "duration": 9,
    "start_time": "2023-01-10T22:24:00.858Z"
   },
   {
    "duration": 1181,
    "start_time": "2023-01-10T22:24:14.111Z"
   },
   {
    "duration": 107,
    "start_time": "2023-01-10T22:24:15.294Z"
   },
   {
    "duration": 39,
    "start_time": "2023-01-10T22:24:15.403Z"
   },
   {
    "duration": 43,
    "start_time": "2023-01-10T22:24:15.451Z"
   },
   {
    "duration": 2316,
    "start_time": "2023-01-10T22:24:15.496Z"
   },
   {
    "duration": 11,
    "start_time": "2023-01-10T22:24:17.814Z"
   },
   {
    "duration": 18,
    "start_time": "2023-01-10T22:24:17.826Z"
   },
   {
    "duration": 4,
    "start_time": "2023-01-10T22:24:17.846Z"
   },
   {
    "duration": 229,
    "start_time": "2023-01-10T22:24:17.852Z"
   },
   {
    "duration": 6,
    "start_time": "2023-01-10T22:24:18.083Z"
   },
   {
    "duration": 10,
    "start_time": "2023-01-10T22:24:18.090Z"
   },
   {
    "duration": 7,
    "start_time": "2023-01-10T22:24:18.102Z"
   },
   {
    "duration": 5,
    "start_time": "2023-01-10T22:24:18.110Z"
   },
   {
    "duration": 5,
    "start_time": "2023-01-10T22:24:18.118Z"
   },
   {
    "duration": 28,
    "start_time": "2023-01-10T22:24:18.124Z"
   },
   {
    "duration": 14,
    "start_time": "2023-01-10T22:24:18.155Z"
   },
   {
    "duration": 9,
    "start_time": "2023-01-10T22:24:18.171Z"
   },
   {
    "duration": 13,
    "start_time": "2023-01-10T22:24:18.182Z"
   },
   {
    "duration": 14,
    "start_time": "2023-01-10T22:24:18.197Z"
   },
   {
    "duration": 11,
    "start_time": "2023-01-10T22:24:18.213Z"
   },
   {
    "duration": 185,
    "start_time": "2023-01-10T22:24:18.226Z"
   },
   {
    "duration": 11,
    "start_time": "2023-01-10T22:24:18.412Z"
   },
   {
    "duration": 11,
    "start_time": "2023-01-10T22:24:18.425Z"
   },
   {
    "duration": 15,
    "start_time": "2023-01-10T22:24:18.452Z"
   },
   {
    "duration": 32,
    "start_time": "2023-01-10T22:24:18.469Z"
   },
   {
    "duration": 1265,
    "start_time": "2023-01-10T22:26:16.929Z"
   },
   {
    "duration": 103,
    "start_time": "2023-01-10T22:26:18.197Z"
   },
   {
    "duration": 35,
    "start_time": "2023-01-10T22:26:18.302Z"
   },
   {
    "duration": 48,
    "start_time": "2023-01-10T22:26:18.340Z"
   },
   {
    "duration": 2411,
    "start_time": "2023-01-10T22:26:18.390Z"
   },
   {
    "duration": 10,
    "start_time": "2023-01-10T22:26:20.803Z"
   },
   {
    "duration": 22,
    "start_time": "2023-01-10T22:26:20.815Z"
   },
   {
    "duration": 5,
    "start_time": "2023-01-10T22:26:20.839Z"
   },
   {
    "duration": 217,
    "start_time": "2023-01-10T22:26:20.845Z"
   },
   {
    "duration": 5,
    "start_time": "2023-01-10T22:26:21.065Z"
   },
   {
    "duration": 13,
    "start_time": "2023-01-10T22:26:21.072Z"
   },
   {
    "duration": 8,
    "start_time": "2023-01-10T22:26:21.087Z"
   },
   {
    "duration": 13,
    "start_time": "2023-01-10T22:26:21.097Z"
   },
   {
    "duration": 11,
    "start_time": "2023-01-10T22:26:21.112Z"
   },
   {
    "duration": 13,
    "start_time": "2023-01-10T22:26:21.125Z"
   },
   {
    "duration": 27,
    "start_time": "2023-01-10T22:26:21.150Z"
   },
   {
    "duration": 36,
    "start_time": "2023-01-10T22:26:21.179Z"
   },
   {
    "duration": 20,
    "start_time": "2023-01-10T22:26:21.217Z"
   },
   {
    "duration": 12,
    "start_time": "2023-01-10T22:26:21.239Z"
   },
   {
    "duration": 158,
    "start_time": "2023-01-10T22:26:21.253Z"
   },
   {
    "duration": 11,
    "start_time": "2023-01-10T22:26:21.413Z"
   },
   {
    "duration": 12,
    "start_time": "2023-01-10T22:26:21.426Z"
   },
   {
    "duration": 17,
    "start_time": "2023-01-10T22:26:21.451Z"
   },
   {
    "duration": 31,
    "start_time": "2023-01-10T22:26:21.470Z"
   },
   {
    "duration": 11,
    "start_time": "2023-01-10T22:36:27.825Z"
   },
   {
    "duration": 9,
    "start_time": "2023-01-10T22:37:28.432Z"
   },
   {
    "duration": 10,
    "start_time": "2023-01-10T22:38:07.165Z"
   },
   {
    "duration": 1230,
    "start_time": "2023-01-10T22:38:25.068Z"
   },
   {
    "duration": 99,
    "start_time": "2023-01-10T22:38:26.301Z"
   },
   {
    "duration": 36,
    "start_time": "2023-01-10T22:38:26.402Z"
   },
   {
    "duration": 37,
    "start_time": "2023-01-10T22:38:26.451Z"
   },
   {
    "duration": 2142,
    "start_time": "2023-01-10T22:38:26.490Z"
   },
   {
    "duration": 11,
    "start_time": "2023-01-10T22:38:28.634Z"
   },
   {
    "duration": 18,
    "start_time": "2023-01-10T22:38:28.646Z"
   },
   {
    "duration": 4,
    "start_time": "2023-01-10T22:38:28.666Z"
   },
   {
    "duration": 236,
    "start_time": "2023-01-10T22:38:28.672Z"
   },
   {
    "duration": 5,
    "start_time": "2023-01-10T22:38:28.910Z"
   },
   {
    "duration": 11,
    "start_time": "2023-01-10T22:38:28.916Z"
   },
   {
    "duration": 6,
    "start_time": "2023-01-10T22:38:28.929Z"
   },
   {
    "duration": 6,
    "start_time": "2023-01-10T22:38:28.950Z"
   },
   {
    "duration": 8,
    "start_time": "2023-01-10T22:38:28.959Z"
   },
   {
    "duration": 7,
    "start_time": "2023-01-10T22:38:28.969Z"
   },
   {
    "duration": 13,
    "start_time": "2023-01-10T22:38:28.978Z"
   },
   {
    "duration": 6,
    "start_time": "2023-01-10T22:38:28.993Z"
   },
   {
    "duration": 9,
    "start_time": "2023-01-10T22:38:29.001Z"
   },
   {
    "duration": 41,
    "start_time": "2023-01-10T22:38:29.011Z"
   },
   {
    "duration": 184,
    "start_time": "2023-01-10T22:38:29.053Z"
   },
   {
    "duration": 18,
    "start_time": "2023-01-10T22:38:29.239Z"
   },
   {
    "duration": 14,
    "start_time": "2023-01-10T22:38:29.259Z"
   },
   {
    "duration": 16,
    "start_time": "2023-01-10T22:38:29.275Z"
   },
   {
    "duration": 70,
    "start_time": "2023-01-10T22:38:29.293Z"
   },
   {
    "duration": 1179,
    "start_time": "2023-01-10T22:45:26.110Z"
   },
   {
    "duration": 99,
    "start_time": "2023-01-10T22:45:27.291Z"
   },
   {
    "duration": 34,
    "start_time": "2023-01-10T22:45:27.392Z"
   },
   {
    "duration": 48,
    "start_time": "2023-01-10T22:45:27.428Z"
   },
   {
    "duration": 2180,
    "start_time": "2023-01-10T22:45:27.477Z"
   },
   {
    "duration": 14,
    "start_time": "2023-01-10T22:45:29.659Z"
   },
   {
    "duration": 34,
    "start_time": "2023-01-10T22:45:29.675Z"
   },
   {
    "duration": 7,
    "start_time": "2023-01-10T22:45:29.711Z"
   },
   {
    "duration": 288,
    "start_time": "2023-01-10T22:45:29.720Z"
   },
   {
    "duration": 6,
    "start_time": "2023-01-10T22:45:30.011Z"
   },
   {
    "duration": 13,
    "start_time": "2023-01-10T22:45:30.019Z"
   },
   {
    "duration": 17,
    "start_time": "2023-01-10T22:45:30.034Z"
   },
   {
    "duration": 5,
    "start_time": "2023-01-10T22:45:30.054Z"
   },
   {
    "duration": 15,
    "start_time": "2023-01-10T22:45:30.060Z"
   },
   {
    "duration": 9,
    "start_time": "2023-01-10T22:45:30.077Z"
   },
   {
    "duration": 13,
    "start_time": "2023-01-10T22:45:30.088Z"
   },
   {
    "duration": 9,
    "start_time": "2023-01-10T22:45:30.102Z"
   },
   {
    "duration": 13,
    "start_time": "2023-01-10T22:45:30.112Z"
   },
   {
    "duration": 13,
    "start_time": "2023-01-10T22:45:30.126Z"
   },
   {
    "duration": 182,
    "start_time": "2023-01-10T22:45:30.141Z"
   },
   {
    "duration": 9,
    "start_time": "2023-01-10T22:45:30.325Z"
   },
   {
    "duration": 21,
    "start_time": "2023-01-10T22:45:30.351Z"
   },
   {
    "duration": 41,
    "start_time": "2023-01-10T22:45:30.374Z"
   },
   {
    "duration": 11,
    "start_time": "2023-01-10T22:56:26.570Z"
   },
   {
    "duration": 45,
    "start_time": "2023-01-11T14:26:39.694Z"
   },
   {
    "duration": 5,
    "start_time": "2023-01-11T14:26:44.904Z"
   },
   {
    "duration": 1443,
    "start_time": "2023-01-11T14:26:50.374Z"
   },
   {
    "duration": 186,
    "start_time": "2023-01-11T14:26:51.819Z"
   },
   {
    "duration": 34,
    "start_time": "2023-01-11T14:26:52.007Z"
   },
   {
    "duration": 33,
    "start_time": "2023-01-11T14:26:52.043Z"
   },
   {
    "duration": 2321,
    "start_time": "2023-01-11T14:26:52.078Z"
   },
   {
    "duration": 10,
    "start_time": "2023-01-11T14:26:54.401Z"
   },
   {
    "duration": 16,
    "start_time": "2023-01-11T14:26:54.413Z"
   },
   {
    "duration": 5,
    "start_time": "2023-01-11T14:26:54.431Z"
   },
   {
    "duration": 229,
    "start_time": "2023-01-11T14:26:54.437Z"
   },
   {
    "duration": 15,
    "start_time": "2023-01-11T14:26:54.668Z"
   },
   {
    "duration": 24,
    "start_time": "2023-01-11T14:26:54.686Z"
   },
   {
    "duration": 9,
    "start_time": "2023-01-11T14:26:54.712Z"
   },
   {
    "duration": 12,
    "start_time": "2023-01-11T14:26:54.723Z"
   },
   {
    "duration": 11,
    "start_time": "2023-01-11T14:26:54.737Z"
   },
   {
    "duration": 14,
    "start_time": "2023-01-11T14:26:54.749Z"
   },
   {
    "duration": 20,
    "start_time": "2023-01-11T14:26:54.764Z"
   },
   {
    "duration": 30,
    "start_time": "2023-01-11T14:26:54.787Z"
   },
   {
    "duration": 17,
    "start_time": "2023-01-11T14:26:54.819Z"
   },
   {
    "duration": 17,
    "start_time": "2023-01-11T14:26:54.838Z"
   },
   {
    "duration": 158,
    "start_time": "2023-01-11T14:26:54.857Z"
   },
   {
    "duration": 11,
    "start_time": "2023-01-11T14:26:55.017Z"
   },
   {
    "duration": 21,
    "start_time": "2023-01-11T14:26:55.029Z"
   },
   {
    "duration": 32,
    "start_time": "2023-01-11T14:26:55.053Z"
   },
   {
    "duration": 46,
    "start_time": "2023-01-11T14:26:55.087Z"
   },
   {
    "duration": 8,
    "start_time": "2023-01-11T14:34:34.693Z"
   },
   {
    "duration": 8,
    "start_time": "2023-01-11T14:37:53.636Z"
   },
   {
    "duration": 16,
    "start_time": "2023-01-11T14:45:57.923Z"
   },
   {
    "duration": 25,
    "start_time": "2023-01-11T14:49:32.296Z"
   },
   {
    "duration": 25,
    "start_time": "2023-01-11T14:49:47.161Z"
   },
   {
    "duration": 16,
    "start_time": "2023-01-11T14:50:38.182Z"
   },
   {
    "duration": 28,
    "start_time": "2023-01-11T14:52:05.151Z"
   },
   {
    "duration": 9,
    "start_time": "2023-01-11T14:54:14.814Z"
   },
   {
    "duration": 9,
    "start_time": "2023-01-11T14:59:38.580Z"
   },
   {
    "duration": 6,
    "start_time": "2023-01-11T15:00:55.934Z"
   },
   {
    "duration": 11,
    "start_time": "2023-01-11T15:03:42.624Z"
   },
   {
    "duration": 120,
    "start_time": "2023-01-11T15:04:12.759Z"
   },
   {
    "duration": 1113,
    "start_time": "2023-01-11T15:04:23.006Z"
   },
   {
    "duration": 101,
    "start_time": "2023-01-11T15:04:24.121Z"
   },
   {
    "duration": 35,
    "start_time": "2023-01-11T15:04:24.224Z"
   },
   {
    "duration": 45,
    "start_time": "2023-01-11T15:04:24.261Z"
   },
   {
    "duration": 1909,
    "start_time": "2023-01-11T15:04:24.308Z"
   },
   {
    "duration": 10,
    "start_time": "2023-01-11T15:04:26.219Z"
   },
   {
    "duration": 9,
    "start_time": "2023-01-11T15:04:26.231Z"
   },
   {
    "duration": 10,
    "start_time": "2023-01-11T15:04:26.241Z"
   },
   {
    "duration": 36,
    "start_time": "2023-01-11T15:04:26.252Z"
   },
   {
    "duration": 17,
    "start_time": "2023-01-11T15:04:26.289Z"
   },
   {
    "duration": 7,
    "start_time": "2023-01-11T15:04:26.308Z"
   },
   {
    "duration": 115,
    "start_time": "2023-01-11T15:04:26.316Z"
   },
   {
    "duration": 0,
    "start_time": "2023-01-11T15:04:26.433Z"
   },
   {
    "duration": 0,
    "start_time": "2023-01-11T15:04:26.434Z"
   },
   {
    "duration": 0,
    "start_time": "2023-01-11T15:04:26.435Z"
   },
   {
    "duration": 0,
    "start_time": "2023-01-11T15:04:26.436Z"
   },
   {
    "duration": 0,
    "start_time": "2023-01-11T15:04:26.437Z"
   },
   {
    "duration": 0,
    "start_time": "2023-01-11T15:04:26.438Z"
   },
   {
    "duration": 0,
    "start_time": "2023-01-11T15:04:26.439Z"
   },
   {
    "duration": 0,
    "start_time": "2023-01-11T15:04:26.440Z"
   },
   {
    "duration": 0,
    "start_time": "2023-01-11T15:04:26.441Z"
   },
   {
    "duration": 0,
    "start_time": "2023-01-11T15:04:26.442Z"
   },
   {
    "duration": 0,
    "start_time": "2023-01-11T15:04:26.443Z"
   },
   {
    "duration": 0,
    "start_time": "2023-01-11T15:04:26.443Z"
   },
   {
    "duration": 0,
    "start_time": "2023-01-11T15:04:26.444Z"
   },
   {
    "duration": 0,
    "start_time": "2023-01-11T15:04:26.445Z"
   },
   {
    "duration": 0,
    "start_time": "2023-01-11T15:04:26.446Z"
   },
   {
    "duration": 0,
    "start_time": "2023-01-11T15:04:26.447Z"
   },
   {
    "duration": 0,
    "start_time": "2023-01-11T15:04:26.448Z"
   },
   {
    "duration": 12,
    "start_time": "2023-01-11T15:05:05.311Z"
   },
   {
    "duration": 14,
    "start_time": "2023-01-11T15:05:22.614Z"
   },
   {
    "duration": 10,
    "start_time": "2023-01-11T15:05:32.174Z"
   },
   {
    "duration": 6,
    "start_time": "2023-01-11T15:08:13.622Z"
   },
   {
    "duration": 7,
    "start_time": "2023-01-11T15:08:46.445Z"
   },
   {
    "duration": 11,
    "start_time": "2023-01-11T15:11:57.436Z"
   },
   {
    "duration": 8,
    "start_time": "2023-01-11T15:13:47.424Z"
   },
   {
    "duration": 8,
    "start_time": "2023-01-11T15:14:09.558Z"
   },
   {
    "duration": 37,
    "start_time": "2023-01-11T15:16:35.559Z"
   },
   {
    "duration": 11,
    "start_time": "2023-01-11T15:25:51.339Z"
   },
   {
    "duration": 12,
    "start_time": "2023-01-11T15:26:12.144Z"
   },
   {
    "duration": 10,
    "start_time": "2023-01-11T15:30:29.364Z"
   },
   {
    "duration": 10,
    "start_time": "2023-01-11T15:49:54.795Z"
   },
   {
    "duration": 10,
    "start_time": "2023-01-11T15:51:00.850Z"
   },
   {
    "duration": 10,
    "start_time": "2023-01-11T15:51:32.734Z"
   },
   {
    "duration": 10,
    "start_time": "2023-01-11T15:52:17.370Z"
   },
   {
    "duration": 9,
    "start_time": "2023-01-11T15:55:20.750Z"
   },
   {
    "duration": 11,
    "start_time": "2023-01-11T15:55:30.152Z"
   },
   {
    "duration": 9,
    "start_time": "2023-01-11T15:55:43.525Z"
   },
   {
    "duration": 12,
    "start_time": "2023-01-11T16:03:35.114Z"
   },
   {
    "duration": 10,
    "start_time": "2023-01-11T16:03:48.378Z"
   },
   {
    "duration": 9,
    "start_time": "2023-01-11T16:05:34.363Z"
   },
   {
    "duration": 6,
    "start_time": "2023-01-11T16:12:38.705Z"
   },
   {
    "duration": 25,
    "start_time": "2023-01-11T16:13:47.618Z"
   },
   {
    "duration": 10,
    "start_time": "2023-01-11T16:17:09.224Z"
   },
   {
    "duration": 14,
    "start_time": "2023-01-11T16:17:23.600Z"
   },
   {
    "duration": 14,
    "start_time": "2023-01-11T16:17:44.001Z"
   },
   {
    "duration": 12,
    "start_time": "2023-01-11T16:17:56.936Z"
   },
   {
    "duration": 17,
    "start_time": "2023-01-11T16:24:53.047Z"
   },
   {
    "duration": 1311,
    "start_time": "2023-01-11T16:25:27.615Z"
   },
   {
    "duration": 93,
    "start_time": "2023-01-11T16:25:28.928Z"
   },
   {
    "duration": 33,
    "start_time": "2023-01-11T16:25:29.022Z"
   },
   {
    "duration": 47,
    "start_time": "2023-01-11T16:25:29.057Z"
   },
   {
    "duration": 1931,
    "start_time": "2023-01-11T16:25:29.106Z"
   },
   {
    "duration": 11,
    "start_time": "2023-01-11T16:25:31.039Z"
   },
   {
    "duration": 27,
    "start_time": "2023-01-11T16:25:31.052Z"
   },
   {
    "duration": 12,
    "start_time": "2023-01-11T16:25:31.081Z"
   },
   {
    "duration": 39,
    "start_time": "2023-01-11T16:25:31.094Z"
   },
   {
    "duration": 18,
    "start_time": "2023-01-11T16:25:31.136Z"
   },
   {
    "duration": 16,
    "start_time": "2023-01-11T16:25:31.156Z"
   },
   {
    "duration": 11,
    "start_time": "2023-01-11T16:25:31.174Z"
   },
   {
    "duration": 29,
    "start_time": "2023-01-11T16:25:31.187Z"
   },
   {
    "duration": 70,
    "start_time": "2023-01-11T16:25:31.218Z"
   },
   {
    "duration": 14,
    "start_time": "2023-01-11T16:25:31.291Z"
   },
   {
    "duration": 19,
    "start_time": "2023-01-11T16:25:31.307Z"
   },
   {
    "duration": 12,
    "start_time": "2023-01-11T16:25:31.328Z"
   },
   {
    "duration": 47,
    "start_time": "2023-01-11T16:25:31.342Z"
   },
   {
    "duration": 75,
    "start_time": "2023-01-11T16:25:31.391Z"
   },
   {
    "duration": 0,
    "start_time": "2023-01-11T16:25:31.469Z"
   },
   {
    "duration": 0,
    "start_time": "2023-01-11T16:25:31.470Z"
   },
   {
    "duration": 0,
    "start_time": "2023-01-11T16:25:31.472Z"
   },
   {
    "duration": 0,
    "start_time": "2023-01-11T16:25:31.473Z"
   },
   {
    "duration": 0,
    "start_time": "2023-01-11T16:25:31.475Z"
   },
   {
    "duration": 0,
    "start_time": "2023-01-11T16:25:31.476Z"
   },
   {
    "duration": 0,
    "start_time": "2023-01-11T16:25:31.478Z"
   },
   {
    "duration": 0,
    "start_time": "2023-01-11T16:25:31.480Z"
   },
   {
    "duration": 0,
    "start_time": "2023-01-11T16:25:31.481Z"
   },
   {
    "duration": 0,
    "start_time": "2023-01-11T16:25:31.483Z"
   },
   {
    "duration": 0,
    "start_time": "2023-01-11T16:25:31.484Z"
   },
   {
    "duration": 0,
    "start_time": "2023-01-11T16:25:31.485Z"
   },
   {
    "duration": 0,
    "start_time": "2023-01-11T16:25:31.487Z"
   },
   {
    "duration": 0,
    "start_time": "2023-01-11T16:25:31.488Z"
   },
   {
    "duration": 0,
    "start_time": "2023-01-11T16:25:31.489Z"
   },
   {
    "duration": 0,
    "start_time": "2023-01-11T16:25:31.490Z"
   },
   {
    "duration": 0,
    "start_time": "2023-01-11T16:25:31.491Z"
   },
   {
    "duration": 0,
    "start_time": "2023-01-11T16:25:31.492Z"
   },
   {
    "duration": 102,
    "start_time": "2023-01-11T16:27:20.807Z"
   },
   {
    "duration": 15,
    "start_time": "2023-01-11T16:27:31.248Z"
   },
   {
    "duration": 1196,
    "start_time": "2023-01-11T16:27:37.879Z"
   },
   {
    "duration": 96,
    "start_time": "2023-01-11T16:27:39.077Z"
   },
   {
    "duration": 31,
    "start_time": "2023-01-11T16:27:39.174Z"
   },
   {
    "duration": 33,
    "start_time": "2023-01-11T16:27:39.207Z"
   },
   {
    "duration": 2060,
    "start_time": "2023-01-11T16:27:39.242Z"
   },
   {
    "duration": 11,
    "start_time": "2023-01-11T16:27:41.303Z"
   },
   {
    "duration": 10,
    "start_time": "2023-01-11T16:27:41.315Z"
   },
   {
    "duration": 9,
    "start_time": "2023-01-11T16:27:41.327Z"
   },
   {
    "duration": 26,
    "start_time": "2023-01-11T16:27:41.338Z"
   },
   {
    "duration": 26,
    "start_time": "2023-01-11T16:27:41.367Z"
   },
   {
    "duration": 8,
    "start_time": "2023-01-11T16:27:41.395Z"
   },
   {
    "duration": 12,
    "start_time": "2023-01-11T16:27:41.406Z"
   },
   {
    "duration": 14,
    "start_time": "2023-01-11T16:27:41.420Z"
   },
   {
    "duration": 80,
    "start_time": "2023-01-11T16:27:41.436Z"
   },
   {
    "duration": 13,
    "start_time": "2023-01-11T16:27:41.518Z"
   },
   {
    "duration": 13,
    "start_time": "2023-01-11T16:27:41.532Z"
   },
   {
    "duration": 33,
    "start_time": "2023-01-11T16:27:41.547Z"
   },
   {
    "duration": 23,
    "start_time": "2023-01-11T16:27:41.582Z"
   },
   {
    "duration": 10,
    "start_time": "2023-01-11T16:27:41.607Z"
   },
   {
    "duration": 184,
    "start_time": "2023-01-11T16:27:41.619Z"
   },
   {
    "duration": 0,
    "start_time": "2023-01-11T16:27:41.805Z"
   },
   {
    "duration": 0,
    "start_time": "2023-01-11T16:27:41.807Z"
   },
   {
    "duration": 0,
    "start_time": "2023-01-11T16:27:41.809Z"
   },
   {
    "duration": 0,
    "start_time": "2023-01-11T16:27:41.811Z"
   },
   {
    "duration": 0,
    "start_time": "2023-01-11T16:27:41.812Z"
   },
   {
    "duration": 0,
    "start_time": "2023-01-11T16:27:41.813Z"
   },
   {
    "duration": 0,
    "start_time": "2023-01-11T16:27:41.815Z"
   },
   {
    "duration": 0,
    "start_time": "2023-01-11T16:27:41.816Z"
   },
   {
    "duration": 0,
    "start_time": "2023-01-11T16:27:41.818Z"
   },
   {
    "duration": 0,
    "start_time": "2023-01-11T16:27:41.819Z"
   },
   {
    "duration": 0,
    "start_time": "2023-01-11T16:27:41.820Z"
   },
   {
    "duration": 0,
    "start_time": "2023-01-11T16:27:41.822Z"
   },
   {
    "duration": 0,
    "start_time": "2023-01-11T16:27:41.823Z"
   },
   {
    "duration": 0,
    "start_time": "2023-01-11T16:27:41.825Z"
   },
   {
    "duration": 0,
    "start_time": "2023-01-11T16:27:41.825Z"
   },
   {
    "duration": 0,
    "start_time": "2023-01-11T16:27:41.827Z"
   },
   {
    "duration": 13,
    "start_time": "2023-01-11T16:28:09.804Z"
   },
   {
    "duration": 5,
    "start_time": "2023-01-11T16:28:21.808Z"
   },
   {
    "duration": 13,
    "start_time": "2023-01-11T16:29:13.074Z"
   },
   {
    "duration": 5,
    "start_time": "2023-01-11T16:29:24.565Z"
   },
   {
    "duration": 13,
    "start_time": "2023-01-11T16:30:14.686Z"
   },
   {
    "duration": 52,
    "start_time": "2023-01-11T16:30:26.040Z"
   },
   {
    "duration": 12,
    "start_time": "2023-01-11T16:31:32.655Z"
   },
   {
    "duration": 12,
    "start_time": "2023-01-11T16:31:41.787Z"
   },
   {
    "duration": 13,
    "start_time": "2023-01-11T16:32:59.665Z"
   },
   {
    "duration": 7,
    "start_time": "2023-01-11T16:35:02.276Z"
   },
   {
    "duration": 11,
    "start_time": "2023-01-11T16:36:10.235Z"
   },
   {
    "duration": 5,
    "start_time": "2023-01-11T16:37:05.038Z"
   },
   {
    "duration": 8,
    "start_time": "2023-01-11T16:39:06.629Z"
   },
   {
    "duration": 12,
    "start_time": "2023-01-11T16:39:21.745Z"
   },
   {
    "duration": 10,
    "start_time": "2023-01-11T16:39:33.494Z"
   },
   {
    "duration": 9,
    "start_time": "2023-01-11T16:41:04.764Z"
   },
   {
    "duration": 6,
    "start_time": "2023-01-11T16:43:32.802Z"
   },
   {
    "duration": 7,
    "start_time": "2023-01-11T16:44:56.398Z"
   },
   {
    "duration": 4,
    "start_time": "2023-01-11T16:46:21.904Z"
   },
   {
    "duration": 9,
    "start_time": "2023-01-11T16:46:27.834Z"
   },
   {
    "duration": 6,
    "start_time": "2023-01-11T16:46:57.588Z"
   },
   {
    "duration": 6,
    "start_time": "2023-01-11T16:48:04.838Z"
   },
   {
    "duration": 9,
    "start_time": "2023-01-11T16:54:38.691Z"
   },
   {
    "duration": 9,
    "start_time": "2023-01-11T16:54:49.306Z"
   },
   {
    "duration": 8,
    "start_time": "2023-01-11T16:54:59.301Z"
   },
   {
    "duration": 8,
    "start_time": "2023-01-11T16:56:14.328Z"
   },
   {
    "duration": 9,
    "start_time": "2023-01-11T16:56:48.400Z"
   },
   {
    "duration": 9,
    "start_time": "2023-01-11T16:56:55.687Z"
   },
   {
    "duration": 9,
    "start_time": "2023-01-11T16:57:10.838Z"
   },
   {
    "duration": 8,
    "start_time": "2023-01-11T17:01:48.683Z"
   },
   {
    "duration": 10,
    "start_time": "2023-01-11T17:01:58.696Z"
   },
   {
    "duration": 9,
    "start_time": "2023-01-11T17:02:09.105Z"
   },
   {
    "duration": 8,
    "start_time": "2023-01-11T17:07:06.019Z"
   },
   {
    "duration": 6,
    "start_time": "2023-01-11T17:25:26.173Z"
   },
   {
    "duration": 8,
    "start_time": "2023-01-11T17:30:35.425Z"
   },
   {
    "duration": 10,
    "start_time": "2023-01-11T17:32:54.531Z"
   },
   {
    "duration": 11,
    "start_time": "2023-01-11T17:33:03.120Z"
   },
   {
    "duration": 22,
    "start_time": "2023-01-11T17:33:12.832Z"
   },
   {
    "duration": 9,
    "start_time": "2023-01-11T17:33:25.659Z"
   },
   {
    "duration": 6,
    "start_time": "2023-01-11T17:38:24.825Z"
   },
   {
    "duration": 11,
    "start_time": "2023-01-11T17:39:14.886Z"
   },
   {
    "duration": 10,
    "start_time": "2023-01-11T17:39:36.765Z"
   },
   {
    "duration": 7,
    "start_time": "2023-01-11T17:40:48.010Z"
   },
   {
    "duration": 9,
    "start_time": "2023-01-11T17:44:07.757Z"
   },
   {
    "duration": 9,
    "start_time": "2023-01-11T17:45:31.733Z"
   },
   {
    "duration": 10,
    "start_time": "2023-01-11T17:48:06.400Z"
   },
   {
    "duration": 11,
    "start_time": "2023-01-11T17:48:15.228Z"
   },
   {
    "duration": 10,
    "start_time": "2023-01-11T17:48:25.860Z"
   },
   {
    "duration": 4,
    "start_time": "2023-01-11T17:48:31.306Z"
   },
   {
    "duration": 5,
    "start_time": "2023-01-11T17:49:02.397Z"
   },
   {
    "duration": 10,
    "start_time": "2023-01-11T17:52:16.131Z"
   },
   {
    "duration": 12,
    "start_time": "2023-01-11T17:52:28.316Z"
   },
   {
    "duration": 13,
    "start_time": "2023-01-11T17:52:36.237Z"
   },
   {
    "duration": 15,
    "start_time": "2023-01-11T17:52:53.982Z"
   },
   {
    "duration": 9,
    "start_time": "2023-01-11T17:53:02.446Z"
   },
   {
    "duration": 10,
    "start_time": "2023-01-11T17:57:05.355Z"
   },
   {
    "duration": 11,
    "start_time": "2023-01-11T17:57:34.617Z"
   },
   {
    "duration": 118,
    "start_time": "2023-01-11T18:00:52.134Z"
   },
   {
    "duration": 138,
    "start_time": "2023-01-11T18:01:36.673Z"
   },
   {
    "duration": 118,
    "start_time": "2023-01-11T18:02:39.397Z"
   },
   {
    "duration": 69,
    "start_time": "2023-01-11T18:03:22.109Z"
   },
   {
    "duration": 5,
    "start_time": "2023-01-11T18:03:46.212Z"
   },
   {
    "duration": 6,
    "start_time": "2023-01-11T18:05:19.811Z"
   },
   {
    "duration": 1116,
    "start_time": "2023-01-11T18:05:40.527Z"
   },
   {
    "duration": 99,
    "start_time": "2023-01-11T18:05:41.645Z"
   },
   {
    "duration": 38,
    "start_time": "2023-01-11T18:05:41.746Z"
   },
   {
    "duration": 33,
    "start_time": "2023-01-11T18:05:41.786Z"
   },
   {
    "duration": 1876,
    "start_time": "2023-01-11T18:05:41.821Z"
   },
   {
    "duration": 10,
    "start_time": "2023-01-11T18:05:43.699Z"
   },
   {
    "duration": 8,
    "start_time": "2023-01-11T18:05:43.711Z"
   },
   {
    "duration": 7,
    "start_time": "2023-01-11T18:05:43.721Z"
   },
   {
    "duration": 22,
    "start_time": "2023-01-11T18:05:43.729Z"
   },
   {
    "duration": 31,
    "start_time": "2023-01-11T18:05:43.753Z"
   },
   {
    "duration": 7,
    "start_time": "2023-01-11T18:05:43.786Z"
   },
   {
    "duration": 9,
    "start_time": "2023-01-11T18:05:43.794Z"
   },
   {
    "duration": 10,
    "start_time": "2023-01-11T18:05:43.804Z"
   },
   {
    "duration": 32,
    "start_time": "2023-01-11T18:05:43.816Z"
   },
   {
    "duration": 31,
    "start_time": "2023-01-11T18:05:43.850Z"
   },
   {
    "duration": 9,
    "start_time": "2023-01-11T18:05:43.882Z"
   },
   {
    "duration": 9,
    "start_time": "2023-01-11T18:05:43.892Z"
   },
   {
    "duration": 15,
    "start_time": "2023-01-11T18:05:43.902Z"
   },
   {
    "duration": 9,
    "start_time": "2023-01-11T18:05:43.918Z"
   },
   {
    "duration": 10,
    "start_time": "2023-01-11T18:05:43.928Z"
   },
   {
    "duration": 40,
    "start_time": "2023-01-11T18:05:43.939Z"
   },
   {
    "duration": 19,
    "start_time": "2023-01-11T18:05:43.982Z"
   },
   {
    "duration": 14,
    "start_time": "2023-01-11T18:05:44.003Z"
   },
   {
    "duration": 11,
    "start_time": "2023-01-11T18:05:44.019Z"
   },
   {
    "duration": 14,
    "start_time": "2023-01-11T18:05:44.032Z"
   },
   {
    "duration": 19,
    "start_time": "2023-01-11T18:05:44.048Z"
   },
   {
    "duration": 23,
    "start_time": "2023-01-11T18:05:44.069Z"
   },
   {
    "duration": 10,
    "start_time": "2023-01-11T18:05:44.097Z"
   },
   {
    "duration": 26,
    "start_time": "2023-01-11T18:05:44.110Z"
   },
   {
    "duration": 20,
    "start_time": "2023-01-11T18:05:44.138Z"
   },
   {
    "duration": 10,
    "start_time": "2023-01-11T18:05:44.160Z"
   },
   {
    "duration": 11,
    "start_time": "2023-01-11T18:05:44.173Z"
   },
   {
    "duration": 9,
    "start_time": "2023-01-11T18:05:44.186Z"
   },
   {
    "duration": 11,
    "start_time": "2023-01-11T18:05:44.198Z"
   },
   {
    "duration": 11,
    "start_time": "2023-01-11T18:05:44.211Z"
   },
   {
    "duration": 12,
    "start_time": "2023-01-11T18:05:44.223Z"
   },
   {
    "duration": 71,
    "start_time": "2023-01-11T18:05:44.237Z"
   },
   {
    "duration": 0,
    "start_time": "2023-01-11T18:05:44.309Z"
   },
   {
    "duration": 0,
    "start_time": "2023-01-11T18:05:44.310Z"
   },
   {
    "duration": 0,
    "start_time": "2023-01-11T18:05:44.311Z"
   },
   {
    "duration": 1,
    "start_time": "2023-01-11T18:05:44.312Z"
   },
   {
    "duration": 0,
    "start_time": "2023-01-11T18:05:44.313Z"
   },
   {
    "duration": 0,
    "start_time": "2023-01-11T18:05:44.314Z"
   },
   {
    "duration": 0,
    "start_time": "2023-01-11T18:05:44.316Z"
   },
   {
    "duration": 0,
    "start_time": "2023-01-11T18:05:44.316Z"
   },
   {
    "duration": 0,
    "start_time": "2023-01-11T18:05:44.318Z"
   },
   {
    "duration": 0,
    "start_time": "2023-01-11T18:05:44.319Z"
   },
   {
    "duration": 0,
    "start_time": "2023-01-11T18:05:44.320Z"
   },
   {
    "duration": 0,
    "start_time": "2023-01-11T18:05:44.321Z"
   },
   {
    "duration": 132,
    "start_time": "2023-01-11T18:06:08.478Z"
   },
   {
    "duration": 7,
    "start_time": "2023-01-11T18:07:20.716Z"
   },
   {
    "duration": 10,
    "start_time": "2023-01-11T18:15:33.881Z"
   },
   {
    "duration": 14,
    "start_time": "2023-01-11T18:15:42.616Z"
   },
   {
    "duration": 13,
    "start_time": "2023-01-11T18:16:14.033Z"
   },
   {
    "duration": 9,
    "start_time": "2023-01-11T18:16:32.665Z"
   },
   {
    "duration": 5,
    "start_time": "2023-01-11T18:20:19.398Z"
   },
   {
    "duration": 25,
    "start_time": "2023-01-11T18:20:38.010Z"
   },
   {
    "duration": 9,
    "start_time": "2023-01-11T18:28:30.419Z"
   },
   {
    "duration": 10,
    "start_time": "2023-01-11T18:28:43.222Z"
   },
   {
    "duration": 12,
    "start_time": "2023-01-11T18:28:49.509Z"
   },
   {
    "duration": 10,
    "start_time": "2023-01-11T18:29:15.470Z"
   },
   {
    "duration": 6,
    "start_time": "2023-01-11T18:31:35.333Z"
   },
   {
    "duration": 9,
    "start_time": "2023-01-11T18:31:39.334Z"
   },
   {
    "duration": 1368,
    "start_time": "2023-01-11T18:40:03.696Z"
   },
   {
    "duration": 4,
    "start_time": "2023-01-11T18:40:38.890Z"
   },
   {
    "duration": 4,
    "start_time": "2023-01-11T18:41:36.586Z"
   },
   {
    "duration": 1456,
    "start_time": "2023-01-11T18:41:48.338Z"
   },
   {
    "duration": 76,
    "start_time": "2023-01-11T18:42:44.047Z"
   },
   {
    "duration": 69,
    "start_time": "2023-01-11T18:42:53.683Z"
   },
   {
    "duration": 4,
    "start_time": "2023-01-11T18:43:37.417Z"
   },
   {
    "duration": 4,
    "start_time": "2023-01-11T18:43:46.739Z"
   },
   {
    "duration": 5,
    "start_time": "2023-01-11T18:44:10.640Z"
   },
   {
    "duration": 75,
    "start_time": "2023-01-11T18:44:35.650Z"
   },
   {
    "duration": 1199,
    "start_time": "2023-01-11T18:57:51.830Z"
   },
   {
    "duration": 1133,
    "start_time": "2023-01-11T18:58:10.597Z"
   },
   {
    "duration": 12,
    "start_time": "2023-01-11T18:58:49.481Z"
   },
   {
    "duration": 17,
    "start_time": "2023-01-11T18:58:58.703Z"
   },
   {
    "duration": 16,
    "start_time": "2023-01-11T18:59:04.141Z"
   },
   {
    "duration": 10,
    "start_time": "2023-01-11T18:59:17.470Z"
   },
   {
    "duration": 5,
    "start_time": "2023-01-11T19:09:05.875Z"
   },
   {
    "duration": 4,
    "start_time": "2023-01-11T19:10:12.226Z"
   },
   {
    "duration": 1160,
    "start_time": "2023-01-11T19:10:18.400Z"
   },
   {
    "duration": 94,
    "start_time": "2023-01-11T19:10:19.562Z"
   },
   {
    "duration": 34,
    "start_time": "2023-01-11T19:10:19.658Z"
   },
   {
    "duration": 36,
    "start_time": "2023-01-11T19:10:19.694Z"
   },
   {
    "duration": 2071,
    "start_time": "2023-01-11T19:10:19.731Z"
   },
   {
    "duration": 12,
    "start_time": "2023-01-11T19:10:21.803Z"
   },
   {
    "duration": 8,
    "start_time": "2023-01-11T19:10:21.817Z"
   },
   {
    "duration": 8,
    "start_time": "2023-01-11T19:10:21.827Z"
   },
   {
    "duration": 24,
    "start_time": "2023-01-11T19:10:21.836Z"
   },
   {
    "duration": 27,
    "start_time": "2023-01-11T19:10:21.863Z"
   },
   {
    "duration": 10,
    "start_time": "2023-01-11T19:10:21.892Z"
   },
   {
    "duration": 10,
    "start_time": "2023-01-11T19:10:21.904Z"
   },
   {
    "duration": 11,
    "start_time": "2023-01-11T19:10:21.916Z"
   },
   {
    "duration": 80,
    "start_time": "2023-01-11T19:10:21.929Z"
   },
   {
    "duration": 10,
    "start_time": "2023-01-11T19:10:22.011Z"
   },
   {
    "duration": 10,
    "start_time": "2023-01-11T19:10:22.022Z"
   },
   {
    "duration": 8,
    "start_time": "2023-01-11T19:10:22.034Z"
   },
   {
    "duration": 46,
    "start_time": "2023-01-11T19:10:22.044Z"
   },
   {
    "duration": 10,
    "start_time": "2023-01-11T19:10:22.092Z"
   },
   {
    "duration": 11,
    "start_time": "2023-01-11T19:10:22.104Z"
   },
   {
    "duration": 4,
    "start_time": "2023-01-11T19:10:22.116Z"
   },
   {
    "duration": 10,
    "start_time": "2023-01-11T19:10:22.121Z"
   },
   {
    "duration": 6,
    "start_time": "2023-01-11T19:10:22.132Z"
   },
   {
    "duration": 49,
    "start_time": "2023-01-11T19:10:22.139Z"
   },
   {
    "duration": 12,
    "start_time": "2023-01-11T19:10:22.190Z"
   },
   {
    "duration": 21,
    "start_time": "2023-01-11T19:10:22.205Z"
   },
   {
    "duration": 12,
    "start_time": "2023-01-11T19:10:22.228Z"
   },
   {
    "duration": 10,
    "start_time": "2023-01-11T19:10:22.243Z"
   },
   {
    "duration": 24,
    "start_time": "2023-01-11T19:10:22.255Z"
   },
   {
    "duration": 13,
    "start_time": "2023-01-11T19:10:22.281Z"
   },
   {
    "duration": 7,
    "start_time": "2023-01-11T19:10:22.295Z"
   },
   {
    "duration": 15,
    "start_time": "2023-01-11T19:10:22.304Z"
   },
   {
    "duration": 6,
    "start_time": "2023-01-11T19:10:22.321Z"
   },
   {
    "duration": 9,
    "start_time": "2023-01-11T19:10:22.329Z"
   },
   {
    "duration": 39,
    "start_time": "2023-01-11T19:10:22.340Z"
   },
   {
    "duration": 12,
    "start_time": "2023-01-11T19:10:22.381Z"
   },
   {
    "duration": 145,
    "start_time": "2023-01-11T19:10:22.395Z"
   },
   {
    "duration": 5,
    "start_time": "2023-01-11T19:10:22.542Z"
   },
   {
    "duration": 12,
    "start_time": "2023-01-11T19:10:22.549Z"
   },
   {
    "duration": 1346,
    "start_time": "2023-01-11T19:10:22.577Z"
   },
   {
    "duration": 0,
    "start_time": "2023-01-11T19:10:23.925Z"
   },
   {
    "duration": 0,
    "start_time": "2023-01-11T19:10:23.926Z"
   },
   {
    "duration": 0,
    "start_time": "2023-01-11T19:10:23.928Z"
   },
   {
    "duration": 0,
    "start_time": "2023-01-11T19:10:23.929Z"
   },
   {
    "duration": 0,
    "start_time": "2023-01-11T19:10:23.930Z"
   },
   {
    "duration": 0,
    "start_time": "2023-01-11T19:10:23.931Z"
   },
   {
    "duration": 0,
    "start_time": "2023-01-11T19:10:23.933Z"
   },
   {
    "duration": 0,
    "start_time": "2023-01-11T19:10:23.934Z"
   },
   {
    "duration": 0,
    "start_time": "2023-01-11T19:10:23.936Z"
   },
   {
    "duration": 0,
    "start_time": "2023-01-11T19:10:23.938Z"
   },
   {
    "duration": 0,
    "start_time": "2023-01-11T19:10:23.939Z"
   },
   {
    "duration": 0,
    "start_time": "2023-01-11T19:10:23.940Z"
   },
   {
    "duration": 0,
    "start_time": "2023-01-11T19:10:23.941Z"
   },
   {
    "duration": 1141,
    "start_time": "2023-01-11T19:10:27.781Z"
   },
   {
    "duration": 1165,
    "start_time": "2023-01-11T19:10:58.405Z"
   },
   {
    "duration": 1153,
    "start_time": "2023-01-11T19:11:11.474Z"
   },
   {
    "duration": 94,
    "start_time": "2023-01-11T19:11:12.629Z"
   },
   {
    "duration": 39,
    "start_time": "2023-01-11T19:11:12.725Z"
   },
   {
    "duration": 44,
    "start_time": "2023-01-11T19:11:12.766Z"
   },
   {
    "duration": 1917,
    "start_time": "2023-01-11T19:11:12.812Z"
   },
   {
    "duration": 8,
    "start_time": "2023-01-11T19:11:14.731Z"
   },
   {
    "duration": 9,
    "start_time": "2023-01-11T19:11:14.741Z"
   },
   {
    "duration": 7,
    "start_time": "2023-01-11T19:11:14.751Z"
   },
   {
    "duration": 25,
    "start_time": "2023-01-11T19:11:14.759Z"
   },
   {
    "duration": 15,
    "start_time": "2023-01-11T19:11:14.786Z"
   },
   {
    "duration": 7,
    "start_time": "2023-01-11T19:11:14.803Z"
   },
   {
    "duration": 9,
    "start_time": "2023-01-11T19:11:14.811Z"
   },
   {
    "duration": 12,
    "start_time": "2023-01-11T19:11:14.822Z"
   },
   {
    "duration": 57,
    "start_time": "2023-01-11T19:11:14.835Z"
   },
   {
    "duration": 11,
    "start_time": "2023-01-11T19:11:14.894Z"
   },
   {
    "duration": 10,
    "start_time": "2023-01-11T19:11:14.906Z"
   },
   {
    "duration": 10,
    "start_time": "2023-01-11T19:11:14.917Z"
   },
   {
    "duration": 17,
    "start_time": "2023-01-11T19:11:14.929Z"
   },
   {
    "duration": 37,
    "start_time": "2023-01-11T19:11:14.948Z"
   },
   {
    "duration": 11,
    "start_time": "2023-01-11T19:11:14.987Z"
   },
   {
    "duration": 4,
    "start_time": "2023-01-11T19:11:14.999Z"
   },
   {
    "duration": 34,
    "start_time": "2023-01-11T19:11:15.004Z"
   },
   {
    "duration": 12,
    "start_time": "2023-01-11T19:11:15.041Z"
   },
   {
    "duration": 9,
    "start_time": "2023-01-11T19:11:15.055Z"
   },
   {
    "duration": 17,
    "start_time": "2023-01-11T19:11:15.065Z"
   },
   {
    "duration": 9,
    "start_time": "2023-01-11T19:11:15.084Z"
   },
   {
    "duration": 12,
    "start_time": "2023-01-11T19:11:15.094Z"
   },
   {
    "duration": 11,
    "start_time": "2023-01-11T19:11:15.110Z"
   },
   {
    "duration": 10,
    "start_time": "2023-01-11T19:11:15.123Z"
   },
   {
    "duration": 12,
    "start_time": "2023-01-11T19:11:15.135Z"
   },
   {
    "duration": 29,
    "start_time": "2023-01-11T19:11:15.149Z"
   },
   {
    "duration": 13,
    "start_time": "2023-01-11T19:11:15.180Z"
   },
   {
    "duration": 8,
    "start_time": "2023-01-11T19:11:15.194Z"
   },
   {
    "duration": 11,
    "start_time": "2023-01-11T19:11:15.203Z"
   },
   {
    "duration": 15,
    "start_time": "2023-01-11T19:11:15.216Z"
   },
   {
    "duration": 18,
    "start_time": "2023-01-11T19:11:15.233Z"
   },
   {
    "duration": 150,
    "start_time": "2023-01-11T19:11:15.253Z"
   },
   {
    "duration": 5,
    "start_time": "2023-01-11T19:11:15.404Z"
   },
   {
    "duration": 17,
    "start_time": "2023-01-11T19:11:15.411Z"
   },
   {
    "duration": 1242,
    "start_time": "2023-01-11T19:11:15.430Z"
   },
   {
    "duration": 0,
    "start_time": "2023-01-11T19:11:16.674Z"
   },
   {
    "duration": 0,
    "start_time": "2023-01-11T19:11:16.675Z"
   },
   {
    "duration": 0,
    "start_time": "2023-01-11T19:11:16.676Z"
   },
   {
    "duration": 0,
    "start_time": "2023-01-11T19:11:16.677Z"
   },
   {
    "duration": 0,
    "start_time": "2023-01-11T19:11:16.678Z"
   },
   {
    "duration": 0,
    "start_time": "2023-01-11T19:11:16.680Z"
   },
   {
    "duration": 0,
    "start_time": "2023-01-11T19:11:16.681Z"
   },
   {
    "duration": 0,
    "start_time": "2023-01-11T19:11:16.682Z"
   },
   {
    "duration": 0,
    "start_time": "2023-01-11T19:11:16.683Z"
   },
   {
    "duration": 0,
    "start_time": "2023-01-11T19:11:16.684Z"
   },
   {
    "duration": 0,
    "start_time": "2023-01-11T19:11:16.685Z"
   },
   {
    "duration": 0,
    "start_time": "2023-01-11T19:11:16.685Z"
   },
   {
    "duration": 0,
    "start_time": "2023-01-11T19:11:16.686Z"
   },
   {
    "duration": 6,
    "start_time": "2023-01-11T19:11:22.700Z"
   },
   {
    "duration": 5,
    "start_time": "2023-01-11T19:11:26.305Z"
   },
   {
    "duration": 11,
    "start_time": "2023-01-11T19:12:49.945Z"
   },
   {
    "duration": 4,
    "start_time": "2023-01-11T19:14:13.752Z"
   },
   {
    "duration": 48,
    "start_time": "2023-01-11T19:16:46.445Z"
   },
   {
    "duration": 17,
    "start_time": "2023-01-11T19:17:58.433Z"
   },
   {
    "duration": 6,
    "start_time": "2023-01-11T19:19:01.442Z"
   },
   {
    "duration": 10,
    "start_time": "2023-01-11T19:25:01.300Z"
   },
   {
    "duration": 12,
    "start_time": "2023-01-11T19:25:09.218Z"
   },
   {
    "duration": 10,
    "start_time": "2023-01-11T19:25:23.438Z"
   },
   {
    "duration": 9,
    "start_time": "2023-01-11T19:25:36.176Z"
   },
   {
    "duration": 4,
    "start_time": "2023-01-11T19:29:32.817Z"
   },
   {
    "duration": 6,
    "start_time": "2023-01-11T19:31:02.539Z"
   },
   {
    "duration": 7,
    "start_time": "2023-01-11T19:32:14.113Z"
   },
   {
    "duration": 8,
    "start_time": "2023-01-11T19:35:21.848Z"
   },
   {
    "duration": 9,
    "start_time": "2023-01-11T19:38:37.390Z"
   },
   {
    "duration": 13,
    "start_time": "2023-01-11T19:38:44.436Z"
   },
   {
    "duration": 20,
    "start_time": "2023-01-11T19:43:06.711Z"
   },
   {
    "duration": 12,
    "start_time": "2023-01-11T19:47:28.778Z"
   },
   {
    "duration": 9,
    "start_time": "2023-01-11T19:47:52.007Z"
   },
   {
    "duration": 10,
    "start_time": "2023-01-11T19:49:31.711Z"
   },
   {
    "duration": 9,
    "start_time": "2023-01-11T19:50:12.360Z"
   },
   {
    "duration": 14,
    "start_time": "2023-01-11T19:50:23.258Z"
   },
   {
    "duration": 9,
    "start_time": "2023-01-11T19:54:20.536Z"
   },
   {
    "duration": 288,
    "start_time": "2023-01-11T19:56:08.967Z"
   },
   {
    "duration": 247,
    "start_time": "2023-01-11T19:56:52.394Z"
   },
   {
    "duration": 4,
    "start_time": "2023-01-11T20:00:51.159Z"
   },
   {
    "duration": 7,
    "start_time": "2023-01-11T20:02:43.211Z"
   },
   {
    "duration": 9,
    "start_time": "2023-01-11T20:03:26.909Z"
   },
   {
    "duration": 8,
    "start_time": "2023-01-11T20:06:09.923Z"
   },
   {
    "duration": 13,
    "start_time": "2023-01-11T20:06:39.214Z"
   },
   {
    "duration": 23,
    "start_time": "2023-01-11T20:36:38.781Z"
   },
   {
    "duration": 11,
    "start_time": "2023-01-11T20:37:05.455Z"
   },
   {
    "duration": 63,
    "start_time": "2023-01-11T20:37:27.147Z"
   },
   {
    "duration": 6,
    "start_time": "2023-01-11T20:43:26.171Z"
   },
   {
    "duration": 5,
    "start_time": "2023-01-11T20:51:04.588Z"
   },
   {
    "duration": 10,
    "start_time": "2023-01-11T20:53:40.081Z"
   },
   {
    "duration": 1117,
    "start_time": "2023-01-11T20:53:55.843Z"
   },
   {
    "duration": 6,
    "start_time": "2023-01-11T20:54:26.491Z"
   },
   {
    "duration": 6,
    "start_time": "2023-01-11T20:55:30.951Z"
   },
   {
    "duration": 6,
    "start_time": "2023-01-11T20:57:10.844Z"
   },
   {
    "duration": 6,
    "start_time": "2023-01-11T21:00:09.976Z"
   },
   {
    "duration": 5,
    "start_time": "2023-01-11T21:02:51.200Z"
   },
   {
    "duration": 10,
    "start_time": "2023-01-11T21:06:30.017Z"
   },
   {
    "duration": 325,
    "start_time": "2023-01-11T21:06:50.399Z"
   },
   {
    "duration": 13,
    "start_time": "2023-01-11T21:09:50.100Z"
   },
   {
    "duration": 4,
    "start_time": "2023-01-11T21:10:36.459Z"
   },
   {
    "duration": 43,
    "start_time": "2023-01-11T21:11:50.642Z"
   },
   {
    "duration": 21,
    "start_time": "2023-01-11T21:12:02.424Z"
   },
   {
    "duration": 69,
    "start_time": "2023-01-12T16:11:12.189Z"
   },
   {
    "duration": 8,
    "start_time": "2023-01-12T16:11:37.212Z"
   },
   {
    "duration": 1371,
    "start_time": "2023-01-12T16:12:12.778Z"
   },
   {
    "duration": 344,
    "start_time": "2023-01-12T16:12:14.151Z"
   },
   {
    "duration": 43,
    "start_time": "2023-01-12T16:12:14.506Z"
   },
   {
    "duration": 37,
    "start_time": "2023-01-12T16:12:14.552Z"
   },
   {
    "duration": 2152,
    "start_time": "2023-01-12T16:12:14.597Z"
   },
   {
    "duration": 9,
    "start_time": "2023-01-12T16:12:16.751Z"
   },
   {
    "duration": 8,
    "start_time": "2023-01-12T16:12:16.762Z"
   },
   {
    "duration": 8,
    "start_time": "2023-01-12T16:12:16.772Z"
   },
   {
    "duration": 40,
    "start_time": "2023-01-12T16:12:16.782Z"
   },
   {
    "duration": 24,
    "start_time": "2023-01-12T16:12:16.825Z"
   },
   {
    "duration": 9,
    "start_time": "2023-01-12T16:12:16.851Z"
   },
   {
    "duration": 10,
    "start_time": "2023-01-12T16:12:16.862Z"
   },
   {
    "duration": 43,
    "start_time": "2023-01-12T16:12:16.874Z"
   },
   {
    "duration": 37,
    "start_time": "2023-01-12T16:12:16.919Z"
   },
   {
    "duration": 10,
    "start_time": "2023-01-12T16:12:16.958Z"
   },
   {
    "duration": 9,
    "start_time": "2023-01-12T16:12:16.969Z"
   },
   {
    "duration": 28,
    "start_time": "2023-01-12T16:12:16.979Z"
   },
   {
    "duration": 28,
    "start_time": "2023-01-12T16:12:17.009Z"
   },
   {
    "duration": 10,
    "start_time": "2023-01-12T16:12:17.039Z"
   },
   {
    "duration": 13,
    "start_time": "2023-01-12T16:12:17.051Z"
   },
   {
    "duration": 4,
    "start_time": "2023-01-12T16:12:17.066Z"
   },
   {
    "duration": 40,
    "start_time": "2023-01-12T16:12:17.072Z"
   },
   {
    "duration": 7,
    "start_time": "2023-01-12T16:12:17.114Z"
   },
   {
    "duration": 14,
    "start_time": "2023-01-12T16:12:17.123Z"
   },
   {
    "duration": 12,
    "start_time": "2023-01-12T16:12:17.139Z"
   },
   {
    "duration": 13,
    "start_time": "2023-01-12T16:12:17.153Z"
   },
   {
    "duration": 10,
    "start_time": "2023-01-12T16:12:17.168Z"
   },
   {
    "duration": 11,
    "start_time": "2023-01-12T16:12:17.196Z"
   },
   {
    "duration": 12,
    "start_time": "2023-01-12T16:12:17.209Z"
   },
   {
    "duration": 9,
    "start_time": "2023-01-12T16:12:17.223Z"
   },
   {
    "duration": 6,
    "start_time": "2023-01-12T16:12:17.233Z"
   },
   {
    "duration": 8,
    "start_time": "2023-01-12T16:12:17.241Z"
   },
   {
    "duration": 7,
    "start_time": "2023-01-12T16:12:17.251Z"
   },
   {
    "duration": 43,
    "start_time": "2023-01-12T16:12:17.260Z"
   },
   {
    "duration": 13,
    "start_time": "2023-01-12T16:12:17.305Z"
   },
   {
    "duration": 14,
    "start_time": "2023-01-12T16:12:17.320Z"
   },
   {
    "duration": 141,
    "start_time": "2023-01-12T16:12:17.336Z"
   },
   {
    "duration": 5,
    "start_time": "2023-01-12T16:12:17.478Z"
   },
   {
    "duration": 23,
    "start_time": "2023-01-12T16:12:17.485Z"
   },
   {
    "duration": 11,
    "start_time": "2023-01-12T16:12:17.510Z"
   },
   {
    "duration": 9,
    "start_time": "2023-01-12T16:12:17.522Z"
   },
   {
    "duration": 7,
    "start_time": "2023-01-12T16:12:17.533Z"
   },
   {
    "duration": 10,
    "start_time": "2023-01-12T16:12:17.542Z"
   },
   {
    "duration": 43,
    "start_time": "2023-01-12T16:12:17.554Z"
   },
   {
    "duration": 25,
    "start_time": "2023-01-12T16:12:17.599Z"
   },
   {
    "duration": 9,
    "start_time": "2023-01-12T16:12:17.626Z"
   },
   {
    "duration": 9,
    "start_time": "2023-01-12T16:12:17.637Z"
   },
   {
    "duration": 381,
    "start_time": "2023-01-12T16:12:17.648Z"
   },
   {
    "duration": 4,
    "start_time": "2023-01-12T16:12:18.031Z"
   },
   {
    "duration": 18,
    "start_time": "2023-01-12T16:12:18.037Z"
   },
   {
    "duration": 8,
    "start_time": "2023-01-12T16:12:18.056Z"
   },
   {
    "duration": 9,
    "start_time": "2023-01-12T16:12:18.066Z"
   },
   {
    "duration": 25,
    "start_time": "2023-01-12T16:12:18.077Z"
   },
   {
    "duration": 7,
    "start_time": "2023-01-12T16:12:18.106Z"
   },
   {
    "duration": 337,
    "start_time": "2023-01-12T16:12:18.115Z"
   },
   {
    "duration": 5,
    "start_time": "2023-01-12T16:12:18.454Z"
   },
   {
    "duration": 25,
    "start_time": "2023-01-12T16:12:18.460Z"
   },
   {
    "duration": 193,
    "start_time": "2023-01-12T16:12:18.496Z"
   },
   {
    "duration": 186,
    "start_time": "2023-01-12T16:13:41.547Z"
   },
   {
    "duration": 190,
    "start_time": "2023-01-12T16:13:52.430Z"
   },
   {
    "duration": 406,
    "start_time": "2023-01-12T16:17:17.130Z"
   },
   {
    "duration": 1211,
    "start_time": "2023-01-12T16:17:56.892Z"
   },
   {
    "duration": 105,
    "start_time": "2023-01-12T16:17:58.107Z"
   },
   {
    "duration": 32,
    "start_time": "2023-01-12T16:17:58.214Z"
   },
   {
    "duration": 33,
    "start_time": "2023-01-12T16:17:58.249Z"
   },
   {
    "duration": 2095,
    "start_time": "2023-01-12T16:17:58.283Z"
   },
   {
    "duration": 11,
    "start_time": "2023-01-12T16:18:00.379Z"
   },
   {
    "duration": 30,
    "start_time": "2023-01-12T16:18:00.392Z"
   },
   {
    "duration": 37,
    "start_time": "2023-01-12T16:18:00.424Z"
   },
   {
    "duration": 47,
    "start_time": "2023-01-12T16:18:00.464Z"
   },
   {
    "duration": 23,
    "start_time": "2023-01-12T16:18:00.514Z"
   },
   {
    "duration": 21,
    "start_time": "2023-01-12T16:18:00.539Z"
   },
   {
    "duration": 18,
    "start_time": "2023-01-12T16:18:00.562Z"
   },
   {
    "duration": 54,
    "start_time": "2023-01-12T16:18:00.581Z"
   },
   {
    "duration": 68,
    "start_time": "2023-01-12T16:18:00.636Z"
   },
   {
    "duration": 31,
    "start_time": "2023-01-12T16:18:00.706Z"
   },
   {
    "duration": 47,
    "start_time": "2023-01-12T16:18:00.739Z"
   },
   {
    "duration": 51,
    "start_time": "2023-01-12T16:18:00.788Z"
   },
   {
    "duration": 31,
    "start_time": "2023-01-12T16:18:00.841Z"
   },
   {
    "duration": 13,
    "start_time": "2023-01-12T16:18:00.874Z"
   },
   {
    "duration": 43,
    "start_time": "2023-01-12T16:18:00.889Z"
   },
   {
    "duration": 23,
    "start_time": "2023-01-12T16:18:00.934Z"
   },
   {
    "duration": 24,
    "start_time": "2023-01-12T16:18:00.958Z"
   },
   {
    "duration": 35,
    "start_time": "2023-01-12T16:18:00.983Z"
   },
   {
    "duration": 47,
    "start_time": "2023-01-12T16:18:01.020Z"
   },
   {
    "duration": 21,
    "start_time": "2023-01-12T16:18:01.068Z"
   },
   {
    "duration": 33,
    "start_time": "2023-01-12T16:18:01.091Z"
   },
   {
    "duration": 38,
    "start_time": "2023-01-12T16:18:01.126Z"
   },
   {
    "duration": 33,
    "start_time": "2023-01-12T16:18:01.169Z"
   },
   {
    "duration": 61,
    "start_time": "2023-01-12T16:18:01.205Z"
   },
   {
    "duration": 24,
    "start_time": "2023-01-12T16:18:01.268Z"
   },
   {
    "duration": 39,
    "start_time": "2023-01-12T16:18:01.294Z"
   },
   {
    "duration": 49,
    "start_time": "2023-01-12T16:18:01.335Z"
   },
   {
    "duration": 32,
    "start_time": "2023-01-12T16:18:01.386Z"
   },
   {
    "duration": 38,
    "start_time": "2023-01-12T16:18:01.420Z"
   },
   {
    "duration": 58,
    "start_time": "2023-01-12T16:18:01.459Z"
   },
   {
    "duration": 108,
    "start_time": "2023-01-12T16:18:01.518Z"
   },
   {
    "duration": 249,
    "start_time": "2023-01-12T16:18:01.628Z"
   },
   {
    "duration": 5,
    "start_time": "2023-01-12T16:18:01.879Z"
   },
   {
    "duration": 22,
    "start_time": "2023-01-12T16:18:01.885Z"
   },
   {
    "duration": 20,
    "start_time": "2023-01-12T16:18:01.910Z"
   },
   {
    "duration": 22,
    "start_time": "2023-01-12T16:18:01.932Z"
   },
   {
    "duration": 19,
    "start_time": "2023-01-12T16:18:01.956Z"
   },
   {
    "duration": 21,
    "start_time": "2023-01-12T16:18:01.977Z"
   },
   {
    "duration": 17,
    "start_time": "2023-01-12T16:18:02.005Z"
   },
   {
    "duration": 29,
    "start_time": "2023-01-12T16:18:02.024Z"
   },
   {
    "duration": 11,
    "start_time": "2023-01-12T16:18:02.054Z"
   },
   {
    "duration": 10,
    "start_time": "2023-01-12T16:18:02.066Z"
   },
   {
    "duration": 386,
    "start_time": "2023-01-12T16:18:02.078Z"
   },
   {
    "duration": 4,
    "start_time": "2023-01-12T16:18:02.466Z"
   },
   {
    "duration": 13,
    "start_time": "2023-01-12T16:18:02.472Z"
   },
   {
    "duration": 8,
    "start_time": "2023-01-12T16:18:02.504Z"
   },
   {
    "duration": 10,
    "start_time": "2023-01-12T16:18:02.515Z"
   },
   {
    "duration": 6,
    "start_time": "2023-01-12T16:18:02.527Z"
   },
   {
    "duration": 6,
    "start_time": "2023-01-12T16:18:02.535Z"
   },
   {
    "duration": 351,
    "start_time": "2023-01-12T16:18:02.543Z"
   },
   {
    "duration": 12,
    "start_time": "2023-01-12T16:18:02.898Z"
   },
   {
    "duration": 26,
    "start_time": "2023-01-12T16:18:02.914Z"
   },
   {
    "duration": 288,
    "start_time": "2023-01-12T16:18:02.941Z"
   },
   {
    "duration": 192,
    "start_time": "2023-01-12T16:19:15.805Z"
   },
   {
    "duration": 190,
    "start_time": "2023-01-12T16:19:45.737Z"
   },
   {
    "duration": 201,
    "start_time": "2023-01-12T16:19:57.789Z"
   },
   {
    "duration": 337,
    "start_time": "2023-01-12T16:20:05.649Z"
   },
   {
    "duration": 210,
    "start_time": "2023-01-12T16:20:18.388Z"
   },
   {
    "duration": 222,
    "start_time": "2023-01-12T16:21:18.487Z"
   },
   {
    "duration": 160,
    "start_time": "2023-01-12T16:24:02.465Z"
   },
   {
    "duration": 170,
    "start_time": "2023-01-12T16:24:42.197Z"
   },
   {
    "duration": 168,
    "start_time": "2023-01-12T16:24:53.704Z"
   },
   {
    "duration": 168,
    "start_time": "2023-01-12T16:27:59.313Z"
   },
   {
    "duration": 16,
    "start_time": "2023-01-12T16:35:48.453Z"
   },
   {
    "duration": 170,
    "start_time": "2023-01-12T16:35:59.636Z"
   },
   {
    "duration": 9,
    "start_time": "2023-01-12T16:39:42.914Z"
   },
   {
    "duration": 175,
    "start_time": "2023-01-12T16:40:56.322Z"
   },
   {
    "duration": 371,
    "start_time": "2023-01-12T16:45:27.162Z"
   },
   {
    "duration": 298,
    "start_time": "2023-01-12T16:45:38.649Z"
   },
   {
    "duration": 252,
    "start_time": "2023-01-12T16:46:17.974Z"
   },
   {
    "duration": 220,
    "start_time": "2023-01-12T16:46:30.128Z"
   },
   {
    "duration": 223,
    "start_time": "2023-01-12T16:46:38.002Z"
   },
   {
    "duration": 117,
    "start_time": "2023-01-12T16:54:05.281Z"
   },
   {
    "duration": 111,
    "start_time": "2023-01-12T16:54:26.321Z"
   },
   {
    "duration": 1162,
    "start_time": "2023-01-12T16:54:34.162Z"
   },
   {
    "duration": 92,
    "start_time": "2023-01-12T16:54:35.326Z"
   },
   {
    "duration": 32,
    "start_time": "2023-01-12T16:54:35.419Z"
   },
   {
    "duration": 47,
    "start_time": "2023-01-12T16:54:35.453Z"
   },
   {
    "duration": 2187,
    "start_time": "2023-01-12T16:54:35.501Z"
   },
   {
    "duration": 9,
    "start_time": "2023-01-12T16:54:37.690Z"
   },
   {
    "duration": 9,
    "start_time": "2023-01-12T16:54:37.700Z"
   },
   {
    "duration": 9,
    "start_time": "2023-01-12T16:54:37.710Z"
   },
   {
    "duration": 28,
    "start_time": "2023-01-12T16:54:37.720Z"
   },
   {
    "duration": 52,
    "start_time": "2023-01-12T16:54:37.752Z"
   },
   {
    "duration": 11,
    "start_time": "2023-01-12T16:54:37.806Z"
   },
   {
    "duration": 11,
    "start_time": "2023-01-12T16:54:37.819Z"
   },
   {
    "duration": 24,
    "start_time": "2023-01-12T16:54:37.832Z"
   },
   {
    "duration": 76,
    "start_time": "2023-01-12T16:54:37.858Z"
   },
   {
    "duration": 14,
    "start_time": "2023-01-12T16:54:37.936Z"
   },
   {
    "duration": 20,
    "start_time": "2023-01-12T16:54:37.951Z"
   },
   {
    "duration": 32,
    "start_time": "2023-01-12T16:54:37.972Z"
   },
   {
    "duration": 20,
    "start_time": "2023-01-12T16:54:38.005Z"
   },
   {
    "duration": 10,
    "start_time": "2023-01-12T16:54:38.027Z"
   },
   {
    "duration": 11,
    "start_time": "2023-01-12T16:54:38.039Z"
   },
   {
    "duration": 4,
    "start_time": "2023-01-12T16:54:38.052Z"
   },
   {
    "duration": 46,
    "start_time": "2023-01-12T16:54:38.057Z"
   },
   {
    "duration": 7,
    "start_time": "2023-01-12T16:54:38.104Z"
   },
   {
    "duration": 10,
    "start_time": "2023-01-12T16:54:38.113Z"
   },
   {
    "duration": 17,
    "start_time": "2023-01-12T16:54:38.125Z"
   },
   {
    "duration": 22,
    "start_time": "2023-01-12T16:54:38.144Z"
   },
   {
    "duration": 14,
    "start_time": "2023-01-12T16:54:38.168Z"
   },
   {
    "duration": 16,
    "start_time": "2023-01-12T16:54:38.196Z"
   },
   {
    "duration": 6,
    "start_time": "2023-01-12T16:54:38.213Z"
   },
   {
    "duration": 40,
    "start_time": "2023-01-12T16:54:38.221Z"
   },
   {
    "duration": 27,
    "start_time": "2023-01-12T16:54:38.263Z"
   },
   {
    "duration": 11,
    "start_time": "2023-01-12T16:54:38.292Z"
   },
   {
    "duration": 7,
    "start_time": "2023-01-12T16:54:38.306Z"
   },
   {
    "duration": 14,
    "start_time": "2023-01-12T16:54:38.315Z"
   },
   {
    "duration": 6,
    "start_time": "2023-01-12T16:54:38.331Z"
   },
   {
    "duration": 14,
    "start_time": "2023-01-12T16:54:38.339Z"
   },
   {
    "duration": 160,
    "start_time": "2023-01-12T16:54:38.355Z"
   },
   {
    "duration": 5,
    "start_time": "2023-01-12T16:54:38.517Z"
   },
   {
    "duration": 44,
    "start_time": "2023-01-12T16:54:38.524Z"
   },
   {
    "duration": 40,
    "start_time": "2023-01-12T16:54:38.569Z"
   },
   {
    "duration": 29,
    "start_time": "2023-01-12T16:54:38.611Z"
   },
   {
    "duration": 7,
    "start_time": "2023-01-12T16:54:38.642Z"
   },
   {
    "duration": 29,
    "start_time": "2023-01-12T16:54:38.651Z"
   },
   {
    "duration": 14,
    "start_time": "2023-01-12T16:54:38.682Z"
   },
   {
    "duration": 23,
    "start_time": "2023-01-12T16:54:38.698Z"
   },
   {
    "duration": 9,
    "start_time": "2023-01-12T16:54:38.723Z"
   },
   {
    "duration": 9,
    "start_time": "2023-01-12T16:54:38.733Z"
   },
   {
    "duration": 386,
    "start_time": "2023-01-12T16:54:38.744Z"
   },
   {
    "duration": 5,
    "start_time": "2023-01-12T16:54:39.133Z"
   },
   {
    "duration": 34,
    "start_time": "2023-01-12T16:54:39.140Z"
   },
   {
    "duration": 14,
    "start_time": "2023-01-12T16:54:39.176Z"
   },
   {
    "duration": 31,
    "start_time": "2023-01-12T16:54:39.192Z"
   },
   {
    "duration": 15,
    "start_time": "2023-01-12T16:54:39.224Z"
   },
   {
    "duration": 11,
    "start_time": "2023-01-12T16:54:39.241Z"
   },
   {
    "duration": 342,
    "start_time": "2023-01-12T16:54:39.254Z"
   },
   {
    "duration": 4,
    "start_time": "2023-01-12T16:54:39.600Z"
   },
   {
    "duration": 76,
    "start_time": "2023-01-12T16:54:39.605Z"
   },
   {
    "duration": 202,
    "start_time": "2023-01-12T16:54:39.683Z"
   },
   {
    "duration": 260,
    "start_time": "2023-01-12T16:54:39.887Z"
   },
   {
    "duration": 189,
    "start_time": "2023-01-12T16:54:40.149Z"
   },
   {
    "duration": 356,
    "start_time": "2023-01-12T16:54:40.341Z"
   },
   {
    "duration": 151,
    "start_time": "2023-01-12T16:54:40.699Z"
   },
   {
    "duration": 169,
    "start_time": "2023-01-12T16:54:40.852Z"
   },
   {
    "duration": 226,
    "start_time": "2023-01-12T16:54:41.023Z"
   },
   {
    "duration": 125,
    "start_time": "2023-01-12T16:54:41.251Z"
   },
   {
    "duration": 7,
    "start_time": "2023-01-12T16:57:25.112Z"
   },
   {
    "duration": 329,
    "start_time": "2023-01-12T17:00:01.335Z"
   },
   {
    "duration": 1277,
    "start_time": "2023-01-12T17:00:26.442Z"
   },
   {
    "duration": 97,
    "start_time": "2023-01-12T17:00:27.721Z"
   },
   {
    "duration": 33,
    "start_time": "2023-01-12T17:00:27.820Z"
   },
   {
    "duration": 49,
    "start_time": "2023-01-12T17:00:27.855Z"
   },
   {
    "duration": 2156,
    "start_time": "2023-01-12T17:00:27.906Z"
   },
   {
    "duration": 9,
    "start_time": "2023-01-12T17:00:30.064Z"
   },
   {
    "duration": 15,
    "start_time": "2023-01-12T17:00:30.075Z"
   },
   {
    "duration": 9,
    "start_time": "2023-01-12T17:00:30.091Z"
   },
   {
    "duration": 51,
    "start_time": "2023-01-12T17:00:30.101Z"
   },
   {
    "duration": 19,
    "start_time": "2023-01-12T17:00:30.154Z"
   },
   {
    "duration": 12,
    "start_time": "2023-01-12T17:00:30.175Z"
   },
   {
    "duration": 24,
    "start_time": "2023-01-12T17:00:30.188Z"
   },
   {
    "duration": 38,
    "start_time": "2023-01-12T17:00:30.214Z"
   },
   {
    "duration": 130,
    "start_time": "2023-01-12T17:00:30.254Z"
   },
   {
    "duration": 26,
    "start_time": "2023-01-12T17:00:30.386Z"
   },
   {
    "duration": 118,
    "start_time": "2023-01-12T17:00:30.414Z"
   },
   {
    "duration": 52,
    "start_time": "2023-01-12T17:00:30.534Z"
   },
   {
    "duration": 55,
    "start_time": "2023-01-12T17:00:30.588Z"
   },
   {
    "duration": 11,
    "start_time": "2023-01-12T17:00:30.645Z"
   },
   {
    "duration": 54,
    "start_time": "2023-01-12T17:00:30.658Z"
   },
   {
    "duration": 22,
    "start_time": "2023-01-12T17:00:30.714Z"
   },
   {
    "duration": 43,
    "start_time": "2023-01-12T17:00:30.738Z"
   },
   {
    "duration": 32,
    "start_time": "2023-01-12T17:00:30.783Z"
   },
   {
    "duration": 31,
    "start_time": "2023-01-12T17:00:30.817Z"
   },
   {
    "duration": 26,
    "start_time": "2023-01-12T17:00:30.850Z"
   },
   {
    "duration": 37,
    "start_time": "2023-01-12T17:00:30.878Z"
   },
   {
    "duration": 55,
    "start_time": "2023-01-12T17:00:30.917Z"
   },
   {
    "duration": 41,
    "start_time": "2023-01-12T17:00:30.978Z"
   },
   {
    "duration": 30,
    "start_time": "2023-01-12T17:00:31.022Z"
   },
   {
    "duration": 38,
    "start_time": "2023-01-12T17:00:31.054Z"
   },
   {
    "duration": 35,
    "start_time": "2023-01-12T17:00:31.094Z"
   },
   {
    "duration": 52,
    "start_time": "2023-01-12T17:00:31.131Z"
   },
   {
    "duration": 33,
    "start_time": "2023-01-12T17:00:31.185Z"
   },
   {
    "duration": 46,
    "start_time": "2023-01-12T17:00:31.220Z"
   },
   {
    "duration": 31,
    "start_time": "2023-01-12T17:00:31.267Z"
   },
   {
    "duration": 92,
    "start_time": "2023-01-12T17:00:31.301Z"
   },
   {
    "duration": 189,
    "start_time": "2023-01-12T17:00:31.395Z"
   },
   {
    "duration": 13,
    "start_time": "2023-01-12T17:00:31.586Z"
   },
   {
    "duration": 85,
    "start_time": "2023-01-12T17:00:31.601Z"
   },
   {
    "duration": 26,
    "start_time": "2023-01-12T17:00:31.688Z"
   },
   {
    "duration": 47,
    "start_time": "2023-01-12T17:00:31.716Z"
   },
   {
    "duration": 18,
    "start_time": "2023-01-12T17:00:31.765Z"
   },
   {
    "duration": 39,
    "start_time": "2023-01-12T17:00:31.785Z"
   },
   {
    "duration": 22,
    "start_time": "2023-01-12T17:00:31.826Z"
   },
   {
    "duration": 30,
    "start_time": "2023-01-12T17:00:31.850Z"
   },
   {
    "duration": 26,
    "start_time": "2023-01-12T17:00:31.882Z"
   },
   {
    "duration": 16,
    "start_time": "2023-01-12T17:00:31.911Z"
   },
   {
    "duration": 371,
    "start_time": "2023-01-12T17:00:31.929Z"
   },
   {
    "duration": 5,
    "start_time": "2023-01-12T17:00:32.302Z"
   },
   {
    "duration": 15,
    "start_time": "2023-01-12T17:00:32.310Z"
   },
   {
    "duration": 6,
    "start_time": "2023-01-12T17:00:32.326Z"
   },
   {
    "duration": 9,
    "start_time": "2023-01-12T17:00:32.334Z"
   },
   {
    "duration": 12,
    "start_time": "2023-01-12T17:00:32.345Z"
   },
   {
    "duration": 6,
    "start_time": "2023-01-12T17:00:32.359Z"
   },
   {
    "duration": 349,
    "start_time": "2023-01-12T17:00:32.366Z"
   },
   {
    "duration": 5,
    "start_time": "2023-01-12T17:00:32.717Z"
   },
   {
    "duration": 28,
    "start_time": "2023-01-12T17:00:32.723Z"
   },
   {
    "duration": 197,
    "start_time": "2023-01-12T17:00:32.754Z"
   },
   {
    "duration": 255,
    "start_time": "2023-01-12T17:00:32.953Z"
   },
   {
    "duration": 186,
    "start_time": "2023-01-12T17:00:33.210Z"
   },
   {
    "duration": 353,
    "start_time": "2023-01-12T17:00:33.398Z"
   },
   {
    "duration": 171,
    "start_time": "2023-01-12T17:00:33.753Z"
   },
   {
    "duration": 216,
    "start_time": "2023-01-12T17:00:33.926Z"
   },
   {
    "duration": 225,
    "start_time": "2023-01-12T17:00:34.149Z"
   },
   {
    "duration": 144,
    "start_time": "2023-01-12T17:00:34.375Z"
   },
   {
    "duration": 11,
    "start_time": "2023-01-12T17:00:34.522Z"
   },
   {
    "duration": 341,
    "start_time": "2023-01-12T17:00:34.534Z"
   },
   {
    "duration": 182,
    "start_time": "2023-01-12T17:00:49.706Z"
   },
   {
    "duration": 144,
    "start_time": "2023-01-12T17:00:58.959Z"
   },
   {
    "duration": 185,
    "start_time": "2023-01-12T17:01:10.929Z"
   },
   {
    "duration": 360,
    "start_time": "2023-01-12T17:01:21.029Z"
   },
   {
    "duration": 191,
    "start_time": "2023-01-12T17:01:50.851Z"
   },
   {
    "duration": 177,
    "start_time": "2023-01-12T17:02:04.972Z"
   },
   {
    "duration": 131,
    "start_time": "2023-01-12T17:02:17.507Z"
   },
   {
    "duration": 202,
    "start_time": "2023-01-12T17:02:27.338Z"
   },
   {
    "duration": 166,
    "start_time": "2023-01-12T17:02:45.257Z"
   },
   {
    "duration": 151,
    "start_time": "2023-01-12T17:02:54.712Z"
   },
   {
    "duration": 218,
    "start_time": "2023-01-12T17:03:02.356Z"
   },
   {
    "duration": 209,
    "start_time": "2023-01-12T17:07:39.700Z"
   },
   {
    "duration": 880,
    "start_time": "2023-01-12T17:09:55.500Z"
   },
   {
    "duration": 867,
    "start_time": "2023-01-12T17:10:10.093Z"
   },
   {
    "duration": 1185,
    "start_time": "2023-01-12T17:10:56.197Z"
   },
   {
    "duration": 91,
    "start_time": "2023-01-12T17:10:57.383Z"
   },
   {
    "duration": 35,
    "start_time": "2023-01-12T17:10:57.478Z"
   },
   {
    "duration": 38,
    "start_time": "2023-01-12T17:10:57.515Z"
   },
   {
    "duration": 2354,
    "start_time": "2023-01-12T17:10:57.555Z"
   },
   {
    "duration": 11,
    "start_time": "2023-01-12T17:10:59.911Z"
   },
   {
    "duration": 20,
    "start_time": "2023-01-12T17:10:59.924Z"
   },
   {
    "duration": 15,
    "start_time": "2023-01-12T17:10:59.946Z"
   },
   {
    "duration": 25,
    "start_time": "2023-01-12T17:10:59.964Z"
   },
   {
    "duration": 24,
    "start_time": "2023-01-12T17:10:59.991Z"
   },
   {
    "duration": 10,
    "start_time": "2023-01-12T17:11:00.017Z"
   },
   {
    "duration": 15,
    "start_time": "2023-01-12T17:11:00.029Z"
   },
   {
    "duration": 24,
    "start_time": "2023-01-12T17:11:00.046Z"
   },
   {
    "duration": 65,
    "start_time": "2023-01-12T17:11:00.072Z"
   },
   {
    "duration": 12,
    "start_time": "2023-01-12T17:11:00.139Z"
   },
   {
    "duration": 30,
    "start_time": "2023-01-12T17:11:00.153Z"
   },
   {
    "duration": 24,
    "start_time": "2023-01-12T17:11:00.185Z"
   },
   {
    "duration": 29,
    "start_time": "2023-01-12T17:11:00.210Z"
   },
   {
    "duration": 17,
    "start_time": "2023-01-12T17:11:00.241Z"
   },
   {
    "duration": 56,
    "start_time": "2023-01-12T17:11:00.260Z"
   },
   {
    "duration": 25,
    "start_time": "2023-01-12T17:11:00.317Z"
   },
   {
    "duration": 26,
    "start_time": "2023-01-12T17:11:00.343Z"
   },
   {
    "duration": 43,
    "start_time": "2023-01-12T17:11:00.371Z"
   },
   {
    "duration": 18,
    "start_time": "2023-01-12T17:11:00.415Z"
   },
   {
    "duration": 46,
    "start_time": "2023-01-12T17:11:00.434Z"
   },
   {
    "duration": 25,
    "start_time": "2023-01-12T17:11:00.481Z"
   },
   {
    "duration": 37,
    "start_time": "2023-01-12T17:11:00.510Z"
   },
   {
    "duration": 27,
    "start_time": "2023-01-12T17:11:00.549Z"
   },
   {
    "duration": 24,
    "start_time": "2023-01-12T17:11:00.579Z"
   },
   {
    "duration": 40,
    "start_time": "2023-01-12T17:11:00.604Z"
   },
   {
    "duration": 18,
    "start_time": "2023-01-12T17:11:00.645Z"
   },
   {
    "duration": 22,
    "start_time": "2023-01-12T17:11:00.665Z"
   },
   {
    "duration": 28,
    "start_time": "2023-01-12T17:11:00.689Z"
   },
   {
    "duration": 19,
    "start_time": "2023-01-12T17:11:00.719Z"
   },
   {
    "duration": 24,
    "start_time": "2023-01-12T17:11:00.740Z"
   },
   {
    "duration": 61,
    "start_time": "2023-01-12T17:11:00.766Z"
   },
   {
    "duration": 245,
    "start_time": "2023-01-12T17:11:00.829Z"
   },
   {
    "duration": 5,
    "start_time": "2023-01-12T17:11:01.076Z"
   },
   {
    "duration": 65,
    "start_time": "2023-01-12T17:11:01.083Z"
   },
   {
    "duration": 68,
    "start_time": "2023-01-12T17:11:01.149Z"
   },
   {
    "duration": 23,
    "start_time": "2023-01-12T17:11:01.219Z"
   },
   {
    "duration": 31,
    "start_time": "2023-01-12T17:11:01.244Z"
   },
   {
    "duration": 25,
    "start_time": "2023-01-12T17:11:01.276Z"
   },
   {
    "duration": 15,
    "start_time": "2023-01-12T17:11:01.303Z"
   },
   {
    "duration": 45,
    "start_time": "2023-01-12T17:11:01.320Z"
   },
   {
    "duration": 22,
    "start_time": "2023-01-12T17:11:01.367Z"
   },
   {
    "duration": 28,
    "start_time": "2023-01-12T17:11:01.390Z"
   },
   {
    "duration": 377,
    "start_time": "2023-01-12T17:11:01.419Z"
   },
   {
    "duration": 5,
    "start_time": "2023-01-12T17:11:01.798Z"
   },
   {
    "duration": 96,
    "start_time": "2023-01-12T17:11:01.805Z"
   },
   {
    "duration": 11,
    "start_time": "2023-01-12T17:11:01.903Z"
   },
   {
    "duration": 38,
    "start_time": "2023-01-12T17:11:01.916Z"
   },
   {
    "duration": 27,
    "start_time": "2023-01-12T17:11:01.956Z"
   },
   {
    "duration": 11,
    "start_time": "2023-01-12T17:11:01.985Z"
   },
   {
    "duration": 346,
    "start_time": "2023-01-12T17:11:01.999Z"
   },
   {
    "duration": 5,
    "start_time": "2023-01-12T17:11:02.347Z"
   },
   {
    "duration": 30,
    "start_time": "2023-01-12T17:11:02.353Z"
   },
   {
    "duration": 201,
    "start_time": "2023-01-12T17:11:02.398Z"
   },
   {
    "duration": 235,
    "start_time": "2023-01-12T17:11:02.601Z"
   },
   {
    "duration": 173,
    "start_time": "2023-01-12T17:11:02.838Z"
   },
   {
    "duration": 314,
    "start_time": "2023-01-12T17:11:03.012Z"
   },
   {
    "duration": 163,
    "start_time": "2023-01-12T17:11:03.328Z"
   },
   {
    "duration": 183,
    "start_time": "2023-01-12T17:11:03.496Z"
   },
   {
    "duration": 196,
    "start_time": "2023-01-12T17:11:03.681Z"
   },
   {
    "duration": 166,
    "start_time": "2023-01-12T17:11:03.879Z"
   },
   {
    "duration": 7,
    "start_time": "2023-01-12T17:11:04.047Z"
   },
   {
    "duration": 223,
    "start_time": "2023-01-12T17:11:04.056Z"
   },
   {
    "duration": 1030,
    "start_time": "2023-01-12T17:11:04.281Z"
   },
   {
    "duration": 274,
    "start_time": "2023-01-12T17:11:22.873Z"
   },
   {
    "duration": 122,
    "start_time": "2023-01-12T17:11:55.346Z"
   },
   {
    "duration": 216,
    "start_time": "2023-01-12T17:12:00.483Z"
   },
   {
    "duration": 10,
    "start_time": "2023-01-12T17:13:29.031Z"
   },
   {
    "duration": 362,
    "start_time": "2023-01-12T17:13:45.758Z"
   },
   {
    "duration": 148,
    "start_time": "2023-01-12T17:17:28.734Z"
   },
   {
    "duration": 7,
    "start_time": "2023-01-12T17:19:17.678Z"
   },
   {
    "duration": 270,
    "start_time": "2023-01-12T17:22:31.412Z"
   },
   {
    "duration": 173,
    "start_time": "2023-01-12T17:37:16.265Z"
   },
   {
    "duration": 171,
    "start_time": "2023-01-12T17:38:19.045Z"
   },
   {
    "duration": 161,
    "start_time": "2023-01-12T17:39:32.935Z"
   },
   {
    "duration": 284,
    "start_time": "2023-01-12T17:41:26.008Z"
   },
   {
    "duration": 172,
    "start_time": "2023-01-12T17:41:44.095Z"
   },
   {
    "duration": 171,
    "start_time": "2023-01-12T17:41:51.952Z"
   },
   {
    "duration": 249,
    "start_time": "2023-01-12T17:41:58.889Z"
   },
   {
    "duration": 174,
    "start_time": "2023-01-12T17:44:20.611Z"
   },
   {
    "duration": 288,
    "start_time": "2023-01-12T17:48:34.121Z"
   },
   {
    "duration": 5,
    "start_time": "2023-01-12T17:51:46.066Z"
   },
   {
    "duration": 14,
    "start_time": "2023-01-12T18:03:26.266Z"
   },
   {
    "duration": 6,
    "start_time": "2023-01-12T18:03:58.389Z"
   },
   {
    "duration": 10,
    "start_time": "2023-01-12T18:04:02.431Z"
   },
   {
    "duration": 10,
    "start_time": "2023-01-12T18:04:45.557Z"
   },
   {
    "duration": 13,
    "start_time": "2023-01-12T18:04:56.295Z"
   },
   {
    "duration": 16,
    "start_time": "2023-01-12T18:05:03.529Z"
   },
   {
    "duration": 10,
    "start_time": "2023-01-12T18:05:17.979Z"
   },
   {
    "duration": 14,
    "start_time": "2023-01-12T18:05:32.745Z"
   },
   {
    "duration": 9,
    "start_time": "2023-01-12T18:08:13.178Z"
   },
   {
    "duration": 152,
    "start_time": "2023-01-12T18:27:42.031Z"
   },
   {
    "duration": 155,
    "start_time": "2023-01-12T18:28:39.123Z"
   },
   {
    "duration": 148,
    "start_time": "2023-01-12T18:29:13.808Z"
   },
   {
    "duration": 158,
    "start_time": "2023-01-12T18:29:23.627Z"
   },
   {
    "duration": 148,
    "start_time": "2023-01-12T18:30:13.426Z"
   },
   {
    "duration": 145,
    "start_time": "2023-01-12T18:32:31.197Z"
   },
   {
    "duration": 147,
    "start_time": "2023-01-12T18:33:47.982Z"
   },
   {
    "duration": 232,
    "start_time": "2023-01-12T18:34:42.887Z"
   },
   {
    "duration": 159,
    "start_time": "2023-01-12T18:34:54.244Z"
   },
   {
    "duration": 168,
    "start_time": "2023-01-12T18:35:04.739Z"
   },
   {
    "duration": 162,
    "start_time": "2023-01-12T18:37:31.977Z"
   },
   {
    "duration": 210,
    "start_time": "2023-01-12T18:40:33.294Z"
   },
   {
    "duration": 14,
    "start_time": "2023-01-12T18:42:42.515Z"
   },
   {
    "duration": 16,
    "start_time": "2023-01-12T18:43:07.115Z"
   },
   {
    "duration": 316,
    "start_time": "2023-01-12T18:45:37.819Z"
   },
   {
    "duration": 54,
    "start_time": "2023-01-12T18:50:16.066Z"
   },
   {
    "duration": 50,
    "start_time": "2023-01-12T18:50:30.404Z"
   },
   {
    "duration": 167,
    "start_time": "2023-01-12T18:50:55.438Z"
   },
   {
    "duration": 51,
    "start_time": "2023-01-12T18:54:07.572Z"
   },
   {
    "duration": 159,
    "start_time": "2023-01-12T18:54:22.103Z"
   },
   {
    "duration": 151,
    "start_time": "2023-01-12T18:57:43.060Z"
   },
   {
    "duration": 807,
    "start_time": "2023-01-12T19:18:09.496Z"
   },
   {
    "duration": 692,
    "start_time": "2023-01-12T19:18:57.247Z"
   },
   {
    "duration": 44,
    "start_time": "2023-01-12T19:22:49.714Z"
   },
   {
    "duration": 11,
    "start_time": "2023-01-12T19:42:49.331Z"
   },
   {
    "duration": 773,
    "start_time": "2023-01-12T19:43:11.717Z"
   },
   {
    "duration": 1185,
    "start_time": "2023-01-12T19:43:52.620Z"
   },
   {
    "duration": 94,
    "start_time": "2023-01-12T19:43:53.807Z"
   },
   {
    "duration": 36,
    "start_time": "2023-01-12T19:43:53.903Z"
   },
   {
    "duration": 33,
    "start_time": "2023-01-12T19:43:53.941Z"
   },
   {
    "duration": 2011,
    "start_time": "2023-01-12T19:43:53.975Z"
   },
   {
    "duration": 8,
    "start_time": "2023-01-12T19:43:55.988Z"
   },
   {
    "duration": 13,
    "start_time": "2023-01-12T19:43:55.998Z"
   },
   {
    "duration": 9,
    "start_time": "2023-01-12T19:43:56.012Z"
   },
   {
    "duration": 24,
    "start_time": "2023-01-12T19:43:56.023Z"
   },
   {
    "duration": 18,
    "start_time": "2023-01-12T19:43:56.050Z"
   },
   {
    "duration": 30,
    "start_time": "2023-01-12T19:43:56.070Z"
   },
   {
    "duration": 12,
    "start_time": "2023-01-12T19:43:56.101Z"
   },
   {
    "duration": 19,
    "start_time": "2023-01-12T19:43:56.114Z"
   },
   {
    "duration": 73,
    "start_time": "2023-01-12T19:43:56.135Z"
   },
   {
    "duration": 15,
    "start_time": "2023-01-12T19:43:56.210Z"
   },
   {
    "duration": 16,
    "start_time": "2023-01-12T19:43:56.227Z"
   },
   {
    "duration": 16,
    "start_time": "2023-01-12T19:43:56.245Z"
   },
   {
    "duration": 46,
    "start_time": "2023-01-12T19:43:56.263Z"
   },
   {
    "duration": 12,
    "start_time": "2023-01-12T19:43:56.311Z"
   },
   {
    "duration": 18,
    "start_time": "2023-01-12T19:43:56.325Z"
   },
   {
    "duration": 23,
    "start_time": "2023-01-12T19:43:56.345Z"
   },
   {
    "duration": 37,
    "start_time": "2023-01-12T19:43:56.370Z"
   },
   {
    "duration": 12,
    "start_time": "2023-01-12T19:43:56.409Z"
   },
   {
    "duration": 22,
    "start_time": "2023-01-12T19:43:56.422Z"
   },
   {
    "duration": 13,
    "start_time": "2023-01-12T19:43:56.446Z"
   },
   {
    "duration": 21,
    "start_time": "2023-01-12T19:43:56.460Z"
   },
   {
    "duration": 16,
    "start_time": "2023-01-12T19:43:56.482Z"
   },
   {
    "duration": 12,
    "start_time": "2023-01-12T19:43:56.502Z"
   },
   {
    "duration": 10,
    "start_time": "2023-01-12T19:43:56.515Z"
   },
   {
    "duration": 16,
    "start_time": "2023-01-12T19:43:56.527Z"
   },
   {
    "duration": 15,
    "start_time": "2023-01-12T19:43:56.544Z"
   },
   {
    "duration": 19,
    "start_time": "2023-01-12T19:43:56.561Z"
   },
   {
    "duration": 19,
    "start_time": "2023-01-12T19:43:56.583Z"
   },
   {
    "duration": 13,
    "start_time": "2023-01-12T19:43:56.604Z"
   },
   {
    "duration": 14,
    "start_time": "2023-01-12T19:43:56.619Z"
   },
   {
    "duration": 14,
    "start_time": "2023-01-12T19:43:56.635Z"
   },
   {
    "duration": 143,
    "start_time": "2023-01-12T19:43:56.650Z"
   },
   {
    "duration": 5,
    "start_time": "2023-01-12T19:43:56.796Z"
   },
   {
    "duration": 10,
    "start_time": "2023-01-12T19:43:56.803Z"
   },
   {
    "duration": 6,
    "start_time": "2023-01-12T19:43:56.814Z"
   },
   {
    "duration": 13,
    "start_time": "2023-01-12T19:43:56.821Z"
   },
   {
    "duration": 7,
    "start_time": "2023-01-12T19:43:56.835Z"
   },
   {
    "duration": 11,
    "start_time": "2023-01-12T19:43:56.844Z"
   },
   {
    "duration": 49,
    "start_time": "2023-01-12T19:43:56.856Z"
   },
   {
    "duration": 20,
    "start_time": "2023-01-12T19:43:56.906Z"
   },
   {
    "duration": 18,
    "start_time": "2023-01-12T19:43:56.928Z"
   },
   {
    "duration": 32,
    "start_time": "2023-01-12T19:43:56.947Z"
   },
   {
    "duration": 338,
    "start_time": "2023-01-12T19:43:56.980Z"
   },
   {
    "duration": 4,
    "start_time": "2023-01-12T19:43:57.320Z"
   },
   {
    "duration": 10,
    "start_time": "2023-01-12T19:43:57.325Z"
   },
   {
    "duration": 5,
    "start_time": "2023-01-12T19:43:57.336Z"
   },
   {
    "duration": 8,
    "start_time": "2023-01-12T19:43:57.342Z"
   },
   {
    "duration": 6,
    "start_time": "2023-01-12T19:43:57.352Z"
   },
   {
    "duration": 37,
    "start_time": "2023-01-12T19:43:57.359Z"
   },
   {
    "duration": 317,
    "start_time": "2023-01-12T19:43:57.398Z"
   },
   {
    "duration": 5,
    "start_time": "2023-01-12T19:43:57.716Z"
   },
   {
    "duration": 37,
    "start_time": "2023-01-12T19:43:57.723Z"
   },
   {
    "duration": 175,
    "start_time": "2023-01-12T19:43:57.762Z"
   },
   {
    "duration": 224,
    "start_time": "2023-01-12T19:43:57.939Z"
   },
   {
    "duration": 174,
    "start_time": "2023-01-12T19:43:58.165Z"
   },
   {
    "duration": 303,
    "start_time": "2023-01-12T19:43:58.341Z"
   },
   {
    "duration": 141,
    "start_time": "2023-01-12T19:43:58.645Z"
   },
   {
    "duration": 165,
    "start_time": "2023-01-12T19:43:58.796Z"
   },
   {
    "duration": 173,
    "start_time": "2023-01-12T19:43:58.962Z"
   },
   {
    "duration": 134,
    "start_time": "2023-01-12T19:43:59.137Z"
   },
   {
    "duration": 7,
    "start_time": "2023-01-12T19:43:59.272Z"
   },
   {
    "duration": 222,
    "start_time": "2023-01-12T19:43:59.281Z"
   },
   {
    "duration": 258,
    "start_time": "2023-01-12T19:43:59.504Z"
   },
   {
    "duration": 169,
    "start_time": "2023-01-12T19:43:59.764Z"
   },
   {
    "duration": 383,
    "start_time": "2023-01-12T19:43:59.936Z"
   },
   {
    "duration": 181,
    "start_time": "2023-01-12T19:44:00.321Z"
   },
   {
    "duration": 174,
    "start_time": "2023-01-12T19:44:00.504Z"
   },
   {
    "duration": 291,
    "start_time": "2023-01-12T19:44:00.680Z"
   },
   {
    "duration": 9,
    "start_time": "2023-01-12T19:44:00.973Z"
   },
   {
    "duration": 58,
    "start_time": "2023-01-12T19:44:00.984Z"
   },
   {
    "duration": 182,
    "start_time": "2023-01-12T19:44:01.044Z"
   },
   {
    "duration": 187,
    "start_time": "2023-01-12T19:44:01.228Z"
   },
   {
    "duration": 180,
    "start_time": "2023-01-12T19:44:01.418Z"
   },
   {
    "duration": 166,
    "start_time": "2023-01-12T19:44:01.600Z"
   },
   {
    "duration": 13,
    "start_time": "2023-01-12T19:44:01.768Z"
   },
   {
    "duration": 431,
    "start_time": "2023-01-12T19:44:01.783Z"
   },
   {
    "duration": 165,
    "start_time": "2023-01-12T19:44:02.219Z"
   },
   {
    "duration": 166,
    "start_time": "2023-01-12T19:44:02.386Z"
   },
   {
    "duration": 163,
    "start_time": "2023-01-12T19:44:02.554Z"
   },
   {
    "duration": 697,
    "start_time": "2023-01-12T19:44:02.718Z"
   },
   {
    "duration": 36,
    "start_time": "2023-01-12T19:44:03.417Z"
   },
   {
    "duration": 1035,
    "start_time": "2023-01-12T19:44:03.455Z"
   },
   {
    "duration": 29,
    "start_time": "2023-01-12T19:44:37.965Z"
   },
   {
    "duration": 761,
    "start_time": "2023-01-12T19:45:45.970Z"
   },
   {
    "duration": 70,
    "start_time": "2023-01-12T19:46:50.592Z"
   },
   {
    "duration": 10,
    "start_time": "2023-01-12T19:47:08.577Z"
   },
   {
    "duration": 154,
    "start_time": "2023-01-12T19:47:54.010Z"
   },
   {
    "duration": 203,
    "start_time": "2023-01-12T19:50:56.096Z"
   },
   {
    "duration": 157,
    "start_time": "2023-01-12T19:51:12.459Z"
   },
   {
    "duration": 182,
    "start_time": "2023-01-12T19:51:25.769Z"
   },
   {
    "duration": 794,
    "start_time": "2023-01-12T19:56:17.036Z"
   },
   {
    "duration": 7,
    "start_time": "2023-01-12T19:58:11.567Z"
   },
   {
    "duration": 14,
    "start_time": "2023-01-12T19:59:10.584Z"
   },
   {
    "duration": 167,
    "start_time": "2023-01-12T19:59:42.766Z"
   },
   {
    "duration": 1140,
    "start_time": "2023-01-12T20:06:52.706Z"
   },
   {
    "duration": 90,
    "start_time": "2023-01-12T20:06:53.848Z"
   },
   {
    "duration": 35,
    "start_time": "2023-01-12T20:06:53.940Z"
   },
   {
    "duration": 45,
    "start_time": "2023-01-12T20:06:53.978Z"
   },
   {
    "duration": 1952,
    "start_time": "2023-01-12T20:06:54.025Z"
   },
   {
    "duration": 9,
    "start_time": "2023-01-12T20:06:55.979Z"
   },
   {
    "duration": 9,
    "start_time": "2023-01-12T20:06:55.989Z"
   },
   {
    "duration": 9,
    "start_time": "2023-01-12T20:06:55.999Z"
   },
   {
    "duration": 24,
    "start_time": "2023-01-12T20:06:56.009Z"
   },
   {
    "duration": 19,
    "start_time": "2023-01-12T20:06:56.035Z"
   },
   {
    "duration": 8,
    "start_time": "2023-01-12T20:06:56.056Z"
   },
   {
    "duration": 7,
    "start_time": "2023-01-12T20:06:56.096Z"
   },
   {
    "duration": 8,
    "start_time": "2023-01-12T20:06:56.105Z"
   },
   {
    "duration": 40,
    "start_time": "2023-01-12T20:06:56.115Z"
   },
   {
    "duration": 13,
    "start_time": "2023-01-12T20:06:56.157Z"
   },
   {
    "duration": 12,
    "start_time": "2023-01-12T20:06:56.197Z"
   },
   {
    "duration": 10,
    "start_time": "2023-01-12T20:06:56.211Z"
   },
   {
    "duration": 20,
    "start_time": "2023-01-12T20:06:56.223Z"
   },
   {
    "duration": 9,
    "start_time": "2023-01-12T20:06:56.247Z"
   },
   {
    "duration": 45,
    "start_time": "2023-01-12T20:06:56.258Z"
   },
   {
    "duration": 7,
    "start_time": "2023-01-12T20:06:56.305Z"
   },
   {
    "duration": 19,
    "start_time": "2023-01-12T20:06:56.314Z"
   },
   {
    "duration": 8,
    "start_time": "2023-01-12T20:06:56.336Z"
   },
   {
    "duration": 15,
    "start_time": "2023-01-12T20:06:56.348Z"
   },
   {
    "duration": 9,
    "start_time": "2023-01-12T20:06:56.367Z"
   },
   {
    "duration": 17,
    "start_time": "2023-01-12T20:06:56.398Z"
   },
   {
    "duration": 8,
    "start_time": "2023-01-12T20:06:56.417Z"
   },
   {
    "duration": 7,
    "start_time": "2023-01-12T20:06:56.429Z"
   },
   {
    "duration": 8,
    "start_time": "2023-01-12T20:06:56.437Z"
   },
   {
    "duration": 7,
    "start_time": "2023-01-12T20:06:56.447Z"
   },
   {
    "duration": 6,
    "start_time": "2023-01-12T20:06:56.456Z"
   },
   {
    "duration": 39,
    "start_time": "2023-01-12T20:06:56.464Z"
   },
   {
    "duration": 6,
    "start_time": "2023-01-12T20:06:56.504Z"
   },
   {
    "duration": 9,
    "start_time": "2023-01-12T20:06:56.511Z"
   },
   {
    "duration": 13,
    "start_time": "2023-01-12T20:06:56.522Z"
   },
   {
    "duration": 16,
    "start_time": "2023-01-12T20:06:56.536Z"
   },
   {
    "duration": 144,
    "start_time": "2023-01-12T20:06:56.554Z"
   },
   {
    "duration": 5,
    "start_time": "2023-01-12T20:06:56.699Z"
   },
   {
    "duration": 13,
    "start_time": "2023-01-12T20:06:56.706Z"
   },
   {
    "duration": 7,
    "start_time": "2023-01-12T20:06:56.721Z"
   },
   {
    "duration": 10,
    "start_time": "2023-01-12T20:06:56.730Z"
   },
   {
    "duration": 10,
    "start_time": "2023-01-12T20:06:56.741Z"
   },
   {
    "duration": 43,
    "start_time": "2023-01-12T20:06:56.753Z"
   },
   {
    "duration": 11,
    "start_time": "2023-01-12T20:06:56.798Z"
   },
   {
    "duration": 19,
    "start_time": "2023-01-12T20:06:56.811Z"
   },
   {
    "duration": 11,
    "start_time": "2023-01-12T20:06:56.832Z"
   },
   {
    "duration": 9,
    "start_time": "2023-01-12T20:06:56.844Z"
   },
   {
    "duration": 357,
    "start_time": "2023-01-12T20:06:56.854Z"
   },
   {
    "duration": 7,
    "start_time": "2023-01-12T20:06:57.212Z"
   },
   {
    "duration": 17,
    "start_time": "2023-01-12T20:06:57.221Z"
   },
   {
    "duration": 4,
    "start_time": "2023-01-12T20:06:57.240Z"
   },
   {
    "duration": 15,
    "start_time": "2023-01-12T20:06:57.246Z"
   },
   {
    "duration": 6,
    "start_time": "2023-01-12T20:06:57.262Z"
   },
   {
    "duration": 6,
    "start_time": "2023-01-12T20:06:57.270Z"
   },
   {
    "duration": 350,
    "start_time": "2023-01-12T20:06:57.277Z"
   },
   {
    "duration": 5,
    "start_time": "2023-01-12T20:06:57.629Z"
   },
   {
    "duration": 24,
    "start_time": "2023-01-12T20:06:57.635Z"
   },
   {
    "duration": 212,
    "start_time": "2023-01-12T20:06:57.661Z"
   },
   {
    "duration": 237,
    "start_time": "2023-01-12T20:06:57.875Z"
   },
   {
    "duration": 171,
    "start_time": "2023-01-12T20:06:58.113Z"
   },
   {
    "duration": 301,
    "start_time": "2023-01-12T20:06:58.286Z"
   },
   {
    "duration": 142,
    "start_time": "2023-01-12T20:06:58.589Z"
   },
   {
    "duration": 177,
    "start_time": "2023-01-12T20:06:58.732Z"
   },
   {
    "duration": 180,
    "start_time": "2023-01-12T20:06:58.911Z"
   },
   {
    "duration": 131,
    "start_time": "2023-01-12T20:06:59.096Z"
   },
   {
    "duration": 7,
    "start_time": "2023-01-12T20:06:59.228Z"
   },
   {
    "duration": 220,
    "start_time": "2023-01-12T20:06:59.236Z"
   },
   {
    "duration": 247,
    "start_time": "2023-01-12T20:06:59.458Z"
   },
   {
    "duration": 169,
    "start_time": "2023-01-12T20:06:59.706Z"
   },
   {
    "duration": 365,
    "start_time": "2023-01-12T20:06:59.876Z"
   },
   {
    "duration": 190,
    "start_time": "2023-01-12T20:07:00.242Z"
   },
   {
    "duration": 171,
    "start_time": "2023-01-12T20:07:00.433Z"
   },
   {
    "duration": 292,
    "start_time": "2023-01-12T20:07:00.606Z"
   },
   {
    "duration": 9,
    "start_time": "2023-01-12T20:07:00.900Z"
   },
   {
    "duration": 33,
    "start_time": "2023-01-12T20:07:00.911Z"
   },
   {
    "duration": 194,
    "start_time": "2023-01-12T20:07:00.946Z"
   },
   {
    "duration": 180,
    "start_time": "2023-01-12T20:07:01.142Z"
   },
   {
    "duration": 170,
    "start_time": "2023-01-12T20:07:01.323Z"
   },
   {
    "duration": 172,
    "start_time": "2023-01-12T20:07:01.496Z"
   },
   {
    "duration": 13,
    "start_time": "2023-01-12T20:07:01.670Z"
   },
   {
    "duration": 409,
    "start_time": "2023-01-12T20:07:01.685Z"
   },
   {
    "duration": 159,
    "start_time": "2023-01-12T20:07:02.099Z"
   },
   {
    "duration": 165,
    "start_time": "2023-01-12T20:07:02.259Z"
   },
   {
    "duration": 156,
    "start_time": "2023-01-12T20:07:02.426Z"
   },
   {
    "duration": 702,
    "start_time": "2023-01-12T20:07:02.584Z"
   },
   {
    "duration": 35,
    "start_time": "2023-01-12T20:07:03.295Z"
   },
   {
    "duration": 183,
    "start_time": "2023-01-12T20:07:03.331Z"
   },
   {
    "duration": 177,
    "start_time": "2023-01-12T20:07:03.515Z"
   },
   {
    "duration": 175,
    "start_time": "2023-01-12T20:07:34.714Z"
   },
   {
    "duration": 16,
    "start_time": "2023-01-12T22:42:25.190Z"
   },
   {
    "duration": 9,
    "start_time": "2023-01-12T22:42:51.212Z"
   },
   {
    "duration": 30,
    "start_time": "2023-01-12T22:50:40.077Z"
   },
   {
    "duration": 9,
    "start_time": "2023-01-12T22:51:21.388Z"
   },
   {
    "duration": 11,
    "start_time": "2023-01-12T22:51:30.466Z"
   },
   {
    "duration": 17,
    "start_time": "2023-01-12T22:57:19.566Z"
   },
   {
    "duration": 9,
    "start_time": "2023-01-12T22:59:37.373Z"
   },
   {
    "duration": 20,
    "start_time": "2023-01-12T23:00:08.115Z"
   },
   {
    "duration": 182,
    "start_time": "2023-01-12T23:08:15.999Z"
   },
   {
    "duration": 7,
    "start_time": "2023-01-12T23:14:06.683Z"
   },
   {
    "duration": 43,
    "start_time": "2023-01-12T23:15:52.407Z"
   },
   {
    "duration": 49,
    "start_time": "2023-01-12T23:16:02.964Z"
   },
   {
    "duration": 39,
    "start_time": "2023-01-12T23:16:12.664Z"
   },
   {
    "duration": 1206,
    "start_time": "2023-01-12T23:16:22.298Z"
   },
   {
    "duration": 91,
    "start_time": "2023-01-12T23:16:23.506Z"
   },
   {
    "duration": 33,
    "start_time": "2023-01-12T23:16:23.598Z"
   },
   {
    "duration": 32,
    "start_time": "2023-01-12T23:16:23.633Z"
   },
   {
    "duration": 1983,
    "start_time": "2023-01-12T23:16:23.667Z"
   },
   {
    "duration": 9,
    "start_time": "2023-01-12T23:16:25.652Z"
   },
   {
    "duration": 9,
    "start_time": "2023-01-12T23:16:25.663Z"
   },
   {
    "duration": 7,
    "start_time": "2023-01-12T23:16:25.674Z"
   },
   {
    "duration": 31,
    "start_time": "2023-01-12T23:16:25.683Z"
   },
   {
    "duration": 18,
    "start_time": "2023-01-12T23:16:25.717Z"
   },
   {
    "duration": 7,
    "start_time": "2023-01-12T23:16:25.737Z"
   },
   {
    "duration": 8,
    "start_time": "2023-01-12T23:16:25.745Z"
   },
   {
    "duration": 10,
    "start_time": "2023-01-12T23:16:25.755Z"
   },
   {
    "duration": 64,
    "start_time": "2023-01-12T23:16:25.766Z"
   },
   {
    "duration": 10,
    "start_time": "2023-01-12T23:16:25.832Z"
   },
   {
    "duration": 9,
    "start_time": "2023-01-12T23:16:25.844Z"
   },
   {
    "duration": 18,
    "start_time": "2023-01-12T23:16:25.855Z"
   },
   {
    "duration": 42,
    "start_time": "2023-01-12T23:16:25.874Z"
   },
   {
    "duration": 11,
    "start_time": "2023-01-12T23:16:25.918Z"
   },
   {
    "duration": 18,
    "start_time": "2023-01-12T23:16:25.931Z"
   },
   {
    "duration": 11,
    "start_time": "2023-01-12T23:16:25.951Z"
   },
   {
    "duration": 20,
    "start_time": "2023-01-12T23:16:25.964Z"
   },
   {
    "duration": 9,
    "start_time": "2023-01-12T23:16:25.996Z"
   },
   {
    "duration": 12,
    "start_time": "2023-01-12T23:16:26.008Z"
   },
   {
    "duration": 12,
    "start_time": "2023-01-12T23:16:26.022Z"
   },
   {
    "duration": 14,
    "start_time": "2023-01-12T23:16:26.036Z"
   },
   {
    "duration": 17,
    "start_time": "2023-01-12T23:16:26.052Z"
   },
   {
    "duration": 11,
    "start_time": "2023-01-12T23:16:26.098Z"
   },
   {
    "duration": 6,
    "start_time": "2023-01-12T23:16:26.110Z"
   },
   {
    "duration": 11,
    "start_time": "2023-01-12T23:16:26.118Z"
   },
   {
    "duration": 6,
    "start_time": "2023-01-12T23:16:26.131Z"
   },
   {
    "duration": 9,
    "start_time": "2023-01-12T23:16:26.138Z"
   },
   {
    "duration": 6,
    "start_time": "2023-01-12T23:16:26.149Z"
   },
   {
    "duration": 42,
    "start_time": "2023-01-12T23:16:26.156Z"
   },
   {
    "duration": 7,
    "start_time": "2023-01-12T23:16:26.199Z"
   },
   {
    "duration": 13,
    "start_time": "2023-01-12T23:16:26.208Z"
   },
   {
    "duration": 140,
    "start_time": "2023-01-12T23:16:26.223Z"
   },
   {
    "duration": 5,
    "start_time": "2023-01-12T23:16:26.365Z"
   },
   {
    "duration": 12,
    "start_time": "2023-01-12T23:16:26.371Z"
   },
   {
    "duration": 24,
    "start_time": "2023-01-12T23:16:26.397Z"
   },
   {
    "duration": 18,
    "start_time": "2023-01-12T23:16:26.423Z"
   },
   {
    "duration": 6,
    "start_time": "2023-01-12T23:16:26.442Z"
   },
   {
    "duration": 9,
    "start_time": "2023-01-12T23:16:26.449Z"
   },
   {
    "duration": 38,
    "start_time": "2023-01-12T23:16:26.460Z"
   },
   {
    "duration": 11,
    "start_time": "2023-01-12T23:16:26.500Z"
   },
   {
    "duration": 10,
    "start_time": "2023-01-12T23:16:26.513Z"
   },
   {
    "duration": 18,
    "start_time": "2023-01-12T23:16:26.524Z"
   },
   {
    "duration": 8,
    "start_time": "2023-01-12T23:16:26.544Z"
   },
   {
    "duration": 45,
    "start_time": "2023-01-12T23:16:26.554Z"
   },
   {
    "duration": 356,
    "start_time": "2023-01-12T23:16:26.601Z"
   },
   {
    "duration": 5,
    "start_time": "2023-01-12T23:16:26.958Z"
   },
   {
    "duration": 10,
    "start_time": "2023-01-12T23:16:26.964Z"
   },
   {
    "duration": 4,
    "start_time": "2023-01-12T23:16:26.976Z"
   },
   {
    "duration": 9,
    "start_time": "2023-01-12T23:16:26.997Z"
   },
   {
    "duration": 6,
    "start_time": "2023-01-12T23:16:27.008Z"
   },
   {
    "duration": 9,
    "start_time": "2023-01-12T23:16:27.015Z"
   },
   {
    "duration": 331,
    "start_time": "2023-01-12T23:16:27.026Z"
   },
   {
    "duration": 4,
    "start_time": "2023-01-12T23:16:27.359Z"
   },
   {
    "duration": 34,
    "start_time": "2023-01-12T23:16:27.365Z"
   },
   {
    "duration": 181,
    "start_time": "2023-01-12T23:16:27.400Z"
   },
   {
    "duration": 241,
    "start_time": "2023-01-12T23:16:27.582Z"
   },
   {
    "duration": 178,
    "start_time": "2023-01-12T23:16:27.824Z"
   },
   {
    "duration": 313,
    "start_time": "2023-01-12T23:16:28.003Z"
   },
   {
    "duration": 149,
    "start_time": "2023-01-12T23:16:28.318Z"
   },
   {
    "duration": 170,
    "start_time": "2023-01-12T23:16:28.469Z"
   },
   {
    "duration": 45,
    "start_time": "2023-01-12T23:16:28.640Z"
   },
   {
    "duration": 0,
    "start_time": "2023-01-12T23:16:28.687Z"
   },
   {
    "duration": 0,
    "start_time": "2023-01-12T23:16:28.687Z"
   },
   {
    "duration": 0,
    "start_time": "2023-01-12T23:16:28.689Z"
   },
   {
    "duration": 0,
    "start_time": "2023-01-12T23:16:28.690Z"
   },
   {
    "duration": 0,
    "start_time": "2023-01-12T23:16:28.691Z"
   },
   {
    "duration": 0,
    "start_time": "2023-01-12T23:16:28.692Z"
   },
   {
    "duration": 0,
    "start_time": "2023-01-12T23:16:28.693Z"
   },
   {
    "duration": 0,
    "start_time": "2023-01-12T23:16:28.694Z"
   },
   {
    "duration": 0,
    "start_time": "2023-01-12T23:16:28.695Z"
   },
   {
    "duration": 0,
    "start_time": "2023-01-12T23:16:28.696Z"
   },
   {
    "duration": 0,
    "start_time": "2023-01-12T23:16:28.697Z"
   },
   {
    "duration": 0,
    "start_time": "2023-01-12T23:16:28.698Z"
   },
   {
    "duration": 0,
    "start_time": "2023-01-12T23:16:28.699Z"
   },
   {
    "duration": 0,
    "start_time": "2023-01-12T23:16:28.700Z"
   },
   {
    "duration": 0,
    "start_time": "2023-01-12T23:16:28.701Z"
   },
   {
    "duration": 0,
    "start_time": "2023-01-12T23:16:28.702Z"
   },
   {
    "duration": 0,
    "start_time": "2023-01-12T23:16:28.703Z"
   },
   {
    "duration": 0,
    "start_time": "2023-01-12T23:16:28.704Z"
   },
   {
    "duration": 0,
    "start_time": "2023-01-12T23:16:28.705Z"
   },
   {
    "duration": 0,
    "start_time": "2023-01-12T23:16:28.707Z"
   },
   {
    "duration": 0,
    "start_time": "2023-01-12T23:16:28.708Z"
   },
   {
    "duration": 1,
    "start_time": "2023-01-12T23:16:28.708Z"
   },
   {
    "duration": 0,
    "start_time": "2023-01-12T23:16:28.710Z"
   },
   {
    "duration": 0,
    "start_time": "2023-01-12T23:16:28.710Z"
   },
   {
    "duration": 0,
    "start_time": "2023-01-12T23:16:28.711Z"
   },
   {
    "duration": 7,
    "start_time": "2023-01-12T23:17:36.698Z"
   },
   {
    "duration": 270,
    "start_time": "2023-01-12T23:20:07.015Z"
   },
   {
    "duration": 252,
    "start_time": "2023-01-12T23:20:47.508Z"
   },
   {
    "duration": 145,
    "start_time": "2023-01-12T23:21:54.160Z"
   },
   {
    "duration": 167,
    "start_time": "2023-01-12T23:28:40.474Z"
   },
   {
    "duration": 95,
    "start_time": "2023-01-12T23:33:27.628Z"
   },
   {
    "duration": 17,
    "start_time": "2023-01-12T23:33:38.110Z"
   },
   {
    "duration": 236,
    "start_time": "2023-01-12T23:34:20.421Z"
   },
   {
    "duration": 148,
    "start_time": "2023-01-12T23:34:41.080Z"
   },
   {
    "duration": 153,
    "start_time": "2023-01-12T23:34:54.397Z"
   },
   {
    "duration": 1187,
    "start_time": "2023-01-12T23:36:46.622Z"
   },
   {
    "duration": 94,
    "start_time": "2023-01-12T23:36:47.811Z"
   },
   {
    "duration": 36,
    "start_time": "2023-01-12T23:36:47.907Z"
   },
   {
    "duration": 35,
    "start_time": "2023-01-12T23:36:47.945Z"
   },
   {
    "duration": 2082,
    "start_time": "2023-01-12T23:36:47.996Z"
   },
   {
    "duration": 11,
    "start_time": "2023-01-12T23:36:50.080Z"
   },
   {
    "duration": 17,
    "start_time": "2023-01-12T23:36:50.093Z"
   },
   {
    "duration": 11,
    "start_time": "2023-01-12T23:36:50.112Z"
   },
   {
    "duration": 33,
    "start_time": "2023-01-12T23:36:50.125Z"
   },
   {
    "duration": 19,
    "start_time": "2023-01-12T23:36:50.161Z"
   },
   {
    "duration": 20,
    "start_time": "2023-01-12T23:36:50.182Z"
   },
   {
    "duration": 20,
    "start_time": "2023-01-12T23:36:50.203Z"
   },
   {
    "duration": 39,
    "start_time": "2023-01-12T23:36:50.225Z"
   },
   {
    "duration": 52,
    "start_time": "2023-01-12T23:36:50.266Z"
   },
   {
    "duration": 13,
    "start_time": "2023-01-12T23:36:50.320Z"
   },
   {
    "duration": 14,
    "start_time": "2023-01-12T23:36:50.335Z"
   },
   {
    "duration": 12,
    "start_time": "2023-01-12T23:36:50.352Z"
   },
   {
    "duration": 43,
    "start_time": "2023-01-12T23:36:50.366Z"
   },
   {
    "duration": 15,
    "start_time": "2023-01-12T23:36:50.410Z"
   },
   {
    "duration": 18,
    "start_time": "2023-01-12T23:36:50.427Z"
   },
   {
    "duration": 5,
    "start_time": "2023-01-12T23:36:50.446Z"
   },
   {
    "duration": 15,
    "start_time": "2023-01-12T23:36:50.452Z"
   },
   {
    "duration": 6,
    "start_time": "2023-01-12T23:36:50.469Z"
   },
   {
    "duration": 27,
    "start_time": "2023-01-12T23:36:50.476Z"
   },
   {
    "duration": 7,
    "start_time": "2023-01-12T23:36:50.505Z"
   },
   {
    "duration": 14,
    "start_time": "2023-01-12T23:36:50.513Z"
   },
   {
    "duration": 19,
    "start_time": "2023-01-12T23:36:50.529Z"
   },
   {
    "duration": 36,
    "start_time": "2023-01-12T23:36:50.553Z"
   },
   {
    "duration": 19,
    "start_time": "2023-01-12T23:36:50.591Z"
   },
   {
    "duration": 28,
    "start_time": "2023-01-12T23:36:50.612Z"
   },
   {
    "duration": 16,
    "start_time": "2023-01-12T23:36:50.642Z"
   },
   {
    "duration": 22,
    "start_time": "2023-01-12T23:36:50.660Z"
   },
   {
    "duration": 30,
    "start_time": "2023-01-12T23:36:50.684Z"
   },
   {
    "duration": 12,
    "start_time": "2023-01-12T23:36:50.716Z"
   },
   {
    "duration": 15,
    "start_time": "2023-01-12T23:36:50.730Z"
   },
   {
    "duration": 32,
    "start_time": "2023-01-12T23:36:50.747Z"
   },
   {
    "duration": 136,
    "start_time": "2023-01-12T23:36:50.780Z"
   },
   {
    "duration": 5,
    "start_time": "2023-01-12T23:36:50.917Z"
   },
   {
    "duration": 12,
    "start_time": "2023-01-12T23:36:50.924Z"
   },
   {
    "duration": 24,
    "start_time": "2023-01-12T23:36:50.938Z"
   },
   {
    "duration": 43,
    "start_time": "2023-01-12T23:36:50.964Z"
   },
   {
    "duration": 6,
    "start_time": "2023-01-12T23:36:51.009Z"
   },
   {
    "duration": 17,
    "start_time": "2023-01-12T23:36:51.016Z"
   },
   {
    "duration": 21,
    "start_time": "2023-01-12T23:36:51.034Z"
   },
   {
    "duration": 36,
    "start_time": "2023-01-12T23:36:51.056Z"
   },
   {
    "duration": 10,
    "start_time": "2023-01-12T23:36:51.094Z"
   },
   {
    "duration": 20,
    "start_time": "2023-01-12T23:36:51.105Z"
   },
   {
    "duration": 10,
    "start_time": "2023-01-12T23:36:51.127Z"
   },
   {
    "duration": 9,
    "start_time": "2023-01-12T23:36:51.139Z"
   },
   {
    "duration": 370,
    "start_time": "2023-01-12T23:36:51.150Z"
   },
   {
    "duration": 5,
    "start_time": "2023-01-12T23:36:51.521Z"
   },
   {
    "duration": 10,
    "start_time": "2023-01-12T23:36:51.528Z"
   },
   {
    "duration": 6,
    "start_time": "2023-01-12T23:36:51.540Z"
   },
   {
    "duration": 11,
    "start_time": "2023-01-12T23:36:51.548Z"
   },
   {
    "duration": 6,
    "start_time": "2023-01-12T23:36:51.560Z"
   },
   {
    "duration": 32,
    "start_time": "2023-01-12T23:36:51.568Z"
   },
   {
    "duration": 336,
    "start_time": "2023-01-12T23:36:51.602Z"
   },
   {
    "duration": 4,
    "start_time": "2023-01-12T23:36:51.940Z"
   },
   {
    "duration": 26,
    "start_time": "2023-01-12T23:36:51.946Z"
   },
   {
    "duration": 201,
    "start_time": "2023-01-12T23:36:51.974Z"
   },
   {
    "duration": 244,
    "start_time": "2023-01-12T23:36:52.177Z"
   },
   {
    "duration": 189,
    "start_time": "2023-01-12T23:36:52.422Z"
   },
   {
    "duration": 316,
    "start_time": "2023-01-12T23:36:52.613Z"
   },
   {
    "duration": 167,
    "start_time": "2023-01-12T23:36:52.930Z"
   },
   {
    "duration": 172,
    "start_time": "2023-01-12T23:36:53.099Z"
   },
   {
    "duration": 7,
    "start_time": "2023-01-12T23:36:53.273Z"
   },
   {
    "duration": 280,
    "start_time": "2023-01-12T23:36:53.296Z"
   },
   {
    "duration": 164,
    "start_time": "2023-01-12T23:36:53.577Z"
   },
   {
    "duration": 181,
    "start_time": "2023-01-12T23:36:53.743Z"
   },
   {
    "duration": 143,
    "start_time": "2023-01-12T23:36:53.927Z"
   },
   {
    "duration": 7,
    "start_time": "2023-01-12T23:36:54.072Z"
   },
   {
    "duration": 210,
    "start_time": "2023-01-12T23:36:54.096Z"
   },
   {
    "duration": 353,
    "start_time": "2023-01-12T23:36:54.308Z"
   },
   {
    "duration": 174,
    "start_time": "2023-01-12T23:36:54.663Z"
   },
   {
    "duration": 295,
    "start_time": "2023-01-12T23:36:54.839Z"
   },
   {
    "duration": 183,
    "start_time": "2023-01-12T23:36:55.135Z"
   },
   {
    "duration": 172,
    "start_time": "2023-01-12T23:36:55.320Z"
   },
   {
    "duration": 309,
    "start_time": "2023-01-12T23:36:55.497Z"
   },
   {
    "duration": 10,
    "start_time": "2023-01-12T23:36:55.808Z"
   },
   {
    "duration": 20,
    "start_time": "2023-01-12T23:36:55.819Z"
   },
   {
    "duration": 212,
    "start_time": "2023-01-12T23:36:55.841Z"
   },
   {
    "duration": 187,
    "start_time": "2023-01-12T23:36:56.060Z"
   },
   {
    "duration": 261,
    "start_time": "2023-01-12T23:36:56.249Z"
   },
   {
    "duration": 184,
    "start_time": "2023-01-12T23:36:56.512Z"
   },
   {
    "duration": 14,
    "start_time": "2023-01-12T23:36:56.698Z"
   },
   {
    "duration": 333,
    "start_time": "2023-01-12T23:36:56.713Z"
   },
   {
    "duration": 187,
    "start_time": "2023-01-12T23:36:57.048Z"
   },
   {
    "duration": 173,
    "start_time": "2023-01-12T23:36:57.236Z"
   },
   {
    "duration": 164,
    "start_time": "2023-01-12T23:36:57.410Z"
   },
   {
    "duration": 167,
    "start_time": "2023-01-12T23:36:57.575Z"
   },
   {
    "duration": 752,
    "start_time": "2023-01-12T23:36:57.743Z"
   },
   {
    "duration": 36,
    "start_time": "2023-01-12T23:36:58.497Z"
   },
   {
    "duration": 195,
    "start_time": "2023-01-12T23:36:58.534Z"
   },
   {
    "duration": 100,
    "start_time": "2023-01-12T23:52:23.930Z"
   },
   {
    "duration": 135,
    "start_time": "2023-01-12T23:52:37.111Z"
   },
   {
    "duration": 132,
    "start_time": "2023-01-12T23:52:49.956Z"
   },
   {
    "duration": 155,
    "start_time": "2023-01-12T23:52:59.217Z"
   },
   {
    "duration": 126,
    "start_time": "2023-01-12T23:54:38.581Z"
   },
   {
    "duration": 141,
    "start_time": "2023-01-12T23:55:09.036Z"
   },
   {
    "duration": 1408,
    "start_time": "2023-07-28T14:46:24.205Z"
   },
   {
    "duration": 300,
    "start_time": "2023-07-28T14:46:25.614Z"
   },
   {
    "duration": 35,
    "start_time": "2023-07-28T14:46:25.916Z"
   },
   {
    "duration": 31,
    "start_time": "2023-07-28T14:46:25.953Z"
   },
   {
    "duration": 1910,
    "start_time": "2023-07-28T14:46:25.986Z"
   },
   {
    "duration": 11,
    "start_time": "2023-07-28T14:46:27.898Z"
   },
   {
    "duration": 13,
    "start_time": "2023-07-28T14:46:27.911Z"
   },
   {
    "duration": 8,
    "start_time": "2023-07-28T14:46:27.926Z"
   },
   {
    "duration": 25,
    "start_time": "2023-07-28T14:46:27.936Z"
   },
   {
    "duration": 18,
    "start_time": "2023-07-28T14:46:27.963Z"
   },
   {
    "duration": 8,
    "start_time": "2023-07-28T14:46:27.983Z"
   },
   {
    "duration": 38,
    "start_time": "2023-07-28T14:46:27.993Z"
   },
   {
    "duration": 9,
    "start_time": "2023-07-28T14:46:28.033Z"
   },
   {
    "duration": 38,
    "start_time": "2023-07-28T14:46:28.044Z"
   },
   {
    "duration": 11,
    "start_time": "2023-07-28T14:46:28.083Z"
   },
   {
    "duration": 10,
    "start_time": "2023-07-28T14:46:28.095Z"
   },
   {
    "duration": 13,
    "start_time": "2023-07-28T14:46:28.132Z"
   },
   {
    "duration": 19,
    "start_time": "2023-07-28T14:46:28.147Z"
   },
   {
    "duration": 8,
    "start_time": "2023-07-28T14:46:28.168Z"
   },
   {
    "duration": 10,
    "start_time": "2023-07-28T14:46:28.178Z"
   },
   {
    "duration": 7,
    "start_time": "2023-07-28T14:46:28.190Z"
   },
   {
    "duration": 35,
    "start_time": "2023-07-28T14:46:28.198Z"
   },
   {
    "duration": 7,
    "start_time": "2023-07-28T14:46:28.235Z"
   },
   {
    "duration": 13,
    "start_time": "2023-07-28T14:46:28.244Z"
   },
   {
    "duration": 10,
    "start_time": "2023-07-28T14:46:28.259Z"
   },
   {
    "duration": 24,
    "start_time": "2023-07-28T14:46:28.271Z"
   },
   {
    "duration": 13,
    "start_time": "2023-07-28T14:46:28.297Z"
   },
   {
    "duration": 21,
    "start_time": "2023-07-28T14:46:28.313Z"
   },
   {
    "duration": 9,
    "start_time": "2023-07-28T14:46:28.336Z"
   },
   {
    "duration": 12,
    "start_time": "2023-07-28T14:46:28.347Z"
   },
   {
    "duration": 7,
    "start_time": "2023-07-28T14:46:28.361Z"
   },
   {
    "duration": 13,
    "start_time": "2023-07-28T14:46:28.370Z"
   },
   {
    "duration": 7,
    "start_time": "2023-07-28T14:46:28.385Z"
   },
   {
    "duration": 43,
    "start_time": "2023-07-28T14:46:28.394Z"
   },
   {
    "duration": 10,
    "start_time": "2023-07-28T14:46:28.439Z"
   },
   {
    "duration": 28,
    "start_time": "2023-07-28T14:46:28.451Z"
   },
   {
    "duration": 145,
    "start_time": "2023-07-28T14:46:28.481Z"
   },
   {
    "duration": 7,
    "start_time": "2023-07-28T14:46:28.632Z"
   },
   {
    "duration": 16,
    "start_time": "2023-07-28T14:46:28.641Z"
   },
   {
    "duration": 25,
    "start_time": "2023-07-28T14:46:28.659Z"
   },
   {
    "duration": 18,
    "start_time": "2023-07-28T14:46:28.686Z"
   },
   {
    "duration": 32,
    "start_time": "2023-07-28T14:46:28.706Z"
   },
   {
    "duration": 17,
    "start_time": "2023-07-28T14:46:28.740Z"
   },
   {
    "duration": 8,
    "start_time": "2023-07-28T14:46:28.759Z"
   },
   {
    "duration": 9,
    "start_time": "2023-07-28T14:46:28.769Z"
   },
   {
    "duration": 16,
    "start_time": "2023-07-28T14:46:28.780Z"
   },
   {
    "duration": 47,
    "start_time": "2023-07-28T14:46:28.797Z"
   },
   {
    "duration": 9,
    "start_time": "2023-07-28T14:46:28.846Z"
   },
   {
    "duration": 9,
    "start_time": "2023-07-28T14:46:28.856Z"
   },
   {
    "duration": 367,
    "start_time": "2023-07-28T14:46:28.867Z"
   },
   {
    "duration": 4,
    "start_time": "2023-07-28T14:46:29.236Z"
   },
   {
    "duration": 11,
    "start_time": "2023-07-28T14:46:29.241Z"
   },
   {
    "duration": 7,
    "start_time": "2023-07-28T14:46:29.253Z"
   },
   {
    "duration": 9,
    "start_time": "2023-07-28T14:46:29.262Z"
   },
   {
    "duration": 6,
    "start_time": "2023-07-28T14:46:29.273Z"
   },
   {
    "duration": 5,
    "start_time": "2023-07-28T14:46:29.281Z"
   },
   {
    "duration": 325,
    "start_time": "2023-07-28T14:46:29.288Z"
   },
   {
    "duration": 4,
    "start_time": "2023-07-28T14:46:29.615Z"
   },
   {
    "duration": 32,
    "start_time": "2023-07-28T14:46:29.620Z"
   },
   {
    "duration": 183,
    "start_time": "2023-07-28T14:46:29.654Z"
   },
   {
    "duration": 228,
    "start_time": "2023-07-28T14:46:29.839Z"
   },
   {
    "duration": 176,
    "start_time": "2023-07-28T14:46:30.068Z"
   },
   {
    "duration": 310,
    "start_time": "2023-07-28T14:46:30.246Z"
   },
   {
    "duration": 155,
    "start_time": "2023-07-28T14:46:30.557Z"
   },
   {
    "duration": 165,
    "start_time": "2023-07-28T14:46:30.713Z"
   },
   {
    "duration": 8,
    "start_time": "2023-07-28T14:46:30.880Z"
   },
   {
    "duration": 327,
    "start_time": "2023-07-28T14:46:30.889Z"
   },
   {
    "duration": 162,
    "start_time": "2023-07-28T14:46:31.217Z"
   },
   {
    "duration": 167,
    "start_time": "2023-07-28T14:46:31.380Z"
   },
   {
    "duration": 142,
    "start_time": "2023-07-28T14:46:31.549Z"
   },
   {
    "duration": 9,
    "start_time": "2023-07-28T14:46:31.693Z"
   },
   {
    "duration": 241,
    "start_time": "2023-07-28T14:46:31.704Z"
   },
   {
    "duration": 343,
    "start_time": "2023-07-28T14:46:31.947Z"
   },
   {
    "duration": 204,
    "start_time": "2023-07-28T14:46:32.292Z"
   },
   {
    "duration": 272,
    "start_time": "2023-07-28T14:46:32.498Z"
   },
   {
    "duration": 182,
    "start_time": "2023-07-28T14:46:32.772Z"
   },
   {
    "duration": 164,
    "start_time": "2023-07-28T14:46:32.956Z"
   },
   {
    "duration": 329,
    "start_time": "2023-07-28T14:46:33.122Z"
   },
   {
    "duration": 14,
    "start_time": "2023-07-28T14:46:33.453Z"
   },
   {
    "duration": 8,
    "start_time": "2023-07-28T14:46:33.469Z"
   },
   {
    "duration": 176,
    "start_time": "2023-07-28T14:46:33.479Z"
   },
   {
    "duration": 156,
    "start_time": "2023-07-28T14:46:33.662Z"
   },
   {
    "duration": 292,
    "start_time": "2023-07-28T14:46:33.820Z"
   },
   {
    "duration": 168,
    "start_time": "2023-07-28T14:46:34.115Z"
   },
   {
    "duration": 163,
    "start_time": "2023-07-28T14:46:34.285Z"
   },
   {
    "duration": 21,
    "start_time": "2023-07-28T14:46:34.450Z"
   },
   {
    "duration": 411,
    "start_time": "2023-07-28T14:46:34.473Z"
   },
   {
    "duration": 181,
    "start_time": "2023-07-28T14:46:34.888Z"
   },
   {
    "duration": 165,
    "start_time": "2023-07-28T14:46:35.071Z"
   },
   {
    "duration": 163,
    "start_time": "2023-07-28T14:46:35.238Z"
   },
   {
    "duration": 167,
    "start_time": "2023-07-28T14:46:35.403Z"
   },
   {
    "duration": 754,
    "start_time": "2023-07-28T14:46:35.571Z"
   },
   {
    "duration": 33,
    "start_time": "2023-07-28T14:46:36.327Z"
   },
   {
    "duration": 184,
    "start_time": "2023-07-28T14:46:36.362Z"
   }
  ],
  "kernelspec": {
   "display_name": "Python 3 (ipykernel)",
   "language": "python",
   "name": "python3"
  },
  "language_info": {
   "codemirror_mode": {
    "name": "ipython",
    "version": 3
   },
   "file_extension": ".py",
   "mimetype": "text/x-python",
   "name": "python",
   "nbconvert_exporter": "python",
   "pygments_lexer": "ipython3",
   "version": "3.9.5"
  },
  "toc": {
   "base_numbering": 1,
   "nav_menu": {},
   "number_sections": true,
   "sideBar": true,
   "skip_h1_title": true,
   "title_cell": "Table of Contents",
   "title_sidebar": "Contents",
   "toc_cell": false,
   "toc_position": {},
   "toc_section_display": true,
   "toc_window_display": false
  }
 },
 "nbformat": 4,
 "nbformat_minor": 2
}
