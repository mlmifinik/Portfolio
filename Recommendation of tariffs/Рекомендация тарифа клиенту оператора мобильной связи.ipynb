{
 "cells": [
  {
   "cell_type": "markdown",
   "metadata": {},
   "source": [
    "# Рекомендация тарифов"
   ]
  },
  {
   "cell_type": "markdown",
   "metadata": {},
   "source": [
    "## Откройте и изучите файл"
   ]
  },
  {
   "cell_type": "code",
   "execution_count": 1,
   "metadata": {},
   "outputs": [],
   "source": [
    "#необходимые библиотеки\n",
    "import pandas as pd\n",
    "import numpy as np\n",
    "\n",
    "from sklearn.model_selection import train_test_split\n",
    "from sklearn.metrics import accuracy_score\n",
    "\n",
    "from sklearn.linear_model import LogisticRegression\n",
    "from sklearn.ensemble import RandomForestClassifier\n",
    "from sklearn.tree import DecisionTreeClassifier\n",
    "\n",
    "from sklearn.dummy import DummyClassifier"
   ]
  },
  {
   "cell_type": "code",
   "execution_count": 2,
   "metadata": {},
   "outputs": [],
   "source": [
    "#прочитаем файл \n",
    "try:\n",
    "    df = pd.read_csv('users_behavior.csv')\n",
    "except:\n",
    "    df = pd.read_csv('/datasets/users_behavior.csv')"
   ]
  },
  {
   "cell_type": "code",
   "execution_count": 3,
   "metadata": {},
   "outputs": [
    {
     "data": {
      "text/html": [
       "<div>\n",
       "<style scoped>\n",
       "    .dataframe tbody tr th:only-of-type {\n",
       "        vertical-align: middle;\n",
       "    }\n",
       "\n",
       "    .dataframe tbody tr th {\n",
       "        vertical-align: top;\n",
       "    }\n",
       "\n",
       "    .dataframe thead th {\n",
       "        text-align: right;\n",
       "    }\n",
       "</style>\n",
       "<table border=\"1\" class=\"dataframe\">\n",
       "  <thead>\n",
       "    <tr style=\"text-align: right;\">\n",
       "      <th></th>\n",
       "      <th>calls</th>\n",
       "      <th>minutes</th>\n",
       "      <th>messages</th>\n",
       "      <th>mb_used</th>\n",
       "      <th>is_ultra</th>\n",
       "    </tr>\n",
       "  </thead>\n",
       "  <tbody>\n",
       "    <tr>\n",
       "      <th>0</th>\n",
       "      <td>40.0</td>\n",
       "      <td>311.90</td>\n",
       "      <td>83.0</td>\n",
       "      <td>19915.42</td>\n",
       "      <td>0</td>\n",
       "    </tr>\n",
       "    <tr>\n",
       "      <th>1</th>\n",
       "      <td>85.0</td>\n",
       "      <td>516.75</td>\n",
       "      <td>56.0</td>\n",
       "      <td>22696.96</td>\n",
       "      <td>0</td>\n",
       "    </tr>\n",
       "    <tr>\n",
       "      <th>2</th>\n",
       "      <td>77.0</td>\n",
       "      <td>467.66</td>\n",
       "      <td>86.0</td>\n",
       "      <td>21060.45</td>\n",
       "      <td>0</td>\n",
       "    </tr>\n",
       "    <tr>\n",
       "      <th>3</th>\n",
       "      <td>106.0</td>\n",
       "      <td>745.53</td>\n",
       "      <td>81.0</td>\n",
       "      <td>8437.39</td>\n",
       "      <td>1</td>\n",
       "    </tr>\n",
       "    <tr>\n",
       "      <th>4</th>\n",
       "      <td>66.0</td>\n",
       "      <td>418.74</td>\n",
       "      <td>1.0</td>\n",
       "      <td>14502.75</td>\n",
       "      <td>0</td>\n",
       "    </tr>\n",
       "    <tr>\n",
       "      <th>5</th>\n",
       "      <td>58.0</td>\n",
       "      <td>344.56</td>\n",
       "      <td>21.0</td>\n",
       "      <td>15823.37</td>\n",
       "      <td>0</td>\n",
       "    </tr>\n",
       "    <tr>\n",
       "      <th>6</th>\n",
       "      <td>57.0</td>\n",
       "      <td>431.64</td>\n",
       "      <td>20.0</td>\n",
       "      <td>3738.90</td>\n",
       "      <td>1</td>\n",
       "    </tr>\n",
       "    <tr>\n",
       "      <th>7</th>\n",
       "      <td>15.0</td>\n",
       "      <td>132.40</td>\n",
       "      <td>6.0</td>\n",
       "      <td>21911.60</td>\n",
       "      <td>0</td>\n",
       "    </tr>\n",
       "    <tr>\n",
       "      <th>8</th>\n",
       "      <td>7.0</td>\n",
       "      <td>43.39</td>\n",
       "      <td>3.0</td>\n",
       "      <td>2538.67</td>\n",
       "      <td>1</td>\n",
       "    </tr>\n",
       "    <tr>\n",
       "      <th>9</th>\n",
       "      <td>90.0</td>\n",
       "      <td>665.41</td>\n",
       "      <td>38.0</td>\n",
       "      <td>17358.61</td>\n",
       "      <td>0</td>\n",
       "    </tr>\n",
       "  </tbody>\n",
       "</table>\n",
       "</div>"
      ],
      "text/plain": [
       "   calls  minutes  messages   mb_used  is_ultra\n",
       "0   40.0   311.90      83.0  19915.42         0\n",
       "1   85.0   516.75      56.0  22696.96         0\n",
       "2   77.0   467.66      86.0  21060.45         0\n",
       "3  106.0   745.53      81.0   8437.39         1\n",
       "4   66.0   418.74       1.0  14502.75         0\n",
       "5   58.0   344.56      21.0  15823.37         0\n",
       "6   57.0   431.64      20.0   3738.90         1\n",
       "7   15.0   132.40       6.0  21911.60         0\n",
       "8    7.0    43.39       3.0   2538.67         1\n",
       "9   90.0   665.41      38.0  17358.61         0"
      ]
     },
     "metadata": {},
     "output_type": "display_data"
    },
    {
     "name": "stdout",
     "output_type": "stream",
     "text": [
      "<class 'pandas.core.frame.DataFrame'>\n",
      "RangeIndex: 3214 entries, 0 to 3213\n",
      "Data columns (total 5 columns):\n",
      " #   Column    Non-Null Count  Dtype  \n",
      "---  ------    --------------  -----  \n",
      " 0   calls     3214 non-null   float64\n",
      " 1   minutes   3214 non-null   float64\n",
      " 2   messages  3214 non-null   float64\n",
      " 3   mb_used   3214 non-null   float64\n",
      " 4   is_ultra  3214 non-null   int64  \n",
      "dtypes: float64(4), int64(1)\n",
      "memory usage: 125.7 KB\n"
     ]
    }
   ],
   "source": [
    "display(df.head(10))\n",
    "df.info()"
   ]
  },
  {
   "cell_type": "markdown",
   "metadata": {},
   "source": [
    "Данные состоят из 3214 строк и 5 столбцов. Каждый объект в наборе данных — это информация о поведении одного пользователя за месяц. Целевой признак в построении модели - столбец **is_ultra** (качественный тип данных). Перед нами стоит задача классификации.\n",
    "Пропусков в данных нет. Предобработка по условию не нужна, но это не отменяет дополнительную подготовку данных."
   ]
  },
  {
   "cell_type": "markdown",
   "metadata": {},
   "source": [
    "Еще раз обратим внимание на данные."
   ]
  },
  {
   "cell_type": "code",
   "execution_count": 4,
   "metadata": {},
   "outputs": [
    {
     "data": {
      "text/plain": [
       "0"
      ]
     },
     "execution_count": 4,
     "metadata": {},
     "output_type": "execute_result"
    }
   ],
   "source": [
    "#убедимся, что нет явных дубликатов\n",
    "df.duplicated().sum()"
   ]
  },
  {
   "cell_type": "code",
   "execution_count": 5,
   "metadata": {},
   "outputs": [
    {
     "data": {
      "text/html": [
       "<div>\n",
       "<style scoped>\n",
       "    .dataframe tbody tr th:only-of-type {\n",
       "        vertical-align: middle;\n",
       "    }\n",
       "\n",
       "    .dataframe tbody tr th {\n",
       "        vertical-align: top;\n",
       "    }\n",
       "\n",
       "    .dataframe thead th {\n",
       "        text-align: right;\n",
       "    }\n",
       "</style>\n",
       "<table border=\"1\" class=\"dataframe\">\n",
       "  <thead>\n",
       "    <tr style=\"text-align: right;\">\n",
       "      <th></th>\n",
       "      <th>calls</th>\n",
       "      <th>minutes</th>\n",
       "      <th>messages</th>\n",
       "      <th>mb_used</th>\n",
       "      <th>is_ultra</th>\n",
       "    </tr>\n",
       "  </thead>\n",
       "  <tbody>\n",
       "    <tr>\n",
       "      <th>count</th>\n",
       "      <td>3214.000000</td>\n",
       "      <td>3214.000000</td>\n",
       "      <td>3214.000000</td>\n",
       "      <td>3214.000000</td>\n",
       "      <td>3214.000000</td>\n",
       "    </tr>\n",
       "    <tr>\n",
       "      <th>mean</th>\n",
       "      <td>63.038892</td>\n",
       "      <td>438.208787</td>\n",
       "      <td>38.281269</td>\n",
       "      <td>17207.673836</td>\n",
       "      <td>0.306472</td>\n",
       "    </tr>\n",
       "    <tr>\n",
       "      <th>std</th>\n",
       "      <td>33.236368</td>\n",
       "      <td>234.569872</td>\n",
       "      <td>36.148326</td>\n",
       "      <td>7570.968246</td>\n",
       "      <td>0.461100</td>\n",
       "    </tr>\n",
       "    <tr>\n",
       "      <th>min</th>\n",
       "      <td>0.000000</td>\n",
       "      <td>0.000000</td>\n",
       "      <td>0.000000</td>\n",
       "      <td>0.000000</td>\n",
       "      <td>0.000000</td>\n",
       "    </tr>\n",
       "    <tr>\n",
       "      <th>25%</th>\n",
       "      <td>40.000000</td>\n",
       "      <td>274.575000</td>\n",
       "      <td>9.000000</td>\n",
       "      <td>12491.902500</td>\n",
       "      <td>0.000000</td>\n",
       "    </tr>\n",
       "    <tr>\n",
       "      <th>50%</th>\n",
       "      <td>62.000000</td>\n",
       "      <td>430.600000</td>\n",
       "      <td>30.000000</td>\n",
       "      <td>16943.235000</td>\n",
       "      <td>0.000000</td>\n",
       "    </tr>\n",
       "    <tr>\n",
       "      <th>75%</th>\n",
       "      <td>82.000000</td>\n",
       "      <td>571.927500</td>\n",
       "      <td>57.000000</td>\n",
       "      <td>21424.700000</td>\n",
       "      <td>1.000000</td>\n",
       "    </tr>\n",
       "    <tr>\n",
       "      <th>max</th>\n",
       "      <td>244.000000</td>\n",
       "      <td>1632.060000</td>\n",
       "      <td>224.000000</td>\n",
       "      <td>49745.730000</td>\n",
       "      <td>1.000000</td>\n",
       "    </tr>\n",
       "  </tbody>\n",
       "</table>\n",
       "</div>"
      ],
      "text/plain": [
       "             calls      minutes     messages       mb_used     is_ultra\n",
       "count  3214.000000  3214.000000  3214.000000   3214.000000  3214.000000\n",
       "mean     63.038892   438.208787    38.281269  17207.673836     0.306472\n",
       "std      33.236368   234.569872    36.148326   7570.968246     0.461100\n",
       "min       0.000000     0.000000     0.000000      0.000000     0.000000\n",
       "25%      40.000000   274.575000     9.000000  12491.902500     0.000000\n",
       "50%      62.000000   430.600000    30.000000  16943.235000     0.000000\n",
       "75%      82.000000   571.927500    57.000000  21424.700000     1.000000\n",
       "max     244.000000  1632.060000   224.000000  49745.730000     1.000000"
      ]
     },
     "execution_count": 5,
     "metadata": {},
     "output_type": "execute_result"
    }
   ],
   "source": [
    "#посмотрим на значения\n",
    "df.describe()"
   ]
  },
  {
   "cell_type": "markdown",
   "metadata": {},
   "source": [
    "Очевидно, что присутствуют нулевые значения в колонках с признаками объектов. Нули в сообщениях не беспокоят, поскольку в настоящее время смс-ки мало кто пишет, нули в данных мобильного интернет трафика заменили пропущенные значения видимо. Другое дело нулевые значения в 'calls' и 'minute'. \t"
   ]
  },
  {
   "cell_type": "code",
   "execution_count": 6,
   "metadata": {},
   "outputs": [
    {
     "data": {
      "text/html": [
       "<div>\n",
       "<style scoped>\n",
       "    .dataframe tbody tr th:only-of-type {\n",
       "        vertical-align: middle;\n",
       "    }\n",
       "\n",
       "    .dataframe tbody tr th {\n",
       "        vertical-align: top;\n",
       "    }\n",
       "\n",
       "    .dataframe thead th {\n",
       "        text-align: right;\n",
       "    }\n",
       "</style>\n",
       "<table border=\"1\" class=\"dataframe\">\n",
       "  <thead>\n",
       "    <tr style=\"text-align: right;\">\n",
       "      <th></th>\n",
       "      <th>calls</th>\n",
       "      <th>minutes</th>\n",
       "      <th>messages</th>\n",
       "      <th>mb_used</th>\n",
       "      <th>is_ultra</th>\n",
       "    </tr>\n",
       "  </thead>\n",
       "  <tbody>\n",
       "    <tr>\n",
       "      <th>54</th>\n",
       "      <td>0.0</td>\n",
       "      <td>0.0</td>\n",
       "      <td>33.0</td>\n",
       "      <td>14010.33</td>\n",
       "      <td>1</td>\n",
       "    </tr>\n",
       "    <tr>\n",
       "      <th>247</th>\n",
       "      <td>0.0</td>\n",
       "      <td>0.0</td>\n",
       "      <td>35.0</td>\n",
       "      <td>16444.99</td>\n",
       "      <td>1</td>\n",
       "    </tr>\n",
       "    <tr>\n",
       "      <th>264</th>\n",
       "      <td>0.0</td>\n",
       "      <td>0.0</td>\n",
       "      <td>21.0</td>\n",
       "      <td>19559.55</td>\n",
       "      <td>0</td>\n",
       "    </tr>\n",
       "    <tr>\n",
       "      <th>351</th>\n",
       "      <td>0.0</td>\n",
       "      <td>0.0</td>\n",
       "      <td>8.0</td>\n",
       "      <td>35525.61</td>\n",
       "      <td>1</td>\n",
       "    </tr>\n",
       "    <tr>\n",
       "      <th>390</th>\n",
       "      <td>0.0</td>\n",
       "      <td>0.0</td>\n",
       "      <td>25.0</td>\n",
       "      <td>19088.67</td>\n",
       "      <td>1</td>\n",
       "    </tr>\n",
       "    <tr>\n",
       "      <th>484</th>\n",
       "      <td>0.0</td>\n",
       "      <td>0.0</td>\n",
       "      <td>191.0</td>\n",
       "      <td>32448.02</td>\n",
       "      <td>1</td>\n",
       "    </tr>\n",
       "    <tr>\n",
       "      <th>551</th>\n",
       "      <td>0.0</td>\n",
       "      <td>0.0</td>\n",
       "      <td>24.0</td>\n",
       "      <td>18701.54</td>\n",
       "      <td>1</td>\n",
       "    </tr>\n",
       "    <tr>\n",
       "      <th>647</th>\n",
       "      <td>0.0</td>\n",
       "      <td>0.0</td>\n",
       "      <td>30.0</td>\n",
       "      <td>10236.20</td>\n",
       "      <td>1</td>\n",
       "    </tr>\n",
       "    <tr>\n",
       "      <th>769</th>\n",
       "      <td>0.0</td>\n",
       "      <td>0.0</td>\n",
       "      <td>32.0</td>\n",
       "      <td>17206.44</td>\n",
       "      <td>0</td>\n",
       "    </tr>\n",
       "    <tr>\n",
       "      <th>884</th>\n",
       "      <td>0.0</td>\n",
       "      <td>0.0</td>\n",
       "      <td>180.0</td>\n",
       "      <td>32045.73</td>\n",
       "      <td>1</td>\n",
       "    </tr>\n",
       "    <tr>\n",
       "      <th>951</th>\n",
       "      <td>0.0</td>\n",
       "      <td>0.0</td>\n",
       "      <td>185.0</td>\n",
       "      <td>31032.94</td>\n",
       "      <td>1</td>\n",
       "    </tr>\n",
       "    <tr>\n",
       "      <th>1040</th>\n",
       "      <td>0.0</td>\n",
       "      <td>0.0</td>\n",
       "      <td>29.0</td>\n",
       "      <td>21289.28</td>\n",
       "      <td>1</td>\n",
       "    </tr>\n",
       "    <tr>\n",
       "      <th>1094</th>\n",
       "      <td>0.0</td>\n",
       "      <td>0.0</td>\n",
       "      <td>35.0</td>\n",
       "      <td>17322.59</td>\n",
       "      <td>0</td>\n",
       "    </tr>\n",
       "    <tr>\n",
       "      <th>1103</th>\n",
       "      <td>0.0</td>\n",
       "      <td>0.0</td>\n",
       "      <td>201.0</td>\n",
       "      <td>27825.95</td>\n",
       "      <td>1</td>\n",
       "    </tr>\n",
       "    <tr>\n",
       "      <th>1238</th>\n",
       "      <td>0.0</td>\n",
       "      <td>0.0</td>\n",
       "      <td>30.0</td>\n",
       "      <td>20016.75</td>\n",
       "      <td>1</td>\n",
       "    </tr>\n",
       "    <tr>\n",
       "      <th>1248</th>\n",
       "      <td>0.0</td>\n",
       "      <td>0.0</td>\n",
       "      <td>20.0</td>\n",
       "      <td>18418.27</td>\n",
       "      <td>1</td>\n",
       "    </tr>\n",
       "    <tr>\n",
       "      <th>1351</th>\n",
       "      <td>0.0</td>\n",
       "      <td>0.0</td>\n",
       "      <td>9.0</td>\n",
       "      <td>2923.50</td>\n",
       "      <td>1</td>\n",
       "    </tr>\n",
       "    <tr>\n",
       "      <th>1448</th>\n",
       "      <td>0.0</td>\n",
       "      <td>0.0</td>\n",
       "      <td>7.0</td>\n",
       "      <td>39419.77</td>\n",
       "      <td>1</td>\n",
       "    </tr>\n",
       "    <tr>\n",
       "      <th>1533</th>\n",
       "      <td>0.0</td>\n",
       "      <td>0.0</td>\n",
       "      <td>188.0</td>\n",
       "      <td>33189.50</td>\n",
       "      <td>1</td>\n",
       "    </tr>\n",
       "    <tr>\n",
       "      <th>1598</th>\n",
       "      <td>0.0</td>\n",
       "      <td>0.0</td>\n",
       "      <td>28.0</td>\n",
       "      <td>16573.03</td>\n",
       "      <td>1</td>\n",
       "    </tr>\n",
       "    <tr>\n",
       "      <th>1649</th>\n",
       "      <td>0.0</td>\n",
       "      <td>0.0</td>\n",
       "      <td>211.0</td>\n",
       "      <td>27695.86</td>\n",
       "      <td>1</td>\n",
       "    </tr>\n",
       "    <tr>\n",
       "      <th>1669</th>\n",
       "      <td>0.0</td>\n",
       "      <td>0.0</td>\n",
       "      <td>19.0</td>\n",
       "      <td>17289.88</td>\n",
       "      <td>1</td>\n",
       "    </tr>\n",
       "    <tr>\n",
       "      <th>1743</th>\n",
       "      <td>0.0</td>\n",
       "      <td>0.0</td>\n",
       "      <td>20.0</td>\n",
       "      <td>13688.68</td>\n",
       "      <td>1</td>\n",
       "    </tr>\n",
       "    <tr>\n",
       "      <th>1755</th>\n",
       "      <td>0.0</td>\n",
       "      <td>0.0</td>\n",
       "      <td>48.0</td>\n",
       "      <td>12442.93</td>\n",
       "      <td>0</td>\n",
       "    </tr>\n",
       "    <tr>\n",
       "      <th>1841</th>\n",
       "      <td>0.0</td>\n",
       "      <td>0.0</td>\n",
       "      <td>30.0</td>\n",
       "      <td>10703.39</td>\n",
       "      <td>1</td>\n",
       "    </tr>\n",
       "    <tr>\n",
       "      <th>1876</th>\n",
       "      <td>0.0</td>\n",
       "      <td>0.0</td>\n",
       "      <td>173.0</td>\n",
       "      <td>27431.66</td>\n",
       "      <td>1</td>\n",
       "    </tr>\n",
       "    <tr>\n",
       "      <th>1880</th>\n",
       "      <td>0.0</td>\n",
       "      <td>0.0</td>\n",
       "      <td>44.0</td>\n",
       "      <td>15644.73</td>\n",
       "      <td>1</td>\n",
       "    </tr>\n",
       "    <tr>\n",
       "      <th>1921</th>\n",
       "      <td>0.0</td>\n",
       "      <td>0.0</td>\n",
       "      <td>14.0</td>\n",
       "      <td>21673.83</td>\n",
       "      <td>1</td>\n",
       "    </tr>\n",
       "    <tr>\n",
       "      <th>2155</th>\n",
       "      <td>0.0</td>\n",
       "      <td>0.0</td>\n",
       "      <td>24.0</td>\n",
       "      <td>21626.90</td>\n",
       "      <td>1</td>\n",
       "    </tr>\n",
       "    <tr>\n",
       "      <th>2207</th>\n",
       "      <td>0.0</td>\n",
       "      <td>0.0</td>\n",
       "      <td>32.0</td>\n",
       "      <td>16597.13</td>\n",
       "      <td>1</td>\n",
       "    </tr>\n",
       "    <tr>\n",
       "      <th>2256</th>\n",
       "      <td>0.0</td>\n",
       "      <td>0.0</td>\n",
       "      <td>42.0</td>\n",
       "      <td>13280.45</td>\n",
       "      <td>1</td>\n",
       "    </tr>\n",
       "    <tr>\n",
       "      <th>2291</th>\n",
       "      <td>0.0</td>\n",
       "      <td>0.0</td>\n",
       "      <td>28.0</td>\n",
       "      <td>11864.26</td>\n",
       "      <td>1</td>\n",
       "    </tr>\n",
       "    <tr>\n",
       "      <th>2682</th>\n",
       "      <td>0.0</td>\n",
       "      <td>0.0</td>\n",
       "      <td>23.0</td>\n",
       "      <td>21934.04</td>\n",
       "      <td>1</td>\n",
       "    </tr>\n",
       "    <tr>\n",
       "      <th>2879</th>\n",
       "      <td>0.0</td>\n",
       "      <td>0.0</td>\n",
       "      <td>6.0</td>\n",
       "      <td>22428.00</td>\n",
       "      <td>1</td>\n",
       "    </tr>\n",
       "    <tr>\n",
       "      <th>2943</th>\n",
       "      <td>0.0</td>\n",
       "      <td>0.0</td>\n",
       "      <td>17.0</td>\n",
       "      <td>12905.41</td>\n",
       "      <td>1</td>\n",
       "    </tr>\n",
       "    <tr>\n",
       "      <th>2958</th>\n",
       "      <td>0.0</td>\n",
       "      <td>0.0</td>\n",
       "      <td>20.0</td>\n",
       "      <td>17491.66</td>\n",
       "      <td>0</td>\n",
       "    </tr>\n",
       "    <tr>\n",
       "      <th>2962</th>\n",
       "      <td>0.0</td>\n",
       "      <td>0.0</td>\n",
       "      <td>17.0</td>\n",
       "      <td>11050.62</td>\n",
       "      <td>0</td>\n",
       "    </tr>\n",
       "    <tr>\n",
       "      <th>2973</th>\n",
       "      <td>0.0</td>\n",
       "      <td>0.0</td>\n",
       "      <td>31.0</td>\n",
       "      <td>12633.89</td>\n",
       "      <td>1</td>\n",
       "    </tr>\n",
       "    <tr>\n",
       "      <th>3107</th>\n",
       "      <td>0.0</td>\n",
       "      <td>0.0</td>\n",
       "      <td>0.0</td>\n",
       "      <td>530.78</td>\n",
       "      <td>1</td>\n",
       "    </tr>\n",
       "    <tr>\n",
       "      <th>3200</th>\n",
       "      <td>0.0</td>\n",
       "      <td>0.0</td>\n",
       "      <td>55.0</td>\n",
       "      <td>10858.90</td>\n",
       "      <td>1</td>\n",
       "    </tr>\n",
       "  </tbody>\n",
       "</table>\n",
       "</div>"
      ],
      "text/plain": [
       "      calls  minutes  messages   mb_used  is_ultra\n",
       "54      0.0      0.0      33.0  14010.33         1\n",
       "247     0.0      0.0      35.0  16444.99         1\n",
       "264     0.0      0.0      21.0  19559.55         0\n",
       "351     0.0      0.0       8.0  35525.61         1\n",
       "390     0.0      0.0      25.0  19088.67         1\n",
       "484     0.0      0.0     191.0  32448.02         1\n",
       "551     0.0      0.0      24.0  18701.54         1\n",
       "647     0.0      0.0      30.0  10236.20         1\n",
       "769     0.0      0.0      32.0  17206.44         0\n",
       "884     0.0      0.0     180.0  32045.73         1\n",
       "951     0.0      0.0     185.0  31032.94         1\n",
       "1040    0.0      0.0      29.0  21289.28         1\n",
       "1094    0.0      0.0      35.0  17322.59         0\n",
       "1103    0.0      0.0     201.0  27825.95         1\n",
       "1238    0.0      0.0      30.0  20016.75         1\n",
       "1248    0.0      0.0      20.0  18418.27         1\n",
       "1351    0.0      0.0       9.0   2923.50         1\n",
       "1448    0.0      0.0       7.0  39419.77         1\n",
       "1533    0.0      0.0     188.0  33189.50         1\n",
       "1598    0.0      0.0      28.0  16573.03         1\n",
       "1649    0.0      0.0     211.0  27695.86         1\n",
       "1669    0.0      0.0      19.0  17289.88         1\n",
       "1743    0.0      0.0      20.0  13688.68         1\n",
       "1755    0.0      0.0      48.0  12442.93         0\n",
       "1841    0.0      0.0      30.0  10703.39         1\n",
       "1876    0.0      0.0     173.0  27431.66         1\n",
       "1880    0.0      0.0      44.0  15644.73         1\n",
       "1921    0.0      0.0      14.0  21673.83         1\n",
       "2155    0.0      0.0      24.0  21626.90         1\n",
       "2207    0.0      0.0      32.0  16597.13         1\n",
       "2256    0.0      0.0      42.0  13280.45         1\n",
       "2291    0.0      0.0      28.0  11864.26         1\n",
       "2682    0.0      0.0      23.0  21934.04         1\n",
       "2879    0.0      0.0       6.0  22428.00         1\n",
       "2943    0.0      0.0      17.0  12905.41         1\n",
       "2958    0.0      0.0      20.0  17491.66         0\n",
       "2962    0.0      0.0      17.0  11050.62         0\n",
       "2973    0.0      0.0      31.0  12633.89         1\n",
       "3107    0.0      0.0       0.0    530.78         1\n",
       "3200    0.0      0.0      55.0  10858.90         1"
      ]
     },
     "execution_count": 6,
     "metadata": {},
     "output_type": "execute_result"
    }
   ],
   "source": [
    "#посмотрим на нулевые значение столюцов 'calls' и 'minute', тем более,\n",
    "#что вероятнее всего они будут совпадать\n",
    "df[df['minutes']==0]"
   ]
  },
  {
   "cell_type": "markdown",
   "metadata": {},
   "source": [
    "А вот данные о сообщениях и интернет трафике в строках с нулевыми значения 'calls' и 'minute' присутствуют, значит нулями заменили пропуски в 'calls' и 'minute'. Считаю, что такие данные могут негативно повлиять на результат обучения модели."
   ]
  },
  {
   "cell_type": "code",
   "execution_count": 7,
   "metadata": {},
   "outputs": [
    {
     "data": {
      "text/plain": [
       "0"
      ]
     },
     "execution_count": 7,
     "metadata": {},
     "output_type": "execute_result"
    }
   ],
   "source": [
    "#удалим строки значений 'minute' == 0\n",
    "df = df.query('minutes > 0')\n",
    "#проверим\n",
    "df[df['minutes']==0]['minutes'].count()"
   ]
  },
  {
   "cell_type": "markdown",
   "metadata": {},
   "source": [
    "Сейчас необходимо оценить взаимосвязи между признаками, исключая целевой\n"
   ]
  },
  {
   "cell_type": "code",
   "execution_count": 8,
   "metadata": {},
   "outputs": [
    {
     "data": {
      "text/html": [
       "<style  type=\"text/css\" >\n",
       "#T_d43a9_row0_col0,#T_d43a9_row1_col1,#T_d43a9_row2_col2,#T_d43a9_row3_col3{\n",
       "            background-color:  #b40426;\n",
       "            color:  #f1f1f1;\n",
       "        }#T_d43a9_row0_col1,#T_d43a9_row1_col0{\n",
       "            background-color:  #bd1f2d;\n",
       "            color:  #f1f1f1;\n",
       "        }#T_d43a9_row0_col2{\n",
       "            background-color:  #3e51c5;\n",
       "            color:  #f1f1f1;\n",
       "        }#T_d43a9_row0_col3,#T_d43a9_row1_col3,#T_d43a9_row3_col1{\n",
       "            background-color:  #6485ec;\n",
       "            color:  #000000;\n",
       "        }#T_d43a9_row1_col2,#T_d43a9_row2_col0,#T_d43a9_row2_col1,#T_d43a9_row2_col3,#T_d43a9_row3_col2{\n",
       "            background-color:  #3b4cc0;\n",
       "            color:  #f1f1f1;\n",
       "        }#T_d43a9_row3_col0{\n",
       "            background-color:  #6180e9;\n",
       "            color:  #000000;\n",
       "        }</style><table id=\"T_d43a9_\" ><thead>    <tr>        <th class=\"blank level0\" ></th>        <th class=\"col_heading level0 col0\" >calls</th>        <th class=\"col_heading level0 col1\" >minutes</th>        <th class=\"col_heading level0 col2\" >messages</th>        <th class=\"col_heading level0 col3\" >mb_used</th>    </tr></thead><tbody>\n",
       "                <tr>\n",
       "                        <th id=\"T_d43a9_level0_row0\" class=\"row_heading level0 row0\" >calls</th>\n",
       "                        <td id=\"T_d43a9_row0_col0\" class=\"data row0 col0\" >1.000000</td>\n",
       "                        <td id=\"T_d43a9_row0_col1\" class=\"data row0 col1\" >0.980000</td>\n",
       "                        <td id=\"T_d43a9_row0_col2\" class=\"data row0 col2\" >0.200000</td>\n",
       "                        <td id=\"T_d43a9_row0_col3\" class=\"data row0 col3\" >0.300000</td>\n",
       "            </tr>\n",
       "            <tr>\n",
       "                        <th id=\"T_d43a9_level0_row1\" class=\"row_heading level0 row1\" >minutes</th>\n",
       "                        <td id=\"T_d43a9_row1_col0\" class=\"data row1 col0\" >0.980000</td>\n",
       "                        <td id=\"T_d43a9_row1_col1\" class=\"data row1 col1\" >1.000000</td>\n",
       "                        <td id=\"T_d43a9_row1_col2\" class=\"data row1 col2\" >0.190000</td>\n",
       "                        <td id=\"T_d43a9_row1_col3\" class=\"data row1 col3\" >0.300000</td>\n",
       "            </tr>\n",
       "            <tr>\n",
       "                        <th id=\"T_d43a9_level0_row2\" class=\"row_heading level0 row2\" >messages</th>\n",
       "                        <td id=\"T_d43a9_row2_col0\" class=\"data row2 col0\" >0.200000</td>\n",
       "                        <td id=\"T_d43a9_row2_col1\" class=\"data row2 col1\" >0.190000</td>\n",
       "                        <td id=\"T_d43a9_row2_col2\" class=\"data row2 col2\" >1.000000</td>\n",
       "                        <td id=\"T_d43a9_row2_col3\" class=\"data row2 col3\" >0.190000</td>\n",
       "            </tr>\n",
       "            <tr>\n",
       "                        <th id=\"T_d43a9_level0_row3\" class=\"row_heading level0 row3\" >mb_used</th>\n",
       "                        <td id=\"T_d43a9_row3_col0\" class=\"data row3 col0\" >0.300000</td>\n",
       "                        <td id=\"T_d43a9_row3_col1\" class=\"data row3 col1\" >0.300000</td>\n",
       "                        <td id=\"T_d43a9_row3_col2\" class=\"data row3 col2\" >0.190000</td>\n",
       "                        <td id=\"T_d43a9_row3_col3\" class=\"data row3 col3\" >1.000000</td>\n",
       "            </tr>\n",
       "    </tbody></table>"
      ],
      "text/plain": [
       "<pandas.io.formats.style.Styler at 0x7f0182cedfd0>"
      ]
     },
     "execution_count": 8,
     "metadata": {},
     "output_type": "execute_result"
    }
   ],
   "source": [
    "#делаем копию датасета\n",
    "df_features = df.copy()\n",
    "\n",
    "#удаляем целевой признак\n",
    "del df_features['is_ultra']\n",
    "\n",
    "#сформируем матрицу корреляции признаков\n",
    "round(df_features.corr(), 2).style.background_gradient('coolwarm')"
   ]
  },
  {
   "cell_type": "markdown",
   "metadata": {},
   "source": [
    "Сильная корреляция между признаками  'calls' и 'minute' - это логично. Такие пары переменных избыточны, а явление носит название мультиколлинеарности. В этой ситуации оценки коэффициентов (параметров) модели могут случайно и значительно изменяться даже при небольших изменениях в исходных данных, т.е. решение становится неустойчивым.\n",
    "Учитывая это, колонку 'calls' необходимо удалить в исходном датасете, тем более, что количество звонков не является определяющим и информативным параметром тарифа, а остальные признаки являются."
   ]
  },
  {
   "cell_type": "code",
   "execution_count": 9,
   "metadata": {},
   "outputs": [
    {
     "name": "stdout",
     "output_type": "stream",
     "text": [
      "<class 'pandas.core.frame.DataFrame'>\n",
      "Int64Index: 3174 entries, 0 to 3213\n",
      "Data columns (total 4 columns):\n",
      " #   Column    Non-Null Count  Dtype  \n",
      "---  ------    --------------  -----  \n",
      " 0   minutes   3174 non-null   float64\n",
      " 1   messages  3174 non-null   float64\n",
      " 2   mb_used   3174 non-null   float64\n",
      " 3   is_ultra  3174 non-null   int64  \n",
      "dtypes: float64(3), int64(1)\n",
      "memory usage: 124.0 KB\n"
     ]
    }
   ],
   "source": [
    "#удаляем столбец\n",
    "del df['calls']\n",
    "df.info()"
   ]
  },
  {
   "cell_type": "markdown",
   "metadata": {},
   "source": [
    "Вывод. Мы изучили файл с данными. Определили целевой признак в построении модели - это столбец 'is_ultra'. Проверили признаки на наличие явных дубликатов. Удалили строки с нулевыми значениями количества минут, чтобы улучшить обучаемость модели. Исключили мультиколлинеарность признаков путем удаления колонки 'call'. \n",
    "Данные готовы."
   ]
  },
  {
   "cell_type": "markdown",
   "metadata": {},
   "source": [
    "## Разбейте данные на выборки"
   ]
  },
  {
   "cell_type": "markdown",
   "metadata": {},
   "source": [
    "Разделим исходные данные на обучающую, валидационную и тестовую выборки, потому что спрятанной тестовой выборки нет. Исходные данные разбивают в соотношении 3:1:1.\n",
    "\n",
    "Для этого предусмотрена функция train_test_split. Она разбивает любой датасет на обучающую и тестовую выборки.Нам нужно разделить датасет на три части и деление будет происходить в два этапа. Сначала разделим на обучающий набор и проверочный в соотношении 60% на 40%. Затем проверочный набор поделим пополам на валидационный набор и тестовый.\n",
    "\n",
    "Зададим параметр random_state чтобы можно было воспроизвести это псевдослучайно разбиение данных."
   ]
  },
  {
   "cell_type": "code",
   "execution_count": 10,
   "metadata": {},
   "outputs": [],
   "source": [
    "#делим датасет\n",
    "df_train, df_check = train_test_split(df, test_size=0.4, random_state=12345)\n",
    "df_valid, df_test = train_test_split(df_check, test_size=0.5, random_state=12345)"
   ]
  },
  {
   "cell_type": "code",
   "execution_count": 11,
   "metadata": {},
   "outputs": [
    {
     "name": "stdout",
     "output_type": "stream",
     "text": [
      "(1904, 4)\n",
      "(635, 4)\n",
      "(635, 4)\n"
     ]
    }
   ],
   "source": [
    "#проверим\n",
    "print(df_train.shape)\n",
    "print(df_valid.shape)\n",
    "print(df_test.shape)"
   ]
  },
  {
   "cell_type": "markdown",
   "metadata": {},
   "source": [
    "Вывод. Мы получили 3 (три) датасета.\n",
    "df_train  - для обучения модели\n",
    "df_valid - для поверки модели на переобучение\n",
    "df_test - для оценки качества модели"
   ]
  },
  {
   "cell_type": "markdown",
   "metadata": {},
   "source": [
    "## Исследуйте модели"
   ]
  },
  {
   "cell_type": "markdown",
   "metadata": {},
   "source": [
    "Как мы обозначили ранее целевым признаком является столбец 'is_ultra'. Этот признак является категориальным. Следовательно нам необходимо решить задачу классификации.\n",
    "\n",
    "В процессе моделирования будем использовать следующие модели машинного обучения - DecisionTreeClassifier,  RandomForestClassifier, LogisticRegression.\n",
    "\n",
    "Алгоритмы \"Решающего дерева\" и \"Случайного леса\" имеют гиперпараметры, меняя которые можно подобрать наилучшую модель. У \"Решающего дерева\" это максимальная глубина дерева max_depth. У \"Случайного леса\" к максимальной глубине добавляется еще один гиперпараметр количество деревьев n_estimators.\n",
    "\n",
    "Каждую модель обучим на обучающем наборе и проверим на валидационной выборке и определим победителя. "
   ]
  },
  {
   "cell_type": "code",
   "execution_count": 12,
   "metadata": {},
   "outputs": [],
   "source": [
    "# объявим переменные features и target (признаки и целевой признак)\n",
    "features_train = df_train.drop(['is_ultra'], axis=1)\n",
    "target_train = df_train['is_ultra']\n",
    "\n",
    "features_valid = df_valid.drop(['is_ultra'], axis=1)\n",
    "target_valid = df_valid['is_ultra']\n",
    "\n",
    "features_test = df_test.drop(['is_ultra'], axis=1)\n",
    "target_test = df_test['is_ultra']"
   ]
  },
  {
   "cell_type": "markdown",
   "metadata": {},
   "source": [
    "Модель \"Решающего дерева\". Гиперпараметр max_depth будем изменять в пределах от 1 до 10 в цикле."
   ]
  },
  {
   "cell_type": "code",
   "execution_count": 13,
   "metadata": {},
   "outputs": [
    {
     "name": "stdout",
     "output_type": "stream",
     "text": [
      "best max_depth = 4 ; best Accuracy =  0.7779527559055118"
     ]
    }
   ],
   "source": [
    "leader_model = 0\n",
    "best_depth = 0\n",
    "best_result = 0\n",
    "for depth in (range(1, 11)):\n",
    "    model = DecisionTreeClassifier(random_state=12345, \\\n",
    "                                       max_depth = depth).fit(features_train, target_train)\n",
    "    predictions_valid = model.predict(features_valid)\n",
    "    result = accuracy_score(predictions_valid, target_valid)\n",
    "    if best_result < result:\n",
    "        leader_model = model\n",
    "        best_depth = depth\n",
    "        best_result = result\n",
    "print('best max_depth =', best_depth, ';','best Accuracy = ', best_result, end ='') "
   ]
  },
  {
   "cell_type": "markdown",
   "metadata": {},
   "source": [
    "Accuracy лучшей модели из десяти равно 0.7779527559055118, с гиперпараметром max_depth равным- 4."
   ]
  },
  {
   "cell_type": "markdown",
   "metadata": {},
   "source": [
    "Модель \"Случайный лес\". Первый цикл будет перебирать глубину дерева max_depth, а второй для каждой глубины дерева будет перебирать количества деревьев n_estimators. Гиперпараметры будем менять от 1 до 10."
   ]
  },
  {
   "cell_type": "code",
   "execution_count": 14,
   "metadata": {},
   "outputs": [
    {
     "name": "stdout",
     "output_type": "stream",
     "text": [
      "best n_estimators = 8 ; best max_depth = 6 ; best Accuracy =  0.7921259842519685"
     ]
    }
   ],
   "source": [
    "leader_model = 0\n",
    "best_est = 0\n",
    "best_depth = 0\n",
    "best_result = 0\n",
    "for est in (range(1, 11)):\n",
    "    for depth in range(1, 11):\n",
    "        model = RandomForestClassifier(random_state=12345, n_estimators=est, max_depth = depth)\\\n",
    "        .fit(features_train, target_train)\n",
    "        predictions_valid = model.predict(features_valid)\n",
    "        result = accuracy_score(predictions_valid, target_valid)\n",
    "        if best_result < result:\n",
    "            leader_model = model\n",
    "            best_est = est\n",
    "            best_depth = depth\n",
    "            best_result = result\n",
    "\n",
    "print('best n_estimators =', best_est, ';', \\\n",
    "      'best max_depth =', best_depth,';',\n",
    "      'best Accuracy = ', best_result, end ='') "
   ]
  },
  {
   "cell_type": "markdown",
   "metadata": {},
   "source": [
    "Accuracy лучшей модели из десяти равно 0.7921259842519685, с гиперпараметром max_depth равным-  6 и гиперпараметром n_estimators равным- 8."
   ]
  },
  {
   "cell_type": "markdown",
   "metadata": {},
   "source": [
    "Модель \"Логистическая регрессия\"."
   ]
  },
  {
   "cell_type": "code",
   "execution_count": 15,
   "metadata": {},
   "outputs": [
    {
     "name": "stdout",
     "output_type": "stream",
     "text": [
      "Accuracy: 0.7401574803149606"
     ]
    }
   ],
   "source": [
    "model_lr = LogisticRegression(random_state=12345).fit(features_train, target_train)\n",
    "predictions_valid_lr = model_lr.predict(features_valid)\n",
    "accuracy_lr = accuracy_score(predictions_valid_lr, target_valid)\n",
    "print('Accuracy:', accuracy_lr, end ='')"
   ]
  },
  {
   "cell_type": "markdown",
   "metadata": {},
   "source": [
    "Accuracy модели LogisticRegression равно 0.7401574803149606."
   ]
  },
  {
   "cell_type": "markdown",
   "metadata": {},
   "source": [
    "Вывод.\n",
    "Лучший результат Accuracy у модели решающего дерева равен 0.7779527559055118 (второе место).\n",
    "Лучший результат Accuracy у модели случайного леса равен 0.7921259842519685 (первое место).\n",
    "Accuracy у модели логистической регрессии равен 0.7401574803149606 (худший результат)."
   ]
  },
  {
   "cell_type": "markdown",
   "metadata": {},
   "source": [
    "## Проверьте модель на тестовой выборке"
   ]
  },
  {
   "cell_type": "markdown",
   "metadata": {},
   "source": [
    "Победитель модель RandomForestClassifier с результатом 0.7921259842519685% правильных ответов, проверим ее на тестовой выборке."
   ]
  },
  {
   "cell_type": "code",
   "execution_count": 16,
   "metadata": {},
   "outputs": [
    {
     "name": "stdout",
     "output_type": "stream",
     "text": [
      "Accuracy: 0.8031496062992126\n"
     ]
    }
   ],
   "source": [
    "model_rfc = RandomForestClassifier(random_state=12345, n_estimators = 8, max_depth = 6)\\\n",
    ".fit(features_train, target_train)\n",
    "predictions_test = model.predict(features_test)\n",
    "result_test = accuracy_score(predictions_test, target_test)\n",
    "print('Accuracy:', result_test)"
   ]
  },
  {
   "cell_type": "markdown",
   "metadata": {},
   "source": [
    "Вывод. Accuracy у модели RandomForestClassifier на тестовой выборке равна 0.8078740157480315 (немногим больше чем на обучающем датасете). Это значит, что у тестовой выборки репрезентативность выше чем у обучающей. Оценку качества, сделанную по тестовой выборке можно применить для выбора лучшей модели."
   ]
  },
  {
   "cell_type": "markdown",
   "metadata": {},
   "source": [
    "## (бонус) Проверьте модели на адекватность"
   ]
  },
  {
   "cell_type": "code",
   "execution_count": 17,
   "metadata": {},
   "outputs": [
    {
     "data": {
      "text/plain": [
       "0    2223\n",
       "1     951\n",
       "Name: is_ultra, dtype: int64"
      ]
     },
     "execution_count": 17,
     "metadata": {},
     "output_type": "execute_result"
    }
   ],
   "source": [
    "# для выбора модели посмотрим на категории в признаке'is ultra'\n",
    "df['is_ultra'].value_counts()"
   ]
  },
  {
   "cell_type": "markdown",
   "metadata": {},
   "source": [
    "Видим, что клиентов на тарифе \"Смарт\" более чем в 2 (два) раза больше, чем на \"Ультра\". Поэтому ниже."
   ]
  },
  {
   "cell_type": "markdown",
   "metadata": {},
   "source": [
    "Ввиду дисбаланса данных для проверки попробуем использовать модель DummyClassifier. DummyClassifier - это классификатор в библиотеке sklearn, который делает прогнозы с использованием простых правил и не генерирует никаких ценных сведений о данных. Такие классификаторы используются в качестве базовой линии и могут быть сравнены с реальными классификаторами. Другими словами если Accuracy DummyClassifier ниже Accuracy нашей модели RandomForestClassifie, то наша модель адекватна (вменяема)."
   ]
  },
  {
   "cell_type": "code",
   "execution_count": 18,
   "metadata": {},
   "outputs": [
    {
     "name": "stdout",
     "output_type": "stream",
     "text": [
      "Accuracy DummyClassifier: 0.7039370078740157\n"
     ]
    }
   ],
   "source": [
    "model_dc = DummyClassifier(strategy='most_frequent', random_state=12345)\n",
    "model_dc.fit(features_train, target_train)\n",
    "result_dc = model_dc.score(features_valid, target_valid)\n",
    "print('Accuracy DummyClassifier:', result_dc)"
   ]
  },
  {
   "cell_type": "markdown",
   "metadata": {},
   "source": [
    "Accuracy DummyClassifier < Accuracy RandomForestClassifier. Наша модель адекватна. "
   ]
  },
  {
   "cell_type": "markdown",
   "metadata": {},
   "source": [
    "**Общий вывод**. \n",
    "В проекте мы дополнительно обработали данные. Выявили избыточные признаки. Несомненно это позволило модели надежнее выявлять закономерности в признаках и увеличило ее качество, не отвлекаясь на шумы.\n",
    "Было проверено три модели: \"Решающее дерево\", \"Случайный лес\" и \"Логистическая регрессия\". В каждой модели, изменяя ее гиперпараметры, мы нашли нашли лучший вариант с наибольшим количеством правильных ответов. Сравнив лучшие модели по доле правильных ответов мы определили, что для нашей задачи подходит модель RandomForestClassifier, n_estimators = 8 , max_depth = 6, Accuracy =  0.7921259842519685.\n",
    "Мы оценили качество лучшей модели RandomForestClassifier на тестовом наборе данных (результат составил 0.8031496062992126% правильных ответов) и сравнили его с результатом модели DummyClassifier (0.7039370078740157% правильных ответов), убедившись, что наша модель адекватна.\n",
    "Использовать данную модель для рекомендации тарифов \"Смарт\" или \"Ультра\" разрешаю))."
   ]
  }
 ],
 "metadata": {
  "ExecuteTimeLog": [
   {
    "duration": 51,
    "start_time": "2023-02-15T12:45:18.996Z"
   },
   {
    "duration": 405,
    "start_time": "2023-02-15T12:45:29.525Z"
   },
   {
    "duration": 366,
    "start_time": "2023-02-15T12:45:29.932Z"
   },
   {
    "duration": 13,
    "start_time": "2023-02-15T12:45:30.299Z"
   },
   {
    "duration": 27,
    "start_time": "2023-02-15T12:50:08.739Z"
   },
   {
    "duration": 66,
    "start_time": "2023-02-15T13:28:54.234Z"
   },
   {
    "duration": 7,
    "start_time": "2023-02-15T13:29:29.710Z"
   },
   {
    "duration": 24,
    "start_time": "2023-02-15T13:35:22.615Z"
   },
   {
    "duration": 21,
    "start_time": "2023-02-15T13:48:19.186Z"
   },
   {
    "duration": 13,
    "start_time": "2023-02-15T13:48:39.129Z"
   },
   {
    "duration": 21,
    "start_time": "2023-02-15T13:49:11.938Z"
   },
   {
    "duration": 13,
    "start_time": "2023-02-15T14:01:17.273Z"
   },
   {
    "duration": 3,
    "start_time": "2023-02-15T14:10:08.651Z"
   },
   {
    "duration": 457,
    "start_time": "2023-02-15T14:11:13.880Z"
   },
   {
    "duration": 14,
    "start_time": "2023-02-15T14:24:08.129Z"
   },
   {
    "duration": 4,
    "start_time": "2023-02-15T14:57:34.102Z"
   },
   {
    "duration": 19,
    "start_time": "2023-02-15T15:02:47.891Z"
   },
   {
    "duration": 1137,
    "start_time": "2023-02-15T15:03:32.262Z"
   },
   {
    "duration": 56,
    "start_time": "2023-02-15T15:03:33.401Z"
   },
   {
    "duration": 27,
    "start_time": "2023-02-15T15:03:33.459Z"
   },
   {
    "duration": 11,
    "start_time": "2023-02-15T15:03:33.489Z"
   },
   {
    "duration": 42,
    "start_time": "2023-02-15T15:03:33.501Z"
   },
   {
    "duration": 25,
    "start_time": "2023-02-15T15:03:33.545Z"
   },
   {
    "duration": 26,
    "start_time": "2023-02-15T15:03:33.572Z"
   },
   {
    "duration": 350,
    "start_time": "2023-02-15T15:03:33.600Z"
   },
   {
    "duration": 13,
    "start_time": "2023-02-15T15:03:33.952Z"
   },
   {
    "duration": 19,
    "start_time": "2023-02-15T15:03:33.968Z"
   },
   {
    "duration": 4,
    "start_time": "2023-02-15T15:04:22.819Z"
   },
   {
    "duration": 5,
    "start_time": "2023-02-15T15:04:34.823Z"
   },
   {
    "duration": 7,
    "start_time": "2023-02-15T15:19:10.808Z"
   },
   {
    "duration": 6,
    "start_time": "2023-02-15T15:24:34.933Z"
   },
   {
    "duration": 107,
    "start_time": "2023-02-15T15:24:36.864Z"
   },
   {
    "duration": 109,
    "start_time": "2023-02-15T15:25:24.811Z"
   },
   {
    "duration": 65,
    "start_time": "2023-02-15T15:27:45.682Z"
   },
   {
    "duration": 67,
    "start_time": "2023-02-15T15:29:11.272Z"
   },
   {
    "duration": 83,
    "start_time": "2023-02-15T15:34:04.230Z"
   },
   {
    "duration": 113,
    "start_time": "2023-02-15T15:34:35.408Z"
   },
   {
    "duration": 13,
    "start_time": "2023-02-15T15:35:21.521Z"
   },
   {
    "duration": 1508,
    "start_time": "2023-02-15T15:35:39.642Z"
   },
   {
    "duration": 1548,
    "start_time": "2023-02-15T15:37:30.270Z"
   },
   {
    "duration": 34,
    "start_time": "2023-02-15T15:42:11.526Z"
   },
   {
    "duration": 28,
    "start_time": "2023-02-15T15:42:46.697Z"
   },
   {
    "duration": 1466,
    "start_time": "2023-02-15T15:46:23.629Z"
   },
   {
    "duration": 1038,
    "start_time": "2023-02-15T15:54:06.828Z"
   },
   {
    "duration": 79,
    "start_time": "2023-02-15T15:54:07.868Z"
   },
   {
    "duration": 26,
    "start_time": "2023-02-15T15:54:07.949Z"
   },
   {
    "duration": 7,
    "start_time": "2023-02-15T15:54:07.977Z"
   },
   {
    "duration": 28,
    "start_time": "2023-02-15T15:54:07.985Z"
   },
   {
    "duration": 21,
    "start_time": "2023-02-15T15:54:08.014Z"
   },
   {
    "duration": 7,
    "start_time": "2023-02-15T15:54:08.036Z"
   },
   {
    "duration": 326,
    "start_time": "2023-02-15T15:54:08.045Z"
   },
   {
    "duration": 17,
    "start_time": "2023-02-15T15:54:08.372Z"
   },
   {
    "duration": 19,
    "start_time": "2023-02-15T15:54:08.392Z"
   },
   {
    "duration": 10,
    "start_time": "2023-02-15T15:54:08.413Z"
   },
   {
    "duration": 27,
    "start_time": "2023-02-15T15:54:08.425Z"
   },
   {
    "duration": 72,
    "start_time": "2023-02-15T15:54:08.454Z"
   },
   {
    "duration": 1507,
    "start_time": "2023-02-15T15:54:08.528Z"
   },
   {
    "duration": 30,
    "start_time": "2023-02-15T15:54:10.037Z"
   },
   {
    "duration": 1547,
    "start_time": "2023-02-15T15:59:45.802Z"
   },
   {
    "duration": 1525,
    "start_time": "2023-02-15T15:59:50.109Z"
   },
   {
    "duration": 65,
    "start_time": "2023-02-15T16:00:10.189Z"
   },
   {
    "duration": 26,
    "start_time": "2023-02-15T16:04:01.628Z"
   },
   {
    "duration": 27,
    "start_time": "2023-02-15T16:04:17.708Z"
   },
   {
    "duration": 5,
    "start_time": "2023-02-15T16:18:09.211Z"
   },
   {
    "duration": 1165,
    "start_time": "2023-02-15T16:35:19.489Z"
   },
   {
    "duration": 55,
    "start_time": "2023-02-15T16:35:20.657Z"
   },
   {
    "duration": 32,
    "start_time": "2023-02-15T16:35:20.714Z"
   },
   {
    "duration": 7,
    "start_time": "2023-02-15T16:35:20.748Z"
   },
   {
    "duration": 36,
    "start_time": "2023-02-15T16:35:20.757Z"
   },
   {
    "duration": 21,
    "start_time": "2023-02-15T16:35:20.795Z"
   },
   {
    "duration": 9,
    "start_time": "2023-02-15T16:35:20.818Z"
   },
   {
    "duration": 356,
    "start_time": "2023-02-15T16:35:20.829Z"
   },
   {
    "duration": 14,
    "start_time": "2023-02-15T16:35:21.187Z"
   },
   {
    "duration": 20,
    "start_time": "2023-02-15T16:35:21.204Z"
   },
   {
    "duration": 11,
    "start_time": "2023-02-15T16:35:21.225Z"
   },
   {
    "duration": 7,
    "start_time": "2023-02-15T16:35:21.238Z"
   },
   {
    "duration": 71,
    "start_time": "2023-02-15T16:35:21.247Z"
   },
   {
    "duration": 1552,
    "start_time": "2023-02-15T16:35:21.320Z"
   },
   {
    "duration": 32,
    "start_time": "2023-02-15T16:35:22.874Z"
   },
   {
    "duration": 30,
    "start_time": "2023-02-15T16:35:22.908Z"
   },
   {
    "duration": 6,
    "start_time": "2023-02-15T16:35:22.940Z"
   },
   {
    "duration": 108,
    "start_time": "2023-02-15T18:58:57.956Z"
   },
   {
    "duration": 61,
    "start_time": "2023-02-15T18:59:18.837Z"
   },
   {
    "duration": 1062,
    "start_time": "2023-02-15T18:59:43.596Z"
   },
   {
    "duration": 58,
    "start_time": "2023-02-15T18:59:44.660Z"
   },
   {
    "duration": 26,
    "start_time": "2023-02-15T18:59:44.720Z"
   },
   {
    "duration": 5,
    "start_time": "2023-02-15T18:59:44.748Z"
   },
   {
    "duration": 33,
    "start_time": "2023-02-15T18:59:44.754Z"
   },
   {
    "duration": 19,
    "start_time": "2023-02-15T18:59:44.789Z"
   },
   {
    "duration": 7,
    "start_time": "2023-02-15T18:59:44.810Z"
   },
   {
    "duration": 316,
    "start_time": "2023-02-15T18:59:44.818Z"
   },
   {
    "duration": 11,
    "start_time": "2023-02-15T18:59:45.135Z"
   },
   {
    "duration": 12,
    "start_time": "2023-02-15T18:59:45.148Z"
   },
   {
    "duration": 7,
    "start_time": "2023-02-15T18:59:45.161Z"
   },
   {
    "duration": 6,
    "start_time": "2023-02-15T18:59:45.181Z"
   },
   {
    "duration": 119,
    "start_time": "2023-02-15T18:59:45.189Z"
   },
   {
    "duration": 0,
    "start_time": "2023-02-15T18:59:45.310Z"
   },
   {
    "duration": 0,
    "start_time": "2023-02-15T18:59:45.312Z"
   },
   {
    "duration": 0,
    "start_time": "2023-02-15T18:59:45.313Z"
   },
   {
    "duration": 0,
    "start_time": "2023-02-15T18:59:45.314Z"
   },
   {
    "duration": 65,
    "start_time": "2023-02-15T19:00:05.493Z"
   },
   {
    "duration": 18,
    "start_time": "2023-02-15T19:02:40.007Z"
   },
   {
    "duration": 1434,
    "start_time": "2023-02-15T19:02:48.064Z"
   },
   {
    "duration": 27,
    "start_time": "2023-02-15T19:03:54.650Z"
   },
   {
    "duration": 25,
    "start_time": "2023-02-15T19:05:03.351Z"
   },
   {
    "duration": 26,
    "start_time": "2023-02-15T19:05:54.646Z"
   },
   {
    "duration": 1048,
    "start_time": "2023-02-15T19:06:03.197Z"
   },
   {
    "duration": 51,
    "start_time": "2023-02-15T19:06:04.246Z"
   },
   {
    "duration": 25,
    "start_time": "2023-02-15T19:06:04.299Z"
   },
   {
    "duration": 6,
    "start_time": "2023-02-15T19:06:04.326Z"
   },
   {
    "duration": 25,
    "start_time": "2023-02-15T19:06:04.333Z"
   },
   {
    "duration": 27,
    "start_time": "2023-02-15T19:06:04.359Z"
   },
   {
    "duration": 7,
    "start_time": "2023-02-15T19:06:04.388Z"
   },
   {
    "duration": 298,
    "start_time": "2023-02-15T19:06:04.396Z"
   },
   {
    "duration": 10,
    "start_time": "2023-02-15T19:06:04.695Z"
   },
   {
    "duration": 8,
    "start_time": "2023-02-15T19:06:04.708Z"
   },
   {
    "duration": 8,
    "start_time": "2023-02-15T19:06:04.718Z"
   },
   {
    "duration": 7,
    "start_time": "2023-02-15T19:06:04.728Z"
   },
   {
    "duration": 75,
    "start_time": "2023-02-15T19:06:04.737Z"
   },
   {
    "duration": 1406,
    "start_time": "2023-02-15T19:06:04.814Z"
   },
   {
    "duration": 32,
    "start_time": "2023-02-15T19:06:06.222Z"
   },
   {
    "duration": 45,
    "start_time": "2023-02-15T19:06:06.256Z"
   },
   {
    "duration": 5,
    "start_time": "2023-02-15T19:06:06.303Z"
   },
   {
    "duration": 1027,
    "start_time": "2023-02-15T19:07:52.223Z"
   },
   {
    "duration": 56,
    "start_time": "2023-02-15T19:07:53.252Z"
   },
   {
    "duration": 25,
    "start_time": "2023-02-15T19:07:53.310Z"
   },
   {
    "duration": 6,
    "start_time": "2023-02-15T19:07:53.337Z"
   },
   {
    "duration": 22,
    "start_time": "2023-02-15T19:07:53.344Z"
   },
   {
    "duration": 20,
    "start_time": "2023-02-15T19:07:53.368Z"
   },
   {
    "duration": 8,
    "start_time": "2023-02-15T19:07:53.389Z"
   },
   {
    "duration": 309,
    "start_time": "2023-02-15T19:07:53.398Z"
   },
   {
    "duration": 10,
    "start_time": "2023-02-15T19:07:53.709Z"
   },
   {
    "duration": 6,
    "start_time": "2023-02-15T19:07:53.722Z"
   },
   {
    "duration": 9,
    "start_time": "2023-02-15T19:07:53.729Z"
   },
   {
    "duration": 10,
    "start_time": "2023-02-15T19:07:53.739Z"
   },
   {
    "duration": 75,
    "start_time": "2023-02-15T19:07:53.750Z"
   },
   {
    "duration": 1418,
    "start_time": "2023-02-15T19:07:53.827Z"
   },
   {
    "duration": 25,
    "start_time": "2023-02-15T19:07:55.246Z"
   },
   {
    "duration": 31,
    "start_time": "2023-02-15T19:07:55.272Z"
   },
   {
    "duration": 5,
    "start_time": "2023-02-15T19:07:55.304Z"
   },
   {
    "duration": 847,
    "start_time": "2023-02-15T19:30:06.791Z"
   },
   {
    "duration": 723,
    "start_time": "2023-02-15T19:30:32.771Z"
   },
   {
    "duration": 5,
    "start_time": "2023-02-15T19:31:44.317Z"
   },
   {
    "duration": 5,
    "start_time": "2023-02-15T19:32:23.835Z"
   },
   {
    "duration": 6,
    "start_time": "2023-02-15T19:36:06.838Z"
   },
   {
    "duration": 1065,
    "start_time": "2023-02-15T19:39:33.710Z"
   },
   {
    "duration": 53,
    "start_time": "2023-02-15T19:39:34.777Z"
   },
   {
    "duration": 25,
    "start_time": "2023-02-15T19:39:34.831Z"
   },
   {
    "duration": 6,
    "start_time": "2023-02-15T19:39:34.858Z"
   },
   {
    "duration": 26,
    "start_time": "2023-02-15T19:39:34.865Z"
   },
   {
    "duration": 18,
    "start_time": "2023-02-15T19:39:34.893Z"
   },
   {
    "duration": 7,
    "start_time": "2023-02-15T19:39:34.913Z"
   },
   {
    "duration": 303,
    "start_time": "2023-02-15T19:39:34.921Z"
   },
   {
    "duration": 9,
    "start_time": "2023-02-15T19:39:35.226Z"
   },
   {
    "duration": 7,
    "start_time": "2023-02-15T19:39:35.238Z"
   },
   {
    "duration": 4,
    "start_time": "2023-02-15T19:39:35.247Z"
   },
   {
    "duration": 8,
    "start_time": "2023-02-15T19:39:35.252Z"
   },
   {
    "duration": 74,
    "start_time": "2023-02-15T19:39:35.261Z"
   },
   {
    "duration": 1419,
    "start_time": "2023-02-15T19:39:35.337Z"
   },
   {
    "duration": 31,
    "start_time": "2023-02-15T19:39:36.757Z"
   },
   {
    "duration": 23,
    "start_time": "2023-02-15T19:39:36.789Z"
   },
   {
    "duration": 5,
    "start_time": "2023-02-15T19:39:36.814Z"
   },
   {
    "duration": 6,
    "start_time": "2023-02-15T19:39:36.821Z"
   },
   {
    "duration": 25,
    "start_time": "2023-02-15T19:49:19.886Z"
   },
   {
    "duration": 6,
    "start_time": "2023-02-15T19:49:23.803Z"
   },
   {
    "duration": 1016,
    "start_time": "2023-02-15T19:50:37.042Z"
   },
   {
    "duration": 52,
    "start_time": "2023-02-15T19:50:38.060Z"
   },
   {
    "duration": 26,
    "start_time": "2023-02-15T19:50:38.113Z"
   },
   {
    "duration": 6,
    "start_time": "2023-02-15T19:50:38.141Z"
   },
   {
    "duration": 39,
    "start_time": "2023-02-15T19:50:38.148Z"
   },
   {
    "duration": 20,
    "start_time": "2023-02-15T19:50:38.188Z"
   },
   {
    "duration": 9,
    "start_time": "2023-02-15T19:50:38.209Z"
   },
   {
    "duration": 284,
    "start_time": "2023-02-15T19:50:38.219Z"
   },
   {
    "duration": 11,
    "start_time": "2023-02-15T19:50:38.504Z"
   },
   {
    "duration": 7,
    "start_time": "2023-02-15T19:50:38.517Z"
   },
   {
    "duration": 6,
    "start_time": "2023-02-15T19:50:38.525Z"
   },
   {
    "duration": 9,
    "start_time": "2023-02-15T19:50:38.532Z"
   },
   {
    "duration": 71,
    "start_time": "2023-02-15T19:50:38.542Z"
   },
   {
    "duration": 1429,
    "start_time": "2023-02-15T19:50:38.614Z"
   },
   {
    "duration": 37,
    "start_time": "2023-02-15T19:50:40.044Z"
   },
   {
    "duration": 28,
    "start_time": "2023-02-15T19:50:40.083Z"
   },
   {
    "duration": 6,
    "start_time": "2023-02-15T19:50:40.112Z"
   },
   {
    "duration": 7,
    "start_time": "2023-02-15T19:50:40.119Z"
   },
   {
    "duration": 42,
    "start_time": "2023-02-15T19:50:40.128Z"
   },
   {
    "duration": 1151,
    "start_time": "2023-08-03T18:33:15.470Z"
   },
   {
    "duration": 189,
    "start_time": "2023-08-03T18:33:16.623Z"
   },
   {
    "duration": 30,
    "start_time": "2023-08-03T18:33:16.813Z"
   },
   {
    "duration": 7,
    "start_time": "2023-08-03T18:33:16.846Z"
   },
   {
    "duration": 24,
    "start_time": "2023-08-03T18:33:16.855Z"
   },
   {
    "duration": 16,
    "start_time": "2023-08-03T18:33:16.880Z"
   },
   {
    "duration": 28,
    "start_time": "2023-08-03T18:33:16.897Z"
   },
   {
    "duration": 475,
    "start_time": "2023-08-03T18:33:16.927Z"
   },
   {
    "duration": 16,
    "start_time": "2023-08-03T18:33:17.404Z"
   },
   {
    "duration": 10,
    "start_time": "2023-08-03T18:33:17.423Z"
   },
   {
    "duration": 7,
    "start_time": "2023-08-03T18:33:17.434Z"
   },
   {
    "duration": 18,
    "start_time": "2023-08-03T18:33:17.442Z"
   },
   {
    "duration": 65,
    "start_time": "2023-08-03T18:33:17.462Z"
   },
   {
    "duration": 1450,
    "start_time": "2023-08-03T18:33:17.529Z"
   },
   {
    "duration": 20,
    "start_time": "2023-08-03T18:33:18.981Z"
   },
   {
    "duration": 77,
    "start_time": "2023-08-03T18:33:19.003Z"
   },
   {
    "duration": 65,
    "start_time": "2023-08-03T18:33:19.082Z"
   },
   {
    "duration": 67,
    "start_time": "2023-08-03T18:33:19.149Z"
   }
  ],
  "kernelspec": {
   "display_name": "Python 3 (ipykernel)",
   "language": "python",
   "name": "python3"
  },
  "language_info": {
   "codemirror_mode": {
    "name": "ipython",
    "version": 3
   },
   "file_extension": ".py",
   "mimetype": "text/x-python",
   "name": "python",
   "nbconvert_exporter": "python",
   "pygments_lexer": "ipython3",
   "version": "3.9.5"
  },
  "toc": {
   "base_numbering": 1,
   "nav_menu": {},
   "number_sections": true,
   "sideBar": true,
   "skip_h1_title": true,
   "title_cell": "Table of Contents",
   "title_sidebar": "Contents",
   "toc_cell": false,
   "toc_position": {},
   "toc_section_display": true,
   "toc_window_display": false
  }
 },
 "nbformat": 4,
 "nbformat_minor": 2
}
