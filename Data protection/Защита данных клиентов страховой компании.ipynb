{
 "cells": [
  {
   "cell_type": "markdown",
   "metadata": {
    "toc": true
   },
   "source": [
    "<h1>Содержание<span class=\"tocSkip\"></span></h1>\n",
    "<div class=\"toc\"><ul class=\"toc-item\"><li><span><a href=\"#Загрузка-данных\" data-toc-modified-id=\"Загрузка-данных-1\"><span class=\"toc-item-num\">1&nbsp;&nbsp;</span>Загрузка данных</a></span></li><li><span><a href=\"#Умножение-матриц\" data-toc-modified-id=\"Умножение-матриц-2\"><span class=\"toc-item-num\">2&nbsp;&nbsp;</span>Умножение матриц</a></span></li><li><span><a href=\"#Алгоритм-преобразования\" data-toc-modified-id=\"Алгоритм-преобразования-3\"><span class=\"toc-item-num\">3&nbsp;&nbsp;</span>Алгоритм преобразования</a></span></li><li><span><a href=\"#Проверка-алгоритма\" data-toc-modified-id=\"Проверка-алгоритма-4\"><span class=\"toc-item-num\">4&nbsp;&nbsp;</span>Проверка алгоритма</a></span></li></ul></div>"
   ]
  },
  {
   "cell_type": "markdown",
   "metadata": {},
   "source": [
    "# Защита персональных данных клиентов"
   ]
  },
  {
   "cell_type": "markdown",
   "metadata": {},
   "source": [
    "Вам нужно защитить данные клиентов страховой компании «Хоть потоп». Разработайте такой метод преобразования данных, чтобы по ним было сложно восстановить персональную информацию. Обоснуйте корректность его работы.\n",
    "\n",
    "Нужно защитить данные, чтобы при преобразовании качество моделей машинного обучения не ухудшилось. Подбирать наилучшую модель не требуется."
   ]
  },
  {
   "cell_type": "markdown",
   "metadata": {},
   "source": [
    "## Загрузка данных"
   ]
  },
  {
   "cell_type": "code",
   "execution_count": 1,
   "metadata": {},
   "outputs": [],
   "source": [
    "import pandas as pd\n",
    "import numpy as np\n",
    "\n",
    "from sklearn.metrics import r2_score\n",
    "from sklearn.linear_model import LinearRegression\n",
    "\n",
    "import warnings\n",
    "warnings.filterwarnings(\"ignore\")"
   ]
  },
  {
   "cell_type": "code",
   "execution_count": 2,
   "metadata": {},
   "outputs": [],
   "source": [
    "#загрузим данные\n",
    "df = pd.read_csv('/datasets/insurance.csv')"
   ]
  },
  {
   "cell_type": "code",
   "execution_count": 3,
   "metadata": {
    "scrolled": false
   },
   "outputs": [
    {
     "data": {
      "text/html": [
       "<div>\n",
       "<style scoped>\n",
       "    .dataframe tbody tr th:only-of-type {\n",
       "        vertical-align: middle;\n",
       "    }\n",
       "\n",
       "    .dataframe tbody tr th {\n",
       "        vertical-align: top;\n",
       "    }\n",
       "\n",
       "    .dataframe thead th {\n",
       "        text-align: right;\n",
       "    }\n",
       "</style>\n",
       "<table border=\"1\" class=\"dataframe\">\n",
       "  <thead>\n",
       "    <tr style=\"text-align: right;\">\n",
       "      <th></th>\n",
       "      <th>Пол</th>\n",
       "      <th>Возраст</th>\n",
       "      <th>Зарплата</th>\n",
       "      <th>Члены семьи</th>\n",
       "      <th>Страховые выплаты</th>\n",
       "    </tr>\n",
       "  </thead>\n",
       "  <tbody>\n",
       "    <tr>\n",
       "      <th>0</th>\n",
       "      <td>1</td>\n",
       "      <td>41.0</td>\n",
       "      <td>49600.0</td>\n",
       "      <td>1</td>\n",
       "      <td>0</td>\n",
       "    </tr>\n",
       "    <tr>\n",
       "      <th>1</th>\n",
       "      <td>0</td>\n",
       "      <td>46.0</td>\n",
       "      <td>38000.0</td>\n",
       "      <td>1</td>\n",
       "      <td>1</td>\n",
       "    </tr>\n",
       "    <tr>\n",
       "      <th>2</th>\n",
       "      <td>0</td>\n",
       "      <td>29.0</td>\n",
       "      <td>21000.0</td>\n",
       "      <td>0</td>\n",
       "      <td>0</td>\n",
       "    </tr>\n",
       "    <tr>\n",
       "      <th>3</th>\n",
       "      <td>0</td>\n",
       "      <td>21.0</td>\n",
       "      <td>41700.0</td>\n",
       "      <td>2</td>\n",
       "      <td>0</td>\n",
       "    </tr>\n",
       "    <tr>\n",
       "      <th>4</th>\n",
       "      <td>1</td>\n",
       "      <td>28.0</td>\n",
       "      <td>26100.0</td>\n",
       "      <td>0</td>\n",
       "      <td>0</td>\n",
       "    </tr>\n",
       "  </tbody>\n",
       "</table>\n",
       "</div>"
      ],
      "text/plain": [
       "   Пол  Возраст  Зарплата  Члены семьи  Страховые выплаты\n",
       "0    1     41.0   49600.0            1                  0\n",
       "1    0     46.0   38000.0            1                  1\n",
       "2    0     29.0   21000.0            0                  0\n",
       "3    0     21.0   41700.0            2                  0\n",
       "4    1     28.0   26100.0            0                  0"
      ]
     },
     "metadata": {},
     "output_type": "display_data"
    },
    {
     "name": "stdout",
     "output_type": "stream",
     "text": [
      "\n",
      "<class 'pandas.core.frame.DataFrame'>\n",
      "RangeIndex: 5000 entries, 0 to 4999\n",
      "Data columns (total 5 columns):\n",
      " #   Column             Non-Null Count  Dtype  \n",
      "---  ------             --------------  -----  \n",
      " 0   Пол                5000 non-null   int64  \n",
      " 1   Возраст            5000 non-null   float64\n",
      " 2   Зарплата           5000 non-null   float64\n",
      " 3   Члены семьи        5000 non-null   int64  \n",
      " 4   Страховые выплаты  5000 non-null   int64  \n",
      "dtypes: float64(2), int64(3)\n",
      "memory usage: 195.4 KB\n"
     ]
    },
    {
     "data": {
      "text/plain": [
       "None"
      ]
     },
     "metadata": {},
     "output_type": "display_data"
    },
    {
     "name": "stdout",
     "output_type": "stream",
     "text": [
      "\n"
     ]
    },
    {
     "data": {
      "text/html": [
       "<div>\n",
       "<style scoped>\n",
       "    .dataframe tbody tr th:only-of-type {\n",
       "        vertical-align: middle;\n",
       "    }\n",
       "\n",
       "    .dataframe tbody tr th {\n",
       "        vertical-align: top;\n",
       "    }\n",
       "\n",
       "    .dataframe thead th {\n",
       "        text-align: right;\n",
       "    }\n",
       "</style>\n",
       "<table border=\"1\" class=\"dataframe\">\n",
       "  <thead>\n",
       "    <tr style=\"text-align: right;\">\n",
       "      <th></th>\n",
       "      <th>Пол</th>\n",
       "      <th>Возраст</th>\n",
       "      <th>Зарплата</th>\n",
       "      <th>Члены семьи</th>\n",
       "      <th>Страховые выплаты</th>\n",
       "    </tr>\n",
       "  </thead>\n",
       "  <tbody>\n",
       "    <tr>\n",
       "      <th>count</th>\n",
       "      <td>5000.000000</td>\n",
       "      <td>5000.000000</td>\n",
       "      <td>5000.000000</td>\n",
       "      <td>5000.000000</td>\n",
       "      <td>5000.000000</td>\n",
       "    </tr>\n",
       "    <tr>\n",
       "      <th>mean</th>\n",
       "      <td>0.499000</td>\n",
       "      <td>30.952800</td>\n",
       "      <td>39916.360000</td>\n",
       "      <td>1.194200</td>\n",
       "      <td>0.148000</td>\n",
       "    </tr>\n",
       "    <tr>\n",
       "      <th>std</th>\n",
       "      <td>0.500049</td>\n",
       "      <td>8.440807</td>\n",
       "      <td>9900.083569</td>\n",
       "      <td>1.091387</td>\n",
       "      <td>0.463183</td>\n",
       "    </tr>\n",
       "    <tr>\n",
       "      <th>min</th>\n",
       "      <td>0.000000</td>\n",
       "      <td>18.000000</td>\n",
       "      <td>5300.000000</td>\n",
       "      <td>0.000000</td>\n",
       "      <td>0.000000</td>\n",
       "    </tr>\n",
       "    <tr>\n",
       "      <th>25%</th>\n",
       "      <td>0.000000</td>\n",
       "      <td>24.000000</td>\n",
       "      <td>33300.000000</td>\n",
       "      <td>0.000000</td>\n",
       "      <td>0.000000</td>\n",
       "    </tr>\n",
       "    <tr>\n",
       "      <th>50%</th>\n",
       "      <td>0.000000</td>\n",
       "      <td>30.000000</td>\n",
       "      <td>40200.000000</td>\n",
       "      <td>1.000000</td>\n",
       "      <td>0.000000</td>\n",
       "    </tr>\n",
       "    <tr>\n",
       "      <th>75%</th>\n",
       "      <td>1.000000</td>\n",
       "      <td>37.000000</td>\n",
       "      <td>46600.000000</td>\n",
       "      <td>2.000000</td>\n",
       "      <td>0.000000</td>\n",
       "    </tr>\n",
       "    <tr>\n",
       "      <th>max</th>\n",
       "      <td>1.000000</td>\n",
       "      <td>65.000000</td>\n",
       "      <td>79000.000000</td>\n",
       "      <td>6.000000</td>\n",
       "      <td>5.000000</td>\n",
       "    </tr>\n",
       "  </tbody>\n",
       "</table>\n",
       "</div>"
      ],
      "text/plain": [
       "               Пол      Возраст      Зарплата  Члены семьи  Страховые выплаты\n",
       "count  5000.000000  5000.000000   5000.000000  5000.000000        5000.000000\n",
       "mean      0.499000    30.952800  39916.360000     1.194200           0.148000\n",
       "std       0.500049     8.440807   9900.083569     1.091387           0.463183\n",
       "min       0.000000    18.000000   5300.000000     0.000000           0.000000\n",
       "25%       0.000000    24.000000  33300.000000     0.000000           0.000000\n",
       "50%       0.000000    30.000000  40200.000000     1.000000           0.000000\n",
       "75%       1.000000    37.000000  46600.000000     2.000000           0.000000\n",
       "max       1.000000    65.000000  79000.000000     6.000000           5.000000"
      ]
     },
     "metadata": {},
     "output_type": "display_data"
    },
    {
     "name": "stdout",
     "output_type": "stream",
     "text": [
      "\n"
     ]
    },
    {
     "data": {
      "text/plain": [
       "Пол                  0\n",
       "Возраст              0\n",
       "Зарплата             0\n",
       "Члены семьи          0\n",
       "Страховые выплаты    0\n",
       "dtype: int64"
      ]
     },
     "metadata": {},
     "output_type": "display_data"
    },
    {
     "name": "stdout",
     "output_type": "stream",
     "text": [
      "\n",
      "153\n"
     ]
    }
   ],
   "source": [
    "#предварительно оценим данные\n",
    "display(df.head(5))\n",
    "print()\n",
    "display(df.info())\n",
    "print()\n",
    "display(df.describe())\n",
    "print()\n",
    "display(df.isna().sum())\n",
    "print()\n",
    "print(df.duplicated().sum())"
   ]
  },
  {
   "cell_type": "code",
   "execution_count": 4,
   "metadata": {},
   "outputs": [
    {
     "name": "stdout",
     "output_type": "stream",
     "text": [
      "<class 'pandas.core.frame.DataFrame'>\n",
      "RangeIndex: 5000 entries, 0 to 4999\n",
      "Data columns (total 5 columns):\n",
      " #   Column             Non-Null Count  Dtype\n",
      "---  ------             --------------  -----\n",
      " 0   Пол                5000 non-null   int64\n",
      " 1   Возраст            5000 non-null   int64\n",
      " 2   Зарплата           5000 non-null   int64\n",
      " 3   Члены семьи        5000 non-null   int64\n",
      " 4   Страховые выплаты  5000 non-null   int64\n",
      "dtypes: int64(5)\n",
      "memory usage: 195.4 KB\n"
     ]
    },
    {
     "data": {
      "text/plain": [
       "None"
      ]
     },
     "metadata": {},
     "output_type": "display_data"
    }
   ],
   "source": [
    "#заменим тип данных в колонках Возраст и Зарплата (дробной части все равно нет)\n",
    "df['Возраст'] = df['Возраст'].astype('int')\n",
    "df['Зарплата'] = df['Зарплата'].astype('int')\n",
    "#проверим\n",
    "display(df.info())"
   ]
  },
  {
   "cell_type": "code",
   "execution_count": 5,
   "metadata": {},
   "outputs": [
    {
     "data": {
      "text/plain": [
       "0    0.501\n",
       "1    0.499\n",
       "Name: Пол, dtype: float64"
      ]
     },
     "metadata": {},
     "output_type": "display_data"
    }
   ],
   "source": [
    "#интересно посмотреть на гендерное распределение застрахованных \n",
    "display(df['Пол'].value_counts(normalize=True))\n",
    "    "
   ]
  },
  {
   "cell_type": "code",
   "execution_count": 6,
   "metadata": {},
   "outputs": [],
   "source": [
    "#оценим кореляцию признаков\n",
    "#df.corr()"
   ]
  },
  {
   "cell_type": "markdown",
   "metadata": {},
   "source": [
    "Вывод п.1. Данные загружены и хорошего качества. Пропусков нет, выбросов и прочих аномалий не наблюдаем. Дубликаты не трогали - это могут быть совпадающие признаки клиентов. Тип данных в столбцах Возраст и Зарплата заменили на целочисленный. Наблюдаются почти равные категории клиентов (мужчин и женщин). Средний возраст застрахованного составляет около 31 года и почти равен медиане в 30 лет. Ограничения возраста застрахованных от 18 до 65 лет определяется вероятно законодательно, компания не занимается страхованием лиц, чей возраст составляет менее 18 и старше 65. Общее впечатление, что датасет заранее подготовлен - внесенные мной изменения очень незначительны."
   ]
  },
  {
   "cell_type": "markdown",
   "metadata": {},
   "source": [
    "## Умножение матриц"
   ]
  },
  {
   "cell_type": "markdown",
   "metadata": {},
   "source": [
    "Проверка изменения качества линейной регрессии"
   ]
  },
  {
   "cell_type": "code",
   "execution_count": 7,
   "metadata": {},
   "outputs": [
    {
     "data": {
      "text/plain": [
       "((5000, 4), (5000,))"
      ]
     },
     "execution_count": 7,
     "metadata": {},
     "output_type": "execute_result"
    }
   ],
   "source": [
    "#выделим признаки и целевой признак\n",
    "features = df.drop('Страховые выплаты',axis=1)\n",
    "target = df['Страховые выплаты']\n",
    "\n",
    "features.shape, target.shape"
   ]
  },
  {
   "cell_type": "code",
   "execution_count": 8,
   "metadata": {},
   "outputs": [
    {
     "name": "stdout",
     "output_type": "stream",
     "text": [
      "параметр w:             [ 7.92580563e-03  3.57083050e-02 -1.70081903e-07 -1.35676627e-02]\n",
      "оценочные коэффициенты: [ 7.92580563e-03  3.57083050e-02 -1.70081903e-07 -1.35676627e-02]\n"
     ]
    }
   ],
   "source": [
    "#формула линейной регрессии с единичным столбцом\n",
    "X = np.concatenate((np.ones((features.shape[0], 1)), features), axis=1) \n",
    "y = target\n",
    "\n",
    "#посчитаем параметр w по формуле минимизации MSE\n",
    "w = np.linalg.inv(X.T @ X) @ X.T @ y          \n",
    "print('параметр w:            ', w[1:])\n",
    "\n",
    "#модель\n",
    "model = LinearRegression()\n",
    "\n",
    "#обучение модели\n",
    "model.fit(features, target)\n",
    "\n",
    "#оценочные коэффициенты для линейной регрессии\n",
    "print('оценочные коэффициенты:', model.coef_) "
   ]
  },
  {
   "cell_type": "markdown",
   "metadata": {},
   "source": [
    "Обозначения для работы с уравнениями линейной регрессии:\n",
    "    \n",
    " $X$ — матрица признаков (нулевой столбец состоит из единиц)\n",
    "    \n",
    " $y$ — вектор целевого признака\n",
    "    \n",
    " $P$ — матрица, на которую умножаются признаки\n",
    "    \n",
    " $w$ — вектор весов линейной регрессии (нулевой элемент равен сдвигу)\n",
    "   \n",
    " Предсказания: $a = Xw$\n",
    "   \n",
    " Задача обучения: $w = argmin_w MSE(Xw, y)$\n",
    "    \n",
    " Формула обучения: $w = (X^T X)^{-1} X^T y$\n",
    "    \n",
    " **Вопрос:** Признаки умножают на обратимую матрицу. Изменится ли качество линейной регрессии?\n",
    "    \n",
    " **Ответ:** не изменится.\n",
    "    \n",
    " **Обоснование:** $a = X_1w$\n",
    " \n",
    "В формулу вектора весов линейной регрессии $w$ подставляем произведение $XP$ вместо $X$. Получится выражение для $w_1$ (вектор весов после преобразования). $P$ – обратимая квадратная матрица (матрица преобразования). Используем вышеприведенные формулы, преобразуем получившееся выражение и получаем зависимость между параметром $w_1$ (вектор весов после преобразования) и $w$ (вектор весов до преобразования). Затем в формулу предсказания $а = Xw$ подставляем $XP$ вместо $Х$, и $w_1$ вместо $w$.\n",
    "\n",
    "**Обоснование:**\n",
    "\n",
    "Запишем исходное уравнение весов: $w = (X^T X)^{-1} X^T y$\n",
    "\n",
    "Докажем, что при умножении на матрицу имеющую обратную ничего не изменится. Запишем вместо $Х$ произведение $ХР$, тогда:\n",
    "\n",
    "$w_1 = ((XP)^T(XP))^{-1}(XP)^Ty$ = $(P^TX^TXP)^{-1}P^TX^Ty$ = $P^{-1}(X^TX)^{-1}(P^T)^{-1}P^TX^Ty$, где $(P^T)^{-1}P^T = E$, тогда $w_1 = P^{-1}((X^TX)^{-1}X^Ty)$ = $P^{-1}w$, \n",
    "мы нашли связь между $w$ и $w_1$, подставим в $a = Xw:$\n",
    "\n",
    "**Получаем:** $a_1 = XPw_1 = XPP^{-1}w = XEw = Xw = a$\n",
    "\n",
    " \n",
    "    \n",
    "**Доказано**, что преобразование подобного типа не повлияет на предсказание."
   ]
  },
  {
   "cell_type": "markdown",
   "metadata": {},
   "source": [
    "Промежуточный вывод. Оценочные коэффициенты и параметр w полностью совпадают, качество линейной регрессии не изменяется."
   ]
  },
  {
   "cell_type": "code",
   "execution_count": 9,
   "metadata": {
    "scrolled": true
   },
   "outputs": [
    {
     "name": "stdout",
     "output_type": "stream",
     "text": [
      "r2 для исходных признаков:   0.42494550308169177\n",
      "r2 для измененных признаков: 0.4249455030817183\n"
     ]
    }
   ],
   "source": [
    "#считаем r2 для модели\n",
    "print('r2 для исходных признаков:  ', r2_score(y, model.predict(features))) \n",
    "\n",
    "#генерируем случайную матрицу\n",
    "random = np.random.normal(size=(4,4))\n",
    "\n",
    "#проверка матрицы на обратимость\n",
    "np.linalg.inv(random) \n",
    "\n",
    "#изменяем матрицу признаков \n",
    "features_inv = features @ random \n",
    "\n",
    "#модель для измененных признаков\n",
    "lr = LinearRegression()\n",
    "\n",
    "#обучение модели\n",
    "lr.fit(features_inv, target)\n",
    "\n",
    "#считаем r2 для измененных признаков\n",
    "print('r2 для измененных признаков:', r2_score(target, lr.predict(features_inv))) "
   ]
  },
  {
   "cell_type": "markdown",
   "metadata": {},
   "source": [
    "Промежуточный вывод. Линейная регрессия работает. r2 совпадают с точностью до 14 знаков и 0<r2<1. "
   ]
  },
  {
   "cell_type": "markdown",
   "metadata": {},
   "source": [
    "Вывод п.2. Параметр w и оценочные коэффициенты, оценки r2 в исходной задаче и преобразованной совпадают, следовательно, качество линейной регрессии не изменяется."
   ]
  },
  {
   "cell_type": "markdown",
   "metadata": {},
   "source": [
    "## Алгоритм преобразования"
   ]
  },
  {
   "cell_type": "markdown",
   "metadata": {},
   "source": [
    "Мы меняли признаки с помощью случайно сгенерированной матрицы. Я предлагаю следующий алгоритм преобразования данных для защиты информации:\n",
    "\n",
    "1. Генерирую случайную квадратную матрицу\n",
    "2. Умножаю матрицу признаков на случайную квадратную матрицу и, например, на константу PI = 3.14"
   ]
  },
  {
   "cell_type": "code",
   "execution_count": 10,
   "metadata": {},
   "outputs": [
    {
     "data": {
      "text/html": [
       "<div>\n",
       "<style scoped>\n",
       "    .dataframe tbody tr th:only-of-type {\n",
       "        vertical-align: middle;\n",
       "    }\n",
       "\n",
       "    .dataframe tbody tr th {\n",
       "        vertical-align: top;\n",
       "    }\n",
       "\n",
       "    .dataframe thead th {\n",
       "        text-align: right;\n",
       "    }\n",
       "</style>\n",
       "<table border=\"1\" class=\"dataframe\">\n",
       "  <thead>\n",
       "    <tr style=\"text-align: right;\">\n",
       "      <th></th>\n",
       "      <th>0</th>\n",
       "      <th>1</th>\n",
       "      <th>2</th>\n",
       "      <th>3</th>\n",
       "    </tr>\n",
       "  </thead>\n",
       "  <tbody>\n",
       "    <tr>\n",
       "      <th>0</th>\n",
       "      <td>-112830.323715</td>\n",
       "      <td>233982.518947</td>\n",
       "      <td>30280.447734</td>\n",
       "      <td>-73353.602513</td>\n",
       "    </tr>\n",
       "    <tr>\n",
       "      <th>1</th>\n",
       "      <td>-86480.184065</td>\n",
       "      <td>179320.830097</td>\n",
       "      <td>23079.067197</td>\n",
       "      <td>-56150.477665</td>\n",
       "    </tr>\n",
       "    <tr>\n",
       "      <th>2</th>\n",
       "      <td>-47802.396799</td>\n",
       "      <td>99112.692388</td>\n",
       "      <td>12729.292166</td>\n",
       "      <td>-31020.362387</td>\n",
       "    </tr>\n",
       "    <tr>\n",
       "      <th>3</th>\n",
       "      <td>-94817.788253</td>\n",
       "      <td>196654.257644</td>\n",
       "      <td>25558.302786</td>\n",
       "      <td>-61711.095431</td>\n",
       "    </tr>\n",
       "    <tr>\n",
       "      <th>4</th>\n",
       "      <td>-59392.427750</td>\n",
       "      <td>123153.382370</td>\n",
       "      <td>15885.592899</td>\n",
       "      <td>-38579.815789</td>\n",
       "    </tr>\n",
       "  </tbody>\n",
       "</table>\n",
       "</div>"
      ],
      "text/plain": [
       "               0              1             2             3\n",
       "0 -112830.323715  233982.518947  30280.447734 -73353.602513\n",
       "1  -86480.184065  179320.830097  23079.067197 -56150.477665\n",
       "2  -47802.396799   99112.692388  12729.292166 -31020.362387\n",
       "3  -94817.788253  196654.257644  25558.302786 -61711.095431\n",
       "4  -59392.427750  123153.382370  15885.592899 -38579.815789"
      ]
     },
     "execution_count": 10,
     "metadata": {},
     "output_type": "execute_result"
    }
   ],
   "source": [
    "PI = 3.14\n",
    "\n",
    "#случайная матрица\n",
    "random = np.random.normal(size=(4,4))\n",
    "\n",
    "#проверим на обратимость\n",
    "np.linalg.inv(random)\n",
    "\n",
    "#шифруем данные\n",
    "features_inv = features @ random * PI \n",
    "\n",
    "#посмотрим на результат\n",
    "features_inv.head(5)"
   ]
  },
  {
   "cell_type": "code",
   "execution_count": 11,
   "metadata": {},
   "outputs": [
    {
     "name": "stdout",
     "output_type": "stream",
     "text": [
      "r2: 0.42494550308169154\n"
     ]
    }
   ],
   "source": [
    "#модель\n",
    "lr = LinearRegression() \n",
    "\n",
    "#обучение модели\n",
    "lr.fit(features_inv, target) \n",
    "\n",
    "#считаем r2 для измененных признаков\n",
    "print('r2:', r2_score(target, lr.predict(features_inv))) "
   ]
  },
  {
   "cell_type": "markdown",
   "metadata": {},
   "source": [
    "Выводы п.3. Алгоритм справляется с защитой данных -  r2 защищенных данных совпадает с r2 исходных данных. "
   ]
  },
  {
   "cell_type": "markdown",
   "metadata": {},
   "source": [
    "## Проверка алгоритма"
   ]
  },
  {
   "cell_type": "markdown",
   "metadata": {},
   "source": [
    "Декодируем признаки и сравним с исходными"
   ]
  },
  {
   "cell_type": "code",
   "execution_count": 12,
   "metadata": {},
   "outputs": [
    {
     "name": "stdout",
     "output_type": "stream",
     "text": [
      "Исходные признаки:\n"
     ]
    },
    {
     "data": {
      "text/html": [
       "<div>\n",
       "<style scoped>\n",
       "    .dataframe tbody tr th:only-of-type {\n",
       "        vertical-align: middle;\n",
       "    }\n",
       "\n",
       "    .dataframe tbody tr th {\n",
       "        vertical-align: top;\n",
       "    }\n",
       "\n",
       "    .dataframe thead th {\n",
       "        text-align: right;\n",
       "    }\n",
       "</style>\n",
       "<table border=\"1\" class=\"dataframe\">\n",
       "  <thead>\n",
       "    <tr style=\"text-align: right;\">\n",
       "      <th></th>\n",
       "      <th>Пол</th>\n",
       "      <th>Возраст</th>\n",
       "      <th>Зарплата</th>\n",
       "      <th>Члены семьи</th>\n",
       "    </tr>\n",
       "  </thead>\n",
       "  <tbody>\n",
       "    <tr>\n",
       "      <th>0</th>\n",
       "      <td>1</td>\n",
       "      <td>41</td>\n",
       "      <td>49600</td>\n",
       "      <td>1</td>\n",
       "    </tr>\n",
       "    <tr>\n",
       "      <th>1</th>\n",
       "      <td>0</td>\n",
       "      <td>46</td>\n",
       "      <td>38000</td>\n",
       "      <td>1</td>\n",
       "    </tr>\n",
       "    <tr>\n",
       "      <th>2</th>\n",
       "      <td>0</td>\n",
       "      <td>29</td>\n",
       "      <td>21000</td>\n",
       "      <td>0</td>\n",
       "    </tr>\n",
       "    <tr>\n",
       "      <th>3</th>\n",
       "      <td>0</td>\n",
       "      <td>21</td>\n",
       "      <td>41700</td>\n",
       "      <td>2</td>\n",
       "    </tr>\n",
       "    <tr>\n",
       "      <th>4</th>\n",
       "      <td>1</td>\n",
       "      <td>28</td>\n",
       "      <td>26100</td>\n",
       "      <td>0</td>\n",
       "    </tr>\n",
       "  </tbody>\n",
       "</table>\n",
       "</div>"
      ],
      "text/plain": [
       "   Пол  Возраст  Зарплата  Члены семьи\n",
       "0    1       41     49600            1\n",
       "1    0       46     38000            1\n",
       "2    0       29     21000            0\n",
       "3    0       21     41700            2\n",
       "4    1       28     26100            0"
      ]
     },
     "metadata": {},
     "output_type": "display_data"
    },
    {
     "name": "stdout",
     "output_type": "stream",
     "text": [
      "\n",
      "Декодированные признаки:\n"
     ]
    },
    {
     "data": {
      "text/html": [
       "<div>\n",
       "<style scoped>\n",
       "    .dataframe tbody tr th:only-of-type {\n",
       "        vertical-align: middle;\n",
       "    }\n",
       "\n",
       "    .dataframe tbody tr th {\n",
       "        vertical-align: top;\n",
       "    }\n",
       "\n",
       "    .dataframe thead th {\n",
       "        text-align: right;\n",
       "    }\n",
       "</style>\n",
       "<table border=\"1\" class=\"dataframe\">\n",
       "  <thead>\n",
       "    <tr style=\"text-align: right;\">\n",
       "      <th></th>\n",
       "      <th>Пол</th>\n",
       "      <th>Возраст</th>\n",
       "      <th>Зарплата</th>\n",
       "      <th>Члены семьи</th>\n",
       "    </tr>\n",
       "  </thead>\n",
       "  <tbody>\n",
       "    <tr>\n",
       "      <th>0</th>\n",
       "      <td>1</td>\n",
       "      <td>41</td>\n",
       "      <td>49600</td>\n",
       "      <td>1</td>\n",
       "    </tr>\n",
       "    <tr>\n",
       "      <th>1</th>\n",
       "      <td>0</td>\n",
       "      <td>46</td>\n",
       "      <td>38000</td>\n",
       "      <td>1</td>\n",
       "    </tr>\n",
       "    <tr>\n",
       "      <th>2</th>\n",
       "      <td>0</td>\n",
       "      <td>29</td>\n",
       "      <td>21000</td>\n",
       "      <td>0</td>\n",
       "    </tr>\n",
       "    <tr>\n",
       "      <th>3</th>\n",
       "      <td>0</td>\n",
       "      <td>21</td>\n",
       "      <td>41700</td>\n",
       "      <td>2</td>\n",
       "    </tr>\n",
       "    <tr>\n",
       "      <th>4</th>\n",
       "      <td>1</td>\n",
       "      <td>28</td>\n",
       "      <td>26100</td>\n",
       "      <td>0</td>\n",
       "    </tr>\n",
       "  </tbody>\n",
       "</table>\n",
       "</div>"
      ],
      "text/plain": [
       "   Пол  Возраст  Зарплата  Члены семьи\n",
       "0    1       41     49600            1\n",
       "1    0       46     38000            1\n",
       "2    0       29     21000            0\n",
       "3    0       21     41700            2\n",
       "4    1       28     26100            0"
      ]
     },
     "metadata": {},
     "output_type": "display_data"
    }
   ],
   "source": [
    "print('Исходные признаки:')\n",
    "\n",
    "#посмотрим исходные признаки\n",
    "display(features.head(5)) \n",
    "\n",
    "print()\n",
    "decode = round(features_inv @ np.linalg.inv(random) * (1/PI)).astype(int)\n",
    "\n",
    "#заменим названия колонок для наглядности\n",
    "decode.columns = ['Пол', 'Возраст', 'Зарплата', 'Члены семьи'] \n",
    "print('Декодированные признаки:')\n",
    "\n",
    "#посмотрим декодированные признаки\n",
    "display(decode.head(5)) "
   ]
  },
  {
   "cell_type": "markdown",
   "metadata": {},
   "source": [
    "Вывод п.4. Проверено декодирование признаков - алгоритм работает. "
   ]
  },
  {
   "cell_type": "markdown",
   "metadata": {},
   "source": [
    "Общий вывод. В ходе проекта были загружены и изучены данные о клиентах страховой компании. Установлено, что данные хорошего качества и практически готовы к работе. Поменяли тип данных в 2-х колонках. Были рассчитаны параметр w и оценочные коэффициенты. Рассчитаны оценки r2 в исходной и преобразованной задаче, значения совпали, что говорит о неизменном качестве линейной регрессии. Был предложен алгоритм преобразования (шифрования) данных. Установлено, что алгоритм справляется с защитой данных - r2 защищенных данных совпадает с r2 исходных данных. Проверено декодирование признаков с помощью обратной операции - данные совпадают с исходными. \n",
    "Результатом работы над проектом является опыт практической защиты персональных данных, используя матричные операции."
   ]
  },
  {
   "cell_type": "code",
   "execution_count": null,
   "metadata": {},
   "outputs": [],
   "source": []
  }
 ],
 "metadata": {
  "ExecuteTimeLog": [
   {
    "duration": 1376,
    "start_time": "2023-04-10T19:40:17.352Z"
   },
   {
    "duration": 117,
    "start_time": "2023-04-10T19:41:03.709Z"
   },
   {
    "duration": 55,
    "start_time": "2023-04-10T19:43:20.405Z"
   },
   {
    "duration": 5,
    "start_time": "2023-04-10T19:48:06.008Z"
   },
   {
    "duration": 15,
    "start_time": "2023-04-10T19:48:49.515Z"
   },
   {
    "duration": 7,
    "start_time": "2023-04-10T19:52:13.443Z"
   },
   {
    "duration": 8,
    "start_time": "2023-04-10T20:08:11.506Z"
   },
   {
    "duration": 13,
    "start_time": "2023-04-10T20:11:04.110Z"
   },
   {
    "duration": 10,
    "start_time": "2023-04-10T20:11:17.822Z"
   },
   {
    "duration": 11,
    "start_time": "2023-04-10T20:11:55.665Z"
   },
   {
    "duration": 10,
    "start_time": "2023-04-10T20:12:24.446Z"
   },
   {
    "duration": 11,
    "start_time": "2023-04-10T20:12:36.070Z"
   },
   {
    "duration": 11,
    "start_time": "2023-04-10T20:12:43.070Z"
   },
   {
    "duration": 10,
    "start_time": "2023-04-10T20:12:48.753Z"
   },
   {
    "duration": 47,
    "start_time": "2023-04-10T20:18:24.069Z"
   },
   {
    "duration": 15,
    "start_time": "2023-04-10T20:18:33.562Z"
   },
   {
    "duration": 16,
    "start_time": "2023-04-10T20:18:39.710Z"
   },
   {
    "duration": 12,
    "start_time": "2023-04-10T20:30:11.554Z"
   },
   {
    "duration": 13,
    "start_time": "2023-04-10T20:32:16.068Z"
   },
   {
    "duration": 24,
    "start_time": "2023-04-10T20:41:21.119Z"
   },
   {
    "duration": 33,
    "start_time": "2023-04-10T20:42:09.188Z"
   },
   {
    "duration": 99,
    "start_time": "2023-04-10T20:42:38.697Z"
   },
   {
    "duration": 1052,
    "start_time": "2023-04-10T21:03:43.341Z"
   },
   {
    "duration": 23,
    "start_time": "2023-04-10T21:03:44.395Z"
   },
   {
    "duration": 55,
    "start_time": "2023-04-10T21:03:44.420Z"
   },
   {
    "duration": 17,
    "start_time": "2023-04-10T21:03:44.477Z"
   },
   {
    "duration": 21,
    "start_time": "2023-04-10T21:03:44.496Z"
   },
   {
    "duration": 7,
    "start_time": "2023-04-10T21:03:44.519Z"
   },
   {
    "duration": 19,
    "start_time": "2023-04-10T21:03:44.527Z"
   },
   {
    "duration": 109,
    "start_time": "2023-04-10T21:03:44.594Z"
   },
   {
    "duration": 105,
    "start_time": "2023-04-10T21:03:44.794Z"
   },
   {
    "duration": 98,
    "start_time": "2023-04-10T21:03:44.902Z"
   },
   {
    "duration": 193,
    "start_time": "2023-04-10T21:03:45.001Z"
   },
   {
    "duration": 18,
    "start_time": "2023-04-10T21:08:32.643Z"
   },
   {
    "duration": 82,
    "start_time": "2023-04-11T07:49:03.859Z"
   },
   {
    "duration": 1376,
    "start_time": "2023-04-11T07:49:10.071Z"
   },
   {
    "duration": 118,
    "start_time": "2023-04-11T07:49:11.449Z"
   },
   {
    "duration": 66,
    "start_time": "2023-04-11T07:49:11.570Z"
   },
   {
    "duration": 46,
    "start_time": "2023-04-11T07:49:11.638Z"
   },
   {
    "duration": 32,
    "start_time": "2023-04-11T07:49:11.686Z"
   },
   {
    "duration": 14,
    "start_time": "2023-04-11T07:49:11.720Z"
   },
   {
    "duration": 14,
    "start_time": "2023-04-11T07:49:11.736Z"
   },
   {
    "duration": 207,
    "start_time": "2023-04-11T07:49:11.788Z"
   },
   {
    "duration": 104,
    "start_time": "2023-04-11T07:49:11.998Z"
   },
   {
    "duration": 179,
    "start_time": "2023-04-11T07:49:12.107Z"
   },
   {
    "duration": 147,
    "start_time": "2023-04-11T07:49:12.292Z"
   },
   {
    "duration": 15,
    "start_time": "2023-04-11T07:53:35.677Z"
   },
   {
    "duration": 10,
    "start_time": "2023-04-11T07:56:03.922Z"
   },
   {
    "duration": 1194,
    "start_time": "2023-04-11T08:03:56.452Z"
   },
   {
    "duration": 27,
    "start_time": "2023-04-11T08:03:57.648Z"
   },
   {
    "duration": 62,
    "start_time": "2023-04-11T08:03:57.676Z"
   },
   {
    "duration": 14,
    "start_time": "2023-04-11T08:03:57.740Z"
   },
   {
    "duration": 33,
    "start_time": "2023-04-11T08:03:57.756Z"
   },
   {
    "duration": 34,
    "start_time": "2023-04-11T08:03:57.791Z"
   },
   {
    "duration": 6,
    "start_time": "2023-04-11T08:03:57.827Z"
   },
   {
    "duration": 14,
    "start_time": "2023-04-11T08:03:57.834Z"
   },
   {
    "duration": 211,
    "start_time": "2023-04-11T08:03:57.884Z"
   },
   {
    "duration": 203,
    "start_time": "2023-04-11T08:03:58.098Z"
   },
   {
    "duration": 96,
    "start_time": "2023-04-11T08:03:58.307Z"
   },
   {
    "duration": 189,
    "start_time": "2023-04-11T08:03:58.405Z"
   },
   {
    "duration": 1100,
    "start_time": "2023-04-11T08:07:27.281Z"
   },
   {
    "duration": 36,
    "start_time": "2023-04-11T08:07:28.383Z"
   },
   {
    "duration": 52,
    "start_time": "2023-04-11T08:07:28.420Z"
   },
   {
    "duration": 30,
    "start_time": "2023-04-11T08:07:28.474Z"
   },
   {
    "duration": 9,
    "start_time": "2023-04-11T08:07:28.507Z"
   },
   {
    "duration": 13,
    "start_time": "2023-04-11T08:07:28.517Z"
   },
   {
    "duration": 7,
    "start_time": "2023-04-11T08:07:28.533Z"
   },
   {
    "duration": 52,
    "start_time": "2023-04-11T08:07:28.541Z"
   },
   {
    "duration": 200,
    "start_time": "2023-04-11T08:07:28.596Z"
   },
   {
    "duration": 199,
    "start_time": "2023-04-11T08:07:28.807Z"
   },
   {
    "duration": 194,
    "start_time": "2023-04-11T08:07:29.008Z"
   },
   {
    "duration": 212,
    "start_time": "2023-04-11T08:07:29.208Z"
   },
   {
    "duration": 66,
    "start_time": "2023-04-11T16:04:11.317Z"
   },
   {
    "duration": 1282,
    "start_time": "2023-04-11T16:04:18.879Z"
   },
   {
    "duration": 142,
    "start_time": "2023-04-11T16:04:20.163Z"
   },
   {
    "duration": 95,
    "start_time": "2023-04-11T16:04:20.307Z"
   },
   {
    "duration": 15,
    "start_time": "2023-04-11T16:04:20.404Z"
   },
   {
    "duration": 53,
    "start_time": "2023-04-11T16:04:20.451Z"
   },
   {
    "duration": 29,
    "start_time": "2023-04-11T16:04:20.506Z"
   },
   {
    "duration": 152,
    "start_time": "2023-04-11T16:04:20.537Z"
   },
   {
    "duration": 0,
    "start_time": "2023-04-11T16:04:20.691Z"
   },
   {
    "duration": 0,
    "start_time": "2023-04-11T16:04:20.694Z"
   },
   {
    "duration": 0,
    "start_time": "2023-04-11T16:04:20.696Z"
   },
   {
    "duration": 0,
    "start_time": "2023-04-11T16:04:20.697Z"
   },
   {
    "duration": 0,
    "start_time": "2023-04-11T16:04:20.698Z"
   },
   {
    "duration": 0,
    "start_time": "2023-04-11T16:04:20.700Z"
   },
   {
    "duration": 14,
    "start_time": "2023-04-11T16:06:08.798Z"
   },
   {
    "duration": 18,
    "start_time": "2023-04-11T16:06:18.674Z"
   },
   {
    "duration": 1161,
    "start_time": "2023-04-11T16:09:26.070Z"
   },
   {
    "duration": 42,
    "start_time": "2023-04-11T16:10:01.728Z"
   },
   {
    "duration": 5,
    "start_time": "2023-04-11T16:11:04.647Z"
   },
   {
    "duration": 13,
    "start_time": "2023-04-11T16:11:05.971Z"
   },
   {
    "duration": 16,
    "start_time": "2023-04-11T16:16:22.335Z"
   },
   {
    "duration": 92,
    "start_time": "2023-04-11T16:19:14.128Z"
   },
   {
    "duration": 81,
    "start_time": "2023-04-11T16:19:18.580Z"
   },
   {
    "duration": 149,
    "start_time": "2023-04-11T16:20:10.203Z"
   },
   {
    "duration": 19,
    "start_time": "2023-04-11T16:22:39.977Z"
   },
   {
    "duration": 1304,
    "start_time": "2023-04-11T16:22:48.589Z"
   },
   {
    "duration": 30,
    "start_time": "2023-04-11T16:22:49.895Z"
   },
   {
    "duration": 71,
    "start_time": "2023-04-11T16:22:49.927Z"
   },
   {
    "duration": 18,
    "start_time": "2023-04-11T16:22:50.000Z"
   },
   {
    "duration": 19,
    "start_time": "2023-04-11T16:22:50.046Z"
   },
   {
    "duration": 36,
    "start_time": "2023-04-11T16:22:50.067Z"
   },
   {
    "duration": 11,
    "start_time": "2023-04-11T16:22:50.105Z"
   },
   {
    "duration": 68,
    "start_time": "2023-04-11T16:22:50.119Z"
   },
   {
    "duration": 275,
    "start_time": "2023-04-11T16:22:50.190Z"
   },
   {
    "duration": 194,
    "start_time": "2023-04-11T16:22:50.471Z"
   },
   {
    "duration": 274,
    "start_time": "2023-04-11T16:22:50.673Z"
   },
   {
    "duration": 108,
    "start_time": "2023-04-11T16:22:50.949Z"
   },
   {
    "duration": 614,
    "start_time": "2023-04-11T16:40:03.564Z"
   },
   {
    "duration": 1277,
    "start_time": "2023-04-11T17:00:51.329Z"
   },
   {
    "duration": 31,
    "start_time": "2023-04-11T17:00:52.608Z"
   },
   {
    "duration": 88,
    "start_time": "2023-04-11T17:00:52.640Z"
   },
   {
    "duration": 28,
    "start_time": "2023-04-11T17:00:52.730Z"
   },
   {
    "duration": 24,
    "start_time": "2023-04-11T17:00:52.762Z"
   },
   {
    "duration": 21,
    "start_time": "2023-04-11T17:00:52.788Z"
   },
   {
    "duration": 11,
    "start_time": "2023-04-11T17:00:52.811Z"
   },
   {
    "duration": 44,
    "start_time": "2023-04-11T17:00:52.824Z"
   },
   {
    "duration": 178,
    "start_time": "2023-04-11T17:00:52.869Z"
   },
   {
    "duration": 126,
    "start_time": "2023-04-11T17:00:53.054Z"
   },
   {
    "duration": 168,
    "start_time": "2023-04-11T17:00:53.183Z"
   },
   {
    "duration": 220,
    "start_time": "2023-04-11T17:00:53.354Z"
   },
   {
    "duration": 3,
    "start_time": "2023-04-11T17:45:07.587Z"
   },
   {
    "duration": 1344,
    "start_time": "2023-04-11T17:51:23.144Z"
   },
   {
    "duration": 38,
    "start_time": "2023-04-11T17:51:24.492Z"
   },
   {
    "duration": 93,
    "start_time": "2023-04-11T17:51:24.532Z"
   },
   {
    "duration": 39,
    "start_time": "2023-04-11T17:51:24.628Z"
   },
   {
    "duration": 47,
    "start_time": "2023-04-11T17:51:24.669Z"
   },
   {
    "duration": 74,
    "start_time": "2023-04-11T17:51:24.719Z"
   },
   {
    "duration": 16,
    "start_time": "2023-04-11T17:51:24.799Z"
   },
   {
    "duration": 26,
    "start_time": "2023-04-11T17:51:24.817Z"
   },
   {
    "duration": 157,
    "start_time": "2023-04-11T17:51:24.845Z"
   },
   {
    "duration": 95,
    "start_time": "2023-04-11T17:51:25.062Z"
   },
   {
    "duration": 133,
    "start_time": "2023-04-11T17:51:25.159Z"
   },
   {
    "duration": 204,
    "start_time": "2023-04-11T17:51:25.298Z"
   }
  ],
  "kernelspec": {
   "display_name": "Python 3 (ipykernel)",
   "language": "python",
   "name": "python3"
  },
  "language_info": {
   "codemirror_mode": {
    "name": "ipython",
    "version": 3
   },
   "file_extension": ".py",
   "mimetype": "text/x-python",
   "name": "python",
   "nbconvert_exporter": "python",
   "pygments_lexer": "ipython3",
   "version": "3.9.5"
  },
  "toc": {
   "base_numbering": 1,
   "nav_menu": {},
   "number_sections": true,
   "sideBar": true,
   "skip_h1_title": true,
   "title_cell": "Содержание",
   "title_sidebar": "Contents",
   "toc_cell": true,
   "toc_position": {
    "height": "calc(100% - 180px)",
    "left": "10px",
    "top": "150px",
    "width": "165px"
   },
   "toc_section_display": true,
   "toc_window_display": true
  }
 },
 "nbformat": 4,
 "nbformat_minor": 2
}
