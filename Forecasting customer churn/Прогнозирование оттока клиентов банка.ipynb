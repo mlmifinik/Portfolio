{
 "cells": [
  {
   "cell_type": "markdown",
   "metadata": {
    "toc": true
   },
   "source": [
    "<h1>Содержание<span class=\"tocSkip\"></span></h1>\n",
    "<div class=\"toc\"><ul class=\"toc-item\"><li><span><a href=\"#Подготовка-данных\" data-toc-modified-id=\"Подготовка-данных-1\"><span class=\"toc-item-num\">1&nbsp;&nbsp;</span>Подготовка данных</a></span></li><li><span><a href=\"#Исследование-задачи\" data-toc-modified-id=\"Исследование-задачи-2\"><span class=\"toc-item-num\">2&nbsp;&nbsp;</span>Исследование задачи</a></span></li><li><span><a href=\"#Борьба-с-дисбалансом\" data-toc-modified-id=\"Борьба-с-дисбалансом-3\"><span class=\"toc-item-num\">3&nbsp;&nbsp;</span>Борьба с дисбалансом</a></span></li><li><span><a href=\"#Тестирование-модели\" data-toc-modified-id=\"Тестирование-модели-4\"><span class=\"toc-item-num\">4&nbsp;&nbsp;</span>Тестирование модели</a></span></li></ul></div>"
   ]
  },
  {
   "cell_type": "markdown",
   "metadata": {},
   "source": [
    "# Отток клиентов"
   ]
  },
  {
   "cell_type": "markdown",
   "metadata": {},
   "source": [
    "Из «Бета-Банка» стали уходить клиенты. Каждый месяц. Немного, но заметно. Банковские маркетологи посчитали: сохранять текущих клиентов дешевле, чем привлекать новых.\n",
    "\n",
    "Нужно спрогнозировать, уйдёт клиент из банка в ближайшее время или нет. Вам предоставлены исторические данные о поведении клиентов и расторжении договоров с банком. \n",
    "\n",
    "Постройте модель с предельно большим значением *F1*-меры. Чтобы сдать проект успешно, нужно довести метрику до 0.59. Проверьте *F1*-меру на тестовой выборке самостоятельно.\n",
    "\n",
    "Дополнительно измеряйте *AUC-ROC*, сравнивайте её значение с *F1*-мерой.\n",
    "\n",
    "Источник данных: [https://www.kaggle.com/barelydedicated/bank-customer-churn-modeling](https://www.kaggle.com/barelydedicated/bank-customer-churn-modeling)"
   ]
  },
  {
   "cell_type": "markdown",
   "metadata": {},
   "source": [
    "## Подготовка данных"
   ]
  },
  {
   "cell_type": "code",
   "execution_count": 1,
   "metadata": {},
   "outputs": [],
   "source": [
    "#библиотеки проекта\n",
    "import pandas as pd\n",
    "from sklearn.model_selection import train_test_split\n",
    "from sklearn.tree import DecisionTreeClassifier\n",
    "from sklearn.ensemble import RandomForestClassifier\n",
    "from sklearn.metrics import f1_score, roc_auc_score\n",
    "from sklearn.utils import shuffle\n",
    "\n",
    "\n",
    "import warnings\n",
    "warnings.filterwarnings(\"ignore\")"
   ]
  },
  {
   "cell_type": "code",
   "execution_count": 2,
   "metadata": {},
   "outputs": [],
   "source": [
    "try:\n",
    "    df = pd.read_csv('Churn.csv')\n",
    "except:\n",
    "    df = pd.read_csv('/datasets/Churn.csv')"
   ]
  },
  {
   "cell_type": "code",
   "execution_count": 3,
   "metadata": {},
   "outputs": [
    {
     "name": "stdout",
     "output_type": "stream",
     "text": [
      "<class 'pandas.core.frame.DataFrame'>\n",
      "RangeIndex: 10000 entries, 0 to 9999\n",
      "Data columns (total 14 columns):\n",
      " #   Column           Non-Null Count  Dtype  \n",
      "---  ------           --------------  -----  \n",
      " 0   RowNumber        10000 non-null  int64  \n",
      " 1   CustomerId       10000 non-null  int64  \n",
      " 2   Surname          10000 non-null  object \n",
      " 3   CreditScore      10000 non-null  int64  \n",
      " 4   Geography        10000 non-null  object \n",
      " 5   Gender           10000 non-null  object \n",
      " 6   Age              10000 non-null  int64  \n",
      " 7   Tenure           9091 non-null   float64\n",
      " 8   Balance          10000 non-null  float64\n",
      " 9   NumOfProducts    10000 non-null  int64  \n",
      " 10  HasCrCard        10000 non-null  int64  \n",
      " 11  IsActiveMember   10000 non-null  int64  \n",
      " 12  EstimatedSalary  10000 non-null  float64\n",
      " 13  Exited           10000 non-null  int64  \n",
      "dtypes: float64(3), int64(8), object(3)\n",
      "memory usage: 1.1+ MB\n"
     ]
    }
   ],
   "source": [
    "df.info()"
   ]
  },
  {
   "cell_type": "code",
   "execution_count": 4,
   "metadata": {},
   "outputs": [
    {
     "data": {
      "text/html": [
       "<div>\n",
       "<style scoped>\n",
       "    .dataframe tbody tr th:only-of-type {\n",
       "        vertical-align: middle;\n",
       "    }\n",
       "\n",
       "    .dataframe tbody tr th {\n",
       "        vertical-align: top;\n",
       "    }\n",
       "\n",
       "    .dataframe thead th {\n",
       "        text-align: right;\n",
       "    }\n",
       "</style>\n",
       "<table border=\"1\" class=\"dataframe\">\n",
       "  <thead>\n",
       "    <tr style=\"text-align: right;\">\n",
       "      <th></th>\n",
       "      <th>RowNumber</th>\n",
       "      <th>CustomerId</th>\n",
       "      <th>Surname</th>\n",
       "      <th>CreditScore</th>\n",
       "      <th>Geography</th>\n",
       "      <th>Gender</th>\n",
       "      <th>Age</th>\n",
       "      <th>Tenure</th>\n",
       "      <th>Balance</th>\n",
       "      <th>NumOfProducts</th>\n",
       "      <th>HasCrCard</th>\n",
       "      <th>IsActiveMember</th>\n",
       "      <th>EstimatedSalary</th>\n",
       "      <th>Exited</th>\n",
       "    </tr>\n",
       "  </thead>\n",
       "  <tbody>\n",
       "    <tr>\n",
       "      <th>0</th>\n",
       "      <td>1</td>\n",
       "      <td>15634602</td>\n",
       "      <td>Hargrave</td>\n",
       "      <td>619</td>\n",
       "      <td>France</td>\n",
       "      <td>Female</td>\n",
       "      <td>42</td>\n",
       "      <td>2.0</td>\n",
       "      <td>0.00</td>\n",
       "      <td>1</td>\n",
       "      <td>1</td>\n",
       "      <td>1</td>\n",
       "      <td>101348.88</td>\n",
       "      <td>1</td>\n",
       "    </tr>\n",
       "    <tr>\n",
       "      <th>1</th>\n",
       "      <td>2</td>\n",
       "      <td>15647311</td>\n",
       "      <td>Hill</td>\n",
       "      <td>608</td>\n",
       "      <td>Spain</td>\n",
       "      <td>Female</td>\n",
       "      <td>41</td>\n",
       "      <td>1.0</td>\n",
       "      <td>83807.86</td>\n",
       "      <td>1</td>\n",
       "      <td>0</td>\n",
       "      <td>1</td>\n",
       "      <td>112542.58</td>\n",
       "      <td>0</td>\n",
       "    </tr>\n",
       "    <tr>\n",
       "      <th>2</th>\n",
       "      <td>3</td>\n",
       "      <td>15619304</td>\n",
       "      <td>Onio</td>\n",
       "      <td>502</td>\n",
       "      <td>France</td>\n",
       "      <td>Female</td>\n",
       "      <td>42</td>\n",
       "      <td>8.0</td>\n",
       "      <td>159660.80</td>\n",
       "      <td>3</td>\n",
       "      <td>1</td>\n",
       "      <td>0</td>\n",
       "      <td>113931.57</td>\n",
       "      <td>1</td>\n",
       "    </tr>\n",
       "    <tr>\n",
       "      <th>3</th>\n",
       "      <td>4</td>\n",
       "      <td>15701354</td>\n",
       "      <td>Boni</td>\n",
       "      <td>699</td>\n",
       "      <td>France</td>\n",
       "      <td>Female</td>\n",
       "      <td>39</td>\n",
       "      <td>1.0</td>\n",
       "      <td>0.00</td>\n",
       "      <td>2</td>\n",
       "      <td>0</td>\n",
       "      <td>0</td>\n",
       "      <td>93826.63</td>\n",
       "      <td>0</td>\n",
       "    </tr>\n",
       "    <tr>\n",
       "      <th>4</th>\n",
       "      <td>5</td>\n",
       "      <td>15737888</td>\n",
       "      <td>Mitchell</td>\n",
       "      <td>850</td>\n",
       "      <td>Spain</td>\n",
       "      <td>Female</td>\n",
       "      <td>43</td>\n",
       "      <td>2.0</td>\n",
       "      <td>125510.82</td>\n",
       "      <td>1</td>\n",
       "      <td>1</td>\n",
       "      <td>1</td>\n",
       "      <td>79084.10</td>\n",
       "      <td>0</td>\n",
       "    </tr>\n",
       "    <tr>\n",
       "      <th>5</th>\n",
       "      <td>6</td>\n",
       "      <td>15574012</td>\n",
       "      <td>Chu</td>\n",
       "      <td>645</td>\n",
       "      <td>Spain</td>\n",
       "      <td>Male</td>\n",
       "      <td>44</td>\n",
       "      <td>8.0</td>\n",
       "      <td>113755.78</td>\n",
       "      <td>2</td>\n",
       "      <td>1</td>\n",
       "      <td>0</td>\n",
       "      <td>149756.71</td>\n",
       "      <td>1</td>\n",
       "    </tr>\n",
       "    <tr>\n",
       "      <th>6</th>\n",
       "      <td>7</td>\n",
       "      <td>15592531</td>\n",
       "      <td>Bartlett</td>\n",
       "      <td>822</td>\n",
       "      <td>France</td>\n",
       "      <td>Male</td>\n",
       "      <td>50</td>\n",
       "      <td>7.0</td>\n",
       "      <td>0.00</td>\n",
       "      <td>2</td>\n",
       "      <td>1</td>\n",
       "      <td>1</td>\n",
       "      <td>10062.80</td>\n",
       "      <td>0</td>\n",
       "    </tr>\n",
       "    <tr>\n",
       "      <th>7</th>\n",
       "      <td>8</td>\n",
       "      <td>15656148</td>\n",
       "      <td>Obinna</td>\n",
       "      <td>376</td>\n",
       "      <td>Germany</td>\n",
       "      <td>Female</td>\n",
       "      <td>29</td>\n",
       "      <td>4.0</td>\n",
       "      <td>115046.74</td>\n",
       "      <td>4</td>\n",
       "      <td>1</td>\n",
       "      <td>0</td>\n",
       "      <td>119346.88</td>\n",
       "      <td>1</td>\n",
       "    </tr>\n",
       "    <tr>\n",
       "      <th>8</th>\n",
       "      <td>9</td>\n",
       "      <td>15792365</td>\n",
       "      <td>He</td>\n",
       "      <td>501</td>\n",
       "      <td>France</td>\n",
       "      <td>Male</td>\n",
       "      <td>44</td>\n",
       "      <td>4.0</td>\n",
       "      <td>142051.07</td>\n",
       "      <td>2</td>\n",
       "      <td>0</td>\n",
       "      <td>1</td>\n",
       "      <td>74940.50</td>\n",
       "      <td>0</td>\n",
       "    </tr>\n",
       "    <tr>\n",
       "      <th>9</th>\n",
       "      <td>10</td>\n",
       "      <td>15592389</td>\n",
       "      <td>H?</td>\n",
       "      <td>684</td>\n",
       "      <td>France</td>\n",
       "      <td>Male</td>\n",
       "      <td>27</td>\n",
       "      <td>2.0</td>\n",
       "      <td>134603.88</td>\n",
       "      <td>1</td>\n",
       "      <td>1</td>\n",
       "      <td>1</td>\n",
       "      <td>71725.73</td>\n",
       "      <td>0</td>\n",
       "    </tr>\n",
       "  </tbody>\n",
       "</table>\n",
       "</div>"
      ],
      "text/plain": [
       "   RowNumber  CustomerId   Surname  CreditScore Geography  Gender  Age  \\\n",
       "0          1    15634602  Hargrave          619    France  Female   42   \n",
       "1          2    15647311      Hill          608     Spain  Female   41   \n",
       "2          3    15619304      Onio          502    France  Female   42   \n",
       "3          4    15701354      Boni          699    France  Female   39   \n",
       "4          5    15737888  Mitchell          850     Spain  Female   43   \n",
       "5          6    15574012       Chu          645     Spain    Male   44   \n",
       "6          7    15592531  Bartlett          822    France    Male   50   \n",
       "7          8    15656148    Obinna          376   Germany  Female   29   \n",
       "8          9    15792365        He          501    France    Male   44   \n",
       "9         10    15592389        H?          684    France    Male   27   \n",
       "\n",
       "   Tenure    Balance  NumOfProducts  HasCrCard  IsActiveMember  \\\n",
       "0     2.0       0.00              1          1               1   \n",
       "1     1.0   83807.86              1          0               1   \n",
       "2     8.0  159660.80              3          1               0   \n",
       "3     1.0       0.00              2          0               0   \n",
       "4     2.0  125510.82              1          1               1   \n",
       "5     8.0  113755.78              2          1               0   \n",
       "6     7.0       0.00              2          1               1   \n",
       "7     4.0  115046.74              4          1               0   \n",
       "8     4.0  142051.07              2          0               1   \n",
       "9     2.0  134603.88              1          1               1   \n",
       "\n",
       "   EstimatedSalary  Exited  \n",
       "0        101348.88       1  \n",
       "1        112542.58       0  \n",
       "2        113931.57       1  \n",
       "3         93826.63       0  \n",
       "4         79084.10       0  \n",
       "5        149756.71       1  \n",
       "6         10062.80       0  \n",
       "7        119346.88       1  \n",
       "8         74940.50       0  \n",
       "9         71725.73       0  "
      ]
     },
     "execution_count": 4,
     "metadata": {},
     "output_type": "execute_result"
    }
   ],
   "source": [
    "df.head(10)"
   ]
  },
  {
   "cell_type": "code",
   "execution_count": 5,
   "metadata": {},
   "outputs": [
    {
     "data": {
      "text/plain": [
       "0"
      ]
     },
     "execution_count": 5,
     "metadata": {},
     "output_type": "execute_result"
    }
   ],
   "source": [
    "#проверим наличие явных дубликатов\n",
    "df.duplicated().sum()"
   ]
  },
  {
   "cell_type": "markdown",
   "metadata": {},
   "source": [
    "В результате короткого обзора и оценки данных предпринимаем следующее решение:\n",
    "1. Столбцы 'RowNumber', 'CustomerId', 'Surname' удаляем  - их содержание не влияет на исследование и обучение модели.\n",
    "2. Пропуски в столбце 'Tenure' удаляем. Да, их около 10%, но данные не восстановить, а замена на нули или медианой может повлиять на результат обучения. Признак продолжительности лояльности клиента банку, на мой взгляд важный. Качество важнее количества.\n",
    "3. И, строго соблюдая традиции, приводим регистр названий колонок к строчному и \"змеиному\")"
   ]
  },
  {
   "cell_type": "code",
   "execution_count": 6,
   "metadata": {},
   "outputs": [
    {
     "data": {
      "text/plain": [
       "Index(['CreditScore', 'Geography', 'Gender', 'Age', 'Tenure', 'Balance',\n",
       "       'NumOfProducts', 'HasCrCard', 'IsActiveMember', 'EstimatedSalary',\n",
       "       'Exited'],\n",
       "      dtype='object')"
      ]
     },
     "execution_count": 6,
     "metadata": {},
     "output_type": "execute_result"
    }
   ],
   "source": [
    "#удалим столбцы\n",
    "df = df.drop(['RowNumber', 'CustomerId', 'Surname'], axis=1)\n",
    "#проверим\n",
    "df.columns"
   ]
  },
  {
   "cell_type": "code",
   "execution_count": 7,
   "metadata": {},
   "outputs": [
    {
     "data": {
      "text/plain": [
       "0"
      ]
     },
     "execution_count": 7,
     "metadata": {},
     "output_type": "execute_result"
    }
   ],
   "source": [
    "#удаляем пропуски\n",
    "df = df.dropna(subset=['Tenure'])\n",
    "#проверим\n",
    "df['Tenure'].isnull().sum()"
   ]
  },
  {
   "cell_type": "code",
   "execution_count": 8,
   "metadata": {},
   "outputs": [
    {
     "data": {
      "text/plain": [
       "Index(['credit_score', 'geography', 'gender', 'age', 'tenure', 'balance',\n",
       "       'num_of_products', 'has_cr_card', 'is_active_member',\n",
       "       'estimated_salary', 'exited'],\n",
       "      dtype='object')"
      ]
     },
     "execution_count": 8,
     "metadata": {},
     "output_type": "execute_result"
    }
   ],
   "source": [
    "#приводим названия к строчным\n",
    "df.columns = df.columns.str.lower()\n",
    "#приводим к змеиному регистру\n",
    "df = df.rename(columns={'creditscore':'credit_score',\n",
    "                                  'numofproducts':'num_of_products',\n",
    "                                  'hascrcard':'has_cr_card',\n",
    "                                  'isactivemember':'is_active_member',\n",
    "                                  'estimatedsalary': 'estimated_salary'\n",
    "                                 })\n",
    "#проверяем\n",
    "df.columns"
   ]
  },
  {
   "cell_type": "code",
   "execution_count": 33,
   "metadata": {},
   "outputs": [
    {
     "data": {
      "text/html": [
       "<div>\n",
       "<style scoped>\n",
       "    .dataframe tbody tr th:only-of-type {\n",
       "        vertical-align: middle;\n",
       "    }\n",
       "\n",
       "    .dataframe tbody tr th {\n",
       "        vertical-align: top;\n",
       "    }\n",
       "\n",
       "    .dataframe thead th {\n",
       "        text-align: right;\n",
       "    }\n",
       "</style>\n",
       "<table border=\"1\" class=\"dataframe\">\n",
       "  <thead>\n",
       "    <tr style=\"text-align: right;\">\n",
       "      <th></th>\n",
       "      <th>credit_score</th>\n",
       "      <th>geography</th>\n",
       "      <th>gender</th>\n",
       "      <th>age</th>\n",
       "      <th>tenure</th>\n",
       "      <th>balance</th>\n",
       "      <th>num_of_products</th>\n",
       "      <th>has_cr_card</th>\n",
       "      <th>is_active_member</th>\n",
       "      <th>estimated_salary</th>\n",
       "      <th>exited</th>\n",
       "    </tr>\n",
       "  </thead>\n",
       "  <tbody>\n",
       "    <tr>\n",
       "      <th>0</th>\n",
       "      <td>619</td>\n",
       "      <td>France</td>\n",
       "      <td>Female</td>\n",
       "      <td>42</td>\n",
       "      <td>2.0</td>\n",
       "      <td>0.00</td>\n",
       "      <td>1</td>\n",
       "      <td>1</td>\n",
       "      <td>1</td>\n",
       "      <td>101348.88</td>\n",
       "      <td>1</td>\n",
       "    </tr>\n",
       "    <tr>\n",
       "      <th>1</th>\n",
       "      <td>608</td>\n",
       "      <td>Spain</td>\n",
       "      <td>Female</td>\n",
       "      <td>41</td>\n",
       "      <td>1.0</td>\n",
       "      <td>83807.86</td>\n",
       "      <td>1</td>\n",
       "      <td>0</td>\n",
       "      <td>1</td>\n",
       "      <td>112542.58</td>\n",
       "      <td>0</td>\n",
       "    </tr>\n",
       "    <tr>\n",
       "      <th>2</th>\n",
       "      <td>502</td>\n",
       "      <td>France</td>\n",
       "      <td>Female</td>\n",
       "      <td>42</td>\n",
       "      <td>8.0</td>\n",
       "      <td>159660.80</td>\n",
       "      <td>3</td>\n",
       "      <td>1</td>\n",
       "      <td>0</td>\n",
       "      <td>113931.57</td>\n",
       "      <td>1</td>\n",
       "    </tr>\n",
       "    <tr>\n",
       "      <th>3</th>\n",
       "      <td>699</td>\n",
       "      <td>France</td>\n",
       "      <td>Female</td>\n",
       "      <td>39</td>\n",
       "      <td>1.0</td>\n",
       "      <td>0.00</td>\n",
       "      <td>2</td>\n",
       "      <td>0</td>\n",
       "      <td>0</td>\n",
       "      <td>93826.63</td>\n",
       "      <td>0</td>\n",
       "    </tr>\n",
       "    <tr>\n",
       "      <th>4</th>\n",
       "      <td>850</td>\n",
       "      <td>Spain</td>\n",
       "      <td>Female</td>\n",
       "      <td>43</td>\n",
       "      <td>2.0</td>\n",
       "      <td>125510.82</td>\n",
       "      <td>1</td>\n",
       "      <td>1</td>\n",
       "      <td>1</td>\n",
       "      <td>79084.10</td>\n",
       "      <td>0</td>\n",
       "    </tr>\n",
       "  </tbody>\n",
       "</table>\n",
       "</div>"
      ],
      "text/plain": [
       "   credit_score geography  gender  age  tenure    balance  num_of_products  \\\n",
       "0           619    France  Female   42     2.0       0.00                1   \n",
       "1           608     Spain  Female   41     1.0   83807.86                1   \n",
       "2           502    France  Female   42     8.0  159660.80                3   \n",
       "3           699    France  Female   39     1.0       0.00                2   \n",
       "4           850     Spain  Female   43     2.0  125510.82                1   \n",
       "\n",
       "   has_cr_card  is_active_member  estimated_salary  exited  \n",
       "0            1                 1         101348.88       1  \n",
       "1            0                 1         112542.58       0  \n",
       "2            1                 0         113931.57       1  \n",
       "3            0                 0          93826.63       0  \n",
       "4            1                 1          79084.10       0  "
      ]
     },
     "execution_count": 33,
     "metadata": {},
     "output_type": "execute_result"
    }
   ],
   "source": [
    "#сейчас все ок\n",
    "df.head()"
   ]
  },
  {
   "cell_type": "code",
   "execution_count": 10,
   "metadata": {},
   "outputs": [
    {
     "data": {
      "text/plain": [
       "0    0.796062\n",
       "1    0.203938\n",
       "Name: exited, dtype: float64"
      ]
     },
     "execution_count": 10,
     "metadata": {},
     "output_type": "execute_result"
    }
   ],
   "source": [
    "#посмотрим на распределение классов в целевом признаке\n",
    "df['exited'].value_counts(normalize=True)"
   ]
  },
  {
   "cell_type": "markdown",
   "metadata": {},
   "source": [
    "Около 20% клиентов уходят из банка. Приличное количество, но нам надо работать с прогнозированием оттока лояльных клиентов. Долю объектов положительного класса скорее всего надо будет увеличивать."
   ]
  },
  {
   "cell_type": "code",
   "execution_count": 11,
   "metadata": {},
   "outputs": [
    {
     "data": {
      "text/html": [
       "<div>\n",
       "<style scoped>\n",
       "    .dataframe tbody tr th:only-of-type {\n",
       "        vertical-align: middle;\n",
       "    }\n",
       "\n",
       "    .dataframe tbody tr th {\n",
       "        vertical-align: top;\n",
       "    }\n",
       "\n",
       "    .dataframe thead th {\n",
       "        text-align: right;\n",
       "    }\n",
       "</style>\n",
       "<table border=\"1\" class=\"dataframe\">\n",
       "  <thead>\n",
       "    <tr style=\"text-align: right;\">\n",
       "      <th></th>\n",
       "      <th>credit_score</th>\n",
       "      <th>age</th>\n",
       "      <th>tenure</th>\n",
       "      <th>balance</th>\n",
       "      <th>num_of_products</th>\n",
       "      <th>has_cr_card</th>\n",
       "      <th>is_active_member</th>\n",
       "      <th>estimated_salary</th>\n",
       "      <th>exited</th>\n",
       "    </tr>\n",
       "  </thead>\n",
       "  <tbody>\n",
       "    <tr>\n",
       "      <th>credit_score</th>\n",
       "      <td>1.000000</td>\n",
       "      <td>-0.004504</td>\n",
       "      <td>-0.000062</td>\n",
       "      <td>0.002804</td>\n",
       "      <td>0.011090</td>\n",
       "      <td>-0.003937</td>\n",
       "      <td>0.030947</td>\n",
       "      <td>0.005182</td>\n",
       "      <td>-0.023950</td>\n",
       "    </tr>\n",
       "    <tr>\n",
       "      <th>age</th>\n",
       "      <td>-0.004504</td>\n",
       "      <td>1.000000</td>\n",
       "      <td>-0.013134</td>\n",
       "      <td>0.031481</td>\n",
       "      <td>-0.031877</td>\n",
       "      <td>-0.014129</td>\n",
       "      <td>0.082269</td>\n",
       "      <td>-0.007037</td>\n",
       "      <td>0.283017</td>\n",
       "    </tr>\n",
       "    <tr>\n",
       "      <th>tenure</th>\n",
       "      <td>-0.000062</td>\n",
       "      <td>-0.013134</td>\n",
       "      <td>1.000000</td>\n",
       "      <td>-0.007911</td>\n",
       "      <td>0.011979</td>\n",
       "      <td>0.027232</td>\n",
       "      <td>-0.032178</td>\n",
       "      <td>0.010520</td>\n",
       "      <td>-0.016761</td>\n",
       "    </tr>\n",
       "    <tr>\n",
       "      <th>balance</th>\n",
       "      <td>0.002804</td>\n",
       "      <td>0.031481</td>\n",
       "      <td>-0.007911</td>\n",
       "      <td>1.000000</td>\n",
       "      <td>-0.301858</td>\n",
       "      <td>-0.019055</td>\n",
       "      <td>-0.003285</td>\n",
       "      <td>0.014351</td>\n",
       "      <td>0.117218</td>\n",
       "    </tr>\n",
       "    <tr>\n",
       "      <th>num_of_products</th>\n",
       "      <td>0.011090</td>\n",
       "      <td>-0.031877</td>\n",
       "      <td>0.011979</td>\n",
       "      <td>-0.301858</td>\n",
       "      <td>1.000000</td>\n",
       "      <td>0.005805</td>\n",
       "      <td>0.009084</td>\n",
       "      <td>0.013990</td>\n",
       "      <td>-0.050271</td>\n",
       "    </tr>\n",
       "    <tr>\n",
       "      <th>has_cr_card</th>\n",
       "      <td>-0.003937</td>\n",
       "      <td>-0.014129</td>\n",
       "      <td>0.027232</td>\n",
       "      <td>-0.019055</td>\n",
       "      <td>0.005805</td>\n",
       "      <td>1.000000</td>\n",
       "      <td>-0.008810</td>\n",
       "      <td>-0.006136</td>\n",
       "      <td>-0.005411</td>\n",
       "    </tr>\n",
       "    <tr>\n",
       "      <th>is_active_member</th>\n",
       "      <td>0.030947</td>\n",
       "      <td>0.082269</td>\n",
       "      <td>-0.032178</td>\n",
       "      <td>-0.003285</td>\n",
       "      <td>0.009084</td>\n",
       "      <td>-0.008810</td>\n",
       "      <td>1.000000</td>\n",
       "      <td>-0.020049</td>\n",
       "      <td>-0.155062</td>\n",
       "    </tr>\n",
       "    <tr>\n",
       "      <th>estimated_salary</th>\n",
       "      <td>0.005182</td>\n",
       "      <td>-0.007037</td>\n",
       "      <td>0.010520</td>\n",
       "      <td>0.014351</td>\n",
       "      <td>0.013990</td>\n",
       "      <td>-0.006136</td>\n",
       "      <td>-0.020049</td>\n",
       "      <td>1.000000</td>\n",
       "      <td>0.016029</td>\n",
       "    </tr>\n",
       "    <tr>\n",
       "      <th>exited</th>\n",
       "      <td>-0.023950</td>\n",
       "      <td>0.283017</td>\n",
       "      <td>-0.016761</td>\n",
       "      <td>0.117218</td>\n",
       "      <td>-0.050271</td>\n",
       "      <td>-0.005411</td>\n",
       "      <td>-0.155062</td>\n",
       "      <td>0.016029</td>\n",
       "      <td>1.000000</td>\n",
       "    </tr>\n",
       "  </tbody>\n",
       "</table>\n",
       "</div>"
      ],
      "text/plain": [
       "                  credit_score       age    tenure   balance  num_of_products  \\\n",
       "credit_score          1.000000 -0.004504 -0.000062  0.002804         0.011090   \n",
       "age                  -0.004504  1.000000 -0.013134  0.031481        -0.031877   \n",
       "tenure               -0.000062 -0.013134  1.000000 -0.007911         0.011979   \n",
       "balance               0.002804  0.031481 -0.007911  1.000000        -0.301858   \n",
       "num_of_products       0.011090 -0.031877  0.011979 -0.301858         1.000000   \n",
       "has_cr_card          -0.003937 -0.014129  0.027232 -0.019055         0.005805   \n",
       "is_active_member      0.030947  0.082269 -0.032178 -0.003285         0.009084   \n",
       "estimated_salary      0.005182 -0.007037  0.010520  0.014351         0.013990   \n",
       "exited               -0.023950  0.283017 -0.016761  0.117218        -0.050271   \n",
       "\n",
       "                  has_cr_card  is_active_member  estimated_salary    exited  \n",
       "credit_score        -0.003937          0.030947          0.005182 -0.023950  \n",
       "age                 -0.014129          0.082269         -0.007037  0.283017  \n",
       "tenure               0.027232         -0.032178          0.010520 -0.016761  \n",
       "balance             -0.019055         -0.003285          0.014351  0.117218  \n",
       "num_of_products      0.005805          0.009084          0.013990 -0.050271  \n",
       "has_cr_card          1.000000         -0.008810         -0.006136 -0.005411  \n",
       "is_active_member    -0.008810          1.000000         -0.020049 -0.155062  \n",
       "estimated_salary    -0.006136         -0.020049          1.000000  0.016029  \n",
       "exited              -0.005411         -0.155062          0.016029  1.000000  "
      ]
     },
     "execution_count": 11,
     "metadata": {},
     "output_type": "execute_result"
    }
   ],
   "source": [
    "#оценим данные на мультиколлинеарность\n",
    "df.corr()"
   ]
  },
  {
   "cell_type": "markdown",
   "metadata": {},
   "source": [
    "Корреляция с целевым признаком очень слабая, ее почти нет. Зависимость в данных вероятно сложнее."
   ]
  },
  {
   "cell_type": "code",
   "execution_count": 35,
   "metadata": {},
   "outputs": [
    {
     "data": {
      "text/html": [
       "<div>\n",
       "<style scoped>\n",
       "    .dataframe tbody tr th:only-of-type {\n",
       "        vertical-align: middle;\n",
       "    }\n",
       "\n",
       "    .dataframe tbody tr th {\n",
       "        vertical-align: top;\n",
       "    }\n",
       "\n",
       "    .dataframe thead th {\n",
       "        text-align: right;\n",
       "    }\n",
       "</style>\n",
       "<table border=\"1\" class=\"dataframe\">\n",
       "  <thead>\n",
       "    <tr style=\"text-align: right;\">\n",
       "      <th></th>\n",
       "      <th>credit_score</th>\n",
       "      <th>age</th>\n",
       "      <th>tenure</th>\n",
       "      <th>balance</th>\n",
       "      <th>num_of_products</th>\n",
       "      <th>has_cr_card</th>\n",
       "      <th>is_active_member</th>\n",
       "      <th>estimated_salary</th>\n",
       "      <th>exited</th>\n",
       "    </tr>\n",
       "  </thead>\n",
       "  <tbody>\n",
       "    <tr>\n",
       "      <th>count</th>\n",
       "      <td>9091.000000</td>\n",
       "      <td>9091.000000</td>\n",
       "      <td>9091.000000</td>\n",
       "      <td>9091.000000</td>\n",
       "      <td>9091.000000</td>\n",
       "      <td>9091.000000</td>\n",
       "      <td>9091.000000</td>\n",
       "      <td>9091.000000</td>\n",
       "      <td>9091.000000</td>\n",
       "    </tr>\n",
       "    <tr>\n",
       "      <th>mean</th>\n",
       "      <td>650.736553</td>\n",
       "      <td>38.949181</td>\n",
       "      <td>4.997690</td>\n",
       "      <td>76522.740015</td>\n",
       "      <td>1.530195</td>\n",
       "      <td>0.704983</td>\n",
       "      <td>0.515565</td>\n",
       "      <td>100181.214924</td>\n",
       "      <td>0.203938</td>\n",
       "    </tr>\n",
       "    <tr>\n",
       "      <th>std</th>\n",
       "      <td>96.410471</td>\n",
       "      <td>10.555581</td>\n",
       "      <td>2.894723</td>\n",
       "      <td>62329.528576</td>\n",
       "      <td>0.581003</td>\n",
       "      <td>0.456076</td>\n",
       "      <td>0.499785</td>\n",
       "      <td>57624.755647</td>\n",
       "      <td>0.402946</td>\n",
       "    </tr>\n",
       "    <tr>\n",
       "      <th>min</th>\n",
       "      <td>350.000000</td>\n",
       "      <td>18.000000</td>\n",
       "      <td>0.000000</td>\n",
       "      <td>0.000000</td>\n",
       "      <td>1.000000</td>\n",
       "      <td>0.000000</td>\n",
       "      <td>0.000000</td>\n",
       "      <td>11.580000</td>\n",
       "      <td>0.000000</td>\n",
       "    </tr>\n",
       "    <tr>\n",
       "      <th>25%</th>\n",
       "      <td>584.000000</td>\n",
       "      <td>32.000000</td>\n",
       "      <td>2.000000</td>\n",
       "      <td>0.000000</td>\n",
       "      <td>1.000000</td>\n",
       "      <td>0.000000</td>\n",
       "      <td>0.000000</td>\n",
       "      <td>51227.745000</td>\n",
       "      <td>0.000000</td>\n",
       "    </tr>\n",
       "    <tr>\n",
       "      <th>50%</th>\n",
       "      <td>652.000000</td>\n",
       "      <td>37.000000</td>\n",
       "      <td>5.000000</td>\n",
       "      <td>97318.250000</td>\n",
       "      <td>1.000000</td>\n",
       "      <td>1.000000</td>\n",
       "      <td>1.000000</td>\n",
       "      <td>100240.200000</td>\n",
       "      <td>0.000000</td>\n",
       "    </tr>\n",
       "    <tr>\n",
       "      <th>75%</th>\n",
       "      <td>717.000000</td>\n",
       "      <td>44.000000</td>\n",
       "      <td>7.000000</td>\n",
       "      <td>127561.890000</td>\n",
       "      <td>2.000000</td>\n",
       "      <td>1.000000</td>\n",
       "      <td>1.000000</td>\n",
       "      <td>149567.210000</td>\n",
       "      <td>0.000000</td>\n",
       "    </tr>\n",
       "    <tr>\n",
       "      <th>max</th>\n",
       "      <td>850.000000</td>\n",
       "      <td>92.000000</td>\n",
       "      <td>10.000000</td>\n",
       "      <td>250898.090000</td>\n",
       "      <td>4.000000</td>\n",
       "      <td>1.000000</td>\n",
       "      <td>1.000000</td>\n",
       "      <td>199992.480000</td>\n",
       "      <td>1.000000</td>\n",
       "    </tr>\n",
       "  </tbody>\n",
       "</table>\n",
       "</div>"
      ],
      "text/plain": [
       "       credit_score          age       tenure        balance  num_of_products  \\\n",
       "count   9091.000000  9091.000000  9091.000000    9091.000000      9091.000000   \n",
       "mean     650.736553    38.949181     4.997690   76522.740015         1.530195   \n",
       "std       96.410471    10.555581     2.894723   62329.528576         0.581003   \n",
       "min      350.000000    18.000000     0.000000       0.000000         1.000000   \n",
       "25%      584.000000    32.000000     2.000000       0.000000         1.000000   \n",
       "50%      652.000000    37.000000     5.000000   97318.250000         1.000000   \n",
       "75%      717.000000    44.000000     7.000000  127561.890000         2.000000   \n",
       "max      850.000000    92.000000    10.000000  250898.090000         4.000000   \n",
       "\n",
       "       has_cr_card  is_active_member  estimated_salary       exited  \n",
       "count  9091.000000       9091.000000       9091.000000  9091.000000  \n",
       "mean      0.704983          0.515565     100181.214924     0.203938  \n",
       "std       0.456076          0.499785      57624.755647     0.402946  \n",
       "min       0.000000          0.000000         11.580000     0.000000  \n",
       "25%       0.000000          0.000000      51227.745000     0.000000  \n",
       "50%       1.000000          1.000000     100240.200000     0.000000  \n",
       "75%       1.000000          1.000000     149567.210000     0.000000  \n",
       "max       1.000000          1.000000     199992.480000     1.000000  "
      ]
     },
     "execution_count": 35,
     "metadata": {},
     "output_type": "execute_result"
    }
   ],
   "source": [
    "#смотрим на распределение количественных данных\n",
    "df.describe()"
   ]
  },
  {
   "cell_type": "markdown",
   "metadata": {},
   "source": [
    "Выбросов в данных нет. Max и Min значения вполне адекватны."
   ]
  },
  {
   "cell_type": "markdown",
   "metadata": {},
   "source": [
    "Типы данных в для исследования нам нужны количественные, все признаки ок, кроме 'gender' и 'geography'.\n",
    "       "
   ]
  },
  {
   "cell_type": "code",
   "execution_count": 13,
   "metadata": {},
   "outputs": [
    {
     "data": {
      "text/html": [
       "<div>\n",
       "<style scoped>\n",
       "    .dataframe tbody tr th:only-of-type {\n",
       "        vertical-align: middle;\n",
       "    }\n",
       "\n",
       "    .dataframe tbody tr th {\n",
       "        vertical-align: top;\n",
       "    }\n",
       "\n",
       "    .dataframe thead th {\n",
       "        text-align: right;\n",
       "    }\n",
       "</style>\n",
       "<table border=\"1\" class=\"dataframe\">\n",
       "  <thead>\n",
       "    <tr style=\"text-align: right;\">\n",
       "      <th></th>\n",
       "      <th>credit_score</th>\n",
       "      <th>age</th>\n",
       "      <th>tenure</th>\n",
       "      <th>balance</th>\n",
       "      <th>num_of_products</th>\n",
       "      <th>has_cr_card</th>\n",
       "      <th>is_active_member</th>\n",
       "      <th>estimated_salary</th>\n",
       "      <th>exited</th>\n",
       "      <th>gender_Male</th>\n",
       "      <th>geography_Germany</th>\n",
       "      <th>geography_Spain</th>\n",
       "    </tr>\n",
       "  </thead>\n",
       "  <tbody>\n",
       "    <tr>\n",
       "      <th>0</th>\n",
       "      <td>619</td>\n",
       "      <td>42</td>\n",
       "      <td>2.0</td>\n",
       "      <td>0.00</td>\n",
       "      <td>1</td>\n",
       "      <td>1</td>\n",
       "      <td>1</td>\n",
       "      <td>101348.88</td>\n",
       "      <td>1</td>\n",
       "      <td>0</td>\n",
       "      <td>0</td>\n",
       "      <td>0</td>\n",
       "    </tr>\n",
       "    <tr>\n",
       "      <th>1</th>\n",
       "      <td>608</td>\n",
       "      <td>41</td>\n",
       "      <td>1.0</td>\n",
       "      <td>83807.86</td>\n",
       "      <td>1</td>\n",
       "      <td>0</td>\n",
       "      <td>1</td>\n",
       "      <td>112542.58</td>\n",
       "      <td>0</td>\n",
       "      <td>0</td>\n",
       "      <td>0</td>\n",
       "      <td>1</td>\n",
       "    </tr>\n",
       "    <tr>\n",
       "      <th>2</th>\n",
       "      <td>502</td>\n",
       "      <td>42</td>\n",
       "      <td>8.0</td>\n",
       "      <td>159660.80</td>\n",
       "      <td>3</td>\n",
       "      <td>1</td>\n",
       "      <td>0</td>\n",
       "      <td>113931.57</td>\n",
       "      <td>1</td>\n",
       "      <td>0</td>\n",
       "      <td>0</td>\n",
       "      <td>0</td>\n",
       "    </tr>\n",
       "    <tr>\n",
       "      <th>3</th>\n",
       "      <td>699</td>\n",
       "      <td>39</td>\n",
       "      <td>1.0</td>\n",
       "      <td>0.00</td>\n",
       "      <td>2</td>\n",
       "      <td>0</td>\n",
       "      <td>0</td>\n",
       "      <td>93826.63</td>\n",
       "      <td>0</td>\n",
       "      <td>0</td>\n",
       "      <td>0</td>\n",
       "      <td>0</td>\n",
       "    </tr>\n",
       "    <tr>\n",
       "      <th>4</th>\n",
       "      <td>850</td>\n",
       "      <td>43</td>\n",
       "      <td>2.0</td>\n",
       "      <td>125510.82</td>\n",
       "      <td>1</td>\n",
       "      <td>1</td>\n",
       "      <td>1</td>\n",
       "      <td>79084.10</td>\n",
       "      <td>0</td>\n",
       "      <td>0</td>\n",
       "      <td>0</td>\n",
       "      <td>1</td>\n",
       "    </tr>\n",
       "  </tbody>\n",
       "</table>\n",
       "</div>"
      ],
      "text/plain": [
       "   credit_score  age  tenure    balance  num_of_products  has_cr_card  \\\n",
       "0           619   42     2.0       0.00                1            1   \n",
       "1           608   41     1.0   83807.86                1            0   \n",
       "2           502   42     8.0  159660.80                3            1   \n",
       "3           699   39     1.0       0.00                2            0   \n",
       "4           850   43     2.0  125510.82                1            1   \n",
       "\n",
       "   is_active_member  estimated_salary  exited  gender_Male  geography_Germany  \\\n",
       "0                 1         101348.88       1            0                  0   \n",
       "1                 1         112542.58       0            0                  0   \n",
       "2                 0         113931.57       1            0                  0   \n",
       "3                 0          93826.63       0            0                  0   \n",
       "4                 1          79084.10       0            0                  0   \n",
       "\n",
       "   geography_Spain  \n",
       "0                0  \n",
       "1                1  \n",
       "2                0  \n",
       "3                0  \n",
       "4                1  "
      ]
     },
     "execution_count": 13,
     "metadata": {},
     "output_type": "execute_result"
    }
   ],
   "source": [
    "#преобразуем категориальные признаки в численные прямым кодированием\n",
    "df_ohe = pd.get_dummies(df, columns = ['gender', 'geography'], drop_first=True)\n",
    "#проверим\n",
    "df_ohe.head()"
   ]
  },
  {
   "cell_type": "markdown",
   "metadata": {},
   "source": [
    "Вывод часть 1. \n",
    "Мы провели подготовку данных для исследования. Были удалены колонки, содержание которых не влияет на исследование и тестирование будущей модели. Удалили пропуски в 'tenure'. Названия признаков приведены к нижнему регистру и 'змеиному' стилю. Было установлено, что явных дубликатов и выбросов в данных нет. Корреляция данных с целевым признаком очень слабая, возможно зависимость гораздо сложнее. Также преобразовали категориальные признаки в количественные. Переходим к исследованию задачи."
   ]
  },
  {
   "cell_type": "markdown",
   "metadata": {},
   "source": [
    "## Исследование задачи"
   ]
  },
  {
   "cell_type": "code",
   "execution_count": 14,
   "metadata": {},
   "outputs": [
    {
     "name": "stdout",
     "output_type": "stream",
     "text": [
      "(5454, 11)\n",
      "(1819, 11)\n",
      "(5454,)\n",
      "(1819,)\n",
      "(1818, 11)\n",
      "(1818,)\n"
     ]
    }
   ],
   "source": [
    "#объявим переменные для признаков и целевого признака\n",
    "features = df_ohe.drop(['exited'], axis=1)\n",
    "target = df_ohe['exited']\n",
    "\n",
    "#разделим сет на обучающую и валидационную выборки в соотношении 60/40\n",
    "features_train, features_valid, target_train, target_valid = train_test_split(features,\n",
    "                                                                              target, test_size=0.4,\n",
    "                                                                              random_state=12345)\n",
    "\n",
    "#разделим валидационную выборку на валидационную и тестовую в соотношении 20/20\n",
    "features_test, features_valid, target_test, target_valid = train_test_split(features_valid,\n",
    "                                                                            target_valid, test_size=0.5,\n",
    "                                                                            random_state=12345)\n",
    "\n",
    "#проверим размеры\n",
    "for i in [features_train, features_valid, target_train, target_valid, features_test, target_test]:\n",
    "    print(i.shape)"
   ]
  },
  {
   "cell_type": "markdown",
   "metadata": {},
   "source": [
    "Проведем обучение моделей без учета дисбаланса"
   ]
  },
  {
   "cell_type": "code",
   "execution_count": 15,
   "metadata": {},
   "outputs": [
    {
     "name": "stdout",
     "output_type": "stream",
     "text": [
      "F1 для дерева решений = 0.5559322033898305\n",
      "Максимальная глубина = 7\n",
      "AUC-ROC = 0.8305629303585707\n"
     ]
    }
   ],
   "source": [
    "#DecisionTreeClassifier\n",
    "best_f1_dtc = 0\n",
    "best_depth_dtc = 0\n",
    "best_auc_roc = 0\n",
    "for depth in range(1, 15):\n",
    "    dtc = DecisionTreeClassifier(random_state=12345, max_depth=depth)\n",
    "    dtc.fit(features_train, target_train)\n",
    "    predicted_valid_dtc = dtc.predict(features_valid)\n",
    "    f1_dtc = f1_score(target_valid, predicted_valid_dtc)\n",
    "    auc_roc_dtc = roc_auc_score(target_valid, dtc.predict_proba(features_valid)[:, 1])\n",
    "    if f1_dtc > best_f1_dtc:\n",
    "        best_f1_dtc = f1_dtc\n",
    "        best_depth_dtc = depth\n",
    "        best_auc_roc = auc_roc_dtc\n",
    "        \n",
    "print('F1 для дерева решений =', best_f1_dtc)\n",
    "print('Максимальная глубина =', best_depth_dtc)\n",
    "print('AUC-ROC =', best_auc_roc)"
   ]
  },
  {
   "cell_type": "code",
   "execution_count": 16,
   "metadata": {},
   "outputs": [
    {
     "name": "stdout",
     "output_type": "stream",
     "text": [
      "F1 для случайного леса = 0.5595667870036101\n",
      "Максимальная глубина = 9\n",
      "Число деревьев = 13\n",
      "AUC-ROC = 0.8476433622891388\n"
     ]
    }
   ],
   "source": [
    "#RandomForestClassifier\n",
    "best_f1_rfc = 0\n",
    "best_depth_rfc = 0\n",
    "best_est_rfc = 0\n",
    "best_roc_auc_score_rfc = 0\n",
    "for depth in range(1, 10):\n",
    "    for est in range(1, 100):\n",
    "        rfc = RandomForestClassifier(random_state=12345, n_estimators=est, max_depth=depth)\n",
    "        rfc.fit(features_train, target_train)\n",
    "        predicted_valid_rfc = rfc.predict(features_valid)\n",
    "        f1_rfc = f1_score(target_valid, predicted_valid_rfc)\n",
    "        roc_auc_score_rfc = roc_auc_score(target_valid, rfc.predict_proba(features_valid)[:,1])\n",
    "        if f1_rfc > best_f1_rfc:\n",
    "            best_f1_rfc = f1_rfc\n",
    "            best_depth_rfc = depth\n",
    "            best_est_rfc = est\n",
    "            best_roc_auc_score_rfc = roc_auc_score_rfc\n",
    "            \n",
    "print('F1 для случайного леса =', best_f1_rfc)\n",
    "print('Максимальная глубина =', best_depth_rfc)\n",
    "print('Число деревьев =', best_est_rfc)\n",
    "print('AUC-ROC =', best_roc_auc_score_rfc)"
   ]
  },
  {
   "cell_type": "markdown",
   "metadata": {},
   "source": [
    "Вывод часть 2. Похожие значения F1-меры наблюдаются в моделях DecisionTreeClassifier, RandomForestClassifier - 0.5559 и 0.5596 соответственно. Результат AUC-ROC - 0.8306 и 0.8476 соответственно. Поскольку разница небольшая бороться с дисбалансом назначены обе модели. "
   ]
  },
  {
   "cell_type": "markdown",
   "metadata": {},
   "source": [
    "## Борьба с дисбалансом"
   ]
  },
  {
   "cell_type": "markdown",
   "metadata": {},
   "source": [
    "Метод Upsample"
   ]
  },
  {
   "cell_type": "code",
   "execution_count": 25,
   "metadata": {},
   "outputs": [
    {
     "name": "stdout",
     "output_type": "stream",
     "text": [
      "Для дерева решений на увеличенной выборке F1 = 0.5400192864030857\n",
      "AUC-ROC = 0.8285300076853208\n"
     ]
    }
   ],
   "source": [
    "#увеличим число наблюдений положительного класса:\n",
    "def upsample(features, target, repeat):\n",
    "    features_zeros = features[target == 0]\n",
    "    features_ones = features[target == 1]\n",
    "    target_zeros = target[target == 0]\n",
    "    target_ones = target[target == 1]\n",
    "    \n",
    "    features_upsampled = pd.concat([features_zeros] + [features_ones] * repeat)\n",
    "    target_upsampled = pd.concat([target_zeros] + [target_ones] * repeat)\n",
    "    features_upsampled, target_upsampled = shuffle(features_upsampled,\\\n",
    "                                                   target_upsampled, random_state=12345)\n",
    "    return features_upsampled, target_upsampled\n",
    "\n",
    "features_upsampled, target_upsampled = upsample(features_train, target_train, 4)\n",
    "\n",
    "#для DecisionTreeClassifier\n",
    "model = DecisionTreeClassifier(random_state=12345, max_depth=7)\n",
    "model.fit(features_upsampled, target_upsampled) \n",
    "predicted_valid = model.predict(features_valid)\n",
    "\n",
    "print('Для дерева решений на увеличенной выборке F1 =', f1_score(target_valid, predicted_valid))\n",
    "print('AUC-ROC =', roc_auc_score(target_valid, model.predict_proba(features_valid)[:,1]))"
   ]
  },
  {
   "cell_type": "code",
   "execution_count": 26,
   "metadata": {},
   "outputs": [
    {
     "name": "stdout",
     "output_type": "stream",
     "text": [
      "Для случайного леса на увеличенной выборке F1 = 0.5787631271878647\n",
      "AUC-ROC = 0.8493356855073475\n"
     ]
    }
   ],
   "source": [
    "#для RandomForestClassifier\n",
    "model = RandomForestClassifier(random_state=12345, n_estimators=13, max_depth=9)\n",
    "model.fit(features_upsampled, target_upsampled) \n",
    "predicted_valid = model.predict(features_valid)\n",
    "\n",
    "print('Для случайного леса на увеличенной выборке F1 =', f1_score(target_valid, predicted_valid))\n",
    "print('AUC-ROC =', roc_auc_score(target_valid, model.predict_proba(features_valid)[:,1]))"
   ]
  },
  {
   "cell_type": "markdown",
   "metadata": {},
   "source": [
    "Метод Downsample"
   ]
  },
  {
   "cell_type": "code",
   "execution_count": 27,
   "metadata": {},
   "outputs": [
    {
     "name": "stdout",
     "output_type": "stream",
     "text": [
      "Для дерева решений на увеличенной выборке F1 = 0.5490584737363726\n",
      "AUC-ROC = 0.8279749567215509\n"
     ]
    }
   ],
   "source": [
    "#уменьшим число наблюдений отрицательного класса:\n",
    "def downsample(features, target, fraction):\n",
    "    features_zeros = features[target == 0]\n",
    "    features_ones = features[target == 1]\n",
    "    target_zeros = target[target == 0]\n",
    "    target_ones = target[target == 1]\n",
    "\n",
    "    features_downsampled = pd.concat([features_zeros.sample(frac=fraction, random_state=12345)]\\\n",
    "                                     + [features_ones])\n",
    "    target_downsampled = pd.concat([target_zeros.sample(frac=fraction, random_state=12345)]\\\n",
    "                                   + [target_ones])\n",
    "    \n",
    "    features_downsampled, target_downsampled = shuffle(features_downsampled,\\\n",
    "                                                       target_downsampled, random_state=12345)\n",
    "    \n",
    "    return features_downsampled, target_downsampled\n",
    "\n",
    "features_downsampled, target_downsampled = downsample(features_train, target_train, 0.25)\n",
    "\n",
    "#для DecisionTreeClassifier\n",
    "model = DecisionTreeClassifier(random_state=12345, max_depth=7)\n",
    "model.fit(features_downsampled, target_downsampled) \n",
    "predicted_valid = model.predict(features_valid)\n",
    "\n",
    "print('Для дерева решений на увеличенной выборке F1 =', f1_score(target_valid, predicted_valid))\n",
    "print('AUC-ROC =', roc_auc_score(target_valid, model.predict_proba(features_valid)[:,1]))"
   ]
  },
  {
   "cell_type": "code",
   "execution_count": 28,
   "metadata": {},
   "outputs": [
    {
     "name": "stdout",
     "output_type": "stream",
     "text": [
      "Для случайного леса на увеличенной выборке F1 = 0.5665601703940363\n",
      "AUC-ROC = 0.8457899578471786\n"
     ]
    }
   ],
   "source": [
    "#для RandomForestClassifier\n",
    "model = RandomForestClassifier(random_state=12345, n_estimators=13, max_depth=9)\n",
    "model.fit(features_downsampled, target_downsampled) \n",
    "predicted_valid = model.predict(features_valid)\n",
    "\n",
    "print('Для случайного леса на увеличенной выборке F1 =', f1_score(target_valid, predicted_valid))\n",
    "print('AUC-ROC =', roc_auc_score(target_valid, model.predict_proba(features_valid)[:,1]))"
   ]
  },
  {
   "cell_type": "markdown",
   "metadata": {},
   "source": [
    "Вывод часть 3. Выбираем модель RandomForestClassifier с показателями F1 - 0.5788 и AUC-ROC - 0.8493. Мы довели метрику F1 до заданного значения методом Upsample. При использовании метода Downsample (уменьшение выборки отрицательных классов) показатели метрик F1 и AUC-ROC меньше.\n",
    "Переходим к тестированию."
   ]
  },
  {
   "cell_type": "markdown",
   "metadata": {},
   "source": [
    "## Тестирование модели"
   ]
  },
  {
   "cell_type": "code",
   "execution_count": 21,
   "metadata": {},
   "outputs": [],
   "source": [
    "#объединим для обучения данные train и valid:\n",
    "features_train_valid = pd.concat([features_train] + [features_valid])\n",
    "target_train_valid = pd.concat([target_train] + [target_valid]) "
   ]
  },
  {
   "cell_type": "code",
   "execution_count": 22,
   "metadata": {},
   "outputs": [],
   "source": [
    "#метод upsampling применим к объединенной выборке:\n",
    "features_upsampled, target_upsampled = upsample(features_train_valid, target_train_valid, 4)"
   ]
  },
  {
   "cell_type": "code",
   "execution_count": 32,
   "metadata": {},
   "outputs": [
    {
     "name": "stdout",
     "output_type": "stream",
     "text": [
      "F1 = 0.6233480176211453\n",
      "AUC-ROC = 0.8584795041757399\n"
     ]
    }
   ],
   "source": [
    "#тестируем RandomForestClassifier:\n",
    "model_rfc_test = RandomForestClassifier(random_state=12345, n_estimators=13, max_depth=9)\n",
    "model_rfc_test.fit(features_upsampled, target_upsampled)\n",
    "predictions_rfc_test = model_rfc_test.predict(features_test)\n",
    "\n",
    "print('F1 =', f1_score(target_test, predictions_rfc_test))\n",
    "print('AUC-ROC =', roc_auc_score(target_test, model_rfc_test.predict_proba(features_test)[:,1]))"
   ]
  },
  {
   "cell_type": "markdown",
   "metadata": {},
   "source": [
    "Вывод часть 4.\n",
    "Проверка на тестовой выборке подтвердила, что метод Upsampling помог справиться с дисбалансом классов, показатели увеличились до F1 = 0.6233, AUC-ROC = 0.8485"
   ]
  },
  {
   "cell_type": "markdown",
   "metadata": {},
   "source": [
    "Общий вывод. В датасете содержались данные о клиентах банка с определенными признаками и целевым признаком 'exited'.  Мы подготовили данные к исследованию. Удалили признаки не влияющие на обучение и пропуски значений. Привели названия к нижнему регистру и изменили тип данных, где это требовалось, на мой взгляд. Оценили корреляцию признаков и выявили дисбаланс данных в целевом признаке.\n",
    "При исследовании и обучении моделей с дисбалансом с лучшим показателем лидировала модель RandomForestClassifier с метриками F1 - 0.5596, AUC-ROC 0.8476. После применения метода Upsample (увеличения числа наблюдений положительного класса) показатели метрик выросли до F1 - 0.5788, AUC-ROC - 0.8493. Проверка на тестовой выборке подтвердила, что метод Upsampling помог справиться с дисбалансом классов показатели выросли до F1 = 0.6233, AUC-ROC = 0.8485.\n",
    "Учитывая, что F1 - среднее гармоническое полноты и точности, то рост F1 свидетельствует об изменении в алгоритме в лучшую сторону. Также рост AUC-ROC (площадь под кривой) подтверждает улучшение модели (стремится к 1). \n",
    "Мы построили оптимальную модель с предельно большим значением F1-меры для прогнозирования оттока клиента банка в ближайшее время."
   ]
  },
  {
   "cell_type": "code",
   "execution_count": null,
   "metadata": {},
   "outputs": [],
   "source": []
  }
 ],
 "metadata": {
  "ExecuteTimeLog": [
   {
    "duration": 60,
    "start_time": "2023-03-01T18:46:55.884Z"
   },
   {
    "duration": 371,
    "start_time": "2023-03-01T18:47:17.443Z"
   },
   {
    "duration": 80,
    "start_time": "2023-03-01T18:47:17.816Z"
   },
   {
    "duration": 13,
    "start_time": "2023-03-01T18:48:17.632Z"
   },
   {
    "duration": 18,
    "start_time": "2023-03-01T18:48:32.761Z"
   },
   {
    "duration": 12,
    "start_time": "2023-03-01T18:49:29.264Z"
   },
   {
    "duration": 14,
    "start_time": "2023-03-01T18:49:46.176Z"
   },
   {
    "duration": 60,
    "start_time": "2023-03-01T18:55:58.328Z"
   },
   {
    "duration": 36,
    "start_time": "2023-03-01T18:56:30.085Z"
   },
   {
    "duration": 12,
    "start_time": "2023-03-01T18:59:00.143Z"
   },
   {
    "duration": 4,
    "start_time": "2023-03-01T19:02:47.991Z"
   },
   {
    "duration": 12,
    "start_time": "2023-03-01T19:15:37.707Z"
   },
   {
    "duration": 8,
    "start_time": "2023-03-01T19:23:58.898Z"
   },
   {
    "duration": 12,
    "start_time": "2023-03-01T19:24:11.504Z"
   },
   {
    "duration": 6,
    "start_time": "2023-03-01T19:36:00.741Z"
   },
   {
    "duration": 7,
    "start_time": "2023-03-01T19:40:45.602Z"
   },
   {
    "duration": 23,
    "start_time": "2023-03-01T19:42:25.295Z"
   },
   {
    "duration": 15,
    "start_time": "2023-03-01T19:43:10.025Z"
   },
   {
    "duration": 404,
    "start_time": "2023-03-01T19:43:43.627Z"
   },
   {
    "duration": 41,
    "start_time": "2023-03-01T19:43:44.035Z"
   },
   {
    "duration": 12,
    "start_time": "2023-03-01T19:43:44.077Z"
   },
   {
    "duration": 30,
    "start_time": "2023-03-01T19:43:44.091Z"
   },
   {
    "duration": 20,
    "start_time": "2023-03-01T19:43:44.123Z"
   },
   {
    "duration": 5,
    "start_time": "2023-03-01T19:43:44.144Z"
   },
   {
    "duration": 69,
    "start_time": "2023-03-01T19:43:44.150Z"
   },
   {
    "duration": 0,
    "start_time": "2023-03-01T19:43:44.221Z"
   },
   {
    "duration": 0,
    "start_time": "2023-03-01T19:43:44.222Z"
   },
   {
    "duration": 8,
    "start_time": "2023-03-01T19:44:17.892Z"
   },
   {
    "duration": 6,
    "start_time": "2023-03-01T19:44:20.875Z"
   },
   {
    "duration": 11,
    "start_time": "2023-03-01T19:44:29.428Z"
   },
   {
    "duration": 10,
    "start_time": "2023-03-01T19:45:11.663Z"
   },
   {
    "duration": 4,
    "start_time": "2023-03-01T19:52:06.132Z"
   },
   {
    "duration": 13,
    "start_time": "2023-03-01T19:52:34.717Z"
   },
   {
    "duration": 11,
    "start_time": "2023-03-01T19:52:47.391Z"
   },
   {
    "duration": 8,
    "start_time": "2023-03-01T19:53:10.273Z"
   },
   {
    "duration": 400,
    "start_time": "2023-03-01T19:53:38.874Z"
   },
   {
    "duration": 46,
    "start_time": "2023-03-01T19:53:39.276Z"
   },
   {
    "duration": 12,
    "start_time": "2023-03-01T19:53:39.324Z"
   },
   {
    "duration": 27,
    "start_time": "2023-03-01T19:53:39.338Z"
   },
   {
    "duration": 24,
    "start_time": "2023-03-01T19:53:39.367Z"
   },
   {
    "duration": 11,
    "start_time": "2023-03-01T19:53:39.392Z"
   },
   {
    "duration": 35,
    "start_time": "2023-03-01T19:53:39.404Z"
   },
   {
    "duration": 17,
    "start_time": "2023-03-01T19:53:39.441Z"
   },
   {
    "duration": 31,
    "start_time": "2023-03-01T19:53:39.460Z"
   },
   {
    "duration": 16,
    "start_time": "2023-03-01T20:11:19.364Z"
   },
   {
    "duration": 9,
    "start_time": "2023-03-01T20:29:37.627Z"
   },
   {
    "duration": 16,
    "start_time": "2023-03-01T20:30:09.584Z"
   },
   {
    "duration": 16,
    "start_time": "2023-03-01T20:32:42.414Z"
   },
   {
    "duration": 65,
    "start_time": "2023-03-01T20:36:08.215Z"
   },
   {
    "duration": 385,
    "start_time": "2023-03-01T20:36:18.317Z"
   },
   {
    "duration": 52,
    "start_time": "2023-03-01T20:36:18.703Z"
   },
   {
    "duration": 12,
    "start_time": "2023-03-01T20:36:18.756Z"
   },
   {
    "duration": 20,
    "start_time": "2023-03-01T20:36:18.771Z"
   },
   {
    "duration": 29,
    "start_time": "2023-03-01T20:36:18.793Z"
   },
   {
    "duration": 8,
    "start_time": "2023-03-01T20:36:18.823Z"
   },
   {
    "duration": 13,
    "start_time": "2023-03-01T20:36:18.833Z"
   },
   {
    "duration": 7,
    "start_time": "2023-03-01T20:36:18.848Z"
   },
   {
    "duration": 18,
    "start_time": "2023-03-01T20:36:18.856Z"
   },
   {
    "duration": 10,
    "start_time": "2023-03-01T20:36:18.876Z"
   },
   {
    "duration": 3,
    "start_time": "2023-03-01T20:45:51.647Z"
   },
   {
    "duration": 4,
    "start_time": "2023-03-01T20:46:33.196Z"
   },
   {
    "duration": 4,
    "start_time": "2023-03-01T20:46:52.659Z"
   },
   {
    "duration": 6,
    "start_time": "2023-03-01T20:53:52.261Z"
   },
   {
    "duration": 31,
    "start_time": "2023-03-01T21:03:27.023Z"
   },
   {
    "duration": 17,
    "start_time": "2023-03-01T21:26:23.733Z"
   },
   {
    "duration": 25,
    "start_time": "2023-03-01T21:26:46.424Z"
   },
   {
    "duration": 391,
    "start_time": "2023-03-01T21:27:10.484Z"
   },
   {
    "duration": 51,
    "start_time": "2023-03-01T21:27:10.876Z"
   },
   {
    "duration": 16,
    "start_time": "2023-03-01T21:27:10.928Z"
   },
   {
    "duration": 20,
    "start_time": "2023-03-01T21:27:10.948Z"
   },
   {
    "duration": 10,
    "start_time": "2023-03-01T21:27:10.970Z"
   },
   {
    "duration": 5,
    "start_time": "2023-03-01T21:27:10.981Z"
   },
   {
    "duration": 37,
    "start_time": "2023-03-01T21:27:10.987Z"
   },
   {
    "duration": 15,
    "start_time": "2023-03-01T21:27:11.035Z"
   },
   {
    "duration": 15,
    "start_time": "2023-03-01T21:27:11.052Z"
   },
   {
    "duration": 12,
    "start_time": "2023-03-01T21:27:11.069Z"
   },
   {
    "duration": 8,
    "start_time": "2023-03-01T21:27:11.082Z"
   },
   {
    "duration": 29,
    "start_time": "2023-03-01T21:27:11.092Z"
   },
   {
    "duration": 13,
    "start_time": "2023-03-01T21:27:46.170Z"
   },
   {
    "duration": 13,
    "start_time": "2023-03-01T21:28:49.943Z"
   },
   {
    "duration": 14,
    "start_time": "2023-03-01T21:29:16.255Z"
   },
   {
    "duration": 6,
    "start_time": "2023-03-01T21:29:45.350Z"
   },
   {
    "duration": 15,
    "start_time": "2023-03-01T21:30:50.779Z"
   },
   {
    "duration": 26,
    "start_time": "2023-03-01T21:37:35.167Z"
   },
   {
    "duration": 25,
    "start_time": "2023-03-01T21:44:59.437Z"
   },
   {
    "duration": 26,
    "start_time": "2023-03-01T21:53:41.899Z"
   },
   {
    "duration": 14,
    "start_time": "2023-03-01T21:53:48.827Z"
   },
   {
    "duration": 429,
    "start_time": "2023-03-01T21:54:30.386Z"
   },
   {
    "duration": 46,
    "start_time": "2023-03-01T21:54:30.822Z"
   },
   {
    "duration": 20,
    "start_time": "2023-03-01T21:54:30.870Z"
   },
   {
    "duration": 63,
    "start_time": "2023-03-01T21:54:30.892Z"
   },
   {
    "duration": 25,
    "start_time": "2023-03-01T21:54:30.957Z"
   },
   {
    "duration": 25,
    "start_time": "2023-03-01T21:54:30.984Z"
   },
   {
    "duration": 52,
    "start_time": "2023-03-01T21:54:31.012Z"
   },
   {
    "duration": 9,
    "start_time": "2023-03-01T21:54:31.066Z"
   },
   {
    "duration": 47,
    "start_time": "2023-03-01T21:54:31.077Z"
   },
   {
    "duration": 29,
    "start_time": "2023-03-01T21:54:31.127Z"
   },
   {
    "duration": 64,
    "start_time": "2023-03-01T21:54:31.157Z"
   },
   {
    "duration": 56,
    "start_time": "2023-03-01T21:54:31.222Z"
   },
   {
    "duration": 9,
    "start_time": "2023-03-01T22:07:18.038Z"
   },
   {
    "duration": 778,
    "start_time": "2023-03-01T22:07:42.007Z"
   },
   {
    "duration": 1269,
    "start_time": "2023-03-01T22:08:45.702Z"
   },
   {
    "duration": 63,
    "start_time": "2023-03-01T22:08:46.974Z"
   },
   {
    "duration": 18,
    "start_time": "2023-03-01T22:08:47.039Z"
   },
   {
    "duration": 36,
    "start_time": "2023-03-01T22:08:47.060Z"
   },
   {
    "duration": 51,
    "start_time": "2023-03-01T22:08:47.098Z"
   },
   {
    "duration": 7,
    "start_time": "2023-03-01T22:08:47.151Z"
   },
   {
    "duration": 19,
    "start_time": "2023-03-01T22:08:47.160Z"
   },
   {
    "duration": 8,
    "start_time": "2023-03-01T22:08:47.182Z"
   },
   {
    "duration": 16,
    "start_time": "2023-03-01T22:08:47.191Z"
   },
   {
    "duration": 6,
    "start_time": "2023-03-01T22:08:47.210Z"
   },
   {
    "duration": 19,
    "start_time": "2023-03-01T22:08:47.218Z"
   },
   {
    "duration": 35,
    "start_time": "2023-03-01T22:08:47.239Z"
   },
   {
    "duration": 44,
    "start_time": "2023-03-01T22:08:47.276Z"
   },
   {
    "duration": 793,
    "start_time": "2023-03-01T22:09:03.954Z"
   },
   {
    "duration": 1066,
    "start_time": "2023-03-01T22:09:23.945Z"
   },
   {
    "duration": 41,
    "start_time": "2023-03-01T22:09:25.013Z"
   },
   {
    "duration": 16,
    "start_time": "2023-03-01T22:09:25.056Z"
   },
   {
    "duration": 26,
    "start_time": "2023-03-01T22:09:25.074Z"
   },
   {
    "duration": 15,
    "start_time": "2023-03-01T22:09:25.102Z"
   },
   {
    "duration": 12,
    "start_time": "2023-03-01T22:09:25.120Z"
   },
   {
    "duration": 16,
    "start_time": "2023-03-01T22:09:25.133Z"
   },
   {
    "duration": 6,
    "start_time": "2023-03-01T22:09:25.151Z"
   },
   {
    "duration": 15,
    "start_time": "2023-03-01T22:09:25.159Z"
   },
   {
    "duration": 32,
    "start_time": "2023-03-01T22:09:25.176Z"
   },
   {
    "duration": 28,
    "start_time": "2023-03-01T22:09:25.210Z"
   },
   {
    "duration": 35,
    "start_time": "2023-03-01T22:09:25.240Z"
   },
   {
    "duration": 41,
    "start_time": "2023-03-01T22:09:25.277Z"
   },
   {
    "duration": 70,
    "start_time": "2023-03-01T22:23:23.778Z"
   },
   {
    "duration": 1181,
    "start_time": "2023-03-01T22:23:30.693Z"
   },
   {
    "duration": 63,
    "start_time": "2023-03-01T22:23:31.876Z"
   },
   {
    "duration": 16,
    "start_time": "2023-03-01T22:23:31.941Z"
   },
   {
    "duration": 36,
    "start_time": "2023-03-01T22:23:31.959Z"
   },
   {
    "duration": 12,
    "start_time": "2023-03-01T22:23:31.998Z"
   },
   {
    "duration": 9,
    "start_time": "2023-03-01T22:23:32.012Z"
   },
   {
    "duration": 22,
    "start_time": "2023-03-01T22:23:32.023Z"
   },
   {
    "duration": 7,
    "start_time": "2023-03-01T22:23:32.047Z"
   },
   {
    "duration": 24,
    "start_time": "2023-03-01T22:23:32.055Z"
   },
   {
    "duration": 22,
    "start_time": "2023-03-01T22:23:32.081Z"
   },
   {
    "duration": 18,
    "start_time": "2023-03-01T22:23:32.105Z"
   },
   {
    "duration": 35,
    "start_time": "2023-03-01T22:23:32.124Z"
   },
   {
    "duration": 45,
    "start_time": "2023-03-01T22:23:32.160Z"
   },
   {
    "duration": 108,
    "start_time": "2023-03-01T22:25:05.690Z"
   },
   {
    "duration": 1127,
    "start_time": "2023-03-01T22:25:14.508Z"
   },
   {
    "duration": 73,
    "start_time": "2023-03-01T22:25:15.636Z"
   },
   {
    "duration": 15,
    "start_time": "2023-03-01T22:25:15.710Z"
   },
   {
    "duration": 23,
    "start_time": "2023-03-01T22:25:15.727Z"
   },
   {
    "duration": 12,
    "start_time": "2023-03-01T22:25:15.751Z"
   },
   {
    "duration": 6,
    "start_time": "2023-03-01T22:25:15.765Z"
   },
   {
    "duration": 33,
    "start_time": "2023-03-01T22:25:15.772Z"
   },
   {
    "duration": 7,
    "start_time": "2023-03-01T22:25:15.806Z"
   },
   {
    "duration": 23,
    "start_time": "2023-03-01T22:25:15.815Z"
   },
   {
    "duration": 22,
    "start_time": "2023-03-01T22:25:15.840Z"
   },
   {
    "duration": 21,
    "start_time": "2023-03-01T22:25:15.864Z"
   },
   {
    "duration": 43,
    "start_time": "2023-03-01T22:25:15.886Z"
   },
   {
    "duration": 19,
    "start_time": "2023-03-01T22:25:15.931Z"
   },
   {
    "duration": 804,
    "start_time": "2023-03-01T22:32:44.311Z"
   },
   {
    "duration": 19,
    "start_time": "2023-03-01T22:33:00.211Z"
   },
   {
    "duration": 735,
    "start_time": "2023-03-01T22:35:08.828Z"
   },
   {
    "duration": 759,
    "start_time": "2023-03-01T22:35:54.264Z"
   },
   {
    "duration": 1057,
    "start_time": "2023-03-01T22:36:22.935Z"
   },
   {
    "duration": 61,
    "start_time": "2023-03-01T22:36:23.994Z"
   },
   {
    "duration": 14,
    "start_time": "2023-03-01T22:36:24.056Z"
   },
   {
    "duration": 20,
    "start_time": "2023-03-01T22:36:24.072Z"
   },
   {
    "duration": 12,
    "start_time": "2023-03-01T22:36:24.094Z"
   },
   {
    "duration": 6,
    "start_time": "2023-03-01T22:36:24.107Z"
   },
   {
    "duration": 13,
    "start_time": "2023-03-01T22:36:24.115Z"
   },
   {
    "duration": 7,
    "start_time": "2023-03-01T22:36:24.129Z"
   },
   {
    "duration": 17,
    "start_time": "2023-03-01T22:36:24.138Z"
   },
   {
    "duration": 118,
    "start_time": "2023-03-01T22:36:24.158Z"
   },
   {
    "duration": 0,
    "start_time": "2023-03-01T22:36:24.278Z"
   },
   {
    "duration": 0,
    "start_time": "2023-03-01T22:36:24.279Z"
   },
   {
    "duration": 0,
    "start_time": "2023-03-01T22:36:24.280Z"
   },
   {
    "duration": 0,
    "start_time": "2023-03-01T22:36:24.282Z"
   },
   {
    "duration": 5,
    "start_time": "2023-03-01T22:37:17.489Z"
   },
   {
    "duration": 9,
    "start_time": "2023-03-01T22:37:34.234Z"
   },
   {
    "duration": 9,
    "start_time": "2023-03-01T22:37:45.464Z"
   },
   {
    "duration": 8,
    "start_time": "2023-03-01T22:37:59.631Z"
   },
   {
    "duration": 6,
    "start_time": "2023-03-01T22:38:27.317Z"
   },
   {
    "duration": 19,
    "start_time": "2023-03-01T22:42:07.348Z"
   },
   {
    "duration": 1104,
    "start_time": "2023-03-01T22:45:37.573Z"
   },
   {
    "duration": 61,
    "start_time": "2023-03-01T22:45:38.679Z"
   },
   {
    "duration": 12,
    "start_time": "2023-03-01T22:45:38.741Z"
   },
   {
    "duration": 28,
    "start_time": "2023-03-01T22:45:38.755Z"
   },
   {
    "duration": 9,
    "start_time": "2023-03-01T22:45:38.785Z"
   },
   {
    "duration": 5,
    "start_time": "2023-03-01T22:45:38.796Z"
   },
   {
    "duration": 20,
    "start_time": "2023-03-01T22:45:38.803Z"
   },
   {
    "duration": 12,
    "start_time": "2023-03-01T22:45:38.824Z"
   },
   {
    "duration": 17,
    "start_time": "2023-03-01T22:45:38.837Z"
   },
   {
    "duration": 10,
    "start_time": "2023-03-01T22:45:38.856Z"
   },
   {
    "duration": 14,
    "start_time": "2023-03-01T22:45:38.867Z"
   },
   {
    "duration": 30,
    "start_time": "2023-03-01T22:45:38.883Z"
   },
   {
    "duration": 19,
    "start_time": "2023-03-01T22:45:38.915Z"
   },
   {
    "duration": 2,
    "start_time": "2023-03-01T22:45:38.936Z"
   },
   {
    "duration": 20,
    "start_time": "2023-03-01T22:47:28.540Z"
   },
   {
    "duration": 1093,
    "start_time": "2023-03-01T22:47:47.392Z"
   },
   {
    "duration": 62,
    "start_time": "2023-03-01T22:47:48.487Z"
   },
   {
    "duration": 12,
    "start_time": "2023-03-01T22:47:48.551Z"
   },
   {
    "duration": 25,
    "start_time": "2023-03-01T22:47:48.565Z"
   },
   {
    "duration": 10,
    "start_time": "2023-03-01T22:47:48.592Z"
   },
   {
    "duration": 5,
    "start_time": "2023-03-01T22:47:48.603Z"
   },
   {
    "duration": 10,
    "start_time": "2023-03-01T22:47:48.609Z"
   },
   {
    "duration": 5,
    "start_time": "2023-03-01T22:47:48.620Z"
   },
   {
    "duration": 16,
    "start_time": "2023-03-01T22:47:48.627Z"
   },
   {
    "duration": 12,
    "start_time": "2023-03-01T22:47:48.644Z"
   },
   {
    "duration": 16,
    "start_time": "2023-03-01T22:47:48.657Z"
   },
   {
    "duration": 58,
    "start_time": "2023-03-01T22:47:48.674Z"
   },
   {
    "duration": 18,
    "start_time": "2023-03-01T22:47:48.734Z"
   },
   {
    "duration": 2,
    "start_time": "2023-03-01T22:47:48.754Z"
   },
   {
    "duration": 19,
    "start_time": "2023-03-01T22:51:02.111Z"
   },
   {
    "duration": 1101,
    "start_time": "2023-03-01T22:51:09.885Z"
   },
   {
    "duration": 63,
    "start_time": "2023-03-01T22:51:10.988Z"
   },
   {
    "duration": 11,
    "start_time": "2023-03-01T22:51:11.055Z"
   },
   {
    "duration": 20,
    "start_time": "2023-03-01T22:51:11.068Z"
   },
   {
    "duration": 26,
    "start_time": "2023-03-01T22:51:11.089Z"
   },
   {
    "duration": 6,
    "start_time": "2023-03-01T22:51:11.116Z"
   },
   {
    "duration": 26,
    "start_time": "2023-03-01T22:51:11.124Z"
   },
   {
    "duration": 8,
    "start_time": "2023-03-01T22:51:11.152Z"
   },
   {
    "duration": 14,
    "start_time": "2023-03-01T22:51:11.161Z"
   },
   {
    "duration": 11,
    "start_time": "2023-03-01T22:51:11.178Z"
   },
   {
    "duration": 28,
    "start_time": "2023-03-01T22:51:11.190Z"
   },
   {
    "duration": 32,
    "start_time": "2023-03-01T22:51:11.219Z"
   },
   {
    "duration": 16,
    "start_time": "2023-03-01T22:51:11.253Z"
   },
   {
    "duration": 2,
    "start_time": "2023-03-01T22:51:11.271Z"
   },
   {
    "duration": 11,
    "start_time": "2023-03-01T22:51:48.971Z"
   },
   {
    "duration": 26,
    "start_time": "2023-03-01T22:55:13.139Z"
   },
   {
    "duration": 25,
    "start_time": "2023-03-01T22:57:45.176Z"
   },
   {
    "duration": 36,
    "start_time": "2023-03-01T22:58:04.936Z"
   },
   {
    "duration": 26,
    "start_time": "2023-03-01T22:58:41.685Z"
   },
   {
    "duration": 23,
    "start_time": "2023-03-01T22:59:04.310Z"
   },
   {
    "duration": 18,
    "start_time": "2023-03-01T22:59:21.127Z"
   },
   {
    "duration": 18,
    "start_time": "2023-03-01T23:01:57.723Z"
   },
   {
    "duration": 938,
    "start_time": "2023-03-01T23:03:15.586Z"
   },
   {
    "duration": 1132,
    "start_time": "2023-03-01T23:03:44.186Z"
   },
   {
    "duration": 70,
    "start_time": "2023-03-01T23:03:45.320Z"
   },
   {
    "duration": 13,
    "start_time": "2023-03-01T23:03:45.392Z"
   },
   {
    "duration": 18,
    "start_time": "2023-03-01T23:03:45.407Z"
   },
   {
    "duration": 10,
    "start_time": "2023-03-01T23:03:45.427Z"
   },
   {
    "duration": 4,
    "start_time": "2023-03-01T23:03:45.439Z"
   },
   {
    "duration": 13,
    "start_time": "2023-03-01T23:03:45.445Z"
   },
   {
    "duration": 7,
    "start_time": "2023-03-01T23:03:45.459Z"
   },
   {
    "duration": 36,
    "start_time": "2023-03-01T23:03:45.468Z"
   },
   {
    "duration": 6,
    "start_time": "2023-03-01T23:03:45.506Z"
   },
   {
    "duration": 22,
    "start_time": "2023-03-01T23:03:45.513Z"
   },
   {
    "duration": 32,
    "start_time": "2023-03-01T23:03:45.536Z"
   },
   {
    "duration": 36,
    "start_time": "2023-03-01T23:03:45.569Z"
   },
   {
    "duration": 2,
    "start_time": "2023-03-01T23:03:45.607Z"
   },
   {
    "duration": 17,
    "start_time": "2023-03-01T23:04:15.724Z"
   },
   {
    "duration": 15,
    "start_time": "2023-03-01T23:04:36.711Z"
   },
   {
    "duration": 1152,
    "start_time": "2023-03-01T23:04:54.586Z"
   },
   {
    "duration": 70,
    "start_time": "2023-03-01T23:04:55.740Z"
   },
   {
    "duration": 13,
    "start_time": "2023-03-01T23:04:55.811Z"
   },
   {
    "duration": 24,
    "start_time": "2023-03-01T23:04:55.826Z"
   },
   {
    "duration": 11,
    "start_time": "2023-03-01T23:04:55.851Z"
   },
   {
    "duration": 5,
    "start_time": "2023-03-01T23:04:55.863Z"
   },
   {
    "duration": 8,
    "start_time": "2023-03-01T23:04:55.870Z"
   },
   {
    "duration": 24,
    "start_time": "2023-03-01T23:04:55.880Z"
   },
   {
    "duration": 12,
    "start_time": "2023-03-01T23:04:55.906Z"
   },
   {
    "duration": 14,
    "start_time": "2023-03-01T23:04:55.920Z"
   },
   {
    "duration": 24,
    "start_time": "2023-03-01T23:04:55.935Z"
   },
   {
    "duration": 44,
    "start_time": "2023-03-01T23:04:55.961Z"
   },
   {
    "duration": 17,
    "start_time": "2023-03-01T23:04:56.006Z"
   },
   {
    "duration": 2,
    "start_time": "2023-03-01T23:04:56.024Z"
   },
   {
    "duration": 18,
    "start_time": "2023-03-01T23:07:43.589Z"
   },
   {
    "duration": 20,
    "start_time": "2023-03-01T23:07:56.156Z"
   },
   {
    "duration": 11,
    "start_time": "2023-03-01T23:08:40.572Z"
   },
   {
    "duration": 102,
    "start_time": "2023-03-01T23:09:39.964Z"
   },
   {
    "duration": 9,
    "start_time": "2023-03-01T23:09:48.780Z"
   },
   {
    "duration": 6,
    "start_time": "2023-03-01T23:09:52.244Z"
   },
   {
    "duration": 1074,
    "start_time": "2023-03-01T23:10:19.412Z"
   },
   {
    "duration": 59,
    "start_time": "2023-03-01T23:10:20.488Z"
   },
   {
    "duration": 12,
    "start_time": "2023-03-01T23:10:20.549Z"
   },
   {
    "duration": 21,
    "start_time": "2023-03-01T23:10:20.563Z"
   },
   {
    "duration": 11,
    "start_time": "2023-03-01T23:10:20.586Z"
   },
   {
    "duration": 5,
    "start_time": "2023-03-01T23:10:20.599Z"
   },
   {
    "duration": 15,
    "start_time": "2023-03-01T23:10:20.605Z"
   },
   {
    "duration": 21,
    "start_time": "2023-03-01T23:10:20.621Z"
   },
   {
    "duration": 21,
    "start_time": "2023-03-01T23:10:20.643Z"
   },
   {
    "duration": 9,
    "start_time": "2023-03-01T23:10:20.666Z"
   },
   {
    "duration": 29,
    "start_time": "2023-03-01T23:10:20.677Z"
   },
   {
    "duration": 37,
    "start_time": "2023-03-01T23:10:20.707Z"
   },
   {
    "duration": 32,
    "start_time": "2023-03-01T23:10:20.745Z"
   },
   {
    "duration": 19,
    "start_time": "2023-03-01T23:10:20.779Z"
   },
   {
    "duration": 12,
    "start_time": "2023-03-01T23:10:20.800Z"
   },
   {
    "duration": 3,
    "start_time": "2023-03-01T23:10:20.813Z"
   },
   {
    "duration": 9,
    "start_time": "2023-03-01T23:31:33.789Z"
   },
   {
    "duration": 20,
    "start_time": "2023-03-01T23:31:52.855Z"
   },
   {
    "duration": 18,
    "start_time": "2023-03-01T23:32:23.109Z"
   },
   {
    "duration": 16,
    "start_time": "2023-03-01T23:33:09.582Z"
   },
   {
    "duration": 12,
    "start_time": "2023-03-01T23:33:46.301Z"
   },
   {
    "duration": 54,
    "start_time": "2023-03-02T07:40:54.992Z"
   },
   {
    "duration": 1212,
    "start_time": "2023-03-02T07:41:04.057Z"
   },
   {
    "duration": 401,
    "start_time": "2023-03-02T07:41:05.272Z"
   },
   {
    "duration": 15,
    "start_time": "2023-03-02T07:41:05.675Z"
   },
   {
    "duration": 30,
    "start_time": "2023-03-02T07:41:05.692Z"
   },
   {
    "duration": 11,
    "start_time": "2023-03-02T07:41:05.725Z"
   },
   {
    "duration": 7,
    "start_time": "2023-03-02T07:41:05.738Z"
   },
   {
    "duration": 12,
    "start_time": "2023-03-02T07:41:05.746Z"
   },
   {
    "duration": 7,
    "start_time": "2023-03-02T07:41:05.760Z"
   },
   {
    "duration": 15,
    "start_time": "2023-03-02T07:41:05.769Z"
   },
   {
    "duration": 40,
    "start_time": "2023-03-02T07:41:05.786Z"
   },
   {
    "duration": 28,
    "start_time": "2023-03-02T07:41:05.828Z"
   },
   {
    "duration": 37,
    "start_time": "2023-03-02T07:41:05.858Z"
   },
   {
    "duration": 37,
    "start_time": "2023-03-02T07:41:05.897Z"
   },
   {
    "duration": 3,
    "start_time": "2023-03-02T07:41:05.936Z"
   },
   {
    "duration": 13,
    "start_time": "2023-03-02T07:45:31.362Z"
   },
   {
    "duration": 371,
    "start_time": "2023-03-02T07:54:40.810Z"
   },
   {
    "duration": 1190,
    "start_time": "2023-03-02T07:57:55.103Z"
   },
   {
    "duration": 78,
    "start_time": "2023-03-02T07:57:56.295Z"
   },
   {
    "duration": 15,
    "start_time": "2023-03-02T07:57:56.375Z"
   },
   {
    "duration": 24,
    "start_time": "2023-03-02T07:57:56.392Z"
   },
   {
    "duration": 14,
    "start_time": "2023-03-02T07:57:56.419Z"
   },
   {
    "duration": 8,
    "start_time": "2023-03-02T07:57:56.435Z"
   },
   {
    "duration": 16,
    "start_time": "2023-03-02T07:57:56.446Z"
   },
   {
    "duration": 10,
    "start_time": "2023-03-02T07:57:56.464Z"
   },
   {
    "duration": 16,
    "start_time": "2023-03-02T07:57:56.475Z"
   },
   {
    "duration": 33,
    "start_time": "2023-03-02T07:57:56.493Z"
   },
   {
    "duration": 17,
    "start_time": "2023-03-02T07:57:56.528Z"
   },
   {
    "duration": 36,
    "start_time": "2023-03-02T07:57:56.546Z"
   },
   {
    "duration": 43,
    "start_time": "2023-03-02T07:57:56.584Z"
   },
   {
    "duration": 14,
    "start_time": "2023-03-02T07:57:56.629Z"
   },
   {
    "duration": 352,
    "start_time": "2023-03-02T07:57:56.645Z"
   },
   {
    "duration": 181537,
    "start_time": "2023-03-02T07:57:57.000Z"
   },
   {
    "duration": 364,
    "start_time": "2023-03-02T08:00:59.338Z"
   },
   {
    "duration": 339,
    "start_time": "2023-03-02T08:01:23.371Z"
   },
   {
    "duration": 332,
    "start_time": "2023-03-02T08:02:35.891Z"
   },
   {
    "duration": 324,
    "start_time": "2023-03-02T08:03:13.511Z"
   },
   {
    "duration": 104,
    "start_time": "2023-03-02T08:04:56.584Z"
   },
   {
    "duration": 304,
    "start_time": "2023-03-02T08:05:40.618Z"
   },
   {
    "duration": 50,
    "start_time": "2023-03-02T08:06:23.674Z"
   },
   {
    "duration": 66,
    "start_time": "2023-03-02T08:34:45.757Z"
   },
   {
    "duration": 445,
    "start_time": "2023-03-02T08:35:07.183Z"
   },
   {
    "duration": 39,
    "start_time": "2023-03-02T08:39:45.088Z"
   },
   {
    "duration": 14,
    "start_time": "2023-03-02T08:50:36.675Z"
   },
   {
    "duration": 74,
    "start_time": "2023-03-02T08:52:14.761Z"
   },
   {
    "duration": 933,
    "start_time": "2023-03-02T08:53:02.099Z"
   },
   {
    "duration": 913,
    "start_time": "2023-03-02T08:59:00.847Z"
   },
   {
    "duration": 941,
    "start_time": "2023-03-02T09:06:15.116Z"
   },
   {
    "duration": 31,
    "start_time": "2023-03-02T10:25:39.736Z"
   },
   {
    "duration": 403,
    "start_time": "2023-03-02T10:25:49.352Z"
   },
   {
    "duration": 33,
    "start_time": "2023-03-02T10:29:22.552Z"
   },
   {
    "duration": 1172,
    "start_time": "2023-03-02T10:30:34.293Z"
   },
   {
    "duration": 77,
    "start_time": "2023-03-02T10:30:35.467Z"
   },
   {
    "duration": 13,
    "start_time": "2023-03-02T10:30:35.546Z"
   },
   {
    "duration": 31,
    "start_time": "2023-03-02T10:30:35.561Z"
   },
   {
    "duration": 13,
    "start_time": "2023-03-02T10:30:35.594Z"
   },
   {
    "duration": 37,
    "start_time": "2023-03-02T10:30:35.609Z"
   },
   {
    "duration": 26,
    "start_time": "2023-03-02T10:30:35.648Z"
   },
   {
    "duration": 18,
    "start_time": "2023-03-02T10:30:35.675Z"
   },
   {
    "duration": 21,
    "start_time": "2023-03-02T10:30:35.695Z"
   },
   {
    "duration": 35,
    "start_time": "2023-03-02T10:30:35.718Z"
   },
   {
    "duration": 29,
    "start_time": "2023-03-02T10:30:35.755Z"
   },
   {
    "duration": 35,
    "start_time": "2023-03-02T10:30:35.786Z"
   },
   {
    "duration": 18,
    "start_time": "2023-03-02T10:30:35.822Z"
   },
   {
    "duration": 12,
    "start_time": "2023-03-02T10:30:35.842Z"
   },
   {
    "duration": 340,
    "start_time": "2023-03-02T10:30:35.856Z"
   },
   {
    "duration": 175524,
    "start_time": "2023-03-02T10:30:36.198Z"
   },
   {
    "duration": 58,
    "start_time": "2023-03-02T10:33:31.724Z"
   },
   {
    "duration": 913,
    "start_time": "2023-03-02T10:33:31.784Z"
   },
   {
    "duration": 39,
    "start_time": "2023-03-02T10:33:32.699Z"
   },
   {
    "duration": 404,
    "start_time": "2023-03-02T10:33:32.740Z"
   },
   {
    "duration": 5,
    "start_time": "2023-03-02T10:33:33.146Z"
   },
   {
    "duration": 16,
    "start_time": "2023-03-02T10:33:33.153Z"
   },
   {
    "duration": 1151,
    "start_time": "2023-03-02T10:33:33.171Z"
   },
   {
    "duration": 26,
    "start_time": "2023-03-02T12:07:44.741Z"
   },
   {
    "duration": 75,
    "start_time": "2023-03-02T12:11:07.512Z"
   },
   {
    "duration": 17,
    "start_time": "2023-03-02T12:16:16.271Z"
   },
   {
    "duration": 347,
    "start_time": "2023-03-02T12:16:31.772Z"
   },
   {
    "duration": 1270,
    "start_time": "2023-03-02T12:18:29.111Z"
   },
   {
    "duration": 104,
    "start_time": "2023-03-02T12:18:30.383Z"
   },
   {
    "duration": 16,
    "start_time": "2023-03-02T12:18:30.489Z"
   },
   {
    "duration": 74,
    "start_time": "2023-03-02T12:18:30.507Z"
   },
   {
    "duration": 31,
    "start_time": "2023-03-02T12:18:30.583Z"
   },
   {
    "duration": 30,
    "start_time": "2023-03-02T12:18:30.616Z"
   },
   {
    "duration": 46,
    "start_time": "2023-03-02T12:18:30.648Z"
   },
   {
    "duration": 30,
    "start_time": "2023-03-02T12:18:30.695Z"
   },
   {
    "duration": 63,
    "start_time": "2023-03-02T12:18:30.727Z"
   },
   {
    "duration": 33,
    "start_time": "2023-03-02T12:18:30.793Z"
   },
   {
    "duration": 70,
    "start_time": "2023-03-02T12:18:30.828Z"
   },
   {
    "duration": 54,
    "start_time": "2023-03-02T12:18:30.900Z"
   },
   {
    "duration": 79,
    "start_time": "2023-03-02T12:18:30.956Z"
   },
   {
    "duration": 92,
    "start_time": "2023-03-02T12:18:31.037Z"
   },
   {
    "duration": 394,
    "start_time": "2023-03-02T12:18:31.131Z"
   },
   {
    "duration": 192984,
    "start_time": "2023-03-02T12:18:31.529Z"
   },
   {
    "duration": 60,
    "start_time": "2023-03-02T12:21:44.516Z"
   },
   {
    "duration": 1016,
    "start_time": "2023-03-02T12:21:44.578Z"
   },
   {
    "duration": 44,
    "start_time": "2023-03-02T12:21:45.596Z"
   },
   {
    "duration": 423,
    "start_time": "2023-03-02T12:21:45.641Z"
   },
   {
    "duration": 6,
    "start_time": "2023-03-02T12:21:46.067Z"
   },
   {
    "duration": 18,
    "start_time": "2023-03-02T12:21:46.075Z"
   },
   {
    "duration": 1339,
    "start_time": "2023-03-02T12:21:46.094Z"
   },
   {
    "duration": 120,
    "start_time": "2023-03-02T12:25:27.934Z"
   },
   {
    "duration": 53,
    "start_time": "2023-03-02T12:26:48.950Z"
   },
   {
    "duration": 117,
    "start_time": "2023-03-02T12:28:21.054Z"
   },
   {
    "duration": 30,
    "start_time": "2023-03-02T12:29:25.714Z"
   },
   {
    "duration": 62,
    "start_time": "2023-03-02T12:30:06.887Z"
   },
   {
    "duration": 72,
    "start_time": "2023-03-02T12:31:34.605Z"
   },
   {
    "duration": 73,
    "start_time": "2023-03-02T12:32:55.480Z"
   },
   {
    "duration": 72,
    "start_time": "2023-03-02T12:33:14.608Z"
   },
   {
    "duration": 111,
    "start_time": "2023-03-02T12:44:08.433Z"
   },
   {
    "duration": 13,
    "start_time": "2023-03-02T13:03:08.980Z"
   },
   {
    "duration": 46,
    "start_time": "2023-03-02T13:03:45.171Z"
   },
   {
    "duration": 36,
    "start_time": "2023-03-02T13:04:04.743Z"
   }
  ],
  "kernelspec": {
   "display_name": "Python 3 (ipykernel)",
   "language": "python",
   "name": "python3"
  },
  "language_info": {
   "codemirror_mode": {
    "name": "ipython",
    "version": 3
   },
   "file_extension": ".py",
   "mimetype": "text/x-python",
   "name": "python",
   "nbconvert_exporter": "python",
   "pygments_lexer": "ipython3",
   "version": "3.9.5"
  },
  "toc": {
   "base_numbering": 1,
   "nav_menu": {},
   "number_sections": true,
   "sideBar": true,
   "skip_h1_title": true,
   "title_cell": "Содержание",
   "title_sidebar": "Contents",
   "toc_cell": true,
   "toc_position": {
    "height": "calc(100% - 180px)",
    "left": "10px",
    "top": "150px",
    "width": "165px"
   },
   "toc_section_display": true,
   "toc_window_display": false
  }
 },
 "nbformat": 4,
 "nbformat_minor": 2
}
