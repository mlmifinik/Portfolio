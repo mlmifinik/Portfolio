{
 "cells": [
  {
   "cell_type": "markdown",
   "metadata": {
    "toc": true
   },
   "source": [
    "<h1>Содержание<span class=\"tocSkip\"></span></h1>\n",
    "<div class=\"toc\"><ul class=\"toc-item\"><li><span><a href=\"#Подготовка\" data-toc-modified-id=\"Подготовка-1\"><span class=\"toc-item-num\">1&nbsp;&nbsp;</span>Подготовка</a></span></li><li><span><a href=\"#Анализ\" data-toc-modified-id=\"Анализ-2\"><span class=\"toc-item-num\">2&nbsp;&nbsp;</span>Анализ</a></span></li><li><span><a href=\"#Обучение\" data-toc-modified-id=\"Обучение-3\"><span class=\"toc-item-num\">3&nbsp;&nbsp;</span>Обучение</a></span></li><li><span><a href=\"#Тестирование\" data-toc-modified-id=\"Тестирование-4\"><span class=\"toc-item-num\">4&nbsp;&nbsp;</span>Тестирование</a></span></li></ul></div>"
   ]
  },
  {
   "cell_type": "markdown",
   "metadata": {},
   "source": [
    "#  Прогнозирование заказов такси"
   ]
  },
  {
   "cell_type": "markdown",
   "metadata": {},
   "source": [
    "Компания «Чётенькое такси» собрала исторические данные о заказах такси в аэропортах. Чтобы привлекать больше водителей в период пиковой нагрузки, нужно спрогнозировать количество заказов такси на следующий час. Постройте модель для такого предсказания.\n",
    "\n",
    "Значение метрики *RMSE* на тестовой выборке должно быть не больше 48.\n",
    "\n",
    "Вам нужно:\n",
    "\n",
    "1. Загрузить данные и выполнить их ресемплирование по одному часу.\n",
    "2. Проанализировать данные.\n",
    "3. Обучить разные модели с различными гиперпараметрами. Сделать тестовую выборку размером 10% от исходных данных.\n",
    "4. Проверить данные на тестовой выборке и сделать выводы.\n",
    "\n",
    "\n",
    "Данные лежат в файле `taxi.csv`. Количество заказов находится в столбце `num_orders` (от англ. *number of orders*, «число заказов»)."
   ]
  },
  {
   "cell_type": "markdown",
   "metadata": {},
   "source": [
    "## Подготовка"
   ]
  },
  {
   "cell_type": "code",
   "execution_count": 1,
   "metadata": {},
   "outputs": [],
   "source": [
    "import pandas as pd \n",
    "import numpy as np \n",
    "import seaborn as sn \n",
    "import matplotlib.pyplot as plt \n",
    "\n",
    "from statsmodels.tsa.seasonal import seasonal_decompose\n",
    "\n",
    "from sklearn.metrics import mean_squared_error\n",
    "from sklearn.model_selection import train_test_split, TimeSeriesSplit, GridSearchCV\n",
    "\n",
    "from sklearn.linear_model import LinearRegression\n",
    "from sklearn.ensemble import RandomForestRegressor\n",
    "from lightgbm import LGBMRegressor\n",
    "\n",
    "RND = 12345\n",
    "\n",
    "import warnings\n",
    "warnings.filterwarnings('ignore')\n"
   ]
  },
  {
   "cell_type": "code",
   "execution_count": 2,
   "metadata": {},
   "outputs": [],
   "source": [
    "df = pd.read_csv('/datasets/taxi.csv', parse_dates=[0])"
   ]
  },
  {
   "cell_type": "code",
   "execution_count": 3,
   "metadata": {},
   "outputs": [
    {
     "name": "stdout",
     "output_type": "stream",
     "text": [
      "<class 'pandas.core.frame.DataFrame'>\n",
      "RangeIndex: 26496 entries, 0 to 26495\n",
      "Data columns (total 2 columns):\n",
      " #   Column      Non-Null Count  Dtype         \n",
      "---  ------      --------------  -----         \n",
      " 0   datetime    26496 non-null  datetime64[ns]\n",
      " 1   num_orders  26496 non-null  int64         \n",
      "dtypes: datetime64[ns](1), int64(1)\n",
      "memory usage: 414.1 KB\n"
     ]
    }
   ],
   "source": [
    "df.info()"
   ]
  },
  {
   "cell_type": "code",
   "execution_count": 4,
   "metadata": {},
   "outputs": [
    {
     "data": {
      "text/html": [
       "<div>\n",
       "<style scoped>\n",
       "    .dataframe tbody tr th:only-of-type {\n",
       "        vertical-align: middle;\n",
       "    }\n",
       "\n",
       "    .dataframe tbody tr th {\n",
       "        vertical-align: top;\n",
       "    }\n",
       "\n",
       "    .dataframe thead th {\n",
       "        text-align: right;\n",
       "    }\n",
       "</style>\n",
       "<table border=\"1\" class=\"dataframe\">\n",
       "  <thead>\n",
       "    <tr style=\"text-align: right;\">\n",
       "      <th></th>\n",
       "      <th>datetime</th>\n",
       "      <th>num_orders</th>\n",
       "    </tr>\n",
       "  </thead>\n",
       "  <tbody>\n",
       "    <tr>\n",
       "      <th>0</th>\n",
       "      <td>2018-03-01 00:00:00</td>\n",
       "      <td>9</td>\n",
       "    </tr>\n",
       "    <tr>\n",
       "      <th>1</th>\n",
       "      <td>2018-03-01 00:10:00</td>\n",
       "      <td>14</td>\n",
       "    </tr>\n",
       "    <tr>\n",
       "      <th>2</th>\n",
       "      <td>2018-03-01 00:20:00</td>\n",
       "      <td>28</td>\n",
       "    </tr>\n",
       "    <tr>\n",
       "      <th>3</th>\n",
       "      <td>2018-03-01 00:30:00</td>\n",
       "      <td>20</td>\n",
       "    </tr>\n",
       "    <tr>\n",
       "      <th>4</th>\n",
       "      <td>2018-03-01 00:40:00</td>\n",
       "      <td>32</td>\n",
       "    </tr>\n",
       "  </tbody>\n",
       "</table>\n",
       "</div>"
      ],
      "text/plain": [
       "             datetime  num_orders\n",
       "0 2018-03-01 00:00:00           9\n",
       "1 2018-03-01 00:10:00          14\n",
       "2 2018-03-01 00:20:00          28\n",
       "3 2018-03-01 00:30:00          20\n",
       "4 2018-03-01 00:40:00          32"
      ]
     },
     "execution_count": 4,
     "metadata": {},
     "output_type": "execute_result"
    }
   ],
   "source": [
    "df.head()"
   ]
  },
  {
   "cell_type": "code",
   "execution_count": 5,
   "metadata": {},
   "outputs": [
    {
     "data": {
      "text/plain": [
       "datetime      0\n",
       "num_orders    0\n",
       "dtype: int64"
      ]
     },
     "execution_count": 5,
     "metadata": {},
     "output_type": "execute_result"
    }
   ],
   "source": [
    "df.isna().sum()"
   ]
  },
  {
   "cell_type": "markdown",
   "metadata": {},
   "source": [
    "В датасете 2 столбца, 26496 наблюдений. Признаки: datetime — состоит из даты и времени, num_orders — количество заказов (целевой признак). Типы данных в порядке."
   ]
  },
  {
   "cell_type": "markdown",
   "metadata": {},
   "source": [
    "Проверим хронологический порядок даты и времени и выполним ресемплирование по одному часу."
   ]
  },
  {
   "cell_type": "code",
   "execution_count": 6,
   "metadata": {},
   "outputs": [
    {
     "data": {
      "text/plain": [
       "True"
      ]
     },
     "execution_count": 6,
     "metadata": {},
     "output_type": "execute_result"
    }
   ],
   "source": [
    "df = df.set_index('datetime')\n",
    "df = df.sort_index() \n",
    "df.index.is_monotonic"
   ]
  },
  {
   "cell_type": "code",
   "execution_count": 7,
   "metadata": {},
   "outputs": [
    {
     "data": {
      "text/html": [
       "<div>\n",
       "<style scoped>\n",
       "    .dataframe tbody tr th:only-of-type {\n",
       "        vertical-align: middle;\n",
       "    }\n",
       "\n",
       "    .dataframe tbody tr th {\n",
       "        vertical-align: top;\n",
       "    }\n",
       "\n",
       "    .dataframe thead th {\n",
       "        text-align: right;\n",
       "    }\n",
       "</style>\n",
       "<table border=\"1\" class=\"dataframe\">\n",
       "  <thead>\n",
       "    <tr style=\"text-align: right;\">\n",
       "      <th></th>\n",
       "      <th>num_orders</th>\n",
       "    </tr>\n",
       "    <tr>\n",
       "      <th>datetime</th>\n",
       "      <th></th>\n",
       "    </tr>\n",
       "  </thead>\n",
       "  <tbody>\n",
       "    <tr>\n",
       "      <th>2018-03-01 00:00:00</th>\n",
       "      <td>124</td>\n",
       "    </tr>\n",
       "    <tr>\n",
       "      <th>2018-03-01 01:00:00</th>\n",
       "      <td>85</td>\n",
       "    </tr>\n",
       "    <tr>\n",
       "      <th>2018-03-01 02:00:00</th>\n",
       "      <td>71</td>\n",
       "    </tr>\n",
       "    <tr>\n",
       "      <th>2018-03-01 03:00:00</th>\n",
       "      <td>66</td>\n",
       "    </tr>\n",
       "    <tr>\n",
       "      <th>2018-03-01 04:00:00</th>\n",
       "      <td>43</td>\n",
       "    </tr>\n",
       "    <tr>\n",
       "      <th>...</th>\n",
       "      <td>...</td>\n",
       "    </tr>\n",
       "    <tr>\n",
       "      <th>2018-08-31 19:00:00</th>\n",
       "      <td>136</td>\n",
       "    </tr>\n",
       "    <tr>\n",
       "      <th>2018-08-31 20:00:00</th>\n",
       "      <td>154</td>\n",
       "    </tr>\n",
       "    <tr>\n",
       "      <th>2018-08-31 21:00:00</th>\n",
       "      <td>159</td>\n",
       "    </tr>\n",
       "    <tr>\n",
       "      <th>2018-08-31 22:00:00</th>\n",
       "      <td>223</td>\n",
       "    </tr>\n",
       "    <tr>\n",
       "      <th>2018-08-31 23:00:00</th>\n",
       "      <td>205</td>\n",
       "    </tr>\n",
       "  </tbody>\n",
       "</table>\n",
       "<p>4416 rows × 1 columns</p>\n",
       "</div>"
      ],
      "text/plain": [
       "                     num_orders\n",
       "datetime                       \n",
       "2018-03-01 00:00:00         124\n",
       "2018-03-01 01:00:00          85\n",
       "2018-03-01 02:00:00          71\n",
       "2018-03-01 03:00:00          66\n",
       "2018-03-01 04:00:00          43\n",
       "...                         ...\n",
       "2018-08-31 19:00:00         136\n",
       "2018-08-31 20:00:00         154\n",
       "2018-08-31 21:00:00         159\n",
       "2018-08-31 22:00:00         223\n",
       "2018-08-31 23:00:00         205\n",
       "\n",
       "[4416 rows x 1 columns]"
      ]
     },
     "execution_count": 7,
     "metadata": {},
     "output_type": "execute_result"
    }
   ],
   "source": [
    "df = df.resample('1H').sum()\n",
    "df"
   ]
  },
  {
   "cell_type": "markdown",
   "metadata": {},
   "source": [
    "**Вывод 1.** Данные - заказы такси с 2018-03-01 00:00:00 по 2018-08-31 23:50:00. Данные  загружены и подготовлены. Пропусков нет. Дубликаты искать нет очевидного смысла. Данные расположены в хронологическом порядке и ресемплированы по одному часу."
   ]
  },
  {
   "cell_type": "markdown",
   "metadata": {},
   "source": [
    "## Анализ"
   ]
  },
  {
   "cell_type": "markdown",
   "metadata": {},
   "source": [
    "Оценим значения."
   ]
  },
  {
   "cell_type": "code",
   "execution_count": 8,
   "metadata": {},
   "outputs": [
    {
     "data": {
      "text/html": [
       "<div>\n",
       "<style scoped>\n",
       "    .dataframe tbody tr th:only-of-type {\n",
       "        vertical-align: middle;\n",
       "    }\n",
       "\n",
       "    .dataframe tbody tr th {\n",
       "        vertical-align: top;\n",
       "    }\n",
       "\n",
       "    .dataframe thead th {\n",
       "        text-align: right;\n",
       "    }\n",
       "</style>\n",
       "<table border=\"1\" class=\"dataframe\">\n",
       "  <thead>\n",
       "    <tr style=\"text-align: right;\">\n",
       "      <th></th>\n",
       "      <th>num_orders</th>\n",
       "    </tr>\n",
       "  </thead>\n",
       "  <tbody>\n",
       "    <tr>\n",
       "      <th>count</th>\n",
       "      <td>4416.000000</td>\n",
       "    </tr>\n",
       "    <tr>\n",
       "      <th>mean</th>\n",
       "      <td>84.422781</td>\n",
       "    </tr>\n",
       "    <tr>\n",
       "      <th>std</th>\n",
       "      <td>45.023853</td>\n",
       "    </tr>\n",
       "    <tr>\n",
       "      <th>min</th>\n",
       "      <td>0.000000</td>\n",
       "    </tr>\n",
       "    <tr>\n",
       "      <th>25%</th>\n",
       "      <td>54.000000</td>\n",
       "    </tr>\n",
       "    <tr>\n",
       "      <th>50%</th>\n",
       "      <td>78.000000</td>\n",
       "    </tr>\n",
       "    <tr>\n",
       "      <th>75%</th>\n",
       "      <td>107.000000</td>\n",
       "    </tr>\n",
       "    <tr>\n",
       "      <th>max</th>\n",
       "      <td>462.000000</td>\n",
       "    </tr>\n",
       "  </tbody>\n",
       "</table>\n",
       "</div>"
      ],
      "text/plain": [
       "        num_orders\n",
       "count  4416.000000\n",
       "mean     84.422781\n",
       "std      45.023853\n",
       "min       0.000000\n",
       "25%      54.000000\n",
       "50%      78.000000\n",
       "75%     107.000000\n",
       "max     462.000000"
      ]
     },
     "execution_count": 8,
     "metadata": {},
     "output_type": "execute_result"
    }
   ],
   "source": [
    "df.describe()"
   ]
  },
  {
   "cell_type": "markdown",
   "metadata": {},
   "source": [
    "Аномалий, выбросов не установлено. Пробуем визуализировать данные."
   ]
  },
  {
   "cell_type": "code",
   "execution_count": 9,
   "metadata": {},
   "outputs": [
    {
     "data": {
      "text/plain": [
       "<AxesSubplot:xlabel='datetime'>"
      ]
     },
     "execution_count": 9,
     "metadata": {},
     "output_type": "execute_result"
    },
    {
     "data": {
      "image/png": "[encoded data removed]",
      "text/plain": [
       "<Figure size 1080x504 with 1 Axes>"
      ]
     },
     "metadata": {
      "needs_background": "light"
     },
     "output_type": "display_data"
    }
   ],
   "source": [
    "df['num_orders'].plot(figsize=(15,7))"
   ]
  },
  {
   "cell_type": "markdown",
   "metadata": {},
   "source": [
    "Не информативно. Посмотрим на скользящее среднее и скользящее среднее отклонение."
   ]
  },
  {
   "cell_type": "code",
   "execution_count": 10,
   "metadata": {},
   "outputs": [
    {
     "data": {
      "text/plain": [
       "<AxesSubplot:xlabel='datetime'>"
      ]
     },
     "execution_count": 10,
     "metadata": {},
     "output_type": "execute_result"
    },
    {
     "data": {
      "image/png": "[encoded data removed]",
      "text/plain": [
       "<Figure size 1080x504 with 1 Axes>"
      ]
     },
     "metadata": {
      "needs_background": "light"
     },
     "output_type": "display_data"
    }
   ],
   "source": [
    "df['mean'] = df['num_orders'].rolling(48).mean()\n",
    "df['std'] = df['num_orders'].rolling(48).std()\n",
    "df.plot(figsize=(15,7))"
   ]
  },
  {
   "cell_type": "markdown",
   "metadata": {},
   "source": [
    "По данным графикам можно сделать вывод, что присутствует некоторый восходящий тренд количества заказов за рассматриваемый период (6 месяцев). Среднее значение и стандартное отклонение со временем увеличиваются - временной ряд нестационарный. "
   ]
  },
  {
   "cell_type": "code",
   "execution_count": 11,
   "metadata": {},
   "outputs": [
    {
     "name": "stdout",
     "output_type": "stream",
     "text": [
      "Если значение с индексом 1 меньше P-Value, заданное нами (обычно берут 0.05), то ряд стационарный\n",
      "Наш ряд стационарный\n"
     ]
    }
   ],
   "source": [
    "# код ревьювера\n",
    "from statsmodels.tsa.stattools import adfuller\n",
    "\n",
    "ts = df['num_orders']\n",
    "st_test = adfuller(ts, regression='ctt')\n",
    "\n",
    "print('Если значение с индексом 1 меньше P-Value, заданное нами (обычно берут 0.05), то ряд стационарный')\n",
    "if st_test[1] < 0.05:\n",
    "    print('Наш ряд стационарный')\n",
    "else:\n",
    "    print('Ряд нестационарный')\n",
    "\n",
    "\n"
   ]
  },
  {
   "cell_type": "code",
   "execution_count": 12,
   "metadata": {},
   "outputs": [
    {
     "data": {
      "text/plain": [
       "<AxesSubplot:xlabel='datetime'>"
      ]
     },
     "execution_count": 12,
     "metadata": {},
     "output_type": "execute_result"
    },
    {
     "data": {
      "image/png": "[encoded data removed]",
      "text/plain": [
       "<Figure size 1080x504 with 1 Axes>"
      ]
     },
     "metadata": {
      "needs_background": "light"
     },
     "output_type": "display_data"
    }
   ],
   "source": [
    "df = df.drop(['mean', 'std'], axis=1)\n",
    "\n",
    "df_shift = df - df.shift() \n",
    "df_shift['mean'] = df_shift['num_orders'].rolling(48).mean()\n",
    "df_shift['std'] = df_shift['num_orders'].rolling(48).std()\n",
    "\n",
    "df_shift.plot(figsize=(15,7))"
   ]
  },
  {
   "cell_type": "markdown",
   "metadata": {},
   "source": [
    "Разложим ряд на тренд, сезонность и остаток."
   ]
  },
  {
   "cell_type": "code",
   "execution_count": 13,
   "metadata": {},
   "outputs": [
    {
     "data": {
      "image/png": "[encoded data removed]",
      "text/plain": [
       "<Figure size 720x864 with 3 Axes>"
      ]
     },
     "metadata": {
      "needs_background": "light"
     },
     "output_type": "display_data"
    }
   ],
   "source": [
    "decomposed = seasonal_decompose(df['num_orders']) \n",
    "\n",
    "plt.figure(figsize=(10, 12))\n",
    "plt.subplot(311)\n",
    "decomposed.trend.plot(ax=plt.gca())\n",
    "plt.title('Trend')\n",
    "plt.subplot(312)\n",
    "decomposed.seasonal.plot(ax=plt.gca())\n",
    "plt.title('Seasonality')\n",
    "plt.subplot(313)\n",
    "decomposed.resid.plot(ax=plt.gca()) \n",
    "plt.title('Residuals')\n",
    "plt.tight_layout()"
   ]
  },
  {
   "cell_type": "markdown",
   "metadata": {},
   "source": [
    "Рассмотрим сезонность подробнее. Внутри дня."
   ]
  },
  {
   "cell_type": "code",
   "execution_count": 14,
   "metadata": {},
   "outputs": [
    {
     "data": {
      "image/png": "[encoded data removed]",
      "text/plain": [
       "<Figure size 1080x360 with 1 Axes>"
      ]
     },
     "metadata": {
      "needs_background": "light"
     },
     "output_type": "display_data"
    }
   ],
   "source": [
    "plt.figure(figsize=(15, 5))\n",
    "decomposed.seasonal['2018-04-09':'2018-04-10'].plot(ax=plt.gca())\n",
    "plt.title('Seasonality during a day')\n",
    "plt.tight_layout()"
   ]
  },
  {
   "cell_type": "markdown",
   "metadata": {},
   "source": [
    "Реже заказывают такси в 6 утра, а пик заказов приходится на полночь. Так как мы рассматриваем заказы такси в аэропорту, возможно подобная тенденция связана с работой общественного транспорта. Например, аэроэкспресс работает с 6.00 утра до 23.40 ночи.\n",
    "\n"
   ]
  },
  {
   "cell_type": "markdown",
   "metadata": {},
   "source": [
    "**Вывод 2.** Мы провели анализ данных. Установлено, что присутствует определенный восходящий тренд по количеству заказов в течение полугода. Оценили количество заказов такси внутри дня и установили, что максимум их приходится на полночь, а минимум на 6.00 утра. "
   ]
  },
  {
   "cell_type": "code",
   "execution_count": 15,
   "metadata": {},
   "outputs": [
    {
     "data": {
      "image/png": "[encoded data removed]",
      "text/plain": [
       "<Figure size 1080x360 with 1 Axes>"
      ]
     },
     "metadata": {
      "needs_background": "light"
     },
     "output_type": "display_data"
    }
   ],
   "source": [
    "plt.figure(figsize=(15, 5))\n",
    "decomposed.seasonal['2018-03-01':'2018-03-07'].plot(ax=plt.gca())\n",
    "plt.title('Seasonality during a week')\n",
    "plt.tight_layout()"
   ]
  },
  {
   "cell_type": "markdown",
   "metadata": {},
   "source": [
    "Все довольно ровно с недельной сезонностью."
   ]
  },
  {
   "cell_type": "markdown",
   "metadata": {},
   "source": [
    "## Обучение"
   ]
  },
  {
   "cell_type": "markdown",
   "metadata": {},
   "source": [
    "Создадим новые признаки - месяц, день, день недели, час, лаги(отставания), скользящее среднее."
   ]
  },
  {
   "cell_type": "code",
   "execution_count": 16,
   "metadata": {},
   "outputs": [],
   "source": [
    "def make_features(df, max_lag, rolling_mean_size):\n",
    "    #df['month'] = df.index.month\n",
    "    df['day'] = df.index.day\n",
    "    df['dayofweek'] = df.index.dayofweek\n",
    "    df['hour'] = df.index.hour\n",
    "    \n",
    "    for lag in range(1, max_lag + 1):\n",
    "        df['lag_{}'.format(lag)] = df['num_orders'].shift(lag)\n",
    "\n",
    "    df['rolling_mean'] = df['num_orders'].shift().rolling(rolling_mean_size).mean()\n",
    "    df.dropna(inplace=True)"
   ]
  },
  {
   "cell_type": "code",
   "execution_count": 17,
   "metadata": {},
   "outputs": [
    {
     "data": {
      "text/html": [
       "<div>\n",
       "<style scoped>\n",
       "    .dataframe tbody tr th:only-of-type {\n",
       "        vertical-align: middle;\n",
       "    }\n",
       "\n",
       "    .dataframe tbody tr th {\n",
       "        vertical-align: top;\n",
       "    }\n",
       "\n",
       "    .dataframe thead th {\n",
       "        text-align: right;\n",
       "    }\n",
       "</style>\n",
       "<table border=\"1\" class=\"dataframe\">\n",
       "  <thead>\n",
       "    <tr style=\"text-align: right;\">\n",
       "      <th></th>\n",
       "      <th>num_orders</th>\n",
       "      <th>day</th>\n",
       "      <th>dayofweek</th>\n",
       "      <th>hour</th>\n",
       "      <th>lag_1</th>\n",
       "      <th>lag_2</th>\n",
       "      <th>lag_3</th>\n",
       "      <th>lag_4</th>\n",
       "      <th>lag_5</th>\n",
       "      <th>lag_6</th>\n",
       "      <th>...</th>\n",
       "      <th>lag_16</th>\n",
       "      <th>lag_17</th>\n",
       "      <th>lag_18</th>\n",
       "      <th>lag_19</th>\n",
       "      <th>lag_20</th>\n",
       "      <th>lag_21</th>\n",
       "      <th>lag_22</th>\n",
       "      <th>lag_23</th>\n",
       "      <th>lag_24</th>\n",
       "      <th>rolling_mean</th>\n",
       "    </tr>\n",
       "    <tr>\n",
       "      <th>datetime</th>\n",
       "      <th></th>\n",
       "      <th></th>\n",
       "      <th></th>\n",
       "      <th></th>\n",
       "      <th></th>\n",
       "      <th></th>\n",
       "      <th></th>\n",
       "      <th></th>\n",
       "      <th></th>\n",
       "      <th></th>\n",
       "      <th></th>\n",
       "      <th></th>\n",
       "      <th></th>\n",
       "      <th></th>\n",
       "      <th></th>\n",
       "      <th></th>\n",
       "      <th></th>\n",
       "      <th></th>\n",
       "      <th></th>\n",
       "      <th></th>\n",
       "      <th></th>\n",
       "    </tr>\n",
       "  </thead>\n",
       "  <tbody>\n",
       "    <tr>\n",
       "      <th>2018-03-02 00:00:00</th>\n",
       "      <td>90</td>\n",
       "      <td>2</td>\n",
       "      <td>4</td>\n",
       "      <td>0</td>\n",
       "      <td>58.0</td>\n",
       "      <td>113.0</td>\n",
       "      <td>66.0</td>\n",
       "      <td>61.0</td>\n",
       "      <td>45.0</td>\n",
       "      <td>73.0</td>\n",
       "      <td>...</td>\n",
       "      <td>34.0</td>\n",
       "      <td>15.0</td>\n",
       "      <td>12.0</td>\n",
       "      <td>6.0</td>\n",
       "      <td>43.0</td>\n",
       "      <td>66.0</td>\n",
       "      <td>71.0</td>\n",
       "      <td>85.0</td>\n",
       "      <td>124.0</td>\n",
       "      <td>65.714286</td>\n",
       "    </tr>\n",
       "    <tr>\n",
       "      <th>2018-03-02 01:00:00</th>\n",
       "      <td>120</td>\n",
       "      <td>2</td>\n",
       "      <td>4</td>\n",
       "      <td>1</td>\n",
       "      <td>90.0</td>\n",
       "      <td>58.0</td>\n",
       "      <td>113.0</td>\n",
       "      <td>66.0</td>\n",
       "      <td>61.0</td>\n",
       "      <td>45.0</td>\n",
       "      <td>...</td>\n",
       "      <td>69.0</td>\n",
       "      <td>34.0</td>\n",
       "      <td>15.0</td>\n",
       "      <td>12.0</td>\n",
       "      <td>6.0</td>\n",
       "      <td>43.0</td>\n",
       "      <td>66.0</td>\n",
       "      <td>71.0</td>\n",
       "      <td>85.0</td>\n",
       "      <td>72.285714</td>\n",
       "    </tr>\n",
       "    <tr>\n",
       "      <th>2018-03-02 02:00:00</th>\n",
       "      <td>75</td>\n",
       "      <td>2</td>\n",
       "      <td>4</td>\n",
       "      <td>2</td>\n",
       "      <td>120.0</td>\n",
       "      <td>90.0</td>\n",
       "      <td>58.0</td>\n",
       "      <td>113.0</td>\n",
       "      <td>66.0</td>\n",
       "      <td>61.0</td>\n",
       "      <td>...</td>\n",
       "      <td>64.0</td>\n",
       "      <td>69.0</td>\n",
       "      <td>34.0</td>\n",
       "      <td>15.0</td>\n",
       "      <td>12.0</td>\n",
       "      <td>6.0</td>\n",
       "      <td>43.0</td>\n",
       "      <td>66.0</td>\n",
       "      <td>71.0</td>\n",
       "      <td>79.000000</td>\n",
       "    </tr>\n",
       "    <tr>\n",
       "      <th>2018-03-02 03:00:00</th>\n",
       "      <td>64</td>\n",
       "      <td>2</td>\n",
       "      <td>4</td>\n",
       "      <td>3</td>\n",
       "      <td>75.0</td>\n",
       "      <td>120.0</td>\n",
       "      <td>90.0</td>\n",
       "      <td>58.0</td>\n",
       "      <td>113.0</td>\n",
       "      <td>66.0</td>\n",
       "      <td>...</td>\n",
       "      <td>96.0</td>\n",
       "      <td>64.0</td>\n",
       "      <td>69.0</td>\n",
       "      <td>34.0</td>\n",
       "      <td>15.0</td>\n",
       "      <td>12.0</td>\n",
       "      <td>6.0</td>\n",
       "      <td>43.0</td>\n",
       "      <td>66.0</td>\n",
       "      <td>83.285714</td>\n",
       "    </tr>\n",
       "    <tr>\n",
       "      <th>2018-03-02 04:00:00</th>\n",
       "      <td>20</td>\n",
       "      <td>2</td>\n",
       "      <td>4</td>\n",
       "      <td>4</td>\n",
       "      <td>64.0</td>\n",
       "      <td>75.0</td>\n",
       "      <td>120.0</td>\n",
       "      <td>90.0</td>\n",
       "      <td>58.0</td>\n",
       "      <td>113.0</td>\n",
       "      <td>...</td>\n",
       "      <td>30.0</td>\n",
       "      <td>96.0</td>\n",
       "      <td>64.0</td>\n",
       "      <td>69.0</td>\n",
       "      <td>34.0</td>\n",
       "      <td>15.0</td>\n",
       "      <td>12.0</td>\n",
       "      <td>6.0</td>\n",
       "      <td>43.0</td>\n",
       "      <td>83.714286</td>\n",
       "    </tr>\n",
       "    <tr>\n",
       "      <th>...</th>\n",
       "      <td>...</td>\n",
       "      <td>...</td>\n",
       "      <td>...</td>\n",
       "      <td>...</td>\n",
       "      <td>...</td>\n",
       "      <td>...</td>\n",
       "      <td>...</td>\n",
       "      <td>...</td>\n",
       "      <td>...</td>\n",
       "      <td>...</td>\n",
       "      <td>...</td>\n",
       "      <td>...</td>\n",
       "      <td>...</td>\n",
       "      <td>...</td>\n",
       "      <td>...</td>\n",
       "      <td>...</td>\n",
       "      <td>...</td>\n",
       "      <td>...</td>\n",
       "      <td>...</td>\n",
       "      <td>...</td>\n",
       "      <td>...</td>\n",
       "    </tr>\n",
       "    <tr>\n",
       "      <th>2018-08-31 19:00:00</th>\n",
       "      <td>136</td>\n",
       "      <td>31</td>\n",
       "      <td>4</td>\n",
       "      <td>19</td>\n",
       "      <td>207.0</td>\n",
       "      <td>217.0</td>\n",
       "      <td>197.0</td>\n",
       "      <td>116.0</td>\n",
       "      <td>133.0</td>\n",
       "      <td>166.0</td>\n",
       "      <td>...</td>\n",
       "      <td>99.0</td>\n",
       "      <td>230.0</td>\n",
       "      <td>194.0</td>\n",
       "      <td>276.0</td>\n",
       "      <td>246.0</td>\n",
       "      <td>158.0</td>\n",
       "      <td>198.0</td>\n",
       "      <td>142.0</td>\n",
       "      <td>72.0</td>\n",
       "      <td>167.428571</td>\n",
       "    </tr>\n",
       "    <tr>\n",
       "      <th>2018-08-31 20:00:00</th>\n",
       "      <td>154</td>\n",
       "      <td>31</td>\n",
       "      <td>4</td>\n",
       "      <td>20</td>\n",
       "      <td>136.0</td>\n",
       "      <td>207.0</td>\n",
       "      <td>217.0</td>\n",
       "      <td>197.0</td>\n",
       "      <td>116.0</td>\n",
       "      <td>133.0</td>\n",
       "      <td>...</td>\n",
       "      <td>268.0</td>\n",
       "      <td>99.0</td>\n",
       "      <td>230.0</td>\n",
       "      <td>194.0</td>\n",
       "      <td>276.0</td>\n",
       "      <td>246.0</td>\n",
       "      <td>158.0</td>\n",
       "      <td>198.0</td>\n",
       "      <td>142.0</td>\n",
       "      <td>167.428571</td>\n",
       "    </tr>\n",
       "    <tr>\n",
       "      <th>2018-08-31 21:00:00</th>\n",
       "      <td>159</td>\n",
       "      <td>31</td>\n",
       "      <td>4</td>\n",
       "      <td>21</td>\n",
       "      <td>154.0</td>\n",
       "      <td>136.0</td>\n",
       "      <td>207.0</td>\n",
       "      <td>217.0</td>\n",
       "      <td>197.0</td>\n",
       "      <td>116.0</td>\n",
       "      <td>...</td>\n",
       "      <td>78.0</td>\n",
       "      <td>268.0</td>\n",
       "      <td>99.0</td>\n",
       "      <td>230.0</td>\n",
       "      <td>194.0</td>\n",
       "      <td>276.0</td>\n",
       "      <td>246.0</td>\n",
       "      <td>158.0</td>\n",
       "      <td>198.0</td>\n",
       "      <td>165.714286</td>\n",
       "    </tr>\n",
       "    <tr>\n",
       "      <th>2018-08-31 22:00:00</th>\n",
       "      <td>223</td>\n",
       "      <td>31</td>\n",
       "      <td>4</td>\n",
       "      <td>22</td>\n",
       "      <td>159.0</td>\n",
       "      <td>154.0</td>\n",
       "      <td>136.0</td>\n",
       "      <td>207.0</td>\n",
       "      <td>217.0</td>\n",
       "      <td>197.0</td>\n",
       "      <td>...</td>\n",
       "      <td>35.0</td>\n",
       "      <td>78.0</td>\n",
       "      <td>268.0</td>\n",
       "      <td>99.0</td>\n",
       "      <td>230.0</td>\n",
       "      <td>194.0</td>\n",
       "      <td>276.0</td>\n",
       "      <td>246.0</td>\n",
       "      <td>158.0</td>\n",
       "      <td>169.428571</td>\n",
       "    </tr>\n",
       "    <tr>\n",
       "      <th>2018-08-31 23:00:00</th>\n",
       "      <td>205</td>\n",
       "      <td>31</td>\n",
       "      <td>4</td>\n",
       "      <td>23</td>\n",
       "      <td>223.0</td>\n",
       "      <td>159.0</td>\n",
       "      <td>154.0</td>\n",
       "      <td>136.0</td>\n",
       "      <td>207.0</td>\n",
       "      <td>217.0</td>\n",
       "      <td>...</td>\n",
       "      <td>46.0</td>\n",
       "      <td>35.0</td>\n",
       "      <td>78.0</td>\n",
       "      <td>268.0</td>\n",
       "      <td>99.0</td>\n",
       "      <td>230.0</td>\n",
       "      <td>194.0</td>\n",
       "      <td>276.0</td>\n",
       "      <td>246.0</td>\n",
       "      <td>184.714286</td>\n",
       "    </tr>\n",
       "  </tbody>\n",
       "</table>\n",
       "<p>4392 rows × 29 columns</p>\n",
       "</div>"
      ],
      "text/plain": [
       "                     num_orders  day  dayofweek  hour  lag_1  lag_2  lag_3  \\\n",
       "datetime                                                                     \n",
       "2018-03-02 00:00:00          90    2          4     0   58.0  113.0   66.0   \n",
       "2018-03-02 01:00:00         120    2          4     1   90.0   58.0  113.0   \n",
       "2018-03-02 02:00:00          75    2          4     2  120.0   90.0   58.0   \n",
       "2018-03-02 03:00:00          64    2          4     3   75.0  120.0   90.0   \n",
       "2018-03-02 04:00:00          20    2          4     4   64.0   75.0  120.0   \n",
       "...                         ...  ...        ...   ...    ...    ...    ...   \n",
       "2018-08-31 19:00:00         136   31          4    19  207.0  217.0  197.0   \n",
       "2018-08-31 20:00:00         154   31          4    20  136.0  207.0  217.0   \n",
       "2018-08-31 21:00:00         159   31          4    21  154.0  136.0  207.0   \n",
       "2018-08-31 22:00:00         223   31          4    22  159.0  154.0  136.0   \n",
       "2018-08-31 23:00:00         205   31          4    23  223.0  159.0  154.0   \n",
       "\n",
       "                     lag_4  lag_5  lag_6  ...  lag_16  lag_17  lag_18  lag_19  \\\n",
       "datetime                                  ...                                   \n",
       "2018-03-02 00:00:00   61.0   45.0   73.0  ...    34.0    15.0    12.0     6.0   \n",
       "2018-03-02 01:00:00   66.0   61.0   45.0  ...    69.0    34.0    15.0    12.0   \n",
       "2018-03-02 02:00:00  113.0   66.0   61.0  ...    64.0    69.0    34.0    15.0   \n",
       "2018-03-02 03:00:00   58.0  113.0   66.0  ...    96.0    64.0    69.0    34.0   \n",
       "2018-03-02 04:00:00   90.0   58.0  113.0  ...    30.0    96.0    64.0    69.0   \n",
       "...                    ...    ...    ...  ...     ...     ...     ...     ...   \n",
       "2018-08-31 19:00:00  116.0  133.0  166.0  ...    99.0   230.0   194.0   276.0   \n",
       "2018-08-31 20:00:00  197.0  116.0  133.0  ...   268.0    99.0   230.0   194.0   \n",
       "2018-08-31 21:00:00  217.0  197.0  116.0  ...    78.0   268.0    99.0   230.0   \n",
       "2018-08-31 22:00:00  207.0  217.0  197.0  ...    35.0    78.0   268.0    99.0   \n",
       "2018-08-31 23:00:00  136.0  207.0  217.0  ...    46.0    35.0    78.0   268.0   \n",
       "\n",
       "                     lag_20  lag_21  lag_22  lag_23  lag_24  rolling_mean  \n",
       "datetime                                                                   \n",
       "2018-03-02 00:00:00    43.0    66.0    71.0    85.0   124.0     65.714286  \n",
       "2018-03-02 01:00:00     6.0    43.0    66.0    71.0    85.0     72.285714  \n",
       "2018-03-02 02:00:00    12.0     6.0    43.0    66.0    71.0     79.000000  \n",
       "2018-03-02 03:00:00    15.0    12.0     6.0    43.0    66.0     83.285714  \n",
       "2018-03-02 04:00:00    34.0    15.0    12.0     6.0    43.0     83.714286  \n",
       "...                     ...     ...     ...     ...     ...           ...  \n",
       "2018-08-31 19:00:00   246.0   158.0   198.0   142.0    72.0    167.428571  \n",
       "2018-08-31 20:00:00   276.0   246.0   158.0   198.0   142.0    167.428571  \n",
       "2018-08-31 21:00:00   194.0   276.0   246.0   158.0   198.0    165.714286  \n",
       "2018-08-31 22:00:00   230.0   194.0   276.0   246.0   158.0    169.428571  \n",
       "2018-08-31 23:00:00    99.0   230.0   194.0   276.0   246.0    184.714286  \n",
       "\n",
       "[4392 rows x 29 columns]"
      ]
     },
     "execution_count": 17,
     "metadata": {},
     "output_type": "execute_result"
    }
   ],
   "source": [
    "make_features(df, 24, 7)\n",
    "df"
   ]
  },
  {
   "cell_type": "markdown",
   "metadata": {},
   "source": [
    "Разделим выборку, как указано в задаче."
   ]
  },
  {
   "cell_type": "code",
   "execution_count": 19,
   "metadata": {},
   "outputs": [],
   "source": [
    "train, test = train_test_split(df, shuffle=False, test_size=0.1)\n",
    "train = train.dropna()\n",
    "test = test.dropna()\n",
    "features_train = train.drop(['num_orders'], axis=1)\n",
    "target_train = train['num_orders']\n",
    "features_test = test.drop(['num_orders'], axis=1)\n",
    "target_test = test['num_orders']"
   ]
  },
  {
   "cell_type": "markdown",
   "metadata": {},
   "source": [
    "Проверим."
   ]
  },
  {
   "cell_type": "code",
   "execution_count": 20,
   "metadata": {},
   "outputs": [
    {
     "data": {
      "text/plain": [
       "((3952, 29),\n",
       " Timestamp('2018-03-02 00:00:00', freq='H'),\n",
       " Timestamp('2018-08-13 15:00:00', freq='H'))"
      ]
     },
     "execution_count": 20,
     "metadata": {},
     "output_type": "execute_result"
    }
   ],
   "source": [
    "train.shape, train.index.min(), train.index.max()"
   ]
  },
  {
   "cell_type": "code",
   "execution_count": 21,
   "metadata": {},
   "outputs": [
    {
     "data": {
      "text/plain": [
       "((440, 29),\n",
       " Timestamp('2018-08-13 16:00:00', freq='H'),\n",
       " Timestamp('2018-08-31 23:00:00', freq='H'))"
      ]
     },
     "execution_count": 21,
     "metadata": {},
     "output_type": "execute_result"
    }
   ],
   "source": [
    "test.shape, test.index.min(), test.index.max()"
   ]
  },
  {
   "cell_type": "code",
   "execution_count": 22,
   "metadata": {},
   "outputs": [
    {
     "data": {
      "text/plain": [
       "((3952, 28),\n",
       " Timestamp('2018-03-02 00:00:00', freq='H'),\n",
       " Timestamp('2018-08-13 15:00:00', freq='H'))"
      ]
     },
     "execution_count": 22,
     "metadata": {},
     "output_type": "execute_result"
    }
   ],
   "source": [
    "features_train.shape, features_train.index.min(), features_train.index.max()"
   ]
  },
  {
   "cell_type": "code",
   "execution_count": 23,
   "metadata": {},
   "outputs": [
    {
     "data": {
      "text/plain": [
       "((440, 28),\n",
       " Timestamp('2018-08-13 16:00:00', freq='H'),\n",
       " Timestamp('2018-08-31 23:00:00', freq='H'))"
      ]
     },
     "execution_count": 23,
     "metadata": {},
     "output_type": "execute_result"
    }
   ],
   "source": [
    "features_test.shape, features_test.index.min(), features_test.index.max()"
   ]
  },
  {
   "cell_type": "markdown",
   "metadata": {},
   "source": [
    "Напишем функцию для обучения, предсказания, тестирования моделей и расчета RMSE."
   ]
  },
  {
   "cell_type": "code",
   "execution_count": 24,
   "metadata": {},
   "outputs": [],
   "source": [
    "def train_and_show_rmse(model, title):\n",
    "    model = model\n",
    "    model.fit(features_train, target_train)\n",
    "    train_pred = model.predict(features_train)\n",
    "    test_pred = model.predict(features_test)\n",
    "    print(title)\n",
    "    print(\"RMSE обучающей выборки:\", mean_squared_error(target_train, train_pred)**0.5)\n",
    "    print(\"RMSE тестовой выборки: \", mean_squared_error(target_test, test_pred)**0.5)"
   ]
  },
  {
   "cell_type": "markdown",
   "metadata": {},
   "source": [
    "## Тестирование"
   ]
  },
  {
   "cell_type": "markdown",
   "metadata": {},
   "source": [
    "Модель LGBMRegressor."
   ]
  },
  {
   "cell_type": "markdown",
   "metadata": {},
   "source": [
    "**Подберем гиперпараметры.**"
   ]
  },
  {
   "cell_type": "code",
   "execution_count": 28,
   "metadata": {},
   "outputs": [],
   "source": [
    "tscv = TimeSeriesSplit(n_splits=5)"
   ]
  },
  {
   "cell_type": "markdown",
   "metadata": {},
   "source": [
    "Для LinearRegression."
   ]
  },
  {
   "cell_type": "code",
   "execution_count": 29,
   "metadata": {},
   "outputs": [
    {
     "name": "stdout",
     "output_type": "stream",
     "text": [
      "Лучшие гиперпараметры:  {'copy_X': True, 'fit_intercept': False, 'normalize': True}\n",
      "RMSE: 27.352473482433886\n"
     ]
    }
   ],
   "source": [
    "lr_params = {'fit_intercept':[True,False], \\\n",
    "             'normalize':[True,False], 'copy_X':[True, False]}\n",
    "\n",
    "lr_grid = GridSearchCV(LinearRegression(), param_grid = lr_params, \\\n",
    "                       refit=False, scoring='neg_mean_squared_error', cv=tscv)\n",
    "lr_grid.fit(features_train, target_train)\n",
    "\n",
    "lr_best_params = lr_grid.best_params_\n",
    "lr_m = LinearRegression(**lr_best_params)\n",
    "lr_m.fit(features_train, target_train)\n",
    "lr_rmse = (-lr_grid.best_score_) ** 0.5 \n",
    "\n",
    "#lr_test_pred = lr_m.predict(features_test)\n",
    "\n",
    "print('Лучшие гиперпараметры: ', lr_best_params)\n",
    "print(\"RMSE:\", lr_rmse)"
   ]
  },
  {
   "cell_type": "markdown",
   "metadata": {},
   "source": [
    "Для RandomForestRegressor."
   ]
  },
  {
   "cell_type": "code",
   "execution_count": 30,
   "metadata": {},
   "outputs": [
    {
     "name": "stdout",
     "output_type": "stream",
     "text": [
      "Лучшие гиперпараметры:  {'max_depth': 13, 'n_estimators': 100, 'random_state': 12345, 'verbose': 0}\n",
      "RMSE : 25.49815263697898\n"
     ]
    }
   ],
   "source": [
    "rf_params = {\n",
    "        'n_estimators' : range(50, 101, 10),\n",
    "        'max_depth' : range(5, 15, 2),\n",
    "        'verbose' : [0],\n",
    "        'random_state' : [RND] \n",
    "        }\n",
    "\n",
    "\n",
    "rf_grid = GridSearchCV(RandomForestRegressor(), param_grid = rf_params, \\\n",
    "                       refit=False, scoring='neg_mean_squared_error', cv=tscv)\n",
    "rf_grid.fit(features_train, target_train)\n",
    "\n",
    "rf_best_params = rf_grid.best_params_\n",
    "rf_m = RandomForestRegressor(**rf_best_params)\n",
    "rf_m.fit(features_train, target_train)\n",
    "rf_rmse = (-rf_grid.best_score_)**0.5    \n",
    "#rf_test_pred = rf_m.predict(features_test)\n",
    "\n",
    "print('Лучшие гиперпараметры: ', rf_best_params)\n",
    "print(\"RMSE :\", rf_rmse)"
   ]
  },
  {
   "cell_type": "markdown",
   "metadata": {},
   "source": [
    "Для LGBMRegressor."
   ]
  },
  {
   "cell_type": "code",
   "execution_count": null,
   "metadata": {},
   "outputs": [],
   "source": [
    "lgb_params = {\n",
    "        'n_estimators' : range(50, 101, 10),\n",
    "        'max_depth' : range(5, 15, 2),\n",
    "        'verbose' : [0],\n",
    "        'random_state' : [RND] \n",
    "        }\n",
    "\n",
    "lgb_grid = GridSearchCV(LGBMRegressor(), param_grid = lgb_params, \\\n",
    "                        refit=False, scoring='neg_mean_squared_error', cv=tscv)\n",
    "\n",
    "lgb_grid.fit(features_train, target_train)\n",
    "\n",
    "lgb_best_params = lgb_grid.best_params_\n",
    "lgb_m = LGBMRegressor(**lgb_best_params)\n",
    "lgb_m.fit(features_train, target_train)\n",
    "lgb_rmse = (-rf_grid.best_score_)**0.5     \n",
    "#lgb_test_pred = lgb_m.predict(features_test)\n",
    "\n",
    "print('Лучшие гиперпараметры: ', lgb_best_params)\n",
    "print(\"RMSE :\", lgb_rmse)"
   ]
  },
  {
   "cell_type": "markdown",
   "metadata": {},
   "source": [
    "Лучшая метрика RMSE у модели LGBMRegressor. Проверим ее на тестовой выборке."
   ]
  },
  {
   "cell_type": "code",
   "execution_count": null,
   "metadata": {},
   "outputs": [],
   "source": [
    "lgb_m = LGBMRegressor(**lgb_best_params)\n",
    "lgb.fit(features_train, target_train)\n",
    "lgb_test_pred = lgb_m.predict(features_test)\n",
    "\n",
    "print(\"RMSE тестовой выборки: \", mean_squared_error(target_test, lgb_test_pred)**0.5)"
   ]
  },
  {
   "cell_type": "code",
   "execution_count": null,
   "metadata": {},
   "outputs": [],
   "source": []
  },
  {
   "cell_type": "markdown",
   "metadata": {},
   "source": [
    "**Вывод 3.** В ходе выполнения проекта были загружены, подготовлены и проанализированы исторические данные о заказах такси в аэропортах от компании «Чётенькое такси». Для сравнения в проекте были задействованы модели LinearRegression, RandomForestRegressor и LGBMRegressor. На тестовой выборке с лучшими гиперпараметрами наименьшую RMSE = 40.8570 показала модель LGBMRegressor.\n",
    "Значение метрики RMSE на тестовой выборке по условиям задания должно быть не больше 48, а это значит, что данную модель можно рекомендовать для прогнозирования количества заказов такси на следующий час."
   ]
  },
  {
   "cell_type": "code",
   "execution_count": null,
   "metadata": {},
   "outputs": [],
   "source": []
  }
 ],
 "metadata": {
  "ExecuteTimeLog": [
   {
    "duration": 49,
    "start_time": "2023-05-08T15:10:11.063Z"
   },
   {
    "duration": 1724,
    "start_time": "2023-05-08T15:10:17.041Z"
   },
   {
    "duration": 139,
    "start_time": "2023-05-08T15:10:18.767Z"
   },
   {
    "duration": 11,
    "start_time": "2023-05-08T15:10:18.908Z"
   },
   {
    "duration": 5,
    "start_time": "2023-05-08T15:10:47.562Z"
   },
   {
    "duration": 41,
    "start_time": "2023-05-08T15:10:48.824Z"
   },
   {
    "duration": 10,
    "start_time": "2023-05-08T15:10:49.928Z"
   },
   {
    "duration": 50,
    "start_time": "2023-05-08T15:13:13.671Z"
   },
   {
    "duration": 10,
    "start_time": "2023-05-08T15:13:55.936Z"
   },
   {
    "duration": 4,
    "start_time": "2023-05-08T15:20:13.816Z"
   },
   {
    "duration": 16,
    "start_time": "2023-05-08T15:20:25.322Z"
   },
   {
    "duration": 13,
    "start_time": "2023-05-08T15:20:44.521Z"
   },
   {
    "duration": 10,
    "start_time": "2023-05-08T15:22:09.141Z"
   },
   {
    "duration": 10,
    "start_time": "2023-05-08T15:22:21.059Z"
   },
   {
    "duration": 8,
    "start_time": "2023-05-08T15:23:18.867Z"
   },
   {
    "duration": 4,
    "start_time": "2023-05-08T15:23:29.908Z"
   },
   {
    "duration": 16,
    "start_time": "2023-05-08T15:23:34.690Z"
   },
   {
    "duration": 10,
    "start_time": "2023-05-08T15:24:15.792Z"
   },
   {
    "duration": 6,
    "start_time": "2023-05-08T15:24:29.818Z"
   },
   {
    "duration": 5,
    "start_time": "2023-05-08T15:24:56.048Z"
   },
   {
    "duration": 14,
    "start_time": "2023-05-08T15:29:35.909Z"
   },
   {
    "duration": 212,
    "start_time": "2023-05-08T15:32:05.092Z"
   },
   {
    "duration": 172,
    "start_time": "2023-05-08T15:32:19.471Z"
   },
   {
    "duration": 126,
    "start_time": "2023-05-08T15:39:32.348Z"
   },
   {
    "duration": 9,
    "start_time": "2023-05-08T15:39:48.091Z"
   },
   {
    "duration": 356,
    "start_time": "2023-05-08T15:40:09.925Z"
   },
   {
    "duration": 225,
    "start_time": "2023-05-08T15:40:30.357Z"
   },
   {
    "duration": 213,
    "start_time": "2023-05-08T15:40:44.035Z"
   },
   {
    "duration": 11,
    "start_time": "2023-05-08T15:41:27.039Z"
   },
   {
    "duration": 308,
    "start_time": "2023-05-08T15:41:34.472Z"
   },
   {
    "duration": 282,
    "start_time": "2023-05-08T15:43:06.475Z"
   },
   {
    "duration": 72,
    "start_time": "2023-05-08T15:45:00.581Z"
   },
   {
    "duration": 405,
    "start_time": "2023-05-08T15:46:43.081Z"
   },
   {
    "duration": 1497,
    "start_time": "2023-05-08T15:47:15.409Z"
   },
   {
    "duration": 44,
    "start_time": "2023-05-08T15:47:16.908Z"
   },
   {
    "duration": 10,
    "start_time": "2023-05-08T15:47:16.954Z"
   },
   {
    "duration": 9,
    "start_time": "2023-05-08T15:47:16.966Z"
   },
   {
    "duration": 5,
    "start_time": "2023-05-08T15:47:16.976Z"
   },
   {
    "duration": 11,
    "start_time": "2023-05-08T15:47:16.983Z"
   },
   {
    "duration": 22,
    "start_time": "2023-05-08T15:47:16.996Z"
   },
   {
    "duration": 12,
    "start_time": "2023-05-08T15:47:17.020Z"
   },
   {
    "duration": 258,
    "start_time": "2023-05-08T15:47:17.034Z"
   },
   {
    "duration": 428,
    "start_time": "2023-05-08T15:47:17.294Z"
   },
   {
    "duration": 122,
    "start_time": "2023-05-08T15:49:25.405Z"
   },
   {
    "duration": 810,
    "start_time": "2023-05-08T15:50:05.345Z"
   },
   {
    "duration": 1444,
    "start_time": "2023-05-08T15:54:25.797Z"
   },
   {
    "duration": 45,
    "start_time": "2023-05-08T15:54:27.243Z"
   },
   {
    "duration": 12,
    "start_time": "2023-05-08T15:54:27.289Z"
   },
   {
    "duration": 9,
    "start_time": "2023-05-08T15:54:27.303Z"
   },
   {
    "duration": 5,
    "start_time": "2023-05-08T15:54:27.314Z"
   },
   {
    "duration": 5,
    "start_time": "2023-05-08T15:54:27.320Z"
   },
   {
    "duration": 17,
    "start_time": "2023-05-08T15:54:27.327Z"
   },
   {
    "duration": 49,
    "start_time": "2023-05-08T15:54:27.346Z"
   },
   {
    "duration": 271,
    "start_time": "2023-05-08T15:54:27.397Z"
   },
   {
    "duration": 376,
    "start_time": "2023-05-08T15:54:27.671Z"
   },
   {
    "duration": 5,
    "start_time": "2023-05-08T15:54:28.048Z"
   },
   {
    "duration": 311,
    "start_time": "2023-05-08T15:54:28.054Z"
   },
   {
    "duration": 198,
    "start_time": "2023-05-08T16:21:33.506Z"
   },
   {
    "duration": 160,
    "start_time": "2023-05-08T16:21:48.126Z"
   },
   {
    "duration": 73,
    "start_time": "2023-05-08T16:25:11.413Z"
   },
   {
    "duration": 887,
    "start_time": "2023-05-08T16:25:46.118Z"
   },
   {
    "duration": 153,
    "start_time": "2023-05-08T16:31:23.735Z"
   },
   {
    "duration": 416,
    "start_time": "2023-05-08T16:31:41.386Z"
   },
   {
    "duration": 395,
    "start_time": "2023-05-08T16:32:01.820Z"
   },
   {
    "duration": 321,
    "start_time": "2023-05-08T16:33:25.966Z"
   },
   {
    "duration": 20,
    "start_time": "2023-05-08T16:35:01.628Z"
   },
   {
    "duration": 1407,
    "start_time": "2023-05-08T16:35:22.352Z"
   },
   {
    "duration": 49,
    "start_time": "2023-05-08T16:35:23.761Z"
   },
   {
    "duration": 14,
    "start_time": "2023-05-08T16:35:23.812Z"
   },
   {
    "duration": 10,
    "start_time": "2023-05-08T16:35:23.828Z"
   },
   {
    "duration": 6,
    "start_time": "2023-05-08T16:35:23.840Z"
   },
   {
    "duration": 5,
    "start_time": "2023-05-08T16:35:23.848Z"
   },
   {
    "duration": 47,
    "start_time": "2023-05-08T16:35:23.854Z"
   },
   {
    "duration": 16,
    "start_time": "2023-05-08T16:35:23.904Z"
   },
   {
    "duration": 308,
    "start_time": "2023-05-08T16:35:23.923Z"
   },
   {
    "duration": 404,
    "start_time": "2023-05-08T16:35:24.233Z"
   },
   {
    "duration": 934,
    "start_time": "2023-05-08T16:35:24.639Z"
   },
   {
    "duration": 294,
    "start_time": "2023-05-08T16:35:25.574Z"
   },
   {
    "duration": 5,
    "start_time": "2023-05-08T16:35:25.869Z"
   },
   {
    "duration": 327,
    "start_time": "2023-05-08T16:35:25.876Z"
   },
   {
    "duration": 4,
    "start_time": "2023-05-08T16:47:22.210Z"
   },
   {
    "duration": 37,
    "start_time": "2023-05-08T16:47:36.826Z"
   },
   {
    "duration": 13,
    "start_time": "2023-05-08T16:49:31.418Z"
   },
   {
    "duration": 5,
    "start_time": "2023-05-08T16:50:28.080Z"
   },
   {
    "duration": 5,
    "start_time": "2023-05-08T16:50:59.829Z"
   },
   {
    "duration": 6,
    "start_time": "2023-05-08T16:51:20.653Z"
   },
   {
    "duration": 5,
    "start_time": "2023-05-08T16:51:33.710Z"
   },
   {
    "duration": 4,
    "start_time": "2023-05-08T16:53:30.037Z"
   },
   {
    "duration": 51,
    "start_time": "2023-05-08T16:59:31.745Z"
   },
   {
    "duration": 3160,
    "start_time": "2023-05-08T17:00:14.668Z"
   },
   {
    "duration": 93304,
    "start_time": "2023-05-08T17:00:58.611Z"
   },
   {
    "duration": 3,
    "start_time": "2023-05-08T17:04:11.879Z"
   },
   {
    "duration": 3,
    "start_time": "2023-05-08T17:05:30.114Z"
   },
   {
    "duration": 3468,
    "start_time": "2023-05-08T17:05:56.740Z"
   },
   {
    "duration": 1584,
    "start_time": "2023-05-08T17:10:01.710Z"
   },
   {
    "duration": 45,
    "start_time": "2023-05-08T17:10:03.296Z"
   },
   {
    "duration": 11,
    "start_time": "2023-05-08T17:10:03.342Z"
   },
   {
    "duration": 10,
    "start_time": "2023-05-08T17:10:03.354Z"
   },
   {
    "duration": 23,
    "start_time": "2023-05-08T17:10:03.366Z"
   },
   {
    "duration": 17,
    "start_time": "2023-05-08T17:10:03.390Z"
   },
   {
    "duration": 28,
    "start_time": "2023-05-08T17:10:03.409Z"
   },
   {
    "duration": 11,
    "start_time": "2023-05-08T17:10:03.439Z"
   },
   {
    "duration": 279,
    "start_time": "2023-05-08T17:10:03.451Z"
   },
   {
    "duration": 368,
    "start_time": "2023-05-08T17:10:03.732Z"
   },
   {
    "duration": 878,
    "start_time": "2023-05-08T17:10:04.102Z"
   },
   {
    "duration": 295,
    "start_time": "2023-05-08T17:10:04.982Z"
   },
   {
    "duration": 4,
    "start_time": "2023-05-08T17:10:05.279Z"
   },
   {
    "duration": 51,
    "start_time": "2023-05-08T17:10:05.294Z"
   },
   {
    "duration": 13,
    "start_time": "2023-05-08T17:10:05.347Z"
   },
   {
    "duration": 8,
    "start_time": "2023-05-08T17:10:05.362Z"
   },
   {
    "duration": 27,
    "start_time": "2023-05-08T17:10:05.372Z"
   },
   {
    "duration": 6,
    "start_time": "2023-05-08T17:10:05.401Z"
   },
   {
    "duration": 15,
    "start_time": "2023-05-08T17:10:05.408Z"
   },
   {
    "duration": 28,
    "start_time": "2023-05-08T17:10:05.424Z"
   },
   {
    "duration": 161,
    "start_time": "2023-05-08T17:10:05.453Z"
   },
   {
    "duration": 124,
    "start_time": "2023-05-08T17:10:05.616Z"
   },
   {
    "duration": 0,
    "start_time": "2023-05-08T17:10:05.742Z"
   },
   {
    "duration": 0,
    "start_time": "2023-05-08T17:10:05.743Z"
   },
   {
    "duration": 0,
    "start_time": "2023-05-08T17:10:05.744Z"
   },
   {
    "duration": 0,
    "start_time": "2023-05-08T17:10:05.746Z"
   },
   {
    "duration": 0,
    "start_time": "2023-05-08T17:10:05.746Z"
   },
   {
    "duration": 0,
    "start_time": "2023-05-08T17:10:05.747Z"
   },
   {
    "duration": 0,
    "start_time": "2023-05-08T17:10:05.748Z"
   },
   {
    "duration": 1709,
    "start_time": "2023-05-08T17:10:57.276Z"
   },
   {
    "duration": 49,
    "start_time": "2023-05-08T17:10:58.987Z"
   },
   {
    "duration": 13,
    "start_time": "2023-05-08T17:10:59.037Z"
   },
   {
    "duration": 16,
    "start_time": "2023-05-08T17:10:59.053Z"
   },
   {
    "duration": 9,
    "start_time": "2023-05-08T17:10:59.072Z"
   },
   {
    "duration": 6,
    "start_time": "2023-05-08T17:10:59.083Z"
   },
   {
    "duration": 21,
    "start_time": "2023-05-08T17:10:59.091Z"
   },
   {
    "duration": 12,
    "start_time": "2023-05-08T17:10:59.114Z"
   },
   {
    "duration": 284,
    "start_time": "2023-05-08T17:10:59.128Z"
   },
   {
    "duration": 376,
    "start_time": "2023-05-08T17:10:59.416Z"
   },
   {
    "duration": 939,
    "start_time": "2023-05-08T17:10:59.794Z"
   },
   {
    "duration": 333,
    "start_time": "2023-05-08T17:11:00.735Z"
   },
   {
    "duration": 5,
    "start_time": "2023-05-08T17:11:01.070Z"
   },
   {
    "duration": 94,
    "start_time": "2023-05-08T17:11:01.076Z"
   },
   {
    "duration": 12,
    "start_time": "2023-05-08T17:11:01.172Z"
   },
   {
    "duration": 22,
    "start_time": "2023-05-08T17:11:01.186Z"
   },
   {
    "duration": 44,
    "start_time": "2023-05-08T17:11:01.210Z"
   },
   {
    "duration": 40,
    "start_time": "2023-05-08T17:11:01.257Z"
   },
   {
    "duration": 35,
    "start_time": "2023-05-08T17:11:01.300Z"
   },
   {
    "duration": 22,
    "start_time": "2023-05-08T17:11:01.337Z"
   },
   {
    "duration": 48,
    "start_time": "2023-05-08T17:11:01.360Z"
   },
   {
    "duration": 3552,
    "start_time": "2023-05-08T17:11:01.412Z"
   },
   {
    "duration": 267435,
    "start_time": "2023-05-08T17:11:04.966Z"
   },
   {
    "duration": 4,
    "start_time": "2023-05-08T17:15:32.403Z"
   },
   {
    "duration": 4186,
    "start_time": "2023-05-08T17:15:32.410Z"
   },
   {
    "duration": 124248,
    "start_time": "2023-05-08T17:15:36.598Z"
   },
   {
    "duration": 106876,
    "start_time": "2023-05-08T17:24:03.619Z"
   },
   {
    "duration": 313,
    "start_time": "2023-05-08T17:36:21.540Z"
   },
   {
    "duration": 312,
    "start_time": "2023-05-08T17:37:39.255Z"
   },
   {
    "duration": 1585,
    "start_time": "2023-05-08T18:01:54.733Z"
   },
   {
    "duration": 45,
    "start_time": "2023-05-08T18:01:56.320Z"
   },
   {
    "duration": 12,
    "start_time": "2023-05-08T18:01:56.366Z"
   },
   {
    "duration": 11,
    "start_time": "2023-05-08T18:01:56.379Z"
   },
   {
    "duration": 6,
    "start_time": "2023-05-08T18:01:56.393Z"
   },
   {
    "duration": 11,
    "start_time": "2023-05-08T18:01:56.400Z"
   },
   {
    "duration": 39,
    "start_time": "2023-05-08T18:01:56.412Z"
   },
   {
    "duration": 13,
    "start_time": "2023-05-08T18:01:56.453Z"
   },
   {
    "duration": 274,
    "start_time": "2023-05-08T18:01:56.468Z"
   },
   {
    "duration": 377,
    "start_time": "2023-05-08T18:01:56.744Z"
   },
   {
    "duration": 982,
    "start_time": "2023-05-08T18:01:57.123Z"
   },
   {
    "duration": 270,
    "start_time": "2023-05-08T18:01:58.107Z"
   },
   {
    "duration": 17,
    "start_time": "2023-05-08T18:01:58.379Z"
   },
   {
    "duration": 51,
    "start_time": "2023-05-08T18:01:58.399Z"
   },
   {
    "duration": 13,
    "start_time": "2023-05-08T18:01:58.452Z"
   },
   {
    "duration": 5,
    "start_time": "2023-05-08T18:01:58.466Z"
   },
   {
    "duration": 5,
    "start_time": "2023-05-08T18:01:58.492Z"
   },
   {
    "duration": 9,
    "start_time": "2023-05-08T18:01:58.498Z"
   },
   {
    "duration": 5,
    "start_time": "2023-05-08T18:01:58.509Z"
   },
   {
    "duration": 4,
    "start_time": "2023-05-08T18:01:58.516Z"
   },
   {
    "duration": 77,
    "start_time": "2023-05-08T18:01:58.521Z"
   },
   {
    "duration": 3385,
    "start_time": "2023-05-08T18:01:58.602Z"
   },
   {
    "duration": 19235,
    "start_time": "2023-05-08T18:02:01.989Z"
   },
   {
    "duration": 8,
    "start_time": "2023-05-08T18:02:21.295Z"
   },
   {
    "duration": 2496,
    "start_time": "2023-05-08T18:02:21.306Z"
   },
   {
    "duration": 118810,
    "start_time": "2023-05-08T18:02:23.806Z"
   },
   {
    "duration": 670985,
    "start_time": "2023-05-08T18:04:22.617Z"
   },
   {
    "duration": 42,
    "start_time": "2023-05-08T18:35:33.640Z"
   },
   {
    "duration": 11,
    "start_time": "2023-05-08T18:35:34.664Z"
   },
   {
    "duration": 7,
    "start_time": "2023-05-08T18:35:38.966Z"
   },
   {
    "duration": 7,
    "start_time": "2023-05-08T18:35:45.533Z"
   },
   {
    "duration": 5,
    "start_time": "2023-05-08T18:36:12.014Z"
   },
   {
    "duration": 124,
    "start_time": "2023-05-08T18:36:14.611Z"
   },
   {
    "duration": 15,
    "start_time": "2023-05-08T18:36:38.353Z"
   },
   {
    "duration": 8,
    "start_time": "2023-05-08T18:37:07.561Z"
   },
   {
    "duration": 13,
    "start_time": "2023-05-08T18:37:10.877Z"
   },
   {
    "duration": 1400,
    "start_time": "2023-05-08T18:37:44.546Z"
   },
   {
    "duration": 49,
    "start_time": "2023-05-08T18:37:45.948Z"
   },
   {
    "duration": 13,
    "start_time": "2023-05-08T18:37:45.999Z"
   },
   {
    "duration": 11,
    "start_time": "2023-05-08T18:37:46.014Z"
   },
   {
    "duration": 19,
    "start_time": "2023-05-08T18:37:46.027Z"
   },
   {
    "duration": 13,
    "start_time": "2023-05-08T18:37:46.049Z"
   },
   {
    "duration": 34,
    "start_time": "2023-05-08T18:37:46.064Z"
   },
   {
    "duration": 12,
    "start_time": "2023-05-08T18:37:46.100Z"
   },
   {
    "duration": 255,
    "start_time": "2023-05-08T18:37:46.114Z"
   },
   {
    "duration": 380,
    "start_time": "2023-05-08T18:37:46.372Z"
   },
   {
    "duration": 931,
    "start_time": "2023-05-08T18:37:46.754Z"
   },
   {
    "duration": 283,
    "start_time": "2023-05-08T18:37:47.686Z"
   },
   {
    "duration": 3,
    "start_time": "2023-05-08T18:37:47.971Z"
   },
   {
    "duration": 46,
    "start_time": "2023-05-08T18:37:47.991Z"
   },
   {
    "duration": 12,
    "start_time": "2023-05-08T18:37:48.039Z"
   },
   {
    "duration": 5,
    "start_time": "2023-05-08T18:37:48.052Z"
   },
   {
    "duration": 7,
    "start_time": "2023-05-08T18:37:48.058Z"
   },
   {
    "duration": 12,
    "start_time": "2023-05-08T18:37:48.067Z"
   },
   {
    "duration": 14,
    "start_time": "2023-05-08T18:37:48.080Z"
   },
   {
    "duration": 4,
    "start_time": "2023-05-08T18:37:48.096Z"
   },
   {
    "duration": 189,
    "start_time": "2023-05-08T18:37:48.102Z"
   },
   {
    "duration": 3135,
    "start_time": "2023-05-08T18:37:48.293Z"
   },
   {
    "duration": 1067,
    "start_time": "2023-05-08T18:37:51.430Z"
   },
   {
    "duration": 3,
    "start_time": "2023-05-08T18:37:52.499Z"
   },
   {
    "duration": 2895,
    "start_time": "2023-05-08T18:37:52.503Z"
   },
   {
    "duration": 114567,
    "start_time": "2023-05-08T18:37:55.401Z"
   },
   {
    "duration": 113425,
    "start_time": "2023-05-08T18:39:49.970Z"
   },
   {
    "duration": 2098,
    "start_time": "2023-05-09T09:37:23.116Z"
   },
   {
    "duration": 125,
    "start_time": "2023-05-09T09:37:25.217Z"
   },
   {
    "duration": 12,
    "start_time": "2023-05-09T09:37:25.344Z"
   },
   {
    "duration": 9,
    "start_time": "2023-05-09T09:37:25.359Z"
   },
   {
    "duration": 5,
    "start_time": "2023-05-09T09:37:25.370Z"
   },
   {
    "duration": 7,
    "start_time": "2023-05-09T09:37:25.376Z"
   },
   {
    "duration": 22,
    "start_time": "2023-05-09T09:37:25.384Z"
   },
   {
    "duration": 10,
    "start_time": "2023-05-09T09:37:25.408Z"
   },
   {
    "duration": 245,
    "start_time": "2023-05-09T09:37:25.419Z"
   },
   {
    "duration": 312,
    "start_time": "2023-05-09T09:37:25.666Z"
   },
   {
    "duration": 2078,
    "start_time": "2023-05-09T09:37:25.979Z"
   },
   {
    "duration": 278,
    "start_time": "2023-05-09T09:39:19.950Z"
   },
   {
    "duration": 926,
    "start_time": "2023-05-09T10:15:11.294Z"
   },
   {
    "duration": 3,
    "start_time": "2023-05-09T10:21:28.064Z"
   },
   {
    "duration": 3,
    "start_time": "2023-05-09T10:21:32.797Z"
   },
   {
    "duration": 2,
    "start_time": "2023-05-09T10:21:36.434Z"
   },
   {
    "duration": 4,
    "start_time": "2023-05-09T10:26:08.621Z"
   },
   {
    "duration": 8,
    "start_time": "2023-05-09T10:26:14.524Z"
   },
   {
    "duration": 8,
    "start_time": "2023-05-09T10:26:19.468Z"
   },
   {
    "duration": 1583,
    "start_time": "2023-05-09T10:26:32.566Z"
   },
   {
    "duration": 119,
    "start_time": "2023-05-09T10:26:34.151Z"
   },
   {
    "duration": 11,
    "start_time": "2023-05-09T10:26:34.271Z"
   },
   {
    "duration": 9,
    "start_time": "2023-05-09T10:26:34.284Z"
   },
   {
    "duration": 10,
    "start_time": "2023-05-09T10:26:34.294Z"
   },
   {
    "duration": 17,
    "start_time": "2023-05-09T10:26:34.306Z"
   },
   {
    "duration": 26,
    "start_time": "2023-05-09T10:26:34.325Z"
   },
   {
    "duration": 10,
    "start_time": "2023-05-09T10:26:34.352Z"
   },
   {
    "duration": 230,
    "start_time": "2023-05-09T10:26:34.364Z"
   },
   {
    "duration": 333,
    "start_time": "2023-05-09T10:26:34.598Z"
   },
   {
    "duration": 1720,
    "start_time": "2023-05-09T10:26:34.932Z"
   },
   {
    "duration": 970,
    "start_time": "2023-05-09T10:26:36.654Z"
   },
   {
    "duration": 280,
    "start_time": "2023-05-09T10:26:37.626Z"
   },
   {
    "duration": 3,
    "start_time": "2023-05-09T10:26:37.908Z"
   },
   {
    "duration": 53,
    "start_time": "2023-05-09T10:26:37.913Z"
   },
   {
    "duration": 274,
    "start_time": "2023-05-09T10:26:37.967Z"
   },
   {
    "duration": 10,
    "start_time": "2023-05-09T10:26:38.248Z"
   },
   {
    "duration": 6,
    "start_time": "2023-05-09T10:26:38.260Z"
   },
   {
    "duration": 5,
    "start_time": "2023-05-09T10:26:38.268Z"
   },
   {
    "duration": 5,
    "start_time": "2023-05-09T10:26:38.274Z"
   },
   {
    "duration": 7,
    "start_time": "2023-05-09T10:26:38.280Z"
   },
   {
    "duration": 6,
    "start_time": "2023-05-09T10:26:38.288Z"
   },
   {
    "duration": 5,
    "start_time": "2023-05-09T10:26:38.295Z"
   },
   {
    "duration": 12,
    "start_time": "2023-05-09T10:26:38.301Z"
   },
   {
    "duration": 7,
    "start_time": "2023-05-09T10:26:38.314Z"
   },
   {
    "duration": 4,
    "start_time": "2023-05-09T10:26:38.322Z"
   },
   {
    "duration": 2426,
    "start_time": "2023-05-09T10:26:38.328Z"
   },
   {
    "duration": 127436,
    "start_time": "2023-05-09T10:26:40.848Z"
   },
   {
    "duration": 106363,
    "start_time": "2023-05-09T10:28:48.286Z"
   },
   {
    "duration": 1407,
    "start_time": "2023-05-09T10:30:34.651Z"
   },
   {
    "duration": 191,
    "start_time": "2023-05-09T10:30:36.059Z"
   },
   {
    "duration": 0,
    "start_time": "2023-05-09T10:30:36.253Z"
   },
   {
    "duration": 948,
    "start_time": "2023-05-09T10:31:04.903Z"
   },
   {
    "duration": 230,
    "start_time": "2023-05-09T10:33:01.888Z"
   },
   {
    "duration": 217,
    "start_time": "2023-05-09T10:35:49.465Z"
   },
   {
    "duration": 4,
    "start_time": "2023-05-09T10:44:18.648Z"
   },
   {
    "duration": 128,
    "start_time": "2023-05-09T10:44:55.617Z"
   },
   {
    "duration": 73,
    "start_time": "2023-05-09T10:45:16.573Z"
   },
   {
    "duration": 41,
    "start_time": "2023-05-09T10:46:08.502Z"
   },
   {
    "duration": 36,
    "start_time": "2023-05-09T10:46:24.186Z"
   },
   {
    "duration": 1391,
    "start_time": "2023-05-09T10:46:36.095Z"
   },
   {
    "duration": 47,
    "start_time": "2023-05-09T10:46:37.488Z"
   },
   {
    "duration": 12,
    "start_time": "2023-05-09T10:46:37.537Z"
   },
   {
    "duration": 10,
    "start_time": "2023-05-09T10:46:37.551Z"
   },
   {
    "duration": 8,
    "start_time": "2023-05-09T10:46:37.562Z"
   },
   {
    "duration": 7,
    "start_time": "2023-05-09T10:46:37.571Z"
   },
   {
    "duration": 21,
    "start_time": "2023-05-09T10:46:37.579Z"
   },
   {
    "duration": 11,
    "start_time": "2023-05-09T10:46:37.601Z"
   },
   {
    "duration": 303,
    "start_time": "2023-05-09T10:46:37.613Z"
   },
   {
    "duration": 316,
    "start_time": "2023-05-09T10:46:37.919Z"
   },
   {
    "duration": 1723,
    "start_time": "2023-05-09T10:46:38.236Z"
   },
   {
    "duration": 853,
    "start_time": "2023-05-09T10:46:40.051Z"
   },
   {
    "duration": 305,
    "start_time": "2023-05-09T10:46:40.906Z"
   },
   {
    "duration": 146,
    "start_time": "2023-05-09T10:46:41.212Z"
   },
   {
    "duration": 3,
    "start_time": "2023-05-09T10:46:41.360Z"
   },
   {
    "duration": 37,
    "start_time": "2023-05-09T10:46:41.365Z"
   },
   {
    "duration": 97,
    "start_time": "2023-05-09T10:46:41.404Z"
   },
   {
    "duration": 0,
    "start_time": "2023-05-09T10:46:41.502Z"
   },
   {
    "duration": 0,
    "start_time": "2023-05-09T10:46:41.503Z"
   },
   {
    "duration": 0,
    "start_time": "2023-05-09T10:46:41.504Z"
   },
   {
    "duration": 0,
    "start_time": "2023-05-09T10:46:41.505Z"
   },
   {
    "duration": 0,
    "start_time": "2023-05-09T10:46:41.506Z"
   },
   {
    "duration": 0,
    "start_time": "2023-05-09T10:46:41.507Z"
   },
   {
    "duration": 0,
    "start_time": "2023-05-09T10:46:41.508Z"
   },
   {
    "duration": 0,
    "start_time": "2023-05-09T10:46:41.509Z"
   },
   {
    "duration": 0,
    "start_time": "2023-05-09T10:46:41.510Z"
   },
   {
    "duration": 0,
    "start_time": "2023-05-09T10:46:41.510Z"
   },
   {
    "duration": 0,
    "start_time": "2023-05-09T10:46:41.511Z"
   },
   {
    "duration": 0,
    "start_time": "2023-05-09T10:46:41.513Z"
   },
   {
    "duration": 0,
    "start_time": "2023-05-09T10:46:41.513Z"
   },
   {
    "duration": 0,
    "start_time": "2023-05-09T10:46:41.514Z"
   },
   {
    "duration": 255,
    "start_time": "2023-05-09T10:47:07.072Z"
   },
   {
    "duration": 1391,
    "start_time": "2023-05-09T10:47:51.787Z"
   },
   {
    "duration": 51,
    "start_time": "2023-05-09T10:47:53.180Z"
   },
   {
    "duration": 12,
    "start_time": "2023-05-09T10:47:53.233Z"
   },
   {
    "duration": 24,
    "start_time": "2023-05-09T10:47:53.247Z"
   },
   {
    "duration": 11,
    "start_time": "2023-05-09T10:47:53.273Z"
   },
   {
    "duration": 27,
    "start_time": "2023-05-09T10:47:53.286Z"
   },
   {
    "duration": 28,
    "start_time": "2023-05-09T10:47:53.314Z"
   },
   {
    "duration": 13,
    "start_time": "2023-05-09T10:47:53.344Z"
   },
   {
    "duration": 310,
    "start_time": "2023-05-09T10:47:53.358Z"
   },
   {
    "duration": 303,
    "start_time": "2023-05-09T10:47:53.671Z"
   },
   {
    "duration": 1573,
    "start_time": "2023-05-09T10:47:53.976Z"
   },
   {
    "duration": 859,
    "start_time": "2023-05-09T10:47:55.554Z"
   },
   {
    "duration": 298,
    "start_time": "2023-05-09T10:47:56.415Z"
   },
   {
    "duration": 144,
    "start_time": "2023-05-09T10:47:56.715Z"
   },
   {
    "duration": 4,
    "start_time": "2023-05-09T10:47:56.860Z"
   },
   {
    "duration": 53,
    "start_time": "2023-05-09T10:47:56.866Z"
   },
   {
    "duration": 346,
    "start_time": "2023-05-09T10:47:56.921Z"
   },
   {
    "duration": 10,
    "start_time": "2023-05-09T10:47:57.269Z"
   },
   {
    "duration": 6,
    "start_time": "2023-05-09T10:47:57.281Z"
   },
   {
    "duration": 7,
    "start_time": "2023-05-09T10:47:57.289Z"
   },
   {
    "duration": 12,
    "start_time": "2023-05-09T10:47:57.297Z"
   },
   {
    "duration": 27,
    "start_time": "2023-05-09T10:47:57.311Z"
   },
   {
    "duration": 14,
    "start_time": "2023-05-09T10:47:57.340Z"
   },
   {
    "duration": 8,
    "start_time": "2023-05-09T10:47:57.356Z"
   },
   {
    "duration": 8,
    "start_time": "2023-05-09T10:47:57.366Z"
   },
   {
    "duration": 6,
    "start_time": "2023-05-09T10:47:57.376Z"
   },
   {
    "duration": 4,
    "start_time": "2023-05-09T10:47:57.383Z"
   },
   {
    "duration": 2060,
    "start_time": "2023-05-09T10:47:57.390Z"
   },
   {
    "duration": 129114,
    "start_time": "2023-05-09T10:47:59.451Z"
   },
   {
    "duration": 142888,
    "start_time": "2023-05-09T10:50:08.567Z"
   },
   {
    "duration": 140,
    "start_time": "2023-05-09T10:52:31.457Z"
   },
   {
    "duration": 0,
    "start_time": "2023-05-09T10:52:31.599Z"
   },
   {
    "duration": 1356,
    "start_time": "2023-05-09T10:54:44.789Z"
   },
   {
    "duration": 53,
    "start_time": "2023-05-09T10:54:46.148Z"
   },
   {
    "duration": 14,
    "start_time": "2023-05-09T10:54:46.203Z"
   },
   {
    "duration": 12,
    "start_time": "2023-05-09T10:54:46.220Z"
   },
   {
    "duration": 8,
    "start_time": "2023-05-09T10:54:46.235Z"
   },
   {
    "duration": 11,
    "start_time": "2023-05-09T10:54:46.245Z"
   },
   {
    "duration": 23,
    "start_time": "2023-05-09T10:54:46.258Z"
   },
   {
    "duration": 12,
    "start_time": "2023-05-09T10:54:46.283Z"
   },
   {
    "duration": 299,
    "start_time": "2023-05-09T10:54:46.297Z"
   },
   {
    "duration": 313,
    "start_time": "2023-05-09T10:54:46.598Z"
   },
   {
    "duration": 2137,
    "start_time": "2023-05-09T10:54:46.913Z"
   },
   {
    "duration": 449,
    "start_time": "2023-05-09T10:54:49.052Z"
   },
   {
    "duration": 826,
    "start_time": "2023-05-09T10:54:49.503Z"
   },
   {
    "duration": 297,
    "start_time": "2023-05-09T10:54:50.331Z"
   },
   {
    "duration": 148,
    "start_time": "2023-05-09T10:54:50.629Z"
   },
   {
    "duration": 4,
    "start_time": "2023-05-09T10:54:50.778Z"
   },
   {
    "duration": 39,
    "start_time": "2023-05-09T10:54:50.784Z"
   },
   {
    "duration": 405,
    "start_time": "2023-05-09T10:54:50.824Z"
   },
   {
    "duration": 18,
    "start_time": "2023-05-09T10:54:51.231Z"
   },
   {
    "duration": 13,
    "start_time": "2023-05-09T10:54:51.250Z"
   },
   {
    "duration": 27,
    "start_time": "2023-05-09T10:54:51.264Z"
   },
   {
    "duration": 32,
    "start_time": "2023-05-09T10:54:51.292Z"
   },
   {
    "duration": 25,
    "start_time": "2023-05-09T10:54:51.326Z"
   },
   {
    "duration": 11,
    "start_time": "2023-05-09T10:54:51.353Z"
   },
   {
    "duration": 9,
    "start_time": "2023-05-09T10:54:51.365Z"
   },
   {
    "duration": 24,
    "start_time": "2023-05-09T10:54:51.375Z"
   },
   {
    "duration": 11,
    "start_time": "2023-05-09T10:54:51.400Z"
   },
   {
    "duration": 16,
    "start_time": "2023-05-09T10:54:51.413Z"
   },
   {
    "duration": 3024,
    "start_time": "2023-05-09T10:54:51.431Z"
   },
   {
    "duration": 111032,
    "start_time": "2023-05-09T10:54:54.457Z"
   },
   {
    "duration": 1376,
    "start_time": "2023-05-09T10:57:42.475Z"
   },
   {
    "duration": 47,
    "start_time": "2023-05-09T10:57:43.853Z"
   },
   {
    "duration": 11,
    "start_time": "2023-05-09T10:57:43.901Z"
   },
   {
    "duration": 13,
    "start_time": "2023-05-09T10:57:43.914Z"
   },
   {
    "duration": 5,
    "start_time": "2023-05-09T10:57:43.928Z"
   },
   {
    "duration": 7,
    "start_time": "2023-05-09T10:57:43.935Z"
   },
   {
    "duration": 127,
    "start_time": "2023-05-09T10:57:43.943Z"
   },
   {
    "duration": 10,
    "start_time": "2023-05-09T10:57:44.072Z"
   },
   {
    "duration": 272,
    "start_time": "2023-05-09T10:57:44.084Z"
   },
   {
    "duration": 380,
    "start_time": "2023-05-09T10:57:44.359Z"
   },
   {
    "duration": 1719,
    "start_time": "2023-05-09T10:57:44.740Z"
   },
   {
    "duration": 491,
    "start_time": "2023-05-09T10:57:46.460Z"
   },
   {
    "duration": 798,
    "start_time": "2023-05-09T10:57:46.952Z"
   },
   {
    "duration": 270,
    "start_time": "2023-05-09T10:57:47.752Z"
   },
   {
    "duration": 139,
    "start_time": "2023-05-09T10:57:48.024Z"
   },
   {
    "duration": 4,
    "start_time": "2023-05-09T10:57:48.165Z"
   },
   {
    "duration": 51,
    "start_time": "2023-05-09T10:57:48.170Z"
   },
   {
    "duration": 356,
    "start_time": "2023-05-09T10:57:48.223Z"
   },
   {
    "duration": 11,
    "start_time": "2023-05-09T10:57:48.580Z"
   },
   {
    "duration": 4,
    "start_time": "2023-05-09T10:57:48.592Z"
   },
   {
    "duration": 8,
    "start_time": "2023-05-09T10:57:48.598Z"
   },
   {
    "duration": 7,
    "start_time": "2023-05-09T10:57:48.607Z"
   },
   {
    "duration": 9,
    "start_time": "2023-05-09T10:57:48.615Z"
   },
   {
    "duration": 24,
    "start_time": "2023-05-09T10:57:48.626Z"
   },
   {
    "duration": 5,
    "start_time": "2023-05-09T10:57:48.652Z"
   },
   {
    "duration": 9,
    "start_time": "2023-05-09T10:57:48.659Z"
   },
   {
    "duration": 5,
    "start_time": "2023-05-09T10:57:48.669Z"
   },
   {
    "duration": 6,
    "start_time": "2023-05-09T10:57:48.677Z"
   },
   {
    "duration": 5880,
    "start_time": "2023-05-09T10:57:48.684Z"
   },
   {
    "duration": 1445,
    "start_time": "2023-05-09T11:00:32.337Z"
   },
   {
    "duration": 48,
    "start_time": "2023-05-09T11:00:33.783Z"
   },
   {
    "duration": 141,
    "start_time": "2023-05-09T11:00:33.832Z"
   },
   {
    "duration": 0,
    "start_time": "2023-05-09T11:00:33.976Z"
   },
   {
    "duration": 0,
    "start_time": "2023-05-09T11:00:33.977Z"
   },
   {
    "duration": 0,
    "start_time": "2023-05-09T11:00:33.978Z"
   },
   {
    "duration": 0,
    "start_time": "2023-05-09T11:00:33.978Z"
   },
   {
    "duration": 0,
    "start_time": "2023-05-09T11:00:33.979Z"
   },
   {
    "duration": 0,
    "start_time": "2023-05-09T11:00:33.980Z"
   },
   {
    "duration": 0,
    "start_time": "2023-05-09T11:00:33.981Z"
   },
   {
    "duration": 0,
    "start_time": "2023-05-09T11:00:33.981Z"
   },
   {
    "duration": 0,
    "start_time": "2023-05-09T11:00:33.982Z"
   },
   {
    "duration": 0,
    "start_time": "2023-05-09T11:00:33.983Z"
   },
   {
    "duration": 0,
    "start_time": "2023-05-09T11:00:33.984Z"
   },
   {
    "duration": 1,
    "start_time": "2023-05-09T11:00:33.984Z"
   },
   {
    "duration": 0,
    "start_time": "2023-05-09T11:00:33.985Z"
   },
   {
    "duration": 0,
    "start_time": "2023-05-09T11:00:33.986Z"
   },
   {
    "duration": 0,
    "start_time": "2023-05-09T11:00:33.987Z"
   },
   {
    "duration": 0,
    "start_time": "2023-05-09T11:00:33.988Z"
   },
   {
    "duration": 0,
    "start_time": "2023-05-09T11:00:33.989Z"
   },
   {
    "duration": 0,
    "start_time": "2023-05-09T11:00:33.991Z"
   },
   {
    "duration": 0,
    "start_time": "2023-05-09T11:00:33.992Z"
   },
   {
    "duration": 0,
    "start_time": "2023-05-09T11:00:33.993Z"
   },
   {
    "duration": 0,
    "start_time": "2023-05-09T11:00:33.993Z"
   },
   {
    "duration": 0,
    "start_time": "2023-05-09T11:00:33.994Z"
   },
   {
    "duration": 0,
    "start_time": "2023-05-09T11:00:33.995Z"
   },
   {
    "duration": 0,
    "start_time": "2023-05-09T11:00:33.996Z"
   },
   {
    "duration": 0,
    "start_time": "2023-05-09T11:00:33.997Z"
   },
   {
    "duration": 0,
    "start_time": "2023-05-09T11:00:33.997Z"
   },
   {
    "duration": 0,
    "start_time": "2023-05-09T11:00:33.999Z"
   },
   {
    "duration": 0,
    "start_time": "2023-05-09T11:00:34.001Z"
   },
   {
    "duration": 0,
    "start_time": "2023-05-09T11:00:34.002Z"
   },
   {
    "duration": 1480,
    "start_time": "2023-05-09T11:01:02.097Z"
   },
   {
    "duration": 48,
    "start_time": "2023-05-09T11:01:03.579Z"
   },
   {
    "duration": 11,
    "start_time": "2023-05-09T11:01:03.629Z"
   },
   {
    "duration": 24,
    "start_time": "2023-05-09T11:01:03.641Z"
   },
   {
    "duration": 5,
    "start_time": "2023-05-09T11:01:03.667Z"
   },
   {
    "duration": 4,
    "start_time": "2023-05-09T11:01:03.674Z"
   },
   {
    "duration": 16,
    "start_time": "2023-05-09T11:01:03.679Z"
   },
   {
    "duration": 10,
    "start_time": "2023-05-09T11:01:03.696Z"
   },
   {
    "duration": 325,
    "start_time": "2023-05-09T11:01:03.707Z"
   },
   {
    "duration": 379,
    "start_time": "2023-05-09T11:01:04.035Z"
   },
   {
    "duration": 1641,
    "start_time": "2023-05-09T11:01:04.416Z"
   },
   {
    "duration": 401,
    "start_time": "2023-05-09T11:01:06.149Z"
   },
   {
    "duration": 815,
    "start_time": "2023-05-09T11:01:06.552Z"
   },
   {
    "duration": 281,
    "start_time": "2023-05-09T11:01:07.370Z"
   },
   {
    "duration": 144,
    "start_time": "2023-05-09T11:01:07.653Z"
   },
   {
    "duration": 4,
    "start_time": "2023-05-09T11:01:07.799Z"
   },
   {
    "duration": 91,
    "start_time": "2023-05-09T11:01:07.805Z"
   },
   {
    "duration": 342,
    "start_time": "2023-05-09T11:01:07.897Z"
   },
   {
    "duration": 17,
    "start_time": "2023-05-09T11:01:08.240Z"
   },
   {
    "duration": 6,
    "start_time": "2023-05-09T11:01:08.259Z"
   },
   {
    "duration": 17,
    "start_time": "2023-05-09T11:01:08.266Z"
   },
   {
    "duration": 7,
    "start_time": "2023-05-09T11:01:08.285Z"
   },
   {
    "duration": 8,
    "start_time": "2023-05-09T11:01:08.294Z"
   },
   {
    "duration": 32,
    "start_time": "2023-05-09T11:01:08.304Z"
   },
   {
    "duration": 17,
    "start_time": "2023-05-09T11:01:08.338Z"
   },
   {
    "duration": 19,
    "start_time": "2023-05-09T11:01:08.357Z"
   },
   {
    "duration": 17,
    "start_time": "2023-05-09T11:01:08.378Z"
   },
   {
    "duration": 35,
    "start_time": "2023-05-09T11:01:08.396Z"
   },
   {
    "duration": 3018,
    "start_time": "2023-05-09T11:01:08.433Z"
   },
   {
    "duration": 1426,
    "start_time": "2023-05-09T11:02:07.130Z"
   },
   {
    "duration": 48,
    "start_time": "2023-05-09T11:02:08.558Z"
   },
   {
    "duration": 11,
    "start_time": "2023-05-09T11:02:08.607Z"
   },
   {
    "duration": 13,
    "start_time": "2023-05-09T11:02:08.620Z"
   },
   {
    "duration": 5,
    "start_time": "2023-05-09T11:02:08.634Z"
   },
   {
    "duration": 14,
    "start_time": "2023-05-09T11:02:08.640Z"
   },
   {
    "duration": 18,
    "start_time": "2023-05-09T11:02:08.655Z"
   },
   {
    "duration": 26,
    "start_time": "2023-05-09T11:02:08.674Z"
   },
   {
    "duration": 282,
    "start_time": "2023-05-09T11:02:08.702Z"
   },
   {
    "duration": 355,
    "start_time": "2023-05-09T11:02:08.987Z"
   },
   {
    "duration": 1805,
    "start_time": "2023-05-09T11:02:09.344Z"
   },
   {
    "duration": 407,
    "start_time": "2023-05-09T11:02:11.150Z"
   },
   {
    "duration": 767,
    "start_time": "2023-05-09T11:02:11.559Z"
   },
   {
    "duration": 292,
    "start_time": "2023-05-09T11:02:12.327Z"
   },
   {
    "duration": 149,
    "start_time": "2023-05-09T11:02:12.620Z"
   },
   {
    "duration": 4,
    "start_time": "2023-05-09T11:02:12.770Z"
   },
   {
    "duration": 50,
    "start_time": "2023-05-09T11:02:12.776Z"
   },
   {
    "duration": 397,
    "start_time": "2023-05-09T11:02:12.827Z"
   },
   {
    "duration": 11,
    "start_time": "2023-05-09T11:02:13.225Z"
   },
   {
    "duration": 14,
    "start_time": "2023-05-09T11:02:13.237Z"
   },
   {
    "duration": 7,
    "start_time": "2023-05-09T11:02:13.252Z"
   },
   {
    "duration": 8,
    "start_time": "2023-05-09T11:02:13.260Z"
   },
   {
    "duration": 14,
    "start_time": "2023-05-09T11:02:13.269Z"
   },
   {
    "duration": 14,
    "start_time": "2023-05-09T11:02:13.285Z"
   },
   {
    "duration": 4,
    "start_time": "2023-05-09T11:02:13.300Z"
   },
   {
    "duration": 6,
    "start_time": "2023-05-09T11:02:13.305Z"
   },
   {
    "duration": 15,
    "start_time": "2023-05-09T11:02:13.313Z"
   },
   {
    "duration": 5,
    "start_time": "2023-05-09T11:02:13.330Z"
   },
   {
    "duration": 6619,
    "start_time": "2023-05-09T11:02:13.336Z"
   },
   {
    "duration": 1486,
    "start_time": "2023-05-09T11:05:03.326Z"
   },
   {
    "duration": 49,
    "start_time": "2023-05-09T11:05:04.814Z"
   },
   {
    "duration": 10,
    "start_time": "2023-05-09T11:05:04.865Z"
   },
   {
    "duration": 25,
    "start_time": "2023-05-09T11:05:04.877Z"
   },
   {
    "duration": 11,
    "start_time": "2023-05-09T11:05:04.905Z"
   },
   {
    "duration": 8,
    "start_time": "2023-05-09T11:05:04.917Z"
   },
   {
    "duration": 15,
    "start_time": "2023-05-09T11:05:04.926Z"
   },
   {
    "duration": 15,
    "start_time": "2023-05-09T11:05:04.943Z"
   },
   {
    "duration": 292,
    "start_time": "2023-05-09T11:05:04.960Z"
   },
   {
    "duration": 381,
    "start_time": "2023-05-09T11:05:05.254Z"
   },
   {
    "duration": 1621,
    "start_time": "2023-05-09T11:05:05.636Z"
   },
   {
    "duration": 500,
    "start_time": "2023-05-09T11:05:07.258Z"
   },
   {
    "duration": 778,
    "start_time": "2023-05-09T11:05:07.760Z"
   },
   {
    "duration": 280,
    "start_time": "2023-05-09T11:05:08.540Z"
   },
   {
    "duration": 294,
    "start_time": "2023-05-09T11:05:08.821Z"
   },
   {
    "duration": 4,
    "start_time": "2023-05-09T11:05:09.116Z"
   },
   {
    "duration": 61,
    "start_time": "2023-05-09T11:05:09.121Z"
   },
   {
    "duration": 353,
    "start_time": "2023-05-09T11:05:09.184Z"
   },
   {
    "duration": 17,
    "start_time": "2023-05-09T11:05:09.539Z"
   },
   {
    "duration": 8,
    "start_time": "2023-05-09T11:05:09.558Z"
   },
   {
    "duration": 19,
    "start_time": "2023-05-09T11:05:09.568Z"
   },
   {
    "duration": 9,
    "start_time": "2023-05-09T11:05:09.588Z"
   },
   {
    "duration": 20,
    "start_time": "2023-05-09T11:05:09.598Z"
   },
   {
    "duration": 16,
    "start_time": "2023-05-09T11:05:09.620Z"
   },
   {
    "duration": 22,
    "start_time": "2023-05-09T11:05:09.638Z"
   },
   {
    "duration": 11,
    "start_time": "2023-05-09T11:05:09.661Z"
   },
   {
    "duration": 20,
    "start_time": "2023-05-09T11:05:09.673Z"
   },
   {
    "duration": 10,
    "start_time": "2023-05-09T11:05:09.694Z"
   },
   {
    "duration": 2948,
    "start_time": "2023-05-09T11:05:09.706Z"
   },
   {
    "duration": 213434,
    "start_time": "2023-05-09T11:05:12.656Z"
   },
   {
    "duration": 135167,
    "start_time": "2023-05-09T11:08:46.091Z"
   },
   {
    "duration": 2896,
    "start_time": "2023-05-09T11:15:21.654Z"
   },
   {
    "duration": 4793,
    "start_time": "2023-05-09T11:17:27.362Z"
   },
   {
    "duration": 3877,
    "start_time": "2023-05-09T11:20:40.473Z"
   },
   {
    "duration": 4102,
    "start_time": "2023-05-09T11:21:31.048Z"
   },
   {
    "duration": 4062,
    "start_time": "2023-05-09T11:23:44.725Z"
   },
   {
    "duration": 218187,
    "start_time": "2023-05-09T11:29:08.331Z"
   },
   {
    "duration": 1480,
    "start_time": "2023-05-09T12:29:35.285Z"
   },
   {
    "duration": 49,
    "start_time": "2023-05-09T12:29:36.767Z"
   },
   {
    "duration": 11,
    "start_time": "2023-05-09T12:29:36.818Z"
   },
   {
    "duration": 10,
    "start_time": "2023-05-09T12:29:36.831Z"
   },
   {
    "duration": 7,
    "start_time": "2023-05-09T12:29:36.842Z"
   },
   {
    "duration": 23,
    "start_time": "2023-05-09T12:29:36.851Z"
   },
   {
    "duration": 18,
    "start_time": "2023-05-09T12:29:36.875Z"
   },
   {
    "duration": 13,
    "start_time": "2023-05-09T12:29:36.895Z"
   },
   {
    "duration": 351,
    "start_time": "2023-05-09T12:29:36.909Z"
   },
   {
    "duration": 395,
    "start_time": "2023-05-09T12:29:37.264Z"
   },
   {
    "duration": 2107,
    "start_time": "2023-05-09T12:29:37.661Z"
   },
   {
    "duration": 411,
    "start_time": "2023-05-09T12:29:39.857Z"
   },
   {
    "duration": 775,
    "start_time": "2023-05-09T12:29:40.270Z"
   },
   {
    "duration": 340,
    "start_time": "2023-05-09T12:29:41.049Z"
   },
   {
    "duration": 372,
    "start_time": "2023-05-09T12:29:41.392Z"
   },
   {
    "duration": 5,
    "start_time": "2023-05-09T12:29:41.765Z"
   },
   {
    "duration": 53,
    "start_time": "2023-05-09T12:29:41.772Z"
   },
   {
    "duration": 388,
    "start_time": "2023-05-09T12:29:41.848Z"
   },
   {
    "duration": 20,
    "start_time": "2023-05-09T12:29:42.237Z"
   },
   {
    "duration": 6,
    "start_time": "2023-05-09T12:29:42.259Z"
   },
   {
    "duration": 12,
    "start_time": "2023-05-09T12:29:42.267Z"
   },
   {
    "duration": 11,
    "start_time": "2023-05-09T12:29:42.281Z"
   },
   {
    "duration": 10,
    "start_time": "2023-05-09T12:29:42.294Z"
   },
   {
    "duration": 18,
    "start_time": "2023-05-09T12:29:42.306Z"
   },
   {
    "duration": 7,
    "start_time": "2023-05-09T12:29:42.326Z"
   },
   {
    "duration": 14,
    "start_time": "2023-05-09T12:29:42.335Z"
   },
   {
    "duration": 3,
    "start_time": "2023-05-09T12:29:42.350Z"
   },
   {
    "duration": 6,
    "start_time": "2023-05-09T12:29:42.356Z"
   },
   {
    "duration": 7191,
    "start_time": "2023-05-09T12:29:42.363Z"
   },
   {
    "duration": 215720,
    "start_time": "2023-05-09T12:29:49.556Z"
   },
   {
    "duration": 53,
    "start_time": "2023-05-09T12:33:25.278Z"
   },
   {
    "duration": 0,
    "start_time": "2023-05-09T12:33:25.332Z"
   }
  ],
  "kernelspec": {
   "display_name": "Python 3 (ipykernel)",
   "language": "python",
   "name": "python3"
  },
  "language_info": {
   "codemirror_mode": {
    "name": "ipython",
    "version": 3
   },
   "file_extension": ".py",
   "mimetype": "text/x-python",
   "name": "python",
   "nbconvert_exporter": "python",
   "pygments_lexer": "ipython3",
   "version": "3.9.5"
  },
  "toc": {
   "base_numbering": 1,
   "nav_menu": {},
   "number_sections": true,
   "sideBar": true,
   "skip_h1_title": true,
   "title_cell": "Содержание",
   "title_sidebar": "Contents",
   "toc_cell": true,
   "toc_position": {},
   "toc_section_display": true,
   "toc_window_display": false
  }
 },
 "nbformat": 4,
 "nbformat_minor": 2
}
