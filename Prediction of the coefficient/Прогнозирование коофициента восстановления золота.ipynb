{
 "cells": [
  {
   "cell_type": "markdown",
   "metadata": {
    "toc": true
   },
   "source": [
    "<h1>Содержание<span class=\"tocSkip\"></span></h1>\n",
    "<div class=\"toc\"><ul class=\"toc-item\"><li><span><a href=\"#Подготовка-данных\" data-toc-modified-id=\"Подготовка-данных-1\"><span class=\"toc-item-num\">1&nbsp;&nbsp;</span>Подготовка данных</a></span></li><li><span><a href=\"#Анализ-данных\" data-toc-modified-id=\"Анализ-данных-2\"><span class=\"toc-item-num\">2&nbsp;&nbsp;</span>Анализ данных</a></span></li><li><span><a href=\"#Модель\" data-toc-modified-id=\"Модель-3\"><span class=\"toc-item-num\">3&nbsp;&nbsp;</span>Модель</a></span></li></ul></div>"
   ]
  },
  {
   "cell_type": "markdown",
   "metadata": {},
   "source": [
    "# Восстановление золота из руды"
   ]
  },
  {
   "cell_type": "markdown",
   "metadata": {},
   "source": [
    "Подготовьте прототип модели машинного обучения для «Цифры». Компания разрабатывает решения для эффективной работы промышленных предприятий.\n",
    "\n",
    "Модель должна предсказать коэффициент восстановления золота из золотосодержащей руды. Используйте данные с параметрами добычи и очистки. \n",
    "\n",
    "Модель поможет оптимизировать производство, чтобы не запускать предприятие с убыточными характеристиками.\n",
    "\n",
    "Вам нужно:\n",
    "\n",
    "1. Подготовить данные;\n",
    "2. Провести исследовательский анализ данных;\n",
    "3. Построить и обучить модель.\n",
    "\n",
    "Чтобы выполнить проект, обращайтесь к библиотекам *pandas*, *matplotlib* и *sklearn.* Вам поможет их документация."
   ]
  },
  {
   "cell_type": "markdown",
   "metadata": {},
   "source": [
    "## Подготовка данных"
   ]
  },
  {
   "cell_type": "markdown",
   "metadata": {},
   "source": [
    "**1.1 Откроем файлы и изучим их**"
   ]
  },
  {
   "cell_type": "code",
   "execution_count": 1,
   "metadata": {},
   "outputs": [],
   "source": [
    "#библиотеки\n",
    "import pandas as pd\n",
    "import numpy as np\n",
    "\n",
    "import matplotlib.pyplot as plt\n",
    "from plotly import graph_objects as go\n",
    "import seaborn as sns\n",
    "\n",
    "from sklearn.model_selection import train_test_split\n",
    "from sklearn.pipeline import make_pipeline\n",
    "from sklearn.preprocessing import StandardScaler\n",
    "from sklearn.tree import DecisionTreeRegressor\n",
    "from sklearn.ensemble import RandomForestRegressor\n",
    "from sklearn.linear_model import LinearRegression\n",
    "from sklearn.metrics import mean_absolute_error, make_scorer\n",
    "from sklearn.model_selection import GridSearchCV\n",
    "from sklearn.dummy import DummyRegressor\n",
    "\n",
    "import warnings\n",
    "warnings.filterwarnings(\"ignore\")"
   ]
  },
  {
   "cell_type": "code",
   "execution_count": 2,
   "metadata": {},
   "outputs": [],
   "source": [
    "#индексируем таблицы по дате\n",
    "full = pd.read_csv('/datasets/gold_recovery_full_new.csv', index_col='date')\n",
    "train = pd.read_csv('/datasets/gold_recovery_train_new.csv', index_col='date') \n",
    "test = pd.read_csv('/datasets/gold_recovery_test_new.csv', index_col='date') "
   ]
  },
  {
   "cell_type": "code",
   "execution_count": 3,
   "metadata": {},
   "outputs": [
    {
     "data": {
      "text/html": [
       "<div>\n",
       "<style scoped>\n",
       "    .dataframe tbody tr th:only-of-type {\n",
       "        vertical-align: middle;\n",
       "    }\n",
       "\n",
       "    .dataframe tbody tr th {\n",
       "        vertical-align: top;\n",
       "    }\n",
       "\n",
       "    .dataframe thead th {\n",
       "        text-align: right;\n",
       "    }\n",
       "</style>\n",
       "<table border=\"1\" class=\"dataframe\">\n",
       "  <thead>\n",
       "    <tr style=\"text-align: right;\">\n",
       "      <th></th>\n",
       "      <th>final.output.concentrate_ag</th>\n",
       "      <th>final.output.concentrate_pb</th>\n",
       "      <th>final.output.concentrate_sol</th>\n",
       "      <th>final.output.concentrate_au</th>\n",
       "      <th>final.output.recovery</th>\n",
       "      <th>final.output.tail_ag</th>\n",
       "      <th>final.output.tail_pb</th>\n",
       "      <th>final.output.tail_sol</th>\n",
       "      <th>final.output.tail_au</th>\n",
       "      <th>primary_cleaner.input.sulfate</th>\n",
       "      <th>...</th>\n",
       "      <th>secondary_cleaner.state.floatbank4_a_air</th>\n",
       "      <th>secondary_cleaner.state.floatbank4_a_level</th>\n",
       "      <th>secondary_cleaner.state.floatbank4_b_air</th>\n",
       "      <th>secondary_cleaner.state.floatbank4_b_level</th>\n",
       "      <th>secondary_cleaner.state.floatbank5_a_air</th>\n",
       "      <th>secondary_cleaner.state.floatbank5_a_level</th>\n",
       "      <th>secondary_cleaner.state.floatbank5_b_air</th>\n",
       "      <th>secondary_cleaner.state.floatbank5_b_level</th>\n",
       "      <th>secondary_cleaner.state.floatbank6_a_air</th>\n",
       "      <th>secondary_cleaner.state.floatbank6_a_level</th>\n",
       "    </tr>\n",
       "    <tr>\n",
       "      <th>date</th>\n",
       "      <th></th>\n",
       "      <th></th>\n",
       "      <th></th>\n",
       "      <th></th>\n",
       "      <th></th>\n",
       "      <th></th>\n",
       "      <th></th>\n",
       "      <th></th>\n",
       "      <th></th>\n",
       "      <th></th>\n",
       "      <th></th>\n",
       "      <th></th>\n",
       "      <th></th>\n",
       "      <th></th>\n",
       "      <th></th>\n",
       "      <th></th>\n",
       "      <th></th>\n",
       "      <th></th>\n",
       "      <th></th>\n",
       "      <th></th>\n",
       "      <th></th>\n",
       "    </tr>\n",
       "  </thead>\n",
       "  <tbody>\n",
       "    <tr>\n",
       "      <th>2016-01-15 00:00:00</th>\n",
       "      <td>6.055403</td>\n",
       "      <td>9.889648</td>\n",
       "      <td>5.507324</td>\n",
       "      <td>42.192020</td>\n",
       "      <td>70.541216</td>\n",
       "      <td>10.411962</td>\n",
       "      <td>0.895447</td>\n",
       "      <td>16.904297</td>\n",
       "      <td>2.143149</td>\n",
       "      <td>127.092003</td>\n",
       "      <td>...</td>\n",
       "      <td>14.016835</td>\n",
       "      <td>-502.488007</td>\n",
       "      <td>12.099931</td>\n",
       "      <td>-504.715942</td>\n",
       "      <td>9.925633</td>\n",
       "      <td>-498.310211</td>\n",
       "      <td>8.079666</td>\n",
       "      <td>-500.470978</td>\n",
       "      <td>14.151341</td>\n",
       "      <td>-605.841980</td>\n",
       "    </tr>\n",
       "    <tr>\n",
       "      <th>2016-01-15 01:00:00</th>\n",
       "      <td>6.029369</td>\n",
       "      <td>9.968944</td>\n",
       "      <td>5.257781</td>\n",
       "      <td>42.701629</td>\n",
       "      <td>69.266198</td>\n",
       "      <td>10.462676</td>\n",
       "      <td>0.927452</td>\n",
       "      <td>16.634514</td>\n",
       "      <td>2.224930</td>\n",
       "      <td>125.629232</td>\n",
       "      <td>...</td>\n",
       "      <td>13.992281</td>\n",
       "      <td>-505.503262</td>\n",
       "      <td>11.950531</td>\n",
       "      <td>-501.331529</td>\n",
       "      <td>10.039245</td>\n",
       "      <td>-500.169983</td>\n",
       "      <td>7.984757</td>\n",
       "      <td>-500.582168</td>\n",
       "      <td>13.998353</td>\n",
       "      <td>-599.787184</td>\n",
       "    </tr>\n",
       "    <tr>\n",
       "      <th>2016-01-15 02:00:00</th>\n",
       "      <td>6.055926</td>\n",
       "      <td>10.213995</td>\n",
       "      <td>5.383759</td>\n",
       "      <td>42.657501</td>\n",
       "      <td>68.116445</td>\n",
       "      <td>10.507046</td>\n",
       "      <td>0.953716</td>\n",
       "      <td>16.208849</td>\n",
       "      <td>2.257889</td>\n",
       "      <td>123.819808</td>\n",
       "      <td>...</td>\n",
       "      <td>14.015015</td>\n",
       "      <td>-502.520901</td>\n",
       "      <td>11.912783</td>\n",
       "      <td>-501.133383</td>\n",
       "      <td>10.070913</td>\n",
       "      <td>-500.129135</td>\n",
       "      <td>8.013877</td>\n",
       "      <td>-500.517572</td>\n",
       "      <td>14.028663</td>\n",
       "      <td>-601.427363</td>\n",
       "    </tr>\n",
       "    <tr>\n",
       "      <th>2016-01-15 03:00:00</th>\n",
       "      <td>6.047977</td>\n",
       "      <td>9.977019</td>\n",
       "      <td>4.858634</td>\n",
       "      <td>42.689819</td>\n",
       "      <td>68.347543</td>\n",
       "      <td>10.422762</td>\n",
       "      <td>0.883763</td>\n",
       "      <td>16.532835</td>\n",
       "      <td>2.146849</td>\n",
       "      <td>122.270188</td>\n",
       "      <td>...</td>\n",
       "      <td>14.036510</td>\n",
       "      <td>-500.857308</td>\n",
       "      <td>11.999550</td>\n",
       "      <td>-501.193686</td>\n",
       "      <td>9.970366</td>\n",
       "      <td>-499.201640</td>\n",
       "      <td>7.977324</td>\n",
       "      <td>-500.255908</td>\n",
       "      <td>14.005551</td>\n",
       "      <td>-599.996129</td>\n",
       "    </tr>\n",
       "    <tr>\n",
       "      <th>2016-01-15 04:00:00</th>\n",
       "      <td>6.148599</td>\n",
       "      <td>10.142511</td>\n",
       "      <td>4.939416</td>\n",
       "      <td>42.774141</td>\n",
       "      <td>66.927016</td>\n",
       "      <td>10.360302</td>\n",
       "      <td>0.792826</td>\n",
       "      <td>16.525686</td>\n",
       "      <td>2.055292</td>\n",
       "      <td>117.988169</td>\n",
       "      <td>...</td>\n",
       "      <td>14.027298</td>\n",
       "      <td>-499.838632</td>\n",
       "      <td>11.953070</td>\n",
       "      <td>-501.053894</td>\n",
       "      <td>9.925709</td>\n",
       "      <td>-501.686727</td>\n",
       "      <td>7.894242</td>\n",
       "      <td>-500.356035</td>\n",
       "      <td>13.996647</td>\n",
       "      <td>-601.496691</td>\n",
       "    </tr>\n",
       "  </tbody>\n",
       "</table>\n",
       "<p>5 rows × 86 columns</p>\n",
       "</div>"
      ],
      "text/plain": [
       "                     final.output.concentrate_ag  final.output.concentrate_pb  \\\n",
       "date                                                                            \n",
       "2016-01-15 00:00:00                     6.055403                     9.889648   \n",
       "2016-01-15 01:00:00                     6.029369                     9.968944   \n",
       "2016-01-15 02:00:00                     6.055926                    10.213995   \n",
       "2016-01-15 03:00:00                     6.047977                     9.977019   \n",
       "2016-01-15 04:00:00                     6.148599                    10.142511   \n",
       "\n",
       "                     final.output.concentrate_sol  \\\n",
       "date                                                \n",
       "2016-01-15 00:00:00                      5.507324   \n",
       "2016-01-15 01:00:00                      5.257781   \n",
       "2016-01-15 02:00:00                      5.383759   \n",
       "2016-01-15 03:00:00                      4.858634   \n",
       "2016-01-15 04:00:00                      4.939416   \n",
       "\n",
       "                     final.output.concentrate_au  final.output.recovery  \\\n",
       "date                                                                      \n",
       "2016-01-15 00:00:00                    42.192020              70.541216   \n",
       "2016-01-15 01:00:00                    42.701629              69.266198   \n",
       "2016-01-15 02:00:00                    42.657501              68.116445   \n",
       "2016-01-15 03:00:00                    42.689819              68.347543   \n",
       "2016-01-15 04:00:00                    42.774141              66.927016   \n",
       "\n",
       "                     final.output.tail_ag  final.output.tail_pb  \\\n",
       "date                                                              \n",
       "2016-01-15 00:00:00             10.411962              0.895447   \n",
       "2016-01-15 01:00:00             10.462676              0.927452   \n",
       "2016-01-15 02:00:00             10.507046              0.953716   \n",
       "2016-01-15 03:00:00             10.422762              0.883763   \n",
       "2016-01-15 04:00:00             10.360302              0.792826   \n",
       "\n",
       "                     final.output.tail_sol  final.output.tail_au  \\\n",
       "date                                                               \n",
       "2016-01-15 00:00:00              16.904297              2.143149   \n",
       "2016-01-15 01:00:00              16.634514              2.224930   \n",
       "2016-01-15 02:00:00              16.208849              2.257889   \n",
       "2016-01-15 03:00:00              16.532835              2.146849   \n",
       "2016-01-15 04:00:00              16.525686              2.055292   \n",
       "\n",
       "                     primary_cleaner.input.sulfate  ...  \\\n",
       "date                                                ...   \n",
       "2016-01-15 00:00:00                     127.092003  ...   \n",
       "2016-01-15 01:00:00                     125.629232  ...   \n",
       "2016-01-15 02:00:00                     123.819808  ...   \n",
       "2016-01-15 03:00:00                     122.270188  ...   \n",
       "2016-01-15 04:00:00                     117.988169  ...   \n",
       "\n",
       "                     secondary_cleaner.state.floatbank4_a_air  \\\n",
       "date                                                            \n",
       "2016-01-15 00:00:00                                 14.016835   \n",
       "2016-01-15 01:00:00                                 13.992281   \n",
       "2016-01-15 02:00:00                                 14.015015   \n",
       "2016-01-15 03:00:00                                 14.036510   \n",
       "2016-01-15 04:00:00                                 14.027298   \n",
       "\n",
       "                     secondary_cleaner.state.floatbank4_a_level  \\\n",
       "date                                                              \n",
       "2016-01-15 00:00:00                                 -502.488007   \n",
       "2016-01-15 01:00:00                                 -505.503262   \n",
       "2016-01-15 02:00:00                                 -502.520901   \n",
       "2016-01-15 03:00:00                                 -500.857308   \n",
       "2016-01-15 04:00:00                                 -499.838632   \n",
       "\n",
       "                     secondary_cleaner.state.floatbank4_b_air  \\\n",
       "date                                                            \n",
       "2016-01-15 00:00:00                                 12.099931   \n",
       "2016-01-15 01:00:00                                 11.950531   \n",
       "2016-01-15 02:00:00                                 11.912783   \n",
       "2016-01-15 03:00:00                                 11.999550   \n",
       "2016-01-15 04:00:00                                 11.953070   \n",
       "\n",
       "                     secondary_cleaner.state.floatbank4_b_level  \\\n",
       "date                                                              \n",
       "2016-01-15 00:00:00                                 -504.715942   \n",
       "2016-01-15 01:00:00                                 -501.331529   \n",
       "2016-01-15 02:00:00                                 -501.133383   \n",
       "2016-01-15 03:00:00                                 -501.193686   \n",
       "2016-01-15 04:00:00                                 -501.053894   \n",
       "\n",
       "                     secondary_cleaner.state.floatbank5_a_air  \\\n",
       "date                                                            \n",
       "2016-01-15 00:00:00                                  9.925633   \n",
       "2016-01-15 01:00:00                                 10.039245   \n",
       "2016-01-15 02:00:00                                 10.070913   \n",
       "2016-01-15 03:00:00                                  9.970366   \n",
       "2016-01-15 04:00:00                                  9.925709   \n",
       "\n",
       "                     secondary_cleaner.state.floatbank5_a_level  \\\n",
       "date                                                              \n",
       "2016-01-15 00:00:00                                 -498.310211   \n",
       "2016-01-15 01:00:00                                 -500.169983   \n",
       "2016-01-15 02:00:00                                 -500.129135   \n",
       "2016-01-15 03:00:00                                 -499.201640   \n",
       "2016-01-15 04:00:00                                 -501.686727   \n",
       "\n",
       "                     secondary_cleaner.state.floatbank5_b_air  \\\n",
       "date                                                            \n",
       "2016-01-15 00:00:00                                  8.079666   \n",
       "2016-01-15 01:00:00                                  7.984757   \n",
       "2016-01-15 02:00:00                                  8.013877   \n",
       "2016-01-15 03:00:00                                  7.977324   \n",
       "2016-01-15 04:00:00                                  7.894242   \n",
       "\n",
       "                     secondary_cleaner.state.floatbank5_b_level  \\\n",
       "date                                                              \n",
       "2016-01-15 00:00:00                                 -500.470978   \n",
       "2016-01-15 01:00:00                                 -500.582168   \n",
       "2016-01-15 02:00:00                                 -500.517572   \n",
       "2016-01-15 03:00:00                                 -500.255908   \n",
       "2016-01-15 04:00:00                                 -500.356035   \n",
       "\n",
       "                     secondary_cleaner.state.floatbank6_a_air  \\\n",
       "date                                                            \n",
       "2016-01-15 00:00:00                                 14.151341   \n",
       "2016-01-15 01:00:00                                 13.998353   \n",
       "2016-01-15 02:00:00                                 14.028663   \n",
       "2016-01-15 03:00:00                                 14.005551   \n",
       "2016-01-15 04:00:00                                 13.996647   \n",
       "\n",
       "                     secondary_cleaner.state.floatbank6_a_level  \n",
       "date                                                             \n",
       "2016-01-15 00:00:00                                 -605.841980  \n",
       "2016-01-15 01:00:00                                 -599.787184  \n",
       "2016-01-15 02:00:00                                 -601.427363  \n",
       "2016-01-15 03:00:00                                 -599.996129  \n",
       "2016-01-15 04:00:00                                 -601.496691  \n",
       "\n",
       "[5 rows x 86 columns]"
      ]
     },
     "metadata": {},
     "output_type": "display_data"
    },
    {
     "name": "stdout",
     "output_type": "stream",
     "text": [
      "\n",
      "<class 'pandas.core.frame.DataFrame'>\n",
      "Index: 19439 entries, 2016-01-15 00:00:00 to 2018-08-18 10:59:59\n",
      "Data columns (total 86 columns):\n",
      " #   Column                                              Non-Null Count  Dtype  \n",
      "---  ------                                              --------------  -----  \n",
      " 0   final.output.concentrate_ag                         19438 non-null  float64\n",
      " 1   final.output.concentrate_pb                         19438 non-null  float64\n",
      " 2   final.output.concentrate_sol                        19228 non-null  float64\n",
      " 3   final.output.concentrate_au                         19439 non-null  float64\n",
      " 4   final.output.recovery                               19439 non-null  float64\n",
      " 5   final.output.tail_ag                                19438 non-null  float64\n",
      " 6   final.output.tail_pb                                19338 non-null  float64\n",
      " 7   final.output.tail_sol                               19433 non-null  float64\n",
      " 8   final.output.tail_au                                19439 non-null  float64\n",
      " 9   primary_cleaner.input.sulfate                       19415 non-null  float64\n",
      " 10  primary_cleaner.input.depressant                    19402 non-null  float64\n",
      " 11  primary_cleaner.input.feed_size                     19439 non-null  float64\n",
      " 12  primary_cleaner.input.xanthate                      19335 non-null  float64\n",
      " 13  primary_cleaner.output.concentrate_ag               19439 non-null  float64\n",
      " 14  primary_cleaner.output.concentrate_pb               19323 non-null  float64\n",
      " 15  primary_cleaner.output.concentrate_sol              19069 non-null  float64\n",
      " 16  primary_cleaner.output.concentrate_au               19439 non-null  float64\n",
      " 17  primary_cleaner.output.tail_ag                      19435 non-null  float64\n",
      " 18  primary_cleaner.output.tail_pb                      19418 non-null  float64\n",
      " 19  primary_cleaner.output.tail_sol                     19377 non-null  float64\n",
      " 20  primary_cleaner.output.tail_au                      19439 non-null  float64\n",
      " 21  primary_cleaner.state.floatbank8_a_air              19435 non-null  float64\n",
      " 22  primary_cleaner.state.floatbank8_a_level            19438 non-null  float64\n",
      " 23  primary_cleaner.state.floatbank8_b_air              19435 non-null  float64\n",
      " 24  primary_cleaner.state.floatbank8_b_level            19438 non-null  float64\n",
      " 25  primary_cleaner.state.floatbank8_c_air              19437 non-null  float64\n",
      " 26  primary_cleaner.state.floatbank8_c_level            19438 non-null  float64\n",
      " 27  primary_cleaner.state.floatbank8_d_air              19436 non-null  float64\n",
      " 28  primary_cleaner.state.floatbank8_d_level            19438 non-null  float64\n",
      " 29  rougher.calculation.sulfate_to_au_concentrate       19437 non-null  float64\n",
      " 30  rougher.calculation.floatbank10_sulfate_to_au_feed  19437 non-null  float64\n",
      " 31  rougher.calculation.floatbank11_sulfate_to_au_feed  19437 non-null  float64\n",
      " 32  rougher.calculation.au_pb_ratio                     19439 non-null  float64\n",
      " 33  rougher.input.feed_ag                               19439 non-null  float64\n",
      " 34  rougher.input.feed_pb                               19339 non-null  float64\n",
      " 35  rougher.input.feed_rate                             19428 non-null  float64\n",
      " 36  rougher.input.feed_size                             19294 non-null  float64\n",
      " 37  rougher.input.feed_sol                              19340 non-null  float64\n",
      " 38  rougher.input.feed_au                               19439 non-null  float64\n",
      " 39  rougher.input.floatbank10_sulfate                   19405 non-null  float64\n",
      " 40  rougher.input.floatbank10_xanthate                  19431 non-null  float64\n",
      " 41  rougher.input.floatbank11_sulfate                   19395 non-null  float64\n",
      " 42  rougher.input.floatbank11_xanthate                  18986 non-null  float64\n",
      " 43  rougher.output.concentrate_ag                       19439 non-null  float64\n",
      " 44  rougher.output.concentrate_pb                       19439 non-null  float64\n",
      " 45  rougher.output.concentrate_sol                      19416 non-null  float64\n",
      " 46  rougher.output.concentrate_au                       19439 non-null  float64\n",
      " 47  rougher.output.recovery                             19439 non-null  float64\n",
      " 48  rougher.output.tail_ag                              19438 non-null  float64\n",
      " 49  rougher.output.tail_pb                              19439 non-null  float64\n",
      " 50  rougher.output.tail_sol                             19439 non-null  float64\n",
      " 51  rougher.output.tail_au                              19439 non-null  float64\n",
      " 52  rougher.state.floatbank10_a_air                     19438 non-null  float64\n",
      " 53  rougher.state.floatbank10_a_level                   19438 non-null  float64\n",
      " 54  rougher.state.floatbank10_b_air                     19438 non-null  float64\n",
      " 55  rougher.state.floatbank10_b_level                   19438 non-null  float64\n",
      " 56  rougher.state.floatbank10_c_air                     19438 non-null  float64\n",
      " 57  rougher.state.floatbank10_c_level                   19438 non-null  float64\n",
      " 58  rougher.state.floatbank10_d_air                     19439 non-null  float64\n",
      " 59  rougher.state.floatbank10_d_level                   19439 non-null  float64\n",
      " 60  rougher.state.floatbank10_e_air                     19003 non-null  float64\n",
      " 61  rougher.state.floatbank10_e_level                   19439 non-null  float64\n",
      " 62  rougher.state.floatbank10_f_air                     19439 non-null  float64\n",
      " 63  rougher.state.floatbank10_f_level                   19439 non-null  float64\n",
      " 64  secondary_cleaner.output.tail_ag                    19437 non-null  float64\n",
      " 65  secondary_cleaner.output.tail_pb                    19427 non-null  float64\n",
      " 66  secondary_cleaner.output.tail_sol                   17691 non-null  float64\n",
      " 67  secondary_cleaner.output.tail_au                    19439 non-null  float64\n",
      " 68  secondary_cleaner.state.floatbank2_a_air            19219 non-null  float64\n",
      " 69  secondary_cleaner.state.floatbank2_a_level          19438 non-null  float64\n",
      " 70  secondary_cleaner.state.floatbank2_b_air            19416 non-null  float64\n",
      " 71  secondary_cleaner.state.floatbank2_b_level          19438 non-null  float64\n",
      " 72  secondary_cleaner.state.floatbank3_a_air            19426 non-null  float64\n",
      " 73  secondary_cleaner.state.floatbank3_a_level          19438 non-null  float64\n",
      " 74  secondary_cleaner.state.floatbank3_b_air            19438 non-null  float64\n",
      " 75  secondary_cleaner.state.floatbank3_b_level          19438 non-null  float64\n",
      " 76  secondary_cleaner.state.floatbank4_a_air            19433 non-null  float64\n",
      " 77  secondary_cleaner.state.floatbank4_a_level          19438 non-null  float64\n",
      " 78  secondary_cleaner.state.floatbank4_b_air            19438 non-null  float64\n",
      " 79  secondary_cleaner.state.floatbank4_b_level          19438 non-null  float64\n",
      " 80  secondary_cleaner.state.floatbank5_a_air            19438 non-null  float64\n",
      " 81  secondary_cleaner.state.floatbank5_a_level          19438 non-null  float64\n",
      " 82  secondary_cleaner.state.floatbank5_b_air            19438 non-null  float64\n",
      " 83  secondary_cleaner.state.floatbank5_b_level          19438 non-null  float64\n",
      " 84  secondary_cleaner.state.floatbank6_a_air            19437 non-null  float64\n",
      " 85  secondary_cleaner.state.floatbank6_a_level          19438 non-null  float64\n",
      "dtypes: float64(86)\n",
      "memory usage: 12.9+ MB\n",
      "None\n",
      "Кол-во дубликатов = 0\n",
      "\n"
     ]
    },
    {
     "data": {
      "text/html": [
       "<div>\n",
       "<style scoped>\n",
       "    .dataframe tbody tr th:only-of-type {\n",
       "        vertical-align: middle;\n",
       "    }\n",
       "\n",
       "    .dataframe tbody tr th {\n",
       "        vertical-align: top;\n",
       "    }\n",
       "\n",
       "    .dataframe thead th {\n",
       "        text-align: right;\n",
       "    }\n",
       "</style>\n",
       "<table border=\"1\" class=\"dataframe\">\n",
       "  <thead>\n",
       "    <tr style=\"text-align: right;\">\n",
       "      <th></th>\n",
       "      <th>final.output.concentrate_ag</th>\n",
       "      <th>final.output.concentrate_pb</th>\n",
       "      <th>final.output.concentrate_sol</th>\n",
       "      <th>final.output.concentrate_au</th>\n",
       "      <th>final.output.recovery</th>\n",
       "      <th>final.output.tail_ag</th>\n",
       "      <th>final.output.tail_pb</th>\n",
       "      <th>final.output.tail_sol</th>\n",
       "      <th>final.output.tail_au</th>\n",
       "      <th>primary_cleaner.input.sulfate</th>\n",
       "      <th>...</th>\n",
       "      <th>secondary_cleaner.state.floatbank4_a_air</th>\n",
       "      <th>secondary_cleaner.state.floatbank4_a_level</th>\n",
       "      <th>secondary_cleaner.state.floatbank4_b_air</th>\n",
       "      <th>secondary_cleaner.state.floatbank4_b_level</th>\n",
       "      <th>secondary_cleaner.state.floatbank5_a_air</th>\n",
       "      <th>secondary_cleaner.state.floatbank5_a_level</th>\n",
       "      <th>secondary_cleaner.state.floatbank5_b_air</th>\n",
       "      <th>secondary_cleaner.state.floatbank5_b_level</th>\n",
       "      <th>secondary_cleaner.state.floatbank6_a_air</th>\n",
       "      <th>secondary_cleaner.state.floatbank6_a_level</th>\n",
       "    </tr>\n",
       "  </thead>\n",
       "  <tbody>\n",
       "    <tr>\n",
       "      <th>count</th>\n",
       "      <td>19438.000000</td>\n",
       "      <td>19438.000000</td>\n",
       "      <td>19228.000000</td>\n",
       "      <td>19439.000000</td>\n",
       "      <td>19439.000000</td>\n",
       "      <td>19438.000000</td>\n",
       "      <td>19338.000000</td>\n",
       "      <td>19433.000000</td>\n",
       "      <td>19439.000000</td>\n",
       "      <td>19415.000000</td>\n",
       "      <td>...</td>\n",
       "      <td>19433.000000</td>\n",
       "      <td>19438.000000</td>\n",
       "      <td>19438.000000</td>\n",
       "      <td>19438.000000</td>\n",
       "      <td>19438.000000</td>\n",
       "      <td>19438.000000</td>\n",
       "      <td>19438.000000</td>\n",
       "      <td>19438.000000</td>\n",
       "      <td>19437.000000</td>\n",
       "      <td>19438.000000</td>\n",
       "    </tr>\n",
       "    <tr>\n",
       "      <th>mean</th>\n",
       "      <td>5.168470</td>\n",
       "      <td>9.978895</td>\n",
       "      <td>9.501224</td>\n",
       "      <td>44.076513</td>\n",
       "      <td>67.050208</td>\n",
       "      <td>9.688589</td>\n",
       "      <td>2.705795</td>\n",
       "      <td>10.583728</td>\n",
       "      <td>3.042467</td>\n",
       "      <td>144.624774</td>\n",
       "      <td>...</td>\n",
       "      <td>18.987674</td>\n",
       "      <td>-485.894516</td>\n",
       "      <td>15.010366</td>\n",
       "      <td>-461.078636</td>\n",
       "      <td>15.694452</td>\n",
       "      <td>-488.684065</td>\n",
       "      <td>12.198224</td>\n",
       "      <td>-487.149827</td>\n",
       "      <td>18.959024</td>\n",
       "      <td>-505.436305</td>\n",
       "    </tr>\n",
       "    <tr>\n",
       "      <th>std</th>\n",
       "      <td>1.372348</td>\n",
       "      <td>1.669240</td>\n",
       "      <td>2.787537</td>\n",
       "      <td>5.129784</td>\n",
       "      <td>10.125840</td>\n",
       "      <td>2.328642</td>\n",
       "      <td>0.949077</td>\n",
       "      <td>2.868782</td>\n",
       "      <td>0.922808</td>\n",
       "      <td>44.464071</td>\n",
       "      <td>...</td>\n",
       "      <td>5.411058</td>\n",
       "      <td>47.758570</td>\n",
       "      <td>4.890228</td>\n",
       "      <td>67.405524</td>\n",
       "      <td>5.510974</td>\n",
       "      <td>34.533396</td>\n",
       "      <td>5.333024</td>\n",
       "      <td>38.347312</td>\n",
       "      <td>5.550498</td>\n",
       "      <td>37.689057</td>\n",
       "    </tr>\n",
       "    <tr>\n",
       "      <th>min</th>\n",
       "      <td>0.000000</td>\n",
       "      <td>0.000000</td>\n",
       "      <td>0.000000</td>\n",
       "      <td>0.000000</td>\n",
       "      <td>0.000000</td>\n",
       "      <td>0.000000</td>\n",
       "      <td>0.000000</td>\n",
       "      <td>0.000000</td>\n",
       "      <td>0.000000</td>\n",
       "      <td>0.003112</td>\n",
       "      <td>...</td>\n",
       "      <td>0.000000</td>\n",
       "      <td>-799.798523</td>\n",
       "      <td>0.000000</td>\n",
       "      <td>-800.836914</td>\n",
       "      <td>-0.372054</td>\n",
       "      <td>-797.323986</td>\n",
       "      <td>0.528083</td>\n",
       "      <td>-800.220337</td>\n",
       "      <td>-0.079426</td>\n",
       "      <td>-809.741464</td>\n",
       "    </tr>\n",
       "    <tr>\n",
       "      <th>25%</th>\n",
       "      <td>4.251240</td>\n",
       "      <td>9.137262</td>\n",
       "      <td>7.722820</td>\n",
       "      <td>43.402215</td>\n",
       "      <td>63.299712</td>\n",
       "      <td>8.062878</td>\n",
       "      <td>2.040119</td>\n",
       "      <td>8.938947</td>\n",
       "      <td>2.461138</td>\n",
       "      <td>114.107029</td>\n",
       "      <td>...</td>\n",
       "      <td>14.975734</td>\n",
       "      <td>-500.704892</td>\n",
       "      <td>11.940294</td>\n",
       "      <td>-500.187742</td>\n",
       "      <td>10.988606</td>\n",
       "      <td>-500.458467</td>\n",
       "      <td>8.971105</td>\n",
       "      <td>-500.129462</td>\n",
       "      <td>14.983037</td>\n",
       "      <td>-500.728067</td>\n",
       "    </tr>\n",
       "    <tr>\n",
       "      <th>50%</th>\n",
       "      <td>5.066094</td>\n",
       "      <td>10.102433</td>\n",
       "      <td>9.218961</td>\n",
       "      <td>45.011244</td>\n",
       "      <td>68.172738</td>\n",
       "      <td>9.743623</td>\n",
       "      <td>2.748730</td>\n",
       "      <td>10.622456</td>\n",
       "      <td>2.984909</td>\n",
       "      <td>143.232103</td>\n",
       "      <td>...</td>\n",
       "      <td>18.017481</td>\n",
       "      <td>-499.837793</td>\n",
       "      <td>14.971014</td>\n",
       "      <td>-499.459786</td>\n",
       "      <td>15.000036</td>\n",
       "      <td>-499.802605</td>\n",
       "      <td>11.019433</td>\n",
       "      <td>-499.935317</td>\n",
       "      <td>19.960541</td>\n",
       "      <td>-500.048400</td>\n",
       "    </tr>\n",
       "    <tr>\n",
       "      <th>75%</th>\n",
       "      <td>5.895527</td>\n",
       "      <td>11.035769</td>\n",
       "      <td>10.947813</td>\n",
       "      <td>46.275313</td>\n",
       "      <td>72.686642</td>\n",
       "      <td>11.134294</td>\n",
       "      <td>3.333216</td>\n",
       "      <td>12.104271</td>\n",
       "      <td>3.571351</td>\n",
       "      <td>175.075656</td>\n",
       "      <td>...</td>\n",
       "      <td>23.012470</td>\n",
       "      <td>-498.249730</td>\n",
       "      <td>19.034162</td>\n",
       "      <td>-400.118106</td>\n",
       "      <td>18.026190</td>\n",
       "      <td>-498.384187</td>\n",
       "      <td>14.019088</td>\n",
       "      <td>-499.436708</td>\n",
       "      <td>24.003170</td>\n",
       "      <td>-499.495378</td>\n",
       "    </tr>\n",
       "    <tr>\n",
       "      <th>max</th>\n",
       "      <td>16.001945</td>\n",
       "      <td>17.031899</td>\n",
       "      <td>19.615720</td>\n",
       "      <td>52.756638</td>\n",
       "      <td>100.000000</td>\n",
       "      <td>19.552149</td>\n",
       "      <td>5.804178</td>\n",
       "      <td>22.317730</td>\n",
       "      <td>8.245022</td>\n",
       "      <td>265.983123</td>\n",
       "      <td>...</td>\n",
       "      <td>30.115735</td>\n",
       "      <td>-245.239184</td>\n",
       "      <td>31.269706</td>\n",
       "      <td>-6.506986</td>\n",
       "      <td>43.709931</td>\n",
       "      <td>-244.483566</td>\n",
       "      <td>27.926001</td>\n",
       "      <td>-137.740004</td>\n",
       "      <td>32.188906</td>\n",
       "      <td>-104.427459</td>\n",
       "    </tr>\n",
       "  </tbody>\n",
       "</table>\n",
       "<p>8 rows × 86 columns</p>\n",
       "</div>"
      ],
      "text/plain": [
       "       final.output.concentrate_ag  final.output.concentrate_pb  \\\n",
       "count                 19438.000000                 19438.000000   \n",
       "mean                      5.168470                     9.978895   \n",
       "std                       1.372348                     1.669240   \n",
       "min                       0.000000                     0.000000   \n",
       "25%                       4.251240                     9.137262   \n",
       "50%                       5.066094                    10.102433   \n",
       "75%                       5.895527                    11.035769   \n",
       "max                      16.001945                    17.031899   \n",
       "\n",
       "       final.output.concentrate_sol  final.output.concentrate_au  \\\n",
       "count                  19228.000000                 19439.000000   \n",
       "mean                       9.501224                    44.076513   \n",
       "std                        2.787537                     5.129784   \n",
       "min                        0.000000                     0.000000   \n",
       "25%                        7.722820                    43.402215   \n",
       "50%                        9.218961                    45.011244   \n",
       "75%                       10.947813                    46.275313   \n",
       "max                       19.615720                    52.756638   \n",
       "\n",
       "       final.output.recovery  final.output.tail_ag  final.output.tail_pb  \\\n",
       "count           19439.000000          19438.000000          19338.000000   \n",
       "mean               67.050208              9.688589              2.705795   \n",
       "std                10.125840              2.328642              0.949077   \n",
       "min                 0.000000              0.000000              0.000000   \n",
       "25%                63.299712              8.062878              2.040119   \n",
       "50%                68.172738              9.743623              2.748730   \n",
       "75%                72.686642             11.134294              3.333216   \n",
       "max               100.000000             19.552149              5.804178   \n",
       "\n",
       "       final.output.tail_sol  final.output.tail_au  \\\n",
       "count           19433.000000          19439.000000   \n",
       "mean               10.583728              3.042467   \n",
       "std                 2.868782              0.922808   \n",
       "min                 0.000000              0.000000   \n",
       "25%                 8.938947              2.461138   \n",
       "50%                10.622456              2.984909   \n",
       "75%                12.104271              3.571351   \n",
       "max                22.317730              8.245022   \n",
       "\n",
       "       primary_cleaner.input.sulfate  ...  \\\n",
       "count                   19415.000000  ...   \n",
       "mean                      144.624774  ...   \n",
       "std                        44.464071  ...   \n",
       "min                         0.003112  ...   \n",
       "25%                       114.107029  ...   \n",
       "50%                       143.232103  ...   \n",
       "75%                       175.075656  ...   \n",
       "max                       265.983123  ...   \n",
       "\n",
       "       secondary_cleaner.state.floatbank4_a_air  \\\n",
       "count                              19433.000000   \n",
       "mean                                  18.987674   \n",
       "std                                    5.411058   \n",
       "min                                    0.000000   \n",
       "25%                                   14.975734   \n",
       "50%                                   18.017481   \n",
       "75%                                   23.012470   \n",
       "max                                   30.115735   \n",
       "\n",
       "       secondary_cleaner.state.floatbank4_a_level  \\\n",
       "count                                19438.000000   \n",
       "mean                                  -485.894516   \n",
       "std                                     47.758570   \n",
       "min                                   -799.798523   \n",
       "25%                                   -500.704892   \n",
       "50%                                   -499.837793   \n",
       "75%                                   -498.249730   \n",
       "max                                   -245.239184   \n",
       "\n",
       "       secondary_cleaner.state.floatbank4_b_air  \\\n",
       "count                              19438.000000   \n",
       "mean                                  15.010366   \n",
       "std                                    4.890228   \n",
       "min                                    0.000000   \n",
       "25%                                   11.940294   \n",
       "50%                                   14.971014   \n",
       "75%                                   19.034162   \n",
       "max                                   31.269706   \n",
       "\n",
       "       secondary_cleaner.state.floatbank4_b_level  \\\n",
       "count                                19438.000000   \n",
       "mean                                  -461.078636   \n",
       "std                                     67.405524   \n",
       "min                                   -800.836914   \n",
       "25%                                   -500.187742   \n",
       "50%                                   -499.459786   \n",
       "75%                                   -400.118106   \n",
       "max                                     -6.506986   \n",
       "\n",
       "       secondary_cleaner.state.floatbank5_a_air  \\\n",
       "count                              19438.000000   \n",
       "mean                                  15.694452   \n",
       "std                                    5.510974   \n",
       "min                                   -0.372054   \n",
       "25%                                   10.988606   \n",
       "50%                                   15.000036   \n",
       "75%                                   18.026190   \n",
       "max                                   43.709931   \n",
       "\n",
       "       secondary_cleaner.state.floatbank5_a_level  \\\n",
       "count                                19438.000000   \n",
       "mean                                  -488.684065   \n",
       "std                                     34.533396   \n",
       "min                                   -797.323986   \n",
       "25%                                   -500.458467   \n",
       "50%                                   -499.802605   \n",
       "75%                                   -498.384187   \n",
       "max                                   -244.483566   \n",
       "\n",
       "       secondary_cleaner.state.floatbank5_b_air  \\\n",
       "count                              19438.000000   \n",
       "mean                                  12.198224   \n",
       "std                                    5.333024   \n",
       "min                                    0.528083   \n",
       "25%                                    8.971105   \n",
       "50%                                   11.019433   \n",
       "75%                                   14.019088   \n",
       "max                                   27.926001   \n",
       "\n",
       "       secondary_cleaner.state.floatbank5_b_level  \\\n",
       "count                                19438.000000   \n",
       "mean                                  -487.149827   \n",
       "std                                     38.347312   \n",
       "min                                   -800.220337   \n",
       "25%                                   -500.129462   \n",
       "50%                                   -499.935317   \n",
       "75%                                   -499.436708   \n",
       "max                                   -137.740004   \n",
       "\n",
       "       secondary_cleaner.state.floatbank6_a_air  \\\n",
       "count                              19437.000000   \n",
       "mean                                  18.959024   \n",
       "std                                    5.550498   \n",
       "min                                   -0.079426   \n",
       "25%                                   14.983037   \n",
       "50%                                   19.960541   \n",
       "75%                                   24.003170   \n",
       "max                                   32.188906   \n",
       "\n",
       "       secondary_cleaner.state.floatbank6_a_level  \n",
       "count                                19438.000000  \n",
       "mean                                  -505.436305  \n",
       "std                                     37.689057  \n",
       "min                                   -809.741464  \n",
       "25%                                   -500.728067  \n",
       "50%                                   -500.048400  \n",
       "75%                                   -499.495378  \n",
       "max                                   -104.427459  \n",
       "\n",
       "[8 rows x 86 columns]"
      ]
     },
     "metadata": {},
     "output_type": "display_data"
    },
    {
     "name": "stdout",
     "output_type": "stream",
     "text": [
      "---------------------------------------------------\n"
     ]
    },
    {
     "data": {
      "text/html": [
       "<div>\n",
       "<style scoped>\n",
       "    .dataframe tbody tr th:only-of-type {\n",
       "        vertical-align: middle;\n",
       "    }\n",
       "\n",
       "    .dataframe tbody tr th {\n",
       "        vertical-align: top;\n",
       "    }\n",
       "\n",
       "    .dataframe thead th {\n",
       "        text-align: right;\n",
       "    }\n",
       "</style>\n",
       "<table border=\"1\" class=\"dataframe\">\n",
       "  <thead>\n",
       "    <tr style=\"text-align: right;\">\n",
       "      <th></th>\n",
       "      <th>final.output.concentrate_ag</th>\n",
       "      <th>final.output.concentrate_pb</th>\n",
       "      <th>final.output.concentrate_sol</th>\n",
       "      <th>final.output.concentrate_au</th>\n",
       "      <th>final.output.recovery</th>\n",
       "      <th>final.output.tail_ag</th>\n",
       "      <th>final.output.tail_pb</th>\n",
       "      <th>final.output.tail_sol</th>\n",
       "      <th>final.output.tail_au</th>\n",
       "      <th>primary_cleaner.input.sulfate</th>\n",
       "      <th>...</th>\n",
       "      <th>secondary_cleaner.state.floatbank4_a_air</th>\n",
       "      <th>secondary_cleaner.state.floatbank4_a_level</th>\n",
       "      <th>secondary_cleaner.state.floatbank4_b_air</th>\n",
       "      <th>secondary_cleaner.state.floatbank4_b_level</th>\n",
       "      <th>secondary_cleaner.state.floatbank5_a_air</th>\n",
       "      <th>secondary_cleaner.state.floatbank5_a_level</th>\n",
       "      <th>secondary_cleaner.state.floatbank5_b_air</th>\n",
       "      <th>secondary_cleaner.state.floatbank5_b_level</th>\n",
       "      <th>secondary_cleaner.state.floatbank6_a_air</th>\n",
       "      <th>secondary_cleaner.state.floatbank6_a_level</th>\n",
       "    </tr>\n",
       "    <tr>\n",
       "      <th>date</th>\n",
       "      <th></th>\n",
       "      <th></th>\n",
       "      <th></th>\n",
       "      <th></th>\n",
       "      <th></th>\n",
       "      <th></th>\n",
       "      <th></th>\n",
       "      <th></th>\n",
       "      <th></th>\n",
       "      <th></th>\n",
       "      <th></th>\n",
       "      <th></th>\n",
       "      <th></th>\n",
       "      <th></th>\n",
       "      <th></th>\n",
       "      <th></th>\n",
       "      <th></th>\n",
       "      <th></th>\n",
       "      <th></th>\n",
       "      <th></th>\n",
       "      <th></th>\n",
       "    </tr>\n",
       "  </thead>\n",
       "  <tbody>\n",
       "    <tr>\n",
       "      <th>2016-01-15 00:00:00</th>\n",
       "      <td>6.055403</td>\n",
       "      <td>9.889648</td>\n",
       "      <td>5.507324</td>\n",
       "      <td>42.192020</td>\n",
       "      <td>70.541216</td>\n",
       "      <td>10.411962</td>\n",
       "      <td>0.895447</td>\n",
       "      <td>16.904297</td>\n",
       "      <td>2.143149</td>\n",
       "      <td>127.092003</td>\n",
       "      <td>...</td>\n",
       "      <td>14.016835</td>\n",
       "      <td>-502.488007</td>\n",
       "      <td>12.099931</td>\n",
       "      <td>-504.715942</td>\n",
       "      <td>9.925633</td>\n",
       "      <td>-498.310211</td>\n",
       "      <td>8.079666</td>\n",
       "      <td>-500.470978</td>\n",
       "      <td>14.151341</td>\n",
       "      <td>-605.841980</td>\n",
       "    </tr>\n",
       "    <tr>\n",
       "      <th>2016-01-15 01:00:00</th>\n",
       "      <td>6.029369</td>\n",
       "      <td>9.968944</td>\n",
       "      <td>5.257781</td>\n",
       "      <td>42.701629</td>\n",
       "      <td>69.266198</td>\n",
       "      <td>10.462676</td>\n",
       "      <td>0.927452</td>\n",
       "      <td>16.634514</td>\n",
       "      <td>2.224930</td>\n",
       "      <td>125.629232</td>\n",
       "      <td>...</td>\n",
       "      <td>13.992281</td>\n",
       "      <td>-505.503262</td>\n",
       "      <td>11.950531</td>\n",
       "      <td>-501.331529</td>\n",
       "      <td>10.039245</td>\n",
       "      <td>-500.169983</td>\n",
       "      <td>7.984757</td>\n",
       "      <td>-500.582168</td>\n",
       "      <td>13.998353</td>\n",
       "      <td>-599.787184</td>\n",
       "    </tr>\n",
       "    <tr>\n",
       "      <th>2016-01-15 02:00:00</th>\n",
       "      <td>6.055926</td>\n",
       "      <td>10.213995</td>\n",
       "      <td>5.383759</td>\n",
       "      <td>42.657501</td>\n",
       "      <td>68.116445</td>\n",
       "      <td>10.507046</td>\n",
       "      <td>0.953716</td>\n",
       "      <td>16.208849</td>\n",
       "      <td>2.257889</td>\n",
       "      <td>123.819808</td>\n",
       "      <td>...</td>\n",
       "      <td>14.015015</td>\n",
       "      <td>-502.520901</td>\n",
       "      <td>11.912783</td>\n",
       "      <td>-501.133383</td>\n",
       "      <td>10.070913</td>\n",
       "      <td>-500.129135</td>\n",
       "      <td>8.013877</td>\n",
       "      <td>-500.517572</td>\n",
       "      <td>14.028663</td>\n",
       "      <td>-601.427363</td>\n",
       "    </tr>\n",
       "    <tr>\n",
       "      <th>2016-01-15 03:00:00</th>\n",
       "      <td>6.047977</td>\n",
       "      <td>9.977019</td>\n",
       "      <td>4.858634</td>\n",
       "      <td>42.689819</td>\n",
       "      <td>68.347543</td>\n",
       "      <td>10.422762</td>\n",
       "      <td>0.883763</td>\n",
       "      <td>16.532835</td>\n",
       "      <td>2.146849</td>\n",
       "      <td>122.270188</td>\n",
       "      <td>...</td>\n",
       "      <td>14.036510</td>\n",
       "      <td>-500.857308</td>\n",
       "      <td>11.999550</td>\n",
       "      <td>-501.193686</td>\n",
       "      <td>9.970366</td>\n",
       "      <td>-499.201640</td>\n",
       "      <td>7.977324</td>\n",
       "      <td>-500.255908</td>\n",
       "      <td>14.005551</td>\n",
       "      <td>-599.996129</td>\n",
       "    </tr>\n",
       "    <tr>\n",
       "      <th>2016-01-15 04:00:00</th>\n",
       "      <td>6.148599</td>\n",
       "      <td>10.142511</td>\n",
       "      <td>4.939416</td>\n",
       "      <td>42.774141</td>\n",
       "      <td>66.927016</td>\n",
       "      <td>10.360302</td>\n",
       "      <td>0.792826</td>\n",
       "      <td>16.525686</td>\n",
       "      <td>2.055292</td>\n",
       "      <td>117.988169</td>\n",
       "      <td>...</td>\n",
       "      <td>14.027298</td>\n",
       "      <td>-499.838632</td>\n",
       "      <td>11.953070</td>\n",
       "      <td>-501.053894</td>\n",
       "      <td>9.925709</td>\n",
       "      <td>-501.686727</td>\n",
       "      <td>7.894242</td>\n",
       "      <td>-500.356035</td>\n",
       "      <td>13.996647</td>\n",
       "      <td>-601.496691</td>\n",
       "    </tr>\n",
       "  </tbody>\n",
       "</table>\n",
       "<p>5 rows × 86 columns</p>\n",
       "</div>"
      ],
      "text/plain": [
       "                     final.output.concentrate_ag  final.output.concentrate_pb  \\\n",
       "date                                                                            \n",
       "2016-01-15 00:00:00                     6.055403                     9.889648   \n",
       "2016-01-15 01:00:00                     6.029369                     9.968944   \n",
       "2016-01-15 02:00:00                     6.055926                    10.213995   \n",
       "2016-01-15 03:00:00                     6.047977                     9.977019   \n",
       "2016-01-15 04:00:00                     6.148599                    10.142511   \n",
       "\n",
       "                     final.output.concentrate_sol  \\\n",
       "date                                                \n",
       "2016-01-15 00:00:00                      5.507324   \n",
       "2016-01-15 01:00:00                      5.257781   \n",
       "2016-01-15 02:00:00                      5.383759   \n",
       "2016-01-15 03:00:00                      4.858634   \n",
       "2016-01-15 04:00:00                      4.939416   \n",
       "\n",
       "                     final.output.concentrate_au  final.output.recovery  \\\n",
       "date                                                                      \n",
       "2016-01-15 00:00:00                    42.192020              70.541216   \n",
       "2016-01-15 01:00:00                    42.701629              69.266198   \n",
       "2016-01-15 02:00:00                    42.657501              68.116445   \n",
       "2016-01-15 03:00:00                    42.689819              68.347543   \n",
       "2016-01-15 04:00:00                    42.774141              66.927016   \n",
       "\n",
       "                     final.output.tail_ag  final.output.tail_pb  \\\n",
       "date                                                              \n",
       "2016-01-15 00:00:00             10.411962              0.895447   \n",
       "2016-01-15 01:00:00             10.462676              0.927452   \n",
       "2016-01-15 02:00:00             10.507046              0.953716   \n",
       "2016-01-15 03:00:00             10.422762              0.883763   \n",
       "2016-01-15 04:00:00             10.360302              0.792826   \n",
       "\n",
       "                     final.output.tail_sol  final.output.tail_au  \\\n",
       "date                                                               \n",
       "2016-01-15 00:00:00              16.904297              2.143149   \n",
       "2016-01-15 01:00:00              16.634514              2.224930   \n",
       "2016-01-15 02:00:00              16.208849              2.257889   \n",
       "2016-01-15 03:00:00              16.532835              2.146849   \n",
       "2016-01-15 04:00:00              16.525686              2.055292   \n",
       "\n",
       "                     primary_cleaner.input.sulfate  ...  \\\n",
       "date                                                ...   \n",
       "2016-01-15 00:00:00                     127.092003  ...   \n",
       "2016-01-15 01:00:00                     125.629232  ...   \n",
       "2016-01-15 02:00:00                     123.819808  ...   \n",
       "2016-01-15 03:00:00                     122.270188  ...   \n",
       "2016-01-15 04:00:00                     117.988169  ...   \n",
       "\n",
       "                     secondary_cleaner.state.floatbank4_a_air  \\\n",
       "date                                                            \n",
       "2016-01-15 00:00:00                                 14.016835   \n",
       "2016-01-15 01:00:00                                 13.992281   \n",
       "2016-01-15 02:00:00                                 14.015015   \n",
       "2016-01-15 03:00:00                                 14.036510   \n",
       "2016-01-15 04:00:00                                 14.027298   \n",
       "\n",
       "                     secondary_cleaner.state.floatbank4_a_level  \\\n",
       "date                                                              \n",
       "2016-01-15 00:00:00                                 -502.488007   \n",
       "2016-01-15 01:00:00                                 -505.503262   \n",
       "2016-01-15 02:00:00                                 -502.520901   \n",
       "2016-01-15 03:00:00                                 -500.857308   \n",
       "2016-01-15 04:00:00                                 -499.838632   \n",
       "\n",
       "                     secondary_cleaner.state.floatbank4_b_air  \\\n",
       "date                                                            \n",
       "2016-01-15 00:00:00                                 12.099931   \n",
       "2016-01-15 01:00:00                                 11.950531   \n",
       "2016-01-15 02:00:00                                 11.912783   \n",
       "2016-01-15 03:00:00                                 11.999550   \n",
       "2016-01-15 04:00:00                                 11.953070   \n",
       "\n",
       "                     secondary_cleaner.state.floatbank4_b_level  \\\n",
       "date                                                              \n",
       "2016-01-15 00:00:00                                 -504.715942   \n",
       "2016-01-15 01:00:00                                 -501.331529   \n",
       "2016-01-15 02:00:00                                 -501.133383   \n",
       "2016-01-15 03:00:00                                 -501.193686   \n",
       "2016-01-15 04:00:00                                 -501.053894   \n",
       "\n",
       "                     secondary_cleaner.state.floatbank5_a_air  \\\n",
       "date                                                            \n",
       "2016-01-15 00:00:00                                  9.925633   \n",
       "2016-01-15 01:00:00                                 10.039245   \n",
       "2016-01-15 02:00:00                                 10.070913   \n",
       "2016-01-15 03:00:00                                  9.970366   \n",
       "2016-01-15 04:00:00                                  9.925709   \n",
       "\n",
       "                     secondary_cleaner.state.floatbank5_a_level  \\\n",
       "date                                                              \n",
       "2016-01-15 00:00:00                                 -498.310211   \n",
       "2016-01-15 01:00:00                                 -500.169983   \n",
       "2016-01-15 02:00:00                                 -500.129135   \n",
       "2016-01-15 03:00:00                                 -499.201640   \n",
       "2016-01-15 04:00:00                                 -501.686727   \n",
       "\n",
       "                     secondary_cleaner.state.floatbank5_b_air  \\\n",
       "date                                                            \n",
       "2016-01-15 00:00:00                                  8.079666   \n",
       "2016-01-15 01:00:00                                  7.984757   \n",
       "2016-01-15 02:00:00                                  8.013877   \n",
       "2016-01-15 03:00:00                                  7.977324   \n",
       "2016-01-15 04:00:00                                  7.894242   \n",
       "\n",
       "                     secondary_cleaner.state.floatbank5_b_level  \\\n",
       "date                                                              \n",
       "2016-01-15 00:00:00                                 -500.470978   \n",
       "2016-01-15 01:00:00                                 -500.582168   \n",
       "2016-01-15 02:00:00                                 -500.517572   \n",
       "2016-01-15 03:00:00                                 -500.255908   \n",
       "2016-01-15 04:00:00                                 -500.356035   \n",
       "\n",
       "                     secondary_cleaner.state.floatbank6_a_air  \\\n",
       "date                                                            \n",
       "2016-01-15 00:00:00                                 14.151341   \n",
       "2016-01-15 01:00:00                                 13.998353   \n",
       "2016-01-15 02:00:00                                 14.028663   \n",
       "2016-01-15 03:00:00                                 14.005551   \n",
       "2016-01-15 04:00:00                                 13.996647   \n",
       "\n",
       "                     secondary_cleaner.state.floatbank6_a_level  \n",
       "date                                                             \n",
       "2016-01-15 00:00:00                                 -605.841980  \n",
       "2016-01-15 01:00:00                                 -599.787184  \n",
       "2016-01-15 02:00:00                                 -601.427363  \n",
       "2016-01-15 03:00:00                                 -599.996129  \n",
       "2016-01-15 04:00:00                                 -601.496691  \n",
       "\n",
       "[5 rows x 86 columns]"
      ]
     },
     "metadata": {},
     "output_type": "display_data"
    },
    {
     "name": "stdout",
     "output_type": "stream",
     "text": [
      "\n",
      "<class 'pandas.core.frame.DataFrame'>\n",
      "Index: 14149 entries, 2016-01-15 00:00:00 to 2018-08-18 10:59:59\n",
      "Data columns (total 86 columns):\n",
      " #   Column                                              Non-Null Count  Dtype  \n",
      "---  ------                                              --------------  -----  \n",
      " 0   final.output.concentrate_ag                         14148 non-null  float64\n",
      " 1   final.output.concentrate_pb                         14148 non-null  float64\n",
      " 2   final.output.concentrate_sol                        13938 non-null  float64\n",
      " 3   final.output.concentrate_au                         14149 non-null  float64\n",
      " 4   final.output.recovery                               14149 non-null  float64\n",
      " 5   final.output.tail_ag                                14149 non-null  float64\n",
      " 6   final.output.tail_pb                                14049 non-null  float64\n",
      " 7   final.output.tail_sol                               14144 non-null  float64\n",
      " 8   final.output.tail_au                                14149 non-null  float64\n",
      " 9   primary_cleaner.input.sulfate                       14129 non-null  float64\n",
      " 10  primary_cleaner.input.depressant                    14117 non-null  float64\n",
      " 11  primary_cleaner.input.feed_size                     14149 non-null  float64\n",
      " 12  primary_cleaner.input.xanthate                      14049 non-null  float64\n",
      " 13  primary_cleaner.output.concentrate_ag               14149 non-null  float64\n",
      " 14  primary_cleaner.output.concentrate_pb               14063 non-null  float64\n",
      " 15  primary_cleaner.output.concentrate_sol              13863 non-null  float64\n",
      " 16  primary_cleaner.output.concentrate_au               14149 non-null  float64\n",
      " 17  primary_cleaner.output.tail_ag                      14148 non-null  float64\n",
      " 18  primary_cleaner.output.tail_pb                      14134 non-null  float64\n",
      " 19  primary_cleaner.output.tail_sol                     14103 non-null  float64\n",
      " 20  primary_cleaner.output.tail_au                      14149 non-null  float64\n",
      " 21  primary_cleaner.state.floatbank8_a_air              14145 non-null  float64\n",
      " 22  primary_cleaner.state.floatbank8_a_level            14148 non-null  float64\n",
      " 23  primary_cleaner.state.floatbank8_b_air              14145 non-null  float64\n",
      " 24  primary_cleaner.state.floatbank8_b_level            14148 non-null  float64\n",
      " 25  primary_cleaner.state.floatbank8_c_air              14147 non-null  float64\n",
      " 26  primary_cleaner.state.floatbank8_c_level            14148 non-null  float64\n",
      " 27  primary_cleaner.state.floatbank8_d_air              14146 non-null  float64\n",
      " 28  primary_cleaner.state.floatbank8_d_level            14148 non-null  float64\n",
      " 29  rougher.calculation.sulfate_to_au_concentrate       14148 non-null  float64\n",
      " 30  rougher.calculation.floatbank10_sulfate_to_au_feed  14148 non-null  float64\n",
      " 31  rougher.calculation.floatbank11_sulfate_to_au_feed  14148 non-null  float64\n",
      " 32  rougher.calculation.au_pb_ratio                     14149 non-null  float64\n",
      " 33  rougher.input.feed_ag                               14149 non-null  float64\n",
      " 34  rougher.input.feed_pb                               14049 non-null  float64\n",
      " 35  rougher.input.feed_rate                             14141 non-null  float64\n",
      " 36  rougher.input.feed_size                             14005 non-null  float64\n",
      " 37  rougher.input.feed_sol                              14071 non-null  float64\n",
      " 38  rougher.input.feed_au                               14149 non-null  float64\n",
      " 39  rougher.input.floatbank10_sulfate                   14120 non-null  float64\n",
      " 40  rougher.input.floatbank10_xanthate                  14141 non-null  float64\n",
      " 41  rougher.input.floatbank11_sulfate                   14113 non-null  float64\n",
      " 42  rougher.input.floatbank11_xanthate                  13721 non-null  float64\n",
      " 43  rougher.output.concentrate_ag                       14149 non-null  float64\n",
      " 44  rougher.output.concentrate_pb                       14149 non-null  float64\n",
      " 45  rougher.output.concentrate_sol                      14127 non-null  float64\n",
      " 46  rougher.output.concentrate_au                       14149 non-null  float64\n",
      " 47  rougher.output.recovery                             14149 non-null  float64\n",
      " 48  rougher.output.tail_ag                              14148 non-null  float64\n",
      " 49  rougher.output.tail_pb                              14149 non-null  float64\n",
      " 50  rougher.output.tail_sol                             14149 non-null  float64\n",
      " 51  rougher.output.tail_au                              14149 non-null  float64\n",
      " 52  rougher.state.floatbank10_a_air                     14148 non-null  float64\n",
      " 53  rougher.state.floatbank10_a_level                   14148 non-null  float64\n",
      " 54  rougher.state.floatbank10_b_air                     14148 non-null  float64\n",
      " 55  rougher.state.floatbank10_b_level                   14148 non-null  float64\n",
      " 56  rougher.state.floatbank10_c_air                     14148 non-null  float64\n",
      " 57  rougher.state.floatbank10_c_level                   14148 non-null  float64\n",
      " 58  rougher.state.floatbank10_d_air                     14149 non-null  float64\n",
      " 59  rougher.state.floatbank10_d_level                   14149 non-null  float64\n",
      " 60  rougher.state.floatbank10_e_air                     13713 non-null  float64\n",
      " 61  rougher.state.floatbank10_e_level                   14149 non-null  float64\n",
      " 62  rougher.state.floatbank10_f_air                     14149 non-null  float64\n",
      " 63  rougher.state.floatbank10_f_level                   14149 non-null  float64\n",
      " 64  secondary_cleaner.output.tail_ag                    14147 non-null  float64\n",
      " 65  secondary_cleaner.output.tail_pb                    14139 non-null  float64\n",
      " 66  secondary_cleaner.output.tail_sol                   12544 non-null  float64\n",
      " 67  secondary_cleaner.output.tail_au                    14149 non-null  float64\n",
      " 68  secondary_cleaner.state.floatbank2_a_air            13932 non-null  float64\n",
      " 69  secondary_cleaner.state.floatbank2_a_level          14148 non-null  float64\n",
      " 70  secondary_cleaner.state.floatbank2_b_air            14128 non-null  float64\n",
      " 71  secondary_cleaner.state.floatbank2_b_level          14148 non-null  float64\n",
      " 72  secondary_cleaner.state.floatbank3_a_air            14145 non-null  float64\n",
      " 73  secondary_cleaner.state.floatbank3_a_level          14148 non-null  float64\n",
      " 74  secondary_cleaner.state.floatbank3_b_air            14148 non-null  float64\n",
      " 75  secondary_cleaner.state.floatbank3_b_level          14148 non-null  float64\n",
      " 76  secondary_cleaner.state.floatbank4_a_air            14143 non-null  float64\n",
      " 77  secondary_cleaner.state.floatbank4_a_level          14148 non-null  float64\n",
      " 78  secondary_cleaner.state.floatbank4_b_air            14148 non-null  float64\n",
      " 79  secondary_cleaner.state.floatbank4_b_level          14148 non-null  float64\n",
      " 80  secondary_cleaner.state.floatbank5_a_air            14148 non-null  float64\n",
      " 81  secondary_cleaner.state.floatbank5_a_level          14148 non-null  float64\n",
      " 82  secondary_cleaner.state.floatbank5_b_air            14148 non-null  float64\n",
      " 83  secondary_cleaner.state.floatbank5_b_level          14148 non-null  float64\n",
      " 84  secondary_cleaner.state.floatbank6_a_air            14147 non-null  float64\n",
      " 85  secondary_cleaner.state.floatbank6_a_level          14148 non-null  float64\n",
      "dtypes: float64(86)\n",
      "memory usage: 9.4+ MB\n",
      "None\n",
      "Кол-во дубликатов = 0\n",
      "\n"
     ]
    },
    {
     "data": {
      "text/html": [
       "<div>\n",
       "<style scoped>\n",
       "    .dataframe tbody tr th:only-of-type {\n",
       "        vertical-align: middle;\n",
       "    }\n",
       "\n",
       "    .dataframe tbody tr th {\n",
       "        vertical-align: top;\n",
       "    }\n",
       "\n",
       "    .dataframe thead th {\n",
       "        text-align: right;\n",
       "    }\n",
       "</style>\n",
       "<table border=\"1\" class=\"dataframe\">\n",
       "  <thead>\n",
       "    <tr style=\"text-align: right;\">\n",
       "      <th></th>\n",
       "      <th>final.output.concentrate_ag</th>\n",
       "      <th>final.output.concentrate_pb</th>\n",
       "      <th>final.output.concentrate_sol</th>\n",
       "      <th>final.output.concentrate_au</th>\n",
       "      <th>final.output.recovery</th>\n",
       "      <th>final.output.tail_ag</th>\n",
       "      <th>final.output.tail_pb</th>\n",
       "      <th>final.output.tail_sol</th>\n",
       "      <th>final.output.tail_au</th>\n",
       "      <th>primary_cleaner.input.sulfate</th>\n",
       "      <th>...</th>\n",
       "      <th>secondary_cleaner.state.floatbank4_a_air</th>\n",
       "      <th>secondary_cleaner.state.floatbank4_a_level</th>\n",
       "      <th>secondary_cleaner.state.floatbank4_b_air</th>\n",
       "      <th>secondary_cleaner.state.floatbank4_b_level</th>\n",
       "      <th>secondary_cleaner.state.floatbank5_a_air</th>\n",
       "      <th>secondary_cleaner.state.floatbank5_a_level</th>\n",
       "      <th>secondary_cleaner.state.floatbank5_b_air</th>\n",
       "      <th>secondary_cleaner.state.floatbank5_b_level</th>\n",
       "      <th>secondary_cleaner.state.floatbank6_a_air</th>\n",
       "      <th>secondary_cleaner.state.floatbank6_a_level</th>\n",
       "    </tr>\n",
       "  </thead>\n",
       "  <tbody>\n",
       "    <tr>\n",
       "      <th>count</th>\n",
       "      <td>14148.000000</td>\n",
       "      <td>14148.000000</td>\n",
       "      <td>13938.000000</td>\n",
       "      <td>14149.000000</td>\n",
       "      <td>14149.000000</td>\n",
       "      <td>14149.000000</td>\n",
       "      <td>14049.000000</td>\n",
       "      <td>14144.000000</td>\n",
       "      <td>14149.000000</td>\n",
       "      <td>14129.000000</td>\n",
       "      <td>...</td>\n",
       "      <td>14143.000000</td>\n",
       "      <td>14148.000000</td>\n",
       "      <td>14148.000000</td>\n",
       "      <td>14148.000000</td>\n",
       "      <td>14148.000000</td>\n",
       "      <td>14148.000000</td>\n",
       "      <td>14148.000000</td>\n",
       "      <td>14148.000000</td>\n",
       "      <td>14147.000000</td>\n",
       "      <td>14148.000000</td>\n",
       "    </tr>\n",
       "    <tr>\n",
       "      <th>mean</th>\n",
       "      <td>5.142034</td>\n",
       "      <td>10.132960</td>\n",
       "      <td>9.202849</td>\n",
       "      <td>44.003792</td>\n",
       "      <td>66.518832</td>\n",
       "      <td>9.607035</td>\n",
       "      <td>2.597298</td>\n",
       "      <td>10.512122</td>\n",
       "      <td>2.918421</td>\n",
       "      <td>133.320659</td>\n",
       "      <td>...</td>\n",
       "      <td>19.985454</td>\n",
       "      <td>-478.696836</td>\n",
       "      <td>15.487065</td>\n",
       "      <td>-460.229416</td>\n",
       "      <td>16.775136</td>\n",
       "      <td>-483.956022</td>\n",
       "      <td>13.064590</td>\n",
       "      <td>-483.966564</td>\n",
       "      <td>19.577539</td>\n",
       "      <td>-506.798480</td>\n",
       "    </tr>\n",
       "    <tr>\n",
       "      <th>std</th>\n",
       "      <td>1.369586</td>\n",
       "      <td>1.654930</td>\n",
       "      <td>2.790516</td>\n",
       "      <td>4.905261</td>\n",
       "      <td>10.295402</td>\n",
       "      <td>2.319069</td>\n",
       "      <td>0.971843</td>\n",
       "      <td>3.003617</td>\n",
       "      <td>0.903712</td>\n",
       "      <td>39.431659</td>\n",
       "      <td>...</td>\n",
       "      <td>5.657723</td>\n",
       "      <td>50.736021</td>\n",
       "      <td>5.255655</td>\n",
       "      <td>58.843586</td>\n",
       "      <td>5.831906</td>\n",
       "      <td>37.892788</td>\n",
       "      <td>5.765617</td>\n",
       "      <td>39.207913</td>\n",
       "      <td>5.764417</td>\n",
       "      <td>37.079249</td>\n",
       "    </tr>\n",
       "    <tr>\n",
       "      <th>min</th>\n",
       "      <td>0.000000</td>\n",
       "      <td>0.000000</td>\n",
       "      <td>0.000000</td>\n",
       "      <td>0.000000</td>\n",
       "      <td>0.000000</td>\n",
       "      <td>0.000000</td>\n",
       "      <td>0.000000</td>\n",
       "      <td>0.000000</td>\n",
       "      <td>0.000000</td>\n",
       "      <td>0.003112</td>\n",
       "      <td>...</td>\n",
       "      <td>0.000000</td>\n",
       "      <td>-799.709069</td>\n",
       "      <td>0.000000</td>\n",
       "      <td>-799.889113</td>\n",
       "      <td>-0.372054</td>\n",
       "      <td>-797.142475</td>\n",
       "      <td>0.646208</td>\n",
       "      <td>-800.006180</td>\n",
       "      <td>0.195324</td>\n",
       "      <td>-809.398668</td>\n",
       "    </tr>\n",
       "    <tr>\n",
       "      <th>25%</th>\n",
       "      <td>4.211620</td>\n",
       "      <td>9.297355</td>\n",
       "      <td>7.484645</td>\n",
       "      <td>43.276111</td>\n",
       "      <td>62.545817</td>\n",
       "      <td>7.997429</td>\n",
       "      <td>1.905973</td>\n",
       "      <td>8.811324</td>\n",
       "      <td>2.368607</td>\n",
       "      <td>107.006651</td>\n",
       "      <td>...</td>\n",
       "      <td>14.990775</td>\n",
       "      <td>-500.628656</td>\n",
       "      <td>11.894558</td>\n",
       "      <td>-500.149000</td>\n",
       "      <td>11.083980</td>\n",
       "      <td>-500.363177</td>\n",
       "      <td>8.994405</td>\n",
       "      <td>-500.105994</td>\n",
       "      <td>14.989304</td>\n",
       "      <td>-500.745104</td>\n",
       "    </tr>\n",
       "    <tr>\n",
       "      <th>50%</th>\n",
       "      <td>4.994652</td>\n",
       "      <td>10.297144</td>\n",
       "      <td>8.845462</td>\n",
       "      <td>44.872436</td>\n",
       "      <td>67.432775</td>\n",
       "      <td>9.480270</td>\n",
       "      <td>2.592022</td>\n",
       "      <td>10.514621</td>\n",
       "      <td>2.851025</td>\n",
       "      <td>133.018328</td>\n",
       "      <td>...</td>\n",
       "      <td>20.001789</td>\n",
       "      <td>-499.681450</td>\n",
       "      <td>14.975536</td>\n",
       "      <td>-499.388738</td>\n",
       "      <td>17.932223</td>\n",
       "      <td>-499.702452</td>\n",
       "      <td>11.997547</td>\n",
       "      <td>-499.914556</td>\n",
       "      <td>19.984175</td>\n",
       "      <td>-500.061431</td>\n",
       "    </tr>\n",
       "    <tr>\n",
       "      <th>75%</th>\n",
       "      <td>5.859540</td>\n",
       "      <td>11.170603</td>\n",
       "      <td>10.487508</td>\n",
       "      <td>46.166425</td>\n",
       "      <td>72.346428</td>\n",
       "      <td>11.003707</td>\n",
       "      <td>3.241723</td>\n",
       "      <td>11.933009</td>\n",
       "      <td>3.434764</td>\n",
       "      <td>159.825396</td>\n",
       "      <td>...</td>\n",
       "      <td>24.990826</td>\n",
       "      <td>-477.472413</td>\n",
       "      <td>20.059375</td>\n",
       "      <td>-400.039008</td>\n",
       "      <td>21.346550</td>\n",
       "      <td>-487.712108</td>\n",
       "      <td>17.982903</td>\n",
       "      <td>-453.186936</td>\n",
       "      <td>24.991623</td>\n",
       "      <td>-499.536466</td>\n",
       "    </tr>\n",
       "    <tr>\n",
       "      <th>max</th>\n",
       "      <td>16.001945</td>\n",
       "      <td>17.031899</td>\n",
       "      <td>18.124851</td>\n",
       "      <td>52.756638</td>\n",
       "      <td>100.000000</td>\n",
       "      <td>19.552149</td>\n",
       "      <td>5.639565</td>\n",
       "      <td>22.317730</td>\n",
       "      <td>8.197408</td>\n",
       "      <td>250.127834</td>\n",
       "      <td>...</td>\n",
       "      <td>30.115735</td>\n",
       "      <td>-245.239184</td>\n",
       "      <td>24.007913</td>\n",
       "      <td>-145.071088</td>\n",
       "      <td>43.709931</td>\n",
       "      <td>-275.073125</td>\n",
       "      <td>27.926001</td>\n",
       "      <td>-157.396071</td>\n",
       "      <td>32.188906</td>\n",
       "      <td>-104.427459</td>\n",
       "    </tr>\n",
       "  </tbody>\n",
       "</table>\n",
       "<p>8 rows × 86 columns</p>\n",
       "</div>"
      ],
      "text/plain": [
       "       final.output.concentrate_ag  final.output.concentrate_pb  \\\n",
       "count                 14148.000000                 14148.000000   \n",
       "mean                      5.142034                    10.132960   \n",
       "std                       1.369586                     1.654930   \n",
       "min                       0.000000                     0.000000   \n",
       "25%                       4.211620                     9.297355   \n",
       "50%                       4.994652                    10.297144   \n",
       "75%                       5.859540                    11.170603   \n",
       "max                      16.001945                    17.031899   \n",
       "\n",
       "       final.output.concentrate_sol  final.output.concentrate_au  \\\n",
       "count                  13938.000000                 14149.000000   \n",
       "mean                       9.202849                    44.003792   \n",
       "std                        2.790516                     4.905261   \n",
       "min                        0.000000                     0.000000   \n",
       "25%                        7.484645                    43.276111   \n",
       "50%                        8.845462                    44.872436   \n",
       "75%                       10.487508                    46.166425   \n",
       "max                       18.124851                    52.756638   \n",
       "\n",
       "       final.output.recovery  final.output.tail_ag  final.output.tail_pb  \\\n",
       "count           14149.000000          14149.000000          14049.000000   \n",
       "mean               66.518832              9.607035              2.597298   \n",
       "std                10.295402              2.319069              0.971843   \n",
       "min                 0.000000              0.000000              0.000000   \n",
       "25%                62.545817              7.997429              1.905973   \n",
       "50%                67.432775              9.480270              2.592022   \n",
       "75%                72.346428             11.003707              3.241723   \n",
       "max               100.000000             19.552149              5.639565   \n",
       "\n",
       "       final.output.tail_sol  final.output.tail_au  \\\n",
       "count           14144.000000          14149.000000   \n",
       "mean               10.512122              2.918421   \n",
       "std                 3.003617              0.903712   \n",
       "min                 0.000000              0.000000   \n",
       "25%                 8.811324              2.368607   \n",
       "50%                10.514621              2.851025   \n",
       "75%                11.933009              3.434764   \n",
       "max                22.317730              8.197408   \n",
       "\n",
       "       primary_cleaner.input.sulfate  ...  \\\n",
       "count                   14129.000000  ...   \n",
       "mean                      133.320659  ...   \n",
       "std                        39.431659  ...   \n",
       "min                         0.003112  ...   \n",
       "25%                       107.006651  ...   \n",
       "50%                       133.018328  ...   \n",
       "75%                       159.825396  ...   \n",
       "max                       250.127834  ...   \n",
       "\n",
       "       secondary_cleaner.state.floatbank4_a_air  \\\n",
       "count                              14143.000000   \n",
       "mean                                  19.985454   \n",
       "std                                    5.657723   \n",
       "min                                    0.000000   \n",
       "25%                                   14.990775   \n",
       "50%                                   20.001789   \n",
       "75%                                   24.990826   \n",
       "max                                   30.115735   \n",
       "\n",
       "       secondary_cleaner.state.floatbank4_a_level  \\\n",
       "count                                14148.000000   \n",
       "mean                                  -478.696836   \n",
       "std                                     50.736021   \n",
       "min                                   -799.709069   \n",
       "25%                                   -500.628656   \n",
       "50%                                   -499.681450   \n",
       "75%                                   -477.472413   \n",
       "max                                   -245.239184   \n",
       "\n",
       "       secondary_cleaner.state.floatbank4_b_air  \\\n",
       "count                              14148.000000   \n",
       "mean                                  15.487065   \n",
       "std                                    5.255655   \n",
       "min                                    0.000000   \n",
       "25%                                   11.894558   \n",
       "50%                                   14.975536   \n",
       "75%                                   20.059375   \n",
       "max                                   24.007913   \n",
       "\n",
       "       secondary_cleaner.state.floatbank4_b_level  \\\n",
       "count                                14148.000000   \n",
       "mean                                  -460.229416   \n",
       "std                                     58.843586   \n",
       "min                                   -799.889113   \n",
       "25%                                   -500.149000   \n",
       "50%                                   -499.388738   \n",
       "75%                                   -400.039008   \n",
       "max                                   -145.071088   \n",
       "\n",
       "       secondary_cleaner.state.floatbank5_a_air  \\\n",
       "count                              14148.000000   \n",
       "mean                                  16.775136   \n",
       "std                                    5.831906   \n",
       "min                                   -0.372054   \n",
       "25%                                   11.083980   \n",
       "50%                                   17.932223   \n",
       "75%                                   21.346550   \n",
       "max                                   43.709931   \n",
       "\n",
       "       secondary_cleaner.state.floatbank5_a_level  \\\n",
       "count                                14148.000000   \n",
       "mean                                  -483.956022   \n",
       "std                                     37.892788   \n",
       "min                                   -797.142475   \n",
       "25%                                   -500.363177   \n",
       "50%                                   -499.702452   \n",
       "75%                                   -487.712108   \n",
       "max                                   -275.073125   \n",
       "\n",
       "       secondary_cleaner.state.floatbank5_b_air  \\\n",
       "count                              14148.000000   \n",
       "mean                                  13.064590   \n",
       "std                                    5.765617   \n",
       "min                                    0.646208   \n",
       "25%                                    8.994405   \n",
       "50%                                   11.997547   \n",
       "75%                                   17.982903   \n",
       "max                                   27.926001   \n",
       "\n",
       "       secondary_cleaner.state.floatbank5_b_level  \\\n",
       "count                                14148.000000   \n",
       "mean                                  -483.966564   \n",
       "std                                     39.207913   \n",
       "min                                   -800.006180   \n",
       "25%                                   -500.105994   \n",
       "50%                                   -499.914556   \n",
       "75%                                   -453.186936   \n",
       "max                                   -157.396071   \n",
       "\n",
       "       secondary_cleaner.state.floatbank6_a_air  \\\n",
       "count                              14147.000000   \n",
       "mean                                  19.577539   \n",
       "std                                    5.764417   \n",
       "min                                    0.195324   \n",
       "25%                                   14.989304   \n",
       "50%                                   19.984175   \n",
       "75%                                   24.991623   \n",
       "max                                   32.188906   \n",
       "\n",
       "       secondary_cleaner.state.floatbank6_a_level  \n",
       "count                                14148.000000  \n",
       "mean                                  -506.798480  \n",
       "std                                     37.079249  \n",
       "min                                   -809.398668  \n",
       "25%                                   -500.745104  \n",
       "50%                                   -500.061431  \n",
       "75%                                   -499.536466  \n",
       "max                                   -104.427459  \n",
       "\n",
       "[8 rows x 86 columns]"
      ]
     },
     "metadata": {},
     "output_type": "display_data"
    },
    {
     "name": "stdout",
     "output_type": "stream",
     "text": [
      "---------------------------------------------------\n"
     ]
    },
    {
     "data": {
      "text/html": [
       "<div>\n",
       "<style scoped>\n",
       "    .dataframe tbody tr th:only-of-type {\n",
       "        vertical-align: middle;\n",
       "    }\n",
       "\n",
       "    .dataframe tbody tr th {\n",
       "        vertical-align: top;\n",
       "    }\n",
       "\n",
       "    .dataframe thead th {\n",
       "        text-align: right;\n",
       "    }\n",
       "</style>\n",
       "<table border=\"1\" class=\"dataframe\">\n",
       "  <thead>\n",
       "    <tr style=\"text-align: right;\">\n",
       "      <th></th>\n",
       "      <th>primary_cleaner.input.sulfate</th>\n",
       "      <th>primary_cleaner.input.depressant</th>\n",
       "      <th>primary_cleaner.input.feed_size</th>\n",
       "      <th>primary_cleaner.input.xanthate</th>\n",
       "      <th>primary_cleaner.state.floatbank8_a_air</th>\n",
       "      <th>primary_cleaner.state.floatbank8_a_level</th>\n",
       "      <th>primary_cleaner.state.floatbank8_b_air</th>\n",
       "      <th>primary_cleaner.state.floatbank8_b_level</th>\n",
       "      <th>primary_cleaner.state.floatbank8_c_air</th>\n",
       "      <th>primary_cleaner.state.floatbank8_c_level</th>\n",
       "      <th>...</th>\n",
       "      <th>secondary_cleaner.state.floatbank4_a_air</th>\n",
       "      <th>secondary_cleaner.state.floatbank4_a_level</th>\n",
       "      <th>secondary_cleaner.state.floatbank4_b_air</th>\n",
       "      <th>secondary_cleaner.state.floatbank4_b_level</th>\n",
       "      <th>secondary_cleaner.state.floatbank5_a_air</th>\n",
       "      <th>secondary_cleaner.state.floatbank5_a_level</th>\n",
       "      <th>secondary_cleaner.state.floatbank5_b_air</th>\n",
       "      <th>secondary_cleaner.state.floatbank5_b_level</th>\n",
       "      <th>secondary_cleaner.state.floatbank6_a_air</th>\n",
       "      <th>secondary_cleaner.state.floatbank6_a_level</th>\n",
       "    </tr>\n",
       "    <tr>\n",
       "      <th>date</th>\n",
       "      <th></th>\n",
       "      <th></th>\n",
       "      <th></th>\n",
       "      <th></th>\n",
       "      <th></th>\n",
       "      <th></th>\n",
       "      <th></th>\n",
       "      <th></th>\n",
       "      <th></th>\n",
       "      <th></th>\n",
       "      <th></th>\n",
       "      <th></th>\n",
       "      <th></th>\n",
       "      <th></th>\n",
       "      <th></th>\n",
       "      <th></th>\n",
       "      <th></th>\n",
       "      <th></th>\n",
       "      <th></th>\n",
       "      <th></th>\n",
       "      <th></th>\n",
       "    </tr>\n",
       "  </thead>\n",
       "  <tbody>\n",
       "    <tr>\n",
       "      <th>2016-09-01 00:59:59</th>\n",
       "      <td>210.800909</td>\n",
       "      <td>14.993118</td>\n",
       "      <td>8.080000</td>\n",
       "      <td>1.005021</td>\n",
       "      <td>1398.981301</td>\n",
       "      <td>-500.225577</td>\n",
       "      <td>1399.144926</td>\n",
       "      <td>-499.919735</td>\n",
       "      <td>1400.102998</td>\n",
       "      <td>-500.704369</td>\n",
       "      <td>...</td>\n",
       "      <td>12.023554</td>\n",
       "      <td>-497.795834</td>\n",
       "      <td>8.016656</td>\n",
       "      <td>-501.289139</td>\n",
       "      <td>7.946562</td>\n",
       "      <td>-432.317850</td>\n",
       "      <td>4.872511</td>\n",
       "      <td>-500.037437</td>\n",
       "      <td>26.705889</td>\n",
       "      <td>-499.709414</td>\n",
       "    </tr>\n",
       "    <tr>\n",
       "      <th>2016-09-01 01:59:59</th>\n",
       "      <td>215.392455</td>\n",
       "      <td>14.987471</td>\n",
       "      <td>8.080000</td>\n",
       "      <td>0.990469</td>\n",
       "      <td>1398.777912</td>\n",
       "      <td>-500.057435</td>\n",
       "      <td>1398.055362</td>\n",
       "      <td>-499.778182</td>\n",
       "      <td>1396.151033</td>\n",
       "      <td>-499.240168</td>\n",
       "      <td>...</td>\n",
       "      <td>12.058140</td>\n",
       "      <td>-498.695773</td>\n",
       "      <td>8.130979</td>\n",
       "      <td>-499.634209</td>\n",
       "      <td>7.958270</td>\n",
       "      <td>-525.839648</td>\n",
       "      <td>4.878850</td>\n",
       "      <td>-500.162375</td>\n",
       "      <td>25.019940</td>\n",
       "      <td>-499.819438</td>\n",
       "    </tr>\n",
       "    <tr>\n",
       "      <th>2016-09-01 02:59:59</th>\n",
       "      <td>215.259946</td>\n",
       "      <td>12.884934</td>\n",
       "      <td>7.786667</td>\n",
       "      <td>0.996043</td>\n",
       "      <td>1398.493666</td>\n",
       "      <td>-500.868360</td>\n",
       "      <td>1398.860436</td>\n",
       "      <td>-499.764529</td>\n",
       "      <td>1398.075709</td>\n",
       "      <td>-502.151509</td>\n",
       "      <td>...</td>\n",
       "      <td>11.962366</td>\n",
       "      <td>-498.767484</td>\n",
       "      <td>8.096893</td>\n",
       "      <td>-500.827423</td>\n",
       "      <td>8.071056</td>\n",
       "      <td>-500.801673</td>\n",
       "      <td>4.905125</td>\n",
       "      <td>-499.828510</td>\n",
       "      <td>24.994862</td>\n",
       "      <td>-500.622559</td>\n",
       "    </tr>\n",
       "    <tr>\n",
       "      <th>2016-09-01 03:59:59</th>\n",
       "      <td>215.336236</td>\n",
       "      <td>12.006805</td>\n",
       "      <td>7.640000</td>\n",
       "      <td>0.863514</td>\n",
       "      <td>1399.618111</td>\n",
       "      <td>-498.863574</td>\n",
       "      <td>1397.440120</td>\n",
       "      <td>-499.211024</td>\n",
       "      <td>1400.129303</td>\n",
       "      <td>-498.355873</td>\n",
       "      <td>...</td>\n",
       "      <td>12.033091</td>\n",
       "      <td>-498.350935</td>\n",
       "      <td>8.074946</td>\n",
       "      <td>-499.474407</td>\n",
       "      <td>7.897085</td>\n",
       "      <td>-500.868509</td>\n",
       "      <td>4.931400</td>\n",
       "      <td>-499.963623</td>\n",
       "      <td>24.948919</td>\n",
       "      <td>-498.709987</td>\n",
       "    </tr>\n",
       "    <tr>\n",
       "      <th>2016-09-01 04:59:59</th>\n",
       "      <td>199.099327</td>\n",
       "      <td>10.682530</td>\n",
       "      <td>7.530000</td>\n",
       "      <td>0.805575</td>\n",
       "      <td>1401.268123</td>\n",
       "      <td>-500.808305</td>\n",
       "      <td>1398.128818</td>\n",
       "      <td>-499.504543</td>\n",
       "      <td>1402.172226</td>\n",
       "      <td>-500.810606</td>\n",
       "      <td>...</td>\n",
       "      <td>12.025367</td>\n",
       "      <td>-500.786497</td>\n",
       "      <td>8.054678</td>\n",
       "      <td>-500.397500</td>\n",
       "      <td>8.107890</td>\n",
       "      <td>-509.526725</td>\n",
       "      <td>4.957674</td>\n",
       "      <td>-500.360026</td>\n",
       "      <td>25.003331</td>\n",
       "      <td>-500.856333</td>\n",
       "    </tr>\n",
       "  </tbody>\n",
       "</table>\n",
       "<p>5 rows × 52 columns</p>\n",
       "</div>"
      ],
      "text/plain": [
       "                     primary_cleaner.input.sulfate  \\\n",
       "date                                                 \n",
       "2016-09-01 00:59:59                     210.800909   \n",
       "2016-09-01 01:59:59                     215.392455   \n",
       "2016-09-01 02:59:59                     215.259946   \n",
       "2016-09-01 03:59:59                     215.336236   \n",
       "2016-09-01 04:59:59                     199.099327   \n",
       "\n",
       "                     primary_cleaner.input.depressant  \\\n",
       "date                                                    \n",
       "2016-09-01 00:59:59                         14.993118   \n",
       "2016-09-01 01:59:59                         14.987471   \n",
       "2016-09-01 02:59:59                         12.884934   \n",
       "2016-09-01 03:59:59                         12.006805   \n",
       "2016-09-01 04:59:59                         10.682530   \n",
       "\n",
       "                     primary_cleaner.input.feed_size  \\\n",
       "date                                                   \n",
       "2016-09-01 00:59:59                         8.080000   \n",
       "2016-09-01 01:59:59                         8.080000   \n",
       "2016-09-01 02:59:59                         7.786667   \n",
       "2016-09-01 03:59:59                         7.640000   \n",
       "2016-09-01 04:59:59                         7.530000   \n",
       "\n",
       "                     primary_cleaner.input.xanthate  \\\n",
       "date                                                  \n",
       "2016-09-01 00:59:59                        1.005021   \n",
       "2016-09-01 01:59:59                        0.990469   \n",
       "2016-09-01 02:59:59                        0.996043   \n",
       "2016-09-01 03:59:59                        0.863514   \n",
       "2016-09-01 04:59:59                        0.805575   \n",
       "\n",
       "                     primary_cleaner.state.floatbank8_a_air  \\\n",
       "date                                                          \n",
       "2016-09-01 00:59:59                             1398.981301   \n",
       "2016-09-01 01:59:59                             1398.777912   \n",
       "2016-09-01 02:59:59                             1398.493666   \n",
       "2016-09-01 03:59:59                             1399.618111   \n",
       "2016-09-01 04:59:59                             1401.268123   \n",
       "\n",
       "                     primary_cleaner.state.floatbank8_a_level  \\\n",
       "date                                                            \n",
       "2016-09-01 00:59:59                               -500.225577   \n",
       "2016-09-01 01:59:59                               -500.057435   \n",
       "2016-09-01 02:59:59                               -500.868360   \n",
       "2016-09-01 03:59:59                               -498.863574   \n",
       "2016-09-01 04:59:59                               -500.808305   \n",
       "\n",
       "                     primary_cleaner.state.floatbank8_b_air  \\\n",
       "date                                                          \n",
       "2016-09-01 00:59:59                             1399.144926   \n",
       "2016-09-01 01:59:59                             1398.055362   \n",
       "2016-09-01 02:59:59                             1398.860436   \n",
       "2016-09-01 03:59:59                             1397.440120   \n",
       "2016-09-01 04:59:59                             1398.128818   \n",
       "\n",
       "                     primary_cleaner.state.floatbank8_b_level  \\\n",
       "date                                                            \n",
       "2016-09-01 00:59:59                               -499.919735   \n",
       "2016-09-01 01:59:59                               -499.778182   \n",
       "2016-09-01 02:59:59                               -499.764529   \n",
       "2016-09-01 03:59:59                               -499.211024   \n",
       "2016-09-01 04:59:59                               -499.504543   \n",
       "\n",
       "                     primary_cleaner.state.floatbank8_c_air  \\\n",
       "date                                                          \n",
       "2016-09-01 00:59:59                             1400.102998   \n",
       "2016-09-01 01:59:59                             1396.151033   \n",
       "2016-09-01 02:59:59                             1398.075709   \n",
       "2016-09-01 03:59:59                             1400.129303   \n",
       "2016-09-01 04:59:59                             1402.172226   \n",
       "\n",
       "                     primary_cleaner.state.floatbank8_c_level  ...  \\\n",
       "date                                                           ...   \n",
       "2016-09-01 00:59:59                               -500.704369  ...   \n",
       "2016-09-01 01:59:59                               -499.240168  ...   \n",
       "2016-09-01 02:59:59                               -502.151509  ...   \n",
       "2016-09-01 03:59:59                               -498.355873  ...   \n",
       "2016-09-01 04:59:59                               -500.810606  ...   \n",
       "\n",
       "                     secondary_cleaner.state.floatbank4_a_air  \\\n",
       "date                                                            \n",
       "2016-09-01 00:59:59                                 12.023554   \n",
       "2016-09-01 01:59:59                                 12.058140   \n",
       "2016-09-01 02:59:59                                 11.962366   \n",
       "2016-09-01 03:59:59                                 12.033091   \n",
       "2016-09-01 04:59:59                                 12.025367   \n",
       "\n",
       "                     secondary_cleaner.state.floatbank4_a_level  \\\n",
       "date                                                              \n",
       "2016-09-01 00:59:59                                 -497.795834   \n",
       "2016-09-01 01:59:59                                 -498.695773   \n",
       "2016-09-01 02:59:59                                 -498.767484   \n",
       "2016-09-01 03:59:59                                 -498.350935   \n",
       "2016-09-01 04:59:59                                 -500.786497   \n",
       "\n",
       "                     secondary_cleaner.state.floatbank4_b_air  \\\n",
       "date                                                            \n",
       "2016-09-01 00:59:59                                  8.016656   \n",
       "2016-09-01 01:59:59                                  8.130979   \n",
       "2016-09-01 02:59:59                                  8.096893   \n",
       "2016-09-01 03:59:59                                  8.074946   \n",
       "2016-09-01 04:59:59                                  8.054678   \n",
       "\n",
       "                     secondary_cleaner.state.floatbank4_b_level  \\\n",
       "date                                                              \n",
       "2016-09-01 00:59:59                                 -501.289139   \n",
       "2016-09-01 01:59:59                                 -499.634209   \n",
       "2016-09-01 02:59:59                                 -500.827423   \n",
       "2016-09-01 03:59:59                                 -499.474407   \n",
       "2016-09-01 04:59:59                                 -500.397500   \n",
       "\n",
       "                     secondary_cleaner.state.floatbank5_a_air  \\\n",
       "date                                                            \n",
       "2016-09-01 00:59:59                                  7.946562   \n",
       "2016-09-01 01:59:59                                  7.958270   \n",
       "2016-09-01 02:59:59                                  8.071056   \n",
       "2016-09-01 03:59:59                                  7.897085   \n",
       "2016-09-01 04:59:59                                  8.107890   \n",
       "\n",
       "                     secondary_cleaner.state.floatbank5_a_level  \\\n",
       "date                                                              \n",
       "2016-09-01 00:59:59                                 -432.317850   \n",
       "2016-09-01 01:59:59                                 -525.839648   \n",
       "2016-09-01 02:59:59                                 -500.801673   \n",
       "2016-09-01 03:59:59                                 -500.868509   \n",
       "2016-09-01 04:59:59                                 -509.526725   \n",
       "\n",
       "                     secondary_cleaner.state.floatbank5_b_air  \\\n",
       "date                                                            \n",
       "2016-09-01 00:59:59                                  4.872511   \n",
       "2016-09-01 01:59:59                                  4.878850   \n",
       "2016-09-01 02:59:59                                  4.905125   \n",
       "2016-09-01 03:59:59                                  4.931400   \n",
       "2016-09-01 04:59:59                                  4.957674   \n",
       "\n",
       "                     secondary_cleaner.state.floatbank5_b_level  \\\n",
       "date                                                              \n",
       "2016-09-01 00:59:59                                 -500.037437   \n",
       "2016-09-01 01:59:59                                 -500.162375   \n",
       "2016-09-01 02:59:59                                 -499.828510   \n",
       "2016-09-01 03:59:59                                 -499.963623   \n",
       "2016-09-01 04:59:59                                 -500.360026   \n",
       "\n",
       "                     secondary_cleaner.state.floatbank6_a_air  \\\n",
       "date                                                            \n",
       "2016-09-01 00:59:59                                 26.705889   \n",
       "2016-09-01 01:59:59                                 25.019940   \n",
       "2016-09-01 02:59:59                                 24.994862   \n",
       "2016-09-01 03:59:59                                 24.948919   \n",
       "2016-09-01 04:59:59                                 25.003331   \n",
       "\n",
       "                     secondary_cleaner.state.floatbank6_a_level  \n",
       "date                                                             \n",
       "2016-09-01 00:59:59                                 -499.709414  \n",
       "2016-09-01 01:59:59                                 -499.819438  \n",
       "2016-09-01 02:59:59                                 -500.622559  \n",
       "2016-09-01 03:59:59                                 -498.709987  \n",
       "2016-09-01 04:59:59                                 -500.856333  \n",
       "\n",
       "[5 rows x 52 columns]"
      ]
     },
     "metadata": {},
     "output_type": "display_data"
    },
    {
     "name": "stdout",
     "output_type": "stream",
     "text": [
      "\n",
      "<class 'pandas.core.frame.DataFrame'>\n",
      "Index: 5290 entries, 2016-09-01 00:59:59 to 2017-12-31 23:59:59\n",
      "Data columns (total 52 columns):\n",
      " #   Column                                      Non-Null Count  Dtype  \n",
      "---  ------                                      --------------  -----  \n",
      " 0   primary_cleaner.input.sulfate               5286 non-null   float64\n",
      " 1   primary_cleaner.input.depressant            5285 non-null   float64\n",
      " 2   primary_cleaner.input.feed_size             5290 non-null   float64\n",
      " 3   primary_cleaner.input.xanthate              5286 non-null   float64\n",
      " 4   primary_cleaner.state.floatbank8_a_air      5290 non-null   float64\n",
      " 5   primary_cleaner.state.floatbank8_a_level    5290 non-null   float64\n",
      " 6   primary_cleaner.state.floatbank8_b_air      5290 non-null   float64\n",
      " 7   primary_cleaner.state.floatbank8_b_level    5290 non-null   float64\n",
      " 8   primary_cleaner.state.floatbank8_c_air      5290 non-null   float64\n",
      " 9   primary_cleaner.state.floatbank8_c_level    5290 non-null   float64\n",
      " 10  primary_cleaner.state.floatbank8_d_air      5290 non-null   float64\n",
      " 11  primary_cleaner.state.floatbank8_d_level    5290 non-null   float64\n",
      " 12  rougher.input.feed_ag                       5290 non-null   float64\n",
      " 13  rougher.input.feed_pb                       5290 non-null   float64\n",
      " 14  rougher.input.feed_rate                     5287 non-null   float64\n",
      " 15  rougher.input.feed_size                     5289 non-null   float64\n",
      " 16  rougher.input.feed_sol                      5269 non-null   float64\n",
      " 17  rougher.input.feed_au                       5290 non-null   float64\n",
      " 18  rougher.input.floatbank10_sulfate           5285 non-null   float64\n",
      " 19  rougher.input.floatbank10_xanthate          5290 non-null   float64\n",
      " 20  rougher.input.floatbank11_sulfate           5282 non-null   float64\n",
      " 21  rougher.input.floatbank11_xanthate          5265 non-null   float64\n",
      " 22  rougher.state.floatbank10_a_air             5290 non-null   float64\n",
      " 23  rougher.state.floatbank10_a_level           5290 non-null   float64\n",
      " 24  rougher.state.floatbank10_b_air             5290 non-null   float64\n",
      " 25  rougher.state.floatbank10_b_level           5290 non-null   float64\n",
      " 26  rougher.state.floatbank10_c_air             5290 non-null   float64\n",
      " 27  rougher.state.floatbank10_c_level           5290 non-null   float64\n",
      " 28  rougher.state.floatbank10_d_air             5290 non-null   float64\n",
      " 29  rougher.state.floatbank10_d_level           5290 non-null   float64\n",
      " 30  rougher.state.floatbank10_e_air             5290 non-null   float64\n",
      " 31  rougher.state.floatbank10_e_level           5290 non-null   float64\n",
      " 32  rougher.state.floatbank10_f_air             5290 non-null   float64\n",
      " 33  rougher.state.floatbank10_f_level           5290 non-null   float64\n",
      " 34  secondary_cleaner.state.floatbank2_a_air    5287 non-null   float64\n",
      " 35  secondary_cleaner.state.floatbank2_a_level  5290 non-null   float64\n",
      " 36  secondary_cleaner.state.floatbank2_b_air    5288 non-null   float64\n",
      " 37  secondary_cleaner.state.floatbank2_b_level  5290 non-null   float64\n",
      " 38  secondary_cleaner.state.floatbank3_a_air    5281 non-null   float64\n",
      " 39  secondary_cleaner.state.floatbank3_a_level  5290 non-null   float64\n",
      " 40  secondary_cleaner.state.floatbank3_b_air    5290 non-null   float64\n",
      " 41  secondary_cleaner.state.floatbank3_b_level  5290 non-null   float64\n",
      " 42  secondary_cleaner.state.floatbank4_a_air    5290 non-null   float64\n",
      " 43  secondary_cleaner.state.floatbank4_a_level  5290 non-null   float64\n",
      " 44  secondary_cleaner.state.floatbank4_b_air    5290 non-null   float64\n",
      " 45  secondary_cleaner.state.floatbank4_b_level  5290 non-null   float64\n",
      " 46  secondary_cleaner.state.floatbank5_a_air    5290 non-null   float64\n",
      " 47  secondary_cleaner.state.floatbank5_a_level  5290 non-null   float64\n",
      " 48  secondary_cleaner.state.floatbank5_b_air    5290 non-null   float64\n",
      " 49  secondary_cleaner.state.floatbank5_b_level  5290 non-null   float64\n",
      " 50  secondary_cleaner.state.floatbank6_a_air    5290 non-null   float64\n",
      " 51  secondary_cleaner.state.floatbank6_a_level  5290 non-null   float64\n",
      "dtypes: float64(52)\n",
      "memory usage: 2.1+ MB\n",
      "None\n",
      "Кол-во дубликатов = 0\n",
      "\n"
     ]
    },
    {
     "data": {
      "text/html": [
       "<div>\n",
       "<style scoped>\n",
       "    .dataframe tbody tr th:only-of-type {\n",
       "        vertical-align: middle;\n",
       "    }\n",
       "\n",
       "    .dataframe tbody tr th {\n",
       "        vertical-align: top;\n",
       "    }\n",
       "\n",
       "    .dataframe thead th {\n",
       "        text-align: right;\n",
       "    }\n",
       "</style>\n",
       "<table border=\"1\" class=\"dataframe\">\n",
       "  <thead>\n",
       "    <tr style=\"text-align: right;\">\n",
       "      <th></th>\n",
       "      <th>primary_cleaner.input.sulfate</th>\n",
       "      <th>primary_cleaner.input.depressant</th>\n",
       "      <th>primary_cleaner.input.feed_size</th>\n",
       "      <th>primary_cleaner.input.xanthate</th>\n",
       "      <th>primary_cleaner.state.floatbank8_a_air</th>\n",
       "      <th>primary_cleaner.state.floatbank8_a_level</th>\n",
       "      <th>primary_cleaner.state.floatbank8_b_air</th>\n",
       "      <th>primary_cleaner.state.floatbank8_b_level</th>\n",
       "      <th>primary_cleaner.state.floatbank8_c_air</th>\n",
       "      <th>primary_cleaner.state.floatbank8_c_level</th>\n",
       "      <th>...</th>\n",
       "      <th>secondary_cleaner.state.floatbank4_a_air</th>\n",
       "      <th>secondary_cleaner.state.floatbank4_a_level</th>\n",
       "      <th>secondary_cleaner.state.floatbank4_b_air</th>\n",
       "      <th>secondary_cleaner.state.floatbank4_b_level</th>\n",
       "      <th>secondary_cleaner.state.floatbank5_a_air</th>\n",
       "      <th>secondary_cleaner.state.floatbank5_a_level</th>\n",
       "      <th>secondary_cleaner.state.floatbank5_b_air</th>\n",
       "      <th>secondary_cleaner.state.floatbank5_b_level</th>\n",
       "      <th>secondary_cleaner.state.floatbank6_a_air</th>\n",
       "      <th>secondary_cleaner.state.floatbank6_a_level</th>\n",
       "    </tr>\n",
       "  </thead>\n",
       "  <tbody>\n",
       "    <tr>\n",
       "      <th>count</th>\n",
       "      <td>5286.000000</td>\n",
       "      <td>5285.000000</td>\n",
       "      <td>5290.000000</td>\n",
       "      <td>5286.000000</td>\n",
       "      <td>5.290000e+03</td>\n",
       "      <td>5290.000000</td>\n",
       "      <td>5.290000e+03</td>\n",
       "      <td>5290.000000</td>\n",
       "      <td>5.290000e+03</td>\n",
       "      <td>5290.000000</td>\n",
       "      <td>...</td>\n",
       "      <td>5.290000e+03</td>\n",
       "      <td>5290.000000</td>\n",
       "      <td>5.290000e+03</td>\n",
       "      <td>5290.000000</td>\n",
       "      <td>5290.000000</td>\n",
       "      <td>5290.000000</td>\n",
       "      <td>5290.000000</td>\n",
       "      <td>5290.000000</td>\n",
       "      <td>5290.000000</td>\n",
       "      <td>5290.000000</td>\n",
       "    </tr>\n",
       "    <tr>\n",
       "      <th>mean</th>\n",
       "      <td>174.839652</td>\n",
       "      <td>8.683596</td>\n",
       "      <td>7.266339</td>\n",
       "      <td>1.383803</td>\n",
       "      <td>1.539494e+03</td>\n",
       "      <td>-497.665883</td>\n",
       "      <td>1.545174e+03</td>\n",
       "      <td>-500.273098</td>\n",
       "      <td>1.527272e+03</td>\n",
       "      <td>-498.330680</td>\n",
       "      <td>...</td>\n",
       "      <td>1.632007e+01</td>\n",
       "      <td>-505.144570</td>\n",
       "      <td>1.373544e+01</td>\n",
       "      <td>-463.349858</td>\n",
       "      <td>12.804186</td>\n",
       "      <td>-501.329122</td>\n",
       "      <td>9.881145</td>\n",
       "      <td>-495.663398</td>\n",
       "      <td>17.304935</td>\n",
       "      <td>-501.793193</td>\n",
       "    </tr>\n",
       "    <tr>\n",
       "      <th>std</th>\n",
       "      <td>43.027080</td>\n",
       "      <td>3.072050</td>\n",
       "      <td>0.610219</td>\n",
       "      <td>0.643474</td>\n",
       "      <td>1.167979e+02</td>\n",
       "      <td>19.952431</td>\n",
       "      <td>1.222246e+02</td>\n",
       "      <td>32.968307</td>\n",
       "      <td>1.225380e+02</td>\n",
       "      <td>21.964876</td>\n",
       "      <td>...</td>\n",
       "      <td>3.493583e+00</td>\n",
       "      <td>31.427337</td>\n",
       "      <td>3.430484e+00</td>\n",
       "      <td>86.189107</td>\n",
       "      <td>3.026591</td>\n",
       "      <td>17.951495</td>\n",
       "      <td>2.868205</td>\n",
       "      <td>34.535007</td>\n",
       "      <td>4.536544</td>\n",
       "      <td>39.044215</td>\n",
       "    </tr>\n",
       "    <tr>\n",
       "      <th>min</th>\n",
       "      <td>2.566156</td>\n",
       "      <td>0.003839</td>\n",
       "      <td>5.650000</td>\n",
       "      <td>0.004984</td>\n",
       "      <td>5.445860e-32</td>\n",
       "      <td>-795.316337</td>\n",
       "      <td>6.647490e-32</td>\n",
       "      <td>-799.997015</td>\n",
       "      <td>4.033736e-32</td>\n",
       "      <td>-799.960571</td>\n",
       "      <td>...</td>\n",
       "      <td>1.079872e-16</td>\n",
       "      <td>-799.798523</td>\n",
       "      <td>2.489718e-17</td>\n",
       "      <td>-800.836914</td>\n",
       "      <td>0.069227</td>\n",
       "      <td>-797.323986</td>\n",
       "      <td>0.528083</td>\n",
       "      <td>-800.220337</td>\n",
       "      <td>-0.079426</td>\n",
       "      <td>-809.741464</td>\n",
       "    </tr>\n",
       "    <tr>\n",
       "      <th>25%</th>\n",
       "      <td>147.121401</td>\n",
       "      <td>6.489555</td>\n",
       "      <td>6.890000</td>\n",
       "      <td>0.907623</td>\n",
       "      <td>1.498936e+03</td>\n",
       "      <td>-500.357298</td>\n",
       "      <td>1.498971e+03</td>\n",
       "      <td>-500.703002</td>\n",
       "      <td>1.473230e+03</td>\n",
       "      <td>-501.018117</td>\n",
       "      <td>...</td>\n",
       "      <td>1.403618e+01</td>\n",
       "      <td>-500.868258</td>\n",
       "      <td>1.202862e+01</td>\n",
       "      <td>-500.323028</td>\n",
       "      <td>10.914838</td>\n",
       "      <td>-500.726841</td>\n",
       "      <td>8.036719</td>\n",
       "      <td>-500.194668</td>\n",
       "      <td>13.997317</td>\n",
       "      <td>-500.690984</td>\n",
       "    </tr>\n",
       "    <tr>\n",
       "      <th>50%</th>\n",
       "      <td>177.828489</td>\n",
       "      <td>8.052207</td>\n",
       "      <td>7.250000</td>\n",
       "      <td>1.197610</td>\n",
       "      <td>1.585129e+03</td>\n",
       "      <td>-499.969164</td>\n",
       "      <td>1.595622e+03</td>\n",
       "      <td>-500.028514</td>\n",
       "      <td>1.549595e+03</td>\n",
       "      <td>-500.017711</td>\n",
       "      <td>...</td>\n",
       "      <td>1.700847e+01</td>\n",
       "      <td>-500.115727</td>\n",
       "      <td>1.496486e+01</td>\n",
       "      <td>-499.576513</td>\n",
       "      <td>12.954182</td>\n",
       "      <td>-499.990332</td>\n",
       "      <td>10.004301</td>\n",
       "      <td>-499.990535</td>\n",
       "      <td>16.014935</td>\n",
       "      <td>-500.007126</td>\n",
       "    </tr>\n",
       "    <tr>\n",
       "      <th>75%</th>\n",
       "      <td>208.125438</td>\n",
       "      <td>10.027764</td>\n",
       "      <td>7.600000</td>\n",
       "      <td>1.797819</td>\n",
       "      <td>1.602077e+03</td>\n",
       "      <td>-499.568951</td>\n",
       "      <td>1.602324e+03</td>\n",
       "      <td>-499.293257</td>\n",
       "      <td>1.601144e+03</td>\n",
       "      <td>-498.994130</td>\n",
       "      <td>...</td>\n",
       "      <td>1.803862e+01</td>\n",
       "      <td>-499.404224</td>\n",
       "      <td>1.596213e+01</td>\n",
       "      <td>-400.933805</td>\n",
       "      <td>15.097528</td>\n",
       "      <td>-499.283191</td>\n",
       "      <td>11.997467</td>\n",
       "      <td>-499.719913</td>\n",
       "      <td>21.020013</td>\n",
       "      <td>-499.373018</td>\n",
       "    </tr>\n",
       "    <tr>\n",
       "      <th>max</th>\n",
       "      <td>265.983123</td>\n",
       "      <td>40.000000</td>\n",
       "      <td>15.500000</td>\n",
       "      <td>4.102454</td>\n",
       "      <td>2.103104e+03</td>\n",
       "      <td>-57.195404</td>\n",
       "      <td>1.813084e+03</td>\n",
       "      <td>-142.527229</td>\n",
       "      <td>1.715054e+03</td>\n",
       "      <td>-150.937035</td>\n",
       "      <td>...</td>\n",
       "      <td>3.005180e+01</td>\n",
       "      <td>-401.565212</td>\n",
       "      <td>3.126971e+01</td>\n",
       "      <td>-6.506986</td>\n",
       "      <td>25.258848</td>\n",
       "      <td>-244.483566</td>\n",
       "      <td>14.086866</td>\n",
       "      <td>-137.740004</td>\n",
       "      <td>26.705889</td>\n",
       "      <td>-123.307487</td>\n",
       "    </tr>\n",
       "  </tbody>\n",
       "</table>\n",
       "<p>8 rows × 52 columns</p>\n",
       "</div>"
      ],
      "text/plain": [
       "       primary_cleaner.input.sulfate  primary_cleaner.input.depressant  \\\n",
       "count                    5286.000000                       5285.000000   \n",
       "mean                      174.839652                          8.683596   \n",
       "std                        43.027080                          3.072050   \n",
       "min                         2.566156                          0.003839   \n",
       "25%                       147.121401                          6.489555   \n",
       "50%                       177.828489                          8.052207   \n",
       "75%                       208.125438                         10.027764   \n",
       "max                       265.983123                         40.000000   \n",
       "\n",
       "       primary_cleaner.input.feed_size  primary_cleaner.input.xanthate  \\\n",
       "count                      5290.000000                     5286.000000   \n",
       "mean                          7.266339                        1.383803   \n",
       "std                           0.610219                        0.643474   \n",
       "min                           5.650000                        0.004984   \n",
       "25%                           6.890000                        0.907623   \n",
       "50%                           7.250000                        1.197610   \n",
       "75%                           7.600000                        1.797819   \n",
       "max                          15.500000                        4.102454   \n",
       "\n",
       "       primary_cleaner.state.floatbank8_a_air  \\\n",
       "count                            5.290000e+03   \n",
       "mean                             1.539494e+03   \n",
       "std                              1.167979e+02   \n",
       "min                              5.445860e-32   \n",
       "25%                              1.498936e+03   \n",
       "50%                              1.585129e+03   \n",
       "75%                              1.602077e+03   \n",
       "max                              2.103104e+03   \n",
       "\n",
       "       primary_cleaner.state.floatbank8_a_level  \\\n",
       "count                               5290.000000   \n",
       "mean                                -497.665883   \n",
       "std                                   19.952431   \n",
       "min                                 -795.316337   \n",
       "25%                                 -500.357298   \n",
       "50%                                 -499.969164   \n",
       "75%                                 -499.568951   \n",
       "max                                  -57.195404   \n",
       "\n",
       "       primary_cleaner.state.floatbank8_b_air  \\\n",
       "count                            5.290000e+03   \n",
       "mean                             1.545174e+03   \n",
       "std                              1.222246e+02   \n",
       "min                              6.647490e-32   \n",
       "25%                              1.498971e+03   \n",
       "50%                              1.595622e+03   \n",
       "75%                              1.602324e+03   \n",
       "max                              1.813084e+03   \n",
       "\n",
       "       primary_cleaner.state.floatbank8_b_level  \\\n",
       "count                               5290.000000   \n",
       "mean                                -500.273098   \n",
       "std                                   32.968307   \n",
       "min                                 -799.997015   \n",
       "25%                                 -500.703002   \n",
       "50%                                 -500.028514   \n",
       "75%                                 -499.293257   \n",
       "max                                 -142.527229   \n",
       "\n",
       "       primary_cleaner.state.floatbank8_c_air  \\\n",
       "count                            5.290000e+03   \n",
       "mean                             1.527272e+03   \n",
       "std                              1.225380e+02   \n",
       "min                              4.033736e-32   \n",
       "25%                              1.473230e+03   \n",
       "50%                              1.549595e+03   \n",
       "75%                              1.601144e+03   \n",
       "max                              1.715054e+03   \n",
       "\n",
       "       primary_cleaner.state.floatbank8_c_level  ...  \\\n",
       "count                               5290.000000  ...   \n",
       "mean                                -498.330680  ...   \n",
       "std                                   21.964876  ...   \n",
       "min                                 -799.960571  ...   \n",
       "25%                                 -501.018117  ...   \n",
       "50%                                 -500.017711  ...   \n",
       "75%                                 -498.994130  ...   \n",
       "max                                 -150.937035  ...   \n",
       "\n",
       "       secondary_cleaner.state.floatbank4_a_air  \\\n",
       "count                              5.290000e+03   \n",
       "mean                               1.632007e+01   \n",
       "std                                3.493583e+00   \n",
       "min                                1.079872e-16   \n",
       "25%                                1.403618e+01   \n",
       "50%                                1.700847e+01   \n",
       "75%                                1.803862e+01   \n",
       "max                                3.005180e+01   \n",
       "\n",
       "       secondary_cleaner.state.floatbank4_a_level  \\\n",
       "count                                 5290.000000   \n",
       "mean                                  -505.144570   \n",
       "std                                     31.427337   \n",
       "min                                   -799.798523   \n",
       "25%                                   -500.868258   \n",
       "50%                                   -500.115727   \n",
       "75%                                   -499.404224   \n",
       "max                                   -401.565212   \n",
       "\n",
       "       secondary_cleaner.state.floatbank4_b_air  \\\n",
       "count                              5.290000e+03   \n",
       "mean                               1.373544e+01   \n",
       "std                                3.430484e+00   \n",
       "min                                2.489718e-17   \n",
       "25%                                1.202862e+01   \n",
       "50%                                1.496486e+01   \n",
       "75%                                1.596213e+01   \n",
       "max                                3.126971e+01   \n",
       "\n",
       "       secondary_cleaner.state.floatbank4_b_level  \\\n",
       "count                                 5290.000000   \n",
       "mean                                  -463.349858   \n",
       "std                                     86.189107   \n",
       "min                                   -800.836914   \n",
       "25%                                   -500.323028   \n",
       "50%                                   -499.576513   \n",
       "75%                                   -400.933805   \n",
       "max                                     -6.506986   \n",
       "\n",
       "       secondary_cleaner.state.floatbank5_a_air  \\\n",
       "count                               5290.000000   \n",
       "mean                                  12.804186   \n",
       "std                                    3.026591   \n",
       "min                                    0.069227   \n",
       "25%                                   10.914838   \n",
       "50%                                   12.954182   \n",
       "75%                                   15.097528   \n",
       "max                                   25.258848   \n",
       "\n",
       "       secondary_cleaner.state.floatbank5_a_level  \\\n",
       "count                                 5290.000000   \n",
       "mean                                  -501.329122   \n",
       "std                                     17.951495   \n",
       "min                                   -797.323986   \n",
       "25%                                   -500.726841   \n",
       "50%                                   -499.990332   \n",
       "75%                                   -499.283191   \n",
       "max                                   -244.483566   \n",
       "\n",
       "       secondary_cleaner.state.floatbank5_b_air  \\\n",
       "count                               5290.000000   \n",
       "mean                                   9.881145   \n",
       "std                                    2.868205   \n",
       "min                                    0.528083   \n",
       "25%                                    8.036719   \n",
       "50%                                   10.004301   \n",
       "75%                                   11.997467   \n",
       "max                                   14.086866   \n",
       "\n",
       "       secondary_cleaner.state.floatbank5_b_level  \\\n",
       "count                                 5290.000000   \n",
       "mean                                  -495.663398   \n",
       "std                                     34.535007   \n",
       "min                                   -800.220337   \n",
       "25%                                   -500.194668   \n",
       "50%                                   -499.990535   \n",
       "75%                                   -499.719913   \n",
       "max                                   -137.740004   \n",
       "\n",
       "       secondary_cleaner.state.floatbank6_a_air  \\\n",
       "count                               5290.000000   \n",
       "mean                                  17.304935   \n",
       "std                                    4.536544   \n",
       "min                                   -0.079426   \n",
       "25%                                   13.997317   \n",
       "50%                                   16.014935   \n",
       "75%                                   21.020013   \n",
       "max                                   26.705889   \n",
       "\n",
       "       secondary_cleaner.state.floatbank6_a_level  \n",
       "count                                 5290.000000  \n",
       "mean                                  -501.793193  \n",
       "std                                     39.044215  \n",
       "min                                   -809.741464  \n",
       "25%                                   -500.690984  \n",
       "50%                                   -500.007126  \n",
       "75%                                   -499.373018  \n",
       "max                                   -123.307487  \n",
       "\n",
       "[8 rows x 52 columns]"
      ]
     },
     "metadata": {},
     "output_type": "display_data"
    },
    {
     "name": "stdout",
     "output_type": "stream",
     "text": [
      "---------------------------------------------------\n"
     ]
    }
   ],
   "source": [
    "#посмотрим на содержание, проверим на дубликаты, оценим значения\n",
    "for dataset in [full, train, test]:\n",
    "    display(dataset.head(5))\n",
    "    print()\n",
    "    print(dataset.info())\n",
    "    print('Кол-во дубликатов =', dataset.duplicated().sum())\n",
    "    print()\n",
    "    display(dataset.describe())\n",
    "    print('---------------------------------------------------')"
   ]
  },
  {
   "cell_type": "markdown",
   "metadata": {},
   "source": [
    "В выборке test нет части признаков, которые есть в full и train, явных дубликатов нет, во всех таблицах есть пропущенные значения.\n",
    "Целевые признаки - rougher.output.recovery, final.output.recovery"
   ]
  },
  {
   "cell_type": "markdown",
   "metadata": {},
   "source": [
    "**1.2 Проверим расчет эффективности обогащения**"
   ]
  },
  {
   "cell_type": "code",
   "execution_count": 4,
   "metadata": {},
   "outputs": [],
   "source": [
    "#функция расчета эффективности обогащения\n",
    "def recovery_calc(rougher_output, rougher_input, rougher_tail):\n",
    "    recovery = (rougher_output * (rougher_input - rougher_tail)) \\\n",
    "    / (rougher_input * (rougher_output - rougher_tail)) * 100\n",
    "    return recovery"
   ]
  },
  {
   "cell_type": "code",
   "execution_count": 5,
   "metadata": {},
   "outputs": [
    {
     "data": {
      "text/plain": [
       "date\n",
       "2016-01-15 00:00:00    87.107763\n",
       "2016-01-15 01:00:00    86.843261\n",
       "2016-01-15 02:00:00    86.842308\n",
       "2016-01-15 03:00:00    87.226430\n",
       "2016-01-15 04:00:00    86.688794\n",
       "                         ...    \n",
       "2018-08-18 06:59:59    89.574376\n",
       "2018-08-18 07:59:59    87.724007\n",
       "2018-08-18 08:59:59    88.890579\n",
       "2018-08-18 09:59:59    89.858126\n",
       "2018-08-18 10:59:59    89.514960\n",
       "Length: 14149, dtype: float64"
      ]
     },
     "execution_count": 5,
     "metadata": {},
     "output_type": "execute_result"
    }
   ],
   "source": [
    "#определим эффективность обогащения на обучающей выборке для признака rougher.output.recovery:\n",
    "recovery = recovery_calc(train['rougher.output.concentrate_au'],\n",
    "                         train['rougher.input.feed_au'],\n",
    "                         train['rougher.output.tail_au'])\n",
    "#проверим\n",
    "recovery"
   ]
  },
  {
   "cell_type": "code",
   "execution_count": 6,
   "metadata": {},
   "outputs": [
    {
     "name": "stdout",
     "output_type": "stream",
     "text": [
      "MAE между нашими расчётами и значением признака = 9.73512347450521e-15\n"
     ]
    }
   ],
   "source": [
    "#MAE между расчётами и значением признака rougher.output.recovery:\n",
    "mae = mean_absolute_error(train['rougher.output.recovery'], recovery)\n",
    "print('MAE между нашими расчётами и значением признака =', mae)"
   ]
  },
  {
   "cell_type": "markdown",
   "metadata": {},
   "source": [
    "MAE между нашими расчётами и значением признака rougher.output.recovery очень мала, значит, эффективность в выборке train рассчитана правильно."
   ]
  },
  {
   "cell_type": "markdown",
   "metadata": {},
   "source": [
    "**1.3. Анализ признаков недоступных в тестовой выборке**"
   ]
  },
  {
   "cell_type": "code",
   "execution_count": 7,
   "metadata": {},
   "outputs": [
    {
     "name": "stdout",
     "output_type": "stream",
     "text": [
      "<class 'pandas.core.frame.DataFrame'>\n",
      "Index: 14149 entries, 2016-01-15 00:00:00 to 2018-08-18 10:59:59\n",
      "Data columns (total 34 columns):\n",
      " #   Column                                              Non-Null Count  Dtype  \n",
      "---  ------                                              --------------  -----  \n",
      " 0   primary_cleaner.output.concentrate_au               14149 non-null  float64\n",
      " 1   rougher.output.concentrate_sol                      14127 non-null  float64\n",
      " 2   rougher.output.recovery                             14149 non-null  float64\n",
      " 3   final.output.tail_ag                                14149 non-null  float64\n",
      " 4   final.output.concentrate_ag                         14148 non-null  float64\n",
      " 5   rougher.calculation.floatbank11_sulfate_to_au_feed  14148 non-null  float64\n",
      " 6   secondary_cleaner.output.tail_ag                    14147 non-null  float64\n",
      " 7   final.output.concentrate_pb                         14148 non-null  float64\n",
      " 8   rougher.calculation.floatbank10_sulfate_to_au_feed  14148 non-null  float64\n",
      " 9   rougher.output.tail_ag                              14148 non-null  float64\n",
      " 10  primary_cleaner.output.concentrate_ag               14149 non-null  float64\n",
      " 11  rougher.calculation.sulfate_to_au_concentrate       14148 non-null  float64\n",
      " 12  primary_cleaner.output.tail_sol                     14103 non-null  float64\n",
      " 13  rougher.calculation.au_pb_ratio                     14149 non-null  float64\n",
      " 14  secondary_cleaner.output.tail_pb                    14139 non-null  float64\n",
      " 15  rougher.output.tail_au                              14149 non-null  float64\n",
      " 16  final.output.tail_sol                               14144 non-null  float64\n",
      " 17  secondary_cleaner.output.tail_au                    14149 non-null  float64\n",
      " 18  final.output.tail_pb                                14049 non-null  float64\n",
      " 19  primary_cleaner.output.concentrate_sol              13863 non-null  float64\n",
      " 20  secondary_cleaner.output.tail_sol                   12544 non-null  float64\n",
      " 21  rougher.output.concentrate_au                       14149 non-null  float64\n",
      " 22  final.output.recovery                               14149 non-null  float64\n",
      " 23  final.output.concentrate_sol                        13938 non-null  float64\n",
      " 24  primary_cleaner.output.concentrate_pb               14063 non-null  float64\n",
      " 25  rougher.output.tail_sol                             14149 non-null  float64\n",
      " 26  rougher.output.concentrate_ag                       14149 non-null  float64\n",
      " 27  primary_cleaner.output.tail_pb                      14134 non-null  float64\n",
      " 28  final.output.tail_au                                14149 non-null  float64\n",
      " 29  primary_cleaner.output.tail_au                      14149 non-null  float64\n",
      " 30  final.output.concentrate_au                         14149 non-null  float64\n",
      " 31  rougher.output.tail_pb                              14149 non-null  float64\n",
      " 32  primary_cleaner.output.tail_ag                      14148 non-null  float64\n",
      " 33  rougher.output.concentrate_pb                       14149 non-null  float64\n",
      "dtypes: float64(34)\n",
      "memory usage: 4.3+ MB\n"
     ]
    }
   ],
   "source": [
    "#выделим признаки, которых нет в выборке test\n",
    "unavailable_attributes = set(train.columns) - set(test.columns)\n",
    "#посмотрим на тип признаков, оценим разницу и выясним, что это за параметры\n",
    "train[unavailable_attributes].info()"
   ]
  },
  {
   "cell_type": "markdown",
   "metadata": {},
   "source": [
    "В выборке test нет 34 признаков - 30 типа output (это параметры продукта) и 4 типа calculation (расчётные характеристики). Все признаки, которых нет в выборке test относятся к float. В выборку test следует добавить целевые признаки из full и на этапе обучения из train удалить признаки, которых нет в test."
   ]
  },
  {
   "cell_type": "markdown",
   "metadata": {},
   "source": [
    "**1.4. Предобработка данных**"
   ]
  },
  {
   "cell_type": "code",
   "execution_count": 8,
   "metadata": {
    "scrolled": true
   },
   "outputs": [
    {
     "name": "stdout",
     "output_type": "stream",
     "text": [
      "secondary_cleaner.output.tail_sol             1748\n",
      "rougher.input.floatbank11_xanthate             453\n",
      "rougher.state.floatbank10_e_air                436\n",
      "primary_cleaner.output.concentrate_sol         370\n",
      "secondary_cleaner.state.floatbank2_a_air       220\n",
      "                                              ... \n",
      "primary_cleaner.state.floatbank8_c_level         1\n",
      "primary_cleaner.state.floatbank8_b_level         1\n",
      "primary_cleaner.state.floatbank8_a_level         1\n",
      "final.output.tail_ag                             1\n",
      "secondary_cleaner.state.floatbank6_a_level       1\n",
      "Length: 63, dtype: int64\n",
      "---------------------------------------------------\n",
      "secondary_cleaner.output.tail_sol             1605\n",
      "rougher.state.floatbank10_e_air                436\n",
      "rougher.input.floatbank11_xanthate             428\n",
      "primary_cleaner.output.concentrate_sol         286\n",
      "secondary_cleaner.state.floatbank2_a_air       217\n",
      "                                              ... \n",
      "rougher.state.floatbank10_a_air                  1\n",
      "rougher.state.floatbank10_a_level                1\n",
      "rougher.state.floatbank10_b_air                  1\n",
      "rougher.state.floatbank10_b_level                1\n",
      "secondary_cleaner.state.floatbank6_a_level       1\n",
      "Length: 62, dtype: int64\n",
      "---------------------------------------------------\n",
      "rougher.input.floatbank11_xanthate          25\n",
      "rougher.input.feed_sol                      21\n",
      "secondary_cleaner.state.floatbank3_a_air     9\n",
      "rougher.input.floatbank11_sulfate            8\n",
      "primary_cleaner.input.depressant             5\n",
      "rougher.input.floatbank10_sulfate            5\n",
      "primary_cleaner.input.sulfate                4\n",
      "primary_cleaner.input.xanthate               4\n",
      "rougher.input.feed_rate                      3\n",
      "secondary_cleaner.state.floatbank2_a_air     3\n",
      "secondary_cleaner.state.floatbank2_b_air     2\n",
      "rougher.input.feed_size                      1\n",
      "dtype: int64\n",
      "---------------------------------------------------\n"
     ]
    }
   ],
   "source": [
    "#щценим количество пропусков\n",
    "for dataset in [full, train, test]:\n",
    "    print(dataset.isna().sum()[dataset.isna().sum()!=0].sort_values(ascending=False))\n",
    "    print('---------------------------------------------------')"
   ]
  },
  {
   "cell_type": "code",
   "execution_count": 9,
   "metadata": {},
   "outputs": [
    {
     "data": {
      "text/plain": [
       "(5290, 54)"
      ]
     },
     "execution_count": 9,
     "metadata": {},
     "output_type": "execute_result"
    }
   ],
   "source": [
    "#добавим в test целевые признаки из full по совпадению даты\n",
    "test = test.merge(full[['final.output.recovery', 'rougher.output.recovery']],\\\n",
    "                  on='date', how='left')\n",
    "test.shape"
   ]
  },
  {
   "cell_type": "code",
   "execution_count": 10,
   "metadata": {},
   "outputs": [
    {
     "data": {
      "text/plain": [
       "(False, False)"
      ]
     },
     "execution_count": 10,
     "metadata": {},
     "output_type": "execute_result"
    }
   ],
   "source": [
    "#заполним оставшиеся пропуски соседними по времени параметрами,\n",
    "#по условию задачи они похожи, поэтому следующее непропущенное значение подойдет\n",
    "train = train.fillna(method='bfill')\n",
    "test = test.fillna(method='bfill')\n",
    "#проверим\n",
    "train.isna().values.any(), test.isna().values.any()"
   ]
  },
  {
   "cell_type": "markdown",
   "metadata": {},
   "source": [
    "Вывод. Данные выгружены и подготовлены. Проверена правильность расчета эффективности обогащения в тренировочной выборке. Проанализированы признаки, недоступные в выборке test. Добавлены целевые признаки в тестовую выборку. Заполнены пропущенные значения в выборках train, test."
   ]
  },
  {
   "cell_type": "markdown",
   "metadata": {},
   "source": [
    "## Анализ данных"
   ]
  },
  {
   "cell_type": "markdown",
   "metadata": {},
   "source": [
    "**2.1 Посмотрим как меняется концентрация металлов (Au, Ag, Pb) на различных этапах очистки**"
   ]
  },
  {
   "cell_type": "code",
   "execution_count": 11,
   "metadata": {},
   "outputs": [
    {
     "data": {
      "text/plain": [
       "rougher.input.feed_ag                     8.794927\n",
       "rougher.output.concentrate_ag            11.994759\n",
       "primary_cleaner.output.concentrate_ag     8.442408\n",
       "final.output.concentrate_ag               5.168470\n",
       "dtype: float64"
      ]
     },
     "execution_count": 11,
     "metadata": {},
     "output_type": "execute_result"
    }
   ],
   "source": [
    "# для серебра из full достанем признаки rougher.input.feed_ag, rougher.output.concentrate_ag, \n",
    "#primary_cleaner.output.concentrate_ag и final.output.concentrate_ag\n",
    "#(на этапе secondary_cleaner данных по концентрации нет)\n",
    "concentrate_ag = full[['rougher.input.feed_ag',\n",
    "                       'rougher.output.concentrate_ag',\n",
    "                       'primary_cleaner.output.concentrate_ag',\n",
    "                       'final.output.concentrate_ag'\n",
    "                      ]].mean(axis=0)\n",
    "concentrate_ag"
   ]
  },
  {
   "cell_type": "code",
   "execution_count": 12,
   "metadata": {},
   "outputs": [
    {
     "data": {
      "text/plain": [
       "rougher.input.feed_pb                    3.598085\n",
       "rougher.output.concentrate_pb            7.606272\n",
       "primary_cleaner.output.concentrate_pb    9.829530\n",
       "final.output.concentrate_pb              9.978895\n",
       "dtype: float64"
      ]
     },
     "execution_count": 12,
     "metadata": {},
     "output_type": "execute_result"
    }
   ],
   "source": [
    "#для свинца\n",
    "concentrate_pb = full[['rougher.input.feed_pb',\n",
    "                       'rougher.output.concentrate_pb',\n",
    "                      'primary_cleaner.output.concentrate_pb',\n",
    "                       'final.output.concentrate_pb'\n",
    "                      ]].mean(axis=0)\n",
    "concentrate_pb"
   ]
  },
  {
   "cell_type": "code",
   "execution_count": 13,
   "metadata": {},
   "outputs": [
    {
     "data": {
      "text/plain": [
       "rougher.input.feed_au                     8.266097\n",
       "rougher.output.concentrate_au            19.772000\n",
       "primary_cleaner.output.concentrate_au    32.119400\n",
       "final.output.concentrate_au              44.076513\n",
       "dtype: float64"
      ]
     },
     "execution_count": 13,
     "metadata": {},
     "output_type": "execute_result"
    }
   ],
   "source": [
    "#для золота\n",
    "concentrate_au = full[['rougher.input.feed_au',\n",
    "                       'rougher.output.concentrate_au',\n",
    "                      'primary_cleaner.output.concentrate_au',\n",
    "                       'final.output.concentrate_au'\n",
    "                      ]].mean(axis=0)\n",
    "concentrate_au"
   ]
  },
  {
   "cell_type": "code",
   "execution_count": 14,
   "metadata": {},
   "outputs": [
    {
     "data": {
      "image/png": "[encoded data removed]",
      "text/plain": [
       "<Figure size 864x288 with 1 Axes>"
      ]
     },
     "metadata": {
      "needs_background": "light"
     },
     "output_type": "display_data"
    }
   ],
   "source": [
    "#для визуализации построим линейный график\n",
    "concentrate_ag.plot(style='-o', grid=True, figsize=(12,4), label='Ag') \n",
    "\n",
    "concentrate_pb.plot(style='-o', grid=True, figsize=(12,4), label='Pb')\n",
    "\n",
    "concentrate_au.plot(style='-o', grid=True, figsize=(12,4), label='Au')\n",
    "\n",
    "plt.title('Изменения концентраций Ag, Pb, Au на различных этапах очистки')\n",
    "plt.legend()\n",
    "plt.show()"
   ]
  },
  {
   "cell_type": "markdown",
   "metadata": {},
   "source": [
    "Концентрация Ag (серебро) падает с этапа флотации - вероятно, большое количество металла остается в отвальных хвостах, возможно следует обратить внимание на технологию очистки для серебра. Концентрация Pb (свинец) растет от этапа к этапу, но низкими темпами и неравномерно. Концентрация Au (золото) равномерно увеличивается от этапа к этапу относительно приличными темпами, технология очистки золота показывает хороший результат."
   ]
  },
  {
   "cell_type": "markdown",
   "metadata": {},
   "source": [
    "**2.2 Сравнение распределения размеров гранул сырья на обучающей и тестовой выборках**"
   ]
  },
  {
   "cell_type": "code",
   "execution_count": 15,
   "metadata": {},
   "outputs": [
    {
     "data": {
      "image/png": "[encoded data removed]",
      "text/plain": [
       "<Figure size 432x288 with 1 Axes>"
      ]
     },
     "metadata": {
      "needs_background": "light"
     },
     "output_type": "display_data"
    }
   ],
   "source": [
    "#сравним распределение размеров гранул на этапе флотации train и test\n",
    "y1 = train['rougher.input.feed_size']\n",
    "y2 = test['rougher.input.feed_size']\n",
    "\n",
    "plt.hist(y1, bins=100, color='orange', label='train', range=(20, 150), alpha=0.5)\n",
    "plt.hist(y2, bins=100, color='blue', label='test', range=(20, 150), alpha=0.5)\n",
    "plt.rcParams['figure.figsize'] = (25, 15)\n",
    "plt.legend(loc='upper left')\n",
    "plt.title('Распределения размеров гранул сырья в выборках train test на этапе флотации')\n",
    "plt.show()"
   ]
  },
  {
   "cell_type": "code",
   "execution_count": 16,
   "metadata": {},
   "outputs": [
    {
     "data": {
      "image/png": "[encoded data removed]",
      "text/plain": [
       "<Figure size 1800x1080 with 1 Axes>"
      ]
     },
     "metadata": {
      "needs_background": "light"
     },
     "output_type": "display_data"
    }
   ],
   "source": [
    "#на этапе первичной очистки\n",
    "y1 = train['primary_cleaner.input.feed_size']\n",
    "y2 = test['primary_cleaner.input.feed_size']\n",
    "\n",
    "plt.hist(y1, bins=100, color='orange', label='train', range=(5, 10), alpha=0.5)\n",
    "plt.hist(y2, bins=100, color='blue', label='test', range=(5, 10), alpha=0.5)\n",
    "plt.rcParams['figure.figsize'] = (25, 15)\n",
    "plt.legend(loc='upper left')\n",
    "plt.title('Распределения размеров гранул сырья в выборках train test на этапе первичной очистки')\n",
    "plt.show()"
   ]
  },
  {
   "cell_type": "markdown",
   "metadata": {},
   "source": [
    "Видим, что на этапе флотации размеры гранул на обучающей выборке - до 55, на тестовой - до 45. На этапе первичной очистки размеры гранул на обучающей выборке - до 7.4, на тестовой - до 7.7. Распределение размеров гранул на этапе первичной очистки похоже на нормальное, на тестовой выборке объекты сконцентрированы в отрезке от 6.7 до 7.7, это может говорить о примерно одинаковом размере гранул на этом этапе."
   ]
  },
  {
   "cell_type": "code",
   "execution_count": 17,
   "metadata": {},
   "outputs": [
    {
     "data": {
      "image/png": "[encoded data removed]",
      "text/plain": [
       "<Figure size 1080x360 with 1 Axes>"
      ]
     },
     "metadata": {
      "needs_background": "light"
     },
     "output_type": "display_data"
    }
   ],
   "source": [
    "#распределение размера гранул на этапе флотации train test\n",
    "plt.figure(figsize=(15, 5))\n",
    "sns.kdeplot(train['rougher.input.feed_size'], label='train rougher.input.feed_size', alpha=0.5, shade=True)\n",
    "sns.kdeplot(test['rougher.input.feed_size'], label='test rougher.input.feed_size', alpha=0.7, shade=True)\n",
    "plt.xlim([0, 175])\n",
    "plt.xlabel('Значения')\n",
    "plt.ylabel('Плотность вероятности')\n",
    "plt.legend(loc='upper right')\n",
    "plt.show()"
   ]
  },
  {
   "cell_type": "code",
   "execution_count": 18,
   "metadata": {},
   "outputs": [
    {
     "data": {
      "image/png": "[encoded data removed]",
      "text/plain": [
       "<Figure size 1080x360 with 1 Axes>"
      ]
     },
     "metadata": {
      "needs_background": "light"
     },
     "output_type": "display_data"
    }
   ],
   "source": [
    "#распределение размера гранул на этапе первичной очистки train test\n",
    "plt.figure(figsize=(15, 5))\n",
    "sns.kdeplot(train['primary_cleaner.input.feed_size'], \n",
    "         label='train primary_cleaner.input.feed_size', alpha=0.3, shade=True)\n",
    "sns.kdeplot(test['primary_cleaner.input.feed_size'],  \n",
    "         label='test primary_cleaner.input.feed_size', alpha=0.3, shade=True)\n",
    "plt.xlim([5, 10])\n",
    "plt.xlabel('Значения')\n",
    "plt.ylabel('Плотность вероятности')\n",
    "plt.legend(loc='upper right')\n",
    "plt.show()"
   ]
  },
  {
   "cell_type": "markdown",
   "metadata": {},
   "source": [
    "Вывод. Распределения похожи, это говорит об однородности данных размеров сырья в выборках train и test."
   ]
  },
  {
   "cell_type": "markdown",
   "metadata": {},
   "source": [
    "**2.3 Исследование суммарной концентрации всех веществ на разных стадиях: в сырье, в черновом и финальном концентратах**"
   ]
  },
  {
   "cell_type": "code",
   "execution_count": 19,
   "metadata": {},
   "outputs": [
    {
     "data": {
      "text/html": [
       "<div>\n",
       "<style scoped>\n",
       "    .dataframe tbody tr th:only-of-type {\n",
       "        vertical-align: middle;\n",
       "    }\n",
       "\n",
       "    .dataframe tbody tr th {\n",
       "        vertical-align: top;\n",
       "    }\n",
       "\n",
       "    .dataframe thead th {\n",
       "        text-align: right;\n",
       "    }\n",
       "</style>\n",
       "<table border=\"1\" class=\"dataframe\">\n",
       "  <thead>\n",
       "    <tr style=\"text-align: right;\">\n",
       "      <th></th>\n",
       "      <th>rougher.input</th>\n",
       "      <th>rougher.output</th>\n",
       "      <th>primary_cleaner.output</th>\n",
       "      <th>final.output</th>\n",
       "    </tr>\n",
       "  </thead>\n",
       "  <tbody>\n",
       "    <tr>\n",
       "      <th>count</th>\n",
       "      <td>19245.000000</td>\n",
       "      <td>19416.000000</td>\n",
       "      <td>19069.000000</td>\n",
       "      <td>19227.000000</td>\n",
       "    </tr>\n",
       "    <tr>\n",
       "      <th>mean</th>\n",
       "      <td>57.407926</td>\n",
       "      <td>68.188914</td>\n",
       "      <td>60.949928</td>\n",
       "      <td>68.727562</td>\n",
       "    </tr>\n",
       "    <tr>\n",
       "      <th>std</th>\n",
       "      <td>7.165219</td>\n",
       "      <td>12.478522</td>\n",
       "      <td>9.953770</td>\n",
       "      <td>7.423741</td>\n",
       "    </tr>\n",
       "    <tr>\n",
       "      <th>min</th>\n",
       "      <td>0.040000</td>\n",
       "      <td>0.000000</td>\n",
       "      <td>0.000000</td>\n",
       "      <td>0.000000</td>\n",
       "    </tr>\n",
       "    <tr>\n",
       "      <th>25%</th>\n",
       "      <td>53.660745</td>\n",
       "      <td>66.026048</td>\n",
       "      <td>59.165854</td>\n",
       "      <td>67.985659</td>\n",
       "    </tr>\n",
       "    <tr>\n",
       "      <th>50%</th>\n",
       "      <td>57.647093</td>\n",
       "      <td>70.186130</td>\n",
       "      <td>62.615189</td>\n",
       "      <td>69.632597</td>\n",
       "    </tr>\n",
       "    <tr>\n",
       "      <th>75%</th>\n",
       "      <td>62.012223</td>\n",
       "      <td>74.362878</td>\n",
       "      <td>65.725507</td>\n",
       "      <td>71.390461</td>\n",
       "    </tr>\n",
       "    <tr>\n",
       "      <th>max</th>\n",
       "      <td>76.978947</td>\n",
       "      <td>88.140119</td>\n",
       "      <td>80.749343</td>\n",
       "      <td>80.210644</td>\n",
       "    </tr>\n",
       "  </tbody>\n",
       "</table>\n",
       "</div>"
      ],
      "text/plain": [
       "       rougher.input  rougher.output  primary_cleaner.output  final.output\n",
       "count   19245.000000    19416.000000            19069.000000  19227.000000\n",
       "mean       57.407926       68.188914               60.949928     68.727562\n",
       "std         7.165219       12.478522                9.953770      7.423741\n",
       "min         0.040000        0.000000                0.000000      0.000000\n",
       "25%        53.660745       66.026048               59.165854     67.985659\n",
       "50%        57.647093       70.186130               62.615189     69.632597\n",
       "75%        62.012223       74.362878               65.725507     71.390461\n",
       "max        76.978947       88.140119               80.749343     80.210644"
      ]
     },
     "execution_count": 19,
     "metadata": {},
     "output_type": "execute_result"
    }
   ],
   "source": [
    "#построим таблицу суммарных концентраций для разных стадий\n",
    "chart_concentrate = pd.DataFrame()\n",
    "\n",
    "chart_concentrate['rougher.input'] = full['rougher.input.feed_ag'] \\\n",
    "+ full['rougher.input.feed_pb'] \\\n",
    "+ full['rougher.input.feed_sol'] \\\n",
    "+ full['rougher.input.feed_au']\n",
    "\n",
    "chart_concentrate['rougher.output'] = full['rougher.output.concentrate_ag'] \\\n",
    "+ full['rougher.output.concentrate_pb'] \\\n",
    "+ full['rougher.output.concentrate_sol'] \\\n",
    "+ full['rougher.output.concentrate_au']\n",
    "\n",
    "chart_concentrate['primary_cleaner.output'] = full['primary_cleaner.output.concentrate_ag'] \\\n",
    "+ full['primary_cleaner.output.concentrate_pb'] \\\n",
    "+ full['primary_cleaner.output.concentrate_sol'] \\\n",
    "+ full['primary_cleaner.output.concentrate_au']\n",
    "\n",
    "chart_concentrate['final.output'] = full['final.output.concentrate_ag'] \\\n",
    "+ full['final.output.concentrate_pb'] \\\n",
    "+ full['final.output.concentrate_sol'] \\\n",
    "+ full['final.output.concentrate_au']\n",
    "\n",
    "chart_concentrate.describe()"
   ]
  },
  {
   "cell_type": "code",
   "execution_count": 20,
   "metadata": {},
   "outputs": [
    {
     "data": {
      "image/png": "[encoded data removed]",
      "text/plain": [
       "<Figure size 1800x1080 with 1 Axes>"
      ]
     },
     "metadata": {
      "needs_background": "light"
     },
     "output_type": "display_data"
    }
   ],
   "source": [
    "#построим гистограммы для стадий\n",
    "y1 = chart_concentrate['rougher.input']\n",
    "y2 = chart_concentrate['rougher.output']\n",
    "y3 = chart_concentrate['primary_cleaner.output']\n",
    "y4 = chart_concentrate['final.output']\n",
    "\n",
    "plt.hist(y1, bins=150, color='orange', label='rougher.input', range=(0, 90), alpha=0.5)\n",
    "plt.hist(y2, bins=150, color='blue', label='rougher.output', range=(0, 90), alpha=0.5)\n",
    "plt.hist(y3, bins=150, color='grey', label='primary_cleaner.output', range=(0, 90), alpha=0.5)\n",
    "plt.hist(y4, bins=150, color='green', label='final.output', range=(0, 90), alpha=0.5)\n",
    "\n",
    "plt.rcParams['figure.figsize'] = (25, 15)\n",
    "plt.legend(loc='upper left')\n",
    "plt.title('Распределения суммарной концентрации всех веществ на разных стадиях')\n",
    "plt.show()"
   ]
  },
  {
   "cell_type": "markdown",
   "metadata": {},
   "source": [
    "Видим, что есть выбросы у нуля. Можно предположить, что это заборы руды не содержащие нужных металлов. Следует такие выбросы удалить, чтобы сконцентрироваться только на эффективных заборах руды (границу концентрации определю как 1, все что меньше убираем). Этап final.output указывает на распределение максимума концентраций на отрезке от 65 до 75."
   ]
  },
  {
   "cell_type": "code",
   "execution_count": 21,
   "metadata": {},
   "outputs": [],
   "source": [
    "#для full убираем концентрацию до 1:\n",
    "full = full[(full['rougher.input.feed_ag'] >= 1) &\n",
    "            (full['rougher.input.feed_pb'] >= 1) &\n",
    "            (full['rougher.input.feed_sol'] >= 1) &\n",
    "            (full['rougher.input.feed_au'] >= 1) &\n",
    "            (full['rougher.output.concentrate_ag'] >= 1) &\n",
    "            (full['rougher.output.concentrate_pb'] >= 1) &\n",
    "            (full['rougher.output.concentrate_sol'] >= 1) &\n",
    "            (full['rougher.output.concentrate_au'] >= 1) &\n",
    "            (full['primary_cleaner.output.concentrate_ag'] >= 1) &\n",
    "            (full['primary_cleaner.output.concentrate_pb'] >= 1) &\n",
    "            (full['primary_cleaner.output.concentrate_sol'] >= 1) &\n",
    "            (full['primary_cleaner.output.concentrate_au'] >= 1) &\n",
    "            (full['final.output.concentrate_ag'] >= 1) &\n",
    "            (full['final.output.concentrate_pb'] >= 1) &\n",
    "            (full['final.output.concentrate_sol'] >= 1) &\n",
    "            (full['final.output.concentrate_au'] >= 1)]"
   ]
  },
  {
   "cell_type": "code",
   "execution_count": 22,
   "metadata": {},
   "outputs": [],
   "source": [
    "#для train убираем концентрацию до 1:\n",
    "train = train[(train['rougher.input.feed_ag'] >= 1) &\n",
    "            (train['rougher.input.feed_pb'] >= 1) &\n",
    "            (train['rougher.input.feed_sol'] >= 1) &\n",
    "            (train['rougher.input.feed_au'] >= 1) &\n",
    "            (train['rougher.output.concentrate_ag'] >= 1) &\n",
    "            (train['rougher.output.concentrate_pb'] >= 1) &\n",
    "            (train['rougher.output.concentrate_sol'] >= 1) &\n",
    "            (train['rougher.output.concentrate_au'] >= 1) &\n",
    "            (train['primary_cleaner.output.concentrate_ag'] >= 1) &\n",
    "            (train['primary_cleaner.output.concentrate_pb'] >= 1) &\n",
    "            (train['primary_cleaner.output.concentrate_sol'] >= 1) &\n",
    "            (train['primary_cleaner.output.concentrate_au'] >= 1) &\n",
    "            (train['final.output.concentrate_ag'] >= 1) &\n",
    "            (train['final.output.concentrate_pb'] >= 1) &\n",
    "            (train['final.output.concentrate_sol'] >= 1) &\n",
    "            (train['final.output.concentrate_au'] >= 1)]"
   ]
  },
  {
   "cell_type": "code",
   "execution_count": 23,
   "metadata": {},
   "outputs": [],
   "source": [
    "#для test убираем концентрацию до 1:\n",
    "test = test[(test['rougher.input.feed_ag'] >= 1) &\n",
    "            (test['rougher.input.feed_pb'] >= 1) &\n",
    "            (test['rougher.input.feed_sol'] >= 1) &\n",
    "            (test['rougher.input.feed_au'] >= 1)]"
   ]
  },
  {
   "cell_type": "markdown",
   "metadata": {},
   "source": [
    "Вывод. Концентрация Ag (серебро) падает с этапа флотации. Концентрация Pb и Au растет от этапа к этапу, но темпы роста концентрация Au (золото) выше. На этапе флотации размеры гранул на обучающей выборке - до 55, на тестовой - до 45. На этапе первичной очистки размеры гранул уменьшаются - на обучающей выборке - до 7.4, на тестовой - до 7.7. На тестовой выборке размеры гранул сконцентрированы в отрезке от 6.7 до 7.7, это свидетельствует о примерно одинаковом размере гранул на этом этапе. Этап final.output указывает на распределение максимума концентраций на отрезке от 65 до 75, технология очистки приносит результат. Выбросы в данных у нуля удалили, природу их возникновения примерно объяснили."
   ]
  },
  {
   "cell_type": "markdown",
   "metadata": {},
   "source": [
    "## Модель"
   ]
  },
  {
   "cell_type": "markdown",
   "metadata": {},
   "source": [
    "**3.1 Функция для вычисления итоговой sMAPE**"
   ]
  },
  {
   "cell_type": "code",
   "execution_count": 24,
   "metadata": {},
   "outputs": [],
   "source": [
    "#напишем функцию для вычисления sMAPE\n",
    "def sMAPE_calc(y_target, y_predict):\n",
    "    return np.mean(abs(y_target - y_predict)/((abs(y_target)+abs(y_predict))/2))*100"
   ]
  },
  {
   "cell_type": "code",
   "execution_count": 25,
   "metadata": {},
   "outputs": [],
   "source": [
    "#напишем функцию для вычисления финального sMAPE\n",
    "def final_sMAPE_calc(smape_rougher, smape_final):\n",
    "    return (0.25*smape_rougher + 0.75*smape_final)"
   ]
  },
  {
   "cell_type": "markdown",
   "metadata": {},
   "source": [
    "**3.2 Обучение моделей. Оценка их качества кросс-валидацией. Выбор лучшей модели и проверка её на тестовой выборке**"
   ]
  },
  {
   "cell_type": "code",
   "execution_count": 26,
   "metadata": {},
   "outputs": [
    {
     "name": "stdout",
     "output_type": "stream",
     "text": [
      "(13323, 52)\n",
      "(13323,)\n",
      "(13323,)\n"
     ]
    }
   ],
   "source": [
    "#разделим обучающую выборку на признаки\n",
    "features_train = np.array(train.drop(['rougher.output.recovery', 'final.output.recovery',\n",
    "                                     'rougher.output.concentrate_au', 'primary_cleaner.output.tail_pb',\n",
    "                                      'final.output.concentrate_au', 'primary_cleaner.output.concentrate_pb',\n",
    "                                      'final.output.tail_sol',\n",
    "                                      'rougher.calculation.floatbank10_sulfate_to_au_feed',\n",
    "                                      'rougher.output.tail_sol', 'final.output.tail_au',\n",
    "                                      'primary_cleaner.output.concentrate_ag',\n",
    "                                      'rougher.calculation.floatbank11_sulfate_to_au_feed',\n",
    "                                      'rougher.output.tail_ag', 'rougher.output.tail_pb',\n",
    "                                      'secondary_cleaner.output.tail_pb', 'final.output.tail_ag',\n",
    "                                      'final.output.concentrate_sol', 'primary_cleaner.output.tail_au',\n",
    "                                      'secondary_cleaner.output.tail_sol', 'secondary_cleaner.output.tail_ag',\n",
    "                                      'rougher.output.tail_au', 'rougher.output.concentrate_ag',\n",
    "                                      'primary_cleaner.output.concentrate_sol', 'final.output.concentrate_pb',\n",
    "                                      'final.output.concentrate_ag', 'secondary_cleaner.output.tail_au',\n",
    "                                      'rougher.output.concentrate_pb', 'rougher.output.concentrate_sol',\n",
    "                                      'primary_cleaner.output.tail_sol',\n",
    "                                      'rougher.calculation.sulfate_to_au_concentrate',\n",
    "                                      'final.output.tail_pb', 'primary_cleaner.output.concentrate_au',\n",
    "                                      'primary_cleaner.output.tail_ag', 'rougher.calculation.au_pb_ratio'], \n",
    "                                     axis=1)) \n",
    "\n",
    "target_train_rougher = np.array(train['rougher.output.recovery'])\n",
    "target_train_final = np.array(train['final.output.recovery'])\n",
    "#размеры\n",
    "for sample in [features_train, target_train_rougher, target_train_final]:\n",
    "    print(sample.shape)"
   ]
  },
  {
   "cell_type": "code",
   "execution_count": 27,
   "metadata": {},
   "outputs": [],
   "source": [
    "#создадим свою метрику через make_scorer, чтобы не делать кросс-валидацию руками\n",
    "score = make_scorer(sMAPE_calc, greater_is_better = False) \n",
    "#для оптимизации процесса обработки данных применим make_pipeline \n",
    "#будем использовать алгоритмы LinearRegression, DecisionTreeRegressor, RandomForestRegressor\n",
    "model_rfr = make_pipeline(StandardScaler(), RandomForestRegressor())\n",
    "model_dtr = make_pipeline(StandardScaler(), DecisionTreeRegressor())\n",
    "model_lr = make_pipeline(StandardScaler(), LinearRegression())"
   ]
  },
  {
   "cell_type": "code",
   "execution_count": 28,
   "metadata": {},
   "outputs": [],
   "source": [
    "#задаем параметры для моделей\n",
    "parameters_rfr = {'randomforestregressor__n_estimators':[1,100],\n",
    "                  'randomforestregressor__max_depth':[1,10],\n",
    "                  'randomforestregressor__random_state':[12345]}\n",
    "\n",
    "parameters_dtr = {'decisiontreeregressor__max_depth':[1,10]}\n",
    "\n",
    "parameters_lr = {'linearregression__normalize':[False]}"
   ]
  },
  {
   "cell_type": "code",
   "execution_count": 29,
   "metadata": {},
   "outputs": [],
   "source": [
    "# используем GridSearchCV для оптимизации гиперпараметров и для кросс-валидации\n",
    "grid_rougher_rfr = GridSearchCV(model_rfr, param_grid=parameters_rfr, cv=5, scoring=score)\n",
    "grid_final_rfr = GridSearchCV(model_rfr, param_grid=parameters_rfr, cv=5, scoring=score)\n",
    "\n",
    "grid_rougher_dtr = GridSearchCV(model_dtr, param_grid=parameters_dtr, cv=5, scoring=score)\n",
    "grid_final_dtr = GridSearchCV(model_dtr, param_grid=parameters_dtr, cv=5, scoring=score)\n",
    "\n",
    "grid_rougher_lr = GridSearchCV(model_lr, param_grid=parameters_lr, scoring=score)\n",
    "grid_final_lr = GridSearchCV(model_lr, param_grid=parameters_lr, scoring=score)"
   ]
  },
  {
   "cell_type": "code",
   "execution_count": 30,
   "metadata": {},
   "outputs": [
    {
     "data": {
      "text/plain": [
       "GridSearchCV(estimator=Pipeline(steps=[('standardscaler', StandardScaler()),\n",
       "                                       ('linearregression',\n",
       "                                        LinearRegression())]),\n",
       "             param_grid={'linearregression__normalize': [False]},\n",
       "             scoring=make_scorer(sMAPE_calc, greater_is_better=False))"
      ]
     },
     "execution_count": 30,
     "metadata": {},
     "output_type": "execute_result"
    }
   ],
   "source": [
    "#обучаем модели\n",
    "grid_rougher_rfr.fit(features_train, target_train_rougher)\n",
    "grid_final_rfr.fit(features_train, target_train_final)\n",
    "\n",
    "grid_rougher_dtr.fit(features_train, target_train_rougher)\n",
    "grid_final_dtr.fit(features_train, target_train_final)\n",
    "\n",
    "grid_rougher_lr.fit(features_train, target_train_rougher)\n",
    "grid_final_lr.fit(features_train, target_train_final)"
   ]
  },
  {
   "cell_type": "code",
   "execution_count": 31,
   "metadata": {},
   "outputs": [
    {
     "name": "stdout",
     "output_type": "stream",
     "text": [
      "Модель RandomForestRegressor лучший rougher = -6.608575338235129\n",
      "Модель DecisionTreeRegressor лучший rougher = -7.789665181105777\n",
      "МодельLinearRegression       лучший rougher = -7.0262230176549565\n",
      "\n",
      "Модель RandomForestRegressor лучший final = -9.122276801938472\n",
      "Модель DecisionTreeRegressor лучший final = -9.205603540291156\n",
      "Модель LinearRegression      лучший final = -10.564142056403265\n"
     ]
    }
   ],
   "source": [
    "#определим лучшую модель для целевых признаков\n",
    "best_score_rougher_rfr = grid_rougher_rfr.best_score_\n",
    "best_score_final_rfr = grid_final_rfr.best_score_\n",
    "\n",
    "best_score_rougher_dtr = grid_rougher_dtr.best_score_\n",
    "best_score_final_dtr = grid_final_dtr.best_score_\n",
    "\n",
    "best_score_rougher_lr = grid_rougher_lr.best_score_\n",
    "best_score_final_lr = grid_final_lr.best_score_\n",
    "\n",
    "print('Модель RandomForestRegressor лучший rougher =', best_score_rougher_rfr)\n",
    "print('Модель DecisionTreeRegressor лучший rougher =', best_score_rougher_dtr)\n",
    "print('МодельLinearRegression       лучший rougher =', best_score_rougher_lr)\n",
    "print()\n",
    "print('Модель RandomForestRegressor лучший final =', best_score_final_rfr)\n",
    "print('Модель DecisionTreeRegressor лучший final =', best_score_final_dtr)\n",
    "print('Модель LinearRegression      лучший final =', best_score_final_lr)"
   ]
  },
  {
   "cell_type": "code",
   "execution_count": 32,
   "metadata": {},
   "outputs": [
    {
     "name": "stdout",
     "output_type": "stream",
     "text": [
      "Модель RandomForestRegressor итоговое sMAPE = -8.493851436012637\n",
      "Модель DecisionTreeRegressor итоговое sMAPE = -8.85161895049481\n",
      "Модель LinearRegression      итоговое sMAPE = -9.679662296716188\n"
     ]
    }
   ],
   "source": [
    "#считаем final sMAPE для каждой модели\n",
    "final_smape_rfr = final_sMAPE_calc(best_score_rougher_rfr, best_score_final_rfr)\n",
    "print('Модель RandomForestRegressor итоговое sMAPE =', final_smape_rfr)\n",
    "\n",
    "final_smape_dtr = final_sMAPE_calc(best_score_rougher_dtr, best_score_final_dtr)\n",
    "print('Модель DecisionTreeRegressor итоговое sMAPE =', final_smape_dtr)\n",
    "\n",
    "final_smape_lr = final_sMAPE_calc(best_score_rougher_lr, best_score_final_lr)\n",
    "print('Модель LinearRegression      итоговое sMAPE =', final_smape_lr)"
   ]
  },
  {
   "cell_type": "code",
   "execution_count": 33,
   "metadata": {},
   "outputs": [
    {
     "name": "stdout",
     "output_type": "stream",
     "text": [
      "Симметричная средняя абсолютная процентная ошибка на тестовой выборке = 9.008\n"
     ]
    }
   ],
   "source": [
    "#на тестовой выборке считаем final sMAPE по лидеру - RandomForestRegressor\n",
    "features_test = np.array(test.drop(['rougher.output.recovery', 'final.output.recovery'], axis=1))\n",
    "target_test_rouger = np.array(test['rougher.output.recovery'])\n",
    "target_test_final = np.array(test['final.output.recovery'])\n",
    "\n",
    "test_rogher = grid_rougher_rfr.predict(features_test) \n",
    "test_final = grid_final_rfr.predict(features_test)\n",
    "\n",
    "rouger_smape_test = sMAPE_calc(target_test_rouger, test_rogher)\n",
    "final_smape_test = sMAPE_calc(target_test_final, test_final)\n",
    "\n",
    "final_smape = final_sMAPE_calc(rouger_smape_test, final_smape_test)\n",
    "print('Симметричная средняя абсолютная процентная ошибка на тестовой выборке =',\\\n",
    "      round(final_smape,3))"
   ]
  },
  {
   "cell_type": "markdown",
   "metadata": {},
   "source": [
    "Мы провели обучение на тренировочной выборке 3 (трех) моделей - RandomForestRegressor, DecisionTreeRegressor и LinearRegression с применением кросс-валидации. RandomForestRegressor показал лучшие метрики качества. Поэтому проверку на тестовой выборке проводили на нем. Симметричная средняя абсолютная процентная ошибка на тестовой выборке - 9.008."
   ]
  },
  {
   "cell_type": "markdown",
   "metadata": {},
   "source": [
    "**Проверка модели на адекватность**"
   ]
  },
  {
   "cell_type": "code",
   "execution_count": 34,
   "metadata": {},
   "outputs": [
    {
     "name": "stdout",
     "output_type": "stream",
     "text": [
      "Для стратегии mean итоговая sMAPE = 9.635\n",
      "Для стратегии median итоговая sMAPE = 9.304\n"
     ]
    }
   ],
   "source": [
    "for strategy in ['mean', 'median']:\n",
    "    dummy_rougher = DummyRegressor(strategy=strategy)\n",
    "    dummy_final = DummyRegressor(strategy=strategy)\n",
    "    \n",
    "    dummy_rougher.fit(features_train, target_train_rougher)\n",
    "    dummy_final.fit(features_train, target_train_final)\n",
    "    \n",
    "    rougher = dummy_rougher.predict(test)\n",
    "    final = dummy_final.predict(test)\n",
    "    \n",
    "    final_smape = final_sMAPE_calc(sMAPE_calc(target_test_rouger, rougher),\n",
    "                                   sMAPE_calc(target_test_final, final))\n",
    "\n",
    "    print('Для стратегии', strategy, 'итоговая sMAPE =', round(final_smape,3))"
   ]
  },
  {
   "cell_type": "markdown",
   "metadata": {},
   "source": [
    "В сравнении с константной моделью значения метрик, показанные моделью RandomForestRegressor выше. Считаем, что модель RandomForestRegressor прошла проверку на адекватность."
   ]
  },
  {
   "cell_type": "markdown",
   "metadata": {},
   "source": [
    "Общий вывод. В рамках проекта изучены загруженные файлы. Проверена корректность расчета эффективности обогащения в тренировочной выборке. Проанализированы признаки, недоступные в выборке test. Добавлены целевые признаки в тестовую выборку. Заполнены пропущенные значения в выборках train, test. Установлено, что концентрация Ag (серебро) падает с этапа флотации. Исследованы суммарные концентрации всех веществ на разных стадиях. Концентрация Pb и Au растет от этапа к этапу, но темпы роста концентрация Au (золото) выше. На этапе флотации размеры гранул на обучающей выборке - до 55, на тестовой - до 45. На этапе первичной очистки размеры гранул уменьшаются - на обучающей выборке - до 7.4, на тестовой - до 7.7. На тестовой выборке размеры гранул сконцентрированы в отрезке от 6.7 до 7.7, это свидетельствует о примерно одинаковом размере гранул на этом этапе. Этап final.output указывает на распределение максимума концентраций на отрезке от 65 до 75, технология очистки приносит результат. Также удалили выбросы в данных у нуля. \n",
    "Мы провели обучение на тренировочной выборке 3 (трех) моделей - случайный лес, дерево решений и линейную регрессию с применением кросс-валидации. Случайный лес показал лучшие метрики качества. Поэтому проверку на тестовой выборке проводили на нем. Симметричная средняя абсолютная процентная ошибка на тестовой выборке - 9.008. Проведена проверка модели на адекватность. Лучшая итоговая оценка smape константной модели на тестовых данных равна 9.304.\n",
    "Прототипом модели машинного обучения для «Цифры» рекомендуем модель RandomForestRegressor, так как эта модель предсказывает коэффициент восстановления золота из золотосодержащей руды наилучшим образом."
   ]
  },
  {
   "cell_type": "code",
   "execution_count": null,
   "metadata": {},
   "outputs": [],
   "source": []
  }
 ],
 "metadata": {
  "ExecuteTimeLog": [
   {
    "duration": 2015,
    "start_time": "2023-03-27T18:34:14.809Z"
   },
   {
    "duration": 2939,
    "start_time": "2023-03-27T18:35:57.112Z"
   },
   {
    "duration": 981,
    "start_time": "2023-03-27T18:37:51.410Z"
   },
   {
    "duration": 847,
    "start_time": "2023-03-27T18:44:57.329Z"
   },
   {
    "duration": 4,
    "start_time": "2023-03-27T18:46:54.537Z"
   },
   {
    "duration": 16,
    "start_time": "2023-03-27T18:47:37.104Z"
   },
   {
    "duration": 5,
    "start_time": "2023-03-27T18:48:28.804Z"
   },
   {
    "duration": 5,
    "start_time": "2023-03-27T18:49:07.243Z"
   },
   {
    "duration": 5,
    "start_time": "2023-03-27T18:49:26.300Z"
   },
   {
    "duration": 3,
    "start_time": "2023-03-27T18:53:50.555Z"
   },
   {
    "duration": 9,
    "start_time": "2023-03-27T18:53:52.026Z"
   },
   {
    "duration": 4,
    "start_time": "2023-03-27T18:53:57.206Z"
   },
   {
    "duration": 14,
    "start_time": "2023-03-27T18:59:20.894Z"
   },
   {
    "duration": 11,
    "start_time": "2023-03-27T19:00:32.214Z"
   },
   {
    "duration": 36,
    "start_time": "2023-03-27T19:05:42.188Z"
   },
   {
    "duration": 18,
    "start_time": "2023-03-27T19:07:15.820Z"
   },
   {
    "duration": 21,
    "start_time": "2023-03-27T19:07:48.418Z"
   },
   {
    "duration": 48,
    "start_time": "2023-03-27T19:11:17.264Z"
   },
   {
    "duration": 23,
    "start_time": "2023-03-27T19:11:53.213Z"
   },
   {
    "duration": 13,
    "start_time": "2023-03-27T19:12:06.312Z"
   },
   {
    "duration": 9,
    "start_time": "2023-03-27T19:22:05.351Z"
   },
   {
    "duration": 12,
    "start_time": "2023-03-27T19:22:54.201Z"
   },
   {
    "duration": 7,
    "start_time": "2023-03-27T19:23:39.637Z"
   },
   {
    "duration": 8,
    "start_time": "2023-03-27T19:23:41.827Z"
   },
   {
    "duration": 7,
    "start_time": "2023-03-27T19:23:44.406Z"
   },
   {
    "duration": 260,
    "start_time": "2023-03-27T19:25:05.547Z"
   },
   {
    "duration": 224,
    "start_time": "2023-03-27T19:25:23.712Z"
   },
   {
    "duration": 585,
    "start_time": "2023-03-27T19:26:08.242Z"
   },
   {
    "duration": 403,
    "start_time": "2023-03-27T19:41:30.394Z"
   },
   {
    "duration": 448,
    "start_time": "2023-03-27T19:43:15.295Z"
   },
   {
    "duration": 437,
    "start_time": "2023-03-27T19:44:03.798Z"
   },
   {
    "duration": 522,
    "start_time": "2023-03-27T19:44:14.420Z"
   },
   {
    "duration": 505,
    "start_time": "2023-03-27T19:44:23.212Z"
   },
   {
    "duration": 463,
    "start_time": "2023-03-27T19:44:27.764Z"
   },
   {
    "duration": 602,
    "start_time": "2023-03-27T19:44:42.534Z"
   },
   {
    "duration": 478,
    "start_time": "2023-03-27T19:44:53.615Z"
   },
   {
    "duration": 496,
    "start_time": "2023-03-27T19:45:02.135Z"
   },
   {
    "duration": 391,
    "start_time": "2023-03-27T19:45:23.516Z"
   },
   {
    "duration": 567,
    "start_time": "2023-03-27T19:45:28.028Z"
   },
   {
    "duration": 413,
    "start_time": "2023-03-27T19:45:36.738Z"
   },
   {
    "duration": 359,
    "start_time": "2023-03-27T19:45:40.208Z"
   },
   {
    "duration": 372,
    "start_time": "2023-03-27T19:45:45.104Z"
   },
   {
    "duration": 517,
    "start_time": "2023-03-27T19:45:52.212Z"
   },
   {
    "duration": 550,
    "start_time": "2023-03-27T19:45:55.263Z"
   },
   {
    "duration": 589,
    "start_time": "2023-03-27T19:46:06.935Z"
   },
   {
    "duration": 678,
    "start_time": "2023-03-27T19:46:34.240Z"
   },
   {
    "duration": 465,
    "start_time": "2023-03-27T19:46:40.936Z"
   },
   {
    "duration": 477,
    "start_time": "2023-03-27T19:47:00.315Z"
   },
   {
    "duration": 406,
    "start_time": "2023-03-27T19:48:14.210Z"
   },
   {
    "duration": 554,
    "start_time": "2023-03-27T19:48:23.507Z"
   },
   {
    "duration": 453,
    "start_time": "2023-03-27T19:48:27.660Z"
   },
   {
    "duration": 501,
    "start_time": "2023-03-27T19:49:10.230Z"
   },
   {
    "duration": 46,
    "start_time": "2023-03-27T20:06:28.630Z"
   },
   {
    "duration": 51,
    "start_time": "2023-03-27T20:08:15.089Z"
   },
   {
    "duration": 148,
    "start_time": "2023-03-27T20:08:18.812Z"
   },
   {
    "duration": 1151,
    "start_time": "2023-03-27T20:08:49.012Z"
   },
   {
    "duration": 1075,
    "start_time": "2023-03-27T20:10:45.427Z"
   },
   {
    "duration": 13,
    "start_time": "2023-03-27T20:19:08.949Z"
   },
   {
    "duration": 7,
    "start_time": "2023-03-27T20:20:21.327Z"
   },
   {
    "duration": 940,
    "start_time": "2023-03-27T20:20:33.308Z"
   },
   {
    "duration": 4,
    "start_time": "2023-03-27T20:29:05.023Z"
   },
   {
    "duration": 4,
    "start_time": "2023-03-27T20:29:32.988Z"
   },
   {
    "duration": 5,
    "start_time": "2023-03-27T20:29:33.497Z"
   },
   {
    "duration": 1858,
    "start_time": "2023-03-27T20:30:26.507Z"
   },
   {
    "duration": 1846,
    "start_time": "2023-03-27T20:30:28.368Z"
   },
   {
    "duration": 1212,
    "start_time": "2023-03-27T20:30:30.223Z"
   },
   {
    "duration": 4,
    "start_time": "2023-03-27T20:30:31.438Z"
   },
   {
    "duration": 33,
    "start_time": "2023-03-27T20:30:31.445Z"
   },
   {
    "duration": 12,
    "start_time": "2023-03-27T20:30:31.489Z"
   },
   {
    "duration": 35,
    "start_time": "2023-03-27T20:30:31.505Z"
   },
   {
    "duration": 42,
    "start_time": "2023-03-27T20:30:31.542Z"
   },
   {
    "duration": 31,
    "start_time": "2023-03-27T20:30:31.589Z"
   },
   {
    "duration": 17,
    "start_time": "2023-03-27T20:30:31.623Z"
   },
   {
    "duration": 20,
    "start_time": "2023-03-27T20:30:31.642Z"
   },
   {
    "duration": 16,
    "start_time": "2023-03-27T20:30:31.664Z"
   },
   {
    "duration": 32,
    "start_time": "2023-03-27T20:30:31.686Z"
   },
   {
    "duration": 290,
    "start_time": "2023-03-27T20:30:31.721Z"
   },
   {
    "duration": 602,
    "start_time": "2023-03-27T20:30:32.013Z"
   },
   {
    "duration": 536,
    "start_time": "2023-03-27T20:30:32.618Z"
   },
   {
    "duration": 43,
    "start_time": "2023-03-27T20:30:33.156Z"
   },
   {
    "duration": 1215,
    "start_time": "2023-03-27T20:30:33.206Z"
   },
   {
    "duration": 19,
    "start_time": "2023-03-27T20:30:34.423Z"
   },
   {
    "duration": 32,
    "start_time": "2023-03-27T20:30:34.445Z"
   },
   {
    "duration": 8,
    "start_time": "2023-03-27T20:30:34.478Z"
   },
   {
    "duration": 9,
    "start_time": "2023-03-27T20:30:34.488Z"
   },
   {
    "duration": 23,
    "start_time": "2023-03-27T20:30:34.498Z"
   },
   {
    "duration": 15,
    "start_time": "2023-03-27T20:32:54.596Z"
   },
   {
    "duration": 10,
    "start_time": "2023-03-27T20:39:44.423Z"
   },
   {
    "duration": 10,
    "start_time": "2023-03-27T20:40:15.137Z"
   },
   {
    "duration": 3,
    "start_time": "2023-03-27T20:44:26.038Z"
   },
   {
    "duration": 10,
    "start_time": "2023-03-27T20:45:08.465Z"
   },
   {
    "duration": 4,
    "start_time": "2023-03-27T20:46:09.125Z"
   },
   {
    "duration": 4,
    "start_time": "2023-03-27T20:46:58.009Z"
   },
   {
    "duration": 1585,
    "start_time": "2023-03-27T20:51:40.848Z"
   },
   {
    "duration": 897,
    "start_time": "2023-03-27T20:51:42.436Z"
   },
   {
    "duration": 1011,
    "start_time": "2023-03-27T20:51:43.334Z"
   },
   {
    "duration": 3,
    "start_time": "2023-03-27T20:51:44.348Z"
   },
   {
    "duration": 13,
    "start_time": "2023-03-27T20:51:44.353Z"
   },
   {
    "duration": 16,
    "start_time": "2023-03-27T20:51:44.368Z"
   },
   {
    "duration": 18,
    "start_time": "2023-03-27T20:51:44.386Z"
   },
   {
    "duration": 40,
    "start_time": "2023-03-27T20:51:44.406Z"
   },
   {
    "duration": 14,
    "start_time": "2023-03-27T20:51:44.448Z"
   },
   {
    "duration": 23,
    "start_time": "2023-03-27T20:51:44.465Z"
   },
   {
    "duration": 11,
    "start_time": "2023-03-27T20:51:44.490Z"
   },
   {
    "duration": 16,
    "start_time": "2023-03-27T20:51:44.503Z"
   },
   {
    "duration": 15,
    "start_time": "2023-03-27T20:51:44.521Z"
   },
   {
    "duration": 223,
    "start_time": "2023-03-27T20:51:44.538Z"
   },
   {
    "duration": 515,
    "start_time": "2023-03-27T20:51:44.763Z"
   },
   {
    "duration": 458,
    "start_time": "2023-03-27T20:51:45.280Z"
   },
   {
    "duration": 44,
    "start_time": "2023-03-27T20:51:45.739Z"
   },
   {
    "duration": 1047,
    "start_time": "2023-03-27T20:51:45.785Z"
   },
   {
    "duration": 16,
    "start_time": "2023-03-27T20:51:46.836Z"
   },
   {
    "duration": 59,
    "start_time": "2023-03-27T20:51:46.853Z"
   },
   {
    "duration": 18,
    "start_time": "2023-03-27T20:51:46.917Z"
   },
   {
    "duration": 3,
    "start_time": "2023-03-27T20:51:46.936Z"
   },
   {
    "duration": 49,
    "start_time": "2023-03-27T20:51:46.941Z"
   },
   {
    "duration": 33,
    "start_time": "2023-03-27T20:51:46.992Z"
   },
   {
    "duration": 3,
    "start_time": "2023-03-27T20:51:47.027Z"
   },
   {
    "duration": 6,
    "start_time": "2023-03-27T20:51:47.031Z"
   },
   {
    "duration": 10,
    "start_time": "2023-03-27T20:51:47.038Z"
   },
   {
    "duration": 5,
    "start_time": "2023-03-27T20:51:47.051Z"
   },
   {
    "duration": 1556,
    "start_time": "2023-03-27T20:54:56.926Z"
   },
   {
    "duration": 803,
    "start_time": "2023-03-27T20:54:58.484Z"
   },
   {
    "duration": 994,
    "start_time": "2023-03-27T20:54:59.295Z"
   },
   {
    "duration": 9,
    "start_time": "2023-03-27T20:55:00.290Z"
   },
   {
    "duration": 55,
    "start_time": "2023-03-27T20:55:00.306Z"
   },
   {
    "duration": 42,
    "start_time": "2023-03-27T20:55:00.362Z"
   },
   {
    "duration": 29,
    "start_time": "2023-03-27T20:55:00.406Z"
   },
   {
    "duration": 64,
    "start_time": "2023-03-27T20:55:00.437Z"
   },
   {
    "duration": 31,
    "start_time": "2023-03-27T20:55:00.504Z"
   },
   {
    "duration": 15,
    "start_time": "2023-03-27T20:55:00.537Z"
   },
   {
    "duration": 31,
    "start_time": "2023-03-27T20:55:00.554Z"
   },
   {
    "duration": 43,
    "start_time": "2023-03-27T20:55:00.587Z"
   },
   {
    "duration": 47,
    "start_time": "2023-03-27T20:55:00.631Z"
   },
   {
    "duration": 246,
    "start_time": "2023-03-27T20:55:00.682Z"
   },
   {
    "duration": 469,
    "start_time": "2023-03-27T20:55:00.932Z"
   },
   {
    "duration": 444,
    "start_time": "2023-03-27T20:55:01.403Z"
   },
   {
    "duration": 60,
    "start_time": "2023-03-27T20:55:01.849Z"
   },
   {
    "duration": 1072,
    "start_time": "2023-03-27T20:55:01.912Z"
   },
   {
    "duration": 22,
    "start_time": "2023-03-27T20:55:02.988Z"
   },
   {
    "duration": 20,
    "start_time": "2023-03-27T20:55:03.011Z"
   },
   {
    "duration": 8,
    "start_time": "2023-03-27T20:55:03.033Z"
   },
   {
    "duration": 5,
    "start_time": "2023-03-27T20:55:03.046Z"
   },
   {
    "duration": 2,
    "start_time": "2023-03-27T20:55:03.052Z"
   },
   {
    "duration": 21,
    "start_time": "2023-03-27T20:55:03.073Z"
   },
   {
    "duration": 15,
    "start_time": "2023-03-27T20:55:03.095Z"
   },
   {
    "duration": 14,
    "start_time": "2023-03-27T20:55:03.115Z"
   },
   {
    "duration": 2,
    "start_time": "2023-03-27T20:55:03.132Z"
   },
   {
    "duration": 9,
    "start_time": "2023-03-27T20:55:03.136Z"
   },
   {
    "duration": 1453,
    "start_time": "2023-03-27T20:58:12.996Z"
   },
   {
    "duration": 798,
    "start_time": "2023-03-27T20:58:14.451Z"
   },
   {
    "duration": 987,
    "start_time": "2023-03-27T20:58:15.250Z"
   },
   {
    "duration": 3,
    "start_time": "2023-03-27T20:58:16.238Z"
   },
   {
    "duration": 11,
    "start_time": "2023-03-27T20:58:16.243Z"
   },
   {
    "duration": 20,
    "start_time": "2023-03-27T20:58:16.255Z"
   },
   {
    "duration": 27,
    "start_time": "2023-03-27T20:58:16.277Z"
   },
   {
    "duration": 29,
    "start_time": "2023-03-27T20:58:16.305Z"
   },
   {
    "duration": 12,
    "start_time": "2023-03-27T20:58:16.336Z"
   },
   {
    "duration": 24,
    "start_time": "2023-03-27T20:58:16.350Z"
   },
   {
    "duration": 11,
    "start_time": "2023-03-27T20:58:16.376Z"
   },
   {
    "duration": 8,
    "start_time": "2023-03-27T20:58:16.389Z"
   },
   {
    "duration": 14,
    "start_time": "2023-03-27T20:58:16.399Z"
   },
   {
    "duration": 215,
    "start_time": "2023-03-27T20:58:16.418Z"
   },
   {
    "duration": 581,
    "start_time": "2023-03-27T20:58:16.635Z"
   },
   {
    "duration": 461,
    "start_time": "2023-03-27T20:58:17.218Z"
   },
   {
    "duration": 48,
    "start_time": "2023-03-27T20:58:17.680Z"
   },
   {
    "duration": 1068,
    "start_time": "2023-03-27T20:58:17.730Z"
   },
   {
    "duration": 20,
    "start_time": "2023-03-27T20:58:18.799Z"
   },
   {
    "duration": 15,
    "start_time": "2023-03-27T20:58:18.820Z"
   },
   {
    "duration": 6,
    "start_time": "2023-03-27T20:58:18.836Z"
   },
   {
    "duration": 5,
    "start_time": "2023-03-27T20:58:18.843Z"
   },
   {
    "duration": 5,
    "start_time": "2023-03-27T20:58:18.849Z"
   },
   {
    "duration": 18,
    "start_time": "2023-03-27T20:58:18.856Z"
   },
   {
    "duration": 6,
    "start_time": "2023-03-27T20:58:18.875Z"
   },
   {
    "duration": 3,
    "start_time": "2023-03-27T20:58:18.883Z"
   },
   {
    "duration": 7,
    "start_time": "2023-03-27T20:58:18.888Z"
   },
   {
    "duration": 7,
    "start_time": "2023-03-27T20:58:18.896Z"
   },
   {
    "duration": 329878,
    "start_time": "2023-03-27T20:58:18.905Z"
   },
   {
    "duration": 21,
    "start_time": "2023-03-27T21:03:48.788Z"
   },
   {
    "duration": 3,
    "start_time": "2023-03-27T21:07:16.511Z"
   },
   {
    "duration": 4,
    "start_time": "2023-03-27T21:07:17.394Z"
   },
   {
    "duration": 1507,
    "start_time": "2023-03-27T21:07:49.006Z"
   },
   {
    "duration": 767,
    "start_time": "2023-03-27T21:07:50.515Z"
   },
   {
    "duration": 1038,
    "start_time": "2023-03-27T21:07:51.284Z"
   },
   {
    "duration": 3,
    "start_time": "2023-03-27T21:07:52.325Z"
   },
   {
    "duration": 15,
    "start_time": "2023-03-27T21:07:52.330Z"
   },
   {
    "duration": 5,
    "start_time": "2023-03-27T21:07:52.346Z"
   },
   {
    "duration": 40,
    "start_time": "2023-03-27T21:07:52.353Z"
   },
   {
    "duration": 34,
    "start_time": "2023-03-27T21:07:52.395Z"
   },
   {
    "duration": 18,
    "start_time": "2023-03-27T21:07:52.431Z"
   },
   {
    "duration": 15,
    "start_time": "2023-03-27T21:07:52.451Z"
   },
   {
    "duration": 11,
    "start_time": "2023-03-27T21:07:52.478Z"
   },
   {
    "duration": 9,
    "start_time": "2023-03-27T21:07:52.491Z"
   },
   {
    "duration": 8,
    "start_time": "2023-03-27T21:07:52.502Z"
   },
   {
    "duration": 247,
    "start_time": "2023-03-27T21:07:52.513Z"
   },
   {
    "duration": 466,
    "start_time": "2023-03-27T21:07:52.768Z"
   },
   {
    "duration": 437,
    "start_time": "2023-03-27T21:07:53.236Z"
   },
   {
    "duration": 56,
    "start_time": "2023-03-27T21:07:53.674Z"
   },
   {
    "duration": 992,
    "start_time": "2023-03-27T21:07:53.732Z"
   },
   {
    "duration": 15,
    "start_time": "2023-03-27T21:07:54.726Z"
   },
   {
    "duration": 37,
    "start_time": "2023-03-27T21:07:54.743Z"
   },
   {
    "duration": 7,
    "start_time": "2023-03-27T21:07:54.782Z"
   },
   {
    "duration": 10,
    "start_time": "2023-03-27T21:07:54.791Z"
   },
   {
    "duration": 10,
    "start_time": "2023-03-27T21:07:54.802Z"
   },
   {
    "duration": 13,
    "start_time": "2023-03-27T21:07:54.815Z"
   },
   {
    "duration": 3,
    "start_time": "2023-03-27T21:07:54.830Z"
   },
   {
    "duration": 10,
    "start_time": "2023-03-27T21:07:54.835Z"
   },
   {
    "duration": 4,
    "start_time": "2023-03-27T21:07:54.847Z"
   },
   {
    "duration": 5,
    "start_time": "2023-03-27T21:07:54.852Z"
   },
   {
    "duration": 327333,
    "start_time": "2023-03-27T21:07:54.859Z"
   },
   {
    "duration": 72,
    "start_time": "2023-03-27T21:13:22.199Z"
   },
   {
    "duration": 4,
    "start_time": "2023-03-27T21:21:36.753Z"
   },
   {
    "duration": 5,
    "start_time": "2023-03-27T21:22:23.868Z"
   },
   {
    "duration": 3,
    "start_time": "2023-03-27T21:27:32.722Z"
   },
   {
    "duration": 3,
    "start_time": "2023-03-27T21:36:31.664Z"
   },
   {
    "duration": 25,
    "start_time": "2023-03-27T21:38:10.215Z"
   },
   {
    "duration": 141,
    "start_time": "2023-03-27T21:39:23.093Z"
   },
   {
    "duration": 5,
    "start_time": "2023-03-27T21:41:34.807Z"
   },
   {
    "duration": 5084,
    "start_time": "2023-03-27T21:41:42.993Z"
   },
   {
    "duration": 4653,
    "start_time": "2023-03-27T21:43:01.923Z"
   },
   {
    "duration": 14,
    "start_time": "2023-03-27T21:43:19.438Z"
   },
   {
    "duration": 13,
    "start_time": "2023-03-27T21:44:05.214Z"
   },
   {
    "duration": 27701,
    "start_time": "2023-03-27T21:45:06.037Z"
   },
   {
    "duration": 14,
    "start_time": "2023-03-27T21:46:48.794Z"
   },
   {
    "duration": 1515,
    "start_time": "2023-03-27T21:47:38.561Z"
   },
   {
    "duration": 785,
    "start_time": "2023-03-27T21:47:40.077Z"
   },
   {
    "duration": 921,
    "start_time": "2023-03-27T21:47:40.864Z"
   },
   {
    "duration": 7,
    "start_time": "2023-03-27T21:47:41.787Z"
   },
   {
    "duration": 13,
    "start_time": "2023-03-27T21:47:41.795Z"
   },
   {
    "duration": 12,
    "start_time": "2023-03-27T21:47:41.816Z"
   },
   {
    "duration": 18,
    "start_time": "2023-03-27T21:47:41.830Z"
   },
   {
    "duration": 22,
    "start_time": "2023-03-27T21:47:41.850Z"
   },
   {
    "duration": 21,
    "start_time": "2023-03-27T21:47:41.873Z"
   },
   {
    "duration": 21,
    "start_time": "2023-03-27T21:47:41.897Z"
   },
   {
    "duration": 7,
    "start_time": "2023-03-27T21:47:41.920Z"
   },
   {
    "duration": 16,
    "start_time": "2023-03-27T21:47:41.929Z"
   },
   {
    "duration": 20,
    "start_time": "2023-03-27T21:47:41.946Z"
   },
   {
    "duration": 228,
    "start_time": "2023-03-27T21:47:41.967Z"
   },
   {
    "duration": 508,
    "start_time": "2023-03-27T21:47:42.196Z"
   },
   {
    "duration": 483,
    "start_time": "2023-03-27T21:47:42.706Z"
   },
   {
    "duration": 38,
    "start_time": "2023-03-27T21:47:43.191Z"
   },
   {
    "duration": 1003,
    "start_time": "2023-03-27T21:47:43.230Z"
   },
   {
    "duration": 15,
    "start_time": "2023-03-27T21:47:44.234Z"
   },
   {
    "duration": 17,
    "start_time": "2023-03-27T21:47:44.251Z"
   },
   {
    "duration": 7,
    "start_time": "2023-03-27T21:47:44.270Z"
   },
   {
    "duration": 7,
    "start_time": "2023-03-27T21:47:44.279Z"
   },
   {
    "duration": 39,
    "start_time": "2023-03-27T21:47:44.287Z"
   },
   {
    "duration": 4079,
    "start_time": "2023-03-27T21:47:44.328Z"
   },
   {
    "duration": 27398,
    "start_time": "2023-03-27T21:47:48.423Z"
   },
   {
    "duration": 1422,
    "start_time": "2023-03-27T21:53:59.225Z"
   },
   {
    "duration": 740,
    "start_time": "2023-03-27T21:54:00.649Z"
   },
   {
    "duration": 912,
    "start_time": "2023-03-27T21:54:01.391Z"
   },
   {
    "duration": 5,
    "start_time": "2023-03-27T21:54:02.304Z"
   },
   {
    "duration": 12,
    "start_time": "2023-03-27T21:54:02.317Z"
   },
   {
    "duration": 4,
    "start_time": "2023-03-27T21:54:02.331Z"
   },
   {
    "duration": 12,
    "start_time": "2023-03-27T21:54:02.337Z"
   },
   {
    "duration": 42,
    "start_time": "2023-03-27T21:54:02.350Z"
   },
   {
    "duration": 22,
    "start_time": "2023-03-27T21:54:02.394Z"
   },
   {
    "duration": 18,
    "start_time": "2023-03-27T21:54:02.418Z"
   },
   {
    "duration": 9,
    "start_time": "2023-03-27T21:54:02.437Z"
   },
   {
    "duration": 31,
    "start_time": "2023-03-27T21:54:02.448Z"
   },
   {
    "duration": 19,
    "start_time": "2023-03-27T21:54:02.481Z"
   },
   {
    "duration": 234,
    "start_time": "2023-03-27T21:54:02.506Z"
   },
   {
    "duration": 498,
    "start_time": "2023-03-27T21:54:02.743Z"
   },
   {
    "duration": 420,
    "start_time": "2023-03-27T21:54:03.242Z"
   },
   {
    "duration": 45,
    "start_time": "2023-03-27T21:54:03.663Z"
   },
   {
    "duration": 962,
    "start_time": "2023-03-27T21:54:03.711Z"
   },
   {
    "duration": 33,
    "start_time": "2023-03-27T21:54:04.682Z"
   },
   {
    "duration": 13,
    "start_time": "2023-03-27T21:54:04.719Z"
   },
   {
    "duration": 6,
    "start_time": "2023-03-27T21:54:04.733Z"
   },
   {
    "duration": 6,
    "start_time": "2023-03-27T21:54:04.740Z"
   },
   {
    "duration": 45,
    "start_time": "2023-03-27T21:54:04.747Z"
   },
   {
    "duration": 3685,
    "start_time": "2023-03-27T21:54:04.801Z"
   },
   {
    "duration": 1374,
    "start_time": "2023-03-27T21:57:02.648Z"
   },
   {
    "duration": 749,
    "start_time": "2023-03-27T21:57:04.024Z"
   },
   {
    "duration": 919,
    "start_time": "2023-03-27T21:57:04.774Z"
   },
   {
    "duration": 7,
    "start_time": "2023-03-27T21:57:05.695Z"
   },
   {
    "duration": 20,
    "start_time": "2023-03-27T21:57:05.704Z"
   },
   {
    "duration": 5,
    "start_time": "2023-03-27T21:57:05.726Z"
   },
   {
    "duration": 22,
    "start_time": "2023-03-27T21:57:05.733Z"
   },
   {
    "duration": 34,
    "start_time": "2023-03-27T21:57:05.757Z"
   },
   {
    "duration": 23,
    "start_time": "2023-03-27T21:57:05.799Z"
   },
   {
    "duration": 36,
    "start_time": "2023-03-27T21:57:05.824Z"
   },
   {
    "duration": 8,
    "start_time": "2023-03-27T21:57:05.861Z"
   },
   {
    "duration": 23,
    "start_time": "2023-03-27T21:57:05.871Z"
   },
   {
    "duration": 12,
    "start_time": "2023-03-27T21:57:05.895Z"
   },
   {
    "duration": 214,
    "start_time": "2023-03-27T21:57:05.908Z"
   },
   {
    "duration": 431,
    "start_time": "2023-03-27T21:57:06.124Z"
   },
   {
    "duration": 406,
    "start_time": "2023-03-27T21:57:06.556Z"
   },
   {
    "duration": 43,
    "start_time": "2023-03-27T21:57:06.964Z"
   },
   {
    "duration": 920,
    "start_time": "2023-03-27T21:57:07.013Z"
   },
   {
    "duration": 14,
    "start_time": "2023-03-27T21:57:07.934Z"
   },
   {
    "duration": 40,
    "start_time": "2023-03-27T21:57:07.950Z"
   },
   {
    "duration": 14,
    "start_time": "2023-03-27T21:57:07.992Z"
   },
   {
    "duration": 27,
    "start_time": "2023-03-27T21:57:08.008Z"
   },
   {
    "duration": 55,
    "start_time": "2023-03-27T21:57:08.038Z"
   },
   {
    "duration": 5614,
    "start_time": "2023-03-27T21:57:08.095Z"
   },
   {
    "duration": 118,
    "start_time": "2023-03-27T22:00:31.297Z"
   },
   {
    "duration": 1436,
    "start_time": "2023-03-27T22:01:41.038Z"
   },
   {
    "duration": 784,
    "start_time": "2023-03-27T22:01:42.476Z"
   },
   {
    "duration": 919,
    "start_time": "2023-03-27T22:01:43.262Z"
   },
   {
    "duration": 4,
    "start_time": "2023-03-27T22:01:44.183Z"
   },
   {
    "duration": 12,
    "start_time": "2023-03-27T22:01:44.189Z"
   },
   {
    "duration": 13,
    "start_time": "2023-03-27T22:01:44.205Z"
   },
   {
    "duration": 27,
    "start_time": "2023-03-27T22:01:44.220Z"
   },
   {
    "duration": 26,
    "start_time": "2023-03-27T22:01:44.248Z"
   },
   {
    "duration": 18,
    "start_time": "2023-03-27T22:01:44.278Z"
   },
   {
    "duration": 18,
    "start_time": "2023-03-27T22:01:44.299Z"
   },
   {
    "duration": 8,
    "start_time": "2023-03-27T22:01:44.319Z"
   },
   {
    "duration": 7,
    "start_time": "2023-03-27T22:01:44.328Z"
   },
   {
    "duration": 37,
    "start_time": "2023-03-27T22:01:44.337Z"
   },
   {
    "duration": 238,
    "start_time": "2023-03-27T22:01:44.376Z"
   },
   {
    "duration": 467,
    "start_time": "2023-03-27T22:01:44.617Z"
   },
   {
    "duration": 440,
    "start_time": "2023-03-27T22:01:45.085Z"
   },
   {
    "duration": 31,
    "start_time": "2023-03-27T22:01:45.527Z"
   },
   {
    "duration": 972,
    "start_time": "2023-03-27T22:01:45.560Z"
   },
   {
    "duration": 15,
    "start_time": "2023-03-27T22:01:46.534Z"
   },
   {
    "duration": 27,
    "start_time": "2023-03-27T22:01:46.550Z"
   },
   {
    "duration": 7,
    "start_time": "2023-03-27T22:01:46.578Z"
   },
   {
    "duration": 11,
    "start_time": "2023-03-27T22:01:46.587Z"
   },
   {
    "duration": 38,
    "start_time": "2023-03-27T22:01:46.600Z"
   },
   {
    "duration": 4879,
    "start_time": "2023-03-27T22:01:46.640Z"
   },
   {
    "duration": 289475,
    "start_time": "2023-03-27T22:01:51.573Z"
   },
   {
    "duration": 117,
    "start_time": "2023-03-27T22:06:41.049Z"
   },
   {
    "duration": 3741,
    "start_time": "2023-03-27T22:11:09.729Z"
   },
   {
    "duration": 4017,
    "start_time": "2023-03-27T22:11:43.065Z"
   },
   {
    "duration": 37,
    "start_time": "2023-03-27T22:16:14.664Z"
   },
   {
    "duration": 26928,
    "start_time": "2023-03-27T22:16:22.133Z"
   },
   {
    "duration": 217,
    "start_time": "2023-03-27T22:17:06.508Z"
   },
   {
    "duration": 9,
    "start_time": "2023-03-27T22:21:52.815Z"
   },
   {
    "duration": 6,
    "start_time": "2023-03-27T22:21:54.450Z"
   },
   {
    "duration": 5,
    "start_time": "2023-03-27T22:25:29.069Z"
   },
   {
    "duration": 3,
    "start_time": "2023-03-27T22:26:53.293Z"
   },
   {
    "duration": 5,
    "start_time": "2023-03-27T22:27:06.494Z"
   },
   {
    "duration": 7,
    "start_time": "2023-03-27T22:27:30.596Z"
   },
   {
    "duration": 3,
    "start_time": "2023-03-27T22:27:51.897Z"
   },
   {
    "duration": 4,
    "start_time": "2023-03-27T22:28:06.506Z"
   },
   {
    "duration": 1444,
    "start_time": "2023-03-27T22:30:57.398Z"
   },
   {
    "duration": 794,
    "start_time": "2023-03-27T22:30:58.843Z"
   },
   {
    "duration": 891,
    "start_time": "2023-03-27T22:30:59.638Z"
   },
   {
    "duration": 3,
    "start_time": "2023-03-27T22:31:00.530Z"
   },
   {
    "duration": 22,
    "start_time": "2023-03-27T22:31:00.535Z"
   },
   {
    "duration": 39,
    "start_time": "2023-03-27T22:31:00.558Z"
   },
   {
    "duration": 33,
    "start_time": "2023-03-27T22:31:00.599Z"
   },
   {
    "duration": 45,
    "start_time": "2023-03-27T22:31:00.634Z"
   },
   {
    "duration": 25,
    "start_time": "2023-03-27T22:31:00.680Z"
   },
   {
    "duration": 34,
    "start_time": "2023-03-27T22:31:00.714Z"
   },
   {
    "duration": 11,
    "start_time": "2023-03-27T22:31:00.749Z"
   },
   {
    "duration": 50,
    "start_time": "2023-03-27T22:31:00.762Z"
   },
   {
    "duration": 20,
    "start_time": "2023-03-27T22:31:00.814Z"
   },
   {
    "duration": 252,
    "start_time": "2023-03-27T22:31:00.837Z"
   },
   {
    "duration": 486,
    "start_time": "2023-03-27T22:31:01.091Z"
   },
   {
    "duration": 445,
    "start_time": "2023-03-27T22:31:01.580Z"
   },
   {
    "duration": 31,
    "start_time": "2023-03-27T22:31:02.026Z"
   },
   {
    "duration": 989,
    "start_time": "2023-03-27T22:31:02.058Z"
   },
   {
    "duration": 31,
    "start_time": "2023-03-27T22:31:03.048Z"
   },
   {
    "duration": 20,
    "start_time": "2023-03-27T22:31:03.080Z"
   },
   {
    "duration": 7,
    "start_time": "2023-03-27T22:31:03.101Z"
   },
   {
    "duration": 12,
    "start_time": "2023-03-27T22:31:03.109Z"
   },
   {
    "duration": 29,
    "start_time": "2023-03-27T22:31:03.123Z"
   },
   {
    "duration": 5165,
    "start_time": "2023-03-27T22:31:03.153Z"
   },
   {
    "duration": 297037,
    "start_time": "2023-03-27T22:31:08.324Z"
   },
   {
    "duration": 3840,
    "start_time": "2023-03-27T22:36:05.363Z"
   },
   {
    "duration": 25955,
    "start_time": "2023-03-27T22:36:09.206Z"
   },
   {
    "duration": 230,
    "start_time": "2023-03-27T22:36:35.163Z"
   },
   {
    "duration": 9,
    "start_time": "2023-03-27T22:36:35.399Z"
   },
   {
    "duration": 6,
    "start_time": "2023-03-27T22:36:35.411Z"
   },
   {
    "duration": 5,
    "start_time": "2023-03-27T22:36:35.419Z"
   },
   {
    "duration": 3,
    "start_time": "2023-03-27T22:36:35.426Z"
   },
   {
    "duration": 9,
    "start_time": "2023-03-27T22:36:35.430Z"
   },
   {
    "duration": 4,
    "start_time": "2023-03-27T22:36:35.440Z"
   },
   {
    "duration": 4,
    "start_time": "2023-03-27T22:36:35.445Z"
   },
   {
    "duration": 3,
    "start_time": "2023-03-27T22:36:35.450Z"
   },
   {
    "duration": 1310,
    "start_time": "2023-03-27T22:39:58.099Z"
   },
   {
    "duration": 673,
    "start_time": "2023-03-27T22:39:59.411Z"
   },
   {
    "duration": 846,
    "start_time": "2023-03-27T22:40:00.087Z"
   },
   {
    "duration": 3,
    "start_time": "2023-03-27T22:40:00.935Z"
   },
   {
    "duration": 50,
    "start_time": "2023-03-27T22:40:00.940Z"
   },
   {
    "duration": 35,
    "start_time": "2023-03-27T22:40:00.994Z"
   },
   {
    "duration": 26,
    "start_time": "2023-03-27T22:40:01.030Z"
   },
   {
    "duration": 22,
    "start_time": "2023-03-27T22:40:01.058Z"
   },
   {
    "duration": 21,
    "start_time": "2023-03-27T22:40:01.081Z"
   },
   {
    "duration": 18,
    "start_time": "2023-03-27T22:40:01.104Z"
   },
   {
    "duration": 21,
    "start_time": "2023-03-27T22:40:01.124Z"
   },
   {
    "duration": 13,
    "start_time": "2023-03-27T22:40:01.147Z"
   },
   {
    "duration": 10,
    "start_time": "2023-03-27T22:40:01.162Z"
   },
   {
    "duration": 207,
    "start_time": "2023-03-27T22:40:01.176Z"
   },
   {
    "duration": 427,
    "start_time": "2023-03-27T22:40:01.385Z"
   },
   {
    "duration": 399,
    "start_time": "2023-03-27T22:40:01.813Z"
   },
   {
    "duration": 29,
    "start_time": "2023-03-27T22:40:02.213Z"
   },
   {
    "duration": 900,
    "start_time": "2023-03-27T22:40:02.244Z"
   },
   {
    "duration": 14,
    "start_time": "2023-03-27T22:40:03.146Z"
   },
   {
    "duration": 35,
    "start_time": "2023-03-27T22:40:03.173Z"
   },
   {
    "duration": 6,
    "start_time": "2023-03-27T22:40:03.209Z"
   },
   {
    "duration": 8,
    "start_time": "2023-03-27T22:40:03.216Z"
   },
   {
    "duration": 29,
    "start_time": "2023-03-27T22:40:03.225Z"
   },
   {
    "duration": 6246,
    "start_time": "2023-03-27T22:40:03.255Z"
   },
   {
    "duration": 1321,
    "start_time": "2023-03-27T22:41:29.499Z"
   },
   {
    "duration": 676,
    "start_time": "2023-03-27T22:41:30.822Z"
   },
   {
    "duration": 831,
    "start_time": "2023-03-27T22:41:31.502Z"
   },
   {
    "duration": 3,
    "start_time": "2023-03-27T22:41:32.335Z"
   },
   {
    "duration": 10,
    "start_time": "2023-03-27T22:41:32.340Z"
   },
   {
    "duration": 29,
    "start_time": "2023-03-27T22:41:32.351Z"
   },
   {
    "duration": 15,
    "start_time": "2023-03-27T22:41:32.382Z"
   },
   {
    "duration": 23,
    "start_time": "2023-03-27T22:41:32.398Z"
   },
   {
    "duration": 13,
    "start_time": "2023-03-27T22:41:32.422Z"
   },
   {
    "duration": 14,
    "start_time": "2023-03-27T22:41:32.436Z"
   },
   {
    "duration": 8,
    "start_time": "2023-03-27T22:41:32.474Z"
   },
   {
    "duration": 21,
    "start_time": "2023-03-27T22:41:32.484Z"
   },
   {
    "duration": 13,
    "start_time": "2023-03-27T22:41:32.507Z"
   },
   {
    "duration": 204,
    "start_time": "2023-03-27T22:41:32.523Z"
   },
   {
    "duration": 430,
    "start_time": "2023-03-27T22:41:32.729Z"
   },
   {
    "duration": 381,
    "start_time": "2023-03-27T22:41:33.160Z"
   },
   {
    "duration": 47,
    "start_time": "2023-03-27T22:41:33.542Z"
   },
   {
    "duration": 855,
    "start_time": "2023-03-27T22:41:33.595Z"
   },
   {
    "duration": 34,
    "start_time": "2023-03-27T22:41:34.451Z"
   },
   {
    "duration": 19,
    "start_time": "2023-03-27T22:41:34.490Z"
   },
   {
    "duration": 5,
    "start_time": "2023-03-27T22:41:34.510Z"
   },
   {
    "duration": 7,
    "start_time": "2023-03-27T22:41:34.516Z"
   },
   {
    "duration": 26,
    "start_time": "2023-03-27T22:41:34.524Z"
   },
   {
    "duration": 4917,
    "start_time": "2023-03-27T22:41:34.552Z"
   },
   {
    "duration": 285240,
    "start_time": "2023-03-27T22:41:39.471Z"
   },
   {
    "duration": 3814,
    "start_time": "2023-03-27T22:46:24.713Z"
   },
   {
    "duration": 25248,
    "start_time": "2023-03-27T22:46:28.529Z"
   },
   {
    "duration": 217,
    "start_time": "2023-03-27T22:46:53.779Z"
   },
   {
    "duration": 8,
    "start_time": "2023-03-27T22:46:53.998Z"
   },
   {
    "duration": 11,
    "start_time": "2023-03-27T22:46:54.008Z"
   },
   {
    "duration": 22,
    "start_time": "2023-03-27T22:46:54.020Z"
   },
   {
    "duration": 3,
    "start_time": "2023-03-27T22:46:54.044Z"
   },
   {
    "duration": 8,
    "start_time": "2023-03-27T22:46:54.048Z"
   },
   {
    "duration": 4,
    "start_time": "2023-03-27T22:46:54.057Z"
   },
   {
    "duration": 4,
    "start_time": "2023-03-27T22:46:54.062Z"
   },
   {
    "duration": 12,
    "start_time": "2023-03-27T22:46:54.067Z"
   },
   {
    "duration": 1278,
    "start_time": "2023-03-27T22:52:32.453Z"
   },
   {
    "duration": 673,
    "start_time": "2023-03-27T22:52:33.733Z"
   },
   {
    "duration": 898,
    "start_time": "2023-03-27T22:52:34.407Z"
   },
   {
    "duration": 3,
    "start_time": "2023-03-27T22:52:35.307Z"
   },
   {
    "duration": 13,
    "start_time": "2023-03-27T22:52:35.311Z"
   },
   {
    "duration": 4,
    "start_time": "2023-03-27T22:52:35.325Z"
   },
   {
    "duration": 12,
    "start_time": "2023-03-27T22:52:35.330Z"
   },
   {
    "duration": 46,
    "start_time": "2023-03-27T22:52:35.343Z"
   },
   {
    "duration": 17,
    "start_time": "2023-03-27T22:52:35.390Z"
   },
   {
    "duration": 13,
    "start_time": "2023-03-27T22:52:35.409Z"
   },
   {
    "duration": 9,
    "start_time": "2023-03-27T22:52:35.424Z"
   },
   {
    "duration": 7,
    "start_time": "2023-03-27T22:52:35.434Z"
   },
   {
    "duration": 43,
    "start_time": "2023-03-27T22:52:35.443Z"
   },
   {
    "duration": 209,
    "start_time": "2023-03-27T22:52:35.490Z"
   },
   {
    "duration": 423,
    "start_time": "2023-03-27T22:52:35.702Z"
   },
   {
    "duration": 395,
    "start_time": "2023-03-27T22:52:36.126Z"
   },
   {
    "duration": 30,
    "start_time": "2023-03-27T22:52:36.522Z"
   },
   {
    "duration": 890,
    "start_time": "2023-03-27T22:52:36.553Z"
   },
   {
    "duration": 14,
    "start_time": "2023-03-27T22:52:37.444Z"
   },
   {
    "duration": 32,
    "start_time": "2023-03-27T22:52:37.459Z"
   },
   {
    "duration": 9,
    "start_time": "2023-03-27T22:52:37.497Z"
   },
   {
    "duration": 8,
    "start_time": "2023-03-27T22:52:37.508Z"
   },
   {
    "duration": 4,
    "start_time": "2023-03-27T22:52:37.518Z"
   },
   {
    "duration": 104,
    "start_time": "2023-03-27T22:52:37.523Z"
   },
   {
    "duration": 0,
    "start_time": "2023-03-27T22:52:37.629Z"
   },
   {
    "duration": 0,
    "start_time": "2023-03-27T22:52:37.630Z"
   },
   {
    "duration": 0,
    "start_time": "2023-03-27T22:52:37.631Z"
   },
   {
    "duration": 0,
    "start_time": "2023-03-27T22:52:37.631Z"
   },
   {
    "duration": 0,
    "start_time": "2023-03-27T22:52:37.633Z"
   },
   {
    "duration": 0,
    "start_time": "2023-03-27T22:52:37.633Z"
   },
   {
    "duration": 0,
    "start_time": "2023-03-27T22:52:37.634Z"
   },
   {
    "duration": 11,
    "start_time": "2023-03-27T22:54:01.485Z"
   },
   {
    "duration": 4,
    "start_time": "2023-03-27T22:54:39.149Z"
   },
   {
    "duration": 10,
    "start_time": "2023-03-27T22:55:48.902Z"
   },
   {
    "duration": 4,
    "start_time": "2023-03-27T22:56:36.744Z"
   },
   {
    "duration": 3,
    "start_time": "2023-03-27T22:56:39.889Z"
   },
   {
    "duration": 3,
    "start_time": "2023-03-27T22:56:59.635Z"
   },
   {
    "duration": 1263,
    "start_time": "2023-03-27T22:57:17.311Z"
   },
   {
    "duration": 657,
    "start_time": "2023-03-27T22:57:18.582Z"
   },
   {
    "duration": 832,
    "start_time": "2023-03-27T22:57:19.240Z"
   },
   {
    "duration": 7,
    "start_time": "2023-03-27T22:57:20.075Z"
   },
   {
    "duration": 18,
    "start_time": "2023-03-27T22:57:20.085Z"
   },
   {
    "duration": 4,
    "start_time": "2023-03-27T22:57:20.104Z"
   },
   {
    "duration": 15,
    "start_time": "2023-03-27T22:57:20.109Z"
   },
   {
    "duration": 33,
    "start_time": "2023-03-27T22:57:20.125Z"
   },
   {
    "duration": 24,
    "start_time": "2023-03-27T22:57:20.160Z"
   },
   {
    "duration": 15,
    "start_time": "2023-03-27T22:57:20.188Z"
   },
   {
    "duration": 8,
    "start_time": "2023-03-27T22:57:20.205Z"
   },
   {
    "duration": 7,
    "start_time": "2023-03-27T22:57:20.215Z"
   },
   {
    "duration": 13,
    "start_time": "2023-03-27T22:57:20.223Z"
   },
   {
    "duration": 204,
    "start_time": "2023-03-27T22:57:20.238Z"
   },
   {
    "duration": 417,
    "start_time": "2023-03-27T22:57:20.443Z"
   },
   {
    "duration": 388,
    "start_time": "2023-03-27T22:57:20.862Z"
   },
   {
    "duration": 43,
    "start_time": "2023-03-27T22:57:21.251Z"
   },
   {
    "duration": 821,
    "start_time": "2023-03-27T22:57:21.295Z"
   },
   {
    "duration": 15,
    "start_time": "2023-03-27T22:57:22.118Z"
   },
   {
    "duration": 16,
    "start_time": "2023-03-27T22:57:22.134Z"
   },
   {
    "duration": 25,
    "start_time": "2023-03-27T22:57:22.151Z"
   },
   {
    "duration": 4,
    "start_time": "2023-03-27T22:57:22.179Z"
   },
   {
    "duration": 15,
    "start_time": "2023-03-27T22:57:22.185Z"
   },
   {
    "duration": 16,
    "start_time": "2023-03-27T22:57:22.202Z"
   },
   {
    "duration": 4,
    "start_time": "2023-03-27T22:57:22.219Z"
   },
   {
    "duration": 3,
    "start_time": "2023-03-27T22:57:22.225Z"
   },
   {
    "duration": 4,
    "start_time": "2023-03-27T22:57:22.229Z"
   },
   {
    "duration": 1260,
    "start_time": "2023-03-27T23:02:08.129Z"
   },
   {
    "duration": 648,
    "start_time": "2023-03-27T23:02:09.391Z"
   },
   {
    "duration": 822,
    "start_time": "2023-03-27T23:02:10.041Z"
   },
   {
    "duration": 6,
    "start_time": "2023-03-27T23:02:10.868Z"
   },
   {
    "duration": 14,
    "start_time": "2023-03-27T23:02:10.876Z"
   },
   {
    "duration": 4,
    "start_time": "2023-03-27T23:02:10.891Z"
   },
   {
    "duration": 12,
    "start_time": "2023-03-27T23:02:10.896Z"
   },
   {
    "duration": 20,
    "start_time": "2023-03-27T23:02:10.909Z"
   },
   {
    "duration": 38,
    "start_time": "2023-03-27T23:02:10.931Z"
   },
   {
    "duration": 14,
    "start_time": "2023-03-27T23:02:10.976Z"
   },
   {
    "duration": 6,
    "start_time": "2023-03-27T23:02:10.992Z"
   },
   {
    "duration": 6,
    "start_time": "2023-03-27T23:02:11.000Z"
   },
   {
    "duration": 5,
    "start_time": "2023-03-27T23:02:11.007Z"
   },
   {
    "duration": 219,
    "start_time": "2023-03-27T23:02:11.014Z"
   },
   {
    "duration": 410,
    "start_time": "2023-03-27T23:02:11.234Z"
   },
   {
    "duration": 382,
    "start_time": "2023-03-27T23:02:11.646Z"
   },
   {
    "duration": 29,
    "start_time": "2023-03-27T23:02:12.029Z"
   },
   {
    "duration": 853,
    "start_time": "2023-03-27T23:02:12.060Z"
   },
   {
    "duration": 14,
    "start_time": "2023-03-27T23:02:12.915Z"
   },
   {
    "duration": 13,
    "start_time": "2023-03-27T23:02:12.931Z"
   },
   {
    "duration": 6,
    "start_time": "2023-03-27T23:02:12.945Z"
   },
   {
    "duration": 7,
    "start_time": "2023-03-27T23:02:12.968Z"
   },
   {
    "duration": 8,
    "start_time": "2023-03-27T23:02:12.977Z"
   },
   {
    "duration": 11,
    "start_time": "2023-03-27T23:02:12.987Z"
   },
   {
    "duration": 4,
    "start_time": "2023-03-27T23:02:12.999Z"
   },
   {
    "duration": 17,
    "start_time": "2023-03-27T23:02:13.004Z"
   },
   {
    "duration": 6,
    "start_time": "2023-03-27T23:02:13.022Z"
   },
   {
    "duration": 350749,
    "start_time": "2023-03-27T23:02:13.031Z"
   },
   {
    "duration": 89,
    "start_time": "2023-03-27T23:08:03.785Z"
   },
   {
    "duration": 5,
    "start_time": "2023-03-27T23:08:03.878Z"
   },
   {
    "duration": 95,
    "start_time": "2023-03-27T23:08:03.885Z"
   },
   {
    "duration": 3,
    "start_time": "2023-03-27T23:29:03.395Z"
   },
   {
    "duration": 76,
    "start_time": "2023-03-27T23:29:13.265Z"
   },
   {
    "duration": 8,
    "start_time": "2023-03-27T23:29:26.243Z"
   },
   {
    "duration": 4,
    "start_time": "2023-03-27T23:30:18.550Z"
   },
   {
    "duration": 1279,
    "start_time": "2023-03-27T23:34:39.357Z"
   },
   {
    "duration": 644,
    "start_time": "2023-03-27T23:34:40.638Z"
   },
   {
    "duration": 829,
    "start_time": "2023-03-27T23:34:41.286Z"
   },
   {
    "duration": 3,
    "start_time": "2023-03-27T23:34:42.116Z"
   },
   {
    "duration": 13,
    "start_time": "2023-03-27T23:34:42.121Z"
   },
   {
    "duration": 4,
    "start_time": "2023-03-27T23:34:42.135Z"
   },
   {
    "duration": 42,
    "start_time": "2023-03-27T23:34:42.140Z"
   },
   {
    "duration": 22,
    "start_time": "2023-03-27T23:34:42.183Z"
   },
   {
    "duration": 14,
    "start_time": "2023-03-27T23:34:42.208Z"
   },
   {
    "duration": 13,
    "start_time": "2023-03-27T23:34:42.224Z"
   },
   {
    "duration": 39,
    "start_time": "2023-03-27T23:34:42.238Z"
   },
   {
    "duration": 9,
    "start_time": "2023-03-27T23:34:42.279Z"
   },
   {
    "duration": 7,
    "start_time": "2023-03-27T23:34:42.289Z"
   },
   {
    "duration": 232,
    "start_time": "2023-03-27T23:34:42.298Z"
   },
   {
    "duration": 413,
    "start_time": "2023-03-27T23:34:42.532Z"
   },
   {
    "duration": 376,
    "start_time": "2023-03-27T23:34:42.946Z"
   },
   {
    "duration": 31,
    "start_time": "2023-03-27T23:34:43.324Z"
   },
   {
    "duration": 840,
    "start_time": "2023-03-27T23:34:43.356Z"
   },
   {
    "duration": 16,
    "start_time": "2023-03-27T23:34:44.198Z"
   },
   {
    "duration": 15,
    "start_time": "2023-03-27T23:34:44.215Z"
   },
   {
    "duration": 6,
    "start_time": "2023-03-27T23:34:44.231Z"
   },
   {
    "duration": 6,
    "start_time": "2023-03-27T23:34:44.239Z"
   },
   {
    "duration": 34,
    "start_time": "2023-03-27T23:34:44.247Z"
   },
   {
    "duration": 15,
    "start_time": "2023-03-27T23:34:44.284Z"
   },
   {
    "duration": 11,
    "start_time": "2023-03-27T23:34:44.300Z"
   },
   {
    "duration": 5,
    "start_time": "2023-03-27T23:34:44.313Z"
   },
   {
    "duration": 3,
    "start_time": "2023-03-27T23:34:44.321Z"
   },
   {
    "duration": 348358,
    "start_time": "2023-03-27T23:34:44.326Z"
   },
   {
    "duration": 98,
    "start_time": "2023-03-27T23:40:32.687Z"
   },
   {
    "duration": 81,
    "start_time": "2023-03-27T23:40:32.790Z"
   },
   {
    "duration": 71,
    "start_time": "2023-03-27T23:40:32.877Z"
   },
   {
    "duration": 6,
    "start_time": "2023-03-27T23:40:32.950Z"
   },
   {
    "duration": 1272,
    "start_time": "2023-03-28T00:15:34.819Z"
   },
   {
    "duration": 672,
    "start_time": "2023-03-28T00:15:36.095Z"
   },
   {
    "duration": 828,
    "start_time": "2023-03-28T00:15:36.777Z"
   },
   {
    "duration": 3,
    "start_time": "2023-03-28T00:15:37.607Z"
   },
   {
    "duration": 10,
    "start_time": "2023-03-28T00:15:37.611Z"
   },
   {
    "duration": 3,
    "start_time": "2023-03-28T00:15:37.622Z"
   },
   {
    "duration": 15,
    "start_time": "2023-03-28T00:15:37.626Z"
   },
   {
    "duration": 50,
    "start_time": "2023-03-28T00:15:37.642Z"
   },
   {
    "duration": 13,
    "start_time": "2023-03-28T00:15:37.693Z"
   },
   {
    "duration": 12,
    "start_time": "2023-03-28T00:15:37.708Z"
   },
   {
    "duration": 7,
    "start_time": "2023-03-28T00:15:37.721Z"
   },
   {
    "duration": 15,
    "start_time": "2023-03-28T00:15:37.729Z"
   },
   {
    "duration": 6,
    "start_time": "2023-03-28T00:15:37.745Z"
   },
   {
    "duration": 196,
    "start_time": "2023-03-28T00:15:37.769Z"
   },
   {
    "duration": 434,
    "start_time": "2023-03-28T00:15:37.967Z"
   },
   {
    "duration": 408,
    "start_time": "2023-03-28T00:15:38.403Z"
   },
   {
    "duration": 30,
    "start_time": "2023-03-28T00:15:38.812Z"
   },
   {
    "duration": 872,
    "start_time": "2023-03-28T00:15:38.843Z"
   },
   {
    "duration": 15,
    "start_time": "2023-03-28T00:15:39.716Z"
   },
   {
    "duration": 15,
    "start_time": "2023-03-28T00:15:39.732Z"
   },
   {
    "duration": 28,
    "start_time": "2023-03-28T00:15:39.749Z"
   },
   {
    "duration": 14,
    "start_time": "2023-03-28T00:15:39.779Z"
   },
   {
    "duration": 7,
    "start_time": "2023-03-28T00:15:39.796Z"
   },
   {
    "duration": 10,
    "start_time": "2023-03-28T00:15:39.804Z"
   },
   {
    "duration": 8,
    "start_time": "2023-03-28T00:15:39.816Z"
   },
   {
    "duration": 5,
    "start_time": "2023-03-28T00:15:39.825Z"
   },
   {
    "duration": 5,
    "start_time": "2023-03-28T00:15:39.831Z"
   },
   {
    "duration": 356232,
    "start_time": "2023-03-28T00:15:39.838Z"
   },
   {
    "duration": 7,
    "start_time": "2023-03-28T00:21:36.082Z"
   },
   {
    "duration": 5,
    "start_time": "2023-03-28T00:21:36.090Z"
   },
   {
    "duration": 118,
    "start_time": "2023-03-28T00:21:36.096Z"
   },
   {
    "duration": 7,
    "start_time": "2023-03-28T00:21:36.215Z"
   },
   {
    "duration": 53,
    "start_time": "2023-03-28T06:55:27.225Z"
   },
   {
    "duration": 1586,
    "start_time": "2023-03-28T06:55:42.833Z"
   },
   {
    "duration": 1736,
    "start_time": "2023-03-28T06:55:44.421Z"
   },
   {
    "duration": 912,
    "start_time": "2023-03-28T06:55:46.160Z"
   },
   {
    "duration": 3,
    "start_time": "2023-03-28T06:55:47.074Z"
   },
   {
    "duration": 14,
    "start_time": "2023-03-28T06:55:47.078Z"
   },
   {
    "duration": 4,
    "start_time": "2023-03-28T06:55:47.093Z"
   },
   {
    "duration": 22,
    "start_time": "2023-03-28T06:55:47.098Z"
   },
   {
    "duration": 23,
    "start_time": "2023-03-28T06:55:47.140Z"
   },
   {
    "duration": 13,
    "start_time": "2023-03-28T06:55:47.164Z"
   },
   {
    "duration": 13,
    "start_time": "2023-03-28T06:55:47.180Z"
   },
   {
    "duration": 7,
    "start_time": "2023-03-28T06:55:47.195Z"
   },
   {
    "duration": 38,
    "start_time": "2023-03-28T06:55:47.204Z"
   },
   {
    "duration": 8,
    "start_time": "2023-03-28T06:55:47.244Z"
   },
   {
    "duration": 226,
    "start_time": "2023-03-28T06:55:47.254Z"
   },
   {
    "duration": 411,
    "start_time": "2023-03-28T06:55:47.482Z"
   },
   {
    "duration": 427,
    "start_time": "2023-03-28T06:55:47.895Z"
   },
   {
    "duration": 37,
    "start_time": "2023-03-28T06:55:48.324Z"
   },
   {
    "duration": 812,
    "start_time": "2023-03-28T06:55:48.363Z"
   },
   {
    "duration": 15,
    "start_time": "2023-03-28T06:55:49.176Z"
   },
   {
    "duration": 13,
    "start_time": "2023-03-28T06:55:49.192Z"
   },
   {
    "duration": 5,
    "start_time": "2023-03-28T06:55:49.207Z"
   },
   {
    "duration": 3,
    "start_time": "2023-03-28T06:55:49.214Z"
   },
   {
    "duration": 23,
    "start_time": "2023-03-28T06:55:49.218Z"
   },
   {
    "duration": 9,
    "start_time": "2023-03-28T06:55:49.243Z"
   },
   {
    "duration": 4,
    "start_time": "2023-03-28T06:55:49.254Z"
   },
   {
    "duration": 3,
    "start_time": "2023-03-28T06:55:49.260Z"
   },
   {
    "duration": 5,
    "start_time": "2023-03-28T06:55:49.264Z"
   },
   {
    "duration": 455273,
    "start_time": "2023-03-28T06:55:49.273Z"
   },
   {
    "duration": 94,
    "start_time": "2023-03-28T07:03:24.548Z"
   },
   {
    "duration": 7,
    "start_time": "2023-03-28T07:03:24.643Z"
   },
   {
    "duration": 93,
    "start_time": "2023-03-28T07:03:24.652Z"
   },
   {
    "duration": 8,
    "start_time": "2023-03-28T07:03:24.747Z"
   },
   {
    "duration": 884,
    "start_time": "2023-03-28T07:09:21.654Z"
   },
   {
    "duration": 458,
    "start_time": "2023-03-28T07:09:49.098Z"
   },
   {
    "duration": 569,
    "start_time": "2023-03-28T07:10:01.861Z"
   },
   {
    "duration": 3,
    "start_time": "2023-03-28T08:04:23.335Z"
   },
   {
    "duration": 1447,
    "start_time": "2023-03-28T08:04:55.759Z"
   },
   {
    "duration": 630,
    "start_time": "2023-03-28T08:04:57.208Z"
   },
   {
    "duration": 858,
    "start_time": "2023-03-28T08:04:57.839Z"
   },
   {
    "duration": 3,
    "start_time": "2023-03-28T08:04:58.699Z"
   },
   {
    "duration": 10,
    "start_time": "2023-03-28T08:04:58.704Z"
   },
   {
    "duration": 5,
    "start_time": "2023-03-28T08:04:58.715Z"
   },
   {
    "duration": 12,
    "start_time": "2023-03-28T08:04:58.740Z"
   },
   {
    "duration": 29,
    "start_time": "2023-03-28T08:04:58.754Z"
   },
   {
    "duration": 13,
    "start_time": "2023-03-28T08:04:58.785Z"
   },
   {
    "duration": 12,
    "start_time": "2023-03-28T08:04:58.801Z"
   },
   {
    "duration": 30,
    "start_time": "2023-03-28T08:04:58.815Z"
   },
   {
    "duration": 9,
    "start_time": "2023-03-28T08:04:58.846Z"
   },
   {
    "duration": 12,
    "start_time": "2023-03-28T08:04:58.857Z"
   },
   {
    "duration": 240,
    "start_time": "2023-03-28T08:04:58.871Z"
   },
   {
    "duration": 415,
    "start_time": "2023-03-28T08:04:59.112Z"
   },
   {
    "duration": 491,
    "start_time": "2023-03-28T08:04:59.528Z"
   },
   {
    "duration": 39,
    "start_time": "2023-03-28T08:05:00.021Z"
   },
   {
    "duration": 935,
    "start_time": "2023-03-28T08:05:00.062Z"
   },
   {
    "duration": 14,
    "start_time": "2023-03-28T08:05:00.998Z"
   },
   {
    "duration": 46,
    "start_time": "2023-03-28T08:05:01.013Z"
   },
   {
    "duration": 24,
    "start_time": "2023-03-28T08:05:01.061Z"
   },
   {
    "duration": 39,
    "start_time": "2023-03-28T08:05:01.086Z"
   },
   {
    "duration": 35,
    "start_time": "2023-03-28T08:05:01.127Z"
   },
   {
    "duration": 30,
    "start_time": "2023-03-28T08:05:01.164Z"
   },
   {
    "duration": 42,
    "start_time": "2023-03-28T08:05:01.196Z"
   },
   {
    "duration": 28,
    "start_time": "2023-03-28T08:05:01.239Z"
   },
   {
    "duration": 43,
    "start_time": "2023-03-28T08:05:01.269Z"
   },
   {
    "duration": 452929,
    "start_time": "2023-03-28T08:05:01.315Z"
   },
   {
    "duration": 97,
    "start_time": "2023-03-28T08:12:34.246Z"
   },
   {
    "duration": 4,
    "start_time": "2023-03-28T08:12:34.345Z"
   },
   {
    "duration": 72,
    "start_time": "2023-03-28T08:12:34.351Z"
   },
   {
    "duration": 8,
    "start_time": "2023-03-28T08:12:34.441Z"
   },
   {
    "duration": 1276,
    "start_time": "2023-03-28T08:24:29.784Z"
   },
   {
    "duration": 629,
    "start_time": "2023-03-28T08:24:31.062Z"
   },
   {
    "duration": 844,
    "start_time": "2023-03-28T08:24:31.693Z"
   },
   {
    "duration": 4,
    "start_time": "2023-03-28T08:24:32.538Z"
   },
   {
    "duration": 11,
    "start_time": "2023-03-28T08:24:32.544Z"
   },
   {
    "duration": 4,
    "start_time": "2023-03-28T08:24:32.557Z"
   },
   {
    "duration": 15,
    "start_time": "2023-03-28T08:24:32.562Z"
   },
   {
    "duration": 23,
    "start_time": "2023-03-28T08:24:32.578Z"
   },
   {
    "duration": 43,
    "start_time": "2023-03-28T08:24:32.603Z"
   },
   {
    "duration": 12,
    "start_time": "2023-03-28T08:24:32.649Z"
   },
   {
    "duration": 6,
    "start_time": "2023-03-28T08:24:32.663Z"
   },
   {
    "duration": 8,
    "start_time": "2023-03-28T08:24:32.670Z"
   },
   {
    "duration": 7,
    "start_time": "2023-03-28T08:24:32.679Z"
   },
   {
    "duration": 233,
    "start_time": "2023-03-28T08:24:32.688Z"
   },
   {
    "duration": 419,
    "start_time": "2023-03-28T08:24:32.923Z"
   },
   {
    "duration": 473,
    "start_time": "2023-03-28T08:24:33.343Z"
   },
   {
    "duration": 38,
    "start_time": "2023-03-28T08:24:33.818Z"
   },
   {
    "duration": 888,
    "start_time": "2023-03-28T08:24:33.857Z"
   },
   {
    "duration": 13,
    "start_time": "2023-03-28T08:24:34.747Z"
   },
   {
    "duration": 13,
    "start_time": "2023-03-28T08:24:34.762Z"
   },
   {
    "duration": 6,
    "start_time": "2023-03-28T08:24:34.776Z"
   },
   {
    "duration": 5,
    "start_time": "2023-03-28T08:24:34.784Z"
   },
   {
    "duration": 3,
    "start_time": "2023-03-28T08:24:34.791Z"
   },
   {
    "duration": 10,
    "start_time": "2023-03-28T08:24:34.795Z"
   },
   {
    "duration": 4,
    "start_time": "2023-03-28T08:24:34.840Z"
   },
   {
    "duration": 4,
    "start_time": "2023-03-28T08:24:34.846Z"
   },
   {
    "duration": 5,
    "start_time": "2023-03-28T08:24:34.851Z"
   },
   {
    "duration": 452982,
    "start_time": "2023-03-28T08:24:34.859Z"
   },
   {
    "duration": 97,
    "start_time": "2023-03-28T08:32:07.843Z"
   },
   {
    "duration": 7,
    "start_time": "2023-03-28T08:32:07.942Z"
   },
   {
    "duration": 71,
    "start_time": "2023-03-28T08:32:07.951Z"
   },
   {
    "duration": 19,
    "start_time": "2023-03-28T08:32:08.024Z"
   },
   {
    "duration": 1360,
    "start_time": "2023-03-28T08:34:10.405Z"
   },
   {
    "duration": 655,
    "start_time": "2023-03-28T08:34:11.767Z"
   },
   {
    "duration": 866,
    "start_time": "2023-03-28T08:34:12.424Z"
   },
   {
    "duration": 3,
    "start_time": "2023-03-28T08:34:13.292Z"
   },
   {
    "duration": 10,
    "start_time": "2023-03-28T08:34:13.296Z"
   },
   {
    "duration": 4,
    "start_time": "2023-03-28T08:34:13.308Z"
   },
   {
    "duration": 33,
    "start_time": "2023-03-28T08:34:13.313Z"
   },
   {
    "duration": 27,
    "start_time": "2023-03-28T08:34:13.348Z"
   },
   {
    "duration": 15,
    "start_time": "2023-03-28T08:34:13.377Z"
   },
   {
    "duration": 45,
    "start_time": "2023-03-28T08:34:13.396Z"
   },
   {
    "duration": 8,
    "start_time": "2023-03-28T08:34:13.443Z"
   },
   {
    "duration": 26,
    "start_time": "2023-03-28T08:34:13.453Z"
   },
   {
    "duration": 12,
    "start_time": "2023-03-28T08:34:13.480Z"
   },
   {
    "duration": 205,
    "start_time": "2023-03-28T08:34:13.493Z"
   },
   {
    "duration": 423,
    "start_time": "2023-03-28T08:34:13.699Z"
   },
   {
    "duration": 489,
    "start_time": "2023-03-28T08:34:14.123Z"
   },
   {
    "duration": 39,
    "start_time": "2023-03-28T08:34:14.614Z"
   },
   {
    "duration": 923,
    "start_time": "2023-03-28T08:34:14.654Z"
   },
   {
    "duration": 15,
    "start_time": "2023-03-28T08:34:15.579Z"
   },
   {
    "duration": 14,
    "start_time": "2023-03-28T08:34:15.596Z"
   },
   {
    "duration": 7,
    "start_time": "2023-03-28T08:34:15.612Z"
   },
   {
    "duration": 3,
    "start_time": "2023-03-28T08:34:15.641Z"
   },
   {
    "duration": 9,
    "start_time": "2023-03-28T08:34:15.646Z"
   },
   {
    "duration": 11,
    "start_time": "2023-03-28T08:34:15.657Z"
   },
   {
    "duration": 8,
    "start_time": "2023-03-28T08:34:15.669Z"
   },
   {
    "duration": 4,
    "start_time": "2023-03-28T08:34:15.678Z"
   },
   {
    "duration": 4,
    "start_time": "2023-03-28T08:34:15.684Z"
   },
   {
    "duration": 453451,
    "start_time": "2023-03-28T08:34:15.691Z"
   },
   {
    "duration": 96,
    "start_time": "2023-03-28T08:41:49.144Z"
   },
   {
    "duration": 4,
    "start_time": "2023-03-28T08:41:49.242Z"
   },
   {
    "duration": 70,
    "start_time": "2023-03-28T08:41:49.248Z"
   },
   {
    "duration": 26,
    "start_time": "2023-03-28T08:41:49.320Z"
   },
   {
    "duration": 1403,
    "start_time": "2023-03-28T09:24:58.871Z"
   },
   {
    "duration": 668,
    "start_time": "2023-03-28T09:25:00.276Z"
   },
   {
    "duration": 869,
    "start_time": "2023-03-28T09:25:00.946Z"
   },
   {
    "duration": 3,
    "start_time": "2023-03-28T09:25:01.817Z"
   },
   {
    "duration": 47,
    "start_time": "2023-03-28T09:25:01.822Z"
   },
   {
    "duration": 23,
    "start_time": "2023-03-28T09:25:01.871Z"
   },
   {
    "duration": 47,
    "start_time": "2023-03-28T09:25:01.896Z"
   },
   {
    "duration": 56,
    "start_time": "2023-03-28T09:25:01.944Z"
   },
   {
    "duration": 18,
    "start_time": "2023-03-28T09:25:02.002Z"
   },
   {
    "duration": 49,
    "start_time": "2023-03-28T09:25:02.022Z"
   },
   {
    "duration": 46,
    "start_time": "2023-03-28T09:25:02.072Z"
   },
   {
    "duration": 45,
    "start_time": "2023-03-28T09:25:02.120Z"
   },
   {
    "duration": 31,
    "start_time": "2023-03-28T09:25:02.167Z"
   },
   {
    "duration": 212,
    "start_time": "2023-03-28T09:25:02.200Z"
   },
   {
    "duration": 419,
    "start_time": "2023-03-28T09:25:02.413Z"
   },
   {
    "duration": 480,
    "start_time": "2023-03-28T09:25:02.840Z"
   },
   {
    "duration": 41,
    "start_time": "2023-03-28T09:25:03.322Z"
   },
   {
    "duration": 913,
    "start_time": "2023-03-28T09:25:03.365Z"
   },
   {
    "duration": 15,
    "start_time": "2023-03-28T09:25:04.279Z"
   },
   {
    "duration": 14,
    "start_time": "2023-03-28T09:25:04.295Z"
   },
   {
    "duration": 5,
    "start_time": "2023-03-28T09:25:04.311Z"
   },
   {
    "duration": 172,
    "start_time": "2023-03-28T09:25:04.317Z"
   },
   {
    "duration": 0,
    "start_time": "2023-03-28T09:25:04.491Z"
   },
   {
    "duration": 0,
    "start_time": "2023-03-28T09:25:04.492Z"
   },
   {
    "duration": 0,
    "start_time": "2023-03-28T09:25:04.493Z"
   },
   {
    "duration": 0,
    "start_time": "2023-03-28T09:25:04.494Z"
   },
   {
    "duration": 0,
    "start_time": "2023-03-28T09:25:04.495Z"
   },
   {
    "duration": 0,
    "start_time": "2023-03-28T09:25:04.496Z"
   },
   {
    "duration": 0,
    "start_time": "2023-03-28T09:25:04.497Z"
   },
   {
    "duration": 0,
    "start_time": "2023-03-28T09:25:04.498Z"
   },
   {
    "duration": 0,
    "start_time": "2023-03-28T09:25:04.499Z"
   },
   {
    "duration": 0,
    "start_time": "2023-03-28T09:25:04.500Z"
   },
   {
    "duration": 1479,
    "start_time": "2023-03-28T09:26:46.009Z"
   },
   {
    "duration": 668,
    "start_time": "2023-03-28T09:26:47.489Z"
   },
   {
    "duration": 869,
    "start_time": "2023-03-28T09:26:48.159Z"
   },
   {
    "duration": 4,
    "start_time": "2023-03-28T09:26:49.042Z"
   },
   {
    "duration": 19,
    "start_time": "2023-03-28T09:26:49.048Z"
   },
   {
    "duration": 5,
    "start_time": "2023-03-28T09:26:49.069Z"
   },
   {
    "duration": 25,
    "start_time": "2023-03-28T09:26:49.075Z"
   },
   {
    "duration": 29,
    "start_time": "2023-03-28T09:26:49.101Z"
   },
   {
    "duration": 19,
    "start_time": "2023-03-28T09:26:49.133Z"
   },
   {
    "duration": 12,
    "start_time": "2023-03-28T09:26:49.155Z"
   },
   {
    "duration": 9,
    "start_time": "2023-03-28T09:26:49.168Z"
   },
   {
    "duration": 9,
    "start_time": "2023-03-28T09:26:49.178Z"
   },
   {
    "duration": 12,
    "start_time": "2023-03-28T09:26:49.189Z"
   },
   {
    "duration": 237,
    "start_time": "2023-03-28T09:26:49.203Z"
   },
   {
    "duration": 441,
    "start_time": "2023-03-28T09:26:49.441Z"
   },
   {
    "duration": 483,
    "start_time": "2023-03-28T09:26:49.883Z"
   },
   {
    "duration": 33,
    "start_time": "2023-03-28T09:26:50.367Z"
   },
   {
    "duration": 945,
    "start_time": "2023-03-28T09:26:50.402Z"
   },
   {
    "duration": 17,
    "start_time": "2023-03-28T09:26:51.349Z"
   },
   {
    "duration": 15,
    "start_time": "2023-03-28T09:26:51.367Z"
   },
   {
    "duration": 14,
    "start_time": "2023-03-28T09:26:51.384Z"
   },
   {
    "duration": 8,
    "start_time": "2023-03-28T09:26:51.399Z"
   },
   {
    "duration": 4,
    "start_time": "2023-03-28T09:26:51.409Z"
   },
   {
    "duration": 28,
    "start_time": "2023-03-28T09:26:51.414Z"
   },
   {
    "duration": 3,
    "start_time": "2023-03-28T09:26:51.444Z"
   },
   {
    "duration": 4,
    "start_time": "2023-03-28T09:26:51.449Z"
   },
   {
    "duration": 6,
    "start_time": "2023-03-28T09:26:51.455Z"
   },
   {
    "duration": 457177,
    "start_time": "2023-03-28T09:26:51.464Z"
   },
   {
    "duration": 96,
    "start_time": "2023-03-28T09:34:28.644Z"
   },
   {
    "duration": 21,
    "start_time": "2023-03-28T09:34:28.742Z"
   },
   {
    "duration": 76,
    "start_time": "2023-03-28T09:34:28.765Z"
   },
   {
    "duration": 8,
    "start_time": "2023-03-28T09:34:28.842Z"
   },
   {
    "duration": 1427,
    "start_time": "2023-03-28T09:45:47.529Z"
   },
   {
    "duration": 695,
    "start_time": "2023-03-28T09:45:48.958Z"
   },
   {
    "duration": 869,
    "start_time": "2023-03-28T09:45:49.655Z"
   },
   {
    "duration": 3,
    "start_time": "2023-03-28T09:45:50.527Z"
   },
   {
    "duration": 20,
    "start_time": "2023-03-28T09:45:50.531Z"
   },
   {
    "duration": 9,
    "start_time": "2023-03-28T09:45:50.553Z"
   },
   {
    "duration": 39,
    "start_time": "2023-03-28T09:45:50.563Z"
   },
   {
    "duration": 24,
    "start_time": "2023-03-28T09:45:50.604Z"
   },
   {
    "duration": 13,
    "start_time": "2023-03-28T09:45:50.629Z"
   },
   {
    "duration": 16,
    "start_time": "2023-03-28T09:45:50.645Z"
   },
   {
    "duration": 19,
    "start_time": "2023-03-28T09:45:50.662Z"
   },
   {
    "duration": 30,
    "start_time": "2023-03-28T09:45:50.682Z"
   },
   {
    "duration": 31,
    "start_time": "2023-03-28T09:45:50.714Z"
   },
   {
    "duration": 210,
    "start_time": "2023-03-28T09:45:50.747Z"
   },
   {
    "duration": 409,
    "start_time": "2023-03-28T09:45:50.958Z"
   },
   {
    "duration": 497,
    "start_time": "2023-03-28T09:45:51.369Z"
   },
   {
    "duration": 33,
    "start_time": "2023-03-28T09:45:51.867Z"
   },
   {
    "duration": 916,
    "start_time": "2023-03-28T09:45:51.902Z"
   },
   {
    "duration": 22,
    "start_time": "2023-03-28T09:45:52.820Z"
   },
   {
    "duration": 14,
    "start_time": "2023-03-28T09:45:52.844Z"
   },
   {
    "duration": 6,
    "start_time": "2023-03-28T09:45:52.859Z"
   },
   {
    "duration": 4,
    "start_time": "2023-03-28T09:45:52.867Z"
   },
   {
    "duration": 3,
    "start_time": "2023-03-28T09:45:52.872Z"
   },
   {
    "duration": 8,
    "start_time": "2023-03-28T09:45:52.877Z"
   },
   {
    "duration": 13,
    "start_time": "2023-03-28T09:45:52.887Z"
   },
   {
    "duration": 14,
    "start_time": "2023-03-28T09:45:52.902Z"
   },
   {
    "duration": 6,
    "start_time": "2023-03-28T09:45:52.918Z"
   },
   {
    "duration": 376309,
    "start_time": "2023-03-28T09:45:52.939Z"
   },
   {
    "duration": 8,
    "start_time": "2023-03-28T09:52:09.339Z"
   },
   {
    "duration": 93,
    "start_time": "2023-03-28T09:52:09.349Z"
   },
   {
    "duration": 136,
    "start_time": "2023-03-28T09:52:09.444Z"
   },
   {
    "duration": 0,
    "start_time": "2023-03-28T09:52:09.582Z"
   },
   {
    "duration": 1457,
    "start_time": "2023-03-28T09:54:37.624Z"
   },
   {
    "duration": 683,
    "start_time": "2023-03-28T09:54:39.083Z"
   },
   {
    "duration": 881,
    "start_time": "2023-03-28T09:54:39.768Z"
   },
   {
    "duration": 4,
    "start_time": "2023-03-28T09:54:40.652Z"
   },
   {
    "duration": 11,
    "start_time": "2023-03-28T09:54:40.657Z"
   },
   {
    "duration": 5,
    "start_time": "2023-03-28T09:54:40.669Z"
   },
   {
    "duration": 14,
    "start_time": "2023-03-28T09:54:40.676Z"
   },
   {
    "duration": 63,
    "start_time": "2023-03-28T09:54:40.691Z"
   },
   {
    "duration": 13,
    "start_time": "2023-03-28T09:54:40.755Z"
   },
   {
    "duration": 15,
    "start_time": "2023-03-28T09:54:40.771Z"
   },
   {
    "duration": 7,
    "start_time": "2023-03-28T09:54:40.788Z"
   },
   {
    "duration": 8,
    "start_time": "2023-03-28T09:54:40.796Z"
   },
   {
    "duration": 39,
    "start_time": "2023-03-28T09:54:40.806Z"
   },
   {
    "duration": 217,
    "start_time": "2023-03-28T09:54:40.847Z"
   },
   {
    "duration": 423,
    "start_time": "2023-03-28T09:54:41.066Z"
   },
   {
    "duration": 493,
    "start_time": "2023-03-28T09:54:41.492Z"
   },
   {
    "duration": 35,
    "start_time": "2023-03-28T09:54:41.987Z"
   },
   {
    "duration": 922,
    "start_time": "2023-03-28T09:54:42.024Z"
   },
   {
    "duration": 17,
    "start_time": "2023-03-28T09:54:42.948Z"
   },
   {
    "duration": 16,
    "start_time": "2023-03-28T09:54:42.967Z"
   },
   {
    "duration": 6,
    "start_time": "2023-03-28T09:54:42.985Z"
   },
   {
    "duration": 12,
    "start_time": "2023-03-28T09:54:42.993Z"
   },
   {
    "duration": 3,
    "start_time": "2023-03-28T09:54:43.007Z"
   },
   {
    "duration": 36,
    "start_time": "2023-03-28T09:54:43.012Z"
   },
   {
    "duration": 5,
    "start_time": "2023-03-28T09:54:43.049Z"
   },
   {
    "duration": 4,
    "start_time": "2023-03-28T09:54:43.056Z"
   },
   {
    "duration": 5,
    "start_time": "2023-03-28T09:54:43.062Z"
   },
   {
    "duration": 376379,
    "start_time": "2023-03-28T09:54:43.071Z"
   },
   {
    "duration": 90,
    "start_time": "2023-03-28T10:00:59.452Z"
   },
   {
    "duration": 10,
    "start_time": "2023-03-28T10:00:59.544Z"
   },
   {
    "duration": 155,
    "start_time": "2023-03-28T10:00:59.555Z"
   },
   {
    "duration": 0,
    "start_time": "2023-03-28T10:00:59.712Z"
   },
   {
    "duration": 3,
    "start_time": "2023-03-28T10:04:41.008Z"
   },
   {
    "duration": 1388,
    "start_time": "2023-03-28T10:04:50.376Z"
   },
   {
    "duration": 683,
    "start_time": "2023-03-28T10:04:51.766Z"
   },
   {
    "duration": 860,
    "start_time": "2023-03-28T10:04:52.451Z"
   },
   {
    "duration": 3,
    "start_time": "2023-03-28T10:04:53.313Z"
   },
   {
    "duration": 25,
    "start_time": "2023-03-28T10:04:53.317Z"
   },
   {
    "duration": 4,
    "start_time": "2023-03-28T10:04:53.343Z"
   },
   {
    "duration": 22,
    "start_time": "2023-03-28T10:04:53.349Z"
   },
   {
    "duration": 27,
    "start_time": "2023-03-28T10:04:53.373Z"
   },
   {
    "duration": 13,
    "start_time": "2023-03-28T10:04:53.402Z"
   },
   {
    "duration": 28,
    "start_time": "2023-03-28T10:04:53.417Z"
   },
   {
    "duration": 8,
    "start_time": "2023-03-28T10:04:53.446Z"
   },
   {
    "duration": 8,
    "start_time": "2023-03-28T10:04:53.456Z"
   },
   {
    "duration": 8,
    "start_time": "2023-03-28T10:04:53.466Z"
   },
   {
    "duration": 237,
    "start_time": "2023-03-28T10:04:53.476Z"
   },
   {
    "duration": 431,
    "start_time": "2023-03-28T10:04:53.714Z"
   },
   {
    "duration": 494,
    "start_time": "2023-03-28T10:04:54.146Z"
   },
   {
    "duration": 32,
    "start_time": "2023-03-28T10:04:54.641Z"
   },
   {
    "duration": 917,
    "start_time": "2023-03-28T10:04:54.674Z"
   },
   {
    "duration": 15,
    "start_time": "2023-03-28T10:04:55.592Z"
   },
   {
    "duration": 14,
    "start_time": "2023-03-28T10:04:55.609Z"
   },
   {
    "duration": 7,
    "start_time": "2023-03-28T10:04:55.639Z"
   },
   {
    "duration": 8,
    "start_time": "2023-03-28T10:04:55.648Z"
   },
   {
    "duration": 6,
    "start_time": "2023-03-28T10:04:55.658Z"
   },
   {
    "duration": 19,
    "start_time": "2023-03-28T10:04:55.666Z"
   },
   {
    "duration": 8,
    "start_time": "2023-03-28T10:04:55.687Z"
   },
   {
    "duration": 4,
    "start_time": "2023-03-28T10:04:55.696Z"
   },
   {
    "duration": 6,
    "start_time": "2023-03-28T10:04:55.702Z"
   },
   {
    "duration": 455930,
    "start_time": "2023-03-28T10:04:55.711Z"
   },
   {
    "duration": 7,
    "start_time": "2023-03-28T10:12:31.643Z"
   },
   {
    "duration": 106,
    "start_time": "2023-03-28T10:12:31.651Z"
   },
   {
    "duration": 105,
    "start_time": "2023-03-28T10:12:31.758Z"
   },
   {
    "duration": 7,
    "start_time": "2023-03-28T10:12:31.865Z"
   },
   {
    "duration": 1421,
    "start_time": "2023-03-28T10:57:10.951Z"
   },
   {
    "duration": 691,
    "start_time": "2023-03-28T10:57:12.374Z"
   },
   {
    "duration": 857,
    "start_time": "2023-03-28T10:57:13.067Z"
   },
   {
    "duration": 3,
    "start_time": "2023-03-28T10:57:13.926Z"
   },
   {
    "duration": 10,
    "start_time": "2023-03-28T10:57:13.940Z"
   },
   {
    "duration": 4,
    "start_time": "2023-03-28T10:57:13.952Z"
   },
   {
    "duration": 16,
    "start_time": "2023-03-28T10:57:13.957Z"
   },
   {
    "duration": 23,
    "start_time": "2023-03-28T10:57:13.975Z"
   },
   {
    "duration": 45,
    "start_time": "2023-03-28T10:57:13.999Z"
   },
   {
    "duration": 13,
    "start_time": "2023-03-28T10:57:14.048Z"
   },
   {
    "duration": 9,
    "start_time": "2023-03-28T10:57:14.063Z"
   },
   {
    "duration": 8,
    "start_time": "2023-03-28T10:57:14.074Z"
   },
   {
    "duration": 7,
    "start_time": "2023-03-28T10:57:14.084Z"
   },
   {
    "duration": 241,
    "start_time": "2023-03-28T10:57:14.093Z"
   },
   {
    "duration": 414,
    "start_time": "2023-03-28T10:57:14.336Z"
   },
   {
    "duration": 492,
    "start_time": "2023-03-28T10:57:14.752Z"
   },
   {
    "duration": 32,
    "start_time": "2023-03-28T10:57:15.246Z"
   },
   {
    "duration": 956,
    "start_time": "2023-03-28T10:57:15.280Z"
   },
   {
    "duration": 24,
    "start_time": "2023-03-28T10:57:16.238Z"
   },
   {
    "duration": 18,
    "start_time": "2023-03-28T10:57:16.265Z"
   },
   {
    "duration": 8,
    "start_time": "2023-03-28T10:57:16.285Z"
   },
   {
    "duration": 8,
    "start_time": "2023-03-28T10:57:16.295Z"
   },
   {
    "duration": 4,
    "start_time": "2023-03-28T10:57:16.305Z"
   },
   {
    "duration": 29,
    "start_time": "2023-03-28T10:57:16.311Z"
   },
   {
    "duration": 6,
    "start_time": "2023-03-28T10:57:16.342Z"
   },
   {
    "duration": 5,
    "start_time": "2023-03-28T10:57:16.349Z"
   },
   {
    "duration": 12,
    "start_time": "2023-03-28T10:57:16.356Z"
   },
   {
    "duration": 460592,
    "start_time": "2023-03-28T10:57:16.371Z"
   },
   {
    "duration": 85,
    "start_time": "2023-03-28T11:04:56.966Z"
   },
   {
    "duration": 6,
    "start_time": "2023-03-28T11:04:57.053Z"
   },
   {
    "duration": 161,
    "start_time": "2023-03-28T11:04:57.060Z"
   },
   {
    "duration": 22,
    "start_time": "2023-03-28T11:04:57.223Z"
   },
   {
    "duration": 57,
    "start_time": "2023-03-28T16:49:45.183Z"
   },
   {
    "duration": 1843,
    "start_time": "2023-03-28T16:50:33.291Z"
   },
   {
    "duration": 84,
    "start_time": "2023-03-28T16:50:55.520Z"
   },
   {
    "duration": 16,
    "start_time": "2023-03-28T16:52:15.908Z"
   },
   {
    "duration": 18,
    "start_time": "2023-03-28T16:53:46.120Z"
   },
   {
    "duration": 1864,
    "start_time": "2023-03-28T16:54:01.134Z"
   },
   {
    "duration": 2296,
    "start_time": "2023-03-28T16:54:03.000Z"
   },
   {
    "duration": 1116,
    "start_time": "2023-03-28T16:54:05.301Z"
   },
   {
    "duration": 6,
    "start_time": "2023-03-28T16:54:06.419Z"
   },
   {
    "duration": 18,
    "start_time": "2023-03-28T16:54:06.426Z"
   },
   {
    "duration": 14,
    "start_time": "2023-03-28T16:54:06.447Z"
   },
   {
    "duration": 18,
    "start_time": "2023-03-28T16:54:06.463Z"
   },
   {
    "duration": 41,
    "start_time": "2023-03-28T16:54:06.482Z"
   },
   {
    "duration": 20,
    "start_time": "2023-03-28T16:54:06.525Z"
   },
   {
    "duration": 16,
    "start_time": "2023-03-28T16:54:06.549Z"
   },
   {
    "duration": 8,
    "start_time": "2023-03-28T16:54:06.567Z"
   },
   {
    "duration": 27,
    "start_time": "2023-03-28T16:54:06.577Z"
   },
   {
    "duration": 19,
    "start_time": "2023-03-28T16:54:06.606Z"
   },
   {
    "duration": 239,
    "start_time": "2023-03-28T16:54:06.628Z"
   },
   {
    "duration": 538,
    "start_time": "2023-03-28T16:54:06.869Z"
   },
   {
    "duration": 557,
    "start_time": "2023-03-28T16:54:07.418Z"
   },
   {
    "duration": 448,
    "start_time": "2023-03-28T16:54:07.976Z"
   },
   {
    "duration": 43,
    "start_time": "2023-03-28T16:54:08.427Z"
   },
   {
    "duration": 1319,
    "start_time": "2023-03-28T16:54:08.472Z"
   },
   {
    "duration": 30,
    "start_time": "2023-03-28T16:54:09.793Z"
   },
   {
    "duration": 21,
    "start_time": "2023-03-28T16:54:09.827Z"
   },
   {
    "duration": 6,
    "start_time": "2023-03-28T16:54:09.850Z"
   },
   {
    "duration": 13,
    "start_time": "2023-03-28T16:54:09.858Z"
   },
   {
    "duration": 5,
    "start_time": "2023-03-28T16:54:09.872Z"
   },
   {
    "duration": 12,
    "start_time": "2023-03-28T16:54:09.879Z"
   },
   {
    "duration": 24,
    "start_time": "2023-03-28T16:54:09.893Z"
   },
   {
    "duration": 3,
    "start_time": "2023-03-28T16:54:09.922Z"
   },
   {
    "duration": 5,
    "start_time": "2023-03-28T16:54:09.928Z"
   },
   {
    "duration": 1500,
    "start_time": "2023-03-28T16:59:04.038Z"
   },
   {
    "duration": 730,
    "start_time": "2023-03-28T16:59:05.540Z"
   },
   {
    "duration": 1006,
    "start_time": "2023-03-28T16:59:06.272Z"
   },
   {
    "duration": 3,
    "start_time": "2023-03-28T16:59:07.280Z"
   },
   {
    "duration": 23,
    "start_time": "2023-03-28T16:59:07.284Z"
   },
   {
    "duration": 6,
    "start_time": "2023-03-28T16:59:07.309Z"
   },
   {
    "duration": 22,
    "start_time": "2023-03-28T16:59:07.317Z"
   },
   {
    "duration": 24,
    "start_time": "2023-03-28T16:59:07.340Z"
   },
   {
    "duration": 46,
    "start_time": "2023-03-28T16:59:07.365Z"
   },
   {
    "duration": 15,
    "start_time": "2023-03-28T16:59:07.415Z"
   },
   {
    "duration": 9,
    "start_time": "2023-03-28T16:59:07.433Z"
   },
   {
    "duration": 7,
    "start_time": "2023-03-28T16:59:07.444Z"
   },
   {
    "duration": 6,
    "start_time": "2023-03-28T16:59:07.452Z"
   },
   {
    "duration": 273,
    "start_time": "2023-03-28T16:59:07.460Z"
   },
   {
    "duration": 539,
    "start_time": "2023-03-28T16:59:07.735Z"
   },
   {
    "duration": 593,
    "start_time": "2023-03-28T16:59:08.276Z"
   },
   {
    "duration": 470,
    "start_time": "2023-03-28T16:59:08.871Z"
   },
   {
    "duration": 496,
    "start_time": "2023-03-28T16:59:09.343Z"
   },
   {
    "duration": 34,
    "start_time": "2023-03-28T16:59:09.841Z"
   },
   {
    "duration": 1239,
    "start_time": "2023-03-28T16:59:09.877Z"
   },
   {
    "duration": 19,
    "start_time": "2023-03-28T16:59:11.119Z"
   },
   {
    "duration": 19,
    "start_time": "2023-03-28T16:59:11.139Z"
   },
   {
    "duration": 7,
    "start_time": "2023-03-28T16:59:11.160Z"
   },
   {
    "duration": 14,
    "start_time": "2023-03-28T16:59:11.169Z"
   },
   {
    "duration": 8,
    "start_time": "2023-03-28T16:59:11.184Z"
   },
   {
    "duration": 24,
    "start_time": "2023-03-28T16:59:11.193Z"
   },
   {
    "duration": 5,
    "start_time": "2023-03-28T16:59:11.220Z"
   },
   {
    "duration": 4,
    "start_time": "2023-03-28T16:59:11.228Z"
   },
   {
    "duration": 7,
    "start_time": "2023-03-28T16:59:11.234Z"
   },
   {
    "duration": 423262,
    "start_time": "2023-03-28T16:59:11.242Z"
   },
   {
    "duration": 7,
    "start_time": "2023-03-28T17:06:14.507Z"
   },
   {
    "duration": 14,
    "start_time": "2023-03-28T17:06:14.516Z"
   },
   {
    "duration": 91,
    "start_time": "2023-03-28T17:06:14.610Z"
   },
   {
    "duration": 11,
    "start_time": "2023-03-28T17:06:14.710Z"
   },
   {
    "duration": 438,
    "start_time": "2023-03-28T17:06:41.841Z"
   },
   {
    "duration": 411,
    "start_time": "2023-03-28T17:14:59.054Z"
   },
   {
    "duration": 466,
    "start_time": "2023-03-28T17:15:11.219Z"
   },
   {
    "duration": 423,
    "start_time": "2023-03-28T17:16:39.193Z"
   },
   {
    "duration": 376,
    "start_time": "2023-03-28T17:16:42.540Z"
   },
   {
    "duration": 1485,
    "start_time": "2023-03-28T17:19:59.185Z"
   },
   {
    "duration": 717,
    "start_time": "2023-03-28T17:20:00.683Z"
   },
   {
    "duration": 1052,
    "start_time": "2023-03-28T17:20:01.402Z"
   },
   {
    "duration": 4,
    "start_time": "2023-03-28T17:20:02.457Z"
   },
   {
    "duration": 32,
    "start_time": "2023-03-28T17:20:02.463Z"
   },
   {
    "duration": 9,
    "start_time": "2023-03-28T17:20:02.497Z"
   },
   {
    "duration": 34,
    "start_time": "2023-03-28T17:20:02.509Z"
   },
   {
    "duration": 27,
    "start_time": "2023-03-28T17:20:02.545Z"
   },
   {
    "duration": 25,
    "start_time": "2023-03-28T17:20:02.574Z"
   },
   {
    "duration": 24,
    "start_time": "2023-03-28T17:20:02.602Z"
   },
   {
    "duration": 9,
    "start_time": "2023-03-28T17:20:02.628Z"
   },
   {
    "duration": 21,
    "start_time": "2023-03-28T17:20:02.638Z"
   },
   {
    "duration": 11,
    "start_time": "2023-03-28T17:20:02.661Z"
   },
   {
    "duration": 239,
    "start_time": "2023-03-28T17:20:02.674Z"
   },
   {
    "duration": 475,
    "start_time": "2023-03-28T17:20:02.915Z"
   },
   {
    "duration": 537,
    "start_time": "2023-03-28T17:20:03.392Z"
   },
   {
    "duration": 395,
    "start_time": "2023-03-28T17:20:03.930Z"
   },
   {
    "duration": 399,
    "start_time": "2023-03-28T17:20:04.326Z"
   },
   {
    "duration": 35,
    "start_time": "2023-03-28T17:20:04.726Z"
   },
   {
    "duration": 1187,
    "start_time": "2023-03-28T17:20:04.762Z"
   },
   {
    "duration": 14,
    "start_time": "2023-03-28T17:20:05.951Z"
   },
   {
    "duration": 15,
    "start_time": "2023-03-28T17:20:05.967Z"
   },
   {
    "duration": 19,
    "start_time": "2023-03-28T17:20:05.984Z"
   },
   {
    "duration": 13,
    "start_time": "2023-03-28T17:20:06.004Z"
   },
   {
    "duration": 11,
    "start_time": "2023-03-28T17:20:06.018Z"
   },
   {
    "duration": 15,
    "start_time": "2023-03-28T17:20:06.031Z"
   },
   {
    "duration": 9,
    "start_time": "2023-03-28T17:20:06.048Z"
   },
   {
    "duration": 6,
    "start_time": "2023-03-28T17:20:06.059Z"
   },
   {
    "duration": 7,
    "start_time": "2023-03-28T17:20:06.067Z"
   },
   {
    "duration": 406443,
    "start_time": "2023-03-28T17:20:06.075Z"
   },
   {
    "duration": 93,
    "start_time": "2023-03-28T17:26:52.520Z"
   },
   {
    "duration": 6,
    "start_time": "2023-03-28T17:26:52.617Z"
   },
   {
    "duration": 168,
    "start_time": "2023-03-28T17:26:52.624Z"
   },
   {
    "duration": 10,
    "start_time": "2023-03-28T17:26:52.815Z"
   }
  ],
  "kernelspec": {
   "display_name": "Python 3 (ipykernel)",
   "language": "python",
   "name": "python3"
  },
  "language_info": {
   "codemirror_mode": {
    "name": "ipython",
    "version": 3
   },
   "file_extension": ".py",
   "mimetype": "text/x-python",
   "name": "python",
   "nbconvert_exporter": "python",
   "pygments_lexer": "ipython3",
   "version": "3.9.5"
  },
  "toc": {
   "base_numbering": 1,
   "nav_menu": {},
   "number_sections": true,
   "sideBar": true,
   "skip_h1_title": true,
   "title_cell": "Содержание",
   "title_sidebar": "Contents",
   "toc_cell": true,
   "toc_position": {
    "height": "calc(100% - 180px)",
    "left": "10px",
    "top": "150px",
    "width": "165px"
   },
   "toc_section_display": true,
   "toc_window_display": true
  }
 },
 "nbformat": 4,
 "nbformat_minor": 2
}
