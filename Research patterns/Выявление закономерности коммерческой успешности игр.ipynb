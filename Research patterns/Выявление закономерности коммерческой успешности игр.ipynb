{
 "cells": [
  {
   "cell_type": "markdown",
   "metadata": {},
   "source": [
    "# Интернет-магазин компьютерных игр. Исследование данных о продажах."
   ]
  },
  {
   "cell_type": "markdown",
   "metadata": {},
   "source": [
    "В проекте представлена статистика продаж международного интернет-магазина компьютерных игр. Также доступны данные оценки пользователей и экспертов, жанры и платформы."
   ]
  },
  {
   "cell_type": "markdown",
   "metadata": {},
   "source": [
    "**Цель исследования**  —  выявить закономерности в данных, определяющие успешность игры . В дальнейшем, результаты исследования позволят сделать ставку на потенциально популярный продукт и спланировать рекламные кампании."
   ]
  },
  {
   "cell_type": "markdown",
   "metadata": {},
   "source": [
    "**Ход исследования:**"
   ]
  },
  {
   "cell_type": "markdown",
   "metadata": {},
   "source": [
    "1. Загрузка необходимых библиотек и данных\n",
    "2. Подготовка данных\n",
    "3. Исследовательский анализ данных\n",
    "4. Портрет пользователя каждого региона\n",
    "5. Проверка гипотез\n",
    "6. Общий вывод"
   ]
  },
  {
   "cell_type": "markdown",
   "metadata": {},
   "source": [
    "**Описание данных проекта:**"
   ]
  },
  {
   "cell_type": "markdown",
   "metadata": {},
   "source": [
    "• Name — название игры <br> \n",
    "• Platform — платформа <br>\n",
    "• Year_of_Release — год выпуска <br>\n",
    "• Genre — жанр игры <br>\n",
    "• NA_sales — продажи в Северной Америке (миллионы проданных копий) <br>\n",
    "• EU_sales — продажи в Европе (миллионы проданных копий) <br>\n",
    "• JP_sales — продажи в Японии (миллионы проданных копий) <br>\n",
    "• Other_sales — продажи в других странах (миллионы проданных копий) <br>\n",
    "• Critic_Score — оценка критиков (максимум 100) <br>\n",
    "• User_Score — оценка пользователей (максимум 10) <br>\n",
    "• Rating — рейтинг от организации ESRB (англ. Entertainment Software Rating Board). Эта ассоциация определяет рейтинг компьютерных игр и присваивает им подходящую возрастную категорию."
   ]
  },
  {
   "cell_type": "markdown",
   "metadata": {},
   "source": [
    "**1. Загрузка необходимых библиотек и данных**"
   ]
  },
  {
   "cell_type": "code",
   "execution_count": 1,
   "metadata": {},
   "outputs": [],
   "source": [
    "#импортируем библиотеки\n",
    "import pandas as pd\n",
    "from matplotlib import pyplot as plt\n",
    "import numpy as np\n",
    "import matplotlib\n",
    "import plotly.express as px\n",
    "import seaborn as sns\n",
    "import warnings\n",
    "warnings.filterwarnings(action='ignore')"
   ]
  },
  {
   "cell_type": "code",
   "execution_count": 2,
   "metadata": {},
   "outputs": [],
   "source": [
    "#прочитаем файл с данными\n",
    "try:\n",
    "    df = pd.read_csv('/datasets/games.csv', sep=',')\n",
    "except:\n",
    "    df = pd.read_csv('games.csv', sep=',')"
   ]
  },
  {
   "cell_type": "code",
   "execution_count": 3,
   "metadata": {},
   "outputs": [
    {
     "data": {
      "text/html": [
       "<div>\n",
       "<style scoped>\n",
       "    .dataframe tbody tr th:only-of-type {\n",
       "        vertical-align: middle;\n",
       "    }\n",
       "\n",
       "    .dataframe tbody tr th {\n",
       "        vertical-align: top;\n",
       "    }\n",
       "\n",
       "    .dataframe thead th {\n",
       "        text-align: right;\n",
       "    }\n",
       "</style>\n",
       "<table border=\"1\" class=\"dataframe\">\n",
       "  <thead>\n",
       "    <tr style=\"text-align: right;\">\n",
       "      <th></th>\n",
       "      <th>Name</th>\n",
       "      <th>Platform</th>\n",
       "      <th>Year_of_Release</th>\n",
       "      <th>Genre</th>\n",
       "      <th>NA_sales</th>\n",
       "      <th>EU_sales</th>\n",
       "      <th>JP_sales</th>\n",
       "      <th>Other_sales</th>\n",
       "      <th>Critic_Score</th>\n",
       "      <th>User_Score</th>\n",
       "      <th>Rating</th>\n",
       "    </tr>\n",
       "  </thead>\n",
       "  <tbody>\n",
       "    <tr>\n",
       "      <th>0</th>\n",
       "      <td>Wii Sports</td>\n",
       "      <td>Wii</td>\n",
       "      <td>2006.0</td>\n",
       "      <td>Sports</td>\n",
       "      <td>41.36</td>\n",
       "      <td>28.96</td>\n",
       "      <td>3.77</td>\n",
       "      <td>8.45</td>\n",
       "      <td>76.0</td>\n",
       "      <td>8</td>\n",
       "      <td>E</td>\n",
       "    </tr>\n",
       "    <tr>\n",
       "      <th>1</th>\n",
       "      <td>Super Mario Bros.</td>\n",
       "      <td>NES</td>\n",
       "      <td>1985.0</td>\n",
       "      <td>Platform</td>\n",
       "      <td>29.08</td>\n",
       "      <td>3.58</td>\n",
       "      <td>6.81</td>\n",
       "      <td>0.77</td>\n",
       "      <td>NaN</td>\n",
       "      <td>NaN</td>\n",
       "      <td>NaN</td>\n",
       "    </tr>\n",
       "    <tr>\n",
       "      <th>2</th>\n",
       "      <td>Mario Kart Wii</td>\n",
       "      <td>Wii</td>\n",
       "      <td>2008.0</td>\n",
       "      <td>Racing</td>\n",
       "      <td>15.68</td>\n",
       "      <td>12.76</td>\n",
       "      <td>3.79</td>\n",
       "      <td>3.29</td>\n",
       "      <td>82.0</td>\n",
       "      <td>8.3</td>\n",
       "      <td>E</td>\n",
       "    </tr>\n",
       "    <tr>\n",
       "      <th>3</th>\n",
       "      <td>Wii Sports Resort</td>\n",
       "      <td>Wii</td>\n",
       "      <td>2009.0</td>\n",
       "      <td>Sports</td>\n",
       "      <td>15.61</td>\n",
       "      <td>10.93</td>\n",
       "      <td>3.28</td>\n",
       "      <td>2.95</td>\n",
       "      <td>80.0</td>\n",
       "      <td>8</td>\n",
       "      <td>E</td>\n",
       "    </tr>\n",
       "    <tr>\n",
       "      <th>4</th>\n",
       "      <td>Pokemon Red/Pokemon Blue</td>\n",
       "      <td>GB</td>\n",
       "      <td>1996.0</td>\n",
       "      <td>Role-Playing</td>\n",
       "      <td>11.27</td>\n",
       "      <td>8.89</td>\n",
       "      <td>10.22</td>\n",
       "      <td>1.00</td>\n",
       "      <td>NaN</td>\n",
       "      <td>NaN</td>\n",
       "      <td>NaN</td>\n",
       "    </tr>\n",
       "  </tbody>\n",
       "</table>\n",
       "</div>"
      ],
      "text/plain": [
       "                       Name Platform  Year_of_Release         Genre  NA_sales  \\\n",
       "0                Wii Sports      Wii           2006.0        Sports     41.36   \n",
       "1         Super Mario Bros.      NES           1985.0      Platform     29.08   \n",
       "2            Mario Kart Wii      Wii           2008.0        Racing     15.68   \n",
       "3         Wii Sports Resort      Wii           2009.0        Sports     15.61   \n",
       "4  Pokemon Red/Pokemon Blue       GB           1996.0  Role-Playing     11.27   \n",
       "\n",
       "   EU_sales  JP_sales  Other_sales  Critic_Score User_Score Rating  \n",
       "0     28.96      3.77         8.45          76.0          8      E  \n",
       "1      3.58      6.81         0.77           NaN        NaN    NaN  \n",
       "2     12.76      3.79         3.29          82.0        8.3      E  \n",
       "3     10.93      3.28         2.95          80.0          8      E  \n",
       "4      8.89     10.22         1.00           NaN        NaN    NaN  "
      ]
     },
     "execution_count": 3,
     "metadata": {},
     "output_type": "execute_result"
    }
   ],
   "source": [
    "#сделаем настройку для просмотра всех столбцов (пригодится при добавлении новых)\n",
    "pd.options.display.max_columns = 100\n",
    "# посмотрим на первые строки\n",
    "df.head()"
   ]
  },
  {
   "cell_type": "code",
   "execution_count": 4,
   "metadata": {},
   "outputs": [
    {
     "name": "stdout",
     "output_type": "stream",
     "text": [
      "<class 'pandas.core.frame.DataFrame'>\n",
      "RangeIndex: 16715 entries, 0 to 16714\n",
      "Data columns (total 11 columns):\n",
      " #   Column           Non-Null Count  Dtype  \n",
      "---  ------           --------------  -----  \n",
      " 0   Name             16713 non-null  object \n",
      " 1   Platform         16715 non-null  object \n",
      " 2   Year_of_Release  16446 non-null  float64\n",
      " 3   Genre            16713 non-null  object \n",
      " 4   NA_sales         16715 non-null  float64\n",
      " 5   EU_sales         16715 non-null  float64\n",
      " 6   JP_sales         16715 non-null  float64\n",
      " 7   Other_sales      16715 non-null  float64\n",
      " 8   Critic_Score     8137 non-null   float64\n",
      " 9   User_Score       10014 non-null  object \n",
      " 10  Rating           9949 non-null   object \n",
      "dtypes: float64(6), object(5)\n",
      "memory usage: 1.4+ MB\n"
     ]
    }
   ],
   "source": [
    "#смотрим информацию о данных\n",
    "df.info()"
   ]
  },
  {
   "cell_type": "markdown",
   "metadata": {},
   "source": [
    "  Файл действительно содержит информацию о продажах компьютерных игр в различных регионах. В результате предварительной оценки выяснилось, что тип данных в некоторых столбцах некорректный, например, пользовательский рейтинг с типом object или год релиза с типом float. Так же обязательно надо проверить данные на наличие дубликатов, по возможности, заполнить пропуски и сгруппировать данные для большей наглядности. Названия столбцов необходимо привести к нижнему регистру."
   ]
  },
  {
   "cell_type": "markdown",
   "metadata": {},
   "source": [
    "**2. Подготовка данных**"
   ]
  },
  {
   "cell_type": "code",
   "execution_count": 5,
   "metadata": {},
   "outputs": [
    {
     "data": {
      "text/plain": [
       "Index(['Name', 'Platform', 'Year_of_Release', 'Genre', 'NA_sales', 'EU_sales',\n",
       "       'JP_sales', 'Other_sales', 'Critic_Score', 'User_Score', 'Rating'],\n",
       "      dtype='object')"
      ]
     },
     "execution_count": 5,
     "metadata": {},
     "output_type": "execute_result"
    }
   ],
   "source": [
    "#список столбцов\n",
    "df.columns"
   ]
  },
  {
   "cell_type": "code",
   "execution_count": 6,
   "metadata": {},
   "outputs": [
    {
     "data": {
      "text/plain": [
       "Index(['name', 'platform', 'year_of_release', 'genre', 'na_sales', 'eu_sales',\n",
       "       'jp_sales', 'other_sales', 'critic_score', 'user_score', 'rating'],\n",
       "      dtype='object')"
      ]
     },
     "execution_count": 6,
     "metadata": {},
     "output_type": "execute_result"
    }
   ],
   "source": [
    "#приведем к нижнему регистру\n",
    "df.columns = df.columns.str.lower()\n",
    "#проверим\n",
    "df.columns"
   ]
  },
  {
   "cell_type": "markdown",
   "metadata": {},
   "source": [
    "Столбец 'year_of_release'"
   ]
  },
  {
   "cell_type": "code",
   "execution_count": 7,
   "metadata": {},
   "outputs": [
    {
     "data": {
      "text/plain": [
       "array([2006., 1985., 2008., 2009., 1996., 1989., 1984., 2005., 1999.,\n",
       "       2007., 2010., 2013., 2004., 1990., 1988., 2002., 2001., 2011.,\n",
       "       1998., 2015., 2012., 2014., 1992., 1997., 1993., 1994., 1982.,\n",
       "       2016., 2003., 1986., 2000.,   nan, 1995., 1991., 1981., 1987.,\n",
       "       1980., 1983.])"
      ]
     },
     "execution_count": 7,
     "metadata": {},
     "output_type": "execute_result"
    }
   ],
   "source": [
    "#смотрим уникальные значения\n",
    "df['year_of_release'].unique()"
   ]
  },
  {
   "cell_type": "code",
   "execution_count": 8,
   "metadata": {},
   "outputs": [
    {
     "data": {
      "text/plain": [
       "269"
      ]
     },
     "execution_count": 8,
     "metadata": {},
     "output_type": "execute_result"
    }
   ],
   "source": [
    "#смотрим на пропуски\n",
    "df['year_of_release'].isna().sum()"
   ]
  },
  {
   "cell_type": "code",
   "execution_count": 9,
   "metadata": {},
   "outputs": [
    {
     "data": {
      "text/plain": [
       "0.01609332934489979"
      ]
     },
     "execution_count": 9,
     "metadata": {},
     "output_type": "execute_result"
    }
   ],
   "source": [
    "#оценим долю пропусков от общего количества значений\n",
    "df['year_of_release'].isna().sum()/len(df['year_of_release'])"
   ]
  },
  {
   "cell_type": "markdown",
   "metadata": {},
   "source": [
    "Доля пропусков всего 1.6%. Удалим пропуски из-за незначительного количества.  В данном проекте необходимо определить актуальный период, на основании которого будем делать прогнозы на 2017 год. Соответственно, мы все равно будем резать датасет, фильтруя по году релиза. Пропуски года релиза наверняка приходится и на платформы, которые 2000 году уже вышли с рынка, то есть для прогноза на 2017 год мы их явно учитывать не будем."
   ]
  },
  {
   "cell_type": "code",
   "execution_count": 10,
   "metadata": {},
   "outputs": [
    {
     "data": {
      "text/plain": [
       "0"
      ]
     },
     "execution_count": 10,
     "metadata": {},
     "output_type": "execute_result"
    }
   ],
   "source": [
    "#удалим пропуски\n",
    "df = df.dropna(subset=['year_of_release']).reset_index(drop=True)\n",
    "#проверим\n",
    "df['year_of_release'].isna().sum()"
   ]
  },
  {
   "cell_type": "code",
   "execution_count": 11,
   "metadata": {},
   "outputs": [
    {
     "data": {
      "text/plain": [
       "array([1980, 1981, 1982, 1983, 1984, 1985, 1986, 1987, 1988, 1989, 1990,\n",
       "       1991, 1992, 1993, 1994, 1995, 1996, 1997, 1998, 1999, 2000, 2001,\n",
       "       2002, 2003, 2004, 2005, 2006, 2007, 2008, 2009, 2010, 2011, 2012,\n",
       "       2013, 2014, 2015, 2016])"
      ]
     },
     "execution_count": 11,
     "metadata": {},
     "output_type": "execute_result"
    }
   ],
   "source": [
    "#поменяем тип данных, логично что год целочисленный\n",
    "df['year_of_release'] = df['year_of_release'].astype('int')\n",
    "#посмотрим результат\n",
    "np.sort(df['year_of_release'].unique())"
   ]
  },
  {
   "cell_type": "markdown",
   "metadata": {},
   "source": [
    "Столбец 'critic_score'"
   ]
  },
  {
   "cell_type": "code",
   "execution_count": 12,
   "metadata": {},
   "outputs": [
    {
     "data": {
      "text/plain": [
       "8463"
      ]
     },
     "execution_count": 12,
     "metadata": {},
     "output_type": "execute_result"
    }
   ],
   "source": [
    "#смотрим пропуски\n",
    "df['critic_score'].isna().sum()"
   ]
  },
  {
   "cell_type": "markdown",
   "metadata": {},
   "source": [
    "Количество пропусков приличное количество, но это оценочное суждение профессионального критика. Поэтому принимаю решение оставить пропуски. Тип данных этой колонки ОК."
   ]
  },
  {
   "cell_type": "code",
   "execution_count": 13,
   "metadata": {},
   "outputs": [
    {
     "data": {
      "text/plain": [
       "array([13., 17., 19., 20., 21., 23., 24., 25., 26., 27., 28., 29., 30.,\n",
       "       31., 32., 33., 34., 35., 36., 37., 38., 39., 40., 41., 42., 43.,\n",
       "       44., 45., 46., 47., 48., 49., 50., 51., 52., 53., 54., 55., 56.,\n",
       "       57., 58., 59., 60., 61., 62., 63., 64., 65., 66., 67., 68., 69.,\n",
       "       70., 71., 72., 73., 74., 75., 76., 77., 78., 79., 80., 81., 82.,\n",
       "       83., 84., 85., 86., 87., 88., 89., 90., 91., 92., 93., 94., 95.,\n",
       "       96., 97., 98., nan])"
      ]
     },
     "execution_count": 13,
     "metadata": {},
     "output_type": "execute_result"
    }
   ],
   "source": [
    "np.sort(df['critic_score'].unique())"
   ]
  },
  {
   "cell_type": "markdown",
   "metadata": {},
   "source": [
    "Столбец 'user_score'"
   ]
  },
  {
   "cell_type": "code",
   "execution_count": 14,
   "metadata": {},
   "outputs": [
    {
     "data": {
      "text/plain": [
       "6607"
      ]
     },
     "execution_count": 14,
     "metadata": {},
     "output_type": "execute_result"
    }
   ],
   "source": [
    "#количество пропусков\n",
    "df['user_score'].isna().sum()\n"
   ]
  },
  {
   "cell_type": "markdown",
   "metadata": {},
   "source": [
    "Количество пропусков значительное, но это субъективная оценка пользователя. Оставим как есть, дальше посмотрим.Есть интересное значение 'tbd' - to be determined, то есть будет определено. Его заменим на None. Поменяем тип данных на float."
   ]
  },
  {
   "cell_type": "code",
   "execution_count": 15,
   "metadata": {},
   "outputs": [
    {
     "data": {
      "text/plain": [
       "array(['8', nan, '8.3', '8.5', '6.6', '8.4', '8.6', '7.7', '6.3', '7.4',\n",
       "       '8.2', '9', '7.9', '8.1', '8.7', '7.1', '3.4', '5.3', '4.8', '3.2',\n",
       "       '8.9', '6.4', '7.8', '7.5', '2.6', '7.2', '9.2', '7', '7.3', '4.3',\n",
       "       '7.6', '5.7', '5', '9.1', '6.5', 'tbd', '8.8', '6.9', '9.4', '6.8',\n",
       "       '6.1', '6.7', '5.4', '4', '4.9', '4.5', '9.3', '6.2', '4.2', '6',\n",
       "       '3.7', '4.1', '5.8', '5.6', '5.5', '4.4', '4.6', '5.9', '3.9',\n",
       "       '3.1', '2.9', '5.2', '3.3', '4.7', '5.1', '3.5', '2.5', '1.9', '3',\n",
       "       '2.7', '2.2', '2', '9.5', '2.1', '3.6', '2.8', '1.8', '3.8', '0',\n",
       "       '1.6', '9.6', '2.4', '1.7', '1.1', '0.3', '1.5', '0.7', '1.2',\n",
       "       '2.3', '0.5', '1.3', '0.2', '0.6', '1.4', '0.9', '1', '9.7'],\n",
       "      dtype=object)"
      ]
     },
     "execution_count": 15,
     "metadata": {},
     "output_type": "execute_result"
    }
   ],
   "source": [
    "#посмотрим на уникальные значения\n",
    "df['user_score'].unique()"
   ]
  },
  {
   "cell_type": "code",
   "execution_count": 16,
   "metadata": {},
   "outputs": [
    {
     "data": {
      "text/plain": [
       "array([0. , 0.2, 0.3, 0.5, 0.6, 0.7, 0.9, 1. , 1.1, 1.2, 1.3, 1.4, 1.5,\n",
       "       1.6, 1.7, 1.8, 1.9, 2. , 2.1, 2.2, 2.3, 2.4, 2.5, 2.6, 2.7, 2.8,\n",
       "       2.9, 3. , 3.1, 3.2, 3.3, 3.4, 3.5, 3.6, 3.7, 3.8, 3.9, 4. , 4.1,\n",
       "       4.2, 4.3, 4.4, 4.5, 4.6, 4.7, 4.8, 4.9, 5. , 5.1, 5.2, 5.3, 5.4,\n",
       "       5.5, 5.6, 5.7, 5.8, 5.9, 6. , 6.1, 6.2, 6.3, 6.4, 6.5, 6.6, 6.7,\n",
       "       6.8, 6.9, 7. , 7.1, 7.2, 7.3, 7.4, 7.5, 7.6, 7.7, 7.8, 7.9, 8. ,\n",
       "       8.1, 8.2, 8.3, 8.4, 8.5, 8.6, 8.7, 8.8, 8.9, 9. , 9.1, 9.2, 9.3,\n",
       "       9.4, 9.5, 9.6, 9.7, nan])"
      ]
     },
     "execution_count": 16,
     "metadata": {},
     "output_type": "execute_result"
    }
   ],
   "source": [
    "#меняем значения\n",
    "df.loc[(df['user_score'] == 'tbd'), 'user_score'] = None\n",
    "#заменим тип данных\n",
    "df['user_score'] = df['user_score'].astype('float')\n",
    "#проверим\n",
    "np.sort(df['user_score'].unique())\n"
   ]
  },
  {
   "cell_type": "markdown",
   "metadata": {},
   "source": [
    "Сравним оценки пользователей и критиков"
   ]
  },
  {
   "cell_type": "code",
   "execution_count": 17,
   "metadata": {},
   "outputs": [
    {
     "data": {
      "image/png": "[encoded data removed]",
      "text/plain": [
       "<Figure size 432x288 with 1 Axes>"
      ]
     },
     "metadata": {
      "needs_background": "light"
     },
     "output_type": "display_data"
    }
   ],
   "source": [
    "fig, ax = plt.subplots()\n",
    "df.critic_score.hist(ax=ax, label='Оценка критиков',alpha=0.5)\n",
    "(df.user_score*10).hist(ax=ax, label='Оценка пользователей', alpha=0.5)\n",
    "ax.legend(loc='upper left')\n",
    "ax.set_xlabel('Оценка')\n",
    "ax.set_ylabel('Количество игр')\n",
    "ax.set_title('Распределение оценок критиков и пользователей')\n",
    "plt.alpha=0.5\n",
    "plt.show()"
   ]
  },
  {
   "cell_type": "markdown",
   "metadata": {},
   "source": [
    "Оценки в целом похожи. Разброс оценок у пользователей шире, что логично. Профессиональные критики менее эмоциональны в своих оценках."
   ]
  },
  {
   "cell_type": "markdown",
   "metadata": {},
   "source": [
    "Столбец 'rating'"
   ]
  },
  {
   "cell_type": "code",
   "execution_count": 18,
   "metadata": {},
   "outputs": [
    {
     "data": {
      "text/plain": [
       "array(['E', nan, 'M', 'T', 'E10+', 'K-A', 'AO', 'EC', 'RP'], dtype=object)"
      ]
     },
     "execution_count": 18,
     "metadata": {},
     "output_type": "execute_result"
    }
   ],
   "source": [
    "#смотрим значения\n",
    "df['rating'].unique()"
   ]
  },
  {
   "cell_type": "markdown",
   "metadata": {},
   "source": [
    "Entertainment Software Rating Board (ESRB) — негосударственная организация, основное направление деятельности — принятие и определение рейтингов для компьютерных видеоигр и другого развлекательного программного обеспечения в США и Канаде. ESRB была основана в 1994 году ассоциацией Interactive Digital Software Association (современное название — «Entertainment Software Association»). К началу 2003 года рейтинги ESRB получили более 8000 продуктов от 350 издателей.\n",
    "\n",
    "EC — Early Childhood «Для детей младшего возраста»: Игра подходит для детей от 3 лет и не содержит материалов, которые родители могли бы счесть неподходящими. Продукты, получившие данный рейтинг, изначально разрабатываются для детей и обычно представляют собой развивающие игры; Устаревшая градация.\n",
    "\n",
    "E — Everyone «Для всех»: Содержание вполне подходит для возрастной категории от 6 лет. Такие игры могут понравиться и взрослым. Игры с этим рейтингом могут содержать минимальное насилие, в основном «мультяшного» характера. Первоначально K-A (\"Kids to Adults\");\n",
    "\n",
    "E10+ — Everyone 10+ «Для всех от 10 лет и старше»: Проекты с данным рейтингом могут содержать или немного больше мультипликационного или мягкого насилия, или несколько откровенные сцены, или минимальное количество крови;\n",
    "\n",
    "T — Teen «Подросткам»: Игра подходит для лиц от 13 лет. Проекты из данной категории могут содержать насилие, непристойные сцены, грубый юмор, в меру откровенное сексуальное содержимое, кровь или нечастое использование ненормативной лексики;\n",
    "\n",
    "M — Mature «Для взрослых»: Материалы игры не подходят для подростков младше 17 лет. Проекты с данным рейтингом могут содержать достаточно жестокое насилие, большое количество крови с расчленением, непристойные сексуальные сцены или грубую ненормативную лексику, нежелательную для младшей аудитории;\n",
    "\n",
    "AO — Adults Only Только для взрослых»: Содержание игры только для взрослых старше 18 лет. Продукты из данной категории могут содержать длительные сцены жестокого насилия и/или очень откровенное сексуальное содержимое, а также сцены с обнажением;\n",
    "\n",
    "RP — Rating Pending Рейтинг ожидается.\n",
    "\n",
    "Таким образом значение рейтинга K-A и EC меняем на E."
   ]
  },
  {
   "cell_type": "code",
   "execution_count": 19,
   "metadata": {},
   "outputs": [],
   "source": [
    "df.loc[df['rating'] == 'K-A', 'rating'] = 'E'\n",
    "df.loc[df['rating'] == 'EC', 'rating'] = 'E'"
   ]
  },
  {
   "cell_type": "code",
   "execution_count": 20,
   "metadata": {},
   "outputs": [
    {
     "data": {
      "text/plain": [
       "array(['E', nan, 'M', 'T', 'E10+', 'AO', 'RP'], dtype=object)"
      ]
     },
     "execution_count": 20,
     "metadata": {},
     "output_type": "execute_result"
    }
   ],
   "source": [
    "#проверим\n",
    "df['rating'].unique()"
   ]
  },
  {
   "cell_type": "markdown",
   "metadata": {},
   "source": [
    "Все в порядке. Тип данных ОК, уточним пропуски"
   ]
  },
  {
   "cell_type": "code",
   "execution_count": 21,
   "metadata": {},
   "outputs": [
    {
     "data": {
      "text/plain": [
       "6678"
      ]
     },
     "execution_count": 21,
     "metadata": {},
     "output_type": "execute_result"
    }
   ],
   "source": [
    "df['rating'].isna().sum()"
   ]
  },
  {
   "cell_type": "markdown",
   "metadata": {},
   "source": [
    "ESRB была основана в 1994 году, а выгрузке присутствуют игры с 1980 года, можно предположить, что отсутствие рейтинга это нормально. Пропуски лучше заменить на значение 'no_rating'"
   ]
  },
  {
   "cell_type": "code",
   "execution_count": 22,
   "metadata": {},
   "outputs": [
    {
     "data": {
      "text/plain": [
       "0"
      ]
     },
     "execution_count": 22,
     "metadata": {},
     "output_type": "execute_result"
    }
   ],
   "source": [
    "#меняем\n",
    "df['rating'] = df['rating'].fillna( 'no_rating')\n",
    "#проверяем\n",
    "df['rating'].isna().sum()"
   ]
  },
  {
   "cell_type": "code",
   "execution_count": 23,
   "metadata": {},
   "outputs": [
    {
     "data": {
      "text/plain": [
       "name                  2\n",
       "platform              0\n",
       "year_of_release       0\n",
       "genre                 2\n",
       "na_sales              0\n",
       "eu_sales              0\n",
       "jp_sales              0\n",
       "other_sales           0\n",
       "critic_score       8463\n",
       "user_score         8983\n",
       "rating                0\n",
       "dtype: int64"
      ]
     },
     "execution_count": 23,
     "metadata": {},
     "output_type": "execute_result"
    }
   ],
   "source": [
    "#внимательнее смотрим на пропуски по всему датасету\n",
    "df.isna().sum()"
   ]
  },
  {
   "cell_type": "markdown",
   "metadata": {},
   "source": [
    "Столбец 'name'"
   ]
  },
  {
   "cell_type": "code",
   "execution_count": 24,
   "metadata": {},
   "outputs": [],
   "source": [
    "#пропуска всего 2 (два), удаляем\n",
    "df = df.dropna(subset=['name']).reset_index(drop=True)"
   ]
  },
  {
   "cell_type": "code",
   "execution_count": 25,
   "metadata": {},
   "outputs": [
    {
     "data": {
      "text/plain": [
       "0"
      ]
     },
     "execution_count": 25,
     "metadata": {},
     "output_type": "execute_result"
    }
   ],
   "source": [
    "#проверим одни ли это строки, нет имени нет жанра\n",
    "df['genre'].isna().sum()"
   ]
  },
  {
   "cell_type": "code",
   "execution_count": 26,
   "metadata": {},
   "outputs": [
    {
     "name": "stdout",
     "output_type": "stream",
     "text": [
      "<class 'pandas.core.frame.DataFrame'>\n",
      "RangeIndex: 16444 entries, 0 to 16443\n",
      "Data columns (total 11 columns):\n",
      " #   Column           Non-Null Count  Dtype  \n",
      "---  ------           --------------  -----  \n",
      " 0   name             16444 non-null  object \n",
      " 1   platform         16444 non-null  object \n",
      " 2   year_of_release  16444 non-null  int64  \n",
      " 3   genre            16444 non-null  object \n",
      " 4   na_sales         16444 non-null  float64\n",
      " 5   eu_sales         16444 non-null  float64\n",
      " 6   jp_sales         16444 non-null  float64\n",
      " 7   other_sales      16444 non-null  float64\n",
      " 8   critic_score     7983 non-null   float64\n",
      " 9   user_score       7463 non-null   float64\n",
      " 10  rating           16444 non-null  object \n",
      "dtypes: float64(6), int64(1), object(4)\n",
      "memory usage: 1.4+ MB\n"
     ]
    }
   ],
   "source": [
    "df.isna().sum()\n",
    "df.info()"
   ]
  },
  {
   "cell_type": "code",
   "execution_count": 27,
   "metadata": {},
   "outputs": [
    {
     "data": {
      "text/plain": [
       "0"
      ]
     },
     "execution_count": 27,
     "metadata": {},
     "output_type": "execute_result"
    }
   ],
   "source": [
    "#проверим на явные дубликаты\n",
    "df.duplicated().sum()\n",
    "#не обнаружено"
   ]
  },
  {
   "cell_type": "code",
   "execution_count": 28,
   "metadata": {},
   "outputs": [
    {
     "data": {
      "text/html": [
       "<div>\n",
       "<style scoped>\n",
       "    .dataframe tbody tr th:only-of-type {\n",
       "        vertical-align: middle;\n",
       "    }\n",
       "\n",
       "    .dataframe tbody tr th {\n",
       "        vertical-align: top;\n",
       "    }\n",
       "\n",
       "    .dataframe thead th {\n",
       "        text-align: right;\n",
       "    }\n",
       "</style>\n",
       "<table border=\"1\" class=\"dataframe\">\n",
       "  <thead>\n",
       "    <tr style=\"text-align: right;\">\n",
       "      <th></th>\n",
       "      <th>name</th>\n",
       "      <th>platform</th>\n",
       "      <th>year_of_release</th>\n",
       "      <th>genre</th>\n",
       "      <th>na_sales</th>\n",
       "      <th>eu_sales</th>\n",
       "      <th>jp_sales</th>\n",
       "      <th>other_sales</th>\n",
       "      <th>critic_score</th>\n",
       "      <th>user_score</th>\n",
       "      <th>rating</th>\n",
       "      <th>total_sales</th>\n",
       "    </tr>\n",
       "  </thead>\n",
       "  <tbody>\n",
       "    <tr>\n",
       "      <th>0</th>\n",
       "      <td>Wii Sports</td>\n",
       "      <td>Wii</td>\n",
       "      <td>2006</td>\n",
       "      <td>Sports</td>\n",
       "      <td>41.36</td>\n",
       "      <td>28.96</td>\n",
       "      <td>3.77</td>\n",
       "      <td>8.45</td>\n",
       "      <td>76.0</td>\n",
       "      <td>8.0</td>\n",
       "      <td>E</td>\n",
       "      <td>82.54</td>\n",
       "    </tr>\n",
       "    <tr>\n",
       "      <th>1</th>\n",
       "      <td>Super Mario Bros.</td>\n",
       "      <td>NES</td>\n",
       "      <td>1985</td>\n",
       "      <td>Platform</td>\n",
       "      <td>29.08</td>\n",
       "      <td>3.58</td>\n",
       "      <td>6.81</td>\n",
       "      <td>0.77</td>\n",
       "      <td>NaN</td>\n",
       "      <td>NaN</td>\n",
       "      <td>no_rating</td>\n",
       "      <td>40.24</td>\n",
       "    </tr>\n",
       "    <tr>\n",
       "      <th>2</th>\n",
       "      <td>Mario Kart Wii</td>\n",
       "      <td>Wii</td>\n",
       "      <td>2008</td>\n",
       "      <td>Racing</td>\n",
       "      <td>15.68</td>\n",
       "      <td>12.76</td>\n",
       "      <td>3.79</td>\n",
       "      <td>3.29</td>\n",
       "      <td>82.0</td>\n",
       "      <td>8.3</td>\n",
       "      <td>E</td>\n",
       "      <td>35.52</td>\n",
       "    </tr>\n",
       "    <tr>\n",
       "      <th>3</th>\n",
       "      <td>Wii Sports Resort</td>\n",
       "      <td>Wii</td>\n",
       "      <td>2009</td>\n",
       "      <td>Sports</td>\n",
       "      <td>15.61</td>\n",
       "      <td>10.93</td>\n",
       "      <td>3.28</td>\n",
       "      <td>2.95</td>\n",
       "      <td>80.0</td>\n",
       "      <td>8.0</td>\n",
       "      <td>E</td>\n",
       "      <td>32.77</td>\n",
       "    </tr>\n",
       "    <tr>\n",
       "      <th>4</th>\n",
       "      <td>Pokemon Red/Pokemon Blue</td>\n",
       "      <td>GB</td>\n",
       "      <td>1996</td>\n",
       "      <td>Role-Playing</td>\n",
       "      <td>11.27</td>\n",
       "      <td>8.89</td>\n",
       "      <td>10.22</td>\n",
       "      <td>1.00</td>\n",
       "      <td>NaN</td>\n",
       "      <td>NaN</td>\n",
       "      <td>no_rating</td>\n",
       "      <td>31.38</td>\n",
       "    </tr>\n",
       "  </tbody>\n",
       "</table>\n",
       "</div>"
      ],
      "text/plain": [
       "                       name platform  year_of_release         genre  na_sales  \\\n",
       "0                Wii Sports      Wii             2006        Sports     41.36   \n",
       "1         Super Mario Bros.      NES             1985      Platform     29.08   \n",
       "2            Mario Kart Wii      Wii             2008        Racing     15.68   \n",
       "3         Wii Sports Resort      Wii             2009        Sports     15.61   \n",
       "4  Pokemon Red/Pokemon Blue       GB             1996  Role-Playing     11.27   \n",
       "\n",
       "   eu_sales  jp_sales  other_sales  critic_score  user_score     rating  \\\n",
       "0     28.96      3.77         8.45          76.0         8.0          E   \n",
       "1      3.58      6.81         0.77           NaN         NaN  no_rating   \n",
       "2     12.76      3.79         3.29          82.0         8.3          E   \n",
       "3     10.93      3.28         2.95          80.0         8.0          E   \n",
       "4      8.89     10.22         1.00           NaN         NaN  no_rating   \n",
       "\n",
       "   total_sales  \n",
       "0        82.54  \n",
       "1        40.24  \n",
       "2        35.52  \n",
       "3        32.77  \n",
       "4        31.38  "
      ]
     },
     "execution_count": 28,
     "metadata": {},
     "output_type": "execute_result"
    }
   ],
   "source": [
    "#посчитаем суммарные продажи во всех регионах и запишем их в отдельный столбец\n",
    "df['total_sales'] = df[['na_sales', 'eu_sales', 'jp_sales', 'other_sales']].sum(axis=1)\n",
    "#проверим\n",
    "df.head()"
   ]
  },
  {
   "cell_type": "markdown",
   "metadata": {},
   "source": [
    "Вывод. \n",
    "Проведена подготовка данных для дальнейшего исследования. Выявлены пропуски в данных, некорректный тип данных. Принято решение удалить строки в столбце 'year_of_release' и 'name', 'genre' содержащие пропуски по причине незначительного количества, тип данных в столбце'year_of_release' приведен к int. В колонке 'rating' заменил устаревшие значения на актуальные и пропуски заменил на 'no_rating'. По полю 'user_score' поменял тип данных и значения 'To Be Determined' заменил на NaN. Остальные пропуски в 'critic_score' и 'user_score' решено оставить без изменения поскольку это субъективные оценки критика и пользователя основанные на собственных представлениях об игре. Медиана и среднее, на мой взгляд, не применимы и могут исказить картину исследования. Причины пропусков можно обозначить как человеческий фактор, новизну игры (не успели оценить), возникновение колонок с оценкой (многие игры вышли на рынок/ушли с рынка раньше, чем появился рейтинг. Явных дубликатов не обнаружено. В датасет добавлен новый столбец содержащий суммарные продажи во всех регионах."
   ]
  },
  {
   "cell_type": "markdown",
   "metadata": {},
   "source": [
    "**3. Исследовательский анализ данных**"
   ]
  },
  {
   "cell_type": "markdown",
   "metadata": {},
   "source": [
    "Посмотрим сколько игр выпускалось в разные годы и как менялись продажи по платформам"
   ]
  },
  {
   "cell_type": "code",
   "execution_count": 30,
   "metadata": {},
   "outputs": [],
   "source": [
    "#построим сводную таблицу с количеством игр по платформам и годам"
   ]
  },
  {
   "cell_type": "code",
   "execution_count": 31,
   "metadata": {},
   "outputs": [
    {
     "data": {
      "text/html": [
       "<div>\n",
       "<style scoped>\n",
       "    .dataframe tbody tr th:only-of-type {\n",
       "        vertical-align: middle;\n",
       "    }\n",
       "\n",
       "    .dataframe tbody tr th {\n",
       "        vertical-align: top;\n",
       "    }\n",
       "\n",
       "    .dataframe thead th {\n",
       "        text-align: right;\n",
       "    }\n",
       "</style>\n",
       "<table border=\"1\" class=\"dataframe\">\n",
       "  <thead>\n",
       "    <tr style=\"text-align: right;\">\n",
       "      <th>year_of_release</th>\n",
       "      <th>platform</th>\n",
       "      <th>1980</th>\n",
       "      <th>1981</th>\n",
       "      <th>1982</th>\n",
       "      <th>1983</th>\n",
       "      <th>1984</th>\n",
       "      <th>1985</th>\n",
       "      <th>1986</th>\n",
       "      <th>1987</th>\n",
       "      <th>1988</th>\n",
       "      <th>1989</th>\n",
       "      <th>1990</th>\n",
       "      <th>1991</th>\n",
       "      <th>1992</th>\n",
       "      <th>1993</th>\n",
       "      <th>1994</th>\n",
       "      <th>1995</th>\n",
       "      <th>1996</th>\n",
       "      <th>1997</th>\n",
       "      <th>1998</th>\n",
       "      <th>1999</th>\n",
       "      <th>2000</th>\n",
       "      <th>2001</th>\n",
       "      <th>2002</th>\n",
       "      <th>2003</th>\n",
       "      <th>2004</th>\n",
       "      <th>2005</th>\n",
       "      <th>2006</th>\n",
       "      <th>2007</th>\n",
       "      <th>2008</th>\n",
       "      <th>2009</th>\n",
       "      <th>2010</th>\n",
       "      <th>2011</th>\n",
       "      <th>2012</th>\n",
       "      <th>2013</th>\n",
       "      <th>2014</th>\n",
       "      <th>2015</th>\n",
       "      <th>2016</th>\n",
       "      <th>All</th>\n",
       "    </tr>\n",
       "  </thead>\n",
       "  <tbody>\n",
       "    <tr>\n",
       "      <th>0</th>\n",
       "      <td>2600</td>\n",
       "      <td>9</td>\n",
       "      <td>46</td>\n",
       "      <td>36</td>\n",
       "      <td>11</td>\n",
       "      <td>1</td>\n",
       "      <td>1</td>\n",
       "      <td>2</td>\n",
       "      <td>6</td>\n",
       "      <td>2</td>\n",
       "      <td>2</td>\n",
       "      <td>0</td>\n",
       "      <td>0</td>\n",
       "      <td>0</td>\n",
       "      <td>0</td>\n",
       "      <td>0</td>\n",
       "      <td>0</td>\n",
       "      <td>0</td>\n",
       "      <td>0</td>\n",
       "      <td>0</td>\n",
       "      <td>0</td>\n",
       "      <td>0</td>\n",
       "      <td>0</td>\n",
       "      <td>0</td>\n",
       "      <td>0</td>\n",
       "      <td>0</td>\n",
       "      <td>0</td>\n",
       "      <td>0</td>\n",
       "      <td>0</td>\n",
       "      <td>0</td>\n",
       "      <td>0</td>\n",
       "      <td>0</td>\n",
       "      <td>0</td>\n",
       "      <td>0</td>\n",
       "      <td>0</td>\n",
       "      <td>0</td>\n",
       "      <td>0</td>\n",
       "      <td>0</td>\n",
       "      <td>116</td>\n",
       "    </tr>\n",
       "    <tr>\n",
       "      <th>1</th>\n",
       "      <td>3DO</td>\n",
       "      <td>0</td>\n",
       "      <td>0</td>\n",
       "      <td>0</td>\n",
       "      <td>0</td>\n",
       "      <td>0</td>\n",
       "      <td>0</td>\n",
       "      <td>0</td>\n",
       "      <td>0</td>\n",
       "      <td>0</td>\n",
       "      <td>0</td>\n",
       "      <td>0</td>\n",
       "      <td>0</td>\n",
       "      <td>0</td>\n",
       "      <td>0</td>\n",
       "      <td>1</td>\n",
       "      <td>2</td>\n",
       "      <td>0</td>\n",
       "      <td>0</td>\n",
       "      <td>0</td>\n",
       "      <td>0</td>\n",
       "      <td>0</td>\n",
       "      <td>0</td>\n",
       "      <td>0</td>\n",
       "      <td>0</td>\n",
       "      <td>0</td>\n",
       "      <td>0</td>\n",
       "      <td>0</td>\n",
       "      <td>0</td>\n",
       "      <td>0</td>\n",
       "      <td>0</td>\n",
       "      <td>0</td>\n",
       "      <td>0</td>\n",
       "      <td>0</td>\n",
       "      <td>0</td>\n",
       "      <td>0</td>\n",
       "      <td>0</td>\n",
       "      <td>0</td>\n",
       "      <td>3</td>\n",
       "    </tr>\n",
       "    <tr>\n",
       "      <th>2</th>\n",
       "      <td>3DS</td>\n",
       "      <td>0</td>\n",
       "      <td>0</td>\n",
       "      <td>0</td>\n",
       "      <td>0</td>\n",
       "      <td>0</td>\n",
       "      <td>0</td>\n",
       "      <td>0</td>\n",
       "      <td>0</td>\n",
       "      <td>0</td>\n",
       "      <td>0</td>\n",
       "      <td>0</td>\n",
       "      <td>0</td>\n",
       "      <td>0</td>\n",
       "      <td>0</td>\n",
       "      <td>0</td>\n",
       "      <td>0</td>\n",
       "      <td>0</td>\n",
       "      <td>0</td>\n",
       "      <td>0</td>\n",
       "      <td>0</td>\n",
       "      <td>0</td>\n",
       "      <td>0</td>\n",
       "      <td>0</td>\n",
       "      <td>0</td>\n",
       "      <td>0</td>\n",
       "      <td>0</td>\n",
       "      <td>0</td>\n",
       "      <td>0</td>\n",
       "      <td>0</td>\n",
       "      <td>0</td>\n",
       "      <td>0</td>\n",
       "      <td>116</td>\n",
       "      <td>93</td>\n",
       "      <td>91</td>\n",
       "      <td>80</td>\n",
       "      <td>86</td>\n",
       "      <td>46</td>\n",
       "      <td>512</td>\n",
       "    </tr>\n",
       "    <tr>\n",
       "      <th>3</th>\n",
       "      <td>DC</td>\n",
       "      <td>0</td>\n",
       "      <td>0</td>\n",
       "      <td>0</td>\n",
       "      <td>0</td>\n",
       "      <td>0</td>\n",
       "      <td>0</td>\n",
       "      <td>0</td>\n",
       "      <td>0</td>\n",
       "      <td>0</td>\n",
       "      <td>0</td>\n",
       "      <td>0</td>\n",
       "      <td>0</td>\n",
       "      <td>0</td>\n",
       "      <td>0</td>\n",
       "      <td>0</td>\n",
       "      <td>0</td>\n",
       "      <td>0</td>\n",
       "      <td>0</td>\n",
       "      <td>7</td>\n",
       "      <td>14</td>\n",
       "      <td>20</td>\n",
       "      <td>8</td>\n",
       "      <td>1</td>\n",
       "      <td>0</td>\n",
       "      <td>0</td>\n",
       "      <td>0</td>\n",
       "      <td>0</td>\n",
       "      <td>1</td>\n",
       "      <td>1</td>\n",
       "      <td>0</td>\n",
       "      <td>0</td>\n",
       "      <td>0</td>\n",
       "      <td>0</td>\n",
       "      <td>0</td>\n",
       "      <td>0</td>\n",
       "      <td>0</td>\n",
       "      <td>0</td>\n",
       "      <td>52</td>\n",
       "    </tr>\n",
       "    <tr>\n",
       "      <th>4</th>\n",
       "      <td>DS</td>\n",
       "      <td>0</td>\n",
       "      <td>0</td>\n",
       "      <td>0</td>\n",
       "      <td>0</td>\n",
       "      <td>0</td>\n",
       "      <td>1</td>\n",
       "      <td>0</td>\n",
       "      <td>0</td>\n",
       "      <td>0</td>\n",
       "      <td>0</td>\n",
       "      <td>0</td>\n",
       "      <td>0</td>\n",
       "      <td>0</td>\n",
       "      <td>0</td>\n",
       "      <td>0</td>\n",
       "      <td>0</td>\n",
       "      <td>0</td>\n",
       "      <td>0</td>\n",
       "      <td>0</td>\n",
       "      <td>0</td>\n",
       "      <td>0</td>\n",
       "      <td>0</td>\n",
       "      <td>0</td>\n",
       "      <td>0</td>\n",
       "      <td>23</td>\n",
       "      <td>118</td>\n",
       "      <td>201</td>\n",
       "      <td>376</td>\n",
       "      <td>492</td>\n",
       "      <td>403</td>\n",
       "      <td>323</td>\n",
       "      <td>153</td>\n",
       "      <td>23</td>\n",
       "      <td>8</td>\n",
       "      <td>0</td>\n",
       "      <td>0</td>\n",
       "      <td>0</td>\n",
       "      <td>2121</td>\n",
       "    </tr>\n",
       "    <tr>\n",
       "      <th>5</th>\n",
       "      <td>GB</td>\n",
       "      <td>0</td>\n",
       "      <td>0</td>\n",
       "      <td>0</td>\n",
       "      <td>0</td>\n",
       "      <td>0</td>\n",
       "      <td>0</td>\n",
       "      <td>0</td>\n",
       "      <td>0</td>\n",
       "      <td>1</td>\n",
       "      <td>10</td>\n",
       "      <td>3</td>\n",
       "      <td>9</td>\n",
       "      <td>7</td>\n",
       "      <td>0</td>\n",
       "      <td>3</td>\n",
       "      <td>4</td>\n",
       "      <td>6</td>\n",
       "      <td>8</td>\n",
       "      <td>8</td>\n",
       "      <td>11</td>\n",
       "      <td>17</td>\n",
       "      <td>10</td>\n",
       "      <td>0</td>\n",
       "      <td>0</td>\n",
       "      <td>0</td>\n",
       "      <td>0</td>\n",
       "      <td>0</td>\n",
       "      <td>0</td>\n",
       "      <td>0</td>\n",
       "      <td>0</td>\n",
       "      <td>0</td>\n",
       "      <td>0</td>\n",
       "      <td>0</td>\n",
       "      <td>0</td>\n",
       "      <td>0</td>\n",
       "      <td>0</td>\n",
       "      <td>0</td>\n",
       "      <td>97</td>\n",
       "    </tr>\n",
       "    <tr>\n",
       "      <th>6</th>\n",
       "      <td>GBA</td>\n",
       "      <td>0</td>\n",
       "      <td>0</td>\n",
       "      <td>0</td>\n",
       "      <td>0</td>\n",
       "      <td>0</td>\n",
       "      <td>0</td>\n",
       "      <td>0</td>\n",
       "      <td>0</td>\n",
       "      <td>0</td>\n",
       "      <td>0</td>\n",
       "      <td>0</td>\n",
       "      <td>0</td>\n",
       "      <td>0</td>\n",
       "      <td>0</td>\n",
       "      <td>0</td>\n",
       "      <td>0</td>\n",
       "      <td>0</td>\n",
       "      <td>0</td>\n",
       "      <td>0</td>\n",
       "      <td>0</td>\n",
       "      <td>1</td>\n",
       "      <td>107</td>\n",
       "      <td>198</td>\n",
       "      <td>150</td>\n",
       "      <td>175</td>\n",
       "      <td>135</td>\n",
       "      <td>39</td>\n",
       "      <td>6</td>\n",
       "      <td>0</td>\n",
       "      <td>0</td>\n",
       "      <td>0</td>\n",
       "      <td>0</td>\n",
       "      <td>0</td>\n",
       "      <td>0</td>\n",
       "      <td>0</td>\n",
       "      <td>0</td>\n",
       "      <td>0</td>\n",
       "      <td>811</td>\n",
       "    </tr>\n",
       "    <tr>\n",
       "      <th>7</th>\n",
       "      <td>GC</td>\n",
       "      <td>0</td>\n",
       "      <td>0</td>\n",
       "      <td>0</td>\n",
       "      <td>0</td>\n",
       "      <td>0</td>\n",
       "      <td>0</td>\n",
       "      <td>0</td>\n",
       "      <td>0</td>\n",
       "      <td>0</td>\n",
       "      <td>0</td>\n",
       "      <td>0</td>\n",
       "      <td>0</td>\n",
       "      <td>0</td>\n",
       "      <td>0</td>\n",
       "      <td>0</td>\n",
       "      <td>0</td>\n",
       "      <td>0</td>\n",
       "      <td>0</td>\n",
       "      <td>0</td>\n",
       "      <td>0</td>\n",
       "      <td>0</td>\n",
       "      <td>22</td>\n",
       "      <td>152</td>\n",
       "      <td>144</td>\n",
       "      <td>83</td>\n",
       "      <td>97</td>\n",
       "      <td>40</td>\n",
       "      <td>4</td>\n",
       "      <td>0</td>\n",
       "      <td>0</td>\n",
       "      <td>0</td>\n",
       "      <td>0</td>\n",
       "      <td>0</td>\n",
       "      <td>0</td>\n",
       "      <td>0</td>\n",
       "      <td>0</td>\n",
       "      <td>0</td>\n",
       "      <td>542</td>\n",
       "    </tr>\n",
       "    <tr>\n",
       "      <th>8</th>\n",
       "      <td>GEN</td>\n",
       "      <td>0</td>\n",
       "      <td>0</td>\n",
       "      <td>0</td>\n",
       "      <td>0</td>\n",
       "      <td>0</td>\n",
       "      <td>0</td>\n",
       "      <td>0</td>\n",
       "      <td>0</td>\n",
       "      <td>0</td>\n",
       "      <td>0</td>\n",
       "      <td>1</td>\n",
       "      <td>1</td>\n",
       "      <td>6</td>\n",
       "      <td>7</td>\n",
       "      <td>12</td>\n",
       "      <td>0</td>\n",
       "      <td>0</td>\n",
       "      <td>0</td>\n",
       "      <td>0</td>\n",
       "      <td>0</td>\n",
       "      <td>0</td>\n",
       "      <td>0</td>\n",
       "      <td>0</td>\n",
       "      <td>0</td>\n",
       "      <td>0</td>\n",
       "      <td>0</td>\n",
       "      <td>0</td>\n",
       "      <td>0</td>\n",
       "      <td>0</td>\n",
       "      <td>0</td>\n",
       "      <td>0</td>\n",
       "      <td>0</td>\n",
       "      <td>0</td>\n",
       "      <td>0</td>\n",
       "      <td>0</td>\n",
       "      <td>0</td>\n",
       "      <td>0</td>\n",
       "      <td>27</td>\n",
       "    </tr>\n",
       "    <tr>\n",
       "      <th>9</th>\n",
       "      <td>GG</td>\n",
       "      <td>0</td>\n",
       "      <td>0</td>\n",
       "      <td>0</td>\n",
       "      <td>0</td>\n",
       "      <td>0</td>\n",
       "      <td>0</td>\n",
       "      <td>0</td>\n",
       "      <td>0</td>\n",
       "      <td>0</td>\n",
       "      <td>0</td>\n",
       "      <td>0</td>\n",
       "      <td>0</td>\n",
       "      <td>1</td>\n",
       "      <td>0</td>\n",
       "      <td>0</td>\n",
       "      <td>0</td>\n",
       "      <td>0</td>\n",
       "      <td>0</td>\n",
       "      <td>0</td>\n",
       "      <td>0</td>\n",
       "      <td>0</td>\n",
       "      <td>0</td>\n",
       "      <td>0</td>\n",
       "      <td>0</td>\n",
       "      <td>0</td>\n",
       "      <td>0</td>\n",
       "      <td>0</td>\n",
       "      <td>0</td>\n",
       "      <td>0</td>\n",
       "      <td>0</td>\n",
       "      <td>0</td>\n",
       "      <td>0</td>\n",
       "      <td>0</td>\n",
       "      <td>0</td>\n",
       "      <td>0</td>\n",
       "      <td>0</td>\n",
       "      <td>0</td>\n",
       "      <td>1</td>\n",
       "    </tr>\n",
       "    <tr>\n",
       "      <th>10</th>\n",
       "      <td>N64</td>\n",
       "      <td>0</td>\n",
       "      <td>0</td>\n",
       "      <td>0</td>\n",
       "      <td>0</td>\n",
       "      <td>0</td>\n",
       "      <td>0</td>\n",
       "      <td>0</td>\n",
       "      <td>0</td>\n",
       "      <td>0</td>\n",
       "      <td>0</td>\n",
       "      <td>0</td>\n",
       "      <td>0</td>\n",
       "      <td>0</td>\n",
       "      <td>0</td>\n",
       "      <td>0</td>\n",
       "      <td>0</td>\n",
       "      <td>18</td>\n",
       "      <td>49</td>\n",
       "      <td>77</td>\n",
       "      <td>102</td>\n",
       "      <td>60</td>\n",
       "      <td>9</td>\n",
       "      <td>1</td>\n",
       "      <td>0</td>\n",
       "      <td>0</td>\n",
       "      <td>0</td>\n",
       "      <td>0</td>\n",
       "      <td>0</td>\n",
       "      <td>0</td>\n",
       "      <td>0</td>\n",
       "      <td>0</td>\n",
       "      <td>0</td>\n",
       "      <td>0</td>\n",
       "      <td>0</td>\n",
       "      <td>0</td>\n",
       "      <td>0</td>\n",
       "      <td>0</td>\n",
       "      <td>316</td>\n",
       "    </tr>\n",
       "    <tr>\n",
       "      <th>11</th>\n",
       "      <td>NES</td>\n",
       "      <td>0</td>\n",
       "      <td>0</td>\n",
       "      <td>0</td>\n",
       "      <td>6</td>\n",
       "      <td>13</td>\n",
       "      <td>11</td>\n",
       "      <td>19</td>\n",
       "      <td>10</td>\n",
       "      <td>11</td>\n",
       "      <td>5</td>\n",
       "      <td>8</td>\n",
       "      <td>7</td>\n",
       "      <td>3</td>\n",
       "      <td>4</td>\n",
       "      <td>1</td>\n",
       "      <td>0</td>\n",
       "      <td>0</td>\n",
       "      <td>0</td>\n",
       "      <td>0</td>\n",
       "      <td>0</td>\n",
       "      <td>0</td>\n",
       "      <td>0</td>\n",
       "      <td>0</td>\n",
       "      <td>0</td>\n",
       "      <td>0</td>\n",
       "      <td>0</td>\n",
       "      <td>0</td>\n",
       "      <td>0</td>\n",
       "      <td>0</td>\n",
       "      <td>0</td>\n",
       "      <td>0</td>\n",
       "      <td>0</td>\n",
       "      <td>0</td>\n",
       "      <td>0</td>\n",
       "      <td>0</td>\n",
       "      <td>0</td>\n",
       "      <td>0</td>\n",
       "      <td>98</td>\n",
       "    </tr>\n",
       "    <tr>\n",
       "      <th>12</th>\n",
       "      <td>NG</td>\n",
       "      <td>0</td>\n",
       "      <td>0</td>\n",
       "      <td>0</td>\n",
       "      <td>0</td>\n",
       "      <td>0</td>\n",
       "      <td>0</td>\n",
       "      <td>0</td>\n",
       "      <td>0</td>\n",
       "      <td>0</td>\n",
       "      <td>0</td>\n",
       "      <td>0</td>\n",
       "      <td>0</td>\n",
       "      <td>0</td>\n",
       "      <td>2</td>\n",
       "      <td>4</td>\n",
       "      <td>4</td>\n",
       "      <td>2</td>\n",
       "      <td>0</td>\n",
       "      <td>0</td>\n",
       "      <td>0</td>\n",
       "      <td>0</td>\n",
       "      <td>0</td>\n",
       "      <td>0</td>\n",
       "      <td>0</td>\n",
       "      <td>0</td>\n",
       "      <td>0</td>\n",
       "      <td>0</td>\n",
       "      <td>0</td>\n",
       "      <td>0</td>\n",
       "      <td>0</td>\n",
       "      <td>0</td>\n",
       "      <td>0</td>\n",
       "      <td>0</td>\n",
       "      <td>0</td>\n",
       "      <td>0</td>\n",
       "      <td>0</td>\n",
       "      <td>0</td>\n",
       "      <td>12</td>\n",
       "    </tr>\n",
       "    <tr>\n",
       "      <th>13</th>\n",
       "      <td>PC</td>\n",
       "      <td>0</td>\n",
       "      <td>0</td>\n",
       "      <td>0</td>\n",
       "      <td>0</td>\n",
       "      <td>0</td>\n",
       "      <td>1</td>\n",
       "      <td>0</td>\n",
       "      <td>0</td>\n",
       "      <td>1</td>\n",
       "      <td>0</td>\n",
       "      <td>0</td>\n",
       "      <td>0</td>\n",
       "      <td>5</td>\n",
       "      <td>0</td>\n",
       "      <td>6</td>\n",
       "      <td>2</td>\n",
       "      <td>4</td>\n",
       "      <td>6</td>\n",
       "      <td>8</td>\n",
       "      <td>7</td>\n",
       "      <td>7</td>\n",
       "      <td>15</td>\n",
       "      <td>19</td>\n",
       "      <td>33</td>\n",
       "      <td>30</td>\n",
       "      <td>37</td>\n",
       "      <td>52</td>\n",
       "      <td>62</td>\n",
       "      <td>76</td>\n",
       "      <td>107</td>\n",
       "      <td>90</td>\n",
       "      <td>139</td>\n",
       "      <td>61</td>\n",
       "      <td>38</td>\n",
       "      <td>47</td>\n",
       "      <td>50</td>\n",
       "      <td>54</td>\n",
       "      <td>957</td>\n",
       "    </tr>\n",
       "    <tr>\n",
       "      <th>14</th>\n",
       "      <td>PCFX</td>\n",
       "      <td>0</td>\n",
       "      <td>0</td>\n",
       "      <td>0</td>\n",
       "      <td>0</td>\n",
       "      <td>0</td>\n",
       "      <td>0</td>\n",
       "      <td>0</td>\n",
       "      <td>0</td>\n",
       "      <td>0</td>\n",
       "      <td>0</td>\n",
       "      <td>0</td>\n",
       "      <td>0</td>\n",
       "      <td>0</td>\n",
       "      <td>0</td>\n",
       "      <td>0</td>\n",
       "      <td>0</td>\n",
       "      <td>1</td>\n",
       "      <td>0</td>\n",
       "      <td>0</td>\n",
       "      <td>0</td>\n",
       "      <td>0</td>\n",
       "      <td>0</td>\n",
       "      <td>0</td>\n",
       "      <td>0</td>\n",
       "      <td>0</td>\n",
       "      <td>0</td>\n",
       "      <td>0</td>\n",
       "      <td>0</td>\n",
       "      <td>0</td>\n",
       "      <td>0</td>\n",
       "      <td>0</td>\n",
       "      <td>0</td>\n",
       "      <td>0</td>\n",
       "      <td>0</td>\n",
       "      <td>0</td>\n",
       "      <td>0</td>\n",
       "      <td>0</td>\n",
       "      <td>1</td>\n",
       "    </tr>\n",
       "    <tr>\n",
       "      <th>15</th>\n",
       "      <td>PS</td>\n",
       "      <td>0</td>\n",
       "      <td>0</td>\n",
       "      <td>0</td>\n",
       "      <td>0</td>\n",
       "      <td>0</td>\n",
       "      <td>0</td>\n",
       "      <td>0</td>\n",
       "      <td>0</td>\n",
       "      <td>0</td>\n",
       "      <td>0</td>\n",
       "      <td>0</td>\n",
       "      <td>0</td>\n",
       "      <td>0</td>\n",
       "      <td>0</td>\n",
       "      <td>17</td>\n",
       "      <td>99</td>\n",
       "      <td>164</td>\n",
       "      <td>188</td>\n",
       "      <td>248</td>\n",
       "      <td>200</td>\n",
       "      <td>160</td>\n",
       "      <td>91</td>\n",
       "      <td>20</td>\n",
       "      <td>3</td>\n",
       "      <td>0</td>\n",
       "      <td>0</td>\n",
       "      <td>0</td>\n",
       "      <td>0</td>\n",
       "      <td>0</td>\n",
       "      <td>0</td>\n",
       "      <td>0</td>\n",
       "      <td>0</td>\n",
       "      <td>0</td>\n",
       "      <td>0</td>\n",
       "      <td>0</td>\n",
       "      <td>0</td>\n",
       "      <td>0</td>\n",
       "      <td>1190</td>\n",
       "    </tr>\n",
       "    <tr>\n",
       "      <th>16</th>\n",
       "      <td>PS2</td>\n",
       "      <td>0</td>\n",
       "      <td>0</td>\n",
       "      <td>0</td>\n",
       "      <td>0</td>\n",
       "      <td>0</td>\n",
       "      <td>0</td>\n",
       "      <td>0</td>\n",
       "      <td>0</td>\n",
       "      <td>0</td>\n",
       "      <td>0</td>\n",
       "      <td>0</td>\n",
       "      <td>0</td>\n",
       "      <td>0</td>\n",
       "      <td>0</td>\n",
       "      <td>0</td>\n",
       "      <td>0</td>\n",
       "      <td>0</td>\n",
       "      <td>0</td>\n",
       "      <td>0</td>\n",
       "      <td>0</td>\n",
       "      <td>82</td>\n",
       "      <td>185</td>\n",
       "      <td>280</td>\n",
       "      <td>256</td>\n",
       "      <td>259</td>\n",
       "      <td>260</td>\n",
       "      <td>259</td>\n",
       "      <td>214</td>\n",
       "      <td>191</td>\n",
       "      <td>96</td>\n",
       "      <td>38</td>\n",
       "      <td>7</td>\n",
       "      <td>0</td>\n",
       "      <td>0</td>\n",
       "      <td>0</td>\n",
       "      <td>0</td>\n",
       "      <td>0</td>\n",
       "      <td>2127</td>\n",
       "    </tr>\n",
       "    <tr>\n",
       "      <th>17</th>\n",
       "      <td>PS3</td>\n",
       "      <td>0</td>\n",
       "      <td>0</td>\n",
       "      <td>0</td>\n",
       "      <td>0</td>\n",
       "      <td>0</td>\n",
       "      <td>0</td>\n",
       "      <td>0</td>\n",
       "      <td>0</td>\n",
       "      <td>0</td>\n",
       "      <td>0</td>\n",
       "      <td>0</td>\n",
       "      <td>0</td>\n",
       "      <td>0</td>\n",
       "      <td>0</td>\n",
       "      <td>0</td>\n",
       "      <td>0</td>\n",
       "      <td>0</td>\n",
       "      <td>0</td>\n",
       "      <td>0</td>\n",
       "      <td>0</td>\n",
       "      <td>0</td>\n",
       "      <td>0</td>\n",
       "      <td>0</td>\n",
       "      <td>0</td>\n",
       "      <td>0</td>\n",
       "      <td>0</td>\n",
       "      <td>27</td>\n",
       "      <td>90</td>\n",
       "      <td>138</td>\n",
       "      <td>162</td>\n",
       "      <td>181</td>\n",
       "      <td>215</td>\n",
       "      <td>148</td>\n",
       "      <td>126</td>\n",
       "      <td>108</td>\n",
       "      <td>73</td>\n",
       "      <td>38</td>\n",
       "      <td>1306</td>\n",
       "    </tr>\n",
       "    <tr>\n",
       "      <th>18</th>\n",
       "      <td>PS4</td>\n",
       "      <td>0</td>\n",
       "      <td>0</td>\n",
       "      <td>0</td>\n",
       "      <td>0</td>\n",
       "      <td>0</td>\n",
       "      <td>0</td>\n",
       "      <td>0</td>\n",
       "      <td>0</td>\n",
       "      <td>0</td>\n",
       "      <td>0</td>\n",
       "      <td>0</td>\n",
       "      <td>0</td>\n",
       "      <td>0</td>\n",
       "      <td>0</td>\n",
       "      <td>0</td>\n",
       "      <td>0</td>\n",
       "      <td>0</td>\n",
       "      <td>0</td>\n",
       "      <td>0</td>\n",
       "      <td>0</td>\n",
       "      <td>0</td>\n",
       "      <td>0</td>\n",
       "      <td>0</td>\n",
       "      <td>0</td>\n",
       "      <td>0</td>\n",
       "      <td>0</td>\n",
       "      <td>0</td>\n",
       "      <td>0</td>\n",
       "      <td>0</td>\n",
       "      <td>0</td>\n",
       "      <td>0</td>\n",
       "      <td>0</td>\n",
       "      <td>0</td>\n",
       "      <td>16</td>\n",
       "      <td>75</td>\n",
       "      <td>137</td>\n",
       "      <td>164</td>\n",
       "      <td>392</td>\n",
       "    </tr>\n",
       "    <tr>\n",
       "      <th>19</th>\n",
       "      <td>PSP</td>\n",
       "      <td>0</td>\n",
       "      <td>0</td>\n",
       "      <td>0</td>\n",
       "      <td>0</td>\n",
       "      <td>0</td>\n",
       "      <td>0</td>\n",
       "      <td>0</td>\n",
       "      <td>0</td>\n",
       "      <td>0</td>\n",
       "      <td>0</td>\n",
       "      <td>0</td>\n",
       "      <td>0</td>\n",
       "      <td>0</td>\n",
       "      <td>0</td>\n",
       "      <td>0</td>\n",
       "      <td>0</td>\n",
       "      <td>0</td>\n",
       "      <td>0</td>\n",
       "      <td>0</td>\n",
       "      <td>0</td>\n",
       "      <td>0</td>\n",
       "      <td>0</td>\n",
       "      <td>0</td>\n",
       "      <td>0</td>\n",
       "      <td>15</td>\n",
       "      <td>95</td>\n",
       "      <td>189</td>\n",
       "      <td>133</td>\n",
       "      <td>100</td>\n",
       "      <td>161</td>\n",
       "      <td>188</td>\n",
       "      <td>139</td>\n",
       "      <td>106</td>\n",
       "      <td>54</td>\n",
       "      <td>10</td>\n",
       "      <td>3</td>\n",
       "      <td>0</td>\n",
       "      <td>1193</td>\n",
       "    </tr>\n",
       "    <tr>\n",
       "      <th>20</th>\n",
       "      <td>PSV</td>\n",
       "      <td>0</td>\n",
       "      <td>0</td>\n",
       "      <td>0</td>\n",
       "      <td>0</td>\n",
       "      <td>0</td>\n",
       "      <td>0</td>\n",
       "      <td>0</td>\n",
       "      <td>0</td>\n",
       "      <td>0</td>\n",
       "      <td>0</td>\n",
       "      <td>0</td>\n",
       "      <td>0</td>\n",
       "      <td>0</td>\n",
       "      <td>0</td>\n",
       "      <td>0</td>\n",
       "      <td>0</td>\n",
       "      <td>0</td>\n",
       "      <td>0</td>\n",
       "      <td>0</td>\n",
       "      <td>0</td>\n",
       "      <td>0</td>\n",
       "      <td>0</td>\n",
       "      <td>0</td>\n",
       "      <td>0</td>\n",
       "      <td>0</td>\n",
       "      <td>0</td>\n",
       "      <td>0</td>\n",
       "      <td>0</td>\n",
       "      <td>0</td>\n",
       "      <td>0</td>\n",
       "      <td>0</td>\n",
       "      <td>18</td>\n",
       "      <td>53</td>\n",
       "      <td>63</td>\n",
       "      <td>100</td>\n",
       "      <td>110</td>\n",
       "      <td>85</td>\n",
       "      <td>429</td>\n",
       "    </tr>\n",
       "    <tr>\n",
       "      <th>21</th>\n",
       "      <td>SAT</td>\n",
       "      <td>0</td>\n",
       "      <td>0</td>\n",
       "      <td>0</td>\n",
       "      <td>0</td>\n",
       "      <td>0</td>\n",
       "      <td>0</td>\n",
       "      <td>0</td>\n",
       "      <td>0</td>\n",
       "      <td>0</td>\n",
       "      <td>0</td>\n",
       "      <td>0</td>\n",
       "      <td>0</td>\n",
       "      <td>0</td>\n",
       "      <td>0</td>\n",
       "      <td>19</td>\n",
       "      <td>52</td>\n",
       "      <td>38</td>\n",
       "      <td>34</td>\n",
       "      <td>29</td>\n",
       "      <td>1</td>\n",
       "      <td>0</td>\n",
       "      <td>0</td>\n",
       "      <td>0</td>\n",
       "      <td>0</td>\n",
       "      <td>0</td>\n",
       "      <td>0</td>\n",
       "      <td>0</td>\n",
       "      <td>0</td>\n",
       "      <td>0</td>\n",
       "      <td>0</td>\n",
       "      <td>0</td>\n",
       "      <td>0</td>\n",
       "      <td>0</td>\n",
       "      <td>0</td>\n",
       "      <td>0</td>\n",
       "      <td>0</td>\n",
       "      <td>0</td>\n",
       "      <td>173</td>\n",
       "    </tr>\n",
       "    <tr>\n",
       "      <th>22</th>\n",
       "      <td>SCD</td>\n",
       "      <td>0</td>\n",
       "      <td>0</td>\n",
       "      <td>0</td>\n",
       "      <td>0</td>\n",
       "      <td>0</td>\n",
       "      <td>0</td>\n",
       "      <td>0</td>\n",
       "      <td>0</td>\n",
       "      <td>0</td>\n",
       "      <td>0</td>\n",
       "      <td>0</td>\n",
       "      <td>0</td>\n",
       "      <td>0</td>\n",
       "      <td>1</td>\n",
       "      <td>5</td>\n",
       "      <td>0</td>\n",
       "      <td>0</td>\n",
       "      <td>0</td>\n",
       "      <td>0</td>\n",
       "      <td>0</td>\n",
       "      <td>0</td>\n",
       "      <td>0</td>\n",
       "      <td>0</td>\n",
       "      <td>0</td>\n",
       "      <td>0</td>\n",
       "      <td>0</td>\n",
       "      <td>0</td>\n",
       "      <td>0</td>\n",
       "      <td>0</td>\n",
       "      <td>0</td>\n",
       "      <td>0</td>\n",
       "      <td>0</td>\n",
       "      <td>0</td>\n",
       "      <td>0</td>\n",
       "      <td>0</td>\n",
       "      <td>0</td>\n",
       "      <td>0</td>\n",
       "      <td>6</td>\n",
       "    </tr>\n",
       "    <tr>\n",
       "      <th>23</th>\n",
       "      <td>SNES</td>\n",
       "      <td>0</td>\n",
       "      <td>0</td>\n",
       "      <td>0</td>\n",
       "      <td>0</td>\n",
       "      <td>0</td>\n",
       "      <td>0</td>\n",
       "      <td>0</td>\n",
       "      <td>0</td>\n",
       "      <td>0</td>\n",
       "      <td>0</td>\n",
       "      <td>4</td>\n",
       "      <td>24</td>\n",
       "      <td>21</td>\n",
       "      <td>46</td>\n",
       "      <td>53</td>\n",
       "      <td>54</td>\n",
       "      <td>30</td>\n",
       "      <td>4</td>\n",
       "      <td>2</td>\n",
       "      <td>1</td>\n",
       "      <td>0</td>\n",
       "      <td>0</td>\n",
       "      <td>0</td>\n",
       "      <td>0</td>\n",
       "      <td>0</td>\n",
       "      <td>0</td>\n",
       "      <td>0</td>\n",
       "      <td>0</td>\n",
       "      <td>0</td>\n",
       "      <td>0</td>\n",
       "      <td>0</td>\n",
       "      <td>0</td>\n",
       "      <td>0</td>\n",
       "      <td>0</td>\n",
       "      <td>0</td>\n",
       "      <td>0</td>\n",
       "      <td>0</td>\n",
       "      <td>239</td>\n",
       "    </tr>\n",
       "    <tr>\n",
       "      <th>24</th>\n",
       "      <td>TG16</td>\n",
       "      <td>0</td>\n",
       "      <td>0</td>\n",
       "      <td>0</td>\n",
       "      <td>0</td>\n",
       "      <td>0</td>\n",
       "      <td>0</td>\n",
       "      <td>0</td>\n",
       "      <td>0</td>\n",
       "      <td>0</td>\n",
       "      <td>0</td>\n",
       "      <td>0</td>\n",
       "      <td>0</td>\n",
       "      <td>0</td>\n",
       "      <td>0</td>\n",
       "      <td>0</td>\n",
       "      <td>2</td>\n",
       "      <td>0</td>\n",
       "      <td>0</td>\n",
       "      <td>0</td>\n",
       "      <td>0</td>\n",
       "      <td>0</td>\n",
       "      <td>0</td>\n",
       "      <td>0</td>\n",
       "      <td>0</td>\n",
       "      <td>0</td>\n",
       "      <td>0</td>\n",
       "      <td>0</td>\n",
       "      <td>0</td>\n",
       "      <td>0</td>\n",
       "      <td>0</td>\n",
       "      <td>0</td>\n",
       "      <td>0</td>\n",
       "      <td>0</td>\n",
       "      <td>0</td>\n",
       "      <td>0</td>\n",
       "      <td>0</td>\n",
       "      <td>0</td>\n",
       "      <td>2</td>\n",
       "    </tr>\n",
       "    <tr>\n",
       "      <th>25</th>\n",
       "      <td>WS</td>\n",
       "      <td>0</td>\n",
       "      <td>0</td>\n",
       "      <td>0</td>\n",
       "      <td>0</td>\n",
       "      <td>0</td>\n",
       "      <td>0</td>\n",
       "      <td>0</td>\n",
       "      <td>0</td>\n",
       "      <td>0</td>\n",
       "      <td>0</td>\n",
       "      <td>0</td>\n",
       "      <td>0</td>\n",
       "      <td>0</td>\n",
       "      <td>0</td>\n",
       "      <td>0</td>\n",
       "      <td>0</td>\n",
       "      <td>0</td>\n",
       "      <td>0</td>\n",
       "      <td>0</td>\n",
       "      <td>2</td>\n",
       "      <td>2</td>\n",
       "      <td>2</td>\n",
       "      <td>0</td>\n",
       "      <td>0</td>\n",
       "      <td>0</td>\n",
       "      <td>0</td>\n",
       "      <td>0</td>\n",
       "      <td>0</td>\n",
       "      <td>0</td>\n",
       "      <td>0</td>\n",
       "      <td>0</td>\n",
       "      <td>0</td>\n",
       "      <td>0</td>\n",
       "      <td>0</td>\n",
       "      <td>0</td>\n",
       "      <td>0</td>\n",
       "      <td>0</td>\n",
       "      <td>6</td>\n",
       "    </tr>\n",
       "    <tr>\n",
       "      <th>26</th>\n",
       "      <td>Wii</td>\n",
       "      <td>0</td>\n",
       "      <td>0</td>\n",
       "      <td>0</td>\n",
       "      <td>0</td>\n",
       "      <td>0</td>\n",
       "      <td>0</td>\n",
       "      <td>0</td>\n",
       "      <td>0</td>\n",
       "      <td>0</td>\n",
       "      <td>0</td>\n",
       "      <td>0</td>\n",
       "      <td>0</td>\n",
       "      <td>0</td>\n",
       "      <td>0</td>\n",
       "      <td>0</td>\n",
       "      <td>0</td>\n",
       "      <td>0</td>\n",
       "      <td>0</td>\n",
       "      <td>0</td>\n",
       "      <td>0</td>\n",
       "      <td>0</td>\n",
       "      <td>0</td>\n",
       "      <td>0</td>\n",
       "      <td>0</td>\n",
       "      <td>0</td>\n",
       "      <td>0</td>\n",
       "      <td>44</td>\n",
       "      <td>185</td>\n",
       "      <td>282</td>\n",
       "      <td>325</td>\n",
       "      <td>253</td>\n",
       "      <td>143</td>\n",
       "      <td>31</td>\n",
       "      <td>12</td>\n",
       "      <td>6</td>\n",
       "      <td>4</td>\n",
       "      <td>1</td>\n",
       "      <td>1286</td>\n",
       "    </tr>\n",
       "    <tr>\n",
       "      <th>27</th>\n",
       "      <td>WiiU</td>\n",
       "      <td>0</td>\n",
       "      <td>0</td>\n",
       "      <td>0</td>\n",
       "      <td>0</td>\n",
       "      <td>0</td>\n",
       "      <td>0</td>\n",
       "      <td>0</td>\n",
       "      <td>0</td>\n",
       "      <td>0</td>\n",
       "      <td>0</td>\n",
       "      <td>0</td>\n",
       "      <td>0</td>\n",
       "      <td>0</td>\n",
       "      <td>0</td>\n",
       "      <td>0</td>\n",
       "      <td>0</td>\n",
       "      <td>0</td>\n",
       "      <td>0</td>\n",
       "      <td>0</td>\n",
       "      <td>0</td>\n",
       "      <td>0</td>\n",
       "      <td>0</td>\n",
       "      <td>0</td>\n",
       "      <td>0</td>\n",
       "      <td>0</td>\n",
       "      <td>0</td>\n",
       "      <td>0</td>\n",
       "      <td>0</td>\n",
       "      <td>0</td>\n",
       "      <td>0</td>\n",
       "      <td>0</td>\n",
       "      <td>0</td>\n",
       "      <td>32</td>\n",
       "      <td>42</td>\n",
       "      <td>31</td>\n",
       "      <td>28</td>\n",
       "      <td>14</td>\n",
       "      <td>147</td>\n",
       "    </tr>\n",
       "    <tr>\n",
       "      <th>28</th>\n",
       "      <td>X360</td>\n",
       "      <td>0</td>\n",
       "      <td>0</td>\n",
       "      <td>0</td>\n",
       "      <td>0</td>\n",
       "      <td>0</td>\n",
       "      <td>0</td>\n",
       "      <td>0</td>\n",
       "      <td>0</td>\n",
       "      <td>0</td>\n",
       "      <td>0</td>\n",
       "      <td>0</td>\n",
       "      <td>0</td>\n",
       "      <td>0</td>\n",
       "      <td>0</td>\n",
       "      <td>0</td>\n",
       "      <td>0</td>\n",
       "      <td>0</td>\n",
       "      <td>0</td>\n",
       "      <td>0</td>\n",
       "      <td>0</td>\n",
       "      <td>0</td>\n",
       "      <td>0</td>\n",
       "      <td>0</td>\n",
       "      <td>0</td>\n",
       "      <td>0</td>\n",
       "      <td>18</td>\n",
       "      <td>93</td>\n",
       "      <td>123</td>\n",
       "      <td>146</td>\n",
       "      <td>172</td>\n",
       "      <td>182</td>\n",
       "      <td>206</td>\n",
       "      <td>106</td>\n",
       "      <td>75</td>\n",
       "      <td>63</td>\n",
       "      <td>35</td>\n",
       "      <td>13</td>\n",
       "      <td>1232</td>\n",
       "    </tr>\n",
       "    <tr>\n",
       "      <th>29</th>\n",
       "      <td>XB</td>\n",
       "      <td>0</td>\n",
       "      <td>0</td>\n",
       "      <td>0</td>\n",
       "      <td>0</td>\n",
       "      <td>0</td>\n",
       "      <td>0</td>\n",
       "      <td>0</td>\n",
       "      <td>0</td>\n",
       "      <td>0</td>\n",
       "      <td>0</td>\n",
       "      <td>0</td>\n",
       "      <td>0</td>\n",
       "      <td>0</td>\n",
       "      <td>0</td>\n",
       "      <td>0</td>\n",
       "      <td>0</td>\n",
       "      <td>0</td>\n",
       "      <td>0</td>\n",
       "      <td>0</td>\n",
       "      <td>0</td>\n",
       "      <td>1</td>\n",
       "      <td>33</td>\n",
       "      <td>158</td>\n",
       "      <td>189</td>\n",
       "      <td>177</td>\n",
       "      <td>179</td>\n",
       "      <td>62</td>\n",
       "      <td>3</td>\n",
       "      <td>1</td>\n",
       "      <td>0</td>\n",
       "      <td>0</td>\n",
       "      <td>0</td>\n",
       "      <td>0</td>\n",
       "      <td>0</td>\n",
       "      <td>0</td>\n",
       "      <td>0</td>\n",
       "      <td>0</td>\n",
       "      <td>803</td>\n",
       "    </tr>\n",
       "    <tr>\n",
       "      <th>30</th>\n",
       "      <td>XOne</td>\n",
       "      <td>0</td>\n",
       "      <td>0</td>\n",
       "      <td>0</td>\n",
       "      <td>0</td>\n",
       "      <td>0</td>\n",
       "      <td>0</td>\n",
       "      <td>0</td>\n",
       "      <td>0</td>\n",
       "      <td>0</td>\n",
       "      <td>0</td>\n",
       "      <td>0</td>\n",
       "      <td>0</td>\n",
       "      <td>0</td>\n",
       "      <td>0</td>\n",
       "      <td>0</td>\n",
       "      <td>0</td>\n",
       "      <td>0</td>\n",
       "      <td>0</td>\n",
       "      <td>0</td>\n",
       "      <td>0</td>\n",
       "      <td>0</td>\n",
       "      <td>0</td>\n",
       "      <td>0</td>\n",
       "      <td>0</td>\n",
       "      <td>0</td>\n",
       "      <td>0</td>\n",
       "      <td>0</td>\n",
       "      <td>0</td>\n",
       "      <td>0</td>\n",
       "      <td>0</td>\n",
       "      <td>0</td>\n",
       "      <td>0</td>\n",
       "      <td>0</td>\n",
       "      <td>19</td>\n",
       "      <td>61</td>\n",
       "      <td>80</td>\n",
       "      <td>87</td>\n",
       "      <td>247</td>\n",
       "    </tr>\n",
       "    <tr>\n",
       "      <th>31</th>\n",
       "      <td>All</td>\n",
       "      <td>9</td>\n",
       "      <td>46</td>\n",
       "      <td>36</td>\n",
       "      <td>17</td>\n",
       "      <td>14</td>\n",
       "      <td>14</td>\n",
       "      <td>21</td>\n",
       "      <td>16</td>\n",
       "      <td>15</td>\n",
       "      <td>17</td>\n",
       "      <td>16</td>\n",
       "      <td>41</td>\n",
       "      <td>43</td>\n",
       "      <td>60</td>\n",
       "      <td>121</td>\n",
       "      <td>219</td>\n",
       "      <td>263</td>\n",
       "      <td>289</td>\n",
       "      <td>379</td>\n",
       "      <td>338</td>\n",
       "      <td>350</td>\n",
       "      <td>482</td>\n",
       "      <td>829</td>\n",
       "      <td>775</td>\n",
       "      <td>762</td>\n",
       "      <td>939</td>\n",
       "      <td>1006</td>\n",
       "      <td>1197</td>\n",
       "      <td>1427</td>\n",
       "      <td>1426</td>\n",
       "      <td>1255</td>\n",
       "      <td>1136</td>\n",
       "      <td>653</td>\n",
       "      <td>544</td>\n",
       "      <td>581</td>\n",
       "      <td>606</td>\n",
       "      <td>502</td>\n",
       "      <td>16444</td>\n",
       "    </tr>\n",
       "  </tbody>\n",
       "</table>\n",
       "</div>"
      ],
      "text/plain": [
       "year_of_release platform  1980  1981  1982  1983  1984  1985  1986  1987  \\\n",
       "0                   2600     9    46    36    11     1     1     2     6   \n",
       "1                    3DO     0     0     0     0     0     0     0     0   \n",
       "2                    3DS     0     0     0     0     0     0     0     0   \n",
       "3                     DC     0     0     0     0     0     0     0     0   \n",
       "4                     DS     0     0     0     0     0     1     0     0   \n",
       "5                     GB     0     0     0     0     0     0     0     0   \n",
       "6                    GBA     0     0     0     0     0     0     0     0   \n",
       "7                     GC     0     0     0     0     0     0     0     0   \n",
       "8                    GEN     0     0     0     0     0     0     0     0   \n",
       "9                     GG     0     0     0     0     0     0     0     0   \n",
       "10                   N64     0     0     0     0     0     0     0     0   \n",
       "11                   NES     0     0     0     6    13    11    19    10   \n",
       "12                    NG     0     0     0     0     0     0     0     0   \n",
       "13                    PC     0     0     0     0     0     1     0     0   \n",
       "14                  PCFX     0     0     0     0     0     0     0     0   \n",
       "15                    PS     0     0     0     0     0     0     0     0   \n",
       "16                   PS2     0     0     0     0     0     0     0     0   \n",
       "17                   PS3     0     0     0     0     0     0     0     0   \n",
       "18                   PS4     0     0     0     0     0     0     0     0   \n",
       "19                   PSP     0     0     0     0     0     0     0     0   \n",
       "20                   PSV     0     0     0     0     0     0     0     0   \n",
       "21                   SAT     0     0     0     0     0     0     0     0   \n",
       "22                   SCD     0     0     0     0     0     0     0     0   \n",
       "23                  SNES     0     0     0     0     0     0     0     0   \n",
       "24                  TG16     0     0     0     0     0     0     0     0   \n",
       "25                    WS     0     0     0     0     0     0     0     0   \n",
       "26                   Wii     0     0     0     0     0     0     0     0   \n",
       "27                  WiiU     0     0     0     0     0     0     0     0   \n",
       "28                  X360     0     0     0     0     0     0     0     0   \n",
       "29                    XB     0     0     0     0     0     0     0     0   \n",
       "30                  XOne     0     0     0     0     0     0     0     0   \n",
       "31                   All     9    46    36    17    14    14    21    16   \n",
       "\n",
       "year_of_release  1988  1989  1990  1991  1992  1993  1994  1995  1996  1997  \\\n",
       "0                   2     2     0     0     0     0     0     0     0     0   \n",
       "1                   0     0     0     0     0     0     1     2     0     0   \n",
       "2                   0     0     0     0     0     0     0     0     0     0   \n",
       "3                   0     0     0     0     0     0     0     0     0     0   \n",
       "4                   0     0     0     0     0     0     0     0     0     0   \n",
       "5                   1    10     3     9     7     0     3     4     6     8   \n",
       "6                   0     0     0     0     0     0     0     0     0     0   \n",
       "7                   0     0     0     0     0     0     0     0     0     0   \n",
       "8                   0     0     1     1     6     7    12     0     0     0   \n",
       "9                   0     0     0     0     1     0     0     0     0     0   \n",
       "10                  0     0     0     0     0     0     0     0    18    49   \n",
       "11                 11     5     8     7     3     4     1     0     0     0   \n",
       "12                  0     0     0     0     0     2     4     4     2     0   \n",
       "13                  1     0     0     0     5     0     6     2     4     6   \n",
       "14                  0     0     0     0     0     0     0     0     1     0   \n",
       "15                  0     0     0     0     0     0    17    99   164   188   \n",
       "16                  0     0     0     0     0     0     0     0     0     0   \n",
       "17                  0     0     0     0     0     0     0     0     0     0   \n",
       "18                  0     0     0     0     0     0     0     0     0     0   \n",
       "19                  0     0     0     0     0     0     0     0     0     0   \n",
       "20                  0     0     0     0     0     0     0     0     0     0   \n",
       "21                  0     0     0     0     0     0    19    52    38    34   \n",
       "22                  0     0     0     0     0     1     5     0     0     0   \n",
       "23                  0     0     4    24    21    46    53    54    30     4   \n",
       "24                  0     0     0     0     0     0     0     2     0     0   \n",
       "25                  0     0     0     0     0     0     0     0     0     0   \n",
       "26                  0     0     0     0     0     0     0     0     0     0   \n",
       "27                  0     0     0     0     0     0     0     0     0     0   \n",
       "28                  0     0     0     0     0     0     0     0     0     0   \n",
       "29                  0     0     0     0     0     0     0     0     0     0   \n",
       "30                  0     0     0     0     0     0     0     0     0     0   \n",
       "31                 15    17    16    41    43    60   121   219   263   289   \n",
       "\n",
       "year_of_release  1998  1999  2000  2001  2002  2003  2004  2005  2006  2007  \\\n",
       "0                   0     0     0     0     0     0     0     0     0     0   \n",
       "1                   0     0     0     0     0     0     0     0     0     0   \n",
       "2                   0     0     0     0     0     0     0     0     0     0   \n",
       "3                   7    14    20     8     1     0     0     0     0     1   \n",
       "4                   0     0     0     0     0     0    23   118   201   376   \n",
       "5                   8    11    17    10     0     0     0     0     0     0   \n",
       "6                   0     0     1   107   198   150   175   135    39     6   \n",
       "7                   0     0     0    22   152   144    83    97    40     4   \n",
       "8                   0     0     0     0     0     0     0     0     0     0   \n",
       "9                   0     0     0     0     0     0     0     0     0     0   \n",
       "10                 77   102    60     9     1     0     0     0     0     0   \n",
       "11                  0     0     0     0     0     0     0     0     0     0   \n",
       "12                  0     0     0     0     0     0     0     0     0     0   \n",
       "13                  8     7     7    15    19    33    30    37    52    62   \n",
       "14                  0     0     0     0     0     0     0     0     0     0   \n",
       "15                248   200   160    91    20     3     0     0     0     0   \n",
       "16                  0     0    82   185   280   256   259   260   259   214   \n",
       "17                  0     0     0     0     0     0     0     0    27    90   \n",
       "18                  0     0     0     0     0     0     0     0     0     0   \n",
       "19                  0     0     0     0     0     0    15    95   189   133   \n",
       "20                  0     0     0     0     0     0     0     0     0     0   \n",
       "21                 29     1     0     0     0     0     0     0     0     0   \n",
       "22                  0     0     0     0     0     0     0     0     0     0   \n",
       "23                  2     1     0     0     0     0     0     0     0     0   \n",
       "24                  0     0     0     0     0     0     0     0     0     0   \n",
       "25                  0     2     2     2     0     0     0     0     0     0   \n",
       "26                  0     0     0     0     0     0     0     0    44   185   \n",
       "27                  0     0     0     0     0     0     0     0     0     0   \n",
       "28                  0     0     0     0     0     0     0    18    93   123   \n",
       "29                  0     0     1    33   158   189   177   179    62     3   \n",
       "30                  0     0     0     0     0     0     0     0     0     0   \n",
       "31                379   338   350   482   829   775   762   939  1006  1197   \n",
       "\n",
       "year_of_release  2008  2009  2010  2011  2012  2013  2014  2015  2016    All  \n",
       "0                   0     0     0     0     0     0     0     0     0    116  \n",
       "1                   0     0     0     0     0     0     0     0     0      3  \n",
       "2                   0     0     0   116    93    91    80    86    46    512  \n",
       "3                   1     0     0     0     0     0     0     0     0     52  \n",
       "4                 492   403   323   153    23     8     0     0     0   2121  \n",
       "5                   0     0     0     0     0     0     0     0     0     97  \n",
       "6                   0     0     0     0     0     0     0     0     0    811  \n",
       "7                   0     0     0     0     0     0     0     0     0    542  \n",
       "8                   0     0     0     0     0     0     0     0     0     27  \n",
       "9                   0     0     0     0     0     0     0     0     0      1  \n",
       "10                  0     0     0     0     0     0     0     0     0    316  \n",
       "11                  0     0     0     0     0     0     0     0     0     98  \n",
       "12                  0     0     0     0     0     0     0     0     0     12  \n",
       "13                 76   107    90   139    61    38    47    50    54    957  \n",
       "14                  0     0     0     0     0     0     0     0     0      1  \n",
       "15                  0     0     0     0     0     0     0     0     0   1190  \n",
       "16                191    96    38     7     0     0     0     0     0   2127  \n",
       "17                138   162   181   215   148   126   108    73    38   1306  \n",
       "18                  0     0     0     0     0    16    75   137   164    392  \n",
       "19                100   161   188   139   106    54    10     3     0   1193  \n",
       "20                  0     0     0    18    53    63   100   110    85    429  \n",
       "21                  0     0     0     0     0     0     0     0     0    173  \n",
       "22                  0     0     0     0     0     0     0     0     0      6  \n",
       "23                  0     0     0     0     0     0     0     0     0    239  \n",
       "24                  0     0     0     0     0     0     0     0     0      2  \n",
       "25                  0     0     0     0     0     0     0     0     0      6  \n",
       "26                282   325   253   143    31    12     6     4     1   1286  \n",
       "27                  0     0     0     0    32    42    31    28    14    147  \n",
       "28                146   172   182   206   106    75    63    35    13   1232  \n",
       "29                  1     0     0     0     0     0     0     0     0    803  \n",
       "30                  0     0     0     0     0    19    61    80    87    247  \n",
       "31               1427  1426  1255  1136   653   544   581   606   502  16444  "
      ]
     },
     "execution_count": 31,
     "metadata": {},
     "output_type": "execute_result"
    }
   ],
   "source": [
    "games_years = df.pivot_table(index = 'platform', \n",
    "                                columns = 'year_of_release', values = 'name', \n",
    "                                aggfunc='count',\n",
    "                                fill_value=0,\n",
    "                                margins=True\n",
    "                               ).reset_index()\n",
    "                               \n",
    "pd.set_option('display.max_columns', None)\n",
    "games_years"
   ]
  },
  {
   "cell_type": "code",
   "execution_count": 32,
   "metadata": {},
   "outputs": [
    {
     "data": {
      "image/png": "[encoded data removed]",
      "text/plain": [
       "<Figure size 1152x648 with 1 Axes>"
      ]
     },
     "metadata": {
      "needs_background": "light"
     },
     "output_type": "display_data"
    }
   ],
   "source": [
    "#посмотрим, на распределение компьютерных игр по годам в разрезе платформ\n",
    "fig, ax = plt.subplots(figsize=(20, 10))\n",
    "\n",
    "df.pivot_table(index='platform',\n",
    "              columns='year_of_release',\n",
    "              values='name',\n",
    "              aggfunc='count').T.plot(kind='bar',stacked=True, ax=ax, figsize=(16,9), alpha=0.5)\n",
    "ax.legend(bbox_to_anchor=(1.0, 1.0))\n",
    "ax.set_xlabel('Годы')\n",
    "ax.set_ylabel('Количество выпущенных игр')\n",
    "ax.set_title('Распределение по годам количества выпущенных игр в разрезе платформ')\n",
    "\n",
    "plt.show()"
   ]
  },
  {
   "cell_type": "markdown",
   "metadata": {},
   "source": [
    "Наибольшее количество игр выпускалось в промежутке с 2002-го по 2011-й годы.\n",
    "Наибольшее количество игр выпустили платформы PS2 и PS3 (производитель Sony), DS и Wii (производитель Nintendo), X360 (производитель Microsoft). Есть платформы, которые больше не выпускают игры и наборот, есть активные (на момент выгрузки данных) производители. С учетом того, что целью данного исследования является выявление закономерности успешных игр, смотреть на данные платформ, которые не выпускали игры продолжительное время, не стоит."
   ]
  },
  {
   "cell_type": "markdown",
   "metadata": {},
   "source": [
    "Выберем платформы с наибольшими суммарными продажами, например первые ТОП-7"
   ]
  },
  {
   "cell_type": "code",
   "execution_count": 33,
   "metadata": {},
   "outputs": [
    {
     "data": {
      "text/html": [
       "<div>\n",
       "<style scoped>\n",
       "    .dataframe tbody tr th:only-of-type {\n",
       "        vertical-align: middle;\n",
       "    }\n",
       "\n",
       "    .dataframe tbody tr th {\n",
       "        vertical-align: top;\n",
       "    }\n",
       "\n",
       "    .dataframe thead th {\n",
       "        text-align: right;\n",
       "    }\n",
       "</style>\n",
       "<table border=\"1\" class=\"dataframe\">\n",
       "  <thead>\n",
       "    <tr style=\"text-align: right;\">\n",
       "      <th></th>\n",
       "      <th>platform</th>\n",
       "      <th>total_sales</th>\n",
       "    </tr>\n",
       "  </thead>\n",
       "  <tbody>\n",
       "    <tr>\n",
       "      <th>16</th>\n",
       "      <td>PS2</td>\n",
       "      <td>1233.56</td>\n",
       "    </tr>\n",
       "    <tr>\n",
       "      <th>28</th>\n",
       "      <td>X360</td>\n",
       "      <td>961.24</td>\n",
       "    </tr>\n",
       "    <tr>\n",
       "      <th>17</th>\n",
       "      <td>PS3</td>\n",
       "      <td>931.34</td>\n",
       "    </tr>\n",
       "    <tr>\n",
       "      <th>26</th>\n",
       "      <td>Wii</td>\n",
       "      <td>891.18</td>\n",
       "    </tr>\n",
       "    <tr>\n",
       "      <th>4</th>\n",
       "      <td>DS</td>\n",
       "      <td>802.78</td>\n",
       "    </tr>\n",
       "    <tr>\n",
       "      <th>15</th>\n",
       "      <td>PS</td>\n",
       "      <td>727.58</td>\n",
       "    </tr>\n",
       "    <tr>\n",
       "      <th>18</th>\n",
       "      <td>PS4</td>\n",
       "      <td>314.14</td>\n",
       "    </tr>\n",
       "  </tbody>\n",
       "</table>\n",
       "</div>"
      ],
      "text/plain": [
       "   platform  total_sales\n",
       "16      PS2      1233.56\n",
       "28     X360       961.24\n",
       "17      PS3       931.34\n",
       "26      Wii       891.18\n",
       "4        DS       802.78\n",
       "15       PS       727.58\n",
       "18      PS4       314.14"
      ]
     },
     "execution_count": 33,
     "metadata": {},
     "output_type": "execute_result"
    }
   ],
   "source": [
    "# сделаем группировку по платформам, выберем платформы с наибольшими суммарными продажами, \n",
    "# например первые ТОП-7\n",
    "df.groupby('platform').sum()[['total_sales']].reset_index().sort_values(\n",
    "    by='total_sales', ascending=False\n",
    ").head(7)"
   ]
  },
  {
   "cell_type": "code",
   "execution_count": 34,
   "metadata": {},
   "outputs": [
    {
     "data": {
      "image/png": "[encoded data removed]",
      "text/plain": [
       "<Figure size 864x432 with 1 Axes>"
      ]
     },
     "metadata": {
      "needs_background": "light"
     },
     "output_type": "display_data"
    }
   ],
   "source": [
    "#построим распределение продаж по годам (я о платформах)\n",
    "top_sales = df.pivot_table(index = 'year_of_release', columns = 'platform', values = 'total_sales', \n",
    "    aggfunc = 'sum').fillna(0)\n",
    "top_sales = top_sales[['PS2', 'X360','PS3','Wii', 'DS', 'PS', 'PS4']]\n",
    "ax = top_sales.plot(xticks=top_sales.index,figsize=(12,6))\n",
    "plt.xticks(rotation = 45) # Rotates X-Axis Ticks by 45-degrees\n",
    "ylab = ax.set_ylabel('Продажи, млн.копий')\n",
    "xlab = ax.set_xlabel('Годы')\n",
    "plt.title('Распределение продаж у ТОП-7 платформ по суммарным продажам')\n",
    "plt.show()    "
   ]
  },
  {
   "cell_type": "markdown",
   "metadata": {},
   "source": [
    "Цикл появления новых и исчезновения старых платформ составляет примерно 12 лет. Таким образом, для прогнозирования подаж на следующий год нужно использовать данные за последние 5 лет: платформы, продажи которых растут в течение этого срока, являются наиболее перспективными (пара лет до пика продаж и впереди достаточно большой срок, когда продажи будут падать, но игры все еще будут востребованы и ликвидны).\n",
    "\n",
    "Решение такое  - смотрим данные за 2012-2016 гг., чтобы понять, какие платформы окажутся в лидерах."
   ]
  },
  {
   "cell_type": "code",
   "execution_count": 35,
   "metadata": {},
   "outputs": [
    {
     "data": {
      "image/png": "[encoded data removed]",
      "text/plain": [
       "<Figure size 864x432 with 1 Axes>"
      ]
     },
     "metadata": {
      "needs_background": "light"
     },
     "output_type": "display_data"
    }
   ],
   "source": [
    "#отрезаем лишнее, все, что старше 2012\n",
    "df_sales = df.query('year_of_release >= 2012').pivot_table(\n",
    "    index = 'year_of_release', \n",
    "    columns = 'platform',\n",
    "    values = 'total_sales', \n",
    "    aggfunc = 'sum'\n",
    "    ).fillna(0)\n",
    "ax = df_sales.plot(xticks=df_sales.index,figsize=(12,6))\n",
    "plt.xticks(rotation = 45) \n",
    "ylab = ax.set_ylabel('Продажи, млн.копий')\n",
    "xlab = ax.set_xlabel('Годы')\n",
    "plt.title('Распределение продаж платформ за 2012 - 2016 гг.')\n",
    "plt.show()   "
   ]
  },
  {
   "cell_type": "markdown",
   "metadata": {},
   "source": [
    "Cамыми прибыльными платформами являются Sony PlayStation 4 и Xbox One от Microsoft. Некоторое время будут актуальны игры для платформ Nintendo 3DS, Wii U, Xbox 360 и PlayStation 3. Остальные платформы уже упали в продажах и ждать второго дыхания в 2017 году не стоит. Конечно, на графике виден спад абсолютно всех продаж в 2016 году, но это связано с тем, что просто нет полных данных за этот период.\n",
    "\n",
    "Зафиксируем подитог  - перспективными платформами являются PS4, PS3, XOne, X360, WiiU и 3DS, а актуальный период исследования - 5 лет, т.е. 2012-2016 годы."
   ]
  },
  {
   "cell_type": "code",
   "execution_count": 36,
   "metadata": {},
   "outputs": [
    {
     "data": {
      "text/html": [
       "<div>\n",
       "<style scoped>\n",
       "    .dataframe tbody tr th:only-of-type {\n",
       "        vertical-align: middle;\n",
       "    }\n",
       "\n",
       "    .dataframe tbody tr th {\n",
       "        vertical-align: top;\n",
       "    }\n",
       "\n",
       "    .dataframe thead th {\n",
       "        text-align: right;\n",
       "    }\n",
       "</style>\n",
       "<table border=\"1\" class=\"dataframe\">\n",
       "  <thead>\n",
       "    <tr style=\"text-align: right;\">\n",
       "      <th></th>\n",
       "      <th>name</th>\n",
       "      <th>platform</th>\n",
       "      <th>year_of_release</th>\n",
       "      <th>genre</th>\n",
       "      <th>na_sales</th>\n",
       "      <th>eu_sales</th>\n",
       "      <th>jp_sales</th>\n",
       "      <th>other_sales</th>\n",
       "      <th>critic_score</th>\n",
       "      <th>user_score</th>\n",
       "      <th>rating</th>\n",
       "      <th>total_sales</th>\n",
       "    </tr>\n",
       "  </thead>\n",
       "  <tbody>\n",
       "    <tr>\n",
       "      <th>16</th>\n",
       "      <td>Grand Theft Auto V</td>\n",
       "      <td>PS3</td>\n",
       "      <td>2013</td>\n",
       "      <td>Action</td>\n",
       "      <td>7.02</td>\n",
       "      <td>9.09</td>\n",
       "      <td>0.98</td>\n",
       "      <td>3.96</td>\n",
       "      <td>97.0</td>\n",
       "      <td>8.2</td>\n",
       "      <td>M</td>\n",
       "      <td>21.05</td>\n",
       "    </tr>\n",
       "    <tr>\n",
       "      <th>23</th>\n",
       "      <td>Grand Theft Auto V</td>\n",
       "      <td>X360</td>\n",
       "      <td>2013</td>\n",
       "      <td>Action</td>\n",
       "      <td>9.66</td>\n",
       "      <td>5.14</td>\n",
       "      <td>0.06</td>\n",
       "      <td>1.41</td>\n",
       "      <td>97.0</td>\n",
       "      <td>8.1</td>\n",
       "      <td>M</td>\n",
       "      <td>16.27</td>\n",
       "    </tr>\n",
       "    <tr>\n",
       "      <th>31</th>\n",
       "      <td>Call of Duty: Black Ops 3</td>\n",
       "      <td>PS4</td>\n",
       "      <td>2015</td>\n",
       "      <td>Shooter</td>\n",
       "      <td>6.03</td>\n",
       "      <td>5.86</td>\n",
       "      <td>0.36</td>\n",
       "      <td>2.38</td>\n",
       "      <td>NaN</td>\n",
       "      <td>NaN</td>\n",
       "      <td>no_rating</td>\n",
       "      <td>14.63</td>\n",
       "    </tr>\n",
       "    <tr>\n",
       "      <th>33</th>\n",
       "      <td>Pokemon X/Pokemon Y</td>\n",
       "      <td>3DS</td>\n",
       "      <td>2013</td>\n",
       "      <td>Role-Playing</td>\n",
       "      <td>5.28</td>\n",
       "      <td>4.19</td>\n",
       "      <td>4.35</td>\n",
       "      <td>0.78</td>\n",
       "      <td>NaN</td>\n",
       "      <td>NaN</td>\n",
       "      <td>no_rating</td>\n",
       "      <td>14.60</td>\n",
       "    </tr>\n",
       "    <tr>\n",
       "      <th>34</th>\n",
       "      <td>Call of Duty: Black Ops II</td>\n",
       "      <td>PS3</td>\n",
       "      <td>2012</td>\n",
       "      <td>Shooter</td>\n",
       "      <td>4.99</td>\n",
       "      <td>5.73</td>\n",
       "      <td>0.65</td>\n",
       "      <td>2.42</td>\n",
       "      <td>83.0</td>\n",
       "      <td>5.3</td>\n",
       "      <td>M</td>\n",
       "      <td>13.79</td>\n",
       "    </tr>\n",
       "  </tbody>\n",
       "</table>\n",
       "</div>"
      ],
      "text/plain": [
       "                          name platform  year_of_release         genre  \\\n",
       "16          Grand Theft Auto V      PS3             2013        Action   \n",
       "23          Grand Theft Auto V     X360             2013        Action   \n",
       "31   Call of Duty: Black Ops 3      PS4             2015       Shooter   \n",
       "33         Pokemon X/Pokemon Y      3DS             2013  Role-Playing   \n",
       "34  Call of Duty: Black Ops II      PS3             2012       Shooter   \n",
       "\n",
       "    na_sales  eu_sales  jp_sales  other_sales  critic_score  user_score  \\\n",
       "16      7.02      9.09      0.98         3.96          97.0         8.2   \n",
       "23      9.66      5.14      0.06         1.41          97.0         8.1   \n",
       "31      6.03      5.86      0.36         2.38           NaN         NaN   \n",
       "33      5.28      4.19      4.35         0.78           NaN         NaN   \n",
       "34      4.99      5.73      0.65         2.42          83.0         5.3   \n",
       "\n",
       "       rating  total_sales  \n",
       "16          M        21.05  \n",
       "23          M        16.27  \n",
       "31  no_rating        14.63  \n",
       "33  no_rating        14.60  \n",
       "34          M        13.79  "
      ]
     },
     "execution_count": 36,
     "metadata": {},
     "output_type": "execute_result"
    }
   ],
   "source": [
    "#убираем лишнее из датасета\n",
    "games_top = df.query('year_of_release >= 2012 & platform in [\"PS4\", \"XOne\", \"PS3\", \"X360\", \"WiiU\", \"3DS\"]')\n",
    "games_top.head()"
   ]
  },
  {
   "cell_type": "code",
   "execution_count": 37,
   "metadata": {},
   "outputs": [
    {
     "data": {
      "text/html": [
       "<div>\n",
       "<style scoped>\n",
       "    .dataframe tbody tr th:only-of-type {\n",
       "        vertical-align: middle;\n",
       "    }\n",
       "\n",
       "    .dataframe tbody tr th {\n",
       "        vertical-align: top;\n",
       "    }\n",
       "\n",
       "    .dataframe thead th {\n",
       "        text-align: right;\n",
       "    }\n",
       "</style>\n",
       "<table border=\"1\" class=\"dataframe\">\n",
       "  <thead>\n",
       "    <tr style=\"text-align: right;\">\n",
       "      <th></th>\n",
       "      <th>name</th>\n",
       "      <th>platform</th>\n",
       "      <th>year_of_release</th>\n",
       "      <th>genre</th>\n",
       "      <th>na_sales</th>\n",
       "      <th>eu_sales</th>\n",
       "      <th>jp_sales</th>\n",
       "      <th>other_sales</th>\n",
       "      <th>critic_score</th>\n",
       "      <th>user_score</th>\n",
       "      <th>rating</th>\n",
       "      <th>total_sales</th>\n",
       "    </tr>\n",
       "  </thead>\n",
       "  <tbody>\n",
       "    <tr>\n",
       "      <th>16</th>\n",
       "      <td>Grand Theft Auto V</td>\n",
       "      <td>PS3</td>\n",
       "      <td>2013</td>\n",
       "      <td>Action</td>\n",
       "      <td>7.02</td>\n",
       "      <td>9.09</td>\n",
       "      <td>0.98</td>\n",
       "      <td>3.96</td>\n",
       "      <td>97.0</td>\n",
       "      <td>8.2</td>\n",
       "      <td>M</td>\n",
       "      <td>21.05</td>\n",
       "    </tr>\n",
       "    <tr>\n",
       "      <th>23</th>\n",
       "      <td>Grand Theft Auto V</td>\n",
       "      <td>X360</td>\n",
       "      <td>2013</td>\n",
       "      <td>Action</td>\n",
       "      <td>9.66</td>\n",
       "      <td>5.14</td>\n",
       "      <td>0.06</td>\n",
       "      <td>1.41</td>\n",
       "      <td>97.0</td>\n",
       "      <td>8.1</td>\n",
       "      <td>M</td>\n",
       "      <td>16.27</td>\n",
       "    </tr>\n",
       "    <tr>\n",
       "      <th>31</th>\n",
       "      <td>Call of Duty: Black Ops 3</td>\n",
       "      <td>PS4</td>\n",
       "      <td>2015</td>\n",
       "      <td>Shooter</td>\n",
       "      <td>6.03</td>\n",
       "      <td>5.86</td>\n",
       "      <td>0.36</td>\n",
       "      <td>2.38</td>\n",
       "      <td>NaN</td>\n",
       "      <td>NaN</td>\n",
       "      <td>no_rating</td>\n",
       "      <td>14.63</td>\n",
       "    </tr>\n",
       "    <tr>\n",
       "      <th>33</th>\n",
       "      <td>Pokemon X/Pokemon Y</td>\n",
       "      <td>3DS</td>\n",
       "      <td>2013</td>\n",
       "      <td>Role-Playing</td>\n",
       "      <td>5.28</td>\n",
       "      <td>4.19</td>\n",
       "      <td>4.35</td>\n",
       "      <td>0.78</td>\n",
       "      <td>NaN</td>\n",
       "      <td>NaN</td>\n",
       "      <td>no_rating</td>\n",
       "      <td>14.60</td>\n",
       "    </tr>\n",
       "    <tr>\n",
       "      <th>34</th>\n",
       "      <td>Call of Duty: Black Ops II</td>\n",
       "      <td>PS3</td>\n",
       "      <td>2012</td>\n",
       "      <td>Shooter</td>\n",
       "      <td>4.99</td>\n",
       "      <td>5.73</td>\n",
       "      <td>0.65</td>\n",
       "      <td>2.42</td>\n",
       "      <td>83.0</td>\n",
       "      <td>5.3</td>\n",
       "      <td>M</td>\n",
       "      <td>13.79</td>\n",
       "    </tr>\n",
       "    <tr>\n",
       "      <th>35</th>\n",
       "      <td>Call of Duty: Black Ops II</td>\n",
       "      <td>X360</td>\n",
       "      <td>2012</td>\n",
       "      <td>Shooter</td>\n",
       "      <td>8.25</td>\n",
       "      <td>4.24</td>\n",
       "      <td>0.07</td>\n",
       "      <td>1.12</td>\n",
       "      <td>83.0</td>\n",
       "      <td>4.8</td>\n",
       "      <td>M</td>\n",
       "      <td>13.68</td>\n",
       "    </tr>\n",
       "    <tr>\n",
       "      <th>42</th>\n",
       "      <td>Grand Theft Auto V</td>\n",
       "      <td>PS4</td>\n",
       "      <td>2014</td>\n",
       "      <td>Action</td>\n",
       "      <td>3.96</td>\n",
       "      <td>6.31</td>\n",
       "      <td>0.38</td>\n",
       "      <td>1.97</td>\n",
       "      <td>97.0</td>\n",
       "      <td>8.3</td>\n",
       "      <td>M</td>\n",
       "      <td>12.62</td>\n",
       "    </tr>\n",
       "    <tr>\n",
       "      <th>47</th>\n",
       "      <td>Pokemon Omega Ruby/Pokemon Alpha Sapphire</td>\n",
       "      <td>3DS</td>\n",
       "      <td>2014</td>\n",
       "      <td>Role-Playing</td>\n",
       "      <td>4.35</td>\n",
       "      <td>3.49</td>\n",
       "      <td>3.10</td>\n",
       "      <td>0.74</td>\n",
       "      <td>NaN</td>\n",
       "      <td>NaN</td>\n",
       "      <td>no_rating</td>\n",
       "      <td>11.68</td>\n",
       "    </tr>\n",
       "    <tr>\n",
       "      <th>60</th>\n",
       "      <td>Call of Duty: Ghosts</td>\n",
       "      <td>X360</td>\n",
       "      <td>2013</td>\n",
       "      <td>Shooter</td>\n",
       "      <td>6.73</td>\n",
       "      <td>2.56</td>\n",
       "      <td>0.04</td>\n",
       "      <td>0.91</td>\n",
       "      <td>73.0</td>\n",
       "      <td>2.6</td>\n",
       "      <td>M</td>\n",
       "      <td>10.24</td>\n",
       "    </tr>\n",
       "    <tr>\n",
       "      <th>62</th>\n",
       "      <td>New Super Mario Bros. 2</td>\n",
       "      <td>3DS</td>\n",
       "      <td>2012</td>\n",
       "      <td>Platform</td>\n",
       "      <td>3.66</td>\n",
       "      <td>3.14</td>\n",
       "      <td>2.47</td>\n",
       "      <td>0.63</td>\n",
       "      <td>78.0</td>\n",
       "      <td>7.2</td>\n",
       "      <td>E</td>\n",
       "      <td>9.90</td>\n",
       "    </tr>\n",
       "  </tbody>\n",
       "</table>\n",
       "</div>"
      ],
      "text/plain": [
       "                                         name platform  year_of_release  \\\n",
       "16                         Grand Theft Auto V      PS3             2013   \n",
       "23                         Grand Theft Auto V     X360             2013   \n",
       "31                  Call of Duty: Black Ops 3      PS4             2015   \n",
       "33                        Pokemon X/Pokemon Y      3DS             2013   \n",
       "34                 Call of Duty: Black Ops II      PS3             2012   \n",
       "35                 Call of Duty: Black Ops II     X360             2012   \n",
       "42                         Grand Theft Auto V      PS4             2014   \n",
       "47  Pokemon Omega Ruby/Pokemon Alpha Sapphire      3DS             2014   \n",
       "60                       Call of Duty: Ghosts     X360             2013   \n",
       "62                    New Super Mario Bros. 2      3DS             2012   \n",
       "\n",
       "           genre  na_sales  eu_sales  jp_sales  other_sales  critic_score  \\\n",
       "16        Action      7.02      9.09      0.98         3.96          97.0   \n",
       "23        Action      9.66      5.14      0.06         1.41          97.0   \n",
       "31       Shooter      6.03      5.86      0.36         2.38           NaN   \n",
       "33  Role-Playing      5.28      4.19      4.35         0.78           NaN   \n",
       "34       Shooter      4.99      5.73      0.65         2.42          83.0   \n",
       "35       Shooter      8.25      4.24      0.07         1.12          83.0   \n",
       "42        Action      3.96      6.31      0.38         1.97          97.0   \n",
       "47  Role-Playing      4.35      3.49      3.10         0.74           NaN   \n",
       "60       Shooter      6.73      2.56      0.04         0.91          73.0   \n",
       "62      Platform      3.66      3.14      2.47         0.63          78.0   \n",
       "\n",
       "    user_score     rating  total_sales  \n",
       "16         8.2          M        21.05  \n",
       "23         8.1          M        16.27  \n",
       "31         NaN  no_rating        14.63  \n",
       "33         NaN  no_rating        14.60  \n",
       "34         5.3          M        13.79  \n",
       "35         4.8          M        13.68  \n",
       "42         8.3          M        12.62  \n",
       "47         NaN  no_rating        11.68  \n",
       "60         2.6          M        10.24  \n",
       "62         7.2          E         9.90  "
      ]
     },
     "execution_count": 37,
     "metadata": {},
     "output_type": "execute_result"
    }
   ],
   "source": [
    "games_top = df.query('year_of_release >= 2012')\n",
    "games_top.head(10)"
   ]
  },
  {
   "cell_type": "code",
   "execution_count": 38,
   "metadata": {},
   "outputs": [
    {
     "data": {
      "image/png": "[encoded data removed]",
      "text/plain": [
       "<Figure size 864x432 with 1 Axes>"
      ]
     },
     "metadata": {
      "needs_background": "light"
     },
     "output_type": "display_data"
    }
   ],
   "source": [
    "#строим 'ящик с усами' для распределения глобальных продаж игр в разбивке по всем платформам\n",
    "plt.figure(figsize=(12,6))\n",
    "\n",
    "ax = sns.boxplot(x='platform', y='total_sales', data=games_top)\n",
    "ax.set_ylim(0, 2.5)\n",
    "ax.set_ylabel('Продажи игр, млн. шт.')\n",
    "ax.set_xlabel('Платформы')\n",
    "ax.set_title('Распределение глобальных продаж игр по платформам')\n",
    "plt.show()"
   ]
  },
  {
   "cell_type": "markdown",
   "metadata": {},
   "source": [
    "Медианные значения продаж смещены к нижнему краю. Это означает,что на всех платформах выходит много игр с относительно небольшими продажами. При этом везде есть некоторое количество бестселлеров, продажи которых могут многократно превышать обычные значения."
   ]
  },
  {
   "cell_type": "markdown",
   "metadata": {},
   "source": [
    "Влияние на продажи отзывов критиков и пользователей"
   ]
  },
  {
   "cell_type": "code",
   "execution_count": 39,
   "metadata": {},
   "outputs": [
    {
     "data": {
      "text/html": [
       "<div>\n",
       "<style scoped>\n",
       "    .dataframe tbody tr th:only-of-type {\n",
       "        vertical-align: middle;\n",
       "    }\n",
       "\n",
       "    .dataframe tbody tr th {\n",
       "        vertical-align: top;\n",
       "    }\n",
       "\n",
       "    .dataframe thead th {\n",
       "        text-align: right;\n",
       "    }\n",
       "</style>\n",
       "<table border=\"1\" class=\"dataframe\">\n",
       "  <thead>\n",
       "    <tr style=\"text-align: right;\">\n",
       "      <th></th>\n",
       "      <th>user_score</th>\n",
       "      <th>critic_score</th>\n",
       "    </tr>\n",
       "    <tr>\n",
       "      <th>platform</th>\n",
       "      <th></th>\n",
       "      <th></th>\n",
       "    </tr>\n",
       "  </thead>\n",
       "  <tbody>\n",
       "    <tr>\n",
       "      <th>3DS</th>\n",
       "      <td>7.03</td>\n",
       "      <td>69.82</td>\n",
       "    </tr>\n",
       "    <tr>\n",
       "      <th>DS</th>\n",
       "      <td>7.00</td>\n",
       "      <td>80.00</td>\n",
       "    </tr>\n",
       "    <tr>\n",
       "      <th>PC</th>\n",
       "      <td>6.43</td>\n",
       "      <td>75.84</td>\n",
       "    </tr>\n",
       "    <tr>\n",
       "      <th>PS3</th>\n",
       "      <td>6.53</td>\n",
       "      <td>71.57</td>\n",
       "    </tr>\n",
       "    <tr>\n",
       "      <th>PS4</th>\n",
       "      <td>6.75</td>\n",
       "      <td>72.09</td>\n",
       "    </tr>\n",
       "    <tr>\n",
       "      <th>PSP</th>\n",
       "      <td>5.95</td>\n",
       "      <td>74.00</td>\n",
       "    </tr>\n",
       "    <tr>\n",
       "      <th>PSV</th>\n",
       "      <td>7.41</td>\n",
       "      <td>71.33</td>\n",
       "    </tr>\n",
       "    <tr>\n",
       "      <th>Wii</th>\n",
       "      <td>6.08</td>\n",
       "      <td>76.20</td>\n",
       "    </tr>\n",
       "    <tr>\n",
       "      <th>WiiU</th>\n",
       "      <td>6.90</td>\n",
       "      <td>70.73</td>\n",
       "    </tr>\n",
       "    <tr>\n",
       "      <th>X360</th>\n",
       "      <td>6.22</td>\n",
       "      <td>70.87</td>\n",
       "    </tr>\n",
       "    <tr>\n",
       "      <th>XOne</th>\n",
       "      <td>6.52</td>\n",
       "      <td>73.33</td>\n",
       "    </tr>\n",
       "  </tbody>\n",
       "</table>\n",
       "</div>"
      ],
      "text/plain": [
       "          user_score  critic_score\n",
       "platform                          \n",
       "3DS             7.03         69.82\n",
       "DS              7.00         80.00\n",
       "PC              6.43         75.84\n",
       "PS3             6.53         71.57\n",
       "PS4             6.75         72.09\n",
       "PSP             5.95         74.00\n",
       "PSV             7.41         71.33\n",
       "Wii             6.08         76.20\n",
       "WiiU            6.90         70.73\n",
       "X360            6.22         70.87\n",
       "XOne            6.52         73.33"
      ]
     },
     "execution_count": 39,
     "metadata": {},
     "output_type": "execute_result"
    }
   ],
   "source": [
    "#средние оценки перспективных платформ за последние 5 (пять) лет\n",
    "games_top.groupby('platform')[['user_score', 'critic_score']].agg('mean').round(2)"
   ]
  },
  {
   "cell_type": "markdown",
   "metadata": {},
   "source": [
    "Выше среднего конечно, но не огонь. Посчитаем корреляцию между отзывами и продажами для выборочных платформ."
   ]
  },
  {
   "cell_type": "code",
   "execution_count": 40,
   "metadata": {},
   "outputs": [
    {
     "data": {
      "text/plain": [
       "-0.031957110204556376"
      ]
     },
     "execution_count": 40,
     "metadata": {},
     "output_type": "execute_result"
    }
   ],
   "source": [
    "#для платформы PS4\n",
    "games_top.query('platform == \"PS4\"')['total_sales'].\\\n",
    "corr(games_top.query('platform == \"PS4\"')['user_score'])"
   ]
  },
  {
   "cell_type": "code",
   "execution_count": 41,
   "metadata": {},
   "outputs": [
    {
     "data": {
      "text/plain": [
       "0.406567902061781"
      ]
     },
     "execution_count": 41,
     "metadata": {},
     "output_type": "execute_result"
    }
   ],
   "source": [
    "games_top.query('platform == \"PS4\"')['total_sales'].\\\n",
    "corr(games_top.query('platform == \"PS4\"')['critic_score'])"
   ]
  },
  {
   "cell_type": "code",
   "execution_count": 42,
   "metadata": {},
   "outputs": [
    {
     "data": {
      "image/png": "[encoded data removed]",
      "text/plain": [
       "<Figure size 360x360 with 1 Axes>"
      ]
     },
     "metadata": {
      "needs_background": "light"
     },
     "output_type": "display_data"
    },
    {
     "data": {
      "image/png": "[encoded data removed]",
      "text/plain": [
       "<Figure size 360x360 with 1 Axes>"
      ]
     },
     "metadata": {
      "needs_background": "light"
     },
     "output_type": "display_data"
    }
   ],
   "source": [
    "#диаграмма рассеивания\n",
    "sns.relplot(x='total_sales', y='user_score',data=games_top.query('platform == \"PS4\"'))\n",
    "plt.title('Зависимость продаж PS4 от оценок пользователей')\n",
    "sns.relplot(x='total_sales', y='critic_score',data=games_top.query('platform == \"PS4\"'))\n",
    "plt.title('Зависимость продаж PS4 от оценок критиков')\n",
    "plt.show()"
   ]
  },
  {
   "cell_type": "code",
   "execution_count": 43,
   "metadata": {},
   "outputs": [
    {
     "data": {
      "text/plain": [
       "-0.06892505328279412"
      ]
     },
     "execution_count": 43,
     "metadata": {},
     "output_type": "execute_result"
    }
   ],
   "source": [
    "#для платформы XOne\n",
    "games_top.query('platform == \"XOne\"')['total_sales'].\\\n",
    "corr(games_top.query('platform == \"XOne\"')['user_score'])"
   ]
  },
  {
   "cell_type": "code",
   "execution_count": 44,
   "metadata": {},
   "outputs": [
    {
     "data": {
      "text/plain": [
       "0.41699832800840175"
      ]
     },
     "execution_count": 44,
     "metadata": {},
     "output_type": "execute_result"
    }
   ],
   "source": [
    "games_top.query('platform == \"XOne\"')['total_sales'].\\\n",
    "corr(games_top.query('platform == \"XOne\"')['critic_score'])"
   ]
  },
  {
   "cell_type": "code",
   "execution_count": 45,
   "metadata": {},
   "outputs": [
    {
     "data": {
      "image/png": "[encoded data removed]",
      "text/plain": [
       "<Figure size 360x360 with 1 Axes>"
      ]
     },
     "metadata": {
      "needs_background": "light"
     },
     "output_type": "display_data"
    },
    {
     "data": {
      "image/png": "[encoded data removed]",
      "text/plain": [
       "<Figure size 360x360 with 1 Axes>"
      ]
     },
     "metadata": {
      "needs_background": "light"
     },
     "output_type": "display_data"
    }
   ],
   "source": [
    "#диаграмма рассеивания\n",
    "sns.relplot(x='total_sales', y='user_score',data=games_top.query('platform == \"XOne\"'))\n",
    "plt.title('Зависимость продаж XOne от оценок пользователей')\n",
    "sns.relplot(x='total_sales', y='critic_score',data=games_top.query('platform == \"XOne\"'))\n",
    "plt.title('Зависимость продаж XOne от оценок критиков')\n",
    "plt.show()\n"
   ]
  },
  {
   "cell_type": "markdown",
   "metadata": {},
   "source": [
    "Прямой зависимости не наблюдается но, кажется, что оценки критиков влияют на продажи чуть больше."
   ]
  },
  {
   "cell_type": "markdown",
   "metadata": {},
   "source": [
    "Проверим это предположение на остальных перспективных платформах"
   ]
  },
  {
   "cell_type": "code",
   "execution_count": 46,
   "metadata": {
    "scrolled": false
   },
   "outputs": [
    {
     "data": {
      "image/png": "[encoded data removed]",
      "text/plain": [
       "<Figure size 504x504 with 9 Axes>"
      ]
     },
     "metadata": {
      "needs_background": "light"
     },
     "output_type": "display_data"
    },
    {
     "data": {
      "text/html": [
       "<div>\n",
       "<style scoped>\n",
       "    .dataframe tbody tr th:only-of-type {\n",
       "        vertical-align: middle;\n",
       "    }\n",
       "\n",
       "    .dataframe tbody tr th {\n",
       "        vertical-align: top;\n",
       "    }\n",
       "\n",
       "    .dataframe thead th {\n",
       "        text-align: right;\n",
       "    }\n",
       "</style>\n",
       "<table border=\"1\" class=\"dataframe\">\n",
       "  <thead>\n",
       "    <tr style=\"text-align: right;\">\n",
       "      <th></th>\n",
       "      <th>total_sales</th>\n",
       "      <th>user_score</th>\n",
       "      <th>critic_score</th>\n",
       "    </tr>\n",
       "  </thead>\n",
       "  <tbody>\n",
       "    <tr>\n",
       "      <th>total_sales</th>\n",
       "      <td>1.000000</td>\n",
       "      <td>0.197583</td>\n",
       "      <td>0.320803</td>\n",
       "    </tr>\n",
       "    <tr>\n",
       "      <th>user_score</th>\n",
       "      <td>0.197583</td>\n",
       "      <td>1.000000</td>\n",
       "      <td>0.722762</td>\n",
       "    </tr>\n",
       "    <tr>\n",
       "      <th>critic_score</th>\n",
       "      <td>0.320803</td>\n",
       "      <td>0.722762</td>\n",
       "      <td>1.000000</td>\n",
       "    </tr>\n",
       "  </tbody>\n",
       "</table>\n",
       "</div>"
      ],
      "text/plain": [
       "              total_sales  user_score  critic_score\n",
       "total_sales      1.000000    0.197583      0.320803\n",
       "user_score       0.197583    1.000000      0.722762\n",
       "critic_score     0.320803    0.722762      1.000000"
      ]
     },
     "metadata": {},
     "output_type": "display_data"
    },
    {
     "data": {
      "image/png": "[encoded data removed]",
      "text/plain": [
       "<Figure size 504x504 with 9 Axes>"
      ]
     },
     "metadata": {
      "needs_background": "light"
     },
     "output_type": "display_data"
    },
    {
     "data": {
      "text/html": [
       "<div>\n",
       "<style scoped>\n",
       "    .dataframe tbody tr th:only-of-type {\n",
       "        vertical-align: middle;\n",
       "    }\n",
       "\n",
       "    .dataframe tbody tr th {\n",
       "        vertical-align: top;\n",
       "    }\n",
       "\n",
       "    .dataframe thead th {\n",
       "        text-align: right;\n",
       "    }\n",
       "</style>\n",
       "<table border=\"1\" class=\"dataframe\">\n",
       "  <thead>\n",
       "    <tr style=\"text-align: right;\">\n",
       "      <th></th>\n",
       "      <th>total_sales</th>\n",
       "      <th>user_score</th>\n",
       "      <th>critic_score</th>\n",
       "    </tr>\n",
       "  </thead>\n",
       "  <tbody>\n",
       "    <tr>\n",
       "      <th>total_sales</th>\n",
       "      <td>1.000000</td>\n",
       "      <td>-0.005144</td>\n",
       "      <td>0.331497</td>\n",
       "    </tr>\n",
       "    <tr>\n",
       "      <th>user_score</th>\n",
       "      <td>-0.005144</td>\n",
       "      <td>1.000000</td>\n",
       "      <td>0.539456</td>\n",
       "    </tr>\n",
       "    <tr>\n",
       "      <th>critic_score</th>\n",
       "      <td>0.331497</td>\n",
       "      <td>0.539456</td>\n",
       "      <td>1.000000</td>\n",
       "    </tr>\n",
       "  </tbody>\n",
       "</table>\n",
       "</div>"
      ],
      "text/plain": [
       "              total_sales  user_score  critic_score\n",
       "total_sales      1.000000   -0.005144      0.331497\n",
       "user_score      -0.005144    1.000000      0.539456\n",
       "critic_score     0.331497    0.539456      1.000000"
      ]
     },
     "metadata": {},
     "output_type": "display_data"
    },
    {
     "data": {
      "image/png": "[encoded data removed]",
      "text/plain": [
       "<Figure size 504x504 with 9 Axes>"
      ]
     },
     "metadata": {
      "needs_background": "light"
     },
     "output_type": "display_data"
    },
    {
     "data": {
      "text/html": [
       "<div>\n",
       "<style scoped>\n",
       "    .dataframe tbody tr th:only-of-type {\n",
       "        vertical-align: middle;\n",
       "    }\n",
       "\n",
       "    .dataframe tbody tr th {\n",
       "        vertical-align: top;\n",
       "    }\n",
       "\n",
       "    .dataframe thead th {\n",
       "        text-align: right;\n",
       "    }\n",
       "</style>\n",
       "<table border=\"1\" class=\"dataframe\">\n",
       "  <thead>\n",
       "    <tr style=\"text-align: right;\">\n",
       "      <th></th>\n",
       "      <th>total_sales</th>\n",
       "      <th>user_score</th>\n",
       "      <th>critic_score</th>\n",
       "    </tr>\n",
       "  </thead>\n",
       "  <tbody>\n",
       "    <tr>\n",
       "      <th>total_sales</th>\n",
       "      <td>1.000000</td>\n",
       "      <td>0.400219</td>\n",
       "      <td>0.34838</td>\n",
       "    </tr>\n",
       "    <tr>\n",
       "      <th>user_score</th>\n",
       "      <td>0.400219</td>\n",
       "      <td>1.000000</td>\n",
       "      <td>0.77008</td>\n",
       "    </tr>\n",
       "    <tr>\n",
       "      <th>critic_score</th>\n",
       "      <td>0.348380</td>\n",
       "      <td>0.770080</td>\n",
       "      <td>1.00000</td>\n",
       "    </tr>\n",
       "  </tbody>\n",
       "</table>\n",
       "</div>"
      ],
      "text/plain": [
       "              total_sales  user_score  critic_score\n",
       "total_sales      1.000000    0.400219       0.34838\n",
       "user_score       0.400219    1.000000       0.77008\n",
       "critic_score     0.348380    0.770080       1.00000"
      ]
     },
     "metadata": {},
     "output_type": "display_data"
    },
    {
     "data": {
      "image/png": "[encoded data removed]",
      "text/plain": [
       "<Figure size 504x504 with 9 Axes>"
      ]
     },
     "metadata": {
      "needs_background": "light"
     },
     "output_type": "display_data"
    },
    {
     "data": {
      "text/html": [
       "<div>\n",
       "<style scoped>\n",
       "    .dataframe tbody tr th:only-of-type {\n",
       "        vertical-align: middle;\n",
       "    }\n",
       "\n",
       "    .dataframe tbody tr th {\n",
       "        vertical-align: top;\n",
       "    }\n",
       "\n",
       "    .dataframe thead th {\n",
       "        text-align: right;\n",
       "    }\n",
       "</style>\n",
       "<table border=\"1\" class=\"dataframe\">\n",
       "  <thead>\n",
       "    <tr style=\"text-align: right;\">\n",
       "      <th></th>\n",
       "      <th>total_sales</th>\n",
       "      <th>user_score</th>\n",
       "      <th>critic_score</th>\n",
       "    </tr>\n",
       "  </thead>\n",
       "  <tbody>\n",
       "    <tr>\n",
       "      <th>total_sales</th>\n",
       "      <td>1.000000</td>\n",
       "      <td>0.006164</td>\n",
       "      <td>0.360573</td>\n",
       "    </tr>\n",
       "    <tr>\n",
       "      <th>user_score</th>\n",
       "      <td>0.006164</td>\n",
       "      <td>1.000000</td>\n",
       "      <td>0.557352</td>\n",
       "    </tr>\n",
       "    <tr>\n",
       "      <th>critic_score</th>\n",
       "      <td>0.360573</td>\n",
       "      <td>0.557352</td>\n",
       "      <td>1.000000</td>\n",
       "    </tr>\n",
       "  </tbody>\n",
       "</table>\n",
       "</div>"
      ],
      "text/plain": [
       "              total_sales  user_score  critic_score\n",
       "total_sales      1.000000    0.006164      0.360573\n",
       "user_score       0.006164    1.000000      0.557352\n",
       "critic_score     0.360573    0.557352      1.000000"
      ]
     },
     "metadata": {},
     "output_type": "display_data"
    }
   ],
   "source": [
    "#рассчитаем коофициент корреляции и построим диаграммы\n",
    "platform_list = ['3DS', 'PS3','WiiU', 'X360']\n",
    "\n",
    "for platform in platform_list:\n",
    "    data = games_top.query('platform == @platform')[['total_sales','user_score', 'critic_score']]\n",
    "    \n",
    "    fig, ax = plt.subplots(figsize = (7,7))\n",
    "    pd.plotting.scatter_matrix(data, ax=ax)\n",
    "    fig.suptitle(f'Корреляция продаж с оценками на платформе {platform}')\n",
    "    plt.show()   \n",
    "    \n",
    "    display(games_top.query('platform == @platform')[['total_sales','user_score', 'critic_score']].agg('corr'))"
   ]
  },
  {
   "cell_type": "markdown",
   "metadata": {},
   "source": [
    "Предположение подтвердилось, профессиональные критики действительно некоторым образом влияют на продажи, но сказать, что от их мнения зависят продажи напрямую, тоже нельзя. Оценки пользователей влияют на продажи еще меньше.\n",
    "Однако, мы получили и иной результат - на платформе WiiU (Wii U от Nintendo) отзывы пользователей коррелируют с продажами больше, чем отзывы критиков."
   ]
  },
  {
   "cell_type": "markdown",
   "metadata": {},
   "source": [
    "Теперь посмотрим на распределение игр по жанрам"
   ]
  },
  {
   "cell_type": "code",
   "execution_count": 47,
   "metadata": {},
   "outputs": [
    {
     "data": {
      "text/plain": [
       "(1446.5300000000002, 1446.5300000000002, 0.0)"
      ]
     },
     "execution_count": 47,
     "metadata": {},
     "output_type": "execute_result"
    }
   ],
   "source": [
    "# Комментарий ревьюера\n",
    "temp1, temp2 = games_top.total_sales.sum(), df.query('year_of_release >= 2012').total_sales.sum()\n",
    "temp1, temp2, round((temp2-temp1)/temp2*100, 2)"
   ]
  },
  {
   "cell_type": "code",
   "execution_count": 48,
   "metadata": {},
   "outputs": [
    {
     "data": {
      "text/plain": [
       "Action          1031\n",
       "Role-Playing     370\n",
       "Adventure        302\n",
       "Sports           268\n",
       "Shooter          235\n",
       "Misc             192\n",
       "Racing           115\n",
       "Fighting         109\n",
       "Platform          85\n",
       "Simulation        80\n",
       "Strategy          71\n",
       "Puzzle            28\n",
       "Name: genre, dtype: int64"
      ]
     },
     "execution_count": 48,
     "metadata": {},
     "output_type": "execute_result"
    }
   ],
   "source": [
    "#как распределяется общее количество\n",
    "games_top['genre'].value_counts()"
   ]
  },
  {
   "cell_type": "code",
   "execution_count": 49,
   "metadata": {},
   "outputs": [
    {
     "data": {
      "text/html": [
       "<div>\n",
       "<style scoped>\n",
       "    .dataframe tbody tr th:only-of-type {\n",
       "        vertical-align: middle;\n",
       "    }\n",
       "\n",
       "    .dataframe tbody tr th {\n",
       "        vertical-align: top;\n",
       "    }\n",
       "\n",
       "    .dataframe thead th {\n",
       "        text-align: right;\n",
       "    }\n",
       "</style>\n",
       "<table border=\"1\" class=\"dataframe\">\n",
       "  <thead>\n",
       "    <tr style=\"text-align: right;\">\n",
       "      <th>platform</th>\n",
       "      <th>3DS</th>\n",
       "      <th>DS</th>\n",
       "      <th>PC</th>\n",
       "      <th>PS3</th>\n",
       "      <th>PS4</th>\n",
       "      <th>PSP</th>\n",
       "      <th>PSV</th>\n",
       "      <th>Wii</th>\n",
       "      <th>WiiU</th>\n",
       "      <th>X360</th>\n",
       "      <th>XOne</th>\n",
       "      <th>All</th>\n",
       "    </tr>\n",
       "    <tr>\n",
       "      <th>genre</th>\n",
       "      <th></th>\n",
       "      <th></th>\n",
       "      <th></th>\n",
       "      <th></th>\n",
       "      <th></th>\n",
       "      <th></th>\n",
       "      <th></th>\n",
       "      <th></th>\n",
       "      <th></th>\n",
       "      <th></th>\n",
       "      <th></th>\n",
       "      <th></th>\n",
       "    </tr>\n",
       "  </thead>\n",
       "  <tbody>\n",
       "    <tr>\n",
       "      <th>All</th>\n",
       "      <td>194.61</td>\n",
       "      <td>12.55</td>\n",
       "      <td>62.65</td>\n",
       "      <td>288.79</td>\n",
       "      <td>314.14</td>\n",
       "      <td>11.19</td>\n",
       "      <td>49.18</td>\n",
       "      <td>35.37</td>\n",
       "      <td>82.19</td>\n",
       "      <td>236.54</td>\n",
       "      <td>159.32</td>\n",
       "      <td>1446.53</td>\n",
       "    </tr>\n",
       "    <tr>\n",
       "      <th>Action</th>\n",
       "      <td>45.49</td>\n",
       "      <td>1.82</td>\n",
       "      <td>13.14</td>\n",
       "      <td>115.75</td>\n",
       "      <td>96.10</td>\n",
       "      <td>3.76</td>\n",
       "      <td>16.33</td>\n",
       "      <td>10.75</td>\n",
       "      <td>19.07</td>\n",
       "      <td>81.60</td>\n",
       "      <td>37.31</td>\n",
       "      <td>441.12</td>\n",
       "    </tr>\n",
       "    <tr>\n",
       "      <th>Shooter</th>\n",
       "      <td>0.13</td>\n",
       "      <td>0.00</td>\n",
       "      <td>14.27</td>\n",
       "      <td>60.39</td>\n",
       "      <td>88.56</td>\n",
       "      <td>0.00</td>\n",
       "      <td>2.34</td>\n",
       "      <td>0.00</td>\n",
       "      <td>6.01</td>\n",
       "      <td>72.70</td>\n",
       "      <td>60.33</td>\n",
       "      <td>304.73</td>\n",
       "    </tr>\n",
       "    <tr>\n",
       "      <th>Role-Playing</th>\n",
       "      <td>79.30</td>\n",
       "      <td>9.08</td>\n",
       "      <td>13.65</td>\n",
       "      <td>22.62</td>\n",
       "      <td>28.99</td>\n",
       "      <td>2.81</td>\n",
       "      <td>12.05</td>\n",
       "      <td>1.06</td>\n",
       "      <td>2.89</td>\n",
       "      <td>9.80</td>\n",
       "      <td>10.55</td>\n",
       "      <td>192.80</td>\n",
       "    </tr>\n",
       "    <tr>\n",
       "      <th>Sports</th>\n",
       "      <td>4.23</td>\n",
       "      <td>0.11</td>\n",
       "      <td>3.26</td>\n",
       "      <td>44.84</td>\n",
       "      <td>55.61</td>\n",
       "      <td>1.41</td>\n",
       "      <td>3.21</td>\n",
       "      <td>2.11</td>\n",
       "      <td>3.16</td>\n",
       "      <td>36.39</td>\n",
       "      <td>26.74</td>\n",
       "      <td>181.07</td>\n",
       "    </tr>\n",
       "    <tr>\n",
       "      <th>Misc</th>\n",
       "      <td>9.45</td>\n",
       "      <td>0.48</td>\n",
       "      <td>0.73</td>\n",
       "      <td>8.88</td>\n",
       "      <td>8.19</td>\n",
       "      <td>0.41</td>\n",
       "      <td>4.32</td>\n",
       "      <td>17.86</td>\n",
       "      <td>12.46</td>\n",
       "      <td>14.83</td>\n",
       "      <td>7.43</td>\n",
       "      <td>85.04</td>\n",
       "    </tr>\n",
       "    <tr>\n",
       "      <th>Platform</th>\n",
       "      <td>19.11</td>\n",
       "      <td>0.69</td>\n",
       "      <td>0.14</td>\n",
       "      <td>4.26</td>\n",
       "      <td>7.69</td>\n",
       "      <td>0.00</td>\n",
       "      <td>2.26</td>\n",
       "      <td>2.25</td>\n",
       "      <td>21.53</td>\n",
       "      <td>2.14</td>\n",
       "      <td>0.93</td>\n",
       "      <td>61.00</td>\n",
       "    </tr>\n",
       "    <tr>\n",
       "      <th>Racing</th>\n",
       "      <td>0.28</td>\n",
       "      <td>0.00</td>\n",
       "      <td>1.23</td>\n",
       "      <td>11.56</td>\n",
       "      <td>12.14</td>\n",
       "      <td>0.00</td>\n",
       "      <td>2.21</td>\n",
       "      <td>0.01</td>\n",
       "      <td>7.87</td>\n",
       "      <td>8.41</td>\n",
       "      <td>9.79</td>\n",
       "      <td>53.50</td>\n",
       "    </tr>\n",
       "    <tr>\n",
       "      <th>Fighting</th>\n",
       "      <td>8.46</td>\n",
       "      <td>0.00</td>\n",
       "      <td>0.12</td>\n",
       "      <td>11.00</td>\n",
       "      <td>8.65</td>\n",
       "      <td>0.36</td>\n",
       "      <td>2.21</td>\n",
       "      <td>0.00</td>\n",
       "      <td>6.27</td>\n",
       "      <td>4.97</td>\n",
       "      <td>2.45</td>\n",
       "      <td>44.49</td>\n",
       "    </tr>\n",
       "    <tr>\n",
       "      <th>Simulation</th>\n",
       "      <td>19.93</td>\n",
       "      <td>0.21</td>\n",
       "      <td>9.22</td>\n",
       "      <td>1.78</td>\n",
       "      <td>1.23</td>\n",
       "      <td>0.06</td>\n",
       "      <td>0.05</td>\n",
       "      <td>0.22</td>\n",
       "      <td>0.20</td>\n",
       "      <td>1.53</td>\n",
       "      <td>0.69</td>\n",
       "      <td>35.12</td>\n",
       "    </tr>\n",
       "    <tr>\n",
       "      <th>Adventure</th>\n",
       "      <td>4.30</td>\n",
       "      <td>0.06</td>\n",
       "      <td>0.87</td>\n",
       "      <td>6.09</td>\n",
       "      <td>6.34</td>\n",
       "      <td>1.67</td>\n",
       "      <td>3.79</td>\n",
       "      <td>0.19</td>\n",
       "      <td>0.17</td>\n",
       "      <td>3.27</td>\n",
       "      <td>2.68</td>\n",
       "      <td>29.43</td>\n",
       "    </tr>\n",
       "    <tr>\n",
       "      <th>Strategy</th>\n",
       "      <td>1.27</td>\n",
       "      <td>0.00</td>\n",
       "      <td>5.99</td>\n",
       "      <td>1.58</td>\n",
       "      <td>0.62</td>\n",
       "      <td>0.71</td>\n",
       "      <td>0.35</td>\n",
       "      <td>0.26</td>\n",
       "      <td>1.24</td>\n",
       "      <td>0.90</td>\n",
       "      <td>0.42</td>\n",
       "      <td>13.34</td>\n",
       "    </tr>\n",
       "    <tr>\n",
       "      <th>Puzzle</th>\n",
       "      <td>2.66</td>\n",
       "      <td>0.10</td>\n",
       "      <td>0.03</td>\n",
       "      <td>0.04</td>\n",
       "      <td>0.02</td>\n",
       "      <td>0.00</td>\n",
       "      <td>0.06</td>\n",
       "      <td>0.66</td>\n",
       "      <td>1.32</td>\n",
       "      <td>0.00</td>\n",
       "      <td>0.00</td>\n",
       "      <td>4.89</td>\n",
       "    </tr>\n",
       "  </tbody>\n",
       "</table>\n",
       "</div>"
      ],
      "text/plain": [
       "platform         3DS     DS     PC     PS3     PS4    PSP    PSV    Wii  \\\n",
       "genre                                                                     \n",
       "All           194.61  12.55  62.65  288.79  314.14  11.19  49.18  35.37   \n",
       "Action         45.49   1.82  13.14  115.75   96.10   3.76  16.33  10.75   \n",
       "Shooter         0.13   0.00  14.27   60.39   88.56   0.00   2.34   0.00   \n",
       "Role-Playing   79.30   9.08  13.65   22.62   28.99   2.81  12.05   1.06   \n",
       "Sports          4.23   0.11   3.26   44.84   55.61   1.41   3.21   2.11   \n",
       "Misc            9.45   0.48   0.73    8.88    8.19   0.41   4.32  17.86   \n",
       "Platform       19.11   0.69   0.14    4.26    7.69   0.00   2.26   2.25   \n",
       "Racing          0.28   0.00   1.23   11.56   12.14   0.00   2.21   0.01   \n",
       "Fighting        8.46   0.00   0.12   11.00    8.65   0.36   2.21   0.00   \n",
       "Simulation     19.93   0.21   9.22    1.78    1.23   0.06   0.05   0.22   \n",
       "Adventure       4.30   0.06   0.87    6.09    6.34   1.67   3.79   0.19   \n",
       "Strategy        1.27   0.00   5.99    1.58    0.62   0.71   0.35   0.26   \n",
       "Puzzle          2.66   0.10   0.03    0.04    0.02   0.00   0.06   0.66   \n",
       "\n",
       "platform       WiiU    X360    XOne      All  \n",
       "genre                                         \n",
       "All           82.19  236.54  159.32  1446.53  \n",
       "Action        19.07   81.60   37.31   441.12  \n",
       "Shooter        6.01   72.70   60.33   304.73  \n",
       "Role-Playing   2.89    9.80   10.55   192.80  \n",
       "Sports         3.16   36.39   26.74   181.07  \n",
       "Misc          12.46   14.83    7.43    85.04  \n",
       "Platform      21.53    2.14    0.93    61.00  \n",
       "Racing         7.87    8.41    9.79    53.50  \n",
       "Fighting       6.27    4.97    2.45    44.49  \n",
       "Simulation     0.20    1.53    0.69    35.12  \n",
       "Adventure      0.17    3.27    2.68    29.43  \n",
       "Strategy       1.24    0.90    0.42    13.34  \n",
       "Puzzle         1.32    0.00    0.00     4.89  "
      ]
     },
     "execution_count": 49,
     "metadata": {},
     "output_type": "execute_result"
    }
   ],
   "source": [
    "#сгруппируем по топовым платформам\n",
    "games_top.pivot_table(index = 'genre', columns = 'platform', values = 'total_sales',aggfunc='sum',\n",
    "    margins=True).fillna(0).sort_values(by='All', ascending=False)"
   ]
  },
  {
   "cell_type": "code",
   "execution_count": 50,
   "metadata": {},
   "outputs": [
    {
     "data": {
      "image/png": "[encoded data removed]",
      "text/plain": [
       "<Figure size 864x432 with 1 Axes>"
      ]
     },
     "metadata": {
      "needs_background": "light"
     },
     "output_type": "display_data"
    }
   ],
   "source": [
    "#визуализируем данные по регионам продаж\n",
    "fig, ax = plt.subplots()\n",
    "\n",
    "(games_top\n",
    " .groupby('genre')[['na_sales', 'eu_sales', 'jp_sales']]\n",
    " .agg('sum')\n",
    " .plot(kind='bar',stacked=True, ax=ax, figsize=(12,6), alpha=0.5))\n",
    "\n",
    "ax.set_title('Суммарные продажи по регионам  разрезе жанров')\n",
    "ax.set_ylabel('Продажи, млн копий')\n",
    "ax.set_xlabel('Жанр')\n",
    "ax.grid(linestyle='--')\n",
    "plt.show()"
   ]
  },
  {
   "cell_type": "markdown",
   "metadata": {},
   "source": [
    "Самыми продаваемыми жанрами в играх являются Action, Shooter и Sports.\n",
    "\n",
    "Action - сущность экшенов отражает их название – в переводе с английского оно означает «действие», и здесь игрок находится в самом центре действия и управляет им.\n",
    "\n",
    "Shoters - шутеры позволяют игрокам использовать в своих действиях оружие, обычно с целью уничтожить врагов или противоборствующих игроков. Шутеры делятся по ракурсу обзора игрока (от первого лица, от третьего лица, с обзором сверху)ю\n",
    "\n",
    "Sports - спортивные игры, как и следует из названия, симулируют различные виды спорта, например, гольф, баскетбол, обычный и американский футбол. Встречаются также олимпийские виды спорта типа лыжных гонок, и даже «барный спорт» вроде бильярда или дартс.\n",
    "\n",
    "Самые низкие продажи у игр в жанрах Adventure, Strategy и Puzzle.\n",
    "\n",
    "Adventure - обычно в приключенческих играх пользователи взаимодействуют с другими персонажами и окружающим миром для решения головоломок с подсказками, продвигаясь таким образом по сюжету. Не считая периодических мини-игр, в квестах редко встречаются экшен-элементы. Поэтому среди мейнстримных геймеров жанр не так популярен.\n",
    "\n",
    "Strategy - геймплей этого жанра уходит своими корнями в традиционные настольные стратегические игры. Часто в этих играх вам доступен целый мир и все его ресурсы, а чтобы справиться с испытаниями, игроку требуется тщательно продумывать стратегию и тактику.\n",
    "\n",
    "Puzzle - думаем, что здесь пояснения не нужны."
   ]
  },
  {
   "cell_type": "code",
   "execution_count": 51,
   "metadata": {},
   "outputs": [
    {
     "data": {
      "image/png": "[encoded data removed]",
      "text/plain": [
       "<Figure size 864x432 with 1 Axes>"
      ]
     },
     "metadata": {
      "needs_background": "light"
     },
     "output_type": "display_data"
    }
   ],
   "source": [
    "#построим аналогичный график для среднего количества продаж\n",
    "fig, ax = plt.subplots()\n",
    "\n",
    "(games_top\n",
    " .groupby('genre')[['na_sales', 'eu_sales', 'jp_sales']]\n",
    " .agg('mean')\n",
    " .plot(kind='bar',stacked=True, ax=ax, figsize=(12,6), alpha=0.5))\n",
    "\n",
    "ax.set_title('Средние продажи по регионам  разрезе жанров')\n",
    "ax.set_ylabel('Продажи, млн копий')\n",
    "ax.set_xlabel('Жанр')\n",
    "ax.grid(linestyle='--')\n",
    "plt.show()"
   ]
  },
  {
   "cell_type": "markdown",
   "metadata": {},
   "source": [
    "А вот по среднему количеству продаж мы наблюдаем смену лидеров: теперь на первом месте по продажам - Shooters, а в тройке лидеров появляется жанр Platform. Action выбыл из топ-5.\n",
    "Такой результат говорит нам о том, что этих жанрах есть игры-хиты с многомиллионными продажами.\n",
    "Platform - вид аркад, в которых нужно, управляя героем, ходить, бегать и запрыгивать на разные платформы (или возвышенности), в большинстве случаев, нейтрализуя или избегая врагов, и собирать различные бонусы."
   ]
  },
  {
   "cell_type": "markdown",
   "metadata": {},
   "source": [
    "**4. Портрет пользователя каждого региона**"
   ]
  },
  {
   "cell_type": "code",
   "execution_count": 52,
   "metadata": {},
   "outputs": [
    {
     "data": {
      "text/html": [
       "<style  type=\"text/css\" >\n",
       "</style><table id=\"T_3cd54_\" ><thead>    <tr>        <th class=\"blank level0\" ></th>        <th class=\"col_heading level0 col0\" >eu_sales</th>        <th class=\"col_heading level0 col1\" >jp_sales</th>        <th class=\"col_heading level0 col2\" >na_sales</th>    </tr>    <tr>        <th class=\"index_name level0\" >platform</th>        <th class=\"blank\" ></th>        <th class=\"blank\" ></th>        <th class=\"blank\" ></th>    </tr></thead><tbody>\n",
       "                <tr>\n",
       "                        <th id=\"T_3cd54_level0_row0\" class=\"row_heading level0 row0\" >3DS</th>\n",
       "                        <td id=\"T_3cd54_row0_col0\" class=\"data row0 col0\" >8.4%</td>\n",
       "                        <td id=\"T_3cd54_row0_col1\" class=\"data row0 col1\" >45.6%</td>\n",
       "                        <td id=\"T_3cd54_row0_col2\" class=\"data row0 col2\" >9.4%</td>\n",
       "            </tr>\n",
       "            <tr>\n",
       "                        <th id=\"T_3cd54_level0_row1\" class=\"row_heading level0 row1\" >DS</th>\n",
       "                        <td id=\"T_3cd54_row1_col0\" class=\"data row1 col0\" >0.7%</td>\n",
       "                        <td id=\"T_3cd54_row1_col1\" class=\"data row1 col1\" >1.9%</td>\n",
       "                        <td id=\"T_3cd54_row1_col2\" class=\"data row1 col2\" >0.8%</td>\n",
       "            </tr>\n",
       "            <tr>\n",
       "                        <th id=\"T_3cd54_level0_row2\" class=\"row_heading level0 row2\" >PC</th>\n",
       "                        <td id=\"T_3cd54_row2_col0\" class=\"data row2 col0\" >7.5%</td>\n",
       "                        <td id=\"T_3cd54_row2_col1\" class=\"data row2 col1\" >0.0%</td>\n",
       "                        <td id=\"T_3cd54_row2_col2\" class=\"data row2 col2\" >3.2%</td>\n",
       "            </tr>\n",
       "            <tr>\n",
       "                        <th id=\"T_3cd54_level0_row3\" class=\"row_heading level0 row3\" >PS3</th>\n",
       "                        <td id=\"T_3cd54_row3_col0\" class=\"data row3 col0\" >21.1%</td>\n",
       "                        <td id=\"T_3cd54_row3_col1\" class=\"data row3 col1\" >18.3%</td>\n",
       "                        <td id=\"T_3cd54_row3_col2\" class=\"data row3 col2\" >17.5%</td>\n",
       "            </tr>\n",
       "            <tr>\n",
       "                        <th id=\"T_3cd54_level0_row4\" class=\"row_heading level0 row4\" >PS4</th>\n",
       "                        <td id=\"T_3cd54_row4_col0\" class=\"data row4 col0\" >27.8%</td>\n",
       "                        <td id=\"T_3cd54_row4_col1\" class=\"data row4 col1\" >8.3%</td>\n",
       "                        <td id=\"T_3cd54_row4_col2\" class=\"data row4 col2\" >18.4%</td>\n",
       "            </tr>\n",
       "            <tr>\n",
       "                        <th id=\"T_3cd54_level0_row5\" class=\"row_heading level0 row5\" >PSP</th>\n",
       "                        <td id=\"T_3cd54_row5_col0\" class=\"data row5 col0\" >0.1%</td>\n",
       "                        <td id=\"T_3cd54_row5_col1\" class=\"data row5 col1\" >5.4%</td>\n",
       "                        <td id=\"T_3cd54_row5_col2\" class=\"data row5 col2\" >0.0%</td>\n",
       "            </tr>\n",
       "            <tr>\n",
       "                        <th id=\"T_3cd54_level0_row6\" class=\"row_heading level0 row6\" >PSV</th>\n",
       "                        <td id=\"T_3cd54_row6_col0\" class=\"data row6 col0\" >2.2%</td>\n",
       "                        <td id=\"T_3cd54_row6_col1\" class=\"data row6 col1\" >10.9%</td>\n",
       "                        <td id=\"T_3cd54_row6_col2\" class=\"data row6 col2\" >1.9%</td>\n",
       "            </tr>\n",
       "            <tr>\n",
       "                        <th id=\"T_3cd54_level0_row7\" class=\"row_heading level0 row7\" >Wii</th>\n",
       "                        <td id=\"T_3cd54_row7_col0\" class=\"data row7 col0\" >2.4%</td>\n",
       "                        <td id=\"T_3cd54_row7_col1\" class=\"data row7 col1\" >1.8%</td>\n",
       "                        <td id=\"T_3cd54_row7_col2\" class=\"data row7 col2\" >3.0%</td>\n",
       "            </tr>\n",
       "            <tr>\n",
       "                        <th id=\"T_3cd54_level0_row8\" class=\"row_heading level0 row8\" >WiiU</th>\n",
       "                        <td id=\"T_3cd54_row8_col0\" class=\"data row8 col0\" >5.0%</td>\n",
       "                        <td id=\"T_3cd54_row8_col1\" class=\"data row8 col1\" >6.8%</td>\n",
       "                        <td id=\"T_3cd54_row8_col2\" class=\"data row8 col2\" >6.4%</td>\n",
       "            </tr>\n",
       "            <tr>\n",
       "                        <th id=\"T_3cd54_level0_row9\" class=\"row_heading level0 row9\" >X360</th>\n",
       "                        <td id=\"T_3cd54_row9_col0\" class=\"data row9 col0\" >14.7%</td>\n",
       "                        <td id=\"T_3cd54_row9_col1\" class=\"data row9 col1\" >0.8%</td>\n",
       "                        <td id=\"T_3cd54_row9_col2\" class=\"data row9 col2\" >23.7%</td>\n",
       "            </tr>\n",
       "            <tr>\n",
       "                        <th id=\"T_3cd54_level0_row10\" class=\"row_heading level0 row10\" >XOne</th>\n",
       "                        <td id=\"T_3cd54_row10_col0\" class=\"data row10 col0\" >10.2%</td>\n",
       "                        <td id=\"T_3cd54_row10_col1\" class=\"data row10 col1\" >0.2%</td>\n",
       "                        <td id=\"T_3cd54_row10_col2\" class=\"data row10 col2\" >15.8%</td>\n",
       "            </tr>\n",
       "    </tbody></table>"
      ],
      "text/plain": [
       "<pandas.io.formats.style.Styler at 0x7f1122235970>"
      ]
     },
     "execution_count": 52,
     "metadata": {},
     "output_type": "execute_result"
    }
   ],
   "source": [
    "#определим самые популярные платформы для каждого региона, посчитаем долю продаж за 5 лет\n",
    "games_top.pivot_table(index = 'platform', values = ['na_sales', 'eu_sales', 'jp_sales'],\n",
    "    aggfunc =  'sum').apply(lambda col: col / col.sum(), axis=0).style.format(\"{:.1%}\")"
   ]
  },
  {
   "cell_type": "markdown",
   "metadata": {},
   "source": [
    "Европейские пользователи предпочитают Sony PlayStation (более 55% рынка), американские - Microsoft XBox (почти 39% рынка), японские геймеры голосуют деньгами за Nintendo 3DS(45,6%) и Sony (35%)"
   ]
  },
  {
   "cell_type": "markdown",
   "metadata": {},
   "source": [
    "Корректировка: Европейские пользователи предпочитают Sony PlayStation (почти 50% рынка), американские - Microsoft XBox (более 43% рынка), японские геймеры голосуют деньгами за Nintendo 3DS(57%)."
   ]
  },
  {
   "cell_type": "code",
   "execution_count": 53,
   "metadata": {},
   "outputs": [
    {
     "data": {
      "text/html": [
       "<style  type=\"text/css\" >\n",
       "</style><table id=\"T_c02c7_\" ><thead>    <tr>        <th class=\"blank level0\" ></th>        <th class=\"col_heading level0 col0\" >eu_sales</th>        <th class=\"col_heading level0 col1\" >jp_sales</th>        <th class=\"col_heading level0 col2\" >na_sales</th>    </tr>    <tr>        <th class=\"index_name level0\" >genre</th>        <th class=\"blank\" ></th>        <th class=\"blank\" ></th>        <th class=\"blank\" ></th>    </tr></thead><tbody>\n",
       "                <tr>\n",
       "                        <th id=\"T_c02c7_level0_row0\" class=\"row_heading level0 row0\" >Action</th>\n",
       "                        <td id=\"T_c02c7_row0_col0\" class=\"data row0 col0\" >31.4%</td>\n",
       "                        <td id=\"T_c02c7_row0_col1\" class=\"data row0 col1\" >27.4%</td>\n",
       "                        <td id=\"T_c02c7_row0_col2\" class=\"data row0 col2\" >30.1%</td>\n",
       "            </tr>\n",
       "            <tr>\n",
       "                        <th id=\"T_c02c7_level0_row1\" class=\"row_heading level0 row1\" >Adventure</th>\n",
       "                        <td id=\"T_c02c7_row1_col0\" class=\"data row1 col0\" >1.9%</td>\n",
       "                        <td id=\"T_c02c7_row1_col1\" class=\"data row1 col1\" >4.3%</td>\n",
       "                        <td id=\"T_c02c7_row1_col2\" class=\"data row1 col2\" >1.5%</td>\n",
       "            </tr>\n",
       "            <tr>\n",
       "                        <th id=\"T_c02c7_level0_row2\" class=\"row_heading level0 row2\" >Fighting</th>\n",
       "                        <td id=\"T_c02c7_row2_col0\" class=\"data row2 col0\" >2.1%</td>\n",
       "                        <td id=\"T_c02c7_row2_col1\" class=\"data row2 col1\" >4.9%</td>\n",
       "                        <td id=\"T_c02c7_row2_col2\" class=\"data row2 col2\" >3.3%</td>\n",
       "            </tr>\n",
       "            <tr>\n",
       "                        <th id=\"T_c02c7_level0_row3\" class=\"row_heading level0 row3\" >Misc</th>\n",
       "                        <td id=\"T_c02c7_row3_col0\" class=\"data row3 col0\" >5.2%</td>\n",
       "                        <td id=\"T_c02c7_row3_col1\" class=\"data row3 col1\" >6.7%</td>\n",
       "                        <td id=\"T_c02c7_row3_col2\" class=\"data row3 col2\" >6.5%</td>\n",
       "            </tr>\n",
       "            <tr>\n",
       "                        <th id=\"T_c02c7_level0_row4\" class=\"row_heading level0 row4\" >Platform</th>\n",
       "                        <td id=\"T_c02c7_row4_col0\" class=\"data row4 col0\" >4.2%</td>\n",
       "                        <td id=\"T_c02c7_row4_col1\" class=\"data row4 col1\" >4.5%</td>\n",
       "                        <td id=\"T_c02c7_row4_col2\" class=\"data row4 col2\" >4.3%</td>\n",
       "            </tr>\n",
       "            <tr>\n",
       "                        <th id=\"T_c02c7_level0_row5\" class=\"row_heading level0 row5\" >Puzzle</th>\n",
       "                        <td id=\"T_c02c7_row5_col0\" class=\"data row5 col0\" >0.3%</td>\n",
       "                        <td id=\"T_c02c7_row5_col1\" class=\"data row5 col1\" >1.1%</td>\n",
       "                        <td id=\"T_c02c7_row5_col2\" class=\"data row5 col2\" >0.2%</td>\n",
       "            </tr>\n",
       "            <tr>\n",
       "                        <th id=\"T_c02c7_level0_row6\" class=\"row_heading level0 row6\" >Racing</th>\n",
       "                        <td id=\"T_c02c7_row6_col0\" class=\"data row6 col0\" >5.4%</td>\n",
       "                        <td id=\"T_c02c7_row6_col1\" class=\"data row6 col1\" >1.3%</td>\n",
       "                        <td id=\"T_c02c7_row6_col2\" class=\"data row6 col2\" >2.9%</td>\n",
       "            </tr>\n",
       "            <tr>\n",
       "                        <th id=\"T_c02c7_level0_row7\" class=\"row_heading level0 row7\" >Role-Playing</th>\n",
       "                        <td id=\"T_c02c7_row7_col0\" class=\"data row7 col0\" >9.6%</td>\n",
       "                        <td id=\"T_c02c7_row7_col1\" class=\"data row7 col1\" >34.0%</td>\n",
       "                        <td id=\"T_c02c7_row7_col2\" class=\"data row7 col2\" >10.8%</td>\n",
       "            </tr>\n",
       "            <tr>\n",
       "                        <th id=\"T_c02c7_level0_row8\" class=\"row_heading level0 row8\" >Shooter</th>\n",
       "                        <td id=\"T_c02c7_row8_col0\" class=\"data row8 col0\" >22.4%</td>\n",
       "                        <td id=\"T_c02c7_row8_col1\" class=\"data row8 col1\" >4.8%</td>\n",
       "                        <td id=\"T_c02c7_row8_col2\" class=\"data row8 col2\" >24.5%</td>\n",
       "            </tr>\n",
       "            <tr>\n",
       "                        <th id=\"T_c02c7_level0_row9\" class=\"row_heading level0 row9\" >Simulation</th>\n",
       "                        <td id=\"T_c02c7_row9_col0\" class=\"data row9 col0\" >2.9%</td>\n",
       "                        <td id=\"T_c02c7_row9_col1\" class=\"data row9 col1\" >5.4%</td>\n",
       "                        <td id=\"T_c02c7_row9_col2\" class=\"data row9 col2\" >1.3%</td>\n",
       "            </tr>\n",
       "            <tr>\n",
       "                        <th id=\"T_c02c7_level0_row10\" class=\"row_heading level0 row10\" >Sports</th>\n",
       "                        <td id=\"T_c02c7_row10_col0\" class=\"data row10 col0\" >13.6%</td>\n",
       "                        <td id=\"T_c02c7_row10_col1\" class=\"data row10 col1\" >4.2%</td>\n",
       "                        <td id=\"T_c02c7_row10_col2\" class=\"data row10 col2\" >13.8%</td>\n",
       "            </tr>\n",
       "            <tr>\n",
       "                        <th id=\"T_c02c7_level0_row11\" class=\"row_heading level0 row11\" >Strategy</th>\n",
       "                        <td id=\"T_c02c7_row11_col0\" class=\"data row11 col0\" >1.0%</td>\n",
       "                        <td id=\"T_c02c7_row11_col1\" class=\"data row11 col1\" >1.5%</td>\n",
       "                        <td id=\"T_c02c7_row11_col2\" class=\"data row11 col2\" >0.7%</td>\n",
       "            </tr>\n",
       "    </tbody></table>"
      ],
      "text/plain": [
       "<pandas.io.formats.style.Styler at 0x7f112155f820>"
      ]
     },
     "execution_count": 53,
     "metadata": {},
     "output_type": "execute_result"
    }
   ],
   "source": [
    "# а как распределяются жанры по регионам\n",
    "games_top.pivot_table(index = 'genre', values = ['na_sales', 'eu_sales', 'jp_sales'],\n",
    "    aggfunc =  'sum').apply(lambda col: col / col.sum(), axis=0).style.format(\"{:.1%}\")"
   ]
  },
  {
   "cell_type": "markdown",
   "metadata": {},
   "source": [
    "В распределении долей рынка по жанрам у пользователей Америки и Европы вкусы совпадают по первым четырем пунктам из ТОП5: Action -> Shooters -> Sports -> Role_playing. А вот на пятой строчке в Европе гонки, в то время как у жителей Северной Америки - Misc (от англ. Miscellaneuos = разное или прочее). У японцев иначе: Role-Playing -> Action -> Misc -> Simulation -> Shooters.\n",
    "\n",
    "В Северной Америке самая большая доля рынка от глобальных продаж, а самые продаваемые платформы принадлежат местному производителю Microsoft. Европа второй по величине рынок, абсолютным лидером среди платформ является Sony Playstation, Европа и Северная Америка похожи – главные жанры Action, шутеры и спорт. Япония занимает третье место по продажам; рынок не похож на остальные: местные производители целиком и полностью доминируют по продажам, оставив остальным производителям всего около 1% рынка; в жанровых препочтениях Япония – единственный рынок, где предобладает RPG."
   ]
  },
  {
   "cell_type": "code",
   "execution_count": 54,
   "metadata": {},
   "outputs": [
    {
     "data": {
      "text/html": [
       "<style  type=\"text/css\" >\n",
       "</style><table id=\"T_a4f89_\" ><thead>    <tr>        <th class=\"blank level0\" ></th>        <th class=\"col_heading level0 col0\" >eu_sales</th>        <th class=\"col_heading level0 col1\" >jp_sales</th>        <th class=\"col_heading level0 col2\" >na_sales</th>    </tr>    <tr>        <th class=\"index_name level0\" >rating</th>        <th class=\"blank\" ></th>        <th class=\"blank\" ></th>        <th class=\"blank\" ></th>    </tr></thead><tbody>\n",
       "                <tr>\n",
       "                        <th id=\"T_a4f89_level0_row0\" class=\"row_heading level0 row0\" >E</th>\n",
       "                        <td id=\"T_a4f89_row0_col0\" class=\"data row0 col0\" >22.3%</td>\n",
       "                        <td id=\"T_a4f89_row0_col1\" class=\"data row0 col1\" >14.7%</td>\n",
       "                        <td id=\"T_a4f89_row0_col2\" class=\"data row0 col2\" >19.4%</td>\n",
       "            </tr>\n",
       "            <tr>\n",
       "                        <th id=\"T_a4f89_level0_row1\" class=\"row_heading level0 row1\" >E10+</th>\n",
       "                        <td id=\"T_a4f89_row1_col0\" class=\"data row1 col0\" >10.9%</td>\n",
       "                        <td id=\"T_a4f89_row1_col1\" class=\"data row1 col1\" >4.3%</td>\n",
       "                        <td id=\"T_a4f89_row1_col2\" class=\"data row1 col2\" >12.8%</td>\n",
       "            </tr>\n",
       "            <tr>\n",
       "                        <th id=\"T_a4f89_level0_row2\" class=\"row_heading level0 row2\" >M</th>\n",
       "                        <td id=\"T_a4f89_row2_col0\" class=\"data row2 col0\" >38.3%</td>\n",
       "                        <td id=\"T_a4f89_row2_col1\" class=\"data row2 col1\" >11.0%</td>\n",
       "                        <td id=\"T_a4f89_row2_col2\" class=\"data row2 col2\" >39.2%</td>\n",
       "            </tr>\n",
       "            <tr>\n",
       "                        <th id=\"T_a4f89_level0_row3\" class=\"row_heading level0 row3\" >T</th>\n",
       "                        <td id=\"T_a4f89_row3_col0\" class=\"data row3 col0\" >10.4%</td>\n",
       "                        <td id=\"T_a4f89_row3_col1\" class=\"data row3 col1\" >13.5%</td>\n",
       "                        <td id=\"T_a4f89_row3_col2\" class=\"data row3 col2\" >11.2%</td>\n",
       "            </tr>\n",
       "            <tr>\n",
       "                        <th id=\"T_a4f89_level0_row4\" class=\"row_heading level0 row4\" >no_rating</th>\n",
       "                        <td id=\"T_a4f89_row4_col0\" class=\"data row4 col0\" >18.1%</td>\n",
       "                        <td id=\"T_a4f89_row4_col1\" class=\"data row4 col1\" >56.5%</td>\n",
       "                        <td id=\"T_a4f89_row4_col2\" class=\"data row4 col2\" >17.5%</td>\n",
       "            </tr>\n",
       "    </tbody></table>"
      ],
      "text/plain": [
       "<pandas.io.formats.style.Styler at 0x7f1120fc9b50>"
      ]
     },
     "execution_count": 54,
     "metadata": {},
     "output_type": "execute_result"
    }
   ],
   "source": [
    "# посмотрим как рейтинг ESRB влияет на продажи в отдельном регионе\n",
    "games_top.pivot_table(index = 'rating', values = ['na_sales', 'eu_sales', 'jp_sales'],\n",
    "    aggfunc =  'sum').apply(lambda col: col / col.sum(), axis=0).style.format(\"{:.1%}\")"
   ]
  },
  {
   "cell_type": "markdown",
   "metadata": {},
   "source": [
    "Занятно, что почти половина игр японского рынка без рейтинга. Возможно, он не требуется для локальных игр, или устанавливаетcя другой организацией (не ESBP). Но, если уточнить, что из себя представляет рейтинг ESRB, то окажется, что он предназначен для маркировки игр для США и Канады. И логично, что для других регионов он не заполняется. А в Японии есть свой рейтинг, свой рейтинг есть в ЕС и отдельно в Германии, Австралии и т.д., но по ним у нас нет данных. То есть, в данном случае пропуск имеет признак, что игра выпущена не в Северо-Американском регионе. "
   ]
  },
  {
   "cell_type": "markdown",
   "metadata": {},
   "source": [
    "**5. Проверка гипотез**"
   ]
  },
  {
   "cell_type": "markdown",
   "metadata": {},
   "source": [
    "Проверим гипотезу что средние пользовательские рейтинги платформ Xbox One (XOne) и PC одинаковые\n",
    "\n",
    "Сформулируем нулевую гипотезу, о том, что средние пользовательские рейтинги платформ Xbox One и PC одинаковые. Эта гипотеза является двусторонней. Соответственно альтернативная гипотеза обратна ей. Для проверки будем использовать данные из двух генеральных совокупностей. Для оценки будем использовать критерий двустороннее значение p-value - вероятность совпадения рейтингов.\n",
    "\n",
    "H_0: Средние пользовательские рейтинги платформ Xbox One и PC одинаковые\n",
    "\n",
    "H_a: Средние пользовательские рейтинги платформ Xbox One и PC НЕ одинаковые\n",
    "\n",
    "alpha = 0.05"
   ]
  },
  {
   "cell_type": "code",
   "execution_count": 55,
   "metadata": {},
   "outputs": [
    {
     "data": {
      "text/html": [
       "<div>\n",
       "<style scoped>\n",
       "    .dataframe tbody tr th:only-of-type {\n",
       "        vertical-align: middle;\n",
       "    }\n",
       "\n",
       "    .dataframe tbody tr th {\n",
       "        vertical-align: top;\n",
       "    }\n",
       "\n",
       "    .dataframe thead th {\n",
       "        text-align: right;\n",
       "    }\n",
       "</style>\n",
       "<table border=\"1\" class=\"dataframe\">\n",
       "  <thead>\n",
       "    <tr style=\"text-align: right;\">\n",
       "      <th></th>\n",
       "      <th>user_score</th>\n",
       "    </tr>\n",
       "    <tr>\n",
       "      <th>platform</th>\n",
       "      <th></th>\n",
       "    </tr>\n",
       "  </thead>\n",
       "  <tbody>\n",
       "    <tr>\n",
       "      <th>PC</th>\n",
       "      <td>6.428641</td>\n",
       "    </tr>\n",
       "    <tr>\n",
       "      <th>XOne</th>\n",
       "      <td>6.521429</td>\n",
       "    </tr>\n",
       "  </tbody>\n",
       "</table>\n",
       "</div>"
      ],
      "text/plain": [
       "          user_score\n",
       "platform            \n",
       "PC          6.428641\n",
       "XOne        6.521429"
      ]
     },
     "metadata": {},
     "output_type": "display_data"
    }
   ],
   "source": [
    "#подсчитаем оценки за полный период, не было отдельных указаний\n",
    "display(games_top.query('platform in [\"XOne\", \"PC\"]').pivot_table(index='platform', values='user_score'))\n",
    "\n",
    "#удалим пропуски \n",
    "xone = games_top.query('platform == \"XOne\"').user_score.dropna().reset_index(drop=True)\n",
    "pc = games_top.query('platform == \"PC\"').user_score.dropna().reset_index(drop=True)"
   ]
  },
  {
   "cell_type": "markdown",
   "metadata": {},
   "source": [
    "Для подтверждения гипотезы о равенстве среднего двух генеральных совокупностей по взятым из них выборкам иcпользуется метод **st.stats.ttest_ind**, так же я буду использовать параметр **equal_var=False**, т.к. есть сомнения в равнозначности выборок.\n",
    "\n",
    "Если p-value будет меньше выбранного уровня значимости **0.05** то нулевую гипотезу о равенстве средних отвергнем. В противном случае делаем вывод, что данные не позволили нам отвергнуть нулевую гипотезу."
   ]
  },
  {
   "cell_type": "code",
   "execution_count": 56,
   "metadata": {},
   "outputs": [],
   "source": [
    "# импортируем библиотеку stats\n",
    "from scipy import stats as st"
   ]
  },
  {
   "cell_type": "code",
   "execution_count": 57,
   "metadata": {},
   "outputs": [
    {
     "name": "stdout",
     "output_type": "stream",
     "text": [
      "p-значение:  0.5489537965134912\n",
      "Не получилось отвергнуть нулевую гипотезу\n"
     ]
    }
   ],
   "source": [
    "alpha = .05 \n",
    "results = st.stats.ttest_ind(xone, pc, equal_var=False)\n",
    "print('p-значение: ', results.pvalue)   \n",
    "if results.pvalue < alpha:\n",
    "    print(\"Отвергаем нулевую гипотезу\")\n",
    "else:\n",
    "    print(\"Не получилось отвергнуть нулевую гипотезу\")"
   ]
  },
  {
   "cell_type": "markdown",
   "metadata": {},
   "source": [
    "Средние пользовательские рейтинги Xbox One и PC различаются."
   ]
  },
  {
   "cell_type": "markdown",
   "metadata": {},
   "source": [
    "Проверим гипотезу что Средние пользовательские рейтинги жанров Action и Sports разные.\n",
    "\n",
    "Сформулируем нулевую гипотезу, о том, что средние пользовательские рейтинги  жанров Action и Sports разные. Эта гипотеза является двусторонней. Соответственно альтернативная гипотеза обратна ей. Для проверки будем использовать данные из двух генеральных совокупностей. Для оценки будем использовать критерий двустороннее значение p-value - вероятность совпадения рейтингов.\n",
    "\n",
    "H_0: Средние пользовательские рейтинги жанров Action и Sports одинаковые\n",
    "\n",
    "H_a: Средние пользовательские рейтинги жанров Action и Sports разные\n",
    "\n",
    "alpha = 0.05"
   ]
  },
  {
   "cell_type": "code",
   "execution_count": 58,
   "metadata": {},
   "outputs": [
    {
     "data": {
      "text/html": [
       "<div>\n",
       "<style scoped>\n",
       "    .dataframe tbody tr th:only-of-type {\n",
       "        vertical-align: middle;\n",
       "    }\n",
       "\n",
       "    .dataframe tbody tr th {\n",
       "        vertical-align: top;\n",
       "    }\n",
       "\n",
       "    .dataframe thead th {\n",
       "        text-align: right;\n",
       "    }\n",
       "</style>\n",
       "<table border=\"1\" class=\"dataframe\">\n",
       "  <thead>\n",
       "    <tr style=\"text-align: right;\">\n",
       "      <th></th>\n",
       "      <th>user_score</th>\n",
       "    </tr>\n",
       "    <tr>\n",
       "      <th>genre</th>\n",
       "      <th></th>\n",
       "    </tr>\n",
       "  </thead>\n",
       "  <tbody>\n",
       "    <tr>\n",
       "      <th>Action</th>\n",
       "      <td>6.825048</td>\n",
       "    </tr>\n",
       "    <tr>\n",
       "      <th>Sports</th>\n",
       "      <td>5.455897</td>\n",
       "    </tr>\n",
       "  </tbody>\n",
       "</table>\n",
       "</div>"
      ],
      "text/plain": [
       "        user_score\n",
       "genre             \n",
       "Action    6.825048\n",
       "Sports    5.455897"
      ]
     },
     "metadata": {},
     "output_type": "display_data"
    }
   ],
   "source": [
    "#подсчитаем оценки за полный период, не было отдельных указаний\n",
    "display(games_top.query('genre in [\"Action\", \"Sports\"]').pivot_table(index='genre', values='user_score'))\n",
    "\n",
    "#удалим пропуски \n",
    "action = games_top.query('genre == \"Action\"').user_score.dropna().reset_index(drop=True)\n",
    "sports = games_top.query('genre == \"Sports\"').user_score.dropna().reset_index(drop=True)"
   ]
  },
  {
   "cell_type": "markdown",
   "metadata": {},
   "source": [
    "Для подтверждения гипотезы о равенстве среднего двух генеральных совокупностей по взятым из них выборкам иcпользуется метод **st.stats.ttest_ind**, так же я буду использовать параметр **equal_var=False**, т.к. есть сомнения в равнозначности выборок.\n",
    "\n",
    "Если p-value будет меньше выбранного уровня значимости **0.05** то нулевую гипотезу о равенстве средних отвергнем. В противном случае делаем вывод, что данные не позволили нам отвергнуть нулевую гипотезу."
   ]
  },
  {
   "cell_type": "code",
   "execution_count": 59,
   "metadata": {},
   "outputs": [
    {
     "name": "stdout",
     "output_type": "stream",
     "text": [
      "p-значение:  4.24307776572644e-20\n",
      "Отвергаем нулевую гипотезу\n"
     ]
    }
   ],
   "source": [
    "alpha = .05 \n",
    "results = st.stats.ttest_ind(action, sports, equal_var=False)\n",
    "print('p-значение: ', results.pvalue)   \n",
    "if results.pvalue < alpha:\n",
    "    print(\"Отвергаем нулевую гипотезу\")\n",
    "else:\n",
    "    print(\"Не получилось отвергнуть нулевую гипотезу\")"
   ]
  },
  {
   "cell_type": "markdown",
   "metadata": {},
   "source": [
    "Различие средних значений пользовательских оценок игр двух жанров статистически значимо."
   ]
  },
  {
   "cell_type": "markdown",
   "metadata": {},
   "source": [
    "**6. ОБЩИЙ ВЫВОД**.\n",
    "    В ходе исследования проанализирована статистика продаж международного интернет-магазина компьютерных игр. Выявлены закономерности в данных, определяющие успешность игры. В дальнейшем, результаты исследования позволят сделать ставку на потенциально популярный продукт и спланировать рекламные кампании.\n",
    "    В результате предварительной оценки выяснилось, что тип данных в некоторых столбцах некорректный, данные обязательны к проверке на наличие дубликатов, есть пропуски. Проведена подготовка данных для дальнейшего исследования. \n",
    "    Установлено, что наибольшее количество игр выпускалось в промежутке с 2002-го по 2011-й годы. Самое большое количество игр выпустили платформы PS2 и PS3 (производитель Sony), DS и Wii (производитель Nintendo), X360 (производитель Microsoft). Есть платформы, которые больше не выпускают игры и наборот, есть активные (на момент выгрузки данных) производители. \n",
    "    Самыми продаваемыми жанрами в играх являются Action, Shooter и Sports. В распределении долей рынка по жанрам у пользователей Америки и Европы вкусы совпадают по первым четырем пунктам из ТОП5: Action -> Shooters -> Sports -> Role_playing. А вот на пятой строчке в Европе гонки, в то время как у жителей Северной Америки - Misc (от англ. Miscellaneuos = разное или прочее). У японцев иначе: Role-Playing -> Action -> Misc -> Simulation -> Shooters.\n",
    "    В Северной Америке самая большая доля рынка от глобальных продаж, а самые продаваемые платформы принадлежат местному производителю Microsoft. Европа второй по величине рынок, абсолютным лидером среди платформ является Sony Playstation, Европа и Северная Америка похожи – главные жанры Action, шутеры и спорт. Япония занимает третье место по продажам; рынок не похож на остальные: местные производители целиком и полностью доминируют по продажам, оставив остальным производителям всего около 1% рынка; в жанровых препочтениях Япония – единственный рынок, где предобладает RPG.\n",
    "    Сформулирована нулевая гипотеза, о том, что средние пользовательские рейтинги платформ Xbox One и PC одинаковые. В итоге отвергнуть нулевую гипотезу о том, что средние пользовательские рейтинги платформ Xbox One и PC одинаковые не получилось. \n",
    "    Также проверена гипотеза, что средние пользовательские рейтинги жанров Action и Sports разные. отвергнута нулевая гипотеза о том, что средние пользовательские рейтинги жанров Action и Sports одинаковые.\n",
    "    Таким образом проведенное исследование позволило определить перспективные рынки, сегменты и локации для планирования продаж и продвижения в 2017 году, а также обосновать предложенный выбор."
   ]
  },
  {
   "cell_type": "markdown",
   "metadata": {},
   "source": [
    "Иследовательский анализ данных показал, что потенциально успешный продукт должен обладать рядом характеристик:\n",
    "    Игра должна быть разработана для платформ PS4 или XOne, если речь идет о западном рынке, и — для платформы 3DS, если игру планируется продавать в Японии.\n",
    "    Жанр: Action, Shooter, Sports для Запада, Role-Playing — для Японии.\n",
    "    Рейтинг ESRB: либо от 17 лет (для Америки и Европы) или от 13 лет (для Японии). Рейтинг от 6 лет и старше также будет хорошим выбором, но тогда набор жанров сужается. Ориентироваться на оценки пользователей нет смысла, на продажи это не оказывает существенного влияния. Однако на отзывы критиков обратить внимание стоит."
   ]
  },
  {
   "cell_type": "code",
   "execution_count": null,
   "metadata": {},
   "outputs": [],
   "source": []
  }
 ],
 "metadata": {
  "ExecuteTimeLog": [
   {
    "duration": 1274,
    "start_time": "2023-01-30T10:45:39.343Z"
   },
   {
    "duration": 91,
    "start_time": "2023-01-30T10:47:05.563Z"
   },
   {
    "duration": 44,
    "start_time": "2023-01-30T10:48:13.813Z"
   },
   {
    "duration": 16,
    "start_time": "2023-01-30T10:49:55.681Z"
   },
   {
    "duration": 12,
    "start_time": "2023-01-30T10:51:09.932Z"
   },
   {
    "duration": 13,
    "start_time": "2023-01-30T10:55:38.180Z"
   },
   {
    "duration": 4,
    "start_time": "2023-01-30T11:13:17.180Z"
   },
   {
    "duration": 4,
    "start_time": "2023-01-30T11:14:49.723Z"
   },
   {
    "duration": 5,
    "start_time": "2023-01-30T11:23:48.052Z"
   },
   {
    "duration": 5,
    "start_time": "2023-01-30T11:27:22.426Z"
   },
   {
    "duration": 5,
    "start_time": "2023-01-30T11:34:14.744Z"
   },
   {
    "duration": 10,
    "start_time": "2023-01-30T11:40:02.719Z"
   },
   {
    "duration": 6,
    "start_time": "2023-01-30T11:42:24.681Z"
   },
   {
    "duration": 5,
    "start_time": "2023-01-30T11:58:28.287Z"
   },
   {
    "duration": 6,
    "start_time": "2023-01-30T12:00:42.320Z"
   },
   {
    "duration": 5,
    "start_time": "2023-01-30T12:03:37.444Z"
   },
   {
    "duration": 7,
    "start_time": "2023-01-30T12:05:52.854Z"
   },
   {
    "duration": 10,
    "start_time": "2023-01-30T12:08:00.817Z"
   },
   {
    "duration": 5,
    "start_time": "2023-01-30T12:12:14.604Z"
   },
   {
    "duration": 4,
    "start_time": "2023-01-30T12:12:25.219Z"
   },
   {
    "duration": 5,
    "start_time": "2023-01-30T12:13:55.834Z"
   },
   {
    "duration": 7,
    "start_time": "2023-01-30T12:14:08.215Z"
   },
   {
    "duration": 5,
    "start_time": "2023-01-30T12:20:48.427Z"
   },
   {
    "duration": 102,
    "start_time": "2023-01-30T12:22:40.074Z"
   },
   {
    "duration": 7,
    "start_time": "2023-01-30T12:22:51.559Z"
   },
   {
    "duration": 4,
    "start_time": "2023-01-30T12:23:35.008Z"
   },
   {
    "duration": 5,
    "start_time": "2023-01-30T12:24:57.245Z"
   },
   {
    "duration": 8,
    "start_time": "2023-01-30T12:30:50.689Z"
   },
   {
    "duration": 8,
    "start_time": "2023-01-30T12:32:54.221Z"
   },
   {
    "duration": 5,
    "start_time": "2023-01-30T12:33:45.404Z"
   },
   {
    "duration": 8,
    "start_time": "2023-01-30T12:35:19.449Z"
   },
   {
    "duration": 6,
    "start_time": "2023-01-30T12:43:40.824Z"
   },
   {
    "duration": 12,
    "start_time": "2023-01-30T12:43:44.100Z"
   },
   {
    "duration": 1182,
    "start_time": "2023-01-30T12:44:01.935Z"
   },
   {
    "duration": 51,
    "start_time": "2023-01-30T12:44:03.119Z"
   },
   {
    "duration": 15,
    "start_time": "2023-01-30T12:44:03.172Z"
   },
   {
    "duration": 62,
    "start_time": "2023-01-30T12:44:03.189Z"
   },
   {
    "duration": 14,
    "start_time": "2023-01-30T12:44:03.252Z"
   },
   {
    "duration": 32,
    "start_time": "2023-01-30T12:44:03.268Z"
   },
   {
    "duration": 44,
    "start_time": "2023-01-30T12:44:03.301Z"
   },
   {
    "duration": 38,
    "start_time": "2023-01-30T12:44:03.346Z"
   },
   {
    "duration": 24,
    "start_time": "2023-01-30T12:44:03.386Z"
   },
   {
    "duration": 32,
    "start_time": "2023-01-30T12:44:03.412Z"
   },
   {
    "duration": 15,
    "start_time": "2023-01-30T12:44:03.446Z"
   },
   {
    "duration": 30,
    "start_time": "2023-01-30T12:44:03.463Z"
   },
   {
    "duration": 24,
    "start_time": "2023-01-30T12:44:03.494Z"
   },
   {
    "duration": 13,
    "start_time": "2023-01-30T12:44:03.520Z"
   },
   {
    "duration": 19,
    "start_time": "2023-01-30T12:44:03.535Z"
   },
   {
    "duration": 42,
    "start_time": "2023-01-30T12:44:03.555Z"
   },
   {
    "duration": 5,
    "start_time": "2023-01-30T12:44:03.599Z"
   },
   {
    "duration": 19,
    "start_time": "2023-01-30T12:44:03.605Z"
   },
   {
    "duration": 22,
    "start_time": "2023-01-30T12:44:03.625Z"
   },
   {
    "duration": 37,
    "start_time": "2023-01-30T12:44:03.648Z"
   },
   {
    "duration": 29,
    "start_time": "2023-01-30T12:44:03.686Z"
   },
   {
    "duration": 41,
    "start_time": "2023-01-30T12:44:03.717Z"
   },
   {
    "duration": 24,
    "start_time": "2023-01-30T12:44:03.760Z"
   },
   {
    "duration": 21,
    "start_time": "2023-01-30T12:44:03.785Z"
   },
   {
    "duration": 56,
    "start_time": "2023-01-30T12:44:03.807Z"
   },
   {
    "duration": 1103,
    "start_time": "2023-01-30T12:47:00.474Z"
   },
   {
    "duration": 45,
    "start_time": "2023-01-30T12:47:01.579Z"
   },
   {
    "duration": 17,
    "start_time": "2023-01-30T12:47:01.626Z"
   },
   {
    "duration": 32,
    "start_time": "2023-01-30T12:47:01.645Z"
   },
   {
    "duration": 6,
    "start_time": "2023-01-30T12:47:01.679Z"
   },
   {
    "duration": 25,
    "start_time": "2023-01-30T12:47:01.687Z"
   },
   {
    "duration": 29,
    "start_time": "2023-01-30T12:47:01.713Z"
   },
   {
    "duration": 27,
    "start_time": "2023-01-30T12:47:01.743Z"
   },
   {
    "duration": 17,
    "start_time": "2023-01-30T12:47:01.771Z"
   },
   {
    "duration": 43,
    "start_time": "2023-01-30T12:47:01.790Z"
   },
   {
    "duration": 18,
    "start_time": "2023-01-30T12:47:01.834Z"
   },
   {
    "duration": 18,
    "start_time": "2023-01-30T12:47:01.854Z"
   },
   {
    "duration": 21,
    "start_time": "2023-01-30T12:47:01.873Z"
   },
   {
    "duration": 14,
    "start_time": "2023-01-30T12:47:01.895Z"
   },
   {
    "duration": 15,
    "start_time": "2023-01-30T12:47:01.910Z"
   },
   {
    "duration": 35,
    "start_time": "2023-01-30T12:47:01.926Z"
   },
   {
    "duration": 21,
    "start_time": "2023-01-30T12:47:01.963Z"
   },
   {
    "duration": 18,
    "start_time": "2023-01-30T12:47:01.985Z"
   },
   {
    "duration": 22,
    "start_time": "2023-01-30T12:47:02.004Z"
   },
   {
    "duration": 11,
    "start_time": "2023-01-30T12:47:02.028Z"
   },
   {
    "duration": 13,
    "start_time": "2023-01-30T12:47:02.040Z"
   },
   {
    "duration": 17,
    "start_time": "2023-01-30T12:47:02.055Z"
   },
   {
    "duration": 11,
    "start_time": "2023-01-30T12:47:02.073Z"
   },
   {
    "duration": 6,
    "start_time": "2023-01-30T12:47:02.086Z"
   },
   {
    "duration": 17,
    "start_time": "2023-01-30T12:47:02.093Z"
   },
   {
    "duration": 14,
    "start_time": "2023-01-30T12:49:59.942Z"
   },
   {
    "duration": 12,
    "start_time": "2023-01-30T12:51:26.244Z"
   },
   {
    "duration": 14,
    "start_time": "2023-01-30T12:55:03.060Z"
   },
   {
    "duration": 166,
    "start_time": "2023-01-30T12:58:37.723Z"
   },
   {
    "duration": 5,
    "start_time": "2023-01-30T13:14:40.720Z"
   },
   {
    "duration": 13,
    "start_time": "2023-01-30T13:15:02.227Z"
   },
   {
    "duration": 15,
    "start_time": "2023-01-30T13:15:11.936Z"
   },
   {
    "duration": 1197,
    "start_time": "2023-01-30T13:17:06.910Z"
   },
   {
    "duration": 56,
    "start_time": "2023-01-30T13:17:08.109Z"
   },
   {
    "duration": 16,
    "start_time": "2023-01-30T13:17:08.166Z"
   },
   {
    "duration": 23,
    "start_time": "2023-01-30T13:17:08.184Z"
   },
   {
    "duration": 29,
    "start_time": "2023-01-30T13:17:08.209Z"
   },
   {
    "duration": 14,
    "start_time": "2023-01-30T13:17:08.239Z"
   },
   {
    "duration": 38,
    "start_time": "2023-01-30T13:17:08.255Z"
   },
   {
    "duration": 45,
    "start_time": "2023-01-30T13:17:08.294Z"
   },
   {
    "duration": 31,
    "start_time": "2023-01-30T13:17:08.341Z"
   },
   {
    "duration": 29,
    "start_time": "2023-01-30T13:17:08.374Z"
   },
   {
    "duration": 36,
    "start_time": "2023-01-30T13:17:08.405Z"
   },
   {
    "duration": 9,
    "start_time": "2023-01-30T13:17:08.442Z"
   },
   {
    "duration": 22,
    "start_time": "2023-01-30T13:17:08.453Z"
   },
   {
    "duration": 21,
    "start_time": "2023-01-30T13:17:08.476Z"
   },
   {
    "duration": 21,
    "start_time": "2023-01-30T13:17:08.499Z"
   },
   {
    "duration": 31,
    "start_time": "2023-01-30T13:17:08.522Z"
   },
   {
    "duration": 175,
    "start_time": "2023-01-30T13:17:08.554Z"
   },
   {
    "duration": 5,
    "start_time": "2023-01-30T13:17:08.730Z"
   },
   {
    "duration": 25,
    "start_time": "2023-01-30T13:17:08.737Z"
   },
   {
    "duration": 25,
    "start_time": "2023-01-30T13:17:08.764Z"
   },
   {
    "duration": 16,
    "start_time": "2023-01-30T13:17:08.790Z"
   },
   {
    "duration": 13,
    "start_time": "2023-01-30T13:17:08.807Z"
   },
   {
    "duration": 18,
    "start_time": "2023-01-30T13:17:08.822Z"
   },
   {
    "duration": 7,
    "start_time": "2023-01-30T13:17:08.842Z"
   },
   {
    "duration": 22,
    "start_time": "2023-01-30T13:17:08.851Z"
   },
   {
    "duration": 22,
    "start_time": "2023-01-30T13:17:08.875Z"
   },
   {
    "duration": 25,
    "start_time": "2023-01-30T13:17:08.899Z"
   },
   {
    "duration": 32,
    "start_time": "2023-01-30T13:17:08.927Z"
   },
   {
    "duration": 13,
    "start_time": "2023-01-30T14:02:59.549Z"
   },
   {
    "duration": 332,
    "start_time": "2023-01-30T14:05:30.496Z"
   },
   {
    "duration": 297,
    "start_time": "2023-01-30T14:06:08.697Z"
   },
   {
    "duration": 297,
    "start_time": "2023-01-30T14:06:10.580Z"
   },
   {
    "duration": 108,
    "start_time": "2023-01-30T14:17:29.032Z"
   },
   {
    "duration": 8,
    "start_time": "2023-01-30T14:17:37.243Z"
   },
   {
    "duration": 379,
    "start_time": "2023-01-30T14:29:48.011Z"
   },
   {
    "duration": 295,
    "start_time": "2023-01-30T14:30:46.622Z"
   },
   {
    "duration": 58,
    "start_time": "2023-01-30T16:31:48.498Z"
   },
   {
    "duration": 8,
    "start_time": "2023-01-30T16:32:48.763Z"
   },
   {
    "duration": 9,
    "start_time": "2023-01-30T16:33:09.775Z"
   },
   {
    "duration": 1562,
    "start_time": "2023-01-30T16:33:23.008Z"
   },
   {
    "duration": 219,
    "start_time": "2023-01-30T16:33:24.572Z"
   },
   {
    "duration": 20,
    "start_time": "2023-01-30T16:33:24.793Z"
   },
   {
    "duration": 14,
    "start_time": "2023-01-30T16:33:24.815Z"
   },
   {
    "duration": 4,
    "start_time": "2023-01-30T16:33:24.831Z"
   },
   {
    "duration": 16,
    "start_time": "2023-01-30T16:33:24.843Z"
   },
   {
    "duration": 8,
    "start_time": "2023-01-30T16:33:24.862Z"
   },
   {
    "duration": 6,
    "start_time": "2023-01-30T16:33:24.872Z"
   },
   {
    "duration": 7,
    "start_time": "2023-01-30T16:33:24.880Z"
   },
   {
    "duration": 13,
    "start_time": "2023-01-30T16:33:24.890Z"
   },
   {
    "duration": 6,
    "start_time": "2023-01-30T16:33:24.904Z"
   },
   {
    "duration": 24,
    "start_time": "2023-01-30T16:33:24.912Z"
   },
   {
    "duration": 10,
    "start_time": "2023-01-30T16:33:24.943Z"
   },
   {
    "duration": 7,
    "start_time": "2023-01-30T16:33:24.955Z"
   },
   {
    "duration": 8,
    "start_time": "2023-01-30T16:33:24.963Z"
   },
   {
    "duration": 13,
    "start_time": "2023-01-30T16:33:24.972Z"
   },
   {
    "duration": 222,
    "start_time": "2023-01-30T16:33:24.987Z"
   },
   {
    "duration": 5,
    "start_time": "2023-01-30T16:33:25.211Z"
   },
   {
    "duration": 19,
    "start_time": "2023-01-30T16:33:25.218Z"
   },
   {
    "duration": 14,
    "start_time": "2023-01-30T16:33:25.243Z"
   },
   {
    "duration": 12,
    "start_time": "2023-01-30T16:33:25.259Z"
   },
   {
    "duration": 13,
    "start_time": "2023-01-30T16:33:25.273Z"
   },
   {
    "duration": 41,
    "start_time": "2023-01-30T16:33:25.288Z"
   },
   {
    "duration": 21,
    "start_time": "2023-01-30T16:33:25.331Z"
   },
   {
    "duration": 9,
    "start_time": "2023-01-30T16:33:25.355Z"
   },
   {
    "duration": 25,
    "start_time": "2023-01-30T16:33:25.366Z"
   },
   {
    "duration": 15,
    "start_time": "2023-01-30T16:33:25.394Z"
   },
   {
    "duration": 41,
    "start_time": "2023-01-30T16:33:25.413Z"
   },
   {
    "duration": 11,
    "start_time": "2023-01-30T16:33:25.456Z"
   },
   {
    "duration": 113,
    "start_time": "2023-01-30T16:33:25.469Z"
   },
   {
    "duration": 96,
    "start_time": "2023-01-30T16:34:25.977Z"
   },
   {
    "duration": 15,
    "start_time": "2023-01-30T16:34:30.795Z"
   },
   {
    "duration": 9,
    "start_time": "2023-01-30T16:35:00.364Z"
   },
   {
    "duration": 9,
    "start_time": "2023-01-30T16:35:50.565Z"
   },
   {
    "duration": 362,
    "start_time": "2023-01-30T16:40:28.504Z"
   },
   {
    "duration": 3057,
    "start_time": "2023-01-30T16:40:46.497Z"
   },
   {
    "duration": 1294,
    "start_time": "2023-01-30T16:40:52.224Z"
   },
   {
    "duration": 66,
    "start_time": "2023-01-30T16:40:53.520Z"
   },
   {
    "duration": 24,
    "start_time": "2023-01-30T16:40:53.589Z"
   },
   {
    "duration": 18,
    "start_time": "2023-01-30T16:40:53.614Z"
   },
   {
    "duration": 12,
    "start_time": "2023-01-30T16:40:53.635Z"
   },
   {
    "duration": 16,
    "start_time": "2023-01-30T16:40:53.649Z"
   },
   {
    "duration": 8,
    "start_time": "2023-01-30T16:40:53.667Z"
   },
   {
    "duration": 7,
    "start_time": "2023-01-30T16:40:53.677Z"
   },
   {
    "duration": 7,
    "start_time": "2023-01-30T16:40:53.686Z"
   },
   {
    "duration": 15,
    "start_time": "2023-01-30T16:40:53.695Z"
   },
   {
    "duration": 6,
    "start_time": "2023-01-30T16:40:53.712Z"
   },
   {
    "duration": 14,
    "start_time": "2023-01-30T16:40:53.739Z"
   },
   {
    "duration": 28,
    "start_time": "2023-01-30T16:40:53.755Z"
   },
   {
    "duration": 8,
    "start_time": "2023-01-30T16:40:53.787Z"
   },
   {
    "duration": 10,
    "start_time": "2023-01-30T16:40:53.797Z"
   },
   {
    "duration": 18,
    "start_time": "2023-01-30T16:40:53.809Z"
   },
   {
    "duration": 215,
    "start_time": "2023-01-30T16:40:53.829Z"
   },
   {
    "duration": 6,
    "start_time": "2023-01-30T16:40:54.055Z"
   },
   {
    "duration": 22,
    "start_time": "2023-01-30T16:40:54.062Z"
   },
   {
    "duration": 11,
    "start_time": "2023-01-30T16:40:54.085Z"
   },
   {
    "duration": 8,
    "start_time": "2023-01-30T16:40:54.098Z"
   },
   {
    "duration": 20,
    "start_time": "2023-01-30T16:40:54.108Z"
   },
   {
    "duration": 25,
    "start_time": "2023-01-30T16:40:54.130Z"
   },
   {
    "duration": 13,
    "start_time": "2023-01-30T16:40:54.157Z"
   },
   {
    "duration": 6,
    "start_time": "2023-01-30T16:40:54.171Z"
   },
   {
    "duration": 22,
    "start_time": "2023-01-30T16:40:54.179Z"
   },
   {
    "duration": 13,
    "start_time": "2023-01-30T16:40:54.203Z"
   },
   {
    "duration": 35,
    "start_time": "2023-01-30T16:40:54.218Z"
   },
   {
    "duration": 3,
    "start_time": "2023-01-30T16:40:54.254Z"
   },
   {
    "duration": 97,
    "start_time": "2023-01-30T16:40:54.259Z"
   },
   {
    "duration": 16,
    "start_time": "2023-01-30T16:40:54.358Z"
   },
   {
    "duration": 12,
    "start_time": "2023-01-30T16:40:54.376Z"
   },
   {
    "duration": 2835,
    "start_time": "2023-01-30T16:40:54.393Z"
   },
   {
    "duration": 12,
    "start_time": "2023-01-30T16:49:23.088Z"
   },
   {
    "duration": 15,
    "start_time": "2023-01-30T16:49:29.160Z"
   },
   {
    "duration": 12,
    "start_time": "2023-01-30T16:50:04.998Z"
   },
   {
    "duration": 11,
    "start_time": "2023-01-30T16:50:21.671Z"
   },
   {
    "duration": 16,
    "start_time": "2023-01-30T16:51:56.982Z"
   },
   {
    "duration": 17,
    "start_time": "2023-01-30T16:54:06.035Z"
   },
   {
    "duration": 107,
    "start_time": "2023-01-30T16:56:57.508Z"
   },
   {
    "duration": 14,
    "start_time": "2023-01-30T16:57:06.028Z"
   },
   {
    "duration": 123,
    "start_time": "2023-01-30T16:57:43.788Z"
   },
   {
    "duration": 32,
    "start_time": "2023-01-30T16:57:55.698Z"
   },
   {
    "duration": 1178,
    "start_time": "2023-01-30T16:58:43.571Z"
   },
   {
    "duration": 50,
    "start_time": "2023-01-30T16:58:44.751Z"
   },
   {
    "duration": 18,
    "start_time": "2023-01-30T16:58:44.803Z"
   },
   {
    "duration": 22,
    "start_time": "2023-01-30T16:58:44.824Z"
   },
   {
    "duration": 9,
    "start_time": "2023-01-30T16:58:44.848Z"
   },
   {
    "duration": 19,
    "start_time": "2023-01-30T16:58:44.858Z"
   },
   {
    "duration": 24,
    "start_time": "2023-01-30T16:58:44.879Z"
   },
   {
    "duration": 20,
    "start_time": "2023-01-30T16:58:44.905Z"
   },
   {
    "duration": 14,
    "start_time": "2023-01-30T16:58:44.927Z"
   },
   {
    "duration": 27,
    "start_time": "2023-01-30T16:58:44.943Z"
   },
   {
    "duration": 10,
    "start_time": "2023-01-30T16:58:44.971Z"
   },
   {
    "duration": 30,
    "start_time": "2023-01-30T16:58:44.982Z"
   },
   {
    "duration": 30,
    "start_time": "2023-01-30T16:58:45.014Z"
   },
   {
    "duration": 21,
    "start_time": "2023-01-30T16:58:45.046Z"
   },
   {
    "duration": 7,
    "start_time": "2023-01-30T16:58:45.070Z"
   },
   {
    "duration": 12,
    "start_time": "2023-01-30T16:58:45.079Z"
   },
   {
    "duration": 195,
    "start_time": "2023-01-30T16:58:45.092Z"
   },
   {
    "duration": 6,
    "start_time": "2023-01-30T16:58:45.288Z"
   },
   {
    "duration": 12,
    "start_time": "2023-01-30T16:58:45.295Z"
   },
   {
    "duration": 6,
    "start_time": "2023-01-30T16:58:45.309Z"
   },
   {
    "duration": 21,
    "start_time": "2023-01-30T16:58:45.317Z"
   },
   {
    "duration": 10,
    "start_time": "2023-01-30T16:58:45.340Z"
   },
   {
    "duration": 12,
    "start_time": "2023-01-30T16:58:45.352Z"
   },
   {
    "duration": 9,
    "start_time": "2023-01-30T16:58:45.366Z"
   },
   {
    "duration": 5,
    "start_time": "2023-01-30T16:58:45.376Z"
   },
   {
    "duration": 18,
    "start_time": "2023-01-30T16:58:45.383Z"
   },
   {
    "duration": 45,
    "start_time": "2023-01-30T16:58:45.403Z"
   },
   {
    "duration": 16,
    "start_time": "2023-01-30T16:58:45.451Z"
   },
   {
    "duration": 4,
    "start_time": "2023-01-30T16:58:45.469Z"
   },
   {
    "duration": 94,
    "start_time": "2023-01-30T16:58:45.474Z"
   },
   {
    "duration": 2551,
    "start_time": "2023-01-30T16:58:45.570Z"
   },
   {
    "duration": 24,
    "start_time": "2023-01-30T16:58:48.123Z"
   },
   {
    "duration": 143,
    "start_time": "2023-01-30T16:58:48.149Z"
   },
   {
    "duration": 648,
    "start_time": "2023-01-30T16:59:00.779Z"
   },
   {
    "duration": 18,
    "start_time": "2023-01-30T17:05:06.448Z"
   },
   {
    "duration": 326,
    "start_time": "2023-01-30T17:05:41.329Z"
   },
   {
    "duration": 18,
    "start_time": "2023-01-30T17:11:55.566Z"
   },
   {
    "duration": 23,
    "start_time": "2023-01-30T17:12:10.995Z"
   },
   {
    "duration": 18,
    "start_time": "2023-01-30T17:12:24.813Z"
   },
   {
    "duration": 203,
    "start_time": "2023-01-30T17:13:52.100Z"
   },
   {
    "duration": 13,
    "start_time": "2023-01-30T17:18:01.770Z"
   },
   {
    "duration": 10,
    "start_time": "2023-01-30T17:29:01.292Z"
   },
   {
    "duration": 9,
    "start_time": "2023-01-30T17:29:24.678Z"
   },
   {
    "duration": 659,
    "start_time": "2023-01-30T17:31:05.777Z"
   },
   {
    "duration": 9,
    "start_time": "2023-01-30T17:32:14.972Z"
   },
   {
    "duration": 11,
    "start_time": "2023-01-30T17:34:28.286Z"
   },
   {
    "duration": 641,
    "start_time": "2023-01-30T17:38:17.298Z"
   },
   {
    "duration": 589,
    "start_time": "2023-01-30T17:39:04.866Z"
   },
   {
    "duration": 2447,
    "start_time": "2023-01-30T17:46:00.452Z"
   },
   {
    "duration": 1229,
    "start_time": "2023-01-30T17:46:59.714Z"
   },
   {
    "duration": 51,
    "start_time": "2023-01-30T17:47:00.945Z"
   },
   {
    "duration": 18,
    "start_time": "2023-01-30T17:47:00.998Z"
   },
   {
    "duration": 29,
    "start_time": "2023-01-30T17:47:01.018Z"
   },
   {
    "duration": 9,
    "start_time": "2023-01-30T17:47:01.049Z"
   },
   {
    "duration": 9,
    "start_time": "2023-01-30T17:47:01.060Z"
   },
   {
    "duration": 21,
    "start_time": "2023-01-30T17:47:01.071Z"
   },
   {
    "duration": 23,
    "start_time": "2023-01-30T17:47:01.094Z"
   },
   {
    "duration": 50,
    "start_time": "2023-01-30T17:47:01.119Z"
   },
   {
    "duration": 32,
    "start_time": "2023-01-30T17:47:01.172Z"
   },
   {
    "duration": 33,
    "start_time": "2023-01-30T17:47:01.205Z"
   },
   {
    "duration": 48,
    "start_time": "2023-01-30T17:47:01.240Z"
   },
   {
    "duration": 19,
    "start_time": "2023-01-30T17:47:01.290Z"
   },
   {
    "duration": 69,
    "start_time": "2023-01-30T17:47:01.311Z"
   },
   {
    "duration": 82,
    "start_time": "2023-01-30T17:47:01.382Z"
   },
   {
    "duration": 41,
    "start_time": "2023-01-30T17:47:01.466Z"
   },
   {
    "duration": 214,
    "start_time": "2023-01-30T17:47:01.508Z"
   },
   {
    "duration": 5,
    "start_time": "2023-01-30T17:47:01.724Z"
   },
   {
    "duration": 57,
    "start_time": "2023-01-30T17:47:01.743Z"
   },
   {
    "duration": 29,
    "start_time": "2023-01-30T17:47:01.802Z"
   },
   {
    "duration": 42,
    "start_time": "2023-01-30T17:47:01.833Z"
   },
   {
    "duration": 20,
    "start_time": "2023-01-30T17:47:01.877Z"
   },
   {
    "duration": 24,
    "start_time": "2023-01-30T17:47:01.899Z"
   },
   {
    "duration": 22,
    "start_time": "2023-01-30T17:47:01.925Z"
   },
   {
    "duration": 15,
    "start_time": "2023-01-30T17:47:01.948Z"
   },
   {
    "duration": 39,
    "start_time": "2023-01-30T17:47:01.965Z"
   },
   {
    "duration": 13,
    "start_time": "2023-01-30T17:47:02.006Z"
   },
   {
    "duration": 40,
    "start_time": "2023-01-30T17:47:02.023Z"
   },
   {
    "duration": 17,
    "start_time": "2023-01-30T17:47:02.065Z"
   },
   {
    "duration": 89,
    "start_time": "2023-01-30T17:47:02.083Z"
   },
   {
    "duration": 2549,
    "start_time": "2023-01-30T17:47:02.173Z"
   },
   {
    "duration": 21,
    "start_time": "2023-01-30T17:47:04.724Z"
   },
   {
    "duration": 620,
    "start_time": "2023-01-30T17:47:04.747Z"
   },
   {
    "duration": 274,
    "start_time": "2023-01-30T17:47:05.369Z"
   },
   {
    "duration": 20,
    "start_time": "2023-01-30T17:47:05.645Z"
   },
   {
    "duration": 203,
    "start_time": "2023-01-30T17:47:05.667Z"
   },
   {
    "duration": 12,
    "start_time": "2023-01-30T17:47:05.872Z"
   },
   {
    "duration": 26,
    "start_time": "2023-01-30T17:47:05.885Z"
   },
   {
    "duration": 47,
    "start_time": "2023-01-30T17:47:05.912Z"
   },
   {
    "duration": 666,
    "start_time": "2023-01-30T17:47:05.961Z"
   },
   {
    "duration": 11,
    "start_time": "2023-01-30T17:47:06.629Z"
   },
   {
    "duration": 20,
    "start_time": "2023-01-30T17:47:06.642Z"
   },
   {
    "duration": 657,
    "start_time": "2023-01-30T17:47:06.663Z"
   },
   {
    "duration": 2465,
    "start_time": "2023-01-30T17:47:07.322Z"
   },
   {
    "duration": 1319,
    "start_time": "2023-01-30T17:49:00.284Z"
   },
   {
    "duration": 54,
    "start_time": "2023-01-30T17:49:01.606Z"
   },
   {
    "duration": 21,
    "start_time": "2023-01-30T17:49:01.662Z"
   },
   {
    "duration": 30,
    "start_time": "2023-01-30T17:49:01.685Z"
   },
   {
    "duration": 53,
    "start_time": "2023-01-30T17:49:01.717Z"
   },
   {
    "duration": 42,
    "start_time": "2023-01-30T17:49:01.772Z"
   },
   {
    "duration": 47,
    "start_time": "2023-01-30T17:49:01.816Z"
   },
   {
    "duration": 39,
    "start_time": "2023-01-30T17:49:01.866Z"
   },
   {
    "duration": 44,
    "start_time": "2023-01-30T17:49:01.907Z"
   },
   {
    "duration": 33,
    "start_time": "2023-01-30T17:49:01.954Z"
   },
   {
    "duration": 33,
    "start_time": "2023-01-30T17:49:01.989Z"
   },
   {
    "duration": 28,
    "start_time": "2023-01-30T17:49:02.024Z"
   },
   {
    "duration": 24,
    "start_time": "2023-01-30T17:49:02.054Z"
   },
   {
    "duration": 26,
    "start_time": "2023-01-30T17:49:02.080Z"
   },
   {
    "duration": 33,
    "start_time": "2023-01-30T17:49:02.108Z"
   },
   {
    "duration": 45,
    "start_time": "2023-01-30T17:49:02.142Z"
   },
   {
    "duration": 235,
    "start_time": "2023-01-30T17:49:02.189Z"
   },
   {
    "duration": 10,
    "start_time": "2023-01-30T17:49:02.427Z"
   },
   {
    "duration": 16,
    "start_time": "2023-01-30T17:49:02.439Z"
   },
   {
    "duration": 35,
    "start_time": "2023-01-30T17:49:02.457Z"
   },
   {
    "duration": 27,
    "start_time": "2023-01-30T17:49:02.493Z"
   },
   {
    "duration": 20,
    "start_time": "2023-01-30T17:49:02.522Z"
   },
   {
    "duration": 35,
    "start_time": "2023-01-30T17:49:02.543Z"
   },
   {
    "duration": 18,
    "start_time": "2023-01-30T17:49:02.580Z"
   },
   {
    "duration": 13,
    "start_time": "2023-01-30T17:49:02.600Z"
   },
   {
    "duration": 30,
    "start_time": "2023-01-30T17:49:02.615Z"
   },
   {
    "duration": 14,
    "start_time": "2023-01-30T17:49:02.646Z"
   },
   {
    "duration": 18,
    "start_time": "2023-01-30T17:49:02.664Z"
   },
   {
    "duration": 7,
    "start_time": "2023-01-30T17:49:02.684Z"
   },
   {
    "duration": 98,
    "start_time": "2023-01-30T17:49:02.693Z"
   },
   {
    "duration": 2918,
    "start_time": "2023-01-30T17:49:02.793Z"
   },
   {
    "duration": 31,
    "start_time": "2023-01-30T17:49:05.713Z"
   },
   {
    "duration": 657,
    "start_time": "2023-01-30T17:49:05.746Z"
   },
   {
    "duration": 294,
    "start_time": "2023-01-30T17:49:06.405Z"
   },
   {
    "duration": 21,
    "start_time": "2023-01-30T17:49:06.700Z"
   },
   {
    "duration": 211,
    "start_time": "2023-01-30T17:49:06.735Z"
   },
   {
    "duration": 12,
    "start_time": "2023-01-30T17:49:06.948Z"
   },
   {
    "duration": 12,
    "start_time": "2023-01-30T17:49:06.962Z"
   },
   {
    "duration": 16,
    "start_time": "2023-01-30T17:49:06.976Z"
   },
   {
    "duration": 674,
    "start_time": "2023-01-30T17:49:06.994Z"
   },
   {
    "duration": 10,
    "start_time": "2023-01-30T17:49:07.670Z"
   },
   {
    "duration": 13,
    "start_time": "2023-01-30T17:49:07.682Z"
   },
   {
    "duration": 667,
    "start_time": "2023-01-30T17:49:07.697Z"
   },
   {
    "duration": 2506,
    "start_time": "2023-01-30T17:49:08.366Z"
   },
   {
    "duration": 6,
    "start_time": "2023-01-30T17:54:37.699Z"
   },
   {
    "duration": 44,
    "start_time": "2023-01-30T17:56:01.744Z"
   },
   {
    "duration": 282,
    "start_time": "2023-01-30T17:58:15.707Z"
   },
   {
    "duration": 421,
    "start_time": "2023-01-30T18:02:30.582Z"
   },
   {
    "duration": 51,
    "start_time": "2023-01-30T18:10:43.665Z"
   },
   {
    "duration": 16,
    "start_time": "2023-01-30T18:13:03.336Z"
   },
   {
    "duration": 17,
    "start_time": "2023-01-30T18:18:02.369Z"
   },
   {
    "duration": 3,
    "start_time": "2023-01-30T18:31:25.141Z"
   },
   {
    "duration": 106,
    "start_time": "2023-01-30T18:37:10.631Z"
   },
   {
    "duration": 19,
    "start_time": "2023-01-30T18:37:20.394Z"
   },
   {
    "duration": 11,
    "start_time": "2023-01-30T18:38:22.858Z"
   },
   {
    "duration": 20,
    "start_time": "2023-01-30T18:38:38.128Z"
   },
   {
    "duration": 30,
    "start_time": "2023-01-30T18:39:32.417Z"
   },
   {
    "duration": 6,
    "start_time": "2023-01-30T18:46:05.340Z"
   },
   {
    "duration": 23,
    "start_time": "2023-01-30T18:56:01.408Z"
   },
   {
    "duration": 6,
    "start_time": "2023-01-30T18:57:35.595Z"
   },
   {
    "duration": 54,
    "start_time": "2023-01-30T18:58:27.362Z"
   },
   {
    "duration": 1357,
    "start_time": "2023-01-30T18:59:17.303Z"
   },
   {
    "duration": 68,
    "start_time": "2023-01-30T18:59:18.663Z"
   },
   {
    "duration": 27,
    "start_time": "2023-01-30T18:59:18.733Z"
   },
   {
    "duration": 17,
    "start_time": "2023-01-30T18:59:18.762Z"
   },
   {
    "duration": 4,
    "start_time": "2023-01-30T18:59:18.781Z"
   },
   {
    "duration": 8,
    "start_time": "2023-01-30T18:59:18.787Z"
   },
   {
    "duration": 40,
    "start_time": "2023-01-30T18:59:18.797Z"
   },
   {
    "duration": 6,
    "start_time": "2023-01-30T18:59:18.839Z"
   },
   {
    "duration": 8,
    "start_time": "2023-01-30T18:59:18.847Z"
   },
   {
    "duration": 16,
    "start_time": "2023-01-30T18:59:18.857Z"
   },
   {
    "duration": 7,
    "start_time": "2023-01-30T18:59:18.876Z"
   },
   {
    "duration": 5,
    "start_time": "2023-01-30T18:59:18.885Z"
   },
   {
    "duration": 9,
    "start_time": "2023-01-30T18:59:18.892Z"
   },
   {
    "duration": 6,
    "start_time": "2023-01-30T18:59:18.936Z"
   },
   {
    "duration": 9,
    "start_time": "2023-01-30T18:59:18.944Z"
   },
   {
    "duration": 12,
    "start_time": "2023-01-30T18:59:18.954Z"
   },
   {
    "duration": 214,
    "start_time": "2023-01-30T18:59:18.968Z"
   },
   {
    "duration": 6,
    "start_time": "2023-01-30T18:59:19.183Z"
   },
   {
    "duration": 22,
    "start_time": "2023-01-30T18:59:19.191Z"
   },
   {
    "duration": 18,
    "start_time": "2023-01-30T18:59:19.215Z"
   },
   {
    "duration": 18,
    "start_time": "2023-01-30T18:59:19.235Z"
   },
   {
    "duration": 19,
    "start_time": "2023-01-30T18:59:19.255Z"
   },
   {
    "duration": 19,
    "start_time": "2023-01-30T18:59:19.275Z"
   },
   {
    "duration": 24,
    "start_time": "2023-01-30T18:59:19.297Z"
   },
   {
    "duration": 39,
    "start_time": "2023-01-30T18:59:19.323Z"
   },
   {
    "duration": 31,
    "start_time": "2023-01-30T18:59:19.364Z"
   },
   {
    "duration": 19,
    "start_time": "2023-01-30T18:59:19.398Z"
   },
   {
    "duration": 18,
    "start_time": "2023-01-30T18:59:19.420Z"
   },
   {
    "duration": 4,
    "start_time": "2023-01-30T18:59:19.439Z"
   },
   {
    "duration": 84,
    "start_time": "2023-01-30T18:59:19.444Z"
   },
   {
    "duration": 2648,
    "start_time": "2023-01-30T18:59:19.536Z"
   },
   {
    "duration": 16,
    "start_time": "2023-01-30T18:59:22.186Z"
   },
   {
    "duration": 643,
    "start_time": "2023-01-30T18:59:22.204Z"
   },
   {
    "duration": 291,
    "start_time": "2023-01-30T18:59:22.849Z"
   },
   {
    "duration": 19,
    "start_time": "2023-01-30T18:59:23.141Z"
   },
   {
    "duration": 211,
    "start_time": "2023-01-30T18:59:23.162Z"
   },
   {
    "duration": 13,
    "start_time": "2023-01-30T18:59:23.375Z"
   },
   {
    "duration": 10,
    "start_time": "2023-01-30T18:59:23.391Z"
   },
   {
    "duration": 34,
    "start_time": "2023-01-30T18:59:23.403Z"
   },
   {
    "duration": 619,
    "start_time": "2023-01-30T18:59:23.439Z"
   },
   {
    "duration": 11,
    "start_time": "2023-01-30T18:59:24.062Z"
   },
   {
    "duration": 13,
    "start_time": "2023-01-30T18:59:24.075Z"
   },
   {
    "duration": 669,
    "start_time": "2023-01-30T18:59:24.090Z"
   },
   {
    "duration": 2418,
    "start_time": "2023-01-30T18:59:24.761Z"
   },
   {
    "duration": 6,
    "start_time": "2023-01-30T18:59:27.181Z"
   },
   {
    "duration": 182,
    "start_time": "2023-01-30T18:59:27.189Z"
   },
   {
    "duration": 295,
    "start_time": "2023-01-30T18:59:27.373Z"
   },
   {
    "duration": 293,
    "start_time": "2023-01-30T18:59:27.669Z"
   },
   {
    "duration": 51,
    "start_time": "2023-01-30T18:59:27.965Z"
   },
   {
    "duration": 33,
    "start_time": "2023-01-30T18:59:28.018Z"
   },
   {
    "duration": 35,
    "start_time": "2023-01-30T18:59:28.053Z"
   },
   {
    "duration": 37,
    "start_time": "2023-01-30T18:59:28.090Z"
   },
   {
    "duration": 16,
    "start_time": "2023-01-30T18:59:28.129Z"
   },
   {
    "duration": 32,
    "start_time": "2023-01-30T18:59:28.147Z"
   },
   {
    "duration": 52,
    "start_time": "2023-01-30T18:59:28.181Z"
   },
   {
    "duration": 7,
    "start_time": "2023-01-30T18:59:28.235Z"
   },
   {
    "duration": 7,
    "start_time": "2023-01-30T19:00:26.024Z"
   },
   {
    "duration": 7,
    "start_time": "2023-01-30T19:01:32.371Z"
   },
   {
    "duration": 17,
    "start_time": "2023-01-30T19:46:35.987Z"
   },
   {
    "duration": 10,
    "start_time": "2023-01-30T20:08:38.946Z"
   },
   {
    "duration": 10,
    "start_time": "2023-01-30T20:08:46.972Z"
   },
   {
    "duration": 10,
    "start_time": "2023-01-30T20:08:59.383Z"
   },
   {
    "duration": 11,
    "start_time": "2023-01-30T20:09:06.462Z"
   },
   {
    "duration": 53,
    "start_time": "2023-01-30T20:10:58.188Z"
   },
   {
    "duration": 1319,
    "start_time": "2023-01-30T21:28:20.180Z"
   },
   {
    "duration": 57,
    "start_time": "2023-01-30T21:28:21.502Z"
   },
   {
    "duration": 21,
    "start_time": "2023-01-30T21:28:21.561Z"
   },
   {
    "duration": 112,
    "start_time": "2023-01-30T21:28:21.585Z"
   },
   {
    "duration": 57,
    "start_time": "2023-01-30T21:28:21.699Z"
   },
   {
    "duration": 118,
    "start_time": "2023-01-30T21:28:21.758Z"
   },
   {
    "duration": 62,
    "start_time": "2023-01-30T21:28:21.879Z"
   },
   {
    "duration": 35,
    "start_time": "2023-01-30T21:28:21.943Z"
   },
   {
    "duration": 30,
    "start_time": "2023-01-30T21:28:21.980Z"
   },
   {
    "duration": 40,
    "start_time": "2023-01-30T21:28:22.013Z"
   },
   {
    "duration": 15,
    "start_time": "2023-01-30T21:28:22.055Z"
   },
   {
    "duration": 20,
    "start_time": "2023-01-30T21:28:22.072Z"
   },
   {
    "duration": 20,
    "start_time": "2023-01-30T21:28:22.095Z"
   },
   {
    "duration": 15,
    "start_time": "2023-01-30T21:28:22.117Z"
   },
   {
    "duration": 10,
    "start_time": "2023-01-30T21:28:22.134Z"
   },
   {
    "duration": 21,
    "start_time": "2023-01-30T21:28:22.146Z"
   },
   {
    "duration": 233,
    "start_time": "2023-01-30T21:28:22.170Z"
   },
   {
    "duration": 5,
    "start_time": "2023-01-30T21:28:22.404Z"
   },
   {
    "duration": 69,
    "start_time": "2023-01-30T21:28:22.411Z"
   },
   {
    "duration": 20,
    "start_time": "2023-01-30T21:28:22.482Z"
   },
   {
    "duration": 34,
    "start_time": "2023-01-30T21:28:22.504Z"
   },
   {
    "duration": 19,
    "start_time": "2023-01-30T21:28:22.540Z"
   },
   {
    "duration": 20,
    "start_time": "2023-01-30T21:28:22.561Z"
   },
   {
    "duration": 30,
    "start_time": "2023-01-30T21:28:22.584Z"
   },
   {
    "duration": 19,
    "start_time": "2023-01-30T21:28:22.616Z"
   },
   {
    "duration": 43,
    "start_time": "2023-01-30T21:28:22.637Z"
   },
   {
    "duration": 15,
    "start_time": "2023-01-30T21:28:22.682Z"
   },
   {
    "duration": 17,
    "start_time": "2023-01-30T21:28:22.701Z"
   },
   {
    "duration": 3,
    "start_time": "2023-01-30T21:28:22.720Z"
   },
   {
    "duration": 95,
    "start_time": "2023-01-30T21:28:22.724Z"
   },
   {
    "duration": 2824,
    "start_time": "2023-01-30T21:28:22.821Z"
   },
   {
    "duration": 17,
    "start_time": "2023-01-30T21:28:25.647Z"
   },
   {
    "duration": 630,
    "start_time": "2023-01-30T21:28:25.665Z"
   },
   {
    "duration": 292,
    "start_time": "2023-01-30T21:28:26.297Z"
   },
   {
    "duration": 20,
    "start_time": "2023-01-30T21:28:26.591Z"
   },
   {
    "duration": 223,
    "start_time": "2023-01-30T21:28:26.613Z"
   },
   {
    "duration": 14,
    "start_time": "2023-01-30T21:28:26.838Z"
   },
   {
    "duration": 34,
    "start_time": "2023-01-30T21:28:26.853Z"
   },
   {
    "duration": 39,
    "start_time": "2023-01-30T21:28:26.889Z"
   },
   {
    "duration": 642,
    "start_time": "2023-01-30T21:28:26.930Z"
   },
   {
    "duration": 10,
    "start_time": "2023-01-30T21:28:27.573Z"
   },
   {
    "duration": 32,
    "start_time": "2023-01-30T21:28:27.585Z"
   },
   {
    "duration": 646,
    "start_time": "2023-01-30T21:28:27.618Z"
   },
   {
    "duration": 2542,
    "start_time": "2023-01-30T21:28:28.267Z"
   },
   {
    "duration": 5,
    "start_time": "2023-01-30T21:28:30.811Z"
   },
   {
    "duration": 86,
    "start_time": "2023-01-30T21:28:30.818Z"
   },
   {
    "duration": 291,
    "start_time": "2023-01-30T21:28:30.906Z"
   },
   {
    "duration": 443,
    "start_time": "2023-01-30T21:28:31.199Z"
   },
   {
    "duration": 53,
    "start_time": "2023-01-30T21:28:31.644Z"
   },
   {
    "duration": 23,
    "start_time": "2023-01-30T21:28:31.698Z"
   },
   {
    "duration": 39,
    "start_time": "2023-01-30T21:28:31.722Z"
   },
   {
    "duration": 69,
    "start_time": "2023-01-30T21:28:31.762Z"
   },
   {
    "duration": 25,
    "start_time": "2023-01-30T21:28:31.833Z"
   },
   {
    "duration": 41,
    "start_time": "2023-01-30T21:28:31.859Z"
   },
   {
    "duration": 50,
    "start_time": "2023-01-30T21:28:31.901Z"
   },
   {
    "duration": 41,
    "start_time": "2023-01-30T21:28:31.952Z"
   },
   {
    "duration": 1208,
    "start_time": "2023-01-30T21:55:42.873Z"
   },
   {
    "duration": 53,
    "start_time": "2023-01-30T21:55:44.083Z"
   },
   {
    "duration": 17,
    "start_time": "2023-01-30T21:55:44.137Z"
   },
   {
    "duration": 14,
    "start_time": "2023-01-30T21:55:44.155Z"
   },
   {
    "duration": 13,
    "start_time": "2023-01-30T21:55:44.170Z"
   },
   {
    "duration": 11,
    "start_time": "2023-01-30T21:55:44.185Z"
   },
   {
    "duration": 12,
    "start_time": "2023-01-30T21:55:44.198Z"
   },
   {
    "duration": 11,
    "start_time": "2023-01-30T21:55:44.212Z"
   },
   {
    "duration": 7,
    "start_time": "2023-01-30T21:55:44.226Z"
   },
   {
    "duration": 21,
    "start_time": "2023-01-30T21:55:44.243Z"
   },
   {
    "duration": 8,
    "start_time": "2023-01-30T21:55:44.265Z"
   },
   {
    "duration": 17,
    "start_time": "2023-01-30T21:55:44.275Z"
   },
   {
    "duration": 19,
    "start_time": "2023-01-30T21:55:44.294Z"
   },
   {
    "duration": 10,
    "start_time": "2023-01-30T21:55:44.315Z"
   },
   {
    "duration": 21,
    "start_time": "2023-01-30T21:55:44.326Z"
   },
   {
    "duration": 18,
    "start_time": "2023-01-30T21:55:44.349Z"
   },
   {
    "duration": 188,
    "start_time": "2023-01-30T21:55:44.368Z"
   },
   {
    "duration": 5,
    "start_time": "2023-01-30T21:55:44.558Z"
   },
   {
    "duration": 11,
    "start_time": "2023-01-30T21:55:44.564Z"
   },
   {
    "duration": 7,
    "start_time": "2023-01-30T21:55:44.576Z"
   },
   {
    "duration": 13,
    "start_time": "2023-01-30T21:55:44.584Z"
   },
   {
    "duration": 11,
    "start_time": "2023-01-30T21:55:44.598Z"
   },
   {
    "duration": 15,
    "start_time": "2023-01-30T21:55:44.611Z"
   },
   {
    "duration": 20,
    "start_time": "2023-01-30T21:55:44.628Z"
   },
   {
    "duration": 5,
    "start_time": "2023-01-30T21:55:44.649Z"
   },
   {
    "duration": 17,
    "start_time": "2023-01-30T21:55:44.656Z"
   },
   {
    "duration": 15,
    "start_time": "2023-01-30T21:55:44.677Z"
   },
   {
    "duration": 23,
    "start_time": "2023-01-30T21:55:44.694Z"
   },
   {
    "duration": 28,
    "start_time": "2023-01-30T21:55:44.718Z"
   },
   {
    "duration": 103,
    "start_time": "2023-01-30T21:55:44.748Z"
   },
   {
    "duration": 2341,
    "start_time": "2023-01-30T21:55:44.852Z"
   },
   {
    "duration": 15,
    "start_time": "2023-01-30T21:55:47.195Z"
   },
   {
    "duration": 550,
    "start_time": "2023-01-30T21:55:47.211Z"
   },
   {
    "duration": 263,
    "start_time": "2023-01-30T21:55:47.763Z"
   },
   {
    "duration": 26,
    "start_time": "2023-01-30T21:55:48.028Z"
   },
   {
    "duration": 195,
    "start_time": "2023-01-30T21:55:48.056Z"
   },
   {
    "duration": 11,
    "start_time": "2023-01-30T21:55:48.252Z"
   },
   {
    "duration": 14,
    "start_time": "2023-01-30T21:55:48.264Z"
   },
   {
    "duration": 14,
    "start_time": "2023-01-30T21:55:48.280Z"
   },
   {
    "duration": 621,
    "start_time": "2023-01-30T21:55:48.295Z"
   },
   {
    "duration": 8,
    "start_time": "2023-01-30T21:55:48.917Z"
   },
   {
    "duration": 37,
    "start_time": "2023-01-30T21:55:48.927Z"
   },
   {
    "duration": 564,
    "start_time": "2023-01-30T21:55:48.966Z"
   },
   {
    "duration": 3140,
    "start_time": "2023-01-30T21:55:49.532Z"
   },
   {
    "duration": 6,
    "start_time": "2023-01-30T21:55:52.674Z"
   },
   {
    "duration": 96,
    "start_time": "2023-01-30T21:55:52.682Z"
   },
   {
    "duration": 352,
    "start_time": "2023-01-30T21:55:52.780Z"
   },
   {
    "duration": 541,
    "start_time": "2023-01-30T21:55:53.133Z"
   },
   {
    "duration": 47,
    "start_time": "2023-01-30T21:55:53.676Z"
   },
   {
    "duration": 29,
    "start_time": "2023-01-30T21:55:53.724Z"
   },
   {
    "duration": 17,
    "start_time": "2023-01-30T21:55:53.755Z"
   },
   {
    "duration": 19,
    "start_time": "2023-01-30T21:55:53.774Z"
   },
   {
    "duration": 6,
    "start_time": "2023-01-30T21:55:53.794Z"
   },
   {
    "duration": 16,
    "start_time": "2023-01-30T21:55:53.801Z"
   },
   {
    "duration": 42,
    "start_time": "2023-01-30T21:55:53.818Z"
   },
   {
    "duration": 5,
    "start_time": "2023-01-30T21:55:53.862Z"
   },
   {
    "duration": 74,
    "start_time": "2023-01-30T22:04:26.248Z"
   },
   {
    "duration": 97,
    "start_time": "2023-01-30T22:10:35.402Z"
   },
   {
    "duration": 11,
    "start_time": "2023-01-30T22:10:53.255Z"
   },
   {
    "duration": 10,
    "start_time": "2023-01-30T22:11:30.877Z"
   },
   {
    "duration": 107,
    "start_time": "2023-01-30T23:01:35.838Z"
   },
   {
    "duration": 47,
    "start_time": "2023-01-30T23:02:07.386Z"
   },
   {
    "duration": 45,
    "start_time": "2023-01-30T23:02:36.855Z"
   },
   {
    "duration": 48,
    "start_time": "2023-01-30T23:02:50.896Z"
   },
   {
    "duration": 28,
    "start_time": "2023-01-30T23:03:51.067Z"
   },
   {
    "duration": 33,
    "start_time": "2023-01-30T23:04:02.975Z"
   },
   {
    "duration": 272,
    "start_time": "2023-01-30T23:05:55.119Z"
   },
   {
    "duration": 260,
    "start_time": "2023-01-30T23:06:36.463Z"
   },
   {
    "duration": 270,
    "start_time": "2023-01-30T23:07:12.621Z"
   },
   {
    "duration": 280,
    "start_time": "2023-01-30T23:14:08.949Z"
   },
   {
    "duration": 462,
    "start_time": "2023-01-30T23:14:26.582Z"
   },
   {
    "duration": 380,
    "start_time": "2023-01-30T23:14:38.000Z"
   },
   {
    "duration": 315,
    "start_time": "2023-01-30T23:15:08.634Z"
   },
   {
    "duration": 323,
    "start_time": "2023-01-30T23:15:38.712Z"
   },
   {
    "duration": 279,
    "start_time": "2023-01-30T23:16:43.638Z"
   },
   {
    "duration": 303,
    "start_time": "2023-01-30T23:16:51.414Z"
   },
   {
    "duration": 466,
    "start_time": "2023-01-30T23:17:02.813Z"
   },
   {
    "duration": 319,
    "start_time": "2023-01-30T23:17:21.173Z"
   },
   {
    "duration": 401,
    "start_time": "2023-01-30T23:17:32.133Z"
   },
   {
    "duration": 1304,
    "start_time": "2023-01-30T23:18:24.341Z"
   },
   {
    "duration": 52,
    "start_time": "2023-01-30T23:18:25.647Z"
   },
   {
    "duration": 19,
    "start_time": "2023-01-30T23:18:25.701Z"
   },
   {
    "duration": 15,
    "start_time": "2023-01-30T23:18:25.723Z"
   },
   {
    "duration": 9,
    "start_time": "2023-01-30T23:18:25.741Z"
   },
   {
    "duration": 30,
    "start_time": "2023-01-30T23:18:25.752Z"
   },
   {
    "duration": 21,
    "start_time": "2023-01-30T23:18:25.784Z"
   },
   {
    "duration": 18,
    "start_time": "2023-01-30T23:18:25.808Z"
   },
   {
    "duration": 6,
    "start_time": "2023-01-30T23:18:25.828Z"
   },
   {
    "duration": 19,
    "start_time": "2023-01-30T23:18:25.838Z"
   },
   {
    "duration": 7,
    "start_time": "2023-01-30T23:18:25.859Z"
   },
   {
    "duration": 6,
    "start_time": "2023-01-30T23:18:25.868Z"
   },
   {
    "duration": 7,
    "start_time": "2023-01-30T23:18:25.876Z"
   },
   {
    "duration": 9,
    "start_time": "2023-01-30T23:18:25.885Z"
   },
   {
    "duration": 8,
    "start_time": "2023-01-30T23:18:25.896Z"
   },
   {
    "duration": 44,
    "start_time": "2023-01-30T23:18:25.906Z"
   },
   {
    "duration": 217,
    "start_time": "2023-01-30T23:18:25.952Z"
   },
   {
    "duration": 5,
    "start_time": "2023-01-30T23:18:26.171Z"
   },
   {
    "duration": 11,
    "start_time": "2023-01-30T23:18:26.178Z"
   },
   {
    "duration": 7,
    "start_time": "2023-01-30T23:18:26.191Z"
   },
   {
    "duration": 7,
    "start_time": "2023-01-30T23:18:26.200Z"
   },
   {
    "duration": 28,
    "start_time": "2023-01-30T23:18:26.209Z"
   },
   {
    "duration": 9,
    "start_time": "2023-01-30T23:18:26.240Z"
   },
   {
    "duration": 13,
    "start_time": "2023-01-30T23:18:26.250Z"
   },
   {
    "duration": 5,
    "start_time": "2023-01-30T23:18:26.264Z"
   },
   {
    "duration": 20,
    "start_time": "2023-01-30T23:18:26.271Z"
   },
   {
    "duration": 14,
    "start_time": "2023-01-30T23:18:26.293Z"
   },
   {
    "duration": 18,
    "start_time": "2023-01-30T23:18:26.340Z"
   },
   {
    "duration": 90,
    "start_time": "2023-01-30T23:18:26.360Z"
   },
   {
    "duration": 3,
    "start_time": "2023-01-30T23:18:26.452Z"
   },
   {
    "duration": 95,
    "start_time": "2023-01-30T23:18:26.457Z"
   },
   {
    "duration": 2668,
    "start_time": "2023-01-30T23:18:26.554Z"
   },
   {
    "duration": 23,
    "start_time": "2023-01-30T23:18:29.224Z"
   },
   {
    "duration": 647,
    "start_time": "2023-01-30T23:18:29.248Z"
   },
   {
    "duration": 278,
    "start_time": "2023-01-30T23:18:29.897Z"
   },
   {
    "duration": 20,
    "start_time": "2023-01-30T23:18:30.177Z"
   },
   {
    "duration": 38,
    "start_time": "2023-01-30T23:18:30.199Z"
   },
   {
    "duration": 271,
    "start_time": "2023-01-30T23:18:30.239Z"
   },
   {
    "duration": 410,
    "start_time": "2023-01-30T23:18:30.513Z"
   },
   {
    "duration": 21,
    "start_time": "2023-01-30T23:18:30.925Z"
   },
   {
    "duration": 45,
    "start_time": "2023-01-30T23:18:30.948Z"
   },
   {
    "duration": 36,
    "start_time": "2023-01-30T23:18:30.995Z"
   },
   {
    "duration": 643,
    "start_time": "2023-01-30T23:18:31.033Z"
   },
   {
    "duration": 10,
    "start_time": "2023-01-30T23:18:31.678Z"
   },
   {
    "duration": 27,
    "start_time": "2023-01-30T23:18:31.690Z"
   },
   {
    "duration": 628,
    "start_time": "2023-01-30T23:18:31.719Z"
   },
   {
    "duration": 2509,
    "start_time": "2023-01-30T23:18:32.349Z"
   },
   {
    "duration": 9,
    "start_time": "2023-01-30T23:18:34.860Z"
   },
   {
    "duration": 20,
    "start_time": "2023-01-30T23:18:34.870Z"
   },
   {
    "duration": 58,
    "start_time": "2023-01-30T23:18:34.891Z"
   },
   {
    "duration": 290,
    "start_time": "2023-01-30T23:18:34.952Z"
   },
   {
    "duration": 293,
    "start_time": "2023-01-30T23:18:35.244Z"
   },
   {
    "duration": 53,
    "start_time": "2023-01-30T23:18:35.538Z"
   },
   {
    "duration": 16,
    "start_time": "2023-01-30T23:18:35.592Z"
   },
   {
    "duration": 32,
    "start_time": "2023-01-30T23:18:35.610Z"
   },
   {
    "duration": 27,
    "start_time": "2023-01-30T23:18:35.644Z"
   },
   {
    "duration": 3,
    "start_time": "2023-01-30T23:18:35.672Z"
   },
   {
    "duration": 12,
    "start_time": "2023-01-30T23:18:35.677Z"
   },
   {
    "duration": 28,
    "start_time": "2023-01-30T23:18:35.690Z"
   },
   {
    "duration": 20,
    "start_time": "2023-01-30T23:18:35.719Z"
   },
   {
    "duration": 1347,
    "start_time": "2023-01-30T23:22:21.901Z"
   },
   {
    "duration": 55,
    "start_time": "2023-01-30T23:22:23.250Z"
   },
   {
    "duration": 21,
    "start_time": "2023-01-30T23:22:23.307Z"
   },
   {
    "duration": 15,
    "start_time": "2023-01-30T23:22:23.330Z"
   },
   {
    "duration": 3,
    "start_time": "2023-01-30T23:22:23.347Z"
   },
   {
    "duration": 13,
    "start_time": "2023-01-30T23:22:23.352Z"
   },
   {
    "duration": 11,
    "start_time": "2023-01-30T23:22:23.367Z"
   },
   {
    "duration": 7,
    "start_time": "2023-01-30T23:22:23.380Z"
   },
   {
    "duration": 7,
    "start_time": "2023-01-30T23:22:23.389Z"
   },
   {
    "duration": 47,
    "start_time": "2023-01-30T23:22:23.398Z"
   },
   {
    "duration": 6,
    "start_time": "2023-01-30T23:22:23.446Z"
   },
   {
    "duration": 16,
    "start_time": "2023-01-30T23:22:23.454Z"
   },
   {
    "duration": 16,
    "start_time": "2023-01-30T23:22:23.472Z"
   },
   {
    "duration": 23,
    "start_time": "2023-01-30T23:22:23.490Z"
   },
   {
    "duration": 19,
    "start_time": "2023-01-30T23:22:23.515Z"
   },
   {
    "duration": 23,
    "start_time": "2023-01-30T23:22:23.536Z"
   },
   {
    "duration": 199,
    "start_time": "2023-01-30T23:22:23.561Z"
   },
   {
    "duration": 5,
    "start_time": "2023-01-30T23:22:23.762Z"
   },
   {
    "duration": 11,
    "start_time": "2023-01-30T23:22:23.769Z"
   },
   {
    "duration": 9,
    "start_time": "2023-01-30T23:22:23.782Z"
   },
   {
    "duration": 7,
    "start_time": "2023-01-30T23:22:23.793Z"
   },
   {
    "duration": 38,
    "start_time": "2023-01-30T23:22:23.801Z"
   },
   {
    "duration": 13,
    "start_time": "2023-01-30T23:22:23.841Z"
   },
   {
    "duration": 12,
    "start_time": "2023-01-30T23:22:23.856Z"
   },
   {
    "duration": 5,
    "start_time": "2023-01-30T23:22:23.870Z"
   },
   {
    "duration": 19,
    "start_time": "2023-01-30T23:22:23.877Z"
   },
   {
    "duration": 39,
    "start_time": "2023-01-30T23:22:23.898Z"
   },
   {
    "duration": 18,
    "start_time": "2023-01-30T23:22:23.941Z"
   },
   {
    "duration": 99,
    "start_time": "2023-01-30T23:22:23.961Z"
   },
   {
    "duration": 3,
    "start_time": "2023-01-30T23:22:24.061Z"
   },
   {
    "duration": 106,
    "start_time": "2023-01-30T23:22:24.065Z"
   },
   {
    "duration": 2661,
    "start_time": "2023-01-30T23:22:24.173Z"
   },
   {
    "duration": 24,
    "start_time": "2023-01-30T23:22:26.836Z"
   },
   {
    "duration": 649,
    "start_time": "2023-01-30T23:22:26.862Z"
   },
   {
    "duration": 291,
    "start_time": "2023-01-30T23:22:27.513Z"
   },
   {
    "duration": 19,
    "start_time": "2023-01-30T23:22:27.806Z"
   },
   {
    "duration": 27,
    "start_time": "2023-01-30T23:22:27.837Z"
   },
   {
    "duration": 281,
    "start_time": "2023-01-30T23:22:27.866Z"
   },
   {
    "duration": 13,
    "start_time": "2023-01-30T23:22:28.149Z"
   },
   {
    "duration": 51,
    "start_time": "2023-01-30T23:22:28.164Z"
   },
   {
    "duration": 46,
    "start_time": "2023-01-30T23:22:28.217Z"
   },
   {
    "duration": 711,
    "start_time": "2023-01-30T23:22:28.265Z"
   },
   {
    "duration": 10,
    "start_time": "2023-01-30T23:22:28.977Z"
   },
   {
    "duration": 32,
    "start_time": "2023-01-30T23:22:28.989Z"
   },
   {
    "duration": 713,
    "start_time": "2023-01-30T23:22:29.023Z"
   },
   {
    "duration": 2521,
    "start_time": "2023-01-30T23:22:29.738Z"
   },
   {
    "duration": 9,
    "start_time": "2023-01-30T23:22:32.261Z"
   },
   {
    "duration": 28,
    "start_time": "2023-01-30T23:22:32.272Z"
   },
   {
    "duration": 193,
    "start_time": "2023-01-30T23:22:32.302Z"
   },
   {
    "duration": 311,
    "start_time": "2023-01-30T23:22:32.497Z"
   },
   {
    "duration": 297,
    "start_time": "2023-01-30T23:22:32.810Z"
   },
   {
    "duration": 64,
    "start_time": "2023-01-30T23:22:33.109Z"
   },
   {
    "duration": 18,
    "start_time": "2023-01-30T23:22:33.175Z"
   },
   {
    "duration": 37,
    "start_time": "2023-01-30T23:22:33.195Z"
   },
   {
    "duration": 25,
    "start_time": "2023-01-30T23:22:33.236Z"
   },
   {
    "duration": 3,
    "start_time": "2023-01-30T23:22:33.263Z"
   },
   {
    "duration": 27,
    "start_time": "2023-01-30T23:22:33.267Z"
   },
   {
    "duration": 57,
    "start_time": "2023-01-30T23:22:33.296Z"
   },
   {
    "duration": 7,
    "start_time": "2023-01-30T23:22:33.354Z"
   },
   {
    "duration": 49,
    "start_time": "2023-01-30T23:24:35.022Z"
   },
   {
    "duration": 16,
    "start_time": "2023-01-30T23:41:17.862Z"
   },
   {
    "duration": 21,
    "start_time": "2023-01-30T23:45:00.253Z"
   },
   {
    "duration": 3,
    "start_time": "2023-01-30T23:45:35.414Z"
   },
   {
    "duration": 27,
    "start_time": "2023-01-30T23:47:01.320Z"
   },
   {
    "duration": 1322,
    "start_time": "2023-01-31T00:03:55.272Z"
   },
   {
    "duration": 56,
    "start_time": "2023-01-31T00:03:56.596Z"
   },
   {
    "duration": 19,
    "start_time": "2023-01-31T00:03:56.655Z"
   },
   {
    "duration": 14,
    "start_time": "2023-01-31T00:03:56.677Z"
   },
   {
    "duration": 4,
    "start_time": "2023-01-31T00:03:56.693Z"
   },
   {
    "duration": 9,
    "start_time": "2023-01-31T00:03:56.698Z"
   },
   {
    "duration": 40,
    "start_time": "2023-01-31T00:03:56.709Z"
   },
   {
    "duration": 5,
    "start_time": "2023-01-31T00:03:56.754Z"
   },
   {
    "duration": 9,
    "start_time": "2023-01-31T00:03:56.761Z"
   },
   {
    "duration": 16,
    "start_time": "2023-01-31T00:03:56.774Z"
   },
   {
    "duration": 7,
    "start_time": "2023-01-31T00:03:56.792Z"
   },
   {
    "duration": 8,
    "start_time": "2023-01-31T00:03:56.802Z"
   },
   {
    "duration": 36,
    "start_time": "2023-01-31T00:03:56.812Z"
   },
   {
    "duration": 21,
    "start_time": "2023-01-31T00:03:56.852Z"
   },
   {
    "duration": 11,
    "start_time": "2023-01-31T00:03:56.874Z"
   },
   {
    "duration": 17,
    "start_time": "2023-01-31T00:03:56.887Z"
   },
   {
    "duration": 195,
    "start_time": "2023-01-31T00:03:56.906Z"
   },
   {
    "duration": 4,
    "start_time": "2023-01-31T00:03:57.103Z"
   },
   {
    "duration": 9,
    "start_time": "2023-01-31T00:03:57.109Z"
   },
   {
    "duration": 26,
    "start_time": "2023-01-31T00:03:57.120Z"
   },
   {
    "duration": 4,
    "start_time": "2023-01-31T00:03:57.154Z"
   },
   {
    "duration": 13,
    "start_time": "2023-01-31T00:03:57.160Z"
   },
   {
    "duration": 14,
    "start_time": "2023-01-31T00:03:57.175Z"
   },
   {
    "duration": 11,
    "start_time": "2023-01-31T00:03:57.192Z"
   },
   {
    "duration": 5,
    "start_time": "2023-01-31T00:03:57.205Z"
   },
   {
    "duration": 47,
    "start_time": "2023-01-31T00:03:57.212Z"
   },
   {
    "duration": 15,
    "start_time": "2023-01-31T00:03:57.261Z"
   },
   {
    "duration": 17,
    "start_time": "2023-01-31T00:03:57.280Z"
   },
   {
    "duration": 110,
    "start_time": "2023-01-31T00:03:57.299Z"
   },
   {
    "duration": 3,
    "start_time": "2023-01-31T00:03:57.411Z"
   },
   {
    "duration": 99,
    "start_time": "2023-01-31T00:03:57.416Z"
   },
   {
    "duration": 2845,
    "start_time": "2023-01-31T00:03:57.517Z"
   },
   {
    "duration": 17,
    "start_time": "2023-01-31T00:04:00.364Z"
   },
   {
    "duration": 648,
    "start_time": "2023-01-31T00:04:00.383Z"
   },
   {
    "duration": 309,
    "start_time": "2023-01-31T00:04:01.033Z"
   },
   {
    "duration": 23,
    "start_time": "2023-01-31T00:04:01.343Z"
   },
   {
    "duration": 20,
    "start_time": "2023-01-31T00:04:01.368Z"
   },
   {
    "duration": 306,
    "start_time": "2023-01-31T00:04:01.390Z"
   },
   {
    "duration": 15,
    "start_time": "2023-01-31T00:04:01.698Z"
   },
   {
    "duration": 43,
    "start_time": "2023-01-31T00:04:01.715Z"
   },
   {
    "duration": 28,
    "start_time": "2023-01-31T00:04:01.760Z"
   },
   {
    "duration": 675,
    "start_time": "2023-01-31T00:04:01.790Z"
   },
   {
    "duration": 13,
    "start_time": "2023-01-31T00:04:02.467Z"
   },
   {
    "duration": 42,
    "start_time": "2023-01-31T00:04:02.482Z"
   },
   {
    "duration": 630,
    "start_time": "2023-01-31T00:04:02.527Z"
   },
   {
    "duration": 2657,
    "start_time": "2023-01-31T00:04:03.158Z"
   },
   {
    "duration": 23,
    "start_time": "2023-01-31T00:04:05.817Z"
   },
   {
    "duration": 11,
    "start_time": "2023-01-31T00:04:05.845Z"
   },
   {
    "duration": 200,
    "start_time": "2023-01-31T00:04:05.858Z"
   },
   {
    "duration": 326,
    "start_time": "2023-01-31T00:04:06.061Z"
   },
   {
    "duration": 302,
    "start_time": "2023-01-31T00:04:06.389Z"
   },
   {
    "duration": 69,
    "start_time": "2023-01-31T00:04:06.692Z"
   },
   {
    "duration": 17,
    "start_time": "2023-01-31T00:04:06.762Z"
   },
   {
    "duration": 15,
    "start_time": "2023-01-31T00:04:06.781Z"
   },
   {
    "duration": 59,
    "start_time": "2023-01-31T00:04:06.797Z"
   },
   {
    "duration": 5,
    "start_time": "2023-01-31T00:04:06.858Z"
   },
   {
    "duration": 7,
    "start_time": "2023-01-31T00:04:06.864Z"
   },
   {
    "duration": 21,
    "start_time": "2023-01-31T00:04:06.873Z"
   },
   {
    "duration": 6,
    "start_time": "2023-01-31T00:04:06.895Z"
   },
   {
    "duration": 69,
    "start_time": "2023-01-31T00:21:10.548Z"
   },
   {
    "duration": 1316,
    "start_time": "2023-01-31T00:26:52.055Z"
   },
   {
    "duration": 54,
    "start_time": "2023-01-31T00:26:53.373Z"
   },
   {
    "duration": 27,
    "start_time": "2023-01-31T00:26:53.428Z"
   },
   {
    "duration": 30,
    "start_time": "2023-01-31T00:26:53.456Z"
   },
   {
    "duration": 10,
    "start_time": "2023-01-31T00:26:53.488Z"
   },
   {
    "duration": 24,
    "start_time": "2023-01-31T00:26:53.499Z"
   },
   {
    "duration": 34,
    "start_time": "2023-01-31T00:26:53.524Z"
   },
   {
    "duration": 20,
    "start_time": "2023-01-31T00:26:53.560Z"
   },
   {
    "duration": 9,
    "start_time": "2023-01-31T00:26:53.582Z"
   },
   {
    "duration": 28,
    "start_time": "2023-01-31T00:26:53.593Z"
   },
   {
    "duration": 23,
    "start_time": "2023-01-31T00:26:53.623Z"
   },
   {
    "duration": 27,
    "start_time": "2023-01-31T00:26:53.648Z"
   },
   {
    "duration": 26,
    "start_time": "2023-01-31T00:26:53.677Z"
   },
   {
    "duration": 9,
    "start_time": "2023-01-31T00:26:53.706Z"
   },
   {
    "duration": 41,
    "start_time": "2023-01-31T00:26:53.716Z"
   },
   {
    "duration": 41,
    "start_time": "2023-01-31T00:26:53.760Z"
   },
   {
    "duration": 216,
    "start_time": "2023-01-31T00:26:53.803Z"
   },
   {
    "duration": 6,
    "start_time": "2023-01-31T00:26:54.022Z"
   },
   {
    "duration": 27,
    "start_time": "2023-01-31T00:26:54.036Z"
   },
   {
    "duration": 13,
    "start_time": "2023-01-31T00:26:54.065Z"
   },
   {
    "duration": 17,
    "start_time": "2023-01-31T00:26:54.080Z"
   },
   {
    "duration": 29,
    "start_time": "2023-01-31T00:26:54.099Z"
   },
   {
    "duration": 44,
    "start_time": "2023-01-31T00:26:54.130Z"
   },
   {
    "duration": 30,
    "start_time": "2023-01-31T00:26:54.176Z"
   },
   {
    "duration": 14,
    "start_time": "2023-01-31T00:26:54.208Z"
   },
   {
    "duration": 49,
    "start_time": "2023-01-31T00:26:54.224Z"
   },
   {
    "duration": 17,
    "start_time": "2023-01-31T00:26:54.276Z"
   },
   {
    "duration": 18,
    "start_time": "2023-01-31T00:26:54.295Z"
   },
   {
    "duration": 104,
    "start_time": "2023-01-31T00:26:54.315Z"
   },
   {
    "duration": 3,
    "start_time": "2023-01-31T00:26:54.421Z"
   },
   {
    "duration": 152,
    "start_time": "2023-01-31T00:26:54.426Z"
   },
   {
    "duration": 2719,
    "start_time": "2023-01-31T00:26:54.581Z"
   },
   {
    "duration": 19,
    "start_time": "2023-01-31T00:26:57.302Z"
   },
   {
    "duration": 672,
    "start_time": "2023-01-31T00:26:57.323Z"
   },
   {
    "duration": 353,
    "start_time": "2023-01-31T00:26:57.998Z"
   },
   {
    "duration": 21,
    "start_time": "2023-01-31T00:26:58.353Z"
   },
   {
    "duration": 24,
    "start_time": "2023-01-31T00:26:58.376Z"
   },
   {
    "duration": 299,
    "start_time": "2023-01-31T00:26:58.402Z"
   },
   {
    "duration": 13,
    "start_time": "2023-01-31T00:26:58.703Z"
   },
   {
    "duration": 27,
    "start_time": "2023-01-31T00:26:58.717Z"
   },
   {
    "duration": 22,
    "start_time": "2023-01-31T00:26:58.749Z"
   },
   {
    "duration": 706,
    "start_time": "2023-01-31T00:26:58.773Z"
   },
   {
    "duration": 10,
    "start_time": "2023-01-31T00:26:59.481Z"
   },
   {
    "duration": 13,
    "start_time": "2023-01-31T00:26:59.492Z"
   },
   {
    "duration": 660,
    "start_time": "2023-01-31T00:26:59.507Z"
   },
   {
    "duration": 2677,
    "start_time": "2023-01-31T00:27:00.169Z"
   },
   {
    "duration": 10,
    "start_time": "2023-01-31T00:27:02.848Z"
   },
   {
    "duration": 16,
    "start_time": "2023-01-31T00:27:02.860Z"
   },
   {
    "duration": 202,
    "start_time": "2023-01-31T00:27:02.877Z"
   },
   {
    "duration": 326,
    "start_time": "2023-01-31T00:27:03.081Z"
   },
   {
    "duration": 310,
    "start_time": "2023-01-31T00:27:03.409Z"
   },
   {
    "duration": 67,
    "start_time": "2023-01-31T00:27:03.721Z"
   },
   {
    "duration": 17,
    "start_time": "2023-01-31T00:27:03.790Z"
   },
   {
    "duration": 38,
    "start_time": "2023-01-31T00:27:03.809Z"
   },
   {
    "duration": 25,
    "start_time": "2023-01-31T00:27:03.850Z"
   },
   {
    "duration": 20,
    "start_time": "2023-01-31T00:27:03.877Z"
   },
   {
    "duration": 8,
    "start_time": "2023-01-31T00:27:03.899Z"
   },
   {
    "duration": 34,
    "start_time": "2023-01-31T00:27:03.908Z"
   },
   {
    "duration": 10,
    "start_time": "2023-01-31T00:27:03.944Z"
   },
   {
    "duration": 1366,
    "start_time": "2023-01-31T00:28:36.669Z"
   },
   {
    "duration": 66,
    "start_time": "2023-01-31T00:28:38.037Z"
   },
   {
    "duration": 18,
    "start_time": "2023-01-31T00:28:38.105Z"
   },
   {
    "duration": 17,
    "start_time": "2023-01-31T00:28:38.126Z"
   },
   {
    "duration": 15,
    "start_time": "2023-01-31T00:28:38.145Z"
   },
   {
    "duration": 10,
    "start_time": "2023-01-31T00:28:38.162Z"
   },
   {
    "duration": 14,
    "start_time": "2023-01-31T00:28:38.174Z"
   },
   {
    "duration": 10,
    "start_time": "2023-01-31T00:28:38.190Z"
   },
   {
    "duration": 7,
    "start_time": "2023-01-31T00:28:38.202Z"
   },
   {
    "duration": 26,
    "start_time": "2023-01-31T00:28:38.212Z"
   },
   {
    "duration": 8,
    "start_time": "2023-01-31T00:28:38.239Z"
   },
   {
    "duration": 28,
    "start_time": "2023-01-31T00:28:38.249Z"
   },
   {
    "duration": 12,
    "start_time": "2023-01-31T00:28:38.279Z"
   },
   {
    "duration": 8,
    "start_time": "2023-01-31T00:28:38.294Z"
   },
   {
    "duration": 16,
    "start_time": "2023-01-31T00:28:38.305Z"
   },
   {
    "duration": 52,
    "start_time": "2023-01-31T00:28:38.323Z"
   },
   {
    "duration": 221,
    "start_time": "2023-01-31T00:28:38.378Z"
   },
   {
    "duration": 6,
    "start_time": "2023-01-31T00:28:38.600Z"
   },
   {
    "duration": 10,
    "start_time": "2023-01-31T00:28:38.608Z"
   },
   {
    "duration": 38,
    "start_time": "2023-01-31T00:28:38.620Z"
   },
   {
    "duration": 9,
    "start_time": "2023-01-31T00:28:38.661Z"
   },
   {
    "duration": 11,
    "start_time": "2023-01-31T00:28:38.672Z"
   },
   {
    "duration": 21,
    "start_time": "2023-01-31T00:28:38.685Z"
   },
   {
    "duration": 24,
    "start_time": "2023-01-31T00:28:38.708Z"
   },
   {
    "duration": 13,
    "start_time": "2023-01-31T00:28:38.735Z"
   },
   {
    "duration": 50,
    "start_time": "2023-01-31T00:28:38.752Z"
   },
   {
    "duration": 25,
    "start_time": "2023-01-31T00:28:38.805Z"
   },
   {
    "duration": 26,
    "start_time": "2023-01-31T00:28:38.836Z"
   },
   {
    "duration": 91,
    "start_time": "2023-01-31T00:28:38.864Z"
   },
   {
    "duration": 4,
    "start_time": "2023-01-31T00:28:38.957Z"
   },
   {
    "duration": 112,
    "start_time": "2023-01-31T00:28:38.963Z"
   },
   {
    "duration": 2799,
    "start_time": "2023-01-31T00:28:39.077Z"
   },
   {
    "duration": 19,
    "start_time": "2023-01-31T00:28:41.878Z"
   },
   {
    "duration": 709,
    "start_time": "2023-01-31T00:28:41.899Z"
   },
   {
    "duration": 318,
    "start_time": "2023-01-31T00:28:42.611Z"
   },
   {
    "duration": 23,
    "start_time": "2023-01-31T00:28:42.936Z"
   },
   {
    "duration": 30,
    "start_time": "2023-01-31T00:28:42.961Z"
   },
   {
    "duration": 319,
    "start_time": "2023-01-31T00:28:42.993Z"
   },
   {
    "duration": 29,
    "start_time": "2023-01-31T00:28:43.314Z"
   },
   {
    "duration": 15,
    "start_time": "2023-01-31T00:28:43.345Z"
   },
   {
    "duration": 10,
    "start_time": "2023-01-31T00:28:43.362Z"
   },
   {
    "duration": 718,
    "start_time": "2023-01-31T00:28:43.374Z"
   },
   {
    "duration": 10,
    "start_time": "2023-01-31T00:28:44.094Z"
   },
   {
    "duration": 32,
    "start_time": "2023-01-31T00:28:44.105Z"
   },
   {
    "duration": 691,
    "start_time": "2023-01-31T00:28:44.139Z"
   },
   {
    "duration": 2733,
    "start_time": "2023-01-31T00:28:44.832Z"
   },
   {
    "duration": 11,
    "start_time": "2023-01-31T00:28:47.567Z"
   },
   {
    "duration": 36,
    "start_time": "2023-01-31T00:28:47.579Z"
   },
   {
    "duration": 223,
    "start_time": "2023-01-31T00:28:47.618Z"
   },
   {
    "duration": 333,
    "start_time": "2023-01-31T00:28:47.843Z"
   },
   {
    "duration": 356,
    "start_time": "2023-01-31T00:28:48.178Z"
   },
   {
    "duration": 59,
    "start_time": "2023-01-31T00:28:48.535Z"
   },
   {
    "duration": 19,
    "start_time": "2023-01-31T00:28:48.596Z"
   },
   {
    "duration": 69,
    "start_time": "2023-01-31T00:28:48.617Z"
   },
   {
    "duration": 56,
    "start_time": "2023-01-31T00:28:48.688Z"
   },
   {
    "duration": 21,
    "start_time": "2023-01-31T00:28:48.746Z"
   },
   {
    "duration": 38,
    "start_time": "2023-01-31T00:28:48.769Z"
   },
   {
    "duration": 49,
    "start_time": "2023-01-31T00:28:48.809Z"
   },
   {
    "duration": 16,
    "start_time": "2023-01-31T00:28:48.860Z"
   },
   {
    "duration": 1340,
    "start_time": "2023-01-31T17:04:47.551Z"
   },
   {
    "duration": 51,
    "start_time": "2023-01-31T17:04:48.893Z"
   },
   {
    "duration": 17,
    "start_time": "2023-01-31T17:04:48.945Z"
   },
   {
    "duration": 23,
    "start_time": "2023-01-31T17:04:48.964Z"
   },
   {
    "duration": 4,
    "start_time": "2023-01-31T17:04:48.989Z"
   },
   {
    "duration": 8,
    "start_time": "2023-01-31T17:04:48.995Z"
   },
   {
    "duration": 10,
    "start_time": "2023-01-31T17:04:49.004Z"
   },
   {
    "duration": 33,
    "start_time": "2023-01-31T17:04:49.016Z"
   },
   {
    "duration": 7,
    "start_time": "2023-01-31T17:04:49.051Z"
   },
   {
    "duration": 16,
    "start_time": "2023-01-31T17:04:49.060Z"
   },
   {
    "duration": 6,
    "start_time": "2023-01-31T17:04:49.079Z"
   },
   {
    "duration": 6,
    "start_time": "2023-01-31T17:04:49.087Z"
   },
   {
    "duration": 8,
    "start_time": "2023-01-31T17:04:49.094Z"
   },
   {
    "duration": 5,
    "start_time": "2023-01-31T17:04:49.104Z"
   },
   {
    "duration": 42,
    "start_time": "2023-01-31T17:04:49.111Z"
   },
   {
    "duration": 16,
    "start_time": "2023-01-31T17:04:49.155Z"
   },
   {
    "duration": 203,
    "start_time": "2023-01-31T17:04:49.172Z"
   },
   {
    "duration": 5,
    "start_time": "2023-01-31T17:04:49.377Z"
   },
   {
    "duration": 12,
    "start_time": "2023-01-31T17:04:49.384Z"
   },
   {
    "duration": 13,
    "start_time": "2023-01-31T17:04:49.398Z"
   },
   {
    "duration": 21,
    "start_time": "2023-01-31T17:04:49.413Z"
   },
   {
    "duration": 16,
    "start_time": "2023-01-31T17:04:49.436Z"
   },
   {
    "duration": 12,
    "start_time": "2023-01-31T17:04:49.454Z"
   },
   {
    "duration": 11,
    "start_time": "2023-01-31T17:04:49.468Z"
   },
   {
    "duration": 6,
    "start_time": "2023-01-31T17:04:49.480Z"
   },
   {
    "duration": 28,
    "start_time": "2023-01-31T17:04:49.488Z"
   },
   {
    "duration": 40,
    "start_time": "2023-01-31T17:04:49.518Z"
   },
   {
    "duration": 22,
    "start_time": "2023-01-31T17:04:49.563Z"
   },
   {
    "duration": 96,
    "start_time": "2023-01-31T17:04:49.587Z"
   },
   {
    "duration": 2,
    "start_time": "2023-01-31T17:04:49.685Z"
   },
   {
    "duration": 101,
    "start_time": "2023-01-31T17:04:49.689Z"
   },
   {
    "duration": 2552,
    "start_time": "2023-01-31T17:04:49.792Z"
   },
   {
    "duration": 20,
    "start_time": "2023-01-31T17:04:52.348Z"
   },
   {
    "duration": 581,
    "start_time": "2023-01-31T17:04:52.370Z"
   },
   {
    "duration": 296,
    "start_time": "2023-01-31T17:04:52.952Z"
   },
   {
    "duration": 25,
    "start_time": "2023-01-31T17:04:53.250Z"
   },
   {
    "duration": 26,
    "start_time": "2023-01-31T17:04:53.277Z"
   },
   {
    "duration": 305,
    "start_time": "2023-01-31T17:04:53.305Z"
   },
   {
    "duration": 17,
    "start_time": "2023-01-31T17:04:53.612Z"
   },
   {
    "duration": 21,
    "start_time": "2023-01-31T17:04:53.637Z"
   },
   {
    "duration": 14,
    "start_time": "2023-01-31T17:04:53.660Z"
   },
   {
    "duration": 698,
    "start_time": "2023-01-31T17:04:53.676Z"
   },
   {
    "duration": 9,
    "start_time": "2023-01-31T17:04:54.376Z"
   },
   {
    "duration": 12,
    "start_time": "2023-01-31T17:04:54.388Z"
   },
   {
    "duration": 636,
    "start_time": "2023-01-31T17:04:54.402Z"
   },
   {
    "duration": 2519,
    "start_time": "2023-01-31T17:04:55.048Z"
   },
   {
    "duration": 9,
    "start_time": "2023-01-31T17:04:57.569Z"
   },
   {
    "duration": 10,
    "start_time": "2023-01-31T17:04:57.580Z"
   },
   {
    "duration": 201,
    "start_time": "2023-01-31T17:04:57.592Z"
   },
   {
    "duration": 302,
    "start_time": "2023-01-31T17:04:57.795Z"
   },
   {
    "duration": 272,
    "start_time": "2023-01-31T17:04:58.099Z"
   },
   {
    "duration": 49,
    "start_time": "2023-01-31T17:04:58.373Z"
   },
   {
    "duration": 33,
    "start_time": "2023-01-31T17:04:58.423Z"
   },
   {
    "duration": 30,
    "start_time": "2023-01-31T17:04:58.458Z"
   },
   {
    "duration": 28,
    "start_time": "2023-01-31T17:04:58.489Z"
   },
   {
    "duration": 3,
    "start_time": "2023-01-31T17:04:58.519Z"
   },
   {
    "duration": 24,
    "start_time": "2023-01-31T17:04:58.524Z"
   },
   {
    "duration": 20,
    "start_time": "2023-01-31T17:04:58.550Z"
   },
   {
    "duration": 6,
    "start_time": "2023-01-31T17:04:58.571Z"
   }
  ],
  "kernelspec": {
   "display_name": "Python 3 (ipykernel)",
   "language": "python",
   "name": "python3"
  },
  "language_info": {
   "codemirror_mode": {
    "name": "ipython",
    "version": 3
   },
   "file_extension": ".py",
   "mimetype": "text/x-python",
   "name": "python",
   "nbconvert_exporter": "python",
   "pygments_lexer": "ipython3",
   "version": "3.9.5"
  },
  "toc": {
   "base_numbering": 1,
   "nav_menu": {},
   "number_sections": true,
   "sideBar": true,
   "skip_h1_title": true,
   "title_cell": "Table of Contents",
   "title_sidebar": "Contents",
   "toc_cell": false,
   "toc_position": {},
   "toc_section_display": true,
   "toc_window_display": false
  }
 },
 "nbformat": 4,
 "nbformat_minor": 2
}
