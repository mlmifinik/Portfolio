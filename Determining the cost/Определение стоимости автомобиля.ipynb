{
 "cells": [
  {
   "cell_type": "markdown",
   "metadata": {},
   "source": [
    "# Определение стоимости автомобилей"
   ]
  },
  {
   "cell_type": "markdown",
   "metadata": {},
   "source": [
    "Сервис по продаже автомобилей с пробегом «Не бит, не крашен» разрабатывает приложение для привлечения новых клиентов. В нём можно быстро узнать рыночную стоимость своего автомобиля. В вашем распоряжении исторические данные: технические характеристики, комплектации и цены автомобилей. Вам нужно построить модель для определения стоимости. \n",
    "\n",
    "**Заказчику важны:**\n",
    "\n",
    "- качество предсказания;\n",
    "- скорость предсказания;\n",
    "- время обучения."
   ]
  },
  {
   "cell_type": "markdown",
   "metadata": {},
   "source": [
    "**Примечания:**\n",
    "\n",
    "1. Не ограничиваться градиентным бустингом.\n",
    "2. Для оценки качества моделей применять метрику RMSE. RMSE должно быть меньше 2500.\n",
    "3. Освоить библиотеку LightGBM и её средствами построить модели градиентного бустинга.\n",
    "4. Ввести время выполнения ячейки кода.\n",
    "5. В модели градиентного бустинга допускается изменять только два-три параметра.\n",
    "\n",
    "**План исследования:**\n",
    "\n",
    "1. Обзор данных.\n",
    "2. Подготовка данных.\n",
    "3. Обучение моделей.\n",
    "4. Анализ моделей.\n",
    "5. Вывод."
   ]
  },
  {
   "cell_type": "markdown",
   "metadata": {},
   "source": [
    "## Обзор данных"
   ]
  },
  {
   "cell_type": "code",
   "execution_count": 1,
   "metadata": {},
   "outputs": [],
   "source": [
    "import pandas as pd\n",
    "import numpy as np\n",
    "\n",
    "import matplotlib.pyplot as plt\n",
    "\n",
    "import seaborn as sns\n",
    "\n",
    "from sklearn.preprocessing import OrdinalEncoder, StandardScaler\n",
    "\n",
    "from sklearn.model_selection import cross_val_score, train_test_split, GridSearchCV\n",
    "\n",
    "from sklearn.linear_model import LinearRegression\n",
    "from catboost import CatBoostRegressor\n",
    "from lightgbm import LGBMRegressor\n",
    "\n",
    "from sklearn.metrics import mean_squared_error\n",
    "\n",
    "import warnings\n",
    "warnings.filterwarnings(\"ignore\")"
   ]
  },
  {
   "cell_type": "code",
   "execution_count": 2,
   "metadata": {},
   "outputs": [],
   "source": [
    "df = pd.read_csv('/datasets/autos.csv')"
   ]
  },
  {
   "cell_type": "code",
   "execution_count": 3,
   "metadata": {},
   "outputs": [
    {
     "data": {
      "text/html": [
       "<div>\n",
       "<style scoped>\n",
       "    .dataframe tbody tr th:only-of-type {\n",
       "        vertical-align: middle;\n",
       "    }\n",
       "\n",
       "    .dataframe tbody tr th {\n",
       "        vertical-align: top;\n",
       "    }\n",
       "\n",
       "    .dataframe thead th {\n",
       "        text-align: right;\n",
       "    }\n",
       "</style>\n",
       "<table border=\"1\" class=\"dataframe\">\n",
       "  <thead>\n",
       "    <tr style=\"text-align: right;\">\n",
       "      <th></th>\n",
       "      <th>DateCrawled</th>\n",
       "      <th>Price</th>\n",
       "      <th>VehicleType</th>\n",
       "      <th>RegistrationYear</th>\n",
       "      <th>Gearbox</th>\n",
       "      <th>Power</th>\n",
       "      <th>Model</th>\n",
       "      <th>Kilometer</th>\n",
       "      <th>RegistrationMonth</th>\n",
       "      <th>FuelType</th>\n",
       "      <th>Brand</th>\n",
       "      <th>Repaired</th>\n",
       "      <th>DateCreated</th>\n",
       "      <th>NumberOfPictures</th>\n",
       "      <th>PostalCode</th>\n",
       "      <th>LastSeen</th>\n",
       "    </tr>\n",
       "  </thead>\n",
       "  <tbody>\n",
       "    <tr>\n",
       "      <th>0</th>\n",
       "      <td>2016-03-24 11:52:17</td>\n",
       "      <td>480</td>\n",
       "      <td>NaN</td>\n",
       "      <td>1993</td>\n",
       "      <td>manual</td>\n",
       "      <td>0</td>\n",
       "      <td>golf</td>\n",
       "      <td>150000</td>\n",
       "      <td>0</td>\n",
       "      <td>petrol</td>\n",
       "      <td>volkswagen</td>\n",
       "      <td>NaN</td>\n",
       "      <td>2016-03-24 00:00:00</td>\n",
       "      <td>0</td>\n",
       "      <td>70435</td>\n",
       "      <td>2016-04-07 03:16:57</td>\n",
       "    </tr>\n",
       "    <tr>\n",
       "      <th>1</th>\n",
       "      <td>2016-03-24 10:58:45</td>\n",
       "      <td>18300</td>\n",
       "      <td>coupe</td>\n",
       "      <td>2011</td>\n",
       "      <td>manual</td>\n",
       "      <td>190</td>\n",
       "      <td>NaN</td>\n",
       "      <td>125000</td>\n",
       "      <td>5</td>\n",
       "      <td>gasoline</td>\n",
       "      <td>audi</td>\n",
       "      <td>yes</td>\n",
       "      <td>2016-03-24 00:00:00</td>\n",
       "      <td>0</td>\n",
       "      <td>66954</td>\n",
       "      <td>2016-04-07 01:46:50</td>\n",
       "    </tr>\n",
       "    <tr>\n",
       "      <th>2</th>\n",
       "      <td>2016-03-14 12:52:21</td>\n",
       "      <td>9800</td>\n",
       "      <td>suv</td>\n",
       "      <td>2004</td>\n",
       "      <td>auto</td>\n",
       "      <td>163</td>\n",
       "      <td>grand</td>\n",
       "      <td>125000</td>\n",
       "      <td>8</td>\n",
       "      <td>gasoline</td>\n",
       "      <td>jeep</td>\n",
       "      <td>NaN</td>\n",
       "      <td>2016-03-14 00:00:00</td>\n",
       "      <td>0</td>\n",
       "      <td>90480</td>\n",
       "      <td>2016-04-05 12:47:46</td>\n",
       "    </tr>\n",
       "    <tr>\n",
       "      <th>3</th>\n",
       "      <td>2016-03-17 16:54:04</td>\n",
       "      <td>1500</td>\n",
       "      <td>small</td>\n",
       "      <td>2001</td>\n",
       "      <td>manual</td>\n",
       "      <td>75</td>\n",
       "      <td>golf</td>\n",
       "      <td>150000</td>\n",
       "      <td>6</td>\n",
       "      <td>petrol</td>\n",
       "      <td>volkswagen</td>\n",
       "      <td>no</td>\n",
       "      <td>2016-03-17 00:00:00</td>\n",
       "      <td>0</td>\n",
       "      <td>91074</td>\n",
       "      <td>2016-03-17 17:40:17</td>\n",
       "    </tr>\n",
       "    <tr>\n",
       "      <th>4</th>\n",
       "      <td>2016-03-31 17:25:20</td>\n",
       "      <td>3600</td>\n",
       "      <td>small</td>\n",
       "      <td>2008</td>\n",
       "      <td>manual</td>\n",
       "      <td>69</td>\n",
       "      <td>fabia</td>\n",
       "      <td>90000</td>\n",
       "      <td>7</td>\n",
       "      <td>gasoline</td>\n",
       "      <td>skoda</td>\n",
       "      <td>no</td>\n",
       "      <td>2016-03-31 00:00:00</td>\n",
       "      <td>0</td>\n",
       "      <td>60437</td>\n",
       "      <td>2016-04-06 10:17:21</td>\n",
       "    </tr>\n",
       "  </tbody>\n",
       "</table>\n",
       "</div>"
      ],
      "text/plain": [
       "           DateCrawled  Price VehicleType  RegistrationYear Gearbox  Power  \\\n",
       "0  2016-03-24 11:52:17    480         NaN              1993  manual      0   \n",
       "1  2016-03-24 10:58:45  18300       coupe              2011  manual    190   \n",
       "2  2016-03-14 12:52:21   9800         suv              2004    auto    163   \n",
       "3  2016-03-17 16:54:04   1500       small              2001  manual     75   \n",
       "4  2016-03-31 17:25:20   3600       small              2008  manual     69   \n",
       "\n",
       "   Model  Kilometer  RegistrationMonth  FuelType       Brand Repaired  \\\n",
       "0   golf     150000                  0    petrol  volkswagen      NaN   \n",
       "1    NaN     125000                  5  gasoline        audi      yes   \n",
       "2  grand     125000                  8  gasoline        jeep      NaN   \n",
       "3   golf     150000                  6    petrol  volkswagen       no   \n",
       "4  fabia      90000                  7  gasoline       skoda       no   \n",
       "\n",
       "           DateCreated  NumberOfPictures  PostalCode             LastSeen  \n",
       "0  2016-03-24 00:00:00                 0       70435  2016-04-07 03:16:57  \n",
       "1  2016-03-24 00:00:00                 0       66954  2016-04-07 01:46:50  \n",
       "2  2016-03-14 00:00:00                 0       90480  2016-04-05 12:47:46  \n",
       "3  2016-03-17 00:00:00                 0       91074  2016-03-17 17:40:17  \n",
       "4  2016-03-31 00:00:00                 0       60437  2016-04-06 10:17:21  "
      ]
     },
     "metadata": {},
     "output_type": "display_data"
    },
    {
     "name": "stdout",
     "output_type": "stream",
     "text": [
      "\n",
      "<class 'pandas.core.frame.DataFrame'>\n",
      "RangeIndex: 354369 entries, 0 to 354368\n",
      "Data columns (total 16 columns):\n",
      " #   Column             Non-Null Count   Dtype \n",
      "---  ------             --------------   ----- \n",
      " 0   DateCrawled        354369 non-null  object\n",
      " 1   Price              354369 non-null  int64 \n",
      " 2   VehicleType        316879 non-null  object\n",
      " 3   RegistrationYear   354369 non-null  int64 \n",
      " 4   Gearbox            334536 non-null  object\n",
      " 5   Power              354369 non-null  int64 \n",
      " 6   Model              334664 non-null  object\n",
      " 7   Kilometer          354369 non-null  int64 \n",
      " 8   RegistrationMonth  354369 non-null  int64 \n",
      " 9   FuelType           321474 non-null  object\n",
      " 10  Brand              354369 non-null  object\n",
      " 11  Repaired           283215 non-null  object\n",
      " 12  DateCreated        354369 non-null  object\n",
      " 13  NumberOfPictures   354369 non-null  int64 \n",
      " 14  PostalCode         354369 non-null  int64 \n",
      " 15  LastSeen           354369 non-null  object\n",
      "dtypes: int64(7), object(9)\n",
      "memory usage: 43.3+ MB\n"
     ]
    },
    {
     "data": {
      "text/plain": [
       "None"
      ]
     },
     "metadata": {},
     "output_type": "display_data"
    },
    {
     "name": "stdout",
     "output_type": "stream",
     "text": [
      "\n"
     ]
    },
    {
     "data": {
      "text/html": [
       "<div>\n",
       "<style scoped>\n",
       "    .dataframe tbody tr th:only-of-type {\n",
       "        vertical-align: middle;\n",
       "    }\n",
       "\n",
       "    .dataframe tbody tr th {\n",
       "        vertical-align: top;\n",
       "    }\n",
       "\n",
       "    .dataframe thead th {\n",
       "        text-align: right;\n",
       "    }\n",
       "</style>\n",
       "<table border=\"1\" class=\"dataframe\">\n",
       "  <thead>\n",
       "    <tr style=\"text-align: right;\">\n",
       "      <th></th>\n",
       "      <th>Price</th>\n",
       "      <th>RegistrationYear</th>\n",
       "      <th>Power</th>\n",
       "      <th>Kilometer</th>\n",
       "      <th>RegistrationMonth</th>\n",
       "      <th>NumberOfPictures</th>\n",
       "      <th>PostalCode</th>\n",
       "    </tr>\n",
       "  </thead>\n",
       "  <tbody>\n",
       "    <tr>\n",
       "      <th>count</th>\n",
       "      <td>354369.000000</td>\n",
       "      <td>354369.000000</td>\n",
       "      <td>354369.000000</td>\n",
       "      <td>354369.000000</td>\n",
       "      <td>354369.000000</td>\n",
       "      <td>354369.0</td>\n",
       "      <td>354369.000000</td>\n",
       "    </tr>\n",
       "    <tr>\n",
       "      <th>mean</th>\n",
       "      <td>4416.656776</td>\n",
       "      <td>2004.234448</td>\n",
       "      <td>110.094337</td>\n",
       "      <td>128211.172535</td>\n",
       "      <td>5.714645</td>\n",
       "      <td>0.0</td>\n",
       "      <td>50508.689087</td>\n",
       "    </tr>\n",
       "    <tr>\n",
       "      <th>std</th>\n",
       "      <td>4514.158514</td>\n",
       "      <td>90.227958</td>\n",
       "      <td>189.850405</td>\n",
       "      <td>37905.341530</td>\n",
       "      <td>3.726421</td>\n",
       "      <td>0.0</td>\n",
       "      <td>25783.096248</td>\n",
       "    </tr>\n",
       "    <tr>\n",
       "      <th>min</th>\n",
       "      <td>0.000000</td>\n",
       "      <td>1000.000000</td>\n",
       "      <td>0.000000</td>\n",
       "      <td>5000.000000</td>\n",
       "      <td>0.000000</td>\n",
       "      <td>0.0</td>\n",
       "      <td>1067.000000</td>\n",
       "    </tr>\n",
       "    <tr>\n",
       "      <th>25%</th>\n",
       "      <td>1050.000000</td>\n",
       "      <td>1999.000000</td>\n",
       "      <td>69.000000</td>\n",
       "      <td>125000.000000</td>\n",
       "      <td>3.000000</td>\n",
       "      <td>0.0</td>\n",
       "      <td>30165.000000</td>\n",
       "    </tr>\n",
       "    <tr>\n",
       "      <th>50%</th>\n",
       "      <td>2700.000000</td>\n",
       "      <td>2003.000000</td>\n",
       "      <td>105.000000</td>\n",
       "      <td>150000.000000</td>\n",
       "      <td>6.000000</td>\n",
       "      <td>0.0</td>\n",
       "      <td>49413.000000</td>\n",
       "    </tr>\n",
       "    <tr>\n",
       "      <th>75%</th>\n",
       "      <td>6400.000000</td>\n",
       "      <td>2008.000000</td>\n",
       "      <td>143.000000</td>\n",
       "      <td>150000.000000</td>\n",
       "      <td>9.000000</td>\n",
       "      <td>0.0</td>\n",
       "      <td>71083.000000</td>\n",
       "    </tr>\n",
       "    <tr>\n",
       "      <th>max</th>\n",
       "      <td>20000.000000</td>\n",
       "      <td>9999.000000</td>\n",
       "      <td>20000.000000</td>\n",
       "      <td>150000.000000</td>\n",
       "      <td>12.000000</td>\n",
       "      <td>0.0</td>\n",
       "      <td>99998.000000</td>\n",
       "    </tr>\n",
       "  </tbody>\n",
       "</table>\n",
       "</div>"
      ],
      "text/plain": [
       "               Price  RegistrationYear          Power      Kilometer  \\\n",
       "count  354369.000000     354369.000000  354369.000000  354369.000000   \n",
       "mean     4416.656776       2004.234448     110.094337  128211.172535   \n",
       "std      4514.158514         90.227958     189.850405   37905.341530   \n",
       "min         0.000000       1000.000000       0.000000    5000.000000   \n",
       "25%      1050.000000       1999.000000      69.000000  125000.000000   \n",
       "50%      2700.000000       2003.000000     105.000000  150000.000000   \n",
       "75%      6400.000000       2008.000000     143.000000  150000.000000   \n",
       "max     20000.000000       9999.000000   20000.000000  150000.000000   \n",
       "\n",
       "       RegistrationMonth  NumberOfPictures     PostalCode  \n",
       "count      354369.000000          354369.0  354369.000000  \n",
       "mean            5.714645               0.0   50508.689087  \n",
       "std             3.726421               0.0   25783.096248  \n",
       "min             0.000000               0.0    1067.000000  \n",
       "25%             3.000000               0.0   30165.000000  \n",
       "50%             6.000000               0.0   49413.000000  \n",
       "75%             9.000000               0.0   71083.000000  \n",
       "max            12.000000               0.0   99998.000000  "
      ]
     },
     "metadata": {},
     "output_type": "display_data"
    },
    {
     "name": "stdout",
     "output_type": "stream",
     "text": [
      "\n",
      "Количество пропусков:\n"
     ]
    },
    {
     "data": {
      "text/plain": [
       "DateCrawled              0\n",
       "Price                    0\n",
       "VehicleType          37490\n",
       "RegistrationYear         0\n",
       "Gearbox              19833\n",
       "Power                    0\n",
       "Model                19705\n",
       "Kilometer                0\n",
       "RegistrationMonth        0\n",
       "FuelType             32895\n",
       "Brand                    0\n",
       "Repaired             71154\n",
       "DateCreated              0\n",
       "NumberOfPictures         0\n",
       "PostalCode               0\n",
       "LastSeen                 0\n",
       "dtype: int64"
      ]
     },
     "metadata": {},
     "output_type": "display_data"
    },
    {
     "name": "stdout",
     "output_type": "stream",
     "text": [
      "\n",
      "Количество дубликатов: 4\n"
     ]
    }
   ],
   "source": [
    "display(df.head())\n",
    "print()\n",
    "display(df.info())\n",
    "print()\n",
    "display(df.describe())\n",
    "print()\n",
    "print('Количество пропусков:')\n",
    "display(df.isna().sum())\n",
    "print()\n",
    "print('Количество дубликатов:', df.duplicated().sum())"
   ]
  },
  {
   "cell_type": "markdown",
   "metadata": {},
   "source": [
    "**Вывод п.1.**\n",
    "Целевой признак - Price. Признаки DateCrawled, RegistrationMonth, DateCreated, NumberOfPictures, PostalCode и LastSeen не влияют на цену, можно удалить. От явных дубликатов также избавимся. В признаках, влияющих на цену, есть пропуски. В колонке RegistrationYear указан минимальный год 1000, надо проверить и другие аномалии. Названиях признаков надо привести к змеиному стилю. Значения в столбцах Gearbox и NotRepaired можно заменить на 1 или 0. В целевом признаке Price и признаке Power есть нули, чуть позже посмотрим внимательнее."
   ]
  },
  {
   "cell_type": "markdown",
   "metadata": {},
   "source": [
    "## Подготовка данных"
   ]
  },
  {
   "cell_type": "markdown",
   "metadata": {},
   "source": [
    "Приводим названия колонок к змеиному стилю:"
   ]
  },
  {
   "cell_type": "code",
   "execution_count": 4,
   "metadata": {},
   "outputs": [
    {
     "data": {
      "text/plain": [
       "Index(['date_crawled', 'price', 'vehicle_type', 'registration_year', 'gearbox',\n",
       "       'power', 'model', 'kilometer', 'registration_month', 'fuel_type',\n",
       "       'brand', 'repaired', 'date_created', 'number_of_pictures',\n",
       "       'postal_code', 'last_seen'],\n",
       "      dtype='object')"
      ]
     },
     "execution_count": 4,
     "metadata": {},
     "output_type": "execute_result"
    }
   ],
   "source": [
    "df.columns = df.columns.str.replace(r\"([A-Z])\", r\" \\1\").str.lower().str.replace(' ', '_').str[1:]\n",
    "df.columns"
   ]
  },
  {
   "cell_type": "markdown",
   "metadata": {},
   "source": [
    "Удалим признаки, не влияющие на целевой признак:"
   ]
  },
  {
   "cell_type": "code",
   "execution_count": 5,
   "metadata": {},
   "outputs": [],
   "source": [
    "df.drop(columns=['date_crawled', 'date_created', 'number_of_pictures',\n",
    "                    'postal_code', 'last_seen', 'registration_month'],\n",
    "           axis=1,\n",
    "           inplace=True)"
   ]
  },
  {
   "cell_type": "markdown",
   "metadata": {},
   "source": [
    "Удалим дубликаты:"
   ]
  },
  {
   "cell_type": "code",
   "execution_count": 6,
   "metadata": {},
   "outputs": [],
   "source": [
    "df.drop_duplicates(inplace=True)  "
   ]
  },
  {
   "cell_type": "markdown",
   "metadata": {},
   "source": [
    "**2.1 Целевой признак price:**"
   ]
  },
  {
   "cell_type": "markdown",
   "metadata": {},
   "source": [
    "Оценим количество нулей в колонке и примем решение:"
   ]
  },
  {
   "cell_type": "code",
   "execution_count": 7,
   "metadata": {},
   "outputs": [
    {
     "data": {
      "text/plain": [
       "0        8904\n",
       "500      4650\n",
       "1500     4533\n",
       "1000     3875\n",
       "1200     3799\n",
       "         ... \n",
       "1654        1\n",
       "5748        1\n",
       "7285        1\n",
       "11379       1\n",
       "8188        1\n",
       "Name: price, Length: 3731, dtype: int64"
      ]
     },
     "execution_count": 7,
     "metadata": {},
     "output_type": "execute_result"
    }
   ],
   "source": [
    "df.price.value_counts()"
   ]
  },
  {
   "cell_type": "code",
   "execution_count": 8,
   "metadata": {},
   "outputs": [],
   "source": [
    "df = df.query('price > 0')"
   ]
  },
  {
   "cell_type": "markdown",
   "metadata": {},
   "source": [
    "Построим гистограмму и диаграмму размаха для целевого признака: "
   ]
  },
  {
   "cell_type": "code",
   "execution_count": 9,
   "metadata": {},
   "outputs": [
    {
     "data": {
      "image/png": "[encoded data removed]",
      "text/plain": [
       "<Figure size 1440x360 with 1 Axes>"
      ]
     },
     "metadata": {
      "needs_background": "light"
     },
     "output_type": "display_data"
    },
    {
     "data": {
      "image/png": "[encoded data removed]",
      "text/plain": [
       "<Figure size 720x216 with 1 Axes>"
      ]
     },
     "metadata": {
      "needs_background": "light"
     },
     "output_type": "display_data"
    }
   ],
   "source": [
    "df.price.hist(bins=200, figsize=(20,5))\n",
    "\n",
    "plt.figure(figsize=(10,3))\n",
    "sns.boxplot(data=df.price, orient='h')\n",
    "plt.title('Диаграмма размаха для целевого признака')\n",
    "plt.show()"
   ]
  },
  {
   "cell_type": "markdown",
   "metadata": {},
   "source": [
    "Видим данные у нуля и хвост возле 15000. Надо посмотреть на квантили:"
   ]
  },
  {
   "cell_type": "code",
   "execution_count": 10,
   "metadata": {},
   "outputs": [
    {
     "data": {
      "text/plain": [
       "0.05      350.0\n",
       "0.95    14900.0\n",
       "Name: price, dtype: float64"
      ]
     },
     "execution_count": 10,
     "metadata": {},
     "output_type": "execute_result"
    }
   ],
   "source": [
    "df.price.quantile([.05, 0.95])"
   ]
  },
  {
   "cell_type": "markdown",
   "metadata": {},
   "source": [
    "Оценим долю строк, где цена меньше 350 и больше 14900 и примем решение:"
   ]
  },
  {
   "cell_type": "code",
   "execution_count": 11,
   "metadata": {},
   "outputs": [
    {
     "data": {
      "text/plain": [
       "0.0549654655904136"
      ]
     },
     "execution_count": 11,
     "metadata": {},
     "output_type": "execute_result"
    }
   ],
   "source": [
    "1 - df.query('350 < price').shape[0] / df.shape[0]"
   ]
  },
  {
   "cell_type": "code",
   "execution_count": 12,
   "metadata": {},
   "outputs": [],
   "source": [
    "df = df.query('350 < price')"
   ]
  },
  {
   "cell_type": "markdown",
   "metadata": {},
   "source": [
    "**2.2 Признак registration_year:**"
   ]
  },
  {
   "cell_type": "markdown",
   "metadata": {},
   "source": [
    "Оценим значения в registration_year:"
   ]
  },
  {
   "cell_type": "code",
   "execution_count": 13,
   "metadata": {},
   "outputs": [
    {
     "data": {
      "text/plain": [
       "2005    18530\n",
       "2000    17605\n",
       "2006    16970\n",
       "1999    16796\n",
       "2004    16541\n",
       "        ...  \n",
       "1946        1\n",
       "1949        1\n",
       "5300        1\n",
       "8888        1\n",
       "2290        1\n",
       "Name: registration_year, Length: 133, dtype: int64"
      ]
     },
     "execution_count": 13,
     "metadata": {},
     "output_type": "execute_result"
    }
   ],
   "source": [
    "df.registration_year.value_counts()"
   ]
  },
  {
   "cell_type": "markdown",
   "metadata": {},
   "source": [
    "Поступим следующим образом - верхнюю границу установим как самый поздний год выгрузки данных, нижнюю границу установим на уровне 1975 года (ранее выпущенные авто вряд ли поставлены на учет и выставлены на продажу):"
   ]
  },
  {
   "cell_type": "code",
   "execution_count": 14,
   "metadata": {},
   "outputs": [
    {
     "data": {
      "text/plain": [
       "'2016-04-07 14:36:58'"
      ]
     },
     "execution_count": 14,
     "metadata": {},
     "output_type": "execute_result"
    }
   ],
   "source": [
    "df_ = pd.read_csv('/datasets/autos.csv')\n",
    "df_.DateCrawled.max()"
   ]
  },
  {
   "cell_type": "code",
   "execution_count": 15,
   "metadata": {},
   "outputs": [],
   "source": [
    "df = df.query('1975 <= registration_year <= 2016')"
   ]
  },
  {
   "cell_type": "markdown",
   "metadata": {},
   "source": [
    "**2.3 Признак power:**"
   ]
  },
  {
   "cell_type": "markdown",
   "metadata": {},
   "source": [
    "Оценим значения в колонке power:"
   ]
  },
  {
   "cell_type": "code",
   "execution_count": 16,
   "metadata": {},
   "outputs": [
    {
     "data": {
      "text/plain": [
       "0        23890\n",
       "75       16407\n",
       "150      11686\n",
       "140      10373\n",
       "60       10151\n",
       "         ...  \n",
       "1700         1\n",
       "1079         1\n",
       "421          1\n",
       "10912        1\n",
       "1199         1\n",
       "Name: power, Length: 658, dtype: int64"
      ]
     },
     "execution_count": 16,
     "metadata": {},
     "output_type": "execute_result"
    }
   ],
   "source": [
    "df.power.value_counts()"
   ]
  },
  {
   "cell_type": "code",
   "execution_count": 17,
   "metadata": {},
   "outputs": [
    {
     "data": {
      "text/plain": [
       "count    269488.000000\n",
       "mean        116.143992\n",
       "std         194.850286\n",
       "min           0.000000\n",
       "25%          75.000000\n",
       "50%         109.000000\n",
       "75%         147.000000\n",
       "max       20000.000000\n",
       "Name: power, dtype: float64"
      ]
     },
     "execution_count": 17,
     "metadata": {},
     "output_type": "execute_result"
    }
   ],
   "source": [
    "df.power.describe()"
   ]
  },
  {
   "cell_type": "markdown",
   "metadata": {},
   "source": [
    "Самое мощное на 2022 год легковое авто Dagger GT компании TranStar Racing LLC имеет 2028 лс, а самое слабое из представленных брендов Citroen 2CV - имеет 9лс, удалим из датасета данные выше и ниже этих границ:"
   ]
  },
  {
   "cell_type": "code",
   "execution_count": 18,
   "metadata": {},
   "outputs": [],
   "source": [
    "df = df.query('9 <= power <= 2028')"
   ]
  },
  {
   "cell_type": "markdown",
   "metadata": {},
   "source": [
    "**2.4 Признак kilometer:**"
   ]
  },
  {
   "cell_type": "markdown",
   "metadata": {},
   "source": [
    "Оценили значения в столбце kilometer, аномалий не выявлено:"
   ]
  },
  {
   "cell_type": "code",
   "execution_count": 19,
   "metadata": {},
   "outputs": [
    {
     "data": {
      "text/plain": [
       "150000    158044\n",
       "125000     27664\n",
       "100000     11178\n",
       "90000       9096\n",
       "80000       8008\n",
       "70000       7035\n",
       "60000       5979\n",
       "50000       5032\n",
       "40000       3981\n",
       "30000       3375\n",
       "20000       2852\n",
       "5000        2292\n",
       "10000        804\n",
       "Name: kilometer, dtype: int64"
      ]
     },
     "execution_count": 19,
     "metadata": {},
     "output_type": "execute_result"
    }
   ],
   "source": [
    "df.kilometer.value_counts()"
   ]
  },
  {
   "cell_type": "markdown",
   "metadata": {},
   "source": [
    "**2.5 Признак brand:**"
   ]
  },
  {
   "cell_type": "markdown",
   "metadata": {},
   "source": [
    "Оценили значения в столбце brand, неявных дубликатов нет:"
   ]
  },
  {
   "cell_type": "code",
   "execution_count": 20,
   "metadata": {},
   "outputs": [
    {
     "data": {
      "text/plain": [
       "volkswagen        50442\n",
       "bmw               27136\n",
       "opel              25077\n",
       "mercedes_benz     24045\n",
       "audi              21873\n",
       "ford              16596\n",
       "renault           11161\n",
       "peugeot            7946\n",
       "fiat               6163\n",
       "seat               4933\n",
       "skoda              4403\n",
       "mazda              4082\n",
       "smart              4077\n",
       "citroen            3747\n",
       "toyota             3662\n",
       "nissan             3427\n",
       "hyundai            2788\n",
       "mini               2629\n",
       "volvo              2420\n",
       "mitsubishi         2159\n",
       "honda              2140\n",
       "kia                1870\n",
       "alfa_romeo         1725\n",
       "suzuki             1716\n",
       "chevrolet          1331\n",
       "sonstige_autos     1323\n",
       "chrysler           1044\n",
       "dacia               732\n",
       "subaru              568\n",
       "porsche             557\n",
       "jeep                529\n",
       "daihatsu            500\n",
       "land_rover          421\n",
       "saab                417\n",
       "jaguar              408\n",
       "daewoo              333\n",
       "lancia              316\n",
       "rover               295\n",
       "trabant             208\n",
       "lada                141\n",
       "Name: brand, dtype: int64"
      ]
     },
     "execution_count": 20,
     "metadata": {},
     "output_type": "execute_result"
    }
   ],
   "source": [
    "df.brand.value_counts()"
   ]
  },
  {
   "cell_type": "markdown",
   "metadata": {},
   "source": [
    "**2.6. Признак gearbox:**"
   ]
  },
  {
   "cell_type": "markdown",
   "metadata": {},
   "source": [
    "Заменим пропуски на 'manual', а затем значение manual на 1 и auto - на 0, поменяем тип данных:"
   ]
  },
  {
   "cell_type": "code",
   "execution_count": 21,
   "metadata": {},
   "outputs": [],
   "source": [
    "df.fillna({'gearbox':'manual'}, inplace=True)\n",
    "\n",
    "df.loc[(df.gearbox == 'manual'), 'gearbox'] = 1   \n",
    "df.loc[(df.gearbox == 'auto'), 'gearbox'] = 0\n",
    "\n",
    "df.gearbox = df.gearbox.astype('int')"
   ]
  },
  {
   "cell_type": "markdown",
   "metadata": {},
   "source": [
    "**2.7 Признак repaired:**"
   ]
  },
  {
   "cell_type": "markdown",
   "metadata": {},
   "source": [
    "Заменим пропуски на 'yes' - любая подержанная машина была в ремонте, затем значение yes на 1, no - на 0, поменяем тип данных:"
   ]
  },
  {
   "cell_type": "code",
   "execution_count": 22,
   "metadata": {},
   "outputs": [],
   "source": [
    "df.fillna({'repaired':'yes'}, inplace=True)\n",
    "\n",
    "df.loc[(df.repaired == 'yes'), 'repaired'] = 1\n",
    "df.loc[(df.repaired == 'no'), 'repaired'] = 0\n",
    "\n",
    "df.repaired = df.repaired.astype('int')"
   ]
  },
  {
   "cell_type": "markdown",
   "metadata": {},
   "source": [
    "**2.8 Признак model:**"
   ]
  },
  {
   "cell_type": "markdown",
   "metadata": {},
   "source": [
    "Заменим пропуски на 'unknown':"
   ]
  },
  {
   "cell_type": "code",
   "execution_count": 23,
   "metadata": {},
   "outputs": [
    {
     "data": {
      "text/plain": [
       "golf                  18978\n",
       "other                 17740\n",
       "3er                   14341\n",
       "unknown                9321\n",
       "polo                   7572\n",
       "                      ...  \n",
       "kalina                    4\n",
       "serie_2                   3\n",
       "rangerover                2\n",
       "serie_3                   2\n",
       "range_rover_evoque        1\n",
       "Name: model, Length: 250, dtype: int64"
      ]
     },
     "execution_count": 23,
     "metadata": {},
     "output_type": "execute_result"
    }
   ],
   "source": [
    "df.fillna({'model':'unknown'}, inplace=True)\n",
    "df.model.value_counts()"
   ]
  },
  {
   "cell_type": "markdown",
   "metadata": {},
   "source": [
    "**2.9 Признак vehicle_type:**"
   ]
  },
  {
   "cell_type": "markdown",
   "metadata": {},
   "source": [
    "Меняем пропуски на unknown:"
   ]
  },
  {
   "cell_type": "code",
   "execution_count": 24,
   "metadata": {},
   "outputs": [
    {
     "data": {
      "text/plain": [
       "sedan          68664\n",
       "small          53963\n",
       "wagon          49770\n",
       "bus            23200\n",
       "convertible    16527\n",
       "coupe          12625\n",
       "suv             9721\n",
       "unknown         8703\n",
       "other           2167\n",
       "Name: vehicle_type, dtype: int64"
      ]
     },
     "execution_count": 24,
     "metadata": {},
     "output_type": "execute_result"
    }
   ],
   "source": [
    "df.fillna({'vehicle_type':'unknown'}, inplace=True)\n",
    "df.vehicle_type.value_counts()"
   ]
  },
  {
   "cell_type": "markdown",
   "metadata": {},
   "source": [
    "**2.10 Признак fuel_type:**"
   ]
  },
  {
   "cell_type": "markdown",
   "metadata": {},
   "source": [
    "Аналогичная обработка:"
   ]
  },
  {
   "cell_type": "code",
   "execution_count": 25,
   "metadata": {
    "scrolled": true
   },
   "outputs": [
    {
     "data": {
      "text/plain": [
       "petrol      152103\n",
       "gasoline     75221\n",
       "unknown      13043\n",
       "lpg           4228\n",
       "cng            431\n",
       "hybrid         190\n",
       "other           64\n",
       "electric        60\n",
       "Name: fuel_type, dtype: int64"
      ]
     },
     "execution_count": 25,
     "metadata": {},
     "output_type": "execute_result"
    }
   ],
   "source": [
    "df.fillna({'fuel_type':'unknown'}, inplace=True)\n",
    "df.fuel_type.value_counts()"
   ]
  },
  {
   "cell_type": "code",
   "execution_count": 26,
   "metadata": {},
   "outputs": [],
   "source": [
    "df.fuel_type = df.fuel_type.replace('gasoline', 'petrol')"
   ]
  },
  {
   "cell_type": "code",
   "execution_count": 27,
   "metadata": {},
   "outputs": [
    {
     "data": {
      "text/plain": [
       "<AxesSubplot:xlabel='fuel_type', ylabel='count'>"
      ]
     },
     "execution_count": 27,
     "metadata": {},
     "output_type": "execute_result"
    },
    {
     "data": {
      "image/png": "[encoded data removed]",
      "text/plain": [
       "<Figure size 432x288 with 1 Axes>"
      ]
     },
     "metadata": {
      "needs_background": "light"
     },
     "output_type": "display_data"
    }
   ],
   "source": [
    "sns.countplot(df.fuel_type)"
   ]
  },
  {
   "cell_type": "markdown",
   "metadata": {},
   "source": [
    "Смотрим на результат обработки данных:"
   ]
  },
  {
   "cell_type": "code",
   "execution_count": 28,
   "metadata": {},
   "outputs": [
    {
     "name": "stdout",
     "output_type": "stream",
     "text": [
      "<class 'pandas.core.frame.DataFrame'>\n",
      "Int64Index: 245340 entries, 1 to 354368\n",
      "Data columns (total 10 columns):\n",
      " #   Column             Non-Null Count   Dtype \n",
      "---  ------             --------------   ----- \n",
      " 0   price              245340 non-null  int64 \n",
      " 1   vehicle_type       245340 non-null  object\n",
      " 2   registration_year  245340 non-null  int64 \n",
      " 3   gearbox            245340 non-null  int64 \n",
      " 4   power              245340 non-null  int64 \n",
      " 5   model              245340 non-null  object\n",
      " 6   kilometer          245340 non-null  int64 \n",
      " 7   fuel_type          245340 non-null  object\n",
      " 8   brand              245340 non-null  object\n",
      " 9   repaired           245340 non-null  int64 \n",
      "dtypes: int64(6), object(4)\n",
      "memory usage: 28.7+ MB\n"
     ]
    }
   ],
   "source": [
    "df.info()"
   ]
  },
  {
   "cell_type": "markdown",
   "metadata": {},
   "source": [
    "Вывод п.2. Мы провели обработку данных. Удалили признаки, не влияющие на целевой признак, привели названия к нужному стилю, избавились от дубликатов. Заполнили пропуски в gearbox значением 'manual', и далее на 1/0,  пропуски в repaired значением 'yes', и далее на 1/0, в model, vehicletype, fuel_type значением 'unknown'. В результате обработки данных датафрейм сократился, но данные стали качественнее, исчезли шумы и аномалии и их (данных) количества вполне достаточно для обучения моделей."
   ]
  },
  {
   "cell_type": "markdown",
   "metadata": {},
   "source": [
    "## Обучение моделей"
   ]
  },
  {
   "cell_type": "markdown",
   "metadata": {},
   "source": [
    "Выделим целевой признак:"
   ]
  },
  {
   "cell_type": "code",
   "execution_count": 29,
   "metadata": {},
   "outputs": [],
   "source": [
    "target = df['price'] "
   ]
  },
  {
   "cell_type": "markdown",
   "metadata": {},
   "source": [
    "Оставим оригинальные признаки и разделим выборки:"
   ]
  },
  {
   "cell_type": "code",
   "execution_count": 30,
   "metadata": {},
   "outputs": [],
   "source": [
    "features_master = df.drop('price', axis=1)\n",
    "                                    \n",
    "#features_train_master, features_test_master, target_train, target_test = \\\n",
    "#train_test_split(features_master, target, test_size=0.25, random_state=12345)"
   ]
  },
  {
   "cell_type": "markdown",
   "metadata": {},
   "source": [
    "Закодируем признаки через OHE:"
   ]
  },
  {
   "cell_type": "code",
   "execution_count": 31,
   "metadata": {},
   "outputs": [],
   "source": [
    "features_ohe = pd.get_dummies(features_master, drop_first=True)\n",
    "\n",
    "features_train_ohe, features_test_ohe, target_train_ohe, \\\n",
    "target_test_ohe = train_test_split(features_ohe, target, test_size=.25, random_state=12345)"
   ]
  },
  {
   "cell_type": "markdown",
   "metadata": {},
   "source": [
    "Закодируем признаки через OE (прямое кодирование):"
   ]
  },
  {
   "cell_type": "code",
   "execution_count": 33,
   "metadata": {},
   "outputs": [],
   "source": [
    "features_oe = features_master.copy()\n",
    "   \n",
    "\n",
    "features_train_oe, features_test_oe, target_train_oe, \\\n",
    "target_test_oe = train_test_split(features_oe, target, test_size=.25, random_state=12345)\n",
    "\n",
    "columns_cat = ['vehicle_type','fuel_type','brand','model']\n",
    "\n",
    "oe_encoder = OrdinalEncoder(handle_unknown='use_encoded_value', unknown_value=-1)\n",
    "\n",
    "features_train_oe[columns_cat] = oe_encoder.fit_transform(features_train_oe[columns_cat])\n",
    "features_test_oe[columns_cat] = oe_encoder.transform(features_test_oe[columns_cat])\n"
   ]
  },
  {
   "cell_type": "markdown",
   "metadata": {},
   "source": [
    "**3.1 Модель LinearRegression:**"
   ]
  },
  {
   "cell_type": "markdown",
   "metadata": {},
   "source": [
    "На выборках c OHE:"
   ]
  },
  {
   "cell_type": "code",
   "execution_count": 34,
   "metadata": {},
   "outputs": [
    {
     "name": "stdout",
     "output_type": "stream",
     "text": [
      "CPU times: user 40.2 s, sys: 38.1 s, total: 1min 18s\n",
      "Wall time: 1min 18s\n"
     ]
    },
    {
     "data": {
      "text/plain": [
       "6986101.182974639"
      ]
     },
     "execution_count": 34,
     "metadata": {},
     "output_type": "execute_result"
    }
   ],
   "source": [
    "%%time\n",
    "\n",
    "model_lr = LinearRegression()\n",
    "\n",
    "cvs_rmse_lr = (cross_val_score(model_lr,\n",
    "                               features_train_ohe,\n",
    "                               target_train_ohe,\n",
    "                               cv=5,\n",
    "                               scoring='neg_mean_squared_error')).mean() * -1 ** .5\n",
    "cvs_rmse_lr"
   ]
  },
  {
   "cell_type": "markdown",
   "metadata": {},
   "source": [
    "На выборках c OE:"
   ]
  },
  {
   "cell_type": "code",
   "execution_count": 36,
   "metadata": {},
   "outputs": [
    {
     "name": "stdout",
     "output_type": "stream",
     "text": [
      "CPU times: user 409 ms, sys: 487 ms, total: 896 ms\n",
      "Wall time: 907 ms\n"
     ]
    },
    {
     "data": {
      "text/plain": [
       "10303154.429948185"
      ]
     },
     "execution_count": 36,
     "metadata": {},
     "output_type": "execute_result"
    }
   ],
   "source": [
    "%%time\n",
    "\n",
    "model_lr = LinearRegression()\n",
    "\n",
    "cvs_rmse_lr = (cross_val_score(model_lr,\n",
    "                               features_train_oe,\n",
    "                               target_train_oe,\n",
    "                               cv=5,\n",
    "                               scoring='neg_mean_squared_error')).mean() * -1 ** .5\n",
    "cvs_rmse_lr"
   ]
  },
  {
   "cell_type": "markdown",
   "metadata": {},
   "source": [
    "**3.2 Модель CatBoostRegressor:**"
   ]
  },
  {
   "cell_type": "markdown",
   "metadata": {},
   "source": [
    "На выборках c OHE:"
   ]
  },
  {
   "cell_type": "code",
   "execution_count": null,
   "metadata": {
    "scrolled": true
   },
   "outputs": [],
   "source": [
    "%%time\n",
    "\n",
    "model_cbr = CatBoostRegressor() \n",
    "parameters = [{'learning_rate':[.1, .5, .8], 'random_state':[12345], 'verbose':[False]}]\n",
    "\n",
    "gscv = GridSearchCV(model_cbr, parameters, scoring='neg_mean_squared_error')\n",
    "gscv.fit(features_train_ohe, target_train_ohe)\n",
    "\n",
    "print(gscv.best_params_)\n",
    "\n",
    "mts = gscv.cv_results_['mean_test_score']\n",
    "    \n",
    "gscv_rsme_cbr_ohe = (max(mts) * -1) ** .5\n",
    "gscv_rsme_cbr_ohe"
   ]
  },
  {
   "cell_type": "code",
   "execution_count": 39,
   "metadata": {},
   "outputs": [
    {
     "name": "stdout",
     "output_type": "stream",
     "text": [
      "461:\tlearn: 1640.1715716\ttotal: 9.99s\tremaining: 11.6s\n",
      "462:\tlearn: 1639.9063609\ttotal: 10s\tremaining: 11.6s\n",
      "463:\tlearn: 1639.6629451\ttotal: 10s\tremaining: 11.6s\n",
      "464:\tlearn: 1639.4307060\ttotal: 10.1s\tremaining: 11.6s\n",
      "465:\tlearn: 1639.2486274\ttotal: 10.1s\tremaining: 11.5s\n",
      "466:\tlearn: 1639.0383908\ttotal: 10.1s\tremaining: 11.5s\n",
      "467:\tlearn: 1638.9002476\ttotal: 10.1s\tremaining: 11.5s\n",
      "468:\tlearn: 1638.6826586\ttotal: 10.1s\tremaining: 11.5s\n",
      "469:\tlearn: 1638.5502379\ttotal: 10.2s\tremaining: 11.4s\n",
      "470:\tlearn: 1638.3768482\ttotal: 10.2s\tremaining: 11.4s\n",
      "471:\tlearn: 1638.3178764\ttotal: 10.2s\tremaining: 11.4s\n",
      "472:\tlearn: 1638.0518960\ttotal: 10.2s\tremaining: 11.4s\n",
      "473:\tlearn: 1637.8247577\ttotal: 10.2s\tremaining: 11.4s\n",
      "474:\tlearn: 1637.6933977\ttotal: 10.3s\tremaining: 11.3s\n",
      "475:\tlearn: 1637.5160006\ttotal: 10.3s\tremaining: 11.3s\n",
      "476:\tlearn: 1637.3351813\ttotal: 10.3s\tremaining: 11.3s\n",
      "477:\tlearn: 1637.1156923\ttotal: 10.3s\tremaining: 11.3s\n",
      "478:\tlearn: 1636.8284449\ttotal: 10.3s\tremaining: 11.2s\n",
      "479:\tlearn: 1636.6614936\ttotal: 10.4s\tremaining: 11.2s\n",
      "480:\tlearn: 1636.4067564\ttotal: 10.4s\tremaining: 11.2s\n",
      "481:\tlearn: 1636.2797958\ttotal: 10.4s\tremaining: 11.2s\n",
      "482:\tlearn: 1636.0882449\ttotal: 10.4s\tremaining: 11.1s\n",
      "483:\tlearn: 1636.0456898\ttotal: 10.4s\tremaining: 11.1s\n",
      "484:\tlearn: 1635.8302656\ttotal: 10.5s\tremaining: 11.1s\n",
      "485:\tlearn: 1635.6729057\ttotal: 10.5s\tremaining: 11.1s\n",
      "486:\tlearn: 1635.4339124\ttotal: 10.5s\tremaining: 11.1s\n",
      "487:\tlearn: 1635.2589973\ttotal: 10.5s\tremaining: 11.1s\n",
      "488:\tlearn: 1635.0702351\ttotal: 10.6s\tremaining: 11s\n",
      "489:\tlearn: 1634.9084762\ttotal: 10.6s\tremaining: 11s\n",
      "490:\tlearn: 1634.7228492\ttotal: 10.6s\tremaining: 11s\n",
      "491:\tlearn: 1634.4730304\ttotal: 10.6s\tremaining: 11s\n",
      "492:\tlearn: 1634.3154117\ttotal: 10.6s\tremaining: 10.9s\n",
      "493:\tlearn: 1634.1906975\ttotal: 10.7s\tremaining: 10.9s\n",
      "494:\tlearn: 1633.9887655\ttotal: 10.7s\tremaining: 10.9s\n",
      "495:\tlearn: 1633.8608347\ttotal: 10.7s\tremaining: 10.9s\n",
      "496:\tlearn: 1633.6427209\ttotal: 10.7s\tremaining: 10.9s\n",
      "497:\tlearn: 1633.5768974\ttotal: 10.7s\tremaining: 10.8s\n",
      "498:\tlearn: 1633.4046856\ttotal: 10.8s\tremaining: 10.8s\n",
      "499:\tlearn: 1633.2267574\ttotal: 10.8s\tremaining: 10.8s\n",
      "500:\tlearn: 1633.0516143\ttotal: 10.8s\tremaining: 10.8s\n",
      "501:\tlearn: 1632.8540624\ttotal: 10.8s\tremaining: 10.7s\n",
      "502:\tlearn: 1632.7082667\ttotal: 10.9s\tremaining: 10.7s\n",
      "503:\tlearn: 1632.4601566\ttotal: 10.9s\tremaining: 10.7s\n",
      "504:\tlearn: 1632.2905926\ttotal: 10.9s\tremaining: 10.7s\n",
      "505:\tlearn: 1631.9881108\ttotal: 10.9s\tremaining: 10.7s\n",
      "506:\tlearn: 1631.8055711\ttotal: 10.9s\tremaining: 10.6s\n",
      "507:\tlearn: 1631.6814885\ttotal: 11s\tremaining: 10.6s\n",
      "508:\tlearn: 1631.4823056\ttotal: 11s\tremaining: 10.6s\n",
      "509:\tlearn: 1631.1550762\ttotal: 11s\tremaining: 10.6s\n",
      "510:\tlearn: 1630.8446957\ttotal: 11s\tremaining: 10.6s\n",
      "511:\tlearn: 1630.6245653\ttotal: 11.1s\tremaining: 10.5s\n",
      "512:\tlearn: 1630.4363581\ttotal: 11.1s\tremaining: 10.5s\n",
      "513:\tlearn: 1630.2238717\ttotal: 11.1s\tremaining: 10.5s\n",
      "514:\tlearn: 1630.0738071\ttotal: 11.1s\tremaining: 10.5s\n",
      "515:\tlearn: 1629.8687733\ttotal: 11.1s\tremaining: 10.5s\n",
      "516:\tlearn: 1629.7144294\ttotal: 11.2s\tremaining: 10.4s\n",
      "517:\tlearn: 1629.4882992\ttotal: 11.2s\tremaining: 10.4s\n",
      "518:\tlearn: 1629.3148655\ttotal: 11.2s\tremaining: 10.4s\n",
      "519:\tlearn: 1629.1256640\ttotal: 11.2s\tremaining: 10.4s\n",
      "520:\tlearn: 1629.0070689\ttotal: 11.3s\tremaining: 10.3s\n",
      "521:\tlearn: 1628.7752137\ttotal: 11.3s\tremaining: 10.3s\n",
      "522:\tlearn: 1628.5196655\ttotal: 11.3s\tremaining: 10.3s\n",
      "523:\tlearn: 1628.3002384\ttotal: 11.3s\tremaining: 10.3s\n",
      "524:\tlearn: 1628.1806820\ttotal: 11.3s\tremaining: 10.3s\n",
      "525:\tlearn: 1627.9929722\ttotal: 11.4s\tremaining: 10.2s\n",
      "526:\tlearn: 1627.8419021\ttotal: 11.4s\tremaining: 10.2s\n",
      "527:\tlearn: 1627.7120861\ttotal: 11.4s\tremaining: 10.2s\n",
      "528:\tlearn: 1627.5568240\ttotal: 11.4s\tremaining: 10.2s\n",
      "529:\tlearn: 1627.4768156\ttotal: 11.4s\tremaining: 10.1s\n",
      "530:\tlearn: 1627.2622284\ttotal: 11.5s\tremaining: 10.1s\n",
      "531:\tlearn: 1627.1220867\ttotal: 11.5s\tremaining: 10.1s\n",
      "532:\tlearn: 1626.9483491\ttotal: 11.5s\tremaining: 10.1s\n",
      "533:\tlearn: 1626.7065447\ttotal: 11.5s\tremaining: 10.1s\n",
      "534:\tlearn: 1626.4868025\ttotal: 11.6s\tremaining: 10s\n",
      "535:\tlearn: 1626.3222272\ttotal: 11.6s\tremaining: 10s\n",
      "536:\tlearn: 1626.1335880\ttotal: 11.6s\tremaining: 10s\n",
      "537:\tlearn: 1625.8634273\ttotal: 11.6s\tremaining: 9.98s\n",
      "538:\tlearn: 1625.7255861\ttotal: 11.6s\tremaining: 9.96s\n",
      "539:\tlearn: 1625.6176054\ttotal: 11.7s\tremaining: 9.94s\n",
      "540:\tlearn: 1625.3845621\ttotal: 11.7s\tremaining: 9.91s\n",
      "541:\tlearn: 1625.2342091\ttotal: 11.7s\tremaining: 9.89s\n",
      "542:\tlearn: 1625.0540074\ttotal: 11.7s\tremaining: 9.87s\n",
      "543:\tlearn: 1624.8578316\ttotal: 11.8s\tremaining: 9.85s\n",
      "544:\tlearn: 1624.6388079\ttotal: 11.8s\tremaining: 9.83s\n",
      "545:\tlearn: 1624.3770150\ttotal: 11.8s\tremaining: 9.81s\n",
      "546:\tlearn: 1624.1867702\ttotal: 11.8s\tremaining: 9.79s\n",
      "547:\tlearn: 1624.0508339\ttotal: 11.8s\tremaining: 9.76s\n",
      "548:\tlearn: 1623.8844846\ttotal: 11.9s\tremaining: 9.74s\n",
      "549:\tlearn: 1623.7125407\ttotal: 11.9s\tremaining: 9.72s\n",
      "550:\tlearn: 1623.5400637\ttotal: 11.9s\tremaining: 9.71s\n",
      "551:\tlearn: 1623.4573276\ttotal: 11.9s\tremaining: 9.69s\n",
      "552:\tlearn: 1623.3149500\ttotal: 12s\tremaining: 9.66s\n",
      "553:\tlearn: 1623.1878364\ttotal: 12s\tremaining: 9.65s\n",
      "554:\tlearn: 1622.9996564\ttotal: 12s\tremaining: 9.64s\n",
      "555:\tlearn: 1622.5993743\ttotal: 12.1s\tremaining: 9.63s\n",
      "556:\tlearn: 1622.4717658\ttotal: 12.1s\tremaining: 9.61s\n",
      "557:\tlearn: 1622.3342661\ttotal: 12.1s\tremaining: 9.59s\n",
      "558:\tlearn: 1622.1654840\ttotal: 12.1s\tremaining: 9.56s\n",
      "559:\tlearn: 1622.0658374\ttotal: 12.1s\tremaining: 9.54s\n",
      "560:\tlearn: 1621.9140735\ttotal: 12.2s\tremaining: 9.52s\n",
      "561:\tlearn: 1621.7342054\ttotal: 12.2s\tremaining: 9.49s\n",
      "562:\tlearn: 1621.5812407\ttotal: 12.2s\tremaining: 9.47s\n",
      "563:\tlearn: 1621.4075410\ttotal: 12.2s\tremaining: 9.45s\n",
      "564:\tlearn: 1621.1679376\ttotal: 12.2s\tremaining: 9.43s\n",
      "565:\tlearn: 1620.8610027\ttotal: 12.3s\tremaining: 9.41s\n",
      "566:\tlearn: 1620.7555199\ttotal: 12.3s\tremaining: 9.38s\n",
      "567:\tlearn: 1620.6319080\ttotal: 12.3s\tremaining: 9.36s\n",
      "568:\tlearn: 1620.4852215\ttotal: 12.3s\tremaining: 9.34s\n",
      "569:\tlearn: 1620.2733042\ttotal: 12.4s\tremaining: 9.32s\n",
      "570:\tlearn: 1620.1720004\ttotal: 12.4s\tremaining: 9.3s\n",
      "571:\tlearn: 1619.9511167\ttotal: 12.4s\tremaining: 9.27s\n",
      "572:\tlearn: 1619.7534230\ttotal: 12.4s\tremaining: 9.25s\n",
      "573:\tlearn: 1619.4536436\ttotal: 12.4s\tremaining: 9.23s\n",
      "574:\tlearn: 1619.2630004\ttotal: 12.5s\tremaining: 9.21s\n",
      "575:\tlearn: 1619.0814466\ttotal: 12.5s\tremaining: 9.19s\n",
      "576:\tlearn: 1618.9143969\ttotal: 12.5s\tremaining: 9.17s\n",
      "577:\tlearn: 1618.7843436\ttotal: 12.5s\tremaining: 9.14s\n",
      "578:\tlearn: 1618.4984370\ttotal: 12.6s\tremaining: 9.13s\n",
      "579:\tlearn: 1618.4197663\ttotal: 12.6s\tremaining: 9.1s\n",
      "580:\tlearn: 1618.2927341\ttotal: 12.6s\tremaining: 9.08s\n",
      "581:\tlearn: 1618.1299569\ttotal: 12.6s\tremaining: 9.06s\n",
      "582:\tlearn: 1617.9252003\ttotal: 12.6s\tremaining: 9.04s\n",
      "583:\tlearn: 1617.7390980\ttotal: 12.7s\tremaining: 9.02s\n",
      "584:\tlearn: 1617.5638502\ttotal: 12.7s\tremaining: 9s\n",
      "585:\tlearn: 1617.4124147\ttotal: 12.7s\tremaining: 8.98s\n",
      "586:\tlearn: 1617.2497302\ttotal: 12.7s\tremaining: 8.96s\n",
      "587:\tlearn: 1617.0971450\ttotal: 12.7s\tremaining: 8.93s\n",
      "588:\tlearn: 1616.9337069\ttotal: 12.8s\tremaining: 8.91s\n",
      "589:\tlearn: 1616.7607054\ttotal: 12.8s\tremaining: 8.89s\n",
      "590:\tlearn: 1616.3695232\ttotal: 12.8s\tremaining: 8.87s\n",
      "591:\tlearn: 1616.2447742\ttotal: 12.8s\tremaining: 8.85s\n",
      "592:\tlearn: 1616.0861787\ttotal: 12.9s\tremaining: 8.82s\n",
      "593:\tlearn: 1615.9461543\ttotal: 12.9s\tremaining: 8.8s\n",
      "594:\tlearn: 1615.8395349\ttotal: 12.9s\tremaining: 8.78s\n",
      "595:\tlearn: 1615.6354791\ttotal: 12.9s\tremaining: 8.76s\n",
      "596:\tlearn: 1615.5386882\ttotal: 12.9s\tremaining: 8.74s\n",
      "597:\tlearn: 1615.3962167\ttotal: 13s\tremaining: 8.72s\n",
      "598:\tlearn: 1615.2707992\ttotal: 13s\tremaining: 8.69s\n",
      "599:\tlearn: 1615.1509480\ttotal: 13s\tremaining: 8.67s\n",
      "600:\tlearn: 1615.0115488\ttotal: 13s\tremaining: 8.65s\n",
      "601:\tlearn: 1614.8487477\ttotal: 13s\tremaining: 8.63s\n",
      "602:\tlearn: 1614.6772979\ttotal: 13.1s\tremaining: 8.61s\n",
      "603:\tlearn: 1614.5775779\ttotal: 13.1s\tremaining: 8.59s\n",
      "604:\tlearn: 1614.4877949\ttotal: 13.1s\tremaining: 8.56s\n",
      "605:\tlearn: 1614.2343453\ttotal: 13.1s\tremaining: 8.54s\n",
      "606:\tlearn: 1614.0192478\ttotal: 13.2s\tremaining: 8.52s\n",
      "607:\tlearn: 1613.8620505\ttotal: 13.2s\tremaining: 8.5s\n",
      "608:\tlearn: 1613.7293557\ttotal: 13.2s\tremaining: 8.48s\n",
      "609:\tlearn: 1613.5748622\ttotal: 13.2s\tremaining: 8.46s\n",
      "610:\tlearn: 1613.3619494\ttotal: 13.2s\tremaining: 8.43s\n",
      "611:\tlearn: 1613.2138588\ttotal: 13.3s\tremaining: 8.41s\n",
      "612:\tlearn: 1613.0345946\ttotal: 13.3s\tremaining: 8.39s\n",
      "613:\tlearn: 1612.8594412\ttotal: 13.3s\tremaining: 8.37s\n",
      "614:\tlearn: 1612.7542486\ttotal: 13.3s\tremaining: 8.34s\n",
      "615:\tlearn: 1612.5403842\ttotal: 13.3s\tremaining: 8.32s\n",
      "616:\tlearn: 1612.4035278\ttotal: 13.4s\tremaining: 8.3s\n",
      "617:\tlearn: 1612.2644801\ttotal: 13.4s\tremaining: 8.28s\n",
      "618:\tlearn: 1612.1258918\ttotal: 13.4s\tremaining: 8.26s\n",
      "619:\tlearn: 1611.9967868\ttotal: 13.4s\tremaining: 8.23s\n",
      "620:\tlearn: 1611.8141801\ttotal: 13.5s\tremaining: 8.21s\n",
      "621:\tlearn: 1611.6423430\ttotal: 13.5s\tremaining: 8.19s\n",
      "622:\tlearn: 1611.5635817\ttotal: 13.5s\tremaining: 8.17s\n",
      "623:\tlearn: 1611.4199112\ttotal: 13.5s\tremaining: 8.14s\n",
      "624:\tlearn: 1611.2637629\ttotal: 13.5s\tremaining: 8.12s\n",
      "625:\tlearn: 1611.1903584\ttotal: 13.6s\tremaining: 8.11s\n",
      "626:\tlearn: 1611.1235960\ttotal: 13.6s\tremaining: 8.08s\n",
      "627:\tlearn: 1610.9984111\ttotal: 13.6s\tremaining: 8.06s\n",
      "628:\tlearn: 1610.7530955\ttotal: 13.6s\tremaining: 8.04s\n",
      "629:\tlearn: 1610.6108867\ttotal: 13.7s\tremaining: 8.02s\n",
      "630:\tlearn: 1610.5456085\ttotal: 13.7s\tremaining: 8s\n",
      "631:\tlearn: 1610.4361808\ttotal: 13.7s\tremaining: 7.98s\n",
      "632:\tlearn: 1610.3039145\ttotal: 13.7s\tremaining: 7.96s\n",
      "633:\tlearn: 1609.9900047\ttotal: 13.8s\tremaining: 7.94s\n",
      "634:\tlearn: 1609.8849303\ttotal: 13.8s\tremaining: 7.92s\n",
      "635:\tlearn: 1609.6843653\ttotal: 13.8s\tremaining: 7.89s\n",
      "636:\tlearn: 1609.5445703\ttotal: 13.8s\tremaining: 7.87s\n",
      "637:\tlearn: 1609.4376508\ttotal: 13.8s\tremaining: 7.85s\n",
      "638:\tlearn: 1609.3059649\ttotal: 13.9s\tremaining: 7.83s\n",
      "639:\tlearn: 1609.1277964\ttotal: 13.9s\tremaining: 7.8s\n",
      "640:\tlearn: 1608.9183251\ttotal: 13.9s\tremaining: 7.79s\n",
      "641:\tlearn: 1608.7805955\ttotal: 13.9s\tremaining: 7.77s\n",
      "642:\tlearn: 1608.5744210\ttotal: 14s\tremaining: 7.76s\n",
      "643:\tlearn: 1608.4354725\ttotal: 14s\tremaining: 7.74s\n",
      "644:\tlearn: 1608.2289275\ttotal: 14s\tremaining: 7.71s\n",
      "645:\tlearn: 1608.1010846\ttotal: 14s\tremaining: 7.69s\n",
      "646:\tlearn: 1607.9271830\ttotal: 14.1s\tremaining: 7.67s\n",
      "647:\tlearn: 1607.8277205\ttotal: 14.1s\tremaining: 7.65s\n",
      "648:\tlearn: 1607.7128455\ttotal: 14.1s\tremaining: 7.63s\n",
      "649:\tlearn: 1607.6089459\ttotal: 14.1s\tremaining: 7.6s\n",
      "650:\tlearn: 1607.4037693\ttotal: 14.1s\tremaining: 7.58s\n",
      "651:\tlearn: 1607.2415240\ttotal: 14.2s\tremaining: 7.56s\n",
      "652:\tlearn: 1607.1145668\ttotal: 14.2s\tremaining: 7.54s\n",
      "653:\tlearn: 1606.9567757\ttotal: 14.2s\tremaining: 7.52s\n",
      "654:\tlearn: 1606.7961532\ttotal: 14.2s\tremaining: 7.5s\n",
      "655:\tlearn: 1606.4271781\ttotal: 14.3s\tremaining: 7.48s\n",
      "656:\tlearn: 1606.2439103\ttotal: 14.3s\tremaining: 7.45s\n",
      "657:\tlearn: 1606.0723772\ttotal: 14.3s\tremaining: 7.43s\n",
      "658:\tlearn: 1605.9155261\ttotal: 14.3s\tremaining: 7.41s\n",
      "659:\tlearn: 1605.7625840\ttotal: 14.3s\tremaining: 7.39s\n",
      "660:\tlearn: 1605.6633798\ttotal: 14.4s\tremaining: 7.36s\n",
      "661:\tlearn: 1605.4874597\ttotal: 14.4s\tremaining: 7.34s\n",
      "662:\tlearn: 1605.2933580\ttotal: 14.4s\tremaining: 7.32s\n",
      "663:\tlearn: 1605.1629707\ttotal: 14.4s\tremaining: 7.3s\n",
      "664:\tlearn: 1604.9897728\ttotal: 14.5s\tremaining: 7.28s\n",
      "665:\tlearn: 1604.8865880\ttotal: 14.5s\tremaining: 7.26s\n",
      "666:\tlearn: 1604.7176223\ttotal: 14.5s\tremaining: 7.24s\n",
      "667:\tlearn: 1604.5747929\ttotal: 14.5s\tremaining: 7.21s\n",
      "668:\tlearn: 1604.4007263\ttotal: 14.5s\tremaining: 7.19s\n",
      "669:\tlearn: 1604.3032321\ttotal: 14.6s\tremaining: 7.17s\n",
      "670:\tlearn: 1604.1276340\ttotal: 14.6s\tremaining: 7.15s\n",
      "671:\tlearn: 1603.9819997\ttotal: 14.6s\tremaining: 7.13s\n",
      "672:\tlearn: 1603.7765666\ttotal: 14.6s\tremaining: 7.1s\n",
      "673:\tlearn: 1603.5985828\ttotal: 14.6s\tremaining: 7.08s\n",
      "674:\tlearn: 1603.4519788\ttotal: 14.7s\tremaining: 7.06s\n",
      "675:\tlearn: 1603.3099164\ttotal: 14.7s\tremaining: 7.04s\n",
      "676:\tlearn: 1603.0448948\ttotal: 14.7s\tremaining: 7.03s\n",
      "677:\tlearn: 1602.9114099\ttotal: 14.8s\tremaining: 7.01s\n",
      "678:\tlearn: 1602.8130653\ttotal: 14.8s\tremaining: 6.99s\n",
      "679:\tlearn: 1602.7105529\ttotal: 14.8s\tremaining: 6.97s\n",
      "680:\tlearn: 1602.5849034\ttotal: 14.8s\tremaining: 6.95s\n",
      "681:\tlearn: 1602.3178830\ttotal: 14.9s\tremaining: 6.92s\n",
      "682:\tlearn: 1602.1224336\ttotal: 14.9s\tremaining: 6.91s\n",
      "683:\tlearn: 1601.9033861\ttotal: 14.9s\tremaining: 6.88s\n",
      "684:\tlearn: 1601.7771047\ttotal: 14.9s\tremaining: 6.86s\n",
      "685:\tlearn: 1601.6772395\ttotal: 14.9s\tremaining: 6.84s\n",
      "686:\tlearn: 1601.5452448\ttotal: 15s\tremaining: 6.82s\n",
      "687:\tlearn: 1601.4220677\ttotal: 15s\tremaining: 6.79s\n",
      "688:\tlearn: 1601.2883057\ttotal: 15s\tremaining: 6.77s\n",
      "689:\tlearn: 1601.1254677\ttotal: 15s\tremaining: 6.75s\n",
      "690:\tlearn: 1600.9913679\ttotal: 15s\tremaining: 6.73s\n",
      "691:\tlearn: 1600.8027409\ttotal: 15.1s\tremaining: 6.71s\n",
      "692:\tlearn: 1600.6488108\ttotal: 15.1s\tremaining: 6.68s\n",
      "693:\tlearn: 1600.4255958\ttotal: 15.1s\tremaining: 6.66s\n",
      "694:\tlearn: 1600.2905904\ttotal: 15.1s\tremaining: 6.64s\n",
      "695:\tlearn: 1600.2027861\ttotal: 15.2s\tremaining: 6.62s\n",
      "696:\tlearn: 1600.0225381\ttotal: 15.2s\tremaining: 6.59s\n",
      "697:\tlearn: 1599.8933866\ttotal: 15.2s\tremaining: 6.57s\n",
      "698:\tlearn: 1599.7874619\ttotal: 15.2s\tremaining: 6.55s\n",
      "699:\tlearn: 1599.6560413\ttotal: 15.2s\tremaining: 6.53s\n",
      "700:\tlearn: 1599.5600103\ttotal: 15.3s\tremaining: 6.51s\n",
      "701:\tlearn: 1599.2562101\ttotal: 15.3s\tremaining: 6.49s\n",
      "702:\tlearn: 1599.1097124\ttotal: 15.3s\tremaining: 6.46s\n",
      "703:\tlearn: 1598.9304430\ttotal: 15.3s\tremaining: 6.44s\n",
      "704:\tlearn: 1598.7993271\ttotal: 15.3s\tremaining: 6.42s\n",
      "705:\tlearn: 1598.7171201\ttotal: 15.4s\tremaining: 6.39s\n",
      "706:\tlearn: 1598.5836938\ttotal: 15.4s\tremaining: 6.38s\n",
      "707:\tlearn: 1598.3876634\ttotal: 15.4s\tremaining: 6.36s\n",
      "708:\tlearn: 1598.2508227\ttotal: 15.4s\tremaining: 6.33s\n",
      "709:\tlearn: 1598.1264717\ttotal: 15.5s\tremaining: 6.31s\n",
      "710:\tlearn: 1598.0680747\ttotal: 15.5s\tremaining: 6.29s\n",
      "711:\tlearn: 1597.9555870\ttotal: 15.5s\tremaining: 6.27s\n",
      "712:\tlearn: 1597.8951447\ttotal: 15.5s\tremaining: 6.25s\n",
      "713:\tlearn: 1597.7530347\ttotal: 15.5s\tremaining: 6.22s\n",
      "714:\tlearn: 1597.5793052\ttotal: 15.6s\tremaining: 6.2s\n",
      "715:\tlearn: 1597.3925184\ttotal: 15.6s\tremaining: 6.18s\n",
      "716:\tlearn: 1597.2484333\ttotal: 15.6s\tremaining: 6.17s\n",
      "717:\tlearn: 1597.1225127\ttotal: 15.6s\tremaining: 6.14s\n",
      "718:\tlearn: 1597.0589925\ttotal: 15.7s\tremaining: 6.12s\n",
      "719:\tlearn: 1596.8540885\ttotal: 15.7s\tremaining: 6.1s\n",
      "720:\tlearn: 1596.7010455\ttotal: 15.7s\tremaining: 6.08s\n",
      "721:\tlearn: 1596.6058035\ttotal: 15.7s\tremaining: 6.06s\n",
      "722:\tlearn: 1596.3716756\ttotal: 15.8s\tremaining: 6.04s\n",
      "723:\tlearn: 1596.2264256\ttotal: 15.8s\tremaining: 6.01s\n",
      "724:\tlearn: 1596.1104646\ttotal: 15.8s\tremaining: 5.99s\n",
      "725:\tlearn: 1595.9175745\ttotal: 15.8s\tremaining: 5.97s\n",
      "726:\tlearn: 1595.7478786\ttotal: 15.8s\tremaining: 5.95s\n",
      "727:\tlearn: 1595.5795636\ttotal: 15.9s\tremaining: 5.92s\n",
      "728:\tlearn: 1595.4771377\ttotal: 15.9s\tremaining: 5.9s\n",
      "729:\tlearn: 1595.2837826\ttotal: 15.9s\tremaining: 5.88s\n",
      "730:\tlearn: 1595.0918961\ttotal: 15.9s\tremaining: 5.86s\n",
      "731:\tlearn: 1594.9326563\ttotal: 15.9s\tremaining: 5.84s\n",
      "732:\tlearn: 1594.8044615\ttotal: 16s\tremaining: 5.82s\n",
      "733:\tlearn: 1594.6568960\ttotal: 16s\tremaining: 5.79s\n",
      "734:\tlearn: 1594.5697528\ttotal: 16s\tremaining: 5.77s\n",
      "735:\tlearn: 1594.4010825\ttotal: 16s\tremaining: 5.75s\n",
      "736:\tlearn: 1594.2764739\ttotal: 16s\tremaining: 5.73s\n",
      "737:\tlearn: 1594.0808409\ttotal: 16.1s\tremaining: 5.7s\n",
      "738:\tlearn: 1593.7914350\ttotal: 16.1s\tremaining: 5.68s\n",
      "739:\tlearn: 1593.6233323\ttotal: 16.1s\tremaining: 5.66s\n",
      "740:\tlearn: 1593.5159240\ttotal: 16.1s\tremaining: 5.64s\n",
      "741:\tlearn: 1593.3048535\ttotal: 16.2s\tremaining: 5.62s\n",
      "742:\tlearn: 1593.1151570\ttotal: 16.2s\tremaining: 5.59s\n",
      "743:\tlearn: 1593.0023762\ttotal: 16.2s\tremaining: 5.57s\n",
      "744:\tlearn: 1592.7835281\ttotal: 16.2s\tremaining: 5.55s\n",
      "745:\tlearn: 1592.6749917\ttotal: 16.2s\tremaining: 5.53s\n",
      "746:\tlearn: 1592.6316707\ttotal: 16.3s\tremaining: 5.5s\n",
      "747:\tlearn: 1592.5611771\ttotal: 16.3s\tremaining: 5.48s\n",
      "748:\tlearn: 1592.4045891\ttotal: 16.3s\tremaining: 5.46s\n",
      "749:\tlearn: 1592.2511462\ttotal: 16.3s\tremaining: 5.44s\n",
      "750:\tlearn: 1592.1728043\ttotal: 16.3s\tremaining: 5.42s\n",
      "751:\tlearn: 1592.0868377\ttotal: 16.4s\tremaining: 5.39s\n",
      "752:\tlearn: 1591.9839709\ttotal: 16.4s\tremaining: 5.37s\n",
      "753:\tlearn: 1591.8895838\ttotal: 16.4s\tremaining: 5.35s\n",
      "754:\tlearn: 1591.7576136\ttotal: 16.4s\tremaining: 5.33s\n",
      "755:\tlearn: 1591.6449670\ttotal: 16.4s\tremaining: 5.31s\n",
      "756:\tlearn: 1591.5518421\ttotal: 16.5s\tremaining: 5.28s\n",
      "757:\tlearn: 1591.3892144\ttotal: 16.5s\tremaining: 5.26s\n",
      "758:\tlearn: 1591.1634187\ttotal: 16.5s\tremaining: 5.24s\n",
      "759:\tlearn: 1590.9523582\ttotal: 16.5s\tremaining: 5.22s\n",
      "760:\tlearn: 1590.8164993\ttotal: 16.6s\tremaining: 5.2s\n",
      "761:\tlearn: 1590.6660149\ttotal: 16.6s\tremaining: 5.17s\n",
      "762:\tlearn: 1590.5402006\ttotal: 16.6s\tremaining: 5.15s\n",
      "763:\tlearn: 1590.3233986\ttotal: 16.6s\tremaining: 5.13s\n",
      "764:\tlearn: 1590.2302296\ttotal: 16.6s\tremaining: 5.11s\n",
      "765:\tlearn: 1590.0464390\ttotal: 16.7s\tremaining: 5.09s\n",
      "766:\tlearn: 1589.9539438\ttotal: 16.7s\tremaining: 5.07s\n",
      "767:\tlearn: 1589.7624732\ttotal: 16.7s\tremaining: 5.04s\n",
      "768:\tlearn: 1589.5948570\ttotal: 16.7s\tremaining: 5.02s\n",
      "769:\tlearn: 1589.4884843\ttotal: 16.7s\tremaining: 5s\n",
      "770:\tlearn: 1589.3711697\ttotal: 16.8s\tremaining: 4.98s\n",
      "771:\tlearn: 1589.2890486\ttotal: 16.8s\tremaining: 4.96s\n",
      "772:\tlearn: 1589.1801147\ttotal: 16.8s\tremaining: 4.94s\n",
      "773:\tlearn: 1589.1087241\ttotal: 16.8s\tremaining: 4.92s\n",
      "774:\tlearn: 1588.9916741\ttotal: 16.9s\tremaining: 4.89s\n",
      "775:\tlearn: 1588.9337159\ttotal: 16.9s\tremaining: 4.87s\n",
      "776:\tlearn: 1588.8005274\ttotal: 16.9s\tremaining: 4.85s\n",
      "777:\tlearn: 1588.6807837\ttotal: 16.9s\tremaining: 4.83s\n",
      "778:\tlearn: 1588.5704511\ttotal: 16.9s\tremaining: 4.81s\n",
      "779:\tlearn: 1588.4758462\ttotal: 17s\tremaining: 4.78s\n",
      "780:\tlearn: 1588.3509545\ttotal: 17s\tremaining: 4.76s\n",
      "781:\tlearn: 1588.2294968\ttotal: 17s\tremaining: 4.74s\n",
      "782:\tlearn: 1588.1427242\ttotal: 17s\tremaining: 4.72s\n",
      "783:\tlearn: 1587.9685356\ttotal: 17s\tremaining: 4.7s\n",
      "784:\tlearn: 1587.7761265\ttotal: 17.1s\tremaining: 4.67s\n",
      "785:\tlearn: 1587.6874055\ttotal: 17.1s\tremaining: 4.65s\n",
      "786:\tlearn: 1587.5497620\ttotal: 17.1s\tremaining: 4.63s\n",
      "787:\tlearn: 1587.4552332\ttotal: 17.1s\tremaining: 4.61s\n",
      "788:\tlearn: 1587.3741053\ttotal: 17.2s\tremaining: 4.59s\n",
      "789:\tlearn: 1587.1398779\ttotal: 17.2s\tremaining: 4.56s\n",
      "790:\tlearn: 1587.0070458\ttotal: 17.2s\tremaining: 4.54s\n",
      "791:\tlearn: 1586.8676494\ttotal: 17.2s\tremaining: 4.52s\n",
      "792:\tlearn: 1586.6751463\ttotal: 17.2s\tremaining: 4.5s\n",
      "793:\tlearn: 1586.5759109\ttotal: 17.3s\tremaining: 4.48s\n",
      "794:\tlearn: 1586.4047206\ttotal: 17.3s\tremaining: 4.46s\n",
      "795:\tlearn: 1586.3139856\ttotal: 17.3s\tremaining: 4.43s\n",
      "796:\tlearn: 1586.1560902\ttotal: 17.3s\tremaining: 4.41s\n",
      "797:\tlearn: 1585.9848486\ttotal: 17.3s\tremaining: 4.39s\n",
      "798:\tlearn: 1585.8689751\ttotal: 17.4s\tremaining: 4.37s\n",
      "799:\tlearn: 1585.7473196\ttotal: 17.4s\tremaining: 4.35s\n",
      "800:\tlearn: 1585.6569378\ttotal: 17.4s\tremaining: 4.33s\n",
      "801:\tlearn: 1585.5532524\ttotal: 17.4s\tremaining: 4.3s\n",
      "802:\tlearn: 1585.4880779\ttotal: 17.5s\tremaining: 4.28s\n",
      "803:\tlearn: 1585.3344026\ttotal: 17.5s\tremaining: 4.26s\n",
      "804:\tlearn: 1585.2946138\ttotal: 17.5s\tremaining: 4.24s\n",
      "805:\tlearn: 1585.1469048\ttotal: 17.5s\tremaining: 4.22s\n",
      "806:\tlearn: 1584.9808552\ttotal: 17.5s\tremaining: 4.2s\n",
      "807:\tlearn: 1584.7858580\ttotal: 17.6s\tremaining: 4.17s\n",
      "808:\tlearn: 1584.6834903\ttotal: 17.6s\tremaining: 4.15s\n",
      "809:\tlearn: 1584.6042206\ttotal: 17.6s\tremaining: 4.13s\n",
      "810:\tlearn: 1584.4941026\ttotal: 17.6s\tremaining: 4.11s\n",
      "811:\tlearn: 1584.3189830\ttotal: 17.7s\tremaining: 4.09s\n",
      "812:\tlearn: 1584.1758622\ttotal: 17.7s\tremaining: 4.07s\n",
      "813:\tlearn: 1584.0666515\ttotal: 17.7s\tremaining: 4.05s\n",
      "814:\tlearn: 1583.9077331\ttotal: 17.7s\tremaining: 4.03s\n",
      "815:\tlearn: 1583.8039773\ttotal: 17.8s\tremaining: 4s\n",
      "816:\tlearn: 1583.7060287\ttotal: 17.8s\tremaining: 3.98s\n",
      "817:\tlearn: 1583.5992317\ttotal: 17.8s\tremaining: 3.97s\n",
      "818:\tlearn: 1583.4777221\ttotal: 17.9s\tremaining: 3.95s\n",
      "819:\tlearn: 1583.3716764\ttotal: 17.9s\tremaining: 3.93s\n",
      "820:\tlearn: 1583.2509580\ttotal: 17.9s\tremaining: 3.91s\n",
      "821:\tlearn: 1583.1532356\ttotal: 18s\tremaining: 3.89s\n",
      "822:\tlearn: 1583.0569198\ttotal: 18s\tremaining: 3.87s\n",
      "823:\tlearn: 1582.9138446\ttotal: 18s\tremaining: 3.85s\n",
      "824:\tlearn: 1582.7850989\ttotal: 18s\tremaining: 3.83s\n",
      "825:\tlearn: 1582.6719323\ttotal: 18.1s\tremaining: 3.8s\n",
      "826:\tlearn: 1582.5131323\ttotal: 18.1s\tremaining: 3.78s\n",
      "827:\tlearn: 1582.3964566\ttotal: 18.1s\tremaining: 3.76s\n",
      "828:\tlearn: 1582.3102030\ttotal: 18.1s\tremaining: 3.74s\n",
      "829:\tlearn: 1582.2154626\ttotal: 18.1s\tremaining: 3.72s\n",
      "830:\tlearn: 1582.1162761\ttotal: 18.2s\tremaining: 3.69s\n",
      "831:\tlearn: 1581.9969117\ttotal: 18.2s\tremaining: 3.67s\n",
      "832:\tlearn: 1581.9059316\ttotal: 18.2s\tremaining: 3.65s\n",
      "833:\tlearn: 1581.7060981\ttotal: 18.2s\tremaining: 3.63s\n",
      "834:\tlearn: 1581.5616175\ttotal: 18.3s\tremaining: 3.61s\n",
      "835:\tlearn: 1581.4558313\ttotal: 18.3s\tremaining: 3.58s\n",
      "836:\tlearn: 1581.3079545\ttotal: 18.3s\tremaining: 3.56s\n",
      "837:\tlearn: 1581.2070391\ttotal: 18.3s\tremaining: 3.54s\n",
      "838:\tlearn: 1581.0784984\ttotal: 18.3s\tremaining: 3.52s\n",
      "839:\tlearn: 1580.9661292\ttotal: 18.4s\tremaining: 3.5s\n",
      "840:\tlearn: 1580.8055812\ttotal: 18.4s\tremaining: 3.47s\n",
      "841:\tlearn: 1580.6751822\ttotal: 18.4s\tremaining: 3.45s\n",
      "842:\tlearn: 1580.5554028\ttotal: 18.4s\tremaining: 3.43s\n",
      "843:\tlearn: 1580.4419661\ttotal: 18.4s\tremaining: 3.41s\n",
      "844:\tlearn: 1580.3544093\ttotal: 18.5s\tremaining: 3.39s\n",
      "845:\tlearn: 1580.2307263\ttotal: 18.5s\tremaining: 3.37s\n",
      "846:\tlearn: 1580.1307747\ttotal: 18.5s\tremaining: 3.34s\n",
      "847:\tlearn: 1580.0375209\ttotal: 18.5s\tremaining: 3.32s\n",
      "848:\tlearn: 1579.8630603\ttotal: 18.5s\tremaining: 3.3s\n",
      "849:\tlearn: 1579.7340929\ttotal: 18.6s\tremaining: 3.28s\n",
      "850:\tlearn: 1579.6379561\ttotal: 18.6s\tremaining: 3.25s\n",
      "851:\tlearn: 1579.5387414\ttotal: 18.6s\tremaining: 3.23s\n",
      "852:\tlearn: 1579.4665975\ttotal: 18.6s\tremaining: 3.21s\n",
      "853:\tlearn: 1579.3733405\ttotal: 18.6s\tremaining: 3.19s\n",
      "854:\tlearn: 1579.2843603\ttotal: 18.7s\tremaining: 3.17s\n",
      "855:\tlearn: 1579.2133535\ttotal: 18.7s\tremaining: 3.14s\n",
      "856:\tlearn: 1579.1676558\ttotal: 18.7s\tremaining: 3.12s\n",
      "857:\tlearn: 1579.1488159\ttotal: 18.7s\tremaining: 3.1s\n",
      "858:\tlearn: 1579.0153968\ttotal: 18.8s\tremaining: 3.08s\n",
      "859:\tlearn: 1578.8766140\ttotal: 18.8s\tremaining: 3.06s\n",
      "860:\tlearn: 1578.7224156\ttotal: 18.8s\tremaining: 3.03s\n",
      "861:\tlearn: 1578.6226009\ttotal: 18.8s\tremaining: 3.01s\n",
      "862:\tlearn: 1578.5019087\ttotal: 18.8s\tremaining: 2.99s\n",
      "863:\tlearn: 1578.4658214\ttotal: 18.9s\tremaining: 2.97s\n",
      "864:\tlearn: 1578.3350016\ttotal: 18.9s\tremaining: 2.94s\n",
      "865:\tlearn: 1578.2482236\ttotal: 18.9s\tremaining: 2.92s\n",
      "866:\tlearn: 1578.1022801\ttotal: 18.9s\tremaining: 2.9s\n",
      "867:\tlearn: 1577.9798165\ttotal: 18.9s\tremaining: 2.88s\n",
      "868:\tlearn: 1577.8634153\ttotal: 19s\tremaining: 2.86s\n",
      "869:\tlearn: 1577.7845295\ttotal: 19s\tremaining: 2.83s\n",
      "870:\tlearn: 1577.6918570\ttotal: 19s\tremaining: 2.81s\n",
      "871:\tlearn: 1577.6315471\ttotal: 19s\tremaining: 2.79s\n",
      "872:\tlearn: 1577.4437413\ttotal: 19s\tremaining: 2.77s\n",
      "873:\tlearn: 1577.3449284\ttotal: 19.1s\tremaining: 2.75s\n",
      "874:\tlearn: 1577.2421944\ttotal: 19.1s\tremaining: 2.73s\n",
      "875:\tlearn: 1577.1650547\ttotal: 19.1s\tremaining: 2.7s\n",
      "876:\tlearn: 1577.0099377\ttotal: 19.1s\tremaining: 2.68s\n",
      "877:\tlearn: 1576.9045833\ttotal: 19.1s\tremaining: 2.66s\n",
      "878:\tlearn: 1576.7867911\ttotal: 19.2s\tremaining: 2.64s\n",
      "879:\tlearn: 1576.6329457\ttotal: 19.2s\tremaining: 2.62s\n",
      "880:\tlearn: 1576.5146174\ttotal: 19.2s\tremaining: 2.59s\n",
      "881:\tlearn: 1576.3879797\ttotal: 19.2s\tremaining: 2.57s\n",
      "882:\tlearn: 1576.3182074\ttotal: 19.2s\tremaining: 2.55s\n",
      "883:\tlearn: 1576.1891663\ttotal: 19.3s\tremaining: 2.53s\n",
      "884:\tlearn: 1576.1115634\ttotal: 19.3s\tremaining: 2.5s\n",
      "885:\tlearn: 1575.9780518\ttotal: 19.3s\tremaining: 2.48s\n",
      "886:\tlearn: 1575.8798525\ttotal: 19.3s\tremaining: 2.46s\n",
      "887:\tlearn: 1575.7156125\ttotal: 19.3s\tremaining: 2.44s\n",
      "888:\tlearn: 1575.6185884\ttotal: 19.4s\tremaining: 2.42s\n",
      "889:\tlearn: 1575.4719193\ttotal: 19.4s\tremaining: 2.39s\n",
      "890:\tlearn: 1575.3207148\ttotal: 19.4s\tremaining: 2.37s\n",
      "891:\tlearn: 1575.2480765\ttotal: 19.4s\tremaining: 2.35s\n",
      "892:\tlearn: 1575.1624456\ttotal: 19.4s\tremaining: 2.33s\n",
      "893:\tlearn: 1575.0551103\ttotal: 19.5s\tremaining: 2.31s\n",
      "894:\tlearn: 1574.8961083\ttotal: 19.5s\tremaining: 2.29s\n",
      "895:\tlearn: 1574.7820428\ttotal: 19.5s\tremaining: 2.26s\n",
      "896:\tlearn: 1574.6781017\ttotal: 19.5s\tremaining: 2.24s\n",
      "897:\tlearn: 1574.6195270\ttotal: 19.5s\tremaining: 2.22s\n",
      "898:\tlearn: 1574.5428647\ttotal: 19.6s\tremaining: 2.2s\n",
      "899:\tlearn: 1574.4512740\ttotal: 19.6s\tremaining: 2.17s\n",
      "900:\tlearn: 1574.2834339\ttotal: 19.6s\tremaining: 2.15s\n",
      "901:\tlearn: 1574.1764267\ttotal: 19.6s\tremaining: 2.13s\n",
      "902:\tlearn: 1574.1096628\ttotal: 19.6s\tremaining: 2.11s\n",
      "903:\tlearn: 1573.9961108\ttotal: 19.7s\tremaining: 2.09s\n",
      "904:\tlearn: 1573.8807141\ttotal: 19.7s\tremaining: 2.06s\n",
      "905:\tlearn: 1573.7847126\ttotal: 19.7s\tremaining: 2.04s\n",
      "906:\tlearn: 1573.6479447\ttotal: 19.7s\tremaining: 2.02s\n",
      "907:\tlearn: 1573.5883403\ttotal: 19.7s\tremaining: 2s\n",
      "908:\tlearn: 1573.4989914\ttotal: 19.8s\tremaining: 1.98s\n",
      "909:\tlearn: 1573.3558558\ttotal: 19.8s\tremaining: 1.96s\n",
      "910:\tlearn: 1573.2437226\ttotal: 19.8s\tremaining: 1.93s\n",
      "911:\tlearn: 1573.1534191\ttotal: 19.8s\tremaining: 1.91s\n",
      "912:\tlearn: 1573.0721685\ttotal: 19.8s\tremaining: 1.89s\n",
      "913:\tlearn: 1572.9926858\ttotal: 19.9s\tremaining: 1.87s\n",
      "914:\tlearn: 1572.8974082\ttotal: 19.9s\tremaining: 1.85s\n",
      "915:\tlearn: 1572.8275833\ttotal: 19.9s\tremaining: 1.82s\n",
      "916:\tlearn: 1572.7676337\ttotal: 19.9s\tremaining: 1.8s\n",
      "917:\tlearn: 1572.6437843\ttotal: 19.9s\tremaining: 1.78s\n",
      "918:\tlearn: 1572.5058605\ttotal: 20s\tremaining: 1.76s\n",
      "919:\tlearn: 1572.3553217\ttotal: 20s\tremaining: 1.74s\n",
      "920:\tlearn: 1572.2426852\ttotal: 20s\tremaining: 1.72s\n",
      "921:\tlearn: 1572.1856942\ttotal: 20s\tremaining: 1.69s\n",
      "922:\tlearn: 1572.0638784\ttotal: 20.1s\tremaining: 1.67s\n",
      "923:\tlearn: 1571.9104489\ttotal: 20.1s\tremaining: 1.65s\n",
      "924:\tlearn: 1571.7725151\ttotal: 20.1s\tremaining: 1.63s\n",
      "925:\tlearn: 1571.6906892\ttotal: 20.1s\tremaining: 1.61s\n",
      "926:\tlearn: 1571.6020912\ttotal: 20.1s\tremaining: 1.59s\n",
      "927:\tlearn: 1571.5277141\ttotal: 20.2s\tremaining: 1.56s\n",
      "928:\tlearn: 1571.3997620\ttotal: 20.2s\tremaining: 1.54s\n",
      "929:\tlearn: 1571.3045157\ttotal: 20.2s\tremaining: 1.52s\n",
      "930:\tlearn: 1571.2191705\ttotal: 20.2s\tremaining: 1.5s\n",
      "931:\tlearn: 1571.1248143\ttotal: 20.3s\tremaining: 1.48s\n",
      "932:\tlearn: 1571.0543330\ttotal: 20.3s\tremaining: 1.46s\n",
      "933:\tlearn: 1570.9802167\ttotal: 20.3s\tremaining: 1.43s\n",
      "934:\tlearn: 1570.9250537\ttotal: 20.3s\tremaining: 1.41s\n",
      "935:\tlearn: 1570.8925212\ttotal: 20.3s\tremaining: 1.39s\n",
      "936:\tlearn: 1570.7964958\ttotal: 20.4s\tremaining: 1.37s\n",
      "937:\tlearn: 1570.6959741\ttotal: 20.4s\tremaining: 1.35s\n",
      "938:\tlearn: 1570.4875155\ttotal: 20.4s\tremaining: 1.32s\n",
      "939:\tlearn: 1570.2572023\ttotal: 20.4s\tremaining: 1.3s\n",
      "940:\tlearn: 1570.1883890\ttotal: 20.4s\tremaining: 1.28s\n",
      "941:\tlearn: 1570.0546723\ttotal: 20.5s\tremaining: 1.26s\n",
      "942:\tlearn: 1569.9628748\ttotal: 20.5s\tremaining: 1.24s\n",
      "943:\tlearn: 1569.8351390\ttotal: 20.5s\tremaining: 1.22s\n",
      "944:\tlearn: 1569.7157406\ttotal: 20.5s\tremaining: 1.19s\n",
      "945:\tlearn: 1569.6446959\ttotal: 20.5s\tremaining: 1.17s\n",
      "946:\tlearn: 1569.6075507\ttotal: 20.6s\tremaining: 1.15s\n",
      "947:\tlearn: 1569.5125113\ttotal: 20.6s\tremaining: 1.13s\n",
      "948:\tlearn: 1569.4055972\ttotal: 20.6s\tremaining: 1.11s\n",
      "949:\tlearn: 1569.3100096\ttotal: 20.6s\tremaining: 1.08s\n",
      "950:\tlearn: 1569.2430098\ttotal: 20.6s\tremaining: 1.06s\n",
      "951:\tlearn: 1569.1545247\ttotal: 20.7s\tremaining: 1.04s\n",
      "952:\tlearn: 1569.0563130\ttotal: 20.7s\tremaining: 1.02s\n",
      "953:\tlearn: 1568.9404615\ttotal: 20.7s\tremaining: 999ms\n",
      "954:\tlearn: 1568.8473250\ttotal: 20.7s\tremaining: 977ms\n",
      "955:\tlearn: 1568.7335183\ttotal: 20.8s\tremaining: 955ms\n",
      "956:\tlearn: 1568.6578708\ttotal: 20.8s\tremaining: 934ms\n",
      "957:\tlearn: 1568.5966420\ttotal: 20.8s\tremaining: 912ms\n",
      "958:\tlearn: 1568.5193547\ttotal: 20.8s\tremaining: 890ms\n",
      "959:\tlearn: 1568.3798063\ttotal: 20.8s\tremaining: 868ms\n",
      "960:\tlearn: 1568.2878459\ttotal: 20.9s\tremaining: 847ms\n",
      "961:\tlearn: 1568.1966287\ttotal: 20.9s\tremaining: 825ms\n",
      "962:\tlearn: 1568.0953061\ttotal: 20.9s\tremaining: 803ms\n",
      "963:\tlearn: 1568.0017327\ttotal: 20.9s\tremaining: 781ms\n",
      "964:\tlearn: 1567.9112174\ttotal: 20.9s\tremaining: 760ms\n",
      "965:\tlearn: 1567.8494241\ttotal: 21s\tremaining: 738ms\n",
      "966:\tlearn: 1567.7432409\ttotal: 21s\tremaining: 716ms\n",
      "967:\tlearn: 1567.7152489\ttotal: 21s\tremaining: 694ms\n",
      "968:\tlearn: 1567.6410185\ttotal: 21s\tremaining: 673ms\n",
      "969:\tlearn: 1567.5192968\ttotal: 21s\tremaining: 651ms\n",
      "970:\tlearn: 1567.4041416\ttotal: 21.1s\tremaining: 629ms\n",
      "971:\tlearn: 1567.3558507\ttotal: 21.1s\tremaining: 607ms\n",
      "972:\tlearn: 1567.2444462\ttotal: 21.1s\tremaining: 586ms\n",
      "973:\tlearn: 1567.1699605\ttotal: 21.1s\tremaining: 564ms\n",
      "974:\tlearn: 1567.0708025\ttotal: 21.1s\tremaining: 542ms\n",
      "975:\tlearn: 1566.9448072\ttotal: 21.2s\tremaining: 520ms\n",
      "976:\tlearn: 1566.8885069\ttotal: 21.2s\tremaining: 499ms\n",
      "977:\tlearn: 1566.7313003\ttotal: 21.2s\tremaining: 477ms\n",
      "978:\tlearn: 1566.6136391\ttotal: 21.2s\tremaining: 455ms\n",
      "979:\tlearn: 1566.4148399\ttotal: 21.3s\tremaining: 434ms\n",
      "980:\tlearn: 1566.2752312\ttotal: 21.3s\tremaining: 412ms\n",
      "981:\tlearn: 1566.1643921\ttotal: 21.3s\tremaining: 390ms\n",
      "982:\tlearn: 1566.0758278\ttotal: 21.3s\tremaining: 369ms\n",
      "983:\tlearn: 1566.0375905\ttotal: 21.3s\tremaining: 347ms\n",
      "984:\tlearn: 1565.9428175\ttotal: 21.3s\tremaining: 325ms\n",
      "985:\tlearn: 1565.8386026\ttotal: 21.4s\tremaining: 303ms\n",
      "986:\tlearn: 1565.7265779\ttotal: 21.4s\tremaining: 282ms\n",
      "987:\tlearn: 1565.6057680\ttotal: 21.4s\tremaining: 260ms\n",
      "988:\tlearn: 1565.5844169\ttotal: 21.4s\tremaining: 238ms\n",
      "989:\tlearn: 1565.5054151\ttotal: 21.5s\tremaining: 217ms\n",
      "990:\tlearn: 1565.3455463\ttotal: 21.5s\tremaining: 195ms\n",
      "991:\tlearn: 1565.2793507\ttotal: 21.5s\tremaining: 173ms\n",
      "992:\tlearn: 1565.1783916\ttotal: 21.5s\tremaining: 152ms\n",
      "993:\tlearn: 1565.0417837\ttotal: 21.5s\tremaining: 130ms\n",
      "994:\tlearn: 1564.9470445\ttotal: 21.6s\tremaining: 108ms\n",
      "995:\tlearn: 1564.8236345\ttotal: 21.6s\tremaining: 86.6ms\n",
      "996:\tlearn: 1564.7435250\ttotal: 21.6s\tremaining: 65ms\n",
      "997:\tlearn: 1564.6834154\ttotal: 21.6s\tremaining: 43.3ms\n",
      "998:\tlearn: 1564.5766615\ttotal: 21.6s\tremaining: 21.7ms\n",
      "999:\tlearn: 1564.3349402\ttotal: 21.7s\tremaining: 0us\n",
      "CPU times: user 22.9 s, sys: 174 ms, total: 23 s\n",
      "Wall time: 24 s\n"
     ]
    },
    {
     "data": {
      "text/plain": [
       "<catboost.core.CatBoostRegressor at 0x7fd40194d430>"
      ]
     },
     "execution_count": 39,
     "metadata": {},
     "output_type": "execute_result"
    }
   ],
   "source": [
    "%%time\n",
    "\n",
    "#model_cbr = CatBoostRegressor(learning_rate=.5, random_state=12345, verbose=False)\n",
    "model_cbr.fit(features_train_ohe, target_train_ohe)"
   ]
  },
  {
   "cell_type": "code",
   "execution_count": 40,
   "metadata": {},
   "outputs": [
    {
     "name": "stdout",
     "output_type": "stream",
     "text": [
      "CPU times: user 386 ms, sys: 350 µs, total: 387 ms\n",
      "Wall time: 385 ms\n"
     ]
    }
   ],
   "source": [
    "%%time\n",
    "\n",
    "target_predict = model_cbr.predict(features_train_ohe)"
   ]
  },
  {
   "cell_type": "markdown",
   "metadata": {},
   "source": [
    "На выборках c OE:"
   ]
  },
  {
   "cell_type": "code",
   "execution_count": 42,
   "metadata": {},
   "outputs": [
    {
     "name": "stdout",
     "output_type": "stream",
     "text": [
      "{'learning_rate': 0.5, 'random_state': 12345, 'verbose': False}\n",
      "CPU times: user 5min, sys: 2.1 s, total: 5min 2s\n",
      "Wall time: 5min 20s\n"
     ]
    },
    {
     "data": {
      "text/plain": [
       "1617.645024723503"
      ]
     },
     "execution_count": 42,
     "metadata": {},
     "output_type": "execute_result"
    }
   ],
   "source": [
    "%%time\n",
    "\n",
    "model_cbr = CatBoostRegressor() \n",
    "parameters = [{'learning_rate':[.1, .5, .8], 'random_state':[12345], 'verbose':[False]}]\n",
    "\n",
    "gscv = GridSearchCV(model_cbr, parameters, scoring='neg_mean_squared_error')\n",
    "gscv.fit(features_train_oe, target_train_oe)\n",
    "\n",
    "print(gscv.best_params_)\n",
    "\n",
    "mts = gscv.cv_results_['mean_test_score']\n",
    "    \n",
    "gscv_rsme_cbr_oe = (max(mts) * -1) ** .5\n",
    "gscv_rsme_cbr_oe"
   ]
  },
  {
   "cell_type": "code",
   "execution_count": 43,
   "metadata": {},
   "outputs": [
    {
     "name": "stdout",
     "output_type": "stream",
     "text": [
      "Learning rate set to 0.09333\n",
      "0:\tlearn: 4367.2389618\ttotal: 44.2ms\tremaining: 44.2s\n",
      "1:\tlearn: 4117.0743703\ttotal: 81.3ms\tremaining: 40.6s\n",
      "2:\tlearn: 3893.9738218\ttotal: 115ms\tremaining: 38.3s\n",
      "3:\tlearn: 3691.4032976\ttotal: 150ms\tremaining: 37.3s\n",
      "4:\tlearn: 3512.9554013\ttotal: 174ms\tremaining: 34.5s\n",
      "5:\tlearn: 3353.3942169\ttotal: 196ms\tremaining: 32.5s\n",
      "6:\tlearn: 3210.7303418\ttotal: 221ms\tremaining: 31.3s\n",
      "7:\tlearn: 3084.4348676\ttotal: 245ms\tremaining: 30.3s\n",
      "8:\tlearn: 2972.6429916\ttotal: 269ms\tremaining: 29.6s\n",
      "9:\tlearn: 2875.4033946\ttotal: 291ms\tremaining: 28.8s\n",
      "10:\tlearn: 2790.3021324\ttotal: 318ms\tremaining: 28.5s\n",
      "11:\tlearn: 2710.3227326\ttotal: 346ms\tremaining: 28.5s\n",
      "12:\tlearn: 2644.2444945\ttotal: 373ms\tremaining: 28.3s\n",
      "13:\tlearn: 2586.2279279\ttotal: 399ms\tremaining: 28.1s\n",
      "14:\tlearn: 2533.8210947\ttotal: 424ms\tremaining: 27.9s\n",
      "15:\tlearn: 2485.3632587\ttotal: 449ms\tremaining: 27.6s\n",
      "16:\tlearn: 2437.9341822\ttotal: 479ms\tremaining: 27.7s\n",
      "17:\tlearn: 2401.5548548\ttotal: 516ms\tremaining: 28.2s\n",
      "18:\tlearn: 2367.7246747\ttotal: 541ms\tremaining: 27.9s\n",
      "19:\tlearn: 2334.6195305\ttotal: 567ms\tremaining: 27.8s\n",
      "20:\tlearn: 2306.4879927\ttotal: 592ms\tremaining: 27.6s\n",
      "21:\tlearn: 2278.3396633\ttotal: 618ms\tremaining: 27.5s\n",
      "22:\tlearn: 2254.8771555\ttotal: 651ms\tremaining: 27.6s\n",
      "23:\tlearn: 2232.8972990\ttotal: 686ms\tremaining: 27.9s\n",
      "24:\tlearn: 2214.0943015\ttotal: 726ms\tremaining: 28.3s\n",
      "25:\tlearn: 2191.4456532\ttotal: 771ms\tremaining: 28.9s\n",
      "26:\tlearn: 2174.5832962\ttotal: 811ms\tremaining: 29.2s\n",
      "27:\tlearn: 2158.0813629\ttotal: 853ms\tremaining: 29.6s\n",
      "28:\tlearn: 2141.9667391\ttotal: 895ms\tremaining: 30s\n",
      "29:\tlearn: 2125.9680098\ttotal: 939ms\tremaining: 30.4s\n",
      "30:\tlearn: 2114.3061494\ttotal: 972ms\tremaining: 30.4s\n",
      "31:\tlearn: 2101.8897371\ttotal: 997ms\tremaining: 30.1s\n",
      "32:\tlearn: 2088.5384853\ttotal: 1.02s\tremaining: 30s\n",
      "33:\tlearn: 2077.4983614\ttotal: 1.05s\tremaining: 29.8s\n",
      "34:\tlearn: 2069.3106355\ttotal: 1.07s\tremaining: 29.5s\n",
      "35:\tlearn: 2056.4238048\ttotal: 1.1s\tremaining: 29.6s\n",
      "36:\tlearn: 2045.2454431\ttotal: 1.13s\tremaining: 29.5s\n",
      "37:\tlearn: 2038.3656494\ttotal: 1.16s\tremaining: 29.3s\n",
      "38:\tlearn: 2031.3345244\ttotal: 1.19s\tremaining: 29.2s\n",
      "39:\tlearn: 2023.9641499\ttotal: 1.21s\tremaining: 29.1s\n",
      "40:\tlearn: 2016.9063875\ttotal: 1.24s\tremaining: 28.9s\n",
      "41:\tlearn: 2009.6945257\ttotal: 1.26s\tremaining: 28.8s\n",
      "42:\tlearn: 2003.6441726\ttotal: 1.29s\tremaining: 28.8s\n",
      "43:\tlearn: 1995.4768434\ttotal: 1.34s\tremaining: 29.1s\n",
      "44:\tlearn: 1990.2440086\ttotal: 1.36s\tremaining: 28.9s\n",
      "45:\tlearn: 1984.9669738\ttotal: 1.39s\tremaining: 28.8s\n",
      "46:\tlearn: 1979.3530882\ttotal: 1.41s\tremaining: 28.7s\n",
      "47:\tlearn: 1973.7349228\ttotal: 1.44s\tremaining: 28.5s\n",
      "48:\tlearn: 1969.1345669\ttotal: 1.46s\tremaining: 28.4s\n",
      "49:\tlearn: 1963.7830662\ttotal: 1.49s\tremaining: 28.3s\n",
      "50:\tlearn: 1959.7282951\ttotal: 1.51s\tremaining: 28.2s\n",
      "51:\tlearn: 1956.3599293\ttotal: 1.54s\tremaining: 28s\n",
      "52:\tlearn: 1952.6474985\ttotal: 1.56s\tremaining: 27.9s\n",
      "53:\tlearn: 1949.0131307\ttotal: 1.58s\tremaining: 27.8s\n",
      "54:\tlearn: 1945.8155730\ttotal: 1.61s\tremaining: 27.6s\n",
      "55:\tlearn: 1940.0030501\ttotal: 1.63s\tremaining: 27.5s\n",
      "56:\tlearn: 1934.2347412\ttotal: 1.66s\tremaining: 27.4s\n",
      "57:\tlearn: 1930.7165629\ttotal: 1.68s\tremaining: 27.3s\n",
      "58:\tlearn: 1927.2099055\ttotal: 1.71s\tremaining: 27.2s\n",
      "59:\tlearn: 1924.4478371\ttotal: 1.73s\tremaining: 27.1s\n",
      "60:\tlearn: 1922.0263449\ttotal: 1.75s\tremaining: 27s\n",
      "61:\tlearn: 1917.2100532\ttotal: 1.78s\tremaining: 27s\n",
      "62:\tlearn: 1913.2893450\ttotal: 1.82s\tremaining: 27.1s\n",
      "63:\tlearn: 1909.9451238\ttotal: 1.84s\tremaining: 27s\n",
      "64:\tlearn: 1907.6113521\ttotal: 1.87s\tremaining: 26.9s\n",
      "65:\tlearn: 1904.3902969\ttotal: 1.91s\tremaining: 27s\n",
      "66:\tlearn: 1901.1228787\ttotal: 1.94s\tremaining: 27.1s\n",
      "67:\tlearn: 1899.0848598\ttotal: 1.98s\tremaining: 27.1s\n",
      "68:\tlearn: 1896.0582564\ttotal: 2.01s\tremaining: 27.1s\n",
      "69:\tlearn: 1893.8427404\ttotal: 2.03s\tremaining: 27s\n",
      "70:\tlearn: 1891.4724782\ttotal: 2.07s\tremaining: 27s\n",
      "71:\tlearn: 1889.6920341\ttotal: 2.09s\tremaining: 27s\n",
      "72:\tlearn: 1886.8269129\ttotal: 2.12s\tremaining: 26.9s\n",
      "73:\tlearn: 1884.2862412\ttotal: 2.14s\tremaining: 26.8s\n",
      "74:\tlearn: 1881.2052552\ttotal: 2.17s\tremaining: 26.7s\n",
      "75:\tlearn: 1877.7246073\ttotal: 2.19s\tremaining: 26.6s\n",
      "76:\tlearn: 1874.6476441\ttotal: 2.22s\tremaining: 26.6s\n",
      "77:\tlearn: 1870.8859537\ttotal: 2.24s\tremaining: 26.5s\n",
      "78:\tlearn: 1868.2656913\ttotal: 2.27s\tremaining: 26.5s\n",
      "79:\tlearn: 1865.8759685\ttotal: 2.29s\tremaining: 26.4s\n",
      "80:\tlearn: 1864.4514784\ttotal: 2.32s\tremaining: 26.3s\n",
      "81:\tlearn: 1862.9957979\ttotal: 2.34s\tremaining: 26.2s\n",
      "82:\tlearn: 1861.0806244\ttotal: 2.37s\tremaining: 26.2s\n",
      "83:\tlearn: 1859.5950398\ttotal: 2.4s\tremaining: 26.1s\n",
      "84:\tlearn: 1857.9034568\ttotal: 2.42s\tremaining: 26.1s\n",
      "85:\tlearn: 1856.3040518\ttotal: 2.44s\tremaining: 26s\n",
      "86:\tlearn: 1854.9028655\ttotal: 2.47s\tremaining: 25.9s\n",
      "87:\tlearn: 1853.2573200\ttotal: 2.49s\tremaining: 25.8s\n",
      "88:\tlearn: 1851.5981676\ttotal: 2.52s\tremaining: 25.8s\n",
      "89:\tlearn: 1850.5381144\ttotal: 2.54s\tremaining: 25.7s\n",
      "90:\tlearn: 1849.1746711\ttotal: 2.56s\tremaining: 25.6s\n",
      "91:\tlearn: 1848.0519452\ttotal: 2.59s\tremaining: 25.5s\n",
      "92:\tlearn: 1845.8375716\ttotal: 2.61s\tremaining: 25.5s\n",
      "93:\tlearn: 1844.3884191\ttotal: 2.63s\tremaining: 25.4s\n",
      "94:\tlearn: 1841.5634554\ttotal: 2.66s\tremaining: 25.3s\n",
      "95:\tlearn: 1840.3463046\ttotal: 2.68s\tremaining: 25.3s\n",
      "96:\tlearn: 1838.7144334\ttotal: 2.71s\tremaining: 25.2s\n",
      "97:\tlearn: 1836.3209181\ttotal: 2.73s\tremaining: 25.2s\n",
      "98:\tlearn: 1834.5745039\ttotal: 2.76s\tremaining: 25.1s\n",
      "99:\tlearn: 1831.9455402\ttotal: 2.79s\tremaining: 25.1s\n",
      "100:\tlearn: 1830.9405567\ttotal: 2.81s\tremaining: 25s\n",
      "101:\tlearn: 1829.1838263\ttotal: 2.84s\tremaining: 25s\n",
      "102:\tlearn: 1827.1609802\ttotal: 2.87s\tremaining: 25s\n",
      "103:\tlearn: 1825.3603505\ttotal: 2.89s\tremaining: 24.9s\n",
      "104:\tlearn: 1824.2741811\ttotal: 2.92s\tremaining: 24.9s\n",
      "105:\tlearn: 1823.1269306\ttotal: 2.94s\tremaining: 24.8s\n",
      "106:\tlearn: 1821.7490279\ttotal: 2.98s\tremaining: 24.9s\n",
      "107:\tlearn: 1820.0430444\ttotal: 3.02s\tremaining: 24.9s\n",
      "108:\tlearn: 1819.1264556\ttotal: 3.06s\tremaining: 25s\n",
      "109:\tlearn: 1817.4271310\ttotal: 3.09s\tremaining: 25s\n",
      "110:\tlearn: 1815.2305539\ttotal: 3.12s\tremaining: 25s\n",
      "111:\tlearn: 1814.0350311\ttotal: 3.14s\tremaining: 24.9s\n",
      "112:\tlearn: 1812.5526981\ttotal: 3.17s\tremaining: 24.9s\n",
      "113:\tlearn: 1811.2150744\ttotal: 3.19s\tremaining: 24.8s\n",
      "114:\tlearn: 1809.8844749\ttotal: 3.22s\tremaining: 24.8s\n",
      "115:\tlearn: 1808.6240687\ttotal: 3.24s\tremaining: 24.7s\n",
      "116:\tlearn: 1807.6744281\ttotal: 3.27s\tremaining: 24.7s\n",
      "117:\tlearn: 1806.3044517\ttotal: 3.3s\tremaining: 24.7s\n",
      "118:\tlearn: 1805.6204021\ttotal: 3.32s\tremaining: 24.6s\n",
      "119:\tlearn: 1804.7699587\ttotal: 3.35s\tremaining: 24.6s\n",
      "120:\tlearn: 1803.4663039\ttotal: 3.39s\tremaining: 24.6s\n",
      "121:\tlearn: 1802.3757891\ttotal: 3.41s\tremaining: 24.5s\n",
      "122:\tlearn: 1800.5821165\ttotal: 3.44s\tremaining: 24.5s\n",
      "123:\tlearn: 1799.1563283\ttotal: 3.46s\tremaining: 24.5s\n",
      "124:\tlearn: 1797.5577573\ttotal: 3.49s\tremaining: 24.4s\n",
      "125:\tlearn: 1796.6583886\ttotal: 3.52s\tremaining: 24.4s\n",
      "126:\tlearn: 1795.9737337\ttotal: 3.55s\tremaining: 24.4s\n",
      "127:\tlearn: 1794.9810750\ttotal: 3.57s\tremaining: 24.3s\n",
      "128:\tlearn: 1793.6285046\ttotal: 3.6s\tremaining: 24.3s\n",
      "129:\tlearn: 1792.6454795\ttotal: 3.63s\tremaining: 24.3s\n",
      "130:\tlearn: 1791.9227595\ttotal: 3.65s\tremaining: 24.2s\n",
      "131:\tlearn: 1791.2482504\ttotal: 3.68s\tremaining: 24.2s\n",
      "132:\tlearn: 1790.1540825\ttotal: 3.71s\tremaining: 24.2s\n",
      "133:\tlearn: 1789.3639283\ttotal: 3.73s\tremaining: 24.1s\n",
      "134:\tlearn: 1788.5261194\ttotal: 3.77s\tremaining: 24.1s\n",
      "135:\tlearn: 1786.9166702\ttotal: 3.8s\tremaining: 24.1s\n",
      "136:\tlearn: 1785.9698550\ttotal: 3.83s\tremaining: 24.1s\n",
      "137:\tlearn: 1785.1121080\ttotal: 3.85s\tremaining: 24.1s\n",
      "138:\tlearn: 1784.4569677\ttotal: 3.88s\tremaining: 24.1s\n",
      "139:\tlearn: 1783.4277172\ttotal: 3.91s\tremaining: 24s\n",
      "140:\tlearn: 1782.7303613\ttotal: 3.94s\tremaining: 24s\n",
      "141:\tlearn: 1781.9250957\ttotal: 3.97s\tremaining: 24s\n",
      "142:\tlearn: 1780.7706445\ttotal: 4s\tremaining: 24s\n",
      "143:\tlearn: 1779.7221869\ttotal: 4.02s\tremaining: 23.9s\n",
      "144:\tlearn: 1779.0258584\ttotal: 4.04s\tremaining: 23.8s\n",
      "145:\tlearn: 1778.1590872\ttotal: 4.07s\tremaining: 23.8s\n",
      "146:\tlearn: 1776.8687649\ttotal: 4.09s\tremaining: 23.8s\n",
      "147:\tlearn: 1775.8652674\ttotal: 4.13s\tremaining: 23.7s\n",
      "148:\tlearn: 1774.5628322\ttotal: 4.15s\tremaining: 23.7s\n",
      "149:\tlearn: 1773.8877470\ttotal: 4.17s\tremaining: 23.7s\n",
      "150:\tlearn: 1772.9555259\ttotal: 4.2s\tremaining: 23.6s\n",
      "151:\tlearn: 1772.0491713\ttotal: 4.22s\tremaining: 23.6s\n",
      "152:\tlearn: 1771.3688692\ttotal: 4.25s\tremaining: 23.5s\n",
      "153:\tlearn: 1769.9609555\ttotal: 4.27s\tremaining: 23.5s\n",
      "154:\tlearn: 1768.3306295\ttotal: 4.3s\tremaining: 23.4s\n",
      "155:\tlearn: 1767.3184503\ttotal: 4.33s\tremaining: 23.4s\n",
      "156:\tlearn: 1766.3169383\ttotal: 4.36s\tremaining: 23.4s\n",
      "157:\tlearn: 1765.6477415\ttotal: 4.38s\tremaining: 23.4s\n",
      "158:\tlearn: 1765.0995564\ttotal: 4.41s\tremaining: 23.3s\n",
      "159:\tlearn: 1764.3752193\ttotal: 4.44s\tremaining: 23.3s\n",
      "160:\tlearn: 1763.6828495\ttotal: 4.46s\tremaining: 23.3s\n",
      "161:\tlearn: 1763.1802235\ttotal: 4.49s\tremaining: 23.2s\n",
      "162:\tlearn: 1762.7527418\ttotal: 4.51s\tremaining: 23.2s\n",
      "163:\tlearn: 1761.9826490\ttotal: 4.54s\tremaining: 23.1s\n",
      "164:\tlearn: 1761.1198592\ttotal: 4.57s\tremaining: 23.1s\n",
      "165:\tlearn: 1760.3075957\ttotal: 4.59s\tremaining: 23.1s\n",
      "166:\tlearn: 1759.8229593\ttotal: 4.62s\tremaining: 23s\n",
      "167:\tlearn: 1758.9168138\ttotal: 4.64s\tremaining: 23s\n",
      "168:\tlearn: 1758.3168513\ttotal: 4.66s\tremaining: 22.9s\n",
      "169:\tlearn: 1757.5151113\ttotal: 4.69s\tremaining: 22.9s\n",
      "170:\tlearn: 1757.0060202\ttotal: 4.71s\tremaining: 22.9s\n",
      "171:\tlearn: 1755.8643418\ttotal: 4.74s\tremaining: 22.8s\n",
      "172:\tlearn: 1755.2049476\ttotal: 4.77s\tremaining: 22.8s\n",
      "173:\tlearn: 1754.0759990\ttotal: 4.8s\tremaining: 22.8s\n",
      "174:\tlearn: 1753.5417920\ttotal: 4.82s\tremaining: 22.7s\n",
      "175:\tlearn: 1752.8023560\ttotal: 4.85s\tremaining: 22.7s\n",
      "176:\tlearn: 1752.3522636\ttotal: 4.88s\tremaining: 22.7s\n",
      "177:\tlearn: 1751.5916732\ttotal: 4.9s\tremaining: 22.6s\n",
      "178:\tlearn: 1751.1264660\ttotal: 4.92s\tremaining: 22.6s\n",
      "179:\tlearn: 1750.5420348\ttotal: 4.95s\tremaining: 22.5s\n",
      "180:\tlearn: 1749.9381738\ttotal: 4.97s\tremaining: 22.5s\n",
      "181:\tlearn: 1749.1347213\ttotal: 5s\tremaining: 22.5s\n",
      "182:\tlearn: 1748.8069624\ttotal: 5.02s\tremaining: 22.4s\n",
      "183:\tlearn: 1748.2340922\ttotal: 5.04s\tremaining: 22.4s\n",
      "184:\tlearn: 1747.5675200\ttotal: 5.07s\tremaining: 22.3s\n",
      "185:\tlearn: 1746.8483817\ttotal: 5.09s\tremaining: 22.3s\n",
      "186:\tlearn: 1745.6105071\ttotal: 5.12s\tremaining: 22.2s\n",
      "187:\tlearn: 1745.0092908\ttotal: 5.14s\tremaining: 22.2s\n",
      "188:\tlearn: 1744.4850077\ttotal: 5.17s\tremaining: 22.2s\n",
      "189:\tlearn: 1743.8828002\ttotal: 5.19s\tremaining: 22.1s\n",
      "190:\tlearn: 1743.2005829\ttotal: 5.21s\tremaining: 22.1s\n",
      "191:\tlearn: 1742.2416173\ttotal: 5.24s\tremaining: 22s\n",
      "192:\tlearn: 1741.7180591\ttotal: 5.26s\tremaining: 22s\n",
      "193:\tlearn: 1740.7901826\ttotal: 5.29s\tremaining: 22s\n",
      "194:\tlearn: 1739.9972062\ttotal: 5.31s\tremaining: 21.9s\n",
      "195:\tlearn: 1739.3420705\ttotal: 5.34s\tremaining: 21.9s\n",
      "196:\tlearn: 1738.9678960\ttotal: 5.37s\tremaining: 21.9s\n",
      "197:\tlearn: 1738.4570419\ttotal: 5.41s\tremaining: 21.9s\n",
      "198:\tlearn: 1737.9523414\ttotal: 5.43s\tremaining: 21.9s\n",
      "199:\tlearn: 1737.0800104\ttotal: 5.47s\tremaining: 21.9s\n",
      "200:\tlearn: 1736.4270576\ttotal: 5.49s\tremaining: 21.8s\n",
      "201:\tlearn: 1736.1614272\ttotal: 5.51s\tremaining: 21.8s\n",
      "202:\tlearn: 1735.2733569\ttotal: 5.54s\tremaining: 21.8s\n",
      "203:\tlearn: 1734.7343787\ttotal: 5.57s\tremaining: 21.7s\n",
      "204:\tlearn: 1734.1546220\ttotal: 5.59s\tremaining: 21.7s\n",
      "205:\tlearn: 1733.6870192\ttotal: 5.61s\tremaining: 21.6s\n",
      "206:\tlearn: 1733.2211343\ttotal: 5.65s\tremaining: 21.6s\n",
      "207:\tlearn: 1732.7739235\ttotal: 5.67s\tremaining: 21.6s\n",
      "208:\tlearn: 1732.2167811\ttotal: 5.7s\tremaining: 21.6s\n",
      "209:\tlearn: 1731.5711216\ttotal: 5.73s\tremaining: 21.6s\n",
      "210:\tlearn: 1731.1446482\ttotal: 5.75s\tremaining: 21.5s\n",
      "211:\tlearn: 1730.4068619\ttotal: 5.78s\tremaining: 21.5s\n",
      "212:\tlearn: 1730.0328983\ttotal: 5.8s\tremaining: 21.4s\n",
      "213:\tlearn: 1729.6377196\ttotal: 5.82s\tremaining: 21.4s\n",
      "214:\tlearn: 1729.1470491\ttotal: 5.85s\tremaining: 21.4s\n",
      "215:\tlearn: 1728.6031389\ttotal: 5.87s\tremaining: 21.3s\n",
      "216:\tlearn: 1727.9982379\ttotal: 5.89s\tremaining: 21.3s\n",
      "217:\tlearn: 1727.2014668\ttotal: 5.92s\tremaining: 21.2s\n",
      "218:\tlearn: 1726.7552934\ttotal: 5.94s\tremaining: 21.2s\n",
      "219:\tlearn: 1726.0050042\ttotal: 5.97s\tremaining: 21.2s\n",
      "220:\tlearn: 1725.7172256\ttotal: 5.99s\tremaining: 21.1s\n",
      "221:\tlearn: 1725.2147015\ttotal: 6.01s\tremaining: 21.1s\n",
      "222:\tlearn: 1724.7088355\ttotal: 6.04s\tremaining: 21s\n",
      "223:\tlearn: 1724.2773251\ttotal: 6.06s\tremaining: 21s\n",
      "224:\tlearn: 1723.6818607\ttotal: 6.08s\tremaining: 21s\n",
      "225:\tlearn: 1723.1179917\ttotal: 6.11s\tremaining: 20.9s\n",
      "226:\tlearn: 1722.8031047\ttotal: 6.13s\tremaining: 20.9s\n",
      "227:\tlearn: 1721.9494418\ttotal: 6.16s\tremaining: 20.8s\n",
      "228:\tlearn: 1721.4250489\ttotal: 6.18s\tremaining: 20.8s\n",
      "229:\tlearn: 1720.9462535\ttotal: 6.2s\tremaining: 20.8s\n",
      "230:\tlearn: 1720.2448988\ttotal: 6.22s\tremaining: 20.7s\n",
      "231:\tlearn: 1719.6822881\ttotal: 6.25s\tremaining: 20.7s\n",
      "232:\tlearn: 1718.8880469\ttotal: 6.27s\tremaining: 20.6s\n",
      "233:\tlearn: 1718.0738192\ttotal: 6.3s\tremaining: 20.6s\n",
      "234:\tlearn: 1717.6489355\ttotal: 6.32s\tremaining: 20.6s\n",
      "235:\tlearn: 1717.3167572\ttotal: 6.34s\tremaining: 20.5s\n",
      "236:\tlearn: 1716.8250445\ttotal: 6.37s\tremaining: 20.5s\n",
      "237:\tlearn: 1716.5885624\ttotal: 6.39s\tremaining: 20.5s\n",
      "238:\tlearn: 1715.9322436\ttotal: 6.41s\tremaining: 20.4s\n",
      "239:\tlearn: 1715.5345629\ttotal: 6.44s\tremaining: 20.4s\n",
      "240:\tlearn: 1714.8488244\ttotal: 6.47s\tremaining: 20.4s\n",
      "241:\tlearn: 1714.4603155\ttotal: 6.5s\tremaining: 20.4s\n",
      "242:\tlearn: 1714.1226542\ttotal: 6.52s\tremaining: 20.3s\n",
      "243:\tlearn: 1713.6261708\ttotal: 6.54s\tremaining: 20.3s\n",
      "244:\tlearn: 1713.0781668\ttotal: 6.57s\tremaining: 20.2s\n",
      "245:\tlearn: 1712.8289774\ttotal: 6.59s\tremaining: 20.2s\n",
      "246:\tlearn: 1712.3374859\ttotal: 6.62s\tremaining: 20.2s\n",
      "247:\tlearn: 1711.7734658\ttotal: 6.64s\tremaining: 20.1s\n",
      "248:\tlearn: 1711.1992156\ttotal: 6.67s\tremaining: 20.1s\n",
      "249:\tlearn: 1710.8467522\ttotal: 6.69s\tremaining: 20.1s\n",
      "250:\tlearn: 1710.5508285\ttotal: 6.72s\tremaining: 20s\n",
      "251:\tlearn: 1710.1965710\ttotal: 6.75s\tremaining: 20s\n",
      "252:\tlearn: 1709.7287576\ttotal: 6.77s\tremaining: 20s\n",
      "253:\tlearn: 1709.4097784\ttotal: 6.79s\tremaining: 20s\n",
      "254:\tlearn: 1708.9126383\ttotal: 6.82s\tremaining: 19.9s\n",
      "255:\tlearn: 1708.5396930\ttotal: 6.84s\tremaining: 19.9s\n",
      "256:\tlearn: 1708.0506488\ttotal: 6.87s\tremaining: 19.9s\n",
      "257:\tlearn: 1707.7509541\ttotal: 6.89s\tremaining: 19.8s\n",
      "258:\tlearn: 1707.5198876\ttotal: 6.91s\tremaining: 19.8s\n",
      "259:\tlearn: 1706.9201479\ttotal: 6.94s\tremaining: 19.7s\n",
      "260:\tlearn: 1706.4923493\ttotal: 6.96s\tremaining: 19.7s\n",
      "261:\tlearn: 1706.2329870\ttotal: 6.99s\tremaining: 19.7s\n",
      "262:\tlearn: 1705.9474722\ttotal: 7.01s\tremaining: 19.6s\n",
      "263:\tlearn: 1705.5227407\ttotal: 7.03s\tremaining: 19.6s\n",
      "264:\tlearn: 1705.0277288\ttotal: 7.06s\tremaining: 19.6s\n",
      "265:\tlearn: 1704.7160948\ttotal: 7.08s\tremaining: 19.5s\n",
      "266:\tlearn: 1704.3459927\ttotal: 7.1s\tremaining: 19.5s\n",
      "267:\tlearn: 1703.9509071\ttotal: 7.13s\tremaining: 19.5s\n",
      "268:\tlearn: 1703.4704980\ttotal: 7.15s\tremaining: 19.4s\n",
      "269:\tlearn: 1703.0995254\ttotal: 7.18s\tremaining: 19.4s\n",
      "270:\tlearn: 1702.3022251\ttotal: 7.2s\tremaining: 19.4s\n",
      "271:\tlearn: 1702.0128847\ttotal: 7.22s\tremaining: 19.3s\n",
      "272:\tlearn: 1701.4007451\ttotal: 7.25s\tremaining: 19.3s\n",
      "273:\tlearn: 1700.9230500\ttotal: 7.28s\tremaining: 19.3s\n",
      "274:\tlearn: 1700.5509317\ttotal: 7.3s\tremaining: 19.2s\n",
      "275:\tlearn: 1700.1064895\ttotal: 7.32s\tremaining: 19.2s\n",
      "276:\tlearn: 1699.9080713\ttotal: 7.35s\tremaining: 19.2s\n",
      "277:\tlearn: 1699.4223948\ttotal: 7.37s\tremaining: 19.1s\n",
      "278:\tlearn: 1698.9312867\ttotal: 7.4s\tremaining: 19.1s\n",
      "279:\tlearn: 1698.5784017\ttotal: 7.42s\tremaining: 19.1s\n",
      "280:\tlearn: 1698.1817771\ttotal: 7.44s\tremaining: 19s\n",
      "281:\tlearn: 1697.7795176\ttotal: 7.47s\tremaining: 19s\n",
      "282:\tlearn: 1697.4191470\ttotal: 7.49s\tremaining: 19s\n",
      "283:\tlearn: 1697.0291857\ttotal: 7.53s\tremaining: 19s\n",
      "284:\tlearn: 1696.6136049\ttotal: 7.56s\tremaining: 19s\n",
      "285:\tlearn: 1696.2996516\ttotal: 7.59s\tremaining: 18.9s\n",
      "286:\tlearn: 1696.0043511\ttotal: 7.61s\tremaining: 18.9s\n",
      "287:\tlearn: 1695.5992724\ttotal: 7.64s\tremaining: 18.9s\n",
      "288:\tlearn: 1695.2938094\ttotal: 7.67s\tremaining: 18.9s\n",
      "289:\tlearn: 1695.0606704\ttotal: 7.71s\tremaining: 18.9s\n",
      "290:\tlearn: 1694.7185461\ttotal: 7.74s\tremaining: 18.9s\n",
      "291:\tlearn: 1694.4604867\ttotal: 7.76s\tremaining: 18.8s\n",
      "292:\tlearn: 1694.1433266\ttotal: 7.79s\tremaining: 18.8s\n",
      "293:\tlearn: 1693.7914740\ttotal: 7.81s\tremaining: 18.8s\n",
      "294:\tlearn: 1693.2135310\ttotal: 7.83s\tremaining: 18.7s\n",
      "295:\tlearn: 1692.6446010\ttotal: 7.86s\tremaining: 18.7s\n",
      "296:\tlearn: 1692.1192024\ttotal: 7.89s\tremaining: 18.7s\n",
      "297:\tlearn: 1691.5836145\ttotal: 7.92s\tremaining: 18.6s\n",
      "298:\tlearn: 1691.1105418\ttotal: 7.94s\tremaining: 18.6s\n",
      "299:\tlearn: 1690.8278746\ttotal: 7.96s\tremaining: 18.6s\n",
      "300:\tlearn: 1690.3559469\ttotal: 7.99s\tremaining: 18.6s\n",
      "301:\tlearn: 1689.9722236\ttotal: 8.01s\tremaining: 18.5s\n",
      "302:\tlearn: 1689.6461567\ttotal: 8.04s\tremaining: 18.5s\n",
      "303:\tlearn: 1689.3903878\ttotal: 8.06s\tremaining: 18.5s\n",
      "304:\tlearn: 1688.9951266\ttotal: 8.09s\tremaining: 18.4s\n",
      "305:\tlearn: 1688.6016657\ttotal: 8.11s\tremaining: 18.4s\n",
      "306:\tlearn: 1688.2901905\ttotal: 8.14s\tremaining: 18.4s\n",
      "307:\tlearn: 1687.8165412\ttotal: 8.16s\tremaining: 18.3s\n",
      "308:\tlearn: 1687.4506778\ttotal: 8.19s\tremaining: 18.3s\n",
      "309:\tlearn: 1687.1221418\ttotal: 8.21s\tremaining: 18.3s\n",
      "310:\tlearn: 1686.6513636\ttotal: 8.24s\tremaining: 18.3s\n",
      "311:\tlearn: 1686.4558507\ttotal: 8.27s\tremaining: 18.2s\n",
      "312:\tlearn: 1686.2031843\ttotal: 8.3s\tremaining: 18.2s\n",
      "313:\tlearn: 1685.8097188\ttotal: 8.34s\tremaining: 18.2s\n",
      "314:\tlearn: 1685.5966718\ttotal: 8.38s\tremaining: 18.2s\n",
      "315:\tlearn: 1685.2528174\ttotal: 8.41s\tremaining: 18.2s\n",
      "316:\tlearn: 1685.0215305\ttotal: 8.44s\tremaining: 18.2s\n",
      "317:\tlearn: 1684.6451438\ttotal: 8.46s\tremaining: 18.1s\n",
      "318:\tlearn: 1684.4487563\ttotal: 8.49s\tremaining: 18.1s\n",
      "319:\tlearn: 1683.9188155\ttotal: 8.51s\tremaining: 18.1s\n",
      "320:\tlearn: 1683.5433949\ttotal: 8.54s\tremaining: 18.1s\n",
      "321:\tlearn: 1683.3208864\ttotal: 8.56s\tremaining: 18s\n",
      "322:\tlearn: 1682.9398030\ttotal: 8.59s\tremaining: 18s\n",
      "323:\tlearn: 1682.6881461\ttotal: 8.62s\tremaining: 18s\n",
      "324:\tlearn: 1682.0977572\ttotal: 8.64s\tremaining: 18s\n",
      "325:\tlearn: 1681.8067271\ttotal: 8.67s\tremaining: 17.9s\n",
      "326:\tlearn: 1681.2457664\ttotal: 8.7s\tremaining: 17.9s\n",
      "327:\tlearn: 1681.0012020\ttotal: 8.72s\tremaining: 17.9s\n",
      "328:\tlearn: 1680.6102960\ttotal: 8.74s\tremaining: 17.8s\n",
      "329:\tlearn: 1680.3261864\ttotal: 8.77s\tremaining: 17.8s\n",
      "330:\tlearn: 1679.8740919\ttotal: 8.8s\tremaining: 17.8s\n",
      "331:\tlearn: 1679.6426886\ttotal: 8.83s\tremaining: 17.8s\n",
      "332:\tlearn: 1679.1184215\ttotal: 8.86s\tremaining: 17.7s\n",
      "333:\tlearn: 1678.7958827\ttotal: 8.89s\tremaining: 17.7s\n",
      "334:\tlearn: 1678.3834936\ttotal: 8.92s\tremaining: 17.7s\n",
      "335:\tlearn: 1678.1954744\ttotal: 8.96s\tremaining: 17.7s\n",
      "336:\tlearn: 1677.9810349\ttotal: 8.98s\tremaining: 17.7s\n",
      "337:\tlearn: 1677.4906558\ttotal: 9.01s\tremaining: 17.6s\n",
      "338:\tlearn: 1677.1754484\ttotal: 9.03s\tremaining: 17.6s\n",
      "339:\tlearn: 1676.8551119\ttotal: 9.05s\tremaining: 17.6s\n",
      "340:\tlearn: 1676.5111881\ttotal: 9.07s\tremaining: 17.5s\n",
      "341:\tlearn: 1676.2101045\ttotal: 9.1s\tremaining: 17.5s\n",
      "342:\tlearn: 1675.9125756\ttotal: 9.12s\tremaining: 17.5s\n",
      "343:\tlearn: 1675.6977693\ttotal: 9.14s\tremaining: 17.4s\n",
      "344:\tlearn: 1675.3717622\ttotal: 9.16s\tremaining: 17.4s\n",
      "345:\tlearn: 1675.1272262\ttotal: 9.19s\tremaining: 17.4s\n",
      "346:\tlearn: 1674.7320039\ttotal: 9.21s\tremaining: 17.3s\n",
      "347:\tlearn: 1674.4552029\ttotal: 9.23s\tremaining: 17.3s\n",
      "348:\tlearn: 1674.0506898\ttotal: 9.26s\tremaining: 17.3s\n",
      "349:\tlearn: 1673.4917221\ttotal: 9.28s\tremaining: 17.2s\n",
      "350:\tlearn: 1673.2572162\ttotal: 9.3s\tremaining: 17.2s\n",
      "351:\tlearn: 1672.9759772\ttotal: 9.32s\tremaining: 17.2s\n",
      "352:\tlearn: 1672.7300282\ttotal: 9.34s\tremaining: 17.1s\n",
      "353:\tlearn: 1672.5919851\ttotal: 9.36s\tremaining: 17.1s\n",
      "354:\tlearn: 1672.3358395\ttotal: 9.38s\tremaining: 17s\n",
      "355:\tlearn: 1672.1323326\ttotal: 9.4s\tremaining: 17s\n",
      "356:\tlearn: 1671.7365486\ttotal: 9.43s\tremaining: 17s\n",
      "357:\tlearn: 1671.5299342\ttotal: 9.45s\tremaining: 16.9s\n",
      "358:\tlearn: 1671.2957383\ttotal: 9.47s\tremaining: 16.9s\n",
      "359:\tlearn: 1670.9738306\ttotal: 9.49s\tremaining: 16.9s\n",
      "360:\tlearn: 1670.5380875\ttotal: 9.52s\tremaining: 16.8s\n",
      "361:\tlearn: 1670.2123973\ttotal: 9.54s\tremaining: 16.8s\n",
      "362:\tlearn: 1669.8940167\ttotal: 9.57s\tremaining: 16.8s\n",
      "363:\tlearn: 1669.6602451\ttotal: 9.6s\tremaining: 16.8s\n",
      "364:\tlearn: 1669.4524933\ttotal: 9.62s\tremaining: 16.7s\n",
      "365:\tlearn: 1669.1515185\ttotal: 9.64s\tremaining: 16.7s\n",
      "366:\tlearn: 1668.8707020\ttotal: 9.67s\tremaining: 16.7s\n",
      "367:\tlearn: 1668.7622860\ttotal: 9.69s\tremaining: 16.6s\n",
      "368:\tlearn: 1668.5753348\ttotal: 9.71s\tremaining: 16.6s\n",
      "369:\tlearn: 1668.2420600\ttotal: 9.73s\tremaining: 16.6s\n",
      "370:\tlearn: 1668.0684196\ttotal: 9.76s\tremaining: 16.5s\n",
      "371:\tlearn: 1667.8248862\ttotal: 9.78s\tremaining: 16.5s\n",
      "372:\tlearn: 1667.5073979\ttotal: 9.8s\tremaining: 16.5s\n",
      "373:\tlearn: 1667.1578671\ttotal: 9.82s\tremaining: 16.4s\n",
      "374:\tlearn: 1666.9010963\ttotal: 9.85s\tremaining: 16.4s\n",
      "375:\tlearn: 1666.6717355\ttotal: 9.87s\tremaining: 16.4s\n",
      "376:\tlearn: 1666.5054968\ttotal: 9.89s\tremaining: 16.3s\n",
      "377:\tlearn: 1666.2524179\ttotal: 9.91s\tremaining: 16.3s\n",
      "378:\tlearn: 1666.0321737\ttotal: 9.93s\tremaining: 16.3s\n",
      "379:\tlearn: 1665.8500646\ttotal: 9.96s\tremaining: 16.2s\n",
      "380:\tlearn: 1665.6698533\ttotal: 9.97s\tremaining: 16.2s\n",
      "381:\tlearn: 1665.3850834\ttotal: 10s\tremaining: 16.2s\n",
      "382:\tlearn: 1665.0733486\ttotal: 10s\tremaining: 16.1s\n",
      "383:\tlearn: 1664.6951808\ttotal: 10s\tremaining: 16.1s\n",
      "384:\tlearn: 1664.5100336\ttotal: 10.1s\tremaining: 16.1s\n",
      "385:\tlearn: 1664.3636333\ttotal: 10.1s\tremaining: 16s\n",
      "386:\tlearn: 1664.0800388\ttotal: 10.1s\tremaining: 16s\n",
      "387:\tlearn: 1663.7576645\ttotal: 10.1s\tremaining: 16s\n",
      "388:\tlearn: 1663.5811344\ttotal: 10.2s\tremaining: 15.9s\n",
      "389:\tlearn: 1663.4572232\ttotal: 10.2s\tremaining: 15.9s\n",
      "390:\tlearn: 1663.2785387\ttotal: 10.2s\tremaining: 15.9s\n",
      "391:\tlearn: 1663.0678954\ttotal: 10.2s\tremaining: 15.8s\n",
      "392:\tlearn: 1662.6617622\ttotal: 10.2s\tremaining: 15.8s\n",
      "393:\tlearn: 1662.4823997\ttotal: 10.3s\tremaining: 15.8s\n",
      "394:\tlearn: 1662.1956276\ttotal: 10.3s\tremaining: 15.8s\n",
      "395:\tlearn: 1662.0733750\ttotal: 10.3s\tremaining: 15.7s\n",
      "396:\tlearn: 1661.7747684\ttotal: 10.3s\tremaining: 15.7s\n",
      "397:\tlearn: 1661.4853845\ttotal: 10.4s\tremaining: 15.7s\n",
      "398:\tlearn: 1661.1571763\ttotal: 10.4s\tremaining: 15.6s\n",
      "399:\tlearn: 1660.9053965\ttotal: 10.4s\tremaining: 15.6s\n",
      "400:\tlearn: 1660.6313253\ttotal: 10.4s\tremaining: 15.6s\n",
      "401:\tlearn: 1660.3688192\ttotal: 10.5s\tremaining: 15.5s\n",
      "402:\tlearn: 1660.1086127\ttotal: 10.5s\tremaining: 15.5s\n",
      "403:\tlearn: 1659.9048198\ttotal: 10.5s\tremaining: 15.5s\n",
      "404:\tlearn: 1659.6937461\ttotal: 10.5s\tremaining: 15.5s\n",
      "405:\tlearn: 1659.5200432\ttotal: 10.5s\tremaining: 15.4s\n",
      "406:\tlearn: 1659.2379827\ttotal: 10.6s\tremaining: 15.4s\n",
      "407:\tlearn: 1658.9992760\ttotal: 10.6s\tremaining: 15.4s\n",
      "408:\tlearn: 1658.8212188\ttotal: 10.6s\tremaining: 15.3s\n",
      "409:\tlearn: 1658.5165648\ttotal: 10.6s\tremaining: 15.3s\n",
      "410:\tlearn: 1658.2750216\ttotal: 10.7s\tremaining: 15.3s\n",
      "411:\tlearn: 1657.9281230\ttotal: 10.7s\tremaining: 15.3s\n",
      "412:\tlearn: 1657.7987031\ttotal: 10.7s\tremaining: 15.2s\n",
      "413:\tlearn: 1657.5445850\ttotal: 10.7s\tremaining: 15.2s\n",
      "414:\tlearn: 1657.4024873\ttotal: 10.8s\tremaining: 15.2s\n",
      "415:\tlearn: 1657.1429148\ttotal: 10.8s\tremaining: 15.1s\n",
      "416:\tlearn: 1656.7728565\ttotal: 10.8s\tremaining: 15.1s\n",
      "417:\tlearn: 1656.5226692\ttotal: 10.8s\tremaining: 15.1s\n",
      "418:\tlearn: 1656.3483317\ttotal: 10.9s\tremaining: 15.1s\n",
      "419:\tlearn: 1656.0593330\ttotal: 10.9s\tremaining: 15s\n",
      "420:\tlearn: 1655.7173222\ttotal: 10.9s\tremaining: 15s\n",
      "421:\tlearn: 1655.4284857\ttotal: 10.9s\tremaining: 15s\n",
      "422:\tlearn: 1655.1760380\ttotal: 10.9s\tremaining: 14.9s\n",
      "423:\tlearn: 1654.9856186\ttotal: 11s\tremaining: 14.9s\n",
      "424:\tlearn: 1654.7913199\ttotal: 11s\tremaining: 14.9s\n",
      "425:\tlearn: 1654.5780741\ttotal: 11s\tremaining: 14.8s\n",
      "426:\tlearn: 1654.3273222\ttotal: 11s\tremaining: 14.8s\n",
      "427:\tlearn: 1654.1410919\ttotal: 11s\tremaining: 14.8s\n",
      "428:\tlearn: 1653.9263311\ttotal: 11.1s\tremaining: 14.7s\n",
      "429:\tlearn: 1653.7521554\ttotal: 11.1s\tremaining: 14.7s\n",
      "430:\tlearn: 1653.5285536\ttotal: 11.1s\tremaining: 14.7s\n",
      "431:\tlearn: 1653.3968391\ttotal: 11.1s\tremaining: 14.6s\n",
      "432:\tlearn: 1653.2634471\ttotal: 11.2s\tremaining: 14.6s\n",
      "433:\tlearn: 1652.9888169\ttotal: 11.2s\tremaining: 14.6s\n",
      "434:\tlearn: 1652.7144598\ttotal: 11.2s\tremaining: 14.5s\n",
      "435:\tlearn: 1652.5334024\ttotal: 11.2s\tremaining: 14.5s\n",
      "436:\tlearn: 1652.3347355\ttotal: 11.2s\tremaining: 14.5s\n",
      "437:\tlearn: 1652.1424260\ttotal: 11.3s\tremaining: 14.5s\n",
      "438:\tlearn: 1651.7262771\ttotal: 11.3s\tremaining: 14.4s\n",
      "439:\tlearn: 1651.4426680\ttotal: 11.3s\tremaining: 14.4s\n",
      "440:\tlearn: 1651.2290872\ttotal: 11.3s\tremaining: 14.4s\n",
      "441:\tlearn: 1651.0720623\ttotal: 11.4s\tremaining: 14.3s\n",
      "442:\tlearn: 1650.8651027\ttotal: 11.4s\tremaining: 14.3s\n",
      "443:\tlearn: 1650.7351176\ttotal: 11.4s\tremaining: 14.3s\n",
      "444:\tlearn: 1650.5480814\ttotal: 11.4s\tremaining: 14.2s\n",
      "445:\tlearn: 1650.3145964\ttotal: 11.4s\tremaining: 14.2s\n",
      "446:\tlearn: 1649.9292093\ttotal: 11.5s\tremaining: 14.2s\n",
      "447:\tlearn: 1649.7670676\ttotal: 11.5s\tremaining: 14.1s\n",
      "448:\tlearn: 1649.6157373\ttotal: 11.5s\tremaining: 14.1s\n",
      "449:\tlearn: 1649.4952587\ttotal: 11.5s\tremaining: 14.1s\n",
      "450:\tlearn: 1649.2548618\ttotal: 11.5s\tremaining: 14.1s\n",
      "451:\tlearn: 1648.9876702\ttotal: 11.6s\tremaining: 14s\n",
      "452:\tlearn: 1648.8100495\ttotal: 11.6s\tremaining: 14s\n",
      "453:\tlearn: 1648.3215824\ttotal: 11.6s\tremaining: 14s\n",
      "454:\tlearn: 1648.1624712\ttotal: 11.6s\tremaining: 13.9s\n",
      "455:\tlearn: 1647.9943017\ttotal: 11.7s\tremaining: 13.9s\n",
      "456:\tlearn: 1647.8447001\ttotal: 11.7s\tremaining: 13.9s\n",
      "457:\tlearn: 1647.5398406\ttotal: 11.7s\tremaining: 13.9s\n",
      "458:\tlearn: 1647.2937782\ttotal: 11.7s\tremaining: 13.8s\n",
      "459:\tlearn: 1647.0954539\ttotal: 11.8s\tremaining: 13.8s\n",
      "460:\tlearn: 1647.0263942\ttotal: 11.8s\tremaining: 13.8s\n",
      "461:\tlearn: 1646.7491055\ttotal: 11.8s\tremaining: 13.8s\n",
      "462:\tlearn: 1646.4337503\ttotal: 11.8s\tremaining: 13.7s\n",
      "463:\tlearn: 1646.3211873\ttotal: 11.9s\tremaining: 13.7s\n",
      "464:\tlearn: 1646.1425553\ttotal: 11.9s\tremaining: 13.7s\n",
      "465:\tlearn: 1645.8396463\ttotal: 11.9s\tremaining: 13.6s\n",
      "466:\tlearn: 1645.6677800\ttotal: 11.9s\tremaining: 13.6s\n",
      "467:\tlearn: 1645.3100697\ttotal: 11.9s\tremaining: 13.6s\n",
      "468:\tlearn: 1645.1423070\ttotal: 12s\tremaining: 13.5s\n",
      "469:\tlearn: 1644.8847178\ttotal: 12s\tremaining: 13.5s\n",
      "470:\tlearn: 1644.6651502\ttotal: 12s\tremaining: 13.5s\n",
      "471:\tlearn: 1644.2740587\ttotal: 12s\tremaining: 13.5s\n",
      "472:\tlearn: 1644.0715621\ttotal: 12.1s\tremaining: 13.4s\n",
      "473:\tlearn: 1643.8204769\ttotal: 12.1s\tremaining: 13.4s\n",
      "474:\tlearn: 1643.6757971\ttotal: 12.1s\tremaining: 13.4s\n",
      "475:\tlearn: 1643.5014004\ttotal: 12.1s\tremaining: 13.3s\n",
      "476:\tlearn: 1643.3433568\ttotal: 12.1s\tremaining: 13.3s\n",
      "477:\tlearn: 1643.1471560\ttotal: 12.2s\tremaining: 13.3s\n",
      "478:\tlearn: 1642.9483273\ttotal: 12.2s\tremaining: 13.2s\n",
      "479:\tlearn: 1642.7935573\ttotal: 12.2s\tremaining: 13.2s\n",
      "480:\tlearn: 1642.4916921\ttotal: 12.2s\tremaining: 13.2s\n",
      "481:\tlearn: 1642.2989378\ttotal: 12.2s\tremaining: 13.2s\n",
      "482:\tlearn: 1642.0992284\ttotal: 12.3s\tremaining: 13.1s\n",
      "483:\tlearn: 1641.8715666\ttotal: 12.3s\tremaining: 13.1s\n",
      "484:\tlearn: 1641.6896259\ttotal: 12.3s\tremaining: 13.1s\n",
      "485:\tlearn: 1641.5505365\ttotal: 12.3s\tremaining: 13s\n",
      "486:\tlearn: 1641.3374907\ttotal: 12.4s\tremaining: 13s\n",
      "487:\tlearn: 1641.0289268\ttotal: 12.4s\tremaining: 13s\n",
      "488:\tlearn: 1640.7573033\ttotal: 12.4s\tremaining: 13s\n",
      "489:\tlearn: 1640.5611495\ttotal: 12.4s\tremaining: 12.9s\n",
      "490:\tlearn: 1640.2546221\ttotal: 12.4s\tremaining: 12.9s\n",
      "491:\tlearn: 1640.0365749\ttotal: 12.5s\tremaining: 12.9s\n",
      "492:\tlearn: 1639.8437877\ttotal: 12.5s\tremaining: 12.8s\n",
      "493:\tlearn: 1639.7293781\ttotal: 12.5s\tremaining: 12.8s\n",
      "494:\tlearn: 1639.5558799\ttotal: 12.5s\tremaining: 12.8s\n",
      "495:\tlearn: 1639.3897415\ttotal: 12.6s\tremaining: 12.8s\n",
      "496:\tlearn: 1639.1371511\ttotal: 12.6s\tremaining: 12.7s\n",
      "497:\tlearn: 1638.9239874\ttotal: 12.6s\tremaining: 12.7s\n",
      "498:\tlearn: 1638.7629256\ttotal: 12.6s\tremaining: 12.7s\n",
      "499:\tlearn: 1638.5800638\ttotal: 12.7s\tremaining: 12.7s\n",
      "500:\tlearn: 1638.4543606\ttotal: 12.7s\tremaining: 12.7s\n",
      "501:\tlearn: 1638.3045525\ttotal: 12.7s\tremaining: 12.6s\n",
      "502:\tlearn: 1638.0267415\ttotal: 12.8s\tremaining: 12.6s\n",
      "503:\tlearn: 1637.8148707\ttotal: 12.8s\tremaining: 12.6s\n",
      "504:\tlearn: 1637.5985157\ttotal: 12.8s\tremaining: 12.5s\n",
      "505:\tlearn: 1637.3862102\ttotal: 12.8s\tremaining: 12.5s\n",
      "506:\tlearn: 1637.1655490\ttotal: 12.8s\tremaining: 12.5s\n",
      "507:\tlearn: 1636.9998432\ttotal: 12.9s\tremaining: 12.5s\n",
      "508:\tlearn: 1636.7976154\ttotal: 12.9s\tremaining: 12.4s\n",
      "509:\tlearn: 1636.5272430\ttotal: 12.9s\tremaining: 12.4s\n",
      "510:\tlearn: 1636.3194374\ttotal: 12.9s\tremaining: 12.4s\n",
      "511:\tlearn: 1636.1770859\ttotal: 13s\tremaining: 12.3s\n",
      "512:\tlearn: 1635.8937025\ttotal: 13s\tremaining: 12.3s\n",
      "513:\tlearn: 1635.7062282\ttotal: 13s\tremaining: 12.3s\n",
      "514:\tlearn: 1635.5010020\ttotal: 13s\tremaining: 12.3s\n",
      "515:\tlearn: 1635.2457339\ttotal: 13s\tremaining: 12.2s\n",
      "516:\tlearn: 1635.1303046\ttotal: 13.1s\tremaining: 12.2s\n",
      "517:\tlearn: 1634.9877749\ttotal: 13.1s\tremaining: 12.2s\n",
      "518:\tlearn: 1634.8667033\ttotal: 13.1s\tremaining: 12.2s\n",
      "519:\tlearn: 1634.5249168\ttotal: 13.1s\tremaining: 12.1s\n",
      "520:\tlearn: 1634.3513490\ttotal: 13.2s\tremaining: 12.1s\n",
      "521:\tlearn: 1634.1515455\ttotal: 13.2s\tremaining: 12.1s\n",
      "522:\tlearn: 1633.8395295\ttotal: 13.2s\tremaining: 12s\n",
      "523:\tlearn: 1633.6783350\ttotal: 13.2s\tremaining: 12s\n",
      "524:\tlearn: 1633.3101949\ttotal: 13.2s\tremaining: 12s\n",
      "525:\tlearn: 1633.1809315\ttotal: 13.3s\tremaining: 12s\n",
      "526:\tlearn: 1632.9022409\ttotal: 13.3s\tremaining: 11.9s\n",
      "527:\tlearn: 1632.6727165\ttotal: 13.3s\tremaining: 11.9s\n",
      "528:\tlearn: 1632.5649143\ttotal: 13.4s\tremaining: 11.9s\n",
      "529:\tlearn: 1632.4643835\ttotal: 13.4s\tremaining: 11.9s\n",
      "530:\tlearn: 1632.2824632\ttotal: 13.4s\tremaining: 11.8s\n",
      "531:\tlearn: 1632.0665504\ttotal: 13.4s\tremaining: 11.8s\n",
      "532:\tlearn: 1631.8430655\ttotal: 13.5s\tremaining: 11.8s\n",
      "533:\tlearn: 1631.6546988\ttotal: 13.5s\tremaining: 11.8s\n",
      "534:\tlearn: 1631.4040683\ttotal: 13.5s\tremaining: 11.7s\n",
      "535:\tlearn: 1631.2422854\ttotal: 13.5s\tremaining: 11.7s\n",
      "536:\tlearn: 1630.9727519\ttotal: 13.6s\tremaining: 11.7s\n",
      "537:\tlearn: 1630.8081536\ttotal: 13.6s\tremaining: 11.7s\n",
      "538:\tlearn: 1630.5510992\ttotal: 13.6s\tremaining: 11.7s\n",
      "539:\tlearn: 1630.4056981\ttotal: 13.7s\tremaining: 11.6s\n",
      "540:\tlearn: 1630.1971759\ttotal: 13.7s\tremaining: 11.6s\n",
      "541:\tlearn: 1629.9912351\ttotal: 13.7s\tremaining: 11.6s\n",
      "542:\tlearn: 1629.9078571\ttotal: 13.7s\tremaining: 11.5s\n",
      "543:\tlearn: 1629.7042086\ttotal: 13.7s\tremaining: 11.5s\n",
      "544:\tlearn: 1629.5303827\ttotal: 13.8s\tremaining: 11.5s\n",
      "545:\tlearn: 1629.3361471\ttotal: 13.8s\tremaining: 11.5s\n",
      "546:\tlearn: 1629.1552861\ttotal: 13.8s\tremaining: 11.4s\n",
      "547:\tlearn: 1629.0053746\ttotal: 13.8s\tremaining: 11.4s\n",
      "548:\tlearn: 1628.8127524\ttotal: 13.8s\tremaining: 11.4s\n",
      "549:\tlearn: 1628.7378234\ttotal: 13.9s\tremaining: 11.3s\n",
      "550:\tlearn: 1628.5675407\ttotal: 13.9s\tremaining: 11.3s\n",
      "551:\tlearn: 1628.3616312\ttotal: 13.9s\tremaining: 11.3s\n",
      "552:\tlearn: 1628.2016334\ttotal: 13.9s\tremaining: 11.3s\n",
      "553:\tlearn: 1628.0451759\ttotal: 14s\tremaining: 11.2s\n",
      "554:\tlearn: 1627.7492294\ttotal: 14s\tremaining: 11.2s\n",
      "555:\tlearn: 1627.6236293\ttotal: 14s\tremaining: 11.2s\n",
      "556:\tlearn: 1627.4086114\ttotal: 14s\tremaining: 11.2s\n",
      "557:\tlearn: 1627.2305906\ttotal: 14.1s\tremaining: 11.1s\n",
      "558:\tlearn: 1627.0728538\ttotal: 14.1s\tremaining: 11.1s\n",
      "559:\tlearn: 1626.8980130\ttotal: 14.1s\tremaining: 11.1s\n",
      "560:\tlearn: 1626.6985799\ttotal: 14.1s\tremaining: 11.1s\n",
      "561:\tlearn: 1626.5515575\ttotal: 14.1s\tremaining: 11s\n",
      "562:\tlearn: 1626.2642836\ttotal: 14.2s\tremaining: 11s\n",
      "563:\tlearn: 1626.1362655\ttotal: 14.2s\tremaining: 11s\n",
      "564:\tlearn: 1625.9266551\ttotal: 14.2s\tremaining: 10.9s\n",
      "565:\tlearn: 1625.7383224\ttotal: 14.2s\tremaining: 10.9s\n",
      "566:\tlearn: 1625.4331701\ttotal: 14.3s\tremaining: 10.9s\n",
      "567:\tlearn: 1625.2921828\ttotal: 14.3s\tremaining: 10.9s\n",
      "568:\tlearn: 1625.1274488\ttotal: 14.3s\tremaining: 10.8s\n",
      "569:\tlearn: 1625.0036621\ttotal: 14.3s\tremaining: 10.8s\n",
      "570:\tlearn: 1624.7895232\ttotal: 14.3s\tremaining: 10.8s\n",
      "571:\tlearn: 1624.6456993\ttotal: 14.4s\tremaining: 10.8s\n",
      "572:\tlearn: 1624.4281292\ttotal: 14.4s\tremaining: 10.7s\n",
      "573:\tlearn: 1624.1730841\ttotal: 14.4s\tremaining: 10.7s\n",
      "574:\tlearn: 1624.0307006\ttotal: 14.4s\tremaining: 10.7s\n",
      "575:\tlearn: 1623.7499033\ttotal: 14.5s\tremaining: 10.6s\n",
      "576:\tlearn: 1623.5889168\ttotal: 14.5s\tremaining: 10.6s\n",
      "577:\tlearn: 1623.3410100\ttotal: 14.5s\tremaining: 10.6s\n",
      "578:\tlearn: 1623.1559841\ttotal: 14.5s\tremaining: 10.6s\n",
      "579:\tlearn: 1623.0331122\ttotal: 14.5s\tremaining: 10.5s\n",
      "580:\tlearn: 1622.8426991\ttotal: 14.6s\tremaining: 10.5s\n",
      "581:\tlearn: 1622.7048486\ttotal: 14.6s\tremaining: 10.5s\n",
      "582:\tlearn: 1622.5866433\ttotal: 14.6s\tremaining: 10.5s\n",
      "583:\tlearn: 1622.3066126\ttotal: 14.7s\tremaining: 10.4s\n",
      "584:\tlearn: 1622.1630995\ttotal: 14.7s\tremaining: 10.4s\n",
      "585:\tlearn: 1622.0085045\ttotal: 14.7s\tremaining: 10.4s\n",
      "586:\tlearn: 1621.8169186\ttotal: 14.7s\tremaining: 10.4s\n",
      "587:\tlearn: 1621.3072948\ttotal: 14.8s\tremaining: 10.3s\n",
      "588:\tlearn: 1621.1027928\ttotal: 14.8s\tremaining: 10.3s\n",
      "589:\tlearn: 1620.9981106\ttotal: 14.8s\tremaining: 10.3s\n",
      "590:\tlearn: 1620.7546526\ttotal: 14.9s\tremaining: 10.3s\n",
      "591:\tlearn: 1620.5502280\ttotal: 14.9s\tremaining: 10.3s\n",
      "592:\tlearn: 1620.3947204\ttotal: 14.9s\tremaining: 10.2s\n",
      "593:\tlearn: 1620.2438975\ttotal: 15s\tremaining: 10.2s\n",
      "594:\tlearn: 1620.0979702\ttotal: 15s\tremaining: 10.2s\n",
      "595:\tlearn: 1619.8401694\ttotal: 15s\tremaining: 10.2s\n",
      "596:\tlearn: 1619.6666247\ttotal: 15s\tremaining: 10.1s\n",
      "597:\tlearn: 1619.4853999\ttotal: 15s\tremaining: 10.1s\n",
      "598:\tlearn: 1619.0638798\ttotal: 15.1s\tremaining: 10.1s\n",
      "599:\tlearn: 1618.8753315\ttotal: 15.1s\tremaining: 10.1s\n",
      "600:\tlearn: 1618.6889681\ttotal: 15.1s\tremaining: 10s\n",
      "601:\tlearn: 1618.5099468\ttotal: 15.1s\tremaining: 10s\n",
      "602:\tlearn: 1618.3935667\ttotal: 15.1s\tremaining: 9.97s\n",
      "603:\tlearn: 1618.2226302\ttotal: 15.2s\tremaining: 9.95s\n",
      "604:\tlearn: 1618.0057345\ttotal: 15.2s\tremaining: 9.92s\n",
      "605:\tlearn: 1617.8454075\ttotal: 15.2s\tremaining: 9.89s\n",
      "606:\tlearn: 1617.6386312\ttotal: 15.2s\tremaining: 9.87s\n",
      "607:\tlearn: 1617.4888263\ttotal: 15.3s\tremaining: 9.84s\n",
      "608:\tlearn: 1617.3076288\ttotal: 15.3s\tremaining: 9.81s\n",
      "609:\tlearn: 1617.1749945\ttotal: 15.3s\tremaining: 9.78s\n",
      "610:\tlearn: 1617.0315712\ttotal: 15.3s\tremaining: 9.76s\n",
      "611:\tlearn: 1616.7915354\ttotal: 15.3s\tremaining: 9.73s\n",
      "612:\tlearn: 1616.6856847\ttotal: 15.4s\tremaining: 9.7s\n",
      "613:\tlearn: 1616.4485625\ttotal: 15.4s\tremaining: 9.67s\n",
      "614:\tlearn: 1616.3067901\ttotal: 15.4s\tremaining: 9.64s\n",
      "615:\tlearn: 1616.0717764\ttotal: 15.4s\tremaining: 9.62s\n",
      "616:\tlearn: 1615.9550288\ttotal: 15.4s\tremaining: 9.59s\n",
      "617:\tlearn: 1615.7970236\ttotal: 15.5s\tremaining: 9.56s\n",
      "618:\tlearn: 1615.6534176\ttotal: 15.5s\tremaining: 9.54s\n",
      "619:\tlearn: 1615.5130601\ttotal: 15.5s\tremaining: 9.51s\n",
      "620:\tlearn: 1615.2968400\ttotal: 15.5s\tremaining: 9.48s\n",
      "621:\tlearn: 1615.2013656\ttotal: 15.6s\tremaining: 9.46s\n",
      "622:\tlearn: 1615.1154514\ttotal: 15.6s\tremaining: 9.43s\n",
      "623:\tlearn: 1614.8774520\ttotal: 15.6s\tremaining: 9.4s\n",
      "624:\tlearn: 1614.7689483\ttotal: 15.6s\tremaining: 9.38s\n",
      "625:\tlearn: 1614.6499207\ttotal: 15.6s\tremaining: 9.35s\n",
      "626:\tlearn: 1614.4924550\ttotal: 15.7s\tremaining: 9.32s\n",
      "627:\tlearn: 1614.3508337\ttotal: 15.7s\tremaining: 9.29s\n",
      "628:\tlearn: 1614.0615855\ttotal: 15.7s\tremaining: 9.27s\n",
      "629:\tlearn: 1613.8739628\ttotal: 15.7s\tremaining: 9.24s\n",
      "630:\tlearn: 1613.6761311\ttotal: 15.8s\tremaining: 9.21s\n",
      "631:\tlearn: 1613.5327884\ttotal: 15.8s\tremaining: 9.19s\n",
      "632:\tlearn: 1613.3741880\ttotal: 15.8s\tremaining: 9.16s\n",
      "633:\tlearn: 1613.2550021\ttotal: 15.8s\tremaining: 9.13s\n",
      "634:\tlearn: 1613.0243684\ttotal: 15.8s\tremaining: 9.11s\n",
      "635:\tlearn: 1612.9246141\ttotal: 15.9s\tremaining: 9.08s\n",
      "636:\tlearn: 1612.7120816\ttotal: 15.9s\tremaining: 9.05s\n",
      "637:\tlearn: 1612.5927757\ttotal: 15.9s\tremaining: 9.03s\n",
      "638:\tlearn: 1612.4435830\ttotal: 15.9s\tremaining: 9s\n",
      "639:\tlearn: 1612.2846940\ttotal: 16s\tremaining: 8.97s\n",
      "640:\tlearn: 1612.1377873\ttotal: 16s\tremaining: 8.95s\n",
      "641:\tlearn: 1611.8268371\ttotal: 16s\tremaining: 8.92s\n",
      "642:\tlearn: 1611.5590200\ttotal: 16s\tremaining: 8.9s\n",
      "643:\tlearn: 1611.4001659\ttotal: 16.1s\tremaining: 8.87s\n",
      "644:\tlearn: 1611.2494274\ttotal: 16.1s\tremaining: 8.85s\n",
      "645:\tlearn: 1611.0993504\ttotal: 16.1s\tremaining: 8.82s\n",
      "646:\tlearn: 1610.9096671\ttotal: 16.1s\tremaining: 8.8s\n",
      "647:\tlearn: 1610.7202655\ttotal: 16.1s\tremaining: 8.77s\n",
      "648:\tlearn: 1610.6030420\ttotal: 16.2s\tremaining: 8.74s\n",
      "649:\tlearn: 1610.4273791\ttotal: 16.2s\tremaining: 8.71s\n",
      "650:\tlearn: 1610.3435183\ttotal: 16.2s\tremaining: 8.69s\n",
      "651:\tlearn: 1610.2537404\ttotal: 16.2s\tremaining: 8.66s\n",
      "652:\tlearn: 1610.0952001\ttotal: 16.2s\tremaining: 8.63s\n",
      "653:\tlearn: 1610.0260559\ttotal: 16.3s\tremaining: 8.61s\n",
      "654:\tlearn: 1609.9014255\ttotal: 16.3s\tremaining: 8.58s\n",
      "655:\tlearn: 1609.7679046\ttotal: 16.3s\tremaining: 8.55s\n",
      "656:\tlearn: 1609.5345435\ttotal: 16.3s\tremaining: 8.53s\n",
      "657:\tlearn: 1609.3760780\ttotal: 16.4s\tremaining: 8.51s\n",
      "658:\tlearn: 1609.2414548\ttotal: 16.4s\tremaining: 8.49s\n",
      "659:\tlearn: 1609.1248036\ttotal: 16.4s\tremaining: 8.46s\n",
      "660:\tlearn: 1608.8978368\ttotal: 16.4s\tremaining: 8.43s\n",
      "661:\tlearn: 1608.7304360\ttotal: 16.5s\tremaining: 8.41s\n",
      "662:\tlearn: 1608.5636568\ttotal: 16.5s\tremaining: 8.38s\n",
      "663:\tlearn: 1608.3106358\ttotal: 16.5s\tremaining: 8.36s\n",
      "664:\tlearn: 1608.1630418\ttotal: 16.6s\tremaining: 8.34s\n",
      "665:\tlearn: 1607.8813900\ttotal: 16.6s\tremaining: 8.31s\n",
      "666:\tlearn: 1607.7519798\ttotal: 16.6s\tremaining: 8.29s\n",
      "667:\tlearn: 1607.6051601\ttotal: 16.6s\tremaining: 8.26s\n",
      "668:\tlearn: 1607.4167654\ttotal: 16.6s\tremaining: 8.23s\n",
      "669:\tlearn: 1607.2500479\ttotal: 16.7s\tremaining: 8.21s\n",
      "670:\tlearn: 1607.0550051\ttotal: 16.7s\tremaining: 8.18s\n",
      "671:\tlearn: 1606.9720413\ttotal: 16.7s\tremaining: 8.15s\n",
      "672:\tlearn: 1606.8584758\ttotal: 16.7s\tremaining: 8.13s\n",
      "673:\tlearn: 1606.7419312\ttotal: 16.7s\tremaining: 8.1s\n",
      "674:\tlearn: 1606.5584667\ttotal: 16.8s\tremaining: 8.07s\n",
      "675:\tlearn: 1606.4170845\ttotal: 16.8s\tremaining: 8.05s\n",
      "676:\tlearn: 1606.2226897\ttotal: 16.8s\tremaining: 8.02s\n",
      "677:\tlearn: 1606.0599162\ttotal: 16.8s\tremaining: 8s\n",
      "678:\tlearn: 1605.9673495\ttotal: 16.9s\tremaining: 7.97s\n",
      "679:\tlearn: 1605.7975531\ttotal: 16.9s\tremaining: 7.94s\n",
      "680:\tlearn: 1605.5922140\ttotal: 16.9s\tremaining: 7.92s\n",
      "681:\tlearn: 1605.5211433\ttotal: 16.9s\tremaining: 7.89s\n",
      "682:\tlearn: 1605.1772131\ttotal: 16.9s\tremaining: 7.86s\n",
      "683:\tlearn: 1604.9422181\ttotal: 17s\tremaining: 7.83s\n",
      "684:\tlearn: 1604.7896767\ttotal: 17s\tremaining: 7.81s\n",
      "685:\tlearn: 1604.6258771\ttotal: 17s\tremaining: 7.78s\n",
      "686:\tlearn: 1604.5642449\ttotal: 17s\tremaining: 7.76s\n",
      "687:\tlearn: 1604.3757308\ttotal: 17s\tremaining: 7.73s\n",
      "688:\tlearn: 1604.1739172\ttotal: 17.1s\tremaining: 7.7s\n",
      "689:\tlearn: 1604.0979126\ttotal: 17.1s\tremaining: 7.67s\n",
      "690:\tlearn: 1603.9267648\ttotal: 17.1s\tremaining: 7.65s\n",
      "691:\tlearn: 1603.7700470\ttotal: 17.1s\tremaining: 7.62s\n",
      "692:\tlearn: 1603.5309378\ttotal: 17.1s\tremaining: 7.6s\n",
      "693:\tlearn: 1603.3315772\ttotal: 17.2s\tremaining: 7.57s\n",
      "694:\tlearn: 1603.1437747\ttotal: 17.2s\tremaining: 7.54s\n",
      "695:\tlearn: 1603.0390128\ttotal: 17.2s\tremaining: 7.52s\n",
      "696:\tlearn: 1602.9311780\ttotal: 17.2s\tremaining: 7.49s\n",
      "697:\tlearn: 1602.8501434\ttotal: 17.3s\tremaining: 7.46s\n",
      "698:\tlearn: 1602.6892932\ttotal: 17.3s\tremaining: 7.44s\n",
      "699:\tlearn: 1602.4662395\ttotal: 17.3s\tremaining: 7.41s\n",
      "700:\tlearn: 1602.2997806\ttotal: 17.3s\tremaining: 7.39s\n",
      "701:\tlearn: 1602.2313022\ttotal: 17.3s\tremaining: 7.36s\n",
      "702:\tlearn: 1602.1407850\ttotal: 17.4s\tremaining: 7.33s\n",
      "703:\tlearn: 1601.9800573\ttotal: 17.4s\tremaining: 7.31s\n",
      "704:\tlearn: 1601.8510591\ttotal: 17.4s\tremaining: 7.28s\n",
      "705:\tlearn: 1601.5656923\ttotal: 17.4s\tremaining: 7.25s\n",
      "706:\tlearn: 1601.3345220\ttotal: 17.4s\tremaining: 7.23s\n",
      "707:\tlearn: 1601.2409003\ttotal: 17.5s\tremaining: 7.2s\n",
      "708:\tlearn: 1601.1206042\ttotal: 17.5s\tremaining: 7.18s\n",
      "709:\tlearn: 1600.9922594\ttotal: 17.5s\tremaining: 7.15s\n",
      "710:\tlearn: 1600.8754002\ttotal: 17.5s\tremaining: 7.12s\n",
      "711:\tlearn: 1600.7039469\ttotal: 17.5s\tremaining: 7.1s\n",
      "712:\tlearn: 1600.6108361\ttotal: 17.6s\tremaining: 7.07s\n",
      "713:\tlearn: 1600.4210485\ttotal: 17.6s\tremaining: 7.05s\n",
      "714:\tlearn: 1600.2417432\ttotal: 17.6s\tremaining: 7.02s\n",
      "715:\tlearn: 1600.0755976\ttotal: 17.6s\tremaining: 7s\n",
      "716:\tlearn: 1600.0189667\ttotal: 17.7s\tremaining: 6.97s\n",
      "717:\tlearn: 1599.7664015\ttotal: 17.7s\tremaining: 6.95s\n",
      "718:\tlearn: 1599.4989149\ttotal: 17.7s\tremaining: 6.92s\n",
      "719:\tlearn: 1599.4304627\ttotal: 17.7s\tremaining: 6.89s\n",
      "720:\tlearn: 1599.2418771\ttotal: 17.8s\tremaining: 6.87s\n",
      "721:\tlearn: 1599.1009699\ttotal: 17.8s\tremaining: 6.84s\n",
      "722:\tlearn: 1598.9467241\ttotal: 17.8s\tremaining: 6.82s\n",
      "723:\tlearn: 1598.8394350\ttotal: 17.8s\tremaining: 6.79s\n",
      "724:\tlearn: 1598.6009846\ttotal: 17.8s\tremaining: 6.77s\n",
      "725:\tlearn: 1598.4660842\ttotal: 17.9s\tremaining: 6.74s\n",
      "726:\tlearn: 1598.2917984\ttotal: 17.9s\tremaining: 6.72s\n",
      "727:\tlearn: 1598.1602131\ttotal: 17.9s\tremaining: 6.7s\n",
      "728:\tlearn: 1598.0782679\ttotal: 18s\tremaining: 6.67s\n",
      "729:\tlearn: 1597.8175223\ttotal: 18s\tremaining: 6.65s\n",
      "730:\tlearn: 1597.6949233\ttotal: 18s\tremaining: 6.63s\n",
      "731:\tlearn: 1597.5418811\ttotal: 18s\tremaining: 6.6s\n",
      "732:\tlearn: 1597.4275186\ttotal: 18s\tremaining: 6.57s\n",
      "733:\tlearn: 1597.2964275\ttotal: 18.1s\tremaining: 6.55s\n",
      "734:\tlearn: 1597.1265955\ttotal: 18.1s\tremaining: 6.52s\n",
      "735:\tlearn: 1597.0330333\ttotal: 18.1s\tremaining: 6.5s\n",
      "736:\tlearn: 1596.9081021\ttotal: 18.1s\tremaining: 6.47s\n",
      "737:\tlearn: 1596.7958007\ttotal: 18.2s\tremaining: 6.45s\n",
      "738:\tlearn: 1596.6767492\ttotal: 18.2s\tremaining: 6.42s\n",
      "739:\tlearn: 1596.5226557\ttotal: 18.2s\tremaining: 6.39s\n",
      "740:\tlearn: 1596.3659252\ttotal: 18.2s\tremaining: 6.37s\n",
      "741:\tlearn: 1596.1636259\ttotal: 18.2s\tremaining: 6.34s\n",
      "742:\tlearn: 1596.0145949\ttotal: 18.3s\tremaining: 6.32s\n",
      "743:\tlearn: 1595.9057710\ttotal: 18.3s\tremaining: 6.29s\n",
      "744:\tlearn: 1595.8361947\ttotal: 18.3s\tremaining: 6.27s\n",
      "745:\tlearn: 1595.6027055\ttotal: 18.3s\tremaining: 6.24s\n",
      "746:\tlearn: 1595.4762069\ttotal: 18.4s\tremaining: 6.22s\n",
      "747:\tlearn: 1595.2456339\ttotal: 18.4s\tremaining: 6.19s\n",
      "748:\tlearn: 1595.1523365\ttotal: 18.4s\tremaining: 6.17s\n",
      "749:\tlearn: 1594.9984008\ttotal: 18.4s\tremaining: 6.14s\n",
      "750:\tlearn: 1594.8654220\ttotal: 18.4s\tremaining: 6.12s\n",
      "751:\tlearn: 1594.7094570\ttotal: 18.5s\tremaining: 6.09s\n",
      "752:\tlearn: 1594.5671590\ttotal: 18.5s\tremaining: 6.07s\n",
      "753:\tlearn: 1594.4881243\ttotal: 18.5s\tremaining: 6.04s\n",
      "754:\tlearn: 1594.3162920\ttotal: 18.5s\tremaining: 6.01s\n",
      "755:\tlearn: 1594.1602676\ttotal: 18.6s\tremaining: 5.99s\n",
      "756:\tlearn: 1594.0559168\ttotal: 18.6s\tremaining: 5.96s\n",
      "757:\tlearn: 1593.9113742\ttotal: 18.6s\tremaining: 5.94s\n",
      "758:\tlearn: 1593.7351162\ttotal: 18.6s\tremaining: 5.91s\n",
      "759:\tlearn: 1593.5994219\ttotal: 18.6s\tremaining: 5.89s\n",
      "760:\tlearn: 1593.5316370\ttotal: 18.7s\tremaining: 5.86s\n",
      "761:\tlearn: 1593.4475937\ttotal: 18.7s\tremaining: 5.83s\n",
      "762:\tlearn: 1593.2686537\ttotal: 18.7s\tremaining: 5.81s\n",
      "763:\tlearn: 1593.1718114\ttotal: 18.7s\tremaining: 5.78s\n",
      "764:\tlearn: 1593.0426991\ttotal: 18.7s\tremaining: 5.76s\n",
      "765:\tlearn: 1592.8774028\ttotal: 18.8s\tremaining: 5.73s\n",
      "766:\tlearn: 1592.6842079\ttotal: 18.8s\tremaining: 5.71s\n",
      "767:\tlearn: 1592.5383266\ttotal: 18.8s\tremaining: 5.68s\n",
      "768:\tlearn: 1592.4087048\ttotal: 18.8s\tremaining: 5.66s\n",
      "769:\tlearn: 1592.2639507\ttotal: 18.9s\tremaining: 5.63s\n",
      "770:\tlearn: 1592.1761256\ttotal: 18.9s\tremaining: 5.61s\n",
      "771:\tlearn: 1591.9861867\ttotal: 18.9s\tremaining: 5.58s\n",
      "772:\tlearn: 1591.8500865\ttotal: 18.9s\tremaining: 5.55s\n",
      "773:\tlearn: 1591.7485805\ttotal: 18.9s\tremaining: 5.53s\n",
      "774:\tlearn: 1591.6732624\ttotal: 19s\tremaining: 5.5s\n",
      "775:\tlearn: 1591.5523937\ttotal: 19s\tremaining: 5.48s\n",
      "776:\tlearn: 1591.4616658\ttotal: 19s\tremaining: 5.45s\n",
      "777:\tlearn: 1591.3791210\ttotal: 19s\tremaining: 5.43s\n",
      "778:\tlearn: 1591.2486015\ttotal: 19s\tremaining: 5.4s\n",
      "779:\tlearn: 1591.1491862\ttotal: 19.1s\tremaining: 5.38s\n",
      "780:\tlearn: 1591.0446731\ttotal: 19.1s\tremaining: 5.35s\n",
      "781:\tlearn: 1590.8881443\ttotal: 19.1s\tremaining: 5.33s\n",
      "782:\tlearn: 1590.7559761\ttotal: 19.1s\tremaining: 5.3s\n",
      "783:\tlearn: 1590.6787455\ttotal: 19.1s\tremaining: 5.27s\n",
      "784:\tlearn: 1590.5556980\ttotal: 19.2s\tremaining: 5.25s\n",
      "785:\tlearn: 1590.4165852\ttotal: 19.2s\tremaining: 5.22s\n",
      "786:\tlearn: 1590.2968754\ttotal: 19.2s\tremaining: 5.2s\n",
      "787:\tlearn: 1590.2022250\ttotal: 19.2s\tremaining: 5.17s\n",
      "788:\tlearn: 1590.1046133\ttotal: 19.2s\tremaining: 5.15s\n",
      "789:\tlearn: 1589.9870214\ttotal: 19.3s\tremaining: 5.12s\n",
      "790:\tlearn: 1589.8599787\ttotal: 19.3s\tremaining: 5.1s\n",
      "791:\tlearn: 1589.6871323\ttotal: 19.3s\tremaining: 5.07s\n",
      "792:\tlearn: 1589.5536106\ttotal: 19.3s\tremaining: 5.04s\n",
      "793:\tlearn: 1589.4437805\ttotal: 19.3s\tremaining: 5.02s\n",
      "794:\tlearn: 1589.3630057\ttotal: 19.4s\tremaining: 4.99s\n",
      "795:\tlearn: 1589.2945348\ttotal: 19.4s\tremaining: 4.97s\n",
      "796:\tlearn: 1589.1727966\ttotal: 19.4s\tremaining: 4.94s\n",
      "797:\tlearn: 1589.0507328\ttotal: 19.4s\tremaining: 4.92s\n",
      "798:\tlearn: 1588.8659879\ttotal: 19.4s\tremaining: 4.89s\n",
      "799:\tlearn: 1588.8086504\ttotal: 19.5s\tremaining: 4.87s\n",
      "800:\tlearn: 1588.6809941\ttotal: 19.5s\tremaining: 4.84s\n",
      "801:\tlearn: 1588.4864969\ttotal: 19.5s\tremaining: 4.82s\n",
      "802:\tlearn: 1588.4079713\ttotal: 19.5s\tremaining: 4.79s\n",
      "803:\tlearn: 1588.3071836\ttotal: 19.6s\tremaining: 4.77s\n",
      "804:\tlearn: 1588.1555851\ttotal: 19.6s\tremaining: 4.75s\n",
      "805:\tlearn: 1588.0227718\ttotal: 19.6s\tremaining: 4.72s\n",
      "806:\tlearn: 1587.9658938\ttotal: 19.6s\tremaining: 4.7s\n",
      "807:\tlearn: 1587.8890992\ttotal: 19.7s\tremaining: 4.67s\n",
      "808:\tlearn: 1587.7498384\ttotal: 19.7s\tremaining: 4.65s\n",
      "809:\tlearn: 1587.5957245\ttotal: 19.7s\tremaining: 4.63s\n",
      "810:\tlearn: 1587.5042136\ttotal: 19.8s\tremaining: 4.6s\n",
      "811:\tlearn: 1587.3931361\ttotal: 19.8s\tremaining: 4.58s\n",
      "812:\tlearn: 1587.3036432\ttotal: 19.8s\tremaining: 4.56s\n",
      "813:\tlearn: 1587.1909299\ttotal: 19.8s\tremaining: 4.53s\n",
      "814:\tlearn: 1587.0376840\ttotal: 19.9s\tremaining: 4.51s\n",
      "815:\tlearn: 1586.8510616\ttotal: 19.9s\tremaining: 4.49s\n",
      "816:\tlearn: 1586.7154995\ttotal: 19.9s\tremaining: 4.47s\n",
      "817:\tlearn: 1586.5546698\ttotal: 20s\tremaining: 4.44s\n",
      "818:\tlearn: 1586.4075354\ttotal: 20s\tremaining: 4.42s\n",
      "819:\tlearn: 1586.3339982\ttotal: 20s\tremaining: 4.39s\n",
      "820:\tlearn: 1586.1796561\ttotal: 20s\tremaining: 4.37s\n",
      "821:\tlearn: 1586.0531250\ttotal: 20.1s\tremaining: 4.34s\n",
      "822:\tlearn: 1585.9270555\ttotal: 20.1s\tremaining: 4.32s\n",
      "823:\tlearn: 1585.7948878\ttotal: 20.1s\tremaining: 4.3s\n",
      "824:\tlearn: 1585.6653123\ttotal: 20.1s\tremaining: 4.27s\n",
      "825:\tlearn: 1585.5512735\ttotal: 20.2s\tremaining: 4.25s\n",
      "826:\tlearn: 1585.4292928\ttotal: 20.2s\tremaining: 4.22s\n",
      "827:\tlearn: 1585.3229374\ttotal: 20.2s\tremaining: 4.2s\n",
      "828:\tlearn: 1585.1677657\ttotal: 20.2s\tremaining: 4.17s\n",
      "829:\tlearn: 1585.0581353\ttotal: 20.3s\tremaining: 4.15s\n",
      "830:\tlearn: 1584.9206720\ttotal: 20.3s\tremaining: 4.12s\n",
      "831:\tlearn: 1584.7825163\ttotal: 20.3s\tremaining: 4.1s\n",
      "832:\tlearn: 1584.6992363\ttotal: 20.3s\tremaining: 4.07s\n",
      "833:\tlearn: 1584.6133488\ttotal: 20.3s\tremaining: 4.05s\n",
      "834:\tlearn: 1584.5290681\ttotal: 20.4s\tremaining: 4.02s\n",
      "835:\tlearn: 1584.3711618\ttotal: 20.4s\tremaining: 4s\n",
      "836:\tlearn: 1584.2253513\ttotal: 20.4s\tremaining: 3.97s\n",
      "837:\tlearn: 1584.0702907\ttotal: 20.4s\tremaining: 3.95s\n",
      "838:\tlearn: 1583.9912152\ttotal: 20.4s\tremaining: 3.92s\n",
      "839:\tlearn: 1583.8678775\ttotal: 20.5s\tremaining: 3.9s\n",
      "840:\tlearn: 1583.7900065\ttotal: 20.5s\tremaining: 3.88s\n",
      "841:\tlearn: 1583.7211593\ttotal: 20.5s\tremaining: 3.85s\n",
      "842:\tlearn: 1583.6439704\ttotal: 20.5s\tremaining: 3.83s\n",
      "843:\tlearn: 1583.4673731\ttotal: 20.6s\tremaining: 3.8s\n",
      "844:\tlearn: 1583.2951575\ttotal: 20.6s\tremaining: 3.78s\n",
      "845:\tlearn: 1583.1579524\ttotal: 20.6s\tremaining: 3.75s\n",
      "846:\tlearn: 1583.0550687\ttotal: 20.6s\tremaining: 3.73s\n",
      "847:\tlearn: 1582.9088458\ttotal: 20.7s\tremaining: 3.7s\n",
      "848:\tlearn: 1582.7264681\ttotal: 20.7s\tremaining: 3.68s\n",
      "849:\tlearn: 1582.6458361\ttotal: 20.7s\tremaining: 3.65s\n",
      "850:\tlearn: 1582.5093199\ttotal: 20.7s\tremaining: 3.63s\n",
      "851:\tlearn: 1582.3804937\ttotal: 20.8s\tremaining: 3.6s\n",
      "852:\tlearn: 1582.2758643\ttotal: 20.8s\tremaining: 3.58s\n",
      "853:\tlearn: 1582.1411145\ttotal: 20.8s\tremaining: 3.55s\n",
      "854:\tlearn: 1582.0612922\ttotal: 20.8s\tremaining: 3.53s\n",
      "855:\tlearn: 1581.9897634\ttotal: 20.8s\tremaining: 3.5s\n",
      "856:\tlearn: 1581.8419028\ttotal: 20.9s\tremaining: 3.48s\n",
      "857:\tlearn: 1581.7180778\ttotal: 20.9s\tremaining: 3.46s\n",
      "858:\tlearn: 1581.6255609\ttotal: 20.9s\tremaining: 3.43s\n",
      "859:\tlearn: 1581.5526319\ttotal: 20.9s\tremaining: 3.41s\n",
      "860:\tlearn: 1581.3486888\ttotal: 20.9s\tremaining: 3.38s\n",
      "861:\tlearn: 1581.1951891\ttotal: 21s\tremaining: 3.36s\n",
      "862:\tlearn: 1581.1340093\ttotal: 21s\tremaining: 3.33s\n",
      "863:\tlearn: 1581.0497676\ttotal: 21s\tremaining: 3.31s\n",
      "864:\tlearn: 1580.8786616\ttotal: 21s\tremaining: 3.28s\n",
      "865:\tlearn: 1580.7878572\ttotal: 21.1s\tremaining: 3.26s\n",
      "866:\tlearn: 1580.6904606\ttotal: 21.1s\tremaining: 3.23s\n",
      "867:\tlearn: 1580.6120198\ttotal: 21.1s\tremaining: 3.21s\n",
      "868:\tlearn: 1580.4649718\ttotal: 21.1s\tremaining: 3.19s\n",
      "869:\tlearn: 1580.3236486\ttotal: 21.2s\tremaining: 3.16s\n",
      "870:\tlearn: 1580.2196078\ttotal: 21.2s\tremaining: 3.13s\n",
      "871:\tlearn: 1580.1241307\ttotal: 21.2s\tremaining: 3.11s\n",
      "872:\tlearn: 1579.8860862\ttotal: 21.2s\tremaining: 3.09s\n",
      "873:\tlearn: 1579.7661838\ttotal: 21.2s\tremaining: 3.06s\n",
      "874:\tlearn: 1579.6512859\ttotal: 21.3s\tremaining: 3.04s\n",
      "875:\tlearn: 1579.4821053\ttotal: 21.3s\tremaining: 3.01s\n",
      "876:\tlearn: 1579.3694154\ttotal: 21.3s\tremaining: 2.99s\n",
      "877:\tlearn: 1579.2771804\ttotal: 21.3s\tremaining: 2.96s\n",
      "878:\tlearn: 1579.0946475\ttotal: 21.4s\tremaining: 2.94s\n",
      "879:\tlearn: 1578.9918580\ttotal: 21.4s\tremaining: 2.92s\n",
      "880:\tlearn: 1578.8838229\ttotal: 21.4s\tremaining: 2.89s\n",
      "881:\tlearn: 1578.8173141\ttotal: 21.4s\tremaining: 2.87s\n",
      "882:\tlearn: 1578.7394874\ttotal: 21.4s\tremaining: 2.84s\n",
      "883:\tlearn: 1578.5981241\ttotal: 21.5s\tremaining: 2.82s\n",
      "884:\tlearn: 1578.4933248\ttotal: 21.5s\tremaining: 2.79s\n",
      "885:\tlearn: 1578.4251223\ttotal: 21.5s\tremaining: 2.77s\n",
      "886:\tlearn: 1578.3553608\ttotal: 21.5s\tremaining: 2.74s\n",
      "887:\tlearn: 1578.1993311\ttotal: 21.6s\tremaining: 2.72s\n",
      "888:\tlearn: 1578.0076014\ttotal: 21.6s\tremaining: 2.7s\n",
      "889:\tlearn: 1577.9179183\ttotal: 21.6s\tremaining: 2.67s\n",
      "890:\tlearn: 1577.7536197\ttotal: 21.7s\tremaining: 2.65s\n",
      "891:\tlearn: 1577.6773507\ttotal: 21.7s\tremaining: 2.63s\n",
      "892:\tlearn: 1577.5722305\ttotal: 21.7s\tremaining: 2.6s\n",
      "893:\tlearn: 1577.4696690\ttotal: 21.8s\tremaining: 2.58s\n",
      "894:\tlearn: 1577.3841378\ttotal: 21.8s\tremaining: 2.55s\n",
      "895:\tlearn: 1577.2776220\ttotal: 21.8s\tremaining: 2.53s\n",
      "896:\tlearn: 1577.1011467\ttotal: 21.8s\tremaining: 2.51s\n",
      "897:\tlearn: 1577.0023731\ttotal: 21.9s\tremaining: 2.48s\n",
      "898:\tlearn: 1576.8690777\ttotal: 21.9s\tremaining: 2.46s\n",
      "899:\tlearn: 1576.7411969\ttotal: 21.9s\tremaining: 2.43s\n",
      "900:\tlearn: 1576.6838170\ttotal: 21.9s\tremaining: 2.41s\n",
      "901:\tlearn: 1576.4654386\ttotal: 22s\tremaining: 2.38s\n",
      "902:\tlearn: 1576.3221158\ttotal: 22s\tremaining: 2.36s\n",
      "903:\tlearn: 1576.2392316\ttotal: 22s\tremaining: 2.34s\n",
      "904:\tlearn: 1576.1259358\ttotal: 22s\tremaining: 2.31s\n",
      "905:\tlearn: 1575.9894916\ttotal: 22.1s\tremaining: 2.29s\n",
      "906:\tlearn: 1575.9010509\ttotal: 22.1s\tremaining: 2.26s\n",
      "907:\tlearn: 1575.7714501\ttotal: 22.1s\tremaining: 2.24s\n",
      "908:\tlearn: 1575.7095212\ttotal: 22.1s\tremaining: 2.21s\n",
      "909:\tlearn: 1575.6018920\ttotal: 22.1s\tremaining: 2.19s\n",
      "910:\tlearn: 1575.4656945\ttotal: 22.2s\tremaining: 2.17s\n",
      "911:\tlearn: 1575.3459253\ttotal: 22.2s\tremaining: 2.14s\n",
      "912:\tlearn: 1575.2473929\ttotal: 22.2s\tremaining: 2.12s\n",
      "913:\tlearn: 1575.1261602\ttotal: 22.2s\tremaining: 2.09s\n",
      "914:\tlearn: 1575.0531172\ttotal: 22.3s\tremaining: 2.07s\n",
      "915:\tlearn: 1574.9346879\ttotal: 22.3s\tremaining: 2.04s\n",
      "916:\tlearn: 1574.8510870\ttotal: 22.3s\tremaining: 2.02s\n",
      "917:\tlearn: 1574.7566724\ttotal: 22.3s\tremaining: 1.99s\n",
      "918:\tlearn: 1574.6551470\ttotal: 22.3s\tremaining: 1.97s\n",
      "919:\tlearn: 1574.5696666\ttotal: 22.4s\tremaining: 1.94s\n",
      "920:\tlearn: 1574.3610961\ttotal: 22.4s\tremaining: 1.92s\n",
      "921:\tlearn: 1574.2104055\ttotal: 22.4s\tremaining: 1.9s\n",
      "922:\tlearn: 1574.0721717\ttotal: 22.4s\tremaining: 1.87s\n",
      "923:\tlearn: 1573.9733414\ttotal: 22.4s\tremaining: 1.85s\n",
      "924:\tlearn: 1573.7596239\ttotal: 22.5s\tremaining: 1.82s\n",
      "925:\tlearn: 1573.6789242\ttotal: 22.5s\tremaining: 1.8s\n",
      "926:\tlearn: 1573.5459052\ttotal: 22.5s\tremaining: 1.77s\n",
      "927:\tlearn: 1573.4537109\ttotal: 22.5s\tremaining: 1.75s\n",
      "928:\tlearn: 1573.3349310\ttotal: 22.6s\tremaining: 1.73s\n",
      "929:\tlearn: 1573.1693119\ttotal: 22.6s\tremaining: 1.7s\n",
      "930:\tlearn: 1572.9859944\ttotal: 22.6s\tremaining: 1.68s\n",
      "931:\tlearn: 1572.8826098\ttotal: 22.7s\tremaining: 1.65s\n",
      "932:\tlearn: 1572.7647584\ttotal: 22.7s\tremaining: 1.63s\n",
      "933:\tlearn: 1572.4691350\ttotal: 22.7s\tremaining: 1.6s\n",
      "934:\tlearn: 1572.3545168\ttotal: 22.7s\tremaining: 1.58s\n",
      "935:\tlearn: 1572.2660878\ttotal: 22.8s\tremaining: 1.56s\n",
      "936:\tlearn: 1572.1334158\ttotal: 22.8s\tremaining: 1.53s\n",
      "937:\tlearn: 1572.0035225\ttotal: 22.8s\tremaining: 1.51s\n",
      "938:\tlearn: 1571.9256421\ttotal: 22.8s\tremaining: 1.48s\n",
      "939:\tlearn: 1571.8648113\ttotal: 22.9s\tremaining: 1.46s\n",
      "940:\tlearn: 1571.7487436\ttotal: 22.9s\tremaining: 1.44s\n",
      "941:\tlearn: 1571.6532783\ttotal: 22.9s\tremaining: 1.41s\n",
      "942:\tlearn: 1571.4891170\ttotal: 23s\tremaining: 1.39s\n",
      "943:\tlearn: 1571.4045520\ttotal: 23s\tremaining: 1.36s\n",
      "944:\tlearn: 1571.2858050\ttotal: 23s\tremaining: 1.34s\n",
      "945:\tlearn: 1571.1644574\ttotal: 23s\tremaining: 1.31s\n",
      "946:\tlearn: 1571.0160111\ttotal: 23.1s\tremaining: 1.29s\n",
      "947:\tlearn: 1570.8748027\ttotal: 23.1s\tremaining: 1.27s\n",
      "948:\tlearn: 1570.6862906\ttotal: 23.1s\tremaining: 1.24s\n",
      "949:\tlearn: 1570.6047940\ttotal: 23.1s\tremaining: 1.22s\n",
      "950:\tlearn: 1570.5137726\ttotal: 23.2s\tremaining: 1.19s\n",
      "951:\tlearn: 1570.4050665\ttotal: 23.2s\tremaining: 1.17s\n",
      "952:\tlearn: 1570.2417703\ttotal: 23.2s\tremaining: 1.14s\n",
      "953:\tlearn: 1570.0964625\ttotal: 23.2s\tremaining: 1.12s\n",
      "954:\tlearn: 1569.9561956\ttotal: 23.2s\tremaining: 1.09s\n",
      "955:\tlearn: 1569.8185822\ttotal: 23.3s\tremaining: 1.07s\n",
      "956:\tlearn: 1569.6924845\ttotal: 23.3s\tremaining: 1.05s\n",
      "957:\tlearn: 1569.6172419\ttotal: 23.3s\tremaining: 1.02s\n",
      "958:\tlearn: 1569.5686431\ttotal: 23.3s\tremaining: 998ms\n",
      "959:\tlearn: 1569.4287645\ttotal: 23.4s\tremaining: 973ms\n",
      "960:\tlearn: 1569.3170931\ttotal: 23.4s\tremaining: 949ms\n",
      "961:\tlearn: 1569.1379102\ttotal: 23.4s\tremaining: 925ms\n",
      "962:\tlearn: 1568.9894699\ttotal: 23.5s\tremaining: 901ms\n",
      "963:\tlearn: 1568.8888524\ttotal: 23.5s\tremaining: 877ms\n",
      "964:\tlearn: 1568.7956929\ttotal: 23.5s\tremaining: 853ms\n",
      "965:\tlearn: 1568.6451800\ttotal: 23.5s\tremaining: 828ms\n",
      "966:\tlearn: 1568.5600598\ttotal: 23.6s\tremaining: 804ms\n",
      "967:\tlearn: 1568.4578831\ttotal: 23.6s\tremaining: 779ms\n",
      "968:\tlearn: 1568.3641566\ttotal: 23.6s\tremaining: 755ms\n",
      "969:\tlearn: 1568.3058513\ttotal: 23.6s\tremaining: 730ms\n",
      "970:\tlearn: 1568.2073752\ttotal: 23.6s\tremaining: 706ms\n",
      "971:\tlearn: 1568.1018969\ttotal: 23.7s\tremaining: 682ms\n",
      "972:\tlearn: 1568.0013727\ttotal: 23.7s\tremaining: 657ms\n",
      "973:\tlearn: 1567.8782587\ttotal: 23.7s\tremaining: 633ms\n",
      "974:\tlearn: 1567.8054909\ttotal: 23.7s\tremaining: 608ms\n",
      "975:\tlearn: 1567.7378645\ttotal: 23.7s\tremaining: 584ms\n",
      "976:\tlearn: 1567.6410284\ttotal: 23.8s\tremaining: 560ms\n",
      "977:\tlearn: 1567.5801709\ttotal: 23.8s\tremaining: 535ms\n",
      "978:\tlearn: 1567.5187266\ttotal: 23.8s\tremaining: 511ms\n",
      "979:\tlearn: 1567.3747574\ttotal: 23.8s\tremaining: 486ms\n",
      "980:\tlearn: 1567.3139168\ttotal: 23.9s\tremaining: 462ms\n",
      "981:\tlearn: 1567.1843807\ttotal: 23.9s\tremaining: 438ms\n",
      "982:\tlearn: 1567.0271127\ttotal: 23.9s\tremaining: 413ms\n",
      "983:\tlearn: 1566.8920511\ttotal: 23.9s\tremaining: 389ms\n",
      "984:\tlearn: 1566.7782850\ttotal: 24s\tremaining: 365ms\n",
      "985:\tlearn: 1566.6461270\ttotal: 24s\tremaining: 341ms\n",
      "986:\tlearn: 1566.5386097\ttotal: 24s\tremaining: 316ms\n",
      "987:\tlearn: 1566.4409698\ttotal: 24s\tremaining: 292ms\n",
      "988:\tlearn: 1566.3304932\ttotal: 24.1s\tremaining: 268ms\n",
      "989:\tlearn: 1566.1790646\ttotal: 24.1s\tremaining: 243ms\n",
      "990:\tlearn: 1566.1146185\ttotal: 24.1s\tremaining: 219ms\n",
      "991:\tlearn: 1565.9494135\ttotal: 24.1s\tremaining: 195ms\n",
      "992:\tlearn: 1565.8675502\ttotal: 24.2s\tremaining: 170ms\n",
      "993:\tlearn: 1565.7080540\ttotal: 24.2s\tremaining: 146ms\n",
      "994:\tlearn: 1565.5788102\ttotal: 24.2s\tremaining: 122ms\n",
      "995:\tlearn: 1565.4601626\ttotal: 24.3s\tremaining: 97.4ms\n",
      "996:\tlearn: 1565.3040963\ttotal: 24.3s\tremaining: 73.1ms\n",
      "997:\tlearn: 1565.1989511\ttotal: 24.3s\tremaining: 48.7ms\n",
      "998:\tlearn: 1565.0880533\ttotal: 24.3s\tremaining: 24.4ms\n",
      "999:\tlearn: 1565.0037217\ttotal: 24.4s\tremaining: 0us\n",
      "CPU times: user 24.7 s, sys: 166 ms, total: 24.8 s\n",
      "Wall time: 26.4 s\n"
     ]
    },
    {
     "data": {
      "text/plain": [
       "<catboost.core.CatBoostRegressor at 0x7fd401b858b0>"
      ]
     },
     "execution_count": 43,
     "metadata": {},
     "output_type": "execute_result"
    }
   ],
   "source": [
    "%%time\n",
    "\n",
    "#model_cbr = CatBoostRegressor(learning_rate=.5, random_state=12345, verbose=False) \n",
    "model_cbr.fit(features_train_oe, target_train_oe)"
   ]
  },
  {
   "cell_type": "code",
   "execution_count": 44,
   "metadata": {},
   "outputs": [
    {
     "name": "stdout",
     "output_type": "stream",
     "text": [
      "CPU times: user 191 ms, sys: 216 µs, total: 192 ms\n",
      "Wall time: 190 ms\n"
     ]
    }
   ],
   "source": [
    "%%time\n",
    "\n",
    "target_predict = model_cbr.predict(features_train_oe)"
   ]
  },
  {
   "cell_type": "markdown",
   "metadata": {},
   "source": [
    "**3.3 Модель LightGBMRegressor:**"
   ]
  },
  {
   "cell_type": "markdown",
   "metadata": {},
   "source": [
    "На выборках c OHE:"
   ]
  },
  {
   "cell_type": "code",
   "execution_count": 46,
   "metadata": {},
   "outputs": [
    {
     "name": "stdout",
     "output_type": "stream",
     "text": [
      "{'learning_rate': 0.1, 'num_leaves': 200, 'random_state': 12345}\n",
      "\n"
     ]
    },
    {
     "data": {
      "text/plain": [
       "1604.32827012054"
      ]
     },
     "execution_count": 46,
     "metadata": {},
     "output_type": "execute_result"
    }
   ],
   "source": [
    "model_lgbmr = LGBMRegressor() \n",
    "parameters = [{'num_leaves':[25, 50, 100, 200], 'learning_rate':[.1, .3, .5], 'random_state':[12345]}]\n",
    "\n",
    "clf = GridSearchCV(model_lgbmr, parameters, scoring='neg_mean_squared_error')\n",
    "clf.fit(features_train_ohe, target_train_ohe)\n",
    "\n",
    "print(clf.best_params_)\n",
    "print()\n",
    "\n",
    "mts = clf.cv_results_['mean_test_score']\n",
    "\n",
    "gscv_rsme_lgbmr_ohe = (max(mts) * -1) ** .5\n",
    "gscv_rsme_lgbmr_ohe"
   ]
  },
  {
   "cell_type": "code",
   "execution_count": 47,
   "metadata": {},
   "outputs": [
    {
     "name": "stdout",
     "output_type": "stream",
     "text": [
      "CPU times: user 5.5 s, sys: 155 ms, total: 5.65 s\n",
      "Wall time: 5.6 s\n"
     ]
    },
    {
     "data": {
      "text/plain": [
       "LGBMRegressor()"
      ]
     },
     "execution_count": 47,
     "metadata": {},
     "output_type": "execute_result"
    }
   ],
   "source": [
    "%%time\n",
    "\n",
    "model_lgbmr.fit(features_train_ohe, target_train_ohe)"
   ]
  },
  {
   "cell_type": "code",
   "execution_count": 48,
   "metadata": {},
   "outputs": [
    {
     "name": "stdout",
     "output_type": "stream",
     "text": [
      "CPU times: user 1.95 s, sys: 150 ms, total: 2.1 s\n",
      "Wall time: 2.11 s\n"
     ]
    }
   ],
   "source": [
    "%%time\n",
    "\n",
    "target_predict = model_lgbmr.predict(features_train_ohe)"
   ]
  },
  {
   "cell_type": "markdown",
   "metadata": {},
   "source": [
    "На выборках c OE:"
   ]
  },
  {
   "cell_type": "code",
   "execution_count": 50,
   "metadata": {},
   "outputs": [
    {
     "name": "stdout",
     "output_type": "stream",
     "text": [
      "{'learning_rate': 0.1, 'num_leaves': 200, 'random_state': 12345}\n",
      "\n",
      "CPU times: user 53min 54s, sys: 9.17 s, total: 54min 3s\n",
      "Wall time: 54min 14s\n"
     ]
    },
    {
     "data": {
      "text/plain": [
       "1613.361142443353"
      ]
     },
     "execution_count": 50,
     "metadata": {},
     "output_type": "execute_result"
    }
   ],
   "source": [
    "%%time\n",
    "\n",
    "model_lgbmr = LGBMRegressor() \n",
    "parameters = [{'num_leaves':[25, 50, 100, 200], 'learning_rate':[.1, .3, .5], 'random_state':[12345]}]\n",
    "\n",
    "clf = GridSearchCV(model_lgbmr, parameters, scoring='neg_mean_squared_error')\n",
    "clf.fit(features_train_oe, target_train_oe)\n",
    "\n",
    "print(clf.best_params_)\n",
    "print()\n",
    "\n",
    "mts = clf.cv_results_['mean_test_score']\n",
    "\n",
    "gscv_rsme_lgbmr_oe = (max(mts) * -1) ** .5\n",
    "gscv_rsme_lgbmr_oe"
   ]
  },
  {
   "cell_type": "code",
   "execution_count": 51,
   "metadata": {},
   "outputs": [
    {
     "name": "stdout",
     "output_type": "stream",
     "text": [
      "CPU times: user 4.07 s, sys: 20 ms, total: 4.09 s\n",
      "Wall time: 4.1 s\n"
     ]
    },
    {
     "data": {
      "text/plain": [
       "LGBMRegressor()"
      ]
     },
     "execution_count": 51,
     "metadata": {},
     "output_type": "execute_result"
    }
   ],
   "source": [
    "%%time\n",
    "\n",
    "model_lgbmr.fit(features_train_oe, target_train_oe)"
   ]
  },
  {
   "cell_type": "code",
   "execution_count": 52,
   "metadata": {},
   "outputs": [
    {
     "name": "stdout",
     "output_type": "stream",
     "text": [
      "CPU times: user 1.46 s, sys: 2.31 ms, total: 1.46 s\n",
      "Wall time: 1.52 s\n"
     ]
    }
   ],
   "source": [
    "%%time\n",
    "\n",
    "target_predict = model_lgbmr.predict(features_train_oe)"
   ]
  },
  {
   "cell_type": "markdown",
   "metadata": {},
   "source": [
    "Вывод п.3. Мы рассмотрели три модели - LinearRegression. Модель LinearRegression с 7-8 значной метрикой RMSE, полученной кроссвалидацией, рассматривать дальше не будем. Обучение моделей CatBoostRegressor и LGBMRegressor проводилось на выборках с кодировкой OE и кодировкой OHE. Анализ и финальное тестирование лучшей модели будет следующим шагом. "
   ]
  },
  {
   "cell_type": "markdown",
   "metadata": {},
   "source": [
    "## Анализ моделей"
   ]
  },
  {
   "cell_type": "markdown",
   "metadata": {},
   "source": [
    "Подставим лучшие гиперпараметры в модель и проверим ее на тестовой выборке:"
   ]
  },
  {
   "cell_type": "code",
   "execution_count": 55,
   "metadata": {},
   "outputs": [
    {
     "name": "stdout",
     "output_type": "stream",
     "text": [
      "CPU times: user 22.1 s, sys: 137 ms, total: 22.3 s\n",
      "Wall time: 23.2 s\n"
     ]
    },
    {
     "data": {
      "text/plain": [
       "<catboost.core.CatBoostRegressor at 0x7fd401b55dc0>"
      ]
     },
     "execution_count": 55,
     "metadata": {},
     "output_type": "execute_result"
    }
   ],
   "source": [
    "%%time\n",
    "\n",
    "model_cbr = CatBoostRegressor(learning_rate=.5, random_state=12345, verbose=False)\n",
    "model_cbr.fit(features_train_ohe, target_train_ohe)"
   ]
  },
  {
   "cell_type": "code",
   "execution_count": 56,
   "metadata": {},
   "outputs": [
    {
     "name": "stdout",
     "output_type": "stream",
     "text": [
      "CPU times: user 102 ms, sys: 3.78 ms, total: 106 ms\n",
      "Wall time: 106 ms\n"
     ]
    }
   ],
   "source": [
    "%%time\n",
    "\n",
    "target_predict_ohe = model_cbr.predict(features_test_ohe)"
   ]
  },
  {
   "cell_type": "code",
   "execution_count": 57,
   "metadata": {},
   "outputs": [
    {
     "data": {
      "text/plain": [
       "1569.6730222511164"
      ]
     },
     "execution_count": 57,
     "metadata": {},
     "output_type": "execute_result"
    }
   ],
   "source": [
    "final_rsme_cbr_ohe = mean_squared_error(target_test_ohe, target_predict_ohe) ** .5\n",
    "final_rsme_cbr_ohe"
   ]
  },
  {
   "cell_type": "markdown",
   "metadata": {},
   "source": [
    "Финальные данные добавляем в сравнительную таблицу:"
   ]
  },
  {
   "cell_type": "code",
   "execution_count": 58,
   "metadata": {
    "scrolled": true
   },
   "outputs": [
    {
     "data": {
      "text/html": [
       "<div>\n",
       "<style scoped>\n",
       "    .dataframe tbody tr th:only-of-type {\n",
       "        vertical-align: middle;\n",
       "    }\n",
       "\n",
       "    .dataframe tbody tr th {\n",
       "        vertical-align: top;\n",
       "    }\n",
       "\n",
       "    .dataframe thead th {\n",
       "        text-align: right;\n",
       "    }\n",
       "</style>\n",
       "<table border=\"1\" class=\"dataframe\">\n",
       "  <thead>\n",
       "    <tr style=\"text-align: right;\">\n",
       "      <th></th>\n",
       "      <th>RMSE</th>\n",
       "      <th>Время обучения модели</th>\n",
       "      <th>Время предсказания модели</th>\n",
       "      <th>Рейтинг</th>\n",
       "    </tr>\n",
       "  </thead>\n",
       "  <tbody>\n",
       "    <tr>\n",
       "      <th>LGBMRegressor_OHE</th>\n",
       "      <td>0.000000</td>\n",
       "      <td>0.0</td>\n",
       "      <td>0.00</td>\n",
       "      <td>0.000000</td>\n",
       "    </tr>\n",
       "    <tr>\n",
       "      <th>LGBMRegressor_OE</th>\n",
       "      <td>0.000000</td>\n",
       "      <td>0.0</td>\n",
       "      <td>0.00</td>\n",
       "      <td>0.000000</td>\n",
       "    </tr>\n",
       "    <tr>\n",
       "      <th>Финальные данные лучшей модели</th>\n",
       "      <td>1569.673022</td>\n",
       "      <td>24.8</td>\n",
       "      <td>0.14</td>\n",
       "      <td>541.919028</td>\n",
       "    </tr>\n",
       "    <tr>\n",
       "      <th>CatBoostRegressor_OHE</th>\n",
       "      <td>1596.670000</td>\n",
       "      <td>32.6</td>\n",
       "      <td>0.43</td>\n",
       "      <td>553.767700</td>\n",
       "    </tr>\n",
       "    <tr>\n",
       "      <th>CatBoostRegressor_OE</th>\n",
       "      <td>1617.650000</td>\n",
       "      <td>32.7</td>\n",
       "      <td>0.21</td>\n",
       "      <td>560.861300</td>\n",
       "    </tr>\n",
       "  </tbody>\n",
       "</table>\n",
       "</div>"
      ],
      "text/plain": [
       "                                       RMSE  Время обучения модели  \\\n",
       "LGBMRegressor_OHE                  0.000000                    0.0   \n",
       "LGBMRegressor_OE                   0.000000                    0.0   \n",
       "Финальные данные лучшей модели  1569.673022                   24.8   \n",
       "CatBoostRegressor_OHE           1596.670000                   32.6   \n",
       "CatBoostRegressor_OE            1617.650000                   32.7   \n",
       "\n",
       "                                Время предсказания модели     Рейтинг  \n",
       "LGBMRegressor_OHE                                    0.00    0.000000  \n",
       "LGBMRegressor_OE                                     0.00    0.000000  \n",
       "Финальные данные лучшей модели                       0.14  541.919028  \n",
       "CatBoostRegressor_OHE                                0.43  553.767700  \n",
       "CatBoostRegressor_OE                                 0.21  560.861300  "
      ]
     },
     "execution_count": 58,
     "metadata": {},
     "output_type": "execute_result"
    }
   ],
   "source": [
    "kpi_data.loc['Финальные данные лучшей модели'] = [final_rsme_cbr_ohe, 24.80, 0.14, \\\n",
    "                                        final_rsme_cbr_ohe * .34 + 24.80 * .33 + 0.14 * .33]\n",
    "kpi_data.sort_values(by = 'Рейтинг', ascending=True)"
   ]
  },
  {
   "cell_type": "markdown",
   "metadata": {},
   "source": [
    "**Общий вывод.** В ходе выполнения проекта были загружены данные и проведена их предобработка. Выполнено обучение моделей с подбором гиперпараметров. Выбрана лучшая модель по результатам метрики RMSE, времени обучения и времени предсказания. Для общей оценки по трем параметрам был собран относительный рейтинг. Качество лучшей модели было проверено на тестовой выборке. Финальная модель на тестовой выборке показала результат RMSE = 1569.67, временем обучения 24.80 и временем предсказания 0.14. "
   ]
  },
  {
   "cell_type": "code",
   "execution_count": null,
   "metadata": {},
   "outputs": [],
   "source": []
  }
 ],
 "metadata": {
  "ExecuteTimeLog": [
   {
    "duration": 1816,
    "start_time": "2023-04-24T14:16:02.998Z"
   },
   {
    "duration": 3089,
    "start_time": "2023-04-24T14:16:45.878Z"
   },
   {
    "duration": 322,
    "start_time": "2023-04-24T14:19:48.917Z"
   },
   {
    "duration": 716,
    "start_time": "2023-04-24T14:20:36.926Z"
   },
   {
    "duration": 710,
    "start_time": "2023-04-24T14:21:06.277Z"
   },
   {
    "duration": 17,
    "start_time": "2023-04-24T14:31:57.714Z"
   },
   {
    "duration": 6,
    "start_time": "2023-04-24T14:33:42.678Z"
   },
   {
    "duration": 44,
    "start_time": "2023-04-24T14:34:07.526Z"
   },
   {
    "duration": 180,
    "start_time": "2023-04-24T14:35:27.504Z"
   },
   {
    "duration": 320,
    "start_time": "2023-04-24T14:39:19.844Z"
   },
   {
    "duration": 8,
    "start_time": "2023-04-24T14:41:44.779Z"
   },
   {
    "duration": 22,
    "start_time": "2023-04-24T14:42:13.149Z"
   },
   {
    "duration": 534,
    "start_time": "2023-04-24T14:44:25.745Z"
   },
   {
    "duration": 9,
    "start_time": "2023-04-24T14:46:03.075Z"
   },
   {
    "duration": 33,
    "start_time": "2023-04-24T14:47:51.295Z"
   },
   {
    "duration": 21,
    "start_time": "2023-04-24T14:48:02.010Z"
   },
   {
    "duration": 21,
    "start_time": "2023-04-24T14:48:27.302Z"
   },
   {
    "duration": 8,
    "start_time": "2023-04-24T14:53:58.636Z"
   },
   {
    "duration": 8,
    "start_time": "2023-04-24T14:58:50.248Z"
   },
   {
    "duration": 2919,
    "start_time": "2023-04-24T15:00:17.001Z"
   },
   {
    "duration": 13,
    "start_time": "2023-04-24T15:00:49.245Z"
   },
   {
    "duration": 13,
    "start_time": "2023-04-24T15:00:51.711Z"
   },
   {
    "duration": 1364,
    "start_time": "2023-04-24T15:00:58.222Z"
   },
   {
    "duration": 722,
    "start_time": "2023-04-24T15:00:59.588Z"
   },
   {
    "duration": 734,
    "start_time": "2023-04-24T15:01:00.312Z"
   },
   {
    "duration": 6,
    "start_time": "2023-04-24T15:01:01.049Z"
   },
   {
    "duration": 70,
    "start_time": "2023-04-24T15:01:01.056Z"
   },
   {
    "duration": 171,
    "start_time": "2023-04-24T15:01:01.128Z"
   },
   {
    "duration": 8,
    "start_time": "2023-04-24T15:01:01.301Z"
   },
   {
    "duration": 66,
    "start_time": "2023-04-24T15:01:01.310Z"
   },
   {
    "duration": 461,
    "start_time": "2023-04-24T15:01:01.378Z"
   },
   {
    "duration": 10,
    "start_time": "2023-04-24T15:01:01.841Z"
   },
   {
    "duration": 44,
    "start_time": "2023-04-24T15:01:01.852Z"
   },
   {
    "duration": 19,
    "start_time": "2023-04-24T15:01:01.897Z"
   },
   {
    "duration": 15,
    "start_time": "2023-04-24T15:01:01.918Z"
   },
   {
    "duration": 2038,
    "start_time": "2023-04-24T15:01:01.935Z"
   },
   {
    "duration": 2008,
    "start_time": "2023-04-24T15:01:11.285Z"
   },
   {
    "duration": 10,
    "start_time": "2023-04-24T15:05:19.524Z"
   },
   {
    "duration": 9,
    "start_time": "2023-04-24T15:05:38.812Z"
   },
   {
    "duration": 2078,
    "start_time": "2023-04-24T15:06:44.696Z"
   },
   {
    "duration": 713,
    "start_time": "2023-04-24T15:08:00.019Z"
   },
   {
    "duration": 19,
    "start_time": "2023-04-24T15:08:37.386Z"
   },
   {
    "duration": 6,
    "start_time": "2023-04-24T15:11:18.187Z"
   },
   {
    "duration": 1393,
    "start_time": "2023-04-24T15:11:35.319Z"
   },
   {
    "duration": 775,
    "start_time": "2023-04-24T15:11:36.714Z"
   },
   {
    "duration": 725,
    "start_time": "2023-04-24T15:11:37.491Z"
   },
   {
    "duration": 6,
    "start_time": "2023-04-24T15:11:38.218Z"
   },
   {
    "duration": 52,
    "start_time": "2023-04-24T15:11:38.225Z"
   },
   {
    "duration": 185,
    "start_time": "2023-04-24T15:11:38.279Z"
   },
   {
    "duration": 8,
    "start_time": "2023-04-24T15:11:38.465Z"
   },
   {
    "duration": 22,
    "start_time": "2023-04-24T15:11:38.475Z"
   },
   {
    "duration": 525,
    "start_time": "2023-04-24T15:11:38.498Z"
   },
   {
    "duration": 12,
    "start_time": "2023-04-24T15:11:39.025Z"
   },
   {
    "duration": 40,
    "start_time": "2023-04-24T15:11:39.038Z"
   },
   {
    "duration": 21,
    "start_time": "2023-04-24T15:11:39.079Z"
   },
   {
    "duration": 7,
    "start_time": "2023-04-24T15:11:39.101Z"
   },
   {
    "duration": 695,
    "start_time": "2023-04-24T15:11:39.109Z"
   },
   {
    "duration": 20,
    "start_time": "2023-04-24T15:11:39.805Z"
   },
   {
    "duration": 16,
    "start_time": "2023-04-24T15:13:01.477Z"
   },
   {
    "duration": 17,
    "start_time": "2023-04-24T15:13:23.005Z"
   },
   {
    "duration": 7,
    "start_time": "2023-04-24T15:13:47.899Z"
   },
   {
    "duration": 14,
    "start_time": "2023-04-24T15:13:53.189Z"
   },
   {
    "duration": 19,
    "start_time": "2023-04-24T15:21:47.103Z"
   },
   {
    "duration": 142,
    "start_time": "2023-04-24T15:23:36.189Z"
   },
   {
    "duration": 6,
    "start_time": "2023-04-24T15:24:03.436Z"
   },
   {
    "duration": 19,
    "start_time": "2023-04-24T15:27:08.122Z"
   },
   {
    "duration": 50,
    "start_time": "2023-04-24T15:32:12.319Z"
   },
   {
    "duration": 109,
    "start_time": "2023-04-24T15:47:41.939Z"
   },
   {
    "duration": 39,
    "start_time": "2023-04-24T15:48:10.193Z"
   },
   {
    "duration": 50,
    "start_time": "2023-04-24T15:49:52.257Z"
   },
   {
    "duration": 33,
    "start_time": "2023-04-24T15:52:05.510Z"
   },
   {
    "duration": 25,
    "start_time": "2023-04-24T15:53:41.853Z"
   },
   {
    "duration": 27,
    "start_time": "2023-04-24T15:55:40.214Z"
   },
   {
    "duration": 33,
    "start_time": "2023-04-24T15:56:43.097Z"
   },
   {
    "duration": 115,
    "start_time": "2023-04-24T16:09:20.182Z"
   },
   {
    "duration": 624,
    "start_time": "2023-04-24T16:12:32.889Z"
   },
   {
    "duration": 1345,
    "start_time": "2023-04-24T16:15:24.425Z"
   },
   {
    "duration": 775,
    "start_time": "2023-04-24T16:15:25.772Z"
   },
   {
    "duration": 768,
    "start_time": "2023-04-24T16:15:26.549Z"
   },
   {
    "duration": 6,
    "start_time": "2023-04-24T16:15:27.319Z"
   },
   {
    "duration": 48,
    "start_time": "2023-04-24T16:15:27.336Z"
   },
   {
    "duration": 184,
    "start_time": "2023-04-24T16:15:27.386Z"
   },
   {
    "duration": 9,
    "start_time": "2023-04-24T16:15:27.572Z"
   },
   {
    "duration": 23,
    "start_time": "2023-04-24T16:15:27.582Z"
   },
   {
    "duration": 489,
    "start_time": "2023-04-24T16:15:27.607Z"
   },
   {
    "duration": 11,
    "start_time": "2023-04-24T16:15:28.099Z"
   },
   {
    "duration": 39,
    "start_time": "2023-04-24T16:15:28.111Z"
   },
   {
    "duration": 24,
    "start_time": "2023-04-24T16:15:28.152Z"
   },
   {
    "duration": 9,
    "start_time": "2023-04-24T16:15:28.178Z"
   },
   {
    "duration": 715,
    "start_time": "2023-04-24T16:15:28.188Z"
   },
   {
    "duration": 106,
    "start_time": "2023-04-24T16:15:28.905Z"
   },
   {
    "duration": 8,
    "start_time": "2023-04-24T16:15:29.013Z"
   },
   {
    "duration": 24,
    "start_time": "2023-04-24T16:15:29.022Z"
   },
   {
    "duration": 19,
    "start_time": "2023-04-24T16:15:29.048Z"
   },
   {
    "duration": 10,
    "start_time": "2023-04-24T16:15:29.069Z"
   },
   {
    "duration": 21,
    "start_time": "2023-04-24T16:15:29.080Z"
   },
   {
    "duration": 73,
    "start_time": "2023-04-24T16:15:29.102Z"
   },
   {
    "duration": 59,
    "start_time": "2023-04-24T16:15:29.177Z"
   },
   {
    "duration": 32,
    "start_time": "2023-04-24T16:15:29.237Z"
   },
   {
    "duration": 26,
    "start_time": "2023-04-24T16:15:29.271Z"
   },
   {
    "duration": 53,
    "start_time": "2023-04-24T16:15:29.299Z"
   },
   {
    "duration": 33,
    "start_time": "2023-04-24T16:15:29.354Z"
   },
   {
    "duration": 55,
    "start_time": "2023-04-24T16:15:29.389Z"
   },
   {
    "duration": 632,
    "start_time": "2023-04-24T16:15:29.446Z"
   },
   {
    "duration": 314,
    "start_time": "2023-04-24T16:15:30.080Z"
   },
   {
    "duration": 5,
    "start_time": "2023-04-24T16:15:30.396Z"
   },
   {
    "duration": 1345,
    "start_time": "2023-04-24T16:19:57.445Z"
   },
   {
    "duration": 684,
    "start_time": "2023-04-24T16:19:58.791Z"
   },
   {
    "duration": 673,
    "start_time": "2023-04-24T16:19:59.477Z"
   },
   {
    "duration": 6,
    "start_time": "2023-04-24T16:20:00.152Z"
   },
   {
    "duration": 89,
    "start_time": "2023-04-24T16:20:00.159Z"
   },
   {
    "duration": 217,
    "start_time": "2023-04-24T16:20:00.249Z"
   },
   {
    "duration": 9,
    "start_time": "2023-04-24T16:20:00.467Z"
   },
   {
    "duration": 66,
    "start_time": "2023-04-24T16:20:00.477Z"
   },
   {
    "duration": 517,
    "start_time": "2023-04-24T16:20:00.544Z"
   },
   {
    "duration": 10,
    "start_time": "2023-04-24T16:20:01.063Z"
   },
   {
    "duration": 62,
    "start_time": "2023-04-24T16:20:01.074Z"
   },
   {
    "duration": 44,
    "start_time": "2023-04-24T16:20:01.138Z"
   },
   {
    "duration": 47,
    "start_time": "2023-04-24T16:20:01.184Z"
   },
   {
    "duration": 711,
    "start_time": "2023-04-24T16:20:01.233Z"
   },
   {
    "duration": 102,
    "start_time": "2023-04-24T16:20:01.945Z"
   },
   {
    "duration": 8,
    "start_time": "2023-04-24T16:20:02.048Z"
   },
   {
    "duration": 45,
    "start_time": "2023-04-24T16:20:02.057Z"
   },
   {
    "duration": 52,
    "start_time": "2023-04-24T16:20:02.103Z"
   },
   {
    "duration": 26,
    "start_time": "2023-04-24T16:20:02.157Z"
   },
   {
    "duration": 40,
    "start_time": "2023-04-24T16:20:02.184Z"
   },
   {
    "duration": 94,
    "start_time": "2023-04-24T16:20:02.226Z"
   },
   {
    "duration": 53,
    "start_time": "2023-04-24T16:20:02.322Z"
   },
   {
    "duration": 33,
    "start_time": "2023-04-24T16:20:02.377Z"
   },
   {
    "duration": 41,
    "start_time": "2023-04-24T16:20:02.412Z"
   },
   {
    "duration": 59,
    "start_time": "2023-04-24T16:20:02.454Z"
   },
   {
    "duration": 36,
    "start_time": "2023-04-24T16:20:02.514Z"
   },
   {
    "duration": 46,
    "start_time": "2023-04-24T16:20:02.552Z"
   },
   {
    "duration": 611,
    "start_time": "2023-04-24T16:20:02.600Z"
   },
   {
    "duration": 275,
    "start_time": "2023-04-24T16:20:03.212Z"
   },
   {
    "duration": 5,
    "start_time": "2023-04-24T16:20:03.488Z"
   },
   {
    "duration": 12747,
    "start_time": "2023-04-24T16:20:03.494Z"
   },
   {
    "duration": 416,
    "start_time": "2023-04-24T16:20:35.426Z"
   },
   {
    "duration": 5,
    "start_time": "2023-04-24T16:20:49.046Z"
   },
   {
    "duration": 47,
    "start_time": "2023-04-24T16:21:34.602Z"
   },
   {
    "duration": 7,
    "start_time": "2023-04-24T16:21:43.681Z"
   },
   {
    "duration": 5,
    "start_time": "2023-04-24T16:21:55.490Z"
   },
   {
    "duration": 1355,
    "start_time": "2023-04-24T16:25:08.217Z"
   },
   {
    "duration": 696,
    "start_time": "2023-04-24T16:25:09.574Z"
   },
   {
    "duration": 710,
    "start_time": "2023-04-24T16:25:10.271Z"
   },
   {
    "duration": 6,
    "start_time": "2023-04-24T16:25:10.983Z"
   },
   {
    "duration": 58,
    "start_time": "2023-04-24T16:25:10.990Z"
   },
   {
    "duration": 177,
    "start_time": "2023-04-24T16:25:11.050Z"
   },
   {
    "duration": 12,
    "start_time": "2023-04-24T16:25:11.228Z"
   },
   {
    "duration": 23,
    "start_time": "2023-04-24T16:25:11.241Z"
   },
   {
    "duration": 464,
    "start_time": "2023-04-24T16:25:11.266Z"
   },
   {
    "duration": 10,
    "start_time": "2023-04-24T16:25:11.737Z"
   },
   {
    "duration": 31,
    "start_time": "2023-04-24T16:25:11.748Z"
   },
   {
    "duration": 20,
    "start_time": "2023-04-24T16:25:11.780Z"
   },
   {
    "duration": 7,
    "start_time": "2023-04-24T16:25:11.802Z"
   },
   {
    "duration": 696,
    "start_time": "2023-04-24T16:25:11.810Z"
   },
   {
    "duration": 106,
    "start_time": "2023-04-24T16:25:12.507Z"
   },
   {
    "duration": 8,
    "start_time": "2023-04-24T16:25:12.614Z"
   },
   {
    "duration": 22,
    "start_time": "2023-04-24T16:25:12.624Z"
   },
   {
    "duration": 18,
    "start_time": "2023-04-24T16:25:12.648Z"
   },
   {
    "duration": 7,
    "start_time": "2023-04-24T16:25:12.667Z"
   },
   {
    "duration": 24,
    "start_time": "2023-04-24T16:25:12.675Z"
   },
   {
    "duration": 70,
    "start_time": "2023-04-24T16:25:12.700Z"
   },
   {
    "duration": 52,
    "start_time": "2023-04-24T16:25:12.772Z"
   },
   {
    "duration": 35,
    "start_time": "2023-04-24T16:25:12.826Z"
   },
   {
    "duration": 25,
    "start_time": "2023-04-24T16:25:12.862Z"
   },
   {
    "duration": 38,
    "start_time": "2023-04-24T16:25:12.889Z"
   },
   {
    "duration": 39,
    "start_time": "2023-04-24T16:25:12.929Z"
   },
   {
    "duration": 43,
    "start_time": "2023-04-24T16:25:12.969Z"
   },
   {
    "duration": 612,
    "start_time": "2023-04-24T16:25:13.015Z"
   },
   {
    "duration": 281,
    "start_time": "2023-04-24T16:25:13.629Z"
   },
   {
    "duration": 4,
    "start_time": "2023-04-24T16:25:13.911Z"
   },
   {
    "duration": 12421,
    "start_time": "2023-04-24T16:25:13.917Z"
   },
   {
    "duration": 501,
    "start_time": "2023-04-24T16:25:26.340Z"
   },
   {
    "duration": 94,
    "start_time": "2023-04-24T16:25:26.843Z"
   },
   {
    "duration": 101,
    "start_time": "2023-04-24T16:25:26.939Z"
   },
   {
    "duration": 9,
    "start_time": "2023-04-24T16:25:27.041Z"
   },
   {
    "duration": 89,
    "start_time": "2023-04-24T16:25:27.053Z"
   },
   {
    "duration": 51594,
    "start_time": "2023-04-24T16:25:27.145Z"
   },
   {
    "duration": 1406,
    "start_time": "2023-04-24T16:27:58.415Z"
   },
   {
    "duration": 711,
    "start_time": "2023-04-24T16:27:59.823Z"
   },
   {
    "duration": 722,
    "start_time": "2023-04-24T16:28:00.536Z"
   },
   {
    "duration": 8,
    "start_time": "2023-04-24T16:28:01.260Z"
   },
   {
    "duration": 72,
    "start_time": "2023-04-24T16:28:01.270Z"
   },
   {
    "duration": 169,
    "start_time": "2023-04-24T16:28:01.344Z"
   },
   {
    "duration": 8,
    "start_time": "2023-04-24T16:28:01.515Z"
   },
   {
    "duration": 43,
    "start_time": "2023-04-24T16:28:01.524Z"
   },
   {
    "duration": 470,
    "start_time": "2023-04-24T16:28:01.569Z"
   },
   {
    "duration": 10,
    "start_time": "2023-04-24T16:28:02.040Z"
   },
   {
    "duration": 53,
    "start_time": "2023-04-24T16:28:02.051Z"
   },
   {
    "duration": 24,
    "start_time": "2023-04-24T16:28:02.106Z"
   },
   {
    "duration": 7,
    "start_time": "2023-04-24T16:28:02.131Z"
   },
   {
    "duration": 725,
    "start_time": "2023-04-24T16:28:02.141Z"
   },
   {
    "duration": 95,
    "start_time": "2023-04-24T16:28:02.867Z"
   },
   {
    "duration": 6,
    "start_time": "2023-04-24T16:28:02.963Z"
   },
   {
    "duration": 28,
    "start_time": "2023-04-24T16:28:02.970Z"
   },
   {
    "duration": 32,
    "start_time": "2023-04-24T16:28:02.999Z"
   },
   {
    "duration": 6,
    "start_time": "2023-04-24T16:28:03.032Z"
   },
   {
    "duration": 32,
    "start_time": "2023-04-24T16:28:03.039Z"
   },
   {
    "duration": 49,
    "start_time": "2023-04-24T16:28:03.072Z"
   },
   {
    "duration": 54,
    "start_time": "2023-04-24T16:28:03.122Z"
   },
   {
    "duration": 30,
    "start_time": "2023-04-24T16:28:03.178Z"
   },
   {
    "duration": 35,
    "start_time": "2023-04-24T16:28:03.209Z"
   },
   {
    "duration": 27,
    "start_time": "2023-04-24T16:28:03.246Z"
   },
   {
    "duration": 34,
    "start_time": "2023-04-24T16:28:03.274Z"
   },
   {
    "duration": 58,
    "start_time": "2023-04-24T16:28:03.309Z"
   },
   {
    "duration": 595,
    "start_time": "2023-04-24T16:28:03.369Z"
   },
   {
    "duration": 276,
    "start_time": "2023-04-24T16:28:03.965Z"
   },
   {
    "duration": 6,
    "start_time": "2023-04-24T16:28:04.242Z"
   },
   {
    "duration": 11992,
    "start_time": "2023-04-24T16:28:04.249Z"
   },
   {
    "duration": 502,
    "start_time": "2023-04-24T16:28:16.242Z"
   },
   {
    "duration": 93,
    "start_time": "2023-04-24T16:28:16.745Z"
   },
   {
    "duration": 114,
    "start_time": "2023-04-24T16:28:16.839Z"
   },
   {
    "duration": 83,
    "start_time": "2023-04-24T16:28:16.955Z"
   },
   {
    "duration": 96,
    "start_time": "2023-04-24T16:28:17.040Z"
   },
   {
    "duration": 52597,
    "start_time": "2023-04-24T16:28:17.138Z"
   },
   {
    "duration": 998,
    "start_time": "2023-04-24T16:29:09.737Z"
   },
   {
    "duration": 280116,
    "start_time": "2023-04-24T16:30:48.945Z"
   },
   {
    "duration": 21270,
    "start_time": "2023-04-24T16:36:36.185Z"
   },
   {
    "duration": 108,
    "start_time": "2023-04-24T16:36:57.458Z"
   },
   {
    "duration": 5,
    "start_time": "2023-04-24T16:36:57.568Z"
   },
   {
    "duration": 272235,
    "start_time": "2023-04-24T16:38:56.850Z"
   },
   {
    "duration": 20911,
    "start_time": "2023-04-24T16:43:29.087Z"
   },
   {
    "duration": 54,
    "start_time": "2023-04-24T16:43:50.000Z"
   },
   {
    "duration": 5,
    "start_time": "2023-04-24T16:43:50.055Z"
   },
   {
    "duration": 23130,
    "start_time": "2023-04-24T16:48:35.790Z"
   },
   {
    "duration": 109,
    "start_time": "2023-04-24T16:48:58.922Z"
   },
   {
    "duration": 6,
    "start_time": "2023-04-24T16:48:59.033Z"
   },
   {
    "duration": 425125,
    "start_time": "2023-04-24T16:51:37.517Z"
   },
   {
    "duration": 11208,
    "start_time": "2023-04-24T16:58:42.644Z"
   },
   {
    "duration": 890,
    "start_time": "2023-04-24T16:58:53.854Z"
   },
   {
    "duration": 5,
    "start_time": "2023-04-24T16:58:54.746Z"
   },
   {
    "duration": 1395,
    "start_time": "2023-04-24T17:00:53.600Z"
   },
   {
    "duration": 727,
    "start_time": "2023-04-24T17:00:54.996Z"
   },
   {
    "duration": 740,
    "start_time": "2023-04-24T17:00:55.725Z"
   },
   {
    "duration": 5,
    "start_time": "2023-04-24T17:00:56.467Z"
   },
   {
    "duration": 59,
    "start_time": "2023-04-24T17:00:56.474Z"
   },
   {
    "duration": 182,
    "start_time": "2023-04-24T17:00:56.535Z"
   },
   {
    "duration": 17,
    "start_time": "2023-04-24T17:00:56.719Z"
   },
   {
    "duration": 22,
    "start_time": "2023-04-24T17:00:56.738Z"
   },
   {
    "duration": 508,
    "start_time": "2023-04-24T17:00:56.762Z"
   },
   {
    "duration": 10,
    "start_time": "2023-04-24T17:00:57.273Z"
   },
   {
    "duration": 29,
    "start_time": "2023-04-24T17:00:57.285Z"
   },
   {
    "duration": 35,
    "start_time": "2023-04-24T17:00:57.316Z"
   },
   {
    "duration": 7,
    "start_time": "2023-04-24T17:00:57.352Z"
   },
   {
    "duration": 729,
    "start_time": "2023-04-24T17:00:57.360Z"
   },
   {
    "duration": 95,
    "start_time": "2023-04-24T17:00:58.090Z"
   },
   {
    "duration": 7,
    "start_time": "2023-04-24T17:00:58.187Z"
   },
   {
    "duration": 16,
    "start_time": "2023-04-24T17:00:58.195Z"
   },
   {
    "duration": 36,
    "start_time": "2023-04-24T17:00:58.213Z"
   },
   {
    "duration": 6,
    "start_time": "2023-04-24T17:00:58.250Z"
   },
   {
    "duration": 30,
    "start_time": "2023-04-24T17:00:58.258Z"
   },
   {
    "duration": 57,
    "start_time": "2023-04-24T17:00:58.290Z"
   },
   {
    "duration": 53,
    "start_time": "2023-04-24T17:00:58.349Z"
   },
   {
    "duration": 38,
    "start_time": "2023-04-24T17:00:58.404Z"
   },
   {
    "duration": 26,
    "start_time": "2023-04-24T17:00:58.444Z"
   },
   {
    "duration": 29,
    "start_time": "2023-04-24T17:00:58.472Z"
   },
   {
    "duration": 53,
    "start_time": "2023-04-24T17:00:58.503Z"
   },
   {
    "duration": 44,
    "start_time": "2023-04-24T17:00:58.557Z"
   },
   {
    "duration": 621,
    "start_time": "2023-04-24T17:00:58.605Z"
   },
   {
    "duration": 286,
    "start_time": "2023-04-24T17:00:59.228Z"
   },
   {
    "duration": 5,
    "start_time": "2023-04-24T17:00:59.516Z"
   },
   {
    "duration": 12323,
    "start_time": "2023-04-24T17:00:59.522Z"
   },
   {
    "duration": 501,
    "start_time": "2023-04-24T17:01:11.937Z"
   },
   {
    "duration": 96,
    "start_time": "2023-04-24T17:01:12.439Z"
   },
   {
    "duration": 48,
    "start_time": "2023-04-24T17:01:12.537Z"
   },
   {
    "duration": 57,
    "start_time": "2023-04-24T17:01:12.587Z"
   },
   {
    "duration": 5,
    "start_time": "2023-04-24T17:01:12.736Z"
   },
   {
    "duration": 50995,
    "start_time": "2023-04-24T17:01:12.743Z"
   },
   {
    "duration": 907,
    "start_time": "2023-04-24T17:02:03.743Z"
   },
   {
    "duration": 283165,
    "start_time": "2023-04-24T17:02:04.651Z"
   },
   {
    "duration": 21895,
    "start_time": "2023-04-24T17:06:47.818Z"
   },
   {
    "duration": 114,
    "start_time": "2023-04-24T17:07:09.714Z"
   },
   {
    "duration": 7,
    "start_time": "2023-04-24T17:07:09.829Z"
   },
   {
    "duration": 277037,
    "start_time": "2023-04-24T17:07:09.838Z"
   },
   {
    "duration": 20738,
    "start_time": "2023-04-24T17:11:46.877Z"
   },
   {
    "duration": 55,
    "start_time": "2023-04-24T17:12:07.617Z"
   },
   {
    "duration": 5,
    "start_time": "2023-04-24T17:12:07.674Z"
   },
   {
    "duration": 22389,
    "start_time": "2023-04-24T17:12:07.681Z"
   },
   {
    "duration": 111,
    "start_time": "2023-04-24T17:12:30.072Z"
   },
   {
    "duration": 4,
    "start_time": "2023-04-24T17:12:30.185Z"
   },
   {
    "duration": 420556,
    "start_time": "2023-04-24T17:12:30.190Z"
   },
   {
    "duration": 10895,
    "start_time": "2023-04-24T17:19:30.747Z"
   },
   {
    "duration": 795,
    "start_time": "2023-04-24T17:19:41.643Z"
   },
   {
    "duration": 4,
    "start_time": "2023-04-24T17:19:42.440Z"
   },
   {
    "duration": 283303,
    "start_time": "2023-04-24T17:19:42.445Z"
   },
   {
    "duration": 4788,
    "start_time": "2023-04-24T17:24:25.750Z"
   },
   {
    "duration": 411,
    "start_time": "2023-04-24T17:24:30.539Z"
   },
   {
    "duration": 87,
    "start_time": "2023-04-24T17:24:30.952Z"
   },
   {
    "duration": 12208,
    "start_time": "2023-04-24T17:24:31.042Z"
   },
   {
    "duration": 991,
    "start_time": "2023-04-24T17:24:43.252Z"
   },
   {
    "duration": 4,
    "start_time": "2023-04-24T17:24:44.245Z"
   },
   {
    "duration": 146,
    "start_time": "2023-04-24T17:28:33.890Z"
   },
   {
    "duration": 8536,
    "start_time": "2023-04-24T17:28:56.112Z"
   },
   {
    "duration": 15,
    "start_time": "2023-04-24T17:55:28.513Z"
   },
   {
    "duration": 192,
    "start_time": "2023-04-24T18:05:43.608Z"
   },
   {
    "duration": 199,
    "start_time": "2023-04-24T18:06:27.304Z"
   },
   {
    "duration": 59,
    "start_time": "2023-04-24T18:07:26.105Z"
   },
   {
    "duration": 4,
    "start_time": "2023-04-24T18:07:39.048Z"
   },
   {
    "duration": 11149,
    "start_time": "2023-04-24T18:08:30.503Z"
   },
   {
    "duration": 792,
    "start_time": "2023-04-24T18:08:41.654Z"
   },
   {
    "duration": 4,
    "start_time": "2023-04-24T18:08:42.448Z"
   },
   {
    "duration": 10309,
    "start_time": "2023-04-24T18:10:15.542Z"
   },
   {
    "duration": 904,
    "start_time": "2023-04-24T18:10:25.853Z"
   },
   {
    "duration": 80,
    "start_time": "2023-04-24T18:10:26.759Z"
   },
   {
    "duration": 11009,
    "start_time": "2023-04-24T18:13:08.434Z"
   },
   {
    "duration": 802,
    "start_time": "2023-04-24T18:13:19.445Z"
   },
   {
    "duration": 6,
    "start_time": "2023-04-24T18:13:20.249Z"
   },
   {
    "duration": 11,
    "start_time": "2023-04-24T18:14:09.504Z"
   },
   {
    "duration": 13,
    "start_time": "2023-04-24T18:14:51.717Z"
   },
   {
    "duration": 10,
    "start_time": "2023-04-24T18:14:56.765Z"
   },
   {
    "duration": 11,
    "start_time": "2023-04-24T18:15:30.857Z"
   },
   {
    "duration": 9,
    "start_time": "2023-04-24T18:15:56.975Z"
   },
   {
    "duration": 11,
    "start_time": "2023-04-24T18:16:34.805Z"
   },
   {
    "duration": 75,
    "start_time": "2023-04-24T18:18:05.482Z"
   },
   {
    "duration": 74,
    "start_time": "2023-04-24T18:19:02.754Z"
   },
   {
    "duration": 3,
    "start_time": "2023-04-24T18:19:20.026Z"
   },
   {
    "duration": 3,
    "start_time": "2023-04-24T18:19:51.226Z"
   },
   {
    "duration": 11,
    "start_time": "2023-04-24T18:19:56.455Z"
   },
   {
    "duration": 10,
    "start_time": "2023-04-24T18:20:44.215Z"
   },
   {
    "duration": 73,
    "start_time": "2023-04-24T18:21:21.015Z"
   },
   {
    "duration": 104,
    "start_time": "2023-04-24T18:21:35.933Z"
   },
   {
    "duration": 11,
    "start_time": "2023-04-24T18:22:02.195Z"
   },
   {
    "duration": 12,
    "start_time": "2023-04-24T18:22:14.511Z"
   },
   {
    "duration": 10,
    "start_time": "2023-04-24T18:23:32.717Z"
   },
   {
    "duration": 11,
    "start_time": "2023-04-24T18:24:15.931Z"
   },
   {
    "duration": 10,
    "start_time": "2023-04-24T18:24:41.747Z"
   },
   {
    "duration": 1470,
    "start_time": "2023-04-24T18:25:37.942Z"
   },
   {
    "duration": 748,
    "start_time": "2023-04-24T18:25:39.414Z"
   },
   {
    "duration": 715,
    "start_time": "2023-04-24T18:25:40.163Z"
   },
   {
    "duration": 5,
    "start_time": "2023-04-24T18:25:40.880Z"
   },
   {
    "duration": 55,
    "start_time": "2023-04-24T18:25:40.886Z"
   },
   {
    "duration": 188,
    "start_time": "2023-04-24T18:25:40.942Z"
   },
   {
    "duration": 7,
    "start_time": "2023-04-24T18:25:41.136Z"
   },
   {
    "duration": 22,
    "start_time": "2023-04-24T18:25:41.145Z"
   },
   {
    "duration": 504,
    "start_time": "2023-04-24T18:25:41.169Z"
   },
   {
    "duration": 10,
    "start_time": "2023-04-24T18:25:41.676Z"
   },
   {
    "duration": 22,
    "start_time": "2023-04-24T18:25:41.687Z"
   },
   {
    "duration": 44,
    "start_time": "2023-04-24T18:25:41.710Z"
   },
   {
    "duration": 7,
    "start_time": "2023-04-24T18:25:41.755Z"
   },
   {
    "duration": 789,
    "start_time": "2023-04-24T18:25:41.764Z"
   },
   {
    "duration": 108,
    "start_time": "2023-04-24T18:25:42.555Z"
   },
   {
    "duration": 7,
    "start_time": "2023-04-24T18:25:42.665Z"
   },
   {
    "duration": 13,
    "start_time": "2023-04-24T18:25:42.673Z"
   },
   {
    "duration": 17,
    "start_time": "2023-04-24T18:25:42.687Z"
   },
   {
    "duration": 6,
    "start_time": "2023-04-24T18:25:42.706Z"
   },
   {
    "duration": 19,
    "start_time": "2023-04-24T18:25:42.736Z"
   },
   {
    "duration": 54,
    "start_time": "2023-04-24T18:25:42.756Z"
   },
   {
    "duration": 70,
    "start_time": "2023-04-24T18:25:42.811Z"
   },
   {
    "duration": 31,
    "start_time": "2023-04-24T18:25:42.883Z"
   },
   {
    "duration": 37,
    "start_time": "2023-04-24T18:25:42.916Z"
   },
   {
    "duration": 27,
    "start_time": "2023-04-24T18:25:42.955Z"
   },
   {
    "duration": 45,
    "start_time": "2023-04-24T18:25:42.984Z"
   },
   {
    "duration": 41,
    "start_time": "2023-04-24T18:25:43.036Z"
   },
   {
    "duration": 605,
    "start_time": "2023-04-24T18:25:43.082Z"
   },
   {
    "duration": 292,
    "start_time": "2023-04-24T18:25:43.688Z"
   },
   {
    "duration": 6,
    "start_time": "2023-04-24T18:25:43.981Z"
   },
   {
    "duration": 12347,
    "start_time": "2023-04-24T18:25:43.989Z"
   },
   {
    "duration": 501,
    "start_time": "2023-04-24T18:25:56.338Z"
   },
   {
    "duration": 96,
    "start_time": "2023-04-24T18:25:56.841Z"
   },
   {
    "duration": 46,
    "start_time": "2023-04-24T18:25:56.938Z"
   },
   {
    "duration": 55,
    "start_time": "2023-04-24T18:25:56.986Z"
   },
   {
    "duration": 94,
    "start_time": "2023-04-24T18:25:57.043Z"
   },
   {
    "duration": 50999,
    "start_time": "2023-04-24T18:25:57.139Z"
   },
   {
    "duration": 914,
    "start_time": "2023-04-24T18:26:48.140Z"
   },
   {
    "duration": 277118,
    "start_time": "2023-04-24T18:26:49.138Z"
   },
   {
    "duration": 21321,
    "start_time": "2023-04-24T18:31:26.258Z"
   },
   {
    "duration": 103,
    "start_time": "2023-04-24T18:31:47.580Z"
   },
   {
    "duration": 4,
    "start_time": "2023-04-24T18:31:47.685Z"
   },
   {
    "duration": 268505,
    "start_time": "2023-04-24T18:31:47.690Z"
   },
   {
    "duration": 20497,
    "start_time": "2023-04-24T18:36:16.197Z"
   },
   {
    "duration": 55,
    "start_time": "2023-04-24T18:36:36.695Z"
   },
   {
    "duration": 4,
    "start_time": "2023-04-24T18:36:36.752Z"
   },
   {
    "duration": 22744,
    "start_time": "2023-04-24T18:36:36.758Z"
   },
   {
    "duration": 112,
    "start_time": "2023-04-24T18:36:59.504Z"
   },
   {
    "duration": 4,
    "start_time": "2023-04-24T18:36:59.618Z"
   },
   {
    "duration": 500927,
    "start_time": "2023-04-24T18:36:59.624Z"
   },
   {
    "duration": 12091,
    "start_time": "2023-04-24T18:45:20.552Z"
   },
   {
    "duration": 998,
    "start_time": "2023-04-24T18:45:32.644Z"
   },
   {
    "duration": 4,
    "start_time": "2023-04-24T18:45:33.644Z"
   },
   {
    "duration": 286688,
    "start_time": "2023-04-24T18:45:33.650Z"
   },
   {
    "duration": 8915,
    "start_time": "2023-04-24T18:50:20.339Z"
   },
   {
    "duration": 600,
    "start_time": "2023-04-24T18:50:29.256Z"
   },
   {
    "duration": 79,
    "start_time": "2023-04-24T18:50:29.857Z"
   },
   {
    "duration": 14,
    "start_time": "2023-04-24T18:50:29.938Z"
   },
   {
    "duration": 205,
    "start_time": "2023-04-24T18:50:29.954Z"
   },
   {
    "duration": 66,
    "start_time": "2023-04-24T18:50:30.161Z"
   },
   {
    "duration": 8,
    "start_time": "2023-04-24T18:50:30.229Z"
   },
   {
    "duration": 11205,
    "start_time": "2023-04-24T18:50:30.238Z"
   },
   {
    "duration": 713,
    "start_time": "2023-04-24T18:50:41.444Z"
   },
   {
    "duration": 4,
    "start_time": "2023-04-24T18:50:42.159Z"
   },
   {
    "duration": 10980,
    "start_time": "2023-04-24T18:50:42.164Z"
   },
   {
    "duration": 904,
    "start_time": "2023-04-24T18:50:53.145Z"
   },
   {
    "duration": 5,
    "start_time": "2023-04-24T18:50:54.051Z"
   },
   {
    "duration": 18,
    "start_time": "2023-04-24T18:50:54.057Z"
   },
   {
    "duration": 13,
    "start_time": "2023-04-24T18:54:21.952Z"
   },
   {
    "duration": 14,
    "start_time": "2023-04-24T18:55:23.331Z"
   },
   {
    "duration": 17400,
    "start_time": "2023-04-24T19:01:27.490Z"
   },
   {
    "duration": 92,
    "start_time": "2023-04-24T19:02:20.680Z"
   },
   {
    "duration": 5,
    "start_time": "2023-04-24T19:03:01.123Z"
   },
   {
    "duration": 16824,
    "start_time": "2023-04-24T19:05:13.205Z"
   },
   {
    "duration": 96,
    "start_time": "2023-04-24T19:05:30.032Z"
   },
   {
    "duration": 5,
    "start_time": "2023-04-24T19:06:03.145Z"
   },
   {
    "duration": 13,
    "start_time": "2023-04-24T19:06:32.288Z"
   },
   {
    "duration": 10,
    "start_time": "2023-04-24T19:07:22.247Z"
   },
   {
    "duration": 17,
    "start_time": "2023-04-24T20:34:12.514Z"
   },
   {
    "duration": 17,
    "start_time": "2023-04-24T20:34:28.521Z"
   },
   {
    "duration": 15,
    "start_time": "2023-04-24T20:34:32.098Z"
   },
   {
    "duration": 17,
    "start_time": "2023-04-24T20:34:49.750Z"
   },
   {
    "duration": 1289,
    "start_time": "2023-04-24T20:35:14.759Z"
   },
   {
    "duration": 713,
    "start_time": "2023-04-24T20:35:16.050Z"
   },
   {
    "duration": 720,
    "start_time": "2023-04-24T20:35:16.764Z"
   },
   {
    "duration": 5,
    "start_time": "2023-04-24T20:35:17.486Z"
   },
   {
    "duration": 54,
    "start_time": "2023-04-24T20:35:17.492Z"
   },
   {
    "duration": 175,
    "start_time": "2023-04-24T20:35:17.548Z"
   },
   {
    "duration": 13,
    "start_time": "2023-04-24T20:35:17.725Z"
   },
   {
    "duration": 22,
    "start_time": "2023-04-24T20:35:17.740Z"
   },
   {
    "duration": 467,
    "start_time": "2023-04-24T20:35:17.763Z"
   },
   {
    "duration": 10,
    "start_time": "2023-04-24T20:35:18.236Z"
   },
   {
    "duration": 25,
    "start_time": "2023-04-24T20:35:18.247Z"
   },
   {
    "duration": 21,
    "start_time": "2023-04-24T20:35:18.273Z"
   },
   {
    "duration": 7,
    "start_time": "2023-04-24T20:35:18.295Z"
   },
   {
    "duration": 704,
    "start_time": "2023-04-24T20:35:18.303Z"
   },
   {
    "duration": 95,
    "start_time": "2023-04-24T20:35:19.009Z"
   },
   {
    "duration": 6,
    "start_time": "2023-04-24T20:35:19.106Z"
   },
   {
    "duration": 23,
    "start_time": "2023-04-24T20:35:19.114Z"
   },
   {
    "duration": 18,
    "start_time": "2023-04-24T20:35:19.138Z"
   },
   {
    "duration": 6,
    "start_time": "2023-04-24T20:35:19.158Z"
   },
   {
    "duration": 22,
    "start_time": "2023-04-24T20:35:19.165Z"
   },
   {
    "duration": 63,
    "start_time": "2023-04-24T20:35:19.188Z"
   },
   {
    "duration": 52,
    "start_time": "2023-04-24T20:35:19.252Z"
   },
   {
    "duration": 45,
    "start_time": "2023-04-24T20:35:19.305Z"
   },
   {
    "duration": 26,
    "start_time": "2023-04-24T20:35:19.351Z"
   },
   {
    "duration": 30,
    "start_time": "2023-04-24T20:35:19.378Z"
   },
   {
    "duration": 44,
    "start_time": "2023-04-24T20:35:19.409Z"
   },
   {
    "duration": 41,
    "start_time": "2023-04-24T20:35:19.454Z"
   },
   {
    "duration": 636,
    "start_time": "2023-04-24T20:35:19.498Z"
   },
   {
    "duration": 284,
    "start_time": "2023-04-24T20:35:20.136Z"
   },
   {
    "duration": 4,
    "start_time": "2023-04-24T20:35:20.422Z"
   },
   {
    "duration": 12509,
    "start_time": "2023-04-24T20:35:20.428Z"
   },
   {
    "duration": 599,
    "start_time": "2023-04-24T20:35:32.939Z"
   },
   {
    "duration": 6,
    "start_time": "2023-04-24T20:35:33.539Z"
   },
   {
    "duration": 49,
    "start_time": "2023-04-24T20:35:33.637Z"
   },
   {
    "duration": 52,
    "start_time": "2023-04-24T20:35:33.688Z"
   },
   {
    "duration": 96,
    "start_time": "2023-04-24T20:35:33.742Z"
   },
   {
    "duration": 50499,
    "start_time": "2023-04-24T20:35:33.839Z"
   },
   {
    "duration": 910,
    "start_time": "2023-04-24T20:36:24.339Z"
   },
   {
    "duration": 277908,
    "start_time": "2023-04-24T20:36:25.251Z"
   },
   {
    "duration": 20009,
    "start_time": "2023-04-24T20:41:03.161Z"
   },
   {
    "duration": 102,
    "start_time": "2023-04-24T20:41:23.172Z"
   },
   {
    "duration": 4,
    "start_time": "2023-04-24T20:41:23.276Z"
   },
   {
    "duration": 268665,
    "start_time": "2023-04-24T20:41:23.281Z"
   },
   {
    "duration": 19900,
    "start_time": "2023-04-24T20:45:51.948Z"
   },
   {
    "duration": 55,
    "start_time": "2023-04-24T20:46:11.849Z"
   },
   {
    "duration": 5,
    "start_time": "2023-04-24T20:46:11.905Z"
   },
   {
    "duration": 21945,
    "start_time": "2023-04-24T20:46:11.911Z"
   },
   {
    "duration": 107,
    "start_time": "2023-04-24T20:46:33.858Z"
   },
   {
    "duration": 5,
    "start_time": "2023-04-24T20:46:33.967Z"
   },
   {
    "duration": 420369,
    "start_time": "2023-04-24T20:46:33.974Z"
   },
   {
    "duration": 13299,
    "start_time": "2023-04-24T20:53:34.344Z"
   },
   {
    "duration": 1093,
    "start_time": "2023-04-24T20:53:47.644Z"
   },
   {
    "duration": 4,
    "start_time": "2023-04-24T20:53:48.739Z"
   },
   {
    "duration": 285605,
    "start_time": "2023-04-24T20:53:48.745Z"
   },
   {
    "duration": 8990,
    "start_time": "2023-04-24T20:58:34.351Z"
   },
   {
    "duration": 603,
    "start_time": "2023-04-24T20:58:43.342Z"
   },
   {
    "duration": 4,
    "start_time": "2023-04-24T20:58:43.946Z"
   },
   {
    "duration": 28,
    "start_time": "2023-04-24T20:58:43.951Z"
   },
   {
    "duration": 241,
    "start_time": "2023-04-24T20:58:43.981Z"
   },
   {
    "duration": 68,
    "start_time": "2023-04-24T20:58:44.224Z"
   },
   {
    "duration": 4,
    "start_time": "2023-04-24T20:58:44.294Z"
   },
   {
    "duration": 17642,
    "start_time": "2023-04-24T20:58:44.299Z"
   },
   {
    "duration": 96,
    "start_time": "2023-04-24T20:59:01.943Z"
   },
   {
    "duration": 4,
    "start_time": "2023-04-24T20:59:02.040Z"
   },
   {
    "duration": 16439,
    "start_time": "2023-04-24T20:59:02.046Z"
   },
   {
    "duration": 99,
    "start_time": "2023-04-24T20:59:18.486Z"
   },
   {
    "duration": 7,
    "start_time": "2023-04-24T20:59:18.587Z"
   },
   {
    "duration": 12,
    "start_time": "2023-04-24T20:59:18.595Z"
   },
   {
    "duration": 13,
    "start_time": "2023-04-24T21:01:16.149Z"
   },
   {
    "duration": 196,
    "start_time": "2023-04-24T21:02:53.075Z"
   },
   {
    "duration": 57,
    "start_time": "2023-04-24T21:02:54.611Z"
   },
   {
    "duration": 3,
    "start_time": "2023-04-24T21:03:00.012Z"
   },
   {
    "duration": 16343,
    "start_time": "2023-04-24T21:03:10.663Z"
   },
   {
    "duration": 88,
    "start_time": "2023-04-24T21:03:27.008Z"
   },
   {
    "duration": 4,
    "start_time": "2023-04-24T21:03:27.097Z"
   },
   {
    "duration": 11,
    "start_time": "2023-04-24T21:05:23.240Z"
   },
   {
    "duration": 10,
    "start_time": "2023-04-24T21:06:15.463Z"
   },
   {
    "duration": 52,
    "start_time": "2023-04-27T12:39:11.535Z"
   },
   {
    "duration": 7,
    "start_time": "2023-04-27T12:39:20.400Z"
   },
   {
    "duration": 1638,
    "start_time": "2023-04-27T12:39:26.648Z"
   },
   {
    "duration": 3082,
    "start_time": "2023-04-27T12:39:28.287Z"
   },
   {
    "duration": 797,
    "start_time": "2023-04-27T12:39:31.370Z"
   },
   {
    "duration": 6,
    "start_time": "2023-04-27T12:39:32.169Z"
   },
   {
    "duration": 67,
    "start_time": "2023-04-27T12:39:32.177Z"
   },
   {
    "duration": 202,
    "start_time": "2023-04-27T12:39:32.247Z"
   },
   {
    "duration": 17,
    "start_time": "2023-04-27T12:39:32.451Z"
   },
   {
    "duration": 23,
    "start_time": "2023-04-27T12:39:32.471Z"
   },
   {
    "duration": 589,
    "start_time": "2023-04-27T12:39:32.496Z"
   },
   {
    "duration": 11,
    "start_time": "2023-04-27T12:39:33.088Z"
   },
   {
    "duration": 25,
    "start_time": "2023-04-27T12:39:33.100Z"
   },
   {
    "duration": 43,
    "start_time": "2023-04-27T12:39:33.126Z"
   },
   {
    "duration": 9,
    "start_time": "2023-04-27T12:39:33.171Z"
   },
   {
    "duration": 832,
    "start_time": "2023-04-27T12:39:33.182Z"
   },
   {
    "duration": 116,
    "start_time": "2023-04-27T12:39:34.016Z"
   },
   {
    "duration": 7,
    "start_time": "2023-04-27T12:39:34.135Z"
   },
   {
    "duration": 39,
    "start_time": "2023-04-27T12:39:34.144Z"
   },
   {
    "duration": 23,
    "start_time": "2023-04-27T12:39:34.185Z"
   },
   {
    "duration": 15,
    "start_time": "2023-04-27T12:39:34.209Z"
   },
   {
    "duration": 38,
    "start_time": "2023-04-27T12:39:34.226Z"
   },
   {
    "duration": 52,
    "start_time": "2023-04-27T12:39:34.270Z"
   },
   {
    "duration": 64,
    "start_time": "2023-04-27T12:39:34.324Z"
   },
   {
    "duration": 35,
    "start_time": "2023-04-27T12:39:34.390Z"
   },
   {
    "duration": 49,
    "start_time": "2023-04-27T12:39:34.427Z"
   },
   {
    "duration": 29,
    "start_time": "2023-04-27T12:39:34.478Z"
   },
   {
    "duration": 61,
    "start_time": "2023-04-27T12:39:34.508Z"
   },
   {
    "duration": 47,
    "start_time": "2023-04-27T12:39:34.571Z"
   },
   {
    "duration": 705,
    "start_time": "2023-04-27T12:39:34.622Z"
   },
   {
    "duration": 310,
    "start_time": "2023-04-27T12:39:35.329Z"
   },
   {
    "duration": 19,
    "start_time": "2023-04-27T12:39:35.641Z"
   },
   {
    "duration": 25510,
    "start_time": "2023-04-27T12:39:35.662Z"
   },
   {
    "duration": 691,
    "start_time": "2023-04-27T12:40:01.174Z"
   },
   {
    "duration": 92,
    "start_time": "2023-04-27T12:40:01.872Z"
   },
   {
    "duration": 79,
    "start_time": "2023-04-27T12:40:01.968Z"
   },
   {
    "duration": 18,
    "start_time": "2023-04-27T12:40:02.048Z"
   },
   {
    "duration": 96,
    "start_time": "2023-04-27T12:40:02.068Z"
   },
   {
    "duration": 115899,
    "start_time": "2023-04-27T12:40:02.166Z"
   },
   {
    "duration": 905,
    "start_time": "2023-04-27T12:41:58.070Z"
   },
   {
    "duration": 332743,
    "start_time": "2023-04-27T12:41:58.977Z"
   },
   {
    "duration": 24786,
    "start_time": "2023-04-27T12:47:31.722Z"
   },
   {
    "duration": 164,
    "start_time": "2023-04-27T12:47:56.509Z"
   },
   {
    "duration": 4,
    "start_time": "2023-04-27T12:47:56.675Z"
   },
   {
    "duration": 328889,
    "start_time": "2023-04-27T12:47:56.681Z"
   },
   {
    "duration": 24206,
    "start_time": "2023-04-27T12:53:25.572Z"
   },
   {
    "duration": 65,
    "start_time": "2023-04-27T12:53:49.780Z"
   },
   {
    "duration": 6,
    "start_time": "2023-04-27T12:53:49.847Z"
   },
   {
    "duration": 26287,
    "start_time": "2023-04-27T12:53:49.856Z"
   },
   {
    "duration": 146,
    "start_time": "2023-04-27T12:54:16.145Z"
   },
   {
    "duration": 5,
    "start_time": "2023-04-27T12:54:16.293Z"
   },
   {
    "duration": 1099262,
    "start_time": "2023-04-27T12:54:16.300Z"
   },
   {
    "duration": 13695,
    "start_time": "2023-04-27T13:12:35.564Z"
   },
   {
    "duration": 1014,
    "start_time": "2023-04-27T13:12:49.260Z"
   },
   {
    "duration": 5,
    "start_time": "2023-04-27T13:12:50.276Z"
   },
   {
    "duration": 434690,
    "start_time": "2023-04-27T13:12:50.282Z"
   },
   {
    "duration": 11906,
    "start_time": "2023-04-27T13:20:05.056Z"
   },
   {
    "duration": 700,
    "start_time": "2023-04-27T13:20:16.964Z"
   },
   {
    "duration": 5,
    "start_time": "2023-04-27T13:20:17.666Z"
   },
   {
    "duration": 36,
    "start_time": "2023-04-27T13:20:17.673Z"
   },
   {
    "duration": 259,
    "start_time": "2023-04-27T13:20:17.710Z"
   },
   {
    "duration": 69,
    "start_time": "2023-04-27T13:20:17.970Z"
   },
   {
    "duration": 4,
    "start_time": "2023-04-27T13:20:18.041Z"
   },
   {
    "duration": 19604,
    "start_time": "2023-04-27T13:20:18.056Z"
   },
   {
    "duration": 105,
    "start_time": "2023-04-27T13:20:37.662Z"
   },
   {
    "duration": 5,
    "start_time": "2023-04-27T13:20:37.769Z"
   },
   {
    "duration": 18622,
    "start_time": "2023-04-27T13:20:37.776Z"
   },
   {
    "duration": 101,
    "start_time": "2023-04-27T13:20:56.400Z"
   },
   {
    "duration": 5,
    "start_time": "2023-04-27T13:20:56.502Z"
   },
   {
    "duration": 18,
    "start_time": "2023-04-27T13:20:56.509Z"
   },
   {
    "duration": 32,
    "start_time": "2023-04-27T13:20:56.531Z"
   },
   {
    "duration": 64,
    "start_time": "2023-04-28T12:43:58.491Z"
   },
   {
    "duration": 1698,
    "start_time": "2023-04-28T12:44:14.744Z"
   },
   {
    "duration": 3322,
    "start_time": "2023-04-28T12:44:16.444Z"
   },
   {
    "duration": 830,
    "start_time": "2023-04-28T12:44:19.768Z"
   },
   {
    "duration": 5,
    "start_time": "2023-04-28T12:44:20.600Z"
   },
   {
    "duration": 44,
    "start_time": "2023-04-28T12:44:20.630Z"
   },
   {
    "duration": 213,
    "start_time": "2023-04-28T12:44:20.675Z"
   },
   {
    "duration": 8,
    "start_time": "2023-04-28T12:44:20.890Z"
   },
   {
    "duration": 43,
    "start_time": "2023-04-28T12:44:20.900Z"
   },
   {
    "duration": 530,
    "start_time": "2023-04-28T12:44:20.946Z"
   },
   {
    "duration": 11,
    "start_time": "2023-04-28T12:44:21.477Z"
   },
   {
    "duration": 47,
    "start_time": "2023-04-28T12:44:21.490Z"
   },
   {
    "duration": 22,
    "start_time": "2023-04-28T12:44:21.538Z"
   },
   {
    "duration": 8,
    "start_time": "2023-04-28T12:44:21.562Z"
   },
   {
    "duration": 974,
    "start_time": "2023-04-28T12:44:21.573Z"
   },
   {
    "duration": 103,
    "start_time": "2023-04-28T12:44:22.548Z"
   },
   {
    "duration": 8,
    "start_time": "2023-04-28T12:44:22.653Z"
   },
   {
    "duration": 14,
    "start_time": "2023-04-28T12:44:22.662Z"
   },
   {
    "duration": 19,
    "start_time": "2023-04-28T12:44:22.678Z"
   },
   {
    "duration": 7,
    "start_time": "2023-04-28T12:44:22.699Z"
   },
   {
    "duration": 47,
    "start_time": "2023-04-28T12:44:22.708Z"
   },
   {
    "duration": 79,
    "start_time": "2023-04-28T12:44:22.756Z"
   },
   {
    "duration": 70,
    "start_time": "2023-04-28T12:44:22.838Z"
   },
   {
    "duration": 50,
    "start_time": "2023-04-28T12:44:22.909Z"
   },
   {
    "duration": 29,
    "start_time": "2023-04-28T12:44:22.961Z"
   },
   {
    "duration": 52,
    "start_time": "2023-04-28T12:44:22.992Z"
   },
   {
    "duration": 13,
    "start_time": "2023-04-28T12:44:23.046Z"
   },
   {
    "duration": 42,
    "start_time": "2023-04-28T12:44:23.061Z"
   },
   {
    "duration": 48,
    "start_time": "2023-04-28T12:44:23.127Z"
   },
   {
    "duration": 550,
    "start_time": "2023-04-28T12:44:23.177Z"
   },
   {
    "duration": 379,
    "start_time": "2023-04-28T12:44:23.739Z"
   },
   {
    "duration": 16,
    "start_time": "2023-04-28T12:44:24.127Z"
   },
   {
    "duration": 52488,
    "start_time": "2023-04-28T12:44:24.145Z"
   },
   {
    "duration": 602,
    "start_time": "2023-04-28T12:45:16.636Z"
   },
   {
    "duration": 5,
    "start_time": "2023-04-28T12:45:17.240Z"
   },
   {
    "duration": 131,
    "start_time": "2023-04-28T12:45:17.248Z"
   },
   {
    "duration": 146,
    "start_time": "2023-04-28T12:45:17.381Z"
   },
   {
    "duration": 12,
    "start_time": "2023-04-28T12:45:17.530Z"
   },
   {
    "duration": 1484,
    "start_time": "2023-04-28T12:46:22.060Z"
   },
   {
    "duration": 864,
    "start_time": "2023-04-28T12:46:23.546Z"
   },
   {
    "duration": 822,
    "start_time": "2023-04-28T12:46:24.412Z"
   },
   {
    "duration": 8,
    "start_time": "2023-04-28T12:46:25.243Z"
   },
   {
    "duration": 44,
    "start_time": "2023-04-28T12:46:25.253Z"
   },
   {
    "duration": 231,
    "start_time": "2023-04-28T12:46:25.299Z"
   },
   {
    "duration": 12,
    "start_time": "2023-04-28T12:46:25.532Z"
   },
   {
    "duration": 25,
    "start_time": "2023-04-28T12:46:25.545Z"
   },
   {
    "duration": 529,
    "start_time": "2023-04-28T12:46:25.571Z"
   },
   {
    "duration": 39,
    "start_time": "2023-04-28T12:46:26.103Z"
   },
   {
    "duration": 24,
    "start_time": "2023-04-28T12:46:26.143Z"
   },
   {
    "duration": 21,
    "start_time": "2023-04-28T12:46:26.168Z"
   },
   {
    "duration": 7,
    "start_time": "2023-04-28T12:46:26.191Z"
   },
   {
    "duration": 858,
    "start_time": "2023-04-28T12:46:26.200Z"
   },
   {
    "duration": 90,
    "start_time": "2023-04-28T12:46:27.060Z"
   },
   {
    "duration": 7,
    "start_time": "2023-04-28T12:46:27.152Z"
   },
   {
    "duration": 13,
    "start_time": "2023-04-28T12:46:27.161Z"
   },
   {
    "duration": 20,
    "start_time": "2023-04-28T12:46:27.175Z"
   },
   {
    "duration": 28,
    "start_time": "2023-04-28T12:46:27.196Z"
   },
   {
    "duration": 32,
    "start_time": "2023-04-28T12:46:27.226Z"
   },
   {
    "duration": 107,
    "start_time": "2023-04-28T12:46:27.260Z"
   },
   {
    "duration": 78,
    "start_time": "2023-04-28T12:46:27.370Z"
   },
   {
    "duration": 36,
    "start_time": "2023-04-28T12:46:27.450Z"
   },
   {
    "duration": 42,
    "start_time": "2023-04-28T12:46:27.488Z"
   },
   {
    "duration": 39,
    "start_time": "2023-04-28T12:46:27.531Z"
   },
   {
    "duration": 12,
    "start_time": "2023-04-28T12:46:27.573Z"
   },
   {
    "duration": 268,
    "start_time": "2023-04-28T12:46:27.587Z"
   },
   {
    "duration": 41,
    "start_time": "2023-04-28T12:46:27.859Z"
   },
   {
    "duration": 60,
    "start_time": "2023-04-28T12:46:27.901Z"
   },
   {
    "duration": 543,
    "start_time": "2023-04-28T12:46:27.962Z"
   },
   {
    "duration": 400,
    "start_time": "2023-04-28T12:46:28.506Z"
   },
   {
    "duration": 5,
    "start_time": "2023-04-28T12:46:28.908Z"
   },
   {
    "duration": 52195,
    "start_time": "2023-04-28T12:46:28.935Z"
   },
   {
    "duration": 504,
    "start_time": "2023-04-28T12:47:21.132Z"
   },
   {
    "duration": 89,
    "start_time": "2023-04-28T12:47:21.641Z"
   },
   {
    "duration": 121,
    "start_time": "2023-04-28T12:47:21.732Z"
   },
   {
    "duration": 176,
    "start_time": "2023-04-28T12:47:21.855Z"
   },
   {
    "duration": 5,
    "start_time": "2023-04-28T12:47:22.033Z"
   },
   {
    "duration": 226394,
    "start_time": "2023-04-28T12:47:22.040Z"
   },
   {
    "duration": 924,
    "start_time": "2023-04-28T12:51:08.443Z"
   },
   {
    "duration": 372821,
    "start_time": "2023-04-28T12:51:09.427Z"
   },
   {
    "duration": 28394,
    "start_time": "2023-04-28T12:57:22.249Z"
   },
   {
    "duration": 132,
    "start_time": "2023-04-28T12:57:50.645Z"
   },
   {
    "duration": 4,
    "start_time": "2023-04-28T12:57:50.779Z"
   },
   {
    "duration": 370330,
    "start_time": "2023-04-28T12:57:50.784Z"
   },
   {
    "duration": 28764,
    "start_time": "2023-04-28T13:04:01.116Z"
   },
   {
    "duration": 80,
    "start_time": "2023-04-28T13:04:29.882Z"
   },
   {
    "duration": 5,
    "start_time": "2023-04-28T13:04:29.964Z"
   },
   {
    "duration": 1433,
    "start_time": "2023-04-28T13:18:03.766Z"
   },
   {
    "duration": 805,
    "start_time": "2023-04-28T13:18:05.201Z"
   },
   {
    "duration": 774,
    "start_time": "2023-04-28T13:18:06.008Z"
   },
   {
    "duration": 6,
    "start_time": "2023-04-28T13:18:06.784Z"
   },
   {
    "duration": 55,
    "start_time": "2023-04-28T13:18:06.791Z"
   },
   {
    "duration": 223,
    "start_time": "2023-04-28T13:18:06.848Z"
   },
   {
    "duration": 10,
    "start_time": "2023-04-28T13:18:07.073Z"
   },
   {
    "duration": 48,
    "start_time": "2023-04-28T13:18:07.084Z"
   },
   {
    "duration": 548,
    "start_time": "2023-04-28T13:18:07.133Z"
   },
   {
    "duration": 10,
    "start_time": "2023-04-28T13:18:07.684Z"
   },
   {
    "duration": 55,
    "start_time": "2023-04-28T13:18:07.696Z"
   },
   {
    "duration": 22,
    "start_time": "2023-04-28T13:18:07.752Z"
   },
   {
    "duration": 7,
    "start_time": "2023-04-28T13:18:07.776Z"
   },
   {
    "duration": 813,
    "start_time": "2023-04-28T13:18:07.785Z"
   },
   {
    "duration": 106,
    "start_time": "2023-04-28T13:18:08.600Z"
   },
   {
    "duration": 22,
    "start_time": "2023-04-28T13:18:08.708Z"
   },
   {
    "duration": 16,
    "start_time": "2023-04-28T13:18:08.731Z"
   },
   {
    "duration": 22,
    "start_time": "2023-04-28T13:18:08.748Z"
   },
   {
    "duration": 8,
    "start_time": "2023-04-28T13:18:08.772Z"
   },
   {
    "duration": 57,
    "start_time": "2023-04-28T13:18:08.782Z"
   },
   {
    "duration": 65,
    "start_time": "2023-04-28T13:18:08.841Z"
   },
   {
    "duration": 82,
    "start_time": "2023-04-28T13:18:08.908Z"
   },
   {
    "duration": 44,
    "start_time": "2023-04-28T13:18:08.992Z"
   },
   {
    "duration": 32,
    "start_time": "2023-04-28T13:18:09.038Z"
   },
   {
    "duration": 56,
    "start_time": "2023-04-28T13:18:09.072Z"
   },
   {
    "duration": 17,
    "start_time": "2023-04-28T13:18:09.129Z"
   },
   {
    "duration": 238,
    "start_time": "2023-04-28T13:18:09.148Z"
   },
   {
    "duration": 49,
    "start_time": "2023-04-28T13:18:09.390Z"
   },
   {
    "duration": 40,
    "start_time": "2023-04-28T13:18:09.441Z"
   },
   {
    "duration": 573,
    "start_time": "2023-04-28T13:18:09.483Z"
   },
   {
    "duration": 379,
    "start_time": "2023-04-28T13:18:10.057Z"
   },
   {
    "duration": 5,
    "start_time": "2023-04-28T13:18:10.438Z"
   },
   {
    "duration": 28891,
    "start_time": "2023-04-28T13:18:10.444Z"
   },
   {
    "duration": 497,
    "start_time": "2023-04-28T13:18:39.337Z"
   },
   {
    "duration": 99,
    "start_time": "2023-04-28T13:18:39.836Z"
   },
   {
    "duration": 129,
    "start_time": "2023-04-28T13:18:39.936Z"
   },
   {
    "duration": 64,
    "start_time": "2023-04-28T13:18:40.067Z"
   },
   {
    "duration": 95,
    "start_time": "2023-04-28T13:18:40.133Z"
   },
   {
    "duration": 1537,
    "start_time": "2023-04-28T13:19:18.944Z"
   },
   {
    "duration": 857,
    "start_time": "2023-04-28T13:19:20.483Z"
   },
   {
    "duration": 914,
    "start_time": "2023-04-28T13:19:21.343Z"
   },
   {
    "duration": 6,
    "start_time": "2023-04-28T13:19:22.259Z"
   },
   {
    "duration": 79,
    "start_time": "2023-04-28T13:19:22.267Z"
   },
   {
    "duration": 238,
    "start_time": "2023-04-28T13:19:22.347Z"
   },
   {
    "duration": 9,
    "start_time": "2023-04-28T13:19:22.586Z"
   },
   {
    "duration": 36,
    "start_time": "2023-04-28T13:19:22.596Z"
   },
   {
    "duration": 602,
    "start_time": "2023-04-28T13:19:22.634Z"
   },
   {
    "duration": 12,
    "start_time": "2023-04-28T13:19:23.238Z"
   },
   {
    "duration": 24,
    "start_time": "2023-04-28T13:19:23.252Z"
   },
   {
    "duration": 22,
    "start_time": "2023-04-28T13:19:23.278Z"
   },
   {
    "duration": 23,
    "start_time": "2023-04-28T13:19:23.302Z"
   },
   {
    "duration": 838,
    "start_time": "2023-04-28T13:19:23.328Z"
   },
   {
    "duration": 96,
    "start_time": "2023-04-28T13:19:24.167Z"
   },
   {
    "duration": 8,
    "start_time": "2023-04-28T13:19:24.265Z"
   },
   {
    "duration": 14,
    "start_time": "2023-04-28T13:19:24.275Z"
   },
   {
    "duration": 49,
    "start_time": "2023-04-28T13:19:24.290Z"
   },
   {
    "duration": 7,
    "start_time": "2023-04-28T13:19:24.343Z"
   },
   {
    "duration": 30,
    "start_time": "2023-04-28T13:19:24.352Z"
   },
   {
    "duration": 79,
    "start_time": "2023-04-28T13:19:24.383Z"
   },
   {
    "duration": 77,
    "start_time": "2023-04-28T13:19:24.463Z"
   },
   {
    "duration": 36,
    "start_time": "2023-04-28T13:19:24.543Z"
   },
   {
    "duration": 45,
    "start_time": "2023-04-28T13:19:24.581Z"
   },
   {
    "duration": 42,
    "start_time": "2023-04-28T13:19:24.629Z"
   },
   {
    "duration": 13,
    "start_time": "2023-04-28T13:19:24.672Z"
   },
   {
    "duration": 273,
    "start_time": "2023-04-28T13:19:24.686Z"
   },
   {
    "duration": 41,
    "start_time": "2023-04-28T13:19:24.960Z"
   },
   {
    "duration": 60,
    "start_time": "2023-04-28T13:19:25.003Z"
   },
   {
    "duration": 608,
    "start_time": "2023-04-28T13:19:25.065Z"
   },
   {
    "duration": 391,
    "start_time": "2023-04-28T13:19:25.674Z"
   },
   {
    "duration": 6,
    "start_time": "2023-04-28T13:19:26.067Z"
   },
   {
    "duration": 30052,
    "start_time": "2023-04-28T13:19:26.074Z"
   },
   {
    "duration": 593,
    "start_time": "2023-04-28T13:19:56.127Z"
   },
   {
    "duration": 104,
    "start_time": "2023-04-28T13:19:56.723Z"
   },
   {
    "duration": 50,
    "start_time": "2023-04-28T13:19:56.829Z"
   },
   {
    "duration": 49,
    "start_time": "2023-04-28T13:19:56.880Z"
   },
   {
    "duration": 89,
    "start_time": "2023-04-28T13:19:56.931Z"
   },
   {
    "duration": 65611,
    "start_time": "2023-04-28T13:19:57.022Z"
   },
   {
    "duration": 1004,
    "start_time": "2023-04-28T13:21:02.635Z"
   },
   {
    "duration": 352070,
    "start_time": "2023-04-28T13:21:03.645Z"
   },
   {
    "duration": 26619,
    "start_time": "2023-04-28T13:26:55.716Z"
   },
   {
    "duration": 126,
    "start_time": "2023-04-28T13:27:22.337Z"
   },
   {
    "duration": 5,
    "start_time": "2023-04-28T13:27:22.464Z"
   },
   {
    "duration": 337088,
    "start_time": "2023-04-28T13:27:22.470Z"
   },
   {
    "duration": 25471,
    "start_time": "2023-04-28T13:32:59.560Z"
   },
   {
    "duration": 69,
    "start_time": "2023-04-28T13:33:25.032Z"
   },
   {
    "duration": 5,
    "start_time": "2023-04-28T13:33:25.103Z"
   },
   {
    "duration": 29457,
    "start_time": "2023-04-28T13:33:25.109Z"
   },
   {
    "duration": 133,
    "start_time": "2023-04-28T13:33:54.567Z"
   },
   {
    "duration": 5,
    "start_time": "2023-04-28T13:33:54.702Z"
   },
   {
    "duration": 532501,
    "start_time": "2023-04-28T13:33:54.718Z"
   },
   {
    "duration": 15200,
    "start_time": "2023-04-28T13:42:47.220Z"
   },
   {
    "duration": 1113,
    "start_time": "2023-04-28T13:43:02.421Z"
   },
   {
    "duration": 6,
    "start_time": "2023-04-28T13:43:03.618Z"
   },
   {
    "duration": 1511,
    "start_time": "2023-04-28T15:08:50.281Z"
   },
   {
    "duration": 792,
    "start_time": "2023-04-28T15:08:51.794Z"
   },
   {
    "duration": 775,
    "start_time": "2023-04-28T15:08:52.589Z"
   },
   {
    "duration": 6,
    "start_time": "2023-04-28T15:08:53.366Z"
   },
   {
    "duration": 57,
    "start_time": "2023-04-28T15:08:53.374Z"
   },
   {
    "duration": 214,
    "start_time": "2023-04-28T15:08:53.433Z"
   },
   {
    "duration": 9,
    "start_time": "2023-04-28T15:08:53.648Z"
   },
   {
    "duration": 27,
    "start_time": "2023-04-28T15:08:53.659Z"
   },
   {
    "duration": 521,
    "start_time": "2023-04-28T15:08:53.688Z"
   },
   {
    "duration": 15,
    "start_time": "2023-04-28T15:08:54.211Z"
   },
   {
    "duration": 25,
    "start_time": "2023-04-28T15:08:54.227Z"
   },
   {
    "duration": 23,
    "start_time": "2023-04-28T15:08:54.254Z"
   },
   {
    "duration": 37,
    "start_time": "2023-04-28T15:08:54.281Z"
   },
   {
    "duration": 775,
    "start_time": "2023-04-28T15:08:54.320Z"
   },
   {
    "duration": 109,
    "start_time": "2023-04-28T15:08:55.097Z"
   },
   {
    "duration": 10,
    "start_time": "2023-04-28T15:08:55.208Z"
   },
   {
    "duration": 14,
    "start_time": "2023-04-28T15:08:55.220Z"
   },
   {
    "duration": 20,
    "start_time": "2023-04-28T15:08:55.236Z"
   },
   {
    "duration": 7,
    "start_time": "2023-04-28T15:08:55.258Z"
   },
   {
    "duration": 53,
    "start_time": "2023-04-28T15:08:55.266Z"
   },
   {
    "duration": 67,
    "start_time": "2023-04-28T15:08:55.321Z"
   },
   {
    "duration": 86,
    "start_time": "2023-04-28T15:08:55.390Z"
   },
   {
    "duration": 50,
    "start_time": "2023-04-28T15:08:55.477Z"
   },
   {
    "duration": 32,
    "start_time": "2023-04-28T15:08:55.529Z"
   },
   {
    "duration": 34,
    "start_time": "2023-04-28T15:08:55.562Z"
   },
   {
    "duration": 36,
    "start_time": "2023-04-28T15:08:55.598Z"
   },
   {
    "duration": 242,
    "start_time": "2023-04-28T15:08:55.636Z"
   },
   {
    "duration": 48,
    "start_time": "2023-04-28T15:08:55.880Z"
   },
   {
    "duration": 75,
    "start_time": "2023-04-28T15:08:55.930Z"
   },
   {
    "duration": 0,
    "start_time": "2023-04-28T15:08:56.007Z"
   },
   {
    "duration": 0,
    "start_time": "2023-04-28T15:08:56.008Z"
   },
   {
    "duration": 0,
    "start_time": "2023-04-28T15:08:56.009Z"
   },
   {
    "duration": 0,
    "start_time": "2023-04-28T15:08:56.011Z"
   },
   {
    "duration": 0,
    "start_time": "2023-04-28T15:08:56.012Z"
   },
   {
    "duration": 0,
    "start_time": "2023-04-28T15:08:56.013Z"
   },
   {
    "duration": 0,
    "start_time": "2023-04-28T15:08:56.014Z"
   },
   {
    "duration": 0,
    "start_time": "2023-04-28T15:08:56.015Z"
   },
   {
    "duration": 0,
    "start_time": "2023-04-28T15:08:56.016Z"
   },
   {
    "duration": 0,
    "start_time": "2023-04-28T15:08:56.017Z"
   },
   {
    "duration": 0,
    "start_time": "2023-04-28T15:08:56.018Z"
   },
   {
    "duration": 0,
    "start_time": "2023-04-28T15:08:56.019Z"
   },
   {
    "duration": 0,
    "start_time": "2023-04-28T15:08:56.020Z"
   },
   {
    "duration": 0,
    "start_time": "2023-04-28T15:08:56.021Z"
   },
   {
    "duration": 0,
    "start_time": "2023-04-28T15:08:56.022Z"
   },
   {
    "duration": 0,
    "start_time": "2023-04-28T15:08:56.023Z"
   },
   {
    "duration": 0,
    "start_time": "2023-04-28T15:08:56.024Z"
   },
   {
    "duration": 0,
    "start_time": "2023-04-28T15:08:56.024Z"
   },
   {
    "duration": 0,
    "start_time": "2023-04-28T15:08:56.025Z"
   },
   {
    "duration": 0,
    "start_time": "2023-04-28T15:08:56.025Z"
   },
   {
    "duration": 0,
    "start_time": "2023-04-28T15:08:56.026Z"
   },
   {
    "duration": 0,
    "start_time": "2023-04-28T15:08:56.027Z"
   },
   {
    "duration": 0,
    "start_time": "2023-04-28T15:08:56.028Z"
   },
   {
    "duration": 0,
    "start_time": "2023-04-28T15:08:56.029Z"
   },
   {
    "duration": 0,
    "start_time": "2023-04-28T15:08:56.030Z"
   },
   {
    "duration": 1,
    "start_time": "2023-04-28T15:08:56.031Z"
   },
   {
    "duration": 0,
    "start_time": "2023-04-28T15:08:56.033Z"
   },
   {
    "duration": 0,
    "start_time": "2023-04-28T15:08:56.034Z"
   },
   {
    "duration": 0,
    "start_time": "2023-04-28T15:08:56.035Z"
   },
   {
    "duration": 0,
    "start_time": "2023-04-28T15:08:56.036Z"
   },
   {
    "duration": 0,
    "start_time": "2023-04-28T15:08:56.037Z"
   },
   {
    "duration": 0,
    "start_time": "2023-04-28T15:08:56.038Z"
   },
   {
    "duration": 0,
    "start_time": "2023-04-28T15:08:56.039Z"
   },
   {
    "duration": 0,
    "start_time": "2023-04-28T15:08:56.041Z"
   },
   {
    "duration": 0,
    "start_time": "2023-04-28T15:08:56.042Z"
   },
   {
    "duration": 0,
    "start_time": "2023-04-28T15:08:56.043Z"
   },
   {
    "duration": 0,
    "start_time": "2023-04-28T15:08:56.044Z"
   },
   {
    "duration": 0,
    "start_time": "2023-04-28T15:08:56.045Z"
   },
   {
    "duration": 0,
    "start_time": "2023-04-28T15:08:56.047Z"
   },
   {
    "duration": 0,
    "start_time": "2023-04-28T15:08:56.048Z"
   },
   {
    "duration": 0,
    "start_time": "2023-04-28T15:08:56.049Z"
   },
   {
    "duration": 0,
    "start_time": "2023-04-28T15:08:56.050Z"
   },
   {
    "duration": 1469,
    "start_time": "2023-04-28T15:21:16.436Z"
   },
   {
    "duration": 820,
    "start_time": "2023-04-28T15:21:17.907Z"
   },
   {
    "duration": 821,
    "start_time": "2023-04-28T15:21:18.729Z"
   },
   {
    "duration": 6,
    "start_time": "2023-04-28T15:21:19.551Z"
   },
   {
    "duration": 53,
    "start_time": "2023-04-28T15:21:19.558Z"
   },
   {
    "duration": 209,
    "start_time": "2023-04-28T15:21:19.624Z"
   },
   {
    "duration": 8,
    "start_time": "2023-04-28T15:21:19.835Z"
   },
   {
    "duration": 28,
    "start_time": "2023-04-28T15:21:19.844Z"
   },
   {
    "duration": 511,
    "start_time": "2023-04-28T15:21:19.873Z"
   },
   {
    "duration": 12,
    "start_time": "2023-04-28T15:21:20.386Z"
   },
   {
    "duration": 39,
    "start_time": "2023-04-28T15:21:20.399Z"
   },
   {
    "duration": 22,
    "start_time": "2023-04-28T15:21:20.440Z"
   },
   {
    "duration": 8,
    "start_time": "2023-04-28T15:21:20.464Z"
   },
   {
    "duration": 767,
    "start_time": "2023-04-28T15:21:20.474Z"
   },
   {
    "duration": 99,
    "start_time": "2023-04-28T15:21:21.243Z"
   },
   {
    "duration": 9,
    "start_time": "2023-04-28T15:21:21.344Z"
   },
   {
    "duration": 17,
    "start_time": "2023-04-28T15:21:21.355Z"
   },
   {
    "duration": 21,
    "start_time": "2023-04-28T15:21:21.374Z"
   },
   {
    "duration": 37,
    "start_time": "2023-04-28T15:21:21.397Z"
   },
   {
    "duration": 25,
    "start_time": "2023-04-28T15:21:21.436Z"
   },
   {
    "duration": 81,
    "start_time": "2023-04-28T15:21:21.463Z"
   },
   {
    "duration": 65,
    "start_time": "2023-04-28T15:21:21.546Z"
   },
   {
    "duration": 53,
    "start_time": "2023-04-28T15:21:21.613Z"
   },
   {
    "duration": 32,
    "start_time": "2023-04-28T15:21:21.668Z"
   },
   {
    "duration": 53,
    "start_time": "2023-04-28T15:21:21.701Z"
   },
   {
    "duration": 14,
    "start_time": "2023-04-28T15:21:21.755Z"
   },
   {
    "duration": 239,
    "start_time": "2023-04-28T15:21:21.771Z"
   },
   {
    "duration": 51,
    "start_time": "2023-04-28T15:21:22.015Z"
   },
   {
    "duration": 82,
    "start_time": "2023-04-28T15:21:22.068Z"
   },
   {
    "duration": 0,
    "start_time": "2023-04-28T15:21:22.151Z"
   },
   {
    "duration": 0,
    "start_time": "2023-04-28T15:21:22.153Z"
   },
   {
    "duration": 0,
    "start_time": "2023-04-28T15:21:22.154Z"
   },
   {
    "duration": 0,
    "start_time": "2023-04-28T15:21:22.155Z"
   },
   {
    "duration": 0,
    "start_time": "2023-04-28T15:21:22.156Z"
   },
   {
    "duration": 0,
    "start_time": "2023-04-28T15:21:22.157Z"
   },
   {
    "duration": 0,
    "start_time": "2023-04-28T15:21:22.158Z"
   },
   {
    "duration": 0,
    "start_time": "2023-04-28T15:21:22.159Z"
   },
   {
    "duration": 0,
    "start_time": "2023-04-28T15:21:22.160Z"
   },
   {
    "duration": 0,
    "start_time": "2023-04-28T15:21:22.161Z"
   },
   {
    "duration": 0,
    "start_time": "2023-04-28T15:21:22.163Z"
   },
   {
    "duration": 0,
    "start_time": "2023-04-28T15:21:22.164Z"
   },
   {
    "duration": 0,
    "start_time": "2023-04-28T15:21:22.165Z"
   },
   {
    "duration": 0,
    "start_time": "2023-04-28T15:21:22.167Z"
   },
   {
    "duration": 0,
    "start_time": "2023-04-28T15:21:22.168Z"
   },
   {
    "duration": 0,
    "start_time": "2023-04-28T15:21:22.169Z"
   },
   {
    "duration": 0,
    "start_time": "2023-04-28T15:21:22.171Z"
   },
   {
    "duration": 0,
    "start_time": "2023-04-28T15:21:22.172Z"
   },
   {
    "duration": 0,
    "start_time": "2023-04-28T15:21:22.173Z"
   },
   {
    "duration": 0,
    "start_time": "2023-04-28T15:21:22.174Z"
   },
   {
    "duration": 0,
    "start_time": "2023-04-28T15:21:22.175Z"
   },
   {
    "duration": 0,
    "start_time": "2023-04-28T15:21:22.176Z"
   },
   {
    "duration": 0,
    "start_time": "2023-04-28T15:21:22.177Z"
   },
   {
    "duration": 0,
    "start_time": "2023-04-28T15:21:22.179Z"
   },
   {
    "duration": 0,
    "start_time": "2023-04-28T15:21:22.180Z"
   },
   {
    "duration": 0,
    "start_time": "2023-04-28T15:21:22.181Z"
   },
   {
    "duration": 0,
    "start_time": "2023-04-28T15:21:22.183Z"
   },
   {
    "duration": 0,
    "start_time": "2023-04-28T15:21:22.184Z"
   },
   {
    "duration": 0,
    "start_time": "2023-04-28T15:21:22.185Z"
   },
   {
    "duration": 0,
    "start_time": "2023-04-28T15:21:22.186Z"
   },
   {
    "duration": 0,
    "start_time": "2023-04-28T15:21:22.188Z"
   },
   {
    "duration": 0,
    "start_time": "2023-04-28T15:21:22.188Z"
   },
   {
    "duration": 0,
    "start_time": "2023-04-28T15:21:22.189Z"
   },
   {
    "duration": 0,
    "start_time": "2023-04-28T15:21:22.190Z"
   },
   {
    "duration": 0,
    "start_time": "2023-04-28T15:21:22.223Z"
   },
   {
    "duration": 0,
    "start_time": "2023-04-28T15:21:22.223Z"
   },
   {
    "duration": 0,
    "start_time": "2023-04-28T15:21:22.224Z"
   },
   {
    "duration": 0,
    "start_time": "2023-04-28T15:21:22.224Z"
   },
   {
    "duration": 0,
    "start_time": "2023-04-28T15:21:22.225Z"
   },
   {
    "duration": 0,
    "start_time": "2023-04-28T15:21:22.225Z"
   },
   {
    "duration": 0,
    "start_time": "2023-04-28T15:21:22.226Z"
   },
   {
    "duration": 0,
    "start_time": "2023-04-28T15:21:22.235Z"
   },
   {
    "duration": 1471,
    "start_time": "2023-04-28T15:21:47.429Z"
   },
   {
    "duration": 833,
    "start_time": "2023-04-28T15:21:48.902Z"
   },
   {
    "duration": 798,
    "start_time": "2023-04-28T15:21:49.737Z"
   },
   {
    "duration": 5,
    "start_time": "2023-04-28T15:21:50.537Z"
   },
   {
    "duration": 48,
    "start_time": "2023-04-28T15:21:50.544Z"
   },
   {
    "duration": 237,
    "start_time": "2023-04-28T15:21:50.594Z"
   },
   {
    "duration": 9,
    "start_time": "2023-04-28T15:21:50.832Z"
   },
   {
    "duration": 25,
    "start_time": "2023-04-28T15:21:50.842Z"
   },
   {
    "duration": 523,
    "start_time": "2023-04-28T15:21:50.869Z"
   },
   {
    "duration": 11,
    "start_time": "2023-04-28T15:21:51.393Z"
   },
   {
    "duration": 48,
    "start_time": "2023-04-28T15:21:51.405Z"
   },
   {
    "duration": 22,
    "start_time": "2023-04-28T15:21:51.455Z"
   },
   {
    "duration": 7,
    "start_time": "2023-04-28T15:21:51.479Z"
   },
   {
    "duration": 811,
    "start_time": "2023-04-28T15:21:51.489Z"
   },
   {
    "duration": 99,
    "start_time": "2023-04-28T15:21:52.302Z"
   },
   {
    "duration": 7,
    "start_time": "2023-04-28T15:21:52.403Z"
   },
   {
    "duration": 16,
    "start_time": "2023-04-28T15:21:52.423Z"
   },
   {
    "duration": 21,
    "start_time": "2023-04-28T15:21:52.441Z"
   },
   {
    "duration": 8,
    "start_time": "2023-04-28T15:21:52.464Z"
   },
   {
    "duration": 54,
    "start_time": "2023-04-28T15:21:52.474Z"
   },
   {
    "duration": 64,
    "start_time": "2023-04-28T15:21:52.530Z"
   },
   {
    "duration": 81,
    "start_time": "2023-04-28T15:21:52.596Z"
   },
   {
    "duration": 48,
    "start_time": "2023-04-28T15:21:52.679Z"
   },
   {
    "duration": 33,
    "start_time": "2023-04-28T15:21:52.730Z"
   },
   {
    "duration": 39,
    "start_time": "2023-04-28T15:21:52.765Z"
   },
   {
    "duration": 22,
    "start_time": "2023-04-28T15:21:52.805Z"
   },
   {
    "duration": 234,
    "start_time": "2023-04-28T15:21:52.828Z"
   },
   {
    "duration": 43,
    "start_time": "2023-04-28T15:21:53.063Z"
   },
   {
    "duration": 77,
    "start_time": "2023-04-28T15:21:53.119Z"
   },
   {
    "duration": 0,
    "start_time": "2023-04-28T15:21:53.199Z"
   },
   {
    "duration": 0,
    "start_time": "2023-04-28T15:21:53.201Z"
   },
   {
    "duration": 0,
    "start_time": "2023-04-28T15:21:53.202Z"
   },
   {
    "duration": 0,
    "start_time": "2023-04-28T15:21:53.203Z"
   },
   {
    "duration": 0,
    "start_time": "2023-04-28T15:21:53.205Z"
   },
   {
    "duration": 0,
    "start_time": "2023-04-28T15:21:53.206Z"
   },
   {
    "duration": 0,
    "start_time": "2023-04-28T15:21:53.207Z"
   },
   {
    "duration": 0,
    "start_time": "2023-04-28T15:21:53.209Z"
   },
   {
    "duration": 0,
    "start_time": "2023-04-28T15:21:53.210Z"
   },
   {
    "duration": 0,
    "start_time": "2023-04-28T15:21:53.212Z"
   },
   {
    "duration": 0,
    "start_time": "2023-04-28T15:21:53.213Z"
   },
   {
    "duration": 0,
    "start_time": "2023-04-28T15:21:53.214Z"
   },
   {
    "duration": 0,
    "start_time": "2023-04-28T15:21:53.216Z"
   },
   {
    "duration": 0,
    "start_time": "2023-04-28T15:21:53.217Z"
   },
   {
    "duration": 0,
    "start_time": "2023-04-28T15:21:53.218Z"
   },
   {
    "duration": 0,
    "start_time": "2023-04-28T15:21:53.218Z"
   },
   {
    "duration": 0,
    "start_time": "2023-04-28T15:21:53.219Z"
   },
   {
    "duration": 0,
    "start_time": "2023-04-28T15:21:53.220Z"
   },
   {
    "duration": 0,
    "start_time": "2023-04-28T15:21:53.221Z"
   },
   {
    "duration": 0,
    "start_time": "2023-04-28T15:21:53.222Z"
   },
   {
    "duration": 0,
    "start_time": "2023-04-28T15:21:53.227Z"
   },
   {
    "duration": 0,
    "start_time": "2023-04-28T15:21:53.227Z"
   },
   {
    "duration": 0,
    "start_time": "2023-04-28T15:21:53.228Z"
   },
   {
    "duration": 0,
    "start_time": "2023-04-28T15:21:53.229Z"
   },
   {
    "duration": 0,
    "start_time": "2023-04-28T15:21:53.230Z"
   },
   {
    "duration": 0,
    "start_time": "2023-04-28T15:21:53.232Z"
   },
   {
    "duration": 0,
    "start_time": "2023-04-28T15:21:53.233Z"
   },
   {
    "duration": 0,
    "start_time": "2023-04-28T15:21:53.235Z"
   },
   {
    "duration": 0,
    "start_time": "2023-04-28T15:21:53.236Z"
   },
   {
    "duration": 0,
    "start_time": "2023-04-28T15:21:53.237Z"
   },
   {
    "duration": 0,
    "start_time": "2023-04-28T15:21:53.239Z"
   },
   {
    "duration": 0,
    "start_time": "2023-04-28T15:21:53.240Z"
   },
   {
    "duration": 0,
    "start_time": "2023-04-28T15:21:53.241Z"
   },
   {
    "duration": 0,
    "start_time": "2023-04-28T15:21:53.243Z"
   },
   {
    "duration": 0,
    "start_time": "2023-04-28T15:21:53.244Z"
   },
   {
    "duration": 0,
    "start_time": "2023-04-28T15:21:53.245Z"
   },
   {
    "duration": 0,
    "start_time": "2023-04-28T15:21:53.246Z"
   },
   {
    "duration": 0,
    "start_time": "2023-04-28T15:21:53.248Z"
   },
   {
    "duration": 0,
    "start_time": "2023-04-28T15:21:53.249Z"
   },
   {
    "duration": 0,
    "start_time": "2023-04-28T15:21:53.250Z"
   },
   {
    "duration": 0,
    "start_time": "2023-04-28T15:21:53.251Z"
   },
   {
    "duration": 0,
    "start_time": "2023-04-28T15:21:53.252Z"
   },
   {
    "duration": 3,
    "start_time": "2023-04-28T15:22:19.242Z"
   },
   {
    "duration": 2,
    "start_time": "2023-04-28T15:22:22.452Z"
   },
   {
    "duration": 1477,
    "start_time": "2023-04-28T15:22:29.427Z"
   },
   {
    "duration": 791,
    "start_time": "2023-04-28T15:22:30.906Z"
   },
   {
    "duration": 730,
    "start_time": "2023-04-28T15:22:31.698Z"
   },
   {
    "duration": 6,
    "start_time": "2023-04-28T15:22:32.430Z"
   },
   {
    "duration": 39,
    "start_time": "2023-04-28T15:22:32.437Z"
   },
   {
    "duration": 204,
    "start_time": "2023-04-28T15:22:32.478Z"
   },
   {
    "duration": 9,
    "start_time": "2023-04-28T15:22:32.684Z"
   },
   {
    "duration": 35,
    "start_time": "2023-04-28T15:22:32.694Z"
   },
   {
    "duration": 510,
    "start_time": "2023-04-28T15:22:32.730Z"
   },
   {
    "duration": 12,
    "start_time": "2023-04-28T15:22:33.243Z"
   },
   {
    "duration": 26,
    "start_time": "2023-04-28T15:22:33.257Z"
   },
   {
    "duration": 44,
    "start_time": "2023-04-28T15:22:33.285Z"
   },
   {
    "duration": 8,
    "start_time": "2023-04-28T15:22:33.331Z"
   },
   {
    "duration": 809,
    "start_time": "2023-04-28T15:22:33.341Z"
   },
   {
    "duration": 106,
    "start_time": "2023-04-28T15:22:34.151Z"
   },
   {
    "duration": 8,
    "start_time": "2023-04-28T15:22:34.259Z"
   },
   {
    "duration": 16,
    "start_time": "2023-04-28T15:22:34.269Z"
   },
   {
    "duration": 40,
    "start_time": "2023-04-28T15:22:34.287Z"
   },
   {
    "duration": 7,
    "start_time": "2023-04-28T15:22:34.328Z"
   },
   {
    "duration": 24,
    "start_time": "2023-04-28T15:22:34.337Z"
   },
   {
    "duration": 84,
    "start_time": "2023-04-28T15:22:34.362Z"
   },
   {
    "duration": 71,
    "start_time": "2023-04-28T15:22:34.448Z"
   },
   {
    "duration": 37,
    "start_time": "2023-04-28T15:22:34.521Z"
   },
   {
    "duration": 32,
    "start_time": "2023-04-28T15:22:34.560Z"
   },
   {
    "duration": 52,
    "start_time": "2023-04-28T15:22:34.594Z"
   },
   {
    "duration": 13,
    "start_time": "2023-04-28T15:22:34.648Z"
   },
   {
    "duration": 229,
    "start_time": "2023-04-28T15:22:34.662Z"
   },
   {
    "duration": 45,
    "start_time": "2023-04-28T15:22:34.895Z"
   },
   {
    "duration": 19,
    "start_time": "2023-04-28T15:22:34.941Z"
   },
   {
    "duration": 56,
    "start_time": "2023-04-28T15:22:34.962Z"
   },
   {
    "duration": 434,
    "start_time": "2023-04-28T15:22:35.019Z"
   },
   {
    "duration": 0,
    "start_time": "2023-04-28T15:22:35.454Z"
   },
   {
    "duration": 0,
    "start_time": "2023-04-28T15:22:35.455Z"
   },
   {
    "duration": 0,
    "start_time": "2023-04-28T15:22:35.456Z"
   },
   {
    "duration": 0,
    "start_time": "2023-04-28T15:22:35.456Z"
   },
   {
    "duration": 0,
    "start_time": "2023-04-28T15:22:35.457Z"
   },
   {
    "duration": 0,
    "start_time": "2023-04-28T15:22:35.458Z"
   },
   {
    "duration": 0,
    "start_time": "2023-04-28T15:22:35.459Z"
   },
   {
    "duration": 0,
    "start_time": "2023-04-28T15:22:35.459Z"
   },
   {
    "duration": 0,
    "start_time": "2023-04-28T15:22:35.460Z"
   },
   {
    "duration": 0,
    "start_time": "2023-04-28T15:22:35.461Z"
   },
   {
    "duration": 0,
    "start_time": "2023-04-28T15:22:35.462Z"
   },
   {
    "duration": 0,
    "start_time": "2023-04-28T15:22:35.463Z"
   },
   {
    "duration": 0,
    "start_time": "2023-04-28T15:22:35.464Z"
   },
   {
    "duration": 0,
    "start_time": "2023-04-28T15:22:35.465Z"
   },
   {
    "duration": 0,
    "start_time": "2023-04-28T15:22:35.466Z"
   },
   {
    "duration": 0,
    "start_time": "2023-04-28T15:22:35.466Z"
   },
   {
    "duration": 0,
    "start_time": "2023-04-28T15:22:35.467Z"
   },
   {
    "duration": 0,
    "start_time": "2023-04-28T15:22:35.468Z"
   },
   {
    "duration": 0,
    "start_time": "2023-04-28T15:22:35.469Z"
   },
   {
    "duration": 0,
    "start_time": "2023-04-28T15:22:35.470Z"
   },
   {
    "duration": 0,
    "start_time": "2023-04-28T15:22:35.471Z"
   },
   {
    "duration": 0,
    "start_time": "2023-04-28T15:22:35.472Z"
   },
   {
    "duration": 0,
    "start_time": "2023-04-28T15:22:35.473Z"
   },
   {
    "duration": 0,
    "start_time": "2023-04-28T15:22:35.474Z"
   },
   {
    "duration": 0,
    "start_time": "2023-04-28T15:22:35.475Z"
   },
   {
    "duration": 0,
    "start_time": "2023-04-28T15:22:35.476Z"
   },
   {
    "duration": 0,
    "start_time": "2023-04-28T15:22:35.477Z"
   },
   {
    "duration": 0,
    "start_time": "2023-04-28T15:22:35.518Z"
   },
   {
    "duration": 0,
    "start_time": "2023-04-28T15:22:35.519Z"
   },
   {
    "duration": 0,
    "start_time": "2023-04-28T15:22:35.520Z"
   },
   {
    "duration": 0,
    "start_time": "2023-04-28T15:22:35.521Z"
   },
   {
    "duration": 0,
    "start_time": "2023-04-28T15:22:35.522Z"
   },
   {
    "duration": 0,
    "start_time": "2023-04-28T15:22:35.523Z"
   },
   {
    "duration": 0,
    "start_time": "2023-04-28T15:22:35.524Z"
   },
   {
    "duration": 0,
    "start_time": "2023-04-28T15:22:35.525Z"
   },
   {
    "duration": 0,
    "start_time": "2023-04-28T15:22:35.526Z"
   },
   {
    "duration": 0,
    "start_time": "2023-04-28T15:22:35.526Z"
   },
   {
    "duration": 0,
    "start_time": "2023-04-28T15:22:35.527Z"
   },
   {
    "duration": 0,
    "start_time": "2023-04-28T15:22:35.528Z"
   },
   {
    "duration": 0,
    "start_time": "2023-04-28T15:22:35.529Z"
   },
   {
    "duration": 518,
    "start_time": "2023-04-28T15:23:34.082Z"
   },
   {
    "duration": 1468,
    "start_time": "2023-04-28T15:23:41.312Z"
   },
   {
    "duration": 816,
    "start_time": "2023-04-28T15:23:42.782Z"
   },
   {
    "duration": 801,
    "start_time": "2023-04-28T15:23:43.600Z"
   },
   {
    "duration": 6,
    "start_time": "2023-04-28T15:23:44.402Z"
   },
   {
    "duration": 52,
    "start_time": "2023-04-28T15:23:44.410Z"
   },
   {
    "duration": 222,
    "start_time": "2023-04-28T15:23:44.464Z"
   },
   {
    "duration": 8,
    "start_time": "2023-04-28T15:23:44.688Z"
   },
   {
    "duration": 37,
    "start_time": "2023-04-28T15:23:44.698Z"
   },
   {
    "duration": 518,
    "start_time": "2023-04-28T15:23:44.738Z"
   },
   {
    "duration": 11,
    "start_time": "2023-04-28T15:23:45.258Z"
   },
   {
    "duration": 24,
    "start_time": "2023-04-28T15:23:45.271Z"
   },
   {
    "duration": 29,
    "start_time": "2023-04-28T15:23:45.317Z"
   },
   {
    "duration": 9,
    "start_time": "2023-04-28T15:23:45.348Z"
   },
   {
    "duration": 800,
    "start_time": "2023-04-28T15:23:45.360Z"
   },
   {
    "duration": 99,
    "start_time": "2023-04-28T15:23:46.161Z"
   },
   {
    "duration": 8,
    "start_time": "2023-04-28T15:23:46.262Z"
   },
   {
    "duration": 14,
    "start_time": "2023-04-28T15:23:46.271Z"
   },
   {
    "duration": 40,
    "start_time": "2023-04-28T15:23:46.287Z"
   },
   {
    "duration": 7,
    "start_time": "2023-04-28T15:23:46.329Z"
   },
   {
    "duration": 27,
    "start_time": "2023-04-28T15:23:46.337Z"
   },
   {
    "duration": 84,
    "start_time": "2023-04-28T15:23:46.365Z"
   },
   {
    "duration": 67,
    "start_time": "2023-04-28T15:23:46.450Z"
   },
   {
    "duration": 36,
    "start_time": "2023-04-28T15:23:46.528Z"
   },
   {
    "duration": 33,
    "start_time": "2023-04-28T15:23:46.566Z"
   },
   {
    "duration": 49,
    "start_time": "2023-04-28T15:23:46.600Z"
   },
   {
    "duration": 12,
    "start_time": "2023-04-28T15:23:46.650Z"
   },
   {
    "duration": 262,
    "start_time": "2023-04-28T15:23:46.664Z"
   },
   {
    "duration": 42,
    "start_time": "2023-04-28T15:23:46.928Z"
   },
   {
    "duration": 2,
    "start_time": "2023-04-28T15:23:46.972Z"
   },
   {
    "duration": 52,
    "start_time": "2023-04-28T15:23:46.976Z"
   },
   {
    "duration": 554,
    "start_time": "2023-04-28T15:23:47.030Z"
   },
   {
    "duration": 3,
    "start_time": "2023-04-28T15:23:47.586Z"
   },
   {
    "duration": 140,
    "start_time": "2023-04-28T15:23:47.591Z"
   },
   {
    "duration": 0,
    "start_time": "2023-04-28T15:23:47.733Z"
   },
   {
    "duration": 0,
    "start_time": "2023-04-28T15:23:47.734Z"
   },
   {
    "duration": 0,
    "start_time": "2023-04-28T15:23:47.735Z"
   },
   {
    "duration": 0,
    "start_time": "2023-04-28T15:23:47.736Z"
   },
   {
    "duration": 0,
    "start_time": "2023-04-28T15:23:47.737Z"
   },
   {
    "duration": 0,
    "start_time": "2023-04-28T15:23:47.738Z"
   },
   {
    "duration": 0,
    "start_time": "2023-04-28T15:23:47.739Z"
   },
   {
    "duration": 0,
    "start_time": "2023-04-28T15:23:47.740Z"
   },
   {
    "duration": 0,
    "start_time": "2023-04-28T15:23:47.741Z"
   },
   {
    "duration": 0,
    "start_time": "2023-04-28T15:23:47.742Z"
   },
   {
    "duration": 0,
    "start_time": "2023-04-28T15:23:47.743Z"
   },
   {
    "duration": 0,
    "start_time": "2023-04-28T15:23:47.744Z"
   },
   {
    "duration": 0,
    "start_time": "2023-04-28T15:23:47.744Z"
   },
   {
    "duration": 0,
    "start_time": "2023-04-28T15:23:47.745Z"
   },
   {
    "duration": 0,
    "start_time": "2023-04-28T15:23:47.746Z"
   },
   {
    "duration": 0,
    "start_time": "2023-04-28T15:23:47.747Z"
   },
   {
    "duration": 0,
    "start_time": "2023-04-28T15:23:47.747Z"
   },
   {
    "duration": 0,
    "start_time": "2023-04-28T15:23:47.748Z"
   },
   {
    "duration": 0,
    "start_time": "2023-04-28T15:23:47.749Z"
   },
   {
    "duration": 0,
    "start_time": "2023-04-28T15:23:47.750Z"
   },
   {
    "duration": 0,
    "start_time": "2023-04-28T15:23:47.751Z"
   },
   {
    "duration": 0,
    "start_time": "2023-04-28T15:23:47.751Z"
   },
   {
    "duration": 0,
    "start_time": "2023-04-28T15:23:47.752Z"
   },
   {
    "duration": 0,
    "start_time": "2023-04-28T15:23:47.753Z"
   },
   {
    "duration": 0,
    "start_time": "2023-04-28T15:23:47.754Z"
   },
   {
    "duration": 0,
    "start_time": "2023-04-28T15:23:47.754Z"
   },
   {
    "duration": 0,
    "start_time": "2023-04-28T15:23:47.755Z"
   },
   {
    "duration": 0,
    "start_time": "2023-04-28T15:23:47.756Z"
   },
   {
    "duration": 0,
    "start_time": "2023-04-28T15:23:47.756Z"
   },
   {
    "duration": 0,
    "start_time": "2023-04-28T15:23:47.757Z"
   },
   {
    "duration": 0,
    "start_time": "2023-04-28T15:23:47.758Z"
   },
   {
    "duration": 0,
    "start_time": "2023-04-28T15:23:47.759Z"
   },
   {
    "duration": 0,
    "start_time": "2023-04-28T15:23:47.760Z"
   },
   {
    "duration": 0,
    "start_time": "2023-04-28T15:23:47.761Z"
   },
   {
    "duration": 0,
    "start_time": "2023-04-28T15:23:47.762Z"
   },
   {
    "duration": 0,
    "start_time": "2023-04-28T15:23:47.762Z"
   },
   {
    "duration": 0,
    "start_time": "2023-04-28T15:23:47.763Z"
   },
   {
    "duration": 0,
    "start_time": "2023-04-28T15:23:47.819Z"
   },
   {
    "duration": 261,
    "start_time": "2023-04-28T15:25:29.610Z"
   },
   {
    "duration": 293,
    "start_time": "2023-04-28T15:29:20.571Z"
   },
   {
    "duration": 1463,
    "start_time": "2023-04-28T15:29:28.429Z"
   },
   {
    "duration": 833,
    "start_time": "2023-04-28T15:29:29.894Z"
   },
   {
    "duration": 819,
    "start_time": "2023-04-28T15:29:30.729Z"
   },
   {
    "duration": 6,
    "start_time": "2023-04-28T15:29:31.550Z"
   },
   {
    "duration": 76,
    "start_time": "2023-04-28T15:29:31.558Z"
   },
   {
    "duration": 240,
    "start_time": "2023-04-28T15:29:31.636Z"
   },
   {
    "duration": 9,
    "start_time": "2023-04-28T15:29:31.877Z"
   },
   {
    "duration": 39,
    "start_time": "2023-04-28T15:29:31.888Z"
   },
   {
    "duration": 503,
    "start_time": "2023-04-28T15:29:31.929Z"
   },
   {
    "duration": 12,
    "start_time": "2023-04-28T15:29:32.434Z"
   },
   {
    "duration": 24,
    "start_time": "2023-04-28T15:29:32.448Z"
   },
   {
    "duration": 52,
    "start_time": "2023-04-28T15:29:32.474Z"
   },
   {
    "duration": 8,
    "start_time": "2023-04-28T15:29:32.532Z"
   },
   {
    "duration": 807,
    "start_time": "2023-04-28T15:29:32.544Z"
   },
   {
    "duration": 100,
    "start_time": "2023-04-28T15:29:33.353Z"
   },
   {
    "duration": 9,
    "start_time": "2023-04-28T15:29:33.455Z"
   },
   {
    "duration": 17,
    "start_time": "2023-04-28T15:29:33.466Z"
   },
   {
    "duration": 43,
    "start_time": "2023-04-28T15:29:33.484Z"
   },
   {
    "duration": 7,
    "start_time": "2023-04-28T15:29:33.530Z"
   },
   {
    "duration": 30,
    "start_time": "2023-04-28T15:29:33.538Z"
   },
   {
    "duration": 85,
    "start_time": "2023-04-28T15:29:33.569Z"
   },
   {
    "duration": 72,
    "start_time": "2023-04-28T15:29:33.656Z"
   },
   {
    "duration": 36,
    "start_time": "2023-04-28T15:29:33.730Z"
   },
   {
    "duration": 30,
    "start_time": "2023-04-28T15:29:33.767Z"
   },
   {
    "duration": 52,
    "start_time": "2023-04-28T15:29:33.798Z"
   },
   {
    "duration": 19,
    "start_time": "2023-04-28T15:29:33.851Z"
   },
   {
    "duration": 226,
    "start_time": "2023-04-28T15:29:33.871Z"
   },
   {
    "duration": 58,
    "start_time": "2023-04-28T15:29:34.099Z"
   },
   {
    "duration": 2,
    "start_time": "2023-04-28T15:29:34.159Z"
   },
   {
    "duration": 39,
    "start_time": "2023-04-28T15:29:34.162Z"
   },
   {
    "duration": 560,
    "start_time": "2023-04-28T15:29:34.203Z"
   },
   {
    "duration": 3,
    "start_time": "2023-04-28T15:29:34.764Z"
   },
   {
    "duration": 286,
    "start_time": "2023-04-28T15:29:34.768Z"
   },
   {
    "duration": 200,
    "start_time": "2023-04-28T15:29:35.056Z"
   },
   {
    "duration": 88,
    "start_time": "2023-04-28T15:29:35.257Z"
   },
   {
    "duration": 10,
    "start_time": "2023-04-28T15:29:35.346Z"
   },
   {
    "duration": 0,
    "start_time": "2023-04-28T15:29:35.358Z"
   },
   {
    "duration": 0,
    "start_time": "2023-04-28T15:29:35.359Z"
   },
   {
    "duration": 0,
    "start_time": "2023-04-28T15:29:35.360Z"
   },
   {
    "duration": 0,
    "start_time": "2023-04-28T15:29:35.361Z"
   },
   {
    "duration": 0,
    "start_time": "2023-04-28T15:29:35.363Z"
   },
   {
    "duration": 0,
    "start_time": "2023-04-28T15:29:35.363Z"
   },
   {
    "duration": 0,
    "start_time": "2023-04-28T15:29:35.365Z"
   },
   {
    "duration": 0,
    "start_time": "2023-04-28T15:29:35.365Z"
   },
   {
    "duration": 0,
    "start_time": "2023-04-28T15:29:35.366Z"
   },
   {
    "duration": 0,
    "start_time": "2023-04-28T15:29:35.367Z"
   },
   {
    "duration": 0,
    "start_time": "2023-04-28T15:29:35.368Z"
   },
   {
    "duration": 0,
    "start_time": "2023-04-28T15:29:35.369Z"
   },
   {
    "duration": 0,
    "start_time": "2023-04-28T15:29:35.370Z"
   },
   {
    "duration": 0,
    "start_time": "2023-04-28T15:29:35.371Z"
   },
   {
    "duration": 0,
    "start_time": "2023-04-28T15:29:35.372Z"
   },
   {
    "duration": 0,
    "start_time": "2023-04-28T15:29:35.373Z"
   },
   {
    "duration": 0,
    "start_time": "2023-04-28T15:29:35.374Z"
   },
   {
    "duration": 0,
    "start_time": "2023-04-28T15:29:35.375Z"
   },
   {
    "duration": 0,
    "start_time": "2023-04-28T15:29:35.376Z"
   },
   {
    "duration": 0,
    "start_time": "2023-04-28T15:29:35.376Z"
   },
   {
    "duration": 0,
    "start_time": "2023-04-28T15:29:35.377Z"
   },
   {
    "duration": 0,
    "start_time": "2023-04-28T15:29:35.378Z"
   },
   {
    "duration": 0,
    "start_time": "2023-04-28T15:29:35.379Z"
   },
   {
    "duration": 0,
    "start_time": "2023-04-28T15:29:35.380Z"
   },
   {
    "duration": 0,
    "start_time": "2023-04-28T15:29:35.381Z"
   },
   {
    "duration": 0,
    "start_time": "2023-04-28T15:29:35.382Z"
   },
   {
    "duration": 0,
    "start_time": "2023-04-28T15:29:35.383Z"
   },
   {
    "duration": 0,
    "start_time": "2023-04-28T15:29:35.384Z"
   },
   {
    "duration": 0,
    "start_time": "2023-04-28T15:29:35.384Z"
   },
   {
    "duration": 0,
    "start_time": "2023-04-28T15:29:35.386Z"
   },
   {
    "duration": 0,
    "start_time": "2023-04-28T15:29:35.386Z"
   },
   {
    "duration": 0,
    "start_time": "2023-04-28T15:29:35.427Z"
   },
   {
    "duration": 0,
    "start_time": "2023-04-28T15:29:35.428Z"
   },
   {
    "duration": 0,
    "start_time": "2023-04-28T15:29:35.428Z"
   },
   {
    "duration": 0,
    "start_time": "2023-04-28T15:29:35.429Z"
   },
   {
    "duration": 30422,
    "start_time": "2023-04-28T15:30:07.504Z"
   },
   {
    "duration": 81,
    "start_time": "2023-04-28T15:30:37.933Z"
   },
   {
    "duration": 10,
    "start_time": "2023-04-28T15:30:38.016Z"
   },
   {
    "duration": 9,
    "start_time": "2023-04-28T15:32:08.832Z"
   },
   {
    "duration": 1436,
    "start_time": "2023-04-28T15:35:42.791Z"
   },
   {
    "duration": 809,
    "start_time": "2023-04-28T15:35:44.229Z"
   },
   {
    "duration": 789,
    "start_time": "2023-04-28T15:35:45.040Z"
   },
   {
    "duration": 6,
    "start_time": "2023-04-28T15:35:45.832Z"
   },
   {
    "duration": 46,
    "start_time": "2023-04-28T15:35:45.840Z"
   },
   {
    "duration": 233,
    "start_time": "2023-04-28T15:35:45.888Z"
   },
   {
    "duration": 11,
    "start_time": "2023-04-28T15:35:46.123Z"
   },
   {
    "duration": 23,
    "start_time": "2023-04-28T15:35:46.136Z"
   },
   {
    "duration": 566,
    "start_time": "2023-04-28T15:35:46.161Z"
   },
   {
    "duration": 11,
    "start_time": "2023-04-28T15:35:46.730Z"
   },
   {
    "duration": 31,
    "start_time": "2023-04-28T15:35:46.742Z"
   },
   {
    "duration": 21,
    "start_time": "2023-04-28T15:35:46.775Z"
   },
   {
    "duration": 7,
    "start_time": "2023-04-28T15:35:46.798Z"
   },
   {
    "duration": 808,
    "start_time": "2023-04-28T15:35:46.807Z"
   },
   {
    "duration": 108,
    "start_time": "2023-04-28T15:35:47.623Z"
   },
   {
    "duration": 7,
    "start_time": "2023-04-28T15:35:47.733Z"
   },
   {
    "duration": 15,
    "start_time": "2023-04-28T15:35:47.742Z"
   },
   {
    "duration": 21,
    "start_time": "2023-04-28T15:35:47.758Z"
   },
   {
    "duration": 7,
    "start_time": "2023-04-28T15:35:47.780Z"
   },
   {
    "duration": 47,
    "start_time": "2023-04-28T15:35:47.788Z"
   },
   {
    "duration": 63,
    "start_time": "2023-04-28T15:35:47.836Z"
   },
   {
    "duration": 83,
    "start_time": "2023-04-28T15:35:47.901Z"
   },
   {
    "duration": 46,
    "start_time": "2023-04-28T15:35:47.985Z"
   },
   {
    "duration": 33,
    "start_time": "2023-04-28T15:35:48.033Z"
   },
   {
    "duration": 40,
    "start_time": "2023-04-28T15:35:48.068Z"
   },
   {
    "duration": 24,
    "start_time": "2023-04-28T15:35:48.109Z"
   },
   {
    "duration": 244,
    "start_time": "2023-04-28T15:35:48.135Z"
   },
   {
    "duration": 49,
    "start_time": "2023-04-28T15:35:48.383Z"
   },
   {
    "duration": 3,
    "start_time": "2023-04-28T15:35:48.433Z"
   },
   {
    "duration": 41,
    "start_time": "2023-04-28T15:35:48.437Z"
   },
   {
    "duration": 563,
    "start_time": "2023-04-28T15:35:48.479Z"
   },
   {
    "duration": 2,
    "start_time": "2023-04-28T15:35:49.044Z"
   },
   {
    "duration": 288,
    "start_time": "2023-04-28T15:35:49.047Z"
   },
   {
    "duration": 28599,
    "start_time": "2023-04-28T15:35:49.337Z"
   },
   {
    "duration": 590,
    "start_time": "2023-04-28T15:36:17.937Z"
   },
   {
    "duration": 206,
    "start_time": "2023-04-28T15:36:18.532Z"
   },
   {
    "duration": 0,
    "start_time": "2023-04-28T15:36:18.739Z"
   },
   {
    "duration": 0,
    "start_time": "2023-04-28T15:36:18.740Z"
   },
   {
    "duration": 0,
    "start_time": "2023-04-28T15:36:18.741Z"
   },
   {
    "duration": 0,
    "start_time": "2023-04-28T15:36:18.742Z"
   },
   {
    "duration": 0,
    "start_time": "2023-04-28T15:36:18.743Z"
   },
   {
    "duration": 0,
    "start_time": "2023-04-28T15:36:18.744Z"
   },
   {
    "duration": 0,
    "start_time": "2023-04-28T15:36:18.745Z"
   },
   {
    "duration": 0,
    "start_time": "2023-04-28T15:36:18.746Z"
   },
   {
    "duration": 0,
    "start_time": "2023-04-28T15:36:18.746Z"
   },
   {
    "duration": 0,
    "start_time": "2023-04-28T15:36:18.747Z"
   },
   {
    "duration": 0,
    "start_time": "2023-04-28T15:36:18.748Z"
   },
   {
    "duration": 0,
    "start_time": "2023-04-28T15:36:18.749Z"
   },
   {
    "duration": 0,
    "start_time": "2023-04-28T15:36:18.750Z"
   },
   {
    "duration": 0,
    "start_time": "2023-04-28T15:36:18.751Z"
   },
   {
    "duration": 0,
    "start_time": "2023-04-28T15:36:18.751Z"
   },
   {
    "duration": 0,
    "start_time": "2023-04-28T15:36:18.752Z"
   },
   {
    "duration": 0,
    "start_time": "2023-04-28T15:36:18.753Z"
   },
   {
    "duration": 0,
    "start_time": "2023-04-28T15:36:18.754Z"
   },
   {
    "duration": 0,
    "start_time": "2023-04-28T15:36:18.755Z"
   },
   {
    "duration": 0,
    "start_time": "2023-04-28T15:36:18.756Z"
   },
   {
    "duration": 0,
    "start_time": "2023-04-28T15:36:18.757Z"
   },
   {
    "duration": 0,
    "start_time": "2023-04-28T15:36:18.758Z"
   },
   {
    "duration": 0,
    "start_time": "2023-04-28T15:36:18.759Z"
   },
   {
    "duration": 0,
    "start_time": "2023-04-28T15:36:18.759Z"
   },
   {
    "duration": 0,
    "start_time": "2023-04-28T15:36:18.760Z"
   },
   {
    "duration": 0,
    "start_time": "2023-04-28T15:36:18.762Z"
   },
   {
    "duration": 0,
    "start_time": "2023-04-28T15:36:18.763Z"
   },
   {
    "duration": 0,
    "start_time": "2023-04-28T15:36:18.764Z"
   },
   {
    "duration": 0,
    "start_time": "2023-04-28T15:36:18.765Z"
   },
   {
    "duration": 1,
    "start_time": "2023-04-28T15:36:18.765Z"
   },
   {
    "duration": 0,
    "start_time": "2023-04-28T15:36:18.766Z"
   },
   {
    "duration": 0,
    "start_time": "2023-04-28T15:36:18.767Z"
   },
   {
    "duration": 0,
    "start_time": "2023-04-28T15:36:18.768Z"
   },
   {
    "duration": 0,
    "start_time": "2023-04-28T15:36:18.823Z"
   },
   {
    "duration": 0,
    "start_time": "2023-04-28T15:36:18.824Z"
   },
   {
    "duration": 524,
    "start_time": "2023-04-28T15:40:48.547Z"
   },
   {
    "duration": 1467,
    "start_time": "2023-04-28T15:41:35.587Z"
   },
   {
    "duration": 828,
    "start_time": "2023-04-28T15:41:37.055Z"
   },
   {
    "duration": 800,
    "start_time": "2023-04-28T15:41:37.885Z"
   },
   {
    "duration": 6,
    "start_time": "2023-04-28T15:41:38.687Z"
   },
   {
    "duration": 78,
    "start_time": "2023-04-28T15:41:38.694Z"
   },
   {
    "duration": 209,
    "start_time": "2023-04-28T15:41:38.774Z"
   },
   {
    "duration": 10,
    "start_time": "2023-04-28T15:41:38.985Z"
   },
   {
    "duration": 36,
    "start_time": "2023-04-28T15:41:38.997Z"
   },
   {
    "duration": 530,
    "start_time": "2023-04-28T15:41:39.034Z"
   },
   {
    "duration": 10,
    "start_time": "2023-04-28T15:41:39.567Z"
   },
   {
    "duration": 52,
    "start_time": "2023-04-28T15:41:39.579Z"
   },
   {
    "duration": 22,
    "start_time": "2023-04-28T15:41:39.633Z"
   },
   {
    "duration": 24,
    "start_time": "2023-04-28T15:41:39.657Z"
   },
   {
    "duration": 816,
    "start_time": "2023-04-28T15:41:39.682Z"
   },
   {
    "duration": 97,
    "start_time": "2023-04-28T15:41:40.499Z"
   },
   {
    "duration": 31,
    "start_time": "2023-04-28T15:41:40.598Z"
   },
   {
    "duration": 15,
    "start_time": "2023-04-28T15:41:40.631Z"
   },
   {
    "duration": 22,
    "start_time": "2023-04-28T15:41:40.648Z"
   },
   {
    "duration": 6,
    "start_time": "2023-04-28T15:41:40.672Z"
   },
   {
    "duration": 52,
    "start_time": "2023-04-28T15:41:40.680Z"
   },
   {
    "duration": 62,
    "start_time": "2023-04-28T15:41:40.734Z"
   },
   {
    "duration": 69,
    "start_time": "2023-04-28T15:41:40.798Z"
   },
   {
    "duration": 36,
    "start_time": "2023-04-28T15:41:40.869Z"
   },
   {
    "duration": 43,
    "start_time": "2023-04-28T15:41:40.907Z"
   },
   {
    "duration": 33,
    "start_time": "2023-04-28T15:41:40.951Z"
   },
   {
    "duration": 36,
    "start_time": "2023-04-28T15:41:40.986Z"
   },
   {
    "duration": 229,
    "start_time": "2023-04-28T15:41:41.025Z"
   },
   {
    "duration": 39,
    "start_time": "2023-04-28T15:41:41.258Z"
   },
   {
    "duration": 2,
    "start_time": "2023-04-28T15:41:41.299Z"
   },
   {
    "duration": 53,
    "start_time": "2023-04-28T15:41:41.302Z"
   },
   {
    "duration": 525,
    "start_time": "2023-04-28T15:41:41.357Z"
   },
   {
    "duration": 2,
    "start_time": "2023-04-28T15:41:41.884Z"
   },
   {
    "duration": 307,
    "start_time": "2023-04-28T15:41:41.887Z"
   },
   {
    "duration": 29232,
    "start_time": "2023-04-28T15:41:42.195Z"
   },
   {
    "duration": 495,
    "start_time": "2023-04-28T15:42:11.429Z"
   },
   {
    "duration": 7,
    "start_time": "2023-04-28T15:42:11.926Z"
   },
   {
    "duration": 123,
    "start_time": "2023-04-28T15:42:11.935Z"
   },
   {
    "duration": 273,
    "start_time": "2023-04-28T15:42:12.061Z"
   },
   {
    "duration": 9,
    "start_time": "2023-04-28T15:42:12.336Z"
   },
   {
    "duration": 0,
    "start_time": "2023-04-28T15:42:12.346Z"
   },
   {
    "duration": 0,
    "start_time": "2023-04-28T15:42:12.347Z"
   },
   {
    "duration": 0,
    "start_time": "2023-04-28T15:42:12.348Z"
   },
   {
    "duration": 0,
    "start_time": "2023-04-28T15:42:12.349Z"
   },
   {
    "duration": 0,
    "start_time": "2023-04-28T15:42:12.350Z"
   },
   {
    "duration": 0,
    "start_time": "2023-04-28T15:42:12.351Z"
   },
   {
    "duration": 0,
    "start_time": "2023-04-28T15:42:12.352Z"
   },
   {
    "duration": 0,
    "start_time": "2023-04-28T15:42:12.353Z"
   },
   {
    "duration": 0,
    "start_time": "2023-04-28T15:42:12.354Z"
   },
   {
    "duration": 0,
    "start_time": "2023-04-28T15:42:12.354Z"
   },
   {
    "duration": 0,
    "start_time": "2023-04-28T15:42:12.355Z"
   },
   {
    "duration": 0,
    "start_time": "2023-04-28T15:42:12.356Z"
   },
   {
    "duration": 0,
    "start_time": "2023-04-28T15:42:12.357Z"
   },
   {
    "duration": 0,
    "start_time": "2023-04-28T15:42:12.358Z"
   },
   {
    "duration": 0,
    "start_time": "2023-04-28T15:42:12.359Z"
   },
   {
    "duration": 0,
    "start_time": "2023-04-28T15:42:12.360Z"
   },
   {
    "duration": 0,
    "start_time": "2023-04-28T15:42:12.361Z"
   },
   {
    "duration": 0,
    "start_time": "2023-04-28T15:42:12.361Z"
   },
   {
    "duration": 0,
    "start_time": "2023-04-28T15:42:12.362Z"
   },
   {
    "duration": 0,
    "start_time": "2023-04-28T15:42:12.363Z"
   },
   {
    "duration": 0,
    "start_time": "2023-04-28T15:42:12.364Z"
   },
   {
    "duration": 0,
    "start_time": "2023-04-28T15:42:12.365Z"
   },
   {
    "duration": 0,
    "start_time": "2023-04-28T15:42:12.365Z"
   },
   {
    "duration": 0,
    "start_time": "2023-04-28T15:42:12.366Z"
   },
   {
    "duration": 0,
    "start_time": "2023-04-28T15:42:12.367Z"
   },
   {
    "duration": 0,
    "start_time": "2023-04-28T15:42:12.368Z"
   },
   {
    "duration": 0,
    "start_time": "2023-04-28T15:42:12.369Z"
   },
   {
    "duration": 0,
    "start_time": "2023-04-28T15:42:12.370Z"
   },
   {
    "duration": 0,
    "start_time": "2023-04-28T15:42:12.371Z"
   },
   {
    "duration": 0,
    "start_time": "2023-04-28T15:42:12.371Z"
   },
   {
    "duration": 0,
    "start_time": "2023-04-28T15:42:12.372Z"
   },
   {
    "duration": 0,
    "start_time": "2023-04-28T15:42:12.373Z"
   },
   {
    "duration": 9,
    "start_time": "2023-04-28T15:42:39.287Z"
   },
   {
    "duration": 279,
    "start_time": "2023-04-28T15:43:32.768Z"
   },
   {
    "duration": 1471,
    "start_time": "2023-04-28T15:43:39.011Z"
   },
   {
    "duration": 798,
    "start_time": "2023-04-28T15:43:40.483Z"
   },
   {
    "duration": 849,
    "start_time": "2023-04-28T15:43:41.282Z"
   },
   {
    "duration": 6,
    "start_time": "2023-04-28T15:43:42.133Z"
   },
   {
    "duration": 46,
    "start_time": "2023-04-28T15:43:42.141Z"
   },
   {
    "duration": 214,
    "start_time": "2023-04-28T15:43:42.189Z"
   },
   {
    "duration": 9,
    "start_time": "2023-04-28T15:43:42.404Z"
   },
   {
    "duration": 25,
    "start_time": "2023-04-28T15:43:42.417Z"
   },
   {
    "duration": 522,
    "start_time": "2023-04-28T15:43:42.444Z"
   },
   {
    "duration": 11,
    "start_time": "2023-04-28T15:43:42.969Z"
   },
   {
    "duration": 52,
    "start_time": "2023-04-28T15:43:42.981Z"
   },
   {
    "duration": 22,
    "start_time": "2023-04-28T15:43:43.035Z"
   },
   {
    "duration": 8,
    "start_time": "2023-04-28T15:43:43.058Z"
   },
   {
    "duration": 802,
    "start_time": "2023-04-28T15:43:43.067Z"
   },
   {
    "duration": 106,
    "start_time": "2023-04-28T15:43:43.870Z"
   },
   {
    "duration": 8,
    "start_time": "2023-04-28T15:43:43.978Z"
   },
   {
    "duration": 15,
    "start_time": "2023-04-28T15:43:43.988Z"
   },
   {
    "duration": 24,
    "start_time": "2023-04-28T15:43:44.027Z"
   },
   {
    "duration": 6,
    "start_time": "2023-04-28T15:43:44.053Z"
   },
   {
    "duration": 25,
    "start_time": "2023-04-28T15:43:44.061Z"
   },
   {
    "duration": 90,
    "start_time": "2023-04-28T15:43:44.088Z"
   },
   {
    "duration": 79,
    "start_time": "2023-04-28T15:43:44.179Z"
   },
   {
    "duration": 37,
    "start_time": "2023-04-28T15:43:44.260Z"
   },
   {
    "duration": 52,
    "start_time": "2023-04-28T15:43:44.299Z"
   },
   {
    "duration": 33,
    "start_time": "2023-04-28T15:43:44.353Z"
   },
   {
    "duration": 13,
    "start_time": "2023-04-28T15:43:44.388Z"
   },
   {
    "duration": 258,
    "start_time": "2023-04-28T15:43:44.402Z"
   },
   {
    "duration": 40,
    "start_time": "2023-04-28T15:43:44.664Z"
   },
   {
    "duration": 14,
    "start_time": "2023-04-28T15:43:44.717Z"
   },
   {
    "duration": 39,
    "start_time": "2023-04-28T15:43:44.733Z"
   },
   {
    "duration": 561,
    "start_time": "2023-04-28T15:43:44.773Z"
   },
   {
    "duration": 3,
    "start_time": "2023-04-28T15:43:45.336Z"
   },
   {
    "duration": 300,
    "start_time": "2023-04-28T15:43:45.341Z"
   },
   {
    "duration": 29476,
    "start_time": "2023-04-28T15:43:45.643Z"
   },
   {
    "duration": 496,
    "start_time": "2023-04-28T15:44:15.131Z"
   },
   {
    "duration": 6,
    "start_time": "2023-04-28T15:44:15.629Z"
   },
   {
    "duration": 125,
    "start_time": "2023-04-28T15:44:15.637Z"
   },
   {
    "duration": 60,
    "start_time": "2023-04-28T15:44:15.765Z"
   },
   {
    "duration": 9,
    "start_time": "2023-04-28T15:44:15.827Z"
   },
   {
    "duration": 81694,
    "start_time": "2023-04-28T15:44:15.923Z"
   },
   {
    "duration": 924,
    "start_time": "2023-04-28T15:45:37.620Z"
   },
   {
    "duration": 362607,
    "start_time": "2023-04-28T15:45:38.546Z"
   },
   {
    "duration": 2,
    "start_time": "2023-04-28T15:51:41.154Z"
   },
   {
    "duration": 6,
    "start_time": "2023-04-28T15:51:41.157Z"
   },
   {
    "duration": 6,
    "start_time": "2023-04-28T15:51:41.164Z"
   },
   {
    "duration": 351841,
    "start_time": "2023-04-28T15:51:41.171Z"
   },
   {
    "duration": 2,
    "start_time": "2023-04-28T15:57:33.014Z"
   },
   {
    "duration": 17,
    "start_time": "2023-04-28T15:57:33.017Z"
   },
   {
    "duration": 3,
    "start_time": "2023-04-28T15:57:33.036Z"
   },
   {
    "duration": 30853,
    "start_time": "2023-04-28T15:57:33.041Z"
   },
   {
    "duration": 238,
    "start_time": "2023-04-28T15:58:03.895Z"
   },
   {
    "duration": 0,
    "start_time": "2023-04-28T15:58:04.150Z"
   },
   {
    "duration": 0,
    "start_time": "2023-04-28T15:58:04.151Z"
   },
   {
    "duration": 0,
    "start_time": "2023-04-28T15:58:04.152Z"
   },
   {
    "duration": 0,
    "start_time": "2023-04-28T15:58:04.153Z"
   },
   {
    "duration": 0,
    "start_time": "2023-04-28T15:58:04.154Z"
   },
   {
    "duration": 0,
    "start_time": "2023-04-28T15:58:04.155Z"
   },
   {
    "duration": 1,
    "start_time": "2023-04-28T15:58:04.155Z"
   },
   {
    "duration": 0,
    "start_time": "2023-04-28T15:58:04.156Z"
   },
   {
    "duration": 0,
    "start_time": "2023-04-28T15:58:04.157Z"
   },
   {
    "duration": 0,
    "start_time": "2023-04-28T15:58:04.159Z"
   },
   {
    "duration": 0,
    "start_time": "2023-04-28T15:58:04.160Z"
   },
   {
    "duration": 0,
    "start_time": "2023-04-28T15:58:04.161Z"
   },
   {
    "duration": 0,
    "start_time": "2023-04-28T15:58:04.162Z"
   },
   {
    "duration": 0,
    "start_time": "2023-04-28T15:58:04.163Z"
   },
   {
    "duration": 0,
    "start_time": "2023-04-28T15:58:04.163Z"
   },
   {
    "duration": 0,
    "start_time": "2023-04-28T15:58:04.164Z"
   },
   {
    "duration": 0,
    "start_time": "2023-04-28T15:58:04.165Z"
   },
   {
    "duration": 0,
    "start_time": "2023-04-28T15:58:04.166Z"
   },
   {
    "duration": 0,
    "start_time": "2023-04-28T15:58:04.168Z"
   },
   {
    "duration": 0,
    "start_time": "2023-04-28T15:58:04.168Z"
   },
   {
    "duration": 0,
    "start_time": "2023-04-28T15:58:04.169Z"
   },
   {
    "duration": 1390,
    "start_time": "2023-04-28T16:18:03.948Z"
   },
   {
    "duration": 778,
    "start_time": "2023-04-28T16:18:05.340Z"
   },
   {
    "duration": 799,
    "start_time": "2023-04-28T16:18:06.121Z"
   },
   {
    "duration": 5,
    "start_time": "2023-04-28T16:18:06.922Z"
   },
   {
    "duration": 47,
    "start_time": "2023-04-28T16:18:06.929Z"
   },
   {
    "duration": 209,
    "start_time": "2023-04-28T16:18:06.978Z"
   },
   {
    "duration": 9,
    "start_time": "2023-04-28T16:18:07.189Z"
   },
   {
    "duration": 38,
    "start_time": "2023-04-28T16:18:07.200Z"
   },
   {
    "duration": 535,
    "start_time": "2023-04-28T16:18:07.240Z"
   },
   {
    "duration": 11,
    "start_time": "2023-04-28T16:18:07.777Z"
   },
   {
    "duration": 34,
    "start_time": "2023-04-28T16:18:07.790Z"
   },
   {
    "duration": 22,
    "start_time": "2023-04-28T16:18:07.825Z"
   },
   {
    "duration": 8,
    "start_time": "2023-04-28T16:18:07.848Z"
   },
   {
    "duration": 762,
    "start_time": "2023-04-28T16:18:07.857Z"
   },
   {
    "duration": 99,
    "start_time": "2023-04-28T16:18:08.621Z"
   },
   {
    "duration": 8,
    "start_time": "2023-04-28T16:18:08.721Z"
   },
   {
    "duration": 19,
    "start_time": "2023-04-28T16:18:08.730Z"
   },
   {
    "duration": 28,
    "start_time": "2023-04-28T16:18:08.751Z"
   },
   {
    "duration": 6,
    "start_time": "2023-04-28T16:18:08.781Z"
   },
   {
    "duration": 42,
    "start_time": "2023-04-28T16:18:08.789Z"
   },
   {
    "duration": 66,
    "start_time": "2023-04-28T16:18:08.833Z"
   },
   {
    "duration": 69,
    "start_time": "2023-04-28T16:18:08.901Z"
   },
   {
    "duration": 47,
    "start_time": "2023-04-28T16:18:08.972Z"
   },
   {
    "duration": 34,
    "start_time": "2023-04-28T16:18:09.020Z"
   },
   {
    "duration": 36,
    "start_time": "2023-04-28T16:18:09.056Z"
   },
   {
    "duration": 30,
    "start_time": "2023-04-28T16:18:09.094Z"
   },
   {
    "duration": 230,
    "start_time": "2023-04-28T16:18:09.125Z"
   },
   {
    "duration": 42,
    "start_time": "2023-04-28T16:18:09.360Z"
   },
   {
    "duration": 2,
    "start_time": "2023-04-28T16:18:09.417Z"
   },
   {
    "duration": 42,
    "start_time": "2023-04-28T16:18:09.421Z"
   },
   {
    "duration": 531,
    "start_time": "2023-04-28T16:18:09.465Z"
   },
   {
    "duration": 3,
    "start_time": "2023-04-28T16:18:09.997Z"
   },
   {
    "duration": 280,
    "start_time": "2023-04-28T16:18:10.002Z"
   },
   {
    "duration": 12442,
    "start_time": "2023-04-28T16:18:10.284Z"
   },
   {
    "duration": 691,
    "start_time": "2023-04-28T16:18:22.728Z"
   },
   {
    "duration": 98,
    "start_time": "2023-04-28T16:18:23.421Z"
   },
   {
    "duration": 43,
    "start_time": "2023-04-28T16:18:23.520Z"
   },
   {
    "duration": 63,
    "start_time": "2023-04-28T16:18:23.564Z"
   },
   {
    "duration": 6,
    "start_time": "2023-04-28T16:18:23.718Z"
   },
   {
    "duration": 51103,
    "start_time": "2023-04-28T16:18:23.726Z"
   },
   {
    "duration": 1087,
    "start_time": "2023-04-28T16:19:14.831Z"
   },
   {
    "duration": 345206,
    "start_time": "2023-04-28T16:19:15.920Z"
   },
   {
    "duration": 2,
    "start_time": "2023-04-28T16:25:01.128Z"
   },
   {
    "duration": 216,
    "start_time": "2023-04-28T16:25:01.131Z"
   },
   {
    "duration": 9,
    "start_time": "2023-04-28T16:25:01.348Z"
   },
   {
    "duration": 0,
    "start_time": "2023-04-28T16:25:01.359Z"
   },
   {
    "duration": 0,
    "start_time": "2023-04-28T16:25:01.360Z"
   },
   {
    "duration": 0,
    "start_time": "2023-04-28T16:25:01.360Z"
   },
   {
    "duration": 0,
    "start_time": "2023-04-28T16:25:01.361Z"
   },
   {
    "duration": 0,
    "start_time": "2023-04-28T16:25:01.362Z"
   },
   {
    "duration": 0,
    "start_time": "2023-04-28T16:25:01.363Z"
   },
   {
    "duration": 0,
    "start_time": "2023-04-28T16:25:01.364Z"
   },
   {
    "duration": 0,
    "start_time": "2023-04-28T16:25:01.365Z"
   },
   {
    "duration": 0,
    "start_time": "2023-04-28T16:25:01.365Z"
   },
   {
    "duration": 0,
    "start_time": "2023-04-28T16:25:01.366Z"
   },
   {
    "duration": 0,
    "start_time": "2023-04-28T16:25:01.367Z"
   },
   {
    "duration": 0,
    "start_time": "2023-04-28T16:25:01.368Z"
   },
   {
    "duration": 0,
    "start_time": "2023-04-28T16:25:01.369Z"
   },
   {
    "duration": 0,
    "start_time": "2023-04-28T16:25:01.369Z"
   },
   {
    "duration": 0,
    "start_time": "2023-04-28T16:25:01.370Z"
   },
   {
    "duration": 0,
    "start_time": "2023-04-28T16:25:01.371Z"
   },
   {
    "duration": 1,
    "start_time": "2023-04-28T16:25:01.371Z"
   },
   {
    "duration": 0,
    "start_time": "2023-04-28T16:25:01.372Z"
   },
   {
    "duration": 0,
    "start_time": "2023-04-28T16:25:01.373Z"
   },
   {
    "duration": 0,
    "start_time": "2023-04-28T16:25:01.374Z"
   },
   {
    "duration": 0,
    "start_time": "2023-04-28T16:25:01.375Z"
   },
   {
    "duration": 0,
    "start_time": "2023-04-28T16:25:01.376Z"
   },
   {
    "duration": 0,
    "start_time": "2023-04-28T16:25:01.377Z"
   },
   {
    "duration": 0,
    "start_time": "2023-04-28T16:25:01.378Z"
   },
   {
    "duration": 0,
    "start_time": "2023-04-28T16:25:01.379Z"
   },
   {
    "duration": 0,
    "start_time": "2023-04-28T16:25:01.380Z"
   },
   {
    "duration": 26431,
    "start_time": "2023-04-28T16:39:53.109Z"
   },
   {
    "duration": 291,
    "start_time": "2023-04-28T16:40:35.337Z"
   },
   {
    "duration": 8,
    "start_time": "2023-04-28T16:41:12.778Z"
   },
   {
    "duration": 3,
    "start_time": "2023-04-28T16:43:23.694Z"
   },
   {
    "duration": 1493,
    "start_time": "2023-04-28T16:46:14.497Z"
   },
   {
    "duration": 796,
    "start_time": "2023-04-28T16:46:15.992Z"
   },
   {
    "duration": 772,
    "start_time": "2023-04-28T16:46:16.790Z"
   },
   {
    "duration": 6,
    "start_time": "2023-04-28T16:46:17.564Z"
   },
   {
    "duration": 48,
    "start_time": "2023-04-28T16:46:17.572Z"
   },
   {
    "duration": 201,
    "start_time": "2023-04-28T16:46:17.622Z"
   },
   {
    "duration": 9,
    "start_time": "2023-04-28T16:46:17.825Z"
   },
   {
    "duration": 25,
    "start_time": "2023-04-28T16:46:17.836Z"
   },
   {
    "duration": 519,
    "start_time": "2023-04-28T16:46:17.863Z"
   },
   {
    "duration": 11,
    "start_time": "2023-04-28T16:46:18.384Z"
   },
   {
    "duration": 38,
    "start_time": "2023-04-28T16:46:18.397Z"
   },
   {
    "duration": 21,
    "start_time": "2023-04-28T16:46:18.437Z"
   },
   {
    "duration": 7,
    "start_time": "2023-04-28T16:46:18.460Z"
   },
   {
    "duration": 779,
    "start_time": "2023-04-28T16:46:18.470Z"
   },
   {
    "duration": 101,
    "start_time": "2023-04-28T16:46:19.250Z"
   },
   {
    "duration": 9,
    "start_time": "2023-04-28T16:46:19.353Z"
   },
   {
    "duration": 15,
    "start_time": "2023-04-28T16:46:19.363Z"
   },
   {
    "duration": 37,
    "start_time": "2023-04-28T16:46:19.380Z"
   },
   {
    "duration": 9,
    "start_time": "2023-04-28T16:46:19.420Z"
   },
   {
    "duration": 28,
    "start_time": "2023-04-28T16:46:19.431Z"
   },
   {
    "duration": 85,
    "start_time": "2023-04-28T16:46:19.461Z"
   },
   {
    "duration": 71,
    "start_time": "2023-04-28T16:46:19.547Z"
   },
   {
    "duration": 39,
    "start_time": "2023-04-28T16:46:19.619Z"
   },
   {
    "duration": 32,
    "start_time": "2023-04-28T16:46:19.660Z"
   },
   {
    "duration": 51,
    "start_time": "2023-04-28T16:46:19.694Z"
   },
   {
    "duration": 12,
    "start_time": "2023-04-28T16:46:19.747Z"
   },
   {
    "duration": 235,
    "start_time": "2023-04-28T16:46:19.760Z"
   },
   {
    "duration": 50,
    "start_time": "2023-04-28T16:46:19.997Z"
   },
   {
    "duration": 3,
    "start_time": "2023-04-28T16:46:20.048Z"
   },
   {
    "duration": 60,
    "start_time": "2023-04-28T16:46:20.052Z"
   },
   {
    "duration": 534,
    "start_time": "2023-04-28T16:46:20.114Z"
   },
   {
    "duration": 2,
    "start_time": "2023-04-28T16:46:20.650Z"
   },
   {
    "duration": 280,
    "start_time": "2023-04-28T16:46:20.654Z"
   },
   {
    "duration": 12982,
    "start_time": "2023-04-28T16:46:20.936Z"
   },
   {
    "duration": 498,
    "start_time": "2023-04-28T16:46:33.920Z"
   },
   {
    "duration": 96,
    "start_time": "2023-04-28T16:46:34.422Z"
   },
   {
    "duration": 46,
    "start_time": "2023-04-28T16:46:34.520Z"
   },
   {
    "duration": 53,
    "start_time": "2023-04-28T16:46:34.567Z"
   },
   {
    "duration": 7,
    "start_time": "2023-04-28T16:46:34.622Z"
   },
   {
    "duration": 51116,
    "start_time": "2023-04-28T16:46:34.717Z"
   },
   {
    "duration": 993,
    "start_time": "2023-04-28T16:47:25.839Z"
   },
   {
    "duration": 347694,
    "start_time": "2023-04-28T16:47:26.833Z"
   },
   {
    "duration": 26183,
    "start_time": "2023-04-28T16:53:14.529Z"
   },
   {
    "duration": 300,
    "start_time": "2023-04-28T16:53:40.713Z"
   },
   {
    "duration": 2,
    "start_time": "2023-04-28T16:53:41.017Z"
   },
   {
    "duration": 340619,
    "start_time": "2023-04-28T16:53:41.021Z"
   },
   {
    "duration": 26009,
    "start_time": "2023-04-28T16:59:21.642Z"
   },
   {
    "duration": 187,
    "start_time": "2023-04-28T16:59:47.652Z"
   },
   {
    "duration": 2,
    "start_time": "2023-04-28T16:59:47.840Z"
   },
   {
    "duration": 55,
    "start_time": "2023-04-28T16:59:47.844Z"
   },
   {
    "duration": 0,
    "start_time": "2023-04-28T16:59:47.900Z"
   },
   {
    "duration": 0,
    "start_time": "2023-04-28T16:59:47.901Z"
   },
   {
    "duration": 0,
    "start_time": "2023-04-28T16:59:47.902Z"
   },
   {
    "duration": 0,
    "start_time": "2023-04-28T16:59:47.903Z"
   },
   {
    "duration": 0,
    "start_time": "2023-04-28T16:59:47.904Z"
   },
   {
    "duration": 0,
    "start_time": "2023-04-28T16:59:47.905Z"
   },
   {
    "duration": 0,
    "start_time": "2023-04-28T16:59:47.906Z"
   },
   {
    "duration": 0,
    "start_time": "2023-04-28T16:59:47.907Z"
   },
   {
    "duration": 0,
    "start_time": "2023-04-28T16:59:47.908Z"
   },
   {
    "duration": 0,
    "start_time": "2023-04-28T16:59:47.909Z"
   },
   {
    "duration": 0,
    "start_time": "2023-04-28T16:59:47.910Z"
   },
   {
    "duration": 0,
    "start_time": "2023-04-28T16:59:47.911Z"
   },
   {
    "duration": 0,
    "start_time": "2023-04-28T16:59:47.912Z"
   },
   {
    "duration": 0,
    "start_time": "2023-04-28T16:59:47.913Z"
   },
   {
    "duration": 1,
    "start_time": "2023-04-28T16:59:47.913Z"
   },
   {
    "duration": 0,
    "start_time": "2023-04-28T16:59:47.914Z"
   },
   {
    "duration": 0,
    "start_time": "2023-04-28T16:59:47.915Z"
   },
   {
    "duration": 0,
    "start_time": "2023-04-28T16:59:47.916Z"
   },
   {
    "duration": 0,
    "start_time": "2023-04-28T16:59:47.917Z"
   },
   {
    "duration": 0,
    "start_time": "2023-04-28T16:59:47.918Z"
   },
   {
    "duration": 0,
    "start_time": "2023-04-28T16:59:47.919Z"
   },
   {
    "duration": 540,
    "start_time": "2023-04-28T17:36:01.549Z"
   },
   {
    "duration": 11,
    "start_time": "2023-04-28T17:39:51.160Z"
   },
   {
    "duration": 1435,
    "start_time": "2023-04-28T17:40:01.480Z"
   },
   {
    "duration": 778,
    "start_time": "2023-04-28T17:40:02.918Z"
   },
   {
    "duration": 779,
    "start_time": "2023-04-28T17:40:03.698Z"
   },
   {
    "duration": 6,
    "start_time": "2023-04-28T17:40:04.479Z"
   },
   {
    "duration": 50,
    "start_time": "2023-04-28T17:40:04.486Z"
   },
   {
    "duration": 199,
    "start_time": "2023-04-28T17:40:04.538Z"
   },
   {
    "duration": 10,
    "start_time": "2023-04-28T17:40:04.739Z"
   },
   {
    "duration": 39,
    "start_time": "2023-04-28T17:40:04.751Z"
   },
   {
    "duration": 496,
    "start_time": "2023-04-28T17:40:04.791Z"
   },
   {
    "duration": 11,
    "start_time": "2023-04-28T17:40:05.291Z"
   },
   {
    "duration": 44,
    "start_time": "2023-04-28T17:40:05.303Z"
   },
   {
    "duration": 23,
    "start_time": "2023-04-28T17:40:05.349Z"
   },
   {
    "duration": 9,
    "start_time": "2023-04-28T17:40:05.373Z"
   },
   {
    "duration": 751,
    "start_time": "2023-04-28T17:40:05.384Z"
   },
   {
    "duration": 99,
    "start_time": "2023-04-28T17:40:06.137Z"
   },
   {
    "duration": 9,
    "start_time": "2023-04-28T17:40:06.238Z"
   },
   {
    "duration": 15,
    "start_time": "2023-04-28T17:40:06.248Z"
   },
   {
    "duration": 21,
    "start_time": "2023-04-28T17:40:06.265Z"
   },
   {
    "duration": 31,
    "start_time": "2023-04-28T17:40:06.288Z"
   },
   {
    "duration": 25,
    "start_time": "2023-04-28T17:40:06.321Z"
   },
   {
    "duration": 78,
    "start_time": "2023-04-28T17:40:06.348Z"
   },
   {
    "duration": 64,
    "start_time": "2023-04-28T17:40:06.428Z"
   },
   {
    "duration": 57,
    "start_time": "2023-04-28T17:40:06.494Z"
   },
   {
    "duration": 43,
    "start_time": "2023-04-28T17:40:06.553Z"
   },
   {
    "duration": 50,
    "start_time": "2023-04-28T17:40:06.598Z"
   },
   {
    "duration": 12,
    "start_time": "2023-04-28T17:40:06.650Z"
   },
   {
    "duration": 228,
    "start_time": "2023-04-28T17:40:06.664Z"
   },
   {
    "duration": 46,
    "start_time": "2023-04-28T17:40:06.896Z"
   },
   {
    "duration": 2,
    "start_time": "2023-04-28T17:40:06.944Z"
   },
   {
    "duration": 20,
    "start_time": "2023-04-28T17:40:06.948Z"
   },
   {
    "duration": 528,
    "start_time": "2023-04-28T17:40:06.969Z"
   },
   {
    "duration": 2,
    "start_time": "2023-04-28T17:40:07.499Z"
   },
   {
    "duration": 297,
    "start_time": "2023-04-28T17:40:07.502Z"
   },
   {
    "duration": 12318,
    "start_time": "2023-04-28T17:40:07.801Z"
   },
   {
    "duration": 499,
    "start_time": "2023-04-28T17:40:20.120Z"
   },
   {
    "duration": 6,
    "start_time": "2023-04-28T17:40:20.620Z"
   },
   {
    "duration": 43,
    "start_time": "2023-04-28T17:40:20.718Z"
   },
   {
    "duration": 62,
    "start_time": "2023-04-28T17:40:20.763Z"
   },
   {
    "duration": 96,
    "start_time": "2023-04-28T17:40:20.826Z"
   },
   {
    "duration": 340343,
    "start_time": "2023-04-28T17:40:20.924Z"
   },
   {
    "duration": 26131,
    "start_time": "2023-04-28T17:46:01.269Z"
   },
   {
    "duration": 284,
    "start_time": "2023-04-28T17:46:27.401Z"
   },
   {
    "duration": 1,
    "start_time": "2023-04-28T17:46:27.687Z"
   },
   {
    "duration": 333546,
    "start_time": "2023-04-28T17:46:27.690Z"
   },
   {
    "duration": 25902,
    "start_time": "2023-04-28T17:52:01.238Z"
   },
   {
    "duration": 188,
    "start_time": "2023-04-28T17:52:27.141Z"
   },
   {
    "duration": 3,
    "start_time": "2023-04-28T17:52:27.332Z"
   },
   {
    "duration": 512380,
    "start_time": "2023-04-28T17:52:27.337Z"
   },
   {
    "duration": 7707,
    "start_time": "2023-04-28T18:00:59.719Z"
   },
   {
    "duration": 2300,
    "start_time": "2023-04-28T18:01:07.518Z"
   },
   {
    "duration": 3,
    "start_time": "2023-04-28T18:01:09.819Z"
   },
   {
    "duration": 374099,
    "start_time": "2023-04-28T18:01:09.824Z"
   },
   {
    "duration": 142,
    "start_time": "2023-04-28T18:07:23.924Z"
   },
   {
    "duration": 0,
    "start_time": "2023-04-28T18:07:24.068Z"
   },
   {
    "duration": 0,
    "start_time": "2023-04-28T18:07:24.068Z"
   },
   {
    "duration": 0,
    "start_time": "2023-04-28T18:07:24.069Z"
   },
   {
    "duration": 0,
    "start_time": "2023-04-28T18:07:24.070Z"
   },
   {
    "duration": 0,
    "start_time": "2023-04-28T18:07:24.071Z"
   },
   {
    "duration": 0,
    "start_time": "2023-04-28T18:07:24.072Z"
   },
   {
    "duration": 0,
    "start_time": "2023-04-28T18:07:24.073Z"
   },
   {
    "duration": 0,
    "start_time": "2023-04-28T18:07:24.073Z"
   },
   {
    "duration": 0,
    "start_time": "2023-04-28T18:07:24.074Z"
   },
   {
    "duration": 0,
    "start_time": "2023-04-28T18:07:24.075Z"
   },
   {
    "duration": 0,
    "start_time": "2023-04-28T18:07:24.076Z"
   },
   {
    "duration": 0,
    "start_time": "2023-04-28T18:07:24.076Z"
   },
   {
    "duration": 0,
    "start_time": "2023-04-28T18:07:24.077Z"
   },
   {
    "duration": 4266,
    "start_time": "2023-04-28T18:10:09.556Z"
   },
   {
    "duration": 1619,
    "start_time": "2023-04-28T18:10:35.823Z"
   },
   {
    "duration": 76,
    "start_time": "2023-04-28T18:17:43.850Z"
   },
   {
    "duration": 92,
    "start_time": "2023-04-28T18:18:14.446Z"
   },
   {
    "duration": 78,
    "start_time": "2023-04-28T18:18:26.910Z"
   },
   {
    "duration": 77,
    "start_time": "2023-04-28T18:19:07.712Z"
   },
   {
    "duration": 13,
    "start_time": "2023-04-28T18:20:05.551Z"
   },
   {
    "duration": 1360,
    "start_time": "2023-04-28T18:23:37.130Z"
   },
   {
    "duration": 759,
    "start_time": "2023-04-28T18:23:38.492Z"
   },
   {
    "duration": 718,
    "start_time": "2023-04-28T18:23:39.252Z"
   },
   {
    "duration": 5,
    "start_time": "2023-04-28T18:23:39.972Z"
   },
   {
    "duration": 49,
    "start_time": "2023-04-28T18:23:39.979Z"
   },
   {
    "duration": 197,
    "start_time": "2023-04-28T18:23:40.029Z"
   },
   {
    "duration": 8,
    "start_time": "2023-04-28T18:23:40.228Z"
   },
   {
    "duration": 29,
    "start_time": "2023-04-28T18:23:40.237Z"
   },
   {
    "duration": 488,
    "start_time": "2023-04-28T18:23:40.268Z"
   },
   {
    "duration": 10,
    "start_time": "2023-04-28T18:23:40.757Z"
   },
   {
    "duration": 26,
    "start_time": "2023-04-28T18:23:40.769Z"
   },
   {
    "duration": 36,
    "start_time": "2023-04-28T18:23:40.796Z"
   },
   {
    "duration": 7,
    "start_time": "2023-04-28T18:23:40.834Z"
   },
   {
    "duration": 741,
    "start_time": "2023-04-28T18:23:40.844Z"
   },
   {
    "duration": 92,
    "start_time": "2023-04-28T18:23:41.587Z"
   },
   {
    "duration": 8,
    "start_time": "2023-04-28T18:23:41.680Z"
   },
   {
    "duration": 13,
    "start_time": "2023-04-28T18:23:41.689Z"
   },
   {
    "duration": 31,
    "start_time": "2023-04-28T18:23:41.704Z"
   },
   {
    "duration": 7,
    "start_time": "2023-04-28T18:23:41.737Z"
   },
   {
    "duration": 23,
    "start_time": "2023-04-28T18:23:41.745Z"
   },
   {
    "duration": 80,
    "start_time": "2023-04-28T18:23:41.770Z"
   },
   {
    "duration": 70,
    "start_time": "2023-04-28T18:23:41.851Z"
   },
   {
    "duration": 36,
    "start_time": "2023-04-28T18:23:41.923Z"
   },
   {
    "duration": 31,
    "start_time": "2023-04-28T18:23:41.961Z"
   },
   {
    "duration": 50,
    "start_time": "2023-04-28T18:23:41.994Z"
   },
   {
    "duration": 12,
    "start_time": "2023-04-28T18:23:42.046Z"
   },
   {
    "duration": 233,
    "start_time": "2023-04-28T18:23:42.060Z"
   },
   {
    "duration": 42,
    "start_time": "2023-04-28T18:23:42.295Z"
   },
   {
    "duration": 3,
    "start_time": "2023-04-28T18:23:42.338Z"
   },
   {
    "duration": 27,
    "start_time": "2023-04-28T18:23:42.342Z"
   },
   {
    "duration": 519,
    "start_time": "2023-04-28T18:23:42.371Z"
   },
   {
    "duration": 2,
    "start_time": "2023-04-28T18:23:42.892Z"
   },
   {
    "duration": 270,
    "start_time": "2023-04-28T18:23:42.895Z"
   },
   {
    "duration": 12260,
    "start_time": "2023-04-28T18:23:43.166Z"
   },
   {
    "duration": 500,
    "start_time": "2023-04-28T18:23:55.518Z"
   },
   {
    "duration": 99,
    "start_time": "2023-04-28T18:23:56.020Z"
   },
   {
    "duration": 40,
    "start_time": "2023-04-28T18:23:56.121Z"
   },
   {
    "duration": 55,
    "start_time": "2023-04-28T18:23:56.163Z"
   },
   {
    "duration": 98,
    "start_time": "2023-04-28T18:23:56.220Z"
   },
   {
    "duration": 339533,
    "start_time": "2023-04-28T18:23:56.320Z"
   },
   {
    "duration": 25787,
    "start_time": "2023-04-28T18:29:35.857Z"
   },
   {
    "duration": 302,
    "start_time": "2023-04-28T18:30:01.645Z"
   },
   {
    "duration": 2,
    "start_time": "2023-04-28T18:30:01.949Z"
   },
   {
    "duration": 336978,
    "start_time": "2023-04-28T18:30:01.952Z"
   },
   {
    "duration": 25974,
    "start_time": "2023-04-28T18:35:38.933Z"
   },
   {
    "duration": 185,
    "start_time": "2023-04-28T18:36:04.908Z"
   },
   {
    "duration": 2,
    "start_time": "2023-04-28T18:36:05.094Z"
   },
   {
    "duration": 502024,
    "start_time": "2023-04-28T18:36:05.098Z"
   },
   {
    "duration": 6202,
    "start_time": "2023-04-28T18:44:27.123Z"
   },
   {
    "duration": 2302,
    "start_time": "2023-04-28T18:44:33.417Z"
   },
   {
    "duration": 2,
    "start_time": "2023-04-28T18:44:35.722Z"
   },
   {
    "duration": 375493,
    "start_time": "2023-04-28T18:44:35.725Z"
   },
   {
    "duration": 4007,
    "start_time": "2023-04-28T18:50:51.219Z"
   },
   {
    "duration": 1616,
    "start_time": "2023-04-28T18:50:55.318Z"
   },
   {
    "duration": 2,
    "start_time": "2023-04-28T18:50:57.018Z"
   },
   {
    "duration": 141,
    "start_time": "2023-04-28T18:50:57.022Z"
   },
   {
    "duration": 0,
    "start_time": "2023-04-28T18:50:57.165Z"
   },
   {
    "duration": 0,
    "start_time": "2023-04-28T18:50:57.166Z"
   },
   {
    "duration": 0,
    "start_time": "2023-04-28T18:50:57.167Z"
   },
   {
    "duration": 0,
    "start_time": "2023-04-28T18:50:57.168Z"
   },
   {
    "duration": 0,
    "start_time": "2023-04-28T18:50:57.169Z"
   },
   {
    "duration": 0,
    "start_time": "2023-04-28T18:50:57.170Z"
   },
   {
    "duration": 0,
    "start_time": "2023-04-28T18:50:57.171Z"
   },
   {
    "duration": 0,
    "start_time": "2023-04-28T18:50:57.171Z"
   },
   {
    "duration": 0,
    "start_time": "2023-04-28T18:50:57.172Z"
   },
   {
    "duration": 0,
    "start_time": "2023-04-28T18:50:57.173Z"
   },
   {
    "duration": 11,
    "start_time": "2023-04-28T18:51:32.206Z"
   },
   {
    "duration": 11,
    "start_time": "2023-04-28T18:52:59.462Z"
   },
   {
    "duration": 1372,
    "start_time": "2023-04-28T18:56:24.022Z"
   },
   {
    "duration": 761,
    "start_time": "2023-04-28T18:56:25.395Z"
   },
   {
    "duration": 751,
    "start_time": "2023-04-28T18:56:26.158Z"
   },
   {
    "duration": 8,
    "start_time": "2023-04-28T18:56:26.911Z"
   },
   {
    "duration": 42,
    "start_time": "2023-04-28T18:56:26.921Z"
   },
   {
    "duration": 210,
    "start_time": "2023-04-28T18:56:26.965Z"
   },
   {
    "duration": 8,
    "start_time": "2023-04-28T18:56:27.177Z"
   },
   {
    "duration": 35,
    "start_time": "2023-04-28T18:56:27.187Z"
   },
   {
    "duration": 504,
    "start_time": "2023-04-28T18:56:27.223Z"
   },
   {
    "duration": 11,
    "start_time": "2023-04-28T18:56:27.729Z"
   },
   {
    "duration": 28,
    "start_time": "2023-04-28T18:56:27.741Z"
   },
   {
    "duration": 21,
    "start_time": "2023-04-28T18:56:27.771Z"
   },
   {
    "duration": 28,
    "start_time": "2023-04-28T18:56:27.793Z"
   },
   {
    "duration": 782,
    "start_time": "2023-04-28T18:56:27.823Z"
   },
   {
    "duration": 93,
    "start_time": "2023-04-28T18:56:28.606Z"
   },
   {
    "duration": 17,
    "start_time": "2023-04-28T18:56:28.701Z"
   },
   {
    "duration": 13,
    "start_time": "2023-04-28T18:56:28.720Z"
   },
   {
    "duration": 19,
    "start_time": "2023-04-28T18:56:28.735Z"
   },
   {
    "duration": 7,
    "start_time": "2023-04-28T18:56:28.756Z"
   },
   {
    "duration": 23,
    "start_time": "2023-04-28T18:56:28.764Z"
   },
   {
    "duration": 87,
    "start_time": "2023-04-28T18:56:28.789Z"
   },
   {
    "duration": 74,
    "start_time": "2023-04-28T18:56:28.878Z"
   },
   {
    "duration": 36,
    "start_time": "2023-04-28T18:56:28.953Z"
   },
   {
    "duration": 42,
    "start_time": "2023-04-28T18:56:28.990Z"
   },
   {
    "duration": 32,
    "start_time": "2023-04-28T18:56:29.033Z"
   },
   {
    "duration": 12,
    "start_time": "2023-04-28T18:56:29.067Z"
   },
   {
    "duration": 238,
    "start_time": "2023-04-28T18:56:29.081Z"
   },
   {
    "duration": 40,
    "start_time": "2023-04-28T18:56:29.322Z"
   },
   {
    "duration": 3,
    "start_time": "2023-04-28T18:56:29.363Z"
   },
   {
    "duration": 13,
    "start_time": "2023-04-28T18:56:29.367Z"
   },
   {
    "duration": 519,
    "start_time": "2023-04-28T18:56:29.382Z"
   },
   {
    "duration": 2,
    "start_time": "2023-04-28T18:56:29.902Z"
   },
   {
    "duration": 279,
    "start_time": "2023-04-28T18:56:29.906Z"
   },
   {
    "duration": 11940,
    "start_time": "2023-04-28T18:56:30.187Z"
   },
   {
    "duration": 499,
    "start_time": "2023-04-28T18:56:42.219Z"
   },
   {
    "duration": 96,
    "start_time": "2023-04-28T18:56:42.722Z"
   },
   {
    "duration": 46,
    "start_time": "2023-04-28T18:56:42.820Z"
   },
   {
    "duration": 53,
    "start_time": "2023-04-28T18:56:42.867Z"
   },
   {
    "duration": 6,
    "start_time": "2023-04-28T18:56:42.921Z"
   },
   {
    "duration": 340562,
    "start_time": "2023-04-28T18:56:42.928Z"
   },
   {
    "duration": 25913,
    "start_time": "2023-04-28T19:02:23.491Z"
   },
   {
    "duration": 297,
    "start_time": "2023-04-28T19:02:49.405Z"
   },
   {
    "duration": 2,
    "start_time": "2023-04-28T19:02:49.703Z"
   },
   {
    "duration": 332920,
    "start_time": "2023-04-28T19:02:49.706Z"
   },
   {
    "duration": 25554,
    "start_time": "2023-04-28T19:08:22.627Z"
   },
   {
    "duration": 184,
    "start_time": "2023-04-28T19:08:48.183Z"
   },
   {
    "duration": 2,
    "start_time": "2023-04-28T19:08:48.369Z"
   },
   {
    "duration": 367501,
    "start_time": "2023-04-28T19:17:18.822Z"
   },
   {
    "duration": 4500,
    "start_time": "2023-04-28T19:23:26.325Z"
   },
   {
    "duration": 1792,
    "start_time": "2023-04-28T19:23:30.827Z"
   },
   {
    "duration": 2,
    "start_time": "2023-04-28T19:23:32.620Z"
   },
   {
    "duration": 176,
    "start_time": "2023-04-28T19:23:32.624Z"
   },
   {
    "duration": 0,
    "start_time": "2023-04-28T19:23:32.801Z"
   },
   {
    "duration": 0,
    "start_time": "2023-04-28T19:23:32.802Z"
   },
   {
    "duration": 0,
    "start_time": "2023-04-28T19:23:32.803Z"
   },
   {
    "duration": 0,
    "start_time": "2023-04-28T19:23:32.804Z"
   },
   {
    "duration": 0,
    "start_time": "2023-04-28T19:23:32.817Z"
   },
   {
    "duration": 0,
    "start_time": "2023-04-28T19:23:32.818Z"
   },
   {
    "duration": 0,
    "start_time": "2023-04-28T19:23:32.819Z"
   },
   {
    "duration": 14,
    "start_time": "2023-04-28T19:40:23.527Z"
   },
   {
    "duration": 25760,
    "start_time": "2023-04-28T19:42:14.049Z"
   },
   {
    "duration": 143,
    "start_time": "2023-04-28T19:42:39.811Z"
   },
   {
    "duration": 5,
    "start_time": "2023-04-28T19:42:39.956Z"
   },
   {
    "duration": 23,
    "start_time": "2023-04-28T19:42:39.962Z"
   },
   {
    "duration": 10,
    "start_time": "2023-04-28T19:43:37.921Z"
   },
   {
    "duration": 3149,
    "start_time": "2023-04-29T09:36:16.816Z"
   },
   {
    "duration": 2670,
    "start_time": "2023-04-29T09:36:19.966Z"
   },
   {
    "duration": 717,
    "start_time": "2023-04-29T09:36:22.638Z"
   },
   {
    "duration": 5,
    "start_time": "2023-04-29T09:36:23.357Z"
   },
   {
    "duration": 56,
    "start_time": "2023-04-29T09:36:23.364Z"
   },
   {
    "duration": 185,
    "start_time": "2023-04-29T09:36:23.422Z"
   },
   {
    "duration": 8,
    "start_time": "2023-04-29T09:36:23.609Z"
   },
   {
    "duration": 22,
    "start_time": "2023-04-29T09:36:23.619Z"
   },
   {
    "duration": 578,
    "start_time": "2023-04-29T09:36:23.643Z"
   },
   {
    "duration": 12,
    "start_time": "2023-04-29T09:36:24.225Z"
   },
   {
    "duration": 30,
    "start_time": "2023-04-29T09:36:24.239Z"
   },
   {
    "duration": 38,
    "start_time": "2023-04-29T09:36:24.271Z"
   },
   {
    "duration": 7,
    "start_time": "2023-04-29T09:36:24.311Z"
   },
   {
    "duration": 705,
    "start_time": "2023-04-29T09:36:24.321Z"
   },
   {
    "duration": 21,
    "start_time": "2023-04-29T09:36:25.027Z"
   },
   {
    "duration": 7,
    "start_time": "2023-04-29T09:36:25.050Z"
   },
   {
    "duration": 38,
    "start_time": "2023-04-29T09:36:25.058Z"
   },
   {
    "duration": 98,
    "start_time": "2023-04-29T09:36:25.097Z"
   },
   {
    "duration": 6,
    "start_time": "2023-04-29T09:36:25.196Z"
   },
   {
    "duration": 21,
    "start_time": "2023-04-29T09:36:25.203Z"
   },
   {
    "duration": 80,
    "start_time": "2023-04-29T09:36:25.226Z"
   },
   {
    "duration": 59,
    "start_time": "2023-04-29T09:36:25.308Z"
   },
   {
    "duration": 51,
    "start_time": "2023-04-29T09:36:25.369Z"
   },
   {
    "duration": 36,
    "start_time": "2023-04-29T09:36:25.422Z"
   },
   {
    "duration": 46,
    "start_time": "2023-04-29T09:36:25.460Z"
   },
   {
    "duration": 12,
    "start_time": "2023-04-29T09:36:25.508Z"
   },
   {
    "duration": 238,
    "start_time": "2023-04-29T09:36:25.522Z"
   },
   {
    "duration": 43,
    "start_time": "2023-04-29T09:36:25.761Z"
   },
   {
    "duration": 3,
    "start_time": "2023-04-29T09:36:25.805Z"
   },
   {
    "duration": 12,
    "start_time": "2023-04-29T09:36:25.809Z"
   },
   {
    "duration": 678,
    "start_time": "2023-04-29T09:36:25.822Z"
   },
   {
    "duration": 152,
    "start_time": "2023-04-29T09:39:03.903Z"
   },
   {
    "duration": 333,
    "start_time": "2023-04-29T09:39:39.110Z"
   },
   {
    "duration": 459,
    "start_time": "2023-04-29T09:39:44.871Z"
   },
   {
    "duration": 17,
    "start_time": "2023-04-29T09:39:47.300Z"
   },
   {
    "duration": 429,
    "start_time": "2023-04-29T09:45:38.705Z"
   },
   {
    "duration": 2207,
    "start_time": "2023-04-30T15:40:32.331Z"
   },
   {
    "duration": 1528,
    "start_time": "2023-04-30T15:40:34.541Z"
   },
   {
    "duration": 1071,
    "start_time": "2023-04-30T15:40:36.072Z"
   },
   {
    "duration": 11,
    "start_time": "2023-04-30T15:40:37.146Z"
   },
   {
    "duration": 93,
    "start_time": "2023-04-30T15:40:37.160Z"
   },
   {
    "duration": 390,
    "start_time": "2023-04-30T15:40:37.255Z"
   },
   {
    "duration": 16,
    "start_time": "2023-04-30T15:40:37.647Z"
   },
   {
    "duration": 34,
    "start_time": "2023-04-30T15:40:37.665Z"
   },
   {
    "duration": 715,
    "start_time": "2023-04-30T15:40:37.701Z"
   },
   {
    "duration": 25,
    "start_time": "2023-04-30T15:40:38.418Z"
   },
   {
    "duration": 30,
    "start_time": "2023-04-30T15:40:38.445Z"
   },
   {
    "duration": 27,
    "start_time": "2023-04-30T15:40:38.478Z"
   },
   {
    "duration": 38,
    "start_time": "2023-04-30T15:40:38.507Z"
   },
   {
    "duration": 1312,
    "start_time": "2023-04-30T15:40:38.550Z"
   },
   {
    "duration": 160,
    "start_time": "2023-04-30T15:40:39.864Z"
   },
   {
    "duration": 19,
    "start_time": "2023-04-30T15:40:40.027Z"
   },
   {
    "duration": 22,
    "start_time": "2023-04-30T15:40:40.049Z"
   },
   {
    "duration": 28,
    "start_time": "2023-04-30T15:40:40.074Z"
   },
   {
    "duration": 11,
    "start_time": "2023-04-30T15:40:40.141Z"
   },
   {
    "duration": 38,
    "start_time": "2023-04-30T15:40:40.154Z"
   },
   {
    "duration": 129,
    "start_time": "2023-04-30T15:40:40.195Z"
   },
   {
    "duration": 98,
    "start_time": "2023-04-30T15:40:40.326Z"
   },
   {
    "duration": 79,
    "start_time": "2023-04-30T15:40:40.426Z"
   },
   {
    "duration": 76,
    "start_time": "2023-04-30T15:40:40.507Z"
   },
   {
    "duration": 68,
    "start_time": "2023-04-30T15:40:40.586Z"
   },
   {
    "duration": 17,
    "start_time": "2023-04-30T15:40:40.656Z"
   },
   {
    "duration": 314,
    "start_time": "2023-04-30T15:40:40.675Z"
   },
   {
    "duration": 57,
    "start_time": "2023-04-30T15:40:40.992Z"
   },
   {
    "duration": 4,
    "start_time": "2023-04-30T15:40:41.052Z"
   },
   {
    "duration": 31,
    "start_time": "2023-04-30T15:40:41.058Z"
   },
   {
    "duration": 1242,
    "start_time": "2023-04-30T15:40:41.091Z"
   },
   {
    "duration": 6,
    "start_time": "2023-04-30T15:40:42.335Z"
   },
   {
    "duration": 360,
    "start_time": "2023-04-30T15:40:42.344Z"
   },
   {
    "duration": 29140,
    "start_time": "2023-04-30T15:40:42.706Z"
   },
   {
    "duration": 1002,
    "start_time": "2023-04-30T15:41:11.849Z"
   },
   {
    "duration": 91,
    "start_time": "2023-04-30T15:41:12.854Z"
   },
   {
    "duration": 197,
    "start_time": "2023-04-30T15:41:12.948Z"
   },
   {
    "duration": 104,
    "start_time": "2023-04-30T15:41:13.147Z"
   },
   {
    "duration": 83,
    "start_time": "2023-04-30T15:41:13.261Z"
   },
   {
    "duration": 449622,
    "start_time": "2023-04-30T15:41:13.347Z"
   },
   {
    "duration": 36005,
    "start_time": "2023-04-30T15:48:42.976Z"
   },
   {
    "duration": 394,
    "start_time": "2023-04-30T15:49:18.984Z"
   },
   {
    "duration": 4,
    "start_time": "2023-04-30T15:49:19.380Z"
   },
   {
    "duration": 428021,
    "start_time": "2023-04-30T15:49:19.387Z"
   },
   {
    "duration": 33203,
    "start_time": "2023-04-30T15:56:27.410Z"
   },
   {
    "duration": 221,
    "start_time": "2023-04-30T15:57:00.615Z"
   },
   {
    "duration": 3,
    "start_time": "2023-04-30T15:57:00.840Z"
   },
   {
    "duration": 1740,
    "start_time": "2023-04-30T16:12:13.022Z"
   },
   {
    "duration": 1054,
    "start_time": "2023-04-30T16:12:14.766Z"
   },
   {
    "duration": 1223,
    "start_time": "2023-04-30T16:12:15.822Z"
   },
   {
    "duration": 14,
    "start_time": "2023-04-30T16:12:17.050Z"
   },
   {
    "duration": 55,
    "start_time": "2023-04-30T16:12:17.066Z"
   },
   {
    "duration": 249,
    "start_time": "2023-04-30T16:12:17.123Z"
   },
   {
    "duration": 11,
    "start_time": "2023-04-30T16:12:17.374Z"
   },
   {
    "duration": 30,
    "start_time": "2023-04-30T16:12:17.386Z"
   },
   {
    "duration": 690,
    "start_time": "2023-04-30T16:12:17.418Z"
   },
   {
    "duration": 13,
    "start_time": "2023-04-30T16:12:18.111Z"
   },
   {
    "duration": 35,
    "start_time": "2023-04-30T16:12:18.147Z"
   },
   {
    "duration": 36,
    "start_time": "2023-04-30T16:12:18.184Z"
   },
   {
    "duration": 9,
    "start_time": "2023-04-30T16:12:18.222Z"
   },
   {
    "duration": 1067,
    "start_time": "2023-04-30T16:12:18.241Z"
   },
   {
    "duration": 159,
    "start_time": "2023-04-30T16:12:19.311Z"
   },
   {
    "duration": 9,
    "start_time": "2023-04-30T16:12:19.473Z"
   },
   {
    "duration": 23,
    "start_time": "2023-04-30T16:12:19.484Z"
   },
   {
    "duration": 53,
    "start_time": "2023-04-30T16:12:19.510Z"
   },
   {
    "duration": 10,
    "start_time": "2023-04-30T16:12:19.566Z"
   },
   {
    "duration": 43,
    "start_time": "2023-04-30T16:12:19.578Z"
   },
   {
    "duration": 76,
    "start_time": "2023-04-30T16:12:19.645Z"
   },
   {
    "duration": 88,
    "start_time": "2023-04-30T16:12:19.724Z"
   },
   {
    "duration": 59,
    "start_time": "2023-04-30T16:12:19.814Z"
   },
   {
    "duration": 38,
    "start_time": "2023-04-30T16:12:19.876Z"
   },
   {
    "duration": 76,
    "start_time": "2023-04-30T16:12:19.916Z"
   },
   {
    "duration": 13,
    "start_time": "2023-04-30T16:12:19.994Z"
   },
   {
    "duration": 287,
    "start_time": "2023-04-30T16:12:20.009Z"
   },
   {
    "duration": 59,
    "start_time": "2023-04-30T16:12:20.302Z"
   },
   {
    "duration": 9,
    "start_time": "2023-04-30T16:12:20.363Z"
   },
   {
    "duration": 24,
    "start_time": "2023-04-30T16:12:20.374Z"
   },
   {
    "duration": 1169,
    "start_time": "2023-04-30T16:12:20.400Z"
   },
   {
    "duration": 3,
    "start_time": "2023-04-30T16:12:21.572Z"
   },
   {
    "duration": 145,
    "start_time": "2023-04-30T16:12:21.577Z"
   },
   {
    "duration": 0,
    "start_time": "2023-04-30T16:12:21.724Z"
   },
   {
    "duration": 0,
    "start_time": "2023-04-30T16:12:21.725Z"
   },
   {
    "duration": 0,
    "start_time": "2023-04-30T16:12:21.726Z"
   },
   {
    "duration": 1,
    "start_time": "2023-04-30T16:12:21.727Z"
   },
   {
    "duration": 0,
    "start_time": "2023-04-30T16:12:21.741Z"
   },
   {
    "duration": 0,
    "start_time": "2023-04-30T16:12:21.743Z"
   },
   {
    "duration": 0,
    "start_time": "2023-04-30T16:12:21.744Z"
   },
   {
    "duration": 0,
    "start_time": "2023-04-30T16:12:21.745Z"
   },
   {
    "duration": 0,
    "start_time": "2023-04-30T16:12:21.745Z"
   },
   {
    "duration": 0,
    "start_time": "2023-04-30T16:12:21.746Z"
   },
   {
    "duration": 0,
    "start_time": "2023-04-30T16:12:21.747Z"
   },
   {
    "duration": 0,
    "start_time": "2023-04-30T16:12:21.748Z"
   },
   {
    "duration": 0,
    "start_time": "2023-04-30T16:12:21.749Z"
   },
   {
    "duration": 0,
    "start_time": "2023-04-30T16:12:21.750Z"
   },
   {
    "duration": 0,
    "start_time": "2023-04-30T16:12:21.751Z"
   },
   {
    "duration": 0,
    "start_time": "2023-04-30T16:12:21.752Z"
   },
   {
    "duration": 0,
    "start_time": "2023-04-30T16:12:21.754Z"
   },
   {
    "duration": 0,
    "start_time": "2023-04-30T16:12:21.761Z"
   },
   {
    "duration": 0,
    "start_time": "2023-04-30T16:12:21.762Z"
   },
   {
    "duration": 0,
    "start_time": "2023-04-30T16:12:21.762Z"
   },
   {
    "duration": 0,
    "start_time": "2023-04-30T16:12:21.763Z"
   },
   {
    "duration": 0,
    "start_time": "2023-04-30T16:12:21.764Z"
   },
   {
    "duration": 0,
    "start_time": "2023-04-30T16:12:21.765Z"
   },
   {
    "duration": 0,
    "start_time": "2023-04-30T16:12:21.767Z"
   },
   {
    "duration": 0,
    "start_time": "2023-04-30T16:12:21.769Z"
   },
   {
    "duration": 1879,
    "start_time": "2023-04-30T16:13:15.460Z"
   },
   {
    "duration": 1063,
    "start_time": "2023-04-30T16:13:17.341Z"
   },
   {
    "duration": 1066,
    "start_time": "2023-04-30T16:13:18.406Z"
   },
   {
    "duration": 8,
    "start_time": "2023-04-30T16:13:19.474Z"
   },
   {
    "duration": 74,
    "start_time": "2023-04-30T16:13:19.485Z"
   },
   {
    "duration": 242,
    "start_time": "2023-04-30T16:13:19.561Z"
   },
   {
    "duration": 11,
    "start_time": "2023-04-30T16:13:19.805Z"
   },
   {
    "duration": 54,
    "start_time": "2023-04-30T16:13:19.818Z"
   },
   {
    "duration": 690,
    "start_time": "2023-04-30T16:13:19.874Z"
   },
   {
    "duration": 13,
    "start_time": "2023-04-30T16:13:20.566Z"
   },
   {
    "duration": 39,
    "start_time": "2023-04-30T16:13:20.582Z"
   },
   {
    "duration": 46,
    "start_time": "2023-04-30T16:13:20.624Z"
   },
   {
    "duration": 16,
    "start_time": "2023-04-30T16:13:20.672Z"
   },
   {
    "duration": 1088,
    "start_time": "2023-04-30T16:13:20.693Z"
   },
   {
    "duration": 149,
    "start_time": "2023-04-30T16:13:21.783Z"
   },
   {
    "duration": 19,
    "start_time": "2023-04-30T16:13:21.934Z"
   },
   {
    "duration": 35,
    "start_time": "2023-04-30T16:13:21.960Z"
   },
   {
    "duration": 26,
    "start_time": "2023-04-30T16:13:21.997Z"
   },
   {
    "duration": 32,
    "start_time": "2023-04-30T16:13:22.025Z"
   },
   {
    "duration": 27,
    "start_time": "2023-04-30T16:13:22.062Z"
   },
   {
    "duration": 82,
    "start_time": "2023-04-30T16:13:22.091Z"
   },
   {
    "duration": 91,
    "start_time": "2023-04-30T16:13:22.175Z"
   },
   {
    "duration": 44,
    "start_time": "2023-04-30T16:13:22.268Z"
   },
   {
    "duration": 58,
    "start_time": "2023-04-30T16:13:22.314Z"
   },
   {
    "duration": 53,
    "start_time": "2023-04-30T16:13:22.374Z"
   },
   {
    "duration": 20,
    "start_time": "2023-04-30T16:13:22.441Z"
   },
   {
    "duration": 298,
    "start_time": "2023-04-30T16:13:22.463Z"
   },
   {
    "duration": 45,
    "start_time": "2023-04-30T16:13:22.763Z"
   },
   {
    "duration": 3,
    "start_time": "2023-04-30T16:13:22.811Z"
   },
   {
    "duration": 35,
    "start_time": "2023-04-30T16:13:22.816Z"
   },
   {
    "duration": 1236,
    "start_time": "2023-04-30T16:13:22.853Z"
   },
   {
    "duration": 4,
    "start_time": "2023-04-30T16:13:24.091Z"
   },
   {
    "duration": 150,
    "start_time": "2023-04-30T16:13:24.097Z"
   },
   {
    "duration": 0,
    "start_time": "2023-04-30T16:13:24.249Z"
   },
   {
    "duration": 0,
    "start_time": "2023-04-30T16:13:24.250Z"
   },
   {
    "duration": 0,
    "start_time": "2023-04-30T16:13:24.251Z"
   },
   {
    "duration": 0,
    "start_time": "2023-04-30T16:13:24.252Z"
   },
   {
    "duration": 0,
    "start_time": "2023-04-30T16:13:24.256Z"
   },
   {
    "duration": 0,
    "start_time": "2023-04-30T16:13:24.257Z"
   },
   {
    "duration": 0,
    "start_time": "2023-04-30T16:13:24.257Z"
   },
   {
    "duration": 0,
    "start_time": "2023-04-30T16:13:24.263Z"
   },
   {
    "duration": 0,
    "start_time": "2023-04-30T16:13:24.264Z"
   },
   {
    "duration": 0,
    "start_time": "2023-04-30T16:13:24.265Z"
   },
   {
    "duration": 0,
    "start_time": "2023-04-30T16:13:24.266Z"
   },
   {
    "duration": 0,
    "start_time": "2023-04-30T16:13:24.268Z"
   },
   {
    "duration": 0,
    "start_time": "2023-04-30T16:13:24.269Z"
   },
   {
    "duration": 0,
    "start_time": "2023-04-30T16:13:24.270Z"
   },
   {
    "duration": 0,
    "start_time": "2023-04-30T16:13:24.271Z"
   },
   {
    "duration": 0,
    "start_time": "2023-04-30T16:13:24.272Z"
   },
   {
    "duration": 0,
    "start_time": "2023-04-30T16:13:24.274Z"
   },
   {
    "duration": 0,
    "start_time": "2023-04-30T16:13:24.275Z"
   },
   {
    "duration": 0,
    "start_time": "2023-04-30T16:13:24.276Z"
   },
   {
    "duration": 0,
    "start_time": "2023-04-30T16:13:24.276Z"
   },
   {
    "duration": 0,
    "start_time": "2023-04-30T16:13:24.278Z"
   },
   {
    "duration": 0,
    "start_time": "2023-04-30T16:13:24.279Z"
   },
   {
    "duration": 0,
    "start_time": "2023-04-30T16:13:24.280Z"
   },
   {
    "duration": 0,
    "start_time": "2023-04-30T16:13:24.281Z"
   },
   {
    "duration": 0,
    "start_time": "2023-04-30T16:13:24.282Z"
   },
   {
    "duration": 1719,
    "start_time": "2023-04-30T16:15:39.130Z"
   },
   {
    "duration": 1035,
    "start_time": "2023-04-30T16:15:40.851Z"
   },
   {
    "duration": 1015,
    "start_time": "2023-04-30T16:15:41.888Z"
   },
   {
    "duration": 8,
    "start_time": "2023-04-30T16:15:42.907Z"
   },
   {
    "duration": 81,
    "start_time": "2023-04-30T16:15:42.917Z"
   },
   {
    "duration": 242,
    "start_time": "2023-04-30T16:15:43.000Z"
   },
   {
    "duration": 12,
    "start_time": "2023-04-30T16:15:43.250Z"
   },
   {
    "duration": 32,
    "start_time": "2023-04-30T16:15:43.264Z"
   },
   {
    "duration": 670,
    "start_time": "2023-04-30T16:15:43.299Z"
   },
   {
    "duration": 13,
    "start_time": "2023-04-30T16:15:43.972Z"
   },
   {
    "duration": 29,
    "start_time": "2023-04-30T16:15:43.987Z"
   },
   {
    "duration": 54,
    "start_time": "2023-04-30T16:15:44.018Z"
   },
   {
    "duration": 12,
    "start_time": "2023-04-30T16:15:44.074Z"
   },
   {
    "duration": 1028,
    "start_time": "2023-04-30T16:15:44.088Z"
   },
   {
    "duration": 151,
    "start_time": "2023-04-30T16:15:45.118Z"
   },
   {
    "duration": 12,
    "start_time": "2023-04-30T16:15:45.272Z"
   },
   {
    "duration": 21,
    "start_time": "2023-04-30T16:15:45.286Z"
   },
   {
    "duration": 61,
    "start_time": "2023-04-30T16:15:45.309Z"
   },
   {
    "duration": 8,
    "start_time": "2023-04-30T16:15:45.372Z"
   },
   {
    "duration": 30,
    "start_time": "2023-04-30T16:15:45.382Z"
   },
   {
    "duration": 92,
    "start_time": "2023-04-30T16:15:45.415Z"
   },
   {
    "duration": 111,
    "start_time": "2023-04-30T16:15:45.510Z"
   },
   {
    "duration": 64,
    "start_time": "2023-04-30T16:15:45.624Z"
   },
   {
    "duration": 74,
    "start_time": "2023-04-30T16:15:45.690Z"
   },
   {
    "duration": 58,
    "start_time": "2023-04-30T16:15:45.767Z"
   },
   {
    "duration": 21,
    "start_time": "2023-04-30T16:15:45.841Z"
   },
   {
    "duration": 418,
    "start_time": "2023-04-30T16:15:45.865Z"
   },
   {
    "duration": 67,
    "start_time": "2023-04-30T16:15:46.288Z"
   },
   {
    "duration": 14,
    "start_time": "2023-04-30T16:15:46.363Z"
   },
   {
    "duration": 52,
    "start_time": "2023-04-30T16:15:46.381Z"
   },
   {
    "duration": 1269,
    "start_time": "2023-04-30T16:15:46.435Z"
   },
   {
    "duration": 4,
    "start_time": "2023-04-30T16:15:47.706Z"
   },
   {
    "duration": 205,
    "start_time": "2023-04-30T16:15:47.712Z"
   },
   {
    "duration": 0,
    "start_time": "2023-04-30T16:15:47.919Z"
   },
   {
    "duration": 0,
    "start_time": "2023-04-30T16:15:47.920Z"
   },
   {
    "duration": 0,
    "start_time": "2023-04-30T16:15:47.921Z"
   },
   {
    "duration": 0,
    "start_time": "2023-04-30T16:15:47.923Z"
   },
   {
    "duration": 0,
    "start_time": "2023-04-30T16:15:47.924Z"
   },
   {
    "duration": 0,
    "start_time": "2023-04-30T16:15:47.925Z"
   },
   {
    "duration": 0,
    "start_time": "2023-04-30T16:15:47.942Z"
   },
   {
    "duration": 0,
    "start_time": "2023-04-30T16:15:47.943Z"
   },
   {
    "duration": 0,
    "start_time": "2023-04-30T16:15:47.944Z"
   },
   {
    "duration": 0,
    "start_time": "2023-04-30T16:15:47.945Z"
   },
   {
    "duration": 0,
    "start_time": "2023-04-30T16:15:47.947Z"
   },
   {
    "duration": 0,
    "start_time": "2023-04-30T16:15:47.948Z"
   },
   {
    "duration": 0,
    "start_time": "2023-04-30T16:15:47.953Z"
   },
   {
    "duration": 0,
    "start_time": "2023-04-30T16:15:47.959Z"
   },
   {
    "duration": 0,
    "start_time": "2023-04-30T16:15:47.962Z"
   },
   {
    "duration": 0,
    "start_time": "2023-04-30T16:15:47.964Z"
   },
   {
    "duration": 0,
    "start_time": "2023-04-30T16:15:47.965Z"
   },
   {
    "duration": 0,
    "start_time": "2023-04-30T16:15:47.966Z"
   },
   {
    "duration": 0,
    "start_time": "2023-04-30T16:15:47.968Z"
   },
   {
    "duration": 0,
    "start_time": "2023-04-30T16:15:47.969Z"
   },
   {
    "duration": 0,
    "start_time": "2023-04-30T16:15:47.971Z"
   },
   {
    "duration": 0,
    "start_time": "2023-04-30T16:15:47.973Z"
   },
   {
    "duration": 0,
    "start_time": "2023-04-30T16:15:47.975Z"
   },
   {
    "duration": 0,
    "start_time": "2023-04-30T16:15:47.976Z"
   },
   {
    "duration": 0,
    "start_time": "2023-04-30T16:15:47.977Z"
   },
   {
    "duration": 1774,
    "start_time": "2023-04-30T16:16:45.722Z"
   },
   {
    "duration": 1087,
    "start_time": "2023-04-30T16:16:47.498Z"
   },
   {
    "duration": 1033,
    "start_time": "2023-04-30T16:16:48.588Z"
   },
   {
    "duration": 9,
    "start_time": "2023-04-30T16:16:49.624Z"
   },
   {
    "duration": 77,
    "start_time": "2023-04-30T16:16:49.643Z"
   },
   {
    "duration": 255,
    "start_time": "2023-04-30T16:16:49.722Z"
   },
   {
    "duration": 10,
    "start_time": "2023-04-30T16:16:49.979Z"
   },
   {
    "duration": 39,
    "start_time": "2023-04-30T16:16:49.991Z"
   },
   {
    "duration": 649,
    "start_time": "2023-04-30T16:16:50.042Z"
   },
   {
    "duration": 13,
    "start_time": "2023-04-30T16:16:50.693Z"
   },
   {
    "duration": 48,
    "start_time": "2023-04-30T16:16:50.708Z"
   },
   {
    "duration": 27,
    "start_time": "2023-04-30T16:16:50.760Z"
   },
   {
    "duration": 8,
    "start_time": "2023-04-30T16:16:50.789Z"
   },
   {
    "duration": 1085,
    "start_time": "2023-04-30T16:16:50.800Z"
   },
   {
    "duration": 146,
    "start_time": "2023-04-30T16:16:51.887Z"
   },
   {
    "duration": 58,
    "start_time": "2023-04-30T16:16:52.035Z"
   },
   {
    "duration": 36,
    "start_time": "2023-04-30T16:16:52.095Z"
   },
   {
    "duration": 37,
    "start_time": "2023-04-30T16:16:52.134Z"
   },
   {
    "duration": 10,
    "start_time": "2023-04-30T16:16:52.174Z"
   },
   {
    "duration": 49,
    "start_time": "2023-04-30T16:16:52.186Z"
   },
   {
    "duration": 90,
    "start_time": "2023-04-30T16:16:52.237Z"
   },
   {
    "duration": 78,
    "start_time": "2023-04-30T16:16:52.330Z"
   },
   {
    "duration": 65,
    "start_time": "2023-04-30T16:16:52.410Z"
   },
   {
    "duration": 35,
    "start_time": "2023-04-30T16:16:52.477Z"
   },
   {
    "duration": 61,
    "start_time": "2023-04-30T16:16:52.514Z"
   },
   {
    "duration": 14,
    "start_time": "2023-04-30T16:16:52.577Z"
   },
   {
    "duration": 317,
    "start_time": "2023-04-30T16:16:52.593Z"
   },
   {
    "duration": 53,
    "start_time": "2023-04-30T16:16:52.912Z"
   },
   {
    "duration": 5,
    "start_time": "2023-04-30T16:16:52.967Z"
   },
   {
    "duration": 15,
    "start_time": "2023-04-30T16:16:52.975Z"
   },
   {
    "duration": 1209,
    "start_time": "2023-04-30T16:16:52.993Z"
   },
   {
    "duration": 3,
    "start_time": "2023-04-30T16:16:54.204Z"
   },
   {
    "duration": 595,
    "start_time": "2023-04-30T16:16:54.209Z"
   },
   {
    "duration": 113541,
    "start_time": "2023-04-30T16:16:54.806Z"
   },
   {
    "duration": 281,
    "start_time": "2023-04-30T16:18:48.352Z"
   },
   {
    "duration": 1008,
    "start_time": "2023-04-30T16:18:48.635Z"
   },
   {
    "duration": 61,
    "start_time": "2023-04-30T16:18:49.644Z"
   },
   {
    "duration": 413274,
    "start_time": "2023-04-30T16:18:49.707Z"
   },
   {
    "duration": 31885,
    "start_time": "2023-04-30T16:25:42.983Z"
   },
   {
    "duration": 386,
    "start_time": "2023-04-30T16:26:14.870Z"
   },
   {
    "duration": 2,
    "start_time": "2023-04-30T16:26:15.261Z"
   },
   {
    "duration": 420055,
    "start_time": "2023-04-30T16:26:15.265Z"
   },
   {
    "duration": 31636,
    "start_time": "2023-04-30T16:33:15.322Z"
   },
   {
    "duration": 193,
    "start_time": "2023-04-30T16:33:46.961Z"
   },
   {
    "duration": 3,
    "start_time": "2023-04-30T16:33:47.156Z"
   },
   {
    "duration": 1680,
    "start_time": "2023-04-30T16:40:45.560Z"
   },
   {
    "duration": 1097,
    "start_time": "2023-04-30T16:40:47.254Z"
   },
   {
    "duration": 1034,
    "start_time": "2023-04-30T16:40:48.353Z"
   },
   {
    "duration": 7,
    "start_time": "2023-04-30T16:40:49.389Z"
   },
   {
    "duration": 72,
    "start_time": "2023-04-30T16:40:49.399Z"
   },
   {
    "duration": 363,
    "start_time": "2023-04-30T16:40:49.473Z"
   },
   {
    "duration": 17,
    "start_time": "2023-04-30T16:40:49.838Z"
   },
   {
    "duration": 59,
    "start_time": "2023-04-30T16:40:49.857Z"
   },
   {
    "duration": 711,
    "start_time": "2023-04-30T16:40:49.918Z"
   },
   {
    "duration": 22,
    "start_time": "2023-04-30T16:40:50.631Z"
   },
   {
    "duration": 32,
    "start_time": "2023-04-30T16:40:50.656Z"
   },
   {
    "duration": 28,
    "start_time": "2023-04-30T16:40:50.690Z"
   },
   {
    "duration": 36,
    "start_time": "2023-04-30T16:40:50.720Z"
   },
   {
    "duration": 1115,
    "start_time": "2023-04-30T16:40:50.761Z"
   },
   {
    "duration": 149,
    "start_time": "2023-04-30T16:40:51.878Z"
   },
   {
    "duration": 26,
    "start_time": "2023-04-30T16:40:52.030Z"
   },
   {
    "duration": 27,
    "start_time": "2023-04-30T16:40:52.057Z"
   },
   {
    "duration": 29,
    "start_time": "2023-04-30T16:40:52.086Z"
   },
   {
    "duration": 27,
    "start_time": "2023-04-30T16:40:52.118Z"
   },
   {
    "duration": 35,
    "start_time": "2023-04-30T16:40:52.147Z"
   },
   {
    "duration": 170,
    "start_time": "2023-04-30T16:40:52.184Z"
   },
   {
    "duration": 70,
    "start_time": "2023-04-30T16:40:52.356Z"
   },
   {
    "duration": 56,
    "start_time": "2023-04-30T16:40:52.428Z"
   },
   {
    "duration": 36,
    "start_time": "2023-04-30T16:40:52.485Z"
   },
   {
    "duration": 57,
    "start_time": "2023-04-30T16:40:52.523Z"
   },
   {
    "duration": 13,
    "start_time": "2023-04-30T16:40:52.582Z"
   },
   {
    "duration": 288,
    "start_time": "2023-04-30T16:40:52.597Z"
   },
   {
    "duration": 69,
    "start_time": "2023-04-30T16:40:52.887Z"
   },
   {
    "duration": 4,
    "start_time": "2023-04-30T16:40:52.958Z"
   },
   {
    "duration": 21,
    "start_time": "2023-04-30T16:40:52.964Z"
   },
   {
    "duration": 1107,
    "start_time": "2023-04-30T16:40:52.987Z"
   },
   {
    "duration": 3,
    "start_time": "2023-04-30T16:40:54.096Z"
   },
   {
    "duration": 593,
    "start_time": "2023-04-30T16:40:54.101Z"
   },
   {
    "duration": 138144,
    "start_time": "2023-04-30T16:40:54.696Z"
   },
   {
    "duration": 8,
    "start_time": "2023-04-30T16:43:12.849Z"
   },
   {
    "duration": 990,
    "start_time": "2023-04-30T16:43:12.859Z"
   },
   {
    "duration": 4,
    "start_time": "2023-04-30T16:43:13.853Z"
   },
   {
    "duration": 428171,
    "start_time": "2023-04-30T16:43:13.860Z"
   },
   {
    "duration": 32645,
    "start_time": "2023-04-30T16:50:22.033Z"
   },
   {
    "duration": 403,
    "start_time": "2023-04-30T16:50:54.679Z"
   },
   {
    "duration": 2,
    "start_time": "2023-04-30T16:50:55.087Z"
   },
   {
    "duration": 444836,
    "start_time": "2023-04-30T16:50:55.091Z"
   },
   {
    "duration": 34466,
    "start_time": "2023-04-30T16:58:19.929Z"
   },
   {
    "duration": 210,
    "start_time": "2023-04-30T16:58:54.397Z"
   },
   {
    "duration": 2,
    "start_time": "2023-04-30T16:58:54.610Z"
   },
   {
    "duration": 1727,
    "start_time": "2023-04-30T17:40:56.708Z"
   },
   {
    "duration": 1113,
    "start_time": "2023-04-30T17:40:58.443Z"
   },
   {
    "duration": 1117,
    "start_time": "2023-04-30T17:40:59.558Z"
   },
   {
    "duration": 8,
    "start_time": "2023-04-30T17:41:00.678Z"
   },
   {
    "duration": 127,
    "start_time": "2023-04-30T17:41:00.689Z"
   },
   {
    "duration": 312,
    "start_time": "2023-04-30T17:41:00.819Z"
   },
   {
    "duration": 20,
    "start_time": "2023-04-30T17:41:01.134Z"
   },
   {
    "duration": 99,
    "start_time": "2023-04-30T17:41:01.158Z"
   },
   {
    "duration": 677,
    "start_time": "2023-04-30T17:41:01.260Z"
   },
   {
    "duration": 14,
    "start_time": "2023-04-30T17:41:01.948Z"
   },
   {
    "duration": 243,
    "start_time": "2023-04-30T17:41:01.964Z"
   },
   {
    "duration": 74,
    "start_time": "2023-04-30T17:41:02.209Z"
   },
   {
    "duration": 180,
    "start_time": "2023-04-30T17:41:02.285Z"
   },
   {
    "duration": 1289,
    "start_time": "2023-04-30T17:41:02.470Z"
   },
   {
    "duration": 147,
    "start_time": "2023-04-30T17:41:03.761Z"
   },
   {
    "duration": 10,
    "start_time": "2023-04-30T17:41:03.910Z"
   },
   {
    "duration": 36,
    "start_time": "2023-04-30T17:41:03.922Z"
   },
   {
    "duration": 27,
    "start_time": "2023-04-30T17:41:03.960Z"
   },
   {
    "duration": 8,
    "start_time": "2023-04-30T17:41:03.989Z"
   },
   {
    "duration": 68,
    "start_time": "2023-04-30T17:41:03.999Z"
   },
   {
    "duration": 97,
    "start_time": "2023-04-30T17:41:04.070Z"
   },
   {
    "duration": 86,
    "start_time": "2023-04-30T17:41:04.169Z"
   },
   {
    "duration": 43,
    "start_time": "2023-04-30T17:41:04.258Z"
   },
   {
    "duration": 59,
    "start_time": "2023-04-30T17:41:04.303Z"
   },
   {
    "duration": 38,
    "start_time": "2023-04-30T17:41:04.363Z"
   },
   {
    "duration": 13,
    "start_time": "2023-04-30T17:41:04.403Z"
   },
   {
    "duration": 300,
    "start_time": "2023-04-30T17:41:04.418Z"
   },
   {
    "duration": 58,
    "start_time": "2023-04-30T17:41:04.720Z"
   },
   {
    "duration": 13,
    "start_time": "2023-04-30T17:41:04.780Z"
   },
   {
    "duration": 26,
    "start_time": "2023-04-30T17:41:04.795Z"
   },
   {
    "duration": 1183,
    "start_time": "2023-04-30T17:41:04.823Z"
   },
   {
    "duration": 3,
    "start_time": "2023-04-30T17:41:06.008Z"
   },
   {
    "duration": 702,
    "start_time": "2023-04-30T17:41:06.013Z"
   },
   {
    "duration": 207929,
    "start_time": "2023-04-30T17:41:06.717Z"
   },
   {
    "duration": 2,
    "start_time": "2023-04-30T17:44:34.648Z"
   },
   {
    "duration": 1005,
    "start_time": "2023-04-30T17:44:34.651Z"
   },
   {
    "duration": 7,
    "start_time": "2023-04-30T17:44:35.662Z"
   },
   {
    "duration": 441130,
    "start_time": "2023-04-30T17:44:35.743Z"
   },
   {
    "duration": 34926,
    "start_time": "2023-04-30T17:51:56.875Z"
   },
   {
    "duration": 433,
    "start_time": "2023-04-30T17:52:31.803Z"
   },
   {
    "duration": 10,
    "start_time": "2023-04-30T17:52:32.241Z"
   },
   {
    "duration": 441349,
    "start_time": "2023-04-30T17:52:32.262Z"
   },
   {
    "duration": 35070,
    "start_time": "2023-04-30T17:59:53.613Z"
   },
   {
    "duration": 215,
    "start_time": "2023-04-30T18:00:28.685Z"
   },
   {
    "duration": 2,
    "start_time": "2023-04-30T18:00:28.902Z"
   },
   {
    "duration": 1707,
    "start_time": "2023-04-30T18:48:14.493Z"
   },
   {
    "duration": 1184,
    "start_time": "2023-04-30T18:48:16.202Z"
   },
   {
    "duration": 1041,
    "start_time": "2023-04-30T18:48:17.388Z"
   },
   {
    "duration": 26,
    "start_time": "2023-04-30T18:48:18.432Z"
   },
   {
    "duration": 62,
    "start_time": "2023-04-30T18:48:18.467Z"
   },
   {
    "duration": 263,
    "start_time": "2023-04-30T18:48:18.531Z"
   },
   {
    "duration": 11,
    "start_time": "2023-04-30T18:48:18.795Z"
   },
   {
    "duration": 53,
    "start_time": "2023-04-30T18:48:18.807Z"
   },
   {
    "duration": 694,
    "start_time": "2023-04-30T18:48:18.862Z"
   },
   {
    "duration": 17,
    "start_time": "2023-04-30T18:48:19.563Z"
   },
   {
    "duration": 30,
    "start_time": "2023-04-30T18:48:19.582Z"
   },
   {
    "duration": 44,
    "start_time": "2023-04-30T18:48:19.614Z"
   },
   {
    "duration": 14,
    "start_time": "2023-04-30T18:48:19.663Z"
   },
   {
    "duration": 1109,
    "start_time": "2023-04-30T18:48:19.680Z"
   },
   {
    "duration": 146,
    "start_time": "2023-04-30T18:48:20.791Z"
   },
   {
    "duration": 16,
    "start_time": "2023-04-30T18:48:20.941Z"
   },
   {
    "duration": 63,
    "start_time": "2023-04-30T18:48:20.960Z"
   },
   {
    "duration": 32,
    "start_time": "2023-04-30T18:48:21.025Z"
   },
   {
    "duration": 21,
    "start_time": "2023-04-30T18:48:21.065Z"
   },
   {
    "duration": 29,
    "start_time": "2023-04-30T18:48:21.088Z"
   },
   {
    "duration": 96,
    "start_time": "2023-04-30T18:48:21.118Z"
   },
   {
    "duration": 95,
    "start_time": "2023-04-30T18:48:21.216Z"
   },
   {
    "duration": 71,
    "start_time": "2023-04-30T18:48:21.313Z"
   },
   {
    "duration": 34,
    "start_time": "2023-04-30T18:48:21.386Z"
   },
   {
    "duration": 66,
    "start_time": "2023-04-30T18:48:21.422Z"
   },
   {
    "duration": 14,
    "start_time": "2023-04-30T18:48:21.491Z"
   },
   {
    "duration": 293,
    "start_time": "2023-04-30T18:48:21.507Z"
   },
   {
    "duration": 68,
    "start_time": "2023-04-30T18:48:21.804Z"
   },
   {
    "duration": 8,
    "start_time": "2023-04-30T18:48:21.875Z"
   },
   {
    "duration": 24,
    "start_time": "2023-04-30T18:48:21.885Z"
   },
   {
    "duration": 1100,
    "start_time": "2023-04-30T18:48:21.911Z"
   },
   {
    "duration": 2,
    "start_time": "2023-04-30T18:48:23.013Z"
   },
   {
    "duration": 600,
    "start_time": "2023-04-30T18:48:23.017Z"
   },
   {
    "duration": 216,
    "start_time": "2023-04-30T18:48:23.618Z"
   },
   {
    "duration": 3,
    "start_time": "2023-04-30T18:48:23.836Z"
   },
   {
    "duration": 1025,
    "start_time": "2023-04-30T18:48:23.841Z"
   },
   {
    "duration": 5,
    "start_time": "2023-04-30T18:48:24.872Z"
   },
   {
    "duration": 1697,
    "start_time": "2023-04-30T18:49:30.782Z"
   },
   {
    "duration": 1116,
    "start_time": "2023-04-30T18:49:32.482Z"
   },
   {
    "duration": 1070,
    "start_time": "2023-04-30T18:49:33.600Z"
   },
   {
    "duration": 8,
    "start_time": "2023-04-30T18:49:34.676Z"
   },
   {
    "duration": 70,
    "start_time": "2023-04-30T18:49:34.687Z"
   },
   {
    "duration": 278,
    "start_time": "2023-04-30T18:49:34.759Z"
   },
   {
    "duration": 20,
    "start_time": "2023-04-30T18:49:35.040Z"
   },
   {
    "duration": 54,
    "start_time": "2023-04-30T18:49:35.062Z"
   },
   {
    "duration": 730,
    "start_time": "2023-04-30T18:49:35.119Z"
   },
   {
    "duration": 25,
    "start_time": "2023-04-30T18:49:35.857Z"
   },
   {
    "duration": 90,
    "start_time": "2023-04-30T18:49:35.887Z"
   },
   {
    "duration": 44,
    "start_time": "2023-04-30T18:49:35.981Z"
   },
   {
    "duration": 12,
    "start_time": "2023-04-30T18:49:36.028Z"
   },
   {
    "duration": 1144,
    "start_time": "2023-04-30T18:49:36.044Z"
   },
   {
    "duration": 165,
    "start_time": "2023-04-30T18:49:37.190Z"
   },
   {
    "duration": 14,
    "start_time": "2023-04-30T18:49:37.365Z"
   },
   {
    "duration": 24,
    "start_time": "2023-04-30T18:49:37.381Z"
   },
   {
    "duration": 33,
    "start_time": "2023-04-30T18:49:37.407Z"
   },
   {
    "duration": 14,
    "start_time": "2023-04-30T18:49:37.449Z"
   },
   {
    "duration": 34,
    "start_time": "2023-04-30T18:49:37.469Z"
   },
   {
    "duration": 82,
    "start_time": "2023-04-30T18:49:37.505Z"
   },
   {
    "duration": 87,
    "start_time": "2023-04-30T18:49:37.590Z"
   },
   {
    "duration": 41,
    "start_time": "2023-04-30T18:49:37.679Z"
   },
   {
    "duration": 60,
    "start_time": "2023-04-30T18:49:37.722Z"
   },
   {
    "duration": 36,
    "start_time": "2023-04-30T18:49:37.784Z"
   },
   {
    "duration": 16,
    "start_time": "2023-04-30T18:49:37.845Z"
   },
   {
    "duration": 319,
    "start_time": "2023-04-30T18:49:37.863Z"
   },
   {
    "duration": 43,
    "start_time": "2023-04-30T18:49:38.184Z"
   },
   {
    "duration": 44,
    "start_time": "2023-04-30T18:49:38.229Z"
   },
   {
    "duration": 34,
    "start_time": "2023-04-30T18:49:38.276Z"
   },
   {
    "duration": 1181,
    "start_time": "2023-04-30T18:49:38.313Z"
   },
   {
    "duration": 3,
    "start_time": "2023-04-30T18:49:39.496Z"
   },
   {
    "duration": 659,
    "start_time": "2023-04-30T18:49:39.502Z"
   },
   {
    "duration": 239385,
    "start_time": "2023-04-30T18:49:40.164Z"
   },
   {
    "duration": 6,
    "start_time": "2023-04-30T18:53:39.551Z"
   },
   {
    "duration": 914,
    "start_time": "2023-04-30T18:53:39.563Z"
   },
   {
    "duration": 13,
    "start_time": "2023-04-30T18:53:40.551Z"
   },
   {
    "duration": 428818,
    "start_time": "2023-04-30T18:53:40.643Z"
   },
   {
    "duration": 33754,
    "start_time": "2023-04-30T19:00:49.465Z"
   },
   {
    "duration": 421,
    "start_time": "2023-04-30T19:01:23.222Z"
   },
   {
    "duration": 15,
    "start_time": "2023-04-30T19:01:23.655Z"
   },
   {
    "duration": 1704,
    "start_time": "2023-04-30T19:08:19.385Z"
   },
   {
    "duration": 1087,
    "start_time": "2023-04-30T19:08:21.091Z"
   },
   {
    "duration": 1044,
    "start_time": "2023-04-30T19:08:22.181Z"
   },
   {
    "duration": 19,
    "start_time": "2023-04-30T19:08:23.229Z"
   },
   {
    "duration": 77,
    "start_time": "2023-04-30T19:08:23.250Z"
   },
   {
    "duration": 283,
    "start_time": "2023-04-30T19:08:23.329Z"
   },
   {
    "duration": 12,
    "start_time": "2023-04-30T19:08:23.614Z"
   },
   {
    "duration": 36,
    "start_time": "2023-04-30T19:08:23.641Z"
   },
   {
    "duration": 741,
    "start_time": "2023-04-30T19:08:23.680Z"
   },
   {
    "duration": 37,
    "start_time": "2023-04-30T19:08:24.426Z"
   },
   {
    "duration": 42,
    "start_time": "2023-04-30T19:08:24.469Z"
   },
   {
    "duration": 41,
    "start_time": "2023-04-30T19:08:24.514Z"
   },
   {
    "duration": 10,
    "start_time": "2023-04-30T19:08:24.557Z"
   },
   {
    "duration": 1071,
    "start_time": "2023-04-30T19:08:24.568Z"
   },
   {
    "duration": 149,
    "start_time": "2023-04-30T19:08:25.655Z"
   },
   {
    "duration": 38,
    "start_time": "2023-04-30T19:08:25.807Z"
   },
   {
    "duration": 37,
    "start_time": "2023-04-30T19:08:25.852Z"
   },
   {
    "duration": 29,
    "start_time": "2023-04-30T19:08:25.893Z"
   },
   {
    "duration": 11,
    "start_time": "2023-04-30T19:08:25.924Z"
   },
   {
    "duration": 63,
    "start_time": "2023-04-30T19:08:25.945Z"
   },
   {
    "duration": 93,
    "start_time": "2023-04-30T19:08:26.011Z"
   },
   {
    "duration": 93,
    "start_time": "2023-04-30T19:08:26.108Z"
   },
   {
    "duration": 63,
    "start_time": "2023-04-30T19:08:26.203Z"
   },
   {
    "duration": 37,
    "start_time": "2023-04-30T19:08:26.268Z"
   },
   {
    "duration": 64,
    "start_time": "2023-04-30T19:08:26.307Z"
   },
   {
    "duration": 14,
    "start_time": "2023-04-30T19:08:26.373Z"
   },
   {
    "duration": 300,
    "start_time": "2023-04-30T19:08:26.389Z"
   },
   {
    "duration": 83,
    "start_time": "2023-04-30T19:08:26.694Z"
   },
   {
    "duration": 11,
    "start_time": "2023-04-30T19:08:26.779Z"
   },
   {
    "duration": 17,
    "start_time": "2023-04-30T19:08:26.792Z"
   },
   {
    "duration": 1194,
    "start_time": "2023-04-30T19:08:26.811Z"
   },
   {
    "duration": 4,
    "start_time": "2023-04-30T19:08:28.007Z"
   },
   {
    "duration": 587,
    "start_time": "2023-04-30T19:08:28.013Z"
   },
   {
    "duration": 155849,
    "start_time": "2023-04-30T19:08:28.602Z"
   },
   {
    "duration": 3,
    "start_time": "2023-04-30T19:11:04.455Z"
   },
   {
    "duration": 991,
    "start_time": "2023-04-30T19:11:04.461Z"
   },
   {
    "duration": 9,
    "start_time": "2023-04-30T19:11:05.540Z"
   },
   {
    "duration": 417281,
    "start_time": "2023-04-30T19:11:05.555Z"
   },
   {
    "duration": 32215,
    "start_time": "2023-04-30T19:18:02.838Z"
   },
   {
    "duration": 389,
    "start_time": "2023-04-30T19:18:35.055Z"
   },
   {
    "duration": 3,
    "start_time": "2023-04-30T19:18:35.446Z"
   },
   {
    "duration": 403591,
    "start_time": "2023-04-30T19:18:35.450Z"
   },
   {
    "duration": 31370,
    "start_time": "2023-04-30T19:25:19.043Z"
   },
   {
    "duration": 193,
    "start_time": "2023-04-30T19:25:50.415Z"
   },
   {
    "duration": 3,
    "start_time": "2023-04-30T19:25:50.610Z"
   },
   {
    "duration": 37,
    "start_time": "2023-04-30T19:25:50.615Z"
   },
   {
    "duration": 1,
    "start_time": "2023-04-30T19:25:50.654Z"
   },
   {
    "duration": 0,
    "start_time": "2023-04-30T19:25:50.656Z"
   },
   {
    "duration": 0,
    "start_time": "2023-04-30T19:25:50.657Z"
   },
   {
    "duration": 0,
    "start_time": "2023-04-30T19:25:50.658Z"
   },
   {
    "duration": 0,
    "start_time": "2023-04-30T19:25:50.659Z"
   },
   {
    "duration": 0,
    "start_time": "2023-04-30T19:25:50.660Z"
   },
   {
    "duration": 0,
    "start_time": "2023-04-30T19:25:50.661Z"
   },
   {
    "duration": 0,
    "start_time": "2023-04-30T19:25:50.662Z"
   },
   {
    "duration": 0,
    "start_time": "2023-04-30T19:25:50.663Z"
   },
   {
    "duration": 0,
    "start_time": "2023-04-30T19:25:50.664Z"
   },
   {
    "duration": 0,
    "start_time": "2023-04-30T19:25:50.666Z"
   },
   {
    "duration": 0,
    "start_time": "2023-04-30T19:25:50.667Z"
   },
   {
    "duration": 35,
    "start_time": "2023-04-30T19:26:58.785Z"
   },
   {
    "duration": 24,
    "start_time": "2023-04-30T19:29:01.098Z"
   },
   {
    "duration": 1815,
    "start_time": "2023-05-01T13:36:16.608Z"
   },
   {
    "duration": 1326,
    "start_time": "2023-05-01T13:36:18.425Z"
   },
   {
    "duration": 1052,
    "start_time": "2023-05-01T13:36:19.753Z"
   },
   {
    "duration": 6,
    "start_time": "2023-05-01T13:36:20.808Z"
   },
   {
    "duration": 52,
    "start_time": "2023-05-01T13:36:20.815Z"
   },
   {
    "duration": 252,
    "start_time": "2023-05-01T13:36:20.874Z"
   },
   {
    "duration": 10,
    "start_time": "2023-05-01T13:36:21.128Z"
   },
   {
    "duration": 38,
    "start_time": "2023-05-01T13:36:21.140Z"
   },
   {
    "duration": 612,
    "start_time": "2023-05-01T13:36:21.181Z"
   },
   {
    "duration": 14,
    "start_time": "2023-05-01T13:36:21.797Z"
   },
   {
    "duration": 28,
    "start_time": "2023-05-01T13:36:21.813Z"
   },
   {
    "duration": 43,
    "start_time": "2023-05-01T13:36:21.843Z"
   },
   {
    "duration": 12,
    "start_time": "2023-05-01T13:36:21.888Z"
   },
   {
    "duration": 913,
    "start_time": "2023-05-01T13:36:21.901Z"
   },
   {
    "duration": 106,
    "start_time": "2023-05-01T13:36:22.815Z"
   },
   {
    "duration": 8,
    "start_time": "2023-05-01T13:36:22.923Z"
   },
   {
    "duration": 32,
    "start_time": "2023-05-01T13:36:22.932Z"
   },
   {
    "duration": 31,
    "start_time": "2023-05-01T13:36:22.969Z"
   },
   {
    "duration": 8,
    "start_time": "2023-05-01T13:36:23.003Z"
   },
   {
    "duration": 27,
    "start_time": "2023-05-01T13:36:23.013Z"
   },
   {
    "duration": 97,
    "start_time": "2023-05-01T13:36:23.041Z"
   },
   {
    "duration": 90,
    "start_time": "2023-05-01T13:36:23.140Z"
   },
   {
    "duration": 67,
    "start_time": "2023-05-01T13:36:23.232Z"
   },
   {
    "duration": 42,
    "start_time": "2023-05-01T13:36:23.301Z"
   },
   {
    "duration": 61,
    "start_time": "2023-05-01T13:36:23.345Z"
   },
   {
    "duration": 12,
    "start_time": "2023-05-01T13:36:23.408Z"
   },
   {
    "duration": 311,
    "start_time": "2023-05-01T13:36:23.421Z"
   },
   {
    "duration": 79,
    "start_time": "2023-05-01T13:36:23.736Z"
   },
   {
    "duration": 4,
    "start_time": "2023-05-01T13:36:23.817Z"
   },
   {
    "duration": 17,
    "start_time": "2023-05-01T13:36:23.822Z"
   },
   {
    "duration": 801,
    "start_time": "2023-05-01T13:36:23.842Z"
   },
   {
    "duration": 2,
    "start_time": "2023-05-01T13:36:24.645Z"
   },
   {
    "duration": 629,
    "start_time": "2023-05-01T13:36:24.659Z"
   },
   {
    "duration": 344998,
    "start_time": "2023-05-01T13:36:25.293Z"
   },
   {
    "duration": 6,
    "start_time": "2023-05-01T13:42:10.358Z"
   },
   {
    "duration": 906,
    "start_time": "2023-05-01T13:42:10.370Z"
   },
   {
    "duration": 9,
    "start_time": "2023-05-01T13:42:11.360Z"
   },
   {
    "duration": 403953,
    "start_time": "2023-05-01T13:42:11.374Z"
   },
   {
    "duration": 30765,
    "start_time": "2023-05-01T13:48:55.329Z"
   },
   {
    "duration": 404,
    "start_time": "2023-05-01T13:49:26.095Z"
   },
   {
    "duration": 3,
    "start_time": "2023-05-01T13:49:26.503Z"
   },
   {
    "duration": 396894,
    "start_time": "2023-05-01T13:49:26.508Z"
   },
   {
    "duration": 30119,
    "start_time": "2023-05-01T13:56:03.407Z"
   },
   {
    "duration": 440,
    "start_time": "2023-05-01T13:56:33.528Z"
   },
   {
    "duration": 6,
    "start_time": "2023-05-01T13:56:33.976Z"
   },
   {
    "duration": 5508,
    "start_time": "2023-05-01T14:57:52.066Z"
   },
   {
    "duration": 8587,
    "start_time": "2023-05-01T14:57:57.576Z"
   },
   {
    "duration": 8107,
    "start_time": "2023-05-01T14:58:06.171Z"
   },
   {
    "duration": 81,
    "start_time": "2023-05-01T14:58:14.280Z"
   },
   {
    "duration": 408,
    "start_time": "2023-05-01T14:58:14.364Z"
   },
   {
    "duration": 2394,
    "start_time": "2023-05-01T14:58:14.780Z"
   },
   {
    "duration": 101,
    "start_time": "2023-05-01T14:58:17.176Z"
   },
   {
    "duration": 388,
    "start_time": "2023-05-01T14:58:17.279Z"
   },
   {
    "duration": 6396,
    "start_time": "2023-05-01T14:58:17.675Z"
   },
   {
    "duration": 96,
    "start_time": "2023-05-01T14:58:24.080Z"
   },
   {
    "duration": 292,
    "start_time": "2023-05-01T14:58:24.178Z"
   },
   {
    "duration": 194,
    "start_time": "2023-05-01T14:58:24.473Z"
   },
   {
    "duration": 102,
    "start_time": "2023-05-01T14:58:24.670Z"
   },
   {
    "duration": 5411,
    "start_time": "2023-05-01T14:58:24.776Z"
   },
   {
    "duration": 274,
    "start_time": "2023-05-01T14:58:30.189Z"
   },
   {
    "duration": 14,
    "start_time": "2023-05-01T14:58:30.466Z"
   },
   {
    "duration": 82,
    "start_time": "2023-05-01T14:58:30.482Z"
   },
   {
    "duration": 23,
    "start_time": "2023-05-01T14:58:30.572Z"
   },
   {
    "duration": 69,
    "start_time": "2023-05-01T14:58:30.597Z"
   },
   {
    "duration": 114,
    "start_time": "2023-05-01T14:58:30.668Z"
   },
   {
    "duration": 203,
    "start_time": "2023-05-01T14:58:30.784Z"
   },
   {
    "duration": 194,
    "start_time": "2023-05-01T14:58:30.990Z"
   },
   {
    "duration": 108,
    "start_time": "2023-05-01T14:58:31.186Z"
   },
   {
    "duration": 102,
    "start_time": "2023-05-01T14:58:31.296Z"
   },
   {
    "duration": 165,
    "start_time": "2023-05-01T14:58:31.400Z"
   },
   {
    "duration": 196,
    "start_time": "2023-05-01T14:58:31.567Z"
   },
   {
    "duration": 2492,
    "start_time": "2023-05-01T14:58:31.766Z"
   },
   {
    "duration": 512,
    "start_time": "2023-05-01T14:58:34.265Z"
   },
   {
    "duration": 85,
    "start_time": "2023-05-01T14:58:34.778Z"
   },
   {
    "duration": 101,
    "start_time": "2023-05-01T14:58:34.870Z"
   },
   {
    "duration": 7398,
    "start_time": "2023-05-01T14:58:34.975Z"
   },
   {
    "duration": 6,
    "start_time": "2023-05-01T14:58:42.375Z"
   },
   {
    "duration": 6507,
    "start_time": "2023-05-01T14:58:42.463Z"
   },
   {
    "duration": 198301,
    "start_time": "2023-05-01T14:58:48.978Z"
   },
   {
    "duration": 3,
    "start_time": "2023-05-01T15:02:07.358Z"
   },
   {
    "duration": 1112,
    "start_time": "2023-05-01T15:02:07.363Z"
   },
   {
    "duration": 77,
    "start_time": "2023-05-01T15:02:08.483Z"
   },
   {
    "duration": 786309,
    "start_time": "2023-05-01T15:02:08.562Z"
   },
   {
    "duration": 59901,
    "start_time": "2023-05-01T15:15:14.882Z"
   },
   {
    "duration": 801,
    "start_time": "2023-05-01T15:16:14.785Z"
   },
   {
    "duration": 2,
    "start_time": "2023-05-01T15:16:15.591Z"
   },
   {
    "duration": 804616,
    "start_time": "2023-05-01T15:16:15.595Z"
   },
   {
    "duration": 155459,
    "start_time": "2023-05-01T15:29:40.213Z"
   },
   {
    "duration": 1512,
    "start_time": "2023-05-01T15:32:15.763Z"
   },
   {
    "duration": 9,
    "start_time": "2023-05-01T15:32:17.277Z"
   },
   {
    "duration": 7780,
    "start_time": "2023-05-01T18:07:03.511Z"
   },
   {
    "duration": 2785,
    "start_time": "2023-05-01T18:07:11.293Z"
   },
   {
    "duration": 667,
    "start_time": "2023-05-01T18:07:14.080Z"
   },
   {
    "duration": 5,
    "start_time": "2023-05-01T18:07:14.748Z"
   },
   {
    "duration": 43,
    "start_time": "2023-05-01T18:07:14.755Z"
   },
   {
    "duration": 190,
    "start_time": "2023-05-01T18:07:14.799Z"
   },
   {
    "duration": 8,
    "start_time": "2023-05-01T18:07:14.991Z"
   },
   {
    "duration": 26,
    "start_time": "2023-05-01T18:07:15.000Z"
   },
   {
    "duration": 561,
    "start_time": "2023-05-01T18:07:15.027Z"
   },
   {
    "duration": 10,
    "start_time": "2023-05-01T18:07:15.590Z"
   },
   {
    "duration": 39,
    "start_time": "2023-05-01T18:07:15.601Z"
   },
   {
    "duration": 21,
    "start_time": "2023-05-01T18:07:15.641Z"
   },
   {
    "duration": 7,
    "start_time": "2023-05-01T18:07:15.672Z"
   },
   {
    "duration": 770,
    "start_time": "2023-05-01T18:07:15.681Z"
   },
   {
    "duration": 86,
    "start_time": "2023-05-01T18:07:16.452Z"
   },
   {
    "duration": 11,
    "start_time": "2023-05-01T18:07:16.540Z"
   },
   {
    "duration": 26,
    "start_time": "2023-05-01T18:07:16.553Z"
   },
   {
    "duration": 24,
    "start_time": "2023-05-01T18:07:16.580Z"
   },
   {
    "duration": 6,
    "start_time": "2023-05-01T18:07:16.606Z"
   },
   {
    "duration": 33,
    "start_time": "2023-05-01T18:07:16.614Z"
   },
   {
    "duration": 61,
    "start_time": "2023-05-01T18:07:16.648Z"
   },
   {
    "duration": 66,
    "start_time": "2023-05-01T18:07:16.710Z"
   },
   {
    "duration": 32,
    "start_time": "2023-05-01T18:07:16.778Z"
   },
   {
    "duration": 27,
    "start_time": "2023-05-01T18:07:16.812Z"
   },
   {
    "duration": 61,
    "start_time": "2023-05-01T18:07:16.841Z"
   },
   {
    "duration": 12,
    "start_time": "2023-05-01T18:07:16.904Z"
   },
   {
    "duration": 228,
    "start_time": "2023-05-01T18:07:16.917Z"
   },
   {
    "duration": 38,
    "start_time": "2023-05-01T18:07:17.147Z"
   },
   {
    "duration": 6,
    "start_time": "2023-05-01T18:07:17.186Z"
   },
   {
    "duration": 14,
    "start_time": "2023-05-01T18:07:17.193Z"
   },
   {
    "duration": 508,
    "start_time": "2023-05-01T18:07:17.208Z"
   },
   {
    "duration": 3,
    "start_time": "2023-05-01T18:07:17.717Z"
   },
   {
    "duration": 417,
    "start_time": "2023-05-01T18:07:17.722Z"
   },
   {
    "duration": 78639,
    "start_time": "2023-05-01T18:07:18.141Z"
   },
   {
    "duration": 2,
    "start_time": "2023-05-01T18:08:36.782Z"
   },
   {
    "duration": 921,
    "start_time": "2023-05-01T18:08:36.871Z"
   },
   {
    "duration": 3,
    "start_time": "2023-05-01T18:08:37.793Z"
   },
   {
    "duration": 24038,
    "start_time": "2023-05-01T18:14:06.402Z"
   },
   {
    "duration": 389,
    "start_time": "2023-05-01T18:14:30.442Z"
   },
   {
    "duration": 3,
    "start_time": "2023-05-01T18:14:30.836Z"
   },
   {
    "duration": 320393,
    "start_time": "2023-05-01T18:14:30.840Z"
   },
   {
    "duration": 26376,
    "start_time": "2023-05-01T18:19:51.234Z"
   },
   {
    "duration": 194,
    "start_time": "2023-05-01T18:20:17.612Z"
   },
   {
    "duration": 2,
    "start_time": "2023-05-01T18:20:17.807Z"
   },
   {
    "duration": 1282061,
    "start_time": "2023-05-01T18:20:17.811Z"
   },
   {
    "duration": 5608,
    "start_time": "2023-05-01T18:41:39.873Z"
   },
   {
    "duration": 2117,
    "start_time": "2023-05-01T18:41:45.573Z"
   },
   {
    "duration": 2,
    "start_time": "2023-05-01T18:41:47.692Z"
   },
   {
    "duration": 3255078,
    "start_time": "2023-05-01T18:41:47.696Z"
   },
   {
    "duration": 4103,
    "start_time": "2023-05-01T19:36:02.775Z"
   },
   {
    "duration": 1525,
    "start_time": "2023-05-01T19:36:06.880Z"
   },
   {
    "duration": 67,
    "start_time": "2023-05-01T19:36:08.406Z"
   },
   {
    "duration": 19,
    "start_time": "2023-05-01T19:36:08.474Z"
   },
   {
    "duration": 23187,
    "start_time": "2023-05-01T19:36:08.494Z"
   },
   {
    "duration": 109,
    "start_time": "2023-05-01T19:36:31.683Z"
   },
   {
    "duration": 5,
    "start_time": "2023-05-01T19:36:31.793Z"
   },
   {
    "duration": 121,
    "start_time": "2023-05-01T19:36:31.799Z"
   },
   {
    "duration": 46,
    "start_time": "2023-05-01T20:34:56.395Z"
   },
   {
    "duration": 8,
    "start_time": "2023-05-01T20:35:58.026Z"
   }
  ],
  "kernelspec": {
   "display_name": "Python 3 (ipykernel)",
   "language": "python",
   "name": "python3"
  },
  "language_info": {
   "codemirror_mode": {
    "name": "ipython",
    "version": 3
   },
   "file_extension": ".py",
   "mimetype": "text/x-python",
   "name": "python",
   "nbconvert_exporter": "python",
   "pygments_lexer": "ipython3",
   "version": "3.9.5"
  },
  "toc": {
   "base_numbering": 1,
   "nav_menu": {},
   "number_sections": true,
   "sideBar": true,
   "skip_h1_title": true,
   "title_cell": "Table of Contents",
   "title_sidebar": "Contents",
   "toc_cell": false,
   "toc_position": {
    "height": "calc(100% - 180px)",
    "left": "10px",
    "top": "150px",
    "width": "165px"
   },
   "toc_section_display": true,
   "toc_window_display": true
  }
 },
 "nbformat": 4,
 "nbformat_minor": 2
}
