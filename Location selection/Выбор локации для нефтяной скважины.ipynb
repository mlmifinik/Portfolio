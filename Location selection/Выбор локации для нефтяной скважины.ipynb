{
 "cells": [
  {
   "cell_type": "markdown",
   "metadata": {},
   "source": [
    "# Выбор локации для скважины"
   ]
  },
  {
   "cell_type": "markdown",
   "metadata": {},
   "source": [
    "Допустим, вы работаете в добывающей компании «ГлавРосГосНефть». Нужно решить, где бурить новую скважину.\n",
    "\n",
    "Вам предоставлены пробы нефти в трёх регионах: в каждом 10 000 месторождений, где измерили качество нефти и объём её запасов. Постройте модель машинного обучения, которая поможет определить регион, где добыча принесёт наибольшую прибыль. Проанализируйте возможную прибыль и риски техникой *Bootstrap.*\n",
    "\n",
    "Шаги для выбора локации:\n",
    "\n",
    "- В избранном регионе ищут месторождения, для каждого определяют значения признаков;\n",
    "- Строят модель и оценивают объём запасов;\n",
    "- Выбирают месторождения с самым высокими оценками значений. Количество месторождений зависит от бюджета компании и стоимости разработки одной скважины;\n",
    "- Прибыль равна суммарной прибыли отобранных месторождений."
   ]
  },
  {
   "cell_type": "markdown",
   "metadata": {},
   "source": [
    "## Загрузка и подготовка данных"
   ]
  },
  {
   "cell_type": "code",
   "execution_count": 1,
   "metadata": {},
   "outputs": [],
   "source": [
    "#библиотеки\n",
    "import pandas as pd\n",
    "import numpy as np\n",
    "\n",
    "from sklearn.model_selection import train_test_split\n",
    "from sklearn.linear_model import LinearRegression\n",
    "from sklearn.metrics import mean_squared_error\n",
    "from numpy.random import RandomState\n",
    "import warnings\n",
    "\n",
    "from scipy import stats"
   ]
  },
  {
   "cell_type": "code",
   "execution_count": 2,
   "metadata": {},
   "outputs": [],
   "source": [
    "#загружаем данные геологоразведки\n",
    "data_0 = pd.read_csv('/datasets/geo_data_0.csv')\n",
    "data_1 = pd.read_csv('/datasets/geo_data_1.csv')\n",
    "data_2 = pd.read_csv('/datasets/geo_data_2.csv')"
   ]
  },
  {
   "cell_type": "code",
   "execution_count": 3,
   "metadata": {},
   "outputs": [
    {
     "name": "stdout",
     "output_type": "stream",
     "text": [
      "<class 'pandas.core.frame.DataFrame'>\n",
      "RangeIndex: 100000 entries, 0 to 99999\n",
      "Data columns (total 5 columns):\n",
      " #   Column   Non-Null Count   Dtype  \n",
      "---  ------   --------------   -----  \n",
      " 0   id       100000 non-null  object \n",
      " 1   f0       100000 non-null  float64\n",
      " 2   f1       100000 non-null  float64\n",
      " 3   f2       100000 non-null  float64\n",
      " 4   product  100000 non-null  float64\n",
      "dtypes: float64(4), object(1)\n",
      "memory usage: 3.8+ MB\n",
      "<class 'pandas.core.frame.DataFrame'>\n",
      "RangeIndex: 100000 entries, 0 to 99999\n",
      "Data columns (total 5 columns):\n",
      " #   Column   Non-Null Count   Dtype  \n",
      "---  ------   --------------   -----  \n",
      " 0   id       100000 non-null  object \n",
      " 1   f0       100000 non-null  float64\n",
      " 2   f1       100000 non-null  float64\n",
      " 3   f2       100000 non-null  float64\n",
      " 4   product  100000 non-null  float64\n",
      "dtypes: float64(4), object(1)\n",
      "memory usage: 3.8+ MB\n",
      "<class 'pandas.core.frame.DataFrame'>\n",
      "RangeIndex: 100000 entries, 0 to 99999\n",
      "Data columns (total 5 columns):\n",
      " #   Column   Non-Null Count   Dtype  \n",
      "---  ------   --------------   -----  \n",
      " 0   id       100000 non-null  object \n",
      " 1   f0       100000 non-null  float64\n",
      " 2   f1       100000 non-null  float64\n",
      " 3   f2       100000 non-null  float64\n",
      " 4   product  100000 non-null  float64\n",
      "dtypes: float64(4), object(1)\n",
      "memory usage: 3.8+ MB\n"
     ]
    },
    {
     "data": {
      "text/plain": [
       "(None, None, None)"
      ]
     },
     "execution_count": 3,
     "metadata": {},
     "output_type": "execute_result"
    }
   ],
   "source": [
    "#оценим информацию о данных\n",
    "data_0.info(), data_1.info(), data_2.info()"
   ]
  },
  {
   "cell_type": "code",
   "execution_count": 4,
   "metadata": {},
   "outputs": [
    {
     "data": {
      "text/html": [
       "<div>\n",
       "<style scoped>\n",
       "    .dataframe tbody tr th:only-of-type {\n",
       "        vertical-align: middle;\n",
       "    }\n",
       "\n",
       "    .dataframe tbody tr th {\n",
       "        vertical-align: top;\n",
       "    }\n",
       "\n",
       "    .dataframe thead th {\n",
       "        text-align: right;\n",
       "    }\n",
       "</style>\n",
       "<table border=\"1\" class=\"dataframe\">\n",
       "  <thead>\n",
       "    <tr style=\"text-align: right;\">\n",
       "      <th></th>\n",
       "      <th>id</th>\n",
       "      <th>f0</th>\n",
       "      <th>f1</th>\n",
       "      <th>f2</th>\n",
       "      <th>product</th>\n",
       "    </tr>\n",
       "  </thead>\n",
       "  <tbody>\n",
       "    <tr>\n",
       "      <th>0</th>\n",
       "      <td>txEyH</td>\n",
       "      <td>0.705745</td>\n",
       "      <td>-0.497823</td>\n",
       "      <td>1.221170</td>\n",
       "      <td>105.280062</td>\n",
       "    </tr>\n",
       "    <tr>\n",
       "      <th>1</th>\n",
       "      <td>2acmU</td>\n",
       "      <td>1.334711</td>\n",
       "      <td>-0.340164</td>\n",
       "      <td>4.365080</td>\n",
       "      <td>73.037750</td>\n",
       "    </tr>\n",
       "    <tr>\n",
       "      <th>2</th>\n",
       "      <td>409Wp</td>\n",
       "      <td>1.022732</td>\n",
       "      <td>0.151990</td>\n",
       "      <td>1.419926</td>\n",
       "      <td>85.265647</td>\n",
       "    </tr>\n",
       "    <tr>\n",
       "      <th>3</th>\n",
       "      <td>iJLyR</td>\n",
       "      <td>-0.032172</td>\n",
       "      <td>0.139033</td>\n",
       "      <td>2.978566</td>\n",
       "      <td>168.620776</td>\n",
       "    </tr>\n",
       "    <tr>\n",
       "      <th>4</th>\n",
       "      <td>Xdl7t</td>\n",
       "      <td>1.988431</td>\n",
       "      <td>0.155413</td>\n",
       "      <td>4.751769</td>\n",
       "      <td>154.036647</td>\n",
       "    </tr>\n",
       "  </tbody>\n",
       "</table>\n",
       "</div>"
      ],
      "text/plain": [
       "      id        f0        f1        f2     product\n",
       "0  txEyH  0.705745 -0.497823  1.221170  105.280062\n",
       "1  2acmU  1.334711 -0.340164  4.365080   73.037750\n",
       "2  409Wp  1.022732  0.151990  1.419926   85.265647\n",
       "3  iJLyR -0.032172  0.139033  2.978566  168.620776\n",
       "4  Xdl7t  1.988431  0.155413  4.751769  154.036647"
      ]
     },
     "metadata": {},
     "output_type": "display_data"
    },
    {
     "data": {
      "text/html": [
       "<div>\n",
       "<style scoped>\n",
       "    .dataframe tbody tr th:only-of-type {\n",
       "        vertical-align: middle;\n",
       "    }\n",
       "\n",
       "    .dataframe tbody tr th {\n",
       "        vertical-align: top;\n",
       "    }\n",
       "\n",
       "    .dataframe thead th {\n",
       "        text-align: right;\n",
       "    }\n",
       "</style>\n",
       "<table border=\"1\" class=\"dataframe\">\n",
       "  <thead>\n",
       "    <tr style=\"text-align: right;\">\n",
       "      <th></th>\n",
       "      <th>id</th>\n",
       "      <th>f0</th>\n",
       "      <th>f1</th>\n",
       "      <th>f2</th>\n",
       "      <th>product</th>\n",
       "    </tr>\n",
       "  </thead>\n",
       "  <tbody>\n",
       "    <tr>\n",
       "      <th>0</th>\n",
       "      <td>kBEdx</td>\n",
       "      <td>-15.001348</td>\n",
       "      <td>-8.276000</td>\n",
       "      <td>-0.005876</td>\n",
       "      <td>3.179103</td>\n",
       "    </tr>\n",
       "    <tr>\n",
       "      <th>1</th>\n",
       "      <td>62mP7</td>\n",
       "      <td>14.272088</td>\n",
       "      <td>-3.475083</td>\n",
       "      <td>0.999183</td>\n",
       "      <td>26.953261</td>\n",
       "    </tr>\n",
       "    <tr>\n",
       "      <th>2</th>\n",
       "      <td>vyE1P</td>\n",
       "      <td>6.263187</td>\n",
       "      <td>-5.948386</td>\n",
       "      <td>5.001160</td>\n",
       "      <td>134.766305</td>\n",
       "    </tr>\n",
       "    <tr>\n",
       "      <th>3</th>\n",
       "      <td>KcrkZ</td>\n",
       "      <td>-13.081196</td>\n",
       "      <td>-11.506057</td>\n",
       "      <td>4.999415</td>\n",
       "      <td>137.945408</td>\n",
       "    </tr>\n",
       "    <tr>\n",
       "      <th>4</th>\n",
       "      <td>AHL4O</td>\n",
       "      <td>12.702195</td>\n",
       "      <td>-8.147433</td>\n",
       "      <td>5.004363</td>\n",
       "      <td>134.766305</td>\n",
       "    </tr>\n",
       "  </tbody>\n",
       "</table>\n",
       "</div>"
      ],
      "text/plain": [
       "      id         f0         f1        f2     product\n",
       "0  kBEdx -15.001348  -8.276000 -0.005876    3.179103\n",
       "1  62mP7  14.272088  -3.475083  0.999183   26.953261\n",
       "2  vyE1P   6.263187  -5.948386  5.001160  134.766305\n",
       "3  KcrkZ -13.081196 -11.506057  4.999415  137.945408\n",
       "4  AHL4O  12.702195  -8.147433  5.004363  134.766305"
      ]
     },
     "metadata": {},
     "output_type": "display_data"
    },
    {
     "data": {
      "text/html": [
       "<div>\n",
       "<style scoped>\n",
       "    .dataframe tbody tr th:only-of-type {\n",
       "        vertical-align: middle;\n",
       "    }\n",
       "\n",
       "    .dataframe tbody tr th {\n",
       "        vertical-align: top;\n",
       "    }\n",
       "\n",
       "    .dataframe thead th {\n",
       "        text-align: right;\n",
       "    }\n",
       "</style>\n",
       "<table border=\"1\" class=\"dataframe\">\n",
       "  <thead>\n",
       "    <tr style=\"text-align: right;\">\n",
       "      <th></th>\n",
       "      <th>id</th>\n",
       "      <th>f0</th>\n",
       "      <th>f1</th>\n",
       "      <th>f2</th>\n",
       "      <th>product</th>\n",
       "    </tr>\n",
       "  </thead>\n",
       "  <tbody>\n",
       "    <tr>\n",
       "      <th>0</th>\n",
       "      <td>fwXo0</td>\n",
       "      <td>-1.146987</td>\n",
       "      <td>0.963328</td>\n",
       "      <td>-0.828965</td>\n",
       "      <td>27.758673</td>\n",
       "    </tr>\n",
       "    <tr>\n",
       "      <th>1</th>\n",
       "      <td>WJtFt</td>\n",
       "      <td>0.262778</td>\n",
       "      <td>0.269839</td>\n",
       "      <td>-2.530187</td>\n",
       "      <td>56.069697</td>\n",
       "    </tr>\n",
       "    <tr>\n",
       "      <th>2</th>\n",
       "      <td>ovLUW</td>\n",
       "      <td>0.194587</td>\n",
       "      <td>0.289035</td>\n",
       "      <td>-5.586433</td>\n",
       "      <td>62.871910</td>\n",
       "    </tr>\n",
       "    <tr>\n",
       "      <th>3</th>\n",
       "      <td>q6cA6</td>\n",
       "      <td>2.236060</td>\n",
       "      <td>-0.553760</td>\n",
       "      <td>0.930038</td>\n",
       "      <td>114.572842</td>\n",
       "    </tr>\n",
       "    <tr>\n",
       "      <th>4</th>\n",
       "      <td>WPMUX</td>\n",
       "      <td>-0.515993</td>\n",
       "      <td>1.716266</td>\n",
       "      <td>5.899011</td>\n",
       "      <td>149.600746</td>\n",
       "    </tr>\n",
       "  </tbody>\n",
       "</table>\n",
       "</div>"
      ],
      "text/plain": [
       "      id        f0        f1        f2     product\n",
       "0  fwXo0 -1.146987  0.963328 -0.828965   27.758673\n",
       "1  WJtFt  0.262778  0.269839 -2.530187   56.069697\n",
       "2  ovLUW  0.194587  0.289035 -5.586433   62.871910\n",
       "3  q6cA6  2.236060 -0.553760  0.930038  114.572842\n",
       "4  WPMUX -0.515993  1.716266  5.899011  149.600746"
      ]
     },
     "metadata": {},
     "output_type": "display_data"
    }
   ],
   "source": [
    "#посмотрим на датасеты\n",
    "display(data_0.head(), data_1.head(), data_2.head())"
   ]
  },
  {
   "cell_type": "code",
   "execution_count": 5,
   "metadata": {},
   "outputs": [],
   "source": [
    "#учитывая описание данных, столбец id  неинформативен и будет лишним в обучении моделей, удалим его\n",
    "data_0 = data_0.drop(['id'], axis=1)\n",
    "data_1 = data_1.drop(['id'], axis=1)\n",
    "data_2 = data_2.drop(['id'], axis=1)"
   ]
  },
  {
   "cell_type": "code",
   "execution_count": 6,
   "metadata": {},
   "outputs": [
    {
     "data": {
      "text/plain": [
       "(0, 0, 0)"
      ]
     },
     "execution_count": 6,
     "metadata": {},
     "output_type": "execute_result"
    }
   ],
   "source": [
    "#проверим на явные дубликаты\n",
    "(data_0.duplicated().sum(), data_1.duplicated().sum(), data_2.duplicated().sum())"
   ]
  },
  {
   "cell_type": "code",
   "execution_count": 7,
   "metadata": {},
   "outputs": [
    {
     "data": {
      "text/plain": [
       "(f0         0\n",
       " f1         0\n",
       " f2         0\n",
       " product    0\n",
       " dtype: int64,\n",
       " f0         0\n",
       " f1         0\n",
       " f2         0\n",
       " product    0\n",
       " dtype: int64,\n",
       " f0         0\n",
       " f1         0\n",
       " f2         0\n",
       " product    0\n",
       " dtype: int64)"
      ]
     },
     "execution_count": 7,
     "metadata": {},
     "output_type": "execute_result"
    }
   ],
   "source": [
    "#проверим на пропуски\n",
    "data_0.isna().sum(), data_1.isna().sum(), data_2.isna().sum()"
   ]
  },
  {
   "cell_type": "code",
   "execution_count": 8,
   "metadata": {},
   "outputs": [
    {
     "data": {
      "text/html": [
       "<div>\n",
       "<style scoped>\n",
       "    .dataframe tbody tr th:only-of-type {\n",
       "        vertical-align: middle;\n",
       "    }\n",
       "\n",
       "    .dataframe tbody tr th {\n",
       "        vertical-align: top;\n",
       "    }\n",
       "\n",
       "    .dataframe thead th {\n",
       "        text-align: right;\n",
       "    }\n",
       "</style>\n",
       "<table border=\"1\" class=\"dataframe\">\n",
       "  <thead>\n",
       "    <tr style=\"text-align: right;\">\n",
       "      <th></th>\n",
       "      <th>f0</th>\n",
       "      <th>f1</th>\n",
       "      <th>f2</th>\n",
       "      <th>product</th>\n",
       "    </tr>\n",
       "  </thead>\n",
       "  <tbody>\n",
       "    <tr>\n",
       "      <th>count</th>\n",
       "      <td>100000.000000</td>\n",
       "      <td>100000.000000</td>\n",
       "      <td>100000.000000</td>\n",
       "      <td>100000.000000</td>\n",
       "    </tr>\n",
       "    <tr>\n",
       "      <th>mean</th>\n",
       "      <td>0.500419</td>\n",
       "      <td>0.250143</td>\n",
       "      <td>2.502647</td>\n",
       "      <td>92.500000</td>\n",
       "    </tr>\n",
       "    <tr>\n",
       "      <th>std</th>\n",
       "      <td>0.871832</td>\n",
       "      <td>0.504433</td>\n",
       "      <td>3.248248</td>\n",
       "      <td>44.288691</td>\n",
       "    </tr>\n",
       "    <tr>\n",
       "      <th>min</th>\n",
       "      <td>-1.408605</td>\n",
       "      <td>-0.848218</td>\n",
       "      <td>-12.088328</td>\n",
       "      <td>0.000000</td>\n",
       "    </tr>\n",
       "    <tr>\n",
       "      <th>25%</th>\n",
       "      <td>-0.072580</td>\n",
       "      <td>-0.200881</td>\n",
       "      <td>0.287748</td>\n",
       "      <td>56.497507</td>\n",
       "    </tr>\n",
       "    <tr>\n",
       "      <th>50%</th>\n",
       "      <td>0.502360</td>\n",
       "      <td>0.250252</td>\n",
       "      <td>2.515969</td>\n",
       "      <td>91.849972</td>\n",
       "    </tr>\n",
       "    <tr>\n",
       "      <th>75%</th>\n",
       "      <td>1.073581</td>\n",
       "      <td>0.700646</td>\n",
       "      <td>4.715088</td>\n",
       "      <td>128.564089</td>\n",
       "    </tr>\n",
       "    <tr>\n",
       "      <th>max</th>\n",
       "      <td>2.362331</td>\n",
       "      <td>1.343769</td>\n",
       "      <td>16.003790</td>\n",
       "      <td>185.364347</td>\n",
       "    </tr>\n",
       "  </tbody>\n",
       "</table>\n",
       "</div>"
      ],
      "text/plain": [
       "                  f0             f1             f2        product\n",
       "count  100000.000000  100000.000000  100000.000000  100000.000000\n",
       "mean        0.500419       0.250143       2.502647      92.500000\n",
       "std         0.871832       0.504433       3.248248      44.288691\n",
       "min        -1.408605      -0.848218     -12.088328       0.000000\n",
       "25%        -0.072580      -0.200881       0.287748      56.497507\n",
       "50%         0.502360       0.250252       2.515969      91.849972\n",
       "75%         1.073581       0.700646       4.715088     128.564089\n",
       "max         2.362331       1.343769      16.003790     185.364347"
      ]
     },
     "metadata": {},
     "output_type": "display_data"
    },
    {
     "data": {
      "text/html": [
       "<div>\n",
       "<style scoped>\n",
       "    .dataframe tbody tr th:only-of-type {\n",
       "        vertical-align: middle;\n",
       "    }\n",
       "\n",
       "    .dataframe tbody tr th {\n",
       "        vertical-align: top;\n",
       "    }\n",
       "\n",
       "    .dataframe thead th {\n",
       "        text-align: right;\n",
       "    }\n",
       "</style>\n",
       "<table border=\"1\" class=\"dataframe\">\n",
       "  <thead>\n",
       "    <tr style=\"text-align: right;\">\n",
       "      <th></th>\n",
       "      <th>f0</th>\n",
       "      <th>f1</th>\n",
       "      <th>f2</th>\n",
       "      <th>product</th>\n",
       "    </tr>\n",
       "  </thead>\n",
       "  <tbody>\n",
       "    <tr>\n",
       "      <th>count</th>\n",
       "      <td>100000.000000</td>\n",
       "      <td>100000.000000</td>\n",
       "      <td>100000.000000</td>\n",
       "      <td>100000.000000</td>\n",
       "    </tr>\n",
       "    <tr>\n",
       "      <th>mean</th>\n",
       "      <td>1.141296</td>\n",
       "      <td>-4.796579</td>\n",
       "      <td>2.494541</td>\n",
       "      <td>68.825000</td>\n",
       "    </tr>\n",
       "    <tr>\n",
       "      <th>std</th>\n",
       "      <td>8.965932</td>\n",
       "      <td>5.119872</td>\n",
       "      <td>1.703572</td>\n",
       "      <td>45.944423</td>\n",
       "    </tr>\n",
       "    <tr>\n",
       "      <th>min</th>\n",
       "      <td>-31.609576</td>\n",
       "      <td>-26.358598</td>\n",
       "      <td>-0.018144</td>\n",
       "      <td>0.000000</td>\n",
       "    </tr>\n",
       "    <tr>\n",
       "      <th>25%</th>\n",
       "      <td>-6.298551</td>\n",
       "      <td>-8.267985</td>\n",
       "      <td>1.000021</td>\n",
       "      <td>26.953261</td>\n",
       "    </tr>\n",
       "    <tr>\n",
       "      <th>50%</th>\n",
       "      <td>1.153055</td>\n",
       "      <td>-4.813172</td>\n",
       "      <td>2.011479</td>\n",
       "      <td>57.085625</td>\n",
       "    </tr>\n",
       "    <tr>\n",
       "      <th>75%</th>\n",
       "      <td>8.621015</td>\n",
       "      <td>-1.332816</td>\n",
       "      <td>3.999904</td>\n",
       "      <td>107.813044</td>\n",
       "    </tr>\n",
       "    <tr>\n",
       "      <th>max</th>\n",
       "      <td>29.421755</td>\n",
       "      <td>18.734063</td>\n",
       "      <td>5.019721</td>\n",
       "      <td>137.945408</td>\n",
       "    </tr>\n",
       "  </tbody>\n",
       "</table>\n",
       "</div>"
      ],
      "text/plain": [
       "                  f0             f1             f2        product\n",
       "count  100000.000000  100000.000000  100000.000000  100000.000000\n",
       "mean        1.141296      -4.796579       2.494541      68.825000\n",
       "std         8.965932       5.119872       1.703572      45.944423\n",
       "min       -31.609576     -26.358598      -0.018144       0.000000\n",
       "25%        -6.298551      -8.267985       1.000021      26.953261\n",
       "50%         1.153055      -4.813172       2.011479      57.085625\n",
       "75%         8.621015      -1.332816       3.999904     107.813044\n",
       "max        29.421755      18.734063       5.019721     137.945408"
      ]
     },
     "metadata": {},
     "output_type": "display_data"
    },
    {
     "data": {
      "text/html": [
       "<div>\n",
       "<style scoped>\n",
       "    .dataframe tbody tr th:only-of-type {\n",
       "        vertical-align: middle;\n",
       "    }\n",
       "\n",
       "    .dataframe tbody tr th {\n",
       "        vertical-align: top;\n",
       "    }\n",
       "\n",
       "    .dataframe thead th {\n",
       "        text-align: right;\n",
       "    }\n",
       "</style>\n",
       "<table border=\"1\" class=\"dataframe\">\n",
       "  <thead>\n",
       "    <tr style=\"text-align: right;\">\n",
       "      <th></th>\n",
       "      <th>f0</th>\n",
       "      <th>f1</th>\n",
       "      <th>f2</th>\n",
       "      <th>product</th>\n",
       "    </tr>\n",
       "  </thead>\n",
       "  <tbody>\n",
       "    <tr>\n",
       "      <th>count</th>\n",
       "      <td>100000.000000</td>\n",
       "      <td>100000.000000</td>\n",
       "      <td>100000.000000</td>\n",
       "      <td>100000.000000</td>\n",
       "    </tr>\n",
       "    <tr>\n",
       "      <th>mean</th>\n",
       "      <td>0.002023</td>\n",
       "      <td>-0.002081</td>\n",
       "      <td>2.495128</td>\n",
       "      <td>95.000000</td>\n",
       "    </tr>\n",
       "    <tr>\n",
       "      <th>std</th>\n",
       "      <td>1.732045</td>\n",
       "      <td>1.730417</td>\n",
       "      <td>3.473445</td>\n",
       "      <td>44.749921</td>\n",
       "    </tr>\n",
       "    <tr>\n",
       "      <th>min</th>\n",
       "      <td>-8.760004</td>\n",
       "      <td>-7.084020</td>\n",
       "      <td>-11.970335</td>\n",
       "      <td>0.000000</td>\n",
       "    </tr>\n",
       "    <tr>\n",
       "      <th>25%</th>\n",
       "      <td>-1.162288</td>\n",
       "      <td>-1.174820</td>\n",
       "      <td>0.130359</td>\n",
       "      <td>59.450441</td>\n",
       "    </tr>\n",
       "    <tr>\n",
       "      <th>50%</th>\n",
       "      <td>0.009424</td>\n",
       "      <td>-0.009482</td>\n",
       "      <td>2.484236</td>\n",
       "      <td>94.925613</td>\n",
       "    </tr>\n",
       "    <tr>\n",
       "      <th>75%</th>\n",
       "      <td>1.158535</td>\n",
       "      <td>1.163678</td>\n",
       "      <td>4.858794</td>\n",
       "      <td>130.595027</td>\n",
       "    </tr>\n",
       "    <tr>\n",
       "      <th>max</th>\n",
       "      <td>7.238262</td>\n",
       "      <td>7.844801</td>\n",
       "      <td>16.739402</td>\n",
       "      <td>190.029838</td>\n",
       "    </tr>\n",
       "  </tbody>\n",
       "</table>\n",
       "</div>"
      ],
      "text/plain": [
       "                  f0             f1             f2        product\n",
       "count  100000.000000  100000.000000  100000.000000  100000.000000\n",
       "mean        0.002023      -0.002081       2.495128      95.000000\n",
       "std         1.732045       1.730417       3.473445      44.749921\n",
       "min        -8.760004      -7.084020     -11.970335       0.000000\n",
       "25%        -1.162288      -1.174820       0.130359      59.450441\n",
       "50%         0.009424      -0.009482       2.484236      94.925613\n",
       "75%         1.158535       1.163678       4.858794     130.595027\n",
       "max         7.238262       7.844801      16.739402     190.029838"
      ]
     },
     "metadata": {},
     "output_type": "display_data"
    }
   ],
   "source": [
    "#оценим распределение данных\n",
    "display(data_0.describe(), data_1.describe(), data_2.describe())"
   ]
  },
  {
   "cell_type": "code",
   "execution_count": 9,
   "metadata": {},
   "outputs": [
    {
     "data": {
      "text/html": [
       "<style  type=\"text/css\" >\n",
       "#T_7cbe8_row0_col0,#T_7cbe8_row1_col1,#T_7cbe8_row2_col2,#T_7cbe8_row3_col3{\n",
       "            background-color:  #b40426;\n",
       "            color:  #f1f1f1;\n",
       "        }#T_7cbe8_row0_col1,#T_7cbe8_row0_col2,#T_7cbe8_row1_col0,#T_7cbe8_row1_col3{\n",
       "            background-color:  #3b4cc0;\n",
       "            color:  #f1f1f1;\n",
       "        }#T_7cbe8_row0_col3{\n",
       "            background-color:  #98b9ff;\n",
       "            color:  #000000;\n",
       "        }#T_7cbe8_row1_col2{\n",
       "            background-color:  #3c4ec2;\n",
       "            color:  #f1f1f1;\n",
       "        }#T_7cbe8_row2_col0{\n",
       "            background-color:  #9fbfff;\n",
       "            color:  #000000;\n",
       "        }#T_7cbe8_row2_col1{\n",
       "            background-color:  #a1c0ff;\n",
       "            color:  #000000;\n",
       "        }#T_7cbe8_row2_col3{\n",
       "            background-color:  #edd2c3;\n",
       "            color:  #000000;\n",
       "        }#T_7cbe8_row3_col0{\n",
       "            background-color:  #c1d4f4;\n",
       "            color:  #000000;\n",
       "        }#T_7cbe8_row3_col1{\n",
       "            background-color:  #7295f4;\n",
       "            color:  #000000;\n",
       "        }#T_7cbe8_row3_col2{\n",
       "            background-color:  #d9dce1;\n",
       "            color:  #000000;\n",
       "        }</style><table id=\"T_7cbe8_\" ><thead>    <tr>        <th class=\"blank level0\" ></th>        <th class=\"col_heading level0 col0\" >f0</th>        <th class=\"col_heading level0 col1\" >f1</th>        <th class=\"col_heading level0 col2\" >f2</th>        <th class=\"col_heading level0 col3\" >product</th>    </tr></thead><tbody>\n",
       "                <tr>\n",
       "                        <th id=\"T_7cbe8_level0_row0\" class=\"row_heading level0 row0\" >f0</th>\n",
       "                        <td id=\"T_7cbe8_row0_col0\" class=\"data row0 col0\" >1.000000</td>\n",
       "                        <td id=\"T_7cbe8_row0_col1\" class=\"data row0 col1\" >-0.440723</td>\n",
       "                        <td id=\"T_7cbe8_row0_col2\" class=\"data row0 col2\" >-0.003153</td>\n",
       "                        <td id=\"T_7cbe8_row0_col3\" class=\"data row0 col3\" >0.143536</td>\n",
       "            </tr>\n",
       "            <tr>\n",
       "                        <th id=\"T_7cbe8_level0_row1\" class=\"row_heading level0 row1\" >f1</th>\n",
       "                        <td id=\"T_7cbe8_row1_col0\" class=\"data row1 col0\" >-0.440723</td>\n",
       "                        <td id=\"T_7cbe8_row1_col1\" class=\"data row1 col1\" >1.000000</td>\n",
       "                        <td id=\"T_7cbe8_row1_col2\" class=\"data row1 col2\" >0.001724</td>\n",
       "                        <td id=\"T_7cbe8_row1_col3\" class=\"data row1 col3\" >-0.192356</td>\n",
       "            </tr>\n",
       "            <tr>\n",
       "                        <th id=\"T_7cbe8_level0_row2\" class=\"row_heading level0 row2\" >f2</th>\n",
       "                        <td id=\"T_7cbe8_row2_col0\" class=\"data row2 col0\" >-0.003153</td>\n",
       "                        <td id=\"T_7cbe8_row2_col1\" class=\"data row2 col1\" >0.001724</td>\n",
       "                        <td id=\"T_7cbe8_row2_col2\" class=\"data row2 col2\" >1.000000</td>\n",
       "                        <td id=\"T_7cbe8_row2_col3\" class=\"data row2 col3\" >0.483663</td>\n",
       "            </tr>\n",
       "            <tr>\n",
       "                        <th id=\"T_7cbe8_level0_row3\" class=\"row_heading level0 row3\" >product</th>\n",
       "                        <td id=\"T_7cbe8_row3_col0\" class=\"data row3 col0\" >0.143536</td>\n",
       "                        <td id=\"T_7cbe8_row3_col1\" class=\"data row3 col1\" >-0.192356</td>\n",
       "                        <td id=\"T_7cbe8_row3_col2\" class=\"data row3 col2\" >0.483663</td>\n",
       "                        <td id=\"T_7cbe8_row3_col3\" class=\"data row3 col3\" >1.000000</td>\n",
       "            </tr>\n",
       "    </tbody></table>"
      ],
      "text/plain": [
       "<pandas.io.formats.style.Styler at 0x7f4ed0204fa0>"
      ]
     },
     "execution_count": 9,
     "metadata": {},
     "output_type": "execute_result"
    }
   ],
   "source": [
    "#оценим зависимость признаков\n",
    "data_0.corr().style.background_gradient(cmap='coolwarm')"
   ]
  },
  {
   "cell_type": "code",
   "execution_count": 10,
   "metadata": {},
   "outputs": [
    {
     "data": {
      "text/html": [
       "<style  type=\"text/css\" >\n",
       "#T_a7492_row0_col0,#T_a7492_row1_col1,#T_a7492_row2_col2,#T_a7492_row2_col3,#T_a7492_row3_col2,#T_a7492_row3_col3{\n",
       "            background-color:  #b40426;\n",
       "            color:  #f1f1f1;\n",
       "        }#T_a7492_row0_col1{\n",
       "            background-color:  #779af7;\n",
       "            color:  #000000;\n",
       "        }#T_a7492_row0_col2,#T_a7492_row0_col3,#T_a7492_row1_col2,#T_a7492_row3_col0,#T_a7492_row3_col1{\n",
       "            background-color:  #3b4cc0;\n",
       "            color:  #f1f1f1;\n",
       "        }#T_a7492_row1_col0{\n",
       "            background-color:  #7da0f9;\n",
       "            color:  #000000;\n",
       "        }#T_a7492_row1_col3{\n",
       "            background-color:  #4055c8;\n",
       "            color:  #f1f1f1;\n",
       "        }#T_a7492_row2_col0{\n",
       "            background-color:  #4358cb;\n",
       "            color:  #f1f1f1;\n",
       "        }#T_a7492_row2_col1{\n",
       "            background-color:  #3c4ec2;\n",
       "            color:  #f1f1f1;\n",
       "        }</style><table id=\"T_a7492_\" ><thead>    <tr>        <th class=\"blank level0\" ></th>        <th class=\"col_heading level0 col0\" >f0</th>        <th class=\"col_heading level0 col1\" >f1</th>        <th class=\"col_heading level0 col2\" >f2</th>        <th class=\"col_heading level0 col3\" >product</th>    </tr></thead><tbody>\n",
       "                <tr>\n",
       "                        <th id=\"T_a7492_level0_row0\" class=\"row_heading level0 row0\" >f0</th>\n",
       "                        <td id=\"T_a7492_row0_col0\" class=\"data row0 col0\" >1.000000</td>\n",
       "                        <td id=\"T_a7492_row0_col1\" class=\"data row0 col1\" >0.182287</td>\n",
       "                        <td id=\"T_a7492_row0_col2\" class=\"data row0 col2\" >-0.001777</td>\n",
       "                        <td id=\"T_a7492_row0_col3\" class=\"data row0 col3\" >-0.030491</td>\n",
       "            </tr>\n",
       "            <tr>\n",
       "                        <th id=\"T_a7492_level0_row1\" class=\"row_heading level0 row1\" >f1</th>\n",
       "                        <td id=\"T_a7492_row1_col0\" class=\"data row1 col0\" >0.182287</td>\n",
       "                        <td id=\"T_a7492_row1_col1\" class=\"data row1 col1\" >1.000000</td>\n",
       "                        <td id=\"T_a7492_row1_col2\" class=\"data row1 col2\" >-0.002595</td>\n",
       "                        <td id=\"T_a7492_row1_col3\" class=\"data row1 col3\" >-0.010155</td>\n",
       "            </tr>\n",
       "            <tr>\n",
       "                        <th id=\"T_a7492_level0_row2\" class=\"row_heading level0 row2\" >f2</th>\n",
       "                        <td id=\"T_a7492_row2_col0\" class=\"data row2 col0\" >-0.001777</td>\n",
       "                        <td id=\"T_a7492_row2_col1\" class=\"data row2 col1\" >-0.002595</td>\n",
       "                        <td id=\"T_a7492_row2_col2\" class=\"data row2 col2\" >1.000000</td>\n",
       "                        <td id=\"T_a7492_row2_col3\" class=\"data row2 col3\" >0.999397</td>\n",
       "            </tr>\n",
       "            <tr>\n",
       "                        <th id=\"T_a7492_level0_row3\" class=\"row_heading level0 row3\" >product</th>\n",
       "                        <td id=\"T_a7492_row3_col0\" class=\"data row3 col0\" >-0.030491</td>\n",
       "                        <td id=\"T_a7492_row3_col1\" class=\"data row3 col1\" >-0.010155</td>\n",
       "                        <td id=\"T_a7492_row3_col2\" class=\"data row3 col2\" >0.999397</td>\n",
       "                        <td id=\"T_a7492_row3_col3\" class=\"data row3 col3\" >1.000000</td>\n",
       "            </tr>\n",
       "    </tbody></table>"
      ],
      "text/plain": [
       "<pandas.io.formats.style.Styler at 0x7f4e4bf57940>"
      ]
     },
     "execution_count": 10,
     "metadata": {},
     "output_type": "execute_result"
    }
   ],
   "source": [
    "data_1.corr().style.background_gradient(cmap='coolwarm')"
   ]
  },
  {
   "cell_type": "code",
   "execution_count": 11,
   "metadata": {},
   "outputs": [
    {
     "data": {
      "text/html": [
       "<style  type=\"text/css\" >\n",
       "#T_14f94_row0_col0,#T_14f94_row1_col1,#T_14f94_row2_col2,#T_14f94_row3_col3{\n",
       "            background-color:  #b40426;\n",
       "            color:  #f1f1f1;\n",
       "        }#T_14f94_row0_col1,#T_14f94_row0_col2,#T_14f94_row0_col3,#T_14f94_row1_col0,#T_14f94_row1_col2,#T_14f94_row1_col3,#T_14f94_row2_col0,#T_14f94_row2_col1,#T_14f94_row3_col0,#T_14f94_row3_col1{\n",
       "            background-color:  #3b4cc0;\n",
       "            color:  #f1f1f1;\n",
       "        }#T_14f94_row2_col3,#T_14f94_row3_col2{\n",
       "            background-color:  #cedaeb;\n",
       "            color:  #000000;\n",
       "        }</style><table id=\"T_14f94_\" ><thead>    <tr>        <th class=\"blank level0\" ></th>        <th class=\"col_heading level0 col0\" >f0</th>        <th class=\"col_heading level0 col1\" >f1</th>        <th class=\"col_heading level0 col2\" >f2</th>        <th class=\"col_heading level0 col3\" >product</th>    </tr></thead><tbody>\n",
       "                <tr>\n",
       "                        <th id=\"T_14f94_level0_row0\" class=\"row_heading level0 row0\" >f0</th>\n",
       "                        <td id=\"T_14f94_row0_col0\" class=\"data row0 col0\" >1.000000</td>\n",
       "                        <td id=\"T_14f94_row0_col1\" class=\"data row0 col1\" >0.000528</td>\n",
       "                        <td id=\"T_14f94_row0_col2\" class=\"data row0 col2\" >-0.000448</td>\n",
       "                        <td id=\"T_14f94_row0_col3\" class=\"data row0 col3\" >-0.001987</td>\n",
       "            </tr>\n",
       "            <tr>\n",
       "                        <th id=\"T_14f94_level0_row1\" class=\"row_heading level0 row1\" >f1</th>\n",
       "                        <td id=\"T_14f94_row1_col0\" class=\"data row1 col0\" >0.000528</td>\n",
       "                        <td id=\"T_14f94_row1_col1\" class=\"data row1 col1\" >1.000000</td>\n",
       "                        <td id=\"T_14f94_row1_col2\" class=\"data row1 col2\" >0.000779</td>\n",
       "                        <td id=\"T_14f94_row1_col3\" class=\"data row1 col3\" >-0.001012</td>\n",
       "            </tr>\n",
       "            <tr>\n",
       "                        <th id=\"T_14f94_level0_row2\" class=\"row_heading level0 row2\" >f2</th>\n",
       "                        <td id=\"T_14f94_row2_col0\" class=\"data row2 col0\" >-0.000448</td>\n",
       "                        <td id=\"T_14f94_row2_col1\" class=\"data row2 col1\" >0.000779</td>\n",
       "                        <td id=\"T_14f94_row2_col2\" class=\"data row2 col2\" >1.000000</td>\n",
       "                        <td id=\"T_14f94_row2_col3\" class=\"data row2 col3\" >0.445871</td>\n",
       "            </tr>\n",
       "            <tr>\n",
       "                        <th id=\"T_14f94_level0_row3\" class=\"row_heading level0 row3\" >product</th>\n",
       "                        <td id=\"T_14f94_row3_col0\" class=\"data row3 col0\" >-0.001987</td>\n",
       "                        <td id=\"T_14f94_row3_col1\" class=\"data row3 col1\" >-0.001012</td>\n",
       "                        <td id=\"T_14f94_row3_col2\" class=\"data row3 col2\" >0.445871</td>\n",
       "                        <td id=\"T_14f94_row3_col3\" class=\"data row3 col3\" >1.000000</td>\n",
       "            </tr>\n",
       "    </tbody></table>"
      ],
      "text/plain": [
       "<pandas.io.formats.style.Styler at 0x7f4e4bf8e640>"
      ]
     },
     "execution_count": 11,
     "metadata": {},
     "output_type": "execute_result"
    }
   ],
   "source": [
    "data_2.corr().style.background_gradient(cmap='coolwarm')"
   ]
  },
  {
   "cell_type": "markdown",
   "metadata": {},
   "source": [
    "Матрицы корреляции показывают на среднюю зависимость показателя объёма запасов product и признака f2 в первом и третьем датасете и сильную (0.99) во втором датасете. Интересно."
   ]
  },
  {
   "cell_type": "code",
   "execution_count": 12,
   "metadata": {},
   "outputs": [
    {
     "data": {
      "text/plain": [
       "f0         100000\n",
       "f1         100000\n",
       "f2         100000\n",
       "product        12\n",
       "dtype: int64"
      ]
     },
     "execution_count": 12,
     "metadata": {},
     "output_type": "execute_result"
    }
   ],
   "source": [
    "#посмотрим на уникальные значения data_1\n",
    "data_1.nunique()"
   ]
  },
  {
   "cell_type": "markdown",
   "metadata": {},
   "source": [
    "Вывод. \n",
    "Данные загружены и обработаны. Пропусков и явных дубликатов нет. Столбец id удален ввиду не информативности. В результате по каждому региону датасет содержит 3 (три) значимых признака - f0, f1, f2 и 1 (один) целевой признак - product. Распределение данных в целом нормальное, о признаках нам ничего неизвестно, сформированы они алгоритмом и являются синтетическими. Матрицы корреляции показывают на среднюю зависимость показателя объёма запасов product от признака f2 в первом и третьем датасете и сильную (0.99) во втором датасете. Причина предварительно понятна - уникальных значений в колонке product всего 12, а столбец f2 имеет дисперсию значений от 0 до 5. "
   ]
  },
  {
   "cell_type": "markdown",
   "metadata": {},
   "source": [
    "## Обучение и проверка модели"
   ]
  },
  {
   "cell_type": "code",
   "execution_count": 13,
   "metadata": {},
   "outputs": [],
   "source": [
    "# Метод обучения модели и прогнозирования\n",
    "def model_lr(data):\n",
    "    # зададим целевой признак и подготовим данные\n",
    "    target = data['product']\n",
    "    features = data.drop(['product'], axis=1)\n",
    "    # Разбьём данные на обучающую и валидационную выборки в соотношении 75:25\n",
    "    features_train, features_valid, target_train,target_valid = \\\n",
    "    train_test_split(features, target, test_size=0.25, random_state=12345)\n",
    "    # инициируем модели линейной регрессии\n",
    "    model = LinearRegression()\n",
    "    # обучим модель\n",
    "    model.fit(features_train, target_train)\n",
    "    # сделаем прогнозы\n",
    "    predicted_valid = model.predict(features_valid)\n",
    "    # посчитаем rmse\n",
    "    rmse = mean_squared_error(target_valid, predicted_valid)**0.5\n",
    "    # посчитаем средний запас сырья\n",
    "    predicted_valid_mean = predicted_valid.sum()/len(predicted_valid)\n",
    "    return target_valid, predicted_valid, rmse, predicted_valid_mean"
   ]
  },
  {
   "cell_type": "code",
   "execution_count": 14,
   "metadata": {},
   "outputs": [],
   "source": [
    "#основные показатели для каждого региона\n",
    "target_valid_0, predicted_valid_0, rmse_0, predicted_valid_mean_0 = model_lr(data_0)\n",
    "target_valid_1, predicted_valid_1, rmse_1, predicted_valid_mean_1 = model_lr(data_1)\n",
    "target_valid_2, predicted_valid_2, rmse_2, predicted_valid_mean_2 = model_lr(data_2)"
   ]
  },
  {
   "cell_type": "code",
   "execution_count": 15,
   "metadata": {},
   "outputs": [
    {
     "name": "stdout",
     "output_type": "stream",
     "text": [
      "Регион_0. Средний запас сырья: 92.59256778438035 rmse: 37.5794217150813\n",
      "Регион_1. Средний запас сырья: 68.728546895446 rmse: 0.893099286775617\n",
      "Регион_2. Средний запас сырья: 94.96504596800489 rmse: 40.02970873393434\n"
     ]
    }
   ],
   "source": [
    "print('Регион_0. Средний запас сырья:', predicted_valid_mean_0, 'rmse:', rmse_0)\n",
    "print('Регион_1. Средний запас сырья:', predicted_valid_mean_1, 'rmse:', rmse_1)\n",
    "print('Регион_2. Средний запас сырья:', predicted_valid_mean_2, 'rmse:', rmse_2)"
   ]
  },
  {
   "cell_type": "markdown",
   "metadata": {},
   "source": [
    "Вывод. Модели обучены и проверены на качество предсказания метрикой RMSE, показателем среднего расстояния между прогнозируемыми значениями модели и фактическими значениями в наборе данных. Чем ниже RMSE, тем лучше модель может соответствовать набору данных. В результате предказанные средние запасы сырья по трем регионам примерно соответствуют средним фактическим, но, учитывая значения RMSE лучше себя показала модель для второго региона, на втором месте первый регион. Третий регион с самой большой RMSE на последнем месте. Принимая во внимание, что фактические средние запасы сырья во втором регионе сравнительно меньше запасов первого и третьего регионов, то для окончательных рекомендаций по выбору скважин необходимо рассчитать возможную прибыль и оценить риски."
   ]
  },
  {
   "cell_type": "markdown",
   "metadata": {},
   "source": [
    "## Подготовка к расчёту прибыли"
   ]
  },
  {
   "cell_type": "code",
   "execution_count": 16,
   "metadata": {},
   "outputs": [
    {
     "name": "stdout",
     "output_type": "stream",
     "text": [
      "Средний достаточный запас сырья: 111.111\n"
     ]
    }
   ],
   "source": [
    "#сохраним ключевые значения для расчётов в отдельных переменных\n",
    "total_points = 500\n",
    "best_dev=200\n",
    "budget = 10000000000\n",
    "income_per_unit = 450000\n",
    "income_per_barrel = 450\n",
    "threshold_percent = 2.5\n",
    "\n",
    "#рассчитаем средний объём сырья, достаточный для безубыточной разработки (тыс. баррелей)\n",
    "budget_per_well = budget / best_dev\n",
    "min_volume = budget_per_well / income_per_unit\n",
    "print('Средний достаточный запас сырья:', round(min_volume, 3))"
   ]
  },
  {
   "cell_type": "code",
   "execution_count": 17,
   "metadata": {},
   "outputs": [
    {
     "name": "stdout",
     "output_type": "stream",
     "text": [
      "Регион_0. Средний запас сырья: 92.59256778438035\n",
      "Регион_1. Средний запас сырья: 68.728546895446\n",
      "Регион_2. Средний запас сырья: 94.96504596800489\n"
     ]
    }
   ],
   "source": [
    "#сравним с предсказанным средним\n",
    "print('Регион_0. Средний запас сырья:', predicted_valid_mean_0)\n",
    "print('Регион_1. Средний запас сырья:', predicted_valid_mean_1)\n",
    "print('Регион_2. Средний запас сырья:', predicted_valid_mean_2)"
   ]
  },
  {
   "cell_type": "code",
   "execution_count": 18,
   "metadata": {},
   "outputs": [
    {
     "data": {
      "text/plain": [
       "-18.518543326730764"
      ]
     },
     "execution_count": 18,
     "metadata": {},
     "output_type": "execute_result"
    }
   ],
   "source": [
    "#отклонение от среднего в Регион_0 (тыс. баррелей)\n",
    "predicted_valid_mean_0 - min_volume"
   ]
  },
  {
   "cell_type": "code",
   "execution_count": 19,
   "metadata": {},
   "outputs": [
    {
     "data": {
      "text/plain": [
       "-42.38256421566511"
      ]
     },
     "execution_count": 19,
     "metadata": {},
     "output_type": "execute_result"
    }
   ],
   "source": [
    "#отклонение от среднего в Pегион_1 (тыс. баррелей)\n",
    "predicted_valid_mean_1 - min_volume"
   ]
  },
  {
   "cell_type": "code",
   "execution_count": 20,
   "metadata": {},
   "outputs": [
    {
     "data": {
      "text/plain": [
       "-16.146065143106227"
      ]
     },
     "execution_count": 20,
     "metadata": {},
     "output_type": "execute_result"
    }
   ],
   "source": [
    "#отклонение от среднего в Pегион_2 (тыс. баррелей)\n",
    "predicted_valid_mean_2 - min_volume"
   ]
  },
  {
   "cell_type": "markdown",
   "metadata": {},
   "source": [
    "Средний объём сырья, достаточный для безубыточной разработки, превышает предсказанные средние запасы в каждом из регионов, в этой связи нет возможности выделить лучший регион для возможной разработки новых скважин. Самое высокое отклонение в Регионе_1 (-42.38), далее Регион_0 (-18.52) и Регион_2 (-16.15)"
   ]
  },
  {
   "cell_type": "markdown",
   "metadata": {},
   "source": [
    "## Расчёт прибыли и рисков "
   ]
  },
  {
   "cell_type": "code",
   "execution_count": 21,
   "metadata": {},
   "outputs": [],
   "source": [
    "#приведем целевые и прогнозные значения к одному типу, напишем функцию для Series\n",
    "def series_type(target, pred):\n",
    "    target = target.reset_index(drop=True)\n",
    "    pred = pd.Series(pred)\n",
    "    return target, pred"
   ]
  },
  {
   "cell_type": "code",
   "execution_count": 22,
   "metadata": {},
   "outputs": [],
   "source": [
    "#приведем целевые и прогнозные значения по всем регионам к одному типу\n",
    "target_valid_0, predicted_valid_0 = series_type(target_valid_0, predicted_valid_0)\n",
    "target_valid_1, predicted_valid_1 = series_type(target_valid_1, predicted_valid_1)\n",
    "target_valid_2, predicted_valid_2 = series_type(target_valid_2, predicted_valid_2)"
   ]
  },
  {
   "cell_type": "code",
   "execution_count": 23,
   "metadata": {},
   "outputs": [],
   "source": [
    "#функция расчета прибыли (фактическая выручка 200 лучших скважин, минус инвестиции)\n",
    "def total_income(target, probabilities, count, income_per_unit, budget):\n",
    "    prob_sort = probabilities.sort_values(ascending=False)\n",
    "    selected = target[prob_sort.index][:count]\n",
    "    return int(income_per_unit * selected.sum() - budget)"
   ]
  },
  {
   "cell_type": "code",
   "execution_count": 24,
   "metadata": {},
   "outputs": [],
   "source": [
    "#применим Bootstrap с 1000 выборок, чтобы найти распределение прибыли\n",
    "def bootstrap_regions(target, predicted, best_dev, income_per_unit, budget):\n",
    "    state = RandomState(12345)\n",
    "    values = []\n",
    "    for i in range(1000):\n",
    "        target_subsample = target.sample(n = total_points, replace=True, random_state=state)\n",
    "        pred_subsumple = predicted[target_subsample.index]\n",
    "        values.append(total_income(target_subsample, pred_subsumple,\\\n",
    "                                   best_dev, income_per_unit, budget))\n",
    "    values = pd.Series(values)\n",
    "    values_mean = int(values.mean())\n",
    "    lower = int(values.quantile(q=0.025))\n",
    "    upper = int(values.quantile(q=0.975))\n",
    "    risk = int(len(values[values < 0]) / len(values) * 100)\n",
    "    return values_mean, lower, upper, risk"
   ]
  },
  {
   "cell_type": "code",
   "execution_count": 25,
   "metadata": {},
   "outputs": [],
   "source": [
    "#рассчитаем основные параметры для всех регионов\n",
    "values_mean_0, lower_0, upper_0, risk_0  = bootstrap_regions(target_valid_0, predicted_valid_0,\\\n",
    "                                                             best_dev, income_per_unit, budget)\n",
    "values_mean_1, lower_1, upper_1, risk_1  = bootstrap_regions(target_valid_1, predicted_valid_1, \\\n",
    "                                                             best_dev, income_per_unit, budget)\n",
    "values_mean_2, lower_2, upper_2, risk_2  = bootstrap_regions(target_valid_2, predicted_valid_2, \\\n",
    "                                                             best_dev, income_per_unit, budget)"
   ]
  },
  {
   "cell_type": "code",
   "execution_count": 26,
   "metadata": {},
   "outputs": [
    {
     "name": "stdout",
     "output_type": "stream",
     "text": [
      "Средняя прибыль лучших месторождений Регион_0 425938526 руб\n",
      "Средняя прибыль лучших месторождений Регион_1 515222772 руб\n",
      "Средняя прибыль лучших месторождений Регион_2 435008362 руб\n"
     ]
    }
   ],
   "source": [
    "#оценим среднюю прибыль 200 лучших месторождений\n",
    "print('Средняя прибыль лучших месторождений Регион_0', values_mean_0, 'руб')\n",
    "print('Средняя прибыль лучших месторождений Регион_1', values_mean_1, 'руб')\n",
    "print('Средняя прибыль лучших месторождений Регион_2', values_mean_2, 'руб')"
   ]
  },
  {
   "cell_type": "code",
   "execution_count": 27,
   "metadata": {},
   "outputs": [
    {
     "name": "stdout",
     "output_type": "stream",
     "text": [
      "95% доверительный интервал Регион_0 -102090093 947976352\n",
      "95% доверительный интервал Регион_1 68873225 931547590\n",
      "95% доверительный интервал Регион_2 -128880546 969706953\n"
     ]
    }
   ],
   "source": [
    "#выведем 95% доверительный интервал для средней прибыли 200 лучших месторождений\n",
    "print('95% доверительный интервал Регион_0', lower_0, upper_0)\n",
    "print('95% доверительный интервал Регион_1', lower_1, upper_1)\n",
    "print('95% доверительный интервал Регион_2', lower_2, upper_2)"
   ]
  },
  {
   "cell_type": "code",
   "execution_count": 28,
   "metadata": {},
   "outputs": [
    {
     "name": "stdout",
     "output_type": "stream",
     "text": [
      "Риск убытков Регион_0 6 %\n",
      "Риск убытков Регион_1 1 %\n",
      "Риск убытков Регион_2 6 %\n"
     ]
    }
   ],
   "source": [
    "#оценим риск убытков при добыче сырья в данных регионах\n",
    "print('Риск убытков Регион_0', risk_0, '%')\n",
    "print('Риск убытков Регион_1', risk_1, '%')\n",
    "print('Риск убытков Регион_2', risk_2, '%')"
   ]
  },
  {
   "cell_type": "markdown",
   "metadata": {},
   "source": [
    "Вывод. Согласно распределению среднего значения прибыли, лидером оказался Регион_1, средняя прибыль в этом регионе составит 515.22 млн.рублей. Два других региона не прошли отбор по минимально допустимому порогу убытка в 2,5%. Таким образом несмотря на сравнительно меньшие запасы сырья, по сравнению с другими регионами, средняя доходность со скважин в Регион_1 прогнозируется выше других."
   ]
  },
  {
   "cell_type": "markdown",
   "metadata": {},
   "source": [
    "Общий вывод. Мы исследовали данные по запасам сырья в скважинах трёх регионов. В целом данные были хорошо подготовлены - из значимых изменений удаление колонок с id скважины. \n",
    "Было установлено, что средний запас ресурсов по регионам недостаточен даже для окупаемости вложений на разработку. Мы обучили модель и выполнили предсказания при помощи линейной регрессии, а так же применили технологию bootstrap с разделением каждого предсказанного значения прибыли по регионам на 1000 выборок.В результате мы определили доверительный интревал получения прибыли в 95%, ограничив вероятность убытка величиной менее 2,5%. На основе этих данных смогли выбрать наиболее перспективный регион для разработки.\n",
    "Таким образом, несмотря на сравнительно меньшие предсказания запасов сырья в по сравнению с другими регионами, но со средней прибылью в 515.22 млн.руб. и наименьшим риском убытков в 1%  Заказчику рекомендован для разработки скважин второй регион (в проекте Регион_1)."
   ]
  },
  {
   "cell_type": "code",
   "execution_count": null,
   "metadata": {},
   "outputs": [],
   "source": []
  }
 ],
 "metadata": {
  "ExecuteTimeLog": [
   {
    "duration": 59,
    "start_time": "2023-03-15T07:58:17.973Z"
   },
   {
    "duration": 1088,
    "start_time": "2023-03-15T07:58:24.708Z"
   },
   {
    "duration": 630,
    "start_time": "2023-03-15T07:58:26.465Z"
   },
   {
    "duration": 44,
    "start_time": "2023-03-15T07:59:59.233Z"
   },
   {
    "duration": 18,
    "start_time": "2023-03-15T08:02:03.639Z"
   },
   {
    "duration": 145,
    "start_time": "2023-03-15T08:03:24.250Z"
   },
   {
    "duration": 501,
    "start_time": "2023-03-15T08:04:40.917Z"
   },
   {
    "duration": 92,
    "start_time": "2023-03-15T08:04:56.333Z"
   },
   {
    "duration": 1312,
    "start_time": "2023-03-15T08:06:03.725Z"
   },
   {
    "duration": 40,
    "start_time": "2023-03-15T08:07:10.521Z"
   },
   {
    "duration": 530,
    "start_time": "2023-03-15T08:07:24.634Z"
   },
   {
    "duration": 1690,
    "start_time": "2023-03-15T08:09:23.507Z"
   },
   {
    "duration": 435,
    "start_time": "2023-03-15T08:09:25.200Z"
   },
   {
    "duration": 51,
    "start_time": "2023-03-15T08:09:25.637Z"
   },
   {
    "duration": 15,
    "start_time": "2023-03-15T08:09:25.690Z"
   },
   {
    "duration": 162,
    "start_time": "2023-03-15T08:09:25.707Z"
   },
   {
    "duration": 564,
    "start_time": "2023-03-15T08:09:25.871Z"
   },
   {
    "duration": 511,
    "start_time": "2023-03-15T08:10:07.575Z"
   },
   {
    "duration": 820,
    "start_time": "2023-03-15T08:10:32.706Z"
   },
   {
    "duration": 82,
    "start_time": "2023-03-15T08:13:05.863Z"
   },
   {
    "duration": 1387,
    "start_time": "2023-03-15T08:13:15.459Z"
   },
   {
    "duration": 0,
    "start_time": "2023-03-15T08:13:16.848Z"
   },
   {
    "duration": 0,
    "start_time": "2023-03-15T08:13:16.849Z"
   },
   {
    "duration": 0,
    "start_time": "2023-03-15T08:13:16.852Z"
   },
   {
    "duration": 0,
    "start_time": "2023-03-15T08:13:16.853Z"
   },
   {
    "duration": 249,
    "start_time": "2023-03-15T08:13:45.117Z"
   },
   {
    "duration": 199,
    "start_time": "2023-03-15T08:15:36.132Z"
   },
   {
    "duration": 49,
    "start_time": "2023-03-15T08:16:10.893Z"
   },
   {
    "duration": 31,
    "start_time": "2023-03-15T08:21:43.758Z"
   },
   {
    "duration": 1630,
    "start_time": "2023-03-15T08:22:02.415Z"
   },
   {
    "duration": 479,
    "start_time": "2023-03-15T08:22:04.047Z"
   },
   {
    "duration": 69,
    "start_time": "2023-03-15T08:22:04.529Z"
   },
   {
    "duration": 17,
    "start_time": "2023-03-15T08:22:04.600Z"
   },
   {
    "duration": 205,
    "start_time": "2023-03-15T08:22:04.621Z"
   },
   {
    "duration": 63,
    "start_time": "2023-03-15T08:22:04.828Z"
   },
   {
    "duration": 677,
    "start_time": "2023-03-15T08:22:26.975Z"
   },
   {
    "duration": 738,
    "start_time": "2023-03-15T08:22:48.920Z"
   },
   {
    "duration": 616,
    "start_time": "2023-03-15T08:22:59.739Z"
   },
   {
    "duration": 16,
    "start_time": "2023-03-15T08:23:35.674Z"
   },
   {
    "duration": 105,
    "start_time": "2023-03-15T08:29:18.577Z"
   },
   {
    "duration": 12,
    "start_time": "2023-03-15T08:34:55.318Z"
   },
   {
    "duration": 1481,
    "start_time": "2023-03-15T08:35:22.549Z"
   },
   {
    "duration": 422,
    "start_time": "2023-03-15T08:35:24.032Z"
   },
   {
    "duration": 58,
    "start_time": "2023-03-15T08:35:24.457Z"
   },
   {
    "duration": 18,
    "start_time": "2023-03-15T08:35:24.519Z"
   },
   {
    "duration": 61,
    "start_time": "2023-03-15T08:35:24.540Z"
   },
   {
    "duration": 131,
    "start_time": "2023-03-15T08:35:24.603Z"
   },
   {
    "duration": 118,
    "start_time": "2023-03-15T08:35:24.736Z"
   },
   {
    "duration": 131,
    "start_time": "2023-03-15T08:36:26.814Z"
   },
   {
    "duration": 16,
    "start_time": "2023-03-15T08:36:53.277Z"
   },
   {
    "duration": 1501,
    "start_time": "2023-03-15T08:36:58.877Z"
   },
   {
    "duration": 436,
    "start_time": "2023-03-15T08:37:00.384Z"
   },
   {
    "duration": 58,
    "start_time": "2023-03-15T08:37:00.823Z"
   },
   {
    "duration": 40,
    "start_time": "2023-03-15T08:37:00.883Z"
   },
   {
    "duration": 51,
    "start_time": "2023-03-15T08:37:00.925Z"
   },
   {
    "duration": 114,
    "start_time": "2023-03-15T08:37:00.978Z"
   },
   {
    "duration": 120,
    "start_time": "2023-03-15T08:37:01.093Z"
   },
   {
    "duration": 82,
    "start_time": "2023-03-15T08:46:11.835Z"
   },
   {
    "duration": 38,
    "start_time": "2023-03-15T08:46:25.216Z"
   },
   {
    "duration": 32,
    "start_time": "2023-03-15T08:47:22.748Z"
   },
   {
    "duration": 22,
    "start_time": "2023-03-15T08:47:33.527Z"
   },
   {
    "duration": 21,
    "start_time": "2023-03-15T08:47:58.106Z"
   },
   {
    "duration": 137,
    "start_time": "2023-03-15T09:12:46.720Z"
   },
   {
    "duration": 14,
    "start_time": "2023-03-15T09:13:20.318Z"
   },
   {
    "duration": 10,
    "start_time": "2023-03-15T09:13:33.221Z"
   },
   {
    "duration": 16,
    "start_time": "2023-03-15T09:13:44.680Z"
   },
   {
    "duration": 1787,
    "start_time": "2023-03-15T09:14:07.171Z"
   },
   {
    "duration": 461,
    "start_time": "2023-03-15T09:14:08.961Z"
   },
   {
    "duration": 54,
    "start_time": "2023-03-15T09:14:09.424Z"
   },
   {
    "duration": 16,
    "start_time": "2023-03-15T09:14:09.480Z"
   },
   {
    "duration": 14,
    "start_time": "2023-03-15T09:14:09.499Z"
   },
   {
    "duration": 119,
    "start_time": "2023-03-15T09:14:09.516Z"
   },
   {
    "duration": 142,
    "start_time": "2023-03-15T09:14:09.637Z"
   },
   {
    "duration": 67,
    "start_time": "2023-03-15T09:14:09.785Z"
   },
   {
    "duration": 30,
    "start_time": "2023-03-15T09:14:09.855Z"
   },
   {
    "duration": 43,
    "start_time": "2023-03-15T09:14:09.887Z"
   },
   {
    "duration": 479,
    "start_time": "2023-03-15T09:14:09.932Z"
   },
   {
    "duration": 1171,
    "start_time": "2023-03-15T09:14:23.765Z"
   },
   {
    "duration": 835,
    "start_time": "2023-03-15T09:14:40.823Z"
   },
   {
    "duration": 852,
    "start_time": "2023-03-15T09:14:51.510Z"
   },
   {
    "duration": 881,
    "start_time": "2023-03-15T09:14:59.719Z"
   },
   {
    "duration": 24,
    "start_time": "2023-03-15T09:25:36.902Z"
   },
   {
    "duration": 24,
    "start_time": "2023-03-15T09:25:52.199Z"
   },
   {
    "duration": 458,
    "start_time": "2023-03-15T09:29:21.279Z"
   },
   {
    "duration": 431,
    "start_time": "2023-03-15T09:31:05.222Z"
   },
   {
    "duration": 467,
    "start_time": "2023-03-15T09:31:16.280Z"
   },
   {
    "duration": 428,
    "start_time": "2023-03-15T09:31:40.148Z"
   },
   {
    "duration": 466,
    "start_time": "2023-03-15T09:31:54.940Z"
   },
   {
    "duration": 437,
    "start_time": "2023-03-15T09:32:02.874Z"
   },
   {
    "duration": 461,
    "start_time": "2023-03-15T09:32:11.115Z"
   },
   {
    "duration": 542,
    "start_time": "2023-03-15T09:32:18.644Z"
   },
   {
    "duration": 437,
    "start_time": "2023-03-15T09:32:24.906Z"
   },
   {
    "duration": 483,
    "start_time": "2023-03-15T09:32:33.730Z"
   },
   {
    "duration": 11,
    "start_time": "2023-03-15T09:40:22.466Z"
   },
   {
    "duration": 11,
    "start_time": "2023-03-15T09:41:15.926Z"
   },
   {
    "duration": 1462,
    "start_time": "2023-03-15T09:41:31.568Z"
   },
   {
    "duration": 427,
    "start_time": "2023-03-15T09:41:33.032Z"
   },
   {
    "duration": 52,
    "start_time": "2023-03-15T09:41:33.461Z"
   },
   {
    "duration": 15,
    "start_time": "2023-03-15T09:41:33.515Z"
   },
   {
    "duration": 41,
    "start_time": "2023-03-15T09:41:33.532Z"
   },
   {
    "duration": 107,
    "start_time": "2023-03-15T09:41:33.575Z"
   },
   {
    "duration": 12,
    "start_time": "2023-03-15T09:41:33.684Z"
   },
   {
    "duration": 121,
    "start_time": "2023-03-15T09:41:33.698Z"
   },
   {
    "duration": 75,
    "start_time": "2023-03-15T09:41:33.821Z"
   },
   {
    "duration": 22,
    "start_time": "2023-03-15T09:41:33.898Z"
   },
   {
    "duration": 44,
    "start_time": "2023-03-15T09:41:33.922Z"
   },
   {
    "duration": 26,
    "start_time": "2023-03-15T09:51:00.549Z"
   },
   {
    "duration": 27,
    "start_time": "2023-03-15T09:51:23.619Z"
   },
   {
    "duration": 1511,
    "start_time": "2023-03-15T09:52:01.410Z"
   },
   {
    "duration": 419,
    "start_time": "2023-03-15T09:52:02.924Z"
   },
   {
    "duration": 52,
    "start_time": "2023-03-15T09:52:03.345Z"
   },
   {
    "duration": 27,
    "start_time": "2023-03-15T09:52:03.399Z"
   },
   {
    "duration": 41,
    "start_time": "2023-03-15T09:52:03.428Z"
   },
   {
    "duration": 105,
    "start_time": "2023-03-15T09:52:03.472Z"
   },
   {
    "duration": 11,
    "start_time": "2023-03-15T09:52:03.579Z"
   },
   {
    "duration": 140,
    "start_time": "2023-03-15T09:52:03.592Z"
   },
   {
    "duration": 74,
    "start_time": "2023-03-15T09:52:03.734Z"
   },
   {
    "duration": 22,
    "start_time": "2023-03-15T09:52:03.810Z"
   },
   {
    "duration": 42,
    "start_time": "2023-03-15T09:52:03.834Z"
   },
   {
    "duration": 114,
    "start_time": "2023-03-15T09:53:26.324Z"
   },
   {
    "duration": 1419,
    "start_time": "2023-03-15T09:53:38.014Z"
   },
   {
    "duration": 433,
    "start_time": "2023-03-15T09:53:39.435Z"
   },
   {
    "duration": 50,
    "start_time": "2023-03-15T09:53:39.870Z"
   },
   {
    "duration": 53,
    "start_time": "2023-03-15T09:53:39.922Z"
   },
   {
    "duration": 19,
    "start_time": "2023-03-15T09:53:39.978Z"
   },
   {
    "duration": 101,
    "start_time": "2023-03-15T09:53:40.000Z"
   },
   {
    "duration": 11,
    "start_time": "2023-03-15T09:53:40.103Z"
   },
   {
    "duration": 133,
    "start_time": "2023-03-15T09:53:40.116Z"
   },
   {
    "duration": 73,
    "start_time": "2023-03-15T09:53:40.251Z"
   },
   {
    "duration": 21,
    "start_time": "2023-03-15T09:53:40.326Z"
   },
   {
    "duration": 23,
    "start_time": "2023-03-15T09:53:40.363Z"
   },
   {
    "duration": 14,
    "start_time": "2023-03-15T09:54:22.918Z"
   },
   {
    "duration": 11,
    "start_time": "2023-03-15T09:54:39.262Z"
   },
   {
    "duration": 14,
    "start_time": "2023-03-15T09:54:46.347Z"
   },
   {
    "duration": 85,
    "start_time": "2023-03-15T09:55:02.418Z"
   },
   {
    "duration": 104,
    "start_time": "2023-03-15T09:55:13.916Z"
   },
   {
    "duration": 1472,
    "start_time": "2023-03-15T09:55:25.867Z"
   },
   {
    "duration": 435,
    "start_time": "2023-03-15T09:55:27.342Z"
   },
   {
    "duration": 50,
    "start_time": "2023-03-15T09:55:27.779Z"
   },
   {
    "duration": 47,
    "start_time": "2023-03-15T09:55:27.832Z"
   },
   {
    "duration": 20,
    "start_time": "2023-03-15T09:55:27.880Z"
   },
   {
    "duration": 111,
    "start_time": "2023-03-15T09:55:27.903Z"
   },
   {
    "duration": 14,
    "start_time": "2023-03-15T09:55:28.016Z"
   },
   {
    "duration": 143,
    "start_time": "2023-03-15T09:55:28.031Z"
   },
   {
    "duration": 66,
    "start_time": "2023-03-15T09:55:28.176Z"
   },
   {
    "duration": 40,
    "start_time": "2023-03-15T09:55:28.245Z"
   },
   {
    "duration": 22,
    "start_time": "2023-03-15T09:55:28.287Z"
   },
   {
    "duration": 6,
    "start_time": "2023-03-15T10:03:26.291Z"
   },
   {
    "duration": 373,
    "start_time": "2023-03-15T10:03:28.311Z"
   },
   {
    "duration": 8,
    "start_time": "2023-03-15T10:03:30.065Z"
   },
   {
    "duration": 111,
    "start_time": "2023-03-15T10:08:42.780Z"
   },
   {
    "duration": 1476,
    "start_time": "2023-03-15T10:09:25.549Z"
   },
   {
    "duration": 411,
    "start_time": "2023-03-15T10:09:27.027Z"
   },
   {
    "duration": 48,
    "start_time": "2023-03-15T10:09:27.440Z"
   },
   {
    "duration": 27,
    "start_time": "2023-03-15T10:09:27.490Z"
   },
   {
    "duration": 20,
    "start_time": "2023-03-15T10:09:27.518Z"
   },
   {
    "duration": 110,
    "start_time": "2023-03-15T10:09:27.540Z"
   },
   {
    "duration": 23,
    "start_time": "2023-03-15T10:09:27.652Z"
   },
   {
    "duration": 132,
    "start_time": "2023-03-15T10:09:27.677Z"
   },
   {
    "duration": 79,
    "start_time": "2023-03-15T10:09:27.811Z"
   },
   {
    "duration": 22,
    "start_time": "2023-03-15T10:09:27.893Z"
   },
   {
    "duration": 22,
    "start_time": "2023-03-15T10:09:27.916Z"
   },
   {
    "duration": 27,
    "start_time": "2023-03-15T10:09:27.941Z"
   },
   {
    "duration": 395,
    "start_time": "2023-03-15T10:09:27.970Z"
   },
   {
    "duration": 96,
    "start_time": "2023-03-15T10:09:28.370Z"
   },
   {
    "duration": 398,
    "start_time": "2023-03-15T10:09:49.275Z"
   },
   {
    "duration": 6,
    "start_time": "2023-03-15T10:09:50.883Z"
   },
   {
    "duration": 327,
    "start_time": "2023-03-15T10:14:43.718Z"
   },
   {
    "duration": 444,
    "start_time": "2023-03-15T10:15:18.122Z"
   },
   {
    "duration": 3,
    "start_time": "2023-03-15T10:49:42.418Z"
   },
   {
    "duration": 7,
    "start_time": "2023-03-15T10:49:43.946Z"
   },
   {
    "duration": 5,
    "start_time": "2023-03-15T10:51:19.424Z"
   },
   {
    "duration": 4,
    "start_time": "2023-03-15T10:51:20.677Z"
   },
   {
    "duration": 6,
    "start_time": "2023-03-15T10:51:21.539Z"
   },
   {
    "duration": 401,
    "start_time": "2023-03-15T10:55:28.975Z"
   },
   {
    "duration": 5,
    "start_time": "2023-03-15T10:55:50.261Z"
   },
   {
    "duration": 358,
    "start_time": "2023-03-15T10:56:47.815Z"
   },
   {
    "duration": 5,
    "start_time": "2023-03-15T10:56:49.355Z"
   },
   {
    "duration": 4,
    "start_time": "2023-03-15T11:16:03.272Z"
   },
   {
    "duration": 3,
    "start_time": "2023-03-15T11:46:53.452Z"
   },
   {
    "duration": 3,
    "start_time": "2023-03-15T11:49:46.744Z"
   },
   {
    "duration": 11,
    "start_time": "2023-03-15T11:51:26.773Z"
   },
   {
    "duration": 4,
    "start_time": "2023-03-15T11:51:42.503Z"
   },
   {
    "duration": 4,
    "start_time": "2023-03-15T11:55:51.091Z"
   },
   {
    "duration": 4,
    "start_time": "2023-03-15T11:56:10.899Z"
   },
   {
    "duration": 5,
    "start_time": "2023-03-15T11:57:18.349Z"
   },
   {
    "duration": 5,
    "start_time": "2023-03-15T12:02:45.739Z"
   },
   {
    "duration": 12,
    "start_time": "2023-03-15T12:05:15.406Z"
   },
   {
    "duration": 1472,
    "start_time": "2023-03-15T12:05:43.783Z"
   },
   {
    "duration": 424,
    "start_time": "2023-03-15T12:05:45.257Z"
   },
   {
    "duration": 43,
    "start_time": "2023-03-15T12:05:45.683Z"
   },
   {
    "duration": 39,
    "start_time": "2023-03-15T12:05:45.728Z"
   },
   {
    "duration": 25,
    "start_time": "2023-03-15T12:05:45.769Z"
   },
   {
    "duration": 119,
    "start_time": "2023-03-15T12:05:45.797Z"
   },
   {
    "duration": 14,
    "start_time": "2023-03-15T12:05:45.917Z"
   },
   {
    "duration": 135,
    "start_time": "2023-03-15T12:05:45.933Z"
   },
   {
    "duration": 70,
    "start_time": "2023-03-15T12:05:46.070Z"
   },
   {
    "duration": 38,
    "start_time": "2023-03-15T12:05:46.143Z"
   },
   {
    "duration": 25,
    "start_time": "2023-03-15T12:05:46.183Z"
   },
   {
    "duration": 5,
    "start_time": "2023-03-15T12:05:46.210Z"
   },
   {
    "duration": 454,
    "start_time": "2023-03-15T12:05:46.218Z"
   },
   {
    "duration": 95,
    "start_time": "2023-03-15T12:05:46.675Z"
   },
   {
    "duration": 94,
    "start_time": "2023-03-15T12:05:46.773Z"
   },
   {
    "duration": 128,
    "start_time": "2023-03-15T12:05:46.869Z"
   },
   {
    "duration": 5,
    "start_time": "2023-03-15T12:06:39.935Z"
   },
   {
    "duration": 4,
    "start_time": "2023-03-15T12:16:18.494Z"
   },
   {
    "duration": 4,
    "start_time": "2023-03-15T12:16:50.309Z"
   },
   {
    "duration": 14,
    "start_time": "2023-03-15T12:24:05.112Z"
   },
   {
    "duration": 19,
    "start_time": "2023-03-15T12:25:44.432Z"
   },
   {
    "duration": 52,
    "start_time": "2023-03-15T12:26:45.676Z"
   },
   {
    "duration": 7,
    "start_time": "2023-03-15T12:32:34.721Z"
   },
   {
    "duration": 45,
    "start_time": "2023-03-15T12:33:25.512Z"
   },
   {
    "duration": 4,
    "start_time": "2023-03-15T12:33:50.728Z"
   },
   {
    "duration": 11,
    "start_time": "2023-03-15T12:35:48.213Z"
   },
   {
    "duration": 5,
    "start_time": "2023-03-15T12:36:05.638Z"
   },
   {
    "duration": 5,
    "start_time": "2023-03-15T12:37:22.046Z"
   },
   {
    "duration": 5,
    "start_time": "2023-03-15T12:39:08.389Z"
   },
   {
    "duration": 5,
    "start_time": "2023-03-15T12:40:00.616Z"
   },
   {
    "duration": 4,
    "start_time": "2023-03-15T12:40:05.297Z"
   },
   {
    "duration": 4,
    "start_time": "2023-03-15T12:40:13.084Z"
   },
   {
    "duration": 3,
    "start_time": "2023-03-15T12:48:12.387Z"
   },
   {
    "duration": 4,
    "start_time": "2023-03-15T12:48:59.770Z"
   },
   {
    "duration": 5,
    "start_time": "2023-03-15T12:49:28.153Z"
   },
   {
    "duration": 5,
    "start_time": "2023-03-15T12:52:16.066Z"
   },
   {
    "duration": 6,
    "start_time": "2023-03-15T12:57:15.620Z"
   },
   {
    "duration": 1427,
    "start_time": "2023-03-15T12:57:22.913Z"
   },
   {
    "duration": 502,
    "start_time": "2023-03-15T12:57:24.343Z"
   },
   {
    "duration": 56,
    "start_time": "2023-03-15T12:57:24.848Z"
   },
   {
    "duration": 30,
    "start_time": "2023-03-15T12:57:24.907Z"
   },
   {
    "duration": 42,
    "start_time": "2023-03-15T12:57:24.939Z"
   },
   {
    "duration": 111,
    "start_time": "2023-03-15T12:57:24.983Z"
   },
   {
    "duration": 15,
    "start_time": "2023-03-15T12:57:25.096Z"
   },
   {
    "duration": 135,
    "start_time": "2023-03-15T12:57:25.113Z"
   },
   {
    "duration": 76,
    "start_time": "2023-03-15T12:57:25.250Z"
   },
   {
    "duration": 22,
    "start_time": "2023-03-15T12:57:25.329Z"
   },
   {
    "duration": 32,
    "start_time": "2023-03-15T12:57:25.352Z"
   },
   {
    "duration": 5,
    "start_time": "2023-03-15T12:57:25.387Z"
   },
   {
    "duration": 381,
    "start_time": "2023-03-15T12:57:25.394Z"
   },
   {
    "duration": 91,
    "start_time": "2023-03-15T12:57:25.778Z"
   },
   {
    "duration": 127,
    "start_time": "2023-03-15T12:57:25.872Z"
   },
   {
    "duration": 23,
    "start_time": "2023-03-15T12:57:26.002Z"
   },
   {
    "duration": 23,
    "start_time": "2023-03-15T12:57:26.027Z"
   },
   {
    "duration": 28,
    "start_time": "2023-03-15T12:57:26.052Z"
   },
   {
    "duration": 13,
    "start_time": "2023-03-15T12:57:26.083Z"
   },
   {
    "duration": 27,
    "start_time": "2023-03-15T12:57:26.098Z"
   },
   {
    "duration": 28,
    "start_time": "2023-03-15T12:57:26.127Z"
   },
   {
    "duration": 30,
    "start_time": "2023-03-15T12:57:26.157Z"
   },
   {
    "duration": 39,
    "start_time": "2023-03-15T12:57:26.189Z"
   },
   {
    "duration": 128,
    "start_time": "2023-03-15T13:00:43.979Z"
   },
   {
    "duration": 20,
    "start_time": "2023-03-15T13:01:18.673Z"
   },
   {
    "duration": 1653,
    "start_time": "2023-03-15T13:02:39.277Z"
   },
   {
    "duration": 457,
    "start_time": "2023-03-15T13:02:40.932Z"
   },
   {
    "duration": 52,
    "start_time": "2023-03-15T13:02:41.391Z"
   },
   {
    "duration": 44,
    "start_time": "2023-03-15T13:02:41.446Z"
   },
   {
    "duration": 20,
    "start_time": "2023-03-15T13:02:41.492Z"
   },
   {
    "duration": 126,
    "start_time": "2023-03-15T13:02:41.515Z"
   },
   {
    "duration": 28,
    "start_time": "2023-03-15T13:02:41.643Z"
   },
   {
    "duration": 138,
    "start_time": "2023-03-15T13:02:41.673Z"
   },
   {
    "duration": 85,
    "start_time": "2023-03-15T13:02:41.813Z"
   },
   {
    "duration": 23,
    "start_time": "2023-03-15T13:02:41.901Z"
   },
   {
    "duration": 43,
    "start_time": "2023-03-15T13:02:41.925Z"
   },
   {
    "duration": 5,
    "start_time": "2023-03-15T13:02:41.971Z"
   },
   {
    "duration": 394,
    "start_time": "2023-03-15T13:02:41.979Z"
   },
   {
    "duration": 91,
    "start_time": "2023-03-15T13:02:42.375Z"
   },
   {
    "duration": 102,
    "start_time": "2023-03-15T13:02:42.469Z"
   },
   {
    "duration": 11,
    "start_time": "2023-03-15T13:02:42.574Z"
   },
   {
    "duration": 14,
    "start_time": "2023-03-15T13:02:42.588Z"
   },
   {
    "duration": 13,
    "start_time": "2023-03-15T13:02:42.604Z"
   },
   {
    "duration": 15,
    "start_time": "2023-03-15T13:02:42.620Z"
   },
   {
    "duration": 10,
    "start_time": "2023-03-15T13:02:42.638Z"
   },
   {
    "duration": 16,
    "start_time": "2023-03-15T13:02:42.650Z"
   },
   {
    "duration": 12,
    "start_time": "2023-03-15T13:02:42.668Z"
   },
   {
    "duration": 25,
    "start_time": "2023-03-15T13:02:42.682Z"
   },
   {
    "duration": 209,
    "start_time": "2023-03-15T13:02:42.710Z"
   },
   {
    "duration": 7,
    "start_time": "2023-03-15T13:03:14.835Z"
   },
   {
    "duration": 20,
    "start_time": "2023-03-15T13:03:20.383Z"
   },
   {
    "duration": 5,
    "start_time": "2023-03-15T13:04:15.303Z"
   },
   {
    "duration": 1573,
    "start_time": "2023-03-15T13:04:22.736Z"
   },
   {
    "duration": 574,
    "start_time": "2023-03-15T13:04:24.312Z"
   },
   {
    "duration": 84,
    "start_time": "2023-03-15T13:04:24.890Z"
   },
   {
    "duration": 33,
    "start_time": "2023-03-15T13:04:24.978Z"
   },
   {
    "duration": 23,
    "start_time": "2023-03-15T13:04:25.013Z"
   },
   {
    "duration": 143,
    "start_time": "2023-03-15T13:04:25.037Z"
   },
   {
    "duration": 18,
    "start_time": "2023-03-15T13:04:25.184Z"
   },
   {
    "duration": 164,
    "start_time": "2023-03-15T13:04:25.204Z"
   },
   {
    "duration": 74,
    "start_time": "2023-03-15T13:04:25.375Z"
   },
   {
    "duration": 34,
    "start_time": "2023-03-15T13:04:25.453Z"
   },
   {
    "duration": 32,
    "start_time": "2023-03-15T13:04:25.489Z"
   },
   {
    "duration": 7,
    "start_time": "2023-03-15T13:04:25.524Z"
   },
   {
    "duration": 352,
    "start_time": "2023-03-15T13:04:25.533Z"
   },
   {
    "duration": 82,
    "start_time": "2023-03-15T13:04:25.888Z"
   },
   {
    "duration": 119,
    "start_time": "2023-03-15T13:04:25.972Z"
   },
   {
    "duration": 35,
    "start_time": "2023-03-15T13:04:26.093Z"
   },
   {
    "duration": 39,
    "start_time": "2023-03-15T13:04:26.129Z"
   },
   {
    "duration": 42,
    "start_time": "2023-03-15T13:04:26.175Z"
   },
   {
    "duration": 30,
    "start_time": "2023-03-15T13:04:26.219Z"
   },
   {
    "duration": 36,
    "start_time": "2023-03-15T13:04:26.251Z"
   },
   {
    "duration": 38,
    "start_time": "2023-03-15T13:04:26.290Z"
   },
   {
    "duration": 51,
    "start_time": "2023-03-15T13:04:26.330Z"
   },
   {
    "duration": 46,
    "start_time": "2023-03-15T13:04:26.384Z"
   },
   {
    "duration": 52,
    "start_time": "2023-03-15T13:04:26.433Z"
   },
   {
    "duration": 24,
    "start_time": "2023-03-15T13:05:03.036Z"
   },
   {
    "duration": 5,
    "start_time": "2023-03-15T13:05:32.203Z"
   },
   {
    "duration": 6,
    "start_time": "2023-03-15T13:06:07.492Z"
   },
   {
    "duration": 5052,
    "start_time": "2023-03-15T13:06:09.118Z"
   },
   {
    "duration": 5,
    "start_time": "2023-03-15T13:06:14.181Z"
   },
   {
    "duration": 4,
    "start_time": "2023-03-15T13:06:58.977Z"
   },
   {
    "duration": 6,
    "start_time": "2023-03-15T13:07:35.893Z"
   },
   {
    "duration": 5,
    "start_time": "2023-03-15T13:08:07.679Z"
   },
   {
    "duration": 5,
    "start_time": "2023-03-15T13:09:57.384Z"
   },
   {
    "duration": 4,
    "start_time": "2023-03-15T13:12:11.833Z"
   },
   {
    "duration": 5,
    "start_time": "2023-03-15T13:13:21.094Z"
   },
   {
    "duration": 6,
    "start_time": "2023-03-15T13:13:41.845Z"
   },
   {
    "duration": 5010,
    "start_time": "2023-03-15T13:13:43.364Z"
   },
   {
    "duration": 5,
    "start_time": "2023-03-15T13:13:48.376Z"
   },
   {
    "duration": 4,
    "start_time": "2023-03-15T13:16:10.253Z"
   },
   {
    "duration": 5,
    "start_time": "2023-03-15T13:16:41.103Z"
   },
   {
    "duration": 5,
    "start_time": "2023-03-15T13:17:04.487Z"
   },
   {
    "duration": 5,
    "start_time": "2023-03-15T13:17:21.553Z"
   },
   {
    "duration": 3,
    "start_time": "2023-03-15T13:22:38.143Z"
   },
   {
    "duration": 103,
    "start_time": "2023-03-15T13:23:37.320Z"
   },
   {
    "duration": 16,
    "start_time": "2023-03-15T13:23:39.991Z"
   },
   {
    "duration": 118,
    "start_time": "2023-03-15T13:23:44.691Z"
   },
   {
    "duration": 33,
    "start_time": "2023-03-15T13:24:15.101Z"
   },
   {
    "duration": 23,
    "start_time": "2023-03-15T13:24:16.413Z"
   },
   {
    "duration": 22,
    "start_time": "2023-03-15T13:24:25.148Z"
   },
   {
    "duration": 23,
    "start_time": "2023-03-15T13:31:01.602Z"
   },
   {
    "duration": 31,
    "start_time": "2023-03-15T13:31:04.199Z"
   },
   {
    "duration": 126,
    "start_time": "2023-03-15T13:36:05.039Z"
   },
   {
    "duration": 130,
    "start_time": "2023-03-15T13:36:27.203Z"
   },
   {
    "duration": 130,
    "start_time": "2023-03-15T13:36:32.104Z"
   },
   {
    "duration": 18,
    "start_time": "2023-03-15T13:36:57.012Z"
   },
   {
    "duration": 10,
    "start_time": "2023-03-15T13:37:31.918Z"
   },
   {
    "duration": 6,
    "start_time": "2023-03-15T13:41:30.855Z"
   },
   {
    "duration": 15,
    "start_time": "2023-03-15T13:43:14.895Z"
   },
   {
    "duration": 12,
    "start_time": "2023-03-15T13:43:24.211Z"
   },
   {
    "duration": 11,
    "start_time": "2023-03-15T13:43:32.704Z"
   },
   {
    "duration": 25,
    "start_time": "2023-03-15T13:44:38.812Z"
   },
   {
    "duration": 24,
    "start_time": "2023-03-15T13:45:14.246Z"
   },
   {
    "duration": 1406,
    "start_time": "2023-03-15T13:53:04.131Z"
   },
   {
    "duration": 531,
    "start_time": "2023-03-15T13:53:05.540Z"
   },
   {
    "duration": 76,
    "start_time": "2023-03-15T13:53:06.074Z"
   },
   {
    "duration": 44,
    "start_time": "2023-03-15T13:53:06.166Z"
   },
   {
    "duration": 22,
    "start_time": "2023-03-15T13:53:06.213Z"
   },
   {
    "duration": 141,
    "start_time": "2023-03-15T13:53:06.238Z"
   },
   {
    "duration": 20,
    "start_time": "2023-03-15T13:53:06.381Z"
   },
   {
    "duration": 148,
    "start_time": "2023-03-15T13:53:06.403Z"
   },
   {
    "duration": 385,
    "start_time": "2023-03-15T13:53:06.565Z"
   },
   {
    "duration": 32,
    "start_time": "2023-03-15T13:53:06.954Z"
   },
   {
    "duration": 26,
    "start_time": "2023-03-15T13:53:06.988Z"
   },
   {
    "duration": 50,
    "start_time": "2023-03-15T13:53:07.016Z"
   },
   {
    "duration": 6,
    "start_time": "2023-03-15T13:53:07.069Z"
   },
   {
    "duration": 294,
    "start_time": "2023-03-15T13:53:07.078Z"
   },
   {
    "duration": 11,
    "start_time": "2023-03-15T13:53:07.375Z"
   },
   {
    "duration": 110,
    "start_time": "2023-03-15T13:53:07.466Z"
   },
   {
    "duration": 9,
    "start_time": "2023-03-15T13:53:07.579Z"
   },
   {
    "duration": 11,
    "start_time": "2023-03-15T13:53:07.590Z"
   },
   {
    "duration": 8,
    "start_time": "2023-03-15T13:53:07.603Z"
   },
   {
    "duration": 12,
    "start_time": "2023-03-15T13:53:07.613Z"
   },
   {
    "duration": 9,
    "start_time": "2023-03-15T13:53:07.627Z"
   },
   {
    "duration": 26,
    "start_time": "2023-03-15T13:53:07.638Z"
   },
   {
    "duration": 5,
    "start_time": "2023-03-15T13:53:07.667Z"
   },
   {
    "duration": 12,
    "start_time": "2023-03-15T13:53:07.675Z"
   },
   {
    "duration": 4528,
    "start_time": "2023-03-15T13:53:07.689Z"
   },
   {
    "duration": 4,
    "start_time": "2023-03-15T13:53:12.219Z"
   },
   {
    "duration": 11,
    "start_time": "2023-03-15T13:53:12.225Z"
   },
   {
    "duration": 11,
    "start_time": "2023-03-15T13:53:12.239Z"
   },
   {
    "duration": 143,
    "start_time": "2023-03-15T14:19:12.031Z"
   },
   {
    "duration": 1232,
    "start_time": "2023-03-15T14:19:18.831Z"
   },
   {
    "duration": 438,
    "start_time": "2023-03-15T14:19:20.065Z"
   },
   {
    "duration": 48,
    "start_time": "2023-03-15T14:19:20.505Z"
   },
   {
    "duration": 28,
    "start_time": "2023-03-15T14:19:20.564Z"
   },
   {
    "duration": 21,
    "start_time": "2023-03-15T14:19:20.595Z"
   },
   {
    "duration": 118,
    "start_time": "2023-03-15T14:19:20.618Z"
   },
   {
    "duration": 14,
    "start_time": "2023-03-15T14:19:20.738Z"
   },
   {
    "duration": 126,
    "start_time": "2023-03-15T14:19:20.763Z"
   },
   {
    "duration": 370,
    "start_time": "2023-03-15T14:19:20.891Z"
   },
   {
    "duration": 22,
    "start_time": "2023-03-15T14:19:21.263Z"
   },
   {
    "duration": 23,
    "start_time": "2023-03-15T14:19:21.287Z"
   },
   {
    "duration": 25,
    "start_time": "2023-03-15T14:19:21.313Z"
   },
   {
    "duration": 6,
    "start_time": "2023-03-15T14:19:21.364Z"
   },
   {
    "duration": 393,
    "start_time": "2023-03-15T14:19:21.373Z"
   },
   {
    "duration": 96,
    "start_time": "2023-03-15T14:19:21.771Z"
   },
   {
    "duration": 104,
    "start_time": "2023-03-15T14:19:21.870Z"
   },
   {
    "duration": 16,
    "start_time": "2023-03-15T14:19:21.976Z"
   },
   {
    "duration": 20,
    "start_time": "2023-03-15T14:19:21.993Z"
   },
   {
    "duration": 16,
    "start_time": "2023-03-15T14:19:22.015Z"
   },
   {
    "duration": 15,
    "start_time": "2023-03-15T14:19:22.033Z"
   },
   {
    "duration": 7,
    "start_time": "2023-03-15T14:19:22.051Z"
   },
   {
    "duration": 16,
    "start_time": "2023-03-15T14:19:22.060Z"
   },
   {
    "duration": 36,
    "start_time": "2023-03-15T14:19:22.078Z"
   },
   {
    "duration": 18,
    "start_time": "2023-03-15T14:19:22.117Z"
   },
   {
    "duration": 4537,
    "start_time": "2023-03-15T14:19:22.137Z"
   },
   {
    "duration": 7,
    "start_time": "2023-03-15T14:19:26.677Z"
   },
   {
    "duration": 20,
    "start_time": "2023-03-15T14:19:26.686Z"
   },
   {
    "duration": 33,
    "start_time": "2023-03-15T14:19:26.708Z"
   },
   {
    "duration": 11,
    "start_time": "2023-03-15T14:20:13.889Z"
   },
   {
    "duration": 5,
    "start_time": "2023-03-15T14:22:00.533Z"
   },
   {
    "duration": 5,
    "start_time": "2023-03-15T14:22:49.892Z"
   },
   {
    "duration": 5,
    "start_time": "2023-03-15T14:22:50.604Z"
   },
   {
    "duration": 4,
    "start_time": "2023-03-15T14:22:53.229Z"
   },
   {
    "duration": 4,
    "start_time": "2023-03-15T14:22:54.039Z"
   },
   {
    "duration": 5,
    "start_time": "2023-03-15T14:22:54.732Z"
   },
   {
    "duration": 4,
    "start_time": "2023-03-15T14:23:01.604Z"
   },
   {
    "duration": 5,
    "start_time": "2023-03-15T14:23:03.820Z"
   },
   {
    "duration": 4,
    "start_time": "2023-03-15T14:23:04.475Z"
   },
   {
    "duration": 134,
    "start_time": "2023-03-15T14:26:23.626Z"
   },
   {
    "duration": 1242,
    "start_time": "2023-03-15T14:26:32.090Z"
   },
   {
    "duration": 465,
    "start_time": "2023-03-15T14:26:33.335Z"
   },
   {
    "duration": 49,
    "start_time": "2023-03-15T14:26:33.803Z"
   },
   {
    "duration": 29,
    "start_time": "2023-03-15T14:26:33.864Z"
   },
   {
    "duration": 22,
    "start_time": "2023-03-15T14:26:33.895Z"
   },
   {
    "duration": 123,
    "start_time": "2023-03-15T14:26:33.919Z"
   },
   {
    "duration": 10,
    "start_time": "2023-03-15T14:26:34.044Z"
   },
   {
    "duration": 135,
    "start_time": "2023-03-15T14:26:34.056Z"
   },
   {
    "duration": 385,
    "start_time": "2023-03-15T14:26:34.193Z"
   },
   {
    "duration": 23,
    "start_time": "2023-03-15T14:26:34.581Z"
   },
   {
    "duration": 23,
    "start_time": "2023-03-15T14:26:34.606Z"
   },
   {
    "duration": 53,
    "start_time": "2023-03-15T14:26:34.631Z"
   },
   {
    "duration": 5,
    "start_time": "2023-03-15T14:26:34.685Z"
   },
   {
    "duration": 287,
    "start_time": "2023-03-15T14:26:34.692Z"
   },
   {
    "duration": 7,
    "start_time": "2023-03-15T14:26:35.066Z"
   },
   {
    "duration": 120,
    "start_time": "2023-03-15T14:26:35.076Z"
   },
   {
    "duration": 10,
    "start_time": "2023-03-15T14:26:35.198Z"
   },
   {
    "duration": 19,
    "start_time": "2023-03-15T14:26:35.210Z"
   },
   {
    "duration": 29,
    "start_time": "2023-03-15T14:26:35.231Z"
   },
   {
    "duration": 24,
    "start_time": "2023-03-15T14:26:35.262Z"
   },
   {
    "duration": 19,
    "start_time": "2023-03-15T14:26:35.288Z"
   },
   {
    "duration": 30,
    "start_time": "2023-03-15T14:26:35.310Z"
   },
   {
    "duration": 28,
    "start_time": "2023-03-15T14:26:35.343Z"
   },
   {
    "duration": 40,
    "start_time": "2023-03-15T14:26:35.374Z"
   },
   {
    "duration": 4539,
    "start_time": "2023-03-15T14:26:35.417Z"
   },
   {
    "duration": 10,
    "start_time": "2023-03-15T14:26:39.958Z"
   },
   {
    "duration": 20,
    "start_time": "2023-03-15T14:26:39.971Z"
   },
   {
    "duration": 27,
    "start_time": "2023-03-15T14:26:39.995Z"
   },
   {
    "duration": 1590,
    "start_time": "2023-03-16T03:46:32.090Z"
   },
   {
    "duration": 382,
    "start_time": "2023-03-16T03:46:33.682Z"
   },
   {
    "duration": 53,
    "start_time": "2023-03-16T03:46:34.066Z"
   },
   {
    "duration": 25,
    "start_time": "2023-03-16T03:46:34.122Z"
   },
   {
    "duration": 41,
    "start_time": "2023-03-16T03:46:34.148Z"
   },
   {
    "duration": 101,
    "start_time": "2023-03-16T03:46:34.192Z"
   },
   {
    "duration": 10,
    "start_time": "2023-03-16T03:46:34.295Z"
   },
   {
    "duration": 112,
    "start_time": "2023-03-16T03:46:34.307Z"
   },
   {
    "duration": 334,
    "start_time": "2023-03-16T03:46:34.420Z"
   },
   {
    "duration": 31,
    "start_time": "2023-03-16T03:46:34.757Z"
   },
   {
    "duration": 20,
    "start_time": "2023-03-16T03:46:34.790Z"
   },
   {
    "duration": 41,
    "start_time": "2023-03-16T03:46:34.811Z"
   },
   {
    "duration": 4,
    "start_time": "2023-03-16T03:46:34.854Z"
   },
   {
    "duration": 325,
    "start_time": "2023-03-16T03:46:34.860Z"
   },
   {
    "duration": 96,
    "start_time": "2023-03-16T03:46:35.187Z"
   },
   {
    "duration": 5,
    "start_time": "2023-03-16T03:46:35.285Z"
   },
   {
    "duration": 10,
    "start_time": "2023-03-16T03:46:35.382Z"
   },
   {
    "duration": 9,
    "start_time": "2023-03-16T03:46:35.393Z"
   },
   {
    "duration": 12,
    "start_time": "2023-03-16T03:46:35.403Z"
   },
   {
    "duration": 8,
    "start_time": "2023-03-16T03:46:35.416Z"
   },
   {
    "duration": 17,
    "start_time": "2023-03-16T03:46:35.426Z"
   },
   {
    "duration": 11,
    "start_time": "2023-03-16T03:46:35.445Z"
   },
   {
    "duration": 8,
    "start_time": "2023-03-16T03:46:35.458Z"
   },
   {
    "duration": 12,
    "start_time": "2023-03-16T03:46:35.468Z"
   },
   {
    "duration": 4038,
    "start_time": "2023-03-16T03:46:35.481Z"
   },
   {
    "duration": 5,
    "start_time": "2023-03-16T03:46:39.520Z"
   },
   {
    "duration": 10,
    "start_time": "2023-03-16T03:46:39.526Z"
   },
   {
    "duration": 4,
    "start_time": "2023-03-16T03:46:39.538Z"
   }
  ],
  "kernelspec": {
   "display_name": "Python 3 (ipykernel)",
   "language": "python",
   "name": "python3"
  },
  "language_info": {
   "codemirror_mode": {
    "name": "ipython",
    "version": 3
   },
   "file_extension": ".py",
   "mimetype": "text/x-python",
   "name": "python",
   "nbconvert_exporter": "python",
   "pygments_lexer": "ipython3",
   "version": "3.9.5"
  },
  "toc": {
   "base_numbering": 1,
   "nav_menu": {},
   "number_sections": true,
   "sideBar": true,
   "skip_h1_title": true,
   "title_cell": "Table of Contents",
   "title_sidebar": "Contents",
   "toc_cell": false,
   "toc_position": {},
   "toc_section_display": true,
   "toc_window_display": true
  }
 },
 "nbformat": 4,
 "nbformat_minor": 2
}
